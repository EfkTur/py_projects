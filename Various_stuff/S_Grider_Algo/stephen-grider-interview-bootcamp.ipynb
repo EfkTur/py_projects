{
 "cells": [
  {
   "cell_type": "markdown",
   "id": "f7138a9a",
   "metadata": {
    "papermill": {
     "duration": 0.030415,
     "end_time": "2021-10-15T17:46:07.953871",
     "exception": false,
     "start_time": "2021-10-15T17:46:07.923456",
     "status": "completed"
    },
    "tags": []
   },
   "source": [
    "<h1> Grider Interview Prep Kit - Python"
   ]
  },
  {
   "cell_type": "markdown",
   "id": "2b3eb50f",
   "metadata": {
    "papermill": {
     "duration": 0.028681,
     "end_time": "2021-10-15T17:46:08.012014",
     "exception": false,
     "start_time": "2021-10-15T17:46:07.983333",
     "status": "completed"
    },
    "tags": []
   },
   "source": [
    "<h2> ToC"
   ]
  },
  {
   "cell_type": "markdown",
   "id": "37e65844",
   "metadata": {
    "papermill": {
     "duration": 0.030603,
     "end_time": "2021-10-15T17:46:08.071441",
     "exception": false,
     "start_time": "2021-10-15T17:46:08.040838",
     "status": "completed"
    },
    "tags": []
   },
   "source": [
    " * [Problem 1: Reverse string](#reverse_string)\n",
    " * [Problem 2: Palindromes](#palindromes)\n",
    " * [Problem 3: Reverse Integers](#reverse_int)\n",
    " * [Problem 4: Max Chars](#max_chars)\n",
    " * [Problem 5: FizzBuzz](#fizzbuzz)\n",
    " * [Problem 6: Array Chunk](#array_chunk)\n",
    " * [Problem 7: Anagrams](#anagrams)\n",
    " * [Problem 8: Capitalize](#capitalize)\n",
    " * [Problem 9: Steps](#steps)\n",
    " * [Problem 10: Pyramids vs Steps](#pyramids)\n",
    " \n",
    " "
   ]
  },
  {
   "cell_type": "markdown",
   "id": "889113fb",
   "metadata": {
    "papermill": {
     "duration": 0.028966,
     "end_time": "2021-10-15T17:46:08.130215",
     "exception": false,
     "start_time": "2021-10-15T17:46:08.101249",
     "status": "completed"
    },
    "tags": []
   },
   "source": [
    "***"
   ]
  },
  {
   "cell_type": "code",
   "execution_count": 1,
   "id": "97bb60ca",
   "metadata": {
    "execution": {
     "iopub.execute_input": "2021-10-15T17:46:08.192897Z",
     "iopub.status.busy": "2021-10-15T17:46:08.191762Z",
     "iopub.status.idle": "2021-10-15T17:46:08.203081Z",
     "shell.execute_reply": "2021-10-15T17:46:08.204046Z",
     "shell.execute_reply.started": "2021-10-13T17:16:31.348865Z"
    },
    "papermill": {
     "duration": 0.045143,
     "end_time": "2021-10-15T17:46:08.204518",
     "exception": false,
     "start_time": "2021-10-15T17:46:08.159375",
     "status": "completed"
    },
    "tags": []
   },
   "outputs": [],
   "source": [
    "import numpy as np\n",
    "from collections import Counter\n",
    "import re\n",
    "import math\n",
    "from typing import Dict, List\n",
    "from functools import wraps\n"
   ]
  },
  {
   "cell_type": "markdown",
   "id": "bb08b978",
   "metadata": {
    "papermill": {
     "duration": 0.028887,
     "end_time": "2021-10-15T17:46:08.263422",
     "exception": false,
     "start_time": "2021-10-15T17:46:08.234535",
     "status": "completed"
    },
    "tags": []
   },
   "source": [
    "<h3> Problem 1: Reverse String\n",
    "    <a name = \"reverse_string\">"
   ]
  },
  {
   "cell_type": "markdown",
   "id": "5006e043",
   "metadata": {
    "papermill": {
     "duration": 0.028898,
     "end_time": "2021-10-15T17:46:08.321722",
     "exception": false,
     "start_time": "2021-10-15T17:46:08.292824",
     "status": "completed"
    },
    "tags": []
   },
   "source": [
    "Given a string, return a new string with the reversed order of characters\n",
    "\n",
    "// reverse('apple') = leppa\n",
    "// reverse('hello') = olleh"
   ]
  },
  {
   "cell_type": "code",
   "execution_count": 2,
   "id": "b630660c",
   "metadata": {
    "execution": {
     "iopub.execute_input": "2021-10-15T17:46:08.385396Z",
     "iopub.status.busy": "2021-10-15T17:46:08.384591Z",
     "iopub.status.idle": "2021-10-15T17:46:08.387593Z",
     "shell.execute_reply": "2021-10-15T17:46:08.387057Z",
     "shell.execute_reply.started": "2021-10-13T15:51:29.63393Z"
    },
    "papermill": {
     "duration": 0.036858,
     "end_time": "2021-10-15T17:46:08.387738",
     "exception": false,
     "start_time": "2021-10-15T17:46:08.350880",
     "status": "completed"
    },
    "tags": []
   },
   "outputs": [],
   "source": [
    "def reverse(word: str):\n",
    "    temp = list(word)\n",
    "    return ''.join(temp[::-1])"
   ]
  },
  {
   "cell_type": "code",
   "execution_count": 3,
   "id": "db7c24c5",
   "metadata": {
    "execution": {
     "iopub.execute_input": "2021-10-15T17:46:08.455118Z",
     "iopub.status.busy": "2021-10-15T17:46:08.454133Z",
     "iopub.status.idle": "2021-10-15T17:46:08.458016Z",
     "shell.execute_reply": "2021-10-15T17:46:08.458558Z",
     "shell.execute_reply.started": "2021-10-13T15:51:29.641448Z"
    },
    "papermill": {
     "duration": 0.041917,
     "end_time": "2021-10-15T17:46:08.458763",
     "exception": false,
     "start_time": "2021-10-15T17:46:08.416846",
     "status": "completed"
    },
    "tags": []
   },
   "outputs": [
    {
     "data": {
      "text/plain": [
       "'ih'"
      ]
     },
     "execution_count": 3,
     "metadata": {},
     "output_type": "execute_result"
    }
   ],
   "source": [
    "reverse('hi')"
   ]
  },
  {
   "cell_type": "markdown",
   "id": "c1d426c9",
   "metadata": {
    "papermill": {
     "duration": 0.028908,
     "end_time": "2021-10-15T17:46:08.517905",
     "exception": false,
     "start_time": "2021-10-15T17:46:08.488997",
     "status": "completed"
    },
    "tags": []
   },
   "source": [
    "<h3> Problem 2: Palindromes\n",
    "    <a name = \"palindromes\">"
   ]
  },
  {
   "cell_type": "markdown",
   "id": "3955b255",
   "metadata": {
    "papermill": {
     "duration": 0.028988,
     "end_time": "2021-10-15T17:46:08.576604",
     "exception": false,
     "start_time": "2021-10-15T17:46:08.547616",
     "status": "completed"
    },
    "tags": []
   },
   "source": [
    "Given a word, check if a word is a palindrome"
   ]
  },
  {
   "cell_type": "code",
   "execution_count": 4,
   "id": "fae9cb04",
   "metadata": {
    "execution": {
     "iopub.execute_input": "2021-10-15T17:46:08.642004Z",
     "iopub.status.busy": "2021-10-15T17:46:08.641175Z",
     "iopub.status.idle": "2021-10-15T17:46:08.644896Z",
     "shell.execute_reply": "2021-10-15T17:46:08.645415Z",
     "shell.execute_reply.started": "2021-10-13T15:51:29.658206Z"
    },
    "papermill": {
     "duration": 0.03921,
     "end_time": "2021-10-15T17:46:08.645608",
     "exception": false,
     "start_time": "2021-10-15T17:46:08.606398",
     "status": "completed"
    },
    "tags": []
   },
   "outputs": [],
   "source": [
    "def palindromes(word: str):\n",
    "    return word.lower() == reverse(word.lower())"
   ]
  },
  {
   "cell_type": "code",
   "execution_count": 5,
   "id": "f35c9f99",
   "metadata": {
    "execution": {
     "iopub.execute_input": "2021-10-15T17:46:08.713117Z",
     "iopub.status.busy": "2021-10-15T17:46:08.712052Z",
     "iopub.status.idle": "2021-10-15T17:46:08.716644Z",
     "shell.execute_reply": "2021-10-15T17:46:08.716018Z",
     "shell.execute_reply.started": "2021-10-13T15:51:29.667526Z"
    },
    "papermill": {
     "duration": 0.040405,
     "end_time": "2021-10-15T17:46:08.716803",
     "exception": false,
     "start_time": "2021-10-15T17:46:08.676398",
     "status": "completed"
    },
    "tags": []
   },
   "outputs": [
    {
     "data": {
      "text/plain": [
       "True"
      ]
     },
     "execution_count": 5,
     "metadata": {},
     "output_type": "execute_result"
    }
   ],
   "source": [
    "palindromes('Abba')"
   ]
  },
  {
   "cell_type": "markdown",
   "id": "773c5d07",
   "metadata": {
    "papermill": {
     "duration": 0.029381,
     "end_time": "2021-10-15T17:46:08.776426",
     "exception": false,
     "start_time": "2021-10-15T17:46:08.747045",
     "status": "completed"
    },
    "tags": []
   },
   "source": [
    "<h3> Problem 3: Reverse Integers\n",
    "    <a name = \"reverse_int\">"
   ]
  },
  {
   "cell_type": "markdown",
   "id": "c9dfe664",
   "metadata": {
    "papermill": {
     "duration": 0.03051,
     "end_time": "2021-10-15T17:46:08.836979",
     "exception": false,
     "start_time": "2021-10-15T17:46:08.806469",
     "status": "completed"
    },
    "tags": []
   },
   "source": [
    "Given an integer, return an integer that is the reverse on the ordering number. Don't forget negative integers. "
   ]
  },
  {
   "cell_type": "code",
   "execution_count": 6,
   "id": "fac5b98e",
   "metadata": {
    "execution": {
     "iopub.execute_input": "2021-10-15T17:46:08.903760Z",
     "iopub.status.busy": "2021-10-15T17:46:08.902965Z",
     "iopub.status.idle": "2021-10-15T17:46:08.906316Z",
     "shell.execute_reply": "2021-10-15T17:46:08.905625Z",
     "shell.execute_reply.started": "2021-10-13T15:51:29.68104Z"
    },
    "papermill": {
     "duration": 0.038904,
     "end_time": "2021-10-15T17:46:08.906474",
     "exception": false,
     "start_time": "2021-10-15T17:46:08.867570",
     "status": "completed"
    },
    "tags": []
   },
   "outputs": [],
   "source": [
    "def reverse_integers(number: int):\n",
    "    res = int(reverse(str(abs(number))))\n",
    "    return np.sign(number)*res"
   ]
  },
  {
   "cell_type": "code",
   "execution_count": 7,
   "id": "859459ef",
   "metadata": {
    "execution": {
     "iopub.execute_input": "2021-10-15T17:46:08.972609Z",
     "iopub.status.busy": "2021-10-15T17:46:08.971645Z",
     "iopub.status.idle": "2021-10-15T17:46:08.975955Z",
     "shell.execute_reply": "2021-10-15T17:46:08.975418Z",
     "shell.execute_reply.started": "2021-10-13T15:51:29.692576Z"
    },
    "papermill": {
     "duration": 0.039481,
     "end_time": "2021-10-15T17:46:08.976117",
     "exception": false,
     "start_time": "2021-10-15T17:46:08.936636",
     "status": "completed"
    },
    "tags": []
   },
   "outputs": [
    {
     "data": {
      "text/plain": [
       "5321"
      ]
     },
     "execution_count": 7,
     "metadata": {},
     "output_type": "execute_result"
    }
   ],
   "source": [
    "reverse_integers(1235)"
   ]
  },
  {
   "cell_type": "markdown",
   "id": "7cb39d5d",
   "metadata": {
    "papermill": {
     "duration": 0.029725,
     "end_time": "2021-10-15T17:46:09.036059",
     "exception": false,
     "start_time": "2021-10-15T17:46:09.006334",
     "status": "completed"
    },
    "tags": []
   },
   "source": [
    "<h3> Problem 4: Max Chars\n",
    "    <a name = \"max_chars\">"
   ]
  },
  {
   "cell_type": "markdown",
   "id": "8f527070",
   "metadata": {
    "papermill": {
     "duration": 0.029682,
     "end_time": "2021-10-15T17:46:09.095957",
     "exception": false,
     "start_time": "2021-10-15T17:46:09.066275",
     "status": "completed"
    },
    "tags": []
   },
   "source": [
    "Given a string, return the character that is the most commonly used in the string "
   ]
  },
  {
   "cell_type": "code",
   "execution_count": 8,
   "id": "1170e8d3",
   "metadata": {
    "execution": {
     "iopub.execute_input": "2021-10-15T17:46:09.161741Z",
     "iopub.status.busy": "2021-10-15T17:46:09.161083Z",
     "iopub.status.idle": "2021-10-15T17:46:09.164231Z",
     "shell.execute_reply": "2021-10-15T17:46:09.163626Z",
     "shell.execute_reply.started": "2021-10-13T15:51:29.706484Z"
    },
    "papermill": {
     "duration": 0.038135,
     "end_time": "2021-10-15T17:46:09.164374",
     "exception": false,
     "start_time": "2021-10-15T17:46:09.126239",
     "status": "completed"
    },
    "tags": []
   },
   "outputs": [],
   "source": [
    "def most_common_char(string: str):\n",
    "    counter = Counter(string)\n",
    "    return counter.most_common()[0][0]"
   ]
  },
  {
   "cell_type": "code",
   "execution_count": 9,
   "id": "c0627ae0",
   "metadata": {
    "execution": {
     "iopub.execute_input": "2021-10-15T17:46:09.237446Z",
     "iopub.status.busy": "2021-10-15T17:46:09.236519Z",
     "iopub.status.idle": "2021-10-15T17:46:09.240493Z",
     "shell.execute_reply": "2021-10-15T17:46:09.239932Z",
     "shell.execute_reply.started": "2021-10-13T15:51:29.716468Z"
    },
    "papermill": {
     "duration": 0.046064,
     "end_time": "2021-10-15T17:46:09.240640",
     "exception": false,
     "start_time": "2021-10-15T17:46:09.194576",
     "status": "completed"
    },
    "tags": []
   },
   "outputs": [
    {
     "data": {
      "text/plain": [
       "'e'"
      ]
     },
     "execution_count": 9,
     "metadata": {},
     "output_type": "execute_result"
    }
   ],
   "source": [
    "most_common_char('frienderes')"
   ]
  },
  {
   "cell_type": "markdown",
   "id": "b1931691",
   "metadata": {
    "papermill": {
     "duration": 0.035584,
     "end_time": "2021-10-15T17:46:09.313864",
     "exception": false,
     "start_time": "2021-10-15T17:46:09.278280",
     "status": "completed"
    },
    "tags": []
   },
   "source": [
    "<h3> Problem 5: FizzBuzz\n",
    "    <a name = \"fizzbuzz\">"
   ]
  },
  {
   "cell_type": "markdown",
   "id": "e3f5786e",
   "metadata": {
    "papermill": {
     "duration": 0.030358,
     "end_time": "2021-10-15T17:46:09.379309",
     "exception": false,
     "start_time": "2021-10-15T17:46:09.348951",
     "status": "completed"
    },
    "tags": []
   },
   "source": [
    "Write a program that prints the numbers from 1 to n. But for multiples of 3, prints 'fizz', for multiple of 5 prints 'buzz', and for multiples of 3 and 5, prints 'fizzbuzz'."
   ]
  },
  {
   "cell_type": "code",
   "execution_count": 10,
   "id": "6137d5be",
   "metadata": {
    "execution": {
     "iopub.execute_input": "2021-10-15T17:46:09.448755Z",
     "iopub.status.busy": "2021-10-15T17:46:09.447998Z",
     "iopub.status.idle": "2021-10-15T17:46:09.451100Z",
     "shell.execute_reply": "2021-10-15T17:46:09.450479Z",
     "shell.execute_reply.started": "2021-10-13T15:51:29.731308Z"
    },
    "papermill": {
     "duration": 0.041071,
     "end_time": "2021-10-15T17:46:09.451266",
     "exception": false,
     "start_time": "2021-10-15T17:46:09.410195",
     "status": "completed"
    },
    "tags": []
   },
   "outputs": [],
   "source": [
    "def multiple_checker(n: int):\n",
    "    \"\"\"Checks if a integer n, is a multiple of 3 and 5, 3 or 5. If None of them, returns the number\"\"\"\n",
    "    if n % 3 == 0 and n % 5 == 0:\n",
    "        return 'FizzBuzz'\n",
    "    elif n % 3 == 0:\n",
    "        return 'Fizz'\n",
    "    elif n % 5 == 0:\n",
    "        return 'Buzz'\n",
    "    else:\n",
    "        return n\n",
    "\n",
    "def fizzbuzz(n: int):\n",
    "    temp = range(1,n+1)\n",
    "    temp = list(map(multiple_checker,temp))\n",
    "    print(*temp,sep = \"\\n\")"
   ]
  },
  {
   "cell_type": "code",
   "execution_count": 11,
   "id": "a5f07cca",
   "metadata": {
    "execution": {
     "iopub.execute_input": "2021-10-15T17:46:09.520363Z",
     "iopub.status.busy": "2021-10-15T17:46:09.519296Z",
     "iopub.status.idle": "2021-10-15T17:46:09.526384Z",
     "shell.execute_reply": "2021-10-15T17:46:09.525859Z",
     "shell.execute_reply.started": "2021-10-13T15:51:29.744662Z"
    },
    "papermill": {
     "duration": 0.044013,
     "end_time": "2021-10-15T17:46:09.526528",
     "exception": false,
     "start_time": "2021-10-15T17:46:09.482515",
     "status": "completed"
    },
    "tags": []
   },
   "outputs": [
    {
     "name": "stdout",
     "output_type": "stream",
     "text": [
      "1\n",
      "2\n",
      "Fizz\n",
      "4\n",
      "Buzz\n",
      "Fizz\n",
      "7\n",
      "8\n",
      "Fizz\n",
      "Buzz\n",
      "11\n",
      "Fizz\n",
      "13\n",
      "14\n",
      "FizzBuzz\n",
      "16\n",
      "17\n",
      "Fizz\n",
      "19\n",
      "Buzz\n"
     ]
    }
   ],
   "source": [
    "fizzbuzz(20)"
   ]
  },
  {
   "cell_type": "markdown",
   "id": "56f1dc4b",
   "metadata": {
    "papermill": {
     "duration": 0.030003,
     "end_time": "2021-10-15T17:46:09.587101",
     "exception": false,
     "start_time": "2021-10-15T17:46:09.557098",
     "status": "completed"
    },
    "tags": []
   },
   "source": [
    "<h3> Problem 6: Array Chunk\n",
    "    <a name = \"array_chunk\">"
   ]
  },
  {
   "cell_type": "markdown",
   "id": "0876f6ec",
   "metadata": {
    "papermill": {
     "duration": 0.030335,
     "end_time": "2021-10-15T17:46:09.648896",
     "exception": false,
     "start_time": "2021-10-15T17:46:09.618561",
     "status": "completed"
    },
    "tags": []
   },
   "source": [
    "Given an array and chunk size, divide the array into many subarrays where each subarray is of length size"
   ]
  },
  {
   "cell_type": "code",
   "execution_count": 12,
   "id": "86fdbf1a",
   "metadata": {
    "execution": {
     "iopub.execute_input": "2021-10-15T17:46:09.717694Z",
     "iopub.status.busy": "2021-10-15T17:46:09.716997Z",
     "iopub.status.idle": "2021-10-15T17:46:09.720081Z",
     "shell.execute_reply": "2021-10-15T17:46:09.719537Z",
     "shell.execute_reply.started": "2021-10-13T15:51:29.757046Z"
    },
    "papermill": {
     "duration": 0.040693,
     "end_time": "2021-10-15T17:46:09.720233",
     "exception": false,
     "start_time": "2021-10-15T17:46:09.679540",
     "status": "completed"
    },
    "tags": []
   },
   "outputs": [],
   "source": [
    "def chunk(array, length_size: int):\n",
    "    n = len(array)\n",
    "    if n < length_size:\n",
    "        return array\n",
    "    last_chunk_length = n % length_size\n",
    "    inner_chunk_count = n // length_size\n",
    "    res, counter = [],0\n",
    "    for j in range(inner_chunk_count):\n",
    "        res.append(array[counter:counter+length_size])\n",
    "        counter+=length_size        \n",
    "    if last_chunk_length!=0:\n",
    "        res.append(array[-last_chunk_length:])\n",
    "    return res"
   ]
  },
  {
   "cell_type": "code",
   "execution_count": 13,
   "id": "fba73875",
   "metadata": {
    "execution": {
     "iopub.execute_input": "2021-10-15T17:46:09.787548Z",
     "iopub.status.busy": "2021-10-15T17:46:09.786874Z",
     "iopub.status.idle": "2021-10-15T17:46:09.790885Z",
     "shell.execute_reply": "2021-10-15T17:46:09.790374Z",
     "shell.execute_reply.started": "2021-10-13T15:51:29.766896Z"
    },
    "papermill": {
     "duration": 0.04035,
     "end_time": "2021-10-15T17:46:09.791016",
     "exception": false,
     "start_time": "2021-10-15T17:46:09.750666",
     "status": "completed"
    },
    "tags": []
   },
   "outputs": [
    {
     "data": {
      "text/plain": [
       "[[1], [2], [3], [4], [5]]"
      ]
     },
     "execution_count": 13,
     "metadata": {},
     "output_type": "execute_result"
    }
   ],
   "source": [
    "chunk([1,2,3,4,5],1)"
   ]
  },
  {
   "cell_type": "markdown",
   "id": "eae96c2e",
   "metadata": {
    "papermill": {
     "duration": 0.030304,
     "end_time": "2021-10-15T17:46:09.852043",
     "exception": false,
     "start_time": "2021-10-15T17:46:09.821739",
     "status": "completed"
    },
    "tags": []
   },
   "source": [
    "<h3> Problem 7: Anagrams\n",
    "    <a name = \"anagrams\">"
   ]
  },
  {
   "cell_type": "markdown",
   "id": "45198db3",
   "metadata": {
    "papermill": {
     "duration": 0.030274,
     "end_time": "2021-10-15T17:46:09.912925",
     "exception": false,
     "start_time": "2021-10-15T17:46:09.882651",
     "status": "completed"
    },
    "tags": []
   },
   "source": [
    "Check to see if two strings are anagrams. They are anagrams if they use the same letters in the same quantity. Only consider characters not spaces and punctuations"
   ]
  },
  {
   "cell_type": "code",
   "execution_count": 14,
   "id": "abeb0bc9",
   "metadata": {
    "execution": {
     "iopub.execute_input": "2021-10-15T17:46:09.982561Z",
     "iopub.status.busy": "2021-10-15T17:46:09.981691Z",
     "iopub.status.idle": "2021-10-15T17:46:09.985196Z",
     "shell.execute_reply": "2021-10-15T17:46:09.984613Z",
     "shell.execute_reply.started": "2021-10-13T15:51:29.78138Z"
    },
    "papermill": {
     "duration": 0.040668,
     "end_time": "2021-10-15T17:46:09.985342",
     "exception": false,
     "start_time": "2021-10-15T17:46:09.944674",
     "status": "completed"
    },
    "tags": []
   },
   "outputs": [],
   "source": [
    "def anagrams(str1:str,str2:str):\n",
    "    str1 = re.sub('[^A-Za-z0-9]+', '',str1).lower()\n",
    "    str2 = re.sub('[^A-Za-z0-9]+', '',str2).lower()\n",
    "    counter_str1 = Counter(str1) #character maps or Hash maps\n",
    "    counter_str2 = Counter(str2) #character maps or Hash maps\n",
    "    return counter_str1 == counter_str2"
   ]
  },
  {
   "cell_type": "code",
   "execution_count": 15,
   "id": "382a352c",
   "metadata": {
    "execution": {
     "iopub.execute_input": "2021-10-15T17:46:10.053279Z",
     "iopub.status.busy": "2021-10-15T17:46:10.052430Z",
     "iopub.status.idle": "2021-10-15T17:46:10.056810Z",
     "shell.execute_reply": "2021-10-15T17:46:10.056281Z",
     "shell.execute_reply.started": "2021-10-13T15:51:29.793127Z"
    },
    "papermill": {
     "duration": 0.040573,
     "end_time": "2021-10-15T17:46:10.056935",
     "exception": false,
     "start_time": "2021-10-15T17:46:10.016362",
     "status": "completed"
    },
    "tags": []
   },
   "outputs": [
    {
     "data": {
      "text/plain": [
       "True"
      ]
     },
     "execution_count": 15,
     "metadata": {},
     "output_type": "execute_result"
    }
   ],
   "source": [
    "anagrams('rail!safety','fairy tales')"
   ]
  },
  {
   "cell_type": "markdown",
   "id": "541aecf7",
   "metadata": {
    "papermill": {
     "duration": 0.031037,
     "end_time": "2021-10-15T17:46:10.119135",
     "exception": false,
     "start_time": "2021-10-15T17:46:10.088098",
     "status": "completed"
    },
    "tags": []
   },
   "source": [
    "<h3> Problem 8: Capitalize\n",
    "    <a name = \"capitalize\">"
   ]
  },
  {
   "cell_type": "markdown",
   "id": "2e8a9294",
   "metadata": {
    "papermill": {
     "duration": 0.030583,
     "end_time": "2021-10-15T17:46:10.180770",
     "exception": false,
     "start_time": "2021-10-15T17:46:10.150187",
     "status": "completed"
    },
    "tags": []
   },
   "source": [
    "Write a function that accepts a string. The function should capitalize the first letter in each string and return the result. "
   ]
  },
  {
   "cell_type": "code",
   "execution_count": 16,
   "id": "eb897088",
   "metadata": {
    "execution": {
     "iopub.execute_input": "2021-10-15T17:46:10.249364Z",
     "iopub.status.busy": "2021-10-15T17:46:10.248424Z",
     "iopub.status.idle": "2021-10-15T17:46:10.251245Z",
     "shell.execute_reply": "2021-10-15T17:46:10.250635Z",
     "shell.execute_reply.started": "2021-10-13T15:51:29.806633Z"
    },
    "papermill": {
     "duration": 0.039569,
     "end_time": "2021-10-15T17:46:10.251376",
     "exception": false,
     "start_time": "2021-10-15T17:46:10.211807",
     "status": "completed"
    },
    "tags": []
   },
   "outputs": [],
   "source": [
    "def capitalizer(str1:str):\n",
    "    str1 = str1.split(\" \")\n",
    "    str1 = list(map(lambda x:x.capitalize(),str1))\n",
    "    return \" \".join(str1)"
   ]
  },
  {
   "cell_type": "code",
   "execution_count": 17,
   "id": "5e4f2e5a",
   "metadata": {
    "execution": {
     "iopub.execute_input": "2021-10-15T17:46:10.319387Z",
     "iopub.status.busy": "2021-10-15T17:46:10.318449Z",
     "iopub.status.idle": "2021-10-15T17:46:10.322804Z",
     "shell.execute_reply": "2021-10-15T17:46:10.322134Z",
     "shell.execute_reply.started": "2021-10-13T15:51:29.816182Z"
    },
    "papermill": {
     "duration": 0.040452,
     "end_time": "2021-10-15T17:46:10.322944",
     "exception": false,
     "start_time": "2021-10-15T17:46:10.282492",
     "status": "completed"
    },
    "tags": []
   },
   "outputs": [
    {
     "data": {
      "text/plain": [
       "'Look, This Is Working!'"
      ]
     },
     "execution_count": 17,
     "metadata": {},
     "output_type": "execute_result"
    }
   ],
   "source": [
    "capitalizer('Look, this is working!')"
   ]
  },
  {
   "cell_type": "markdown",
   "id": "81ac08f0",
   "metadata": {
    "papermill": {
     "duration": 0.030945,
     "end_time": "2021-10-15T17:46:10.386440",
     "exception": false,
     "start_time": "2021-10-15T17:46:10.355495",
     "status": "completed"
    },
    "tags": []
   },
   "source": [
    "<h3> Problem 9: Steps\n",
    "    <a name = \"steps\">"
   ]
  },
  {
   "cell_type": "markdown",
   "id": "231cbdea",
   "metadata": {
    "papermill": {
     "duration": 0.030748,
     "end_time": "2021-10-15T17:46:10.448615",
     "exception": false,
     "start_time": "2021-10-15T17:46:10.417867",
     "status": "completed"
    },
    "tags": []
   },
   "source": [
    "Write a function that accepts a integer N. The function should print a step shape with N levels using the # character. Make sure the strings have spaces on the right hand side, meaning the printed string should always have the same length"
   ]
  },
  {
   "cell_type": "code",
   "execution_count": 18,
   "id": "03d9d99c",
   "metadata": {
    "execution": {
     "iopub.execute_input": "2021-10-15T17:46:10.517562Z",
     "iopub.status.busy": "2021-10-15T17:46:10.516886Z",
     "iopub.status.idle": "2021-10-15T17:46:10.519365Z",
     "shell.execute_reply": "2021-10-15T17:46:10.519865Z",
     "shell.execute_reply.started": "2021-10-13T17:10:16.274684Z"
    },
    "papermill": {
     "duration": 0.040076,
     "end_time": "2021-10-15T17:46:10.520027",
     "exception": false,
     "start_time": "2021-10-15T17:46:10.479951",
     "status": "completed"
    },
    "tags": []
   },
   "outputs": [],
   "source": [
    "def steps(N:int):\n",
    "    characters = ' '* N\n",
    "    for i in range(N):\n",
    "        characters = characters.replace(' ','#',1)\n",
    "        print(characters) #characters is always of length N, which inscludes N-i blank spaces"
   ]
  },
  {
   "cell_type": "code",
   "execution_count": 19,
   "id": "4619e5a2",
   "metadata": {
    "execution": {
     "iopub.execute_input": "2021-10-15T17:46:10.588790Z",
     "iopub.status.busy": "2021-10-15T17:46:10.586243Z",
     "iopub.status.idle": "2021-10-15T17:46:10.593015Z",
     "shell.execute_reply": "2021-10-15T17:46:10.592418Z",
     "shell.execute_reply.started": "2021-10-13T17:10:16.411962Z"
    },
    "papermill": {
     "duration": 0.041547,
     "end_time": "2021-10-15T17:46:10.593162",
     "exception": false,
     "start_time": "2021-10-15T17:46:10.551615",
     "status": "completed"
    },
    "tags": []
   },
   "outputs": [
    {
     "name": "stdout",
     "output_type": "stream",
     "text": [
      "#         \n",
      "##        \n",
      "###       \n",
      "####      \n",
      "#####     \n",
      "######    \n",
      "#######   \n",
      "########  \n",
      "######### \n",
      "##########\n"
     ]
    }
   ],
   "source": [
    "steps(10)"
   ]
  },
  {
   "cell_type": "markdown",
   "id": "d0fe92ac",
   "metadata": {
    "papermill": {
     "duration": 0.032145,
     "end_time": "2021-10-15T17:46:10.658943",
     "exception": false,
     "start_time": "2021-10-15T17:46:10.626798",
     "status": "completed"
    },
    "tags": []
   },
   "source": [
    "<h3> Problem 10: Pyramids vs Steps\n",
    "    <a name = \"pyramids\">"
   ]
  },
  {
   "cell_type": "markdown",
   "id": "3b86a81c",
   "metadata": {
    "papermill": {
     "duration": 0.031564,
     "end_time": "2021-10-15T17:46:10.722524",
     "exception": false,
     "start_time": "2021-10-15T17:46:10.690960",
     "status": "completed"
    },
    "tags": []
   },
   "source": []
  },
  {
   "cell_type": "code",
   "execution_count": 20,
   "id": "92e28011",
   "metadata": {
    "execution": {
     "iopub.execute_input": "2021-10-15T17:46:10.795419Z",
     "iopub.status.busy": "2021-10-15T17:46:10.794599Z",
     "iopub.status.idle": "2021-10-15T17:46:10.797733Z",
     "shell.execute_reply": "2021-10-15T17:46:10.797029Z",
     "shell.execute_reply.started": "2021-10-13T17:23:11.220263Z"
    },
    "papermill": {
     "duration": 0.043326,
     "end_time": "2021-10-15T17:46:10.797888",
     "exception": false,
     "start_time": "2021-10-15T17:46:10.754562",
     "status": "completed"
    },
    "tags": []
   },
   "outputs": [],
   "source": [
    "def pyramids(N:int):\n",
    "    midpoint = math.floor((2*N-1)/2)\n",
    "    for row in range(N):\n",
    "        level = ''\n",
    "        for column in range(2*N-1):\n",
    "            if ((midpoint - row)<= column) and ((midpoint + row) >= column):\n",
    "                level+='#'\n",
    "            else:\n",
    "                level+=' '\n",
    "        print(level)"
   ]
  },
  {
   "cell_type": "code",
   "execution_count": 21,
   "id": "b9faacf9",
   "metadata": {
    "execution": {
     "iopub.execute_input": "2021-10-15T17:46:10.869743Z",
     "iopub.status.busy": "2021-10-15T17:46:10.868889Z",
     "iopub.status.idle": "2021-10-15T17:46:10.873613Z",
     "shell.execute_reply": "2021-10-15T17:46:10.873048Z",
     "shell.execute_reply.started": "2021-10-13T17:23:22.888836Z"
    },
    "papermill": {
     "duration": 0.042915,
     "end_time": "2021-10-15T17:46:10.873758",
     "exception": false,
     "start_time": "2021-10-15T17:46:10.830843",
     "status": "completed"
    },
    "tags": []
   },
   "outputs": [
    {
     "name": "stdout",
     "output_type": "stream",
     "text": [
      "         #         \n",
      "        ###        \n",
      "       #####       \n",
      "      #######      \n",
      "     #########     \n",
      "    ###########    \n",
      "   #############   \n",
      "  ###############  \n",
      " ################# \n",
      "###################\n"
     ]
    }
   ],
   "source": [
    "pyramids(10)"
   ]
  },
  {
   "cell_type": "markdown",
   "id": "7b30a45b",
   "metadata": {
    "papermill": {
     "duration": 0.03232,
     "end_time": "2021-10-15T17:46:10.939745",
     "exception": false,
     "start_time": "2021-10-15T17:46:10.907425",
     "status": "completed"
    },
    "tags": []
   },
   "source": [
    "<h3> Problem 11: Find the vowels\n",
    "    <a name = \"pyramids\">"
   ]
  },
  {
   "cell_type": "markdown",
   "id": "702b6cab",
   "metadata": {},
   "source": [
    "Write a function that returns the number of vowels used in a string. (a,e,i,o,u)"
   ]
  },
  {
   "cell_type": "code",
   "execution_count": 22,
   "id": "14a7d02f",
   "metadata": {},
   "outputs": [],
   "source": [
    "def vowels(sequence:str) -> int:\n",
    "  #Don't forget to put the sequence of string in lowercase\n",
    "  counter = Counter(sequence.lower())\n",
    "  vowel = {'a','e','i','o','u'}\n",
    "  value = 0\n",
    "  for letter in vowel:\n",
    "    value += counter[letter]\n",
    "  return value"
   ]
  },
  {
   "cell_type": "code",
   "execution_count": 23,
   "id": "c3078dd7",
   "metadata": {},
   "outputs": [
    {
     "data": {
      "text/plain": [
       "7"
      ]
     },
     "execution_count": 23,
     "metadata": {},
     "output_type": "execute_result"
    }
   ],
   "source": [
    "vowels('aaaeeiibch')"
   ]
  },
  {
   "cell_type": "markdown",
   "id": "7b30a45b",
   "metadata": {
    "papermill": {
     "duration": 0.03232,
     "end_time": "2021-10-15T17:46:10.939745",
     "exception": false,
     "start_time": "2021-10-15T17:46:10.907425",
     "status": "completed"
    },
    "tags": []
   },
   "source": [
    "<h3> Problem 12: Enter the matrix spiral (to be debuggeed)\n",
    "    <a name = \"pyramids\">"
   ]
  },
  {
   "cell_type": "markdown",
   "id": "894dfa83",
   "metadata": {},
   "source": [
    "Write a function that accepts an integer N and returns a N*N spiral matrix"
   ]
  },
  {
   "cell_type": "code",
   "execution_count": 24,
   "id": "5d45f7ec",
   "metadata": {},
   "outputs": [],
   "source": [
    "def spiral_matrix(n:int):\n",
    "  results = [[0]*n] * n\n",
    "  print(results)\n",
    "\n",
    "  counter = 1\n",
    "  startColumn = 0\n",
    "  endColumn = n-1\n",
    "  startRow = 0\n",
    "  endRow = n-1\n",
    "\n",
    "  while (startColumn <= endColumn) & (startRow <= endRow):\n",
    "    \n",
    "    #Top Row\n",
    "    for i in range(startColumn,endColumn+1):\n",
    "      results[startRow][i]=counter\n",
    "      counter+=1\n",
    "    startRow+=1\n",
    "    print(results)\n",
    "    print(counter)\n",
    "    \n",
    "    #Right Column\n",
    "    for i in range(startRow,endRow+1):\n",
    "      results[i][endColumn]=counter\n",
    "      counter+=1\n",
    "    endColumn-=1\n",
    "    print(results)\n",
    "    print(counter)\n",
    "    \n",
    "    #Bottom Row\n",
    "    for i in range(endColumn,startColumn+1):\n",
    "      results[endRow][i]=counter\n",
    "      counter+=1\n",
    "    endRow-=1\n",
    "    print(results)\n",
    "    \n",
    "    #Left Column\n",
    "    for i in range(endRow,startRow+1):\n",
    "      results[i][startColumn]=counter\n",
    "      counter+=1\n",
    "    startColumn+=1\n",
    "    print(results)\n",
    "\n",
    "    return results"
   ]
  },
  {
   "cell_type": "code",
   "execution_count": 25,
   "id": "c29c56eb",
   "metadata": {},
   "outputs": [
    {
     "name": "stdout",
     "output_type": "stream",
     "text": [
      "[[0, 0, 0, 0], [0, 0, 0, 0], [0, 0, 0, 0], [0, 0, 0, 0]]\n",
      "[[1, 2, 3, 4], [1, 2, 3, 4], [1, 2, 3, 4], [1, 2, 3, 4]]\n",
      "5\n",
      "[[1, 2, 3, 7], [1, 2, 3, 7], [1, 2, 3, 7], [1, 2, 3, 7]]\n",
      "8\n",
      "[[1, 2, 3, 7], [1, 2, 3, 7], [1, 2, 3, 7], [1, 2, 3, 7]]\n",
      "[[1, 2, 3, 7], [1, 2, 3, 7], [1, 2, 3, 7], [1, 2, 3, 7]]\n"
     ]
    },
    {
     "data": {
      "text/plain": [
       "[[1, 2, 3, 7], [1, 2, 3, 7], [1, 2, 3, 7], [1, 2, 3, 7]]"
      ]
     },
     "execution_count": 25,
     "metadata": {},
     "output_type": "execute_result"
    }
   ],
   "source": [
    "spiral_matrix(4)"
   ]
  },
  {
   "cell_type": "markdown",
   "id": "7b30a45b",
   "metadata": {
    "papermill": {
     "duration": 0.03232,
     "end_time": "2021-10-15T17:46:10.939745",
     "exception": false,
     "start_time": "2021-10-15T17:46:10.907425",
     "status": "completed"
    },
    "tags": []
   },
   "source": [
    "<h3> Problem 13: Create the fibonacci series\n",
    "    <a name = \"pyramids\">"
   ]
  },
  {
   "cell_type": "markdown",
   "id": "894dfa83",
   "metadata": {},
   "source": [
    "Let's implement both iterative and recursive approch to Fibonacc, with memoization"
   ]
  },
  {
   "cell_type": "code",
   "execution_count": 26,
   "id": "3329fa61",
   "metadata": {},
   "outputs": [],
   "source": [
    "def iterative_fib(n:int) -> int:\n",
    "  result = [0,1]\n",
    "  \n",
    "  if n == 0:\n",
    "    return result[0]\n",
    "  if n == 1:\n",
    "    return result[1]\n",
    "\n",
    "  for index in range(2,n+1):\n",
    "    a = result[index-1]\n",
    "    b = result[index-2]\n",
    "    result.append(a+b)\n",
    "\n",
    "  return result[-1]"
   ]
  },
  {
   "cell_type": "code",
   "execution_count": 27,
   "id": "29083380",
   "metadata": {},
   "outputs": [],
   "source": [
    "def memoize(function):    \n",
    "    memo = {}\n",
    "    \n",
    "    @wraps(function)\n",
    "    def wrapper(*args):\n",
    "        # add the new key to dict if it doesn't exist already  \n",
    "        if args not in memo:\n",
    "            memo[args] = function(*args)\n",
    "\n",
    "        return memo[args]\n",
    "    \n",
    "    return wrapper"
   ]
  },
  {
   "cell_type": "code",
   "execution_count": 28,
   "id": "6e406a50",
   "metadata": {},
   "outputs": [],
   "source": [
    "@memoize\n",
    "def recursive_fib(n:int) -> int:\n",
    "  if n < 2:\n",
    "    return n\n",
    "  else:\n",
    "    return recursive_fib(n-1)+recursive_fib(n-2)"
   ]
  },
  {
   "cell_type": "code",
   "execution_count": 29,
   "id": "3d8ab7dc",
   "metadata": {},
   "outputs": [
    {
     "data": {
      "text/plain": [
       "12586269025"
      ]
     },
     "execution_count": 29,
     "metadata": {},
     "output_type": "execute_result"
    }
   ],
   "source": [
    "#iterative_fib(8)\n",
    "recursive_fib(50)"
   ]
  },
  {
   "cell_type": "markdown",
   "id": "7b30a45b",
   "metadata": {
    "papermill": {
     "duration": 0.03232,
     "end_time": "2021-10-15T17:46:10.939745",
     "exception": false,
     "start_time": "2021-10-15T17:46:10.907425",
     "status": "completed"
    },
    "tags": []
   },
   "source": [
    "<h3> Problem 17: The Queue\n",
    "    <a name = \"pyramids\">"
   ]
  },
  {
   "cell_type": "markdown",
   "id": "f18de61e",
   "metadata": {},
   "source": [
    "Let's do our own implementation of the queue"
   ]
  },
  {
   "cell_type": "code",
   "execution_count": 30,
   "id": "15c2c882",
   "metadata": {},
   "outputs": [],
   "source": [
    "class Queue():\n",
    "  def __init__(self):\n",
    "    self.items = []\n",
    "  \n",
    "  def __str__(self):\n",
    "    return str(self.items)\n",
    "\n",
    "  def add(self,data):\n",
    "    return self.items.append(data)\n",
    "\n",
    "  def remove(self):\n",
    "    return self.items.pop(0)\n",
    "\n",
    "  def peek(self):\n",
    "    if len(self.items):\n",
    "      return self.items[0]\n",
    "\n",
    "  def is_empty(self):\n",
    "    return self.items == []\n",
    "  \n",
    "  def weave(queue1,queue2):\n",
    "    q = Queue()\n",
    "    while (queue1.peek() or queue2.peek()):\n",
    "      if(queue1.peek()):\n",
    "        q.add(queue1.remove())\n",
    "      \n",
    "      if(queue2.peek()):\n",
    "        q.add(queue2.remove())\n",
    "    return q\n"
   ]
  },
  {
   "cell_type": "code",
   "execution_count": 31,
   "id": "487750f5",
   "metadata": {},
   "outputs": [],
   "source": [
    "queue1,queue2 = Queue(),Queue()\n",
    "queue1.add(1)\n",
    "queue1.add(2)\n",
    "queue1.add(3)\n",
    "\n",
    "queue2.add(4)\n",
    "queue2.add(5)\n",
    "queue2.add(6)"
   ]
  },
  {
   "cell_type": "code",
   "execution_count": 32,
   "id": "d663187b",
   "metadata": {},
   "outputs": [
    {
     "name": "stdout",
     "output_type": "stream",
     "text": [
      "[1, 4, 2, 5, 3, 6]\n"
     ]
    }
   ],
   "source": [
    "results = Queue.weave(queue1,queue2)\n",
    "print(results)"
   ]
  },
  {
   "cell_type": "markdown",
   "id": "7b30a45b",
   "metadata": {
    "papermill": {
     "duration": 0.03232,
     "end_time": "2021-10-15T17:46:10.939745",
     "exception": false,
     "start_time": "2021-10-15T17:46:10.907425",
     "status": "completed"
    },
    "tags": []
   },
   "source": [
    "<h3> Problem 18: The Stacks\n",
    "    <a name = \"pyramids\">"
   ]
  },
  {
   "cell_type": "code",
   "execution_count": 33,
   "id": "80588764",
   "metadata": {},
   "outputs": [],
   "source": [
    "class Stack():\n",
    "  def __init__(self):\n",
    "    self.items = []\n",
    "  \n",
    "  def __str__(self):\n",
    "    return str(self.items)\n",
    "\n",
    "  def push(self,data):\n",
    "    return self.items.append(data)\n",
    "\n",
    "  def pop(self):\n",
    "    if len(self.items) != 0:\n",
    "      return self.items.pop()\n",
    "\n",
    "  def peek(self):\n",
    "    if len(self.items):\n",
    "      return self.items[-1]\n",
    "\n",
    "  def is_empty(self):\n",
    "    return self.items == []"
   ]
  },
  {
   "cell_type": "code",
   "execution_count": 34,
   "id": "1934e6bc",
   "metadata": {},
   "outputs": [],
   "source": [
    "s = Stack()\n",
    "s.push(1)\n",
    "s.push(2)\n",
    "s.push(3)"
   ]
  },
  {
   "cell_type": "markdown",
   "id": "7b30a45b",
   "metadata": {
    "papermill": {
     "duration": 0.03232,
     "end_time": "2021-10-15T17:46:10.939745",
     "exception": false,
     "start_time": "2021-10-15T17:46:10.907425",
     "status": "completed"
    },
    "tags": []
   },
   "source": [
    "<h3> Problem 19: Stacks + Stacks = Queue\n",
    "    <a name = \"pyramids\">"
   ]
  },
  {
   "cell_type": "code",
   "execution_count": 35,
   "id": "9a37dfa9",
   "metadata": {},
   "outputs": [],
   "source": [
    "class Queue_from_Stacks():\n",
    "  def __init__(self):\n",
    "    self.first_items = Stack()\n",
    "    self.second_items = Stack()\n",
    "\n",
    "  def add(self,data):\n",
    "    return self.first_items.push(data)\n",
    "\n",
    "  def remove(self):\n",
    "    while self.first_items.peek():\n",
    "      self.second_items.push(self.first_items.pop())\n",
    "    \n",
    "    record = self.second_items.pop()\n",
    "\n",
    "    while self.second_items.peek():\n",
    "      self.first_items.push(self.second_items.pop())\n",
    "    \n",
    "    return record\n",
    "\n",
    "  def peek(self):\n",
    "    while self.first_items.peek():\n",
    "      self.second_items.push(self.first_items.pop())\n",
    "    \n",
    "    record = self.second_items.peek()\n",
    "\n",
    "    while self.second_items.peek():\n",
    "      self.first_items.push(self.second_items.pop())\n",
    "    \n",
    "    return record"
   ]
  },
  {
   "cell_type": "markdown",
   "id": "7b30a45b",
   "metadata": {
    "papermill": {
     "duration": 0.03232,
     "end_time": "2021-10-15T17:46:10.939745",
     "exception": false,
     "start_time": "2021-10-15T17:46:10.907425",
     "status": "completed"
    },
    "tags": []
   },
   "source": [
    "<h3> Problem 20: Linked Lists\n",
    "    <a name = \"pyramids\">"
   ]
  },
  {
   "cell_type": "markdown",
   "id": "a749ff91",
   "metadata": {},
   "source": [
    "In this part, we are not going to "
   ]
  },
  {
   "cell_type": "code",
   "execution_count": 36,
   "id": "76927883",
   "metadata": {},
   "outputs": [],
   "source": [
    "class Node(): \n",
    "  def __init__(self,data,nxt=None):\n",
    "      self.data = data\n",
    "      self.next = nxt "
   ]
  },
  {
   "cell_type": "code",
   "execution_count": 37,
   "id": "9c119aa8",
   "metadata": {},
   "outputs": [],
   "source": [
    "class LinkedList():\n",
    "  def __init__(self,head=None):\n",
    "      self.head = head\n",
    "  \n",
    "  def insertFirst(self, data):\n",
    "    #If there is no head already in place, then the new head points to None.\n",
    "    self.head = Node(data,self.head)\n",
    "\n",
    "  def size(self):\n",
    "    counter = 0\n",
    "    node = self.head\n",
    "    while node.next:\n",
    "      counter+=1\n",
    "      node = node.next\n",
    "    return counter\n",
    "\n",
    "  def getFirst(self):\n",
    "    return self.head\n",
    "\n",
    "  def getLast(self):\n",
    "    if not self.head:\n",
    "      return None\n",
    "    node = self.head\n",
    "    while node.next:\n",
    "      node = node.next\n",
    "    return node\n",
    "\n",
    "  def clear(self):\n",
    "    self.head = None\n",
    "  \n",
    "  def removeFirst(self):\n",
    "    if not self.head:\n",
    "      return None\n",
    "    next_node = self.head.next\n",
    "    self.head = next_node\n",
    "\n",
    "  def removeLast(self):\n",
    "    #Case where there is no head\n",
    "    if not self.head:\n",
    "      return None\n",
    "    #General case\n",
    "    previous = self.head\n",
    "    node = self.head.next\n",
    "    while node.next:\n",
    "      previous = node\n",
    "      node = node.next\n",
    "    previous.next = None\n",
    "\n",
    "  def insertLast(self,data):\n",
    "    if not self.head:\n",
    "      self.head = Node(data)\n",
    "    node = self.getLast()\n",
    "    node.next = Node(data)\n",
    "\n",
    "  def getAt(self,index:int):\n",
    "    node = self.head\n",
    "    counter = 0\n",
    "    #If self.head is None we will not enter the while loop\n",
    "    while node:\n",
    "      if counter == index:\n",
    "        return node\n",
    "      counter +=1\n",
    "      node = node.next\n",
    "    #Case while we can't find the index\n",
    "    return None\n",
    "  \n",
    "  def removeAt(self,index:int):\n",
    "    if not self.head:\n",
    "      return None\n",
    "    if index == 0:\n",
    "      self.head = self.head.next\n",
    "    else:\n",
    "      previous = self.getAt(index-1)\n",
    "      if not previous or not previous.next:\n",
    "        return None\n",
    "      previous.next = previous.next.next\n",
    "  \n",
    "  def insertAt(self,data,index:int):\n",
    "    if not self.head:\n",
    "      self.head = Node(data)\n",
    "      return None\n",
    "    if index == 0:\n",
    "      self.head = Node(data, self.head)\n",
    "    previous = self.getAt(index-1) or self.getLast()\n",
    "    previous.next = Node(data,previous.next)\n",
    "\n",
    "  def middle_node(self):\n",
    "    if not self.head:\n",
    "      return None\n",
    "    if self.size() == 1 or self.size() == 2:\n",
    "      return self.head\n",
    "    #Keep in mind that indexin starts at 0\n",
    "    if self.size()%2==0:\n",
    "      return self.getAt((self.size()/2)-1)\n",
    "    else:\n",
    "      return self.getAt(self.size()//2)\n",
    "    \n"
   ]
  },
  {
   "cell_type": "markdown",
   "id": "7b30a45b",
   "metadata": {
    "papermill": {
     "duration": 0.03232,
     "end_time": "2021-10-15T17:46:10.939745",
     "exception": false,
     "start_time": "2021-10-15T17:46:10.907425",
     "status": "completed"
    },
    "tags": []
   },
   "source": [
    "<h3> Problem 20: Linked Lists\n",
    "    <a name = \"pyramids\">"
   ]
  },
  {
   "cell_type": "markdown",
   "id": "b3b7b093",
   "metadata": {},
   "source": [
    "Returning the middle node of a Linked list "
   ]
  },
  {
   "cell_type": "code",
   "execution_count": 38,
   "id": "7cc6f69b",
   "metadata": {},
   "outputs": [],
   "source": [
    "def middle_point(l_list:LinkedList):\n",
    "  slow = l_list.getFirst()\n",
    "  fast = l_list.getFirst()\n",
    "\n",
    "  while fast.next & fast.next.next:\n",
    "    slow = slow.next\n",
    "    fast = fast.next.next\n",
    "  return slow"
   ]
  },
  {
   "cell_type": "markdown",
   "id": "7b30a45b",
   "metadata": {
    "papermill": {
     "duration": 0.03232,
     "end_time": "2021-10-15T17:46:10.939745",
     "exception": false,
     "start_time": "2021-10-15T17:46:10.907425",
     "status": "completed"
    },
    "tags": []
   },
   "source": [
    "<h3> Problem 21: Detecting Circular Linked Lists\n",
    "    <a name = \"pyramids\">"
   ]
  },
  {
   "cell_type": "code",
   "execution_count": 39,
   "id": "928348e8",
   "metadata": {},
   "outputs": [],
   "source": [
    "def circular_detector(l_list:LinkedList) -> bool:\n",
    "  slow = l_list.getFirst()\n",
    "  fast = l_list.getFirst()\n",
    "  \n",
    "  while fast.next & fast.next.next:\n",
    "    slow = slow.next\n",
    "    fast = fast.next.next \n",
    "    if slow == fast:\n",
    "      return True\n",
    "  return False"
   ]
  },
  {
   "cell_type": "markdown",
   "id": "7b30a45b",
   "metadata": {
    "papermill": {
     "duration": 0.03232,
     "end_time": "2021-10-15T17:46:10.939745",
     "exception": false,
     "start_time": "2021-10-15T17:46:10.907425",
     "status": "completed"
    },
    "tags": []
   },
   "source": [
    "<h3> Problem 22: Step back from the tail\n",
    "    <a name = \"pyramids\">"
   ]
  },
  {
   "cell_type": "code",
   "execution_count": 40,
   "id": "928348e8",
   "metadata": {},
   "outputs": [],
   "source": [
    "def from_last(l_list:LinkedList,n:int):\n",
    "  #You should not use the size() method\n",
    "  slow = l_list.getFirst()\n",
    "  fast = l_list.getFirst()\n",
    "\n",
    "  while n>0:\n",
    "    fast = fast.next\n",
    "    n-=1\n",
    "\n",
    "  while fast.next:\n",
    "    slow = slow.next\n",
    "    fast = fast.next\n",
    "  \n",
    "  return slow"
   ]
  },
  {
   "cell_type": "markdown",
   "id": "7b30a45b",
   "metadata": {
    "papermill": {
     "duration": 0.03232,
     "end_time": "2021-10-15T17:46:10.939745",
     "exception": false,
     "start_time": "2021-10-15T17:46:10.907425",
     "status": "completed"
    },
    "tags": []
   },
   "source": [
    "<h3> Problem 23: Building Trees\n",
    "    <a name = \"pyramids\">"
   ]
  },
  {
   "cell_type": "code",
   "execution_count": 41,
   "id": "d6bbbac1",
   "metadata": {},
   "outputs": [],
   "source": [
    "class Node():\n",
    "  def __init__(self,data,children:List = []):\n",
    "      self.data = data\n",
    "      self.children = children\n",
    "  \n",
    "  def add(self, data):\n",
    "    node = Node(data)\n",
    "    self.children.append(node)\n",
    "\n",
    "  def remove(self,data):\n",
    "    return [child for child in self.children if child != data]"
   ]
  },
  {
   "cell_type": "code",
   "execution_count": 42,
   "id": "cf4b4e58",
   "metadata": {},
   "outputs": [],
   "source": [
    "import itertools"
   ]
  },
  {
   "cell_type": "code",
   "execution_count": 43,
   "id": "ec74dfa6",
   "metadata": {},
   "outputs": [],
   "source": [
    "class Tree():\n",
    "  def __init__(self):\n",
    "      self.root = None\n",
    "  \n",
    "  def traverseBF(self,fn):\n",
    "    arr = [self.root]\n",
    "    while len(arr):\n",
    "      node = arr.pop(0) #pop modifies the originial array\n",
    "      arr = arr + list(itertools.chain(*node.children))\n",
    "      fn(node)\n",
    "\n",
    "  def traverseDF(self,fn):\n",
    "    arr = [self.root]\n",
    "    while len(arr):\n",
    "      node = arr.pop(0) #pop modifies the originial array\n",
    "      arr = list(itertools.chain(*node.children)) + arr \n",
    "      fn(node)\n",
    "\n"
   ]
  },
  {
   "cell_type": "markdown",
   "id": "7b30a45b",
   "metadata": {
    "papermill": {
     "duration": 0.03232,
     "end_time": "2021-10-15T17:46:10.939745",
     "exception": false,
     "start_time": "2021-10-15T17:46:10.907425",
     "status": "completed"
    },
    "tags": []
   },
   "source": [
    "<h3> Problem 24: Level width declaration\n",
    "    <a name = \"pyramids\">"
   ]
  },
  {
   "cell_type": "code",
   "execution_count": 44,
   "id": "64e539c3",
   "metadata": {},
   "outputs": [],
   "source": [
    "def level_width(root):\n",
    "  #s is a stopper inidcating the end of a level\n",
    "  arr = [root,'s']\n",
    "  counters = [0]\n",
    "  while len(arr)>1:\n",
    "    node = arr.pop(0)\n",
    "    if node == 's':\n",
    "      counters.append(0)\n",
    "      arr.append('s')\n",
    "    else:\n",
    "      arr.append(node.children)\n",
    "      counters[len(counters)-1]+=1\n",
    "  return counters"
   ]
  },
  {
   "cell_type": "markdown",
   "id": "7b30a45b",
   "metadata": {
    "papermill": {
     "duration": 0.03232,
     "end_time": "2021-10-15T17:46:10.939745",
     "exception": false,
     "start_time": "2021-10-15T17:46:10.907425",
     "status": "completed"
    },
    "tags": []
   },
   "source": [
    "<h3> Problem 25: Implementing a BST\n",
    "    <a name = \"pyramids\">"
   ]
  },
  {
   "cell_type": "code",
   "execution_count": 45,
   "id": "36032e91",
   "metadata": {},
   "outputs": [],
   "source": [
    "class Node():\n",
    "  def __init__(self,data) -> None:\n",
    "      self.data = data\n",
    "      self.left = None\n",
    "      self.right = None\n",
    "  \n",
    "  def insert(self,data):\n",
    "    if data < self.left:\n",
    "      # We check the left side of the BST\n",
    "      if self.left:\n",
    "        self.left.insert(data)\n",
    "      else:\n",
    "        self.left = Node(data)\n",
    "    else:\n",
    "      # We check the right side\n",
    "      if self.right:\n",
    "        self.right.insert(data)\n",
    "      else:\n",
    "        self.right = Node(data)\n",
    "    \n",
    "    def contains(self,data):\n",
    "      if data == self.data:\n",
    "        return self\n",
    "\n",
    "      if data < self.data:\n",
    "        if self.left:\n",
    "          self.left.contains(data)\n",
    "      else:\n",
    "        if self.right:\n",
    "          self.right.contains(data)\n",
    "      return None\n",
    "\n",
    "  "
   ]
  },
  {
   "cell_type": "markdown",
   "id": "64e6d7bd",
   "metadata": {},
   "source": []
  },
  {
   "cell_type": "markdown",
   "id": "7b30a45b",
   "metadata": {
    "papermill": {
     "duration": 0.03232,
     "end_time": "2021-10-15T17:46:10.939745",
     "exception": false,
     "start_time": "2021-10-15T17:46:10.907425",
     "status": "completed"
    },
    "tags": []
   },
   "source": [
    "<h3> Problem 26: Validating a BST\n",
    "    <a name = \"pyramids\">"
   ]
  },
  {
   "cell_type": "code",
   "execution_count": null,
   "id": "7aeb9591",
   "metadata": {},
   "outputs": [],
   "source": [
    "def validate(node, minimum = None, maximum = None) -> bool:\n",
    "  if maximum != None and node.data > maximum:\n",
    "    return False\n",
    "  if minimum != None and node.data < minimum:\n",
    "    return False\n",
    "  if node.left and not validate(node.left,minimum,node.data):\n",
    "    return False\n",
    "  if node.right and not validate(node.right,node.data,maximum):\n",
    "    return False\n",
    "  return True"
   ]
  },
  {
   "cell_type": "markdown",
   "id": "7b30a45b",
   "metadata": {
    "papermill": {
     "duration": 0.03232,
     "end_time": "2021-10-15T17:46:10.939745",
     "exception": false,
     "start_time": "2021-10-15T17:46:10.907425",
     "status": "completed"
    },
    "tags": []
   },
   "source": [
    "<h3> Problem 27: Sorting Algos\n",
    "    <a name = \"pyramids\">"
   ]
  },
  {
   "cell_type": "code",
   "execution_count": 47,
   "id": "6a3f2591",
   "metadata": {},
   "outputs": [],
   "source": [
    "def bubble_sort(arr: List) -> List:\n",
    "  n = len(arr)\n",
    "  for i in range(n):\n",
    "    for j in range(n-i):\n",
    "      if arr[j] > arr [j+1]:\n",
    "        temp = arr[j+1]\n",
    "        arr[j+1] = arr[j]\n",
    "        arr[j]=temp\n",
    "  return arr"
   ]
  },
  {
   "cell_type": "code",
   "execution_count": 46,
   "id": "5f193711",
   "metadata": {},
   "outputs": [],
   "source": [
    "def selection_sort(arr: List) -> List:\n",
    "  n = len(arr)\n",
    "  index_min = None\n",
    "  for i in range(n):\n",
    "    index_min = i\n",
    "    for j in range(i+1,n):\n",
    "      if arr[j] < arr[i]:\n",
    "        index_min = j\n",
    "    if index_min != i:\n",
    "      temp = arr[index_min]\n",
    "      arr[index_min] = arr[i]\n",
    "      arr[i]=temp\n",
    "  return arr"
   ]
  },
  {
   "cell_type": "code",
   "execution_count": 49,
   "id": "27fe0586",
   "metadata": {},
   "outputs": [],
   "source": [
    "def merge_sort(arr: List) -> List:\n",
    "  if len(arr) == 1:\n",
    "    return arr\n",
    "  center_index = math.floor(len(arr)/2)\n",
    "  left_half, right_half = arr[:center_index], arr[center_index:]\n",
    "  \n",
    "  return merge(merge_sort(left_half), merge_sort(right_half))\n"
   ]
  },
  {
   "cell_type": "code",
   "execution_count": 48,
   "id": "e10196fd",
   "metadata": {},
   "outputs": [],
   "source": [
    "def merge(left: List,right: List) -> List:\n",
    "  #Keep in mind that left and right are SORTED arrays\n",
    "  results = []\n",
    "  while len(left) != 0 and len(right) != 0:\n",
    "    if left[0] < right[0]:\n",
    "      results.append(left.pop(0))\n",
    "    else: \n",
    "      results.append(right.pop(0))\n",
    "  if len(left) == 0:\n",
    "    results = results + left\n",
    "  else:\n",
    "    results = results + right\n",
    "  return results\n"
   ]
  },
  {
   "cell_type": "markdown",
   "id": "46fb8ec4",
   "metadata": {},
   "source": []
  }
 ],
 "metadata": {
  "kernelspec": {
   "display_name": "Python 3",
   "language": "python",
   "name": "python3"
  },
  "language_info": {
   "codemirror_mode": {
    "name": "ipython",
    "version": 3
   },
   "file_extension": ".py",
   "mimetype": "text/x-python",
   "name": "python",
   "nbconvert_exporter": "python",
   "pygments_lexer": "ipython3",
   "version": "3.9.5"
  },
  "papermill": {
   "default_parameters": {},
   "duration": 12.772673,
   "end_time": "2021-10-15T17:46:12.627810",
   "environment_variables": {},
   "exception": null,
   "input_path": "__notebook__.ipynb",
   "output_path": "__notebook__.ipynb",
   "parameters": {},
   "start_time": "2021-10-15T17:45:59.855137",
   "version": "2.3.3"
  }
 },
 "nbformat": 4,
 "nbformat_minor": 5
}
