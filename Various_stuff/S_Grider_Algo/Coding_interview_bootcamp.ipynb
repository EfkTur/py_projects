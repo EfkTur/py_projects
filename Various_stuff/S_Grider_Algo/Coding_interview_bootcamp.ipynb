{
 "cells": [
  {
   "cell_type": "markdown",
   "metadata": {},
   "source": [
    "<h1> Grider Interview Prep Kit"
   ]
  },
  {
   "cell_type": "markdown",
   "metadata": {},
   "source": [
    "<h2> ToC"
   ]
  },
  {
   "cell_type": "markdown",
   "metadata": {},
   "source": [
    " * [Problem 1: Reverse string](#reverse_string)\n",
    " * [Problem 2: Palindromes](#palindromes)\n",
    " * [Problem 3: Reverse Integers](#reverse_int)\n",
    " * [Problem 4: Max Chars](#max_chars)\n",
    " * [Problem 5: FizzBuzz](#fizzbuzz)\n",
    " * [Problem 6: Array Chunk](#array_chunk)\n",
    " * [Problem 7: Anagrams](#anagrams)"
   ]
  },
  {
   "cell_type": "markdown",
   "metadata": {},
   "source": [
    "***"
   ]
  },
  {
   "cell_type": "code",
   "execution_count": 1,
   "metadata": {},
   "outputs": [],
   "source": [
    "import numpy as np\n",
    "from collections import Counter"
   ]
  },
  {
   "cell_type": "markdown",
   "metadata": {},
   "source": [
    "<h3> Problem 1: Reverse String\n",
    "    <a name = \"reverse_string\">"
   ]
  },
  {
   "cell_type": "markdown",
   "metadata": {},
   "source": [
    "Given a string, return a new string with the reversed order of characters\n",
    "\n",
    "// reverse('apple') = leppa\n",
    "// reverse('hello') = olleh"
   ]
  },
  {
   "cell_type": "code",
   "execution_count": 2,
   "metadata": {},
   "outputs": [],
   "source": [
    "def reverse(word: str):\n",
    "    temp = list(word)\n",
    "    return ''.join(temp[::-1])"
   ]
  },
  {
   "cell_type": "code",
   "execution_count": 3,
   "metadata": {},
   "outputs": [
    {
     "data": {
      "text/plain": [
       "'ih'"
      ]
     },
     "execution_count": 3,
     "metadata": {},
     "output_type": "execute_result"
    }
   ],
   "source": [
    "reverse('hi')"
   ]
  },
  {
   "cell_type": "markdown",
   "metadata": {},
   "source": [
    "<h3> Problem 2: Palindromes\n",
    "    <a name = \"palindromes\">"
   ]
  },
  {
   "cell_type": "markdown",
   "metadata": {},
   "source": [
    "Given a word, check if a word is a palindrome"
   ]
  },
  {
   "cell_type": "code",
   "execution_count": 4,
   "metadata": {},
   "outputs": [],
   "source": [
    "def palindromes(word: str):\n",
    "    return word.lower() == reverse(word.lower())"
   ]
  },
  {
   "cell_type": "code",
   "execution_count": 5,
   "metadata": {},
   "outputs": [
    {
     "data": {
      "text/plain": [
       "True"
      ]
     },
     "execution_count": 5,
     "metadata": {},
     "output_type": "execute_result"
    }
   ],
   "source": [
    "palindromes('Abba')"
   ]
  },
  {
   "cell_type": "markdown",
   "metadata": {},
   "source": [
    "<h3> Problem 3: Reverse Integers\n",
    "    <a name = \"reverse_int\">"
   ]
  },
  {
   "cell_type": "markdown",
   "metadata": {},
   "source": [
    "Given an integer, return an integer that is the reverse on the ordering number. Don't forget negative integers. "
   ]
  },
  {
   "cell_type": "code",
   "execution_count": 6,
   "metadata": {},
   "outputs": [],
   "source": [
    "def reverse_integers(number: int):\n",
    "    res = int(reverse(str(abs(number))))\n",
    "    return np.sign(number)*res"
   ]
  },
  {
   "cell_type": "code",
   "execution_count": 7,
   "metadata": {},
   "outputs": [
    {
     "data": {
      "text/plain": [
       "5321"
      ]
     },
     "execution_count": 7,
     "metadata": {},
     "output_type": "execute_result"
    }
   ],
   "source": [
    "reverse_integers(1235)"
   ]
  },
  {
   "cell_type": "markdown",
   "metadata": {},
   "source": [
    "<h3> Problem 4: Max Chars\n",
    "    <a name = \"max_chars\">"
   ]
  },
  {
   "cell_type": "markdown",
   "metadata": {},
   "source": [
    "Given a string, return the character that is the most commonly used in the string "
   ]
  },
  {
   "cell_type": "code",
   "execution_count": 8,
   "metadata": {},
   "outputs": [],
   "source": [
    "def most_common_char(string: str):\n",
    "    counter = Counter(string)\n",
    "    return counter.most_common()[0][0]"
   ]
  },
  {
   "cell_type": "code",
   "execution_count": 9,
   "metadata": {},
   "outputs": [
    {
     "data": {
      "text/plain": [
       "'e'"
      ]
     },
     "execution_count": 9,
     "metadata": {},
     "output_type": "execute_result"
    }
   ],
   "source": [
    "most_common_char('frienderes')"
   ]
  },
  {
   "cell_type": "markdown",
   "metadata": {},
   "source": [
    "<h3> Problem 5: FizzBuzz\n",
    "    <a name = \"fizzbuzz\">"
   ]
  },
  {
   "cell_type": "markdown",
   "metadata": {},
   "source": [
    "Write a program that prints the numbers from 1 to n. But for multiples of 3, prints 'fizz', for multiple of 5 prints 'buzz', and for multiples of 3 and 5, prints 'fizzbuzz'."
   ]
  },
  {
   "cell_type": "code",
   "execution_count": 10,
   "metadata": {},
   "outputs": [],
   "source": [
    "def multiple_checker(n: int):\n",
    "    \"\"\"Checks if a integer n, is a multiple of 3 and 5, 3 or 5. If None of tehm, returns the number\"\"\"\n",
    "    if n % 3 == 0 and n % 5 == 0:\n",
    "        return 'FizzBuzz'\n",
    "    elif n % 3 == 0:\n",
    "        return 'Fizz'\n",
    "    elif n % 5 == 0:\n",
    "        return 'Buzz'\n",
    "    else:\n",
    "        return n\n",
    "\n",
    "def fizzbuzz(n: int):\n",
    "    temp = range(1,n+1)\n",
    "    temp = list(map(multiple_checker,temp))\n",
    "    print(*temp,sep = \"\\n\")"
   ]
  },
  {
   "cell_type": "code",
   "execution_count": 11,
   "metadata": {},
   "outputs": [
    {
     "name": "stdout",
     "output_type": "stream",
     "text": [
      "1\n",
      "2\n",
      "Fizz\n",
      "4\n",
      "Buzz\n",
      "Fizz\n",
      "7\n",
      "8\n",
      "Fizz\n",
      "Buzz\n",
      "11\n",
      "Fizz\n",
      "13\n",
      "14\n",
      "FizzBuzz\n",
      "16\n",
      "17\n",
      "Fizz\n",
      "19\n",
      "Buzz\n"
     ]
    }
   ],
   "source": [
    "fizzbuzz(20)"
   ]
  },
  {
   "cell_type": "markdown",
   "metadata": {},
   "source": [
    "<h3> Problem 6: Array Chunk\n",
    "    <a name = \"array_chunk\">"
   ]
  },
  {
   "cell_type": "markdown",
   "metadata": {},
   "source": [
    "Given an array and chunk size, divide the array into many subarrays where each subarray is of length size"
   ]
  },
  {
   "cell_type": "code",
   "execution_count": 12,
   "metadata": {},
   "outputs": [],
   "source": [
    "def chunk(array, length_size: int):\n",
    "    n = len(array)\n",
    "    if n <length_size:\n",
    "        return array\n",
    "    last_chunk_length = n % length_size\n",
    "    inner_chunk_count = n // length_size\n",
    "    res, counter = [],0\n",
    "    for j in range(inner_chunk_count):\n",
    "        res.append(array[counter:counter+length_size])\n",
    "        counter+=length_size        \n",
    "    if last_chunk_length!=0:\n",
    "        res.append(array[-last_chunk_length:])\n",
    "    return res"
   ]
  },
  {
   "cell_type": "code",
   "execution_count": 13,
   "metadata": {},
   "outputs": [
    {
     "data": {
      "text/plain": [
       "[[1], [2], [3], [4], [5]]"
      ]
     },
     "execution_count": 13,
     "metadata": {},
     "output_type": "execute_result"
    }
   ],
   "source": [
    "chunk([1,2,3,4,5],1)"
   ]
  },
  {
   "cell_type": "markdown",
   "metadata": {},
   "source": [
    "<h3> Problem 7: Anagrams\n",
    "    <a name = \"anagrams\">"
   ]
  },
  {
   "cell_type": "code",
   "execution_count": null,
   "metadata": {},
   "outputs": [],
   "source": []
  },
  {
   "cell_type": "code",
   "execution_count": null,
   "metadata": {},
   "outputs": [],
   "source": []
  }
 ],
 "metadata": {
  "kernelspec": {
   "display_name": "Python 3.9.5 64-bit ('py39': conda)",
   "language": "python",
   "name": "python395jvsc74a57bd0dbdccb4d1e5b8bd458485ef855199b9a3ee2371bb10f5940df545024d6a19502"
  },
  "language_info": {
   "codemirror_mode": {
    "name": "ipython",
    "version": 3
   },
   "file_extension": ".py",
   "mimetype": "text/x-python",
   "name": "python",
   "nbconvert_exporter": "python",
   "pygments_lexer": "ipython3",
   "version": "3.9.5"
  }
 },
 "nbformat": 4,
 "nbformat_minor": 4
}
