{
 "cells": [
  {
   "cell_type": "markdown",
   "metadata": {},
   "source": [
    "<h2> Coding Exercices"
   ]
  },
  {
   "cell_type": "code",
   "execution_count": 8,
   "metadata": {},
   "outputs": [],
   "source": [
    "from typing import List\n",
    "from heapq import heappop,heappush,nlargest,nsmallest"
   ]
  },
  {
   "cell_type": "markdown",
   "metadata": {},
   "source": [
    "<h3> Easy Problems"
   ]
  },
  {
   "cell_type": "markdown",
   "metadata": {},
   "source": [
    "Amazon\n",
    "\n",
    "Given two arrays, write a function to get the intersection of the two."
   ]
  },
  {
   "cell_type": "code",
   "execution_count": 9,
   "metadata": {},
   "outputs": [
    {
     "name": "stdout",
     "output_type": "stream",
     "text": [
      "[1, 3]\n"
     ]
    }
   ],
   "source": [
    "def intersect_arrays(array1: List[int], array2: List[int]) -> List[int]:\n",
    "  if array1 == [] or array2 == []:\n",
    "    return []\n",
    "  array1 = set(array1)\n",
    "  array2 = set(array2)\n",
    "  if len(array1) < len(array2):\n",
    "    intersect = [x for x in array1 if x in array2]\n",
    "  else: \n",
    "    intersect = [x for x in array2 if x in array1]\n",
    "  return intersect\n",
    "\n",
    "#Testing\n",
    "A = [1,2,3,4,5]\n",
    "B = [0,1,3,7]\n",
    "print(intersect_arrays(A,B))"
   ]
  },
  {
   "cell_type": "markdown",
   "metadata": {},
   "source": [
    "D.E. Shaw\n",
    "\n",
    "Given an integer array, return the maximum product of any 3 numbers in the array. For example, for A = [1,3,4,5], you should return 60, while for B = [-2,-4,5,3] you should return 40."
   ]
  },
  {
   "cell_type": "code",
   "execution_count": 10,
   "metadata": {},
   "outputs": [
    {
     "name": "stdout",
     "output_type": "stream",
     "text": [
      "-84\n"
     ]
    }
   ],
   "source": [
    "def max_three(array: List[int])-> int :\n",
    "  \"\"\"\n",
    "  In this one, we use the Heaps because they are ordered and fast\n",
    "  \"\"\"\n",
    "  a = nlargest(3,array) # largest 3  numbers\n",
    "  b = nsmallest(2,array) # smallest 2 (for negative cases)\n",
    "  return max(a[0]*a[1]*a[2],b[1]*b[0]*a[0])\n",
    "\n",
    "#Testing\n",
    "A = [1,2,3,4,5]\n",
    "B = [4,3,-7]\n",
    "print(max_three(B))"
   ]
  },
  {
   "cell_type": "markdown",
   "metadata": {},
   "source": [
    "Facebook: 9.3"
   ]
  },
  {
   "cell_type": "code",
   "execution_count": 11,
   "metadata": {},
   "outputs": [
    {
     "name": "stdout",
     "output_type": "stream",
     "text": [
      "[[-1, -1], [2, -1], [-2, 2]]\n"
     ]
    }
   ],
   "source": [
    "def closest_points(coordinates: List[List], k: int):\n",
    "  \n",
    "  def get_dist(x,y):\n",
    "    return x**2 + y**2\n",
    "  \n",
    "  min_heap = []\n",
    "  n = len(coordinates)\n",
    "  for i in range(n):\n",
    "    x = coordinates[i][0]\n",
    "    y = coordinates[i][1]\n",
    "    \n",
    "    heappush(\n",
    "      min_heap,\n",
    "      (\n",
    "        get_dist(x,y),\n",
    "        coordinates[i]\n",
    "      )\n",
    "    )\n",
    "  \n",
    "  res = []\n",
    "  for i in range(k):\n",
    "    res.append(\n",
    "      heappop(min_heap)[1]\n",
    "    )\n",
    "  return res\n",
    "\n",
    "\n",
    "#Testing\n",
    "list_coor = [[2,-1],[3,2],[4,1],[-1,-1],[-2,2]]\n",
    "print(closest_points(coordinates = list_coor,k=3))"
   ]
  },
  {
   "cell_type": "markdown",
   "metadata": {},
   "source": [
    "Google: 9.4"
   ]
  },
  {
   "cell_type": "code",
   "execution_count": null,
   "metadata": {},
   "outputs": [],
   "source": [
    "def smallest(matrix,k):\n",
    "  n = len(matrix)\n",
    "  heap = []\n",
    "  res = -1\n",
    "  for i in range(min(k,n)):\n",
    "    for j in range(min(k,n)):\n",
    "      heappush(heap,matrix[i][j])\n",
    "  for _ in range(k):\n",
    "    res = heappop(heap)\n",
    "  return res\n",
    "\n",
    "  "
   ]
  },
  {
   "cell_type": "code",
   "execution_count": 17,
   "metadata": {},
   "outputs": [
    {
     "name": "stdout",
     "output_type": "stream",
     "text": [
      "11\n"
     ]
    }
   ],
   "source": [
    "def maxSubArray(nums: List[int]):\n",
    "  # Initialize our variables using the first element. Kadane's Algo. \n",
    "  current_subarray = max_subarray = nums[0]\n",
    "  \n",
    "  # Start with the 2nd element since we already used the first one.\n",
    "  for num in nums[1:]:\n",
    "  # If current_subarray is negative, throw it away. Otherwise, keep adding to it.\n",
    "    current_subarray = max(num, current_subarray + num)\n",
    "    max_subarray = max(max_subarray, current_subarray)\n",
    "        \n",
    "  return max_subarray\n",
    "\n",
    "array = [-1,-3,5,-4,3,-6,9,2]\n",
    "print(maxSubArray(array))"
   ]
  },
  {
   "cell_type": "code",
   "execution_count": null,
   "metadata": {},
   "outputs": [],
   "source": []
  }
 ],
 "metadata": {
  "interpreter": {
   "hash": "890515392a450da74f75a7b109212c91d9bb438ff56912bf5daf11acd072e364"
  },
  "kernelspec": {
   "display_name": "Python 3.9.10 ('generic')",
   "language": "python",
   "name": "python3"
  },
  "language_info": {
   "codemirror_mode": {
    "name": "ipython",
    "version": 3
   },
   "file_extension": ".py",
   "mimetype": "text/x-python",
   "name": "python",
   "nbconvert_exporter": "python",
   "pygments_lexer": "ipython3",
   "version": "3.9.10"
  },
  "orig_nbformat": 4
 },
 "nbformat": 4,
 "nbformat_minor": 2
}
