{
 "cells": [
  {
   "cell_type": "code",
   "execution_count": null,
   "id": "7268ca95-d760-446f-9c72-29975ff568fa",
   "metadata": {},
   "outputs": [],
   "source": [
    "// Your First C++ Program\n",
    "\n",
    "#include <iostream>\n",
    "\n",
    "int main() {\n",
    "    std::cout << \"Hello World!\";\n",
    "    return 0;\n",
    "}"
   ]
  },
  {
   "cell_type": "code",
   "execution_count": null,
   "id": "90d6ba32-08fa-4880-ab92-f22e56a1cc08",
   "metadata": {},
   "outputs": [],
   "source": []
  }
 ],
 "metadata": {
  "kernelspec": {
   "display_name": "C++14",
   "language": "C++14",
   "name": "xcpp14"
  },
  "language_info": {
   "name": ""
  }
 },
 "nbformat": 4,
 "nbformat_minor": 5
}
