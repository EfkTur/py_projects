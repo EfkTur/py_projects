{
 "cells": [
  {
   "cell_type": "code",
   "execution_count": 1,
   "metadata": {},
   "outputs": [],
   "source": [
    "class Node:\n",
    "    \n",
    "    def __init__(self, val):\n",
    "        self.left = None \n",
    "        self.right = None\n",
    "        self.data = val\n",
    "    \n",
    "    def BST_insert(root, node):\n",
    "        if root is None:\n",
    "            root = node\n",
    "        else: \n",
    "            if root.data > node.data:\n",
    "                #We are on the left side of the node\n",
    "                if root.left is None:\n",
    "                    root.left = node\n",
    "                else:\n",
    "                    BST_insert(root.left, node)\n",
    "            else:\n",
    "                #We are the on the right side of the node\n",
    "                if root.right is None:\n",
    "                    root.right = node\n",
    "                else:\n",
    "                    BST_insert(root.right, node)\n",
    "                    \n",
    "    def BST_contains(root, val):\n",
    "        if root.data == val:\n",
    "            return True\n",
    "        else: \n",
    "            if root.data > node.data:\n",
    "                #We are on the left side of the node\n",
    "                if root.left is None:\n",
    "                    return False\n",
    "                else:\n",
    "                    BST_contains(root.left, node)\n",
    "            else:\n",
    "                #We are the on the right side of the node\n",
    "                if root.right is None:\n",
    "                    return False\n",
    "                else:\n",
    "                    BST_contains(root.right, node)\n",
    "        \n",
    "    "
   ]
  },
  {
   "cell_type": "code",
   "execution_count": null,
   "metadata": {},
   "outputs": [],
   "source": []
  }
 ],
 "metadata": {
  "interpreter": {
   "hash": "098c460aea5866229ea49732b84d5881f4374c0b39362c7093ee4ea3dca53e75"
  },
  "kernelspec": {
   "display_name": "Python 3.9.5 64-bit ('py39': conda)",
   "language": "python",
   "name": "python395jvsc74a57bd0dbdccb4d1e5b8bd458485ef855199b9a3ee2371bb10f5940df545024d6a19502"
  },
  "language_info": {
   "codemirror_mode": {
    "name": "ipython",
    "version": 3
   },
   "file_extension": ".py",
   "mimetype": "text/x-python",
   "name": "python",
   "nbconvert_exporter": "python",
   "pygments_lexer": "ipython3",
   "version": "3.9.5"
  }
 },
 "nbformat": 4,
 "nbformat_minor": 2
}
