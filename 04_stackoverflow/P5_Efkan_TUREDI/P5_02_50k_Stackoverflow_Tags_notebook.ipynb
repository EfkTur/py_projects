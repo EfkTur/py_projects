{
 "cells": [
  {
   "cell_type": "markdown",
   "metadata": {
    "id": "2KB7GHFY4o3M",
    "tags": []
   },
   "source": [
    "## **Stackoverflow - Natural Language Processing**"
   ]
  },
  {
   "cell_type": "code",
   "execution_count": 1,
   "metadata": {
    "id": "6Margtmn61ne"
   },
   "outputs": [],
   "source": [
    "import warnings\n",
    "warnings.filterwarnings(\"ignore\", category=DeprecationWarning) "
   ]
  },
  {
   "cell_type": "markdown",
   "metadata": {
    "id": "KEZXHj_H4o3Q"
   },
   "source": [
    "**[1. Lecture des données](#lecture)**\n",
    "\n",
    "**[2. Preprocessing](#EDA)**\n",
    "\n",
    "  * [2.1. CreationDate](#CreationDate)\n",
    "  * [2.2. Tags](#Tags)\n",
    "  * [2.3. Title](#Title)\n",
    "      * [2.3.1. Tokenization](#Tokens)\n",
    "      * [2.3.2. Lemmatization](#Lemma)\n",
    "  * [2.4. Body](#Body)\n",
    "\n",
    "**[3. Analyse Exploratoire](#EDA)**\n",
    "\n",
    "**[4. Approche Supervisée](#Supervisée)**\n",
    "  * [4.1. Bag of Words](#bow)\n",
    "  * [4.2. TF-IDF](#tfidf)\n",
    "  * [4.3. Dimensinality Reduction](#reduction)\n",
    "  * [4.4. Models](#models)\n",
    "\n",
    "**[5. Approche Non-Supervisée](#NonSupervisée)**\n",
    "  * [5.1. LDA Multicore with Gensim](#lda)\n",
    "\n",
    "**[6. Hugging Face: Transformers](#NonSupervisée)**\n",
    "\n",
    "**[7. Keras using Words Embeddings](#NonSupervisée)**\n",
    "\n",
    "**[8. API Creation](#comparaison)**\n",
    "\n",
    " "
   ]
  },
  {
   "cell_type": "markdown",
   "metadata": {
    "id": "tBJbhM5L8t1S",
    "tags": []
   },
   "source": [
    "# Data fetching"
   ]
  },
  {
   "cell_type": "markdown",
   "metadata": {
    "id": "Z6Gx6h824o3N"
   },
   "source": [
    "<h2> Recupération des données"
   ]
  },
  {
   "cell_type": "markdown",
   "metadata": {
    "id": "5eDrIHMu4o3O"
   },
   "source": [
    "Nous devons faire des requêtes SQL dans stack explorer pour récupérer des données utilisables. Pour le moment nous récupérons les données que pour un mois. Une fois que nous avons une version plus stable, nous augmenterons le nombre de données. "
   ]
  },
  {
   "cell_type": "markdown",
   "metadata": {
    "id": "Tm8Z0c2K4o3R"
   },
   "source": [
    "SELECT TOP(100000) Id, CreationDate, Score, ViewCount, AnswerCount, CommentCount, FavoriteCount, Title, Body, Tags\n",
    "FROM Posts\n",
    "WHERE CreationDate BETWEEN CONVERT(datetime, '2020-01-01') AND CONVERT(datetime, '2020-07-01')\n",
    "AND Score IS NOT NULL\n",
    "AND ViewCount IS NOT NULL\n",
    "AND AnswerCount IS NOT NULL\n",
    "AND CommentCount IS NOT NULL\n",
    "AND FavoriteCount IS NOT NULL\n",
    "ORDER BY ViewCount DESC"
   ]
  },
  {
   "cell_type": "markdown",
   "metadata": {
    "id": "xgQCkCW_4o3R"
   },
   "source": [
    "<h2> Lecture des données\n",
    "    <a name='lecture'>"
   ]
  },
  {
   "cell_type": "code",
   "execution_count": 2,
   "metadata": {
    "colab": {
     "base_uri": "https://localhost:8080/"
    },
    "executionInfo": {
     "elapsed": 3505,
     "status": "ok",
     "timestamp": 1637245582942,
     "user": {
      "displayName": "Alexandre Taillard de Vorms",
      "photoUrl": "https://lh3.googleusercontent.com/a/default-user=s64",
      "userId": "17158358651987272696"
     },
     "user_tz": -60
    },
    "id": "2BBHXk_s4o3R",
    "outputId": "9beb2fa6-33ca-45f0-9d04-7bd27acd6a4e"
   },
   "outputs": [
    {
     "name": "stderr",
     "output_type": "stream",
     "text": [
      "2021-12-01 13:03:33.243619: W tensorflow/stream_executor/platform/default/dso_loader.cc:64] Could not load dynamic library 'libcudart.so.11.0'; dlerror: libcudart.so.11.0: cannot open shared object file: No such file or directory\n",
      "2021-12-01 13:03:33.243635: I tensorflow/stream_executor/cuda/cudart_stub.cc:29] Ignore above cudart dlerror if you do not have a GPU set up on your machine.\n"
     ]
    }
   ],
   "source": [
    "from itertools import chain\n",
    "from datetime import datetime\n",
    "from stackoverflow_utils import *\n",
    "import re\n",
    "import numpy as np\n",
    "import matplotlib.pyplot as plt\n",
    "import plotly.graph_objects as go\n",
    "import plotly.express as px\n",
    "import plotly.figure_factory as ff\n",
    "import pandas as pd"
   ]
  },
  {
   "cell_type": "code",
   "execution_count": 3,
   "metadata": {
    "id": "2Qc-mI084EKl"
   },
   "outputs": [],
   "source": [
    "db = pd.read_csv('./Input_database/200k_QueryResults.csv')"
   ]
  },
  {
   "cell_type": "code",
   "execution_count": 4,
   "metadata": {
    "colab": {
     "base_uri": "https://localhost:8080/"
    },
    "executionInfo": {
     "elapsed": 36,
     "status": "ok",
     "timestamp": 1637245590438,
     "user": {
      "displayName": "Alexandre Taillard de Vorms",
      "photoUrl": "https://lh3.googleusercontent.com/a/default-user=s64",
      "userId": "17158358651987272696"
     },
     "user_tz": -60
    },
    "id": "W4Yo50YV4o3S",
    "outputId": "7b545a16-bb47-4ca2-d79a-052f6bfd06e9"
   },
   "outputs": [
    {
     "data": {
      "text/html": [
       "<div>\n",
       "<style scoped>\n",
       "    .dataframe tbody tr th:only-of-type {\n",
       "        vertical-align: middle;\n",
       "    }\n",
       "\n",
       "    .dataframe tbody tr th {\n",
       "        vertical-align: top;\n",
       "    }\n",
       "\n",
       "    .dataframe thead th {\n",
       "        text-align: right;\n",
       "    }\n",
       "</style>\n",
       "<table border=\"1\" class=\"dataframe\">\n",
       "  <thead>\n",
       "    <tr style=\"text-align: right;\">\n",
       "      <th></th>\n",
       "      <th>Id</th>\n",
       "      <th>CreationDate</th>\n",
       "      <th>Score</th>\n",
       "      <th>ViewCount</th>\n",
       "      <th>AnswerCount</th>\n",
       "      <th>CommentCount</th>\n",
       "      <th>FavoriteCount</th>\n",
       "      <th>Title</th>\n",
       "      <th>Body</th>\n",
       "      <th>Tags</th>\n",
       "    </tr>\n",
       "  </thead>\n",
       "  <tbody>\n",
       "    <tr>\n",
       "      <th>0</th>\n",
       "      <td>61339968</td>\n",
       "      <td>2020-04-21 09:16:35</td>\n",
       "      <td>147</td>\n",
       "      <td>387745</td>\n",
       "      <td>12</td>\n",
       "      <td>5</td>\n",
       "      <td>29</td>\n",
       "      <td>Error message \"DevTools failed to load SourceM...</td>\n",
       "      <td>&lt;p&gt;I'm trying to display an image selected fro...</td>\n",
       "      <td>&lt;javascript&gt;&lt;html&gt;</td>\n",
       "    </tr>\n",
       "    <tr>\n",
       "      <th>1</th>\n",
       "      <td>61205390</td>\n",
       "      <td>2020-04-14 10:19:16</td>\n",
       "      <td>78</td>\n",
       "      <td>323357</td>\n",
       "      <td>12</td>\n",
       "      <td>8</td>\n",
       "      <td>13</td>\n",
       "      <td>When adding a JavaScript library, Chrome compl...</td>\n",
       "      <td>&lt;h3&gt;My code&lt;/h3&gt;\\n&lt;pre class=\"lang-html pretty...</td>\n",
       "      <td>&lt;google-chrome-devtools&gt;</td>\n",
       "    </tr>\n",
       "    <tr>\n",
       "      <th>2</th>\n",
       "      <td>59823283</td>\n",
       "      <td>2020-01-20 12:26:53</td>\n",
       "      <td>114</td>\n",
       "      <td>266124</td>\n",
       "      <td>15</td>\n",
       "      <td>0</td>\n",
       "      <td>47</td>\n",
       "      <td>Could not load dynamic library 'cudart64_101.d...</td>\n",
       "      <td>&lt;p&gt;I just installed the latest version of Tens...</td>\n",
       "      <td>&lt;python&gt;&lt;python-3.x&gt;&lt;tensorflow&gt;&lt;keras&gt;&lt;tensor...</td>\n",
       "    </tr>\n",
       "    <tr>\n",
       "      <th>3</th>\n",
       "      <td>60296873</td>\n",
       "      <td>2020-02-19 09:24:42</td>\n",
       "      <td>109</td>\n",
       "      <td>253667</td>\n",
       "      <td>32</td>\n",
       "      <td>7</td>\n",
       "      <td>29</td>\n",
       "      <td>SessionNotCreatedException: Message: session n...</td>\n",
       "      <td>&lt;p&gt;I am currently new to robot framework.I am ...</td>\n",
       "      <td>&lt;selenium&gt;&lt;google-chrome&gt;&lt;selenium-webdriver&gt;&lt;...</td>\n",
       "    </tr>\n",
       "    <tr>\n",
       "      <th>4</th>\n",
       "      <td>60290309</td>\n",
       "      <td>2020-02-18 22:24:39</td>\n",
       "      <td>176</td>\n",
       "      <td>247270</td>\n",
       "      <td>30</td>\n",
       "      <td>3</td>\n",
       "      <td>18</td>\n",
       "      <td>error NG6002: Appears in the NgModule.imports ...</td>\n",
       "      <td>&lt;p&gt;First time using firestore and I'm getting ...</td>\n",
       "      <td>&lt;angular&gt;&lt;google-cloud-firestore&gt;&lt;angularfire&gt;</td>\n",
       "    </tr>\n",
       "  </tbody>\n",
       "</table>\n",
       "</div>"
      ],
      "text/plain": [
       "         Id         CreationDate  Score  ViewCount  AnswerCount  CommentCount  \\\n",
       "0  61339968  2020-04-21 09:16:35    147     387745           12             5   \n",
       "1  61205390  2020-04-14 10:19:16     78     323357           12             8   \n",
       "2  59823283  2020-01-20 12:26:53    114     266124           15             0   \n",
       "3  60296873  2020-02-19 09:24:42    109     253667           32             7   \n",
       "4  60290309  2020-02-18 22:24:39    176     247270           30             3   \n",
       "\n",
       "   FavoriteCount                                              Title  \\\n",
       "0             29  Error message \"DevTools failed to load SourceM...   \n",
       "1             13  When adding a JavaScript library, Chrome compl...   \n",
       "2             47  Could not load dynamic library 'cudart64_101.d...   \n",
       "3             29  SessionNotCreatedException: Message: session n...   \n",
       "4             18  error NG6002: Appears in the NgModule.imports ...   \n",
       "\n",
       "                                                Body  \\\n",
       "0  <p>I'm trying to display an image selected fro...   \n",
       "1  <h3>My code</h3>\\n<pre class=\"lang-html pretty...   \n",
       "2  <p>I just installed the latest version of Tens...   \n",
       "3  <p>I am currently new to robot framework.I am ...   \n",
       "4  <p>First time using firestore and I'm getting ...   \n",
       "\n",
       "                                                Tags  \n",
       "0                                 <javascript><html>  \n",
       "1                           <google-chrome-devtools>  \n",
       "2  <python><python-3.x><tensorflow><keras><tensor...  \n",
       "3  <selenium><google-chrome><selenium-webdriver><...  \n",
       "4     <angular><google-cloud-firestore><angularfire>  "
      ]
     },
     "execution_count": 4,
     "metadata": {},
     "output_type": "execute_result"
    }
   ],
   "source": [
    "db.head()"
   ]
  },
  {
   "cell_type": "markdown",
   "metadata": {
    "id": "IW4mR0Ua4o3S"
   },
   "source": [
    "Dans un premier temps, pour des questions de simplicité, on va concentret sur les colonnes Tags et Titles uniquement"
   ]
  },
  {
   "cell_type": "code",
   "execution_count": 5,
   "metadata": {
    "colab": {
     "base_uri": "https://localhost:8080/"
    },
    "executionInfo": {
     "elapsed": 19,
     "status": "ok",
     "timestamp": 1637245590439,
     "user": {
      "displayName": "Alexandre Taillard de Vorms",
      "photoUrl": "https://lh3.googleusercontent.com/a/default-user=s64",
      "userId": "17158358651987272696"
     },
     "user_tz": -60
    },
    "id": "3uKkr5Rt4o3S",
    "outputId": "49a9e36d-3c3f-47e5-d217-71cc2c6c7934",
    "scrolled": true
   },
   "outputs": [
    {
     "data": {
      "text/plain": [
       "(200000, 10)"
      ]
     },
     "execution_count": 5,
     "metadata": {},
     "output_type": "execute_result"
    }
   ],
   "source": [
    "db.shape"
   ]
  },
  {
   "cell_type": "code",
   "execution_count": 6,
   "metadata": {
    "id": "iqLppgOa4o3S"
   },
   "outputs": [],
   "source": [
    "n_sample = 50000\n",
    "db = db.sample(n_sample,random_state=42)\n",
    "db = db.reset_index(drop=True)"
   ]
  },
  {
   "cell_type": "markdown",
   "metadata": {
    "id": "PHpZtfmB4o3T",
    "tags": []
   },
   "source": [
    "# Preprocessing"
   ]
  },
  {
   "cell_type": "markdown",
   "metadata": {
    "id": "4SY_wBFC4o3T"
   },
   "source": [
    "Par simplicité, faisons ces tranformations sur une seule de ces données. Nous scalerons ensuite ces transformations via une fonction"
   ]
  },
  {
   "cell_type": "code",
   "execution_count": 7,
   "metadata": {
    "colab": {
     "base_uri": "https://localhost:8080/"
    },
    "executionInfo": {
     "elapsed": 16,
     "status": "ok",
     "timestamp": 1637245590439,
     "user": {
      "displayName": "Alexandre Taillard de Vorms",
      "photoUrl": "https://lh3.googleusercontent.com/a/default-user=s64",
      "userId": "17158358651987272696"
     },
     "user_tz": -60
    },
    "id": "MSY2a3bL4o3T",
    "outputId": "5e361400-f79e-47be-afcf-4fd42355f353"
   },
   "outputs": [
    {
     "data": {
      "text/plain": [
       "Id                                                        54201469\n",
       "CreationDate                                   2019-01-15 15:00:28\n",
       "Score                                                           13\n",
       "ViewCount                                                     3631\n",
       "AnswerCount                                                      1\n",
       "CommentCount                                                     2\n",
       "FavoriteCount                                                    1\n",
       "Title                         How to isolate Vuetify global styles\n",
       "Body             <p>I've started to use Vue.js with Vuetify wit...\n",
       "Tags                                     <css><vue.js><vuetify.js>\n",
       "Name: 0, dtype: object"
      ]
     },
     "execution_count": 7,
     "metadata": {},
     "output_type": "execute_result"
    }
   ],
   "source": [
    "sample = db.iloc[0,:]\n",
    "sample"
   ]
  },
  {
   "cell_type": "markdown",
   "metadata": {
    "id": "8_9Cl0dc4o3T"
   },
   "source": [
    "Les données nécessitant une transformation sont: Creation date, Title, Body, et Tags. "
   ]
  },
  {
   "cell_type": "markdown",
   "metadata": {
    "id": "DWnJxOxj4o3U"
   },
   "source": [
    "## Preprocessing de la colonne Tags"
   ]
  },
  {
   "cell_type": "code",
   "execution_count": 8,
   "metadata": {
    "colab": {
     "base_uri": "https://localhost:8080/"
    },
    "executionInfo": {
     "elapsed": 16,
     "status": "ok",
     "timestamp": 1637245590440,
     "user": {
      "displayName": "Alexandre Taillard de Vorms",
      "photoUrl": "https://lh3.googleusercontent.com/a/default-user=s64",
      "userId": "17158358651987272696"
     },
     "user_tz": -60
    },
    "id": "v__RFpyr4o3U",
    "outputId": "d3a0db67-9397-41d7-fc49-c5d21aa5d777",
    "scrolled": true
   },
   "outputs": [
    {
     "data": {
      "text/plain": [
       "str"
      ]
     },
     "execution_count": 8,
     "metadata": {},
     "output_type": "execute_result"
    }
   ],
   "source": [
    "type(sample['Tags'])"
   ]
  },
  {
   "cell_type": "code",
   "execution_count": 9,
   "metadata": {
    "id": "2HzS6nT44o3U"
   },
   "outputs": [],
   "source": [
    "tag_list = db['Tags'].apply(lambda x: tags_cleaner(x))"
   ]
  },
  {
   "cell_type": "code",
   "execution_count": 10,
   "metadata": {
    "colab": {
     "base_uri": "https://localhost:8080/"
    },
    "executionInfo": {
     "elapsed": 15,
     "status": "ok",
     "timestamp": 1637245590440,
     "user": {
      "displayName": "Alexandre Taillard de Vorms",
      "photoUrl": "https://lh3.googleusercontent.com/a/default-user=s64",
      "userId": "17158358651987272696"
     },
     "user_tz": -60
    },
    "id": "TspKJ63I4o3U",
    "outputId": "4e22a9cd-c28f-4fe8-ef11-de872bab1c99",
    "scrolled": true
   },
   "outputs": [
    {
     "data": {
      "text/plain": [
       "0                                [css, vue.js, vuetify.js]\n",
       "1                                    [python, pyinstaller]\n",
       "2        [amazon-web-services, amazon-ecs, serverless, ...\n",
       "3                  [node.js, reactjs, deployment, restapi]\n",
       "4        [javascript, node.js, payment-gateway, stripe-...\n",
       "                               ...                        \n",
       "49995                                [swift, swift4, moya]\n",
       "49996                                     [vue.js, vuejs2]\n",
       "49997    [javascript, angular, typescript, ionic-framew...\n",
       "49998    [xcode, app-store-connect, ios-stickers, itune...\n",
       "49999                                        [sql, presto]\n",
       "Name: Tags, Length: 50000, dtype: object"
      ]
     },
     "execution_count": 10,
     "metadata": {},
     "output_type": "execute_result"
    }
   ],
   "source": [
    "tag_list"
   ]
  },
  {
   "cell_type": "code",
   "execution_count": 11,
   "metadata": {
    "colab": {
     "base_uri": "https://localhost:8080/"
    },
    "executionInfo": {
     "elapsed": 15,
     "status": "ok",
     "timestamp": 1637245590441,
     "user": {
      "displayName": "Alexandre Taillard de Vorms",
      "photoUrl": "https://lh3.googleusercontent.com/a/default-user=s64",
      "userId": "17158358651987272696"
     },
     "user_tz": -60
    },
    "id": "7GHiAGaQ4o3V",
    "outputId": "46252a7e-f067-4556-af35-1ccc357ecb16"
   },
   "outputs": [
    {
     "data": {
      "text/html": [
       "<div>\n",
       "<style scoped>\n",
       "    .dataframe tbody tr th:only-of-type {\n",
       "        vertical-align: middle;\n",
       "    }\n",
       "\n",
       "    .dataframe tbody tr th {\n",
       "        vertical-align: top;\n",
       "    }\n",
       "\n",
       "    .dataframe thead th {\n",
       "        text-align: right;\n",
       "    }\n",
       "</style>\n",
       "<table border=\"1\" class=\"dataframe\">\n",
       "  <thead>\n",
       "    <tr style=\"text-align: right;\">\n",
       "      <th></th>\n",
       "      <th>Id</th>\n",
       "      <th>CreationDate</th>\n",
       "      <th>Score</th>\n",
       "      <th>ViewCount</th>\n",
       "      <th>AnswerCount</th>\n",
       "      <th>CommentCount</th>\n",
       "      <th>FavoriteCount</th>\n",
       "      <th>Title</th>\n",
       "      <th>Body</th>\n",
       "      <th>Tags</th>\n",
       "    </tr>\n",
       "  </thead>\n",
       "  <tbody>\n",
       "    <tr>\n",
       "      <th>0</th>\n",
       "      <td>54201469</td>\n",
       "      <td>2019-01-15 15:00:28</td>\n",
       "      <td>13</td>\n",
       "      <td>3631</td>\n",
       "      <td>1</td>\n",
       "      <td>2</td>\n",
       "      <td>1</td>\n",
       "      <td>How to isolate Vuetify global styles</td>\n",
       "      <td>&lt;p&gt;I've started to use Vue.js with Vuetify wit...</td>\n",
       "      <td>[css, vue.js, vuetify.js]</td>\n",
       "    </tr>\n",
       "    <tr>\n",
       "      <th>1</th>\n",
       "      <td>63783524</td>\n",
       "      <td>2020-09-07 19:56:06</td>\n",
       "      <td>1</td>\n",
       "      <td>492</td>\n",
       "      <td>1</td>\n",
       "      <td>7</td>\n",
       "      <td>1</td>\n",
       "      <td>PyInstaller: UnicodeDecodeError: 'utf-8' codec...</td>\n",
       "      <td>&lt;p&gt;I was trying to convert my project to the e...</td>\n",
       "      <td>[python, pyinstaller]</td>\n",
       "    </tr>\n",
       "    <tr>\n",
       "      <th>2</th>\n",
       "      <td>57715829</td>\n",
       "      <td>2019-08-29 18:17:50</td>\n",
       "      <td>11</td>\n",
       "      <td>5542</td>\n",
       "      <td>3</td>\n",
       "      <td>3</td>\n",
       "      <td>1</td>\n",
       "      <td>Exposing to public more than 1 port with AWS E...</td>\n",
       "      <td>&lt;p&gt;I have service that exposes multiple ports ...</td>\n",
       "      <td>[amazon-web-services, amazon-ecs, serverless, ...</td>\n",
       "    </tr>\n",
       "    <tr>\n",
       "      <th>3</th>\n",
       "      <td>63552490</td>\n",
       "      <td>2020-08-23 22:09:19</td>\n",
       "      <td>1</td>\n",
       "      <td>793</td>\n",
       "      <td>1</td>\n",
       "      <td>0</td>\n",
       "      <td>1</td>\n",
       "      <td>Deploy ReactJs + MySQL + NodeJs Express project</td>\n",
       "      <td>&lt;p&gt;I'm newbie on ReactJs and NodeJs. Before us...</td>\n",
       "      <td>[node.js, reactjs, deployment, restapi]</td>\n",
       "    </tr>\n",
       "    <tr>\n",
       "      <th>4</th>\n",
       "      <td>61202493</td>\n",
       "      <td>2020-04-14 07:17:35</td>\n",
       "      <td>0</td>\n",
       "      <td>872</td>\n",
       "      <td>1</td>\n",
       "      <td>0</td>\n",
       "      <td>1</td>\n",
       "      <td>Change Currency code and amount according to u...</td>\n",
       "      <td>&lt;pre&gt;&lt;code&gt;const session = stripe.checkout.ses...</td>\n",
       "      <td>[javascript, node.js, payment-gateway, stripe-...</td>\n",
       "    </tr>\n",
       "    <tr>\n",
       "      <th>...</th>\n",
       "      <td>...</td>\n",
       "      <td>...</td>\n",
       "      <td>...</td>\n",
       "      <td>...</td>\n",
       "      <td>...</td>\n",
       "      <td>...</td>\n",
       "      <td>...</td>\n",
       "      <td>...</td>\n",
       "      <td>...</td>\n",
       "      <td>...</td>\n",
       "    </tr>\n",
       "    <tr>\n",
       "      <th>49995</th>\n",
       "      <td>54936080</td>\n",
       "      <td>2019-02-28 23:57:37</td>\n",
       "      <td>7</td>\n",
       "      <td>3932</td>\n",
       "      <td>1</td>\n",
       "      <td>0</td>\n",
       "      <td>2</td>\n",
       "      <td>Refreshing auth token with Moya</td>\n",
       "      <td>&lt;p&gt;I'm using &lt;a href=\"https://github.com/Moya/...</td>\n",
       "      <td>[swift, swift4, moya]</td>\n",
       "    </tr>\n",
       "    <tr>\n",
       "      <th>49996</th>\n",
       "      <td>58265103</td>\n",
       "      <td>2019-10-07 07:23:16</td>\n",
       "      <td>1</td>\n",
       "      <td>2856</td>\n",
       "      <td>1</td>\n",
       "      <td>1</td>\n",
       "      <td>1</td>\n",
       "      <td>How to filter/search Element UI table with sep...</td>\n",
       "      <td>&lt;p&gt;I'm building a Element table in Vue (&lt;a hre...</td>\n",
       "      <td>[vue.js, vuejs2]</td>\n",
       "    </tr>\n",
       "    <tr>\n",
       "      <th>49997</th>\n",
       "      <td>54047430</td>\n",
       "      <td>2019-01-04 23:16:03</td>\n",
       "      <td>7</td>\n",
       "      <td>1793</td>\n",
       "      <td>1</td>\n",
       "      <td>4</td>\n",
       "      <td>1</td>\n",
       "      <td>In Angular 5, how to get access to dynamically...</td>\n",
       "      <td>&lt;p&gt;I am developing an Ionic + Angular 5 projec...</td>\n",
       "      <td>[javascript, angular, typescript, ionic-framew...</td>\n",
       "    </tr>\n",
       "    <tr>\n",
       "      <th>49998</th>\n",
       "      <td>56722921</td>\n",
       "      <td>2019-06-23 10:20:23</td>\n",
       "      <td>3</td>\n",
       "      <td>1168</td>\n",
       "      <td>1</td>\n",
       "      <td>0</td>\n",
       "      <td>1</td>\n",
       "      <td>How to fix ERROR ITMS-90680 StickerPackExtensi...</td>\n",
       "      <td>&lt;p&gt;Using &lt;strong&gt;XCode 10.2.1&lt;/strong&gt;&lt;/p&gt;\\n\\n...</td>\n",
       "      <td>[xcode, app-store-connect, ios-stickers, itune...</td>\n",
       "    </tr>\n",
       "    <tr>\n",
       "      <th>49999</th>\n",
       "      <td>59811400</td>\n",
       "      <td>2020-01-19 15:12:08</td>\n",
       "      <td>0</td>\n",
       "      <td>4242</td>\n",
       "      <td>0</td>\n",
       "      <td>4</td>\n",
       "      <td>1</td>\n",
       "      <td>Select values from Presto column that contains...</td>\n",
       "      <td>&lt;p&gt;Desired output is somewhat reversed version...</td>\n",
       "      <td>[sql, presto]</td>\n",
       "    </tr>\n",
       "  </tbody>\n",
       "</table>\n",
       "<p>50000 rows × 10 columns</p>\n",
       "</div>"
      ],
      "text/plain": [
       "             Id         CreationDate  Score  ViewCount  AnswerCount  \\\n",
       "0      54201469  2019-01-15 15:00:28     13       3631            1   \n",
       "1      63783524  2020-09-07 19:56:06      1        492            1   \n",
       "2      57715829  2019-08-29 18:17:50     11       5542            3   \n",
       "3      63552490  2020-08-23 22:09:19      1        793            1   \n",
       "4      61202493  2020-04-14 07:17:35      0        872            1   \n",
       "...         ...                  ...    ...        ...          ...   \n",
       "49995  54936080  2019-02-28 23:57:37      7       3932            1   \n",
       "49996  58265103  2019-10-07 07:23:16      1       2856            1   \n",
       "49997  54047430  2019-01-04 23:16:03      7       1793            1   \n",
       "49998  56722921  2019-06-23 10:20:23      3       1168            1   \n",
       "49999  59811400  2020-01-19 15:12:08      0       4242            0   \n",
       "\n",
       "       CommentCount  FavoriteCount  \\\n",
       "0                 2              1   \n",
       "1                 7              1   \n",
       "2                 3              1   \n",
       "3                 0              1   \n",
       "4                 0              1   \n",
       "...             ...            ...   \n",
       "49995             0              2   \n",
       "49996             1              1   \n",
       "49997             4              1   \n",
       "49998             0              1   \n",
       "49999             4              1   \n",
       "\n",
       "                                                   Title  \\\n",
       "0                   How to isolate Vuetify global styles   \n",
       "1      PyInstaller: UnicodeDecodeError: 'utf-8' codec...   \n",
       "2      Exposing to public more than 1 port with AWS E...   \n",
       "3        Deploy ReactJs + MySQL + NodeJs Express project   \n",
       "4      Change Currency code and amount according to u...   \n",
       "...                                                  ...   \n",
       "49995                    Refreshing auth token with Moya   \n",
       "49996  How to filter/search Element UI table with sep...   \n",
       "49997  In Angular 5, how to get access to dynamically...   \n",
       "49998  How to fix ERROR ITMS-90680 StickerPackExtensi...   \n",
       "49999  Select values from Presto column that contains...   \n",
       "\n",
       "                                                    Body  \\\n",
       "0      <p>I've started to use Vue.js with Vuetify wit...   \n",
       "1      <p>I was trying to convert my project to the e...   \n",
       "2      <p>I have service that exposes multiple ports ...   \n",
       "3      <p>I'm newbie on ReactJs and NodeJs. Before us...   \n",
       "4      <pre><code>const session = stripe.checkout.ses...   \n",
       "...                                                  ...   \n",
       "49995  <p>I'm using <a href=\"https://github.com/Moya/...   \n",
       "49996  <p>I'm building a Element table in Vue (<a hre...   \n",
       "49997  <p>I am developing an Ionic + Angular 5 projec...   \n",
       "49998  <p>Using <strong>XCode 10.2.1</strong></p>\\n\\n...   \n",
       "49999  <p>Desired output is somewhat reversed version...   \n",
       "\n",
       "                                                    Tags  \n",
       "0                              [css, vue.js, vuetify.js]  \n",
       "1                                  [python, pyinstaller]  \n",
       "2      [amazon-web-services, amazon-ecs, serverless, ...  \n",
       "3                [node.js, reactjs, deployment, restapi]  \n",
       "4      [javascript, node.js, payment-gateway, stripe-...  \n",
       "...                                                  ...  \n",
       "49995                              [swift, swift4, moya]  \n",
       "49996                                   [vue.js, vuejs2]  \n",
       "49997  [javascript, angular, typescript, ionic-framew...  \n",
       "49998  [xcode, app-store-connect, ios-stickers, itune...  \n",
       "49999                                      [sql, presto]  \n",
       "\n",
       "[50000 rows x 10 columns]"
      ]
     },
     "execution_count": 11,
     "metadata": {},
     "output_type": "execute_result"
    }
   ],
   "source": [
    "db['Tags'] = tag_list\n",
    "db"
   ]
  },
  {
   "cell_type": "code",
   "execution_count": 12,
   "metadata": {
    "colab": {
     "base_uri": "https://localhost:8080/"
    },
    "executionInfo": {
     "elapsed": 428,
     "status": "ok",
     "timestamp": 1637245590855,
     "user": {
      "displayName": "Alexandre Taillard de Vorms",
      "photoUrl": "https://lh3.googleusercontent.com/a/default-user=s64",
      "userId": "17158358651987272696"
     },
     "user_tz": -60
    },
    "id": "LPTOo22G4o3V",
    "outputId": "c2c6e971-2879-4c9a-b59a-609c39bf9eb0"
   },
   "outputs": [
    {
     "data": {
      "text/plain": [
       "python              7049\n",
       "javascript          4767\n",
       "java                3132\n",
       "reactjs             3045\n",
       "android             2827\n",
       "                    ... \n",
       "serialization         44\n",
       "path                  44\n",
       "paramiko              43\n",
       "zsh                   43\n",
       "google-cloud-run      43\n",
       "Length: 500, dtype: int64"
      ]
     },
     "execution_count": 12,
     "metadata": {},
     "output_type": "execute_result"
    }
   ],
   "source": [
    "tags_count = pd.Series(chain(*tag_list)).value_counts()\n",
    "tags_top_500 = tags_count.nlargest(500)\n",
    "tags_top_500"
   ]
  },
  {
   "cell_type": "code",
   "execution_count": 13,
   "metadata": {
    "colab": {
     "base_uri": "https://localhost:8080/"
    },
    "executionInfo": {
     "elapsed": 9,
     "status": "ok",
     "timestamp": 1637245590855,
     "user": {
      "displayName": "Alexandre Taillard de Vorms",
      "photoUrl": "https://lh3.googleusercontent.com/a/default-user=s64",
      "userId": "17158358651987272696"
     },
     "user_tz": -60
    },
    "id": "VZroFh4e4o3V",
    "outputId": "0dcbd589-9190-4878-de93-47ec1d1fbc33"
   },
   "outputs": [
    {
     "data": {
      "text/plain": [
       "14017"
      ]
     },
     "execution_count": 13,
     "metadata": {},
     "output_type": "execute_result"
    }
   ],
   "source": [
    "len(tags_count)"
   ]
  },
  {
   "cell_type": "code",
   "execution_count": 14,
   "metadata": {
    "id": "uXytOtYL4o3W",
    "scrolled": true
   },
   "outputs": [],
   "source": [
    "tester = list(tags_top_500.keys())\n"
   ]
  },
  {
   "cell_type": "markdown",
   "metadata": {
    "id": "9VfNa5IK4o3W"
   },
   "source": [
    "Let's first clean the Tags column, by keeping the most common value only for each row"
   ]
  },
  {
   "cell_type": "code",
   "execution_count": 15,
   "metadata": {
    "colab": {
     "base_uri": "https://localhost:8080/"
    },
    "executionInfo": {
     "elapsed": 10,
     "status": "ok",
     "timestamp": 1637245590856,
     "user": {
      "displayName": "Alexandre Taillard de Vorms",
      "photoUrl": "https://lh3.googleusercontent.com/a/default-user=s64",
      "userId": "17158358651987272696"
     },
     "user_tz": -60
    },
    "id": "qgP7yfUI4o3W",
    "outputId": "21d50928-752f-4b2f-c2af-f5ecc5bbfd76"
   },
   "outputs": [
    {
     "data": {
      "text/html": [
       "<div>\n",
       "<style scoped>\n",
       "    .dataframe tbody tr th:only-of-type {\n",
       "        vertical-align: middle;\n",
       "    }\n",
       "\n",
       "    .dataframe tbody tr th {\n",
       "        vertical-align: top;\n",
       "    }\n",
       "\n",
       "    .dataframe thead th {\n",
       "        text-align: right;\n",
       "    }\n",
       "</style>\n",
       "<table border=\"1\" class=\"dataframe\">\n",
       "  <thead>\n",
       "    <tr style=\"text-align: right;\">\n",
       "      <th></th>\n",
       "      <th>Id</th>\n",
       "      <th>CreationDate</th>\n",
       "      <th>Score</th>\n",
       "      <th>ViewCount</th>\n",
       "      <th>AnswerCount</th>\n",
       "      <th>CommentCount</th>\n",
       "      <th>FavoriteCount</th>\n",
       "      <th>Title</th>\n",
       "      <th>Body</th>\n",
       "      <th>Tags</th>\n",
       "    </tr>\n",
       "  </thead>\n",
       "  <tbody>\n",
       "    <tr>\n",
       "      <th>0</th>\n",
       "      <td>54201469</td>\n",
       "      <td>2019-01-15 15:00:28</td>\n",
       "      <td>13</td>\n",
       "      <td>3631</td>\n",
       "      <td>1</td>\n",
       "      <td>2</td>\n",
       "      <td>1</td>\n",
       "      <td>How to isolate Vuetify global styles</td>\n",
       "      <td>&lt;p&gt;I've started to use Vue.js with Vuetify wit...</td>\n",
       "      <td>[css, vue.js, vuetify.js]</td>\n",
       "    </tr>\n",
       "    <tr>\n",
       "      <th>1</th>\n",
       "      <td>63783524</td>\n",
       "      <td>2020-09-07 19:56:06</td>\n",
       "      <td>1</td>\n",
       "      <td>492</td>\n",
       "      <td>1</td>\n",
       "      <td>7</td>\n",
       "      <td>1</td>\n",
       "      <td>PyInstaller: UnicodeDecodeError: 'utf-8' codec...</td>\n",
       "      <td>&lt;p&gt;I was trying to convert my project to the e...</td>\n",
       "      <td>[python, pyinstaller]</td>\n",
       "    </tr>\n",
       "    <tr>\n",
       "      <th>2</th>\n",
       "      <td>57715829</td>\n",
       "      <td>2019-08-29 18:17:50</td>\n",
       "      <td>11</td>\n",
       "      <td>5542</td>\n",
       "      <td>3</td>\n",
       "      <td>3</td>\n",
       "      <td>1</td>\n",
       "      <td>Exposing to public more than 1 port with AWS E...</td>\n",
       "      <td>&lt;p&gt;I have service that exposes multiple ports ...</td>\n",
       "      <td>[amazon-web-services, amazon-ecs]</td>\n",
       "    </tr>\n",
       "    <tr>\n",
       "      <th>3</th>\n",
       "      <td>63552490</td>\n",
       "      <td>2020-08-23 22:09:19</td>\n",
       "      <td>1</td>\n",
       "      <td>793</td>\n",
       "      <td>1</td>\n",
       "      <td>0</td>\n",
       "      <td>1</td>\n",
       "      <td>Deploy ReactJs + MySQL + NodeJs Express project</td>\n",
       "      <td>&lt;p&gt;I'm newbie on ReactJs and NodeJs. Before us...</td>\n",
       "      <td>[node.js, reactjs, deployment]</td>\n",
       "    </tr>\n",
       "    <tr>\n",
       "      <th>4</th>\n",
       "      <td>61202493</td>\n",
       "      <td>2020-04-14 07:17:35</td>\n",
       "      <td>0</td>\n",
       "      <td>872</td>\n",
       "      <td>1</td>\n",
       "      <td>0</td>\n",
       "      <td>1</td>\n",
       "      <td>Change Currency code and amount according to u...</td>\n",
       "      <td>&lt;pre&gt;&lt;code&gt;const session = stripe.checkout.ses...</td>\n",
       "      <td>[javascript, node.js, stripe-payments]</td>\n",
       "    </tr>\n",
       "    <tr>\n",
       "      <th>...</th>\n",
       "      <td>...</td>\n",
       "      <td>...</td>\n",
       "      <td>...</td>\n",
       "      <td>...</td>\n",
       "      <td>...</td>\n",
       "      <td>...</td>\n",
       "      <td>...</td>\n",
       "      <td>...</td>\n",
       "      <td>...</td>\n",
       "      <td>...</td>\n",
       "    </tr>\n",
       "    <tr>\n",
       "      <th>49995</th>\n",
       "      <td>54936080</td>\n",
       "      <td>2019-02-28 23:57:37</td>\n",
       "      <td>7</td>\n",
       "      <td>3932</td>\n",
       "      <td>1</td>\n",
       "      <td>0</td>\n",
       "      <td>2</td>\n",
       "      <td>Refreshing auth token with Moya</td>\n",
       "      <td>&lt;p&gt;I'm using &lt;a href=\"https://github.com/Moya/...</td>\n",
       "      <td>[swift]</td>\n",
       "    </tr>\n",
       "    <tr>\n",
       "      <th>49996</th>\n",
       "      <td>58265103</td>\n",
       "      <td>2019-10-07 07:23:16</td>\n",
       "      <td>1</td>\n",
       "      <td>2856</td>\n",
       "      <td>1</td>\n",
       "      <td>1</td>\n",
       "      <td>1</td>\n",
       "      <td>How to filter/search Element UI table with sep...</td>\n",
       "      <td>&lt;p&gt;I'm building a Element table in Vue (&lt;a hre...</td>\n",
       "      <td>[vue.js, vuejs2]</td>\n",
       "    </tr>\n",
       "    <tr>\n",
       "      <th>49997</th>\n",
       "      <td>54047430</td>\n",
       "      <td>2019-01-04 23:16:03</td>\n",
       "      <td>7</td>\n",
       "      <td>1793</td>\n",
       "      <td>1</td>\n",
       "      <td>4</td>\n",
       "      <td>1</td>\n",
       "      <td>In Angular 5, how to get access to dynamically...</td>\n",
       "      <td>&lt;p&gt;I am developing an Ionic + Angular 5 projec...</td>\n",
       "      <td>[javascript, angular, typescript, ionic-framew...</td>\n",
       "    </tr>\n",
       "    <tr>\n",
       "      <th>49998</th>\n",
       "      <td>56722921</td>\n",
       "      <td>2019-06-23 10:20:23</td>\n",
       "      <td>3</td>\n",
       "      <td>1168</td>\n",
       "      <td>1</td>\n",
       "      <td>0</td>\n",
       "      <td>1</td>\n",
       "      <td>How to fix ERROR ITMS-90680 StickerPackExtensi...</td>\n",
       "      <td>&lt;p&gt;Using &lt;strong&gt;XCode 10.2.1&lt;/strong&gt;&lt;/p&gt;\\n\\n...</td>\n",
       "      <td>[xcode]</td>\n",
       "    </tr>\n",
       "    <tr>\n",
       "      <th>49999</th>\n",
       "      <td>59811400</td>\n",
       "      <td>2020-01-19 15:12:08</td>\n",
       "      <td>0</td>\n",
       "      <td>4242</td>\n",
       "      <td>0</td>\n",
       "      <td>4</td>\n",
       "      <td>1</td>\n",
       "      <td>Select values from Presto column that contains...</td>\n",
       "      <td>&lt;p&gt;Desired output is somewhat reversed version...</td>\n",
       "      <td>[sql]</td>\n",
       "    </tr>\n",
       "  </tbody>\n",
       "</table>\n",
       "<p>50000 rows × 10 columns</p>\n",
       "</div>"
      ],
      "text/plain": [
       "             Id         CreationDate  Score  ViewCount  AnswerCount  \\\n",
       "0      54201469  2019-01-15 15:00:28     13       3631            1   \n",
       "1      63783524  2020-09-07 19:56:06      1        492            1   \n",
       "2      57715829  2019-08-29 18:17:50     11       5542            3   \n",
       "3      63552490  2020-08-23 22:09:19      1        793            1   \n",
       "4      61202493  2020-04-14 07:17:35      0        872            1   \n",
       "...         ...                  ...    ...        ...          ...   \n",
       "49995  54936080  2019-02-28 23:57:37      7       3932            1   \n",
       "49996  58265103  2019-10-07 07:23:16      1       2856            1   \n",
       "49997  54047430  2019-01-04 23:16:03      7       1793            1   \n",
       "49998  56722921  2019-06-23 10:20:23      3       1168            1   \n",
       "49999  59811400  2020-01-19 15:12:08      0       4242            0   \n",
       "\n",
       "       CommentCount  FavoriteCount  \\\n",
       "0                 2              1   \n",
       "1                 7              1   \n",
       "2                 3              1   \n",
       "3                 0              1   \n",
       "4                 0              1   \n",
       "...             ...            ...   \n",
       "49995             0              2   \n",
       "49996             1              1   \n",
       "49997             4              1   \n",
       "49998             0              1   \n",
       "49999             4              1   \n",
       "\n",
       "                                                   Title  \\\n",
       "0                   How to isolate Vuetify global styles   \n",
       "1      PyInstaller: UnicodeDecodeError: 'utf-8' codec...   \n",
       "2      Exposing to public more than 1 port with AWS E...   \n",
       "3        Deploy ReactJs + MySQL + NodeJs Express project   \n",
       "4      Change Currency code and amount according to u...   \n",
       "...                                                  ...   \n",
       "49995                    Refreshing auth token with Moya   \n",
       "49996  How to filter/search Element UI table with sep...   \n",
       "49997  In Angular 5, how to get access to dynamically...   \n",
       "49998  How to fix ERROR ITMS-90680 StickerPackExtensi...   \n",
       "49999  Select values from Presto column that contains...   \n",
       "\n",
       "                                                    Body  \\\n",
       "0      <p>I've started to use Vue.js with Vuetify wit...   \n",
       "1      <p>I was trying to convert my project to the e...   \n",
       "2      <p>I have service that exposes multiple ports ...   \n",
       "3      <p>I'm newbie on ReactJs and NodeJs. Before us...   \n",
       "4      <pre><code>const session = stripe.checkout.ses...   \n",
       "...                                                  ...   \n",
       "49995  <p>I'm using <a href=\"https://github.com/Moya/...   \n",
       "49996  <p>I'm building a Element table in Vue (<a hre...   \n",
       "49997  <p>I am developing an Ionic + Angular 5 projec...   \n",
       "49998  <p>Using <strong>XCode 10.2.1</strong></p>\\n\\n...   \n",
       "49999  <p>Desired output is somewhat reversed version...   \n",
       "\n",
       "                                                    Tags  \n",
       "0                              [css, vue.js, vuetify.js]  \n",
       "1                                  [python, pyinstaller]  \n",
       "2                      [amazon-web-services, amazon-ecs]  \n",
       "3                         [node.js, reactjs, deployment]  \n",
       "4                 [javascript, node.js, stripe-payments]  \n",
       "...                                                  ...  \n",
       "49995                                            [swift]  \n",
       "49996                                   [vue.js, vuejs2]  \n",
       "49997  [javascript, angular, typescript, ionic-framew...  \n",
       "49998                                            [xcode]  \n",
       "49999                                              [sql]  \n",
       "\n",
       "[50000 rows x 10 columns]"
      ]
     },
     "execution_count": 15,
     "metadata": {},
     "output_type": "execute_result"
    }
   ],
   "source": [
    "db['Tags'] = db['Tags'].apply(lambda x: most_common_selector(tags_top_500,x))\n",
    "db"
   ]
  },
  {
   "cell_type": "markdown",
   "metadata": {
    "id": "Xpgp1k0Q4o3W"
   },
   "source": [
    "Now, we would like to keep only the rows where the most common 200 tags are present"
   ]
  },
  {
   "cell_type": "code",
   "execution_count": 16,
   "metadata": {
    "id": "b90RXR7P4o3W"
   },
   "outputs": [],
   "source": [
    "index_to_drop = []\n",
    "for index, value in enumerate(db['Tags']):\n",
    "    if len(value)==0:\n",
    "        index_to_drop.append(index)       "
   ]
  },
  {
   "cell_type": "code",
   "execution_count": 17,
   "metadata": {
    "colab": {
     "base_uri": "https://localhost:8080/"
    },
    "executionInfo": {
     "elapsed": 8,
     "status": "ok",
     "timestamp": 1637245590856,
     "user": {
      "displayName": "Alexandre Taillard de Vorms",
      "photoUrl": "https://lh3.googleusercontent.com/a/default-user=s64",
      "userId": "17158358651987272696"
     },
     "user_tz": -60
    },
    "id": "i4_fmlAh4o3W",
    "outputId": "6bc5cb99-e82b-4e6f-d30d-3642bde1799c"
   },
   "outputs": [
    {
     "data": {
      "text/plain": [
       "2304"
      ]
     },
     "execution_count": 17,
     "metadata": {},
     "output_type": "execute_result"
    }
   ],
   "source": [
    "len(index_to_drop)"
   ]
  },
  {
   "cell_type": "code",
   "execution_count": 18,
   "metadata": {
    "id": "s58hNUEU4o3W"
   },
   "outputs": [],
   "source": [
    "db.drop(index_to_drop, inplace=True)\n",
    "db.reset_index(drop=True, inplace=True)"
   ]
  },
  {
   "cell_type": "code",
   "execution_count": 19,
   "metadata": {
    "colab": {
     "base_uri": "https://localhost:8080/"
    },
    "executionInfo": {
     "elapsed": 9,
     "status": "ok",
     "timestamp": 1637245590857,
     "user": {
      "displayName": "Alexandre Taillard de Vorms",
      "photoUrl": "https://lh3.googleusercontent.com/a/default-user=s64",
      "userId": "17158358651987272696"
     },
     "user_tz": -60
    },
    "id": "3ND6y11b4o3X",
    "outputId": "59f5d8e8-e48c-47fe-a8cb-61448ac4e79b"
   },
   "outputs": [
    {
     "data": {
      "text/html": [
       "<div>\n",
       "<style scoped>\n",
       "    .dataframe tbody tr th:only-of-type {\n",
       "        vertical-align: middle;\n",
       "    }\n",
       "\n",
       "    .dataframe tbody tr th {\n",
       "        vertical-align: top;\n",
       "    }\n",
       "\n",
       "    .dataframe thead th {\n",
       "        text-align: right;\n",
       "    }\n",
       "</style>\n",
       "<table border=\"1\" class=\"dataframe\">\n",
       "  <thead>\n",
       "    <tr style=\"text-align: right;\">\n",
       "      <th></th>\n",
       "      <th>Id</th>\n",
       "      <th>CreationDate</th>\n",
       "      <th>Score</th>\n",
       "      <th>ViewCount</th>\n",
       "      <th>AnswerCount</th>\n",
       "      <th>CommentCount</th>\n",
       "      <th>FavoriteCount</th>\n",
       "      <th>Title</th>\n",
       "      <th>Body</th>\n",
       "      <th>Tags</th>\n",
       "    </tr>\n",
       "  </thead>\n",
       "  <tbody>\n",
       "    <tr>\n",
       "      <th>0</th>\n",
       "      <td>54201469</td>\n",
       "      <td>2019-01-15 15:00:28</td>\n",
       "      <td>13</td>\n",
       "      <td>3631</td>\n",
       "      <td>1</td>\n",
       "      <td>2</td>\n",
       "      <td>1</td>\n",
       "      <td>How to isolate Vuetify global styles</td>\n",
       "      <td>&lt;p&gt;I've started to use Vue.js with Vuetify wit...</td>\n",
       "      <td>[css, vue.js, vuetify.js]</td>\n",
       "    </tr>\n",
       "    <tr>\n",
       "      <th>1</th>\n",
       "      <td>63783524</td>\n",
       "      <td>2020-09-07 19:56:06</td>\n",
       "      <td>1</td>\n",
       "      <td>492</td>\n",
       "      <td>1</td>\n",
       "      <td>7</td>\n",
       "      <td>1</td>\n",
       "      <td>PyInstaller: UnicodeDecodeError: 'utf-8' codec...</td>\n",
       "      <td>&lt;p&gt;I was trying to convert my project to the e...</td>\n",
       "      <td>[python, pyinstaller]</td>\n",
       "    </tr>\n",
       "    <tr>\n",
       "      <th>2</th>\n",
       "      <td>57715829</td>\n",
       "      <td>2019-08-29 18:17:50</td>\n",
       "      <td>11</td>\n",
       "      <td>5542</td>\n",
       "      <td>3</td>\n",
       "      <td>3</td>\n",
       "      <td>1</td>\n",
       "      <td>Exposing to public more than 1 port with AWS E...</td>\n",
       "      <td>&lt;p&gt;I have service that exposes multiple ports ...</td>\n",
       "      <td>[amazon-web-services, amazon-ecs]</td>\n",
       "    </tr>\n",
       "    <tr>\n",
       "      <th>3</th>\n",
       "      <td>63552490</td>\n",
       "      <td>2020-08-23 22:09:19</td>\n",
       "      <td>1</td>\n",
       "      <td>793</td>\n",
       "      <td>1</td>\n",
       "      <td>0</td>\n",
       "      <td>1</td>\n",
       "      <td>Deploy ReactJs + MySQL + NodeJs Express project</td>\n",
       "      <td>&lt;p&gt;I'm newbie on ReactJs and NodeJs. Before us...</td>\n",
       "      <td>[node.js, reactjs, deployment]</td>\n",
       "    </tr>\n",
       "    <tr>\n",
       "      <th>4</th>\n",
       "      <td>61202493</td>\n",
       "      <td>2020-04-14 07:17:35</td>\n",
       "      <td>0</td>\n",
       "      <td>872</td>\n",
       "      <td>1</td>\n",
       "      <td>0</td>\n",
       "      <td>1</td>\n",
       "      <td>Change Currency code and amount according to u...</td>\n",
       "      <td>&lt;pre&gt;&lt;code&gt;const session = stripe.checkout.ses...</td>\n",
       "      <td>[javascript, node.js, stripe-payments]</td>\n",
       "    </tr>\n",
       "    <tr>\n",
       "      <th>...</th>\n",
       "      <td>...</td>\n",
       "      <td>...</td>\n",
       "      <td>...</td>\n",
       "      <td>...</td>\n",
       "      <td>...</td>\n",
       "      <td>...</td>\n",
       "      <td>...</td>\n",
       "      <td>...</td>\n",
       "      <td>...</td>\n",
       "      <td>...</td>\n",
       "    </tr>\n",
       "    <tr>\n",
       "      <th>47691</th>\n",
       "      <td>54936080</td>\n",
       "      <td>2019-02-28 23:57:37</td>\n",
       "      <td>7</td>\n",
       "      <td>3932</td>\n",
       "      <td>1</td>\n",
       "      <td>0</td>\n",
       "      <td>2</td>\n",
       "      <td>Refreshing auth token with Moya</td>\n",
       "      <td>&lt;p&gt;I'm using &lt;a href=\"https://github.com/Moya/...</td>\n",
       "      <td>[swift]</td>\n",
       "    </tr>\n",
       "    <tr>\n",
       "      <th>47692</th>\n",
       "      <td>58265103</td>\n",
       "      <td>2019-10-07 07:23:16</td>\n",
       "      <td>1</td>\n",
       "      <td>2856</td>\n",
       "      <td>1</td>\n",
       "      <td>1</td>\n",
       "      <td>1</td>\n",
       "      <td>How to filter/search Element UI table with sep...</td>\n",
       "      <td>&lt;p&gt;I'm building a Element table in Vue (&lt;a hre...</td>\n",
       "      <td>[vue.js, vuejs2]</td>\n",
       "    </tr>\n",
       "    <tr>\n",
       "      <th>47693</th>\n",
       "      <td>54047430</td>\n",
       "      <td>2019-01-04 23:16:03</td>\n",
       "      <td>7</td>\n",
       "      <td>1793</td>\n",
       "      <td>1</td>\n",
       "      <td>4</td>\n",
       "      <td>1</td>\n",
       "      <td>In Angular 5, how to get access to dynamically...</td>\n",
       "      <td>&lt;p&gt;I am developing an Ionic + Angular 5 projec...</td>\n",
       "      <td>[javascript, angular, typescript, ionic-framew...</td>\n",
       "    </tr>\n",
       "    <tr>\n",
       "      <th>47694</th>\n",
       "      <td>56722921</td>\n",
       "      <td>2019-06-23 10:20:23</td>\n",
       "      <td>3</td>\n",
       "      <td>1168</td>\n",
       "      <td>1</td>\n",
       "      <td>0</td>\n",
       "      <td>1</td>\n",
       "      <td>How to fix ERROR ITMS-90680 StickerPackExtensi...</td>\n",
       "      <td>&lt;p&gt;Using &lt;strong&gt;XCode 10.2.1&lt;/strong&gt;&lt;/p&gt;\\n\\n...</td>\n",
       "      <td>[xcode]</td>\n",
       "    </tr>\n",
       "    <tr>\n",
       "      <th>47695</th>\n",
       "      <td>59811400</td>\n",
       "      <td>2020-01-19 15:12:08</td>\n",
       "      <td>0</td>\n",
       "      <td>4242</td>\n",
       "      <td>0</td>\n",
       "      <td>4</td>\n",
       "      <td>1</td>\n",
       "      <td>Select values from Presto column that contains...</td>\n",
       "      <td>&lt;p&gt;Desired output is somewhat reversed version...</td>\n",
       "      <td>[sql]</td>\n",
       "    </tr>\n",
       "  </tbody>\n",
       "</table>\n",
       "<p>47696 rows × 10 columns</p>\n",
       "</div>"
      ],
      "text/plain": [
       "             Id         CreationDate  Score  ViewCount  AnswerCount  \\\n",
       "0      54201469  2019-01-15 15:00:28     13       3631            1   \n",
       "1      63783524  2020-09-07 19:56:06      1        492            1   \n",
       "2      57715829  2019-08-29 18:17:50     11       5542            3   \n",
       "3      63552490  2020-08-23 22:09:19      1        793            1   \n",
       "4      61202493  2020-04-14 07:17:35      0        872            1   \n",
       "...         ...                  ...    ...        ...          ...   \n",
       "47691  54936080  2019-02-28 23:57:37      7       3932            1   \n",
       "47692  58265103  2019-10-07 07:23:16      1       2856            1   \n",
       "47693  54047430  2019-01-04 23:16:03      7       1793            1   \n",
       "47694  56722921  2019-06-23 10:20:23      3       1168            1   \n",
       "47695  59811400  2020-01-19 15:12:08      0       4242            0   \n",
       "\n",
       "       CommentCount  FavoriteCount  \\\n",
       "0                 2              1   \n",
       "1                 7              1   \n",
       "2                 3              1   \n",
       "3                 0              1   \n",
       "4                 0              1   \n",
       "...             ...            ...   \n",
       "47691             0              2   \n",
       "47692             1              1   \n",
       "47693             4              1   \n",
       "47694             0              1   \n",
       "47695             4              1   \n",
       "\n",
       "                                                   Title  \\\n",
       "0                   How to isolate Vuetify global styles   \n",
       "1      PyInstaller: UnicodeDecodeError: 'utf-8' codec...   \n",
       "2      Exposing to public more than 1 port with AWS E...   \n",
       "3        Deploy ReactJs + MySQL + NodeJs Express project   \n",
       "4      Change Currency code and amount according to u...   \n",
       "...                                                  ...   \n",
       "47691                    Refreshing auth token with Moya   \n",
       "47692  How to filter/search Element UI table with sep...   \n",
       "47693  In Angular 5, how to get access to dynamically...   \n",
       "47694  How to fix ERROR ITMS-90680 StickerPackExtensi...   \n",
       "47695  Select values from Presto column that contains...   \n",
       "\n",
       "                                                    Body  \\\n",
       "0      <p>I've started to use Vue.js with Vuetify wit...   \n",
       "1      <p>I was trying to convert my project to the e...   \n",
       "2      <p>I have service that exposes multiple ports ...   \n",
       "3      <p>I'm newbie on ReactJs and NodeJs. Before us...   \n",
       "4      <pre><code>const session = stripe.checkout.ses...   \n",
       "...                                                  ...   \n",
       "47691  <p>I'm using <a href=\"https://github.com/Moya/...   \n",
       "47692  <p>I'm building a Element table in Vue (<a hre...   \n",
       "47693  <p>I am developing an Ionic + Angular 5 projec...   \n",
       "47694  <p>Using <strong>XCode 10.2.1</strong></p>\\n\\n...   \n",
       "47695  <p>Desired output is somewhat reversed version...   \n",
       "\n",
       "                                                    Tags  \n",
       "0                              [css, vue.js, vuetify.js]  \n",
       "1                                  [python, pyinstaller]  \n",
       "2                      [amazon-web-services, amazon-ecs]  \n",
       "3                         [node.js, reactjs, deployment]  \n",
       "4                 [javascript, node.js, stripe-payments]  \n",
       "...                                                  ...  \n",
       "47691                                            [swift]  \n",
       "47692                                   [vue.js, vuejs2]  \n",
       "47693  [javascript, angular, typescript, ionic-framew...  \n",
       "47694                                            [xcode]  \n",
       "47695                                              [sql]  \n",
       "\n",
       "[47696 rows x 10 columns]"
      ]
     },
     "execution_count": 19,
     "metadata": {},
     "output_type": "execute_result"
    }
   ],
   "source": [
    "db"
   ]
  },
  {
   "cell_type": "markdown",
   "metadata": {
    "id": "LoQxA7O3FZlV"
   },
   "source": []
  },
  {
   "cell_type": "markdown",
   "metadata": {
    "id": "vg9Sm6QT4o3X"
   },
   "source": [
    "## Preprocessing de la colonne Title"
   ]
  },
  {
   "cell_type": "markdown",
   "metadata": {
    "id": "BbZW6KUb4o3X"
   },
   "source": [
    "<h4> Tokenisation\n",
    "         <a name=\"Tokens\">"
   ]
  },
  {
   "cell_type": "code",
   "execution_count": 20,
   "metadata": {
    "colab": {
     "base_uri": "https://localhost:8080/"
    },
    "executionInfo": {
     "elapsed": 358,
     "status": "ok",
     "timestamp": 1637245591207,
     "user": {
      "displayName": "Alexandre Taillard de Vorms",
      "photoUrl": "https://lh3.googleusercontent.com/a/default-user=s64",
      "userId": "17158358651987272696"
     },
     "user_tz": -60
    },
    "id": "ZLwBissw4o3X",
    "outputId": "eb21116c-7fa2-40c5-9b33-4ef0e44b5cfc"
   },
   "outputs": [
    {
     "name": "stderr",
     "output_type": "stream",
     "text": [
      "[nltk_data] Downloading package stopwords to /home/efkant/nltk_data...\n",
      "[nltk_data]   Package stopwords is already up-to-date!\n"
     ]
    }
   ],
   "source": [
    "from nltk.corpus import stopwords\n",
    "import nltk\n",
    "nltk.download('stopwords')\n",
    "import tensorflow as tf"
   ]
  },
  {
   "cell_type": "code",
   "execution_count": 21,
   "metadata": {
    "id": "TMF6QtSF4o3X"
   },
   "outputs": [],
   "source": [
    "stop_words = set(stopwords.words('english'))"
   ]
  },
  {
   "cell_type": "code",
   "execution_count": 22,
   "metadata": {
    "id": "KkGeo2Np4o3X"
   },
   "outputs": [],
   "source": [
    "regularizer = lambda x : re.sub(\"[^a-zA-Z]\",           # The pattern to search for\n",
    "                      \" \",                   # The pattern to replace it with\n",
    "                      x)"
   ]
  },
  {
   "cell_type": "code",
   "execution_count": 23,
   "metadata": {
    "id": "bo0PNj4q4o3X"
   },
   "outputs": [],
   "source": [
    "db['Title'] = db['Title'].apply(lambda x: regularizer(x))"
   ]
  },
  {
   "cell_type": "code",
   "execution_count": 24,
   "metadata": {
    "colab": {
     "base_uri": "https://localhost:8080/"
    },
    "executionInfo": {
     "elapsed": 14,
     "status": "ok",
     "timestamp": 1637245591209,
     "user": {
      "displayName": "Alexandre Taillard de Vorms",
      "photoUrl": "https://lh3.googleusercontent.com/a/default-user=s64",
      "userId": "17158358651987272696"
     },
     "user_tz": -60
    },
    "id": "T9kweMkU4o3X",
    "outputId": "14f8ba9f-c787-4ae5-ce67-ad1d05ea8355"
   },
   "outputs": [
    {
     "data": {
      "text/html": [
       "<div>\n",
       "<style scoped>\n",
       "    .dataframe tbody tr th:only-of-type {\n",
       "        vertical-align: middle;\n",
       "    }\n",
       "\n",
       "    .dataframe tbody tr th {\n",
       "        vertical-align: top;\n",
       "    }\n",
       "\n",
       "    .dataframe thead th {\n",
       "        text-align: right;\n",
       "    }\n",
       "</style>\n",
       "<table border=\"1\" class=\"dataframe\">\n",
       "  <thead>\n",
       "    <tr style=\"text-align: right;\">\n",
       "      <th></th>\n",
       "      <th>Id</th>\n",
       "      <th>CreationDate</th>\n",
       "      <th>Score</th>\n",
       "      <th>ViewCount</th>\n",
       "      <th>AnswerCount</th>\n",
       "      <th>CommentCount</th>\n",
       "      <th>FavoriteCount</th>\n",
       "      <th>Title</th>\n",
       "      <th>Body</th>\n",
       "      <th>Tags</th>\n",
       "    </tr>\n",
       "  </thead>\n",
       "  <tbody>\n",
       "    <tr>\n",
       "      <th>0</th>\n",
       "      <td>54201469</td>\n",
       "      <td>2019-01-15 15:00:28</td>\n",
       "      <td>13</td>\n",
       "      <td>3631</td>\n",
       "      <td>1</td>\n",
       "      <td>2</td>\n",
       "      <td>1</td>\n",
       "      <td>How to isolate Vuetify global styles</td>\n",
       "      <td>&lt;p&gt;I've started to use Vue.js with Vuetify wit...</td>\n",
       "      <td>[css, vue.js, vuetify.js]</td>\n",
       "    </tr>\n",
       "    <tr>\n",
       "      <th>1</th>\n",
       "      <td>63783524</td>\n",
       "      <td>2020-09-07 19:56:06</td>\n",
       "      <td>1</td>\n",
       "      <td>492</td>\n",
       "      <td>1</td>\n",
       "      <td>7</td>\n",
       "      <td>1</td>\n",
       "      <td>PyInstaller  UnicodeDecodeError   utf    codec...</td>\n",
       "      <td>&lt;p&gt;I was trying to convert my project to the e...</td>\n",
       "      <td>[python, pyinstaller]</td>\n",
       "    </tr>\n",
       "    <tr>\n",
       "      <th>2</th>\n",
       "      <td>57715829</td>\n",
       "      <td>2019-08-29 18:17:50</td>\n",
       "      <td>11</td>\n",
       "      <td>5542</td>\n",
       "      <td>3</td>\n",
       "      <td>3</td>\n",
       "      <td>1</td>\n",
       "      <td>Exposing to public more than   port with AWS E...</td>\n",
       "      <td>&lt;p&gt;I have service that exposes multiple ports ...</td>\n",
       "      <td>[amazon-web-services, amazon-ecs]</td>\n",
       "    </tr>\n",
       "    <tr>\n",
       "      <th>3</th>\n",
       "      <td>63552490</td>\n",
       "      <td>2020-08-23 22:09:19</td>\n",
       "      <td>1</td>\n",
       "      <td>793</td>\n",
       "      <td>1</td>\n",
       "      <td>0</td>\n",
       "      <td>1</td>\n",
       "      <td>Deploy ReactJs   MySQL   NodeJs Express project</td>\n",
       "      <td>&lt;p&gt;I'm newbie on ReactJs and NodeJs. Before us...</td>\n",
       "      <td>[node.js, reactjs, deployment]</td>\n",
       "    </tr>\n",
       "    <tr>\n",
       "      <th>4</th>\n",
       "      <td>61202493</td>\n",
       "      <td>2020-04-14 07:17:35</td>\n",
       "      <td>0</td>\n",
       "      <td>872</td>\n",
       "      <td>1</td>\n",
       "      <td>0</td>\n",
       "      <td>1</td>\n",
       "      <td>Change Currency code and amount according to u...</td>\n",
       "      <td>&lt;pre&gt;&lt;code&gt;const session = stripe.checkout.ses...</td>\n",
       "      <td>[javascript, node.js, stripe-payments]</td>\n",
       "    </tr>\n",
       "    <tr>\n",
       "      <th>...</th>\n",
       "      <td>...</td>\n",
       "      <td>...</td>\n",
       "      <td>...</td>\n",
       "      <td>...</td>\n",
       "      <td>...</td>\n",
       "      <td>...</td>\n",
       "      <td>...</td>\n",
       "      <td>...</td>\n",
       "      <td>...</td>\n",
       "      <td>...</td>\n",
       "    </tr>\n",
       "    <tr>\n",
       "      <th>47691</th>\n",
       "      <td>54936080</td>\n",
       "      <td>2019-02-28 23:57:37</td>\n",
       "      <td>7</td>\n",
       "      <td>3932</td>\n",
       "      <td>1</td>\n",
       "      <td>0</td>\n",
       "      <td>2</td>\n",
       "      <td>Refreshing auth token with Moya</td>\n",
       "      <td>&lt;p&gt;I'm using &lt;a href=\"https://github.com/Moya/...</td>\n",
       "      <td>[swift]</td>\n",
       "    </tr>\n",
       "    <tr>\n",
       "      <th>47692</th>\n",
       "      <td>58265103</td>\n",
       "      <td>2019-10-07 07:23:16</td>\n",
       "      <td>1</td>\n",
       "      <td>2856</td>\n",
       "      <td>1</td>\n",
       "      <td>1</td>\n",
       "      <td>1</td>\n",
       "      <td>How to filter search Element UI table with sep...</td>\n",
       "      <td>&lt;p&gt;I'm building a Element table in Vue (&lt;a hre...</td>\n",
       "      <td>[vue.js, vuejs2]</td>\n",
       "    </tr>\n",
       "    <tr>\n",
       "      <th>47693</th>\n",
       "      <td>54047430</td>\n",
       "      <td>2019-01-04 23:16:03</td>\n",
       "      <td>7</td>\n",
       "      <td>1793</td>\n",
       "      <td>1</td>\n",
       "      <td>4</td>\n",
       "      <td>1</td>\n",
       "      <td>In Angular    how to get access to dynamically...</td>\n",
       "      <td>&lt;p&gt;I am developing an Ionic + Angular 5 projec...</td>\n",
       "      <td>[javascript, angular, typescript, ionic-framew...</td>\n",
       "    </tr>\n",
       "    <tr>\n",
       "      <th>47694</th>\n",
       "      <td>56722921</td>\n",
       "      <td>2019-06-23 10:20:23</td>\n",
       "      <td>3</td>\n",
       "      <td>1168</td>\n",
       "      <td>1</td>\n",
       "      <td>0</td>\n",
       "      <td>1</td>\n",
       "      <td>How to fix ERROR ITMS       StickerPackExtensi...</td>\n",
       "      <td>&lt;p&gt;Using &lt;strong&gt;XCode 10.2.1&lt;/strong&gt;&lt;/p&gt;\\n\\n...</td>\n",
       "      <td>[xcode]</td>\n",
       "    </tr>\n",
       "    <tr>\n",
       "      <th>47695</th>\n",
       "      <td>59811400</td>\n",
       "      <td>2020-01-19 15:12:08</td>\n",
       "      <td>0</td>\n",
       "      <td>4242</td>\n",
       "      <td>0</td>\n",
       "      <td>4</td>\n",
       "      <td>1</td>\n",
       "      <td>Select values from Presto column that contains...</td>\n",
       "      <td>&lt;p&gt;Desired output is somewhat reversed version...</td>\n",
       "      <td>[sql]</td>\n",
       "    </tr>\n",
       "  </tbody>\n",
       "</table>\n",
       "<p>47696 rows × 10 columns</p>\n",
       "</div>"
      ],
      "text/plain": [
       "             Id         CreationDate  Score  ViewCount  AnswerCount  \\\n",
       "0      54201469  2019-01-15 15:00:28     13       3631            1   \n",
       "1      63783524  2020-09-07 19:56:06      1        492            1   \n",
       "2      57715829  2019-08-29 18:17:50     11       5542            3   \n",
       "3      63552490  2020-08-23 22:09:19      1        793            1   \n",
       "4      61202493  2020-04-14 07:17:35      0        872            1   \n",
       "...         ...                  ...    ...        ...          ...   \n",
       "47691  54936080  2019-02-28 23:57:37      7       3932            1   \n",
       "47692  58265103  2019-10-07 07:23:16      1       2856            1   \n",
       "47693  54047430  2019-01-04 23:16:03      7       1793            1   \n",
       "47694  56722921  2019-06-23 10:20:23      3       1168            1   \n",
       "47695  59811400  2020-01-19 15:12:08      0       4242            0   \n",
       "\n",
       "       CommentCount  FavoriteCount  \\\n",
       "0                 2              1   \n",
       "1                 7              1   \n",
       "2                 3              1   \n",
       "3                 0              1   \n",
       "4                 0              1   \n",
       "...             ...            ...   \n",
       "47691             0              2   \n",
       "47692             1              1   \n",
       "47693             4              1   \n",
       "47694             0              1   \n",
       "47695             4              1   \n",
       "\n",
       "                                                   Title  \\\n",
       "0                   How to isolate Vuetify global styles   \n",
       "1      PyInstaller  UnicodeDecodeError   utf    codec...   \n",
       "2      Exposing to public more than   port with AWS E...   \n",
       "3        Deploy ReactJs   MySQL   NodeJs Express project   \n",
       "4      Change Currency code and amount according to u...   \n",
       "...                                                  ...   \n",
       "47691                    Refreshing auth token with Moya   \n",
       "47692  How to filter search Element UI table with sep...   \n",
       "47693  In Angular    how to get access to dynamically...   \n",
       "47694  How to fix ERROR ITMS       StickerPackExtensi...   \n",
       "47695  Select values from Presto column that contains...   \n",
       "\n",
       "                                                    Body  \\\n",
       "0      <p>I've started to use Vue.js with Vuetify wit...   \n",
       "1      <p>I was trying to convert my project to the e...   \n",
       "2      <p>I have service that exposes multiple ports ...   \n",
       "3      <p>I'm newbie on ReactJs and NodeJs. Before us...   \n",
       "4      <pre><code>const session = stripe.checkout.ses...   \n",
       "...                                                  ...   \n",
       "47691  <p>I'm using <a href=\"https://github.com/Moya/...   \n",
       "47692  <p>I'm building a Element table in Vue (<a hre...   \n",
       "47693  <p>I am developing an Ionic + Angular 5 projec...   \n",
       "47694  <p>Using <strong>XCode 10.2.1</strong></p>\\n\\n...   \n",
       "47695  <p>Desired output is somewhat reversed version...   \n",
       "\n",
       "                                                    Tags  \n",
       "0                              [css, vue.js, vuetify.js]  \n",
       "1                                  [python, pyinstaller]  \n",
       "2                      [amazon-web-services, amazon-ecs]  \n",
       "3                         [node.js, reactjs, deployment]  \n",
       "4                 [javascript, node.js, stripe-payments]  \n",
       "...                                                  ...  \n",
       "47691                                            [swift]  \n",
       "47692                                   [vue.js, vuejs2]  \n",
       "47693  [javascript, angular, typescript, ionic-framew...  \n",
       "47694                                            [xcode]  \n",
       "47695                                              [sql]  \n",
       "\n",
       "[47696 rows x 10 columns]"
      ]
     },
     "execution_count": 24,
     "metadata": {},
     "output_type": "execute_result"
    }
   ],
   "source": [
    "db"
   ]
  },
  {
   "cell_type": "code",
   "execution_count": 25,
   "metadata": {
    "id": "9veFi6J64o3X"
   },
   "outputs": [],
   "source": [
    "# This tokenizer, makes tokens, put tokens in lower case and remove punctuations\n",
    "db['Title'] = db['Title'].apply(lambda x: tokenizer(x))"
   ]
  },
  {
   "cell_type": "code",
   "execution_count": 26,
   "metadata": {
    "colab": {
     "base_uri": "https://localhost:8080/"
    },
    "executionInfo": {
     "elapsed": 14,
     "status": "ok",
     "timestamp": 1637245591448,
     "user": {
      "displayName": "Alexandre Taillard de Vorms",
      "photoUrl": "https://lh3.googleusercontent.com/a/default-user=s64",
      "userId": "17158358651987272696"
     },
     "user_tz": -60
    },
    "id": "x4A594f44o3Y",
    "outputId": "b13deead-6945-40d0-dd90-192198a7d386"
   },
   "outputs": [
    {
     "data": {
      "text/html": [
       "<div>\n",
       "<style scoped>\n",
       "    .dataframe tbody tr th:only-of-type {\n",
       "        vertical-align: middle;\n",
       "    }\n",
       "\n",
       "    .dataframe tbody tr th {\n",
       "        vertical-align: top;\n",
       "    }\n",
       "\n",
       "    .dataframe thead th {\n",
       "        text-align: right;\n",
       "    }\n",
       "</style>\n",
       "<table border=\"1\" class=\"dataframe\">\n",
       "  <thead>\n",
       "    <tr style=\"text-align: right;\">\n",
       "      <th></th>\n",
       "      <th>Id</th>\n",
       "      <th>CreationDate</th>\n",
       "      <th>Score</th>\n",
       "      <th>ViewCount</th>\n",
       "      <th>AnswerCount</th>\n",
       "      <th>CommentCount</th>\n",
       "      <th>FavoriteCount</th>\n",
       "      <th>Title</th>\n",
       "      <th>Body</th>\n",
       "      <th>Tags</th>\n",
       "    </tr>\n",
       "  </thead>\n",
       "  <tbody>\n",
       "    <tr>\n",
       "      <th>0</th>\n",
       "      <td>54201469</td>\n",
       "      <td>2019-01-15 15:00:28</td>\n",
       "      <td>13</td>\n",
       "      <td>3631</td>\n",
       "      <td>1</td>\n",
       "      <td>2</td>\n",
       "      <td>1</td>\n",
       "      <td>[how, to, isolate, vuetify, global, styles]</td>\n",
       "      <td>&lt;p&gt;I've started to use Vue.js with Vuetify wit...</td>\n",
       "      <td>[css, vue.js, vuetify.js]</td>\n",
       "    </tr>\n",
       "    <tr>\n",
       "      <th>1</th>\n",
       "      <td>63783524</td>\n",
       "      <td>2020-09-07 19:56:06</td>\n",
       "      <td>1</td>\n",
       "      <td>492</td>\n",
       "      <td>1</td>\n",
       "      <td>7</td>\n",
       "      <td>1</td>\n",
       "      <td>[pyinstaller, unicodedecodeerror, utf, codec, ...</td>\n",
       "      <td>&lt;p&gt;I was trying to convert my project to the e...</td>\n",
       "      <td>[python, pyinstaller]</td>\n",
       "    </tr>\n",
       "    <tr>\n",
       "      <th>2</th>\n",
       "      <td>57715829</td>\n",
       "      <td>2019-08-29 18:17:50</td>\n",
       "      <td>11</td>\n",
       "      <td>5542</td>\n",
       "      <td>3</td>\n",
       "      <td>3</td>\n",
       "      <td>1</td>\n",
       "      <td>[exposing, to, public, more, than, port, with,...</td>\n",
       "      <td>&lt;p&gt;I have service that exposes multiple ports ...</td>\n",
       "      <td>[amazon-web-services, amazon-ecs]</td>\n",
       "    </tr>\n",
       "    <tr>\n",
       "      <th>3</th>\n",
       "      <td>63552490</td>\n",
       "      <td>2020-08-23 22:09:19</td>\n",
       "      <td>1</td>\n",
       "      <td>793</td>\n",
       "      <td>1</td>\n",
       "      <td>0</td>\n",
       "      <td>1</td>\n",
       "      <td>[deploy, reactjs, mysql, nodejs, express, proj...</td>\n",
       "      <td>&lt;p&gt;I'm newbie on ReactJs and NodeJs. Before us...</td>\n",
       "      <td>[node.js, reactjs, deployment]</td>\n",
       "    </tr>\n",
       "    <tr>\n",
       "      <th>4</th>\n",
       "      <td>61202493</td>\n",
       "      <td>2020-04-14 07:17:35</td>\n",
       "      <td>0</td>\n",
       "      <td>872</td>\n",
       "      <td>1</td>\n",
       "      <td>0</td>\n",
       "      <td>1</td>\n",
       "      <td>[change, currency, code, and, amount, accordin...</td>\n",
       "      <td>&lt;pre&gt;&lt;code&gt;const session = stripe.checkout.ses...</td>\n",
       "      <td>[javascript, node.js, stripe-payments]</td>\n",
       "    </tr>\n",
       "    <tr>\n",
       "      <th>...</th>\n",
       "      <td>...</td>\n",
       "      <td>...</td>\n",
       "      <td>...</td>\n",
       "      <td>...</td>\n",
       "      <td>...</td>\n",
       "      <td>...</td>\n",
       "      <td>...</td>\n",
       "      <td>...</td>\n",
       "      <td>...</td>\n",
       "      <td>...</td>\n",
       "    </tr>\n",
       "    <tr>\n",
       "      <th>47691</th>\n",
       "      <td>54936080</td>\n",
       "      <td>2019-02-28 23:57:37</td>\n",
       "      <td>7</td>\n",
       "      <td>3932</td>\n",
       "      <td>1</td>\n",
       "      <td>0</td>\n",
       "      <td>2</td>\n",
       "      <td>[refreshing, auth, token, with, moya]</td>\n",
       "      <td>&lt;p&gt;I'm using &lt;a href=\"https://github.com/Moya/...</td>\n",
       "      <td>[swift]</td>\n",
       "    </tr>\n",
       "    <tr>\n",
       "      <th>47692</th>\n",
       "      <td>58265103</td>\n",
       "      <td>2019-10-07 07:23:16</td>\n",
       "      <td>1</td>\n",
       "      <td>2856</td>\n",
       "      <td>1</td>\n",
       "      <td>1</td>\n",
       "      <td>1</td>\n",
       "      <td>[how, to, filter, search, element, ui, table, ...</td>\n",
       "      <td>&lt;p&gt;I'm building a Element table in Vue (&lt;a hre...</td>\n",
       "      <td>[vue.js, vuejs2]</td>\n",
       "    </tr>\n",
       "    <tr>\n",
       "      <th>47693</th>\n",
       "      <td>54047430</td>\n",
       "      <td>2019-01-04 23:16:03</td>\n",
       "      <td>7</td>\n",
       "      <td>1793</td>\n",
       "      <td>1</td>\n",
       "      <td>4</td>\n",
       "      <td>1</td>\n",
       "      <td>[in, angular, how, to, get, access, to, dynami...</td>\n",
       "      <td>&lt;p&gt;I am developing an Ionic + Angular 5 projec...</td>\n",
       "      <td>[javascript, angular, typescript, ionic-framew...</td>\n",
       "    </tr>\n",
       "    <tr>\n",
       "      <th>47694</th>\n",
       "      <td>56722921</td>\n",
       "      <td>2019-06-23 10:20:23</td>\n",
       "      <td>3</td>\n",
       "      <td>1168</td>\n",
       "      <td>1</td>\n",
       "      <td>0</td>\n",
       "      <td>1</td>\n",
       "      <td>[how, to, fix, error, itms, stickerpackextensi...</td>\n",
       "      <td>&lt;p&gt;Using &lt;strong&gt;XCode 10.2.1&lt;/strong&gt;&lt;/p&gt;\\n\\n...</td>\n",
       "      <td>[xcode]</td>\n",
       "    </tr>\n",
       "    <tr>\n",
       "      <th>47695</th>\n",
       "      <td>59811400</td>\n",
       "      <td>2020-01-19 15:12:08</td>\n",
       "      <td>0</td>\n",
       "      <td>4242</td>\n",
       "      <td>0</td>\n",
       "      <td>4</td>\n",
       "      <td>1</td>\n",
       "      <td>[select, values, from, presto, column, that, c...</td>\n",
       "      <td>&lt;p&gt;Desired output is somewhat reversed version...</td>\n",
       "      <td>[sql]</td>\n",
       "    </tr>\n",
       "  </tbody>\n",
       "</table>\n",
       "<p>47696 rows × 10 columns</p>\n",
       "</div>"
      ],
      "text/plain": [
       "             Id         CreationDate  Score  ViewCount  AnswerCount  \\\n",
       "0      54201469  2019-01-15 15:00:28     13       3631            1   \n",
       "1      63783524  2020-09-07 19:56:06      1        492            1   \n",
       "2      57715829  2019-08-29 18:17:50     11       5542            3   \n",
       "3      63552490  2020-08-23 22:09:19      1        793            1   \n",
       "4      61202493  2020-04-14 07:17:35      0        872            1   \n",
       "...         ...                  ...    ...        ...          ...   \n",
       "47691  54936080  2019-02-28 23:57:37      7       3932            1   \n",
       "47692  58265103  2019-10-07 07:23:16      1       2856            1   \n",
       "47693  54047430  2019-01-04 23:16:03      7       1793            1   \n",
       "47694  56722921  2019-06-23 10:20:23      3       1168            1   \n",
       "47695  59811400  2020-01-19 15:12:08      0       4242            0   \n",
       "\n",
       "       CommentCount  FavoriteCount  \\\n",
       "0                 2              1   \n",
       "1                 7              1   \n",
       "2                 3              1   \n",
       "3                 0              1   \n",
       "4                 0              1   \n",
       "...             ...            ...   \n",
       "47691             0              2   \n",
       "47692             1              1   \n",
       "47693             4              1   \n",
       "47694             0              1   \n",
       "47695             4              1   \n",
       "\n",
       "                                                   Title  \\\n",
       "0            [how, to, isolate, vuetify, global, styles]   \n",
       "1      [pyinstaller, unicodedecodeerror, utf, codec, ...   \n",
       "2      [exposing, to, public, more, than, port, with,...   \n",
       "3      [deploy, reactjs, mysql, nodejs, express, proj...   \n",
       "4      [change, currency, code, and, amount, accordin...   \n",
       "...                                                  ...   \n",
       "47691              [refreshing, auth, token, with, moya]   \n",
       "47692  [how, to, filter, search, element, ui, table, ...   \n",
       "47693  [in, angular, how, to, get, access, to, dynami...   \n",
       "47694  [how, to, fix, error, itms, stickerpackextensi...   \n",
       "47695  [select, values, from, presto, column, that, c...   \n",
       "\n",
       "                                                    Body  \\\n",
       "0      <p>I've started to use Vue.js with Vuetify wit...   \n",
       "1      <p>I was trying to convert my project to the e...   \n",
       "2      <p>I have service that exposes multiple ports ...   \n",
       "3      <p>I'm newbie on ReactJs and NodeJs. Before us...   \n",
       "4      <pre><code>const session = stripe.checkout.ses...   \n",
       "...                                                  ...   \n",
       "47691  <p>I'm using <a href=\"https://github.com/Moya/...   \n",
       "47692  <p>I'm building a Element table in Vue (<a hre...   \n",
       "47693  <p>I am developing an Ionic + Angular 5 projec...   \n",
       "47694  <p>Using <strong>XCode 10.2.1</strong></p>\\n\\n...   \n",
       "47695  <p>Desired output is somewhat reversed version...   \n",
       "\n",
       "                                                    Tags  \n",
       "0                              [css, vue.js, vuetify.js]  \n",
       "1                                  [python, pyinstaller]  \n",
       "2                      [amazon-web-services, amazon-ecs]  \n",
       "3                         [node.js, reactjs, deployment]  \n",
       "4                 [javascript, node.js, stripe-payments]  \n",
       "...                                                  ...  \n",
       "47691                                            [swift]  \n",
       "47692                                   [vue.js, vuejs2]  \n",
       "47693  [javascript, angular, typescript, ionic-framew...  \n",
       "47694                                            [xcode]  \n",
       "47695                                              [sql]  \n",
       "\n",
       "[47696 rows x 10 columns]"
      ]
     },
     "execution_count": 26,
     "metadata": {},
     "output_type": "execute_result"
    }
   ],
   "source": [
    "db"
   ]
  },
  {
   "cell_type": "code",
   "execution_count": 27,
   "metadata": {
    "id": "ZAizdtCI4o3Y"
   },
   "outputs": [],
   "source": [
    "db['Title'] = db['Title'].apply(lambda x:stop_words_check(x,stop_words))"
   ]
  },
  {
   "cell_type": "code",
   "execution_count": 28,
   "metadata": {
    "colab": {
     "base_uri": "https://localhost:8080/"
    },
    "executionInfo": {
     "elapsed": 12,
     "status": "ok",
     "timestamp": 1637245591449,
     "user": {
      "displayName": "Alexandre Taillard de Vorms",
      "photoUrl": "https://lh3.googleusercontent.com/a/default-user=s64",
      "userId": "17158358651987272696"
     },
     "user_tz": -60
    },
    "id": "_dZ5_x6U4o3Y",
    "outputId": "503e3a21-a900-48b4-fa9b-f254efdb7e38",
    "scrolled": true
   },
   "outputs": [
    {
     "data": {
      "text/html": [
       "<div>\n",
       "<style scoped>\n",
       "    .dataframe tbody tr th:only-of-type {\n",
       "        vertical-align: middle;\n",
       "    }\n",
       "\n",
       "    .dataframe tbody tr th {\n",
       "        vertical-align: top;\n",
       "    }\n",
       "\n",
       "    .dataframe thead th {\n",
       "        text-align: right;\n",
       "    }\n",
       "</style>\n",
       "<table border=\"1\" class=\"dataframe\">\n",
       "  <thead>\n",
       "    <tr style=\"text-align: right;\">\n",
       "      <th></th>\n",
       "      <th>Id</th>\n",
       "      <th>CreationDate</th>\n",
       "      <th>Score</th>\n",
       "      <th>ViewCount</th>\n",
       "      <th>AnswerCount</th>\n",
       "      <th>CommentCount</th>\n",
       "      <th>FavoriteCount</th>\n",
       "      <th>Title</th>\n",
       "      <th>Body</th>\n",
       "      <th>Tags</th>\n",
       "    </tr>\n",
       "  </thead>\n",
       "  <tbody>\n",
       "    <tr>\n",
       "      <th>0</th>\n",
       "      <td>54201469</td>\n",
       "      <td>2019-01-15 15:00:28</td>\n",
       "      <td>13</td>\n",
       "      <td>3631</td>\n",
       "      <td>1</td>\n",
       "      <td>2</td>\n",
       "      <td>1</td>\n",
       "      <td>[isolate, vuetify, global, styles]</td>\n",
       "      <td>&lt;p&gt;I've started to use Vue.js with Vuetify wit...</td>\n",
       "      <td>[css, vue.js, vuetify.js]</td>\n",
       "    </tr>\n",
       "    <tr>\n",
       "      <th>1</th>\n",
       "      <td>63783524</td>\n",
       "      <td>2020-09-07 19:56:06</td>\n",
       "      <td>1</td>\n",
       "      <td>492</td>\n",
       "      <td>1</td>\n",
       "      <td>7</td>\n",
       "      <td>1</td>\n",
       "      <td>[pyinstaller, unicodedecodeerror, utf, codec, ...</td>\n",
       "      <td>&lt;p&gt;I was trying to convert my project to the e...</td>\n",
       "      <td>[python, pyinstaller]</td>\n",
       "    </tr>\n",
       "    <tr>\n",
       "      <th>2</th>\n",
       "      <td>57715829</td>\n",
       "      <td>2019-08-29 18:17:50</td>\n",
       "      <td>11</td>\n",
       "      <td>5542</td>\n",
       "      <td>3</td>\n",
       "      <td>3</td>\n",
       "      <td>1</td>\n",
       "      <td>[exposing, public, port, aws, ecs, service, el...</td>\n",
       "      <td>&lt;p&gt;I have service that exposes multiple ports ...</td>\n",
       "      <td>[amazon-web-services, amazon-ecs]</td>\n",
       "    </tr>\n",
       "    <tr>\n",
       "      <th>3</th>\n",
       "      <td>63552490</td>\n",
       "      <td>2020-08-23 22:09:19</td>\n",
       "      <td>1</td>\n",
       "      <td>793</td>\n",
       "      <td>1</td>\n",
       "      <td>0</td>\n",
       "      <td>1</td>\n",
       "      <td>[deploy, reactjs, mysql, nodejs, express, proj...</td>\n",
       "      <td>&lt;p&gt;I'm newbie on ReactJs and NodeJs. Before us...</td>\n",
       "      <td>[node.js, reactjs, deployment]</td>\n",
       "    </tr>\n",
       "    <tr>\n",
       "      <th>4</th>\n",
       "      <td>61202493</td>\n",
       "      <td>2020-04-14 07:17:35</td>\n",
       "      <td>0</td>\n",
       "      <td>872</td>\n",
       "      <td>1</td>\n",
       "      <td>0</td>\n",
       "      <td>1</td>\n",
       "      <td>[change, currency, code, amount, according, us...</td>\n",
       "      <td>&lt;pre&gt;&lt;code&gt;const session = stripe.checkout.ses...</td>\n",
       "      <td>[javascript, node.js, stripe-payments]</td>\n",
       "    </tr>\n",
       "    <tr>\n",
       "      <th>...</th>\n",
       "      <td>...</td>\n",
       "      <td>...</td>\n",
       "      <td>...</td>\n",
       "      <td>...</td>\n",
       "      <td>...</td>\n",
       "      <td>...</td>\n",
       "      <td>...</td>\n",
       "      <td>...</td>\n",
       "      <td>...</td>\n",
       "      <td>...</td>\n",
       "    </tr>\n",
       "    <tr>\n",
       "      <th>47691</th>\n",
       "      <td>54936080</td>\n",
       "      <td>2019-02-28 23:57:37</td>\n",
       "      <td>7</td>\n",
       "      <td>3932</td>\n",
       "      <td>1</td>\n",
       "      <td>0</td>\n",
       "      <td>2</td>\n",
       "      <td>[refreshing, auth, token, moya]</td>\n",
       "      <td>&lt;p&gt;I'm using &lt;a href=\"https://github.com/Moya/...</td>\n",
       "      <td>[swift]</td>\n",
       "    </tr>\n",
       "    <tr>\n",
       "      <th>47692</th>\n",
       "      <td>58265103</td>\n",
       "      <td>2019-10-07 07:23:16</td>\n",
       "      <td>1</td>\n",
       "      <td>2856</td>\n",
       "      <td>1</td>\n",
       "      <td>1</td>\n",
       "      <td>1</td>\n",
       "      <td>[filter, search, element, table, separate, fun...</td>\n",
       "      <td>&lt;p&gt;I'm building a Element table in Vue (&lt;a hre...</td>\n",
       "      <td>[vue.js, vuejs2]</td>\n",
       "    </tr>\n",
       "    <tr>\n",
       "      <th>47693</th>\n",
       "      <td>54047430</td>\n",
       "      <td>2019-01-04 23:16:03</td>\n",
       "      <td>7</td>\n",
       "      <td>1793</td>\n",
       "      <td>1</td>\n",
       "      <td>4</td>\n",
       "      <td>1</td>\n",
       "      <td>[angular, get, access, dynamically, added, chi...</td>\n",
       "      <td>&lt;p&gt;I am developing an Ionic + Angular 5 projec...</td>\n",
       "      <td>[javascript, angular, typescript, ionic-framew...</td>\n",
       "    </tr>\n",
       "    <tr>\n",
       "      <th>47694</th>\n",
       "      <td>56722921</td>\n",
       "      <td>2019-06-23 10:20:23</td>\n",
       "      <td>3</td>\n",
       "      <td>1168</td>\n",
       "      <td>1</td>\n",
       "      <td>0</td>\n",
       "      <td>1</td>\n",
       "      <td>[fix, error, itms, stickerpackextension, appex...</td>\n",
       "      <td>&lt;p&gt;Using &lt;strong&gt;XCode 10.2.1&lt;/strong&gt;&lt;/p&gt;\\n\\n...</td>\n",
       "      <td>[xcode]</td>\n",
       "    </tr>\n",
       "    <tr>\n",
       "      <th>47695</th>\n",
       "      <td>59811400</td>\n",
       "      <td>2020-01-19 15:12:08</td>\n",
       "      <td>0</td>\n",
       "      <td>4242</td>\n",
       "      <td>0</td>\n",
       "      <td>4</td>\n",
       "      <td>1</td>\n",
       "      <td>[select, values, presto, column, contains, ele...</td>\n",
       "      <td>&lt;p&gt;Desired output is somewhat reversed version...</td>\n",
       "      <td>[sql]</td>\n",
       "    </tr>\n",
       "  </tbody>\n",
       "</table>\n",
       "<p>47696 rows × 10 columns</p>\n",
       "</div>"
      ],
      "text/plain": [
       "             Id         CreationDate  Score  ViewCount  AnswerCount  \\\n",
       "0      54201469  2019-01-15 15:00:28     13       3631            1   \n",
       "1      63783524  2020-09-07 19:56:06      1        492            1   \n",
       "2      57715829  2019-08-29 18:17:50     11       5542            3   \n",
       "3      63552490  2020-08-23 22:09:19      1        793            1   \n",
       "4      61202493  2020-04-14 07:17:35      0        872            1   \n",
       "...         ...                  ...    ...        ...          ...   \n",
       "47691  54936080  2019-02-28 23:57:37      7       3932            1   \n",
       "47692  58265103  2019-10-07 07:23:16      1       2856            1   \n",
       "47693  54047430  2019-01-04 23:16:03      7       1793            1   \n",
       "47694  56722921  2019-06-23 10:20:23      3       1168            1   \n",
       "47695  59811400  2020-01-19 15:12:08      0       4242            0   \n",
       "\n",
       "       CommentCount  FavoriteCount  \\\n",
       "0                 2              1   \n",
       "1                 7              1   \n",
       "2                 3              1   \n",
       "3                 0              1   \n",
       "4                 0              1   \n",
       "...             ...            ...   \n",
       "47691             0              2   \n",
       "47692             1              1   \n",
       "47693             4              1   \n",
       "47694             0              1   \n",
       "47695             4              1   \n",
       "\n",
       "                                                   Title  \\\n",
       "0                     [isolate, vuetify, global, styles]   \n",
       "1      [pyinstaller, unicodedecodeerror, utf, codec, ...   \n",
       "2      [exposing, public, port, aws, ecs, service, el...   \n",
       "3      [deploy, reactjs, mysql, nodejs, express, proj...   \n",
       "4      [change, currency, code, amount, according, us...   \n",
       "...                                                  ...   \n",
       "47691                    [refreshing, auth, token, moya]   \n",
       "47692  [filter, search, element, table, separate, fun...   \n",
       "47693  [angular, get, access, dynamically, added, chi...   \n",
       "47694  [fix, error, itms, stickerpackextension, appex...   \n",
       "47695  [select, values, presto, column, contains, ele...   \n",
       "\n",
       "                                                    Body  \\\n",
       "0      <p>I've started to use Vue.js with Vuetify wit...   \n",
       "1      <p>I was trying to convert my project to the e...   \n",
       "2      <p>I have service that exposes multiple ports ...   \n",
       "3      <p>I'm newbie on ReactJs and NodeJs. Before us...   \n",
       "4      <pre><code>const session = stripe.checkout.ses...   \n",
       "...                                                  ...   \n",
       "47691  <p>I'm using <a href=\"https://github.com/Moya/...   \n",
       "47692  <p>I'm building a Element table in Vue (<a hre...   \n",
       "47693  <p>I am developing an Ionic + Angular 5 projec...   \n",
       "47694  <p>Using <strong>XCode 10.2.1</strong></p>\\n\\n...   \n",
       "47695  <p>Desired output is somewhat reversed version...   \n",
       "\n",
       "                                                    Tags  \n",
       "0                              [css, vue.js, vuetify.js]  \n",
       "1                                  [python, pyinstaller]  \n",
       "2                      [amazon-web-services, amazon-ecs]  \n",
       "3                         [node.js, reactjs, deployment]  \n",
       "4                 [javascript, node.js, stripe-payments]  \n",
       "...                                                  ...  \n",
       "47691                                            [swift]  \n",
       "47692                                   [vue.js, vuejs2]  \n",
       "47693  [javascript, angular, typescript, ionic-framew...  \n",
       "47694                                            [xcode]  \n",
       "47695                                              [sql]  \n",
       "\n",
       "[47696 rows x 10 columns]"
      ]
     },
     "execution_count": 28,
     "metadata": {},
     "output_type": "execute_result"
    }
   ],
   "source": [
    "db"
   ]
  },
  {
   "cell_type": "markdown",
   "metadata": {
    "id": "Xqray4b54o3Y"
   },
   "source": [
    "<h4> Lemmatization\n",
    "         <a name=\"Lemma\">\n"
   ]
  },
  {
   "cell_type": "code",
   "execution_count": 29,
   "metadata": {
    "colab": {
     "base_uri": "https://localhost:8080/"
    },
    "executionInfo": {
     "elapsed": 407,
     "status": "ok",
     "timestamp": 1637245591846,
     "user": {
      "displayName": "Alexandre Taillard de Vorms",
      "photoUrl": "https://lh3.googleusercontent.com/a/default-user=s64",
      "userId": "17158358651987272696"
     },
     "user_tz": -60
    },
    "id": "0AeuhiOn4o3Y",
    "outputId": "4422401b-a9fc-4404-928e-070a3e080ae0"
   },
   "outputs": [
    {
     "name": "stderr",
     "output_type": "stream",
     "text": [
      "[nltk_data] Downloading package wordnet to /home/efkant/nltk_data...\n",
      "[nltk_data]   Package wordnet is already up-to-date!\n"
     ]
    }
   ],
   "source": [
    "from nltk.stem import WordNetLemmatizer\n",
    "nltk.download('wordnet')\n",
    "lemmatizer = WordNetLemmatizer()"
   ]
  },
  {
   "cell_type": "code",
   "execution_count": 30,
   "metadata": {
    "id": "MPjOFtte4o3Y"
   },
   "outputs": [],
   "source": [
    "def list_lemmatizer(list_to_lem):\n",
    "    return [lemmatizer.lemmatize(token, 'v') for token in list_to_lem]"
   ]
  },
  {
   "cell_type": "code",
   "execution_count": 31,
   "metadata": {
    "id": "uZ1346y24o3Y"
   },
   "outputs": [],
   "source": [
    "db['Title'] = db['Title'].apply(lambda x: list_lemmatizer(x))"
   ]
  },
  {
   "cell_type": "code",
   "execution_count": 32,
   "metadata": {
    "colab": {
     "base_uri": "https://localhost:8080/"
    },
    "executionInfo": {
     "elapsed": 24,
     "status": "ok",
     "timestamp": 1637245594017,
     "user": {
      "displayName": "Alexandre Taillard de Vorms",
      "photoUrl": "https://lh3.googleusercontent.com/a/default-user=s64",
      "userId": "17158358651987272696"
     },
     "user_tz": -60
    },
    "id": "GiEJH_Ys4o3Y",
    "outputId": "912c0c94-8b26-4bbd-e549-2bf661745c44"
   },
   "outputs": [
    {
     "data": {
      "text/html": [
       "<div>\n",
       "<style scoped>\n",
       "    .dataframe tbody tr th:only-of-type {\n",
       "        vertical-align: middle;\n",
       "    }\n",
       "\n",
       "    .dataframe tbody tr th {\n",
       "        vertical-align: top;\n",
       "    }\n",
       "\n",
       "    .dataframe thead th {\n",
       "        text-align: right;\n",
       "    }\n",
       "</style>\n",
       "<table border=\"1\" class=\"dataframe\">\n",
       "  <thead>\n",
       "    <tr style=\"text-align: right;\">\n",
       "      <th></th>\n",
       "      <th>Id</th>\n",
       "      <th>CreationDate</th>\n",
       "      <th>Score</th>\n",
       "      <th>ViewCount</th>\n",
       "      <th>AnswerCount</th>\n",
       "      <th>CommentCount</th>\n",
       "      <th>FavoriteCount</th>\n",
       "      <th>Title</th>\n",
       "      <th>Body</th>\n",
       "      <th>Tags</th>\n",
       "    </tr>\n",
       "  </thead>\n",
       "  <tbody>\n",
       "    <tr>\n",
       "      <th>0</th>\n",
       "      <td>54201469</td>\n",
       "      <td>2019-01-15 15:00:28</td>\n",
       "      <td>13</td>\n",
       "      <td>3631</td>\n",
       "      <td>1</td>\n",
       "      <td>2</td>\n",
       "      <td>1</td>\n",
       "      <td>[isolate, vuetify, global, style]</td>\n",
       "      <td>&lt;p&gt;I've started to use Vue.js with Vuetify wit...</td>\n",
       "      <td>[css, vue.js, vuetify.js]</td>\n",
       "    </tr>\n",
       "    <tr>\n",
       "      <th>1</th>\n",
       "      <td>63783524</td>\n",
       "      <td>2020-09-07 19:56:06</td>\n",
       "      <td>1</td>\n",
       "      <td>492</td>\n",
       "      <td>1</td>\n",
       "      <td>7</td>\n",
       "      <td>1</td>\n",
       "      <td>[pyinstaller, unicodedecodeerror, utf, codec, ...</td>\n",
       "      <td>&lt;p&gt;I was trying to convert my project to the e...</td>\n",
       "      <td>[python, pyinstaller]</td>\n",
       "    </tr>\n",
       "    <tr>\n",
       "      <th>2</th>\n",
       "      <td>57715829</td>\n",
       "      <td>2019-08-29 18:17:50</td>\n",
       "      <td>11</td>\n",
       "      <td>5542</td>\n",
       "      <td>3</td>\n",
       "      <td>3</td>\n",
       "      <td>1</td>\n",
       "      <td>[expose, public, port, aws, ecs, service, elas...</td>\n",
       "      <td>&lt;p&gt;I have service that exposes multiple ports ...</td>\n",
       "      <td>[amazon-web-services, amazon-ecs]</td>\n",
       "    </tr>\n",
       "    <tr>\n",
       "      <th>3</th>\n",
       "      <td>63552490</td>\n",
       "      <td>2020-08-23 22:09:19</td>\n",
       "      <td>1</td>\n",
       "      <td>793</td>\n",
       "      <td>1</td>\n",
       "      <td>0</td>\n",
       "      <td>1</td>\n",
       "      <td>[deploy, reactjs, mysql, nodejs, express, proj...</td>\n",
       "      <td>&lt;p&gt;I'm newbie on ReactJs and NodeJs. Before us...</td>\n",
       "      <td>[node.js, reactjs, deployment]</td>\n",
       "    </tr>\n",
       "    <tr>\n",
       "      <th>4</th>\n",
       "      <td>61202493</td>\n",
       "      <td>2020-04-14 07:17:35</td>\n",
       "      <td>0</td>\n",
       "      <td>872</td>\n",
       "      <td>1</td>\n",
       "      <td>0</td>\n",
       "      <td>1</td>\n",
       "      <td>[change, currency, code, amount, accord, user,...</td>\n",
       "      <td>&lt;pre&gt;&lt;code&gt;const session = stripe.checkout.ses...</td>\n",
       "      <td>[javascript, node.js, stripe-payments]</td>\n",
       "    </tr>\n",
       "    <tr>\n",
       "      <th>...</th>\n",
       "      <td>...</td>\n",
       "      <td>...</td>\n",
       "      <td>...</td>\n",
       "      <td>...</td>\n",
       "      <td>...</td>\n",
       "      <td>...</td>\n",
       "      <td>...</td>\n",
       "      <td>...</td>\n",
       "      <td>...</td>\n",
       "      <td>...</td>\n",
       "    </tr>\n",
       "    <tr>\n",
       "      <th>47691</th>\n",
       "      <td>54936080</td>\n",
       "      <td>2019-02-28 23:57:37</td>\n",
       "      <td>7</td>\n",
       "      <td>3932</td>\n",
       "      <td>1</td>\n",
       "      <td>0</td>\n",
       "      <td>2</td>\n",
       "      <td>[refresh, auth, token, moya]</td>\n",
       "      <td>&lt;p&gt;I'm using &lt;a href=\"https://github.com/Moya/...</td>\n",
       "      <td>[swift]</td>\n",
       "    </tr>\n",
       "    <tr>\n",
       "      <th>47692</th>\n",
       "      <td>58265103</td>\n",
       "      <td>2019-10-07 07:23:16</td>\n",
       "      <td>1</td>\n",
       "      <td>2856</td>\n",
       "      <td>1</td>\n",
       "      <td>1</td>\n",
       "      <td>1</td>\n",
       "      <td>[filter, search, element, table, separate, fun...</td>\n",
       "      <td>&lt;p&gt;I'm building a Element table in Vue (&lt;a hre...</td>\n",
       "      <td>[vue.js, vuejs2]</td>\n",
       "    </tr>\n",
       "    <tr>\n",
       "      <th>47693</th>\n",
       "      <td>54047430</td>\n",
       "      <td>2019-01-04 23:16:03</td>\n",
       "      <td>7</td>\n",
       "      <td>1793</td>\n",
       "      <td>1</td>\n",
       "      <td>4</td>\n",
       "      <td>1</td>\n",
       "      <td>[angular, get, access, dynamically, add, child...</td>\n",
       "      <td>&lt;p&gt;I am developing an Ionic + Angular 5 projec...</td>\n",
       "      <td>[javascript, angular, typescript, ionic-framew...</td>\n",
       "    </tr>\n",
       "    <tr>\n",
       "      <th>47694</th>\n",
       "      <td>56722921</td>\n",
       "      <td>2019-06-23 10:20:23</td>\n",
       "      <td>3</td>\n",
       "      <td>1168</td>\n",
       "      <td>1</td>\n",
       "      <td>0</td>\n",
       "      <td>1</td>\n",
       "      <td>[fix, error, itms, stickerpackextension, appex...</td>\n",
       "      <td>&lt;p&gt;Using &lt;strong&gt;XCode 10.2.1&lt;/strong&gt;&lt;/p&gt;\\n\\n...</td>\n",
       "      <td>[xcode]</td>\n",
       "    </tr>\n",
       "    <tr>\n",
       "      <th>47695</th>\n",
       "      <td>59811400</td>\n",
       "      <td>2020-01-19 15:12:08</td>\n",
       "      <td>0</td>\n",
       "      <td>4242</td>\n",
       "      <td>0</td>\n",
       "      <td>4</td>\n",
       "      <td>1</td>\n",
       "      <td>[select, value, presto, column, contain, eleme...</td>\n",
       "      <td>&lt;p&gt;Desired output is somewhat reversed version...</td>\n",
       "      <td>[sql]</td>\n",
       "    </tr>\n",
       "  </tbody>\n",
       "</table>\n",
       "<p>47696 rows × 10 columns</p>\n",
       "</div>"
      ],
      "text/plain": [
       "             Id         CreationDate  Score  ViewCount  AnswerCount  \\\n",
       "0      54201469  2019-01-15 15:00:28     13       3631            1   \n",
       "1      63783524  2020-09-07 19:56:06      1        492            1   \n",
       "2      57715829  2019-08-29 18:17:50     11       5542            3   \n",
       "3      63552490  2020-08-23 22:09:19      1        793            1   \n",
       "4      61202493  2020-04-14 07:17:35      0        872            1   \n",
       "...         ...                  ...    ...        ...          ...   \n",
       "47691  54936080  2019-02-28 23:57:37      7       3932            1   \n",
       "47692  58265103  2019-10-07 07:23:16      1       2856            1   \n",
       "47693  54047430  2019-01-04 23:16:03      7       1793            1   \n",
       "47694  56722921  2019-06-23 10:20:23      3       1168            1   \n",
       "47695  59811400  2020-01-19 15:12:08      0       4242            0   \n",
       "\n",
       "       CommentCount  FavoriteCount  \\\n",
       "0                 2              1   \n",
       "1                 7              1   \n",
       "2                 3              1   \n",
       "3                 0              1   \n",
       "4                 0              1   \n",
       "...             ...            ...   \n",
       "47691             0              2   \n",
       "47692             1              1   \n",
       "47693             4              1   \n",
       "47694             0              1   \n",
       "47695             4              1   \n",
       "\n",
       "                                                   Title  \\\n",
       "0                      [isolate, vuetify, global, style]   \n",
       "1      [pyinstaller, unicodedecodeerror, utf, codec, ...   \n",
       "2      [expose, public, port, aws, ecs, service, elas...   \n",
       "3      [deploy, reactjs, mysql, nodejs, express, proj...   \n",
       "4      [change, currency, code, amount, accord, user,...   \n",
       "...                                                  ...   \n",
       "47691                       [refresh, auth, token, moya]   \n",
       "47692  [filter, search, element, table, separate, fun...   \n",
       "47693  [angular, get, access, dynamically, add, child...   \n",
       "47694  [fix, error, itms, stickerpackextension, appex...   \n",
       "47695  [select, value, presto, column, contain, eleme...   \n",
       "\n",
       "                                                    Body  \\\n",
       "0      <p>I've started to use Vue.js with Vuetify wit...   \n",
       "1      <p>I was trying to convert my project to the e...   \n",
       "2      <p>I have service that exposes multiple ports ...   \n",
       "3      <p>I'm newbie on ReactJs and NodeJs. Before us...   \n",
       "4      <pre><code>const session = stripe.checkout.ses...   \n",
       "...                                                  ...   \n",
       "47691  <p>I'm using <a href=\"https://github.com/Moya/...   \n",
       "47692  <p>I'm building a Element table in Vue (<a hre...   \n",
       "47693  <p>I am developing an Ionic + Angular 5 projec...   \n",
       "47694  <p>Using <strong>XCode 10.2.1</strong></p>\\n\\n...   \n",
       "47695  <p>Desired output is somewhat reversed version...   \n",
       "\n",
       "                                                    Tags  \n",
       "0                              [css, vue.js, vuetify.js]  \n",
       "1                                  [python, pyinstaller]  \n",
       "2                      [amazon-web-services, amazon-ecs]  \n",
       "3                         [node.js, reactjs, deployment]  \n",
       "4                 [javascript, node.js, stripe-payments]  \n",
       "...                                                  ...  \n",
       "47691                                            [swift]  \n",
       "47692                                   [vue.js, vuejs2]  \n",
       "47693  [javascript, angular, typescript, ionic-framew...  \n",
       "47694                                            [xcode]  \n",
       "47695                                              [sql]  \n",
       "\n",
       "[47696 rows x 10 columns]"
      ]
     },
     "execution_count": 32,
     "metadata": {},
     "output_type": "execute_result"
    }
   ],
   "source": [
    "db"
   ]
  },
  {
   "cell_type": "code",
   "execution_count": 33,
   "metadata": {
    "id": "eFZ0d12R4o3Y"
   },
   "outputs": [],
   "source": [
    "db['Title'] = db['Title'].apply(lambda x: \" \".join(x))"
   ]
  },
  {
   "cell_type": "code",
   "execution_count": 34,
   "metadata": {
    "colab": {
     "base_uri": "https://localhost:8080/"
    },
    "executionInfo": {
     "elapsed": 18,
     "status": "ok",
     "timestamp": 1637245594018,
     "user": {
      "displayName": "Alexandre Taillard de Vorms",
      "photoUrl": "https://lh3.googleusercontent.com/a/default-user=s64",
      "userId": "17158358651987272696"
     },
     "user_tz": -60
    },
    "id": "wY2ZWXoo4o3Y",
    "outputId": "b2df920c-7607-4ae5-b0c9-6253c5d2e34a"
   },
   "outputs": [
    {
     "data": {
      "text/html": [
       "<div>\n",
       "<style scoped>\n",
       "    .dataframe tbody tr th:only-of-type {\n",
       "        vertical-align: middle;\n",
       "    }\n",
       "\n",
       "    .dataframe tbody tr th {\n",
       "        vertical-align: top;\n",
       "    }\n",
       "\n",
       "    .dataframe thead th {\n",
       "        text-align: right;\n",
       "    }\n",
       "</style>\n",
       "<table border=\"1\" class=\"dataframe\">\n",
       "  <thead>\n",
       "    <tr style=\"text-align: right;\">\n",
       "      <th></th>\n",
       "      <th>Id</th>\n",
       "      <th>CreationDate</th>\n",
       "      <th>Score</th>\n",
       "      <th>ViewCount</th>\n",
       "      <th>AnswerCount</th>\n",
       "      <th>CommentCount</th>\n",
       "      <th>FavoriteCount</th>\n",
       "      <th>Title</th>\n",
       "      <th>Body</th>\n",
       "      <th>Tags</th>\n",
       "    </tr>\n",
       "  </thead>\n",
       "  <tbody>\n",
       "    <tr>\n",
       "      <th>0</th>\n",
       "      <td>54201469</td>\n",
       "      <td>2019-01-15 15:00:28</td>\n",
       "      <td>13</td>\n",
       "      <td>3631</td>\n",
       "      <td>1</td>\n",
       "      <td>2</td>\n",
       "      <td>1</td>\n",
       "      <td>isolate vuetify global style</td>\n",
       "      <td>&lt;p&gt;I've started to use Vue.js with Vuetify wit...</td>\n",
       "      <td>[css, vue.js, vuetify.js]</td>\n",
       "    </tr>\n",
       "    <tr>\n",
       "      <th>1</th>\n",
       "      <td>63783524</td>\n",
       "      <td>2020-09-07 19:56:06</td>\n",
       "      <td>1</td>\n",
       "      <td>492</td>\n",
       "      <td>1</td>\n",
       "      <td>7</td>\n",
       "      <td>1</td>\n",
       "      <td>pyinstaller unicodedecodeerror utf codec decod...</td>\n",
       "      <td>&lt;p&gt;I was trying to convert my project to the e...</td>\n",
       "      <td>[python, pyinstaller]</td>\n",
       "    </tr>\n",
       "    <tr>\n",
       "      <th>2</th>\n",
       "      <td>57715829</td>\n",
       "      <td>2019-08-29 18:17:50</td>\n",
       "      <td>11</td>\n",
       "      <td>5542</td>\n",
       "      <td>3</td>\n",
       "      <td>3</td>\n",
       "      <td>1</td>\n",
       "      <td>expose public port aws ecs service elastic loa...</td>\n",
       "      <td>&lt;p&gt;I have service that exposes multiple ports ...</td>\n",
       "      <td>[amazon-web-services, amazon-ecs]</td>\n",
       "    </tr>\n",
       "    <tr>\n",
       "      <th>3</th>\n",
       "      <td>63552490</td>\n",
       "      <td>2020-08-23 22:09:19</td>\n",
       "      <td>1</td>\n",
       "      <td>793</td>\n",
       "      <td>1</td>\n",
       "      <td>0</td>\n",
       "      <td>1</td>\n",
       "      <td>deploy reactjs mysql nodejs express project</td>\n",
       "      <td>&lt;p&gt;I'm newbie on ReactJs and NodeJs. Before us...</td>\n",
       "      <td>[node.js, reactjs, deployment]</td>\n",
       "    </tr>\n",
       "    <tr>\n",
       "      <th>4</th>\n",
       "      <td>61202493</td>\n",
       "      <td>2020-04-14 07:17:35</td>\n",
       "      <td>0</td>\n",
       "      <td>872</td>\n",
       "      <td>1</td>\n",
       "      <td>0</td>\n",
       "      <td>1</td>\n",
       "      <td>change currency code amount accord user countr...</td>\n",
       "      <td>&lt;pre&gt;&lt;code&gt;const session = stripe.checkout.ses...</td>\n",
       "      <td>[javascript, node.js, stripe-payments]</td>\n",
       "    </tr>\n",
       "    <tr>\n",
       "      <th>...</th>\n",
       "      <td>...</td>\n",
       "      <td>...</td>\n",
       "      <td>...</td>\n",
       "      <td>...</td>\n",
       "      <td>...</td>\n",
       "      <td>...</td>\n",
       "      <td>...</td>\n",
       "      <td>...</td>\n",
       "      <td>...</td>\n",
       "      <td>...</td>\n",
       "    </tr>\n",
       "    <tr>\n",
       "      <th>47691</th>\n",
       "      <td>54936080</td>\n",
       "      <td>2019-02-28 23:57:37</td>\n",
       "      <td>7</td>\n",
       "      <td>3932</td>\n",
       "      <td>1</td>\n",
       "      <td>0</td>\n",
       "      <td>2</td>\n",
       "      <td>refresh auth token moya</td>\n",
       "      <td>&lt;p&gt;I'm using &lt;a href=\"https://github.com/Moya/...</td>\n",
       "      <td>[swift]</td>\n",
       "    </tr>\n",
       "    <tr>\n",
       "      <th>47692</th>\n",
       "      <td>58265103</td>\n",
       "      <td>2019-10-07 07:23:16</td>\n",
       "      <td>1</td>\n",
       "      <td>2856</td>\n",
       "      <td>1</td>\n",
       "      <td>1</td>\n",
       "      <td>1</td>\n",
       "      <td>filter search element table separate function</td>\n",
       "      <td>&lt;p&gt;I'm building a Element table in Vue (&lt;a hre...</td>\n",
       "      <td>[vue.js, vuejs2]</td>\n",
       "    </tr>\n",
       "    <tr>\n",
       "      <th>47693</th>\n",
       "      <td>54047430</td>\n",
       "      <td>2019-01-04 23:16:03</td>\n",
       "      <td>7</td>\n",
       "      <td>1793</td>\n",
       "      <td>1</td>\n",
       "      <td>4</td>\n",
       "      <td>1</td>\n",
       "      <td>angular get access dynamically add child compo...</td>\n",
       "      <td>&lt;p&gt;I am developing an Ionic + Angular 5 projec...</td>\n",
       "      <td>[javascript, angular, typescript, ionic-framew...</td>\n",
       "    </tr>\n",
       "    <tr>\n",
       "      <th>47694</th>\n",
       "      <td>56722921</td>\n",
       "      <td>2019-06-23 10:20:23</td>\n",
       "      <td>3</td>\n",
       "      <td>1168</td>\n",
       "      <td>1</td>\n",
       "      <td>0</td>\n",
       "      <td>1</td>\n",
       "      <td>fix error itms stickerpackextension appex cont...</td>\n",
       "      <td>&lt;p&gt;Using &lt;strong&gt;XCode 10.2.1&lt;/strong&gt;&lt;/p&gt;\\n\\n...</td>\n",
       "      <td>[xcode]</td>\n",
       "    </tr>\n",
       "    <tr>\n",
       "      <th>47695</th>\n",
       "      <td>59811400</td>\n",
       "      <td>2020-01-19 15:12:08</td>\n",
       "      <td>0</td>\n",
       "      <td>4242</td>\n",
       "      <td>0</td>\n",
       "      <td>4</td>\n",
       "      <td>1</td>\n",
       "      <td>select value presto column contain element array</td>\n",
       "      <td>&lt;p&gt;Desired output is somewhat reversed version...</td>\n",
       "      <td>[sql]</td>\n",
       "    </tr>\n",
       "  </tbody>\n",
       "</table>\n",
       "<p>47696 rows × 10 columns</p>\n",
       "</div>"
      ],
      "text/plain": [
       "             Id         CreationDate  Score  ViewCount  AnswerCount  \\\n",
       "0      54201469  2019-01-15 15:00:28     13       3631            1   \n",
       "1      63783524  2020-09-07 19:56:06      1        492            1   \n",
       "2      57715829  2019-08-29 18:17:50     11       5542            3   \n",
       "3      63552490  2020-08-23 22:09:19      1        793            1   \n",
       "4      61202493  2020-04-14 07:17:35      0        872            1   \n",
       "...         ...                  ...    ...        ...          ...   \n",
       "47691  54936080  2019-02-28 23:57:37      7       3932            1   \n",
       "47692  58265103  2019-10-07 07:23:16      1       2856            1   \n",
       "47693  54047430  2019-01-04 23:16:03      7       1793            1   \n",
       "47694  56722921  2019-06-23 10:20:23      3       1168            1   \n",
       "47695  59811400  2020-01-19 15:12:08      0       4242            0   \n",
       "\n",
       "       CommentCount  FavoriteCount  \\\n",
       "0                 2              1   \n",
       "1                 7              1   \n",
       "2                 3              1   \n",
       "3                 0              1   \n",
       "4                 0              1   \n",
       "...             ...            ...   \n",
       "47691             0              2   \n",
       "47692             1              1   \n",
       "47693             4              1   \n",
       "47694             0              1   \n",
       "47695             4              1   \n",
       "\n",
       "                                                   Title  \\\n",
       "0                           isolate vuetify global style   \n",
       "1      pyinstaller unicodedecodeerror utf codec decod...   \n",
       "2      expose public port aws ecs service elastic loa...   \n",
       "3            deploy reactjs mysql nodejs express project   \n",
       "4      change currency code amount accord user countr...   \n",
       "...                                                  ...   \n",
       "47691                            refresh auth token moya   \n",
       "47692      filter search element table separate function   \n",
       "47693  angular get access dynamically add child compo...   \n",
       "47694  fix error itms stickerpackextension appex cont...   \n",
       "47695   select value presto column contain element array   \n",
       "\n",
       "                                                    Body  \\\n",
       "0      <p>I've started to use Vue.js with Vuetify wit...   \n",
       "1      <p>I was trying to convert my project to the e...   \n",
       "2      <p>I have service that exposes multiple ports ...   \n",
       "3      <p>I'm newbie on ReactJs and NodeJs. Before us...   \n",
       "4      <pre><code>const session = stripe.checkout.ses...   \n",
       "...                                                  ...   \n",
       "47691  <p>I'm using <a href=\"https://github.com/Moya/...   \n",
       "47692  <p>I'm building a Element table in Vue (<a hre...   \n",
       "47693  <p>I am developing an Ionic + Angular 5 projec...   \n",
       "47694  <p>Using <strong>XCode 10.2.1</strong></p>\\n\\n...   \n",
       "47695  <p>Desired output is somewhat reversed version...   \n",
       "\n",
       "                                                    Tags  \n",
       "0                              [css, vue.js, vuetify.js]  \n",
       "1                                  [python, pyinstaller]  \n",
       "2                      [amazon-web-services, amazon-ecs]  \n",
       "3                         [node.js, reactjs, deployment]  \n",
       "4                 [javascript, node.js, stripe-payments]  \n",
       "...                                                  ...  \n",
       "47691                                            [swift]  \n",
       "47692                                   [vue.js, vuejs2]  \n",
       "47693  [javascript, angular, typescript, ionic-framew...  \n",
       "47694                                            [xcode]  \n",
       "47695                                              [sql]  \n",
       "\n",
       "[47696 rows x 10 columns]"
      ]
     },
     "execution_count": 34,
     "metadata": {},
     "output_type": "execute_result"
    }
   ],
   "source": [
    "db"
   ]
  },
  {
   "cell_type": "markdown",
   "metadata": {
    "id": "danv2Se64o3Y"
   },
   "source": [
    "## Preprocessing de la Colonne Body"
   ]
  },
  {
   "cell_type": "code",
   "execution_count": 35,
   "metadata": {
    "id": "_cIVX8VX4o3Z"
   },
   "outputs": [],
   "source": [
    "from bs4 import BeautifulSoup"
   ]
  },
  {
   "cell_type": "code",
   "execution_count": 36,
   "metadata": {
    "id": "bFcmGQwJ4o3Z"
   },
   "outputs": [],
   "source": [
    "db['Body'] = db['Body'].apply(lambda x: BeautifulSoup(x).get_text()) "
   ]
  },
  {
   "cell_type": "code",
   "execution_count": 37,
   "metadata": {
    "id": "0In3VYnD4o3Z"
   },
   "outputs": [],
   "source": [
    "db['Body'] = db['Body'].apply(lambda x: clean_text(x)) "
   ]
  },
  {
   "cell_type": "code",
   "execution_count": 38,
   "metadata": {
    "colab": {
     "base_uri": "https://localhost:8080/"
    },
    "executionInfo": {
     "elapsed": 16,
     "status": "ok",
     "timestamp": 1637245605267,
     "user": {
      "displayName": "Alexandre Taillard de Vorms",
      "photoUrl": "https://lh3.googleusercontent.com/a/default-user=s64",
      "userId": "17158358651987272696"
     },
     "user_tz": -60
    },
    "id": "SvMg9B0o4o3Z",
    "outputId": "1a76cf6b-95ca-4aea-d47e-4fd01c17f822"
   },
   "outputs": [
    {
     "data": {
      "text/plain": [
       "'i am working on an app using the mvvm pattern with rxjava. the architecture is the following: it the first time i use this pattern and i am not sure about the best way to update a viewmodel (and consequently the corresponding view) when a change occurs in the data, made by another component of the application. for example: suppose we have an activity showing the list of users i follow (like a social app), from this list i select a user and open his profile in another activity. now, from this second activity i decide to unfollow the user and when i press the back button to return to the first activity i would like the list to be updated automatically (deleting the corresponding user, obviously without having to re-download all the data). the problem is that the two activity have two different viewmodel. how can i make the changes made by the second activity affect the viewmodel of the first one? is it the responsibility of the repository to inform the first activity of the changes? i would rather not use startactivityforresult i would rather not to inject the viewmodel of the first activity in the second one thanks a lot!'"
      ]
     },
     "execution_count": 38,
     "metadata": {},
     "output_type": "execute_result"
    }
   ],
   "source": [
    "db['Body'][14]"
   ]
  },
  {
   "cell_type": "code",
   "execution_count": 39,
   "metadata": {
    "id": "ZCIdAC5y4o3Z"
   },
   "outputs": [],
   "source": [
    "punct = '!\"#$%&\\'()*+,./:;<=>?@[\\\\]^_`{|}~'"
   ]
  },
  {
   "cell_type": "code",
   "execution_count": 40,
   "metadata": {
    "id": "583v8U2Z4o3a"
   },
   "outputs": [],
   "source": [
    "db['Body'] = db['Body'].apply(lambda x: clean_punct(x,tags_top_500))"
   ]
  },
  {
   "cell_type": "markdown",
   "metadata": {
    "id": "QnJ_uvvd4o3a"
   },
   "source": [
    "Now we have to remove the stopwords, tokenize and lemmatize the Body column"
   ]
  },
  {
   "cell_type": "code",
   "execution_count": 41,
   "metadata": {
    "id": "NRH97tgd4o3a"
   },
   "outputs": [],
   "source": [
    "db['Body'] = db['Body'].apply(lambda x: tokenizer(x))"
   ]
  },
  {
   "cell_type": "code",
   "execution_count": 42,
   "metadata": {
    "id": "h_AVD8qz4o3a"
   },
   "outputs": [],
   "source": [
    "db['Body'] = db['Body'].apply(lambda x: stop_words_check(x,stop_words))"
   ]
  },
  {
   "cell_type": "code",
   "execution_count": 43,
   "metadata": {
    "id": "CzZMCIgs4o3a"
   },
   "outputs": [],
   "source": [
    "db['Body'] = db['Body'].apply(lambda x: list_lemmatizer(x))"
   ]
  },
  {
   "cell_type": "code",
   "execution_count": 44,
   "metadata": {
    "id": "w-EXsTMI4o3a"
   },
   "outputs": [],
   "source": [
    "db['Body'] = db['Body'].apply(lambda x: \" \".join(x))"
   ]
  },
  {
   "cell_type": "code",
   "execution_count": 45,
   "metadata": {
    "id": "8FKJIprOx197"
   },
   "outputs": [],
   "source": [
    "#Ici, on a met plus de poids sur les titres en mettant Title plusieurs fois dans la nouvelle colonne que l'on créer\n",
    "db['Post'] = db['Title']+\" \"+db['Body']+\" \"+db['Title']+\" \"+db['Title']+\" \"+db['Title']"
   ]
  },
  {
   "cell_type": "code",
   "execution_count": 46,
   "metadata": {
    "colab": {
     "base_uri": "https://localhost:8080/"
    },
    "executionInfo": {
     "elapsed": 15,
     "status": "ok",
     "timestamp": 1637245624907,
     "user": {
      "displayName": "Alexandre Taillard de Vorms",
      "photoUrl": "https://lh3.googleusercontent.com/a/default-user=s64",
      "userId": "17158358651987272696"
     },
     "user_tz": -60
    },
    "id": "a4KnkKbux-ch",
    "outputId": "887f4543-7e30-48d9-80c5-e9595fd567c9"
   },
   "outputs": [
    {
     "data": {
      "text/html": [
       "<div>\n",
       "<style scoped>\n",
       "    .dataframe tbody tr th:only-of-type {\n",
       "        vertical-align: middle;\n",
       "    }\n",
       "\n",
       "    .dataframe tbody tr th {\n",
       "        vertical-align: top;\n",
       "    }\n",
       "\n",
       "    .dataframe thead th {\n",
       "        text-align: right;\n",
       "    }\n",
       "</style>\n",
       "<table border=\"1\" class=\"dataframe\">\n",
       "  <thead>\n",
       "    <tr style=\"text-align: right;\">\n",
       "      <th></th>\n",
       "      <th>Id</th>\n",
       "      <th>CreationDate</th>\n",
       "      <th>Score</th>\n",
       "      <th>ViewCount</th>\n",
       "      <th>AnswerCount</th>\n",
       "      <th>CommentCount</th>\n",
       "      <th>FavoriteCount</th>\n",
       "      <th>Title</th>\n",
       "      <th>Body</th>\n",
       "      <th>Tags</th>\n",
       "      <th>Post</th>\n",
       "    </tr>\n",
       "  </thead>\n",
       "  <tbody>\n",
       "    <tr>\n",
       "      <th>0</th>\n",
       "      <td>54201469</td>\n",
       "      <td>2019-01-15 15:00:28</td>\n",
       "      <td>13</td>\n",
       "      <td>3631</td>\n",
       "      <td>1</td>\n",
       "      <td>2</td>\n",
       "      <td>1</td>\n",
       "      <td>isolate vuetify global style</td>\n",
       "      <td>start use vue vuetify within old exist project...</td>\n",
       "      <td>[css, vue.js, vuetify.js]</td>\n",
       "      <td>isolate vuetify global style start use vue vue...</td>\n",
       "    </tr>\n",
       "    <tr>\n",
       "      <th>1</th>\n",
       "      <td>63783524</td>\n",
       "      <td>2020-09-07 19:56:06</td>\n",
       "      <td>1</td>\n",
       "      <td>492</td>\n",
       "      <td>1</td>\n",
       "      <td>7</td>\n",
       "      <td>1</td>\n",
       "      <td>pyinstaller unicodedecodeerror utf codec decod...</td>\n",
       "      <td>try convert project exe pyinstaller try soluti...</td>\n",
       "      <td>[python, pyinstaller]</td>\n",
       "      <td>pyinstaller unicodedecodeerror utf codec decod...</td>\n",
       "    </tr>\n",
       "    <tr>\n",
       "      <th>2</th>\n",
       "      <td>57715829</td>\n",
       "      <td>2019-08-29 18:17:50</td>\n",
       "      <td>11</td>\n",
       "      <td>5542</td>\n",
       "      <td>3</td>\n",
       "      <td>3</td>\n",
       "      <td>1</td>\n",
       "      <td>expose public port aws ecs service elastic loa...</td>\n",
       "      <td>service expose multiple port work fine kuberne...</td>\n",
       "      <td>[amazon-web-services, amazon-ecs]</td>\n",
       "      <td>expose public port aws ecs service elastic loa...</td>\n",
       "    </tr>\n",
       "    <tr>\n",
       "      <th>3</th>\n",
       "      <td>63552490</td>\n",
       "      <td>2020-08-23 22:09:19</td>\n",
       "      <td>1</td>\n",
       "      <td>793</td>\n",
       "      <td>1</td>\n",
       "      <td>0</td>\n",
       "      <td>1</td>\n",
       "      <td>deploy reactjs mysql nodejs express project</td>\n",
       "      <td>newbie reactjs nodejs use php program language...</td>\n",
       "      <td>[node.js, reactjs, deployment]</td>\n",
       "      <td>deploy reactjs mysql nodejs express project ne...</td>\n",
       "    </tr>\n",
       "    <tr>\n",
       "      <th>4</th>\n",
       "      <td>61202493</td>\n",
       "      <td>2020-04-14 07:17:35</td>\n",
       "      <td>0</td>\n",
       "      <td>872</td>\n",
       "      <td>1</td>\n",
       "      <td>0</td>\n",
       "      <td>1</td>\n",
       "      <td>change currency code amount accord user countr...</td>\n",
       "      <td>const session stripe checkout sessions create ...</td>\n",
       "      <td>[javascript, node.js, stripe-payments]</td>\n",
       "      <td>change currency code amount accord user countr...</td>\n",
       "    </tr>\n",
       "    <tr>\n",
       "      <th>...</th>\n",
       "      <td>...</td>\n",
       "      <td>...</td>\n",
       "      <td>...</td>\n",
       "      <td>...</td>\n",
       "      <td>...</td>\n",
       "      <td>...</td>\n",
       "      <td>...</td>\n",
       "      <td>...</td>\n",
       "      <td>...</td>\n",
       "      <td>...</td>\n",
       "      <td>...</td>\n",
       "    </tr>\n",
       "    <tr>\n",
       "      <th>47691</th>\n",
       "      <td>54936080</td>\n",
       "      <td>2019-02-28 23:57:37</td>\n",
       "      <td>7</td>\n",
       "      <td>3932</td>\n",
       "      <td>1</td>\n",
       "      <td>0</td>\n",
       "      <td>2</td>\n",
       "      <td>refresh auth token moya</td>\n",
       "      <td>use moya communicate api many endpoints requir...</td>\n",
       "      <td>[swift]</td>\n",
       "      <td>refresh auth token moya use moya communicate a...</td>\n",
       "    </tr>\n",
       "    <tr>\n",
       "      <th>47692</th>\n",
       "      <td>58265103</td>\n",
       "      <td>2019-10-07 07:23:16</td>\n",
       "      <td>1</td>\n",
       "      <td>2856</td>\n",
       "      <td>1</td>\n",
       "      <td>1</td>\n",
       "      <td>1</td>\n",
       "      <td>filter search element table separate function</td>\n",
       "      <td>build element table vue https element eleme co...</td>\n",
       "      <td>[vue.js, vuejs2]</td>\n",
       "      <td>filter search element table separate function ...</td>\n",
       "    </tr>\n",
       "    <tr>\n",
       "      <th>47693</th>\n",
       "      <td>54047430</td>\n",
       "      <td>2019-01-04 23:16:03</td>\n",
       "      <td>7</td>\n",
       "      <td>1793</td>\n",
       "      <td>1</td>\n",
       "      <td>4</td>\n",
       "      <td>1</td>\n",
       "      <td>angular get access dynamically add child compo...</td>\n",
       "      <td>develop ionic angular project need dynamically...</td>\n",
       "      <td>[javascript, angular, typescript, ionic-framew...</td>\n",
       "      <td>angular get access dynamically add child compo...</td>\n",
       "    </tr>\n",
       "    <tr>\n",
       "      <th>47694</th>\n",
       "      <td>56722921</td>\n",
       "      <td>2019-06-23 10:20:23</td>\n",
       "      <td>3</td>\n",
       "      <td>1168</td>\n",
       "      <td>1</td>\n",
       "      <td>0</td>\n",
       "      <td>1</td>\n",
       "      <td>fix error itms stickerpackextension appex cont...</td>\n",
       "      <td>use xcode submit first stickers app ios test u...</td>\n",
       "      <td>[xcode]</td>\n",
       "      <td>fix error itms stickerpackextension appex cont...</td>\n",
       "    </tr>\n",
       "    <tr>\n",
       "      <th>47695</th>\n",
       "      <td>59811400</td>\n",
       "      <td>2020-01-19 15:12:08</td>\n",
       "      <td>0</td>\n",
       "      <td>4242</td>\n",
       "      <td>0</td>\n",
       "      <td>4</td>\n",
       "      <td>1</td>\n",
       "      <td>select value presto column contain element array</td>\n",
       "      <td>desire output somewhat reverse version solutio...</td>\n",
       "      <td>[sql]</td>\n",
       "      <td>select value presto column contain element arr...</td>\n",
       "    </tr>\n",
       "  </tbody>\n",
       "</table>\n",
       "<p>47696 rows × 11 columns</p>\n",
       "</div>"
      ],
      "text/plain": [
       "             Id         CreationDate  Score  ViewCount  AnswerCount  \\\n",
       "0      54201469  2019-01-15 15:00:28     13       3631            1   \n",
       "1      63783524  2020-09-07 19:56:06      1        492            1   \n",
       "2      57715829  2019-08-29 18:17:50     11       5542            3   \n",
       "3      63552490  2020-08-23 22:09:19      1        793            1   \n",
       "4      61202493  2020-04-14 07:17:35      0        872            1   \n",
       "...         ...                  ...    ...        ...          ...   \n",
       "47691  54936080  2019-02-28 23:57:37      7       3932            1   \n",
       "47692  58265103  2019-10-07 07:23:16      1       2856            1   \n",
       "47693  54047430  2019-01-04 23:16:03      7       1793            1   \n",
       "47694  56722921  2019-06-23 10:20:23      3       1168            1   \n",
       "47695  59811400  2020-01-19 15:12:08      0       4242            0   \n",
       "\n",
       "       CommentCount  FavoriteCount  \\\n",
       "0                 2              1   \n",
       "1                 7              1   \n",
       "2                 3              1   \n",
       "3                 0              1   \n",
       "4                 0              1   \n",
       "...             ...            ...   \n",
       "47691             0              2   \n",
       "47692             1              1   \n",
       "47693             4              1   \n",
       "47694             0              1   \n",
       "47695             4              1   \n",
       "\n",
       "                                                   Title  \\\n",
       "0                           isolate vuetify global style   \n",
       "1      pyinstaller unicodedecodeerror utf codec decod...   \n",
       "2      expose public port aws ecs service elastic loa...   \n",
       "3            deploy reactjs mysql nodejs express project   \n",
       "4      change currency code amount accord user countr...   \n",
       "...                                                  ...   \n",
       "47691                            refresh auth token moya   \n",
       "47692      filter search element table separate function   \n",
       "47693  angular get access dynamically add child compo...   \n",
       "47694  fix error itms stickerpackextension appex cont...   \n",
       "47695   select value presto column contain element array   \n",
       "\n",
       "                                                    Body  \\\n",
       "0      start use vue vuetify within old exist project...   \n",
       "1      try convert project exe pyinstaller try soluti...   \n",
       "2      service expose multiple port work fine kuberne...   \n",
       "3      newbie reactjs nodejs use php program language...   \n",
       "4      const session stripe checkout sessions create ...   \n",
       "...                                                  ...   \n",
       "47691  use moya communicate api many endpoints requir...   \n",
       "47692  build element table vue https element eleme co...   \n",
       "47693  develop ionic angular project need dynamically...   \n",
       "47694  use xcode submit first stickers app ios test u...   \n",
       "47695  desire output somewhat reverse version solutio...   \n",
       "\n",
       "                                                    Tags  \\\n",
       "0                              [css, vue.js, vuetify.js]   \n",
       "1                                  [python, pyinstaller]   \n",
       "2                      [amazon-web-services, amazon-ecs]   \n",
       "3                         [node.js, reactjs, deployment]   \n",
       "4                 [javascript, node.js, stripe-payments]   \n",
       "...                                                  ...   \n",
       "47691                                            [swift]   \n",
       "47692                                   [vue.js, vuejs2]   \n",
       "47693  [javascript, angular, typescript, ionic-framew...   \n",
       "47694                                            [xcode]   \n",
       "47695                                              [sql]   \n",
       "\n",
       "                                                    Post  \n",
       "0      isolate vuetify global style start use vue vue...  \n",
       "1      pyinstaller unicodedecodeerror utf codec decod...  \n",
       "2      expose public port aws ecs service elastic loa...  \n",
       "3      deploy reactjs mysql nodejs express project ne...  \n",
       "4      change currency code amount accord user countr...  \n",
       "...                                                  ...  \n",
       "47691  refresh auth token moya use moya communicate a...  \n",
       "47692  filter search element table separate function ...  \n",
       "47693  angular get access dynamically add child compo...  \n",
       "47694  fix error itms stickerpackextension appex cont...  \n",
       "47695  select value presto column contain element arr...  \n",
       "\n",
       "[47696 rows x 11 columns]"
      ]
     },
     "execution_count": 46,
     "metadata": {},
     "output_type": "execute_result"
    }
   ],
   "source": [
    "db"
   ]
  },
  {
   "cell_type": "markdown",
   "metadata": {
    "id": "Ork4Lnxm4o3a",
    "tags": []
   },
   "source": [
    "# EDA"
   ]
  },
  {
   "cell_type": "markdown",
   "metadata": {
    "id": "ZI26ifwH4o3a"
   },
   "source": [
    "<h4> Exploration des variables génériques"
   ]
  },
  {
   "cell_type": "code",
   "execution_count": 47,
   "metadata": {},
   "outputs": [],
   "source": [
    "import seaborn as sns"
   ]
  },
  {
   "cell_type": "code",
   "execution_count": 48,
   "metadata": {
    "colab": {
     "base_uri": "https://localhost:8080/"
    },
    "executionInfo": {
     "elapsed": 12,
     "status": "ok",
     "timestamp": 1637245624908,
     "user": {
      "displayName": "Alexandre Taillard de Vorms",
      "photoUrl": "https://lh3.googleusercontent.com/a/default-user=s64",
      "userId": "17158358651987272696"
     },
     "user_tz": -60
    },
    "id": "ROVv315C4o3a",
    "outputId": "2331451d-08c2-42c4-fb77-7ca2e059b268"
   },
   "outputs": [
    {
     "data": {
      "text/html": [
       "<div>\n",
       "<style scoped>\n",
       "    .dataframe tbody tr th:only-of-type {\n",
       "        vertical-align: middle;\n",
       "    }\n",
       "\n",
       "    .dataframe tbody tr th {\n",
       "        vertical-align: top;\n",
       "    }\n",
       "\n",
       "    .dataframe thead th {\n",
       "        text-align: right;\n",
       "    }\n",
       "</style>\n",
       "<table border=\"1\" class=\"dataframe\">\n",
       "  <thead>\n",
       "    <tr style=\"text-align: right;\">\n",
       "      <th></th>\n",
       "      <th>Id</th>\n",
       "      <th>Score</th>\n",
       "      <th>ViewCount</th>\n",
       "      <th>AnswerCount</th>\n",
       "      <th>CommentCount</th>\n",
       "      <th>FavoriteCount</th>\n",
       "    </tr>\n",
       "  </thead>\n",
       "  <tbody>\n",
       "    <tr>\n",
       "      <th>count</th>\n",
       "      <td>4.769600e+04</td>\n",
       "      <td>47696.000000</td>\n",
       "      <td>47696.000000</td>\n",
       "      <td>47696.000000</td>\n",
       "      <td>47696.000000</td>\n",
       "      <td>47696.000000</td>\n",
       "    </tr>\n",
       "    <tr>\n",
       "      <th>mean</th>\n",
       "      <td>5.958668e+07</td>\n",
       "      <td>4.310990</td>\n",
       "      <td>3602.070048</td>\n",
       "      <td>1.793693</td>\n",
       "      <td>2.155003</td>\n",
       "      <td>1.501803</td>\n",
       "    </tr>\n",
       "    <tr>\n",
       "      <th>std</th>\n",
       "      <td>3.316014e+06</td>\n",
       "      <td>10.561401</td>\n",
       "      <td>9887.329994</td>\n",
       "      <td>1.585075</td>\n",
       "      <td>2.954223</td>\n",
       "      <td>2.575921</td>\n",
       "    </tr>\n",
       "    <tr>\n",
       "      <th>min</th>\n",
       "      <td>5.399295e+07</td>\n",
       "      <td>-24.000000</td>\n",
       "      <td>124.000000</td>\n",
       "      <td>0.000000</td>\n",
       "      <td>0.000000</td>\n",
       "      <td>0.000000</td>\n",
       "    </tr>\n",
       "    <tr>\n",
       "      <th>25%</th>\n",
       "      <td>5.682806e+07</td>\n",
       "      <td>1.000000</td>\n",
       "      <td>685.000000</td>\n",
       "      <td>1.000000</td>\n",
       "      <td>0.000000</td>\n",
       "      <td>1.000000</td>\n",
       "    </tr>\n",
       "    <tr>\n",
       "      <th>50%</th>\n",
       "      <td>5.949391e+07</td>\n",
       "      <td>2.000000</td>\n",
       "      <td>1457.500000</td>\n",
       "      <td>1.000000</td>\n",
       "      <td>1.000000</td>\n",
       "      <td>1.000000</td>\n",
       "    </tr>\n",
       "    <tr>\n",
       "      <th>75%</th>\n",
       "      <td>6.261780e+07</td>\n",
       "      <td>5.000000</td>\n",
       "      <td>3297.000000</td>\n",
       "      <td>2.000000</td>\n",
       "      <td>3.000000</td>\n",
       "      <td>2.000000</td>\n",
       "    </tr>\n",
       "    <tr>\n",
       "      <th>max</th>\n",
       "      <td>6.551476e+07</td>\n",
       "      <td>693.000000</td>\n",
       "      <td>679582.000000</td>\n",
       "      <td>39.000000</td>\n",
       "      <td>46.000000</td>\n",
       "      <td>195.000000</td>\n",
       "    </tr>\n",
       "  </tbody>\n",
       "</table>\n",
       "</div>"
      ],
      "text/plain": [
       "                 Id         Score      ViewCount   AnswerCount  CommentCount  \\\n",
       "count  4.769600e+04  47696.000000   47696.000000  47696.000000  47696.000000   \n",
       "mean   5.958668e+07      4.310990    3602.070048      1.793693      2.155003   \n",
       "std    3.316014e+06     10.561401    9887.329994      1.585075      2.954223   \n",
       "min    5.399295e+07    -24.000000     124.000000      0.000000      0.000000   \n",
       "25%    5.682806e+07      1.000000     685.000000      1.000000      0.000000   \n",
       "50%    5.949391e+07      2.000000    1457.500000      1.000000      1.000000   \n",
       "75%    6.261780e+07      5.000000    3297.000000      2.000000      3.000000   \n",
       "max    6.551476e+07    693.000000  679582.000000     39.000000     46.000000   \n",
       "\n",
       "       FavoriteCount  \n",
       "count   47696.000000  \n",
       "mean        1.501803  \n",
       "std         2.575921  \n",
       "min         0.000000  \n",
       "25%         1.000000  \n",
       "50%         1.000000  \n",
       "75%         2.000000  \n",
       "max       195.000000  "
      ]
     },
     "execution_count": 48,
     "metadata": {},
     "output_type": "execute_result"
    }
   ],
   "source": [
    "db.describe()"
   ]
  },
  {
   "cell_type": "code",
   "execution_count": 49,
   "metadata": {
    "colab": {
     "base_uri": "https://localhost:8080/"
    },
    "executionInfo": {
     "elapsed": 330,
     "status": "ok",
     "timestamp": 1637245625230,
     "user": {
      "displayName": "Alexandre Taillard de Vorms",
      "photoUrl": "https://lh3.googleusercontent.com/a/default-user=s64",
      "userId": "17158358651987272696"
     },
     "user_tz": -60
    },
    "id": "VkOZY11D4o3a",
    "outputId": "b3a67562-f1b6-4832-92a8-57ff88df1dfb"
   },
   "outputs": [
    {
     "data": {
      "application/vnd.plotly.v1+json": {
       "config": {
        "plotlyServerURL": "https://plot.ly"
       },
       "data": [
        {
         "alignmentgroup": "True",
         "hovertemplate": "variable=0<br>index=%{x}<br>value=%{y}<extra></extra>",
         "legendgroup": "0",
         "marker": {
          "color": "#636efa",
          "pattern": {
           "shape": ""
          }
         },
         "name": "0",
         "offsetgroup": "0",
         "orientation": "v",
         "showlegend": true,
         "textposition": "auto",
         "type": "bar",
         "x": [
          "python",
          "javascript",
          "java",
          "reactjs",
          "android",
          "c#",
          "flutter",
          "angular",
          "node.js",
          "python-3.x",
          "ios",
          "typescript",
          "swift",
          "docker",
          "html",
          "c++",
          "php",
          "spring-boot",
          "css",
          "dart",
          "react-native",
          "amazon-web-services",
          "r",
          "pandas",
          "asp.net-core",
          "vue.js",
          "swiftui",
          "django",
          "firebase",
          "tensorflow",
          "spring",
          "azure",
          "laravel",
          "kubernetes",
          "kotlin",
          "json",
          "visual-studio-code",
          "apache-spark",
          "git",
          ".net-core"
         ],
         "xaxis": "x",
         "y": [
          7049,
          4767,
          3132,
          3045,
          2827,
          2358,
          2112,
          1904,
          1834,
          1518,
          1393,
          1333,
          1294,
          1244,
          1232,
          1207,
          1065,
          1033,
          1004,
          993,
          993,
          965,
          929,
          907,
          862,
          815,
          792,
          737,
          730,
          721,
          720,
          717,
          706,
          651,
          647,
          635,
          557,
          538,
          536,
          507
         ],
         "yaxis": "y"
        }
       ],
       "layout": {
        "barmode": "relative",
        "legend": {
         "title": {
          "text": "variable"
         },
         "tracegroupgap": 0
        },
        "margin": {
         "t": 60
        },
        "template": {
         "data": {
          "bar": [
           {
            "error_x": {
             "color": "#2a3f5f"
            },
            "error_y": {
             "color": "#2a3f5f"
            },
            "marker": {
             "line": {
              "color": "#E5ECF6",
              "width": 0.5
             },
             "pattern": {
              "fillmode": "overlay",
              "size": 10,
              "solidity": 0.2
             }
            },
            "type": "bar"
           }
          ],
          "barpolar": [
           {
            "marker": {
             "line": {
              "color": "#E5ECF6",
              "width": 0.5
             },
             "pattern": {
              "fillmode": "overlay",
              "size": 10,
              "solidity": 0.2
             }
            },
            "type": "barpolar"
           }
          ],
          "carpet": [
           {
            "aaxis": {
             "endlinecolor": "#2a3f5f",
             "gridcolor": "white",
             "linecolor": "white",
             "minorgridcolor": "white",
             "startlinecolor": "#2a3f5f"
            },
            "baxis": {
             "endlinecolor": "#2a3f5f",
             "gridcolor": "white",
             "linecolor": "white",
             "minorgridcolor": "white",
             "startlinecolor": "#2a3f5f"
            },
            "type": "carpet"
           }
          ],
          "choropleth": [
           {
            "colorbar": {
             "outlinewidth": 0,
             "ticks": ""
            },
            "type": "choropleth"
           }
          ],
          "contour": [
           {
            "colorbar": {
             "outlinewidth": 0,
             "ticks": ""
            },
            "colorscale": [
             [
              0,
              "#0d0887"
             ],
             [
              0.1111111111111111,
              "#46039f"
             ],
             [
              0.2222222222222222,
              "#7201a8"
             ],
             [
              0.3333333333333333,
              "#9c179e"
             ],
             [
              0.4444444444444444,
              "#bd3786"
             ],
             [
              0.5555555555555556,
              "#d8576b"
             ],
             [
              0.6666666666666666,
              "#ed7953"
             ],
             [
              0.7777777777777778,
              "#fb9f3a"
             ],
             [
              0.8888888888888888,
              "#fdca26"
             ],
             [
              1,
              "#f0f921"
             ]
            ],
            "type": "contour"
           }
          ],
          "contourcarpet": [
           {
            "colorbar": {
             "outlinewidth": 0,
             "ticks": ""
            },
            "type": "contourcarpet"
           }
          ],
          "heatmap": [
           {
            "colorbar": {
             "outlinewidth": 0,
             "ticks": ""
            },
            "colorscale": [
             [
              0,
              "#0d0887"
             ],
             [
              0.1111111111111111,
              "#46039f"
             ],
             [
              0.2222222222222222,
              "#7201a8"
             ],
             [
              0.3333333333333333,
              "#9c179e"
             ],
             [
              0.4444444444444444,
              "#bd3786"
             ],
             [
              0.5555555555555556,
              "#d8576b"
             ],
             [
              0.6666666666666666,
              "#ed7953"
             ],
             [
              0.7777777777777778,
              "#fb9f3a"
             ],
             [
              0.8888888888888888,
              "#fdca26"
             ],
             [
              1,
              "#f0f921"
             ]
            ],
            "type": "heatmap"
           }
          ],
          "heatmapgl": [
           {
            "colorbar": {
             "outlinewidth": 0,
             "ticks": ""
            },
            "colorscale": [
             [
              0,
              "#0d0887"
             ],
             [
              0.1111111111111111,
              "#46039f"
             ],
             [
              0.2222222222222222,
              "#7201a8"
             ],
             [
              0.3333333333333333,
              "#9c179e"
             ],
             [
              0.4444444444444444,
              "#bd3786"
             ],
             [
              0.5555555555555556,
              "#d8576b"
             ],
             [
              0.6666666666666666,
              "#ed7953"
             ],
             [
              0.7777777777777778,
              "#fb9f3a"
             ],
             [
              0.8888888888888888,
              "#fdca26"
             ],
             [
              1,
              "#f0f921"
             ]
            ],
            "type": "heatmapgl"
           }
          ],
          "histogram": [
           {
            "marker": {
             "pattern": {
              "fillmode": "overlay",
              "size": 10,
              "solidity": 0.2
             }
            },
            "type": "histogram"
           }
          ],
          "histogram2d": [
           {
            "colorbar": {
             "outlinewidth": 0,
             "ticks": ""
            },
            "colorscale": [
             [
              0,
              "#0d0887"
             ],
             [
              0.1111111111111111,
              "#46039f"
             ],
             [
              0.2222222222222222,
              "#7201a8"
             ],
             [
              0.3333333333333333,
              "#9c179e"
             ],
             [
              0.4444444444444444,
              "#bd3786"
             ],
             [
              0.5555555555555556,
              "#d8576b"
             ],
             [
              0.6666666666666666,
              "#ed7953"
             ],
             [
              0.7777777777777778,
              "#fb9f3a"
             ],
             [
              0.8888888888888888,
              "#fdca26"
             ],
             [
              1,
              "#f0f921"
             ]
            ],
            "type": "histogram2d"
           }
          ],
          "histogram2dcontour": [
           {
            "colorbar": {
             "outlinewidth": 0,
             "ticks": ""
            },
            "colorscale": [
             [
              0,
              "#0d0887"
             ],
             [
              0.1111111111111111,
              "#46039f"
             ],
             [
              0.2222222222222222,
              "#7201a8"
             ],
             [
              0.3333333333333333,
              "#9c179e"
             ],
             [
              0.4444444444444444,
              "#bd3786"
             ],
             [
              0.5555555555555556,
              "#d8576b"
             ],
             [
              0.6666666666666666,
              "#ed7953"
             ],
             [
              0.7777777777777778,
              "#fb9f3a"
             ],
             [
              0.8888888888888888,
              "#fdca26"
             ],
             [
              1,
              "#f0f921"
             ]
            ],
            "type": "histogram2dcontour"
           }
          ],
          "mesh3d": [
           {
            "colorbar": {
             "outlinewidth": 0,
             "ticks": ""
            },
            "type": "mesh3d"
           }
          ],
          "parcoords": [
           {
            "line": {
             "colorbar": {
              "outlinewidth": 0,
              "ticks": ""
             }
            },
            "type": "parcoords"
           }
          ],
          "pie": [
           {
            "automargin": true,
            "type": "pie"
           }
          ],
          "scatter": [
           {
            "marker": {
             "colorbar": {
              "outlinewidth": 0,
              "ticks": ""
             }
            },
            "type": "scatter"
           }
          ],
          "scatter3d": [
           {
            "line": {
             "colorbar": {
              "outlinewidth": 0,
              "ticks": ""
             }
            },
            "marker": {
             "colorbar": {
              "outlinewidth": 0,
              "ticks": ""
             }
            },
            "type": "scatter3d"
           }
          ],
          "scattercarpet": [
           {
            "marker": {
             "colorbar": {
              "outlinewidth": 0,
              "ticks": ""
             }
            },
            "type": "scattercarpet"
           }
          ],
          "scattergeo": [
           {
            "marker": {
             "colorbar": {
              "outlinewidth": 0,
              "ticks": ""
             }
            },
            "type": "scattergeo"
           }
          ],
          "scattergl": [
           {
            "marker": {
             "colorbar": {
              "outlinewidth": 0,
              "ticks": ""
             }
            },
            "type": "scattergl"
           }
          ],
          "scattermapbox": [
           {
            "marker": {
             "colorbar": {
              "outlinewidth": 0,
              "ticks": ""
             }
            },
            "type": "scattermapbox"
           }
          ],
          "scatterpolar": [
           {
            "marker": {
             "colorbar": {
              "outlinewidth": 0,
              "ticks": ""
             }
            },
            "type": "scatterpolar"
           }
          ],
          "scatterpolargl": [
           {
            "marker": {
             "colorbar": {
              "outlinewidth": 0,
              "ticks": ""
             }
            },
            "type": "scatterpolargl"
           }
          ],
          "scatterternary": [
           {
            "marker": {
             "colorbar": {
              "outlinewidth": 0,
              "ticks": ""
             }
            },
            "type": "scatterternary"
           }
          ],
          "surface": [
           {
            "colorbar": {
             "outlinewidth": 0,
             "ticks": ""
            },
            "colorscale": [
             [
              0,
              "#0d0887"
             ],
             [
              0.1111111111111111,
              "#46039f"
             ],
             [
              0.2222222222222222,
              "#7201a8"
             ],
             [
              0.3333333333333333,
              "#9c179e"
             ],
             [
              0.4444444444444444,
              "#bd3786"
             ],
             [
              0.5555555555555556,
              "#d8576b"
             ],
             [
              0.6666666666666666,
              "#ed7953"
             ],
             [
              0.7777777777777778,
              "#fb9f3a"
             ],
             [
              0.8888888888888888,
              "#fdca26"
             ],
             [
              1,
              "#f0f921"
             ]
            ],
            "type": "surface"
           }
          ],
          "table": [
           {
            "cells": {
             "fill": {
              "color": "#EBF0F8"
             },
             "line": {
              "color": "white"
             }
            },
            "header": {
             "fill": {
              "color": "#C8D4E3"
             },
             "line": {
              "color": "white"
             }
            },
            "type": "table"
           }
          ]
         },
         "layout": {
          "annotationdefaults": {
           "arrowcolor": "#2a3f5f",
           "arrowhead": 0,
           "arrowwidth": 1
          },
          "autotypenumbers": "strict",
          "coloraxis": {
           "colorbar": {
            "outlinewidth": 0,
            "ticks": ""
           }
          },
          "colorscale": {
           "diverging": [
            [
             0,
             "#8e0152"
            ],
            [
             0.1,
             "#c51b7d"
            ],
            [
             0.2,
             "#de77ae"
            ],
            [
             0.3,
             "#f1b6da"
            ],
            [
             0.4,
             "#fde0ef"
            ],
            [
             0.5,
             "#f7f7f7"
            ],
            [
             0.6,
             "#e6f5d0"
            ],
            [
             0.7,
             "#b8e186"
            ],
            [
             0.8,
             "#7fbc41"
            ],
            [
             0.9,
             "#4d9221"
            ],
            [
             1,
             "#276419"
            ]
           ],
           "sequential": [
            [
             0,
             "#0d0887"
            ],
            [
             0.1111111111111111,
             "#46039f"
            ],
            [
             0.2222222222222222,
             "#7201a8"
            ],
            [
             0.3333333333333333,
             "#9c179e"
            ],
            [
             0.4444444444444444,
             "#bd3786"
            ],
            [
             0.5555555555555556,
             "#d8576b"
            ],
            [
             0.6666666666666666,
             "#ed7953"
            ],
            [
             0.7777777777777778,
             "#fb9f3a"
            ],
            [
             0.8888888888888888,
             "#fdca26"
            ],
            [
             1,
             "#f0f921"
            ]
           ],
           "sequentialminus": [
            [
             0,
             "#0d0887"
            ],
            [
             0.1111111111111111,
             "#46039f"
            ],
            [
             0.2222222222222222,
             "#7201a8"
            ],
            [
             0.3333333333333333,
             "#9c179e"
            ],
            [
             0.4444444444444444,
             "#bd3786"
            ],
            [
             0.5555555555555556,
             "#d8576b"
            ],
            [
             0.6666666666666666,
             "#ed7953"
            ],
            [
             0.7777777777777778,
             "#fb9f3a"
            ],
            [
             0.8888888888888888,
             "#fdca26"
            ],
            [
             1,
             "#f0f921"
            ]
           ]
          },
          "colorway": [
           "#636efa",
           "#EF553B",
           "#00cc96",
           "#ab63fa",
           "#FFA15A",
           "#19d3f3",
           "#FF6692",
           "#B6E880",
           "#FF97FF",
           "#FECB52"
          ],
          "font": {
           "color": "#2a3f5f"
          },
          "geo": {
           "bgcolor": "white",
           "lakecolor": "white",
           "landcolor": "#E5ECF6",
           "showlakes": true,
           "showland": true,
           "subunitcolor": "white"
          },
          "hoverlabel": {
           "align": "left"
          },
          "hovermode": "closest",
          "mapbox": {
           "style": "light"
          },
          "paper_bgcolor": "white",
          "plot_bgcolor": "#E5ECF6",
          "polar": {
           "angularaxis": {
            "gridcolor": "white",
            "linecolor": "white",
            "ticks": ""
           },
           "bgcolor": "#E5ECF6",
           "radialaxis": {
            "gridcolor": "white",
            "linecolor": "white",
            "ticks": ""
           }
          },
          "scene": {
           "xaxis": {
            "backgroundcolor": "#E5ECF6",
            "gridcolor": "white",
            "gridwidth": 2,
            "linecolor": "white",
            "showbackground": true,
            "ticks": "",
            "zerolinecolor": "white"
           },
           "yaxis": {
            "backgroundcolor": "#E5ECF6",
            "gridcolor": "white",
            "gridwidth": 2,
            "linecolor": "white",
            "showbackground": true,
            "ticks": "",
            "zerolinecolor": "white"
           },
           "zaxis": {
            "backgroundcolor": "#E5ECF6",
            "gridcolor": "white",
            "gridwidth": 2,
            "linecolor": "white",
            "showbackground": true,
            "ticks": "",
            "zerolinecolor": "white"
           }
          },
          "shapedefaults": {
           "line": {
            "color": "#2a3f5f"
           }
          },
          "ternary": {
           "aaxis": {
            "gridcolor": "white",
            "linecolor": "white",
            "ticks": ""
           },
           "baxis": {
            "gridcolor": "white",
            "linecolor": "white",
            "ticks": ""
           },
           "bgcolor": "#E5ECF6",
           "caxis": {
            "gridcolor": "white",
            "linecolor": "white",
            "ticks": ""
           }
          },
          "title": {
           "x": 0.05
          },
          "xaxis": {
           "automargin": true,
           "gridcolor": "white",
           "linecolor": "white",
           "ticks": "",
           "title": {
            "standoff": 15
           },
           "zerolinecolor": "white",
           "zerolinewidth": 2
          },
          "yaxis": {
           "automargin": true,
           "gridcolor": "white",
           "linecolor": "white",
           "ticks": "",
           "title": {
            "standoff": 15
           },
           "zerolinecolor": "white",
           "zerolinewidth": 2
          }
         }
        },
        "xaxis": {
         "anchor": "y",
         "domain": [
          0,
          1
         ],
         "title": {
          "text": "index"
         }
        },
        "yaxis": {
         "anchor": "x",
         "domain": [
          0,
          1
         ],
         "title": {
          "text": "value"
         }
        }
       }
      }
     },
     "metadata": {},
     "output_type": "display_data"
    }
   ],
   "source": [
    "fig = px.bar(tags_top_500.nlargest(40))\n",
    "fig.show()"
   ]
  },
  {
   "cell_type": "code",
   "execution_count": 50,
   "metadata": {},
   "outputs": [
    {
     "data": {
      "text/plain": [
       "(0.0, 50000.0)"
      ]
     },
     "execution_count": 50,
     "metadata": {},
     "output_type": "execute_result"
    },
    {
     "data": {
      "image/png": "[encoded data removed]",
      "text/plain": [
       "<Figure size 360x360 with 1 Axes>"
      ]
     },
     "metadata": {},
     "output_type": "display_data"
    }
   ],
   "source": [
    "sns.set_theme()\n",
    "ax = sns.displot(db['ViewCount'])\n",
    "plt.xlim(0,50000)\n"
   ]
  },
  {
   "cell_type": "code",
   "execution_count": 51,
   "metadata": {
    "id": "8ROEf0QG4o3a"
   },
   "outputs": [
    {
     "data": {
      "text/plain": [
       "(0.0, 40.0)"
      ]
     },
     "execution_count": 51,
     "metadata": {},
     "output_type": "execute_result"
    },
    {
     "data": {
      "image/png": "[encoded data removed]",
      "text/plain": [
       "<Figure size 360x360 with 1 Axes>"
      ]
     },
     "metadata": {},
     "output_type": "display_data"
    }
   ],
   "source": [
    "sns.set_theme()\n",
    "ax = sns.displot(db['Score'])\n",
    "plt.xlim(0,40)"
   ]
  },
  {
   "cell_type": "code",
   "execution_count": 52,
   "metadata": {},
   "outputs": [
    {
     "data": {
      "text/plain": [
       "(0.0, 20.0)"
      ]
     },
     "execution_count": 52,
     "metadata": {},
     "output_type": "execute_result"
    },
    {
     "data": {
      "image/png": "[encoded data removed]",
      "text/plain": [
       "<Figure size 360x360 with 1 Axes>"
      ]
     },
     "metadata": {},
     "output_type": "display_data"
    }
   ],
   "source": [
    "sns.set_theme()\n",
    "ax = sns.displot(db['CommentCount'])\n",
    "plt.xlim(0,20)"
   ]
  },
  {
   "cell_type": "markdown",
   "metadata": {
    "id": "P0DUgWsD4o3b",
    "tags": []
   },
   "source": [
    "# Supervised Learning"
   ]
  },
  {
   "cell_type": "code",
   "execution_count": 53,
   "metadata": {
    "id": "aSNBXucg4o3b"
   },
   "outputs": [],
   "source": [
    "from sklearn.model_selection import train_test_split\n",
    "from sklearn.feature_extraction.text import CountVectorizer, TfidfVectorizer\n",
    "from sklearn.preprocessing import MultiLabelBinarizer"
   ]
  },
  {
   "cell_type": "code",
   "execution_count": 54,
   "metadata": {
    "id": "KEztUe1w4o3b"
   },
   "outputs": [],
   "source": [
    "X = np.array(db['Post'])\n",
    "y = np.array(db['Tags'])"
   ]
  },
  {
   "cell_type": "code",
   "execution_count": 55,
   "metadata": {
    "colab": {
     "base_uri": "https://localhost:8080/"
    },
    "executionInfo": {
     "elapsed": 10,
     "status": "ok",
     "timestamp": 1637245625232,
     "user": {
      "displayName": "Alexandre Taillard de Vorms",
      "photoUrl": "https://lh3.googleusercontent.com/a/default-user=s64",
      "userId": "17158358651987272696"
     },
     "user_tz": -60
    },
    "id": "s_aPJLNO4o3b",
    "outputId": "a2205906-9d0c-468e-91ae-4eeb4bd9f602"
   },
   "outputs": [
    {
     "data": {
      "text/plain": [
       "(47696,)"
      ]
     },
     "execution_count": 55,
     "metadata": {},
     "output_type": "execute_result"
    }
   ],
   "source": [
    "y.shape"
   ]
  },
  {
   "cell_type": "code",
   "execution_count": 56,
   "metadata": {
    "id": "uwo9PAPm4o3b"
   },
   "outputs": [],
   "source": [
    "mlb = MultiLabelBinarizer()"
   ]
  },
  {
   "cell_type": "code",
   "execution_count": 57,
   "metadata": {
    "id": "K6ygir0P4o3b"
   },
   "outputs": [],
   "source": [
    "mlb.fit(y)\n",
    "y_encoded = mlb.transform(y)"
   ]
  },
  {
   "cell_type": "code",
   "execution_count": 58,
   "metadata": {
    "colab": {
     "base_uri": "https://localhost:8080/"
    },
    "executionInfo": {
     "elapsed": 8,
     "status": "ok",
     "timestamp": 1637245625233,
     "user": {
      "displayName": "Alexandre Taillard de Vorms",
      "photoUrl": "https://lh3.googleusercontent.com/a/default-user=s64",
      "userId": "17158358651987272696"
     },
     "user_tz": -60
    },
    "id": "_6D-AOuD4o3b",
    "outputId": "43166d20-161e-40a2-9e5d-ea72b3e3ab89"
   },
   "outputs": [
    {
     "data": {
      "text/plain": [
       "(47696, 500)"
      ]
     },
     "execution_count": 58,
     "metadata": {},
     "output_type": "execute_result"
    }
   ],
   "source": [
    "y_encoded.shape"
   ]
  },
  {
   "cell_type": "markdown",
   "metadata": {
    "id": "AzXr4zEf4o3b",
    "tags": []
   },
   "source": [
    "<h4>Utilisation de Bag of Words\n",
    "\n",
    "<a name='bow'>"
   ]
  },
  {
   "cell_type": "code",
   "execution_count": 59,
   "metadata": {
    "id": "9TJ5iTC14o3b"
   },
   "outputs": [],
   "source": [
    "vectorizer_X_BoW = CountVectorizer()\n",
    "\n",
    "\n",
    "X_bow = vectorizer_X_BoW.fit_transform(X)"
   ]
  },
  {
   "cell_type": "code",
   "execution_count": 60,
   "metadata": {
    "id": "l3YUWGlF4o3b"
   },
   "outputs": [],
   "source": [
    "X_train_bow, X_test_bow, y_train_bow, y_test_bow = train_test_split(X_bow, y_encoded, test_size = 0.20, random_state = 0) # Do 80/20 split"
   ]
  },
  {
   "cell_type": "markdown",
   "metadata": {
    "id": "iSontbcw4o3b"
   },
   "source": [
    "<h4> Utilisation de TF-IDF\n",
    "    <a name='tfidf'>"
   ]
  },
  {
   "cell_type": "code",
   "execution_count": 61,
   "metadata": {
    "id": "SYL2k2MR4o3c"
   },
   "outputs": [],
   "source": [
    "vectorizer_X = TfidfVectorizer(analyzer = 'word',\n",
    "                                       min_df=0.0,\n",
    "                                       max_df = 1.0,\n",
    "                                       strip_accents = None,\n",
    "                                       encoding = 'utf-8', \n",
    "                                       preprocessor=None,\n",
    "                                       token_pattern=r\"(?u)\\S\\S+\",\n",
    "                                       max_features=30000)"
   ]
  },
  {
   "cell_type": "code",
   "execution_count": 62,
   "metadata": {
    "id": "A2g993fz4o3c"
   },
   "outputs": [],
   "source": [
    "X_tfidf = vectorizer_X.fit_transform(X)"
   ]
  },
  {
   "cell_type": "code",
   "execution_count": 63,
   "metadata": {
    "colab": {
     "base_uri": "https://localhost:8080/"
    },
    "executionInfo": {
     "elapsed": 10,
     "status": "ok",
     "timestamp": 1637245629696,
     "user": {
      "displayName": "Alexandre Taillard de Vorms",
      "photoUrl": "https://lh3.googleusercontent.com/a/default-user=s64",
      "userId": "17158358651987272696"
     },
     "user_tz": -60
    },
    "id": "9mAoA7iv4o3c",
    "outputId": "b1ab8b87-f912-4a09-ccf6-dca4218f2c9f"
   },
   "outputs": [
    {
     "data": {
      "text/plain": [
       "(47696, 30000)"
      ]
     },
     "execution_count": 63,
     "metadata": {},
     "output_type": "execute_result"
    }
   ],
   "source": [
    "X_tfidf.shape"
   ]
  },
  {
   "cell_type": "code",
   "execution_count": 64,
   "metadata": {
    "id": "soH99AsQ4o3c"
   },
   "outputs": [],
   "source": [
    "X_train, X_test, y_train, y_test = train_test_split(X_tfidf, y_encoded, test_size = 0.20, random_state = 0) # Do 80/20 split"
   ]
  },
  {
   "cell_type": "code",
   "execution_count": 65,
   "metadata": {
    "colab": {
     "base_uri": "https://localhost:8080/"
    },
    "executionInfo": {
     "elapsed": 5,
     "status": "ok",
     "timestamp": 1637245629697,
     "user": {
      "displayName": "Alexandre Taillard de Vorms",
      "photoUrl": "https://lh3.googleusercontent.com/a/default-user=s64",
      "userId": "17158358651987272696"
     },
     "user_tz": -60
    },
    "id": "skgiKpmI4o3c",
    "outputId": "b6ddb865-c183-4ae2-fef0-a901f8a42cd5"
   },
   "outputs": [
    {
     "data": {
      "text/plain": [
       "(38156, 30000)"
      ]
     },
     "execution_count": 65,
     "metadata": {},
     "output_type": "execute_result"
    }
   ],
   "source": [
    "X_train.shape"
   ]
  },
  {
   "cell_type": "markdown",
   "metadata": {
    "id": "M1DcIVPT4o3c"
   },
   "source": [
    "<h4> Dimensionality reduction\n",
    "    <a name='reduction'>"
   ]
  },
  {
   "cell_type": "code",
   "execution_count": 66,
   "metadata": {
    "id": "yFRV7FWk4o3c"
   },
   "outputs": [],
   "source": [
    "from sklearn.decomposition import PCA, TruncatedSVD\n",
    "import matplotlib.pyplot as plt"
   ]
  },
  {
   "cell_type": "code",
   "execution_count": 67,
   "metadata": {},
   "outputs": [
    {
     "data": {
      "text/plain": [
       "TruncatedSVD(n_components=2500)"
      ]
     },
     "execution_count": 67,
     "metadata": {},
     "output_type": "execute_result"
    }
   ],
   "source": [
    "svd = TruncatedSVD(n_components=2500)\n",
    "svd.fit(X_train)\n",
    "#display_scree_plot(svd)"
   ]
  },
  {
   "cell_type": "code",
   "execution_count": 68,
   "metadata": {
    "id": "of1SBCGf4o3c"
   },
   "outputs": [],
   "source": [
    "X_train_svd = svd.transform(X_train)\n",
    "X_test_svd = svd.transform(X_test)"
   ]
  },
  {
   "cell_type": "markdown",
   "metadata": {
    "id": "XNX6hqak4o3c"
   },
   "source": [
    "<h4> Models \n",
    "    <a name = 'models'>"
   ]
  },
  {
   "cell_type": "code",
   "execution_count": 69,
   "metadata": {
    "id": "KrsJsM9J4o3d"
   },
   "outputs": [],
   "source": [
    "from sklearn.dummy import DummyClassifier\n",
    "from sklearn.multioutput import MultiOutputClassifier\n",
    "from sklearn.linear_model import SGDClassifier, LogisticRegression\n",
    "from sklearn.svm import LinearSVC\n",
    "from sklearn.model_selection import GridSearchCV\n",
    "from sklearn.naive_bayes import MultinomialNB\n",
    "from sklearn.ensemble import RandomForestClassifier\n",
    "from sklearn.metrics import accuracy_score, precision_score, recall_score, f1_score, hamming_loss, jaccard_score, make_scorer\n",
    "from sklearn.neural_network import MLPClassifier"
   ]
  },
  {
   "cell_type": "code",
   "execution_count": 70,
   "metadata": {
    "id": "AyeNkurT4o3d"
   },
   "outputs": [],
   "source": [
    "models_performance = {}"
   ]
  },
  {
   "cell_type": "markdown",
   "metadata": {
    "id": "7MRFRDW-4o3d"
   },
   "source": [
    "<h4> MultiOutputClassifier approach"
   ]
  },
  {
   "cell_type": "code",
   "execution_count": 71,
   "metadata": {
    "colab": {
     "base_uri": "https://localhost:8080/"
    },
    "executionInfo": {
     "elapsed": 128262,
     "status": "ok",
     "timestamp": 1637245965234,
     "user": {
      "displayName": "Alexandre Taillard de Vorms",
      "photoUrl": "https://lh3.googleusercontent.com/a/default-user=s64",
      "userId": "17158358651987272696"
     },
     "user_tz": -60
    },
    "id": "6t7BRBi54o3d",
    "outputId": "70b92483-ad2d-45b7-9aa2-0c2bc5b3ddeb"
   },
   "outputs": [
    {
     "name": "stderr",
     "output_type": "stream",
     "text": [
      "/home/efkant/anaconda3/envs/stack_tags/lib/python3.7/site-packages/sklearn/utils/deprecation.py:103: FutureWarning:\n",
      "\n",
      "`n_features_in_` is deprecated in 1.0 and will be removed in 1.2.\n",
      "\n",
      "/home/efkant/anaconda3/envs/stack_tags/lib/python3.7/site-packages/sklearn/metrics/_classification.py:1308: UndefinedMetricWarning:\n",
      "\n",
      "Precision is ill-defined and being set to 0.0 in labels with no predicted samples. Use `zero_division` parameter to control this behavior.\n",
      "\n",
      "/home/efkant/anaconda3/envs/stack_tags/lib/python3.7/site-packages/sklearn/metrics/_classification.py:1308: UndefinedMetricWarning:\n",
      "\n",
      "Precision is ill-defined and being set to 0.0 in labels with no predicted samples. Use `zero_division` parameter to control this behavior.\n",
      "\n",
      "/home/efkant/anaconda3/envs/stack_tags/lib/python3.7/site-packages/sklearn/metrics/_classification.py:1308: UndefinedMetricWarning:\n",
      "\n",
      "Precision is ill-defined and being set to 0.0 in labels with no predicted samples. Use `zero_division` parameter to control this behavior.\n",
      "\n",
      "/home/efkant/anaconda3/envs/stack_tags/lib/python3.7/site-packages/sklearn/metrics/_classification.py:1308: UndefinedMetricWarning:\n",
      "\n",
      "Precision is ill-defined and being set to 0.0 in labels with no predicted samples. Use `zero_division` parameter to control this behavior.\n",
      "\n"
     ]
    },
    {
     "data": {
      "text/html": [
       "<div>\n",
       "<style scoped>\n",
       "    .dataframe tbody tr th:only-of-type {\n",
       "        vertical-align: middle;\n",
       "    }\n",
       "\n",
       "    .dataframe tbody tr th {\n",
       "        vertical-align: top;\n",
       "    }\n",
       "\n",
       "    .dataframe thead th {\n",
       "        text-align: right;\n",
       "    }\n",
       "</style>\n",
       "<table border=\"1\" class=\"dataframe\">\n",
       "  <thead>\n",
       "    <tr style=\"text-align: right;\">\n",
       "      <th></th>\n",
       "      <th>DummyClassifier</th>\n",
       "      <th>LogisticRegression</th>\n",
       "      <th>LinearSVC</th>\n",
       "      <th>SGDClassifier</th>\n",
       "    </tr>\n",
       "  </thead>\n",
       "  <tbody>\n",
       "    <tr>\n",
       "      <th>Accuracy</th>\n",
       "      <td>0.0</td>\n",
       "      <td>0.138260</td>\n",
       "      <td>0.209015</td>\n",
       "      <td>0.163732</td>\n",
       "    </tr>\n",
       "    <tr>\n",
       "      <th>F1</th>\n",
       "      <td>0.0</td>\n",
       "      <td>0.591588</td>\n",
       "      <td>0.670009</td>\n",
       "      <td>0.675427</td>\n",
       "    </tr>\n",
       "    <tr>\n",
       "      <th>Jaccard</th>\n",
       "      <td>0.0</td>\n",
       "      <td>0.314760</td>\n",
       "      <td>0.434074</td>\n",
       "      <td>0.338838</td>\n",
       "    </tr>\n",
       "    <tr>\n",
       "      <th>Recall</th>\n",
       "      <td>0.0</td>\n",
       "      <td>0.340187</td>\n",
       "      <td>0.483031</td>\n",
       "      <td>0.366759</td>\n",
       "    </tr>\n",
       "    <tr>\n",
       "      <th>Precision</th>\n",
       "      <td>0.0</td>\n",
       "      <td>0.696379</td>\n",
       "      <td>0.727796</td>\n",
       "      <td>0.654149</td>\n",
       "    </tr>\n",
       "  </tbody>\n",
       "</table>\n",
       "</div>"
      ],
      "text/plain": [
       "           DummyClassifier  LogisticRegression  LinearSVC  SGDClassifier\n",
       "Accuracy               0.0            0.138260   0.209015       0.163732\n",
       "F1                     0.0            0.591588   0.670009       0.675427\n",
       "Jaccard                0.0            0.314760   0.434074       0.338838\n",
       "Recall                 0.0            0.340187   0.483031       0.366759\n",
       "Precision              0.0            0.696379   0.727796       0.654149"
      ]
     },
     "execution_count": 71,
     "metadata": {},
     "output_type": "execute_result"
    }
   ],
   "source": [
    "dummy = DummyClassifier()\n",
    "svc = SGDClassifier(n_jobs=-1) #Hinge Loss / Reg = L2\n",
    "lin_svc = LinearSVC()\n",
    "lr = LogisticRegression(solver=\"liblinear\")\n",
    "\n",
    "metrics_results = pd.DataFrame(index=[\"Accuracy\", \"F1\",\"Jaccard\", \"Recall\",\"Precision\"])\n",
    "\n",
    "for classifier in [dummy,lr,lin_svc,svc]:\n",
    "    clf = MultiOutputClassifier(classifier,n_jobs=-1)\n",
    "    clf.fit(X_train_svd, y_train)\n",
    "    y_pred = clf.predict(X_test_svd)\n",
    "    metrics_score(classifier.__class__.__name__,df=metrics_results,y_true=y_test,y_pred = y_pred)\n",
    "metrics_results"
   ]
  },
  {
   "cell_type": "code",
   "execution_count": 72,
   "metadata": {
    "id": "u364i_jrTiC1"
   },
   "outputs": [],
   "source": [
    "opt_clf = MultiOutputClassifier(svc,n_jobs=-1)"
   ]
  },
  {
   "cell_type": "code",
   "execution_count": 73,
   "metadata": {
    "id": "DUPVWouIWCkd"
   },
   "outputs": [
    {
     "data": {
      "text/plain": [
       "{'estimator__alpha': 0.0001,\n",
       " 'estimator__average': False,\n",
       " 'estimator__class_weight': None,\n",
       " 'estimator__early_stopping': False,\n",
       " 'estimator__epsilon': 0.1,\n",
       " 'estimator__eta0': 0.0,\n",
       " 'estimator__fit_intercept': True,\n",
       " 'estimator__l1_ratio': 0.15,\n",
       " 'estimator__learning_rate': 'optimal',\n",
       " 'estimator__loss': 'hinge',\n",
       " 'estimator__max_iter': 1000,\n",
       " 'estimator__n_iter_no_change': 5,\n",
       " 'estimator__n_jobs': -1,\n",
       " 'estimator__penalty': 'l2',\n",
       " 'estimator__power_t': 0.5,\n",
       " 'estimator__random_state': None,\n",
       " 'estimator__shuffle': True,\n",
       " 'estimator__tol': 0.001,\n",
       " 'estimator__validation_fraction': 0.1,\n",
       " 'estimator__verbose': 0,\n",
       " 'estimator__warm_start': False,\n",
       " 'estimator': SGDClassifier(n_jobs=-1),\n",
       " 'n_jobs': -1}"
      ]
     },
     "execution_count": 73,
     "metadata": {},
     "output_type": "execute_result"
    }
   ],
   "source": [
    "opt_clf.get_params()"
   ]
  },
  {
   "cell_type": "code",
   "execution_count": 74,
   "metadata": {
    "id": "uq4Q3pJNcUPx"
   },
   "outputs": [],
   "source": [
    "params = {\n",
    "    'estimator__alpha':[1e-4, 1e-3 ,1e-2, 1e-1],\n",
    "    'estimator__l1_ratio':[0,0.1,0.2,0.5,0.8],\n",
    "    'estimator__learning_rate': ['optimal'],\n",
    "}"
   ]
  },
  {
   "cell_type": "code",
   "execution_count": 75,
   "metadata": {
    "id": "-j_xmUYrVqyb"
   },
   "outputs": [
    {
     "name": "stderr",
     "output_type": "stream",
     "text": [
      "2021-12-01 13:34:36.533405: W tensorflow/stream_executor/platform/default/dso_loader.cc:64] Could not load dynamic library 'libcudart.so.11.0'; dlerror: libcudart.so.11.0: cannot open shared object file: No such file or directory\n",
      "2021-12-01 13:34:36.533404: W tensorflow/stream_executor/platform/default/dso_loader.cc:64] Could not load dynamic library 'libcudart.so.11.0'; dlerror: libcudart.so.11.0: cannot open shared object file: No such file or directory\n",
      "2021-12-01 13:34:36.533406: W tensorflow/stream_executor/platform/default/dso_loader.cc:64] Could not load dynamic library 'libcudart.so.11.0'; dlerror: libcudart.so.11.0: cannot open shared object file: No such file or directory\n",
      "2021-12-01 13:34:36.533404: W tensorflow/stream_executor/platform/default/dso_loader.cc:64] Could not load dynamic library 'libcudart.so.11.0'; dlerror: libcudart.so.11.0: cannot open shared object file: No such file or directory\n",
      "2021-12-01 13:34:36.533405: W tensorflow/stream_executor/platform/default/dso_loader.cc:64] Could not load dynamic library 'libcudart.so.11.0'; dlerror: libcudart.so.11.0: cannot open shared object file: No such file or directory\n",
      "2021-12-01 13:34:36.533405: W tensorflow/stream_executor/platform/default/dso_loader.cc:64] Could not load dynamic library 'libcudart.so.11.0'; dlerror: libcudart.so.11.0: cannot open shared object file: No such file or directory\n",
      "2021-12-01 13:34:36.533405: W tensorflow/stream_executor/platform/default/dso_loader.cc:64] Could not load dynamic library 'libcudart.so.11.0'; dlerror: libcudart.so.11.0: cannot open shared object file: No such file or directory\n",
      "2021-12-01 13:34:36.533406: W tensorflow/stream_executor/platform/default/dso_loader.cc:64] Could not load dynamic library 'libcudart.so.11.0'; dlerror: libcudart.so.11.0: cannot open shared object file: No such file or directory\n",
      "2021-12-01 13:34:36.533424: I tensorflow/stream_executor/cuda/cudart_stub.cc:29] Ignore above cudart dlerror if you do not have a GPU set up on your machine.\n",
      "2021-12-01 13:34:36.533424: I tensorflow/stream_executor/cuda/cudart_stub.cc:29] Ignore above cudart dlerror if you do not have a GPU set up on your machine.\n",
      "2021-12-01 13:34:36.533424: I tensorflow/stream_executor/cuda/cudart_stub.cc:29] Ignore above cudart dlerror if you do not have a GPU set up on your machine.\n",
      "2021-12-01 13:34:36.533425: I tensorflow/stream_executor/cuda/cudart_stub.cc:29] Ignore above cudart dlerror if you do not have a GPU set up on your machine.\n",
      "2021-12-01 13:34:36.533426: I tensorflow/stream_executor/cuda/cudart_stub.cc:29] Ignore above cudart dlerror if you do not have a GPU set up on your machine.\n",
      "2021-12-01 13:34:36.533426: I tensorflow/stream_executor/cuda/cudart_stub.cc:29] Ignore above cudart dlerror if you do not have a GPU set up on your machine.\n",
      "2021-12-01 13:34:36.533427: I tensorflow/stream_executor/cuda/cudart_stub.cc:29] Ignore above cudart dlerror if you do not have a GPU set up on your machine.\n",
      "2021-12-01 13:34:36.533550: I tensorflow/stream_executor/cuda/cudart_stub.cc:29] Ignore above cudart dlerror if you do not have a GPU set up on your machine.\n",
      "2021-12-01 13:34:36.538049: W tensorflow/stream_executor/platform/default/dso_loader.cc:64] Could not load dynamic library 'libcudart.so.11.0'; dlerror: libcudart.so.11.0: cannot open shared object file: No such file or directory\n",
      "2021-12-01 13:34:36.538118: I tensorflow/stream_executor/cuda/cudart_stub.cc:29] Ignore above cudart dlerror if you do not have a GPU set up on your machine.\n",
      "2021-12-01 13:34:36.546877: W tensorflow/stream_executor/platform/default/dso_loader.cc:64] Could not load dynamic library 'libcudart.so.11.0'; dlerror: libcudart.so.11.0: cannot open shared object file: No such file or directory\n",
      "2021-12-01 13:34:36.546878: W tensorflow/stream_executor/platform/default/dso_loader.cc:64] Could not load dynamic library 'libcudart.so.11.0'; dlerror: libcudart.so.11.0: cannot open shared object file: No such file or directory\n",
      "2021-12-01 13:34:36.546878: W tensorflow/stream_executor/platform/default/dso_loader.cc:64] Could not load dynamic library 'libcudart.so.11.0'; dlerror: libcudart.so.11.0: cannot open shared object file: No such file or directory\n",
      "2021-12-01 13:34:36.546893: I tensorflow/stream_executor/cuda/cudart_stub.cc:29] Ignore above cudart dlerror if you do not have a GPU set up on your machine.\n",
      "2021-12-01 13:34:36.546893: I tensorflow/stream_executor/cuda/cudart_stub.cc:29] Ignore above cudart dlerror if you do not have a GPU set up on your machine.\n",
      "2021-12-01 13:34:36.546984: I tensorflow/stream_executor/cuda/cudart_stub.cc:29] Ignore above cudart dlerror if you do not have a GPU set up on your machine.\n"
     ]
    },
    {
     "data": {
      "text/plain": [
       "GridSearchCV(cv=2,\n",
       "             estimator=MultiOutputClassifier(estimator=SGDClassifier(n_jobs=-1),\n",
       "                                             n_jobs=-1),\n",
       "             n_jobs=-1,\n",
       "             param_grid={'estimator__alpha': [0.0001, 0.001, 0.01, 0.1],\n",
       "                         'estimator__l1_ratio': [0, 0.1, 0.2, 0.5, 0.8],\n",
       "                         'estimator__learning_rate': ['optimal']},\n",
       "             scoring=make_scorer(scorer_jaccard), verbose=False)"
      ]
     },
     "execution_count": 75,
     "metadata": {},
     "output_type": "execute_result"
    }
   ],
   "source": [
    "grid_opt_clf = GridSearchCV(opt_clf,\n",
    "                              param_grid=params,\n",
    "                              n_jobs=-1,\n",
    "                              scoring=make_scorer(scorer_jaccard),\n",
    "                              verbose=False,\n",
    "                              cv=2,\n",
    "                              refit=True\n",
    "                             )\n",
    "grid_opt_clf.fit(X_train_svd, y_train)"
   ]
  },
  {
   "cell_type": "code",
   "execution_count": 76,
   "metadata": {
    "id": "IA3mjFcCdjPJ"
   },
   "outputs": [
    {
     "data": {
      "text/plain": [
       "({'estimator__alpha': 0.0001,\n",
       "  'estimator__l1_ratio': 0.8,\n",
       "  'estimator__learning_rate': 'optimal'},\n",
       " 0.3481315750385378)"
      ]
     },
     "execution_count": 76,
     "metadata": {},
     "output_type": "execute_result"
    }
   ],
   "source": [
    "grid_opt_clf.best_params_, grid_opt_clf.best_score_"
   ]
  },
  {
   "cell_type": "code",
   "execution_count": 77,
   "metadata": {},
   "outputs": [
    {
     "name": "stderr",
     "output_type": "stream",
     "text": [
      "/home/efkant/anaconda3/envs/stack_tags/lib/python3.7/site-packages/sklearn/metrics/_classification.py:1308: UndefinedMetricWarning:\n",
      "\n",
      "Precision is ill-defined and being set to 0.0 in labels with no predicted samples. Use `zero_division` parameter to control this behavior.\n",
      "\n"
     ]
    },
    {
     "data": {
      "text/plain": [
       "<function stackoverflow_utils.metrics_score(model, df, y_true, y_pred)>"
      ]
     },
     "execution_count": 77,
     "metadata": {},
     "output_type": "execute_result"
    }
   ],
   "source": [
    "y_pred = grid_opt_clf.predict(X_test_svd)\n",
    "metrics_score('Grid_opt_clf',df=metrics_results,y_true=y_test,y_pred = y_pred)\n",
    "metrics_score"
   ]
  },
  {
   "cell_type": "code",
   "execution_count": 78,
   "metadata": {},
   "outputs": [
    {
     "data": {
      "text/html": [
       "<div>\n",
       "<style scoped>\n",
       "    .dataframe tbody tr th:only-of-type {\n",
       "        vertical-align: middle;\n",
       "    }\n",
       "\n",
       "    .dataframe tbody tr th {\n",
       "        vertical-align: top;\n",
       "    }\n",
       "\n",
       "    .dataframe thead th {\n",
       "        text-align: right;\n",
       "    }\n",
       "</style>\n",
       "<table border=\"1\" class=\"dataframe\">\n",
       "  <thead>\n",
       "    <tr style=\"text-align: right;\">\n",
       "      <th></th>\n",
       "      <th>DummyClassifier</th>\n",
       "      <th>LogisticRegression</th>\n",
       "      <th>LinearSVC</th>\n",
       "      <th>SGDClassifier</th>\n",
       "      <th>Grid_opt_clf</th>\n",
       "    </tr>\n",
       "  </thead>\n",
       "  <tbody>\n",
       "    <tr>\n",
       "      <th>Accuracy</th>\n",
       "      <td>0.0</td>\n",
       "      <td>0.138260</td>\n",
       "      <td>0.209015</td>\n",
       "      <td>0.163732</td>\n",
       "      <td>0.162264</td>\n",
       "    </tr>\n",
       "    <tr>\n",
       "      <th>F1</th>\n",
       "      <td>0.0</td>\n",
       "      <td>0.591588</td>\n",
       "      <td>0.670009</td>\n",
       "      <td>0.675427</td>\n",
       "      <td>0.677179</td>\n",
       "    </tr>\n",
       "    <tr>\n",
       "      <th>Jaccard</th>\n",
       "      <td>0.0</td>\n",
       "      <td>0.314760</td>\n",
       "      <td>0.434074</td>\n",
       "      <td>0.338838</td>\n",
       "      <td>0.336734</td>\n",
       "    </tr>\n",
       "    <tr>\n",
       "      <th>Recall</th>\n",
       "      <td>0.0</td>\n",
       "      <td>0.340187</td>\n",
       "      <td>0.483031</td>\n",
       "      <td>0.366759</td>\n",
       "      <td>0.363957</td>\n",
       "    </tr>\n",
       "    <tr>\n",
       "      <th>Precision</th>\n",
       "      <td>0.0</td>\n",
       "      <td>0.696379</td>\n",
       "      <td>0.727796</td>\n",
       "      <td>0.654149</td>\n",
       "      <td>0.653717</td>\n",
       "    </tr>\n",
       "  </tbody>\n",
       "</table>\n",
       "</div>"
      ],
      "text/plain": [
       "           DummyClassifier  LogisticRegression  LinearSVC  SGDClassifier  \\\n",
       "Accuracy               0.0            0.138260   0.209015       0.163732   \n",
       "F1                     0.0            0.591588   0.670009       0.675427   \n",
       "Jaccard                0.0            0.314760   0.434074       0.338838   \n",
       "Recall                 0.0            0.340187   0.483031       0.366759   \n",
       "Precision              0.0            0.696379   0.727796       0.654149   \n",
       "\n",
       "           Grid_opt_clf  \n",
       "Accuracy       0.162264  \n",
       "F1             0.677179  \n",
       "Jaccard        0.336734  \n",
       "Recall         0.363957  \n",
       "Precision      0.653717  "
      ]
     },
     "execution_count": 78,
     "metadata": {},
     "output_type": "execute_result"
    }
   ],
   "source": [
    "metrics_results"
   ]
  },
  {
   "cell_type": "code",
   "execution_count": 79,
   "metadata": {
    "id": "4tkExEk5OdOg"
   },
   "outputs": [],
   "source": [
    "y_pred_supervised = mlb.inverse_transform(y_pred)"
   ]
  },
  {
   "cell_type": "code",
   "execution_count": 80,
   "metadata": {
    "id": "3khOKFGiMfeM"
   },
   "outputs": [],
   "source": [
    "y_test_labels = mlb.inverse_transform(y_test)"
   ]
  },
  {
   "cell_type": "code",
   "execution_count": 81,
   "metadata": {
    "colab": {
     "base_uri": "https://localhost:8080/"
    },
    "executionInfo": {
     "elapsed": 18,
     "status": "ok",
     "timestamp": 1637245965239,
     "user": {
      "displayName": "Alexandre Taillard de Vorms",
      "photoUrl": "https://lh3.googleusercontent.com/a/default-user=s64",
      "userId": "17158358651987272696"
     },
     "user_tz": -60
    },
    "id": "IO6FXqlfVbCy",
    "outputId": "5f33f68e-89f2-4757-b7aa-001b9efaa53f"
   },
   "outputs": [
    {
     "data": {
      "text/html": [
       "<div>\n",
       "<style scoped>\n",
       "    .dataframe tbody tr th:only-of-type {\n",
       "        vertical-align: middle;\n",
       "    }\n",
       "\n",
       "    .dataframe tbody tr th {\n",
       "        vertical-align: top;\n",
       "    }\n",
       "\n",
       "    .dataframe thead th {\n",
       "        text-align: right;\n",
       "    }\n",
       "</style>\n",
       "<table border=\"1\" class=\"dataframe\">\n",
       "  <thead>\n",
       "    <tr style=\"text-align: right;\">\n",
       "      <th></th>\n",
       "      <th>Test labels</th>\n",
       "      <th>Supervised predicted labels</th>\n",
       "    </tr>\n",
       "  </thead>\n",
       "  <tbody>\n",
       "    <tr>\n",
       "      <th>0</th>\n",
       "      <td>(ios, iphone, objective-c, xcode)</td>\n",
       "      <td>()</td>\n",
       "    </tr>\n",
       "    <tr>\n",
       "      <th>1</th>\n",
       "      <td>(dart, homebrew)</td>\n",
       "      <td>(dart, flutter)</td>\n",
       "    </tr>\n",
       "    <tr>\n",
       "      <th>2</th>\n",
       "      <td>(c#, unity3d)</td>\n",
       "      <td>()</td>\n",
       "    </tr>\n",
       "    <tr>\n",
       "      <th>3</th>\n",
       "      <td>(java, jenkins, selenium)</td>\n",
       "      <td>(selenium,)</td>\n",
       "    </tr>\n",
       "    <tr>\n",
       "      <th>4</th>\n",
       "      <td>(apache, docker, kubernetes)</td>\n",
       "      <td>(kubernetes,)</td>\n",
       "    </tr>\n",
       "    <tr>\n",
       "      <th>...</th>\n",
       "      <td>...</td>\n",
       "      <td>...</td>\n",
       "    </tr>\n",
       "    <tr>\n",
       "      <th>9535</th>\n",
       "      <td>(asp.net-core, asp.net-core-3.1, asp.net-core-...</td>\n",
       "      <td>(asp.net-core, c#)</td>\n",
       "    </tr>\n",
       "    <tr>\n",
       "      <th>9536</th>\n",
       "      <td>(amazon-web-services, plotly-dash, python)</td>\n",
       "      <td>(plotly-dash, python)</td>\n",
       "    </tr>\n",
       "    <tr>\n",
       "      <th>9537</th>\n",
       "      <td>(powerbi,)</td>\n",
       "      <td>()</td>\n",
       "    </tr>\n",
       "    <tr>\n",
       "      <th>9538</th>\n",
       "      <td>(c++, c++17)</td>\n",
       "      <td>()</td>\n",
       "    </tr>\n",
       "    <tr>\n",
       "      <th>9539</th>\n",
       "      <td>(swiftui, xcode, xcode11)</td>\n",
       "      <td>(swift, swiftui)</td>\n",
       "    </tr>\n",
       "  </tbody>\n",
       "</table>\n",
       "<p>9540 rows × 2 columns</p>\n",
       "</div>"
      ],
      "text/plain": [
       "                                            Test labels  \\\n",
       "0                     (ios, iphone, objective-c, xcode)   \n",
       "1                                      (dart, homebrew)   \n",
       "2                                         (c#, unity3d)   \n",
       "3                             (java, jenkins, selenium)   \n",
       "4                          (apache, docker, kubernetes)   \n",
       "...                                                 ...   \n",
       "9535  (asp.net-core, asp.net-core-3.1, asp.net-core-...   \n",
       "9536         (amazon-web-services, plotly-dash, python)   \n",
       "9537                                         (powerbi,)   \n",
       "9538                                       (c++, c++17)   \n",
       "9539                          (swiftui, xcode, xcode11)   \n",
       "\n",
       "     Supervised predicted labels  \n",
       "0                             ()  \n",
       "1                (dart, flutter)  \n",
       "2                             ()  \n",
       "3                    (selenium,)  \n",
       "4                  (kubernetes,)  \n",
       "...                          ...  \n",
       "9535          (asp.net-core, c#)  \n",
       "9536       (plotly-dash, python)  \n",
       "9537                          ()  \n",
       "9538                          ()  \n",
       "9539            (swift, swiftui)  \n",
       "\n",
       "[9540 rows x 2 columns]"
      ]
     },
     "execution_count": 81,
     "metadata": {},
     "output_type": "execute_result"
    }
   ],
   "source": [
    "test_labels = pd.Series(y_test_labels)\n",
    "y_pred_supervised = pd.Series(y_pred_supervised)\n",
    "\n",
    "Results = pd.concat([test_labels, y_pred_supervised], axis=1) \n",
    "Results.rename(columns={0 : 'Test labels', 1 : 'Supervised predicted labels'}, inplace=True)\n",
    "Results"
   ]
  },
  {
   "cell_type": "markdown",
   "metadata": {
    "id": "Bv5sf69m4o3d",
    "tags": []
   },
   "source": [
    "# Unsupervised Learning"
   ]
  },
  {
   "cell_type": "markdown",
   "metadata": {
    "id": "j902khFF4o3d"
   },
   "source": [
    "<h4> LDA Multicore using Gensim\n",
    "    <a name=\"lda\">"
   ]
  },
  {
   "cell_type": "code",
   "execution_count": 82,
   "metadata": {
    "id": "OgcrXQwo4o3d"
   },
   "outputs": [],
   "source": [
    "import gensim\n",
    "from gensim.models import TfidfModel\n",
    "import gensim.corpora as corpora\n",
    "from gensim import models\n",
    "from gensim.models.ldamulticore import LdaMulticore\n",
    "from gensim.models import CoherenceModel\n",
    "import math"
   ]
  },
  {
   "cell_type": "code",
   "execution_count": 83,
   "metadata": {},
   "outputs": [
    {
     "name": "stdout",
     "output_type": "stream",
     "text": [
      "2\n",
      "4\n",
      "6\n",
      "8\n",
      "10\n",
      "12\n",
      "14\n",
      "16\n",
      "18\n",
      "20\n",
      "22\n",
      "24\n",
      "26\n",
      "28\n",
      "30\n",
      "32\n",
      "34\n",
      "36\n",
      "38\n",
      "40\n",
      "42\n",
      "44\n",
      "46\n",
      "48\n",
      "50\n"
     ]
    },
    {
     "data": {
      "image/png": "[encoded data removed]",
      "text/plain": [
       "<Figure size 432x288 with 1 Axes>"
      ]
     },
     "metadata": {},
     "output_type": "display_data"
    }
   ],
   "source": [
    "def compute_coherence_values(dictionary, corpus, texts, limit, start=2, step=3):\n",
    "    \"\"\"\n",
    "    Compute c_v coherence for various number of topics\n",
    "\n",
    "    Args:\n",
    "  \n",
    "        dictionary : Gensim dictionary\n",
    "        corpus : Gensim corpus\n",
    "        texts : List of input texts\n",
    "        limit : Max num of topics\n",
    "\n",
    "    Returns:\n",
    "    \n",
    "        model_list : List of LDA topic models\n",
    "        coherence_values : Coherence values corresponding to the LDA model with respective number of topics\n",
    "    \"\"\"\n",
    "    coherence_values = []\n",
    "    model_list = []\n",
    "    \n",
    "    \n",
    "    for num_topics in range(start, limit, step):\n",
    "        print(num_topics)\n",
    "        model = LdaMulticore(corpus=corpus,\n",
    "                            id2word=dictionary,\n",
    "                            num_topics=num_topics, \n",
    "                            random_state=42,\n",
    "                            passes=10,\n",
    "                            workers=7)\n",
    "\n",
    "        model_list.append(model)\n",
    "        coherencemodel = CoherenceModel(model=model, texts=texts, dictionary=dictionary, coherence='c_v')\n",
    "        coherence_values.append(coherencemodel.get_coherence())\n",
    "\n",
    "    return model_list, coherence_values\n",
    "\n",
    "texts = db['Post'].apply(lambda x : x.split(' '))\n",
    "id2word = corpora.Dictionary(texts)\n",
    "id2word.filter_extremes(no_below=1000)\n",
    "bow_corpus = [id2word.doc2bow(text) for text in texts]\n",
    "tfidf = TfidfModel(bow_corpus)\n",
    "tfidf_corpus = [tfidf[text] for text in bow_corpus]\n",
    "\n",
    "model_list, coherence_values = compute_coherence_values(dictionary=id2word, corpus=tfidf_corpus, texts=texts, start=2, limit=51, step=2)\n",
    "\n",
    "\n",
    "limit=51; start=2; step=2;\n",
    "x = range(start, limit, step)\n",
    "plt.plot(x, coherence_values)\n",
    "plt.xlabel(\"Num Topics\")\n",
    "plt.ylabel(\"Coherence score\")\n",
    "plt.legend((\"coherence_values\"), loc='best')\n",
    "plt.show()"
   ]
  },
  {
   "cell_type": "code",
   "execution_count": 84,
   "metadata": {
    "id": "zWrCneYq4o3d"
   },
   "outputs": [],
   "source": [
    "texts = db['Post'].apply(lambda x : x.split(' '))\n",
    "id2word = corpora.Dictionary(texts)\n",
    "id2word.filter_extremes(no_below=100)\n",
    "bow_corpus = [id2word.doc2bow(text) for text in texts]"
   ]
  },
  {
   "cell_type": "code",
   "execution_count": 85,
   "metadata": {
    "id": "Unn9eqNm4o3e",
    "tags": []
   },
   "outputs": [],
   "source": [
    "model = LdaMulticore(corpus=bow_corpus,\n",
    "                            id2word=id2word,\n",
    "                            num_topics=20, \n",
    "                            random_state=42,\n",
    "                            passes=10,\n",
    "                            workers=5)"
   ]
  },
  {
   "cell_type": "code",
   "execution_count": 86,
   "metadata": {
    "colab": {
     "base_uri": "https://localhost:8080/"
    },
    "executionInfo": {
     "elapsed": 56664,
     "status": "ok",
     "timestamp": 1637246103575,
     "user": {
      "displayName": "Alexandre Taillard de Vorms",
      "photoUrl": "https://lh3.googleusercontent.com/a/default-user=s64",
      "userId": "17158358651987272696"
     },
     "user_tz": -60
    },
    "id": "weA8fYCx4o3e",
    "outputId": "c21b4598-4d20-4544-8146-e5566d79d167"
   },
   "outputs": [
    {
     "data": {
      "text/plain": [
       "0.5560281278017414"
      ]
     },
     "execution_count": 86,
     "metadata": {},
     "output_type": "execute_result"
    }
   ],
   "source": [
    "coherencemodel = CoherenceModel(model=model, texts=texts, dictionary=id2word, coherence='c_v')\n",
    "coherencemodel.get_coherence()"
   ]
  },
  {
   "cell_type": "code",
   "execution_count": 87,
   "metadata": {
    "colab": {
     "base_uri": "https://localhost:8080/"
    },
    "executionInfo": {
     "elapsed": 13660,
     "status": "ok",
     "timestamp": 1637246117213,
     "user": {
      "displayName": "Alexandre Taillard de Vorms",
      "photoUrl": "https://lh3.googleusercontent.com/a/default-user=s64",
      "userId": "17158358651987272696"
     },
     "user_tz": -60
    },
    "id": "TAswt0gA5cU_",
    "outputId": "fd9ec568-ed55-4aee-d0df-657c3bb5212c"
   },
   "outputs": [
    {
     "data": {
      "text/plain": [
       "0.011554964307869607"
      ]
     },
     "execution_count": 87,
     "metadata": {},
     "output_type": "execute_result"
    }
   ],
   "source": [
    "perplexity = model.log_perplexity(bow_corpus)\n",
    "math.pow(2,perplexity)"
   ]
  },
  {
   "cell_type": "code",
   "execution_count": 88,
   "metadata": {
    "colab": {
     "base_uri": "https://localhost:8080/"
    },
    "executionInfo": {
     "elapsed": 15,
     "status": "ok",
     "timestamp": 1637246117214,
     "user": {
      "displayName": "Alexandre Taillard de Vorms",
      "photoUrl": "https://lh3.googleusercontent.com/a/default-user=s64",
      "userId": "17158358651987272696"
     },
     "user_tz": -60
    },
    "id": "1tcs_NCX4o3e",
    "outputId": "df27e460-375a-4655-e91f-95eb092f3fad"
   },
   "outputs": [
    {
     "data": {
      "text/plain": [
       "[(0,\n",
       "  '0.065*\"self\" + 0.055*\"model\" + 0.022*\"train\" + 0.020*\"tensorflow\" + 0.019*\"input\" + 0.018*\"layer\" + 0.017*\"def\" + 0.015*\"keras\" + 0.013*\"import\" + 0.012*\"batch\"'),\n",
       " (1,\n",
       "  '0.125*\"file\" + 0.021*\"path\" + 0.016*\"read\" + 0.013*\"upload\" + 0.013*\"json\" + 0.011*\"name\" + 0.011*\"folder\" + 0.011*\"get\" + 0.011*\"data\" + 0.011*\"download\"'),\n",
       " (2,\n",
       "  '0.146*\"java\" + 0.039*\"org\" + 0.035*\"com\" + 0.032*\"apache\" + 0.030*\"android\" + 0.026*\"spark\" + 0.017*\"lang\" + 0.015*\"scala\" + 0.013*\"util\" + 0.012*\"class\"'),\n",
       " (3,\n",
       "  '0.054*\"string\" + 0.036*\"public\" + 0.033*\"class\" + 0.031*\"type\" + 0.025*\"return\" + 0.023*\"name\" + 0.020*\"object\" + 0.020*\"new\" + 0.019*\"null\" + 0.019*\"value\"'),\n",
       " (4,\n",
       "  '0.041*\"div\" + 0.030*\"class\" + 0.023*\"button\" + 0.021*\"form\" + 0.016*\"text\" + 0.013*\"input\" + 0.013*\"style\" + 0.012*\"value\" + 0.012*\"click\" + 0.011*\"html\"'),\n",
       " (5,\n",
       "  '0.047*\"image\" + 0.015*\"color\" + 0.015*\"var\" + 0.013*\"data\" + 0.012*\"plot\" + 0.011*\"swiftui\" + 0.010*\"let\" + 0.010*\"product\" + 0.010*\"text\" + 0.009*\"point\"'),\n",
       " (6,\n",
       "  '0.045*\"react\" + 0.031*\"const\" + 0.028*\"node\" + 0.025*\"import\" + 0.021*\"component\" + 0.021*\"angular\" + 0.018*\"app\" + 0.016*\"error\" + 0.015*\"modules\" + 0.014*\"export\"'),\n",
       " (7,\n",
       "  '0.042*\"request\" + 0.024*\"url\" + 0.024*\"http\" + 0.024*\"response\" + 0.023*\"get\" + 0.022*\"api\" + 0.017*\"post\" + 0.014*\"error\" + 0.013*\"com\" + 0.012*\"https\"'),\n",
       " (8,\n",
       "  '0.026*\"docker\" + 0.024*\"run\" + 0.015*\"server\" + 0.015*\"name\" + 0.011*\"container\" + 0.011*\"service\" + 0.011*\"host\" + 0.010*\"git\" + 0.010*\"app\" + 0.010*\"port\"'),\n",
       " (9,\n",
       "  '0.030*\"value\" + 0.024*\"data\" + 0.020*\"array\" + 0.019*\"list\" + 0.016*\"table\" + 0.016*\"row\" + 0.013*\"column\" + 0.011*\"name\" + 0.010*\"date\" + 0.010*\"would\"'),\n",
       " (10,\n",
       "  '0.018*\"net\" + 0.018*\"core\" + 0.017*\"project\" + 0.017*\"include\" + 0.015*\"std\" + 0.014*\"code\" + 0.012*\"microsoft\" + 0.009*\"studio\" + 0.009*\"work\" + 0.008*\"memory\"'),\n",
       " (11,\n",
       "  '0.052*\"python\" + 0.035*\"package\" + 0.032*\"file\" + 0.031*\"lib\" + 0.023*\"line\" + 0.021*\"install\" + 0.019*\"error\" + 0.019*\"module\" + 0.017*\"run\" + 0.016*\"import\"'),\n",
       " (12,\n",
       "  '0.061*\"android\" + 0.046*\"view\" + 0.039*\"layout\" + 0.021*\"text\" + 0.021*\"parent\" + 0.020*\"app\" + 0.016*\"height\" + 0.016*\"width\" + 0.015*\"color\" + 0.015*\"style\"'),\n",
       " (13,\n",
       "  '0.079*\"flutter\" + 0.025*\"context\" + 0.024*\"widget\" + 0.022*\"child\" + 0.021*\"kafka\" + 0.017*\"return\" + 0.014*\"stream\" + 0.013*\"data\" + 0.012*\"final\" + 0.012*\"dart\"'),\n",
       " (14,\n",
       "  '0.043*\"message\" + 0.038*\"error\" + 0.023*\"connection\" + 0.019*\"connect\" + 0.018*\"send\" + 0.017*\"client\" + 0.017*\"server\" + 0.015*\"firebase\" + 0.014*\"database\" + 0.013*\"src\"'),\n",
       " (15,\n",
       "  '0.095*\"test\" + 0.050*\"org\" + 0.033*\"java\" + 0.032*\"gradle\" + 0.027*\"azure\" + 0.025*\"task\" + 0.024*\"internal\" + 0.023*\"web\" + 0.022*\"execute\" + 0.020*\"run\"'),\n",
       " (16,\n",
       "  '0.029*\"time\" + 0.019*\"int\" + 0.014*\"number\" + 0.013*\"size\" + 0.012*\"return\" + 0.012*\"video\" + 0.011*\"function\" + 0.010*\"event\" + 0.010*\"start\" + 0.009*\"window\"'),\n",
       " (17,\n",
       "  '0.046*\"app\" + 0.045*\"android\" + 0.039*\"google\" + 0.022*\"ios\" + 0.022*\"key\" + 0.013*\"com\" + 0.011*\"device\" + 0.011*\"work\" + 0.010*\"intent\" + 0.010*\"debug\"'),\n",
       " (18,\n",
       "  '0.034*\"user\" + 0.013*\"aws\" + 0.012*\"api\" + 0.010*\"create\" + 0.010*\"email\" + 0.010*\"token\" + 0.009*\"access\" + 0.009*\"get\" + 0.009*\"password\" + 0.008*\"would\"'),\n",
       " (19,\n",
       "  '0.055*\"spring\" + 0.051*\"org\" + 0.036*\"release\" + 0.033*\"springframework\" + 0.033*\"boot\" + 0.032*\"version\" + 0.027*\"jar\" + 0.023*\"dependency\" + 0.019*\"groupid\" + 0.019*\"artifactid\"')]"
      ]
     },
     "execution_count": 88,
     "metadata": {},
     "output_type": "execute_result"
    }
   ],
   "source": [
    "model.print_topics()"
   ]
  },
  {
   "cell_type": "code",
   "execution_count": 89,
   "metadata": {
    "id": "_jc0MdyT4o3e"
   },
   "outputs": [],
   "source": [
    "import pyLDAvis.gensim_models"
   ]
  },
  {
   "cell_type": "code",
   "execution_count": 90,
   "metadata": {
    "colab": {
     "base_uri": "https://localhost:8080/"
    },
    "executionInfo": {
     "elapsed": 10523,
     "status": "ok",
     "timestamp": 1637246127724,
     "user": {
      "displayName": "Alexandre Taillard de Vorms",
      "photoUrl": "https://lh3.googleusercontent.com/a/default-user=s64",
      "userId": "17158358651987272696"
     },
     "user_tz": -60
    },
    "id": "UeuCAqH84o3e",
    "outputId": "7b188fab-75c3-45e0-b0be-bb02efa43e19"
   },
   "outputs": [
    {
     "name": "stderr",
     "output_type": "stream",
     "text": [
      "/home/efkant/anaconda3/envs/stack_tags/lib/python3.7/site-packages/pyLDAvis/_prepare.py:247: FutureWarning:\n",
      "\n",
      "In a future version of pandas all arguments of DataFrame.drop except for the argument 'labels' will be keyword-only\n",
      "\n",
      "/home/efkant/anaconda3/envs/stack_tags/lib/python3.7/site-packages/past/builtins/misc.py:45: DeprecationWarning: the imp module is deprecated in favour of importlib; see the module's documentation for alternative uses\n",
      "  from imp import reload\n",
      "/home/efkant/anaconda3/envs/stack_tags/lib/python3.7/site-packages/past/builtins/misc.py:45: DeprecationWarning: the imp module is deprecated in favour of importlib; see the module's documentation for alternative uses\n",
      "  from imp import reload\n",
      "/home/efkant/anaconda3/envs/stack_tags/lib/python3.7/site-packages/past/builtins/misc.py:45: DeprecationWarning: the imp module is deprecated in favour of importlib; see the module's documentation for alternative uses\n",
      "  from imp import reload\n",
      "/home/efkant/anaconda3/envs/stack_tags/lib/python3.7/site-packages/past/builtins/misc.py:45: DeprecationWarning: the imp module is deprecated in favour of importlib; see the module's documentation for alternative uses\n",
      "  from imp import reload\n",
      "/home/efkant/anaconda3/envs/stack_tags/lib/python3.7/site-packages/past/builtins/misc.py:45: DeprecationWarning: the imp module is deprecated in favour of importlib; see the module's documentation for alternative uses\n",
      "  from imp import reload\n",
      "/home/efkant/anaconda3/envs/stack_tags/lib/python3.7/site-packages/past/builtins/misc.py:45: DeprecationWarning: the imp module is deprecated in favour of importlib; see the module's documentation for alternative uses\n",
      "  from imp import reload\n",
      "/home/efkant/anaconda3/envs/stack_tags/lib/python3.7/site-packages/past/builtins/misc.py:45: DeprecationWarning: the imp module is deprecated in favour of importlib; see the module's documentation for alternative uses\n",
      "  from imp import reload\n",
      "/home/efkant/anaconda3/envs/stack_tags/lib/python3.7/site-packages/past/builtins/misc.py:45: DeprecationWarning: the imp module is deprecated in favour of importlib; see the module's documentation for alternative uses\n",
      "  from imp import reload\n"
     ]
    },
    {
     "data": {
      "text/html": [
       "\n",
       "<link rel=\"stylesheet\" type=\"text/css\" href=\"https://cdn.jsdelivr.net/gh/bmabey/pyLDAvis@3.3.1/pyLDAvis/js/ldavis.v1.0.0.css\">\n",
       "\n",
       "\n",
       "<div id=\"ldavis_el177471404990212759845289747250\"></div>\n",
       "<script type=\"text/javascript\">\n",
       "\n",
       "var ldavis_el177471404990212759845289747250_data = {\"mdsDat\": {\"x\": [0.16911368471501095, 0.07744220214194858, -0.019815405145142174, 0.041067535467399, -0.0960194687692271, 0.1992769622551443, -0.130737771351567, -0.002430700225862859, -0.005723765874975568, 0.13838784112396768, 0.20486308481172003, 0.018470430406260795, 0.08278564345743937, -0.030283354794502275, -0.09902281100743862, -0.2613246365965035, 0.1293874268711165, -0.26837508243398306, 0.11336200022277021, -0.2604238152735749], \"y\": [-0.08834400006555752, 0.01124390279129838, -0.013732098724900556, -0.0877977174250459, -0.09925592317731821, 0.13208424550793096, -0.13777589007837224, -0.03264167891268814, -0.10504698686614543, -0.06994530048559162, 0.019725516518938814, -0.12687644028937586, -0.06712091703004101, 0.036788986218337885, -0.0630868711281671, 0.1413333349699546, 0.2784376164150371, 0.0839269943512457, 0.11684906681366683, 0.07123416059679429], \"topics\": [1, 2, 3, 4, 5, 6, 7, 8, 9, 10, 11, 12, 13, 14, 15, 16, 17, 18, 19, 20], \"cluster\": [1, 1, 1, 1, 1, 1, 1, 1, 1, 1, 1, 1, 1, 1, 1, 1, 1, 1, 1, 1], \"Freq\": [7.544887844582432, 7.373317988226789, 7.003164796193041, 6.973651059720662, 6.76443699475147, 6.531217805902381, 6.032640284733644, 5.9961822061551056, 5.510881336660851, 4.9333412333521895, 4.805867187207912, 4.495629551795144, 3.8488942202174297, 3.8432824681581024, 3.7715839035344154, 3.425528290436191, 3.4077656866622736, 2.953864228503023, 2.5757700659391363, 2.208092847267809]}, \"tinfo\": {\"Term\": [\"java\", \"file\", \"android\", \"org\", \"test\", \"react\", \"self\", \"python\", \"flutter\", \"string\", \"div\", \"model\", \"app\", \"image\", \"class\", \"request\", \"spring\", \"view\", \"public\", \"docker\", \"message\", \"google\", \"lib\", \"node\", \"package\", \"com\", \"const\", \"layout\", \"value\", \"user\", \"groupby\", \"dataframes\", \"dataframe\", \"'b'\", \"nan\", \"'c'\", \"bigquery\", \"pandas\", \"withcolumn\", \"dplyr\", \"'a'\", \"columns\", \"mutate\", \"distinct\", \"iterate\", \"conditional\", \"ate'\", \"efficiently\", \"word\", \"million\", \"comma\", \"loc\", \"sum\", \"numeric\", \"criteria\", \"subset\", \"array\", \"efficient\", \"vectors\", \"sentence\", \"column\", \"sort\", \"row\", \"partition\", \"range\", \"dictionary\", \"table\", \"split\", \"matrix\", \"date\", \"list\", \"value\", \"insert\", \"condition\", \"character\", \"query\", \"count\", \"col\", \"data\", \"multiple\", \"group\", \"two\", \"sql\", \"index\", \"select\", \"result\", \"would\", \"filter\", \"like\", \"one\", \"number\", \"name\", \"function\", \"python\", \"get\", \"want\", \"find\", \"try\", \"code\", \"foreignkey\", \"assignable\", \"deserialize\", \"lastname\", \"charfield\", \"nullable\", \"entities\", \"firstname\", \"setter\", \"cascade\", \"serializable\", \"foreign\", \"createdat\", \"responseentity\", \"enum\", \"employee\", \"serializer\", \"entity\", \"httpstatus\", \"ienumerable\", \"student\", \"readonly\", \"mapper\", \"getname\", \"public\", \"hashmap\", \"generatedvalue\", \"relationship\", \"getters\", \"relation\", \"serialize\", \"string\", \"schema\", \"boolean\", \"interface\", \"private\", \"null\", \"field\", \"type\", \"object\", \"person\", \"property\", \"class\", \"void\", \"return\", \"new\", \"parameter\", \"static\", \"name\", \"value\", \"json\", \"method\", \"map\", \"int\", \"get\", \"key\", \"query\", \"list\", \"true\", \"var\", \"model\", \"create\", \"data\", \"set\", \"error\", \"webpack\", \"eslint\", \"cjs\", \"tsconfig\", \"redux\", \"jasmine\", \"devkit\", \"nextjs\", \"ssr\", \"jest\", \"ngmodule\", \"apollo\", \"loader'\", \"devdependencies\", \"component'\", \"jsx\", \"tslint\", \"babel\", \"rxjs\", \"sourcemap\", \"commonjs\", \"'vue\", \"'express'\", \"tsx\", \"compileroptions\", \"electron\", \"router'\", \"nuxt\", \"hould\", \"dom'\", \"react\", \"useeffect\", \"sass\", \"usestate\", \"router\", \"act'\", \"vue\", \"componentdidmount\", \"angular\", \"express\", \"node\", \"const\", \"export\", \"scss\", \"component\", \"prop\", \"modules\", \"dom\", \"components\", \"typescript\", \"hook\", \"promise\", \"loader\", \"nodejs\", \"undefined\", \"native\", \"import\", \"console\", \"render\", \"npm\", \"res\", \"app\", \"module\", \"require\", \"err\", \"state\", \"error\", \"function\", \"src\", \"log\", \"return\", \"true\", \"test\", \"get\", \"build\", \"work\", \"dynamodb\", \"iam\", \"serverless\", \"principal\", \"arn\", \"jwt\", \"httpcontext\", \"tenant\", \"account\", \"blazor\", \"claim\", \"roles\", \"openid\", \"aws\", \"ship\", \"authentication\", \"signin\", \"authorize\", \"authenticate\", \"role\", \"clientid\", \"policies\", \"east\", \"tokens\", \"amazon\", \"identity\", \"subscription\", \"credential\", \"registration\", \"credentials\", \"email\", \"login\", \"lambda\", \"user\", \"password\", \"token\", \"flow\", \"auth\", \"difference\", \"username\", \"session\", \"access\", \"admin\", \"api\", \"service\", \"way\", \"profile\", \"active\", \"call\", \"need\", \"create\", \"would\", \"like\", \"application\", \"page\", \"one\", \"get\", \"users\", \"update\", \"work\", \"change\", \"function\", \"new\", \"try\", \"app\", \"want\", \"code\", \"kubernetes\", \"ingress\", \"gitlab\", \"kubectl\", \"docker\", \"kube\", \"helm\", \"volumes\", \"dockerfile\", \"nginx\", \"balancer\", \"apiversion\", \"branch\", \"workdir\", \"wsl\", \"dns\", \"pod\", \"git\", \"yml\", \"heroku\", \"alpine\", \"entrypoint\", \"compose\", \"elastic\", \"chmod\", \"jenkins\", \"upstream\", \"replicas\", \"terraform\", \"svc\", \"cluster\", \"tls\", \"ssh\", \"deploy\", \"deployment\", \"ssl\", \"remote\", \"port\", \"containers\", \"master\", \"host\", \"conf\", \"yaml\", \"container\", \"mysql\", \"postgres\", \"github\", \"run\", \"server\", \"env\", \"service\", \"config\", \"network\", \"environment\", \"proxy\", \"name\", \"root\", \"app\", \"fail\", \"start\", \"error\", \"build\", \"get\", \"image\", \"try\", \"com\", \"command\", \"work\", \"file\", \"aria\", \"ngif\", \"formcontrol\", \"thead\", \"formcontrolname\", \"textarea\", \"ngfor\", \"ngmodel\", \"radio\", \"span\", \"div\", \"dropdown\", \"tbody\", \"formgroup\", \"modal\", \"justify\", \"navbar\", \"datatable\", \"innerhtml\", \"btn\", \"checkbox\", \"danger\", \"autocomplete\", \"mat\", \"cdnjs\", \"handlechange\", \"sticky\", \"classname\", \"rel\", \"onchange\", \"getelementbyid\", \"form\", \"button\", \"href\", \"card\", \"grid\", \"click\", \"css\", \"placeholder\", \"jquery\", \"border\", \"onclick\", \"footer\", \"style\", \"toggle\", \"menu\", \"label\", \"element\", \"class\", \"item\", \"html\", \"input\", \"align\", \"font\", \"text\", \"select\", \"bootstrap\", \"option\", \"display\", \"script\", \"value\", \"width\", \"link\", \"page\", \"title\", \"name\", \"row\", \"table\", \"type\", \"data\", \"content\", \"add\", \"venv\", \"setuptools\", \"modulenotfounderror\", \"pip\", \"appdata\", \"importerror\", \"conda\", \"py'\", \"pycharm\", \"roam\", \"getattr\", \"ruby\", \"anaconda\", \"pkg\", \"wheel\", \"wsgi\", \"lib\", \"darwin\", \"traceback\", \"tar\", \"usr\", \"envs\", \"mod\", \"install\", \"backends\", \"installation\", \"win\", \"exe'\", \"recent\", \"six\", \"python\", \"bin\", \"site\", \"package\", \"instal\", \"local\", \"module\", \"line\", \"users\", \"npm\", \"command\", \"home\", \"file\", \"program\", \"build\", \"run\", \"error\", \"import\", \"find\", \"version\", \"info\", \"library\", \"fail\", \"get\", \"name\", \"try\", \"webdriver\", \"selenium\", \"chromedriver\", \"gecko\", \"cors\", \"'access\", \"origin'\", \"'authorization'\", \"xpath\", \"preflight\", \"laravel\", \"postman\", \"'get'\", \"'post'\", \"scrap\", \"xmlhttprequest\", \"xhr\", \"'content\", \"beautifulsoup\", \"mozilla\", \"scrape\", \"headless\", \"csrf\", \"'api\", \"illuminate\", \"'application\", \"headers\", \"firefox\", \"chrome\", \"response\", \"request\", \"url\", \"urls\", \"post\", \"'https\", \"origin\", \"flask\", \"http\", \"redirect\", \"browser\", \"'http\", \"www\", \"api\", \"middleware\", \"php\", \"curl\", \"body\", \"website\", \"header\", \"fetch\", \"localhost\", \"https\", \"page\", \"get\", \"client\", \"html\", \"allow\", \"com\", \"token\", \"content\", \"json\", \"error\", \"data\", \"server\", \"return\", \"access\", \"code\", \"app\", \"try\", \"std\", \"csproj\", \"ptr\", \"iostream\", \"dotnet\", \"rust\", \"visual\", \"nuget\", \"cpp\", \"clang\", \"endl\", \"cout\", \"cxx\", \"assembly\", \"typename\", \"'microsoft\", \"symbols\", \"argc\", \"aspnet\", \"breakpoint\", \"leak\", \"gcc\", \"aspnetcore\", \"dbcontext\", \"cmake\", \"arm\", \"asp\", \"macro\", \"dll\", \"visualstudio\", \"studio\", \"memory\", \"include\", \"char\", \"net\", \"microsoft\", \"reference\", \"core\", \"project\", \"compile\", \"foo\", \"compiler\", \"windows\", \"target\", \"code\", \"share\", \"define\", \"library\", \"template\", \"int\", \"work\", \"set\", \"add\", \"find\", \"build\", \"version\", \"error\", \"program\", \"get\", \"like\", \"function\", \"create\", \"try\", \"source\", \"audio\", \"ffmpeg\", \"video\", \"player\", \"fmt\", \"board\", \"floor\", \"videos\", \"timer\", \"pause\", \"serial\", \"game\", \"music\", \"scanner\", \"printf\", \"elapse\", \"cap\", \"minute\", \"ret\", \"buffer\", \"clock\", \"slower\", \"math\", \"hour\", \"mouse\", \"usb\", \"interval\", \"counter\", \"cycle\", \"week\", \"increase\", \"window\", \"time\", \"double\", \"sleep\", \"delay\", \"number\", \"int\", \"event\", \"stop\", \"capture\", \"second\", \"play\", \"size\", \"frame\", \"stream\", \"break\", \"loop\", \"start\", \"bytes\", \"end\", \"long\", \"float\", \"max\", \"function\", \"return\", \"case\", \"print\", \"code\", \"input\", \"else\", \"new\", \"work\", \"get\", \"let\", \"output\", \"try\", \"ggplot\", \"fig\", \"geom\", \"subplots\", \"cvtcolor\", \"bgr\", \"swiftui\", \"hstack\", \"plotly\", \"uiview\", \"marker\", \"plot\", \"vstack\", \"geometry\", \"crop\", \"scatter\", \"angle\", \"zoom\", \"uiviewcontroller\", \"markers\", \"figsize\", \"imshow\", \"coordinate\", \"sheet\", \"product\", \"imread\", \"colour\", \"vba\", \"plt\", \"cells\", \"chart\", \"scene\", \"gray\", \"price\", \"image\", \"legend\", \"swift\", \"rectangle\", \"draw\", \"edge\", \"circle\", \"cell\", \"opencv\", \"scale\", \"matplotlib\", \"blue\", \"point\", \"color\", \"products\", \"img\", \"var\", \"axis\", \"let\", \"bar\", \"camera\", \"text\", \"data\", \"add\", \"show\", \"map\", \"change\", \"line\", \"label\", \"view\", \"title\", \"frame\", \"width\", \"like\", \"code\", \"try\", \"set\", \"would\", \"size\", \"get\", \"import\", \"powershell\", \"pdf\", \"cancellationtoken\", \"pdf'\", \"xlsx\", \"attachment\", \"ftp\", \"discord\", \"upload\", \"multipart\", \"blob\", \"filename\", \"filepath\", \"vscode\", \"drive\", \"csv\", \"writer\", \"bot\", \"storage\", \"sftp\", \"bucket\", \"'file\", \"folder\", \"reader\", \"compress\", \"folders\", \"inputstream\", \"bat\", \"file\", \"download\", \"ansible\", \"notebook\", \"excel\", \"path\", \"read\", \"txt\", \"directory\", \"write\", \"open\", \"json\", \"save\", \"system\", \"script\", \"command\", \"zip\", \"output\", \"name\", \"data\", \"try\", \"get\", \"content\", \"code\", \"new\", \"create\", \"work\", \"line\", \"keras\", \"conv\", \"tensor\", \"torch\", \"lstm\", \"epochs\", \"lu'\", \"pytorch\", \"neural\", \"dropout\", \"epoch\", \"cnn\", \"tensors\", \"pred\", \"train\", \"optimizers\", \"loss\", \"predictions\", \"'accuracy'\", \"tensorflow\", \"prediction\", \"dense\", \"predict\", \"classification\", \"optimizer\", \"layer\", \"preprocessing\", \"gpu\", \"ops\", \"accuracy\", \"activation\", \"batch\", \"self\", \"model\", \"weight\", \"shape\", \"sequential\", \"encoder\", \"dataset\", \"def\", \"dim\", \"dtype\", \"mask\", \"input\", \"fit\", \"kwargs\", \"size\", \"output\", \"feature\", \"import\", \"init\", \"step\", \"data\", \"none\", \"true\", \"return\", \"class\", \"name\", \"test\", \"function\", \"get\", \"print\", \"add\", \"decrypt\", \"plist\", \"unity\", \"ios\", \"intent\", \"adb\", \"iphone\", \"notification\", \"simulator\", \"encrypt\", \"cipher\", \"notifications\", \"rsa\", \"uiapplication\", \"emulator\", \"devices\", \"androidmanifest\", \"foreground\", \"wifi\", \"toast\", \"permission\", \"apple\", \"encryption\", \"crypto\", \"sha\", \"maketext\", \"purchase\", \"xcode\", \"google\", \"aes\", \"webview\", \"device\", \"sign\", \"android\", \"manifest\", \"apps\", \"cloud\", \"app\", \"key\", \"sdk\", \"certificate\", \"activity\", \"debug\", \"apk\", \"location\", \"com\", \"application\", \"work\", \"build\", \"bundle\", \"try\", \"show\", \"name\", \"get\", \"new\", \"code\", \"version\", \"open\", \"mongodb\", \"mongo\", \"smtp\", \"socket\", \"sockets\", \"chat\", \"websocket\", \"conn\", \"symfony\", \"disconnect\", \"mail\", \"queue\", \"pub\", \"channel\", \"connection\", \"asyncio\", \"dbname\", \"establish\", \"asynchronous\", \"doctor\", \"closure\", \"message\", \"objc\", \"peer\", \"unhandled\", \"msg\", \"connections\", \"transport\", \"firebase\", \"foundation\", \"connect\", \"send\", \"async\", \"thread\", \"database\", \"dart\", \"php\", \"await\", \"client\", \"exception\", \"src\", \"error\", \"process\", \"receive\", \"server\", \"log\", \"close\", \"catch\", \"err\", \"fail\", \"code\", \"console\", \"try\", \"run\", \"function\", \"get\", \"scala\", \"activitythread\", \"hadoop\", \"'androidx\", \"zygoteinit\", \"androidtestimplementation\", \"'proguard\", \"methodandargscaller\", \"dispatchmessage\", \"minifyenabled\", \"proguardfiles\", \"getdefaultproguardfile\", \"androidjunitrunner\", \"'libs'\", \"testinstrumentationrunner\", \"filetree\", \"buildtypes\", \"'com\", \"spark\", \"jar'\", \"classnotfoundexception\", \"gms\", \"looper\", \"espresso\", \"threadpoolexecutor\", \"defaultconfig\", \"compilesdkversion\", \"classloader\", \"'junit\", \"sparksession\", \"hive\", \"lang\", \"java\", \"apache\", \"concurrent\", \"airflow\", \"sun\", \"util\", \"reflect\", \"retrofit\", \"intellij\", \"executor\", \"jdk\", \"implementation\", \"eclipse\", \"org\", \"com\", \"androidx\", \"android\", \"internal\", \"invoke\", \"jar\", \"runtime\", \"support\", \"sql\", \"main\", \"class\", \"run\", \"method\", \"google\", \"error\", \"core\", \"app\", \"base\", \"native\", \"thread\", \"textview\", \"constrainttop\", \"tostartof\", \"constraintstart\", \"constraintend\", \"toendof\", \"textcolor\", \"tobottomof\", \"totopof\", \"gravity\", \"imageview\", \"findviewbyid\", \"scrollview\", \"oncreateview\", \"drawer\", \"onpress\", \"viewmodel\", \"layout\", \"setonclicklistener\", \"viewgroup\", \"recyclerview\", \"holder\", \"margintop\", \"navigation\", \"fragment\", \"savedinstancestate\", \"inflate\", \"settext\", \"drawable\", \"swipe\", \"toolbar\", \"parent\", \"view\", \"tab\", \"tabs\", \"constraintlayout\", \"schemas\", \"theme\", \"android\", \"textfield\", \"wrap\", \"layoutinflater\", \"height\", \"screen\", \"width\", \"scroll\", \"fun\", \"xmlns\", \"style\", \"color\", \"text\", \"child\", \"override\", \"item\", \"bottom\", \"app\", \"content\", \"icon\", \"widget\", \"button\", \"activity\", \"match\", \"import\", \"com\", \"name\", \"true\", \"artifactid\", \"groupid\", \"modelversion\", \"springapplication\", \"xsd\", \"pom\", \"xsi\", \"boot\", \"schemalocation\", \"xmlschema\", \"starter\", \"autoconfigure\", \"bean\", \"spring\", \"war\", \"goals\", \"mvn\", \"hibernate\", \"springboot\", \"tomcat\", \"maven\", \"springframework\", \"dependency\", \"dialect\", \"jpa\", \"release\", \"factory\", \"persistence\", \"webapp\", \"nvidia\", \"catalina\", \"jar\", \"jdbc\", \"org\", \"version\", \"annotation\", \"servlet\", \"datasource\", \"security\", \"plugin\", \"info\", \"configuration\", \"properties\", \"java\", \"core\", \"support\", \"web\", \"build\", \"apache\", \"xml\", \"com\", \"project\", \"http\", \"kafka\", \"initstate\", \"dart'\", \"'package\", \"statefulwidget\", \"producer\", \"statelesswidget\", \"buildcontext\", \"createstate\", \"materialapp\", \"itembuilder\", \"runapp\", \"themedata\", \"ion\", \"widgets\", \"raisedbutton\", \"onpressed\", \"grpc\", \"consumer\", \"crossaxisalignment\", \"ontap\", \"sink\", \"firestore\", \"mainaxisalignment\", \"sizedbox\", \"scaffold\", \"flutter\", \"itemcount\", \"edgeinsets\", \"iconbutton\", \"circular\", \"widget\", \"topic\", \"textstyle\", \"listview\", \"child\", \"snapshot\", \"dart\", \"context\", \"appbar\", \"stream\", \"children\", \"final\", \"offset\", \"collection\", \"builder\", \"extend\", \"override\", \"return\", \"document\", \"color\", \"state\", \"data\", \"list\", \"text\", \"new\", \"build\", \"class\", \"get\", \"devops\", \"cordova\", \"ilogger\", \"pipelines\", \"coverage\", \"pipeline\", \"mock\", \"coroutines\", \"gradle\", \"junit\", \"kotlin\", \"insights\", \"unit\", \"logger\", \"gradlew\", \"artifacts\", \"getlogger\", \"ionic\", \"publisher\", \"myproject\", \"execution\", \"azure\", \"nio\", \"proceed\", \"handlers\", \"launcher\", \"test\", \"enterprise\", \"daemon\", \"suite\", \"jetbrains\", \"execute\", \"internal\", \"task\", \"exec\", \"web\", \"org\", \"javax\", \"invoke\", \"plugin\", \"java\", \"log\", \"trace\", \"report\", \"security\", \"run\", \"build\", \"core\", \"api\", \"project\", \"fail\", \"service\"], \"Freq\": [44031.0, 60796.0, 33819.0, 28011.0, 28539.0, 22366.0, 21624.0, 28338.0, 15822.0, 34570.0, 18835.0, 19400.0, 42579.0, 22935.0, 41351.0, 20696.0, 11402.0, 15301.0, 21420.0, 12365.0, 16491.0, 14006.0, 14336.0, 16720.0, 19909.0, 29862.0, 18645.0, 9547.0, 37547.0, 26355.0, 468.10759920797096, 415.8432173379, 4518.084606139591, 698.823259122548, 1521.432842281872, 383.128200102498, 502.88685516348727, 3916.0082344590796, 174.150635739634, 408.36678794022845, 828.8388320874344, 4077.860664820618, 363.4891974236067, 322.7572367411028, 623.697727184847, 1024.288224037079, 201.00371554240218, 173.82315320149803, 2628.6525855710797, 143.398392574017, 180.0995559526674, 402.5943359504478, 1783.7447072339955, 396.81281943934135, 331.27126388798297, 232.22337670164006, 10609.983023877136, 407.1192412273817, 193.0099522432699, 493.0530703358918, 6854.640103208921, 1906.592105566837, 8197.029665694914, 1198.4559511300547, 2900.366037753171, 865.6395068188893, 8451.029639273696, 1894.2066122056037, 1293.779311960372, 5435.321382683298, 9925.50850524985, 15542.627683482227, 2102.289688383222, 1344.5095007058374, 1649.2488191122327, 4363.724780920852, 2794.0392636414854, 2098.9231800992934, 12453.597032731674, 3699.17218791081, 3136.2352595449174, 3244.4594180397194, 2862.112659028222, 4109.840540220412, 3678.3573611625593, 4452.672090305963, 5180.273464982481, 2665.4048551482488, 4852.956957136117, 4018.8976932515643, 3274.3905284982275, 5633.888725806845, 4359.607718063034, 4137.535857499638, 5137.724785000578, 3559.241859831872, 3283.241407907308, 3356.4856701664717, 3014.3646320555526, 328.0370812874254, 385.8708889080854, 413.0377973627484, 786.0630886403385, 392.84137217305334, 998.8509870973426, 579.0141775602425, 910.0565216097845, 258.13694637624786, 486.5299071291913, 274.0135468195122, 534.9408876787323, 224.65163096877546, 305.0106821857708, 911.9235849826143, 881.2027301368598, 566.0723306325792, 2736.1620156482613, 184.3663489470663, 259.59142328247566, 813.9811114583673, 799.4068144121424, 343.7760932559963, 325.7891964004211, 18415.49381264061, 350.1050139606656, 176.84591443765092, 497.77470028856686, 194.10273934670312, 324.59829403372646, 489.7370041007703, 27576.11811295134, 2396.619549286568, 2096.092437940024, 1910.9368268604321, 7954.920479877196, 9662.620547863802, 6125.659607578416, 15841.757899427059, 10425.362136520496, 1204.1249382535254, 3395.766353095814, 16887.25039517937, 4975.3214132225485, 12932.858967264823, 10215.252694643685, 1898.3732960422449, 2977.4341583851583, 11797.661530027015, 9616.446655100066, 5400.639392062581, 4538.151199888736, 3609.4017345183374, 4195.462899665592, 8048.838319015741, 3709.16551795342, 2792.9652668029316, 3869.9836277916265, 4074.405085172893, 3574.97628091087, 3583.202598280969, 4056.4816585696803, 4706.943893577333, 3567.255100849986, 3871.410515419924, 2901.224524560398, 1474.0954619950892, 855.4251563827529, 635.9706057116008, 1341.3965788703545, 476.7845810911073, 543.5717610906197, 426.1967827890778, 375.3733162202473, 2150.0334114003326, 317.66011520889464, 559.1399745005288, 303.09307408135305, 298.45174918318276, 304.08758906804815, 557.7158798050019, 253.7462523504842, 1679.7244243030923, 438.9998388658722, 186.28118967802058, 185.74690628916767, 180.51136817663453, 174.15066210872178, 579.6713576432188, 165.9411542103044, 825.9183788856893, 118.59594049230884, 999.9545921666822, 180.8908481944171, 145.24597326515692, 21875.818734541434, 1351.5013905177707, 721.9345366646108, 1426.4708118323617, 2831.803945024248, 668.5402491384627, 4437.130285626025, 371.0838648095077, 9982.30199611389, 1979.2929844109171, 13425.869146681369, 14851.4165491106, 6731.273128275657, 945.0256138500931, 10159.001920873518, 4934.285114975634, 7218.572667085433, 1610.411947917094, 3176.5709534626203, 2799.008123518033, 2288.79638265963, 1567.7915444178916, 2546.9412660698804, 1590.4280494389304, 2183.054277829191, 4538.693761771981, 12244.958493151598, 4820.529779153441, 3176.770389043613, 3438.4436958180418, 2747.8807726484483, 8769.366520903515, 4595.338905926148, 3948.747902263996, 2977.34206025375, 4060.4653690585897, 7723.950588049523, 5716.372199101616, 3507.720817714682, 4270.92520505346, 4266.329121436944, 3489.544304189266, 3279.3120060618016, 3296.122159226075, 3057.414539496994, 3036.8518245712676, 452.10172490482915, 648.524512945555, 524.9293093476634, 440.4932494295019, 508.0032528412394, 1370.3606294494575, 398.94109132099385, 610.9617183582466, 3955.6779572517544, 1289.078930964887, 641.5890307411267, 716.1874402193508, 238.8852112628471, 6291.683859717623, 313.55312902295856, 3072.4034962536434, 343.5137937931913, 673.389464638037, 1272.4646461838765, 1913.0317584917025, 461.92307023643434, 185.40197349408308, 237.01393209117447, 553.1536775472102, 732.7960830943638, 1467.9518369530613, 590.4161534782795, 402.91146982851234, 377.2014170366866, 1454.459557274747, 4900.513962701882, 4057.0458566299876, 2575.2154951140333, 16537.858168312676, 4408.822757737375, 4782.787244046199, 948.0327093882287, 2750.6209985143532, 1594.9021692094598, 2264.570796842241, 2383.1625325254386, 4493.920754276676, 1600.3879072488076, 6038.6732622949685, 4078.893122061664, 3762.0134406340753, 1366.019182784493, 1360.8971220057344, 4067.781275361754, 3482.0015838130407, 4994.081137171933, 4082.180773524443, 3931.4173101106494, 3053.3677054185687, 2950.932808778116, 3003.323773545792, 4480.566588457177, 2565.1013630706952, 2759.6144223503766, 3556.030160785532, 2771.431732976196, 3236.079477085463, 3169.5763000084835, 3006.8535756139772, 2836.7857666396344, 2637.652889053079, 2646.095437187521, 2924.1606122677895, 1294.6546879853793, 1821.987282079646, 647.0258012449275, 12344.682440915274, 499.6071339620469, 624.4708415239278, 895.3216818503656, 1218.013357341628, 3090.8825577029247, 320.11808201982166, 665.3306500160252, 2049.284075980215, 484.8578080184194, 603.3053864065002, 699.24211459349, 2486.9470509338594, 4893.915990023141, 1294.3085979060966, 1092.036787388505, 455.3400565995912, 711.8152979196917, 2195.436318448946, 415.26138611297176, 241.9309206637901, 1298.763002699446, 282.8049853965031, 172.33481343543858, 1031.0683462838865, 333.8938517544989, 3075.4739969245343, 1555.335383470958, 2414.5185625265385, 3287.3100210119824, 1409.8689728924187, 3048.076184057442, 2880.587630489702, 4476.107552767705, 990.8440760730527, 2207.9551036823573, 5004.58863617314, 1591.1760649166827, 1484.3278126503703, 5335.430174821707, 2887.2618496087734, 1345.2606754985693, 3504.5475458624305, 11316.710407804325, 7139.211389375211, 2775.920227315644, 5121.236973015272, 3686.6036241019165, 2355.2152284352437, 2536.7557835016046, 2068.4691997236823, 7029.55621741149, 2590.5527609488267, 4480.548713759792, 3036.3997483655107, 3015.236591759046, 3939.711711040608, 3360.4482020423484, 3548.1844481358694, 3049.258932127249, 3208.23029859522, 3025.0041688226747, 2729.7343858371646, 2874.2982477775745, 2888.394249343201, 666.3204652615108, 397.1953168289355, 332.7635126592732, 309.7740711525497, 214.33198040542482, 372.914448249355, 419.6770487131249, 160.77676574160282, 701.4815957014891, 2751.2540590215845, 18633.723588396868, 1430.6834974337733, 462.3583686924366, 328.9578437053493, 2077.3661127483806, 347.6828889762599, 1049.892244955749, 712.0695487070335, 451.6678011178168, 1955.137894278375, 1101.2524748066573, 194.2964197439031, 712.1832595992325, 3074.800648656673, 266.06694894010406, 214.64424943199205, 449.34993773621886, 2325.6413757111623, 655.5061472642469, 784.3072991562764, 954.4467460522362, 9496.408333961062, 10436.261407199803, 2042.8220963929707, 2217.175979650871, 3102.329675212672, 5244.742856828097, 3921.6468777766436, 1111.0959702098826, 1461.5872857290672, 1888.505002318081, 1411.0482894685658, 748.616821263673, 6016.253928997983, 1098.2034165708546, 1825.8374078457878, 4771.850114518912, 3360.845470587965, 13630.041904991527, 4523.519898336852, 4929.923049772938, 6036.631428140519, 1322.0129779145987, 1831.9551806612124, 7068.097858672255, 4297.646103854332, 2127.7810415484346, 2952.346699270555, 3302.9873395952013, 3953.6879863524628, 5653.16701858241, 3026.6736760054173, 2883.122974379825, 3267.4066096222527, 2748.5621967110906, 4279.228321054675, 2913.2415657150464, 3020.9101400958025, 3483.5276871926235, 3669.183756787784, 2850.193525878519, 2823.7756111446192, 951.3383215976673, 846.3482578580772, 350.0538595277363, 3368.2109827819013, 1890.961450295931, 469.6324463920719, 1799.3526204863151, 338.55702459560376, 510.59760167934496, 372.8770988998887, 202.74947231395672, 1173.5156498628787, 2499.7110558756885, 805.9199195761723, 783.9519562474848, 364.9245300393382, 12957.80805978582, 300.9824453399178, 1194.563620414842, 695.1618671713932, 5344.66001651839, 716.9887812096439, 807.8207661902347, 8838.609657693041, 265.2858959013118, 957.8908176311887, 1945.8445589065807, 189.81475211958207, 1188.1322608307546, 402.93421463213275, 21662.29887660682, 3962.5030848978745, 5802.847069484253, 14755.847799333469, 4346.329342393343, 6444.26739998386, 8146.624376721429, 9509.560731399853, 6336.855192927385, 3774.484868805508, 5331.47459219161, 3465.8897150666166, 13497.67797699318, 2853.438468523577, 6628.710675444423, 6937.51432834205, 8164.260125788412, 6702.22576084399, 4389.149759506697, 3167.312086919671, 2439.7222557871255, 2271.23834149461, 2713.8318829398704, 3249.5031190546024, 2842.1662387245206, 2734.9381278353567, 1080.2656340361725, 2336.137299041004, 589.0987787871538, 207.31036309023526, 2279.167697239727, 419.44083017256895, 251.30074303088358, 139.0205558573087, 547.4604074006958, 308.977756859664, 3868.439533973578, 1071.074832191032, 278.1801685688494, 471.25312784437887, 323.1846957504355, 303.8565691885873, 322.14415851169474, 535.985560947913, 345.20001779628944, 236.25305955937057, 376.4600131809606, 432.7118458508168, 392.162571239498, 131.1447059936885, 1118.4434229166136, 477.5104679852067, 3405.114611516953, 740.1498385096254, 3736.564445981872, 9952.73929494266, 17436.675667183128, 10134.994829181262, 983.3178051587563, 6894.462991315383, 1183.1676091458344, 1602.5236905570764, 1912.3799093197094, 9959.230458225786, 2005.7238541221566, 2828.7093246509803, 743.9883219032987, 2671.0065786624227, 9114.978724393894, 919.1273372306907, 3538.4531801221156, 1169.6459369994836, 3395.2994727752607, 1526.554260558164, 2942.5619845842684, 2265.544831094448, 2232.551706561784, 5010.739126815879, 4432.356142467495, 9483.145583743219, 3897.668008893186, 3477.3564543261955, 2307.974708370894, 5228.28429752831, 2749.038503416099, 3257.0810831057656, 3829.4145485460203, 5765.452702807896, 4581.191849194252, 3503.1627674718825, 4163.197181199082, 2933.0610032428926, 3319.7631492108794, 3239.3103302469835, 3145.807463325414, 5933.175411352128, 532.6588153669259, 1059.6168415741683, 275.5999446631255, 1385.8388211352387, 856.6165119534008, 2663.985586875506, 1341.7488364515957, 1442.2103986570646, 692.1608004228405, 489.40626673085154, 813.0241826582985, 533.5673641491948, 784.0382753162395, 305.5175848765093, 257.6160244901201, 407.53722932849706, 145.67249759496173, 203.29960500112762, 264.69738156829203, 418.85436406195686, 1171.280598933124, 1333.9995546846824, 358.5550005909927, 1666.2556392704007, 780.9304481783046, 2431.063604410557, 383.91375720026616, 1195.5760083808943, 231.37201464960012, 3411.824760557403, 3010.559183996803, 6384.730487179476, 1811.8069554152592, 7046.623389305043, 4413.269690924986, 2706.7668297319474, 6775.529339227099, 6430.2604713022065, 2459.025934220801, 1499.145617051667, 1233.9039444080026, 2201.5059899459025, 2229.3133430377657, 5389.506739601306, 1790.7258415759338, 1814.373077395447, 2252.5270363919344, 1847.7620890970757, 2603.8276909325696, 3319.088761012352, 2910.5580042982388, 2888.097793838385, 2795.962975556466, 2682.3375767546663, 2478.0741601282225, 2935.754293944975, 1849.1684716070322, 2352.5255410032996, 2127.6236482993504, 2097.640022601731, 2047.367108875616, 2053.7844647262714, 1879.1586958530754, 2010.4580623356, 974.1486023106198, 3961.2149823732166, 1697.8356885322985, 534.0789806216537, 554.2673818710279, 421.2451834862472, 657.4927310668097, 908.9846630852733, 415.47705744005367, 644.8920577626462, 1432.4699605649062, 293.41128516415546, 337.3559881314228, 719.5193637057941, 211.4467209339956, 374.5412033115724, 287.5510016100692, 549.494708576828, 2068.310626402505, 357.3580388375525, 226.61720774267908, 1173.989583832505, 427.87333983996473, 705.9008069352865, 398.24643723762995, 840.2081814803732, 837.008013016605, 283.69758848121614, 491.424662370249, 707.3912919828166, 3212.6105654921785, 9861.82560822852, 1678.9784025041158, 788.4885419101339, 1128.4296100020183, 4834.964904619272, 6365.668143155536, 3536.9353862180383, 1736.3968803623409, 795.4042264954926, 2515.990007628001, 1611.6865787504912, 4338.99674539931, 2307.0540499460667, 2672.2257602767645, 1457.524669371588, 1879.3924448741277, 3377.4985072102318, 1203.1883870716274, 2388.7551730195155, 1550.7159059150226, 1398.7046310771734, 1738.552783327406, 3897.7988029012804, 3965.844170937718, 1966.4014253142466, 2195.2389345230667, 3173.950231501198, 2394.2827077025313, 1723.983355847484, 2153.4028583978247, 2143.2355983022853, 2142.225018787411, 1786.7987753329323, 1798.2124168301498, 1753.0251440861516, 828.693716171162, 765.6057207591451, 615.9903206232609, 220.5352143044586, 152.06226878756493, 176.97644405288793, 3654.993234846715, 283.05546939173183, 1070.706540739709, 244.90298519238794, 988.4848176732927, 3939.1570265112164, 507.3283139809183, 561.6496553742237, 310.9413290122959, 482.7765582130625, 344.74046345131694, 710.04897455291, 261.7371351336913, 365.70245336774167, 133.63102355456675, 352.0716310442284, 1022.0177339227835, 2124.9951914967987, 3306.108445877359, 234.67463895559618, 507.1039317446428, 582.1037039399807, 1610.037687077526, 751.4321974732452, 1880.6942202284054, 758.5090055808483, 694.4394205072458, 1839.6176906159442, 15557.512608199295, 550.5909276749235, 1759.5932882393345, 517.3823567061484, 1455.8600684630253, 1126.8034217624993, 749.2610825757189, 1863.9414870957592, 1149.6343434642804, 1346.3685357401182, 1206.2304564943097, 1114.9158678405886, 3026.466669740112, 5160.673547152419, 863.8197424101091, 1879.728882823753, 5121.305448567846, 1096.4067245292024, 3355.559786816245, 1610.8958684532101, 1139.2028828968173, 3231.0827400567227, 4198.477416046, 2892.273106194211, 2282.1361642128372, 2113.7744466811305, 2284.8480360228777, 2326.4188208749047, 1906.4926951794484, 2120.5069246753296, 1799.9609395063137, 1586.3364531288569, 1813.076588613634, 2233.7031943591232, 2471.7150865282206, 2453.1854918121767, 2171.6786719893184, 2063.506760319815, 1902.8804949924895, 2300.883648038583, 1869.7563735501726, 2143.179043018763, 3272.12124150488, 781.3969988300124, 183.27223389261027, 358.0154140715985, 435.5612761211021, 816.5701571556066, 1335.926064424521, 4199.602885667257, 345.2969579588245, 1498.4951725720766, 2261.811163830957, 459.46874822608976, 1555.844503409812, 978.2401723022763, 2865.3023173752445, 538.0932672791238, 1284.6540494324177, 3026.1925366505957, 544.1630906830816, 1394.0771592635317, 127.51955692404528, 3464.755554052285, 655.918968592303, 234.0984122340316, 664.0020765420148, 156.6340395805024, 171.85253435031086, 39139.062789936615, 3386.9374544982657, 566.4293179796157, 757.5513211832975, 1336.251512813353, 6433.598759865145, 5070.254868927041, 1362.0492261136903, 2374.052595605948, 3255.3841451951853, 3004.248266119589, 4114.10408774936, 2235.405035169826, 3201.8482489430844, 3139.3220046193424, 2786.152454499201, 914.604246447101, 2407.988118954433, 3529.271732690933, 3386.9901198164403, 3151.262192445993, 3448.628618915036, 2048.1424395919535, 2448.3239333042075, 2363.1882642099686, 2299.726701293557, 1950.493229027618, 1845.4269376588873, 3927.644567340758, 1421.1772080064989, 1514.614352023402, 1425.4995199339423, 650.1958099384773, 541.2764016792479, 475.46686094758013, 1380.9516323562302, 392.30358409047227, 363.47271602582714, 1101.7301821992746, 371.24389707075534, 279.6043326094069, 709.9467714471398, 5831.587224058954, 180.3116964998567, 2976.878434365498, 324.9092662333124, 126.63084334790321, 5221.482345681253, 307.9199161243478, 1060.8222935774616, 806.4726957168443, 386.17709118587976, 810.3004615227989, 4883.089489009537, 315.41038105762607, 1346.5478877762355, 400.60920003548335, 661.8914738434681, 1193.377219968088, 3166.402009895608, 17257.289854172515, 14775.911633549136, 2039.0698955382375, 3061.745064826541, 458.5878044012849, 888.3308839803336, 2135.018070863344, 4652.444786484616, 1252.9067224655407, 876.2883963314097, 1142.717786100713, 4982.368392916621, 1418.338098500587, 994.2436560913134, 3063.6938543031356, 3041.3277397222123, 1626.2335548818853, 3531.9438979257766, 1762.3209891560407, 1624.6279147730536, 2791.086032142359, 1640.3020561845408, 2027.264685401324, 2141.099350257774, 1942.1646386371276, 1959.3003098784984, 1842.527763302476, 1819.4344959052191, 1814.8323086132152, 1541.4422802711133, 1577.1075191511816, 658.473343878631, 299.189459570133, 1198.7015476661425, 5886.08583078084, 2691.924816660675, 387.01889964283663, 613.5928479053109, 2277.4483168220077, 479.27053353352227, 862.6467814943929, 484.295659087753, 945.3043663515098, 1129.0969016473377, 232.98010184678867, 1013.0068437407057, 1282.7462082157997, 216.78864384704448, 344.256049424194, 265.22463675751555, 654.7439416657934, 2360.9138942580607, 1240.9079507519964, 266.28277558048893, 428.55981111139744, 1503.2073533898413, 201.44979742688224, 358.5866463499791, 1655.2009996472432, 10398.900932354049, 991.4943289402893, 1040.5053317315528, 2952.077656700218, 1694.9763978923531, 11997.261864812446, 772.6796404367567, 1249.2754281218279, 2164.2878150149, 12262.238158741979, 5767.362350128097, 1787.9285656398633, 1562.2937307408006, 1425.633100894766, 2674.162287890815, 1131.623674099223, 1645.913406969327, 3375.1448843788453, 2246.264392657983, 2951.3717125952317, 2194.719279377098, 1237.6603093726092, 2103.4676707817152, 1583.0468208222167, 1901.3880613913664, 1941.1696783125246, 1797.6954938675708, 1654.0251723800584, 1549.9751553570152, 1391.4293876417587, 2682.7368452543938, 1009.9395582072617, 585.0109365317678, 2672.689176455868, 285.96081968393815, 816.1773774713888, 1076.8846140020396, 767.3108511394231, 724.3423657100782, 459.7442847165063, 1432.6095842325442, 1763.7177537013347, 972.5166848807545, 2808.6179437139176, 5940.17661862993, 434.75674716541, 136.5859172880521, 482.44317100113244, 375.3756067601931, 207.5558777995906, 456.20178026902437, 11247.833189771638, 174.10149006856287, 569.2281679380536, 313.8588393682387, 1068.4702619822835, 547.661722350081, 605.3048547893375, 4011.179949277875, 256.9126005530729, 4857.810226382122, 4710.670134506627, 3437.609675446598, 3340.109378357103, 3689.5925446669476, 1925.4297847650903, 2864.5925470077423, 2610.1576277137506, 4564.27652039372, 3058.5288367247026, 3494.611723116725, 9970.834804202103, 3039.356221803447, 1722.1454355588187, 4432.313507789368, 2756.634238046174, 1470.993138799949, 1313.7731560642337, 1491.7578164967442, 1826.3674500029986, 2162.145255298941, 1670.0407751064563, 2004.0373350676682, 1978.528080839629, 1918.3096855567283, 2069.4692355220786, 3585.7532263014673, 1204.4779727689418, 865.3890799990716, 682.9900332111685, 499.14383683441815, 265.11335387013577, 255.73356975462517, 186.9902783734783, 198.6374381072958, 153.9206599227155, 147.10330443592318, 143.65613248020736, 138.00658719199873, 122.78507771964684, 115.66729970938557, 155.48388799126113, 163.82862398458647, 1843.7448440621226, 6293.751945233044, 143.22165226880222, 201.83209745282392, 1014.4039172266748, 422.08510275182635, 408.3729322221341, 924.1436636987697, 181.08463156183834, 193.4494076626866, 398.4553099651635, 126.38935816322461, 168.66930582580568, 710.7624572847611, 4024.0205587303067, 34692.931190283954, 7667.789911725375, 1278.1998489434336, 918.4135964999097, 1562.4470988529433, 3028.3490503911876, 1607.8896689212097, 462.7686075773484, 874.1484116844792, 865.3758883179598, 1151.1383524566747, 2559.534440395077, 683.6861438123533, 9194.232811209322, 8394.558866649482, 1262.88796537002, 7242.3615215065865, 2604.108576599233, 1573.6866328690473, 2477.7089921117854, 1365.9241957729228, 1863.432485858415, 1543.7273273741835, 1973.2808338747273, 2869.4977086600047, 2656.2950887860884, 1875.5012112586837, 1715.974987556004, 2144.5806883968407, 1654.173956927974, 1848.1508655534342, 1468.054412648716, 1376.1158225491192, 1360.1865904705703, 852.0274664816641, 372.6040065352899, 344.97322151814546, 337.17873908765995, 322.5425903389057, 322.03097550689165, 321.9438545892237, 294.398370875644, 287.67977663853657, 276.01100494342813, 426.7716025148114, 568.3590015637029, 536.8672711186923, 122.31130326177512, 556.8397966338947, 277.4910955969106, 1227.1140056218312, 9300.057827139823, 208.36482426884413, 440.1684286398282, 1366.6584467213197, 404.29495715468937, 374.2380751397773, 2959.101228145221, 2735.4386737666036, 689.9141862408253, 508.2346506881876, 310.2473199940862, 609.22339883479, 287.95506219642095, 802.8882913665809, 4881.9421496906125, 10993.689348842212, 2075.0720430112606, 785.2712287380494, 625.0738367284075, 961.274781364798, 1763.1443093928767, 14488.735303755808, 913.8896591053701, 1707.623692478079, 558.5296667375467, 3710.554432517061, 2556.177350217286, 3676.5781568636953, 1526.3375244106585, 1241.9812453616908, 993.4211869082084, 3442.048646501532, 3646.663921566509, 4913.566381126228, 2211.2907809283274, 2105.13471470741, 2548.0426826592357, 1212.4301609276447, 4628.009597887724, 2403.850947140196, 1428.095787021841, 1642.6544260634412, 1915.6639224038333, 1198.1396837186755, 1464.7116059212608, 1983.0608848710565, 1654.926124134651, 1674.8265267635816, 1368.6989509486746, 3975.5500156728467, 3981.850979682417, 234.7322978008321, 661.9619807319849, 387.28041828527637, 873.3654601832417, 358.24043124045585, 6675.555344912908, 147.5451004784915, 197.8999508356334, 885.2877375241244, 287.47957112038864, 3413.1732053346077, 11189.173044892534, 431.37500242135275, 286.22073570801484, 220.77293244602345, 2911.6068728552214, 357.663875253689, 1630.4309316466038, 2937.572587670678, 6710.02386251754, 4661.5915133042, 274.669924265263, 1734.2947468165553, 7391.265936625128, 2018.8997588130014, 417.49115380857273, 783.4957576285135, 387.06282969788055, 1479.2624733617793, 5628.43675867439, 1198.2175500025141, 10416.149260794702, 6648.263020798879, 953.6741696522668, 848.0415420842164, 780.1830580145858, 1723.2616552153568, 1926.5754753699039, 2491.735507810556, 1661.5409616380268, 1268.23992329911, 3805.957766512536, 2259.7964452497663, 1666.2377206289582, 1686.9386758444523, 2049.6947214857832, 1502.6874799666284, 1277.9297728003253, 1896.8151876537272, 1595.2680423785598, 1528.2461691016313, 3846.611914931491, 586.800419096173, 1122.7710018003952, 999.683706980573, 469.20168932928004, 536.1501714901915, 350.52192592802425, 1244.502357524668, 349.92864526701896, 265.6128980661207, 161.69579966067437, 190.87758118101362, 125.73064461423284, 1015.6298074782613, 1121.1724157074188, 131.27559946233885, 578.3307385447971, 1357.5451002555376, 1527.4460944068403, 323.99436163675364, 266.57596324871145, 507.08950508055693, 1934.890997070826, 483.11092207391954, 192.20263717366143, 618.1964065650355, 14201.89153049108, 166.11962702152763, 659.71996790555, 230.50893772417638, 479.8481076652, 4294.317714313173, 1237.259790601812, 561.0732106302354, 684.2330244771141, 3981.883739980061, 1159.040684663472, 2105.4569156805537, 4509.749237793074, 610.9898907676989, 2512.3396708520463, 1310.444909089582, 2123.032193630908, 918.206496202512, 1013.6887982092527, 1297.755329682748, 1371.6137081492943, 1534.256547954684, 3115.560439876296, 1572.049630517168, 1830.7186650322221, 1685.1903156121655, 2300.236687358835, 1644.680686967186, 1631.699114282445, 1747.8075780433269, 1626.4182287190688, 1501.9317334530738, 1151.841045670425, 1315.000070246346, 891.7456015899013, 202.36655320387433, 432.40289130522143, 650.046601124806, 2728.6326808701747, 1698.2595093915784, 289.2839284073436, 4870.754485347806, 1445.014964093901, 1918.9313755119463, 275.0198848830735, 1601.7106463837106, 1305.5249118371935, 154.1066452741988, 380.8646035758241, 122.41734954962773, 1112.6888602565584, 348.76514639372255, 257.9500225798156, 1581.2443042199411, 4086.8830620492063, 396.4489525444826, 369.07353352232286, 255.72702250953557, 631.8560119400312, 14633.327176218501, 173.5149995389795, 467.3890919789681, 121.9697001209027, 305.2275795273658, 3432.8067317892137, 3648.844916746686, 3884.146970521705, 953.0671690184984, 3604.515466731836, 7636.821616344324, 757.3548423527561, 1239.0636068968806, 1616.0059879425448, 5081.641499721575, 2792.6044343853378, 673.1376907899705, 791.7646732849626, 1113.1351788042475, 3059.679281038782, 2389.2134991721523, 1864.9668469935266, 1486.3149358590194, 1302.7779733789382, 1106.4937787437507, 927.2855916880139], \"Total\": [44031.0, 60796.0, 33819.0, 28011.0, 28539.0, 22366.0, 21624.0, 28338.0, 15822.0, 34570.0, 18835.0, 19400.0, 42579.0, 22935.0, 41351.0, 20696.0, 11402.0, 15301.0, 21420.0, 12365.0, 16491.0, 14006.0, 14336.0, 16720.0, 19909.0, 29862.0, 18645.0, 9547.0, 37547.0, 26355.0, 469.3465537599581, 417.62144225838597, 4544.5588905650675, 703.0022934398854, 1532.2087575522924, 387.0219131885592, 511.52496952638876, 4011.4306702039153, 179.92297736425544, 432.0013376138964, 895.9822868630337, 4489.762871139716, 402.571707248385, 371.25592382104713, 719.0339154871382, 1182.6223626939498, 238.51508886269286, 209.27410607152453, 3195.5114000058893, 174.50208308050404, 220.65134888249358, 497.174970763495, 2216.620897526099, 500.09064561780855, 427.3352397826774, 300.1543545719888, 13724.459272275983, 528.3658401572801, 251.45607161943875, 649.4622621836761, 9554.17442870096, 2605.5744292954096, 12118.113576351556, 1654.8973600244028, 4433.546561043483, 1203.8773951347075, 14877.281514191644, 2904.5741430628877, 1933.558137004999, 10026.659006270203, 21142.940030219354, 37547.05797944004, 3491.843769510766, 2086.207013917085, 2713.2475495594476, 9655.527196985277, 5538.7126012132385, 3873.568093854678, 46853.15577557122, 8685.442720556002, 7110.589192042488, 7845.890765800769, 6719.653318788797, 12050.521745839482, 10379.731004921245, 15232.705045249524, 23222.954956548045, 7066.612400515114, 23503.44350104403, 16307.452622216215, 10794.040260192905, 48102.07612563343, 32747.15306544475, 28338.03246661872, 57747.731563611924, 18574.957387743292, 25087.465454147095, 39015.92368124846, 37506.379258538786, 329.2467182594972, 390.793542513907, 421.4528999656838, 809.6965398987879, 410.96829808231695, 1049.4908940526914, 612.5495478639702, 965.9992965593896, 274.3046328455653, 521.8267917255762, 294.5902121193301, 577.9141650034082, 243.23694266203717, 331.1833130954906, 998.5467238314696, 965.3160719809175, 622.6167247721495, 3058.3934547190333, 207.15978948064904, 294.95728194822095, 930.1180089425661, 915.8733129313821, 394.29005137353516, 376.7052074968471, 21420.828332547047, 411.1349786116788, 208.05213163582127, 585.7401557098102, 229.77624073722703, 388.00470955225603, 587.5959175592337, 34570.600913411625, 3023.3308413384534, 2688.56509916658, 2481.5734054960776, 11546.347291715781, 14593.124027451153, 10061.701433007873, 31949.696921779007, 19925.896938052865, 1674.4354369302234, 5703.057614378266, 41351.484641282004, 9628.09531999212, 40261.951943715, 33429.05520188348, 3531.206269802295, 6638.408897062384, 48102.07612563343, 37547.05797944004, 17636.416706110263, 14452.835680208784, 10919.439052152715, 15238.616548359763, 57747.731563611924, 16592.101272619304, 9655.527196985277, 21142.940030219354, 23853.720657967948, 19013.531725503006, 19400.490224851084, 28936.910572016215, 46853.15577557122, 23784.67255586225, 54451.869723944896, 2903.2356810507013, 1475.2970953094116, 856.5290490507849, 636.9978486853539, 1343.9449228433878, 477.8130571726053, 544.8729323684909, 427.2580537949064, 376.41247832869016, 2156.2901538587116, 318.64826630334136, 560.881119920481, 304.0931015846558, 299.4483237909669, 305.1036163507379, 559.6970490265633, 254.74750815664132, 1686.404606476234, 440.8834434812854, 187.252686427435, 186.7310414946924, 181.4947619842268, 175.12830657079007, 583.0130898931066, 166.91194060026763, 831.011884057115, 119.57257848338998, 1008.2916242711098, 182.43504282226235, 146.5692113940937, 22366.334305136057, 1371.1276172485602, 744.4789715502823, 1495.6623905319398, 3052.1857152677576, 697.4135091022231, 4958.928671454259, 381.2256730335071, 12009.304801267868, 2207.3079080473967, 16720.18287038926, 18645.312643842575, 8052.7679987775455, 1020.7510197905965, 13284.507089810122, 6187.594773186936, 9557.29755303381, 1852.706961943727, 4076.097808220459, 3697.2200553568437, 3010.6840267802545, 1931.365151255703, 3466.367865250164, 2014.319023540888, 3045.5423958929164, 8215.00160590715, 38119.524209579584, 11254.543631446577, 6294.465513580349, 7441.51212022627, 5207.142827999279, 42579.243324863004, 13775.882994610953, 10380.94313020153, 6096.362922025726, 12307.531285417519, 54451.869723944896, 32747.15306544475, 11468.911703826756, 20978.1670681727, 40261.951943715, 23853.720657967948, 28539.348624460545, 57747.731563611924, 26421.112798074617, 34907.45422391661, 456.4926280822469, 657.9511697059434, 542.4125380074271, 459.11787505322746, 536.0741355809818, 1469.9361397150406, 437.9798791226425, 683.906700499419, 4498.247173738627, 1474.217308699513, 738.9224148846697, 829.100060100507, 278.6413205289296, 7454.441843462809, 374.9966642461559, 3687.2284669474225, 412.7117767906948, 836.017036205009, 1603.929828135756, 2476.4298714360157, 605.6816405112029, 244.53968408580343, 316.391354616357, 747.3442205607998, 992.2240957859591, 1998.8309366756828, 814.8389644669535, 560.5896908780749, 525.8437682234947, 2028.1875715039853, 6986.86894819871, 5782.671014487975, 3739.1221802899368, 26355.830097677106, 7363.138926414717, 8245.019495414783, 1433.5003110403502, 5433.640738854857, 2790.4528813207426, 4459.01073769645, 4883.221223467311, 11397.834763868312, 3024.3728040018477, 21215.500554342776, 16131.512737871597, 14555.749643532272, 2699.962000098775, 2787.338595457522, 19118.394642493946, 14843.476286184068, 28936.910572016215, 23222.954956548045, 23503.44350104403, 14950.713876441743, 14081.925000303672, 16307.452622216215, 57747.731563611924, 11929.010344612892, 15207.597987841757, 34907.45422391661, 16648.6231466759, 32747.15306544475, 33429.05520188348, 39015.92368124846, 42579.243324863004, 18574.957387743292, 37506.379258538786, 2925.7655813260717, 1295.8986761336496, 1824.115706111989, 648.0846885240366, 12365.237033225489, 500.62017318372784, 625.7876899788313, 898.4039518861842, 1222.3246392147587, 3119.727724136243, 323.1723378123062, 675.7676092913158, 2085.787244249927, 497.31114238977295, 619.5244033151097, 721.2618946064556, 2604.377466046008, 5143.945149120105, 1367.7715333580618, 1156.382731419528, 482.6381031891959, 755.0969807987082, 2362.3689365861214, 451.67871231496656, 264.7477712199946, 1425.2147489549232, 310.34289357590916, 190.47932654711863, 1159.3723115291389, 375.6021098651291, 3488.250464977829, 1754.0156558377344, 2744.9927011175546, 3836.4825179280883, 1626.0846642347765, 3721.123637678172, 3542.2269743881607, 6197.457940318981, 1124.562622281588, 2935.5615061298945, 8051.589179992976, 2000.1037229229114, 1868.345225527668, 9882.948038570425, 4676.4062506031605, 1702.3160128817071, 6611.161416077256, 36736.5478322718, 20736.02946220682, 5535.430186872351, 16131.512737871597, 10534.287055239454, 4518.003973488231, 5245.907578545962, 3594.6012677810095, 48102.07612563343, 6396.119744861479, 42579.243324863004, 14856.590031710162, 14851.304940297658, 54451.869723944896, 26421.112798074617, 57747.731563611924, 22935.12564025543, 39015.92368124846, 29862.96052789733, 12256.2938011662, 34907.45422391661, 60796.57250671523, 667.8937904730222, 398.4212777932189, 334.02268511831784, 311.00510467221767, 215.37819248649944, 374.84041586520954, 421.92894679602745, 161.94708413455598, 707.2285375335038, 2774.607958363635, 18835.9732624527, 1447.5927034187966, 468.5277235753244, 333.9433930006127, 2123.5393005518226, 356.12832086706345, 1078.8458642582852, 736.1406513298388, 470.88811344719596, 2039.1487376425744, 1148.817794853198, 202.80360725241832, 755.8410711735108, 3264.295389395121, 282.73623727347683, 230.83714650146035, 483.6231385801166, 2505.2644354068534, 709.8779646625328, 855.388789471681, 1074.2707416645387, 11869.782497906515, 13141.667939759443, 2377.776323241531, 2690.602714782999, 3887.287877500384, 7176.747779295821, 5302.2573394650435, 1294.5226406724632, 1763.5695190345343, 2375.2252646217075, 1736.9235106927758, 846.514596983071, 10656.003306536528, 1367.9624118685892, 2649.417921933526, 9337.063460112111, 5981.894965868622, 41351.484641282004, 9447.607770023056, 10838.7491516821, 16047.844441746813, 1787.4101174105372, 2899.6806295827437, 21868.26612854095, 10379.731004921245, 3637.2893470001263, 6213.165200789261, 7581.312387518558, 14005.46944223708, 37547.05797944004, 9171.138382783223, 8635.89717108645, 14081.925000303672, 8420.637302717001, 48102.07612563343, 12118.113576351556, 14877.281514191644, 31949.696921779007, 46853.15577557122, 12095.55267781269, 25459.627908580704, 952.6247089563234, 848.0856071624909, 351.0913760829422, 3379.5802822822548, 1898.3733679846953, 472.7193581123808, 1812.6205837694422, 342.36552663509104, 521.9272691045747, 381.22068710908684, 207.75027916617069, 1230.7386904802534, 2634.7035212332407, 849.7192672830527, 831.8023803067476, 390.4800996415826, 14336.320863478977, 333.063596641532, 1337.177200589355, 789.0656271957771, 6206.1284847107045, 834.3477750234614, 946.178005335894, 10361.715938443896, 312.8576815928269, 1132.9964752888575, 2363.8535856455046, 231.62824037168733, 1527.104239077749, 518.7685987433559, 28338.03246661872, 5146.313776052544, 7565.77957635585, 19909.70217135954, 5886.8697918273065, 10438.261814112298, 13775.882994610953, 18281.452168037053, 11929.010344612892, 7441.51212022627, 12256.2938011662, 7498.257020710842, 60796.57250671523, 6377.330916579291, 26421.112798074617, 36736.5478322718, 54451.869723944896, 38119.524209579584, 25087.465454147095, 19854.483103118662, 10247.962469536076, 8386.65073443847, 14856.590031710162, 57747.731563611924, 48102.07612563343, 39015.92368124846, 1083.3944227618833, 2344.8673408961818, 592.3113429911431, 208.76868063755487, 2309.1708708819233, 425.0436307262492, 256.6033166489064, 142.47207784973887, 562.3371814533605, 320.073057232268, 4013.03150120214, 1113.5046727267768, 290.0324698588035, 492.81125967739086, 338.25832869328826, 319.08964308480745, 340.61930693531934, 568.2431815290572, 367.63952033559644, 254.57412636471236, 410.1728345469728, 480.8909412066765, 436.27782911061, 146.5945332362872, 1258.429782744692, 539.6611878447849, 3878.1689573661347, 844.8821234812433, 4269.381185561466, 11395.619781319238, 20696.53951026068, 13320.100135381135, 1148.5215270918534, 9557.419232959177, 1453.4226694495765, 2041.8872749888885, 2501.2624526534487, 16070.181700676045, 2676.4221756156394, 4201.359098927183, 905.453366981492, 4231.277258547384, 21215.500554342776, 1240.0991527194587, 7013.180575762898, 1697.1491041818376, 7529.391449241696, 2498.0989832330933, 6421.036670105155, 4507.833400851216, 4604.079917794123, 16453.085769139114, 14081.925000303672, 57747.731563611924, 13130.912577093064, 10838.7491516821, 5582.07424650042, 29862.96052789733, 8245.019495414783, 12095.55267781269, 17636.416706110263, 54451.869723944896, 46853.15577557122, 20736.02946220682, 40261.951943715, 11397.834763868312, 37506.379258538786, 42579.243324863004, 39015.92368124846, 5988.002392126887, 538.5876810680725, 1075.7689521477998, 280.19914702992446, 1418.7503535719693, 879.6188170269443, 2743.6088259369303, 1383.4806505903036, 1505.2304362922607, 729.0163380540432, 515.8669806780454, 861.2134264147079, 570.8972229189319, 848.4219023599402, 335.68989735562474, 283.36044862096793, 463.47952608873834, 166.4750973569923, 238.39336345123345, 314.8583069003683, 504.14030153567154, 1420.9444364581648, 1656.6173838517461, 446.2018989184509, 2076.6246042349144, 981.845220603855, 3137.0609760667944, 498.9212320837794, 1586.7237286064023, 310.9755155359249, 4648.772072448872, 4395.229699165022, 10157.468700588273, 2612.939302946391, 11632.585262451734, 7042.285969957632, 4918.470124599106, 16789.495724495366, 16993.35477587747, 5346.437824615531, 2797.794310157288, 2401.519682538855, 6900.899794950186, 7107.710140875895, 37506.379258538786, 4861.684199667687, 5289.564226822663, 8386.65073443847, 5549.206751402595, 15238.616548359763, 34907.45422391661, 23784.67255586225, 25459.627908580704, 25087.465454147095, 26421.112798074617, 19854.483103118662, 54451.869723944896, 6377.330916579291, 57747.731563611924, 23503.44350104403, 32747.15306544475, 28936.910572016215, 39015.92368124846, 8247.960555650161, 2036.8902610078394, 987.8877214923032, 4030.649418417406, 1782.1330638170582, 580.3031834023401, 602.8821530055865, 459.72377308785696, 719.4181966083266, 1006.7942012990025, 466.4936343188487, 725.9490212161973, 1628.4163916246207, 334.3201970922789, 405.04992651501834, 865.1649510908024, 255.02921368911203, 458.0687844351236, 354.51800383021344, 681.4004766068806, 2566.152755570836, 449.37145023187384, 295.6028190005779, 1531.781546773409, 558.9143882976297, 931.9966059898592, 535.8417896144928, 1139.410281529532, 1140.0581633904958, 393.7385704803781, 697.0113647879432, 1017.7220686046394, 5277.7480843024705, 18690.460723729375, 2753.368217292852, 1181.026547900142, 1812.3392292700369, 10794.040260192905, 15238.616548359763, 8130.327417619516, 3266.882649403313, 1202.6380210991379, 5611.804875041476, 3151.4424306354317, 12727.421197204807, 5255.462281300556, 6677.071239885239, 3011.364067038285, 4749.307619958805, 14851.304940297658, 2379.6115772651906, 8677.895877222665, 3928.6689507663846, 3217.114131863891, 5347.720264619579, 32747.15306544475, 40261.951943715, 8052.019498639744, 11270.089407068685, 37506.379258538786, 16047.844441746813, 8001.536072659114, 33429.05520188348, 34907.45422391661, 57747.731563611924, 11192.272867236714, 13015.27300864372, 39015.92368124846, 829.9793460718586, 768.8654842045296, 618.8563107368153, 221.65171165822647, 153.19986874983456, 178.71529919740203, 3691.772781134153, 287.3311451161799, 1090.144539833445, 250.12459786230113, 1013.9870851343037, 4049.8476328790102, 522.263719005512, 580.3890102897662, 321.8324189629992, 501.5145312732809, 358.8898533679557, 744.0075594179847, 274.29149624551593, 384.2978805458633, 141.2369530201505, 373.0516894493362, 1083.8403712104553, 2263.5956538200203, 3545.2374667004883, 253.06337345899814, 547.1892007294804, 632.7101765966831, 1768.754418073661, 826.7526010908728, 2137.5837188734563, 840.2384201569221, 773.8811655679038, 2198.573842594106, 22935.12564025543, 611.4176965895278, 2248.831469960727, 573.3015882463743, 1834.5516045286809, 1403.2819774264442, 878.2726992259927, 2575.0899396177947, 1486.8715571032426, 1952.5275546132887, 1693.5039561659762, 1535.1609944389031, 6155.587442392602, 13344.302563908865, 1098.1018032330505, 3552.974876668094, 19013.531725503006, 1630.8218254131211, 11192.272867236714, 4142.634232911822, 2000.4941872561221, 21868.26612854095, 46853.15577557122, 25459.627908580704, 13272.121961495193, 10919.439052152715, 16648.6231466759, 18281.452168037053, 9337.063460112111, 15301.649176490357, 8420.637302717001, 5255.462281300556, 9171.138382783223, 23503.44350104403, 37506.379258538786, 39015.92368124846, 23784.67255586225, 23222.954956548045, 12727.421197204807, 57747.731563611924, 38119.524209579584, 2149.4604704906524, 3307.7684436812683, 793.2388845295644, 188.9813894104305, 377.3857541879406, 469.33943696502354, 890.2071547558224, 1458.1073908003837, 4630.916720641002, 393.3740735820969, 1728.7636013299064, 2628.1314776058102, 534.4585591207255, 1890.7028349257512, 1203.0673197064273, 3576.123692947557, 675.6826736068382, 1616.6445014074757, 4084.8900427990807, 738.5809372274963, 1899.9945554523022, 175.40766919591056, 4770.586292835253, 929.4133002812857, 341.4335531689795, 968.7277002093397, 236.4834515872124, 259.50947868104583, 60796.57250671523, 5410.5237026132145, 913.74643093728, 1249.7764420586452, 2362.8802004056197, 15251.274815483706, 12346.92414671217, 2591.429244212538, 5714.673526488787, 9731.69009171725, 9098.046977039174, 17636.416706110263, 6739.532084777317, 12093.87937886608, 14005.46944223708, 12256.2938011662, 1729.8977577396943, 13015.27300864372, 48102.07612563343, 46853.15577557122, 39015.92368124846, 57747.731563611924, 12095.55267781269, 37506.379258538786, 33429.05520188348, 28936.910572016215, 34907.45422391661, 18281.452168037053, 3929.091776176934, 1422.2889116414292, 1515.8451464865047, 1426.853406497316, 651.218410959645, 542.3014226659718, 476.43952539810135, 1383.82156291248, 393.2931475052611, 364.44485876978894, 1104.7076674963473, 372.28570150447996, 280.5930318176235, 712.7971360881373, 5856.833135806592, 181.31902567338267, 2996.136670451811, 327.2255440079613, 127.59875479309379, 5289.303754820609, 312.4955298312927, 1080.7768951432886, 826.2260564041921, 399.05337172617, 844.4801603896191, 5100.344819291587, 332.13472907526057, 1418.3172196094122, 423.0649940498803, 700.4895017558496, 1288.3033101194947, 3544.3517687993885, 21624.66793006863, 19400.490224851084, 2445.414522181181, 3976.2118193498513, 487.6602648247812, 1063.1480175363265, 3108.115118929087, 8269.690513936039, 1670.2027039439358, 1094.6892162454149, 1586.216016656728, 16047.844441746813, 2338.0778938829676, 1387.8197799100055, 12727.421197204807, 13015.27300864372, 3964.5064041154715, 38119.524209579584, 6232.06583827944, 5421.788852823511, 46853.15577557122, 6345.733393172345, 23853.720657967948, 40261.951943715, 41351.484641282004, 48102.07612563343, 28539.348624460545, 32747.15306544475, 57747.731563611924, 11270.089407068685, 25459.627908580704, 666.3197812253214, 303.9180825261345, 1217.8957302039714, 6307.198049001582, 2884.798031711458, 414.85557226548065, 661.0350956621069, 2471.242766425206, 520.6473904951833, 938.775907226355, 535.3882221462875, 1047.9773242911217, 1262.1133986506536, 265.32911151141076, 1158.058226246327, 1498.2912104580441, 255.17776442202978, 408.7472466526614, 326.4925006595453, 812.357618338931, 2945.426075181477, 1553.6494756812908, 333.5414040164677, 540.4729106863465, 1935.8379744450529, 262.8443720778683, 472.76255482144546, 2202.0198758336214, 14006.723336855339, 1369.3505123064963, 1437.8163635223927, 4646.094705482939, 2741.748377749006, 33819.55230122867, 1199.2123697547322, 2170.2107258947995, 4401.040292253661, 42579.243324863004, 16592.101272619304, 3715.2815457402407, 3206.7620006302714, 2817.3481539171007, 8074.787469294029, 2092.4223122246763, 4623.2133182321195, 29862.96052789733, 14950.713876441743, 34907.45422391661, 26421.112798074617, 2941.7581702458965, 39015.92368124846, 13272.121961495193, 48102.07612563343, 57747.731563611924, 33429.05520188348, 37506.379258538786, 19854.483103118662, 9098.046977039174, 2772.722486970775, 1079.9353988836478, 628.2063622353552, 2884.42365593255, 314.19118543448144, 912.2020838683886, 1208.7285895856337, 872.1515615769258, 823.8731760149125, 533.0430583492634, 1757.9699981629547, 2181.7936239675664, 1225.3067148927075, 3638.8212878169634, 7722.433930711259, 580.4000478464374, 183.4887145876374, 655.9874833229295, 510.4751506667675, 286.12231497636935, 654.9863018490494, 16491.289413204653, 260.69504481432716, 879.1033225023307, 497.28191969651203, 1699.9718559329135, 874.1582150051198, 972.7718761635073, 6470.008530340353, 451.9656502683548, 9092.25672128051, 9855.813299187477, 6945.448626142058, 6912.810312751942, 8734.894963844816, 4033.0124606887343, 7013.180575762898, 6292.594662850102, 13130.912577093064, 7954.787094625484, 11468.911703826756, 54451.869723944896, 9766.965305215264, 4271.545326811611, 20736.02946220682, 20978.1670681727, 4951.706965780746, 3685.351537943408, 6096.362922025726, 14856.590031710162, 37506.379258538786, 11254.543631446577, 39015.92368124846, 36736.5478322718, 32747.15306544475, 57747.731563611924, 3587.264716922959, 1205.8139201338508, 866.4660767927054, 684.0672637203064, 500.24818267901793, 266.14593574108716, 256.7579111569419, 187.9715108935377, 199.68020729854442, 154.90512768583855, 148.09066469744133, 144.64458603270302, 139.01679657256437, 123.79158807923558, 116.65899481174208, 157.5164182146264, 166.02446254288822, 1889.7130814139912, 6453.200925191795, 147.08507304843994, 207.54038390590296, 1046.4218812034082, 436.07342595131547, 422.75579361706076, 964.7155204508848, 189.53270290155544, 202.68320307430574, 418.5940981477776, 133.21112726323537, 179.40058672675886, 770.6154203071037, 4645.580842326987, 44031.45038496067, 9367.726321954577, 1477.3903719466064, 1081.9588737343481, 1936.0290493870914, 4074.967822443038, 2071.618123085284, 529.0014252599544, 1125.115659243741, 1121.1744773396542, 1575.7120699870761, 4112.97572112906, 885.0615169020386, 28011.560667420745, 29862.96052789733, 2373.727120306432, 33819.55230122867, 8505.151977878482, 3796.3691199247514, 8235.717081094721, 4090.920125726371, 7993.071921591646, 6719.653318788797, 13869.414216324329, 41351.484641282004, 36736.5478322718, 14452.835680208784, 14006.723336855339, 54451.869723944896, 16789.495724495366, 42579.243324863004, 11648.332300597482, 8215.00160590715, 6912.810312751942, 853.5639549375481, 373.5863011828736, 345.9537933397368, 338.1557033013962, 323.5144720359065, 323.0067909925064, 322.94465308749596, 295.38097775728886, 288.6487451785746, 277.0118886727817, 428.40967870173085, 573.3627974832037, 541.7706086176448, 123.66106638231741, 563.4550604695369, 280.8595865272856, 1251.9246670667776, 9547.679913984452, 213.99811254325292, 453.87451369237874, 1412.0050401295907, 422.19295253137113, 391.9866208974006, 3109.752939868915, 2883.6852719227772, 734.4372384889253, 542.6334313889737, 336.8374044010652, 667.0341716342714, 322.0017170205669, 905.7206857642577, 6059.051270927469, 15301.649176490357, 2703.535892820518, 935.3804191689278, 719.141408694834, 1221.7758205432185, 2554.0867595138534, 33819.55230122867, 1173.2890452725362, 2592.2445802154893, 644.2930298115617, 7685.630554425203, 4947.775793057585, 9171.138382783223, 2803.815539695988, 2088.0455723224895, 1551.1453898740415, 10656.003306536528, 13344.302563908865, 21868.26612854095, 6759.24962597624, 6584.492150665117, 9447.607770023056, 2546.030991117954, 42579.243324863004, 12095.55267781269, 4080.8765815594325, 5951.019435178588, 13141.667939759443, 2817.3481539171007, 5790.657713238744, 38119.524209579584, 29862.96052789733, 48102.07612563343, 23853.720657967948, 3977.2567233229397, 3984.0060499571046, 235.7149011923085, 665.0504609887375, 389.41348881960243, 878.3560200631204, 360.51654539340035, 6720.817970653163, 148.62115778999464, 199.39572922744605, 894.5209167537384, 290.66479884225333, 3474.267211857343, 11402.734525209138, 449.23792304241323, 301.1467543805151, 233.47939472488287, 3181.805346778555, 393.28215889690864, 1798.3923277442082, 3247.375194903936, 7417.705089829181, 5160.323853960873, 309.93586057131455, 1983.959235361888, 9323.774060261672, 2550.7254747649386, 533.9385268696661, 1016.3235733162252, 523.3365488249835, 2013.5768922379912, 8235.717081094721, 1787.5728086934403, 28011.560667420745, 19854.483103118662, 1607.0792445386548, 1399.3427001308814, 1373.4657464054026, 4824.2570437664, 6086.596176075889, 10247.962469536076, 6574.617336207228, 4079.808291797597, 44031.45038496067, 16789.495724495366, 7993.071921591646, 10898.06845295824, 26421.112798074617, 9367.726321954577, 4698.664440865406, 29862.96052789733, 16993.35477587747, 16070.181700676045, 3859.4503755992414, 589.2117963145344, 1127.730980475574, 1004.365974292561, 472.3148294163544, 540.0233084996466, 353.48013980196225, 1256.1602041602375, 353.4565000125236, 268.3772836360818, 163.9684523450878, 193.62278833033582, 127.60676793048287, 1034.3979489763526, 1142.0511364613194, 134.56468722415562, 593.5694187950843, 1394.9621536367022, 1572.308086960529, 336.2751259477103, 278.548776870009, 530.3423022937053, 2065.34127753993, 517.1094625951367, 210.68372658850723, 680.7663702717565, 15822.75093855582, 185.5041619574899, 759.382732608019, 265.71598402158514, 565.2425514021227, 5951.019435178588, 1591.740801445019, 678.6787693296583, 880.7817297404134, 6759.24962597624, 1757.3743439553216, 4033.0124606887343, 11940.352134553203, 829.9616564180152, 6677.071239885239, 2764.133175178898, 6131.458405291032, 1612.1751004429718, 2243.1861545315996, 3728.01933274222, 5102.365848733432, 6584.492150665117, 40261.951943715, 8167.508482797535, 13344.302563908865, 12307.531285417519, 46853.15577557122, 21142.940030219354, 21868.26612854095, 33429.05520188348, 26421.112798074617, 41351.484641282004, 57747.731563611924, 1325.8728078885329, 902.1644115626939, 217.0937607833997, 494.9875131253774, 746.1486467353003, 3175.9803929296463, 1989.9877155198412, 344.11559972445855, 5823.017748655101, 1752.4115404318877, 2352.424615597662, 359.9353581790842, 2139.375847418073, 1758.4437848144207, 210.48856096149058, 527.7410008561648, 172.1126833398481, 1728.1487673611282, 594.9381423208099, 455.8370651428187, 2871.8209566567284, 7452.058825615874, 731.819310769495, 699.7968021057947, 485.06030767063174, 1217.96511829142, 28539.348624460545, 355.3762262472228, 966.5196849593908, 253.87157532899465, 640.541998082543, 7840.211801865395, 8505.151977878482, 9571.311591928632, 2106.1283566073134, 10898.06845295824, 28011.560667420745, 1795.0046337796996, 3796.3691199247514, 6086.596176075889, 44031.45038496067, 20978.1670681727, 1740.3178275585892, 2463.6873127276644, 4824.2570437664, 36736.5478322718, 26421.112798074617, 16789.495724495366, 21215.500554342776, 16993.35477587747, 14856.590031710162, 16131.512737871597], \"Category\": [\"Default\", \"Default\", \"Default\", \"Default\", \"Default\", \"Default\", \"Default\", \"Default\", \"Default\", \"Default\", \"Default\", \"Default\", \"Default\", \"Default\", \"Default\", \"Default\", \"Default\", \"Default\", \"Default\", \"Default\", \"Default\", \"Default\", \"Default\", \"Default\", \"Default\", \"Default\", \"Default\", \"Default\", \"Default\", \"Default\", \"Topic1\", \"Topic1\", \"Topic1\", \"Topic1\", \"Topic1\", \"Topic1\", \"Topic1\", \"Topic1\", \"Topic1\", \"Topic1\", \"Topic1\", \"Topic1\", \"Topic1\", \"Topic1\", \"Topic1\", \"Topic1\", \"Topic1\", \"Topic1\", \"Topic1\", \"Topic1\", \"Topic1\", \"Topic1\", \"Topic1\", \"Topic1\", \"Topic1\", \"Topic1\", \"Topic1\", \"Topic1\", \"Topic1\", \"Topic1\", \"Topic1\", \"Topic1\", \"Topic1\", \"Topic1\", \"Topic1\", \"Topic1\", \"Topic1\", \"Topic1\", \"Topic1\", \"Topic1\", \"Topic1\", \"Topic1\", \"Topic1\", \"Topic1\", \"Topic1\", \"Topic1\", \"Topic1\", \"Topic1\", \"Topic1\", \"Topic1\", \"Topic1\", \"Topic1\", \"Topic1\", \"Topic1\", \"Topic1\", \"Topic1\", \"Topic1\", \"Topic1\", \"Topic1\", \"Topic1\", \"Topic1\", \"Topic1\", \"Topic1\", \"Topic1\", \"Topic1\", \"Topic1\", \"Topic1\", \"Topic1\", \"Topic1\", \"Topic2\", \"Topic2\", \"Topic2\", \"Topic2\", \"Topic2\", \"Topic2\", \"Topic2\", \"Topic2\", \"Topic2\", \"Topic2\", \"Topic2\", \"Topic2\", \"Topic2\", \"Topic2\", \"Topic2\", \"Topic2\", \"Topic2\", \"Topic2\", \"Topic2\", \"Topic2\", \"Topic2\", \"Topic2\", \"Topic2\", \"Topic2\", \"Topic2\", \"Topic2\", \"Topic2\", \"Topic2\", \"Topic2\", \"Topic2\", \"Topic2\", \"Topic2\", \"Topic2\", \"Topic2\", \"Topic2\", \"Topic2\", \"Topic2\", \"Topic2\", \"Topic2\", \"Topic2\", \"Topic2\", \"Topic2\", \"Topic2\", \"Topic2\", \"Topic2\", \"Topic2\", \"Topic2\", \"Topic2\", \"Topic2\", \"Topic2\", \"Topic2\", \"Topic2\", \"Topic2\", \"Topic2\", \"Topic2\", \"Topic2\", \"Topic2\", \"Topic2\", \"Topic2\", \"Topic2\", \"Topic2\", \"Topic2\", \"Topic2\", \"Topic2\", \"Topic2\", \"Topic3\", \"Topic3\", \"Topic3\", \"Topic3\", \"Topic3\", \"Topic3\", \"Topic3\", \"Topic3\", \"Topic3\", \"Topic3\", \"Topic3\", \"Topic3\", \"Topic3\", \"Topic3\", \"Topic3\", \"Topic3\", \"Topic3\", \"Topic3\", \"Topic3\", \"Topic3\", \"Topic3\", \"Topic3\", \"Topic3\", \"Topic3\", \"Topic3\", \"Topic3\", \"Topic3\", \"Topic3\", \"Topic3\", \"Topic3\", \"Topic3\", \"Topic3\", \"Topic3\", \"Topic3\", \"Topic3\", \"Topic3\", \"Topic3\", \"Topic3\", \"Topic3\", \"Topic3\", \"Topic3\", \"Topic3\", \"Topic3\", \"Topic3\", \"Topic3\", \"Topic3\", \"Topic3\", \"Topic3\", \"Topic3\", \"Topic3\", \"Topic3\", \"Topic3\", \"Topic3\", \"Topic3\", \"Topic3\", \"Topic3\", \"Topic3\", \"Topic3\", \"Topic3\", \"Topic3\", \"Topic3\", \"Topic3\", \"Topic3\", \"Topic3\", \"Topic3\", \"Topic3\", \"Topic3\", \"Topic3\", \"Topic3\", \"Topic3\", \"Topic3\", \"Topic3\", \"Topic3\", \"Topic3\", \"Topic3\", \"Topic3\", \"Topic4\", \"Topic4\", \"Topic4\", \"Topic4\", \"Topic4\", \"Topic4\", \"Topic4\", \"Topic4\", \"Topic4\", \"Topic4\", \"Topic4\", \"Topic4\", \"Topic4\", \"Topic4\", \"Topic4\", \"Topic4\", \"Topic4\", \"Topic4\", \"Topic4\", \"Topic4\", \"Topic4\", \"Topic4\", \"Topic4\", \"Topic4\", \"Topic4\", \"Topic4\", \"Topic4\", \"Topic4\", \"Topic4\", \"Topic4\", \"Topic4\", \"Topic4\", \"Topic4\", \"Topic4\", \"Topic4\", \"Topic4\", \"Topic4\", \"Topic4\", \"Topic4\", \"Topic4\", \"Topic4\", \"Topic4\", \"Topic4\", \"Topic4\", \"Topic4\", \"Topic4\", \"Topic4\", \"Topic4\", \"Topic4\", \"Topic4\", \"Topic4\", \"Topic4\", \"Topic4\", \"Topic4\", \"Topic4\", \"Topic4\", \"Topic4\", \"Topic4\", \"Topic4\", \"Topic4\", \"Topic4\", \"Topic4\", \"Topic4\", \"Topic4\", \"Topic4\", \"Topic4\", \"Topic4\", \"Topic5\", \"Topic5\", \"Topic5\", \"Topic5\", \"Topic5\", \"Topic5\", \"Topic5\", \"Topic5\", \"Topic5\", \"Topic5\", \"Topic5\", \"Topic5\", \"Topic5\", \"Topic5\", \"Topic5\", \"Topic5\", \"Topic5\", \"Topic5\", \"Topic5\", \"Topic5\", \"Topic5\", \"Topic5\", \"Topic5\", \"Topic5\", \"Topic5\", \"Topic5\", \"Topic5\", \"Topic5\", \"Topic5\", \"Topic5\", \"Topic5\", \"Topic5\", \"Topic5\", \"Topic5\", \"Topic5\", \"Topic5\", \"Topic5\", \"Topic5\", \"Topic5\", \"Topic5\", \"Topic5\", \"Topic5\", \"Topic5\", \"Topic5\", \"Topic5\", \"Topic5\", \"Topic5\", \"Topic5\", \"Topic5\", \"Topic5\", \"Topic5\", \"Topic5\", \"Topic5\", \"Topic5\", \"Topic5\", \"Topic5\", \"Topic5\", \"Topic5\", \"Topic5\", \"Topic5\", \"Topic5\", \"Topic5\", \"Topic5\", \"Topic5\", \"Topic5\", \"Topic5\", \"Topic5\", \"Topic5\", \"Topic5\", \"Topic6\", \"Topic6\", \"Topic6\", \"Topic6\", \"Topic6\", \"Topic6\", \"Topic6\", \"Topic6\", \"Topic6\", \"Topic6\", \"Topic6\", \"Topic6\", \"Topic6\", \"Topic6\", \"Topic6\", \"Topic6\", \"Topic6\", \"Topic6\", \"Topic6\", \"Topic6\", \"Topic6\", \"Topic6\", \"Topic6\", \"Topic6\", \"Topic6\", \"Topic6\", \"Topic6\", \"Topic6\", \"Topic6\", \"Topic6\", \"Topic6\", \"Topic6\", \"Topic6\", \"Topic6\", \"Topic6\", \"Topic6\", \"Topic6\", \"Topic6\", \"Topic6\", \"Topic6\", \"Topic6\", \"Topic6\", \"Topic6\", \"Topic6\", \"Topic6\", \"Topic6\", \"Topic6\", \"Topic6\", \"Topic6\", \"Topic6\", \"Topic6\", \"Topic6\", \"Topic6\", \"Topic6\", \"Topic6\", \"Topic6\", \"Topic6\", \"Topic6\", \"Topic6\", \"Topic6\", \"Topic6\", \"Topic6\", \"Topic6\", \"Topic6\", \"Topic6\", \"Topic6\", \"Topic6\", \"Topic6\", \"Topic6\", \"Topic6\", \"Topic6\", \"Topic6\", \"Topic7\", \"Topic7\", \"Topic7\", \"Topic7\", \"Topic7\", \"Topic7\", \"Topic7\", \"Topic7\", \"Topic7\", \"Topic7\", \"Topic7\", \"Topic7\", \"Topic7\", \"Topic7\", \"Topic7\", \"Topic7\", \"Topic7\", \"Topic7\", \"Topic7\", \"Topic7\", \"Topic7\", \"Topic7\", \"Topic7\", \"Topic7\", \"Topic7\", \"Topic7\", \"Topic7\", \"Topic7\", \"Topic7\", \"Topic7\", \"Topic7\", \"Topic7\", \"Topic7\", \"Topic7\", \"Topic7\", \"Topic7\", \"Topic7\", \"Topic7\", \"Topic7\", \"Topic7\", \"Topic7\", \"Topic7\", \"Topic7\", \"Topic7\", \"Topic7\", \"Topic7\", \"Topic7\", \"Topic7\", \"Topic7\", \"Topic7\", \"Topic7\", \"Topic7\", \"Topic7\", \"Topic7\", \"Topic7\", \"Topic7\", \"Topic8\", \"Topic8\", \"Topic8\", \"Topic8\", \"Topic8\", \"Topic8\", \"Topic8\", \"Topic8\", \"Topic8\", \"Topic8\", \"Topic8\", \"Topic8\", \"Topic8\", \"Topic8\", \"Topic8\", \"Topic8\", \"Topic8\", \"Topic8\", \"Topic8\", \"Topic8\", \"Topic8\", \"Topic8\", \"Topic8\", \"Topic8\", \"Topic8\", \"Topic8\", \"Topic8\", \"Topic8\", \"Topic8\", \"Topic8\", \"Topic8\", \"Topic8\", \"Topic8\", \"Topic8\", \"Topic8\", \"Topic8\", \"Topic8\", \"Topic8\", \"Topic8\", \"Topic8\", \"Topic8\", \"Topic8\", \"Topic8\", \"Topic8\", \"Topic8\", \"Topic8\", \"Topic8\", \"Topic8\", \"Topic8\", \"Topic8\", \"Topic8\", \"Topic8\", \"Topic8\", \"Topic8\", \"Topic8\", \"Topic8\", \"Topic8\", \"Topic8\", \"Topic8\", \"Topic8\", \"Topic8\", \"Topic8\", \"Topic8\", \"Topic8\", \"Topic8\", \"Topic8\", \"Topic8\", \"Topic8\", \"Topic8\", \"Topic9\", \"Topic9\", \"Topic9\", \"Topic9\", \"Topic9\", \"Topic9\", \"Topic9\", \"Topic9\", \"Topic9\", \"Topic9\", \"Topic9\", \"Topic9\", \"Topic9\", \"Topic9\", \"Topic9\", \"Topic9\", \"Topic9\", \"Topic9\", \"Topic9\", \"Topic9\", \"Topic9\", \"Topic9\", \"Topic9\", \"Topic9\", \"Topic9\", \"Topic9\", \"Topic9\", \"Topic9\", \"Topic9\", \"Topic9\", \"Topic9\", \"Topic9\", \"Topic9\", \"Topic9\", \"Topic9\", \"Topic9\", \"Topic9\", \"Topic9\", \"Topic9\", \"Topic9\", \"Topic9\", \"Topic9\", \"Topic9\", \"Topic9\", \"Topic9\", \"Topic9\", \"Topic9\", \"Topic9\", \"Topic9\", \"Topic9\", \"Topic9\", \"Topic9\", \"Topic9\", \"Topic9\", \"Topic9\", \"Topic9\", \"Topic9\", \"Topic9\", \"Topic9\", \"Topic9\", \"Topic9\", \"Topic9\", \"Topic9\", \"Topic9\", \"Topic10\", \"Topic10\", \"Topic10\", \"Topic10\", \"Topic10\", \"Topic10\", \"Topic10\", \"Topic10\", \"Topic10\", \"Topic10\", \"Topic10\", \"Topic10\", \"Topic10\", \"Topic10\", \"Topic10\", \"Topic10\", \"Topic10\", \"Topic10\", \"Topic10\", \"Topic10\", \"Topic10\", \"Topic10\", \"Topic10\", \"Topic10\", \"Topic10\", \"Topic10\", \"Topic10\", \"Topic10\", \"Topic10\", \"Topic10\", \"Topic10\", \"Topic10\", \"Topic10\", \"Topic10\", \"Topic10\", \"Topic10\", \"Topic10\", \"Topic10\", \"Topic10\", \"Topic10\", \"Topic10\", \"Topic10\", \"Topic10\", \"Topic10\", \"Topic10\", \"Topic10\", \"Topic10\", \"Topic10\", \"Topic10\", \"Topic10\", \"Topic10\", \"Topic10\", \"Topic10\", \"Topic10\", \"Topic10\", \"Topic10\", \"Topic10\", \"Topic10\", \"Topic10\", \"Topic10\", \"Topic10\", \"Topic10\", \"Topic10\", \"Topic10\", \"Topic10\", \"Topic10\", \"Topic10\", \"Topic11\", \"Topic11\", \"Topic11\", \"Topic11\", \"Topic11\", \"Topic11\", \"Topic11\", \"Topic11\", \"Topic11\", \"Topic11\", \"Topic11\", \"Topic11\", \"Topic11\", \"Topic11\", \"Topic11\", \"Topic11\", \"Topic11\", \"Topic11\", \"Topic11\", \"Topic11\", \"Topic11\", \"Topic11\", \"Topic11\", \"Topic11\", \"Topic11\", \"Topic11\", \"Topic11\", \"Topic11\", \"Topic11\", \"Topic11\", \"Topic11\", \"Topic11\", \"Topic11\", \"Topic11\", \"Topic11\", \"Topic11\", \"Topic11\", \"Topic11\", \"Topic11\", \"Topic11\", \"Topic11\", \"Topic11\", \"Topic11\", \"Topic11\", \"Topic11\", \"Topic11\", \"Topic11\", \"Topic11\", \"Topic11\", \"Topic11\", \"Topic11\", \"Topic11\", \"Topic11\", \"Topic11\", \"Topic11\", \"Topic11\", \"Topic11\", \"Topic11\", \"Topic11\", \"Topic11\", \"Topic11\", \"Topic11\", \"Topic11\", \"Topic11\", \"Topic11\", \"Topic11\", \"Topic11\", \"Topic11\", \"Topic11\", \"Topic11\", \"Topic11\", \"Topic11\", \"Topic11\", \"Topic11\", \"Topic11\", \"Topic12\", \"Topic12\", \"Topic12\", \"Topic12\", \"Topic12\", \"Topic12\", \"Topic12\", \"Topic12\", \"Topic12\", \"Topic12\", \"Topic12\", \"Topic12\", \"Topic12\", \"Topic12\", \"Topic12\", \"Topic12\", \"Topic12\", \"Topic12\", \"Topic12\", \"Topic12\", \"Topic12\", \"Topic12\", \"Topic12\", \"Topic12\", \"Topic12\", \"Topic12\", \"Topic12\", \"Topic12\", \"Topic12\", \"Topic12\", \"Topic12\", \"Topic12\", \"Topic12\", \"Topic12\", \"Topic12\", \"Topic12\", \"Topic12\", \"Topic12\", \"Topic12\", \"Topic12\", \"Topic12\", \"Topic12\", \"Topic12\", \"Topic12\", \"Topic12\", \"Topic12\", \"Topic12\", \"Topic12\", \"Topic12\", \"Topic12\", \"Topic12\", \"Topic12\", \"Topic12\", \"Topic12\", \"Topic12\", \"Topic12\", \"Topic13\", \"Topic13\", \"Topic13\", \"Topic13\", \"Topic13\", \"Topic13\", \"Topic13\", \"Topic13\", \"Topic13\", \"Topic13\", \"Topic13\", \"Topic13\", \"Topic13\", \"Topic13\", \"Topic13\", \"Topic13\", \"Topic13\", \"Topic13\", \"Topic13\", \"Topic13\", \"Topic13\", \"Topic13\", \"Topic13\", \"Topic13\", \"Topic13\", \"Topic13\", \"Topic13\", \"Topic13\", \"Topic13\", \"Topic13\", \"Topic13\", \"Topic13\", \"Topic13\", \"Topic13\", \"Topic13\", \"Topic13\", \"Topic13\", \"Topic13\", \"Topic13\", \"Topic13\", \"Topic13\", \"Topic13\", \"Topic13\", \"Topic13\", \"Topic13\", \"Topic13\", \"Topic13\", \"Topic13\", \"Topic13\", \"Topic13\", \"Topic13\", \"Topic13\", \"Topic13\", \"Topic13\", \"Topic13\", \"Topic13\", \"Topic13\", \"Topic13\", \"Topic13\", \"Topic13\", \"Topic13\", \"Topic13\", \"Topic13\", \"Topic14\", \"Topic14\", \"Topic14\", \"Topic14\", \"Topic14\", \"Topic14\", \"Topic14\", \"Topic14\", \"Topic14\", \"Topic14\", \"Topic14\", \"Topic14\", \"Topic14\", \"Topic14\", \"Topic14\", \"Topic14\", \"Topic14\", \"Topic14\", \"Topic14\", \"Topic14\", \"Topic14\", \"Topic14\", \"Topic14\", \"Topic14\", \"Topic14\", \"Topic14\", \"Topic14\", \"Topic14\", \"Topic14\", \"Topic14\", \"Topic14\", \"Topic14\", \"Topic14\", \"Topic14\", \"Topic14\", \"Topic14\", \"Topic14\", \"Topic14\", \"Topic14\", \"Topic14\", \"Topic14\", \"Topic14\", \"Topic14\", \"Topic14\", \"Topic14\", \"Topic14\", \"Topic14\", \"Topic14\", \"Topic14\", \"Topic14\", \"Topic14\", \"Topic14\", \"Topic14\", \"Topic14\", \"Topic14\", \"Topic14\", \"Topic14\", \"Topic14\", \"Topic15\", \"Topic15\", \"Topic15\", \"Topic15\", \"Topic15\", \"Topic15\", \"Topic15\", \"Topic15\", \"Topic15\", \"Topic15\", \"Topic15\", \"Topic15\", \"Topic15\", \"Topic15\", \"Topic15\", \"Topic15\", \"Topic15\", \"Topic15\", \"Topic15\", \"Topic15\", \"Topic15\", \"Topic15\", \"Topic15\", \"Topic15\", \"Topic15\", \"Topic15\", \"Topic15\", \"Topic15\", \"Topic15\", \"Topic15\", \"Topic15\", \"Topic15\", \"Topic15\", \"Topic15\", \"Topic15\", \"Topic15\", \"Topic15\", \"Topic15\", \"Topic15\", \"Topic15\", \"Topic15\", \"Topic15\", \"Topic15\", \"Topic15\", \"Topic15\", \"Topic15\", \"Topic15\", \"Topic15\", \"Topic15\", \"Topic15\", \"Topic15\", \"Topic15\", \"Topic15\", \"Topic15\", \"Topic15\", \"Topic15\", \"Topic16\", \"Topic16\", \"Topic16\", \"Topic16\", \"Topic16\", \"Topic16\", \"Topic16\", \"Topic16\", \"Topic16\", \"Topic16\", \"Topic16\", \"Topic16\", \"Topic16\", \"Topic16\", \"Topic16\", \"Topic16\", \"Topic16\", \"Topic16\", \"Topic16\", \"Topic16\", \"Topic16\", \"Topic16\", \"Topic16\", \"Topic16\", \"Topic16\", \"Topic16\", \"Topic16\", \"Topic16\", \"Topic16\", \"Topic16\", \"Topic16\", \"Topic16\", \"Topic16\", \"Topic16\", \"Topic16\", \"Topic16\", \"Topic16\", \"Topic16\", \"Topic16\", \"Topic16\", \"Topic16\", \"Topic16\", \"Topic16\", \"Topic16\", \"Topic16\", \"Topic16\", \"Topic16\", \"Topic16\", \"Topic16\", \"Topic16\", \"Topic16\", \"Topic16\", \"Topic16\", \"Topic16\", \"Topic16\", \"Topic16\", \"Topic16\", \"Topic16\", \"Topic16\", \"Topic16\", \"Topic16\", \"Topic16\", \"Topic16\", \"Topic16\", \"Topic16\", \"Topic16\", \"Topic17\", \"Topic17\", \"Topic17\", \"Topic17\", \"Topic17\", \"Topic17\", \"Topic17\", \"Topic17\", \"Topic17\", \"Topic17\", \"Topic17\", \"Topic17\", \"Topic17\", \"Topic17\", \"Topic17\", \"Topic17\", \"Topic17\", \"Topic17\", \"Topic17\", \"Topic17\", \"Topic17\", \"Topic17\", \"Topic17\", \"Topic17\", \"Topic17\", \"Topic17\", \"Topic17\", \"Topic17\", \"Topic17\", \"Topic17\", \"Topic17\", \"Topic17\", \"Topic17\", \"Topic17\", \"Topic17\", \"Topic17\", \"Topic17\", \"Topic17\", \"Topic17\", \"Topic17\", \"Topic17\", \"Topic17\", \"Topic17\", \"Topic17\", \"Topic17\", \"Topic17\", \"Topic17\", \"Topic17\", \"Topic17\", \"Topic17\", \"Topic17\", \"Topic17\", \"Topic17\", \"Topic17\", \"Topic17\", \"Topic17\", \"Topic17\", \"Topic17\", \"Topic17\", \"Topic17\", \"Topic17\", \"Topic17\", \"Topic17\", \"Topic17\", \"Topic17\", \"Topic17\", \"Topic18\", \"Topic18\", \"Topic18\", \"Topic18\", \"Topic18\", \"Topic18\", \"Topic18\", \"Topic18\", \"Topic18\", \"Topic18\", \"Topic18\", \"Topic18\", \"Topic18\", \"Topic18\", \"Topic18\", \"Topic18\", \"Topic18\", \"Topic18\", \"Topic18\", \"Topic18\", \"Topic18\", \"Topic18\", \"Topic18\", \"Topic18\", \"Topic18\", \"Topic18\", \"Topic18\", \"Topic18\", \"Topic18\", \"Topic18\", \"Topic18\", \"Topic18\", \"Topic18\", \"Topic18\", \"Topic18\", \"Topic18\", \"Topic18\", \"Topic18\", \"Topic18\", \"Topic18\", \"Topic18\", \"Topic18\", \"Topic18\", \"Topic18\", \"Topic18\", \"Topic18\", \"Topic18\", \"Topic18\", \"Topic18\", \"Topic18\", \"Topic18\", \"Topic18\", \"Topic18\", \"Topic19\", \"Topic19\", \"Topic19\", \"Topic19\", \"Topic19\", \"Topic19\", \"Topic19\", \"Topic19\", \"Topic19\", \"Topic19\", \"Topic19\", \"Topic19\", \"Topic19\", \"Topic19\", \"Topic19\", \"Topic19\", \"Topic19\", \"Topic19\", \"Topic19\", \"Topic19\", \"Topic19\", \"Topic19\", \"Topic19\", \"Topic19\", \"Topic19\", \"Topic19\", \"Topic19\", \"Topic19\", \"Topic19\", \"Topic19\", \"Topic19\", \"Topic19\", \"Topic19\", \"Topic19\", \"Topic19\", \"Topic19\", \"Topic19\", \"Topic19\", \"Topic19\", \"Topic19\", \"Topic19\", \"Topic19\", \"Topic19\", \"Topic19\", \"Topic19\", \"Topic19\", \"Topic19\", \"Topic19\", \"Topic19\", \"Topic19\", \"Topic19\", \"Topic19\", \"Topic19\", \"Topic19\", \"Topic19\", \"Topic19\", \"Topic19\", \"Topic19\", \"Topic19\", \"Topic20\", \"Topic20\", \"Topic20\", \"Topic20\", \"Topic20\", \"Topic20\", \"Topic20\", \"Topic20\", \"Topic20\", \"Topic20\", \"Topic20\", \"Topic20\", \"Topic20\", \"Topic20\", \"Topic20\", \"Topic20\", \"Topic20\", \"Topic20\", \"Topic20\", \"Topic20\", \"Topic20\", \"Topic20\", \"Topic20\", \"Topic20\", \"Topic20\", \"Topic20\", \"Topic20\", \"Topic20\", \"Topic20\", \"Topic20\", \"Topic20\", \"Topic20\", \"Topic20\", \"Topic20\", \"Topic20\", \"Topic20\", \"Topic20\", \"Topic20\", \"Topic20\", \"Topic20\", \"Topic20\", \"Topic20\", \"Topic20\", \"Topic20\", \"Topic20\", \"Topic20\", \"Topic20\", \"Topic20\", \"Topic20\", \"Topic20\", \"Topic20\", \"Topic20\"], \"logprob\": [30.0, 29.0, 28.0, 27.0, 26.0, 25.0, 24.0, 23.0, 22.0, 21.0, 20.0, 19.0, 18.0, 17.0, 16.0, 15.0, 14.0, 13.0, 12.0, 11.0, 10.0, 9.0, 8.0, 7.0, 6.0, 5.0, 4.0, 3.0, 2.0, 1.0, -7.0212, -7.1396, -4.754, -6.6205, -5.8425, -7.2215, -6.9495, -4.8971, -8.01, -7.1577, -6.4499, -4.8566, -7.2741, -7.393, -6.7342, -6.2381, -7.8666, -8.0118, -5.2957, -8.2043, -7.9764, -7.172, -5.6834, -7.1864, -7.3669, -7.7222, -3.9003, -7.1608, -7.9071, -6.9693, -4.3372, -5.6168, -4.1584, -6.0811, -5.1973, -6.4064, -4.1278, -5.6233, -6.0046, -4.5692, -3.967, -3.5185, -5.5191, -5.9661, -5.7618, -4.7888, -5.2346, -5.5207, -3.7401, -4.954, -5.1191, -5.0852, -5.2106, -4.8487, -4.9597, -4.7686, -4.6173, -5.2818, -4.6825, -4.8711, -5.076, -4.5333, -4.7897, -4.842, -4.6255, -4.9926, -5.0733, -5.0512, -5.1587, -7.3538, -7.1914, -7.1233, -6.4798, -7.1735, -6.2403, -6.7856, -6.3334, -7.5934, -6.9596, -7.5337, -6.8647, -7.7323, -7.4265, -6.3313, -6.3656, -6.8082, -5.2326, -7.93, -7.5878, -6.4449, -6.463, -7.3069, -7.3606, -3.3259, -7.2886, -7.9716, -6.9367, -7.8785, -7.3643, -6.953, -2.9222, -5.3651, -5.4991, -5.5915, -4.1653, -3.9709, -4.4266, -3.4765, -3.8949, -6.0534, -5.0166, -3.4126, -4.6346, -3.6794, -3.9152, -5.5981, -5.1481, -3.7712, -3.9757, -4.5526, -4.7266, -4.9556, -4.8051, -4.1536, -4.9283, -5.212, -4.8859, -4.8344, -4.9652, -4.9629, -4.8388, -4.6901, -4.9673, -4.8855, -5.1225, -5.7996, -6.3438, -6.6402, -5.8939, -6.9283, -6.7972, -7.0405, -7.1675, -5.4221, -7.3344, -6.769, -7.3813, -7.3968, -7.3781, -6.7715, -7.559, -5.669, -7.0109, -7.8681, -7.871, -7.8996, -7.9355, -6.7329, -7.9837, -6.3789, -8.3197, -6.1877, -7.8975, -8.1169, -3.1022, -5.8864, -6.5134, -5.8324, -5.1467, -6.5903, -4.6976, -7.1789, -3.8868, -5.5049, -3.5904, -3.4895, -4.2809, -6.2442, -3.8693, -4.5914, -4.211, -5.7111, -5.0318, -5.1584, -5.3596, -5.738, -5.2527, -5.7236, -5.4069, -4.675, -3.6825, -4.6147, -5.0318, -4.9526, -5.1768, -4.0164, -4.6626, -4.8142, -5.0966, -4.7863, -4.1433, -4.4443, -4.9327, -4.7358, -4.7369, -4.9379, -5.0, -4.9949, -5.0701, -5.0768, -6.9772, -6.6165, -6.8279, -7.0033, -6.8607, -5.8683, -7.1023, -6.6761, -4.8082, -5.9295, -6.6272, -6.5172, -7.6152, -4.3442, -7.3432, -5.0609, -7.2519, -6.5788, -5.9424, -5.5347, -6.9558, -7.8686, -7.623, -6.7755, -6.4943, -5.7995, -6.7103, -7.0924, -7.1584, -5.8088, -4.5941, -4.7829, -5.2375, -3.3777, -4.6998, -4.6184, -6.2368, -5.1716, -5.7166, -5.366, -5.315, -4.6807, -5.7132, -4.3852, -4.7776, -4.8584, -5.8715, -5.8753, -4.7803, -4.9358, -4.5751, -4.7768, -4.8144, -5.0672, -5.1013, -5.0837, -4.6836, -5.2414, -5.1683, -4.9148, -5.164, -5.009, -5.0298, -5.0825, -5.1407, -5.2135, -5.2103, -5.0799, -5.8947, -5.553, -6.5883, -3.6397, -6.8469, -6.6238, -6.2635, -5.9557, -5.0245, -7.292, -6.5604, -5.4354, -6.8768, -6.6583, -6.5107, -5.2419, -4.5649, -5.895, -6.0649, -6.9396, -6.4929, -5.3666, -7.0318, -7.572, -5.8915, -7.4159, -7.9113, -6.1223, -7.2499, -5.0295, -5.7112, -5.2714, -4.9629, -5.8094, -5.0384, -5.0949, -4.6542, -6.1621, -5.3609, -4.5426, -5.6885, -5.758, -4.4786, -5.0926, -5.8564, -4.8989, -3.7267, -4.1873, -5.132, -4.5195, -4.8482, -5.2963, -5.2221, -5.4261, -4.2028, -5.2011, -4.6532, -5.0423, -5.0493, -4.7818, -4.9409, -4.8865, -5.038, -4.9872, -5.046, -5.1487, -5.0971, -5.0922, -6.5238, -7.0412, -7.2182, -7.2898, -7.6581, -7.1043, -6.9861, -7.9456, -6.4724, -5.1058, -3.1929, -5.7597, -6.8893, -7.2297, -5.3868, -7.1743, -6.0692, -6.4574, -6.9127, -5.4474, -6.0214, -7.7562, -6.4573, -4.9946, -7.4419, -7.6566, -6.9178, -5.2739, -6.5402, -6.3608, -6.1645, -3.8669, -3.7726, -5.4035, -5.3216, -4.9857, -4.4606, -4.7513, -6.0125, -5.7383, -5.4821, -5.7735, -6.4074, -4.3234, -6.0242, -5.5158, -4.5551, -4.9057, -3.5056, -4.6086, -4.5225, -4.32, -5.8387, -5.5125, -4.1623, -4.6598, -5.3628, -5.0353, -4.923, -4.7432, -4.3856, -5.0104, -5.059, -4.9339, -5.1068, -4.6641, -5.0486, -5.0123, -4.8698, -4.8179, -5.0705, -5.0798, -6.0883, -6.2053, -7.0881, -4.8241, -5.4014, -6.7942, -5.451, -7.1215, -6.7106, -7.025, -7.6342, -5.8784, -5.1223, -6.2542, -6.2819, -7.0465, -3.4767, -7.2391, -5.8607, -6.4021, -4.3623, -6.3711, -6.2519, -3.8593, -7.3654, -6.0815, -5.3727, -7.7002, -5.8661, -6.9474, -2.9629, -4.6616, -4.2801, -3.3468, -4.5691, -4.1753, -3.9408, -3.7861, -4.1921, -4.7102, -4.3648, -4.7955, -3.4359, -4.9899, -4.147, -4.1015, -3.9387, -4.136, -4.5593, -4.8856, -5.1466, -5.2181, -5.0401, -4.8599, -4.9939, -5.0323, -5.9552, -5.1839, -6.5615, -7.6059, -5.2086, -6.9012, -7.4135, -8.0055, -6.6348, -7.2069, -4.6795, -5.9637, -7.3119, -6.7847, -7.1619, -7.2236, -7.1651, -6.656, -7.096, -7.4752, -7.0093, -6.8701, -6.9685, -8.0638, -5.9204, -6.7716, -4.8071, -6.3333, -4.7142, -3.7345, -3.1738, -3.7164, -6.0492, -4.1017, -5.8642, -5.5608, -5.384, -3.7339, -5.3364, -4.9926, -6.3281, -5.0499, -3.8225, -6.1167, -4.7687, -5.8757, -4.81, -5.6094, -4.9531, -5.2146, -5.2292, -4.4208, -4.5435, -3.7829, -4.672, -4.7861, -5.196, -4.3783, -5.0211, -4.8516, -4.6897, -4.2805, -4.5104, -4.7787, -4.6061, -4.9563, -4.8325, -4.857, -4.8863, -4.1674, -6.5779, -5.8901, -7.2368, -5.6217, -6.1027, -4.9682, -5.654, -5.5818, -6.3159, -6.6625, -6.155, -6.5762, -6.1913, -7.1337, -7.3043, -6.8456, -7.8744, -7.5411, -7.2772, -6.8182, -5.7899, -5.6598, -6.9737, -5.4374, -6.1953, -5.0597, -6.9053, -5.7694, -7.4117, -4.7207, -4.8459, -4.0941, -5.3537, -3.9954, -4.4634, -4.9522, -4.0347, -4.087, -5.0482, -5.5431, -5.7378, -5.1588, -5.1463, -4.2635, -5.3654, -5.3522, -5.1359, -5.334, -4.991, -4.7483, -4.8796, -4.8874, -4.9198, -4.9613, -5.0405, -4.871, -5.3332, -5.0925, -5.193, -5.2072, -5.2314, -5.2283, -5.3172, -5.1389, -5.8635, -4.4607, -5.3079, -6.4645, -6.4274, -6.7018, -6.2566, -5.9327, -6.7156, -6.2759, -5.4779, -7.0635, -6.9239, -6.1664, -7.3911, -6.8193, -7.0836, -6.436, -5.1105, -6.8663, -7.3218, -5.6769, -6.6862, -6.1856, -6.758, -6.0114, -6.0152, -7.0971, -6.5477, -6.1834, -4.6702, -3.5486, -5.3191, -6.0749, -5.7164, -4.2614, -3.9864, -4.574, -5.2855, -6.0662, -4.9146, -5.36, -4.3696, -5.0013, -4.8544, -5.4605, -5.2063, -4.6201, -5.6523, -4.9665, -5.3986, -5.5017, -5.2842, -4.4769, -4.4596, -5.1611, -5.051, -4.6823, -4.9642, -5.2926, -5.0702, -5.075, -5.0754, -5.2569, -5.2505, -5.2759, -5.999, -6.0782, -6.2956, -7.3228, -7.6946, -7.5428, -4.515, -7.0732, -5.7428, -7.218, -5.8227, -4.4401, -6.4897, -6.388, -6.9792, -6.5393, -6.8761, -6.1535, -7.1515, -6.817, -7.8238, -6.855, -5.7893, -5.0573, -4.6153, -7.2607, -6.4901, -6.3522, -5.3348, -6.0969, -5.1795, -6.0875, -6.1757, -5.2015, -3.0666, -6.4079, -5.246, -6.4701, -5.4355, -5.6917, -6.0998, -5.1884, -5.6717, -5.5137, -5.6236, -5.7023, -4.7037, -4.17, -5.9575, -5.18, -4.1777, -5.7191, -4.6005, -5.3343, -5.6808, -4.6383, -4.3764, -4.7491, -4.986, -5.0626, -4.9848, -4.9668, -5.1658, -5.0594, -5.2233, -5.3497, -5.2161, -5.0074, -4.9062, -4.9137, -5.0356, -5.0867, -5.1677, -4.9778, -5.1853, -4.9821, -4.5589, -5.991, -7.4411, -6.7715, -6.5755, -5.947, -5.4547, -4.3094, -6.8077, -5.3399, -4.9282, -6.522, -5.3023, -5.7664, -4.6917, -6.3641, -5.4939, -4.6371, -6.3529, -5.4121, -7.8039, -4.5017, -6.1661, -7.1964, -6.1538, -7.5982, -7.5055, -2.0772, -4.5244, -6.3128, -6.022, -5.4545, -3.8828, -4.121, -5.4354, -4.8798, -4.5641, -4.6443, -4.3299, -4.9399, -4.5806, -4.6004, -4.7197, -5.8336, -4.8656, -4.4833, -4.5244, -4.5966, -4.5064, -5.0274, -4.849, -4.8844, -4.9116, -5.0763, -5.1317, -4.221, -5.2376, -5.1739, -5.2345, -6.0195, -6.2029, -6.3325, -5.2663, -6.5248, -6.6011, -5.4922, -6.5799, -6.8634, -5.9316, -3.8258, -7.3021, -4.4982, -6.7133, -7.6555, -3.9363, -6.767, -5.53, -5.8041, -6.5405, -5.7994, -4.0033, -6.7429, -5.2915, -6.5038, -6.0017, -5.4123, -4.4364, -2.7408, -2.896, -4.8766, -4.4701, -6.3686, -5.7075, -4.8306, -4.0517, -5.3636, -5.7211, -5.4556, -3.9831, -5.2396, -5.5948, -4.4694, -4.4768, -5.1028, -4.3272, -5.0224, -5.1038, -4.5626, -5.0942, -4.8824, -4.8277, -4.9252, -4.9165, -4.9779, -4.9905, -4.9931, -5.1563, -5.1335, -6.0054, -6.7943, -5.4063, -3.815, -4.5973, -6.5369, -6.076, -4.7645, -6.3231, -5.7353, -6.3126, -5.6438, -5.4662, -7.0444, -5.5747, -5.3386, -7.1164, -6.654, -6.9148, -6.0111, -4.7285, -5.3717, -6.9108, -6.4349, -5.18, -7.1898, -6.6132, -5.0837, -3.2459, -5.5961, -5.5479, -4.5051, -5.0599, -3.1029, -5.8455, -5.365, -4.8155, -3.0811, -3.8354, -5.0065, -5.1414, -5.233, -4.6039, -5.4639, -5.0893, -4.3711, -4.7783, -4.5053, -4.8015, -5.3744, -4.844, -5.1282, -4.945, -4.9243, -5.0011, -5.0844, -5.1493, -5.2573, -4.5819, -5.5589, -6.1049, -4.5857, -6.8207, -5.7719, -5.4947, -5.8336, -5.8912, -6.3458, -5.2093, -5.0013, -5.5966, -4.5361, -3.787, -6.4017, -7.5596, -6.2976, -6.5486, -7.1411, -6.3536, -3.1486, -7.3169, -6.1322, -6.7276, -5.5025, -6.1709, -6.0708, -4.1797, -6.9278, -3.9882, -4.0189, -4.334, -4.3628, -4.2632, -4.9136, -4.5163, -4.6093, -4.0505, -4.4508, -4.3175, -3.2691, -4.4571, -5.0252, -4.0798, -4.5547, -5.1828, -5.2959, -5.1688, -4.9664, -4.7977, -5.0559, -4.8736, -4.8864, -4.9173, -4.8415, -4.1955, -5.2865, -5.6171, -5.8538, -6.1674, -6.8001, -6.8361, -7.1492, -7.0888, -7.3438, -7.3891, -7.4128, -7.453, -7.5698, -7.6296, -7.3337, -7.2814, -4.8607, -3.633, -7.4159, -7.0728, -5.4582, -6.3351, -6.3681, -5.5514, -7.1813, -7.1153, -6.3927, -7.5409, -7.2523, -5.8139, -4.0802, -1.926, -3.4355, -5.2271, -5.5576, -5.0263, -4.3645, -4.9976, -6.243, -5.607, -5.6171, -5.3318, -4.5327, -5.8528, -3.2539, -3.3449, -5.2391, -3.4926, -4.5154, -5.0191, -4.5652, -5.1607, -4.8501, -5.0383, -4.7928, -4.4184, -4.4956, -4.8436, -4.9325, -4.7096, -4.9692, -4.8583, -5.0886, -5.1533, -5.1649, -5.6275, -6.4546, -6.5316, -6.5545, -6.5988, -6.6004, -6.6007, -6.6901, -6.7132, -6.7546, -6.3188, -6.0323, -6.0893, -7.5685, -6.0528, -6.7493, -5.2627, -3.2373, -7.0358, -6.2879, -5.1549, -6.3729, -6.4502, -4.3824, -4.461, -5.8385, -6.1441, -6.6377, -5.9629, -6.7123, -5.6869, -3.8818, -3.07, -4.7373, -5.709, -5.9372, -5.5068, -4.9002, -2.7939, -5.5574, -4.9322, -6.0498, -4.1561, -4.5288, -4.1653, -5.0444, -5.2506, -5.4739, -4.2312, -4.1735, -3.8753, -4.6737, -4.7229, -4.532, -5.2747, -3.9352, -4.5902, -5.111, -4.971, -4.8173, -5.2865, -5.0857, -4.7827, -4.9636, -4.9516, -5.1535, -3.9442, -3.9426, -6.7737, -5.7369, -6.273, -5.4598, -6.3509, -3.4259, -7.238, -6.9444, -5.4462, -6.571, -4.0967, -2.9094, -6.1652, -6.5754, -6.835, -4.2557, -6.3525, -4.8355, -4.2468, -3.4208, -3.785, -6.6166, -4.7738, -3.3241, -4.6218, -6.1979, -5.5684, -6.2735, -4.9328, -3.5965, -5.1435, -2.981, -3.43, -5.3718, -5.4892, -5.5726, -4.7802, -4.6686, -4.4114, -4.8166, -5.0867, -3.9878, -4.5091, -4.8138, -4.8015, -4.6067, -4.9171, -5.0791, -4.6842, -4.8573, -4.9003, -3.8402, -5.7205, -5.0716, -5.1877, -5.9441, -5.8107, -6.2357, -4.9687, -6.2374, -6.5131, -7.0094, -6.8435, -7.261, -5.1719, -5.073, -7.2179, -5.735, -4.8817, -4.7638, -6.3144, -6.5095, -5.8665, -4.5274, -5.9149, -6.8366, -5.6684, -2.534, -6.9825, -5.6033, -6.6549, -5.9217, -3.7301, -4.9745, -5.7653, -5.5669, -3.8057, -5.0398, -4.4429, -3.6812, -5.6801, -4.2662, -4.917, -4.4346, -5.2727, -5.1738, -4.9268, -4.8714, -4.7594, -4.051, -4.735, -4.5827, -4.6655, -4.3544, -4.6899, -4.6978, -4.629, -4.701, -4.7807, -5.046, -4.7596, -5.148, -6.6311, -5.8718, -5.4641, -4.0296, -4.5038, -6.2737, -3.4501, -4.6653, -4.3816, -6.3243, -4.5623, -4.7668, -6.9035, -5.9987, -7.1337, -4.9266, -6.0867, -6.3884, -4.5752, -3.6256, -5.9586, -6.0301, -6.397, -5.4925, -2.3501, -6.7849, -5.794, -7.1374, -6.2201, -3.8, -3.739, -3.6765, -5.0815, -3.7512, -3.0004, -5.3113, -4.819, -4.5534, -3.4078, -4.0064, -5.4292, -5.2669, -4.9262, -3.9151, -4.1624, -4.4101, -4.6371, -4.7689, -4.9322, -5.1089], \"loglift\": [30.0, 29.0, 28.0, 27.0, 26.0, 25.0, 24.0, 23.0, 22.0, 21.0, 20.0, 19.0, 18.0, 17.0, 16.0, 15.0, 14.0, 13.0, 12.0, 11.0, 10.0, 9.0, 8.0, 7.0, 6.0, 5.0, 4.0, 3.0, 2.0, 1.0, 2.5817, 2.58, 2.5785, 2.5783, 2.5772, 2.5742, 2.5673, 2.5602, 2.5517, 2.528, 2.5064, 2.4881, 2.4822, 2.4443, 2.4421, 2.4406, 2.4132, 2.3987, 2.389, 2.388, 2.3812, 2.3733, 2.367, 2.353, 2.3297, 2.3277, 2.3269, 2.3236, 2.3198, 2.3088, 2.2522, 2.272, 2.1934, 2.2616, 2.1599, 2.2545, 2.0188, 2.1568, 2.1825, 1.972, 1.8281, 1.7023, 2.0769, 2.145, 2.0865, 1.7901, 1.9, 1.9715, 1.2593, 1.7308, 1.7657, 1.7013, 1.7308, 1.5086, 1.5469, 1.3544, 1.084, 1.6093, 1.0067, 1.1837, 1.3914, 0.4398, 0.5679, 0.6602, 0.1648, 0.932, 0.5508, 0.1312, 0.0632, 2.6036, 2.5946, 2.5871, 2.5777, 2.5622, 2.5578, 2.551, 2.5476, 2.5466, 2.5373, 2.5349, 2.53, 2.5278, 2.525, 2.5166, 2.5161, 2.5121, 2.496, 2.4907, 2.4796, 2.4739, 2.4713, 2.4702, 2.4621, 2.4561, 2.4466, 2.4448, 2.4446, 2.4386, 2.4289, 2.4251, 2.3812, 2.375, 2.3584, 2.346, 2.2347, 2.195, 2.1111, 1.9058, 1.9595, 2.2776, 2.0888, 1.7118, 1.9471, 1.4717, 1.4218, 1.9867, 1.8055, 1.2019, 1.2452, 1.4239, 1.4489, 1.5003, 1.3175, 0.6367, 1.1092, 1.3669, 0.9092, 0.8401, 0.9361, 0.9183, 0.6425, 0.3093, 0.7101, -0.0364, 2.6581, 2.658, 2.6575, 2.6572, 2.6569, 2.6567, 2.6564, 2.6563, 2.656, 2.6559, 2.6557, 2.6557, 2.6555, 2.6555, 2.6555, 2.6553, 2.6549, 2.6548, 2.6545, 2.6536, 2.6535, 2.6534, 2.6532, 2.6531, 2.653, 2.6527, 2.6506, 2.6505, 2.6503, 2.6497, 2.6366, 2.6444, 2.6281, 2.6114, 2.5839, 2.6165, 2.5476, 2.6318, 2.4739, 2.5498, 2.4394, 2.4313, 2.4796, 2.5817, 2.3906, 2.4325, 2.3782, 2.5187, 2.4095, 2.3805, 2.3847, 2.4502, 2.3506, 2.4225, 2.3259, 2.0655, 1.5232, 1.8109, 1.975, 1.8868, 2.0196, 1.0787, 1.5609, 1.6922, 1.9421, 1.5499, 0.7058, 0.9133, 1.4741, 1.0672, 0.4142, 0.7366, 0.4952, -0.2045, 0.5022, 0.2169, 2.6534, 2.6486, 2.6303, 2.6216, 2.6092, 2.5929, 2.5697, 2.5502, 2.5345, 2.5288, 2.5218, 2.5166, 2.5091, 2.4934, 2.4841, 2.4806, 2.4795, 2.4467, 2.4315, 2.4049, 2.3921, 2.3862, 2.3742, 2.3621, 2.3599, 2.3543, 2.3409, 2.3328, 2.3308, 2.3305, 2.3083, 2.3086, 2.2901, 2.197, 2.1502, 2.1184, 2.2495, 1.9822, 2.1036, 1.9855, 1.9457, 1.7323, 2.0266, 1.4065, 1.2881, 1.31, 1.9817, 1.9461, 1.1155, 1.2131, 0.9062, 0.9245, 0.8749, 1.0745, 1.1003, 0.9711, 0.1067, 1.1261, 0.9563, 0.379, 0.8701, 0.3486, 0.3072, 0.1, -0.0457, 0.7111, 0.0116, 2.6929, 2.6925, 2.6923, 2.6919, 2.6918, 2.6915, 2.6914, 2.6901, 2.69, 2.6842, 2.684, 2.6779, 2.6758, 2.6681, 2.667, 2.6625, 2.6474, 2.6437, 2.6383, 2.6362, 2.6353, 2.6345, 2.6202, 2.6094, 2.6034, 2.6006, 2.6006, 2.5934, 2.5762, 2.5758, 2.5675, 2.5733, 2.5652, 2.539, 2.5508, 2.494, 2.4867, 2.3681, 2.5669, 2.4087, 2.218, 2.4648, 2.4634, 2.077, 2.2113, 2.4581, 2.0588, 1.516, 1.6272, 2.0033, 1.5461, 1.6436, 2.0421, 1.9669, 2.1409, 0.7703, 1.7897, 0.4419, 1.1057, 1.0991, 0.0673, 0.6314, -0.0962, 0.6757, 0.1952, 0.4038, 1.1917, 0.1966, -0.3533, 2.7262, 2.7255, 2.7248, 2.7246, 2.7237, 2.7234, 2.7232, 2.7213, 2.7204, 2.7201, 2.7178, 2.7168, 2.7153, 2.7135, 2.7066, 2.7046, 2.7014, 2.6953, 2.6869, 2.6865, 2.6863, 2.6857, 2.6691, 2.6688, 2.6678, 2.6558, 2.6551, 2.6542, 2.6489, 2.6418, 2.6103, 2.5055, 2.4981, 2.5767, 2.535, 2.503, 2.415, 2.427, 2.5758, 2.5408, 2.4993, 2.5208, 2.6057, 2.1569, 2.5089, 2.3563, 2.0573, 2.152, 1.6187, 1.9921, 1.9408, 1.7508, 2.427, 2.2694, 1.5991, 1.8468, 2.1924, 1.9845, 1.8977, 1.4638, 0.8352, 1.62, 1.6315, 1.2677, 1.609, 0.309, 1.3031, 1.1343, 0.5125, 0.1815, 1.2831, 0.5296, 2.8066, 2.8059, 2.805, 2.8046, 2.8041, 2.8014, 2.8006, 2.7968, 2.786, 2.7859, 2.7836, 2.7604, 2.7554, 2.7551, 2.7487, 2.7403, 2.7069, 2.7067, 2.6952, 2.6813, 2.6585, 2.6564, 2.6499, 2.649, 2.643, 2.6401, 2.6134, 2.6089, 2.557, 2.5553, 2.5394, 2.5466, 2.5427, 2.5084, 2.5046, 2.3257, 2.2827, 2.1544, 2.1754, 2.1292, 1.9756, 2.0363, 1.303, 2.0038, 1.4252, 1.1412, 0.9104, 1.0697, 1.0648, 0.9724, 1.3728, 1.5017, 1.1079, -0.0696, -0.0208, 0.1501, 2.8112, 2.8103, 2.8086, 2.807, 2.801, 2.8008, 2.7932, 2.7895, 2.7872, 2.7788, 2.7774, 2.7752, 2.7723, 2.7693, 2.7685, 2.7651, 2.7583, 2.7556, 2.7511, 2.7394, 2.7283, 2.7085, 2.7074, 2.7027, 2.6961, 2.6917, 2.684, 2.6817, 2.6807, 2.6787, 2.6427, 2.5408, 2.6587, 2.4874, 2.6083, 2.5718, 2.5456, 2.3356, 2.5256, 2.4185, 2.6176, 2.354, 1.9692, 2.5145, 2.1299, 2.4418, 2.0176, 2.3215, 2.0337, 2.126, 2.0902, 1.6251, 1.6581, 1.0075, 1.5995, 1.6772, 1.9309, 1.0715, 1.7157, 1.502, 1.2868, 0.5686, 0.489, 1.0358, 0.5449, 1.4567, 0.3894, 0.238, 0.2961, 2.8892, 2.8874, 2.8833, 2.8819, 2.875, 2.8719, 2.869, 2.8678, 2.8557, 2.8466, 2.8458, 2.8409, 2.8308, 2.8195, 2.8043, 2.8032, 2.7698, 2.765, 2.7392, 2.7249, 2.7131, 2.7052, 2.6818, 2.6798, 2.6783, 2.6695, 2.6435, 2.6364, 2.6154, 2.6028, 2.5891, 2.5201, 2.4341, 2.5323, 2.3972, 2.4311, 2.3012, 1.991, 1.9266, 2.1218, 2.2745, 2.2325, 1.7559, 1.739, 0.9584, 1.8997, 1.8284, 1.5839, 1.7988, 1.1316, 0.5454, 0.7977, 0.7219, 0.7043, 0.611, 0.8175, -0.0219, 1.6604, -0.3021, 0.4963, 0.1504, 0.2499, -0.0458, 1.4193, 2.9961, 2.9951, 2.9918, 2.9607, 2.9261, 2.9251, 2.9217, 2.9191, 2.907, 2.8933, 2.8908, 2.8809, 2.8786, 2.8263, 2.8248, 2.8217, 2.8078, 2.7998, 2.794, 2.7935, 2.78, 2.7434, 2.7431, 2.742, 2.7313, 2.7124, 2.7045, 2.7002, 2.6814, 2.6597, 2.6454, 2.5127, 2.3698, 2.5145, 2.6051, 2.5354, 2.206, 2.1362, 2.1768, 2.3771, 2.5957, 2.2069, 2.3386, 1.933, 2.1859, 2.0934, 2.2835, 2.0821, 1.5282, 2.3272, 1.7191, 2.0796, 2.1762, 1.8855, 0.8807, 0.6915, 1.5994, 1.3733, 0.5396, 1.1067, 1.4742, 0.2668, 0.2188, -0.2851, 1.1744, 1.0298, -0.0935, 3.0338, 3.0311, 3.0307, 3.0303, 3.0279, 3.0256, 3.0253, 3.0203, 3.0173, 3.0142, 3.0099, 3.0076, 3.0063, 3.0025, 3.0009, 2.9973, 2.9951, 2.9886, 2.9885, 2.9857, 2.98, 2.9775, 2.9766, 2.9721, 2.9655, 2.9599, 2.9593, 2.952, 2.9413, 2.9398, 2.9073, 2.933, 2.927, 2.8571, 2.6472, 2.9305, 2.79, 2.9327, 2.8041, 2.8159, 2.8765, 2.7121, 2.7781, 2.6636, 2.696, 2.7155, 2.3254, 2.0853, 2.7954, 2.3987, 1.7236, 2.6383, 1.8307, 2.0908, 2.4723, 1.1231, 0.623, 0.8603, 1.2748, 1.3933, 1.0493, 0.9738, 1.4466, 1.059, 1.4924, 1.8375, 1.4143, 0.6818, 0.3157, 0.2688, 0.6418, 0.6146, 1.1349, -0.1875, 0.0204, 3.0991, 3.0912, 3.087, 3.0714, 3.0494, 3.0274, 3.0157, 3.0145, 3.0043, 2.9717, 2.9591, 2.952, 2.9509, 2.9071, 2.8952, 2.8805, 2.8744, 2.8722, 2.8021, 2.7966, 2.7924, 2.7832, 2.7822, 2.7535, 2.7247, 2.7244, 2.6901, 2.6899, 2.6617, 2.6336, 2.6239, 2.6014, 2.5321, 2.2389, 2.212, 2.4588, 2.2236, 2.007, 1.994, 1.6465, 1.9985, 1.7731, 1.6066, 1.6207, 2.4647, 1.4147, 0.4898, 0.475, 0.5859, 0.284, 1.3262, 0.373, 0.4527, 0.5697, 0.2174, 0.8089, 3.257, 3.2566, 3.2566, 3.2564, 3.2558, 3.2555, 3.2553, 3.2553, 3.2549, 3.2547, 3.2547, 3.2546, 3.2539, 3.2534, 3.2531, 3.2518, 3.2509, 3.2503, 3.2498, 3.2445, 3.2426, 3.2387, 3.2332, 3.2246, 3.2161, 3.2139, 3.2057, 3.2055, 3.2028, 3.2007, 3.1808, 3.1446, 3.0318, 2.9851, 3.0757, 2.996, 3.1959, 3.0777, 2.8818, 2.6822, 2.9699, 3.0349, 2.9294, 2.0877, 2.7575, 2.9239, 1.8332, 1.8036, 2.3663, 0.8785, 1.9943, 2.0522, 0.4368, 1.9045, 0.7921, 0.3233, 0.1991, 0.0566, 0.5172, 0.3671, -0.2027, 1.268, 0.4759, 3.247, 3.2432, 3.243, 3.1897, 3.1896, 3.1894, 3.1844, 3.1772, 3.176, 3.1743, 3.1585, 3.1557, 3.1475, 3.1288, 3.125, 3.1035, 3.0958, 3.0871, 3.051, 3.0431, 3.0376, 3.0341, 3.0336, 3.0268, 3.0059, 2.9928, 2.9824, 2.9734, 2.961, 2.936, 2.9354, 2.8053, 2.7779, 2.2225, 2.8193, 2.7066, 2.5491, 2.014, 2.2021, 2.5274, 2.5397, 2.5777, 2.1537, 2.6442, 2.226, 1.0787, 1.3634, 0.7884, 0.7707, 2.3931, 0.3385, 1.1325, 0.0281, -0.1339, 0.3359, 0.1375, 0.7087, 1.3811, 3.2447, 3.2107, 3.2064, 3.2014, 3.1835, 3.1664, 3.1622, 3.1496, 3.1489, 3.1297, 3.073, 3.065, 3.0466, 3.0187, 3.0153, 2.9887, 2.9825, 2.9704, 2.9703, 2.9567, 2.916, 2.895, 2.874, 2.8431, 2.8175, 2.8133, 2.8101, 2.8033, 2.7996, 2.7128, 2.6508, 2.5394, 2.5744, 2.5503, 2.4159, 2.5383, 2.3823, 2.3977, 2.221, 2.3218, 2.0893, 1.58, 2.1103, 2.3693, 1.7347, 1.2482, 2.0639, 2.2462, 1.8699, 1.1816, 0.4243, 1.3698, 0.3089, 0.3563, 0.4403, -0.0511, 3.3735, 3.3728, 3.3727, 3.3723, 3.3717, 3.37, 3.3699, 3.3687, 3.3687, 3.3675, 3.3672, 3.3671, 3.3666, 3.3658, 3.3654, 3.3609, 3.3606, 3.3493, 3.3489, 3.3473, 3.346, 3.3428, 3.3413, 3.3393, 3.3309, 3.3283, 3.3273, 3.3246, 3.3213, 3.3122, 3.2931, 3.2303, 3.1355, 3.1737, 3.2291, 3.21, 3.1595, 3.0771, 3.1205, 3.2402, 3.1215, 3.1149, 3.06, 2.8996, 3.1158, 2.2599, 2.1049, 2.7429, 1.8328, 2.1903, 2.4933, 2.1728, 2.277, 1.9178, 1.9031, 1.4239, 0.7059, 0.7471, 1.3319, 1.2744, 0.1395, 1.0565, 0.2367, 1.3027, 1.5872, 1.7482, 3.3773, 3.3765, 3.3763, 3.3762, 3.3761, 3.3761, 3.376, 3.3758, 3.3758, 3.3755, 3.3753, 3.3703, 3.37, 3.3681, 3.3673, 3.367, 3.3591, 3.3528, 3.3524, 3.3485, 3.3465, 3.3358, 3.3328, 3.3295, 3.3263, 3.3166, 3.3136, 3.2969, 3.2885, 3.2674, 3.2586, 3.1631, 3.0485, 3.1145, 3.2042, 3.2389, 3.1393, 3.0085, 2.5314, 3.1293, 2.9617, 3.2363, 2.6509, 2.7187, 2.465, 2.771, 2.8596, 2.9335, 2.2491, 2.0818, 1.8861, 2.2618, 2.2388, 2.0687, 2.6372, 1.1599, 1.7633, 2.3291, 2.0919, 1.4534, 2.5241, 2.0045, 0.423, 0.4863, 0.0215, 0.521, 3.5216, 3.5215, 3.5179, 3.5174, 3.5166, 3.5164, 3.5157, 3.5153, 3.5148, 3.5145, 3.5117, 3.511, 3.5043, 3.5031, 3.4815, 3.4712, 3.4661, 3.4333, 3.4271, 3.424, 3.4218, 3.4218, 3.4204, 3.4013, 3.3876, 3.2898, 3.2882, 3.276, 3.2619, 3.2204, 3.2137, 3.1414, 3.122, 2.5328, 2.428, 3.0002, 3.0212, 2.9565, 2.4926, 2.3717, 2.108, 2.1466, 2.3536, 1.0737, 1.5166, 1.954, 1.6564, 0.9656, 1.692, 2.22, 0.7656, 1.1563, 1.1692, 3.6557, 3.6549, 3.6546, 3.6543, 3.6524, 3.6518, 3.6506, 3.6497, 3.649, 3.6487, 3.6451, 3.6447, 3.6442, 3.6407, 3.6406, 3.6343, 3.633, 3.6318, 3.6301, 3.6218, 3.6151, 3.6142, 3.5938, 3.591, 3.5672, 3.5626, 3.5509, 3.5487, 3.5183, 3.5169, 3.4952, 3.3328, 3.4071, 3.4687, 3.4065, 3.1299, 3.2428, 3.009, 2.6853, 3.3527, 2.6816, 2.9127, 2.5984, 3.0961, 2.8647, 2.6038, 2.3453, 2.2024, 1.1, 2.0112, 1.6726, 1.6707, 0.645, 1.1053, 1.0636, 0.708, 0.8712, 0.3437, -0.2557, 3.8048, 3.8014, 3.7428, 3.6779, 3.6752, 3.6612, 3.6545, 3.6395, 3.6345, 3.6202, 3.6094, 3.544, 3.5236, 3.5152, 3.5013, 3.4869, 3.4723, 3.3728, 3.279, 3.2437, 3.2163, 3.2123, 3.2001, 3.1732, 3.1729, 3.1568, 3.1451, 3.0961, 3.0865, 3.08, 3.0718, 2.9872, 2.9668, 2.9112, 3.0201, 2.7066, 2.5134, 2.9501, 2.6934, 2.4869, 1.6538, 1.7965, 2.8632, 2.6779, 2.3466, 1.3276, 1.4098, 1.6155, 1.1546, 1.2447, 1.2158, 0.9568]}, \"token.table\": {\"Topic\": [1, 2, 3, 6, 8, 9, 10, 12, 13, 3, 8, 13, 16, 2, 3, 7, 8, 3, 7, 8, 12, 16, 18, 20, 3, 8, 1, 6, 10, 1, 6, 10, 14, 16, 20, 3, 6, 8, 12, 3, 3, 6, 7, 8, 12, 13, 15, 2, 3, 6, 8, 3, 5, 7, 8, 12, 15, 18, 19, 3, 4, 5, 6, 7, 8, 11, 12, 14, 15, 16, 17, 18, 19, 20, 16, 20, 16, 4, 9, 12, 15, 17, 19, 3, 6, 7, 8, 13, 16, 3, 1, 2, 3, 4, 5, 6, 7, 8, 9, 10, 11, 12, 13, 14, 15, 16, 17, 18, 19, 20, 1, 2, 3, 4, 5, 6, 7, 8, 9, 10, 11, 12, 13, 14, 15, 16, 17, 18, 19, 20, 1, 13, 14, 3, 6, 17, 2, 8, 13, 15, 16, 18, 1, 2, 3, 4, 5, 6, 7, 8, 9, 10, 11, 12, 14, 15, 16, 17, 18, 19, 20, 4, 12, 13, 14, 15, 16, 17, 20, 16, 7, 8, 9, 14, 15, 16, 1, 2, 3, 4, 5, 6, 7, 8, 9, 10, 11, 12, 13, 14, 15, 16, 17, 18, 19, 20, 2, 3, 4, 5, 6, 7, 8, 9, 11, 12, 14, 15, 16, 17, 18, 19, 20, 5, 7, 10, 11, 14, 5, 7, 12, 16, 1, 6, 7, 9, 10, 11, 14, 17, 19, 1, 2, 3, 4, 5, 6, 7, 8, 9, 10, 11, 12, 13, 14, 15, 16, 17, 18, 19, 20, 5, 7, 18, 4, 5, 8, 11, 12, 16, 18, 1, 7, 13, 9, 10, 12, 14, 15, 16, 17, 19, 20, 16, 14, 16, 17, 16, 14, 16, 17, 20, 6, 9, 10, 11, 13, 2, 3, 4, 5, 6, 8, 9, 11, 12, 18, 20, 2, 5, 11, 14, 15, 16, 17, 18, 20, 4, 5, 12, 2, 5, 7, 8, 12, 14, 15, 16, 18, 19, 20, 1, 2, 3, 4, 5, 6, 7, 8, 9, 10, 11, 12, 13, 14, 15, 16, 17, 18, 19, 20, 4, 5, 8, 9, 15, 5, 7, 14, 15, 16, 17, 20, 3, 1, 2, 3, 4, 5, 6, 7, 8, 9, 10, 11, 12, 13, 14, 15, 16, 17, 18, 19, 20, 17, 19, 7, 15, 16, 1, 4, 5, 6, 7, 8, 9, 10, 11, 12, 14, 15, 17, 18, 1, 2, 3, 4, 5, 6, 7, 8, 9, 10, 11, 12, 13, 14, 15, 16, 17, 18, 19, 20, 3, 4, 5, 6, 7, 8, 9, 10, 11, 12, 14, 15, 16, 17, 18, 20, 9, 10, 6, 8, 7, 9, 12, 14, 15, 16, 18, 20, 4, 5, 1, 2, 3, 4, 6, 7, 8, 9, 10, 11, 12, 13, 14, 15, 16, 17, 19, 20, 18, 5, 7, 10, 12, 18, 20, 2, 4, 6, 8, 9, 12, 3, 4, 5, 8, 9, 12, 2, 4, 5, 8, 9, 12, 4, 7, 9, 12, 16, 18, 2, 3, 1, 2, 3, 4, 6, 7, 8, 10, 11, 12, 13, 14, 15, 17, 19, 20, 2, 3, 4, 8, 10, 13, 15, 16, 19, 1, 7, 8, 12, 13, 15, 1, 2, 6, 8, 11, 3, 4, 5, 6, 8, 10, 11, 12, 16, 10, 12, 14, 15, 2, 3, 4, 5, 7, 8, 14, 15, 16, 17, 18, 19, 20, 2, 3, 4, 5, 7, 8, 14, 15, 16, 18, 20, 2, 3, 4, 5, 7, 8, 9, 12, 14, 15, 16, 18, 20, 4, 5, 8, 14, 6, 7, 9, 14, 15, 17, 20, 18, 20, 2, 3, 4, 6, 8, 10, 12, 13, 14, 15, 17, 19, 20, 1, 3, 4, 5, 7, 8, 12, 15, 16, 18, 1, 6, 11, 13, 17, 19, 2, 3, 4, 5, 7, 8, 9, 12, 15, 20, 3, 7, 2, 4, 5, 7, 8, 11, 14, 5, 15, 16, 1, 2, 3, 4, 5, 6, 7, 8, 9, 10, 11, 12, 13, 14, 15, 16, 17, 19, 1, 2, 3, 4, 5, 6, 7, 8, 9, 10, 11, 12, 13, 14, 15, 16, 17, 18, 19, 20, 3, 5, 7, 9, 12, 16, 18, 20, 1, 2, 4, 5, 7, 9, 10, 12, 13, 15, 16, 18, 19, 20, 2, 16, 18, 20, 7, 8, 10, 11, 1, 4, 9, 12, 14, 1, 3, 5, 7, 8, 9, 10, 11, 12, 13, 14, 15, 16, 18, 20, 4, 6, 8, 9, 1, 2, 3, 4, 5, 6, 7, 8, 10, 11, 12, 13, 14, 16, 18, 20, 1, 6, 7, 10, 11, 14, 17, 19, 1, 2, 6, 9, 10, 11, 17, 18, 1, 2, 3, 4, 5, 6, 7, 8, 9, 10, 11, 12, 13, 14, 15, 16, 17, 18, 19, 20, 1, 2, 3, 4, 6, 9, 10, 11, 12, 13, 14, 15, 16, 17, 20, 2, 5, 14, 15, 16, 18, 20, 2, 3, 5, 6, 7, 8, 13, 15, 16, 18, 19, 20, 6, 11, 13, 17, 19, 8, 12, 15, 2, 3, 4, 5, 6, 7, 8, 9, 10, 11, 12, 13, 14, 15, 16, 17, 19, 1, 2, 3, 5, 7, 9, 10, 13, 14, 16, 19, 20, 1, 2, 3, 4, 5, 6, 7, 8, 9, 10, 11, 12, 13, 14, 15, 16, 17, 18, 19, 20, 2, 4, 6, 7, 8, 9, 12, 13, 14, 3, 4, 5, 6, 7, 8, 9, 10, 11, 12, 14, 15, 16, 17, 18, 19, 20, 6, 8, 14, 17, 1, 4, 5, 8, 12, 14, 16, 1, 2, 3, 4, 5, 7, 8, 9, 10, 11, 12, 13, 14, 15, 16, 18, 19, 20, 1, 2, 3, 4, 5, 6, 7, 8, 9, 10, 11, 12, 13, 14, 15, 16, 17, 18, 19, 20, 17, 19, 2, 3, 4, 5, 7, 8, 9, 12, 14, 15, 16, 17, 18, 19, 20, 14, 16, 20, 3, 4, 5, 6, 7, 8, 9, 12, 14, 15, 16, 17, 18, 20, 2, 3, 4, 6, 8, 9, 10, 11, 12, 14, 15, 17, 19, 20, 1, 2, 3, 4, 5, 7, 8, 9, 10, 12, 13, 14, 15, 16, 18, 19, 1, 2, 3, 4, 5, 6, 7, 8, 9, 10, 11, 12, 13, 14, 15, 16, 17, 18, 19, 20, 7, 10, 11, 14, 15, 16, 17, 19, 2, 4, 9, 12, 15, 5, 6, 7, 8, 10, 11, 13, 18, 20, 1, 2, 3, 4, 5, 6, 7, 8, 9, 10, 11, 12, 13, 14, 17, 20, 3, 4, 5, 6, 8, 9, 10, 11, 13, 14, 17, 19, 2, 6, 7, 11, 13, 20, 1, 2, 3, 4, 5, 6, 7, 8, 9, 10, 11, 12, 13, 14, 15, 16, 17, 18, 19, 20, 5, 7, 14, 15, 16, 18, 20, 1, 2, 3, 4, 6, 7, 8, 9, 10, 11, 12, 13, 14, 15, 16, 17, 18, 19, 20, 3, 6, 8, 1, 6, 8, 11, 12, 13, 1, 6, 11, 13, 4, 5, 7, 8, 12, 14, 15, 18, 20, 1, 2, 3, 4, 5, 6, 7, 8, 9, 10, 11, 12, 13, 14, 15, 16, 17, 18, 19, 20, 1, 2, 4, 5, 7, 8, 10, 11, 12, 13, 14, 15, 16, 18, 19, 20, 1, 2, 4, 5, 7, 9, 10, 12, 13, 15, 16, 1, 2, 3, 4, 5, 6, 7, 8, 9, 10, 11, 12, 15, 16, 18, 19, 20, 1, 2, 6, 8, 3, 5, 6, 11, 13, 3, 6, 8, 10, 11, 12, 15, 16, 17, 19, 6, 11, 17, 19, 1, 2, 3, 4, 6, 7, 8, 9, 10, 11, 12, 14, 15, 16, 17, 18, 19, 1, 2, 3, 4, 6, 10, 11, 17, 19, 5, 7, 3, 4, 5, 6, 7, 8, 9, 10, 11, 12, 14, 15, 18, 8, 18, 5, 7, 14, 2, 6, 10, 11, 14, 17, 19, 2, 3, 6, 7, 10, 11, 17, 19, 3, 4, 5, 7, 9, 14, 18, 20, 7, 9, 10, 18, 1, 2, 3, 4, 5, 6, 7, 8, 9, 10, 11, 12, 13, 14, 15, 16, 17, 18, 19, 20, 1, 13, 16, 18, 2, 3, 6, 11, 17, 18, 20, 16, 18, 20, 1, 2, 3, 4, 5, 6, 7, 8, 9, 10, 11, 12, 14, 15, 17, 18, 19, 20, 1, 2, 3, 4, 5, 7, 8, 9, 10, 12, 13, 14, 15, 16, 18, 19, 20, 2, 4, 8, 15, 19, 4, 6, 7, 9, 10, 14, 17, 1, 2, 3, 4, 5, 6, 7, 8, 9, 10, 11, 12, 13, 14, 15, 16, 17, 18, 19, 20, 2, 4, 8, 9, 10, 11, 15, 19, 20, 1, 2, 3, 4, 5, 7, 8, 11, 12, 13, 14, 15, 16, 18, 19, 20, 1, 4, 5, 11, 13, 15, 16, 18, 19, 7, 9, 18, 13, 1, 2, 3, 4, 5, 6, 7, 8, 9, 10, 11, 12, 13, 14, 15, 16, 17, 18, 19, 20, 1, 2, 6, 11, 1, 2, 3, 4, 6, 8, 9, 10, 11, 12, 13, 14, 15, 16, 17, 18, 19, 20, 1, 2, 3, 4, 6, 7, 8, 9, 10, 11, 12, 13, 14, 17, 19, 6, 10, 11, 12, 17, 19, 1, 2, 4, 6, 8, 9, 11, 12, 13, 14, 17, 18, 19, 20, 1, 2, 6, 11, 12, 13, 1, 2, 3, 4, 5, 6, 7, 8, 9, 10, 11, 12, 13, 14, 15, 16, 17, 18, 19, 20, 1, 6, 10, 11, 12, 17, 1, 2, 3, 4, 5, 6, 7, 8, 9, 10, 11, 12, 13, 14, 15, 16, 18, 19, 20, 3, 1, 2, 3, 4, 5, 7, 9, 10, 11, 12, 13, 14, 15, 16, 17, 18, 20, 2, 3, 5, 7, 9, 10, 13, 15, 16, 18, 20, 3, 14, 16, 1, 2, 3, 4, 5, 6, 8, 9, 10, 11, 12, 14, 15, 16, 17, 18, 19, 20, 3, 3, 6, 10, 17, 1, 2, 3, 4, 5, 6, 7, 8, 9, 10, 11, 12, 13, 14, 15, 16, 17, 18, 19, 20, 1, 2, 3, 5, 6, 7, 8, 9, 10, 11, 13, 15, 16, 17, 3, 5, 7, 10, 11, 12, 13, 14, 16, 5, 7, 10, 15, 16, 18, 19, 20, 7, 13, 18, 1, 2, 3, 4, 5, 6, 8, 9, 10, 11, 12, 13, 14, 15, 18, 19, 20, 1, 2, 3, 4, 5, 6, 9, 11, 13, 15, 20, 1, 3, 5, 7, 8, 9, 13, 15, 16, 18, 20, 1, 2, 3, 4, 5, 6, 7, 8, 9, 10, 11, 12, 13, 14, 15, 16, 17, 18, 19, 20, 2, 3, 4, 5, 6, 7, 8, 9, 10, 11, 12, 13, 14, 15, 16, 17, 18, 19, 20, 1, 2, 5, 7, 8, 12, 15, 16, 20, 1, 2, 3, 4, 5, 6, 7, 8, 9, 10, 11, 12, 13, 14, 15, 16, 17, 18, 19, 20, 1, 2, 3, 4, 5, 7, 8, 9, 10, 12, 14, 15, 16, 17, 18, 19, 20, 1, 2, 4, 5, 7, 8, 10, 11, 13, 15, 18, 19, 20, 1, 2, 3, 4, 5, 6, 7, 8, 9, 10, 11, 12, 13, 14, 15, 16, 17, 18, 19, 20, 1, 2, 3, 4, 6, 7, 8, 9, 10, 11, 12, 13, 14, 15, 17, 19, 17, 16, 17, 17, 17, 2, 3, 8, 15, 19, 1, 2, 3, 4, 5, 6, 7, 8, 9, 10, 11, 12, 13, 14, 15, 16, 17, 18, 19, 20, 3, 5, 9, 12, 15, 16, 17, 18, 19, 1, 2, 3, 4, 5, 6, 7, 8, 9, 10, 11, 12, 13, 14, 15, 16, 17, 18, 19, 20, 1, 2, 3, 4, 5, 6, 7, 8, 9, 10, 11, 12, 13, 14, 15, 16, 17, 18, 19, 20, 13, 1, 10, 11, 13, 3, 14, 20, 1, 2, 3, 4, 5, 6, 7, 8, 9, 10, 11, 12, 13, 14, 15, 16, 17, 18, 19, 20, 2, 4, 14, 15, 16, 19, 20, 3, 5, 7, 8, 18, 1, 2, 3, 4, 5, 6, 7, 8, 9, 10, 11, 12, 13, 14, 15, 16, 17, 19, 20, 1, 3, 4, 6, 7, 9, 10, 11, 12, 13, 17, 19, 9, 10, 3, 5, 10, 12, 18, 20, 7, 9, 10, 13, 14, 16, 18, 1, 2, 3, 4, 5, 6, 7, 8, 9, 10, 11, 12, 13, 14, 15, 16, 17, 18, 19, 20, 2, 3, 15, 19, 17, 19, 4, 5, 8, 12, 14, 15, 20, 2, 3, 4, 5, 7, 8, 12, 14, 15, 18, 20, 1, 2, 4, 7, 11, 14, 19, 20, 10, 11, 13, 16, 17, 17, 19, 3, 5, 7, 14, 15, 16, 18, 20, 5, 7, 9, 20, 2, 4, 6, 8, 18, 20, 3, 5, 6, 8, 9, 11, 12, 17, 18, 1, 5, 11, 12, 13, 16, 5, 7, 8, 14, 18, 11, 7, 9, 18, 1, 2, 3, 4, 6, 9, 10, 11, 12, 13, 14, 18, 19, 5, 10, 13, 15, 16, 20, 2, 6, 8, 11, 2, 15, 19, 15, 17, 19, 3, 7, 9, 15, 18, 1, 2, 3, 4, 5, 6, 7, 8, 9, 10, 11, 12, 13, 14, 15, 16, 17, 18, 19, 20, 1, 2, 3, 4, 5, 6, 7, 8, 9, 11, 12, 13, 14, 15, 16, 17, 18, 19, 20, 1, 11, 16, 1, 11, 1, 2, 6, 11, 12, 13, 16, 17, 18, 2, 3, 6, 11, 16, 17, 18, 20, 2, 3, 6, 8, 11, 1, 2, 3, 4, 5, 6, 7, 8, 9, 10, 11, 12, 14, 15, 16, 17, 18, 19, 20, 2, 9, 1, 2, 4, 5, 9, 15, 1, 2, 3, 4, 5, 6, 7, 8, 9, 10, 11, 12, 13, 14, 15, 16, 17, 18, 19, 20, 10, 12, 14, 18, 1, 2, 4, 5, 6, 7, 8, 9, 10, 11, 12, 13, 14, 15, 16, 17, 19, 20, 3, 14, 16, 1, 2, 3, 4, 5, 6, 7, 8, 9, 10, 11, 12, 13, 14, 15, 16, 17, 18, 19, 20, 1, 2, 3, 4, 5, 6, 7, 8, 10, 11, 12, 13, 14, 15, 16, 17, 18, 19, 20, 1, 6, 13, 17, 2, 3, 4, 5, 7, 9, 15, 16, 18, 20, 3, 4, 5, 7, 8, 9, 12, 13, 14, 15, 16, 18, 20, 3, 4, 5, 7, 8, 9, 12, 14, 15, 16, 18, 20, 2, 7, 13, 3, 2, 3, 4, 5, 6, 7, 8, 9, 10, 11, 12, 13, 14, 15, 16, 17, 18, 19, 20, 4, 5, 6, 9, 10, 13, 14, 15, 16, 17, 18, 3, 4, 5, 12, 20, 2, 7, 15, 18, 20, 1, 2, 4, 11, 12, 13, 14, 1, 2, 3, 4, 5, 6, 7, 8, 9, 10, 11, 12, 13, 14, 16, 17, 18, 19, 20, 1, 2, 4, 9, 10, 11, 12, 13, 1, 2, 3, 4, 5, 7, 8, 9, 10, 12, 13, 14, 15, 16, 18, 19, 20, 3, 5, 7, 8, 10, 12, 14, 15, 16, 18, 8, 12, 15, 16, 1, 2, 3, 4, 5, 6, 7, 8, 9, 10, 11, 12, 13, 14, 15, 16, 17, 18, 19, 20, 1, 2, 4, 6, 9, 11, 12, 19, 3, 6, 8, 11, 17, 7, 9, 12, 15, 18, 5, 8, 14, 15, 5, 7, 9, 16, 18, 5, 7, 3, 7, 9, 14, 15, 16, 18, 1, 2, 3, 4, 5, 6, 7, 8, 9, 10, 11, 12, 13, 14, 15, 16, 17, 18, 19, 20, 3, 6, 7, 8, 10, 16, 17, 18, 3, 4, 5, 7, 9, 12, 1, 2, 4, 5, 6, 7, 9, 10, 11, 12, 14, 16, 17, 19, 1, 3, 4, 5, 6, 7, 8, 9, 10, 11, 12, 13, 14, 15, 16, 18, 19, 20, 1, 11, 6, 7, 9, 10, 11, 12, 13, 17, 14, 16, 17, 20, 6, 17, 1, 2, 4, 5, 6, 7, 8, 9, 10, 11, 12, 13, 14, 15, 18, 19, 20, 6, 8, 11, 17, 13, 1, 13, 1, 4, 5, 4, 5, 8, 11, 12, 16, 18, 20, 1, 2, 3, 4, 6, 7, 8, 9, 10, 11, 12, 13, 15, 17, 17, 19, 1, 2, 4, 9, 10, 11, 12, 13, 1, 4, 8, 9, 10, 11, 17, 19, 4, 5, 8, 9, 10, 13, 15, 18, 19, 1, 2, 4, 5, 7, 8, 3, 12, 14, 1, 2, 3, 4, 6, 8, 9, 10, 11, 12, 13, 14, 15, 16, 17, 18, 19, 20, 1, 2, 3, 4, 5, 6, 7, 8, 9, 10, 11, 12, 13, 14, 15, 16, 17, 18, 19, 20, 1, 2, 3, 4, 5, 6, 7, 8, 12, 14, 15, 17, 18, 19, 20, 1, 2, 3, 4, 6, 8, 12, 15, 18, 10, 14, 15, 16, 17, 19, 2, 10, 13, 18, 2, 4, 5, 8, 10, 12, 14, 18, 4, 5, 10, 12, 14, 15, 1, 2, 3, 4, 5, 6, 7, 8, 9, 10, 11, 12, 13, 14, 15, 16, 17, 18, 19, 20, 9, 10, 3, 4, 5, 7, 9, 14, 18, 20, 1, 2, 3, 4, 6, 8, 9, 11, 18, 2, 4, 8, 9, 11, 15, 16, 18, 20, 3, 5, 7, 9, 15, 2, 6, 7, 9, 10, 11, 17, 1, 2, 3, 4, 5, 7, 8, 9, 10, 12, 13, 14, 15, 16, 18, 20, 1, 2, 3, 4, 5, 7, 8, 9, 10, 11, 12, 13, 14, 15, 16, 17, 18, 20, 7, 13, 13, 16, 19, 13, 1, 2, 3, 4, 5, 7, 8, 9, 10, 11, 12, 14, 15, 19, 20, 1, 2, 3, 4, 5, 6, 7, 8, 9, 10, 11, 12, 13, 14, 15, 16, 17, 18, 19, 20, 3, 16, 17, 1, 3, 4, 5, 6, 7, 8, 9, 11, 12, 14, 15, 19, 1, 2, 3, 4, 5, 6, 7, 8, 9, 10, 11, 12, 13, 14, 15, 16, 17, 18, 19, 20, 1, 4, 6, 8, 11, 12, 1, 2, 3, 4, 5, 7, 8, 9, 10, 11, 12, 13, 14, 15, 16, 17, 18, 19, 20, 7, 8, 9, 12, 1, 2, 3, 4, 5, 7, 8, 9, 10, 11, 12, 13, 14, 15, 16, 18, 19, 20, 1, 2, 3, 4, 5, 6, 7, 8, 9, 10, 11, 12, 13, 14, 15, 16, 17, 18, 19, 20, 1, 2, 3, 4, 5, 7, 9, 10, 12, 13, 14, 15, 16, 18, 19, 20, 2, 5, 7, 12, 13, 15, 16, 18, 19, 20, 1, 2, 3, 4, 5, 6, 7, 8, 9, 10, 11, 12, 13, 14, 15, 16, 17, 18, 20, 1, 2, 3, 4, 5, 6, 7, 8, 9, 10, 11, 12, 15, 18, 20, 1, 2, 3, 4, 5, 6, 7, 8, 9, 10, 11, 12, 13, 14, 15, 16, 17, 18, 19, 20, 2, 3, 4, 5, 7, 8, 11, 12, 13, 14, 15, 16, 17, 18, 19, 20, 1, 2, 3, 4, 5, 6, 7, 8, 9, 10, 11, 12, 13, 14, 15, 16, 17, 18, 19, 20, 1, 2, 3, 4, 5, 6, 7, 8, 9, 10, 11, 12, 13, 14, 15, 16, 17, 18, 19, 20, 1, 2, 3, 4, 5, 6, 7, 8, 9, 10, 11, 12, 13, 14, 15, 16, 17, 18, 19, 20, 7, 10, 12, 1, 2, 3, 4, 5, 6, 7, 8, 9, 10, 11, 12, 13, 14, 15, 16, 17, 18, 19, 20, 7, 11, 17, 1, 11, 13, 1, 2, 3, 4, 5, 6, 7, 8, 9, 10, 11, 12, 13, 14, 15, 16, 17, 18, 19, 20, 1, 2, 3, 5, 6, 7, 8, 10, 11, 12, 13, 14, 15, 17, 18, 20, 7, 10, 12, 13, 14, 18, 16, 20, 1, 2, 3, 4, 5, 6, 7, 8, 9, 10, 11, 12, 13, 14, 15, 16, 17, 18, 19, 20, 1, 2, 3, 4, 5, 6, 7, 8, 9, 10, 11, 12, 13, 14, 15, 16, 17, 18, 19, 20, 1, 2, 3, 4, 5, 6, 7, 8, 9, 10, 11, 12, 13, 14, 15, 16, 17, 18, 19, 20, 14, 16, 17, 3, 4, 14, 15, 16, 17, 19, 20, 3, 5, 6, 7, 8, 10, 11, 3, 14, 15, 16, 19, 2, 3, 4, 6, 8, 17, 1, 2, 4, 5, 6, 8, 9, 10, 11, 13, 14, 17, 18, 19, 1, 2, 3, 4, 5, 7, 8, 12, 1, 2, 6, 7, 9, 10, 11, 13, 17, 18, 19, 1, 2, 6, 8, 10, 11, 13, 1, 2, 3, 4, 5, 6, 8, 10, 11, 12, 13, 14, 15, 16, 17, 18, 19, 20, 14, 15, 16, 17, 19, 2, 5, 7, 8, 9, 10, 15, 1, 2, 3, 4, 5, 7, 8, 9, 11, 12, 13, 14, 15, 16, 17, 18, 20, 3, 4, 5, 7, 8, 9, 12, 13, 14, 15, 16, 18, 3, 6, 7, 8, 9, 10, 11, 12, 14, 16, 17, 1, 2, 3, 4, 5, 6, 7, 8, 9, 10, 11, 12, 14, 15, 16, 18, 20, 3, 6, 8, 11, 12, 14, 17, 19, 5, 6, 7, 10, 11, 14, 15, 17, 2, 5, 9, 11, 15, 18, 2, 1, 2, 3, 4, 6, 7, 8, 9, 10, 11, 12, 13, 14, 15, 16, 17, 18, 19, 20, 6, 6, 3, 6, 2, 3, 4, 7, 8, 9, 10, 11, 14, 15, 17, 18, 19, 20, 3, 6, 8, 10, 14, 16, 17, 18, 1, 3, 5, 6, 7, 8, 9, 10, 11, 12, 13, 14, 15, 16, 17, 18, 19, 20, 5, 7, 12, 14, 15, 16, 1, 2, 4, 7, 9, 10, 11, 13, 14, 15, 16, 17, 20, 1, 2, 3, 4, 5, 6, 7, 8, 9, 10, 11, 12, 13, 14, 15, 16, 17, 18, 19, 20, 1, 2, 3, 6, 7, 8, 9, 10, 11, 12, 14, 15, 17, 5, 7, 9, 10, 18, 8, 2, 18, 11, 18, 2, 7, 10, 11, 17, 1, 2, 3, 4, 5, 6, 7, 8, 9, 10, 11, 12, 13, 14, 15, 16, 17, 18, 19, 20, 1, 7, 13, 16, 3, 6, 8, 10, 11, 2, 8, 12, 15, 18, 20, 2, 10, 11, 12, 14, 15, 17, 19, 20, 2, 3, 6, 11, 3, 5, 7, 9, 12, 14, 15, 18, 19, 20, 1, 2, 3, 4, 5, 6, 7, 8, 9, 10, 11, 12, 13, 14, 15, 16, 17, 18, 19, 20, 5, 14, 16, 17, 20, 2, 6, 10, 11, 18, 1, 2, 3, 4, 5, 6, 7, 8, 9, 10, 11, 12, 13, 14, 15, 16, 17, 18, 19, 20, 7, 9, 13, 14, 18, 14, 15, 16, 20, 5, 14, 16, 20, 17, 6, 10, 11, 13, 16, 17, 1, 6, 8, 9, 10, 11, 13, 17, 1, 2, 3, 4, 5, 6, 7, 8, 9, 10, 11, 12, 13, 14, 15, 16, 17, 18, 19, 20, 1, 2, 18, 5, 7, 15, 18, 19, 16, 3, 6, 2, 3, 4, 5, 7, 8, 9, 10, 12, 15, 20, 1, 2, 14, 16, 17, 1, 2, 3, 4, 5, 6, 7, 8, 9, 10, 11, 12, 13, 14, 15, 16, 17, 18, 19, 20, 1, 2, 3, 4, 5, 6, 7, 8, 9, 10, 11, 12, 15, 17, 18, 19, 20, 3, 4, 5, 7, 8, 14, 15, 18, 6, 8, 10, 11, 13, 14, 17, 19, 5, 3, 5, 7, 8, 2, 16, 18, 20, 1, 12, 16, 2, 6, 14, 15, 17, 1, 2, 3, 4, 5, 6, 7, 8, 9, 10, 11, 12, 13, 14, 15, 16, 17, 18, 19, 20, 1, 3, 4, 5, 6, 7, 8, 9, 10, 11, 13, 14, 15, 16, 17, 19, 20, 1, 2, 3, 4, 5, 6, 7, 8, 9, 10, 12, 13, 14, 15, 16, 17, 18, 19, 20, 1, 3, 1, 2, 4, 5, 6, 10, 11, 12, 13, 14, 17, 19, 3, 6, 8, 12, 14, 20, 11, 17, 1, 2, 3, 4, 5, 6, 7, 8, 9, 10, 11, 12, 13, 14, 15, 16, 17, 18, 19, 20, 1, 2, 3, 4, 5, 6, 7, 8, 9, 10, 11, 12, 13, 14, 15, 16, 17, 18, 19, 20, 2, 4, 8, 9, 12, 1, 2, 3, 4, 5, 6, 7, 8, 9, 10, 11, 12, 13, 14, 15, 16, 17, 18, 19, 20, 2, 8, 15, 20, 4, 5, 18, 3, 6, 7, 8, 9, 10, 11, 12, 14, 15, 17, 19, 20, 6, 17, 19, 1, 2, 3, 4, 5, 7, 9, 11, 12, 13, 14, 15, 18, 20, 2, 4, 9, 12, 2, 8, 15, 20, 2, 12, 20, 1, 2, 3, 4, 5, 6, 7, 8, 9, 10, 11, 12, 13, 14, 15, 16, 17, 18, 19, 20, 17, 3, 5, 6, 7, 8, 10, 11, 12, 13, 14, 17, 1, 2, 3, 4, 5, 6, 7, 8, 9, 10, 11, 12, 13, 14, 15, 16, 17, 18, 19, 20, 1, 2, 3, 4, 5, 6, 7, 8, 9, 10, 11, 12, 13, 14, 15, 16, 17, 18, 19, 20, 7, 13, 11, 13, 10, 11, 13, 1, 2, 3, 4, 5, 6, 7, 8, 9, 10, 11, 12, 13, 14, 15, 16, 17, 18, 19, 20, 1, 3, 4, 5, 6, 8, 9, 10, 11, 12, 13, 14, 15, 16, 17, 18, 19, 1, 2, 3, 4, 5, 6, 7, 8, 9, 10, 11, 12, 13, 14, 15, 16, 17, 18, 19, 20, 5, 16, 17, 19, 1, 2, 3, 4, 5, 6, 7, 8, 9, 10, 11, 12, 13, 14, 15, 16, 17, 18, 19, 20, 5, 1, 2, 3, 4, 5, 6, 7, 8, 9, 10, 11, 12, 13, 14, 15, 16, 17, 18, 19, 20, 17, 19, 6, 8, 1, 2, 3, 4, 5, 6, 7, 8, 9, 10, 11, 12, 13, 14, 15, 16, 17, 18, 19, 20, 2, 12, 14, 15, 16, 18, 1, 2, 3, 4, 5, 6, 7, 8, 9, 10, 11, 12, 13, 14, 15, 16, 17, 18, 19, 20, 4, 5, 8, 9, 10, 11, 12, 13, 14, 15, 16, 20, 3, 4, 5, 7, 8, 9, 10, 12, 13, 14, 15, 16, 18, 20, 3, 4, 5, 7, 8, 9, 12, 14, 15, 16, 18, 20, 3, 4, 5, 7, 9, 14, 15, 16, 18, 1, 2, 4, 5, 6, 7, 8, 9, 10, 11, 12, 13, 14, 15, 16, 17, 18, 19, 20, 15, 16, 18, 20, 14, 16, 17, 1, 2, 3, 4, 5, 6, 7, 8, 9, 10, 11, 12, 14, 15, 16, 17, 18, 19, 20, 2, 3, 4, 5, 7, 8, 9, 10, 12, 13, 14, 15, 16, 17, 18, 19, 20, 1, 2, 4, 5, 6, 10, 11, 13, 14, 15, 16, 18, 19, 20, 1, 2, 3, 4, 5, 6, 7, 8, 9, 10, 12, 13, 14, 15, 16, 17, 18, 19, 20, 6, 19, 3, 6, 14, 19, 20, 3, 4, 5, 6, 7, 9, 10, 11, 14, 15, 17, 18, 19, 20, 9, 10, 4, 6, 10, 11, 14, 15, 17, 1, 2, 3, 4, 5, 6, 7, 8, 9, 10, 11, 12, 13, 14, 15, 16, 17, 18, 19, 20, 17, 19, 17, 19, 1, 2, 4, 6, 9, 10, 11, 12, 13, 17, 16, 18, 19, 20, 16, 20, 3, 2, 4, 5, 7, 10, 12, 14, 15, 16, 17, 18, 19, 20, 2, 10, 14, 15, 16, 18, 20, 2, 15, 16, 18, 19, 20, 16, 18, 20, 5, 7, 18, 20, 1, 3, 20, 16, 18, 20, 2, 18, 20, 3, 6, 8, 10, 18, 1, 2, 3, 4, 5, 6, 7, 8, 9, 10, 11, 12, 13, 14, 15, 16, 17, 18, 19, 20, 3, 17, 2, 16, 18, 20, 1, 6, 10, 11, 18, 2, 3, 4, 7, 8, 18, 5, 16, 18, 19, 13, 1, 2, 3, 4, 5, 6, 7, 8, 9, 10, 11, 12, 13, 14, 15, 16, 17, 18, 19, 20, 2, 14, 16, 17, 20, 5, 5, 5, 1, 7, 8, 13, 1, 2, 3, 4, 5, 6, 7, 8, 9, 10, 11, 12, 13, 14, 16, 17, 19, 1, 2, 4, 5, 7, 8, 9, 10, 12, 13, 15, 16, 18, 20, 2, 3, 4, 5, 6, 7, 8, 10, 12, 13, 14, 15, 16, 17, 18, 19, 20, 1, 2, 3, 4, 5, 6, 7, 8, 11, 12, 15, 20, 2, 4, 6, 8, 17, 3, 7, 14, 16, 17, 18, 20, 1, 2, 4, 5, 6, 9, 11, 13, 14, 15, 17, 18, 19, 20, 3, 6, 10, 11, 14, 16, 17, 16, 17, 3, 9, 13, 14, 16, 17, 18, 6, 11, 13, 1, 2, 3, 4, 5, 6, 7, 8, 9, 10, 11, 12, 13, 14, 15, 16, 17, 18, 19, 20, 1, 2, 3, 4, 5, 7, 8, 9, 10, 12, 13, 14, 15, 16, 17, 18, 19, 20, 1, 2, 3, 4, 5, 6, 7, 8, 9, 10, 11, 12, 13, 14, 15, 16, 17, 18, 19, 20, 1, 2, 3, 4, 5, 6, 7, 8, 9, 10, 11, 12, 13, 14, 15, 16, 17, 18, 19, 20, 1, 2, 3, 4, 5, 6, 7, 8, 9, 10, 11, 12, 13, 14, 15, 16, 17, 18, 19, 20, 1, 2, 3, 4, 5, 6, 7, 8, 9, 10, 11, 12, 13, 14, 15, 16, 17, 18, 19, 20, 1, 2, 3, 4, 5, 6, 7, 8, 9, 10, 11, 12, 13, 14, 15, 16, 17, 18, 19, 20, 17, 19, 1, 2, 3, 6, 7, 8, 12, 13, 16, 18, 19, 20, 3, 1, 7, 9, 11, 13, 14, 17, 1, 2, 3, 4, 5, 6, 7, 8, 9, 10, 11, 12, 13, 14, 15, 16, 17, 18, 19, 20, 2, 3, 4, 5, 7, 8, 9, 12, 13, 15, 16, 18, 19, 20, 1, 2, 3, 4, 5, 6, 7, 8, 9, 10, 11, 12, 13, 14, 15, 16, 17, 18, 19, 20, 1, 2, 3, 4, 5, 6, 7, 8, 9, 10, 11, 12, 13, 14, 15, 16, 17, 18, 19, 20, 2, 3, 4, 5, 7, 8, 10, 12, 13, 14, 15, 16, 18, 19, 20, 2, 3, 4, 5, 6, 7, 8, 9, 12, 14, 15, 16, 17, 18, 19, 20, 1, 2, 3, 4, 5, 6, 7, 8, 9, 10, 11, 12, 13, 14, 15, 16, 17, 18, 19, 20, 1, 2, 3, 4, 5, 6, 7, 8, 9, 10, 11, 12, 13, 14, 15, 16, 17, 19, 14, 16, 17, 1, 5, 7, 9, 13, 17, 13, 13, 1, 2, 3, 4, 7, 9, 11, 12, 15, 18, 2, 4, 6, 7, 8, 11, 12, 14, 15, 17, 18, 20, 1, 2, 3, 4, 5, 6, 7, 8, 9, 10, 11, 12, 13, 14, 15, 16, 17, 18, 19, 20, 17, 19, 14, 17, 3, 5, 7, 8, 9, 10, 12, 14, 15, 16, 17, 18, 20, 1, 2, 3, 4, 5, 6, 7, 8, 9, 10, 11, 12, 13, 14, 15, 16, 17, 18, 19, 20, 2, 4, 7, 12, 13, 16, 18, 20, 6, 17, 3, 9, 11, 14, 17, 18, 19, 7, 11, 14, 1, 3, 5, 9, 10, 11, 13, 14, 15, 17, 18, 20, 1, 2, 3, 4, 5, 6, 7, 8, 9, 10, 11, 12, 13, 14, 15, 16, 17, 18, 19, 20, 6, 9, 11, 13, 1, 2, 3, 4, 5, 6, 7, 8, 9, 10, 11, 12, 13, 14, 15, 16, 17, 18, 19, 20, 17, 19, 1, 2, 3, 6, 7, 8, 9, 10, 11, 13, 15, 16, 17, 18, 19, 1, 7, 11, 13, 1, 10, 11, 13, 17, 16, 18, 20, 1, 2, 3, 4, 5, 6, 7, 8, 9, 10, 11, 12, 13, 14, 15, 16, 17, 18, 19, 20, 1, 2, 3, 4, 5, 7, 9, 10, 11, 12, 13, 14, 15, 16, 18, 19, 2, 3, 4, 5, 6, 8, 9, 10, 11, 12, 14, 17, 18, 20, 1, 2, 3, 4, 5, 6, 7, 8, 9, 10, 11, 12, 13, 14, 15, 16, 17, 18, 19, 20, 1, 2, 3, 4, 5, 6, 7, 8, 9, 10, 11, 12, 13, 14, 15, 16, 17, 18, 19, 20, 16, 2, 4, 5, 6, 7, 8, 9, 12, 15, 18, 20, 2, 3, 4, 5, 7, 8, 9, 20, 1, 4, 9, 10, 11, 12, 13, 16, 1, 3, 4, 5, 10, 11, 12, 13, 14, 19, 1, 2, 3, 7, 8, 20, 1, 2, 3, 5, 7, 8, 10, 11, 13, 15, 3, 6, 8, 11, 14, 17, 1, 2, 3, 4, 5, 6, 7, 8, 9, 11, 12, 13, 14, 15, 16, 17, 18, 19, 20, 18, 1, 2, 3, 4, 5, 7, 8, 9, 10, 11, 12, 13, 14, 15, 16, 17, 18, 20, 7, 3, 5, 7, 8, 9, 12, 13, 14, 15, 16, 18, 20, 2, 3, 5, 15, 18, 2, 3, 4, 5, 9, 15, 18, 6, 10, 11, 5, 6, 8, 10, 1, 2, 3, 4, 5, 6, 7, 8, 9, 10, 12, 13, 14, 15, 16, 17, 19, 20, 6, 8, 12, 18, 20, 1, 2, 3, 4, 5, 6, 7, 8, 9, 10, 11, 12, 13, 14, 15, 16, 17, 18, 19, 20, 6, 10, 12, 14, 15, 17, 19, 1, 2, 3, 5, 6, 11, 16, 18, 20, 2, 3, 4, 5, 7, 8, 9, 12, 18, 20, 1, 2, 3, 4, 5, 7, 8, 9, 15, 16, 18, 20, 1, 2, 3, 4, 5, 6, 7, 8, 9, 10, 11, 12, 13, 14, 15, 16, 17, 18, 19, 20, 1, 7, 13, 1, 2, 3, 4, 5, 7, 8, 9, 10, 12, 14, 15, 16, 17, 18, 19, 20, 3, 6, 17, 2, 3, 4, 6, 14, 16, 17, 1, 2, 3, 4, 5, 6, 7, 8, 9, 10, 11, 12, 13, 14, 15, 16, 17, 18, 19, 20, 2, 3, 4, 5, 6, 7, 8, 9, 10, 11, 12, 13, 14, 15, 16, 18, 19, 20, 1, 2, 3, 4, 5, 7, 8, 9, 10, 11, 12, 13, 14, 15, 16, 17, 18, 19, 20, 13, 1, 2, 3, 4, 5, 6, 7, 8, 9, 10, 11, 12, 13, 14, 15, 16, 17, 18, 19, 20, 3, 3, 6, 6, 5, 8, 6, 3, 2, 16, 18, 20, 1, 2, 3, 4, 5, 6, 7, 8, 9, 10, 11, 12, 13, 14, 15, 16, 17, 18, 19, 20, 2, 3, 4, 5, 7, 8, 10, 12, 14, 15, 1, 2, 3, 4, 5, 6, 7, 8, 9, 10, 11, 12, 13, 14, 15, 16, 17, 18, 19, 20, 1, 5, 7, 11, 12, 13, 16, 3, 4, 6, 8, 10, 14, 15, 17, 19, 20, 3, 4, 6, 8, 10, 14, 15, 17, 19, 3, 5, 6, 7, 18, 20, 4, 7, 9, 12, 20, 1, 2, 3, 4, 5, 6, 7, 8, 9, 10, 11, 12, 13, 14, 15, 16, 17, 18, 19, 20, 1, 2, 14, 16, 17, 1, 2, 3, 4, 5, 6, 7, 8, 9, 10, 11, 12, 13, 14, 15, 16, 17, 18, 19, 20, 1, 2, 6, 7, 9, 10, 11, 13, 14, 18, 3, 5, 8, 5, 7, 13, 15, 18, 9, 10, 11, 14, 15, 18, 1, 2, 3, 4, 5, 6, 7, 8, 9, 10, 11, 12, 13, 14, 15, 16, 17, 18, 19, 20, 1, 2, 4, 6, 7, 8, 9, 10, 11, 12, 13, 15, 17, 19, 3, 6, 10, 12, 17, 3, 6, 8, 10, 14, 17, 17, 1, 2, 3, 4, 5, 6, 7, 8, 9, 10, 11, 12, 13, 14, 15, 16, 17, 18, 19, 20, 3, 17, 17, 19, 17, 19, 1, 2, 3, 4, 5, 6, 7, 8, 9, 10, 11, 12, 13, 14, 15, 16, 17, 18, 19, 20, 7, 10, 11, 13, 18, 4, 8, 1, 5, 13, 16, 3, 13, 13, 1, 2, 3, 4, 5, 6, 7, 8, 9, 10, 11, 12, 13, 14, 15, 16, 17, 18, 19, 20, 1, 2, 3, 4, 5, 6, 7, 8, 9, 10, 11, 12, 13, 14, 15, 16, 17, 18, 19, 20, 1, 3, 4, 5, 6, 7, 8, 9, 10, 11, 15, 19, 20, 3, 8, 1, 2, 3, 4, 5, 6, 7, 8, 9, 10, 11, 12, 13, 14, 15, 16, 17, 18, 19, 20, 1, 2, 3, 4, 5, 6, 7, 8, 9, 10, 11, 12, 13, 14, 15, 16, 17, 18, 19, 20, 1, 2, 3, 4, 5, 6, 7, 8, 9, 10, 11, 12, 13, 14, 15, 16, 17, 18, 19, 20, 1, 2, 3, 4, 5, 6, 7, 8, 9, 10, 11, 12, 13, 14, 15, 16, 17, 18, 19, 20, 1, 7, 12, 13, 1, 2, 3, 4, 5, 6, 7, 8, 9, 10, 11, 12, 13, 14, 15, 16, 17, 18, 19, 20, 1, 2, 3, 4, 5, 6, 7, 8, 9, 10, 11, 12, 13, 14, 15, 16, 17, 18, 19, 20, 1, 2, 4, 5, 9, 10, 11, 12, 13, 16, 18, 19, 1, 2, 3, 4, 5, 6, 7, 8, 9, 12, 14, 15, 16, 17, 18, 19, 20, 1, 2, 3, 4, 5, 6, 7, 8, 9, 10, 11, 12, 13, 14, 15, 16, 17, 18, 19, 20, 4, 5, 6, 9, 10, 12, 14, 15, 16, 17, 19, 1, 3, 4, 6, 8, 10, 11, 12, 16, 3, 12, 17, 3, 5, 7, 15, 18, 20, 2, 4, 5, 7, 8, 12, 14, 15, 16, 2, 5, 6, 9, 14, 15, 16, 18, 20, 1, 2, 3, 4, 6, 7, 8, 9, 10, 11, 12, 14, 15, 17, 18, 19, 1, 2, 3, 4, 5, 6, 7, 8, 11, 12, 15, 18, 20, 5, 7, 13, 18, 1, 4, 5, 7, 9, 12, 13, 19, 20, 1, 5, 7, 12, 13, 20, 3, 5, 7, 9, 14, 15, 18, 20, 2, 3, 6, 8, 9, 10, 11, 12, 13, 17, 19, 1, 3, 4, 5, 6, 8, 9, 10, 11, 12, 13, 14, 15, 16, 17, 19, 20, 2, 6, 10, 11, 14, 15, 17, 14, 15, 1, 7, 11, 13, 6, 7, 8, 11, 1, 7, 11, 13, 2, 3, 4, 5, 6, 7, 8, 9, 10, 11, 12, 14, 15, 16, 17, 18, 19, 20, 3, 5, 7, 9, 12, 14, 15, 18, 1, 2, 3, 4, 5, 6, 7, 8, 9, 10, 11, 12, 13, 14, 15, 16, 17, 18, 19, 20, 4, 5, 7, 8, 9, 12, 14, 20, 16, 18, 1, 2, 3, 4, 5, 6, 7, 8, 9, 10, 12, 13, 14, 15, 16, 18, 19, 20, 1, 2, 3, 4, 5, 6, 7, 8, 9, 10, 11, 12, 13, 14, 15, 16, 17, 18, 19, 20, 1, 2, 4, 5, 7, 9, 15, 18, 2, 4, 8, 18, 20, 5, 7, 9, 12, 1, 13, 1, 13, 1, 13, 1, 13, 3, 5, 8, 1, 7, 13, 1, 2, 3, 4, 6, 8, 10, 11, 12, 16, 17, 19, 2, 4, 5, 6, 16, 18, 20, 1, 2, 3, 4, 5, 6, 7, 8, 9, 10, 11, 12, 13, 14, 15, 16, 17, 18, 19, 20, 5, 9, 10, 15, 2, 3, 4, 5, 6, 7, 8, 9, 10, 11, 12, 14, 15, 16, 17, 18, 19, 20, 1, 2, 3, 4, 5, 6, 7, 8, 9, 10, 11, 12, 13, 14, 15, 16, 18, 19, 20, 1, 2, 3, 4, 5, 6, 7, 8, 9, 10, 11, 12, 13, 14, 15, 16, 17, 18, 19, 20, 12, 15, 19, 1, 2, 3, 4, 5, 6, 8, 9, 10, 11, 13, 14, 15, 16, 17, 19, 2, 3, 4, 5, 6, 8, 9, 11, 14, 15, 17, 18, 19, 20, 1, 2, 3, 4, 5, 6, 7, 8, 9, 10, 11, 12, 13, 14, 15, 16, 17, 18, 19, 20, 1, 2, 3, 4, 5, 6, 7, 8, 9, 10, 11, 12, 13, 14, 15, 16, 18, 19, 20, 16, 1, 2, 3, 4, 5, 6, 7, 8, 9, 10, 11, 12, 13, 14, 15, 16, 17, 18, 19, 20, 1, 2, 3, 4, 5, 6, 7, 8, 10, 11, 12, 15, 17, 19, 20, 1, 2, 3, 6, 9, 10, 11, 13, 14, 15, 17, 18, 19, 1, 2, 3, 4, 5, 6, 7, 8, 9, 10, 11, 12, 13, 14, 15, 16, 17, 18, 19, 20, 1, 2, 3, 4, 5, 6, 7, 8, 9, 10, 11, 12, 13, 14, 15, 16, 17, 18, 19, 20, 2, 3, 4, 5, 7, 8, 15, 16, 18, 19, 20, 9, 10, 13, 2, 5, 7, 9, 13, 14, 15, 16, 17, 19, 1, 2, 3, 4, 5, 6, 7, 8, 9, 10, 11, 12, 14, 15, 16, 17, 18, 19, 20, 2, 4, 11, 14, 15, 16, 18, 19, 20, 1, 2, 4, 6, 11, 14, 20, 1, 7, 12, 1, 5, 7, 12, 13, 1, 2, 4, 5, 7, 8, 9, 10, 11, 12, 13, 14, 15, 16, 18, 7, 13, 18, 1, 2, 3, 4, 5, 6, 7, 8, 9, 10, 11, 12, 13, 14, 15, 16, 17, 18, 19, 20, 2, 3, 4, 5, 7, 9, 10, 13, 15, 16, 19, 20, 6, 9, 17, 17, 19, 1, 2, 3, 4, 5, 6, 7, 8, 9, 10, 11, 12, 13, 14, 15, 16, 18, 19, 3, 4, 5, 6, 7, 8, 9, 10, 11, 12, 14, 15, 16, 17, 1, 2, 3, 4, 5, 6, 7, 8, 9, 10, 11, 12, 13, 14, 15, 16, 17, 18, 19, 20, 2, 4, 6, 7, 9, 10, 11, 12, 13, 14, 15, 16, 18, 19, 20, 2, 3, 4, 5, 6, 8, 9, 10, 12, 14, 15, 20, 1, 2, 3, 4, 5, 6, 7, 8, 9, 10, 11, 12, 13, 14, 15, 16, 17, 18, 19, 20, 1, 4, 5, 7, 8, 9, 10, 11, 12, 13, 14, 15, 16, 17, 18, 6, 10, 11, 12, 14, 17, 16, 17, 3, 4, 5, 6, 7, 8, 9, 12, 14, 15, 17, 18, 20, 3, 19, 1, 2, 3, 4, 5, 6, 7, 8, 9, 10, 11, 12, 13, 14, 15, 16, 17, 18, 19, 20, 1, 2, 3, 4, 5, 6, 9, 11, 12, 13, 16, 17, 18, 19, 20, 2, 3, 4, 5, 7, 8, 9, 14, 15, 17, 18, 20, 3, 5, 6, 8, 9, 10, 17, 1, 2, 4, 7, 8, 9, 11, 12, 20, 1, 2, 4, 5, 8, 9, 11, 13, 2, 3, 4, 5, 6, 7, 9, 10, 11, 12, 13, 14, 15, 16, 17, 18, 19, 20, 2, 3, 4, 5, 7, 8, 9, 10, 11, 12, 13, 14, 15, 16, 18, 19, 20, 1, 2, 3, 4, 6, 7, 8, 9, 10, 11, 12, 13, 14, 15, 17, 18, 19, 20, 5, 13, 19, 1, 2, 3, 4, 5, 6, 7, 8, 9, 10, 11, 12, 13, 14, 15, 16, 17, 18, 19, 20, 1, 2, 3, 4, 5, 6, 7, 8, 9, 10, 11, 12, 13, 14, 15, 16, 17, 18, 19, 20, 1, 2, 3, 4, 5, 6, 7, 8, 9, 10, 11, 12, 13, 14, 15, 16, 17, 18, 19, 20, 1, 2, 3, 4, 6, 7, 8, 9, 10, 11, 12, 13, 14, 15, 16, 17, 19, 20, 1, 2, 3, 4, 5, 6, 7, 8, 10, 11, 12, 13, 14, 15, 16, 17, 18, 19, 20, 2, 18, 20, 1, 2, 3, 4, 5, 6, 7, 8, 9, 10, 11, 12, 13, 14, 15, 16, 17, 18, 19, 20, 1, 2, 7, 9, 10, 11, 13, 2, 14, 16, 17, 1, 2, 3, 4, 5, 6, 7, 8, 9, 10, 11, 12, 13, 14, 15, 16, 17, 18, 19, 20, 3, 7, 13, 15, 1, 2, 4, 5, 6, 8, 12, 13, 15, 18, 20, 2, 4, 5, 8, 9, 15, 18, 1, 2, 3, 4, 5, 6, 7, 8, 9, 10, 11, 12, 13, 14, 15, 16, 17, 18, 19, 20, 2, 3, 4, 5, 6, 8, 15, 17, 20, 3, 1, 2, 4, 6, 8, 9, 10, 11, 12, 13, 14, 16, 17, 19, 5, 12, 14, 18, 4, 5, 6, 7, 8, 9, 14, 18, 1, 2, 3, 4, 5, 6, 7, 8, 9, 10, 11, 12, 13, 14, 15, 16, 17, 18, 19, 20, 17, 19, 1, 2, 3, 4, 5, 6, 7, 8, 9, 10, 11, 12, 13, 14, 15, 16, 17, 18, 19, 20, 2, 7, 9, 10, 18, 3, 10, 3, 6, 7, 1, 2, 3, 4, 5, 6, 7, 8, 9, 10, 11, 12, 13, 14, 15, 16, 17, 18, 19, 20, 14, 16, 17, 3, 4, 9, 17, 19, 16, 1, 3, 4, 5, 6, 7, 8, 9, 10, 11, 13, 15, 16, 17, 19, 2, 5, 10, 14, 18, 20, 1, 11, 13, 2, 10, 11, 14, 16, 17, 1, 2, 3, 4, 5, 7, 8, 9, 12, 15, 16, 18, 19, 20, 18, 2, 3, 4, 9, 12, 14, 16, 17, 18, 19, 8, 11, 12, 18, 5, 8, 2, 3, 4, 6, 7, 8, 9, 10, 11, 14, 15, 16, 17, 19, 1, 2, 3, 4, 5, 6, 7, 8, 9, 10, 11, 12, 13, 14, 15, 16, 18, 19, 20, 3, 6, 10, 11, 14, 17, 19, 11, 17, 3, 6, 7, 3, 4, 5, 7, 8, 9, 10, 12, 14, 15, 16, 18, 20, 1, 2, 3, 4, 5, 6, 7, 8, 9, 10, 11, 12, 13, 14, 15, 16, 17, 18, 19, 20, 1, 2, 3, 4, 5, 7, 8, 12, 14, 15, 16, 18, 19, 20, 1, 2, 3, 4, 5, 6, 7, 8, 9, 10, 11, 12, 13, 14, 15, 16, 17, 18, 19, 20, 7, 8, 18, 20, 1, 2, 4, 5, 6, 7, 8, 10, 11, 12, 13, 14, 15, 16, 17, 1, 2, 3, 4, 5, 6, 7, 8, 9, 10, 11, 12, 13, 14, 15, 16, 17, 18, 19, 20, 1, 4, 7, 13, 1, 10, 13, 1, 2, 4, 7, 8, 9, 10, 12, 14, 15, 19, 20, 2, 13, 15, 16, 2, 3, 4, 7, 8, 12, 13, 15, 16, 2, 3, 4, 7, 8, 12, 16, 19, 20, 1, 2, 3, 4, 5, 6, 7, 8, 9, 10, 11, 12, 13, 14, 15, 16, 17, 18, 19, 20, 3, 4, 5, 7, 1, 2, 3, 4, 5, 6, 7, 8, 9, 10, 12, 13, 14, 15, 16, 17, 18, 19, 20, 16, 18, 20, 1, 2, 3, 4, 5, 6, 7, 8, 10, 11, 12, 13, 14, 15, 16, 18, 19, 20, 1, 2, 3, 4, 5, 6, 7, 8, 9, 10, 11, 12, 13, 14, 15, 16, 17, 18, 19, 20, 14, 17, 1, 2, 3, 6, 17, 2, 10, 14, 15, 17, 20, 1, 7, 5, 7, 12, 14, 15, 4, 5, 6, 7, 8, 10, 12, 14, 15, 18, 1, 2, 6, 10, 11, 13, 17, 19, 1, 2, 3, 4, 5, 6, 7, 8, 9, 10, 11, 12, 13, 14, 15, 16, 17, 18, 19, 20, 1, 6, 8, 11, 12, 14, 17, 19, 1, 2, 3, 4, 5, 6, 7, 8, 10, 12, 14, 16, 18, 19, 1, 2, 3, 4, 5, 6, 7, 8, 9, 10, 11, 12, 13, 14, 15, 16, 17, 18, 19, 20, 1, 2, 3, 4, 5, 6, 7, 8, 9, 10, 11, 12, 14, 15, 16, 17, 18, 19, 20, 3, 4, 8, 14, 15, 16, 17, 4, 11, 14, 15, 17, 19, 20, 6, 10, 11, 12, 15, 19, 1, 2, 3, 4, 5, 6, 7, 8, 9, 10, 11, 12, 13, 14, 15, 16, 17, 18, 20, 1, 6, 7, 11, 13, 17, 1, 2, 3, 4, 5, 6, 7, 8, 9, 10, 11, 12, 13, 14, 15, 16, 17, 18, 19, 20, 17, 19, 1, 4, 5, 7, 8, 9, 10, 12, 13, 14, 15, 19, 1, 4, 5, 9, 10, 13, 17, 4, 15, 3, 5, 6, 7, 11, 14, 15, 16, 17, 18, 19, 20, 3, 5, 7, 8, 10, 15, 18, 20, 4, 5, 7, 10, 12, 15, 1, 2, 3, 4, 5, 6, 7, 8, 9, 10, 11, 12, 13, 14, 15, 16, 17, 18, 19, 1, 2, 3, 4, 5, 6, 7, 8, 9, 10, 11, 12, 13, 14, 15, 16, 17, 18, 19, 20, 3, 2, 6, 8, 10, 11, 17, 1, 12, 16, 1, 16, 1, 2, 3, 4, 5, 6, 7, 8, 10, 11, 12, 13, 14, 15, 16, 17, 19, 20, 2, 15, 18, 19, 20, 18, 20, 2, 18, 20, 2, 16, 18, 20, 1, 2, 3, 4, 5, 7, 8, 9, 11, 12, 15, 16, 18, 20, 1, 2, 3, 5, 6, 7, 8, 9, 10, 11, 12, 13, 14, 15, 16, 17, 18, 19, 20, 5, 7, 12, 14, 15, 5, 7, 8, 14, 15, 16, 18, 19, 20, 3, 1, 2, 3, 4, 5, 6, 7, 8, 9, 10, 11, 12, 13, 14, 15, 16, 17, 18, 19, 20, 3, 18, 20, 1, 2, 3, 4, 5, 6, 7, 8, 9, 10, 11, 12, 13, 14, 15, 16, 17, 18, 19, 20, 17, 19, 17, 19, 1, 2, 3, 4, 5, 6, 7, 8, 9, 10, 11, 12, 13, 14, 15, 16, 17, 18, 19, 20, 1, 2, 9, 10, 13, 1, 2, 3, 4, 5, 6, 7, 8, 9, 10, 11, 12, 13, 14, 15, 16, 17, 18, 19, 20, 5, 6, 11, 14, 17, 1, 2, 3, 4, 5, 6, 7, 8, 9, 10, 11, 12, 13, 14, 15, 16, 17, 18, 19, 20, 1, 2, 3, 4, 5, 6, 7, 8, 9, 12, 14, 15, 16, 17, 18, 19, 20, 1, 2, 3, 4, 5, 7, 8, 10, 12, 13, 14, 15, 16, 18, 19, 20, 1, 2, 3, 4, 5, 6, 7, 8, 9, 10, 11, 12, 13, 14, 15, 16, 17, 18, 19, 20, 1, 2, 4, 6, 8, 9, 12, 18, 7, 9, 12, 14, 15, 16, 17, 18, 19, 20, 1, 2, 3, 4, 6, 7, 8, 9, 10, 11, 12, 13, 14, 15, 16, 17, 19, 20, 11, 2, 3, 4, 5, 6, 8, 12, 14, 15, 19, 20, 1, 2, 4, 5, 8, 11, 12, 13, 1, 2, 3, 4, 5, 7, 8, 11, 14, 15, 16, 17, 18, 20, 1, 5, 6, 7, 9, 10, 11, 13, 18, 2, 8, 11, 15, 16, 18, 20, 1, 2, 3, 4, 5, 6, 7, 8, 9, 10, 11, 12, 13, 14, 15, 16, 17, 18, 19, 20, 1, 5, 8, 13, 20, 2, 4, 7, 9, 10, 11, 14, 15, 18, 11, 17, 10, 11, 17, 1, 7, 9, 10, 11, 12, 13, 14, 15, 18, 2, 5, 8, 15, 1, 2, 3, 4, 5, 6, 7, 8, 9, 10, 11, 12, 13, 14, 15, 16, 17, 18, 19, 20, 1, 3, 4, 5, 6, 7, 8, 9, 10, 11, 12, 14, 15, 16, 17, 18, 19, 20, 1, 2, 3, 4, 5, 6, 7, 8, 9, 11, 12, 14, 15, 16, 18, 19, 20, 1, 3, 4, 6, 8, 9, 11, 12, 14, 17, 19, 3, 5, 7, 12, 13, 14, 17, 18, 1, 2, 3, 4, 5, 6, 7, 8, 9, 10, 11, 12, 13, 14, 15, 16, 17, 18, 19, 20, 1, 2, 3, 4, 5, 6, 7, 8, 9, 10, 11, 12, 13, 14, 15, 16, 17, 18, 19, 20, 6, 8, 1, 2, 3, 4, 5, 6, 7, 8, 9, 11, 12, 13, 15, 17, 18, 19, 20, 2, 4, 8, 9, 12, 15, 18, 20, 13, 7, 13, 13, 4, 5, 12, 1, 2, 3, 4, 5, 6, 7, 8, 9, 10, 11, 12, 13, 14, 15, 16, 17, 18, 19, 20, 16, 1, 2, 3, 4, 5, 6, 7, 8, 9, 10, 11, 12, 13, 14, 15, 16, 17, 18, 19, 20, 6, 8, 17, 2, 4, 6, 10, 11, 17, 17, 19, 17, 6, 3, 5, 6, 7, 8, 9, 11, 12, 14, 16, 17, 19, 17, 19, 1, 2, 4, 5, 6, 7, 8, 9, 10, 11, 12, 13, 14, 15, 16, 17, 18, 19, 20, 16, 19, 20, 1, 2, 3, 4, 5, 6, 7, 8, 9, 10, 11, 12, 13, 14, 15, 16, 17, 18, 19, 20, 5, 8, 10, 14, 15, 17, 19, 20, 1, 2, 3, 4, 5, 6, 7, 8, 9, 10, 11, 12, 13, 14, 15, 17, 18, 19, 5, 7, 8, 14, 15, 16, 14, 17, 17, 17, 6, 10, 11, 14, 17, 1, 2, 3, 4, 5, 7, 8, 12, 13, 14, 15, 17, 18, 19, 20, 1, 2, 3, 4, 5, 7, 8, 13, 5, 16, 18, 20, 3, 6, 7, 17, 1, 2, 3, 4, 5, 6, 7, 8, 9, 10, 11, 12, 13, 14, 15, 17, 19, 13, 17, 17, 1, 2, 3, 4, 5, 7, 8, 9, 10, 11, 12, 13, 14, 15, 16, 18, 19, 20, 1, 7, 13, 1, 13, 3, 4, 5, 7, 8, 10, 11, 12, 14, 15, 16, 18, 20, 1, 2, 3, 4, 5, 6, 7, 8, 9, 10, 11, 12, 13, 14, 15, 16, 17, 18, 19, 20, 1, 2, 3, 4, 5, 6, 7, 8, 9, 10, 11, 12, 13, 14, 15, 16, 17, 18, 19, 20, 3, 3, 3, 10, 17, 1, 2, 3, 4, 5, 6, 7, 8, 9, 10, 11, 12, 13, 14, 15, 16, 17, 18, 19, 20, 1, 2, 5, 6, 7, 8, 9, 10, 12, 13, 14, 16, 17, 18, 1, 2, 3, 4, 5, 6, 7, 8, 9, 10, 11, 12, 13, 14, 15, 16, 17, 18, 19, 20, 2, 9, 2, 3, 6, 9, 10, 11, 14, 15, 11, 17, 11, 14, 1, 2, 3, 4, 6, 7, 8, 9, 10, 11, 12, 13, 14, 15, 18, 20, 2, 3, 8, 12, 15, 19, 1, 2, 3, 4, 5, 6, 7, 8, 9, 10, 11, 12, 13, 14, 15, 16, 17, 18, 19, 20, 2, 9, 10, 11, 14, 1, 2, 3, 4, 5, 6, 7, 8, 9, 10, 11, 12, 13, 14, 15, 16, 17, 18, 19, 20, 1, 2, 3, 4, 5, 6, 7, 8, 10, 11, 12, 13, 14, 15, 16, 17, 18, 20, 3, 4, 5, 16, 20, 1, 2, 3, 4, 5, 6, 7, 8, 9, 10, 11, 12, 13, 14, 15, 16, 17, 18, 19, 20, 2, 3, 4, 5, 7, 8, 11, 12, 16, 18, 19, 20, 8, 9, 10, 14, 19, 3, 10, 1, 2, 3, 4, 5, 6, 7, 8, 9, 10, 11, 12, 13, 14, 15, 16, 17, 18, 19, 20, 1, 2, 3, 4, 5, 6, 7, 8, 9, 12, 13, 14, 15, 16, 17, 18, 19, 20, 1, 2, 3, 4, 5, 6, 7, 8, 9, 10, 11, 12, 13, 14, 15, 16, 17, 18, 19, 20, 3, 6, 10, 17, 5, 7, 9, 10, 13, 15, 16, 18, 1, 2, 3, 7, 8, 10, 12, 13, 14, 15, 16, 17, 18, 19, 20, 1, 2, 3, 4, 5, 6, 7, 8, 9, 10, 11, 12, 13, 14, 15, 16, 17, 18, 19, 20, 1, 2, 3, 4, 5, 6, 7, 8, 9, 10, 11, 12, 13, 14, 15, 16, 17, 18, 19, 20, 1, 4, 9, 11, 12, 1, 9, 11, 13, 7, 1, 2, 3, 4, 5, 6, 7, 8, 9, 10, 11, 12, 13, 14, 15, 16, 17, 18, 19, 20, 3, 4, 6, 8, 10, 11, 12, 13, 14, 15, 17, 19, 4, 8, 10, 11, 12, 14, 15, 17, 19, 1, 2, 3, 4, 5, 6, 7, 8, 9, 10, 11, 12, 13, 14, 15, 16, 17, 18, 19, 20, 16, 17, 2, 4, 11, 16, 17, 20, 7, 9, 12, 18, 7, 9, 12, 20, 2, 3, 4, 6, 7, 8, 9, 10, 11, 12, 14, 15, 16, 17, 18, 19, 20, 1, 5, 3, 5, 7, 9, 11, 12, 14, 15, 19, 1, 11, 17, 3, 6, 8, 9, 11, 1, 2, 3, 4, 5, 6, 7, 8, 9, 10, 11, 12, 13, 14, 15, 16, 17, 18, 19, 20, 2, 6, 16, 18, 20, 1, 2, 3, 4, 5, 6, 7, 8, 9, 10, 11, 12, 13, 14, 15, 16, 17, 18, 19, 20, 1, 2, 3, 4, 5, 6, 7, 8, 9, 10, 11, 12, 13, 14, 15, 16, 17, 18, 19, 20, 2, 3, 4, 5, 6, 7, 8, 12, 18, 20, 7, 8, 18, 3, 5, 1, 2, 3, 4, 5, 6, 7, 8, 9, 10, 11, 12, 13, 14, 15, 17, 18, 19, 20, 3, 5, 7, 8, 15, 18, 19, 20, 3, 14, 16, 17, 19, 20, 1, 3, 4, 5, 6, 7, 8, 9, 10, 11, 12, 13, 14, 15, 16, 17, 18, 1, 6, 9, 11, 13, 17, 4, 6, 7, 10, 11, 18, 6, 8, 14, 16, 17, 19, 6, 8, 11, 13, 14, 15, 17, 19, 1, 3, 6, 7, 8, 10, 11, 12, 13, 17, 19, 5, 10, 14, 15, 1, 3, 4, 5, 6, 7, 8, 9, 10, 11, 12, 14, 15, 18, 1, 2, 3, 4, 5, 6, 7, 8, 9, 10, 11, 12, 13, 14, 15, 16, 17, 18, 19, 20, 1, 2, 3, 4, 5, 6, 7, 8, 9, 10, 11, 12, 13, 14, 15, 16, 18, 20, 1, 16, 1, 2, 3, 4, 5, 6, 8, 9, 10, 11, 12, 13, 14, 16, 17, 18, 19, 1, 2, 3, 4, 5, 6, 7, 8, 9, 10, 11, 12, 13, 14, 15, 16, 17, 18, 19, 20, 5, 7, 16, 1, 2, 3, 4, 5, 6, 7, 8, 9, 10, 11, 12, 13, 14, 15, 16, 17, 18, 19, 20, 1, 2, 3, 4, 5, 6, 7, 8, 9, 10, 11, 12, 13, 14, 15, 16, 17, 19, 20, 1, 2, 3, 4, 5, 6, 7, 8, 9, 10, 11, 12, 13, 14, 15, 16, 17, 18, 19, 20, 1, 2, 6, 9, 10, 11, 12, 13, 15, 16, 18, 19, 20, 5, 7, 8, 3, 5, 7, 10, 15, 1, 2, 3, 4, 5, 6, 7, 8, 9, 10, 11, 12, 13, 14, 15, 16, 17, 18, 19, 20, 4, 7, 9, 11, 14, 15, 17, 18, 20, 3, 8, 12, 1, 3, 11, 12, 1, 2, 3, 5, 6, 7, 8, 11, 12, 14, 15, 16, 17, 18, 20, 3, 8, 2, 6, 8, 12, 14, 16, 17, 18, 20, 18, 8, 12, 16, 20, 2, 18, 16, 18, 2, 4, 5, 7, 8, 9, 12, 13, 14, 15, 18, 20, 2, 4, 5, 7, 12, 18, 19, 20, 1, 2, 5, 6, 7, 8, 11, 12, 13, 14, 15, 16, 18, 20, 3, 6, 10, 11, 13, 14, 16], \"Freq\": [0.9252415055016896, 0.006696560956586415, 0.0011160934927644025, 0.01339312191317283, 0.0011160934927644025, 0.0033482804782932075, 0.03125061779740327, 0.01450921540593723, 0.002232186985528805, 0.00941079858828943, 0.9857811521233178, 0.9953075185250461, 0.9984398263490901, 0.020464610335533283, 0.06139383100659984, 0.013643073557022187, 0.8936213179849533, 0.05003139119162601, 0.001853014488578741, 0.8857409255406382, 0.03706028977157482, 0.003706028977157482, 0.007412057954314964, 0.012971101420051189, 0.02105675754349573, 0.975629766181969, 0.9943068557852043, 0.0028449409321465073, 0.0014224704660732537, 0.989608047886943, 0.0025838330232035066, 0.005167666046407013, 0.012171159858188677, 0.9758095121086922, 0.011112798131389661, 0.028156959062749155, 0.005279429824265466, 0.9432581286020967, 0.021117719297061865, 0.9935572575736978, 0.19383417016975374, 0.005701005004992757, 0.011402010009985515, 0.011402010009985515, 0.729728640639073, 0.011402010009985515, 0.028505025024963788, 0.003447889818980716, 0.031031008370826445, 0.003447889818980716, 0.9585133696766391, 0.1281126165411577, 0.0011044191081134283, 0.0011044191081134283, 0.8216878164363907, 0.0011044191081134283, 0.027610477702835708, 0.008835352864907426, 0.008835352864907426, 0.04609808379098247, 0.0027521244054317896, 0.03371352396653942, 0.019952901939380475, 0.017200777533948684, 0.8139407929064517, 0.008256373216295368, 0.005504248810863579, 0.002064093304073842, 0.0006880311013579474, 0.026145181851602, 0.0013760622027158948, 0.0013760622027158948, 0.011008497621727158, 0.010320466520369212, 0.9458669301027262, 0.0450412823858441, 0.9936054776296358, 0.0035290740287386834, 0.9105010994145804, 0.0846977766897284, 0.0009956530045777026, 0.001991306009155405, 0.9956530045777027, 0.016233395327121872, 0.006087523247670702, 0.002029174415890234, 0.9557411498843001, 0.016233395327121872, 0.9970481487657897, 0.9972739599819976, 0.005088685807576611, 0.02298682209629435, 0.027461356168473783, 0.3942854141249878, 0.10379164328212297, 0.00035094384879838704, 0.0076330287113649175, 0.2573295771314173, 0.028865131563667334, 0.0012283034707943545, 0.0007018876975967741, 0.020091535343707657, 0.0064047252405705635, 0.06527555587649998, 0.0028075507903870963, 0.03325192967364717, 0.0020179271305907254, 0.002632078865987903, 0.0029830227147862897, 0.014739641649532256, 0.004446176305464647, 0.020230102189864145, 0.0020007793374590913, 0.8794536732209073, 0.021786263896776775, 0.0002223088152732324, 0.0011115440763661618, 0.015561617069126267, 0.0002223088152732324, 0.0002223088152732324, 0.0008892352610929296, 0.011782367209481316, 0.0008892352610929296, 0.01978548455931768, 0.0002223088152732324, 0.0002223088152732324, 0.0157839258843995, 0.004446176305464647, 0.0002223088152732324, 0.0008892352610929296, 0.002855146286970458, 0.9450534209872216, 0.05139263316546824, 0.9592587342639811, 0.011470956463545364, 0.028677391158863412, 0.0007762147253252392, 0.0007762147253252392, 0.9260241673130104, 0.0007762147253252392, 0.0007762147253252392, 0.06985932527927152, 0.016861962904899712, 0.027266152782391025, 0.0021525910091361334, 0.48827939390571296, 0.061707608928569156, 0.26369239861917637, 0.017579493241278422, 0.005022712354650978, 0.02439603143687618, 0.005022712354650978, 0.00574024269102969, 0.009327894372923244, 0.010045424709301956, 0.017938258409467778, 0.0010762955045680667, 0.017579493241278422, 0.020808379754982623, 0.002511356177325489, 0.002870121345514845, 0.003549437078302338, 0.001774718539151169, 0.005324155617453507, 0.5061497273659135, 0.001774718539151169, 0.05501627471368624, 0.4252225619806201, 0.0003549437078302338, 0.9984956881791102, 0.0024104774452928523, 0.0024104774452928523, 0.04338859401527134, 0.9328547713283338, 0.014462864671757112, 0.0024104774452928523, 0.04630861080269911, 0.08711831955927618, 0.03216857696981388, 0.07863429925954504, 0.0584847510476836, 0.11092070984463297, 0.020110270340103428, 0.06645815901456055, 0.1134344936371459, 0.023213222208986573, 0.11359160512417796, 0.04858672736466395, 0.06194120376238888, 0.035271528838697025, 0.012529641090806629, 0.00923029986313341, 0.02753378810236817, 0.00722712840347467, 0.036999755196049665, 0.010251524528841786, 0.07175041374293069, 0.05852453102533978, 0.5290353087036365, 0.10216994399338979, 0.005621000154976137, 0.056871295685640914, 0.05654064861770114, 0.0003306470679397728, 0.0009919412038193183, 0.0009919412038193183, 0.0006612941358795456, 0.0958876497025341, 0.0009919412038193183, 0.0006612941358795456, 0.01686300046492841, 0.0006612941358795456, 0.0009919412038193183, 0.004381639285250469, 0.0007302732142084115, 0.0021908196426252344, 0.26801026961448704, 0.7237007552805358, 0.1377131826515097, 0.011090994575960512, 0.0009242495479967094, 0.8484610850609792, 0.003356812150471846, 0.7396176104872967, 0.003356812150471846, 0.04979271356533238, 0.0022378747669812306, 0.14993760938774245, 0.0005594686917453077, 0.04196015188089808, 0.008392030376179615, 0.025617717300992774, 0.035470685493682305, 0.01522731447961109, 0.208882925685018, 0.08634783034320641, 0.01522731447961109, 0.0066283604205365915, 0.41346637434049877, 0.036366409874835894, 0.029379759701837867, 0.019705936385379055, 0.011465272078765998, 0.013615010593534621, 0.058938664279906454, 0.004478621905767967, 0.0026871731434607803, 0.007882374554151623, 0.001970593638537906, 0.004836911658229405, 0.0021497385147686244, 0.942735347651651, 0.05179864547536544, 0.002071945819014618, 0.7387444057376747, 0.14109715798536762, 0.02922726843982615, 0.006047021056515755, 0.02418808422606302, 0.05341535266588917, 0.005039184213763129, 0.0003795493466118436, 0.9488733665296089, 0.050480063099375194, 2.9568694200711515e-05, 2.9568694200711515e-05, 2.9568694200711515e-05, 0.354735624325936, 0.0007983547434192109, 0.21413648340155278, 0.4284208102741091, 2.9568694200711515e-05, 0.0017445529578419795, 0.992685800582136, 0.8503875738997035, 0.13324044936677384, 0.015675346984326332, 0.9956943331187971, 0.0029489489082874646, 0.5320746387381525, 0.4634062570166016, 0.0012638352464089135, 0.016718221325272283, 0.005572740441757428, 0.002786370220878714, 0.9612977262031563, 0.011145480883514856, 0.0001665375334456373, 0.8311888294271756, 0.0006661501337825492, 0.0001665375334456373, 0.15871026937369234, 0.007410920238330859, 0.00024980630016845594, 0.0005828813670597305, 8.326876672281865e-05, 0.0003330750668912746, 0.0001665375334456373, 0.24827649374224925, 0.00311123425742167, 0.052890982376168384, 0.000622246851484334, 0.000622246851484334, 0.04169053904945037, 0.011200443326718011, 0.5936234963160546, 0.04729076071280938, 0.0010943955195253075, 0.37756645423623103, 0.619427864051324, 0.00021349897843543105, 0.013236936662996725, 0.00021349897843543105, 0.0006404969353062932, 0.00010674948921771552, 0.00010674948921771552, 0.00010674948921771552, 0.8185550833214427, 0.16044448229422645, 0.002028240295136595, 0.004269979568708621, 0.0008955716105463622, 0.02488746370360417, 0.037142654163712284, 0.2846503661099727, 0.033041878894368416, 0.000942706958469855, 0.01098253606617381, 0.4296386963226364, 0.0013669250897812898, 0.0007541655667758839, 0.000565624175081913, 0.008342956582458216, 0.005609106402895637, 0.042421813131143474, 0.00377082783387942, 0.01937262799655552, 0.0010841130022403332, 0.020692417738413318, 0.00377082783387942, 0.07004312701431022, 0.0014797986560035187, 0.9840661062423399, 0.007398993280017593, 0.0014797986560035187, 0.004439395968010556, 0.07120933433441659, 0.015293279857055912, 0.5409997749433529, 0.00047791499553299726, 0.09940631907086343, 0.27193363245827545, 0.00047791499553299726, 0.9966461343524139, 0.0001409137300590887, 0.002278105302621934, 0.20594541648135814, 0.06662870869627244, 0.10523907073246275, 0.0059653479058347555, 0.0114374977564627, 0.07606992861023139, 0.025481899519018542, 0.0007280542719719583, 0.00039925556850075136, 0.005378207363921886, 4.697124335302957e-05, 0.2879806929974243, 0.036214828625185796, 0.04340142885819932, 0.10869145711891041, 0.0019493065991507271, 0.008666194398633956, 0.007374485206425642, 0.26266273666286455, 0.7361785876193131, 0.9961159547910626, 0.001580300298452241, 0.001053533532301494, 0.014803853996677255, 0.026389478863642065, 0.0006436458259424894, 0.0045055207815974255, 0.04569885364191675, 0.0006436458259424894, 0.014160208170734767, 0.001930937477827468, 0.06372093676830645, 0.0006436458259424894, 0.7987644699946294, 0.025102187211757086, 0.0006436458259424894, 0.001930937477827468, 0.00033443219108611526, 0.029563805692012588, 0.04193779676219885, 0.20420429587718197, 0.0951794015831084, 0.0046151642369883904, 0.010166738609017904, 0.1195260650941776, 0.08554775447982828, 0.004682050675205614, 0.004146959169467829, 0.02896182774805758, 0.00033443219108611526, 0.15022694023588298, 0.03839281553668603, 0.04180402388576441, 0.00809325902428399, 0.08628350530021774, 0.012775309699489602, 0.03310878691752541, 0.04423533570013956, 0.10367656804720209, 0.14422562577233, 0.0004607847468764537, 0.04607847468764537, 0.036862779750116294, 0.029029439053216585, 0.0004607847468764537, 0.0004607847468764537, 0.0018431389875058148, 0.5755201488486906, 0.003225493228135176, 0.004147062721888083, 0.0023039237343822684, 0.0023039237343822684, 0.0036862779750116295, 0.8770080469568062, 0.12013808862422003, 0.9971645334931456, 0.0014972440442840025, 0.014258866577147172, 0.795441056910853, 0.007129433288573586, 0.07842376617430945, 0.005092452348981133, 0.08249772805349435, 0.014258866577147172, 0.0010184904697962266, 0.9476301247950419, 0.05036616805013018, 0.7730723513044095, 0.08073177806270367, 0.01806992866385425, 0.00043717569348034475, 0.009690727872147642, 0.0001457252311601149, 0.02200450990517735, 0.0012386644648609767, 0.03584840686538827, 0.01719557727689356, 0.002623054160882068, 0.03533836855632787, 0.0016029775427612639, 0.0015301149271812065, 7.286261558005745e-05, 0.0001457252311601149, 0.0001457252311601149, 7.286261558005745e-05, 0.9996840225787865, 0.227384265776814, 0.0037897377629469, 0.0037897377629469, 0.024633295459154853, 0.01705381993326105, 0.7219450438413845, 0.004144006157093965, 0.19572459849659188, 0.018807412559118764, 0.002868927339526591, 0.7749291513765715, 0.0031876970439184346, 0.004194747645332683, 0.10906343877864975, 0.01677899058133073, 0.004194747645332683, 0.8515337720025347, 0.004194747645332683, 0.0006036396875631796, 0.09899690876036145, 0.0006036396875631796, 0.0006036396875631796, 0.8052553432092816, 0.09356415157229284, 0.002357317738305519, 0.002357317738305519, 0.9240685534157634, 0.04007440155119382, 0.0035359766074582783, 0.025930495121360708, 0.9877338236372305, 0.010235583664634514, 0.00014397918029889213, 0.04664925441684105, 0.2047383943850246, 0.06263094343001807, 0.003311521146874519, 0.00028795836059778427, 0.03412306573083743, 0.003311521146874519, 0.00014397918029889213, 0.007630896555841283, 0.0007198959014944607, 0.00014397918029889213, 0.49500042186759113, 0.0007198959014944607, 0.13663624210364864, 0.003311521146874519, 0.0019589592141631765, 0.11557859363562742, 0.06072773563905847, 0.005876877642489529, 0.029384388212447647, 0.0019589592141631765, 0.7346097053111912, 0.0019589592141631765, 0.04505606192575306, 0.0034458990956685127, 0.049965536887193435, 0.012060646834839794, 0.015506545930508308, 0.16884905568775713, 0.7494830533079015, 0.8427139807314691, 0.020963034346553958, 0.0964299579941482, 0.02934824808517554, 0.008385213738621583, 0.0021306541092444417, 0.017045232873955533, 0.0021306541092444417, 0.02982915752942218, 0.008522616436977767, 0.004261308218488883, 0.0021306541092444417, 0.9289651916305766, 0.006391962327733325, 0.9867983751885905, 0.0054003891179475105, 0.005891333583215466, 0.000981888930535911, 0.0047850053490064775, 0.0485862081591427, 0.5062903736583393, 0.01932406006329539, 0.009385972030743475, 0.2740335755642556, 0.008465778694396076, 0.09128317896566204, 0.023372910743223948, 0.0003680773345389598, 0.008465778694396076, 0.0014723093381558393, 0.0040488506799285584, 0.0006234686720442737, 0.006858155392487011, 0.7930521508403162, 0.011222436096796927, 0.0006234686720442737, 0.11783557901636774, 0.004364280704309916, 0.00498774937635419, 0.0012469373440885474, 0.02182140352154958, 0.03678465165061215, 0.0005424128225110383, 0.0005424128225110383, 0.8331460953769548, 0.04474905785716066, 0.0005424128225110383, 0.02847667318182951, 0.00027120641125551913, 0.00027120641125551913, 0.009763430805198689, 0.017086003909097706, 0.0008136192337665575, 0.014373939796542515, 0.048545947614737926, 0.8050075188120522, 0.010765330860785245, 0.14114544906362878, 0.04066902769629982, 0.9419969715254509, 0.003969088363169035, 0.011907265089507103, 0.034398765814131635, 0.0013230294543896783, 0.0013230294543896783, 0.0026460589087793566, 0.9873916660811678, 0.006880778160844375, 0.04656266861264692, 0.1598704594686785, 0.11521479434869972, 0.0014302526195011, 0.06483811875071653, 0.0019070034926681333, 0.028605052390022, 0.00015891695772234443, 0.00031783391544468886, 0.41477325965531897, 0.00031783391544468886, 0.16463796820034884, 0.0009535017463340666, 0.00040244461798717463, 0.00013414820599572488, 0.8440605121251009, 0.14581909991735295, 0.0005365928239828995, 0.00040244461798717463, 0.0052317800338332705, 0.00013414820599572488, 0.0028171123259102225, 0.00026829641199144975, 0.10976061100645104, 0.00061318777098576, 0.6720537970003929, 0.1900882090055856, 0.00183956331295728, 0.02514069861041616, 0.00013419110388159812, 0.00013419110388159812, 0.28716896230662003, 0.028716896230662002, 0.00026838220776319625, 0.0005367644155263925, 0.0041599242203295425, 0.1302995618690318, 0.00013419110388159812, 0.5484390415640916, 0.9962022124159062, 0.003557865044342522, 0.0031963415279074535, 0.06073048903024162, 0.0415524398627969, 0.8470305048954753, 0.012785366111629814, 0.022374390695352176, 0.006392683055814907, 0.9901837581960724, 0.003094324244362726, 0.003094324244362726, 0.010138476543819452, 0.05479605179635751, 0.0055520228692344615, 0.0007241768959871037, 0.0016897460906365753, 0.16269840929843596, 0.008207338154520509, 0.006517592063883934, 0.09366021188099875, 0.0009655691946494716, 0.3888829931450747, 0.0033794921812731506, 0.0024139229866236792, 0.00917290734916998, 0.0002413922986623679, 0.0002413922986623679, 0.24453039854497868, 0.006034807466559197, 0.15324082056866126, 0.11186150655516282, 0.046358567566989965, 0.0903133575564323, 0.05811990785713372, 0.026699100950618292, 0.07340106531440077, 0.042237806005479744, 0.037086854053591974, 0.018629276225994116, 0.054170844694019754, 0.055801979478784215, 0.03356703688646866, 0.011417943493351231, 0.0038632139639158303, 0.1260266244228542, 0.007640578728633531, 0.018371728628399725, 0.006352840740661588, 0.024896267767457573, 0.023120542765894085, 0.023120542765894085, 0.18111091833283702, 0.015413695177262725, 0.6627888926222971, 0.06936162829768226, 0.011560271382947043, 0.011560271382947043, 0.01213197865362156, 0.0011285561538252613, 0.0011285561538252613, 0.0016928342307378922, 0.006771336922951569, 0.0011285561538252613, 0.0008464171153689461, 0.04316727288381625, 0.8932521957526944, 0.0014106951922815767, 0.0016928342307378922, 0.01692834230737892, 0.011285561538252614, 0.007335614999864199, 0.011513219208782736, 0.0011513219208782734, 0.9823654289893868, 0.004605287683513094, 0.05712117125174774, 0.9384192419929985, 0.005595491849276085, 0.9904020573218671, 0.9833342064723021, 0.001954938780263026, 0.001954938780263026, 0.001954938780263026, 0.007819755121052104, 0.0015545107329495876, 0.005246473723704858, 0.12785850778510358, 0.7700657543349019, 0.00019431384161869845, 0.03964002369021448, 0.0003886276832373969, 0.0007772553664747938, 0.009132750556078827, 0.0005829415248560953, 0.0003886276832373969, 0.03245041155032264, 0.004469218357230065, 0.006995298298273144, 0.00019431384161869845, 0.8743622750821565, 0.06851093078611156, 0.007461586521259675, 0.04816114936449427, 0.0005784480881195776, 0.0005784480881195776, 0.021981027348543947, 0.020245683084185215, 0.034128437199055076, 0.0005784480881195776, 0.002892240440597888, 0.0034706885287174656, 0.019088786907946062, 0.0075198251455545085, 0.8665152360031273, 0.012725857938630708, 0.002892240440597888, 0.0023137923524783103, 0.0034706885287174656, 0.0005784480881195776, 0.0006513974779339004, 0.1550325997482683, 0.0006513974779339004, 0.0006513974779339004, 0.7263081878962989, 0.0026055899117356017, 0.06969953013892734, 0.04364363102157133, 0.0016586989596799918, 0.0033173979193599837, 0.03151528023391985, 0.0016586989596799918, 0.9189192236627155, 0.03151528023391985, 0.006634795838719967, 0.0016586989596799918, 0.0005312514333947732, 0.045156371838555726, 0.04728137757213482, 0.009429712942757225, 0.0002656257166973866, 0.18713331741330888, 0.0005312514333947732, 0.4508996540938138, 0.0001328128583486933, 0.0033203214587173326, 0.09562525801105919, 0.012351595826428478, 0.0001328128583486933, 0.0019921928752303997, 0.013812537268264103, 0.0007968771500921598, 0.05378920763122079, 0.0002656257166973866, 0.07623458069214996, 0.0002656257166973866, 0.007438912305377966, 0.7795980096036108, 0.022688682531402795, 0.001487782461075593, 0.018225335148176015, 0.012274205303873643, 0.025292301838285083, 0.00037194561526889827, 0.03570677906581424, 0.00223167369161339, 0.013761987764949236, 0.01078642284279805, 0.009670585996991355, 0.05802351598194813, 0.00223167369161339, 0.0031246196655969117, 0.000297582825294944, 0.000595165650589888, 0.000148791412647472, 0.000595165650589888, 0.993331470834523, 0.0016367055391221918, 0.00027493001095025757, 0.17732985706291615, 0.029967371193578077, 0.5850510633021482, 0.11409595454435689, 0.001374650054751288, 0.0008247900328507727, 0.00027493001095025757, 0.04426373176299147, 0.01264678050371185, 0.03354146133593142, 0.00027493001095025757, 0.7952929888950357, 0.10441114941554731, 0.00042101269925623913, 0.06694101918174203, 0.032838990541986655, 0.07732064773125635, 0.7948562586773154, 0.12680586227926044, 0.0003927681962586415, 0.004320450158845056, 0.0019638409812932074, 0.0011783045887759245, 0.28554247868003235, 0.0003927681962586415, 0.001571072785034566, 0.004713218355103698, 0.014139655065311094, 0.19245641616673434, 0.0003927681962586415, 0.0011783045887759245, 0.0019638409812932074, 0.0027493773738104903, 0.0003927681962586415, 0.4760350538654735, 0.009819204906466037, 0.0004794352840908333, 0.0004794352840908333, 0.0023971764204541663, 0.9823628971021174, 0.0004794352840908333, 0.001917741136363333, 0.002876611704545, 0.001917741136363333, 0.0004794352840908333, 0.0004794352840908333, 0.0009588705681816666, 0.005273788124999166, 0.031879240723761845, 0.02092075172496871, 0.02855848648170332, 0.05047546447928959, 0.015275469513469218, 0.0448301822677901, 0.05313206787293641, 0.01926037460393945, 0.03154716529955599, 0.48416596849213306, 0.1029433815038143, 0.02324527969440968, 0.004316980514676084, 0.024241505967027236, 0.016603771210292627, 0.008633961029352167, 0.02955471275432088, 0.004649055938881936, 0.004981131363087789, 0.0013283016968234102, 0.009528095445642159, 0.0031760318152140527, 0.060344604489067, 0.0031760318152140527, 0.04764047722821079, 0.8416484310317239, 0.015880159076070263, 0.0031760318152140527, 0.01270412726085621, 0.198983229073057, 0.03498867783940117, 0.012852983696106551, 0.046889588669129456, 0.0007140546497836973, 0.6733535347460265, 0.0019041457327565261, 0.005474418981675013, 0.0014281092995673947, 0.00452234611529675, 0.006664510064647841, 0.0009520728663782631, 0.006902528281242408, 0.00047603643318913153, 0.0016661275161619603, 0.00023801821659456577, 0.002142163949351092, 0.958733398849631, 0.001961602862096432, 0.000490400715524108, 0.03825125581088042, 0.014736884334562987, 0.23631646665067077, 0.010526345953259277, 0.0005263172976629638, 0.7336863129421716, 0.003157903785977783, 0.0005263172976629638, 0.00038968841501313975, 0.0023381304900788385, 0.0023381304900788385, 0.00038968841501313975, 0.004286572565144537, 0.004676260980157677, 0.0038968841501313975, 0.010521587205354774, 0.805875642247173, 0.0023381304900788385, 0.1157374592589025, 0.01441847135548617, 0.0019484420750656988, 0.01441847135548617, 0.014028782940473031, 0.00038968841501313975, 0.001558753660052559, 0.00038968841501313975, 0.002990033031680519, 0.005260944194982179, 0.11570292377021957, 0.00794818907155581, 0.12717102514489295, 0.0031035785898456017, 0.25089783502544505, 0.0015896378143111618, 0.10150972899958419, 0.00151394077553444, 0.0015896378143111618, 0.005412338272535623, 0.015669287026781453, 0.08307750005745239, 0.00987846356036222, 0.032019847402553404, 0.005071701598040374, 0.07758946474614005, 0.06154169252547498, 0.09042011281879442, 0.008756844838396763, 0.9911156203458155, 0.23014902108055346, 0.06866917179093436, 0.024677983612367036, 0.00912012437848347, 0.007242451712325109, 0.009656602283100146, 0.025214461516983713, 0.003755345332316723, 0.09576130597407644, 0.016630815043116916, 0.07457042874171779, 0.03674873646624222, 0.0042918232369333975, 0.34817416009622193, 0.04479590503549234, 0.006023208777090155, 0.9878062394427854, 0.006023208777090155, 0.23421367771451032, 0.0010197983064492468, 0.05948823454287273, 0.0010197983064492468, 0.041131865026786285, 0.0006798655376328311, 0.0010197983064492468, 0.00033993276881641557, 0.42083676779472245, 0.03127381473111023, 0.013257377983840206, 0.18288382962323158, 0.010197983064492468, 0.0027194621505313246, 0.00015218768341795507, 0.007609384170897754, 0.0017501583593064834, 0.7941153320748896, 0.009055167163368327, 0.00030437536683591013, 0.012555483881981293, 0.014610017608123686, 0.0002282815251269326, 0.0061636011784271805, 7.609384170897753e-05, 0.14579580071440096, 0.007381102645770821, 7.609384170897753e-05, 0.0042023665103750555, 0.005463076463487572, 0.0033618932083000442, 0.0012607099531125165, 0.07942472704608854, 0.043704611707900576, 0.0042023665103750555, 0.022692779156025297, 0.5055446911981192, 0.26222767024740345, 0.009665442973862627, 0.007144023067637594, 0.010505916275937638, 0.03403916873403795, 0.00042023665103750553, 0.005883313114525077, 0.030808026040577977, 0.10053145339557025, 0.08646123437194465, 0.21277937170300715, 0.0030337275218226194, 0.006015149396717262, 0.08583356660880893, 0.07767388568804465, 0.04587205235583512, 0.07458785251929405, 0.00826429221462024, 0.013285634319705954, 0.0602037996141006, 0.037607760141214884, 0.043622909537932145, 0.022072983003605953, 0.017365474780088097, 0.0010984185854875002, 0.046761248353610715, 0.02610051781706012, 0.0004998764837060586, 0.09697603783897538, 0.5693593149412008, 0.2804307073590989, 0.0009997529674121172, 0.0019995059348242345, 0.003499135385942411, 0.04448900704983922, 0.0012606542864991505, 0.0037819628594974513, 0.002521308572998301, 0.9845709977558365, 0.005042617145996602, 0.07204158222808085, 0.015281547745350486, 0.006549234748007351, 0.015281547745350486, 0.8186543435009188, 0.03274617374003675, 0.03274617374003675, 0.0021830782493357835, 0.004366156498671567, 0.019124624031908954, 0.004989032356150162, 0.0008315053926916937, 0.01829311863921726, 0.0008315053926916937, 0.01829311863921726, 0.004989032356150162, 0.02494516178075081, 0.017461613246525568, 0.6610467871898965, 0.09479161476685308, 0.02910268874420928, 0.04323828041996807, 0.044069785812659766, 0.004157526963458468, 0.011641075497683711, 0.0011149918133647443, 0.004831631191247225, 0.0003716639377882481, 0.823978950076546, 0.007061614817976714, 0.0026016475645177367, 0.003344975440094233, 0.00966326238249445, 0.0007433278755764962, 0.009291598444706202, 0.06652784486409641, 0.06987282030419065, 0.9332598627019303, 0.0019163446872729575, 0.051741306556369854, 0.00766537874909183, 0.0019163446872729575, 0.0019163446872729575, 0.16579691594456847, 0.15797279182134166, 0.032662613403311995, 0.14580193207409992, 0.017386942496059616, 0.014157938889648544, 0.0053402751952183105, 0.015524055800053229, 0.05228501993457927, 0.24416234962323718, 0.057252717790596305, 0.012046667300841305, 0.009438625926432362, 0.01577244069285408, 0.0026080413744089424, 0.0024838489280085167, 0.022727217691277925, 0.0004967697856017033, 0.02086433099527154, 0.004967697856017033, 0.0004966286630795358, 0.014898859892386073, 0.020858403849340502, 0.0014898859892386073, 0.16686723079472401, 0.7345137926946333, 0.06058869689570336, 0.0002713445351696476, 0.14272722549923464, 0.17691663693061024, 0.017366050250857447, 0.0016280672110178856, 0.0002713445351696476, 0.12698924245939508, 0.0008140336055089428, 0.03527478957205419, 0.0013567226758482381, 0.042058402951295384, 0.0005426890703392952, 0.03880226852925961, 0.356546719212917, 0.0027134453516964763, 0.0032561344220357713, 0.0013567226758482381, 0.042872436556804325, 0.007868991519919781, 0.014147461388654603, 0.9408061823455312, 0.04244238416596381, 0.005048367359910355, 0.25940841510923973, 0.0003883359507623349, 0.7238582122209923, 0.0003883359507623349, 0.010485070670583043, 0.056848929096787904, 0.018143275243655714, 0.9083733138656961, 0.014514620194924572, 0.0012473641633566263, 0.4880312289132801, 0.00997891330685301, 0.009667072266013856, 0.0009355231225174699, 0.4870957057907626, 0.0012473641633566263, 0.0003118410408391566, 0.0009355231225174699, 0.05574034512188994, 0.02396594580132983, 0.06102606750413812, 0.1664401900137468, 0.0950829378533963, 0.15316581903105533, 0.007207803248520251, 0.009069819087721314, 0.05081501290206777, 0.05694164566330998, 0.13724858685723976, 0.026969197154879936, 0.013754891199259479, 0.03243511461834113, 0.005646112544674196, 0.0037840967054731315, 0.06444977404718524, 0.0037240316784021292, 0.03015264358964305, 0.0022824710286980794, 0.00027481426563818133, 0.00027481426563818133, 0.00027481426563818133, 0.00027481426563818133, 0.010717756359889072, 0.009068870766059984, 0.05221471047125445, 0.002473328390743632, 0.008519242234783621, 0.06485616669061078, 0.06595542375316352, 0.7719532721776513, 0.007419985172230896, 0.00027481426563818133, 0.0032977711876581756, 0.0019236998594672691, 0.03023415044923484, 0.011481322955405637, 0.003061686121441503, 0.0003827107651801879, 0.0022962645910811273, 0.6934719065065005, 0.23230543446437404, 0.01837011672864902, 0.0049752399473424426, 0.0015308430607207516, 0.0011481322955405637, 0.6077587724230137, 0.04459600452588518, 0.0011056860626252525, 0.011056860626252524, 0.002579934146125589, 0.004054182229625926, 0.0011056860626252525, 0.005159868292251178, 0.009951174563627272, 0.11351710242952591, 0.034276267941382825, 0.15627029685103566, 0.002211372125250505, 0.0011056860626252525, 0.0003685620208750841, 0.004054182229625926, 0.0011056860626252525, 0.0024332777118484697, 0.9562781407564486, 0.026766054830333168, 0.009733110847393879, 0.015437991835656183, 0.09309576894835092, 0.009824176622690299, 0.8799655346324025, 0.00046781793441382375, 0.01644372476807911, 0.0032887449536158223, 0.01644372476807911, 0.006577489907231645, 0.0010962483178719408, 0.004384993271487763, 0.8945386273835036, 0.0021924966357438815, 0.03617619448977404, 0.017539973085951052, 0.958376519699272, 0.007834140488004947, 0.03046610189779702, 0.001740920108445544, 0.0008876724979858128, 0.006361652902231658, 0.030180864931517636, 0.0002958908326619376, 0.02958908326619376, 0.009320561228851035, 0.0001479454163309688, 0.0001479454163309688, 0.000739727081654844, 0.0005917816653238752, 0.0002958908326619376, 0.0001479454163309688, 0.003846580824605189, 0.0002958908326619376, 0.327107315507772, 0.0008876724979858128, 0.5891186478299177, 0.0003617770695636902, 0.008682649669528565, 0.09225315273874099, 0.0003617770695636902, 0.10817134379954337, 0.0003617770695636902, 0.0014471082782547607, 0.3140224963812831, 0.47392796112843416, 0.9140775723430279, 0.08309796112209344, 0.03841306102032498, 0.0009369039273249996, 0.0018738078546499991, 0.056214235639499975, 0.0004684519636624998, 0.8753024941033808, 0.0028107117819749987, 0.004216067672962498, 0.0016395818728187491, 0.0016395818728187491, 0.012882429000718744, 0.0023422598183124987, 0.0009369039273249996, 0.9944094553813186, 0.0033766025649620327, 0.07097653334185043, 0.02241364210795277, 0.9040168983540949, 0.0011385985251292491, 0.05920712330672096, 0.0034157955753877475, 0.8528102953218076, 0.0022771970502584982, 0.05806852478159171, 0.023910569027714233, 0.007076608068656062, 0.010614912102984092, 0.017691520171640156, 0.008845760085820078, 0.0017691520171640154, 0.03715219236044432, 0.06722777665223259, 0.8491929682387274, 0.9982148310644228, 0.8688327584435271, 0.07713935705807017, 0.0013533220536503538, 0.044659627770461674, 0.0013533220536503538, 0.004059966160951061, 0.0013533220536503538, 0.035664495626259306, 0.9492242682065939, 0.005486845480962971, 0.008230268221444455, 0.0042320125025279995, 0.408377115029659, 0.007859451790409143, 0.0014993415723242056, 0.0007496707861621028, 0.3296133166254665, 0.0007980366433338514, 0.011583622792633782, 0.01168035450697728, 0.0013784269293948342, 0.0029261343588907886, 0.0008947683576773486, 0.04696324731376786, 0.003796719787982263, 0.005320244288892342, 0.06938082211287332, 0.02420711151446016, 0.02319142851385344, 0.036322758735983174, 0.009213695791218102, 0.030071165538815163, 0.9672891581652211, 0.9508017474711095, 0.045390033170731356, 0.0019957973016082047, 0.0654621514927491, 0.9284449047081368, 0.0003991594603216409, 0.0003991594603216409, 0.0003991594603216409, 0.0023949567619298453, 0.9733045501717154, 0.01927335742914288, 0.00481833935728572, 0.00013933888033308028, 0.00013933888033308028, 0.010450416024981021, 0.011843804828311823, 0.0008360332819984817, 0.730832427347006, 0.005991571854322452, 0.06019439630389068, 0.006688266255987853, 0.03093323143394382, 0.017835376682634276, 0.007106282896987094, 0.03483472008327007, 0.0008360332819984817, 0.07175952337153635, 0.0005573555213323211, 0.007942316178985576, 0.0008360332819984817, 0.0003807808460108494, 0.004569370152130193, 0.024065349467885685, 0.15101768352790287, 0.08575184652164329, 0.011423425380325482, 0.2968567475500582, 0.0006092493536173591, 0.0003807808460108494, 0.023760724791077003, 0.00022846850760650965, 0.006016337366971421, 0.3475767562387034, 0.02574078519033342, 0.016297420209264356, 0.0018277480608520772, 0.0035031837832998148, 0.0033020647584958577, 0.7627769592125431, 0.08090058658314851, 0.03797374472270236, 0.1139212341681071, 0.0022253305132847317, 0.01557731359299312, 0.024478635646132046, 0.13797049182365337, 0.7944429932426491, 0.0022253305132847317, 0.017802644106277854, 0.022012611156769803, 0.00626046739320976, 0.002625357293926674, 0.018579451618558, 0.009693626931421565, 0.13611467816204448, 0.05048764026782065, 0.042409617824969346, 0.003635110099283087, 0.16782091625023585, 0.02807112798890828, 0.08764654350493664, 0.0028273078549979564, 0.057757860466386826, 0.2970692753358567, 0.013732638152847216, 0.011915083103205673, 0.0046448629046395, 0.03392769425997547, 0.0028273078549979564, 0.012213995891846468, 0.004580248459442425, 0.14046095275623438, 0.00916049691888485, 0.0015267494864808085, 0.02137449281073132, 0.6961977658352487, 0.06870372689163638, 0.04427573510794345, 0.0004544380117401403, 0.0004544380117401403, 0.00022721900587007016, 0.01476923538155456, 0.19518112604239027, 0.0024994090645707717, 0.0036355040939211225, 0.0009088760234802806, 0.022040243569396805, 0.00022721900587007016, 0.49170192870283186, 0.07498227193712316, 0.0004544380117401403, 0.13996690761596323, 0.04839764825032494, 0.004317161111531333, 0.06306886567028618, 0.0014333833106883224, 0.8815307360733182, 0.026087576254527466, 0.006020209904890953, 0.0005733533242753289, 0.018920659701085855, 0.0005733533242753289, 0.0011467066485506578, 0.15168846567531383, 0.802263440682771, 0.045265764360252383, 0.9965464655255784, 0.08035966306488584, 0.047538579709585756, 0.048951672656645795, 0.0705479988286954, 0.015357387500124171, 0.049858185113250346, 0.06492228917153187, 0.08851827517432681, 0.14370888650289806, 0.08462560403714256, 0.06590878802136624, 0.06526889687552773, 0.020183233224989577, 0.044099164800703784, 0.05764352738761885, 0.006372249327308467, 0.014477537174596223, 0.003652711957494811, 0.020663151584368458, 0.007305423914989622, 0.5418776562441261, 0.0018071193871886054, 0.4437768895110304, 0.012133515885409207, 0.015602806717264337, 0.20640284314552537, 0.004457944776361239, 0.012482245373811469, 0.0017831779105444956, 0.0017831779105444956, 0.004457944776361239, 0.0004457944776361239, 0.04547103671888464, 0.0008915889552722478, 0.0004457944776361239, 0.0008915889552722478, 0.09361684030358602, 0.1564738616502795, 0.0004457944776361239, 0.0004457944776361239, 0.45203560032302964, 0.0026747668658167437, 7.49383487979814e-05, 0.0001498766975959628, 0.0010491368831717397, 7.49383487979814e-05, 0.19843674761705477, 0.0001498766975959628, 7.49383487979814e-05, 0.0002997533951919256, 0.0017985203711515536, 0.386756818146382, 7.49383487979814e-05, 0.0004496300927878884, 7.49383487979814e-05, 0.2733001580662382, 0.13721211664910396, 0.025585300260560745, 0.003655042894365821, 0.9265533737217355, 0.0018275214471829104, 0.027412821707743656, 0.012792650130280372, 0.7174874240737559, 0.12277355921787245, 0.00010466629089332689, 0.07954638107892843, 0.00010466629089332689, 0.00010466629089332689, 0.016327941379358994, 0.00020933258178665377, 0.00010466629089332689, 0.00010466629089332689, 0.007117307780746229, 0.0021979921087598646, 0.05348447464649004, 0.00010466629089332689, 0.9082885036564993, 0.00490003606680799, 0.06414592669275915, 0.02182743338850832, 0.0002227289121276359, 0.0002227289121276359, 0.0013394519261622727, 0.009677540166522421, 0.009242218290519683, 0.037538140230697695, 0.10129605191602188, 0.03579685272668674, 0.018919758457042104, 0.17506636674940906, 0.0064293692455789095, 0.0036500064987921932, 0.007400471892046557, 0.018049114705036628, 0.0013394519261622727, 0.11301625626994177, 0.029970236847880853, 0.28111747300330703, 0.05541982344496404, 0.0635235075982458, 0.0005022944723108523, 0.030706935407270104, 0.8157665969939654, 0.027192219899798847, 0.10423684294922891, 0.013596109949899423, 0.013596109949899423, 0.018128146599865898, 0.0030188571357908705, 0.000979088800797039, 0.0017134054013948185, 0.002121359068393585, 0.2227427021813264, 0.00016318146679950653, 0.4349601997540846, 0.0029372664023911174, 0.020805637016937082, 0.009219752874172118, 0.0004079536669987663, 0.22731178325171258, 0.00024477220019925977, 0.006853621605579274, 0.040876957433276385, 0.010688386075367677, 0.006445667938580508, 0.00024477220019925977, 0.008159073339975327, 0.996085056406044, 0.0018704042444782592, 0.010661304193526077, 0.09258501010167383, 0.00018704042444782592, 0.0011222425466869555, 0.14102848003366075, 0.45993240371720395, 0.0016833638200304333, 0.00018704042444782592, 0.0011222425466869555, 0.07481616977913037, 0.0005611212733434778, 0.002244485093373911, 0.03441543809839997, 0.0005611212733434778, 0.16534373521187812, 0.011409465891317382, 0.01707252299371344, 0.13991140794848086, 0.0012492089995400078, 0.08452980896887387, 0.5138413018107899, 0.0008328059996933386, 0.007495253997240047, 0.0012492089995400078, 0.06537527097592707, 0.162397169940201, 0.006246044997700039, 0.9945363968749749, 0.03947046365291118, 0.9522249356264822, 0.00037637828533625074, 0.008656700562733767, 0.7647254001461943, 0.0003011026282690006, 0.0009033078848070018, 0.1775752750216431, 0.0012044105130760024, 0.0006022052565380012, 0.0007527565706725015, 0.0004516539424035009, 0.0001505513141345003, 7.527565706725015e-05, 0.0008280322277397516, 0.0038390585104297573, 0.03402459699439707, 0.003613231539228007, 7.527565706725015e-05, 0.001957167083748504, 0.9963828145862773, 0.9731768509918577, 0.013115590983717758, 0.0026231181967435514, 0.010492472786974206, 0.0026986594820702734, 0.006133317004705167, 0.7794219249579326, 0.00588798432451696, 0.005397318964140547, 0.10868237732337556, 0.0026986594820702734, 0.0012266634009410334, 0.03778123274898383, 0.0009813307207528267, 0.00441598824338772, 0.00147199608112924, 0.0017173287613174468, 0.00073599804056462, 0.00024533268018820666, 0.00220799412169386, 0.03287457914521969, 0.004170655563199514, 0.00024533268018820666, 0.0012266634009410334, 0.013969028922166818, 0.0008466078134646556, 0.024128322683742685, 0.9291520752774596, 0.0012699117201969835, 0.0004233039067323278, 0.0004233039067323278, 0.0004233039067323278, 0.0004233039067323278, 0.0038097351605909506, 0.02158849924334872, 0.0004233039067323278, 0.0016932156269293113, 0.0008466078134646556, 0.008786482676221528, 0.14937020549576596, 0.014644137793702546, 0.017572965352443057, 0.0644342062922912, 0.6853456487452791, 0.020501792911183564, 0.014644137793702546, 0.020501792911183564, 0.013537383470049315, 0.0006768691735024658, 0.0013537383470049317, 0.02436729024608877, 0.8650388037361513, 0.01624486016405918, 0.006768691735024658, 0.07039439404425644, 0.9924856950807005, 0.005516874347307952, 0.0005516874347307952, 0.6447107075316622, 0.01821487500832949, 0.013900825664251451, 0.08436363161752605, 0.04841322041687574, 0.024925618432450877, 0.010066115136182085, 0.05704131910503182, 0.02588429606446822, 0.016776858560303476, 0.0014380164480260122, 0.001917355264034683, 0.00047933881600867073, 0.007190082240130061, 0.014380164480260122, 0.025404957248459547, 0.005272726976095378, 0.8658723463231183, 0.021139461580154253, 0.00422789231603085, 0.0025367353896185102, 0.00422789231603085, 0.04397008008672085, 0.0008455784632061702, 0.029595246212215955, 0.025367353896185104, 0.0008455784632061702, 0.0016911569264123404, 0.000499974070614008, 0.028498522024998457, 0.7954587463468867, 0.04249779600219068, 0.020998910965788337, 0.000499974070614008, 0.003999792564912064, 0.000999948141228016, 0.1059945029701697, 0.000499974070614008, 0.000499974070614008, 0.000569568682582631, 0.019270407094045684, 0.218429589770439, 0.021074041255557348, 0.3499999554470268, 0.0007594249101101747, 0.10850283403199122, 0.03578789888894199, 0.017181988591242703, 0.004936261915716136, 0.0009492811376377184, 0.03967995155325663, 0.02059940068673849, 0.0074993209873379756, 0.02667479996761989, 0.019175478980281914, 0.000569568682582631, 0.08002439990285966, 0.006739896077227801, 0.021738538051903754, 0.060992142887410894, 0.032245222673643666, 0.12107168513311488, 0.19651333818088496, 0.00015210010695114936, 0.011407508021336202, 0.019620913796698267, 0.11970278417055454, 0.0006084004278045975, 0.002129401497316091, 0.022967116149623552, 0.001216800855609195, 0.014601610267310338, 0.014449510160359188, 0.03315782331535056, 0.00015210010695114936, 0.2527903777528102, 0.0010647007486580455, 0.09551886716532179, 0.02063861465483641, 0.005732948515232336, 0.013759076436557606, 0.019492024951789942, 0.026371563170068744, 0.0011465897030464671, 0.8794343022366403, 0.027518152873115213, 0.0034397691091394016, 0.001649755441340802, 0.001099836960893868, 0.021556804433519813, 0.03651458710167642, 0.2906869087642493, 0.0004399347843575472, 0.006599021765363208, 0.010008516344134199, 0.0004399347843575472, 0.0058291358927375, 0.004069396755307312, 0.003849429363128538, 0.006159086981005661, 0.046523103445810614, 0.5343007956022411, 0.012538141354190095, 0.0007698858726257076, 0.008138793510614624, 0.007808842422346462, 0.0009898532648044813, 0.00025898570553594807, 0.004920728405183013, 0.0007769571166078441, 0.006474642638398702, 0.14917576638870608, 0.007899064018846417, 0.026416541964666702, 0.0019423927915196105, 0.00012949285276797403, 0.0020718856442875845, 0.0027193499081274546, 0.7691875454417657, 0.012042835307421585, 0.00012949285276797403, 0.012301821012957534, 0.00038847855830392207, 0.003237321319199351, 0.002287915351785931, 0.0034318730276788963, 0.01944728049018041, 0.3042927417875288, 0.008007703731250758, 0.02059123816607338, 0.0011439576758929654, 0.0011439576758929654, 0.004575830703571862, 0.6268888063893451, 0.004575830703571862, 0.0011439576758929654, 0.002287915351785931, 0.0016882070586062385, 0.014038774487357141, 0.4283603278705619, 0.02203554476496564, 0.004798062166565099, 0.05046850575201808, 0.0045315031573114825, 0.11550890400990053, 0.010751213373229204, 0.09729403837757006, 0.0003554120123381555, 0.04105008742505696, 8.885300308453887e-05, 0.040339263400380646, 0.14838451515117992, 0.0003554120123381555, 0.0002665590092536166, 0.0008885300308453887, 0.00790791727452396, 0.01092891937939828, 0.0004290622609989819, 0.014159054612966402, 0.796500454761985, 0.001019022869872582, 0.03073158444405208, 0.00010726556524974547, 0.005363278262487273, 0.04655325531838953, 0.056314421756116374, 0.000804491739373091, 0.00048269504362385464, 0.00010726556524974547, 0.0004290622609989819, 0.005309645479862401, 0.01431995296084102, 0.027299086356060223, 0.9984097402732283, 0.12932088025467092, 0.8690919371953691, 0.9965823338476532, 0.9984306138072588, 0.0019080230044477991, 0.003180038340746332, 0.0006360076681492664, 0.02162426071707506, 0.9711837092639298, 0.00010118438305020681, 0.0044521128542091, 0.005362772301660961, 0.00020236876610041363, 0.5398186835728533, 0.21127299180883183, 0.00020236876610041363, 0.007791197494865925, 0.007690013111815718, 0.0003035531491506205, 0.0008094750644016545, 0.0036426377898074454, 0.00020236876610041363, 0.0003035531491506205, 0.0020236876610041366, 0.0019225032779539295, 0.0966310858129475, 0.0035414534067572385, 0.11221348080267936, 0.001618950128803309, 0.028455507382128938, 0.8812314942403056, 0.04001555725611882, 0.0026677038170745877, 0.030233976593511996, 0.0008892346056915293, 0.006224642239840705, 0.0017784692113830586, 0.007113876845532234, 0.001405475256305048, 0.00768877640213938, 0.007440751356909078, 0.002645600482456561, 0.010251701869519174, 0.23562379296878747, 0.013476027457513107, 0.26927252410503183, 0.005291200964913122, 0.0016535003015353505, 0.008928901628290893, 0.1693184308772199, 0.0009094251658444428, 0.03521955642270297, 0.016535003015353506, 0.012235902231361595, 0.19875073624454914, 0.0017361753166121182, 0.001405475256305048, 0.0003307000603070701, 0.0003349984954316991, 0.1685879928260026, 0.01800616912945383, 0.06448721037060208, 0.018508666872601377, 0.0010049954862950974, 0.010719951853814372, 0.012143695459399093, 0.009128709000513801, 0.027386127001541402, 0.0024287390918798185, 0.006113722541628509, 0.007369966899497381, 0.030233614212710848, 0.01783866988173798, 0.013232440569552115, 0.1084557628960126, 0.08023213965589195, 0.37771080359924075, 0.026046133019814607, 0.9990937764958445, 0.01199438620788902, 0.03506051353075252, 0.9429432849586599, 0.00830380583623086, 0.00110844540882281, 0.00886756327058248, 0.9887333046699465, 0.0011316599564261823, 0.01494982363489325, 0.06444505646595418, 0.03448584814582945, 0.003752346171307868, 0.0031567356679256665, 0.09511899739013753, 0.001905953610823044, 0.40358567709177956, 0.00011912210067644025, 5.9561050338220125e-05, 0.003454540919616767, 0.021561100222435684, 0.00017868315101466037, 0.00464576192638117, 0.09851397725941609, 0.002858930416234566, 0.13460797376437747, 0.00041692735236754084, 0.11108135888078052, 0.0029060001952853154, 0.0029060001952853154, 0.005812000390570631, 0.017436001171711894, 0.12495800839726856, 0.0029060001952853154, 0.8398340564374562, 0.011259452614725746, 0.0004330558697971441, 0.0004330558697971441, 0.9869343272676914, 0.0004330558697971441, 0.5044493551422008, 0.02527663196847105, 0.0010832842272201879, 0.013179958097845619, 0.013721600211455715, 0.014624337067472537, 0.0012638315984235527, 0.011735579128218702, 0.005055326393694211, 0.2570994565935913, 0.0935235382833429, 0.01245776861303216, 0.020040758203573476, 0.0005416421136100939, 0.0043331369088807515, 0.0016249263408302818, 0.00776353696174468, 0.012096673870625432, 0.00018054737120336465, 0.09824060174869996, 0.0008771482298991067, 0.004385741149495533, 0.035963077425863375, 0.0008771482298991067, 0.008771482298991067, 0.7341730684255523, 0.007017185839192854, 0.003508592919596427, 0.02456015043717499, 0.008771482298991067, 0.07192615485172675, 0.9440168662773596, 0.05457416078110197, 0.1206193972123197, 0.00268043104916266, 0.00134021552458133, 0.00134021552458133, 0.00268043104916266, 0.8711400909778645, 0.027238354348582478, 0.9579928529428277, 0.006643501060629872, 0.003986100636377924, 0.0013287002121259745, 0.0006643501060629872, 0.001993050318188962, 0.0798288398566609, 0.14016700193013704, 0.05816101189556722, 0.17258234902344782, 0.09444684819404944, 0.039119587323697025, 0.040916600168955194, 0.020354626266481934, 0.07074010181237439, 0.018453939603228102, 0.06127122643543713, 0.07948326046334202, 0.02436334722898092, 0.017901012573917897, 0.015931210032000293, 0.008397579257648743, 0.009537991255601041, 0.01831570784590055, 0.019732583358507954, 0.010298265920902574, 0.9250239603308273, 0.02055608800735172, 0.02877852321029241, 0.024667305608822063, 0.008487607385615216, 0.9902208616551086, 0.7188858563716439, 0.07313727074748735, 0.02675753807834903, 0.008919179359449676, 0.0035676717437798707, 0.13378769039174515, 0.03389288156590877, 0.0024652552210899766, 0.0009861020884359907, 0.7168962182929652, 0.053249512775543496, 0.0014791531326539859, 0.2016578770851601, 0.0019722041768719814, 0.0059166125306159435, 0.0004930510442179954, 0.0034513573095259673, 0.010354071928577901, 0.7745675272845063, 0.08424299390405507, 0.007020249492004589, 0.004680166328003059, 0.08424299390405507, 0.035101247460022945, 0.0023400831640015296, 0.004680166328003059, 0.009321621512421057, 0.966341430120983, 0.018643243024842115, 0.003107207170807019, 0.003107207170807019, 0.03271131032662364, 0.963496776893278, 0.02775347238208757, 0.005550694476417514, 0.064758102224871, 0.7937493101277046, 0.05920740774845348, 0.0018502314921391714, 0.01480185193711337, 0.03145393536636591, 0.003713415791526837, 0.0018567078957634185, 0.9896253084419021, 0.003713415791526837, 0.009168469569389636, 0.0252132913158215, 0.036673878277558546, 0.8985100178001844, 0.0252132913158215, 0.002292117392347409, 0.2397092254538204, 0.0033947805335710203, 0.739684958481419, 0.015465111319601316, 0.00018859891853172336, 0.00037719783706344673, 0.0005657967555951701, 0.00018859891853172336, 0.00037719783706344673, 0.18204068312397345, 0.0002796323857511113, 0.0008388971572533339, 0.8011467851769338, 0.014540884059057787, 0.0005592647715022226, 0.3005039443755067, 0.008249127884817832, 0.689391401802633, 0.0005892234203441309, 0.0011784468406882617, 0.9921679518420876, 0.05254886308014155, 0.9353697628265195, 0.01050977261602831, 0.020318050096640658, 0.02285780635872074, 0.007619268786240246, 0.0990504942211232, 0.0025397562620800822, 0.017778293834560574, 0.7212907784307433, 0.02285780635872074, 0.0025397562620800822, 0.05841439402784189, 0.017778293834560574, 0.0025397562620800822, 0.0025397562620800822, 0.4428259523943196, 0.0010346400756876626, 0.002069280151375325, 0.03207384234631754, 0.037247042724755854, 0.4831769153461385, 0.009861757525400975, 0.9565904799638946, 0.01972351505080195, 0.0049308787627004875, 0.00024795361029686125, 0.47731069982145796, 0.521942349674893, 0.0008867363026404501, 0.0026602089079213504, 0.9958048678652254, 0.03002429596280001, 0.9037313084802803, 0.018014577577680005, 0.012009718385120004, 0.03002429596280001, 0.26580920311227774, 0.10046281668937622, 0.04119252946898154, 0.027041935148808087, 0.017693578720096213, 0.07830849255010014, 0.0013446266096092418, 0.09777356347015773, 0.0034362680023347293, 0.015708653724958763, 0.08959908741491425, 0.07228968772613496, 0.05956909313364118, 0.021001787045325303, 0.03265521766193873, 0.006701789768528602, 0.006018804823965178, 0.011781490293719072, 0.049089542890496135, 0.0025185069830776278, 0.03583328721130123, 0.1988575715208634, 0.0019462168772911214, 0.1503166329343084, 0.09559359367871097, 0.0012593168029530785, 0.0013738001486760857, 0.007670384163441479, 0.04293125464612768, 0.0019462168772911214, 0.0013738001486760857, 0.0005724167286150357, 0.0009158667657840571, 0.42244354571789633, 0.004922783866089307, 0.00080138342006105, 0.018202851969958134, 0.012364201338084772, 0.0006869000743380428, 0.9941558925289303, 0.00022004335824013507, 0.005060997239523107, 0.9961174353270329, 0.002394513065689983, 0.2480603100266283, 0.00032173840470379805, 0.00032173840470379805, 0.02734776439982283, 0.0016086920235189902, 0.6869114940426088, 0.03474774770801019, 0.00032173840470379805, 0.00032173840470379805, 0.16818766729681242, 0.0014561702796260817, 0.1536259645005516, 0.029851490732334673, 0.07426468426093016, 0.0029123405592521635, 0.5679064090541719, 0.0007280851398130409, 0.006792180259258194, 0.006792180259258194, 0.9672064689183668, 0.005433744207406555, 0.01222592446666475, 0.5420549354078168, 0.19158924211930378, 0.0029920235625086485, 0.011768626012534018, 0.006781920075019604, 0.06612372073144113, 0.0029920235625086485, 0.026529275587576683, 0.03710109217510724, 0.05395615824390596, 0.0238364543813189, 0.01865028020630391, 0.004687503581263549, 0.001396277662504036, 0.003091757681258937, 0.0008976070687525946, 0.0022938847312566307, 0.0022938847312566307, 0.0008976070687525946, 0.19497899988968975, 0.804568516786191, 0.05994919101548455, 0.05994919101548455, 0.032699558735718844, 0.07629897038334398, 0.021799705823812562, 0.7466399244655803, 0.000495369075063683, 0.0021053185690206523, 0.01523259905820825, 0.005572902094466433, 0.07529609940967981, 0.00012384226876592074, 0.04792695801241132, 0.03009367131011874, 0.20050063313202568, 0.002848372181616177, 0.001857634031488811, 0.017461759895994824, 0.0011145804188932866, 0.33115422668007205, 0.13387349253596031, 0.013994176370549043, 0.001362264956425128, 0.021672397034036128, 0.001857634031488811, 0.09548238921852488, 0.004502342695699628, 0.004502342695699628, 0.987513831256785, 0.0015007808985665425, 0.18174803488318605, 0.011004039370838277, 0.003023087739241285, 0.0004836940382786056, 0.0008464645669875598, 0.03216565354552727, 0.07061932958867642, 0.0001209235095696514, 0.0258776310479054, 0.0022975466818233765, 0.06118729584224361, 0.5625361665180183, 0.003385858267950239, 0.005078787401925359, 0.03289119460294518, 0.0002418470191393028, 0.000604617547848257, 0.005683404949773616, 0.036932940293875546, 0.005276134327696507, 0.9549803133130678, 0.07259577226660527, 0.1141871001276812, 0.12628639550544873, 0.048586233001347796, 0.01890514902776179, 0.012855501338878016, 0.009641626004158512, 0.011343089416657072, 0.34293940336359885, 0.04518330617635068, 0.03667598911385787, 0.009263523023603277, 0.0665461245777215, 0.0024576693736090326, 0.0105868834555466, 0.00359197831527474, 0.008507317062492805, 0.044427100215240205, 0.00888542004304804, 0.006427750669439008, 0.18925816671647697, 0.0005517730808060553, 0.0027588654040302764, 0.009931915454508996, 0.003862411565642387, 0.00938014237370294, 0.09600851606025362, 0.0027588654040302764, 0.6224000351492304, 0.0033106384848363315, 0.0005517730808060553, 0.0005517730808060553, 0.0027588654040302764, 0.019863830909017992, 0.0005517730808060553, 0.0016553192424181658, 0.002207092323224221, 0.029795746363526984, 0.0011035461616121106, 0.002775781027038205, 0.012953644792844957, 0.9817012232291785, 0.002775781027038205, 0.010270673217402658, 0.019184842424959683, 0.00019378628712080485, 0.00019378628712080485, 0.03740075341431534, 0.00678252004922817, 0.00019378628712080485, 0.010270673217402658, 0.9034316705571923, 0.011820963514369096, 0.026847509279313925, 0.02163440068138889, 0.8567743980689793, 0.006255730317510041, 0.007037696607198796, 0.006516385747406293, 0.009644250906161313, 0.0010426217195850067, 0.005213108597925033, 0.00469179773813253, 0.015899981223671353, 0.02606554298962517, 0.01225080520512383, 0.0006149741289581577, 0.002459896515832631, 0.8671135218310023, 0.006149741289581577, 0.0006149741289581577, 0.00799466367645605, 0.0018449223868744731, 0.0006149741289581577, 0.035668499479573144, 0.004919793031665262, 0.03997331838228025, 0.0319786547058242, 0.9799434291082775, 0.0023727443804074516, 0.014236466282444708, 0.9951633598324032, 0.00043046905557903595, 0.0019371107501056617, 0.0008609381111580719, 0.0025828143334742154, 0.024106267112426014, 0.0015066416945266259, 0.0030132833890532517, 0.0045199250835798776, 0.13581298703518582, 0.00043046905557903595, 0.0027980488612637335, 0.1581973779252957, 0.635372326034657, 0.0191558729732671, 0.0010761726389475897, 0.005165628666948431, 0.0008609381111580719, 0.0012914071667371077, 0.0008609381111580719, 0.002669707979383498, 0.002669707979383498, 0.009343977927842242, 0.0033371349742293724, 0.0654078454948957, 0.023359944819605606, 0.8563088343872569, 0.021357663835067982, 0.004671988963921121, 0.010011404922688117, 0.0006674269948458745, 0.9983979157035818, 0.0007542201590154874, 0.005279541113108412, 0.0015084403180309748, 0.9917995091053659, 0.08388832435224947, 0.0032264740135480563, 0.022585318094836392, 0.8872803537257155, 0.0032264740135480563, 0.7193423545452476, 0.23839636923150817, 0.0008306493701446278, 0.0008306493701446278, 0.0149516886626033, 0.019935584883471066, 0.004153246850723139, 0.09783358171981998, 0.015768049800996626, 0.006808930595884907, 0.5715918052861277, 0.014334590728178753, 0.004300377218453626, 0.0010750943046134065, 0.0014334590728178752, 0.08170716715061889, 0.1426291777453786, 0.016126414569201095, 0.0007167295364089376, 0.02114352132406366, 0.0003583647682044688, 0.0010750943046134065, 0.0025085533774312817, 0.0003583647682044688, 0.019351697483041316, 0.0007167295364089376, 0.05867551271985583, 0.0023949188865247275, 0.004789837773049455, 0.011375864710992455, 0.0011974594432623638, 0.16285448428368146, 0.007184756659574183, 0.7502083412038709, 0.00017498812405726712, 0.00017498812405726712, 0.004374703101431678, 0.03219781482653715, 0.1819876490195578, 0.2985297396416977, 0.00787446558257702, 0.017848788653841246, 0.00017498812405726712, 0.41542180651195215, 0.012249168684008698, 0.0020998574886872054, 0.002799809984916274, 0.005074655597660746, 0.01837375302601305, 0.00034997624811453423, 0.00034997624811453423, 0.0018760210537152786, 0.018760210537152787, 0.0018760210537152786, 0.0018760210537152786, 0.011256126322291672, 0.013132147376006952, 0.08254492636347226, 0.8629696847090282, 0.0018760210537152786, 0.0018760210537152786, 0.0390917708528393, 0.916256243147251, 0.04389251464178448, 0.9965935166647367, 0.007518487180905717, 0.007122777329279101, 0.008969423303536646, 0.024270204233099158, 0.005935647774399251, 0.435676546640905, 0.0014509361226309279, 0.03996669501428829, 0.0030337755291373948, 0.08586903780297582, 0.22660984169817583, 0.026908269910609937, 0.004352808367892784, 0.033635337388262423, 0.0010552262710043113, 0.0007914197032532334, 0.052497506982464484, 0.006727067477652484, 0.026776366626734396, 0.0007914197032532334, 0.8700197876322441, 0.016161358284190293, 0.008080679142095147, 0.018854917998222007, 0.037709835996444015, 0.00538711942806343, 0.037709835996444015, 0.002693559714031715, 0.009503092699585398, 0.9892772590171749, 0.0009025283569438646, 5.3089903349639096e-05, 0.00010617980669927819, 0.17898515972243845, 0.7537544050282972, 0.06365317299988128, 0.0025209177425695554, 0.0006302294356423889, 0.9691347972589035, 0.019410425123926538, 0.005545835749693296, 0.004159376812269972, 0.9983633930210063, 0.0003234875311530194, 8.087188278825486e-05, 8.087188278825486e-05, 0.0010513344762473132, 0.9964619552972958, 0.0024543397913726495, 0.0069900175390555565, 0.0069900175390555565, 0.027960070156222226, 0.20271050863261114, 0.7269618240617779, 0.027960070156222226, 0.0034950087695277783, 0.010162217789527271, 0.038077707620999775, 0.06893167006631148, 0.021793671885974145, 0.0014692363069196055, 0.2900517342577121, 0.026935998960192765, 0.0704009063732311, 0.009917345071707337, 0.014937235787015989, 0.018855199272134936, 0.19087828354063874, 0.0040403998440289145, 0.006733999740048191, 0.0275481807547426, 0.000979490871279737, 0.0002448727178199342, 0.00465258163857875, 0.1924699562064683, 0.000979490871279737, 0.8689987316239712, 0.09391663310718695, 0.0005397507649838331, 0.019970778304401825, 0.004857756884854497, 0.0005397507649838331, 0.0010795015299676662, 0.009175763004725163, 0.9892937174242247, 0.0014096912786415354, 0.011982375868453052, 0.004229073835924606, 0.9769160560985841, 0.0049339194752453745, 0.046851706644175074, 0.10387277597080675, 0.0025423406706141516, 0.001815957621867251, 0.0003631915243734502, 0.003631915243734502, 0.045398940546681275, 0.6097985694230229, 0.013438086401817657, 0.0029055321949876018, 0.0003631915243734502, 0.0003631915243734502, 0.028692130425502567, 0.1394655453594049, 0.0001848249919905189, 0.0001848249919905189, 0.0001848249919905189, 0.015894949311184625, 0.0005544749759715567, 0.2465565393153522, 0.012198449471374247, 0.0009241249599525944, 0.0003696499839810378, 0.002217899903886227, 0.6260022478718875, 0.004435799807772454, 0.054523372637203076, 0.014046699391279435, 0.0012937749439336324, 0.019591449150995, 0.0005544749759715567, 0.0001848249919905189, 0.9444415201432832, 0.05324057589043018, 0.00654110790363019, 0.002725461626512579, 0.0005450923253025158, 0.1896921292052755, 0.793654425640463, 0.0005450923253025158, 0.0016352769759075474, 0.0038156462771176103, 0.04647438065136641, 0.03747933923497291, 0.91299670376394, 0.0014991735693989164, 0.010648586588254431, 0.9885437882762864, 0.0008312086810271101, 0.013299338896433761, 0.022442634387731974, 0.0049872520861626605, 0.0016624173620542202, 0.0024936260430813303, 0.016624173620542203, 0.0008312086810271101, 0.01080571285335243, 0.02161142570670486, 0.8129220900445137, 0.040729225370328394, 0.040729225370328394, 0.0033248347241084403, 0.0008312086810271101, 0.004156043405135551, 0.0008312086810271101, 0.9885377265444835, 0.0006908020451044609, 0.0013816040902089217, 0.008980426586357991, 0.9960354530046982, 0.1982297777119524, 0.8002271210860383, 0.0021906158796058993, 0.9901583775818665, 0.004381231759211799, 0.7490723009400063, 0.15171084576000127, 0.06637349502000056, 0.022124498340000187, 0.006321285240000053, 0.7728276362011425, 0.1559213651984761, 0.07005162784279362, 0.008551381827056212, 0.0007126151522546843, 0.0014252303045093687, 0.00498830606578279, 0.024228915176659267, 0.004275690913528106, 0.11188057890398544, 0.0014252303045093687, 0.025654145481168636, 0.8031172765910292, 0.0007126151522546843, 0.010689227283820265, 0.0007126151522546843, 0.0007126151522546843, 0.13036904284088086, 0.8691269522725391, 0.7702996088445975, 0.013248396220914454, 0.049208328820539396, 0.060564097009894645, 0.06813460913613148, 0.015141024252473661, 0.0018926280315592077, 0.018926280315592077, 0.8314454342503858, 0.0334489542514523, 0.009556844071843514, 0.04300579832329581, 0.004778422035921757, 0.004778422035921757, 0.06211948646698284, 0.004778422035921757, 0.015684477641358042, 0.027447835872376574, 0.0039211194103395105, 0.0352900746930556, 0.8273561955816368, 0.031368955282716084, 0.0039211194103395105, 0.031368955282716084, 0.023526716462037064, 0.019925667857740616, 0.0044279261906090255, 0.03763737262017672, 0.9187946845513729, 0.0022139630953045128, 0.01549774166713159, 0.9939689381665081, 0.0012033522253831817, 0.0024067044507663634, 0.21180579184843992, 0.011200464130896192, 0.006185330937957598, 0.00016717110643128642, 0.5618620887155537, 0.05683817618663739, 0.007689870895839176, 0.03360139239268857, 0.03895086779848974, 0.0010030266385877187, 0.0025075665964692964, 0.0005015133192938593, 0.003176251022194442, 0.00033434221286257284, 0.0025075665964692964, 0.00016717110643128642, 0.06151896716671341, 0.00033434221286257284, 0.07698521813890762, 0.11047878706947131, 0.0379927050555648, 0.06948665793057245, 0.002249568062500547, 0.07348589004168453, 0.00862334423958543, 0.0672370898680719, 0.01774659249305987, 0.2154586299861635, 0.058488769625014224, 0.02861950479514585, 0.03986734510764858, 0.06423766578473784, 0.03449337695834172, 0.0023745440659728, 0.04724092931251149, 0.00037492801041675786, 0.04311672119792715, 0.0012497600347225262, 0.0004293768814389215, 0.09646667269661104, 0.005868150712998594, 0.7014586986440514, 0.0018606331529019934, 0.09074164761075874, 0.0014312562714630717, 0.07127656231886097, 0.0005725025085852287, 0.0014312562714630717, 0.015314442104654867, 0.009875668273095195, 0.0011450050171704575, 0.0012881306443167646, 0.0007156281357315359, 0.045580925540489495, 0.9126544409357101, 0.011395231385122374, 0.0031077903777606474, 0.010359301259202158, 0.0010359301259202159, 0.0010359301259202159, 0.0010359301259202159, 0.01243116151104259, 0.0008635144393743921, 0.8747401270862593, 0.09412307389180874, 0.018133803226862234, 0.006908115514995137, 0.004317572196871961, 0.023515069950403946, 0.12415956933813284, 0.8352552846383482, 0.015990247566274682, 0.001065216940808093, 0.02449998963858614, 0.03195650822424279, 0.001065216940808093, 0.007456518585656651, 0.012782603289697115, 0.9192822199173842, 0.002130433881616186, 0.005996257064089277, 0.03297941385249102, 0.005996257064089277, 0.029981285320446385, 0.7975021895238739, 0.12292326981383017, 0.13505578040826818, 0.025927944191007114, 0.030422121184115015, 0.11085636582999486, 0.03180494487430206, 0.03964094578536199, 0.01682435489727573, 0.07789906788053694, 0.0711001847371173, 0.2752971496547378, 0.040217122322939926, 0.07213730250475757, 0.014980589977026334, 0.011638766059074305, 0.013367295671808114, 0.0018437649202493948, 0.012906354441745765, 0.001267588382671459, 0.014980589977026334, 0.0020742355352805692, 0.9479187820031979, 0.0484621054193864, 0.008441757715984651, 0.18853258899032385, 0.056278384773231, 0.005627838477323101, 0.13506812345575442, 0.0731619002052003, 0.04220878857992325, 0.48962194752710975, 0.0016325209993005682, 0.945229658595029, 0.004897562997901705, 0.01632520999300568, 0.0032650419986011365, 0.0016325209993005682, 0.014692688993705115, 0.004897562997901705, 0.004897562997901705, 0.8945873186389451, 0.0032696904921014074, 0.0009809071476304223, 0.04315991449573858, 0.001307876196840563, 0.0016348452460507037, 0.006866350033412956, 0.042832945446528436, 0.004904535738152111, 0.02516233077756799, 0.94292523755939, 0.003972999596458104, 0.006621665994096839, 0.021189331181109886, 0.9133273168236076, 0.0010014553912539557, 0.006008732347523734, 0.03705384947639636, 0.006008732347523734, 0.03204657252012658, 0.005007276956269778, 0.0003613088653422341, 0.005600287412804628, 0.2151594293113004, 0.019871987593822873, 0.5014967050950209, 0.17017647557619225, 0.02077525975717846, 0.012284501421635959, 0.00018065443267111704, 0.006864868441502447, 0.005961596278146862, 0.0007226177306844682, 0.028904709227378724, 0.00018065443267111704, 0.010839265960267023, 0.0007226177306844682, 0.0015249982734574607, 0.004956244388736747, 0.07377179147850466, 0.037934332052254334, 0.4836150774701972, 0.23275286148644495, 0.00590936830964766, 0.03145308939006013, 0.0003812495683643652, 0.013724984461117145, 0.03679058334716124, 0.0005718743525465477, 0.019634352770764807, 0.02134997582840445, 0.007053117014740756, 0.0005718743525465477, 0.025734345864594648, 0.0020968726260040082, 0.8593538827137621, 0.1390307536886979, 0.9975489737457115, 0.0009052168545786856, 0.0009052168545786856, 0.9976001857793881, 0.00016403222918161107, 0.005905160250537998, 0.4883239462736561, 0.0031166123544506103, 0.005413063562993165, 0.1420519104712752, 0.05413063562993165, 0.00016403222918161107, 0.05084999104629943, 0.00016403222918161107, 0.0031166123544506103, 0.00032806445836322214, 0.2447360859389637, 0.0009841933750896663, 0.0004920966875448332, 0.021082838951536932, 0.07109030451341417, 0.1418500418655673, 0.02113793347841377, 0.07235747863158146, 0.0015610115948437623, 0.1499305724741703, 0.10587331581499165, 0.05391917697013278, 0.014398036357147172, 0.0031220231896875246, 0.03307508096839548, 0.018823963349586546, 0.02486599646374652, 0.18311584249631946, 0.039392586716939654, 0.002773091186134213, 0.024204862141224456, 0.009366069569062574, 0.008043800924018445, 0.9991207904404235, 0.9650961764691348, 0.030750613465928313, 0.001524419330281215, 0.001524419330281215, 0.019817451293655797, 0.19207683561543312, 0.00304883866056243, 0.009146515981687291, 0.007622096651406076, 0.007622096651406076, 0.00304883866056243, 0.004573257990843646, 0.010670935311968506, 0.7347701171955457, 0.004573257990843646, 0.0004919851064462005, 0.01894142659817872, 0.04329468936726564, 0.08474443458535803, 0.0023369292556194524, 0.24045772077558047, 0.0012299627661155011, 0.057808250007428556, 0.0004919851064462005, 0.4350378303750528, 0.0012299627661155011, 0.004058877128181154, 0.0007379776596693008, 0.006149813830577506, 0.04772255532528145, 0.004181873404792704, 0.01033168723537021, 0.007133784043469907, 0.015005545746609115, 0.01881843032156717, 0.26620054621983114, 0.0004232123151348667, 0.0004232123151348667, 0.0004232123151348667, 0.1663224398480026, 0.5654116530201818, 0.0005028418677229629, 0.1503497184491659, 0.0005028418677229629, 0.01030825828832074, 0.00037713140079222217, 0.07014644054735332, 0.02627348758852481, 0.0021370779378225924, 0.0005028418677229629, 0.00012571046693074072, 0.041484454087144434, 0.005656971011883332, 0.004902708210298888, 0.38454831834113584, 0.13715011942143812, 0.0007542628015844443, 0.08234035583963517, 0.027027750390109254, 0.05518689498259518, 0.8202799438233971, 0.012951788586685217, 0.0733934686578829, 0.08634525724456811, 0.0014244146091991242, 0.0018992194789321656, 0.0014244146091991242, 0.0004748048697330414, 0.24025126408491895, 0.2169858254679999, 0.024689853226118153, 0.00332363408813129, 0.002374024348665207, 0.0004748048697330414, 0.00332363408813129, 0.022315828877452946, 0.0014244146091991242, 0.010920512003859953, 0.007122073045995621, 0.008546487655194746, 0.0004748048697330414, 0.45248904085558844, 0.033672559705234924, 0.022193277987541202, 0.009438520523437063, 0.05305979105067322, 0.032652179108106597, 0.0007652854478462484, 0.1436185690458126, 0.033672559705234924, 0.028060466421029107, 0.020662707091848705, 0.0006377378732052069, 0.04885072108751885, 0.005994736008128945, 0.001658118470333538, 0.047575245341108435, 0.06760021455975193, 0.0002550951492820828, 0.008035497202385607, 0.0036988796645902, 0.4378708237426951, 0.02089266737222012, 0.002089266737222012, 0.0006964222457406707, 0.026464045338145486, 0.003482111228703353, 0.008705278071758383, 0.010794544808980394, 0.021937300740831125, 0.01845518951212777, 0.03342826779555219, 0.0013928444914813414, 0.006267800211666036, 0.21449805168812655, 0.07939213601443645, 0.00034821112287033534, 0.5505217852580001, 0.0026757655125350887, 0.053515310250701775, 0.01159498388765205, 0.006243452862581873, 0.12843674460168425, 0.010703062050140355, 0.7715123894476172, 0.0026757655125350887, 0.0008919218375116962, 0.010703062050140355, 0.0021110753473315876, 0.016516060070300067, 0.8358616566405245, 0.0013659899306263214, 0.016640240973084277, 0.027568160418094848, 0.018875497223200078, 0.0017385326389789545, 0.004470512500231597, 0.0013659899306263214, 0.0055881406252894965, 0.03688172812691068, 0.0029803416668210646, 0.016143517361947433, 0.0012418090278421103, 0.003725427083526331, 0.0013659899306263214, 0.003352884375173698, 0.0021110753473315876, 0.004077364996151116, 0.007701689437174329, 0.8965672585981175, 0.016309459984604462, 0.007248648882046427, 0.0009060811102558034, 0.0004530405551279017, 0.014950338319220756, 0.009966892212813837, 0.005889527216662722, 0.016309459984604462, 0.0004530405551279017, 0.004530405551279017, 0.01359121665383705, 0.0004530405551279017, 0.0017638876291542448, 0.36002906386181643, 0.1906958514630089, 0.005291662887462734, 0.00019598751435047164, 0.022930539179005182, 0.0050956753731122625, 0.011759250861028298, 0.0025478376865561312, 0.004507712830060848, 0.004115737801359904, 0.00019598751435047164, 0.007055550516616979, 0.007447525545317923, 0.0019598751435047166, 0.008035488088369337, 0.08584253128550658, 0.008623450631420752, 0.26889486968884707, 0.0029398127152570745, 0.13133518417181755, 0.0003920453258860226, 0.0003920453258860226, 0.008232951843606473, 0.0043124985847462485, 0.0007840906517720452, 0.0003920453258860226, 0.0011761359776580678, 0.0003920453258860226, 0.0015681813035440903, 0.006272725214176361, 0.0031363626070881807, 0.0007840906517720452, 0.7915395129638796, 0.008624997169492497, 0.04116475921803237, 0.008144533822481169, 0.019318026504562772, 0.06071379758576871, 0.027126009342643892, 0.20435375772770933, 0.0024231670876803477, 0.18267987433234623, 0.04173232206560599, 0.04839603155672695, 0.022346985364163206, 0.0015481345282402222, 0.02975110702096427, 0.006057917719200869, 0.03197234351800459, 0.12290841950289765, 0.05916566305752849, 0.00040386118128005796, 0.05021340687248721, 0.006192538112960889, 0.07444507774929068, 0.05801478836337401, 0.005297002415786322, 0.021944724293971908, 0.06961774603604881, 0.0721401281388042, 0.01210743409322588, 0.022953677135074065, 0.005801478836337401, 0.17530555614149973, 0.001261191051377696, 0.03127753807416686, 0.011855195882950342, 0.4101393299080267, 0.04842973637290352, 0.0022701438924798527, 0.004540287784959705, 0.0063059552568884795, 0.01589100724735897, 0.0032790967335820094, 0.02169248608369637, 0.02173993386301602, 0.09428032542634497, 0.1603874712546998, 0.03394091715348419, 0.059895736153207396, 0.0022183605982669407, 0.02018708144422916, 0.5026805115672888, 0.0006655081794800821, 0.004436721196533881, 0.004214885136707187, 0.00931711451272115, 0.0015528524187868585, 0.007320589974280904, 0.014641179948561808, 0.004214885136707187, 0.003105704837573717, 0.005324065435840657, 0.049025769221699385, 0.0006655081794800821, 0.00911034706090344, 0.9859420041466611, 0.002024521569089653, 0.05247621423826708, 0.6088433492871669, 0.0006957073857346014, 0.03627617082758993, 0.0001987735387813147, 0.2514485265583631, 0.005068725238923525, 0.018585325876052924, 0.002584056004157091, 0.0013914147714692029, 0.005168112008314182, 0.003975470775626294, 0.00029816030817197205, 0.0013914147714692029, 0.0017889618490318322, 0.0007950941551252588, 0.0012920280020785454, 0.00029816030817197205, 0.007155847396127329, 9.938676939065735e-05, 0.001300617624986252, 0.9962731007394691, 0.001300617624986252, 0.007080300010842972, 0.9487602014529583, 0.042481800065057834, 0.0015954846794905412, 0.0011678289922044168, 0.02029719685042606, 0.0010033460355559074, 0.047502677880089515, 0.002253416506084579, 0.222019094884158, 0.005164764838763196, 0.011053254686779831, 0.0014145534271771808, 0.000838863078907398, 0.643769844026601, 0.0023192096887439824, 0.005559523934719618, 0.004161418803207288, 0.016727916691153408, 0.0013981051315123299, 0.007615560892825985, 0.0009704494442262055, 0.0031909693589810824, 0.0030439877411642603, 0.00038049846764553254, 0.05098679466450136, 0.005707477014682988, 0.00038049846764553254, 0.045659816117463906, 0.014078443302884705, 0.004946480079391923, 0.004185483144100858, 0.8606875338141946, 0.007990467820556183, 0.00038049846764553254, 0.0007609969352910651, 0.00038049846764553254, 0.00038049846764553254, 0.00038049846764553254, 0.007484209826446929, 0.0018710524566117322, 0.858813077584785, 0.11226314739670393, 0.0018710524566117322, 0.013097367196282125, 0.9840244068323238, 0.00634854456020854, 0.37712553752144906, 0.21297333357215043, 0.0032547419748567836, 0.03212288818663, 0.004669847181316255, 0.07754776531397903, 0.0002830210412918942, 0.01768881508074339, 0.002830210412918942, 0.010047246965862245, 0.06452879741455189, 0.003679273536794625, 0.051651340035770696, 0.0489626401434977, 0.004386826140024361, 0.010613289048446033, 0.004952868222608149, 0.03438705651696515, 0.0018396367683973125, 0.03679273536794625, 0.04012096042072449, 0.1630933350435955, 0.0001630933350435955, 0.000652373340174382, 0.0004892800051307865, 0.0014678400153923595, 0.0030987733658283142, 0.0011416533453051684, 0.000978560010261573, 0.01190581345818247, 0.021202133555667413, 0.002935680030784719, 0.015983146834272356, 0.016472426839403143, 0.004892800051307864, 0.014678400153923594, 0.038490027070288535, 0.18168597523856536, 0.3462471502975532, 0.13471509474600987, 0.1308621632583973, 0.022879951785050277, 0.07394130759802833, 0.06014955965791092, 0.051220797985696176, 0.01678128867858217, 0.1749479240149576, 0.04464380836107371, 0.11145007872996616, 0.042969665547533446, 0.042172454683942845, 0.04368715532476499, 0.006935734513238237, 0.05397117546508375, 0.030453454989160997, 0.0472746042109227, 0.004823125724723142, 0.02008971376248317, 0.008370714067701322, 0.01235676838565433, 0.005232289247172307, 0.0017440964157241024, 0.9906467641312902, 0.006800609271791083, 0.0007727965081580775, 0.16290550391972275, 0.6199373588444098, 0.10973710415844701, 0.0007727965081580775, 0.09505397050344354, 0.0035548639375271567, 0.024855538324650334, 0.002367194126157175, 0.0840353914785797, 0.0011835970630785875, 0.8758618266781547, 0.010652373567707287, 0.0011835970630785875, 0.00048418148171188455, 0.0024209074085594228, 0.057617596323714264, 0.0019367259268475382, 0.9368911671124966, 0.9420296714926782, 0.003105592323602236, 0.0020703948824014906, 0.043478292530431305, 0.003105592323602236, 0.005175987206003726, 0.1313044363505568, 0.0004277017470702176, 0.005560122711912828, 0.0008554034941404352, 0.05260731488963676, 0.0004277017470702176, 0.0025662104824213054, 0.004277017470702175, 0.12446120839743331, 0.6064810773455686, 0.004277017470702175, 0.022668192594721533, 0.0004277017470702176, 0.042770174707021755, 0.0015991924381052556, 0.0015991924381052556, 0.0003997981095263139, 0.0003997981095263139, 0.03438263741926299, 0.19390208312026225, 0.7644139854143122, 0.002798586766684197, 0.18308333986856493, 0.006838426956041475, 0.06278919296001717, 0.00031083758891097614, 0.009014290078418308, 0.4348617868864556, 0.02642119505743297, 0.2499134214844248, 0.025488682290700043, 0.00031083758891097614, 0.0009325127667329284, 0.008700876992140163, 0.02175219248035041, 0.02175219248035041, 0.002175219248035041, 0.9157673034227523, 0.013051315488210246, 0.013051315488210246, 0.02092779455222285, 0.011161490427852186, 0.01604464249003752, 0.661318307850242, 0.009068710972629901, 0.01325426988307447, 0.024415760310926658, 0.0048831520621853315, 0.06487616311189083, 0.004185558910444569, 0.11928842894767024, 0.005580745213926093, 0.0027903726069630464, 0.0013951863034815232, 0.009068710972629901, 0.0006975931517407616, 0.0013951863034815232, 0.028601319221371227, 0.0027176058175333137, 0.09814981010765667, 0.00012640027058294484, 0.0012640027058294482, 0.8975683214094913, 0.0017232371432756256, 0.0017232371432756256, 0.022402082862583134, 0.0017232371432756256, 0.02757179429241001, 0.9202086345091841, 0.022402082862583134, 0.00020961784120787394, 0.00020961784120787394, 0.06456229509202517, 0.0008384713648314958, 0.06665847350410391, 0.08657216841885194, 0.0027250319357023612, 0.02871764424547873, 0.00020961784120787394, 0.7263258197852832, 0.00020961784120787394, 0.007127006601067714, 0.0016769427296629915, 0.006078917395028345, 0.0004192356824157479, 0.0062885352362362186, 0.0010480892060393697, 0.004129127307018897, 0.0010322818267547243, 0.020645636535094485, 0.23845710198034129, 0.0010322818267547243, 0.03303301845615118, 0.6854351329651369, 0.004129127307018897, 0.0010322818267547243, 0.0020645636535094485, 0.005161409133773621, 0.0030968454802641726, 0.010345966964064219, 0.6317937159388549, 0.0006897311309376146, 0.001379462261875229, 0.0800088111887633, 0.003448655654688073, 0.21140259163237887, 0.0006897311309376146, 0.0003448655654688073, 0.0017243278273440365, 0.05759254943329081, 0.05933245321049628, 0.33061758566089794, 0.011437581341782415, 0.0010722732507921014, 0.02144546501584203, 0.01572667434495082, 0.012509854592574518, 0.005003941837029807, 0.53577920097912, 0.0010722732507921014, 0.0010722732507921014, 0.0017871220846535025, 0.000714848833861401, 0.000714848833861401, 0.000714848833861401, 0.0003574244169307005, 0.000714848833861401, 0.020082347145090013, 0.8848045889219072, 0.0011813145379464714, 0.0011813145379464714, 0.03425812160044767, 0.0011813145379464714, 0.03189549252455473, 0.0248076052968759, 0.012232498300468846, 0.014678997960562613, 0.002446499660093769, 0.06850199048262554, 0.009785998640375076, 0.8415958830722565, 0.009785998640375076, 0.039143994561500306, 0.9257430123673207, 0.010382164624680232, 0.03460721541560077, 0.0017303607707800388, 0.012112525395460271, 0.015573246937020349, 0.9962134223657938, 0.007835021409735392, 0.021820113388402868, 0.011794655885623171, 0.008340506661976386, 0.8000146592134117, 0.00016849508408033103, 0.109943042362416, 0.012889873932145324, 0.0014322082146828138, 0.005981575484851752, 0.010867932923181351, 0.0007582278783614897, 0.0032014065975262897, 0.00016849508408033103, 8.424754204016551e-05, 0.003117159055486124, 0.00025274262612049657, 0.0009267229624418206, 0.00025274262612049657, 0.9969382764588113, 0.9936010583495549, 0.01197807797321105, 0.985196913296609, 0.015487902666593683, 0.019913017714191877, 0.004425115047598195, 0.006637672571397292, 0.1703669293325305, 0.019913017714191877, 0.055313938094977436, 0.06416416819017383, 0.004425115047598195, 0.568627283616368, 0.015487902666593683, 0.006637672571397292, 0.011062787618995488, 0.030975805333187365, 0.007975905076722922, 0.0024274493711765417, 0.0003467784815966488, 0.003467784815966488, 0.0013871139263865952, 0.035024626641261526, 0.9484391471668344, 0.0003467784815966488, 0.18476015011180122, 0.00019027821844675715, 0.0007611128737870286, 0.00019027821844675715, 0.008372241611657316, 0.013319475291273001, 0.0003805564368935143, 0.43897184995666877, 0.30178125445655685, 0.0007611128737870286, 0.008181963393210558, 0.0013319475291273001, 0.0026638950582546003, 0.004947233679615686, 0.0038055643689351433, 0.028541732767013574, 0.0003805564368935143, 0.0003805564368935143, 0.012356674445081518, 0.03482335525432064, 0.9177639110574183, 0.0011233340404619562, 0.010110006364157606, 0.02359001484970108, 0.01580425276029526, 0.24376862590879658, 0.0028735005018718654, 0.00047891675031197755, 0.0009578335006239551, 0.00047891675031197755, 0.006704834504367685, 0.00047891675031197755, 0.042623590777766, 0.0014367502509359327, 0.011972918757799439, 0.5948146038874761, 0.07710559680022838, 0.13314134487619728, 0.06788376368343728, 0.17454952461292284, 0.09881775046315926, 0.0003053700570554983, 0.08556468998695063, 0.0056798830612322685, 0.08361032162179545, 0.06406663797024355, 0.11903324824023324, 0.025131955695667514, 0.014199707653080672, 0.05554681337839515, 0.0021375903993884884, 0.05856997694324458, 0.00042751807987769766, 0.0011604062168108936, 3.053700570554983e-05, 0.006260086169637716, 0.003847662718899279, 0.0012281870965476231, 0.0006140935482738116, 0.007369122579285739, 0.0024563741930952463, 0.006755029031011927, 0.0018422806448214347, 0.0534261386998216, 0.8793819611280981, 0.00429865483791668, 0.0006140935482738116, 0.03868789354125013, 0.0006140935482738116, 0.0030704677413690576, 0.0014075145717767717, 0.1491965446083378, 0.8240997817752999, 0.0021112718576651577, 0.023223990434316732, 0.9915280365227508, 0.8507483129748675, 0.14419462931777416, 0.9953845332312851, 0.0032317679650366395, 0.010337893884318085, 0.006891929256212056, 0.00861491157026507, 0.9683160604977938, 0.005168946942159042, 0.08897319186192178, 0.1393820983449997, 0.05707583502858976, 0.0775961215907496, 0.061439642803833884, 0.02308315779523973, 0.0562792669426325, 0.16421424258984124, 0.04074618926646593, 0.03709236608957502, 0.03984572099538381, 0.05972528974927369, 0.03142980600027015, 0.03361170988789221, 0.03582824717055589, 0.01084025264802706, 0.00897004931577958, 0.00561060999674244, 0.01994883554397312, 0.00834664820503042, 0.0048134712695146, 0.9771346677114636, 0.014440413808543797, 0.9955436560027399, 0.05771357032765644, 0.888044291815875, 0.03816542553925668, 0.013032096525599841, 0.0018617280750856916, 0.08715220580450476, 0.011620294107267302, 0.011620294107267302, 0.06972176464360381, 0.09877249991177206, 0.7088379405433054, 0.8653981774401898, 0.002654595636319601, 0.002654595636319601, 0.06105569963535081, 0.021236765090556806, 0.002654595636319601, 0.013272978181598004, 0.015927573817917602, 0.010618382545278403, 0.8442996515982657, 0.14797004203268574, 0.004352060059784875, 0.9988200356111346, 0.0017496298539535341, 0.9514098339165107, 0.03635342029881232, 0.0005832099513178447, 0.00019440331710594825, 0.00019440331710594825, 0.0017496298539535341, 0.006415309464496291, 0.0005832099513178447, 0.000777613268423793, 0.0027226683584259436, 0.00393274318439303, 0.06020122259186253, 0.048100474332191674, 0.5301640331268296, 0.009378079901244916, 0.10028495120202226, 0.036453504132258466, 0.02571409005180058, 0.01784860368301452, 0.014520897911605032, 0.021630087514161664, 0.008773042488261374, 0.02253764363363698, 0.009529339254490803, 0.04174758149586447, 0.002571409005180058, 0.022688902986882864, 0.006957930249310745, 0.014672157264850919, 0.9988401469792184, 0.025802212745159155, 0.9690164342070883, 0.0028669125272399064, 0.0009556375090799687, 0.00332064013791909, 0.009961920413757269, 0.00664128027583818, 0.02656512110335272, 0.9497030794448597, 0.0008567314218611624, 0.00014278857031019374, 0.001642068558567228, 0.007924765652215752, 0.006782457089734202, 0.0008567314218611624, 0.0017134628437223249, 0.06182745094431389, 0.0012137028476366467, 0.0002855771406203875, 0.003284137117134456, 0.01049495991779924, 0.005068994246011878, 0.7424291713278524, 0.0045692342499262, 0.12251259332614622, 0.020632948409822997, 0.0022846171249631, 0.000571154281240775, 0.004854811390546587, 0.0035253044459101616, 0.0014101217783640647, 0.9497170177281976, 0.0014101217783640647, 0.04371377512928601, 0.0013738580827523151, 0.0001717322603440394, 0.1617717892440851, 0.8365078401358159, 0.0047508519960994585, 0.061761075949292955, 0.19478493184007778, 0.7316312073993165, 0.9963471290794418, 0.06460940287041109, 0.003876564172224665, 0.8967785118413059, 0.003876564172224665, 0.0012921880574082217, 0.028428137262980876, 0.03292784173275763, 0.7979856644922984, 0.000514497527074338, 0.000514497527074338, 0.001028995054148676, 0.15332026306815275, 0.011318945595635437, 0.002315238871834521, 0.44103236951299624, 0.041346784641843395, 0.00014063532191103197, 0.04303440850477578, 0.14232294577396434, 0.15483948942404618, 0.0014063532191103197, 0.014766708800658356, 0.005062871588797151, 0.00028127064382206394, 0.04247186721713165, 0.011391461074793588, 0.006891130773640566, 0.009703837211861206, 0.013079084937725973, 0.021939110218120984, 0.0028127064382206394, 0.011110190430971525, 0.01434480283492526, 0.022079745540032017, 0.9971310032018541, 0.0002510036348992911, 0.9994964741689772, 0.0014337306533986952, 0.005018057286895433, 0.018638498494183038, 0.0007168653266993476, 0.973503113657714, 0.998307981314015, 0.06498087603030175, 0.9313925564343252, 0.006184797957199738, 0.04535518501946475, 0.028862390466932113, 0.004123198638133159, 0.15668154824906005, 0.11338796254866187, 0.0020615993190665795, 0.053601582295731066, 0.004123198638133159, 0.057724780933864225, 0.5277694256810443, 0.002432291223132611, 0.8513019280964138, 0.009729164892530444, 0.11674997871036533, 0.014593747338795666, 0.011524618811869848, 0.001868857104627543, 0.018065618678066248, 0.0034262380251504953, 0.004204928485411971, 0.32923032659855217, 0.0023360713807844286, 0.4583372049099049, 0.06821328431890532, 0.001868857104627543, 0.014327904468811162, 0.043762403866694964, 0.00015573809205229525, 0.000622952368209181, 0.001245904736418362, 0.00015573809205229525, 0.03457385643560954, 0.0034262380251504953, 0.000622952368209181, 0.0020245951966798383, 0.0030942437351027174, 0.006962048403981114, 0.007993462982348687, 0.0018049755121432517, 0.0005157072891837862, 0.007735609337756794, 0.042030144068478575, 0.8779916598353961, 0.011861267651227084, 0.0002578536445918931, 0.002062829156735145, 0.01160341400663519, 0.015986925964697373, 0.0002578536445918931, 0.006962048403981114, 0.0012892682229594657, 0.0010314145783675724, 0.010397367826172272, 0.0020794735652344544, 0.05822525982656473, 0.0020794735652344544, 0.9004120537465188, 0.0020794735652344544, 0.0020794735652344544, 0.022874209217579, 0.24422199150846097, 0.00013011294166673468, 0.06388545435836672, 0.19503929955843527, 0.007156211791670406, 0.00013011294166673468, 0.48284912652525236, 0.006375534141669998, 0.9971432963488116, 0.03372585817856792, 0.9443240289999018, 0.015565780697800579, 0.005188593565933527, 0.05657165677411489, 0.0034571568028625766, 0.9152036918123475, 0.024200097620038035, 0.07396685622678625, 0.0012976641443295835, 0.9226392066183338, 0.0023685852499532064, 0.030791608249391686, 0.004737170499906413, 0.0023685852499532064, 0.9569084409810955, 0.00026672865366922274, 0.0049344800928806205, 0.09602231532092018, 0.011069239127272743, 0.12296190934151167, 0.034941453630668175, 0.462240756808763, 0.04000929805038341, 0.008135223936911294, 0.001066914614676891, 0.0006668216341730568, 0.007201673649069013, 0.004134294131872952, 0.0058680303807229, 0.023738850176560824, 0.015336897585980306, 0.10269053166265076, 0.008535316917415128, 0.04881134362146776, 0.001066914614676891, 0.0003321504319632771, 0.7602923387639412, 0.007307309503192096, 0.009964512958898313, 0.003985805183559325, 0.1551142517268504, 0.0013286017278531083, 0.0003321504319632771, 0.011625265118714699, 0.005646557343375711, 0.011625265118714699, 0.0003321504319632771, 0.017603972894053684, 0.005314406911412433, 0.0006643008639265541, 0.00797161036711865, 0.0003321504319632771, 0.00012419908388829054, 0.0007451945033297432, 0.0024839816777658106, 0.01912665891879674, 0.6216164148608941, 0.00012419908388829054, 0.004346967936090168, 0.08184719628238346, 0.034527345320944765, 0.0004967963355531622, 0.05315720790418835, 0.0003725972516648716, 0.0064583523621911075, 0.15798123470590555, 0.0014903890066594865, 0.010805320298281277, 0.001862986258324358, 0.00012419908388829054, 0.00235978259387752, 0.00548140304916228, 0.9921339518983727, 0.12345361193896576, 0.0017891827817241414, 0.06798894570551738, 0.021470193380689697, 0.0017891827817241414, 0.7657702305779326, 0.0017891827817241414, 0.003578365563448283, 0.0017891827817241414, 0.0017891827817241414, 0.0017891827817241414, 0.003578365563448283, 0.013457952157743598, 0.8592061330709428, 0.12448605745912829, 0.00042056100492948744, 0.00042056100492948744, 0.0012616830147884623, 0.984926294313035, 0.010440914780703551, 0.0008303541187317968, 0.0005535694124878646, 0.07500865539210565, 0.008672587462309879, 0.03616653494920715, 0.4548495339275287, 0.009502941581041676, 0.3207934745367175, 0.001937492943707526, 0.0011994003937237066, 0.011163649818505268, 0.05674086478000612, 0.0009226156874797743, 0.001752969806211571, 0.0015684466687156163, 0.001937492943707526, 0.0002767847062439323, 0.005074386281138758, 0.0002767847062439323, 0.01079460354351336, 6.222704998773796e-05, 0.006347159098749272, 0.024766365895119706, 0.004915936949031299, 0.11823139497670211, 0.0023024008495463044, 0.005413753348933202, 0.6197191908278823, 0.0003111352499386898, 0.00012445409997547592, 6.222704998773796e-05, 0.0032980336493501116, 6.222704998773796e-05, 0.0022401737995585663, 0.014685583797106157, 0.02134387814579412, 0.056128799088939633, 0.0950829323812636, 0.0021779467495708286, 0.022775100295512093, 0.004566419818203482, 0.9110007537315946, 0.018265679272813928, 0.004566419818203482, 0.05936345763664526, 0.0038898478314653992, 0.0037075112143654587, 0.045037144423685324, 0.06254145966527962, 0.1565663752164823, 0.10010280278786737, 0.06782922156117789, 0.30456292942926744, 0.035859534696321645, 0.013796804027228838, 0.027350492564991086, 0.033853831908222304, 0.007415022428730917, 0.05676746679044817, 0.012094995600962725, 0.007050349194531036, 0.0037682900867321055, 0.02966008971492367, 0.007718916790564152, 0.020421701115193345, 0.8882032582736699, 0.004827191621052554, 0.01448157486315766, 0.08688944917894596, 0.9863953890226476, 0.012158957029554978, 0.0015198696286943723, 0.007351361748003672, 0.4190276196362093, 0.0004900907832002448, 0.0002450453916001224, 0.0002450453916001224, 0.0004900907832002448, 0.003920726265601958, 0.0014702723496007345, 0.05170457762762583, 0.0004900907832002448, 0.3499248192049748, 0.16320023080568152, 0.0009801815664004896, 0.0075268336128305035, 0.12042933780528806, 0.8693492822819231, 0.0005002924367696303, 0.07304269576836603, 0.008004678988314085, 0.7344292971778174, 0.005503216804465934, 0.0005002924367696303, 0.07454357307867492, 0.02751608402232967, 0.001500877310308891, 0.017510235286937063, 0.04402573443572747, 0.001500877310308891, 0.004002339494157042, 0.008004678988314085, 0.8814835771562418, 0.08814835771562418, 0.027122571604807442, 0.0033903214506009302, 0.0007946410786773935, 0.888408725961326, 0.09297300620525505, 0.016687462652225264, 0.05527565581201905, 0.009212609302003174, 0.9304735395023207, 0.00021800621799185026, 0.000784822384770661, 0.0017440497439348021, 4.360124359837005e-05, 0.1329401917314303, 0.02284705164554591, 0.0023544671543119827, 0.005450155449796257, 0.00043601243598370053, 0.0018748534747299122, 0.6783481479034413, 0.07037240716776927, 0.054545155741560936, 0.0015260435259429519, 0.0013952397951478416, 0.001700448500336432, 0.015260435259429519, 0.0007412211411722909, 0.007368610168124539, 0.0001744049743934802, 0.9967095078103678, 0.003377451408058745, 0.0008443628520146862, 0.2648484812486066, 0.001970179988034268, 0.003940359976068536, 0.001407271420024477, 0.5291340539292033, 0.012102534212210503, 0.17900492462711348, 0.0008443628520146862, 0.0025330885560440586, 0.011913515498834243, 0.06904976329936581, 0.013129180345654063, 0.061026375310355, 0.0009725318774558566, 0.0009725318774558566, 0.0012156648468198206, 0.0012156648468198206, 0.054218652168164, 0.032822950864135156, 0.0094821858051946, 0.0004862659387279283, 0.04011693994505408, 0.01653304191674956, 0.005592058295371175, 0.6224204015717482, 0.008023387989010816, 0.005592058295371175, 0.009239052835830637, 0.03646994540459462, 0.07552560163582776, 0.06747198590043384, 0.32122646475537026, 0.0003672658641547721, 0.0003410325881437169, 0.006741951934841173, 0.1758154158260916, 0.03641178710334454, 0.0003147993121326618, 0.008394648323537647, 0.04905622614067313, 0.02696780773936469, 0.09265593087104677, 0.011936140585030092, 0.0066632521068080075, 0.008106082287416041, 0.052020586329922354, 0.024501879794325505, 0.02437071341427023, 0.011096675752676328, 0.9942474153729615, 0.004230840065416857, 0.9286211465053247, 0.06717684889612986, 0.03216712412618549, 0.9435689743681077, 0.021444749417456995, 0.022741886468881912, 0.010041871947298508, 0.029928716391948492, 0.01959149526972944, 0.015751955995762363, 0.01506280792094776, 0.10366756039711106, 0.033276007041047995, 0.6286014939558918, 0.027270573817663592, 0.010238771397245536, 0.015161257645921276, 0.004627137073755195, 0.0053162851485697975, 0.008958924972589844, 0.01565350627078885, 0.00886047524761633, 0.02126514059427919, 0.0015751955995762365, 0.002165893949417325, 0.08548502846094558, 0.0029477596021015716, 0.010808451874372429, 0.020634317214711, 0.015721384544541715, 0.0009825865340338572, 0.022599490282778713, 0.694688679561937, 0.06681588431430228, 0.0009825865340338572, 0.019651730680677142, 0.0009825865340338572, 0.005895519204203143, 0.01670397107857557, 0.011791038408406286, 0.003930346136135429, 0.020634317214711, 0.34106407064233574, 0.02423131596777665, 0.23899380132601628, 0.00190863105225638, 0.033442535393883525, 0.07377273936764878, 0.009294203384900633, 0.11111552082483882, 0.0018256470934626245, 0.023318492421045337, 0.011368802354744524, 0.006389764827119186, 0.028712449742639458, 0.0015766952170813574, 0.002821454598987692, 0.002157582928637647, 0.01643082384116362, 0.0018256470934626245, 0.06854474996364217, 0.0010787914643188236, 0.0018428647078384194, 0.057128805942991, 0.936175271581917, 0.003685729415676839, 0.0043911167838261165, 0.013856412962295745, 0.011026582146052248, 0.010343519535234852, 0.0841142815035136, 0.01239270736768704, 0.23809611005634942, 0.033470067930052395, 0.0011709644756869645, 0.028395888535408885, 0.009953198043339197, 0.019516074594782738, 0.01005077841631311, 0.02771282592459149, 0.08440702262243535, 0.11124162519026161, 0.0008782233567652233, 0.24317028945099292, 0.0032201523081391518, 0.052595821032939485, 0.9993065228399408, 0.0065788778655328445, 0.027599194948089007, 0.009948547016171618, 0.00272782740765996, 0.05712391512511446, 0.0028882878434046636, 0.28433589213961463, 0.017169266624683276, 0.0038510504578728845, 0.0410778715506441, 0.04364523852255936, 0.0016046043574470352, 0.2827312877821676, 0.026475971897876083, 0.01636696444595976, 0.13350308253959334, 0.0227853818757479, 0.014441439217023318, 0.0025673669719152564, 0.0024069065361705527, 0.00169718258571011, 0.9962461778118344, 0.9598883197349725, 0.03822564105139271, 0.07159840090492123, 0.014456770243639446, 0.0033026242366934943, 0.006418307478857168, 0.0011216459671789226, 0.37618759465884194, 0.00286642858279058, 0.014892965897542361, 0.0029910559124771267, 0.1491789136347967, 0.0020563509398280246, 0.031094518756793463, 0.3104466782491884, 0.0020563509398280246, 0.0023056055992011185, 0.001557841621081837, 0.002804114917947306, 0.0002492546593730939, 0.0011216459671789226, 0.0033649379015367677, 0.1522305250467964, 0.6638942342318621, 0.02960037987021041, 0.02960037987021041, 0.03382900556595476, 0.08880113961063124, 0.6019742401861542, 0.22223216478803792, 0.0005727633113093761, 0.024915204041957857, 0.0008591449669640641, 0.042957248348203206, 0.0005727633113093761, 0.006586778080057825, 0.013459937815770337, 0.006014014768748448, 0.028065402254159426, 0.018042044306245345, 0.0008591449669640641, 0.0017182899339281282, 0.019187570928864098, 0.00028638165565468803, 0.0008591449669640641, 0.0005727633113093761, 0.009450594636604704, 0.0005727633113093761, 0.08612657605195902, 0.013891383234186937, 0.005556553293674775, 0.01944793652786171, 0.0222262131746991, 0.025004489821536486, 0.0027782766468373876, 0.01111310658734955, 0.0027782766468373876, 0.025004489821536486, 0.0222262131746991, 0.7640260778802815, 0.025820173602450043, 0.001868565194914148, 0.08425530333431067, 0.7382531215542624, 0.003737130389828296, 0.053508912399814236, 0.0003397391263480269, 0.0025480434476102018, 0.00016986956317401346, 0.06760808614325735, 0.007474260779656592, 0.0022083043212621748, 0.011551130295832913, 0.00016986956317401346, 0.008685820045122375, 9.650911161247083e-05, 0.10683558655500522, 0.8530440375426297, 9.650911161247083e-05, 0.0014476366741870625, 9.650911161247083e-05, 0.015827494304445217, 0.0007720728928997667, 0.0009650911161247083, 0.012063638951558854, 9.650911161247083e-05, 0.0017652305577474103, 0.0017652305577474103, 0.09267460428173904, 0.8455454371610096, 0.013239229183105578, 0.024713227808463745, 0.0017652305577474103, 0.0008826152788737052, 0.017652305577474103, 0.03773308411398351, 0.2752874571446275, 0.00019686826494252265, 6.562275498084088e-05, 0.00013124550996168176, 0.00032811377490420444, 0.00013124550996168176, 0.17088165397010965, 0.4177544582080331, 0.005249820398467271, 0.0010499640796934541, 0.02218049118352422, 0.0041998563187738164, 0.0020999281593869082, 0.001706191629501863, 0.04337664104233582, 0.00013124550996168176, 0.017193161804980314, 0.00019686826494252265, 0.000888797513201586, 0.7768090265381862, 0.10310051153138397, 0.11909886676901252, 0.9331675806790962, 0.0006932894358685708, 0.06551585168957993, 0.00040297014699836996, 0.770075950913885, 0.02659602970189242, 0.03546137293585656, 0.022566328231908718, 0.0032237611759869597, 0.00846237308696577, 0.0036267313229853297, 0.05077423852179462, 0.01490989543893969, 0.0028207910289885898, 0.00120891044099511, 0.006850492498972289, 0.0201485073499185, 0.00483564176398044, 0.0040297014699837, 0.006447522351973919, 0.0008059402939967399, 0.01652177602693317, 0.007172123456307219, 0.10393700221927182, 0.0017636369154853818, 0.026336977937915035, 0.09029821007285155, 0.0008230305605598448, 0.009758790932352445, 0.00011757579436569212, 0.0034096980366050715, 0.000940606354925537, 0.0027042432704109188, 0.010934548876009366, 0.30616736852826226, 0.0004703031774627685, 0.005643638129553222, 0.0004703031774627685, 0.4290340736404105, 0.0921529335851254, 0.012287057811350054, 0.003510587946100015, 0.045637643299300194, 0.004388234932625019, 0.7372234686810032, 0.022818821649650097, 0.026329409595750114, 0.004388234932625019, 0.0026329409595750113, 0.01667529274397507, 0.003510587946100015, 0.0236964686361751, 0.0026329409595750113, 0.00026340958121053867, 0.028448234770738174, 0.0060584203678423895, 0.07428150190137191, 0.00026340958121053867, 0.0007902287436316159, 0.01000956408600047, 0.0010536383248421547, 0.010536383248421547, 0.0015804574872632319, 0.026604367702264403, 0.0007902287436316159, 0.0005268191624210773, 0.05953056535358174, 0.4146066808253879, 0.0005268191624210773, 0.033979835976159486, 0.004214553299368619, 0.3263644711198574, 0.01740142661517545, 0.9822138578343477, 0.2372480933027932, 0.0023146155444174945, 0.0109944238359831, 0.10473635338489164, 0.6440417752341678, 0.0007927450448129643, 0.00047564702688777857, 0.00015854900896259286, 0.00047564702688777857, 0.00015854900896259286, 0.00047564702688777857, 0.0014269410806633357, 0.02156266521891263, 0.9332194667538215, 0.03186835080148116, 0.006976156394354086, 0.00015854900896259286, 0.0006341960358503715, 0.0015854900896259286, 0.985013705164934, 0.014275560944419332, 0.0015127789833887391, 0.007563894916943696, 0.004538336950166218, 0.028742800684386043, 0.9288462958006859, 0.01966612678405361, 0.009076673900332436, 0.12807474965665802, 0.04244460711761972, 0.0019052442097684662, 0.008996986546128868, 0.0005292345027134628, 0.4788513780551412, 0.0008467752043415406, 0.0031754070162807774, 0.0011643159059696183, 0.0010584690054269257, 0.008996986546128868, 0.02180446151179467, 0.01153731215915349, 0.0009526221048842331, 0.001270162806512311, 0.00010584690054269257, 0.2696979025827807, 0.00010584690054269257, 0.01693550408683081, 0.0013760097070550034, 0.006098734150978027, 0.9879949324584403, 0.09703286336036426, 0.8948586287678038, 0.8678311086025008, 0.016689059780817323, 0.011126039853878215, 0.009735284872143438, 0.001390754981734777, 0.005563019926939108, 0.0361596295251042, 0.008344529890408662, 0.04033189447030853, 0.001390754981734777, 0.3008845466156561, 0.6833649024830156, 0.00012142233519598714, 0.015420636569890367, 0.972226460756527, 0.0203963593165705, 0.998298378078204, 0.008607483893590995, 2.2711039297073865e-05, 2.2711039297073865e-05, 2.2711039297073865e-05, 4.542207859414773e-05, 4.542207859414773e-05, 0.00018168831437659092, 0.00024982143226781253, 0.7879140863333837, 0.0008857305325858808, 0.08643821556466313, 0.00011355519648536934, 0.1154175017077294, 0.021726963410606134, 0.0005571016259129779, 0.0011142032518259557, 0.0005571016259129779, 0.20055658532867202, 0.35320243082882796, 0.42172593081612425, 0.015104279875310166, 0.0005594177731596358, 0.3015261797330437, 0.6701824922452437, 0.0011188355463192716, 0.011188355463192716, 0.7304634024980468, 0.24243007797936914, 0.02601998219150297, 0.9114415921898974, 0.0007016486467974575, 0.006314837821177118, 0.08139124302850508, 0.0018550379191046918, 0.9970828815187718, 0.00046375947977617295, 0.5120663453479478, 0.010928245175108642, 0.4761592540583051, 0.11845001440119528, 0.8740098934964792, 0.007056596602624399, 0.1100041693316435, 0.8290004925920763, 0.0561361482671789, 0.0011340636013571494, 0.0034021908040714486, 0.00827832560507698, 0.3062413465275395, 0.16573661468246584, 0.008618530766929458, 0.013721608194716638, 0.0009639146252486894, 0.023360754447203532, 0.2171075941221901, 0.0007938120443224501, 5.670086030874644e-05, 0.00034020516185247863, 0.23326733931018284, 0.00039690602216122504, 0.0011340172061749287, 0.006747402376740826, 0.002211333552041111, 0.00017010258092623932, 0.005613385170565898, 0.004252564523155982, 0.0009639146252486894, 0.9969679150005976, 0.0017866808512555512, 0.000570642213274598, 0.12040550700094017, 0.0542110102610868, 0.824577998181794, 0.0028079766236094508, 0.9771758650160889, 0.008423929870828352, 0.0056159532472189015, 0.0056159532472189015, 0.000680301662760573, 0.019048446557296043, 0.932013277981985, 0.000680301662760573, 0.03469538480078922, 0.012245429929690313, 0.0012955212565011075, 0.000518208502600443, 0.001036417005200886, 0.996774054751952, 0.9997221301412317, 0.13512453686018683, 0.22354010134452854, 0.01832197109968635, 0.030436169096518445, 0.06726092022121699, 0.039838233213462755, 0.0028929428052136344, 0.03863284037795708, 0.0011451231937303968, 0.007654244505461074, 0.003917526715393463, 0.013379860474113058, 0.004038065998944031, 0.3475750241180631, 0.003435369581191191, 0.0003616178506517043, 0.0031340213723147704, 0.001506741044382101, 0.0574369686118457, 0.0003616178506517043, 0.02252994618768462, 0.0034007465943674898, 0.12200178407293369, 0.036132932565154575, 0.8157540893239016, 0.9987611901857973, 0.9983263166940314, 0.9993965404004542, 0.014411093060870569, 0.2630024483608879, 0.005764437224348227, 0.7162313251252672, 0.031166115689708073, 0.0010710005391652258, 0.00021420010783304518, 0.00010710005391652259, 0.06565233305082835, 0.5110814572896458, 0.0018207009165808839, 0.0010710005391652258, 0.0005355002695826129, 0.0008568004313321807, 0.20413270276489204, 0.0024633012400800194, 0.14190757143939242, 0.008460904259405284, 0.00042840021566609035, 0.028274414233961962, 0.0005355002695826129, 0.08584902672934566, 0.003209309410442828, 0.6886643109908569, 0.0002674424508702357, 0.010965140485679663, 0.0013372122543511785, 0.004011636763053535, 0.0013372122543511785, 0.0010697698034809427, 0.06900015232452081, 0.0010697698034809427, 0.08050017771194094, 0.00802327352610707, 0.04466288929532936, 0.009686625101859027, 0.008179816752680957, 0.0002152583355968673, 0.0002152583355968673, 0.03142771699714262, 0.002152583355968673, 0.008395075088277824, 0.0006457750067906018, 0.0008610333423874692, 0.0002152583355968673, 0.0004305166711937346, 0.0019373250203718055, 0.866199542441794, 0.0004305166711937346, 0.04326692545497032, 0.0002152583355968673, 0.02540048360043034, 0.0032394462879510744, 0.0014951290559774189, 0.0059805162239096755, 0.000498376351992473, 0.00996752703984946, 0.0022426935839661285, 0.0002491881759962365, 0.9638598647534428, 0.0002491881759962365, 0.000498376351992473, 0.011462656095826878, 0.0002491881759962365, 0.9707340482129886, 0.001235030595690825, 0.022230550722434853, 0.001235030595690825, 0.00247006119138165, 0.042694161941966284, 0.028736455153246535, 0.18883956243562008, 0.19704997819369052, 0.013136665212912702, 0.009031457333877483, 0.5188982759100518, 0.00019606517508729835, 0.0015685214006983868, 0.010391454279626813, 0.004901629377182459, 0.0003921303501745967, 0.0017645865757856853, 0.01999864785890443, 0.9573862499512779, 0.0003921303501745967, 0.00019606517508729835, 0.0013724562256110884, 0.0005881955252618951, 0.00019606517508729835, 0.0005881955252618951, 0.00219948722508401, 0.006703199162160793, 0.00010473748690876238, 0.013720610785047872, 0.00010473748690876238, 0.0027231746596278216, 0.9740586282514901, 0.13192754859517913, 0.867617643114178, 0.005950724413147772, 0.8311178430363055, 0.02380289765259109, 0.005950724413147772, 0.029753622065738863, 0.07934299217530363, 0.01983574804382591, 0.09486150028617507, 0.9011842527186632, 0.0032710862167646577, 0.04547780473526537, 0.054233845725552225, 0.10400032359891728, 0.0599520765763518, 0.005807578207843319, 0.10498314452639845, 0.0008934735704374337, 0.03833001617176591, 0.01143646170159915, 0.1596637270371694, 0.29984973023880274, 0.012597977343167815, 0.0016082524267873807, 0.03484546924705991, 0.05557405608120838, 8.934735704374336e-05, 0.006879746492368239, 0.00017869471408748673, 0.003395199567662248, 0.0002680420711312301, 0.0002092587092998415, 0.00013950580619989433, 0.027761655433778974, 6.975290309994717e-05, 0.011788240623891071, 0.9038581183691154, 0.00027901161239978866, 0.0021623399960983623, 6.975290309994717e-05, 6.975290309994717e-05, 0.011648734817691178, 0.0002092587092998415, 0.011509229011491283, 0.024343763181881563, 6.975290309994717e-05, 0.004812950313896355, 0.000418517418599683, 0.000418517418599683, 0.05067577194490811, 0.003338639092841005, 0.08537377108836283, 0.009181257505312764, 0.0008346597732102512, 0.010135154388981622, 0.2707874778514972, 0.01156599971448491, 0.2686412098632423, 0.012639133708612376, 0.0961051110296375, 0.023370473649887032, 0.008585071953019727, 0.0569953387992143, 0.01860098923154274, 0.031240122940155116, 0.004173298866051256, 0.025039793196307537, 0.0044117730869684705, 0.008227360621643904, 0.20648038232288934, 0.07360623561067352, 0.04173856481738192, 0.1672520879685304, 0.04429138223740528, 0.05560887279950884, 0.007828640088071635, 0.03859008999935311, 0.09053992449682846, 0.04424883528040489, 0.09504990193886974, 0.051779646669473794, 0.015231810606139375, 0.015061622778137818, 0.005233275711047886, 0.001489143495013626, 0.019869428919181812, 0.002978286990027252, 0.019826881962181422, 0.003276115689029977, 0.051363534546874236, 0.020239092419961094, 0.005852926726853613, 0.00399311823420854, 0.008259737717335474, 0.023904009155467563, 0.5201993754427837, 0.010666548707817332, 0.013073359698299192, 0.060115574512262814, 0.1272327809968365, 0.10092196085088707, 0.00995544546062951, 0.004430720232477969, 0.013073359698299192, 0.013292160697433907, 0.006181128225555685, 0.001914508742428752, 0.0026256119896165744, 0.0027350124891839314, 0.014011283089974246, 0.0019685273762773733, 0.05998218711245173, 0.04365498946215116, 0.028022566179948492, 0.3338390838710393, 0.05639251954394593, 0.13490202313900823, 0.14995546778112934, 0.006947743680978965, 0.024317102883426377, 0.02686460889978533, 0.0039370547525547465, 0.09113123794884076, 0.0037054632965221146, 0.003126484656440534, 0.008221496689158442, 0.006831947952962649, 0.0006947743680978965, 0.0015053444642121091, 0.46947113248265787, 0.18303982296069776, 0.0033580949432065995, 0.01792560540106058, 0.018303982296069776, 0.06791865265415038, 0.0166958804922807, 0.00600673320827096, 0.005770247648890213, 0.002412152705683614, 0.032351224523286114, 0.026770165321900498, 0.010925632843390485, 0.00936482815147756, 0.0031689064957020024, 0.0023648555938074645, 0.041101190220373736, 0.004256740068853436, 0.07780374903626558, 0.000993239349399135, 0.22139423811330755, 0.7765828659974481, 0.00028848640388830487, 0.0014424320194415243, 0.7347748707035126, 0.0005769728077766097, 0.02827166758105388, 0.00028848640388830487, 0.00028848640388830487, 0.09923932293757688, 0.07933376106928385, 0.04413841979491065, 0.002019404827218134, 0.009231564924425756, 0.9964053719766757, 0.8105798233992478, 0.028159100564738138, 0.002011364326052724, 0.10660230928079438, 0.03419319354289631, 0.014079550282369069, 0.004022728652105448, 0.001053815299509756, 0.0014370208629678489, 0.010442351604233036, 0.02318393658921463, 0.2054939834044024, 0.0007664111269161862, 0.6173441627309879, 0.015711428101781815, 0.00910113213212971, 0.0038320556345809308, 0.00019160278172904654, 0.029506828386273165, 0.010059146040774942, 0.01781905870080133, 0.018968675391175607, 0.022225922680569398, 0.0002874041725935698, 0.007185104314839245, 0.004023658416309977, 0.0012454180812388024, 0.009991138473121733, 0.06754878402480127, 0.013031919747550086, 0.29886535954381527, 0.001954787962132513, 0.4850046132713223, 0.00043439732491833615, 0.0015203906372141765, 0.004126774586724194, 0.05538565892708786, 0.008253549173448388, 0.0456117191164253, 0.001954787962132513, 0.0062987612113158745, 0.013626885818041964, 0.057319440345732074, 0.04693705115103343, 0.005840093922017985, 0.11463888069146415, 0.010166089419809085, 0.027902670960752593, 0.13864815570420475, 0.021413677714065944, 0.0034607963982328798, 0.0633758340426396, 0.088466607929828, 0.0038933959480119897, 0.35602942946820754, 0.007570492121134424, 0.018818080415391285, 0.002379297523785105, 0.009300890320250865, 0.0086519909955822, 0.0017303981991164399, 0.006006244472671902, 0.015444628644013463, 0.2035926201808071, 0.05191111294237858, 0.10673001090724117, 0.015587634464791365, 0.030126559577211443, 0.09772064419823333, 0.0008580349246674145, 0.06335157860461077, 0.001001040745445317, 0.037991879719996076, 0.019496460232720697, 0.04828829881600505, 0.13142234929489233, 0.00829433760511834, 0.008532680639748177, 0.01358555297390073, 0.006911948004265284, 0.13313841914422717, 0.08189059055714834, 0.007392900536409226, 0.003980792596528044, 0.0005686846566468635, 0.003980792596528044, 0.03070897145893063, 0.001137369313293727, 0.020472647639287085, 0.0028434232832343174, 0.001137369313293727, 0.0921269143767919, 0.0005686846566468635, 0.007961585193056089, 0.0017060539699405906, 0.7427021615808037, 0.0017293046716553434, 0.04288675585705252, 0.7015789052905729, 0.006744288219455839, 0.002075165605986412, 0.0012105132701587405, 0.1822687123924732, 0.00017293046716553435, 0.00017293046716553435, 0.0031127484089796182, 0.0027668874746485496, 0.002075165605986412, 0.04254089492272145, 0.0013834437373242748, 0.0012105132701587405, 0.008127731956780114, 0.08297975830628478, 0.257848144675664, 0.00254539135908849, 0.03436278334769462, 0.011708800251807054, 0.009163408892718564, 0.009927026300445112, 0.004581704446359282, 0.05701676644358218, 0.3947901997946248, 0.0389444877940539, 0.005345321854085829, 0.0035635479027238863, 0.024944835319067202, 0.012472417659533601, 0.007890713213174319, 0.022908522231796413, 0.008654330620900867, 0.007890713213174319, 0.00254539135908849, 0.4303785232630877, 0.0018950130672053761, 0.0010527850373363201, 0.01305453446297037, 0.0014738990522708481, 0.014738990522708481, 0.0018950130672053761, 0.002316127082139904, 0.00021055700746726403, 0.39563661703098907, 0.022950713813931777, 0.012212306433101313, 0.030741323090220547, 0.00042111401493452805, 0.025477397903538947, 0.03874248937397658, 0.002316127082139904, 0.0040005831418780165, 0.02751830147370575, 0.9677269351586523, 0.0022931917894754793, 0.00100128943702278, 0.00267010516539408, 0.00033376314567426, 0.0016688157283712998, 0.9936128846722719, 0.00033376314567426, 0.9981290286958419, 0.9969785768783593, 0.034073514829181174, 0.00200432440171654, 0.006012973205149619, 0.00200432440171654, 0.038082163632614255, 0.7696605702591512, 0.126272437308142, 0.00400864880343308, 0.00801729760686616, 0.0100216220085827, 0.0005688379216055911, 0.11262990847790705, 0.02047816517780128, 0.00511954129445032, 0.022753516864223645, 0.0005688379216055911, 0.0022753516864223644, 0.003413027529633547, 0.8151447416608121, 0.0011376758432111822, 0.013083272196928597, 0.003413027529633547, 0.008580030716793847, 0.0390066942671048, 0.07685977095884236, 0.0027398417414971946, 0.03525743714716127, 0.023504958098107515, 0.11543385863518445, 0.013338703215183711, 0.10800744549375783, 0.1098820740537296, 0.01297819772288145, 0.009084738406017014, 0.020116206470466247, 0.021774531735056654, 0.10281616640460525, 0.14225546726247276, 0.06164643918368688, 0.05659936229145521, 0.02480277787039566, 0.015429635070536834, 0.0638162756380207, 0.9340382161564847, 0.7647110661378486, 0.2282719600411488, 0.022514777766612055, 0.08505582711831221, 0.07838478185413086, 0.01917925513452138, 0.005003283948136012, 0.0016677613160453375, 0.049198958823337455, 0.644589748651523, 0.0016677613160453375, 0.024182539082657394, 0.0016677613160453375, 0.06420881066774549, 0.002501641974068006, 0.13132542735492386, 0.3305114834894841, 0.08956504041360916, 0.003937931224729237, 0.007509543265762731, 0.025092864083158393, 0.0011905373470111648, 0.0032968726532616867, 0.01721700163369992, 0.007875862449458475, 0.19359968858320017, 0.0018315959184787148, 0.019506496531798315, 0.06181636224865663, 0.007509543265762731, 0.023810746940223296, 0.006135846326903695, 0.001740016122554779, 0.06575429347338586, 0.000732638367391486, 0.8724541712418397, 0.0025362039861681384, 0.005072407972336277, 0.012681019930840693, 0.012681019930840693, 0.012681019930840693, 0.07101371161270788, 0.007608611958504416, 0.043368827132621995, 0.954114196917684, 0.0029586175642490027, 0.0009862058547496677, 0.9743713844926717, 0.0059172351284980055, 0.010848264402246344, 0.0009862058547496677, 0.0029586175642490027, 0.04163436961263832, 0.9523862048891015, 0.002602148100789895, 0.02206509052516668, 0.005673880420757146, 0.0050434492628952405, 0.0025217246314476202, 0.014499916630823817, 0.20615098862084297, 0.7205828134361575, 0.0012608623157238101, 0.008195605052204766, 0.003782586947171431, 0.0006304311578619051, 0.009456467367928576, 0.006472356297193957, 0.0013626013257250437, 0.004769104640037653, 0.009878859611506566, 0.7521559318002241, 0.005109754971468913, 0.06131705965762696, 0.004769104640037653, 0.01090081060580035, 0.008856908617212783, 0.02725202651450087, 0.02248292187446322, 0.009538209280075306, 0.005450405302900175, 0.009878859611506566, 0.04462519341749518, 0.0010219509942937827, 0.011922761600094131, 0.0006813006628625218, 0.0013626013257250437, 0.9420103370515749, 0.0027571034255168044, 0.053610344385048976, 0.001225379300229691, 0.35108274408140294, 0.0804744509306118, 0.03384762313819724, 0.03505646682170428, 0.041791453058386385, 0.005698834507961779, 0.030393784042462825, 0.04800836343070832, 0.021759186303126794, 0.014678816156871251, 0.015196892021231413, 0.024694949534501045, 0.0031084551861609707, 0.030566475997249546, 0.003799223005307853, 0.002072303457440647, 0.25299371376254565, 0.0032811471409476913, 0.0003453839095734412, 0.0013815356382937648, 0.007452195554345015, 0.9911420087278869, 0.0567966105762662, 0.0013056692086497977, 0.0019585038129746966, 0.01109818827352328, 0.007181180647573887, 0.0006528346043248989, 0.003917007625949393, 0.7664278254774313, 0.10053652906603443, 0.04308708388544332, 0.0006528346043248989, 0.0006528346043248989, 0.0032641730216244943, 0.0013056692086497977, 0.0013056692086497977, 0.005904916822656613, 0.2545019150565, 0.7121329688123875, 0.02716261738422042, 0.6692325279675077, 0.023273155918499107, 0.14739665415049436, 0.15929182273106055, 0.0005171812426333135, 0.08776318808102211, 0.9047306897615544, 0.007082643248643891, 0.22252472850403537, 0.016081619034745413, 0.004113902543772082, 0.0011219734210287497, 0.04581391469200728, 0.06488746284949602, 0.017016596885602704, 0.0474968748235504, 0.0022439468420574994, 0.32518529652816597, 0.0349681716220627, 0.0005609867105143748, 0.19129646828540184, 0.0024309424122289577, 0.0031789246929147907, 0.002056951271886041, 0.001308968991200208, 0.0016829601315431245, 0.01514664118388812, 0.0009349778508572914, 0.0293500018951243, 0.0009100775781433892, 0.0006825581836075418, 0.003185271523501862, 0.08759496689630121, 0.0006825581836075418, 0.6850608969474362, 0.03458294796944879, 0.0020476745508226256, 0.03208023462955447, 0.06461550804818063, 0.0009100775781433892, 0.0038678297071094037, 0.04891666982520717, 0.0038678297071094037, 0.001592635761750931, 0.0007548827927231709, 0.0011323241890847562, 0.0007548827927231709, 0.0011323241890847562, 0.689207989756255, 0.0015097655854463417, 0.0022646483781695124, 0.0011323241890847562, 0.0011323241890847562, 0.0015097655854463417, 0.004529296756339025, 0.29364940636931347, 0.0007548827927231709, 0.00037744139636158543, 0.0018797802417546655, 0.02953074121724265, 0.015765898801813324, 0.030864778808165315, 0.014128670849317326, 0.0035170081942506645, 0.025710542661418652, 0.07506993352555728, 0.004608493495914664, 0.009459539281087994, 0.0006063807231466664, 0.031228607242053317, 0.0043053031343413305, 0.03341157784538131, 0.6820570373953703, 0.005518064580634663, 0.0024255228925866654, 0.0038808366281386643, 0.020616944586986655, 0.005518064580634663, 0.05466055364358697, 0.31398682586657933, 0.01639816609307609, 0.10904434499024439, 0.0005535245938591086, 0.01792035872618864, 0.0021449078012040455, 0.1228824598367221, 0.013284590252618605, 0.013284590252618605, 0.016605737815773257, 0.019096598488139244, 0.02131069686357568, 0.01162401647104128, 0.029198422326067976, 0.12980151725996095, 0.008302868907886628, 0.016951690686935198, 0.028575707157976478, 0.054522172495122194, 0.9948316056570512, 0.0012779941113431022, 0.10238152825315296, 0.003123985605505361, 0.00028399869140957823, 0.019879908398670477, 0.003123985605505361, 0.6266431125952344, 0.23287892695585416, 0.004117981025438885, 0.0012779941113431022, 0.004543979062553252, 0.0032255485307188976, 0.13466665115751397, 0.08305787466601161, 0.002419161398039173, 0.0330618724398687, 0.7410697749326667, 0.0008063871326797244, 0.002419161398039173, 0.8194744582735382, 0.01146118123459494, 0.01719177185189241, 0.10888122172865193, 0.00573059061729747, 0.02292236246918988, 0.00573059061729747, 0.9941568900955027, 0.033848774590717445, 0.0028207312158931206, 0.06487681796554177, 0.06487681796554177, 0.8123705901772188, 0.0028207312158931206, 0.005641462431786241, 0.0028207312158931206, 0.0028207312158931206, 0.008462193647679361, 0.010552828962823122, 0.0075377349734450875, 0.12562891622408479, 0.0020100626595853568, 0.0005025156648963392, 0.8532715989939839, 0.012682602990480622, 0.001056883582540052, 0.002113767165080104, 0.03487715822382171, 0.8539619346923619, 0.023251438815881143, 0.05601482987462275, 0.012682602990480622, 0.001056883582540052, 0.002113767165080104, 0.004709119344954624, 0.9780840879470755, 0.0004709119344954624, 0.004709119344954624, 0.0004709119344954624, 0.010830974493395635, 0.008917300439057741, 0.18468605475805716, 0.0008247214278897334, 0.01020592767013545, 5.1545089243108334e-05, 0.01639133837930845, 0.0021133486589674415, 0.002319529015939875, 0.0030927053545865, 0.0005669959816741916, 0.0004123607139448667, 0.7616302386561687, 0.000154635267729325, 0.0003608156247017583, 0.00216489374821055, 0.002010258480481225, 0.0013401723203208167, 0.0009793566956190583, 0.0018556232127519, 0.9969670937700912, 0.003774712664178558, 0.0013066313068310392, 0.3335539363827014, 0.0008710875378873595, 0.005008753342852317, 0.5913958475973599, 0.0006533156534155196, 0.001887356332089279, 0.0005081343971009597, 7.259062815727996e-05, 0.0008710875378873595, 0.01734916012958991, 0.0005081343971009597, 0.0011614500505164793, 0.021849779075341268, 7.259062815727996e-05, 0.015534394425657912, 0.003629531407863998, 0.9968914756747418, 0.7553390443210011, 0.006591821553154601, 0.16395848212370254, 0.00020926417629062226, 0.00010463208814531113, 0.00020926417629062226, 0.001569481322179667, 0.00020926417629062226, 0.0003138962644359334, 0.05984955441911797, 0.009626152109368624, 0.0019880096747609114, 0.003703925257135644, 0.000925981314283911, 0.0500029909713312, 0.9352411274267503, 0.00925981314283911, 0.011541003526451108, 0.002885250881612777, 0.004327876322419165, 0.0021639381612095824, 0.0003606563602015971, 0.967641014420885, 0.010459034445846315, 0.2049363686224392, 0.757513488206503, 0.03648081954535567, 0.003928128966913797, 0.06285006347062075, 0.9270384361916562, 0.003928128966913797, 0.001176490065420781, 0.01117665562149742, 0.004705960261683124, 0.004117715228972734, 0.05470678804206632, 0.004705960261683124, 0.051765562878514366, 0.04588311255141046, 0.004705960261683124, 0.0558832781074871, 0.06647168869627412, 0.007058940392524686, 0.03588294699533382, 0.6282456949346971, 0.002941225163551953, 0.007647185425235077, 0.011764900654207811, 0.001176490065420781, 0.02542109577517189, 0.07880539690303286, 0.8770278042434302, 0.007626328732551567, 0.007626328732551567, 0.4258850261306204, 0.024754063427435358, 0.01692487127364185, 0.15566276164601212, 0.027747578074474054, 0.03834001451784174, 0.0010362166085903174, 0.014046491805335412, 0.053998398825428756, 0.020609196993074088, 0.0899205745898931, 0.08094003064877701, 0.01416162698406767, 0.004260001613093527, 0.0063324348302741616, 0.0005756758936612874, 0.004490271970558042, 0.004375136791825785, 0.013931356626603155, 0.0018421628597161197, 0.008973433331555323, 0.8764053220485698, 0.014955722219258871, 0.041876022213924835, 0.029911444438517742, 0.002991144443851774, 0.020938011106962418, 0.9017027115023525, 0.017388206557896604, 0.0024840295082709436, 0.0024840295082709436, 0.00745208852481283, 0.06706879672331548, 0.03854729883382224, 0.9465503380305239, 0.012849099611274081, 0.00658129895395862, 0.030712728451806892, 0.0021937663179862066, 0.12723844644319998, 0.15136987594104825, 0.021937663179862066, 0.08336312008347585, 0.0021937663179862066, 0.008775065271944826, 0.5659917100404414, 0.08724648333266093, 0.03421430718927879, 0.00042767883986598494, 0.018604029534170344, 0.6173544053465492, 0.007270540277721744, 0.0010691970996649623, 0.00021383941993299247, 0.08018978247487217, 0.00042767883986598494, 0.15203982757235765, 0.0006415182597989774, 0.11712592166053433, 0.24527007876304296, 0.024739056935753612, 0.011995324245319188, 0.14614753803222513, 0.0889566593513359, 0.059082688917152744, 0.04411452001484804, 0.01051929647856414, 0.00162155163108301, 0.014864223284927591, 0.07336481674476848, 0.04072589288835406, 0.03952012372677951, 0.009001690464858247, 0.006818832499938811, 0.034821781821333865, 0.0225769880943096, 0.001746286371935549, 0.006943567240791351, 0.9926845754555023, 0.0006526525808385945, 0.005873873227547351, 0.0003651855646434438, 0.0010955566939303315, 0.5525257593055305, 0.000608642607739073, 0.0010955566939303315, 0.01059038137465987, 0.0001217285215478146, 0.007547168335964505, 0.014607422585737752, 0.0002434570430956292, 0.16262930478788032, 0.00450395529726914, 0.16749844564979288, 0.06634204424355895, 0.0031649415602431796, 0.0001217285215478146, 0.006816797206677618, 0.018538329396804196, 0.9732622933322204, 0.007415331758721679, 0.0003215689539768239, 0.02604708527212274, 0.0003215689539768239, 0.01704315456077167, 0.0012862758159072956, 0.0035372584937450632, 0.951522534817422, 0.14208261995628368, 0.05766843180776616, 0.042308148569249006, 0.23458116770402074, 0.05113357446506368, 0.03880492607625386, 0.013743411318673243, 0.027554192300673318, 0.09465437697419563, 0.06245167790397106, 0.06440539814044913, 0.06521383410037107, 0.008353838252526873, 0.03765964179969776, 0.01071177646896591, 0.0016842415831707406, 0.009903340509043955, 0.0045811371062244146, 0.02849736758724893, 0.003907440472956119, 0.010573745837653631, 0.00034386165325702865, 0.07934607648905936, 0.03197913375290367, 0.014442189436795204, 0.0018052736795994004, 0.04401429161689967, 0.6057982676255703, 0.00017193082662851433, 8.596541331425716e-05, 0.04934414724238362, 0.007307060131711859, 0.00034386165325702865, 0.0533845216681537, 0.06404423291912159, 0.010573745837653631, 8.596541331425716e-05, 0.02639138188747695, 0.00376272356105848, 0.0004426733601245271, 0.007746783802179223, 0.007304110442054697, 0.5212478815466306, 0.0011066834003113177, 0.0661796673386168, 0.0008853467202490542, 0.0015493567604358447, 0.0026560401607471622, 0.005090743641432061, 0.20960583601896357, 0.10934031995075819, 0.037405898930522534, 0.006197427041743379, 0.002434703480684899, 0.00022133668006226354, 0.013501537483798075, 0.003320050200933953, 0.9967120009248475, 0.03712339437969156, 0.30557250087715493, 0.04394380849618606, 0.0948276874968753, 0.017230519873249264, 0.027191914174971497, 0.005175138781375213, 0.038200301871769635, 0.034161898776476844, 0.06440505084566957, 0.048819806307539584, 0.07068701121612503, 0.00762809473555306, 0.05378554640989962, 0.043704495720168705, 0.007687922929557398, 0.035358462656563595, 0.004277715871310148, 0.052289841559791175, 0.007957149802576918, 0.9970555176579298, 0.002370067300652469, 0.995428266274037, 0.9964327261809632, 0.9907915925117482, 0.008975142216217712, 0.9941518914056576, 0.9979655740454454, 0.001366457519341103, 0.4331670336311297, 0.020496862790116546, 0.5411171776590769, 0.0005980795830714017, 0.0004784636664571213, 0.8029816482316638, 0.0005980795830714017, 0.13097942869263696, 0.00011961591661428033, 0.04910233377016207, 0.00023923183322856065, 0.00035884774984284095, 0.0020334705824427654, 0.002153086499057046, 0.0004784636664571213, 0.004425788914728372, 0.00017942387492142048, 0.0024521262905927467, 0.0017942387492142049, 0.00011961591661428033, 0.00011961591661428033, 0.00029903979153570083, 0.00041865570814998113, 0.0004964456912302508, 0.7893486490560987, 0.040212100989650314, 0.06751661400731411, 0.03624053545980831, 0.004468011221072257, 0.0014893370736907524, 0.0029786741473815047, 0.0004964456912302508, 0.05560191741778809, 0.08005378866792287, 0.01071586147523377, 0.0023637929724780373, 0.020643791959641528, 0.12512344134317077, 0.1583741291560285, 0.12323240696518835, 0.06602861703121984, 0.013237240645877009, 0.015916206014685453, 0.030414136245884082, 0.03908137714497022, 0.25844136499093207, 0.025371377904597602, 0.009139999493581744, 0.004097241152295265, 0.00504275834128648, 0.003624482557799657, 0.008352068502755732, 0.0007879309908260124, 0.01280228964281374, 0.0024004293080275765, 0.31365609624893664, 0.003200572410703435, 0.6065084718283009, 0.05761030339266183, 0.004000715513379294, 0.0008093093997774708, 0.0020232734994436773, 0.0024279281993324128, 0.0024279281993324128, 0.02670721019265654, 0.9213987516466505, 0.04248874348831722, 0.0008093093997774708, 0.0004046546998887354, 0.0004046546998887354, 0.004771095599212632, 0.018130163277008, 0.0009542191198425264, 0.007633752958740211, 0.020038601516693053, 0.9017370682511875, 0.03816876479370106, 0.0019084382396850528, 0.005725314719055159, 0.4620028758208167, 0.027682545787983782, 0.002150100643726896, 0.5071549893390815, 0.000537525160931724, 0.000134381290232931, 0.0007228145905570272, 0.021684437716710817, 0.9700171805275306, 0.002891258362228109, 0.004336887543342163, 0.01116964398393246, 0.6621611645198734, 0.04118377935180005, 0.024395050664294208, 0.003768898276787026, 0.015555271069648272, 0.0002055762696429287, 0.012266050755361413, 0.0013705084642861914, 0.054135084339304564, 0.0019872372732149773, 0.010621440598217983, 6.852542321430957e-05, 0.03015118621429621, 0.022956016776793705, 0.008976830441074553, 0.026108186244651947, 0.0006167288089287861, 0.06770311813573786, 0.004591203355358741, 0.0019056859009770378, 0.9518901075380304, 0.0019056859009770378, 0.007622743603908151, 0.036208032118563716, 0.30331552607545015, 0.10403889303076681, 0.004632185798342244, 0.010376096188286627, 0.010098165040386093, 0.04094852245734544, 0.0009264371596684488, 0.002408736615137967, 0.006948278697513366, 0.44793236669969505, 0.023438860139611755, 0.00398367978657433, 0.01593471914629732, 0.004076323502541175, 0.002964598910939036, 0.0027793114790053467, 0.002316092899171122, 0.0006485060117679142, 0.010190808756352938, 0.0020381617512705875, 0.7938560808502005, 0.031994199731998005, 0.003999274966499751, 0.003999274966499751, 0.08798404926299451, 0.04799129959799701, 0.019996374832498755, 0.005998912449749626, 0.0019996374832498753, 0.0019996374832498753, 0.991776561392044, 0.003967106245568176, 0.002975329684176132, 0.015286530279534125, 0.0783434676826124, 0.1624193842200501, 0.0019108162849417656, 0.7394859022724634, 0.03835899530473325, 0.0038358995304733252, 0.22248217276745286, 0.015343598121893301, 0.6674465183023586, 0.049866693896153225, 0.0919908401462965, 0.523188493467071, 0.07773803130748133, 0.02117846947176057, 0.0022583675976995867, 0.008481424978027337, 0.022081816510840402, 0.023988882482231164, 0.02669892359947067, 0.0037639459961659777, 0.04727516171184468, 0.03979745566612827, 0.048730554163695525, 0.004065061675859256, 0.04456512059460518, 0.004466549248783627, 0.004165433569090349, 0.00010037189323109275, 0.0037137600495504314, 0.0017063221849285767, 0.020469240587410575, 0.01364616039160705, 0.0012405600356006409, 0.05396436154862788, 0.004962240142402563, 0.0024811200712012817, 0.011165040320405769, 0.19600848562490128, 0.10482732300825416, 0.01240560035600641, 0.0024811200712012817, 0.0006202800178003204, 0.004962240142402563, 0.5694170563406942, 0.07365071973752553, 0.9165422900669843, 0.0035071771303583584, 0.0023381180869055723, 0.0023381180869055723, 0.029362260160586195, 0.8123558644428847, 0.0011514611827680861, 0.008060228279376603, 0.004605844731072345, 0.14393264784601076, 0.9865675880783531, 0.24645173547981217, 0.06138297765993829, 0.022505047753443908, 0.18414893297981486, 0.04629785028297044, 0.04445820060285241, 0.02097200635334555, 0.011651114640747527, 0.07873700630905171, 0.06794439485235927, 0.07450581204478024, 0.03955246812253766, 0.024467340745569808, 0.019806894889270798, 0.007481242032479992, 0.003617977704232127, 0.019316321641239323, 0.005028375792322617, 0.017231385337105554, 0.0044151592322832734, 0.007120996027691935, 0.9862579498353329, 0.023586120774920123, 0.9737698434217021, 0.039490390600901454, 0.9585394809491534, 0.005935339764268123, 0.0017586191894127772, 0.008683182247725588, 0.025170237148470373, 0.03000643991935551, 0.08617234028122608, 0.08595251288254949, 0.06847623468776001, 0.01395903981596392, 0.05363788527708971, 0.02165299876964482, 0.3301807528122489, 0.0062650808622830186, 0.15288995577957332, 0.05748486475393016, 0.015058176809346905, 0.017586191894127773, 0.007474131555004303, 0.010661628835814962, 0.0008793095947063886, 0.11635167756994598, 0.02286680368426684, 0.773436006967849, 0.00067255304953726, 0.08608679034076928, 0.8577335175785105, 0.13996488362159792, 0.01418221806196659, 0.03309184214458871, 0.9478449071414338, 0.002363703010327765, 0.039077294586500104, 0.9591699580322752, 0.9927253873746339, 0.03460394067305477, 0.006759839573340931, 0.010944502166361508, 0.0746801324292903, 0.03685722053083508, 0.47512015286910547, 0.029936432396224125, 0.015612010443192152, 0.12940264326109782, 0.004184662593020577, 0.014646319075572019, 0.036374374847025014, 0.0062769938895308654, 0.03396014642797468, 0.01030070792128142, 0.059390019108638184, 0.0006437942450800888, 0.002575176980320355, 0.00740363381842102, 0.010139759360011397, 0.00017849773025375637, 0.002570367315654092, 0.0005354931907612691, 3.569954605075127e-05, 0.003534255059024376, 0.0008567891052180306, 0.010674164269174632, 0.002891663230110853, 3.569954605075127e-05, 0.0004283945526090153, 0.0009281881973195331, 0.000785390013116528, 0.0011780850196747921, 0.000392695006558264, 0.0014993809341315536, 0.3282216263906072, 7.139909210150254e-05, 0.37184647166462526, 0.0006782913749642742, 0.2726374331895875, 0.0019589720005585357, 0.004407687001256705, 0.0004897430001396339, 0.12684343703616519, 0.003917944001117071, 0.004407687001256705, 0.7850580292238332, 0.005876916001675607, 0.01126408900321158, 0.04995378601424266, 0.003917944001117071, 0.0004897430001396339, 0.0004897430001396339, 0.015588263052238484, 0.9781635065279649, 0.18708789269213674, 0.00768328101405079, 0.030886789676484176, 0.0018439874433721895, 0.03511259423421211, 0.010449262179109074, 0.06361756679634054, 0.004225804557727935, 0.030425792815641128, 0.1381453926326332, 0.02381817114355745, 0.18501340681834302, 0.23364857563728453, 0.007222284153207742, 0.0204375274973751, 0.007375949773488758, 0.0003841640507025395, 0.0031501452157608237, 0.0017671546332316817, 0.007606448203910282, 0.00015187200122928043, 0.3051108504696244, 0.001063104008604963, 0.004556160036878413, 0.00349305602827345, 0.0006074880049171217, 0.004404288035649132, 0.0022780800184392064, 0.004252416034419852, 0.0030374400245856085, 0.0006074880049171217, 0.00015187200122928043, 0.0037968000307320106, 0.07168358458022037, 0.0030374400245856085, 0.012757248103259556, 0.3196905625876353, 0.020502720165952858, 0.23297164988571617, 0.005771136046712656, 0.0031140596411928304, 0.0030638328727864944, 0.04123617686160183, 0.0005524944524696957, 0.001858390431034431, 5.022676840633597e-05, 0.7411461946038936, 0.001908617199440767, 0.022401138709225846, 0.00045204091565702374, 0.003465647020037182, 0.001757936894221759, 0.009643539534016508, 0.013762134543336057, 0.06881067271668029, 0.011451703196644602, 0.003566100556849854, 0.027222908476234098, 0.04148731070363351, 0.0030638328727864944, 0.0015622864061217183, 0.0007101301846007811, 0.12824951133890106, 0.20955941747569048, 0.003479637904543827, 0.23199953130907516, 0.0009231692399810154, 0.31472969781506616, 0.004047742052224452, 0.0036926769599240615, 0.02165897063032382, 0.01455766878431601, 0.0002840520738403124, 0.0013492473507414838, 0.0002840520738403124, 0.0009231692399810154, 0.023860374202586243, 0.0008521562215209372, 0.036429678470020065, 0.0007101301846007811, 0.9762103154585832, 0.022186598078604163, 0.0002492876188607209, 0.0007478628565821628, 0.08184172147388617, 0.53749338185964, 0.006230165648531127, 0.1328158040527772, 0.008495680429815173, 0.0016991360859630348, 0.009062059125136185, 0.036814615195865756, 0.06116889909466925, 0.009628437820457197, 0.009062059125136185, 0.030867638894995133, 0.03228358563329766, 0.0005663786953210116, 0.004247840214907587, 0.0008495680429815174, 0.0025487041289445522, 0.013309899340043773, 0.0059469763008706215, 0.014725846078346302, 0.0008252117000545931, 0.036969484162445776, 0.003135804460207454, 0.0008252117000545931, 0.0009902540400655118, 0.05792986134383244, 0.005611439560371233, 0.0006601693600436745, 0.0011552963800764305, 0.0004951270200327559, 0.0004951270200327559, 0.003135804460207454, 0.0008252117000545931, 0.00016504234001091863, 0.001320338720087349, 0.0011552963800764305, 0.8057367039333048, 0.07756989980513175, 0.0006601693600436745, 0.00016504234001091863, 0.7239119651398408, 0.0018128012482633742, 0.0018128012482633742, 0.000604267082754458, 0.000604267082754458, 0.035047490799758566, 0.000604267082754458, 0.004834136662035664, 0.0030213354137722903, 0.06223950952370918, 0.000604267082754458, 0.16496491359196705, 0.00027162328729465467, 0.04196579788702415, 0.009235191768018259, 0.5987935368410663, 0.14640495185181887, 0.016025773950384625, 0.001629739723767928, 0.06396728415789117, 0.000407434930941982, 0.002852044516593874, 0.013716976008380061, 0.062473356077770575, 0.000814869861883964, 0.004889219171303784, 0.03218735954441658, 0.0013581164364732735, 0.0029878561602412015, 0.002360458416463085, 0.013834909052047527, 0.15520014088244785, 0.005179894858349548, 0.06681408684377454, 0.0019014803910397074, 0.14549603405921072, 0.060322826198501066, 0.006556828934619681, 0.0032784144673098405, 0.026620725474555903, 0.42186637365343027, 0.03409551046002234, 0.0036718242033870214, 0.005770009462465319, 0.02032616969732101, 0.002753868152540266, 0.01953935022516665, 0.0025571632845016756, 0.0019014803910397074, 0.0021436519738584456, 0.03001112763401824, 0.006430955921575337, 0.0021436519738584456, 0.889615569151255, 0.017149215790867565, 0.01071825986929223, 0.006430955921575337, 0.004287303947716891, 0.0021436519738584456, 0.027867475660159794, 0.001209274490673941, 0.00030231862266848523, 0.0006046372453369705, 0.0036278234720218227, 0.00030231862266848523, 0.0015115931133424263, 0.002418548981347882, 0.9891865333712837, 0.00030231862266848523, 0.010583052681745251, 0.9683493203796905, 0.010583052681745251, 0.08872677193162719, 0.23887977058515014, 0.009100181736577147, 0.6472504260140496, 0.0045500908682885735, 0.010237704453649292, 0.0006790189089626952, 0.06111170180664258, 0.10966155379747529, 0.013580378179253906, 0.010185283634440429, 0.0016975472724067382, 0.8015818220304618, 0.0003395094544813476, 0.0006790189089626952, 0.11986398579479607, 0.0018728747780436886, 0.0018728747780436886, 0.011237248668262131, 0.0018728747780436886, 0.033711746004786394, 0.007491499112174754, 0.7809887824442181, 0.03745749556087377, 0.14154024381763977, 0.7190483272423556, 0.008958243279597454, 0.035832973118389816, 0.02508308118287287, 0.0011944324372796604, 0.0011944324372796604, 0.0035832973118389813, 0.0035832973118389813, 0.014333189247355925, 0.004180513530478811, 0.011347108154156774, 0.007763810842317793, 0.019110918996474567, 0.0011944324372796604, 0.0011944324372796604, 0.0002851773141150638, 0.0002851773141150638, 0.0001425886570575319, 0.0002851773141150638, 0.06872773270173038, 0.015969929590443573, 0.0005703546282301276, 0.5044786686695478, 0.0002851773141150638, 0.0002851773141150638, 0.4085165024698289, 0.0001425886570575319, 0.0001425886570575319, 0.001183578925753103, 0.9965734554841128, 0.0002958947314382758, 0.0017753683886296545, 0.023614755357736047, 0.005352677881086837, 0.0790307145972233, 0.00031486340476981394, 0.0037783608572377675, 0.004093224262007582, 0.02392961876250586, 0.00031486340476981394, 0.8592622316168222, 0.0020202529831226386, 0.0989923961730093, 0.008081011932490554, 0.014141770881858471, 0.0020202529831226386, 0.8727492887089799, 0.008238014918011984, 0.01882974838402739, 0.9485485748453798, 0.0011768592740017119, 0.00588429637000856, 0.010591733466015408, 0.003530577822005136, 0.0023537185480034238, 0.006179884189467907, 0.0015449710473669767, 0.8582314168123556, 0.0038624276184174417, 0.0015449710473669767, 0.0007724855236834883, 0.015449710473669767, 0.0007724855236834883, 0.049439073515743254, 0.05175653008679372, 0.010042311807885349, 0.0015865750715908968, 0.0006346300286363588, 0.011106025501136279, 0.0038077801718181523, 0.0028558351288636144, 0.0015865750715908968, 0.002538520114545435, 0.5115118030809052, 0.010471395472499919, 0.019356215873408942, 0.0019038900859090762, 0.3471426256640882, 0.00507704022909087, 0.07044393317863581, 0.008250190372272663, 0.0006346300286363588, 0.0009519450429545381, 0.0011222506560291878, 0.0022445013120583755, 0.9527908069687805, 0.0011222506560291878, 0.029739642384773477, 0.0005611253280145939, 0.011783631888306473, 0.983817736393781, 0.01316144128954891, 0.0032099973081600565, 0.0014815372191507954, 0.9726291843724971, 0.02222305828726193, 0.0009173095525046455, 0.013759643287569682, 0.0027519286575139364, 0.9824385307324752, 0.013568870700624592, 0.0022614784501040984, 0.9102450761668996, 0.07293268001585718, 0.00016429544051741469, 0.24102141123904736, 0.0008214772025870735, 0.020208339183642007, 0.0042716814534527825, 0.00525745409655727, 0.00870765834742298, 0.00032859088103482937, 0.00032859088103482937, 0.0049288632155224405, 0.0013143635241393175, 0.03729506499745314, 0.009036249228457808, 0.06949697133886641, 0.00016429544051741469, 0.31659731387705814, 0.014293703325015079, 0.26550143187614217, 0.00422365810770906, 0.9549307012611303, 0.0057595337832396275, 0.0007679378377652837, 0.00038396891888264184, 0.0030717513510611348, 0.030333544591728705, 0.00038396891888264184, 0.06823069348467432, 0.022093748366465972, 0.016245403210636746, 0.07944002170001369, 0.040126145930272764, 0.004223804834765554, 0.016245403210636746, 0.012508960472190293, 0.08073965395686462, 0.11258064424971265, 0.4915859011538679, 0.004548712898978288, 0.015758041114317643, 0.010884420151126619, 0.004711166931084656, 0.0009747241926382047, 0.003573988706340084, 0.009097425797956577, 0.003898896770552819, 0.002436810481595512, 0.7565234276457464, 0.09405426397757928, 0.004089315825112143, 0.04089315825112143, 0.012267947475336428, 0.032714526600897145, 0.004089315825112143, 0.05316110572645786, 0.004553962070770064, 0.9939022219455667, 0.00016135648029077715, 0.0012908518423262172, 0.03001230533408455, 0.0009681388817446629, 0.7222316057815186, 0.00016135648029077715, 0.0027430601649432117, 0.03582113862455253, 0.002420347204361657, 0.011617666580935954, 0.0008067824014538858, 0.00048406944087233143, 0.0008067824014538858, 0.17765348480014564, 0.00048406944087233143, 0.009681388817446629, 0.0003227129605815543, 0.002097634243780103, 0.01590387491592096, 0.06183677681124531, 0.024169704641958827, 0.04520048660314378, 0.010986229382708558, 0.0223909817895203, 0.013601998283353452, 0.7213244320418362, 0.010672337114631171, 0.005754691581418768, 0.014125152063482431, 0.015799244159895164, 0.005022276289238198, 0.005022276289238198, 0.003034291924748078, 0.0006277845361547747, 0.0033481841928254654, 0.003034291924748078, 0.015066828867714594, 0.0031389226807738736, 0.03289635976883183, 0.13804722402991929, 0.000587434995871997, 0.790100069447836, 0.008224089942207958, 0.007636654946335961, 0.0017623049876159909, 0.019385354863775902, 0.01347098073981822, 0.01347098073981822, 0.9618280248230209, 0.008082588443890931, 0.000898065382654548, 0.0013956990794602503, 0.0004652330264867501, 0.0004652330264867501, 0.9969943757611055, 0.002805847412597769, 0.996075831472208, 0.021785805301684107, 0.9755199485087438, 0.012800183100729423, 0.9856140987561656, 0.0030559961418405355, 0.993198746098174, 0.006248573426624461, 0.024994293706497844, 0.9654045944134791, 0.03311909004706171, 0.015054131839573505, 0.9484103058931308, 0.032293661747665854, 0.03274850205397101, 0.0004548403063051529, 0.00318388214413607, 0.05821955920705957, 0.018648452558511268, 0.0004548403063051529, 0.8369061636014813, 0.0004548403063051529, 0.0009096806126103057, 0.0027290418378309172, 0.01273552857654428, 0.021780898857054212, 0.9583595497103853, 0.004356179771410842, 0.002178089885705421, 0.002178089885705421, 0.002178089885705421, 0.006534269657116263, 0.2577619302805142, 0.007187165698010895, 0.0003549217628647356, 0.005057635120822482, 0.0011534957293103905, 0.0011534957293103905, 0.01570528800676455, 0.06619290877427318, 0.004880174239390114, 0.19476331737202365, 0.05261715134469705, 0.09112616261552085, 0.13673360914363938, 0.010381461563793515, 0.05607763853262822, 0.0002661913221485517, 0.002484452340053149, 0.0001774608814323678, 0.09574014553276242, 0.0002661913221485517, 0.00809094264761232, 0.15603960820395188, 0.83221124375441, 0.0023116978993178057, 0.6889624743668948, 0.01888042984437248, 0.004157158864815959, 0.04477606527312189, 0.0019053644797073146, 0.029186719530062046, 0.002944654195911304, 0.003637514006713964, 0.005716093439121944, 0.0024250093378093093, 0.0013857196216053196, 0.08963873802259412, 0.015502738266709514, 0.001645542050656317, 0.07240385022887795, 0.006928598108026598, 8.660747635033248e-05, 0.009873252303937902, 0.034295669725526556, 0.007144931192818033, 0.002857972477127213, 0.0885971467909436, 0.02000580733989049, 0.010002903669945246, 0.05858843578110787, 0.011431889908508852, 0.017147834862763278, 0.051443504588289835, 0.014289862385636065, 0.012860876147072459, 0.010002903669945246, 0.025721752294144917, 0.027150738532708524, 0.05858843578110787, 0.022863779817017704, 0.0014289862385636065, 0.5272959220299708, 0.031330100029802015, 0.00399305196458261, 0.06777949745009455, 0.041875852654212495, 0.10085015859266334, 0.0003071578434294315, 0.06736995365885531, 0.020374803614152292, 0.041671080758592875, 0.08600419616024083, 0.005324069286110147, 0.11180545500831307, 0.02569887290026244, 0.007883717981355409, 0.31115089539401414, 0.04197823860202231, 0.0003071578434294315, 0.021193891196630774, 0.004504981703631662, 0.008600419616024082, 0.0037035438443511343, 0.0018517719221755671, 0.992549750286104, 0.0022565484188695286, 0.015513770379728009, 0.0002820685523586911, 0.0008462056570760732, 0.0002820685523586911, 0.014385496170293244, 0.0053593024948151305, 0.003666891180662984, 0.0022565484188695286, 0.9325186340978328, 0.0008462056570760732, 0.0022565484188695286, 0.0028206855235869107, 0.0005641371047173822, 0.0022565484188695286, 0.013257221960858481, 0.003642649514118937, 0.018213247570594684, 0.008195961406767607, 0.0018213247570594685, 0.010017286163827077, 0.03642649514118937, 0.0027319871355892026, 0.7868122950496904, 0.05372908033325432, 0.030962520870010963, 0.004553311892648671, 0.0018213247570594685, 0.037337157519719104, 0.0009106623785297343, 0.00037037558305021183, 0.029630046644016948, 0.005926009328803389, 0.5059330464465894, 0.04444506996602542, 0.005926009328803389, 0.02037065706776165, 0.14000197039298007, 0.006296384911853602, 0.005555633745753178, 0.004444506996602542, 0.0051852581627029656, 0.0011111267491506354, 0.06222309795243559, 0.018148403569460382, 0.0018518779152510592, 0.05518596187448156, 0.08000112593884576, 0.0011111267491506354, 0.006666760494903813, 0.019600676464041514, 0.00893790846760293, 0.0003136108234246642, 0.006742632703630281, 0.004233746116232967, 0.0003136108234246642, 0.44736583961528353, 0.002665691999109646, 0.2899332062561021, 0.13203015666178364, 0.0029793028225343103, 0.052216202100206596, 0.0010976378819863247, 0.0018816649405479853, 0.014582903289246886, 0.008467492232465934, 0.004547356939657631, 0.0010976378819863247, 0.0009408324702739927, 0.9926351556347618, 0.001059237580654262, 0.006590811612959852, 0.13181623225919706, 0.016477029032399632, 0.05431534927466022, 0.007650049193614115, 0.07956051161358679, 0.008415054112975526, 0.3783832024226058, 0.0005884653225857011, 0.007002737338769843, 0.01571202411303822, 0.00047077225806856093, 0.059023071855345825, 0.011945846048489733, 0.04707722580685609, 0.001588856370981393, 0.09386021895241933, 0.0018242425000156736, 0.07667703153291686, 0.0010355369613558954, 0.009837601132881006, 0.811860977703022, 0.02019297074643996, 0.0005177684806779477, 0.0005177684806779477, 0.0015533054420338432, 0.010355369613558953, 0.009319832652203059, 0.0046599163261015295, 0.0025888424033897383, 0.12322889840135155, 0.0031066108840676863, 0.0015533054420338432, 0.0005177684806779477, 0.00016161368619893436, 0.017615891795683847, 0.7974019277055422, 0.14367456703085266, 0.00016161368619893436, 0.005494865330763769, 0.0008080684309946718, 0.00016161368619893436, 0.0003232273723978687, 0.0003232273723978687, 0.02779755402621671, 0.0006464547447957374, 0.005171637958365899, 0.0012255477812652218, 0.42134332719898326, 0.022550079175280083, 0.0524534450381515, 0.016422340268953974, 0.011275039587640041, 0.00024510955625304436, 0.0009804382250121774, 0.037256652550462746, 0.0004902191125060887, 0.018873435831484417, 0.017892997606472238, 0.0029413146750365323, 0.0017157668937713105, 0.0036766433437956654, 0.03284468053790795, 0.0014706573375182662, 0.3107989173288603, 0.01004949180637482, 0.03603110476919752, 0.001928789913022682, 0.5954700495113662, 0.19480778121529088, 0.00508499158887798, 0.00017534453754751653, 0.06014317637879817, 0.0007013781501900661, 0.003331546213402814, 0.030509949533267876, 0.0015781008379276487, 0.0212166890432495, 0.006663092426805628, 0.0008767226877375826, 0.002630168063212748, 0.004734302513782946, 0.007890504189638244, 0.01613169745437152, 0.030509949533267876, 0.00403292436359288, 0.011748084015683608, 0.0019473648058665443, 0.014744333530132409, 0.0008345849167999476, 0.5753072026474305, 0.007511264251199528, 0.2233905627301193, 0.0695487430666623, 0.04172924583999738, 0.04757134025759702, 0.0005563899445332984, 0.016413503363732304, 0.9853416924551348, 0.0037182705375665465, 0.009295676343916365, 0.006528977522742549, 0.032644887613712745, 0.0016322443806856372, 0.006528977522742549, 0.0008161221903428186, 0.10283139598319514, 0.7940868912035625, 0.0008161221903428186, 0.0008161221903428186, 0.053864064562626025, 4.6683535504581244e-05, 0.8596773063168637, 0.0027076450592657124, 0.007702783358255905, 0.008683137603852111, 0.0011670883876145311, 0.00023341767752290625, 0.02889710847733579, 0.006862479719173443, 0.0037346828403665, 4.6683535504581244e-05, 0.002801012130274875, 0.02203462875816235, 0.008449719926329206, 0.0034545816273390123, 0.01797316116926378, 0.015545617323025555, 9.336707100916249e-05, 0.009850225991466644, 0.12270183201774956, 0.01008508208365065, 0.05042541041825325, 0.0033616940278835498, 0.21010587674272185, 0.0033616940278835498, 0.01008508208365065, 0.0016808470139417749, 0.5866156078656795, 0.0021152267450151234, 0.0063456802350453706, 0.1269136047009074, 0.010576133725075617, 0.061341575605438584, 0.7593664014604293, 0.033843627920241974, 0.002920854823873217, 0.9901697852930206, 0.002920854823873217, 0.011495854604979117, 0.0019159757674965193, 0.9790636171907214, 0.0019159757674965193, 0.0038319515349930387, 0.14602284067796273, 3.5288265026090556e-05, 0.0005293239753913583, 0.0003881709152869961, 0.7644143969951736, 0.01012773206248799, 7.057653005218111e-05, 0.0017291249862784372, 0.009598408087096631, 0.021419976870836965, 0.044992537908265455, 0.00035288265026090556, 3.5288265026090556e-05, 0.00021172959015654334, 7.057653005218111e-05, 0.0007226365210665857, 0.997961035592955, 0.0007226365210665857, 0.45196910649918337, 0.2892643708643949, 0.02382055327562149, 0.13142731350766812, 0.0013463790981873016, 0.004039137294561904, 0.0005178381146874237, 0.04494834835486838, 0.007456868851498901, 0.0005178381146874237, 0.005178381146874237, 0.001553514344062271, 0.0005178381146874237, 0.00020713524587496947, 0.010667465162560927, 0.0012428114752498168, 0.00010356762293748474, 0.0025891905734371184, 0.021127795079246885, 0.0014499467211247863, 0.0009166769844908719, 0.00229169246122718, 0.01237513929062677, 0.008250092860417847, 0.0009166769844908719, 0.03254203294942595, 0.09991779130950504, 0.02704197104248072, 0.808509100320949, 0.0013750154767363078, 0.005041723414699795, 0.0009166769844908719, 0.9911930342132034, 0.0014139700916022872, 0.005655880366409149, 0.014862740301758612, 0.9735094897651891, 0.6541038782544, 0.0011277653073351723, 0.00022555306146703445, 0.0009022122458681378, 0.010375440827483585, 0.009247675520148413, 0.0013533183688022067, 0.0036088489834725512, 0.01623982042562648, 0.05187720413741793, 0.11999422870046234, 0.0022555306146703445, 0.11052100011884688, 0.002932189799071448, 0.013758736749489102, 0.0011277653073351723, 0.00022555306146703445, 0.0004511061229340689, 0.9780771270586142, 8.942010669762425e-05, 8.942010669762425e-05, 0.007287738695856377, 4.471005334881213e-05, 4.471005334881213e-05, 4.471005334881213e-05, 0.0018778222406501096, 0.00013413016004643638, 4.471005334881213e-05, 0.0012518814937667396, 8.942010669762425e-05, 0.0001788402133952485, 0.010775122857063724, 0.07556537878694639, 0.03409756106034773, 0.04875708256135233, 0.08131579882325207, 0.028833092013025634, 0.0032396732598905208, 0.040981866737615086, 0.024297549449178904, 0.01935704772784586, 0.08204472530672743, 0.019519031390840387, 0.4106285856911235, 0.00939505245368251, 0.033368634576872364, 0.04162980138959319, 0.021867794504261014, 0.0005669428204808411, 0.006074387362294726, 0.01749423560340881, 0.0009719019779671562, 0.1431010293910661, 0.004303790357626048, 0.004303790357626048, 0.006455685536439071, 0.001075947589406512, 0.03335437527160187, 0.004303790357626048, 0.7058216186506718, 0.0365822180398214, 0.006455685536439071, 0.012911371072878142, 0.025822742145756285, 0.0032278427682195356, 0.002151895178813024, 0.008607580715252095, 0.8723913981538424, 0.002183708130547791, 0.004367416261095582, 0.02074522724020401, 0.0676949520469815, 0.0032755621958216858, 0.01856151910965622, 0.002183708130547791, 0.0010918540652738954, 0.0010918540652738954, 0.002183708130547791, 0.0032755621958216858, 0.015451082676269776, 0.028092877593217776, 0.04120288713671941, 0.09434524725055636, 0.025049482520619185, 0.0018728585062145185, 0.01123715103728711, 0.13063188080846266, 0.004916253578813111, 0.0807670230805011, 0.002106965819491333, 0.023176624014404665, 0.017792155809037924, 0.08521506203276058, 0.4031327934626751, 0.006789112085027629, 0.0016387511929377035, 0.002341073132768148, 0.01989912162852926, 0.004682146265536296, 0.04125455118770874, 0.024883697541792572, 0.0019645024375099397, 0.7779429652539361, 0.008512843895876407, 0.01768052193758946, 0.004583839020856527, 0.0006548341458366467, 0.005238673166693173, 0.07203175604203113, 0.015716019500079517, 0.005238673166693173, 0.020299858520936045, 0.0026193365833465866, 0.0013096682916732933, 0.0034885652525708808, 0.04709563090970689, 0.9017941177895727, 0.0017442826262854404, 0.0069771305051417615, 0.03662993515199425, 0.031161361857434854, 0.968126855888942, 0.047825040894587945, 0.1662667437350909, 0.01830802346745945, 0.0029890650559117465, 0.008593562035746271, 0.7495080627698705, 0.0007472662639779366, 0.0003736331319889683, 0.00224179879193381, 0.001120899395966905, 0.0003736331319889683, 0.0003736331319889683, 0.001120899395966905, 0.997808747372506, 0.0007440781113888933, 0.029480711751160352, 0.1715980739170989, 0.02399119990784084, 0.057944847235039315, 0.025617721935491066, 0.007319349124426018, 0.015655274516133428, 0.004269620322581844, 0.5503743911061454, 0.005489511843319514, 0.02744755921659757, 0.014638698248852037, 0.006506088110600905, 0.008539240645163688, 0.010165762672813914, 0.009759132165901359, 0.018501688064521325, 0.002033152534562783, 0.006709403364057184, 0.0038629898156692876, 0.0009654288972049432, 0.00868886007484449, 0.010137003420651904, 0.007723431177639546, 0.006275287831832131, 0.007240716729037074, 0.0033790011402173013, 0.01206786121506179, 0.0004827144486024716, 0.0019308577944098864, 0.7762048333527743, 0.004827144486024716, 0.04151344257981256, 0.007240716729037074, 0.11005889428136352, 0.05705116578894088, 0.0019017055262980293, 0.716942983414357, 0.007606822105192117, 0.0038034110525960586, 0.0969869818411995, 0.0038034110525960586, 0.013311938684086205, 0.05324775473634482, 0.0038034110525960586, 0.02472217184187438, 0.015213644210384234, 0.0014086928314155907, 0.0028173856628311814, 0.9241024974086275, 0.06620856307653276, 0.0014086928314155907, 0.0014086928314155907, 0.0028173856628311814, 0.06958678422011182, 0.8376186989457904, 0.0025772883044485858, 0.015463729826691516, 0.010309153217794343, 0.04123661287117737, 0.0051545766088971715, 0.007731864913345758, 0.0051545766088971715, 0.04268104168085345, 0.8502063502826007, 0.029023108342980348, 0.010243450003404828, 0.0017072416672341381, 0.022194141674043794, 0.0358520750119169, 0.005121725001702414, 0.0001072527062042444, 0.0001072527062042444, 0.0003217581186127332, 0.024239111602159233, 0.0001072527062042444, 0.0229520791277083, 0.018340212760925793, 0.005469888016416464, 0.0002145054124084888, 0.0006435162372254664, 0.0004290108248169776, 0.03335559162952001, 0.0075076894342971075, 0.024989880545588945, 0.0002145054124084888, 0.7927047515555703, 0.0007507689434297107, 0.06746195220246973, 0.0002823082787270365, 0.0008469248361811095, 0.000564616557454073, 0.8133301510125921, 0.03782930934942289, 0.055897039187953225, 0.0002823082787270365, 0.0025407745085433285, 0.0002823082787270365, 0.012421564263989606, 0.000564616557454073, 0.008186940083084059, 0.04996856533468546, 0.011856947706535533, 0.0014115413936351825, 0.0002823082787270365, 0.0036700076234514743, 0.0004766091725385549, 0.0007943486208975915, 0.5047291137183296, 0.0028596550352313296, 0.20859594784770752, 0.0007943486208975915, 0.05576327318701092, 0.0001588697241795183, 0.030185247594108476, 0.07530424926109168, 0.0012709577934361465, 0.0001588697241795183, 0.0001588697241795183, 0.03082072649082655, 0.0451190016669832, 0.0007943486208975915, 0.041941607183392834, 0.0001588697241795183, 0.9029851329165245, 0.02624956781734083, 0.062998962761618, 0.037342401174336716, 0.004870747979261311, 0.010553287288399505, 0.023541948566429667, 0.02273015723655278, 0.04383673181335179, 0.016641722262476143, 0.02394784423136811, 0.0897029419513958, 0.010959182953337948, 0.012582765613091719, 0.14734012637265465, 0.00811791329876885, 0.06291382806545859, 0.09741495958522621, 0.01582993093259926, 0.0028412696545690977, 0.04627210580298245, 0.00040589566493844255, 0.3214693666312465, 0.00024158628052390883, 0.020921371893370507, 0.004880042866582958, 0.05546821000828947, 0.021936034271570922, 4.831725610478177e-05, 0.009276913172118099, 0.8425079946990797, 0.00048317256104781766, 0.0007247588415717265, 0.0001449517683143453, 0.004686773842163832, 9.663451220956354e-05, 0.01778075024655969, 0.009131961403803754, 0.001256248658724326, 0.00033822079273347237, 0.001062979634305199, 0.0014012004270386714, 0.007585809208450737, 0.018591759686892074, 0.09189916446266859, 0.38040859587324766, 0.08130282474475083, 0.0279358047108741, 0.04286701067703095, 0.07446336910864028, 0.0492248145077816, 0.07224777080398474, 0.0077064288857583724, 0.007417437802542433, 0.012137625495069436, 0.012330286217213396, 0.03159635843160933, 0.05259637714530089, 0.004431196609311064, 0.002119267943583552, 0.010596339717917761, 0.015701848854732685, 0.004431196609311064, 0.05780521294355433, 0.014403292261682972, 0.5277366284680641, 0.0009602194841121981, 0.002688614555514155, 0.003648834039626353, 0.11868312823626768, 0.0009602194841121981, 0.04378600847551624, 0.0005761316904673189, 0.0015363511745795171, 0.018436214094954204, 0.008257887563364904, 0.006721536388785387, 0.015939643436262488, 0.17226337544972833, 0.0007681755872897586, 0.004993141317383431, 0.0002632590466836986, 0.03694401955127903, 0.017726109143369036, 0.03080130846199273, 0.006493723151531231, 0.0001755060311224657, 0.0021060723734695887, 0.8734057638809506, 0.0014040482489797257, 0.0003510120622449314, 0.00675698219821493, 8.775301556123286e-05, 0.001140789202296027, 0.01325070534974616, 0.0002632590466836986, 0.0008775301556123285, 0.0002632590466836986, 0.0061427110892863, 0.0016673072956634243, 0.9209401196854955, 0.009058427406742578, 0.06642846764944557, 0.29233153184363103, 0.11678818664940929, 0.02199215431565605, 0.06735507560556152, 0.011160197712422474, 0.021795209650142713, 0.025668454738571687, 0.07510156578241946, 0.041424027979638706, 0.09715936831991329, 0.043262178191096526, 0.04339347463477208, 0.03492485401769856, 0.03059207137640513, 0.04135837975780093, 0.0010503715494044681, 0.003938893310266755, 0.001312964436755585, 0.017331130565173724, 0.012079272818151382, 0.005870262991183251, 0.0014675657477958128, 0.026416183460324632, 0.0454945381816702, 0.8056935955399013, 0.03815670944269113, 0.07484585313758646, 0.05671062225448225, 0.009451770375747041, 0.875233936794176, 0.05671062225448225, 0.07061257248467309, 0.321221385840407, 0.1059561147448524, 0.0338284642012398, 0.0012667046066543537, 0.02352096593140535, 0.01949731600438564, 0.10339786818631518, 0.009612052603435978, 0.09850491117629738, 0.015299804660766312, 0.008469534722924207, 0.053176756134254335, 0.006308685688043251, 0.018926057064129753, 0.0007699577020840189, 0.029506766131477884, 0.0013412166423399038, 0.07739316773205816, 0.0014157286780254541, 0.010492610016348337, 0.9784358840244824, 0.007869457512261252, 0.0026231525040870843, 0.0004038071142390665, 0.024228426854343992, 0.7724830095393342, 0.03472741182455972, 0.14173629709791236, 0.002422842685434399, 0.001615228456956266, 0.0004038071142390665, 0.0012114213427171995, 0.01857512725499706, 0.0020190355711953325, 0.037389938189417146, 0.8635869594716993, 0.05910022488004646, 0.001206127038368295, 0.003618381115104885, 0.001206127038368295, 0.030153175959207378, 0.02063751231456326, 0.030174544520535675, 0.09943528660653207, 0.0007817239513092145, 0.4050893515684349, 0.03846081840441335, 0.13398748525439935, 0.009693376996234258, 0.029549165359488306, 0.04612171312724365, 0.002657861434451329, 0.06394501921709374, 0.008598963464401359, 0.014227375913827701, 0.0028142062247131718, 0.008598963464401359, 0.05346991826955026, 0.02157558105613432, 0.002345171853927643, 0.007973584303353987, 0.0006552681214630962, 0.9278596599917441, 0.0003276340607315481, 0.006225047153899413, 0.0009829021821946443, 0.04128189165217506, 0.020968579886819078, 0.0009829021821946443, 0.0003276340607315481, 0.9952114565843413, 0.6764254145955859, 0.0009902531383612335, 0.00016504218972687227, 0.24038394933718946, 0.00016504218972687227, 8.252109486343614e-05, 0.00016504218972687227, 0.052978542902325995, 0.00033008437945374454, 0.0006601687589074891, 8.252109486343614e-05, 8.252109486343614e-05, 0.013533459557603525, 0.013946065031920706, 0.10062487264280516, 0.0023769654954993347, 0.8945313481395829, 0.001584643663666223, 0.0008125201618629414, 0.019500483884710595, 0.0016250403237258828, 0.9538986700270932, 0.01706292339912177, 0.0032500806474517656, 0.0024375604855888244, 0.0008125201618629414, 0.0184829560768778, 0.00204156363146662, 0.048398668489968676, 0.011187768700437079, 0.30805834156410317, 0.0014154841178168566, 0.18885824633487214, 0.009391192704746452, 0.04371668256180523, 0.040586284993556404, 0.003293722658766147, 0.03658482027588183, 0.01998010273995332, 0.03239280961927037, 0.053870059022299216, 0.0722985734023379, 0.0005716378168106536, 0.01951734831682089, 0.0060702491975607505, 0.0832957961638381, 0.010329362660493462, 0.9864541340771256, 0.0014666627104909947, 0.014666627104909945, 0.07137758524389506, 0.017844396310973766, 0.036911011547356695, 0.00024444378508183245, 0.04204433103407518, 0.0019555502806546596, 0.26839927601985203, 0.0004888875701636649, 0.00024444378508183245, 0.02004439037671026, 0.024933266078346908, 0.004888875701636649, 0.10657749029567894, 0.3339102104217831, 0.0004888875701636649, 0.04717765052079366, 0.0024444378508183245, 0.004399988131472984, 0.006821136478502835, 0.014779129036756142, 0.9742856603461549, 0.0011368560797504724, 0.0011368560797504724, 0.9957280240182906, 0.0022681731754402973, 0.9698057669735484, 0.025521204394040747, 0.002686442567793763, 0.015876473122174536, 0.15579716615218003, 0.02522430309130534, 0.07745344831565522, 0.0026708085626088005, 0.05311941474521948, 0.012018638531739602, 0.015876473122174536, 0.002522430309130534, 0.020031064219566005, 0.05371292775913254, 0.3316253965239261, 0.18428579082000723, 0.006973777913478535, 0.013205664559565736, 0.001483782534782667, 0.006083508392608935, 0.0007418912673913335, 0.017657012163913736, 0.0032643215765218673, 0.049017122380761266, 0.009531107129592467, 0.9394948456312575, 0.00440679817776901, 0.02937865451846007, 0.027909721792537066, 0.02937865451846007, 0.9078004246204161, 0.999647442543899, 0.016901169933315422, 0.0005121566646459219, 0.0015364699939377656, 0.025607833232296096, 0.08655447632516079, 0.0005121566646459219, 0.0020486266585836876, 0.005121566646459219, 0.09679760961807923, 0.6893628706134108, 0.07067761972113722, 0.0005121566646459219, 0.0005121566646459219, 0.0010243133292918438, 0.0015364699939377656, 0.004937662912835622, 0.004937662912835622, 0.8319962008128022, 0.06418961786686309, 0.061720786410445275, 0.029625977477013732, 0.009969800849649647, 0.9630827620761558, 0.02592148220908908, 0.01071124550376924, 0.013091522282384626, 0.9033150374845391, 0.015471799061000012, 0.02142249100753848, 0.0345140132899231, 0.048291109263901996, 0.792834170586117, 0.03936056166030368, 0.006945981469465356, 0.02447631565430649, 0.0003307610223554931, 0.0006615220447109862, 0.011907396804797752, 0.007276742491820849, 0.005953698402398876, 0.023814793609595503, 0.03506066836968227, 0.002315327156488452, 0.0006615220447109862, 0.9958205291949592, 0.13095692131872586, 0.0008184807582420367, 0.01473265364835666, 0.01227721137363055, 0.020462018956050917, 0.009003288340662403, 0.008184807582420366, 0.7865600086705973, 0.016369615164840732, 0.0008184807582420367, 0.9548914915052289, 0.005912640814273863, 0.03251952447850625, 0.0029563204071369315, 0.08045388972784558, 0.9166867435657557, 0.00040422203504174076, 0.008892884770918296, 0.01050977291108526, 0.044666534872112355, 0.0006063330525626112, 0.003031665262813056, 0.00020211101752087038, 0.15400859535090322, 0.037592649258881894, 0.1507748190705693, 0.0008084440700834815, 0.00020211101752087038, 0.5165957607833447, 0.07134518918486725, 0.005069448067615736, 0.000428404062052034, 0.11931053128149147, 0.0004998047390607064, 0.10010374916615862, 0.28231827689229044, 0.11131365545652017, 0.1078864229601039, 0.012637919830535003, 0.007354269731893251, 0.009210687334118731, 0.22412672513022247, 0.001499414217182119, 0.00428404062052034, 0.0022134209872688424, 7.140067700867234e-05, 0.000856808124104068, 7.140067700867234e-05, 0.01071010155130085, 0.005706509495177007, 0.4226383594865471, 0.011769675833802578, 0.005706509495177007, 0.00035665684344856295, 0.5442583431025071, 0.008916421086214075, 0.007383198601722236, 0.9911944122812102, 0.9257889354779811, 0.07249564150832868, 0.0009796708311936308, 0.0032299032663510013, 0.039835473618329016, 0.0010766344221170003, 0.02987660521374676, 0.0018841102387047507, 0.23793620728785708, 0.0002691586055292501, 0.009689709799053004, 0.48125558668629914, 0.08693822958594778, 0.08236253329195053, 0.018302785175989007, 0.007805599560348253, 0.15752507788208983, 0.023700039998097226, 0.01746318736701901, 0.08891969894022944, 0.04775647157511321, 0.03866848631268495, 0.0007127831578375106, 0.024591018945394116, 0.018354166314315898, 0.44834060627979416, 0.03225343789214735, 0.013008292630534568, 0.00908798526242826, 0.011582726314859546, 0.009978964209725149, 0.0012473705262156436, 0.016928599998640877, 0.0026729368418906647, 0.03456998315511926, 0.002494741052431287, 0.0002072858039958996, 0.011193433415778579, 0.0006218574119876988, 0.1502822078970272, 0.1028137587819662, 0.0012437148239753976, 0.07234274559456896, 0.02114315200758176, 0.011193433415778579, 0.0024874296479507952, 0.037933302131249624, 0.357153440284935, 0.0004145716079917992, 0.23070909984743626, 0.35434444286236166, 0.058383015871286345, 0.0024085402587164335, 0.028902483104597202, 0.0018304905966244893, 0.4140762412785292, 0.00289024831045972, 0.006262204672662727, 0.01599270731787712, 0.0038536644139462936, 0.05192812797792631, 0.011753676462536194, 0.0009634161034865734, 0.009634161034865734, 0.0018304905966244893, 0.001734148986275832, 0.01849758918694221, 0.010693918748700964, 0.0030829315311570347, 0.0010597577138352307, 0.000852926715775581, 0.9962184040258786, 0.0021323167894389526, 0.0004264633578877905, 0.005687948614876586, 0.0018959828716255287, 0.0011098436321710413, 0.0005549218160855207, 0.00041619136206414044, 0.09341183904106264, 0.0035145048352082974, 0.000601165300759314, 0.07500693214089287, 0.00041619136206414044, 0.7980238150156524, 0.010358540566929718, 0.0008323827241282809, 9.248696934758677e-05, 0.00804636633324005, 0.000811703687676341, 0.007102407267167984, 0.011668240510347401, 0.12358188644872292, 0.006290703579491643, 0.0021307221801503953, 0.0018263332972717672, 0.25386032832077565, 0.00010146296095954262, 0.03419301784336586, 0.0004058518438381705, 0.03764275851599031, 0.004362907321260333, 0.0247569624741284, 0.4779920090804053, 0.0014204814534335968, 0.0034497406726244494, 0.0004058518438381705, 0.007609722071965697, 0.0005073148047977131, 0.7590895248361227, 0.0030794706889903556, 0.0015397353444951778, 0.23403977236326703, 0.016404863338362087, 0.04101215834590522, 0.9412290340385248, 0.00551002878039386, 0.009642550365689256, 0.00275501439019693, 0.01377507195098465, 0.001377507195098465, 0.00275501439019693, 0.88849214083851, 0.001377507195098465, 0.009642550365689256, 0.06061031658433246, 0.001377507195098465, 0.001377507195098465, 0.9301055796416292, 0.016972729555504183, 0.006789091822201673, 0.04412909684431087, 0.8339064063538266, 0.0017018498088853607, 0.0034036996177707213, 0.020422197706624328, 0.008509249044426802, 0.018720347897738965, 0.09360173948869484, 0.0017018498088853607, 0.013614798471082885, 0.909066489030039, 0.012848996311378641, 0.014455120850300972, 0.009636747233533981, 0.0016061245389223302, 0.0016061245389223302, 0.035334739856291264, 0.014455120850300972, 0.0016061245389223302, 0.002652388206731775, 0.0036651182493020887, 0.06775646237196625, 0.06987837293735166, 0.3442799892337844, 0.0006269281215911468, 0.012683238152190123, 0.16893301614875286, 0.0235821424198516, 0.0007233786018359386, 0.0004822524012239591, 0.021604907574833365, 4.8225240122395905e-05, 0.00318286584807813, 0.21373426422245864, 0.020688628012507843, 4.8225240122395905e-05, 0.01249033719170054, 0.0011574057629375018, 0.031732208000536506, 0.007374460801909467, 0.9678979802506176, 0.01843615200477367, 0.0055308456014321, 6.199046650177587e-05, 0.09261375695365315, 0.035520537305517574, 0.25285911286074375, 0.3174531789555942, 0.0005579141985159828, 0.0007438855980213104, 0.04655484034283368, 0.02733779572728316, 0.0001859713995053276, 0.003223504258092345, 0.0003099523325088794, 0.07550438819916301, 0.019712968347564728, 0.0444471644817733, 0.0002479618660071035, 0.02058083487858959, 0.0045253040546296384, 0.05746516244714623, 0.025726364239891268, 0.6059988020952166, 0.36731531164733644, 0.0014334800083109238, 0.018020891533051614, 0.0008191314333205279, 0.4879975514007045, 0.012901320074798314, 0.00020478285833013196, 0.022116548699654254, 0.17078890384733006, 0.0006143485749903959, 0.0012286971499807918, 0.007167400041554619, 0.04648570884093996, 0.0204782858330132, 0.180004132472186, 0.00942001148318607, 0.014334800083109238, 0.00020478285833013196, 0.005529137174913564, 0.0778652720843758, 0.14997053214091172, 0.030649991009454623, 0.1020825489313523, 0.0959441419527784, 0.03754518788949654, 0.023586618595753145, 0.062098815803792146, 0.12238974462074403, 0.05810464687937762, 0.09131931477714052, 0.02627742713430609, 0.028463709071880356, 0.026866041502114545, 0.017111860549860126, 0.005928187561499453, 0.026866041502114545, 0.006684977462967469, 0.007441767364435484, 0.002774896305382723, 0.02336469205535357, 0.9719711895027084, 0.025519073182920064, 0.940560125884768, 0.010936745649822884, 0.010936745649822884, 0.007291163766548589, 0.005937582863032165, 0.0029687914315160826, 0.053438245767289484, 0.01187516572606433, 0.9203253437699855, 0.0029687914315160826, 0.0011791262480515164, 0.9975408058515828, 0.014893425277522158, 0.0027078955050040287, 0.7365475773610959, 0.0013539477525020144, 0.24371059545036258, 0.0025828607900066384, 0.1306927559743359, 0.0728366742781872, 0.01084801531802788, 0.0025828607900066384, 0.0005165721580013277, 0.0010331443160026554, 0.7764079534759956, 0.0010331443160026554, 0.0005165721580013277, 0.020371148137989358, 0.00100598262409824, 0.00100598262409824, 0.00025149565602456, 0.1413405586858027, 0.7700796987472026, 0.055832035637452315, 0.010059826240982398, 0.010078811783650884, 0.0032910405824166152, 0.0347616161517755, 0.05656476001028558, 0.123002641767821, 0.00946174167444777, 0.11539211042098257, 0.03640713644298381, 0.3683908551942599, 0.0030853505460155767, 0.020363313603702807, 0.05738752015588973, 0.0037024206552186923, 0.11004416947455557, 0.011518642038458154, 0.0024682804368124614, 0.010901571929255038, 0.007816221383239461, 0.01480968262087477, 0.0008227601456041538, 0.015462125464384227, 0.0008835500265362416, 0.004417750132681208, 0.9387719031947567, 0.032249575968572815, 0.0017671000530724832, 0.00574307517248557, 0.0004417750132681208, 0.04266704620470239, 0.034666975041320686, 0.005333380775587798, 0.8373407817672843, 0.008000071163381696, 0.021333523102351194, 0.008000071163381696, 0.008000071163381696, 0.008000071163381696, 0.013333451938969496, 0.002666690387793899, 0.005333380775587798, 0.008000071163381696, 0.002666690387793899, 0.04678980511192049, 0.02516553125182197, 0.03729622146602358, 0.04219370509287516, 0.04076213295579547, 0.17781632860568816, 0.01725421154690788, 0.04648842150411424, 0.037371567367975145, 0.04709118871972674, 0.17193934825346627, 0.035789303426992325, 0.016877482037150063, 0.1192725627893239, 0.014918488586409432, 0.007609936097107841, 0.06374263305102212, 0.005500250842464084, 0.04241974279872985, 0.003616603293675014, 0.0025531153977547158, 0.000729461542215633, 0.002188384626646899, 0.31403319392383, 0.007294615422156331, 0.0036473077110781653, 0.0036473077110781653, 0.02735480783308624, 0.002188384626646899, 0.006565153879940697, 0.0003647307711078165, 0.002917846168862532, 0.618218657027749, 0.0032825769399703487, 0.000729461542215633, 0.0003647307711078165, 0.001458923084431266, 0.0003647307711078165, 0.001458923084431266, 0.08965094305696154, 0.8335114705836424, 0.04603697075898025, 0.007268995382996882, 0.002422998460998961, 0.002422998460998961, 0.016960989226992722, 0.001920685704482084, 0.03457234268067751, 0.9200084524469183, 0.02304822845378501, 0.013444799931374589, 0.001920685704482084, 0.001920685704482084, 0.0018855746480622938, 0.013199022536436057, 0.0037711492961245876, 0.018855746480622937, 0.0018855746480622938, 0.955986346567583, 0.0013217408594946962, 0.0002643481718989393, 0.0015860890313936355, 0.02498090224444976, 0.015200019884189007, 0.009516534188361814, 0.7670062207647722, 0.13798974573124628, 0.0009252186016462874, 0.00013217408594946964, 0.0010573926875957571, 0.0019826112892420444, 0.03515830686255892, 0.0010573926875957571, 0.00039652225784840887, 0.0007930445156968177, 0.00013217408594946964, 0.0002643481718989393, 0.0002643481718989393, 0.17348775584723586, 0.015421133853087632, 0.7768396178492895, 0.017348775584723586, 0.011565850389815724, 0.003855283463271908, 0.025063993330405276, 0.0032213909923091417, 0.001728551264165881, 0.0004714230720452403, 0.011235583217078227, 0.072599153094967, 0.0011785576801131006, 0.002042833312196041, 0.029621083026842597, 0.34091745160071624, 0.1495196843503487, 0.024671140770367573, 0.2407400487911027, 0.0010999871681055607, 0.002985679456286522, 0.002357115360226201, 0.05688505069345899, 0.0028285384322714415, 0.03032821763491046, 0.0005499935840527803, 0.08543611930292246, 0.9113186058978395, 0.0016934420344368953, 0.004233605086092238, 0.038949166792048594, 0.0033868840688737905, 0.11684750037614577, 0.0016934420344368953, 0.6672161615681368, 0.013547536275495162, 0.0033868840688737905, 0.0016934420344368953, 0.1329351997032963, 0.012700815258276715, 0.11840211848565482, 0.013531670684074838, 0.023680423697130967, 0.020297506026112255, 0.767922311321247, 0.05412668273629935, 0.0033829176710187094, 0.06526517791718814, 0.9312226605257333, 0.01251867598708913, 0.001707092180057609, 0.0022761229067434783, 0.0005690307266858696, 0.0011380614533717391, 0.0005690307266858696, 0.016501891073890218, 0.005690307266858696, 0.003983215086801087, 0.29077470133647937, 0.6595066122289228, 0.003414184360115218, 0.006933794194505692, 0.05235014616851798, 0.0013867588389011385, 0.0006933794194505693, 0.010054001582033255, 0.9267015940956858, 0.0006933794194505693, 0.00034668970972528463, 0.006365550953424381, 0.06365550953424381, 0.0031827754767121907, 0.009548326430136572, 0.0031827754767121907, 0.9102737863396866, 0.7318923530101131, 0.02149238163008198, 0.0011513775873258204, 0.0337737425615574, 0.003837925291086068, 0.07906126099637299, 0.005756887936629102, 0.001918962645543034, 0.009978605756823777, 0.03454132761977461, 0.056801294308073805, 0.002302755174651641, 0.003454132761977461, 0.0003837925291086068, 0.001918962645543034, 0.0026865477037602476, 0.0026865477037602476, 0.002302755174651641, 0.004221717820194675, 0.025582081603852617, 0.03794877508059654, 0.04049485903169087, 0.027643197183309938, 0.07856487620519667, 0.017216377193114085, 0.10099466339340868, 0.021096124166210217, 0.22781389257648849, 0.05855993087516974, 0.046556963677153576, 0.09796361107067732, 0.0036372627872776233, 0.012609177662562428, 0.0060621046454627054, 0.09529628502667373, 0.0073957676674645005, 0.06850178249372857, 0.011881725105106903, 0.01442780905620124, 0.9933101818118885, 0.0003604112779196973, 0.9914914255570872, 0.0007208225558393946, 0.0003604112779196973, 0.005045757890875762, 0.001081233833759092, 0.024329011574257438, 0.0001549618571608754, 0.9753299289705498, 0.05574117778795664, 0.9420259046164673, 0.6520749365353669, 0.0041314145926211205, 0.01721422746925467, 0.006541406438316774, 0.00034428454938509334, 0.007918544635857148, 0.0006885690987701867, 0.006885690987701867, 0.04234699957436648, 0.0027542763950807467, 0.08848112919196899, 0.12015530773539758, 0.013771381975403734, 0.0013771381975403734, 0.02995275579650312, 0.0017214227469254668, 0.0027542763950807467, 0.0006885690987701867, 0.013768627135263455, 0.00017539652401609497, 0.9812558536080433, 8.769826200804749e-05, 0.004384913100402375, 0.9954131886711237, 0.0030072906002148753, 0.0813665183535269, 0.9102879240800822, 0.007628111095643147, 0.000808875511676371, 0.0005392503411175806, 0.9045924472247415, 0.09396437193973843, 0.42591482986147106, 0.07202752538537806, 0.0001488172012094588, 0.04330580555195251, 0.04464516036283764, 0.014286451316108045, 0.0004464516036283764, 0.13810236272237777, 0.0004464516036283764, 0.0017858064145135056, 0.016518709334249926, 0.22977375866740438, 0.01235182770038508, 0.0001488172012094588, 0.00017438446224437085, 0.00043596115561092715, 0.3058703467766265, 0.01970544423361391, 0.15040659868576986, 0.09067992036707284, 0.036707929302440066, 0.011160605583639734, 0.003662073707131788, 0.010201491041295696, 0.006539417334163907, 0.001831036853565894, 0.00017438446224437085, 0.3047368477720381, 0.005318726098453312, 0.008457646418851987, 0.021449288856057618, 0.011160605583639734, 0.01142218227700629, 0.8797837600867914, 0.003278697242559471, 0.00364299693617719, 0.11074710685978657, 0.002185798161706314, 0.8191074247406158, 0.02203635460260187, 0.04461018126868183, 0.016661633967820926, 0.025261186983470435, 0.04246029301476945, 0.004299776507824755, 0.0002687360317390472, 0.025261186983470435, 0.996247525228277, 0.05353064954196989, 0.006329410134522226, 0.07527958011059414, 0.02666432354543406, 0.20301246335728204, 0.01892089625319942, 0.04760524430965121, 0.017372210794752492, 0.04639322960304057, 0.22738742579022933, 0.01420750572749138, 0.024374962432947296, 0.012995491020880741, 0.03844779985970416, 0.05642601800776197, 0.04369986358835026, 0.025115638086987132, 0.030771706717836782, 0.02255694037303134, 0.00888810784847802, 0.006707501062998396, 0.9893564067922633, 0.001117916843833066, 0.013812680712128123, 0.03225667201596979, 0.3298793158308246, 0.07182593970306624, 0.020150263627104554, 0.08344484171385637, 0.0037375488985758446, 0.005118816969788657, 0.019744008312041962, 0.07320720777427905, 0.026569097605093506, 0.0036562978355633266, 0.059069522810100854, 0.02275029764350514, 0.009912629687527241, 0.0007312595671126653, 0.08571987147820688, 0.0006500085041001469, 0.13690804117609345, 0.0008125106301251837, 0.004234463699713655, 0.9929817375828521, 0.00565802650502657, 0.9929836516321631, 0.00015063850623038875, 0.44845083304786726, 0.050313261080949835, 0.00964086439874488, 0.04835496049995478, 0.017172789710264317, 0.012954911535813431, 0.07742819220241981, 0.1337669935325852, 0.0695949898784396, 0.010996610954818378, 0.020938752366024035, 0.00015063850623038875, 0.010544695436127212, 0.018227259253877037, 0.010845972448587989, 0.020637475353563257, 0.010092779917436045, 0.02033619834110248, 0.00949022589251449, 0.000835003006440691, 0.0011690042090169673, 0.9908145674425239, 0.0030060108231864877, 0.003841013829627179, 0.054410086413891334, 0.0007377638835781876, 0.018812979031243786, 0.07230086059066239, 0.19476966526464154, 0.02139515262376744, 0.04149921845127305, 0.006639874952203689, 0.04518803786916399, 0.04463471495648035, 0.006455433981309142, 0.01733745126408741, 0.29971657770363874, 0.031170524081178427, 0.0011066458253672815, 0.0025821735925236565, 0.0018444097089454691, 0.010328694370094626, 0.006086552039520048, 0.12320656855755734, 0.002067725714977016, 0.9284088460246801, 0.006203177144931048, 0.04548996572949435, 0.014474080004839112, 0.010407475152561727, 0.0012244088414778503, 0.011631883994039577, 0.017141723780689903, 0.1487656742395588, 0.017753928201428827, 0.007958657469606027, 0.014386803887364739, 0.025406483460665392, 0.531393437201387, 0.008570861890344951, 0.017141723780689903, 0.03336514093027142, 0.044078718293202604, 0.04683363818652777, 0.022651563567340226, 0.015305110518473128, 0.005203737576280863, 0.012550190625147964, 0.008264759679975489, 0.00024480463109718666, 0.00073441389329156, 0.028886946469468027, 0.036720694664578, 0.07466541248464194, 0.0009792185243887466, 0.00024480463109718666, 0.005385701884138107, 0.00514089725304092, 0.7407788137000868, 0.08323357457304346, 0.006854529670721227, 0.009057771350595907, 0.00024480463109718666, 0.0004896092621943733, 0.006120115777429666, 0.00073441389329156, 0.0005990650475774688, 0.02156634171278888, 0.002845558975992977, 0.001347896357049305, 0.003294857761676079, 0.0001497662618943672, 0.0011981300951549377, 0.40017545178174924, 0.1013917593024866, 0.001347896357049305, 0.001347896357049305, 0.04073642323526788, 0.0452294110920989, 0.0011981300951549377, 0.37621284987865045, 0.0014976626189436722, 0.05782369837906087, 0.7976719892451138, 0.0013306103679023512, 0.0052935151592637016, 0.00014463156172851642, 0.0011281261814824282, 0.0022851786753105598, 0.0031818943580273614, 0.008128293769142623, 0.016603703286433687, 0.002632294423458999, 0.029331280718543132, 0.0004917473098769559, 0.016227661225939542, 0.014752419296308677, 0.004657136287658229, 0.02050875545310363, 0.0015909471790136807, 0.014116040424703205, 0.002140547113582043, 0.06450794353311456, 0.8751577672659209, 0.001075132392218576, 0.009676191529967184, 0.002150264784437152, 0.019352383059934367, 0.0268783098054644, 0.001075132392218576, 0.014197297473703123, 0.7339572572768948, 0.0008604422711335226, 0.16757113230325352, 0.0049475430590177555, 0.06496339147058096, 0.007743980440201703, 0.00021511056778338066, 0.000645331703350142, 0.004517321923450994, 0.0004692190736214333, 0.00028153144417286, 0.08699321624941374, 0.00018768762944857334, 0.5645643893813086, 0.00018768762944857334, 0.0007507505177942933, 0.00225225155338288, 0.0010322819619671534, 0.013419665505572994, 9.384381472428667e-05, 0.0006569067030700067, 0.00056306288834572, 9.384381472428667e-05, 9.384381472428667e-05, 0.3230104102809947, 0.0052552536245600535, 0.00018768762944857334, 0.9970597490389275, 0.014726836250215512, 0.058907345000862046, 0.7240694489689293, 0.00613618177092313, 0.003681709062553878, 0.011045127187661635, 0.003681709062553878, 0.008590654479292381, 0.08222483573036994, 0.07363418125107755, 0.013499599896030886, 0.7729356461638717, 0.0033316191644994467, 0.01998971498699668, 0.016658095822497235, 0.0033316191644994467, 0.01998971498699668, 0.013326476657997787, 0.14659124323797565, 0.023633996804189445, 0.07090199041256834, 0.07484098987993325, 0.01575599786945963, 0.1536209792272314, 0.07484098987993325, 0.0039389994673649075, 0.011816998402094723, 0.023633996804189445, 0.027572996271554354, 0.011816998402094723, 0.0039389994673649075, 0.027572996271554354, 0.48055793501851873, 0.8048286479618895, 0.00045113713450778555, 0.0018045485380311422, 0.0013534114035233568, 0.00045113713450778555, 0.1154911064339931, 0.005413645614093427, 0.06992625584870676, 0.00045113713450778555, 0.0010330423505954937, 0.0015495635258932405, 0.0005165211752977468, 0.0015495635258932405, 0.8068060758150806, 0.02944170699197157, 0.15805547964111052, 0.013011267885512866, 0.010258884294346684, 0.019016468448057267, 0.051544638161839434, 0.02327015217985955, 0.004003467041696266, 0.050418663056362355, 0.04979312133109731, 0.11047066868180636, 0.008382259118551559, 0.006255417252650416, 0.005129442147173342, 0.02189396038427646, 0.1005871094226187, 0.0345299032346303, 0.23307684683375451, 0.0225195021095415, 0.20843050285831188, 0.0017515168307421166, 0.025772319080919717, 0.007987175580768802, 0.8892388813255934, 0.013311959301281338, 0.07454697208717549, 0.013311959301281338, 0.002668052310787336, 0.016008313864724018, 0.0004446753851312227, 0.002668052310787336, 0.0008893507702624454, 0.7826286778309519, 0.06714598315481463, 0.12673248476239846, 0.0004446753851312227, 0.9900392620797058, 0.009480540129354228, 0.0652170435434625, 0.040372455526905354, 0.8944051685960571, 0.04099425957461223, 0.0064727778275703515, 0.8802977845495679, 0.0021575926091901175, 0.01726074087352094, 0.02373351870109129, 0.010787963045950586, 0.0021575926091901175, 0.015103148264330821, 0.0021575926091901175, 0.05704761529843676, 0.003641337146708729, 0.058261394347339665, 0.8787760314057066, 0.0007441780852988661, 0.14817412542839645, 8.268645392209624e-05, 0.025715487169771928, 0.08657271725643476, 0.0011576103549093472, 0.04688321937382856, 0.003059398795117561, 0.1427995059234602, 0.06110528944842912, 0.0019844748941303097, 0.26476202545855215, 0.0002480593617662887, 0.03051130149725351, 0.1337866824459517, 0.027121156886447565, 0.004465068511793196, 0.007276407945144468, 8.268645392209624e-05, 0.013477891989301686, 0.0022193158285538353, 0.0025892017999794743, 0.011836351085620454, 0.001849429857128196, 0.08988229105643032, 0.0007397719428512783, 0.06805901874231761, 0.007027833457087145, 0.0022193158285538353, 0.01368578094274865, 0.015905096771302484, 0.008507377342789701, 0.0007397719428512783, 0.0011096579142769176, 0.7675133907082013, 0.0003698859714256392, 0.0007397719428512783, 0.0044386316571076705, 0.5680473271906884, 0.1331560472328427, 0.0003360829056861249, 0.013913832295405573, 0.0012771150416072748, 0.2030612916155567, 0.00013443316227444997, 0.0016131979472933996, 0.009007021872388148, 0.06230977071420756, 0.0009410321359211498, 6.721658113722499e-05, 0.0016804145284306246, 0.0016804145284306246, 0.0023525803398028746, 0.00026886632454889995, 6.721658113722499e-05, 0.00213816748673975, 0.014967172407178249, 0.040625182248055246, 0.076974029522631, 0.016036256150548125, 0.0032072512301096244, 0.001069083743369875, 0.00213816748673975, 0.0032072512301096244, 0.8392307385453518, 0.001069083743369875, 0.006336608550253624, 0.08110858944324639, 0.8807885884852538, 0.0038019651301521747, 0.021544469070862323, 0.0012673217100507249, 0.0012673217100507249, 0.0038019651301521747, 0.019696920277442204, 0.007175306672496802, 0.06204529887394294, 0.004924230069360551, 0.07709937365741662, 0.14027021083292768, 0.03925314826718839, 0.009426383275633055, 0.3136031092744191, 0.0070346143848007865, 0.024621150346802755, 0.015054074783473684, 0.10594129263509985, 0.02870122668998721, 0.04586568578890113, 0.008160152686368913, 0.001547615164656173, 0.08652575693304967, 0.00028138457539203147, 0.00295453804161633, 0.00679112777550923, 0.02664211665776698, 0.0008358311108319053, 0.09403099996858934, 0.016089748883514176, 0.0021940566659337515, 0.004179155554159526, 0.001253746666247858, 0.005328423331553396, 0.011388198885084709, 0.0014627044439558341, 0.14501669772933556, 0.012015072218208639, 0.01305986110674852, 0.15870343216920801, 0.07543375775257945, 0.000626873333123929, 0.00020895777770797632, 0.018806199993717868, 0.40579600430889, 0.9860675830973, 0.01067172708979762, 0.0025228831123405913, 0.040906747607236726, 0.0911842039174528, 0.02432780144042713, 0.09100399798085704, 0.3207665671404466, 0.004324942478298156, 0.06865846184298323, 0.33302057082895803, 0.005766589971064208, 0.010632150259149634, 0.002883294985532104, 0.000360411873191513, 0.000360411873191513, 0.001441647492766052, 0.000720823746383026, 0.001081235619574539, 0.04825219576866543, 0.8933967155955932, 0.019008440757353046, 0.01754625300678743, 0.005848751002262476, 0.001462187750565619, 0.001462187750565619, 0.011697502004524952, 0.9994424585595278, 0.012478012808367902, 0.9870864374619518, 0.9978865055422724, 0.10781696160669293, 0.8892742993320033, 0.0017250713857070868, 0.05890113408402202, 0.02379171329152347, 0.11489400277305664, 0.008024009342796574, 0.03535469618725653, 0.0055712553952168365, 0.029468086713065153, 0.027751158949759335, 0.023511398554657215, 0.012614163158981515, 0.0017519671054140994, 0.02147911671237686, 0.06457750750556371, 0.014821641711803281, 0.011002353422000545, 0.009600779737669264, 0.002592911316012867, 0.01871100868582258, 0.002838186710770841, 0.5127306930704904, 0.9943511015776749, 0.05437102297050425, 0.01641648212482004, 0.0016919494111931517, 0.0032009853725275842, 9.145672492935954e-05, 0.32320806590035667, 0.001829134498587191, 0.04133843966807051, 0.003018071922668865, 0.015913470137708562, 0.14774833912338034, 0.07810404308967306, 0.006676340919843247, 0.003063800285133545, 0.0036125406347097024, 0.00013718508739403933, 0.2247091731514364, 0.00018291344985871908, 0.0746286875423574, 0.00013718508739403933, 0.9950901349285897, 0.0026678019703179345, 0.9970748762103206, 0.043467549795586403, 0.0008523048979526746, 0.1551194914273868, 0.0034092195918106983, 0.016193793061100817, 0.7790066767287446, 0.17239378228313043, 0.826606084280651, 0.9981677354948024, 0.9967682052251939, 0.08222116935447077, 0.004306823156662754, 0.06890917050660407, 0.0007830587557568645, 0.0011745881336352967, 0.001957646889392161, 0.11276046082898848, 0.0007830587557568645, 0.00704752880181178, 0.00039152937787843226, 0.690266293199676, 0.02819011520724712, 0.00783657494204991, 0.9874084426982885, 0.004629086949047358, 0.005207722817678278, 0.007232948357886498, 0.003182497277470059, 0.00014465896715772994, 0.013163966011353424, 0.0011572717372618396, 0.06292665071361253, 0.12484068865712095, 0.0007232948357886497, 0.008245561127990606, 0.008100902160832877, 0.002025225540208219, 0.483160950306818, 0.19673619533451273, 0.0005786358686309198, 0.005207722817678278, 0.03602008282227476, 0.0367433776580634, 0.9577953089923801, 0.001036575009732013, 0.04042642537954851, 0.1292638012359241, 0.012680265270245865, 0.008828032783082565, 0.0912230054251865, 0.040983473405098454, 0.011931220064408558, 0.01503440734573455, 0.019742691496711918, 0.02418345950274739, 0.5276488442833954, 0.01712103327628134, 0.01241274912530397, 0.02423696273173577, 0.014499375055850758, 0.016693007444374304, 0.007757968203314981, 0.0039592389451400594, 0.009095548928024461, 0.010914658713629352, 0.001765606556616513, 0.0009932516483604728, 0.0009932516483604728, 0.9028657483596699, 0.003973006593441891, 0.02681779450573277, 0.010925768131965203, 0.04072331758277939, 0.00993251648360473, 0.004393966711766767, 0.08182278552452169, 0.0237511714149555, 0.0015438261419721073, 0.00011875585707477749, 0.3264598510985633, 0.0026126288556451048, 0.09975491994281309, 0.0011875585707477748, 0.003918943283467657, 0.2137605427345995, 0.006175304567888429, 0.0008312909995234425, 0.006056548710813652, 0.0015438261419721073, 0.1207747066450487, 0.00035626757122433244, 0.10521768936825285, 0.8865371268635099, 0.0034207220329138645, 0.0017103610164569323, 0.019384091519845232, 0.08722841183930355, 0.001140240677637955, 0.8062951404817398, 0.19203365177885712, 0.9953247573091061, 0.9968830655559506, 0.8026536332238619, 0.0021930427137263984, 0.10234199330723193, 0.01169622780654079, 0.07894953769415033, 0.00048514136348913167, 0.002425706817445658, 0.05203141123420937, 0.5801077853921291, 0.012128534087228292, 0.0019405654539565267, 0.3334134020579057, 0.0016979947722119608, 0.006549408407103277, 0.005579125680125014, 0.0015767094313396779, 0.00012128534087228292, 0.0007277120452336975, 0.00012128534087228292, 0.0010915680678505462, 0.03478985892269275, 0.0013380714970266442, 0.0013380714970266442, 0.7399535378557343, 0.0013380714970266442, 0.0013380714970266442, 0.04014214491079932, 0.1793015806015703, 0.000556052194269722, 0.035031288238992486, 0.9063650766596468, 0.057273376009781364, 0.0022081862890349874, 0.10930522130723186, 0.0011040931445174937, 0.8865867950475473, 0.0282709345385555, 0.006910672887202455, 0.0012564859794913555, 0.09109523351312328, 0.005654186907711099, 0.0006282429897456778, 0.0012564859794913555, 0.006910672887202455, 0.01382134577440491, 0.005025943917965422, 0.008167158866693811, 0.0012564859794913555, 0.0006282429897456778, 0.005025943917965422, 0.045861738251434477, 0.0006282429897456778, 0.7771365783154034, 0.9987010533185285, 0.9972430036666771, 0.9977524753202262, 0.005171469175044699, 0.003447646116696466, 0.008619115291741164, 0.001723823058348233, 0.10515320655924221, 0.05688616092549169, 0.029879599678036037, 0.038498714969777206, 0.001723823058348233, 0.0850419375451795, 0.016663622897366254, 0.03160342273638427, 0.0011492153722321553, 0.14824878301794803, 0.0540131224949113, 0.021835092072410953, 0.0028730384305803883, 0.38671097275612026, 0.00972197252112159, 0.8936736279030999, 0.09572403713104334, 0.003927036927070056, 0.9957599721161987, 0.0010279902457129796, 0.004111960982851918, 0.044203580565658124, 0.004111960982851918, 0.0452315708113711, 0.005139951228564898, 0.005139951228564898, 0.010279902457129796, 0.02364377565139853, 0.6219340986563526, 0.09457510260559412, 0.024671765897111512, 0.11307892702842776, 0.06305096054261092, 0.1707909662570458, 0.14630841242932985, 0.02867477194890018, 0.05336693668267533, 0.052947714870556904, 0.004904895201785556, 0.06762047829470173, 0.007210615168436887, 0.05592418973659771, 0.0524446486960148, 0.030896647553127824, 0.08497626131640447, 0.0397841499700384, 0.026872118156790956, 0.013918164162331666, 0.057391466079012195, 0.017565393927761953, 0.016098117585347467, 0.009180957685393478, 0.08601616169381979, 0.06015492595214393, 0.07020210574474743, 0.07707109601111922, 0.08222283871089806, 0.041598400008661954, 0.07009958350196577, 0.0806337439477822, 0.052645171668386725, 0.04493037289906618, 0.06287176538585815, 0.08076189675125928, 0.0227855684582258, 0.05390106914246216, 0.05136364363361587, 0.012507713619363545, 0.014583789035692329, 0.008381193347401391, 0.019299812203649076, 0.0079454738155793, 0.998433513256892, 0.9970656900157717, 0.9948318657928263, 0.001715227354815218, 0.003430454709630436, 0.41346484380590404, 0.047285899214546984, 0.007519859982906393, 0.1259257909001952, 0.04282496532638217, 0.04116804702506381, 0.002166739317108622, 0.0039511128723745455, 0.06869838187773807, 0.07188476322642721, 0.10387603196726627, 0.01147097285528094, 0.014402443696074956, 0.008666957268434488, 0.0031863813486891495, 0.0033138366026367154, 0.015676996235550616, 0.0030589260947415835, 0.010323875569752845, 0.001019642031580528, 0.0027012120881298083, 0.00038588744116140115, 0.05749722873304877, 0.015049610205294646, 0.3349502989280962, 0.00038588744116140115, 0.02315324646968407, 0.0019294372058070058, 0.5255786948618284, 0.00038588744116140115, 0.002315324646968407, 0.021609696705038466, 0.008103636264389424, 0.005016536735098215, 0.027449399665578026, 0.4958419492612168, 0.08153441975921409, 0.013208263008978254, 0.02926475334927646, 0.10904641782767828, 0.01436633346237208, 0.06826355834734969, 0.050516911129125354, 0.01402204224649824, 0.01007834286467061, 0.03708955371004557, 0.014741923879688998, 0.008043894770870643, 0.009358461231479853, 0.00350551056162456, 0.00262913292121842, 0.005133069036664534, 0.0031299201443076427, 0.002848227331319955, 0.08638925457228712, 0.9115555827282711, 0.24099187677753836, 0.7570552896748932, 0.0002704734868434774, 0.0008114204605304321, 0.0002704734868434774, 0.0866847963609559, 0.8781546761783793, 0.030151233516854226, 0.9795118196846744, 0.01599202970913754, 0.955188197907113, 0.040103321286176496, 0.002626789898176576, 0.055490936598980176, 0.7167852934649332, 0.000328348737272072, 0.01608908812633153, 0.004268533584536937, 0.026267898981765764, 0.1490703267215207, 0.006566974745441441, 0.000656697474544144, 0.0016417436863603602, 0.000328348737272072, 0.000328348737272072, 0.017074134338147747, 0.000328348737272072, 0.0016417436863603602, 0.0020109317479515315, 0.2433227415021353, 0.0020109317479515315, 0.032174907967224504, 0.6314325688567809, 0.08647006516191585, 0.030850119243728377, 0.06543964688063594, 0.03552437973520237, 0.0018697041965895986, 0.01262050332697979, 0.006076538638916195, 0.00046742604914739964, 0.0009348520982947993, 0.007478816786358394, 0.044405474669002964, 0.021501598260780384, 0.007946242835505794, 0.007011390737210995, 0.001402278147442199, 0.00046742604914739964, 0.0018697041965895986, 0.0023371302457369982, 0.0023371302457369982, 0.001402278147442199, 0.7488165307341342, 0.0008210883536249211, 0.00738979518262429, 0.005747618475374448, 0.0008210883536249211, 0.9844849359962804, 0.0640469323806888, 0.08429996643946924, 0.08272180794138245, 0.18148822727998057, 0.08166970227599125, 0.040177285097126134, 0.0575370285760808, 0.017425500083041612, 0.04898867004477737, 0.0441226813423431, 0.06496752483790609, 0.009205924572172928, 0.019858494434258744, 0.08522055889668653, 0.0381388303704307, 0.0073647396577383424, 0.012296484964259554, 0.01407191327460719, 0.04004577188895224, 0.0063783905964341, 0.00021593996617187754, 0.0004318799323437551, 0.0025912795940625302, 0.0008637598646875101, 0.011876698139453265, 0.0032390994925781628, 0.0008637598646875101, 0.013388277902656407, 0.00021593996617187754, 0.004534739289609428, 0.9069478579218856, 0.0004318799323437551, 0.05009807215187559, 0.0015115797632031427, 0.0008637598646875101, 0.00021593996617187754, 0.00021593996617187754, 0.0012956397970312651, 0.01288896921050847, 0.0032222423026271175, 0.9118945716434742, 0.061222603749915235, 0.006444484605254235, 7.507451068958397e-05, 0.011411325624816764, 0.03783755338755032, 0.009984909921714668, 0.030480251339971093, 0.01584072175550222, 0.004879843194822958, 0.7608801658389336, 0.00022522353206875194, 0.0011261176603437595, 0.007732674601027149, 0.03791262789823991, 7.507451068958397e-05, 0.0173422119692939, 0.008408345197233406, 0.009309239325508412, 0.0012762666817229275, 0.03596069062031072, 0.004879843194822958, 0.00435432161999587, 0.0008706845944212108, 0.0026120537832636324, 0.02089643026610906, 0.016543007294003004, 0.0243791686437939, 0.8558829563160502, 0.0008706845944212108, 0.01915506107726664, 0.05049970647643023, 0.0008706845944212108, 0.0008706845944212108, 0.005224107566527265, 0.0018662224921267194, 0.003732444984253439, 0.7427565518664343, 0.24820759145285368, 0.0018662224921267194, 0.9860497177593552, 0.013127880857742894, 0.0023144784199142445, 0.09273090587328547, 0.01673254070790462, 0.6274892476810128, 0.04439245493933879, 0.021513266624448798, 0.028115221461581234, 0.06708193190833417, 0.0011762103445465833, 0.006450185760416748, 0.005084264069975554, 0.00538780222340693, 0.0007209031143995188, 0.010813546715992783, 0.04636545293664274, 0.0009485567294730511, 0.005160148608333398, 0.0037942269178922045, 0.012331237483149664, 0.0013659216904411936, 0.00044852998067306996, 0.14599650870908426, 0.009643394584471004, 0.5079602031122518, 0.0807353965211526, 0.008073539652115259, 0.013680164410528634, 0.07602583172408536, 0.00044852998067306996, 0.0047095647970672345, 0.00022426499033653498, 0.00044852998067306996, 0.10495601547749837, 0.00022426499033653498, 0.0047095647970672345, 0.030500038685768758, 0.004036769826057629, 0.006952214700432584, 0.002682536025668811, 0.023136873221393493, 0.037639333610165505, 0.21502202830751563, 0.003772316286096765, 0.0019280727684494578, 0.5312259623332267, 0.02187943445936124, 0.004359121041711818, 0.0005868047556150524, 0.0018442435176473074, 0.017771801170055872, 0.0023472190224602097, 0.013328850877541903, 0.06454852311765576, 0.008466754331017184, 0.0009221217588236537, 0.04141164989626227, 0.005197413549733321, 0.002011902019251608, 0.9534237198361564, 0.03677300462201164, 0.008023201008438903, 0.0013372001680731506, 0.10650762413772556, 0.8612454629593693, 0.012729352960484597, 0.00016113105013271643, 0.004995062554114209, 0.0035448831029197617, 0.0009667863007962986, 0.009506731957830269, 0.00024540071077186487, 0.04319052509584822, 0.003190209240034243, 0.06159557840373808, 0.00024540071077186487, 0.0004908014215437297, 0.0004908014215437297, 0.012760836960136973, 0.0017178049754030542, 0.004908014215437298, 0.7430733522172068, 0.0022086063969467837, 0.05644216347752892, 0.0007362021323155946, 0.06871219901612216, 0.41396052943777945, 0.25610528540652944, 0.006498511817719757, 0.013742754499768011, 0.0062321793661738656, 0.15055773485889257, 0.0008522638449468534, 0.012251292771111017, 0.0060990131404009195, 0.02756540873499979, 0.0327056250498355, 0.006418612082255989, 0.017684474782647206, 0.008203039507613464, 0.004341218960198035, 0.002370358818758436, 0.003808554057106251, 0.0017577941802028852, 0.02554128210325101, 0.0033025223991690568, 0.008835812432187978, 0.18802398479209537, 0.011623300878056804, 0.03450174378282925, 0.0976146897270291, 0.08872628317322095, 0.010045477229451809, 0.10597715506463558, 0.0028926766891091593, 0.052068180403964874, 0.2693344968168728, 0.031240908242378924, 0.0015252295269848296, 0.005837947499838485, 0.060220269255090685, 0.00015778236486049962, 0.022352501688570777, 5.259412162016654e-05, 0.0073631770268233155, 0.0016830118918453292, 0.031610049497826975, 0.01264401979913079, 0.030029547022935626, 0.919852440386765, 0.004741507424674046, 0.7675296872214407, 0.05567572860673663, 0.05169889084911258, 0.12328197048634539, 0.9982944921110608, 0.003827850848862554, 0.009317794829468058, 0.027751918654253513, 0.009317794829468058, 0.10360380521197728, 0.0010073291707533036, 0.15951057418878561, 0.012893813385642286, 0.12480808425633431, 0.003928583765937884, 0.0016620931317429509, 0.015915800897902198, 0.005792142731831496, 0.07806801073338103, 0.025737260312746906, 0.04890583124007289, 0.016872763610117834, 0.3348362163583981, 0.0007051304195273125, 0.015512869229600875, 0.0007442969329686628, 0.00024809897765622094, 0.0012404948882811047, 0.0004961979553124419, 0.9827200504962912, 0.003969583642499535, 0.0012404948882811047, 0.00024809897765622094, 0.0004961979553124419, 0.004465781597811977, 0.003473385687187093, 0.0004961979553124419, 0.009730084717068972, 0.01529013312682267, 0.913237951302045, 0.0027800242048768493, 0.01807015733169952, 0.009730084717068972, 0.006950060512192123, 0.011120096819507397, 0.009730084717068972, 0.00045746702981237385, 0.010717798984175617, 0.008822578432095782, 0.027448021788742432, 0.0014377535222674608, 0.009868217357381208, 0.0033329740743472955, 0.045158531085764335, 0.00895328329775646, 0.0006535243283033913, 0.13861251003314928, 0.001568458387928139, 0.0032022692086866172, 0.008822578432095782, 0.0011763437909461042, 0.009410750327568834, 0.7184846465367484, 0.0005881718954730521, 0.00013070486566067825, 0.0012416962237764434, 0.028642278003763334, 0.9694309478196821, 0.003195080427140941, 0.0007987701067852352, 0.0023963103203557055, 0.010384011388208058, 0.9800909210254837, 0.0023963103203557055, 0.026971775021437078, 0.9709839007717347, 0.0007289668924712723, 0.00036448344623563614, 0.09003924296659088, 0.7428237544743748, 0.14149023894749996, 0.02250981074164772, 0.5167169450088153, 0.0003115881075430042, 0.0023888421578296985, 0.0029081556704013724, 0.00010386270251433473, 0.0010386270251433473, 0.09160690361764323, 0.11352193384816785, 0.00020772540502866945, 0.0004154508100573389, 0.04777684315659397, 0.02793906697635604, 0.022122755635553295, 0.0652257771790022, 0.009347643226290125, 0.0915030409151289, 0.006958801068460426, 0.0011130850414232, 0.996211112073764, 0.00687574999088131, 0.00687574999088131, 0.12217678829950634, 0.03649436533621618, 0.0005289038454524084, 0.8229743835239475, 0.0015867115363572253, 0.0010578076909048169, 0.0005289038454524084, 0.0019147414679774948, 0.9707739242645899, 0.024891639083707433, 0.8947497118765377, 0.10022326049191779, 0.004234785654588076, 0.00020165645974228933, 0.00020165645974228933, 0.19160205462158478, 0.06923299866348918, 0.037900490714693924, 0.14201916833148093, 0.0464065667557758, 0.08398404192460586, 0.010067317846090574, 0.029555922446543984, 0.05399743208357671, 0.05588168943444928, 0.09442821124087095, 0.06594900728053986, 0.015020222882669894, 0.023149447453577256, 0.006675654614519953, 0.0005383592431064478, 0.02869454765757367, 0.0031763195343280422, 0.036608428531238454, 0.0051144128095112545, 0.0022259919492718084, 0.02225991949271808, 0.006677975847815425, 0.9594025301361494, 0.006677975847815425, 0.20060801205779724, 0.04967109339650254, 0.022877557539467974, 0.25845456895939495, 0.03689263783391682, 0.030572111426616363, 0.003709874195589401, 0.013053261058555301, 0.11390687807939309, 0.05509850194190185, 0.08567061336851821, 0.062174743463118666, 0.00893117861901152, 0.017793655864030648, 0.0035724714476046086, 0.0006183123659315668, 0.017450148994068666, 0.0014427288538403228, 0.014427288538403226, 0.003228964577642627, 0.00018351875918499186, 0.0035786158041073413, 0.02908772333082121, 0.09754022050682318, 0.08148232907813639, 0.01082760679191452, 0.004863247118402285, 0.21058777616477817, 0.033950970449223496, 0.0010093531755174553, 0.0007340750367399675, 0.01238751624498695, 9.175937959249593e-05, 0.0055973221551422515, 0.015507335151131812, 0.0011011125551099513, 0.0015599094530724309, 0.15479807337254065, 0.004404450220439805, 0.3307925634309478, 0.0009839386060258722, 0.02656634236269855, 0.04821299169526774, 0.049196930301293615, 0.0019678772120517445, 0.005903631636155234, 0.049196930301293615, 0.023614526544620935, 0.770423928518258, 0.022630587938595063, 0.0009230248734811769, 0.996866863359671, 0.0009230248734811769, 0.9992299347017214, 0.00034444327290648793, 0.001601217576584221, 0.00040030439414605524, 0.03082343834924625, 0.11849010066723234, 0.048436831691672684, 0.07005326897555966, 0.02601978561949359, 0.6112648098610264, 0.038028917443875244, 0.006404870306336884, 0.019614915313156706, 0.010407914247797436, 0.001601217576584221, 0.013610349400965878, 0.002001521970730276, 0.00040030439414605524, 0.00040030439414605524, 0.0008006087882921105, 0.0008006087882921105, 0.0024819467545054387, 0.018200942866373217, 0.004136577924175731, 0.0107551026028569, 0.8910188848674525, 0.0645306156171414, 0.0016546311696702925, 0.00661852467868117, 0.0006954991091839982, 0.7240145726605423, 0.05981292338982385, 0.11475735301535972, 0.10015187172249575, 0.0006954991091839982, 0.028693936728111664, 0.0043040905092167495, 0.05738787345622333, 0.05308378294700658, 0.007173484182027916, 0.01865105887327258, 0.015781665200461415, 0.002869393672811166, 0.7044361466751413, 0.05882257029262891, 0.0043040905092167495, 0.002869393672811166, 0.028693936728111664, 0.001434696836405583, 0.0043040905092167495, 0.001434696836405583, 0.005738787345622332, 0.03475893319067414, 0.09037322629575277, 0.00040892862577263697, 0.00817857251545274, 0.8338054679504068, 0.031487504184493045, 0.019235338078859073, 0.007213251779572153, 0.9425315658640946, 0.019235338078859073, 0.004808834519714768, 0.004808834519714768, 0.0008401921812661585, 0.0001680384362532317, 0.0003360768725064634, 0.0006721537450129268, 0.27608715076405965, 0.7215570452713769, 0.000875617534166229, 0.000875617534166229, 0.000875617534166229, 0.001751235068332458, 0.000875617534166229, 0.007004940273329832, 0.006129322739163603, 0.9815672558003428, 0.00021807543584279092, 0.00010903771792139546, 0.33005717214806407, 0.00010903771792139546, 0.00043615087168558185, 0.06280572552272379, 0.19768538259148996, 0.00010903771792139546, 0.006324187639440936, 0.4009316887969711, 0.00119941489713535, 0.012251429946842965, 0.08576000962790076, 0.8116572339783464, 0.08576000962790076, 0.010998989175084675, 0.007614684813520159, 0.0008460760903911289, 0.0016921521807822578, 0.0021151902259778223, 0.8232320359505684, 0.02961266316368951, 0.022421016395364913, 0.07572381009000603, 0.0008460760903911289, 0.013114179401062498, 0.0025382282711733867, 0.0021151902259778223, 0.005922532632737902, 0.004168444504851279, 0.0001894747502205127, 0.06328456657365124, 0.0034105455039692284, 0.0003789495004410254, 0.09094788010584609, 0.010421111262128198, 0.07484252633710252, 0.01629482851896409, 0.6087823724585073, 0.06593721307673842, 0.003031596003528203, 0.0039789697546307665, 0.04301076830005638, 0.001894747502205127, 0.0009473737511025636, 0.007768464759041021, 0.0003789495004410254, 0.0003789495004410254, 0.0001894747502205127, 0.0002898172788226143, 0.00014490863941130715, 0.00043472591823392147, 0.009563970201146271, 0.17707835736061733, 0.00014490863941130715, 0.24446087468687516, 0.009563970201146271, 0.31908882398369837, 0.027097915569914435, 0.00043472591823392147, 0.1804112560670774, 0.0002898172788226143, 0.010578330677025422, 0.006665797412920129, 0.003767624624693986, 0.0059412542158635935, 0.003767624624693986, 0.9670804838213392, 0.027789669075325835, 0.8227165141689542, 0.0006258779111213041, 0.0015646947778032603, 0.01376931404466869, 0.0015646947778032603, 0.016272825689153905, 0.00031293895556065205, 0.02440923853373086, 0.006258779111213041, 0.00907522971125891, 0.04036912526732411, 0.04537614855629455, 0.00031293895556065205, 0.0018776337333639122, 0.014395191955789994, 0.0006258779111213041, 0.0009388168666819561, 0.06227896156662431, 0.04870019993710273, 0.08700147482881233, 0.10186935939784547, 0.0823319850701372, 0.06860998755844766, 0.032600486781425235, 0.07786302554649718, 0.09507997858308467, 0.061390899097183024, 0.05136438734542658, 0.055861994045500185, 0.009997864575322854, 0.08453781765552361, 0.02306097702903982, 0.00707585257909669, 0.019795198915610577, 0.006502909050424893, 0.013979822099591841, 0.010055158928190033, 0.9752445876627394, 0.01809732224528795, 0.006032440748429316, 0.22305516286330412, 0.04275941635584189, 0.04934772522033717, 0.1757743580710439, 0.04413736330789319, 0.05468726965953596, 0.03220951000419913, 0.04465409341491243, 0.07130875476865475, 0.043103903093854715, 0.08887757840730882, 0.03785048033915914, 0.024673862610168584, 0.007966255816546575, 0.01851616216818934, 0.0012487644252964904, 0.005899335388469627, 0.004219962540657105, 0.024114071660897744, 0.005597909492708405, 0.008486853504452567, 0.021217133761131417, 0.03433318008619448, 0.01928830341921038, 0.0003857660683842076, 0.06750906196723633, 0.03587624435973131, 0.007329555299299945, 0.03240434974427344, 0.005786491025763114, 0.03703354256488393, 0.002700362478689453, 0.042820033590647046, 0.0011572982051526227, 0.010415683846373605, 0.008872619572836775, 0.6588884448002266, 0.004629192820610491, 0.0007715321367684152, 0.10666184292936469, 0.07439612165786132, 0.02445618363891021, 0.07131340943446926, 0.01294739133824658, 0.010995006930098288, 0.020859686044952825, 0.015310804042847148, 0.06597004158058972, 0.13389246756932774, 0.0073985093361409035, 0.3344742762380367, 0.010583978633646015, 0.02178449971197044, 0.051275779982420985, 0.015927346487525557, 0.0009248136670176129, 0.0011303278152437492, 0.010583978633646015, 0.009350893744289197, 0.01479984671890334, 0.0695592795788457, 0.001479984671890334, 0.01775981606268401, 0.004439954015671002, 0.004439954015671002, 0.7962317534769996, 0.07547921826640704, 0.004439954015671002, 0.002959969343780668, 0.001479984671890334, 0.001479984671890334, 0.00739992335945167, 0.06146279931302347, 0.9347467395522319, 0.0025609499713759778, 0.01129898993896384, 0.9733272761707421, 0.01129898993896384, 0.0016141414198519771, 0.0016141414198519771, 0.0035450288608952006, 0.0028360230887161603, 0.018434150076655043, 0.003308693603502187, 0.12667569796265518, 0.02316085522451531, 0.026942219342803525, 0.6312514724967387, 0.006617387207004374, 0.010871421840078615, 0.02316085522451531, 0.011816762869650669, 0.009926080810506561, 0.010871421840078615, 0.005672046177432321, 0.003781364118288214, 0.001890682059144107, 0.07113691247529702, 0.00047267051478602675, 0.008271734008755468, 0.0004541285076373022, 0.005903670599284929, 0.021798168366590504, 0.06494037659213421, 0.7515826801397352, 0.15304130707377084, 0.0004541285076373022, 0.0009082570152746044, 0.0004541285076373022, 0.0234866310779005, 0.945336900885495, 0.026422459962638062, 0.029147894105514983, 0.0052996171100936325, 0.0158988513302809, 0.9486314627067602, 0.0002128264345295147, 0.022985254929187588, 0.0002128264345295147, 0.0006384793035885441, 0.0002128264345295147, 0.00681044590494447, 0.05320660863237867, 0.0002128264345295147, 0.26731000176907044, 0.04916290637631789, 0.0002128264345295147, 0.11577758038405599, 0.17324071770702495, 0.27199218332871977, 0.037883105346253616, 0.04387481794976056, 0.9527103326233721, 0.0006446848931944436, 0.0038681093591666615, 0.010959643184305541, 0.0032234244659722177, 0.00709153382513888, 0.0032234244659722177, 0.6401720989420825, 0.319763707024444, 0.010959643184305541, 0.9930002050051233, 0.972726005038967, 0.0035565850275647787, 0.0017782925137823894, 0.02133951016538867, 0.0025679644611983497, 0.9938022464837614, 0.002773797798680188, 0.9930196119275073, 0.0005352329892445733, 0.002140931956978293, 0.7942857560389467, 0.011239892774136038, 0.0005352329892445733, 0.0010704659784891465, 0.09901810301024605, 0.0005352329892445733, 0.0010704659784891465, 0.024620717505250366, 0.025691183483739513, 0.03907200821485384, 0.0007311162541487221, 0.0014622325082974442, 0.9460644328684463, 0.0014622325082974442, 0.0007311162541487221, 0.04240474274062588, 0.0021933487624461664, 0.004386697524892333, 0.0791954318612482, 0.008671032685538123, 0.02601309805661437, 0.0005780688457025416, 0.1445172114256354, 0.0017342065371076247, 0.007514894994133041, 0.5289329938178255, 0.05549460918744399, 0.0023122753828101663, 0.0034684130742152494, 0.1346900410486922, 0.005202619611322875, 0.0011561376914050831, 0.0026881447300945993, 0.010752578920378397, 0.016128868380567596, 0.9542913791835828, 0.008064434190283798, 0.009408506555331098, 0.997504873136503], \"Term\": [\"'a'\", \"'a'\", \"'a'\", \"'a'\", \"'a'\", \"'a'\", \"'a'\", \"'a'\", \"'a'\", \"'access\", \"'access\", \"'accuracy'\", \"'androidx\", \"'api\", \"'api\", \"'api\", \"'api\", \"'application\", \"'application\", \"'application\", \"'application\", \"'application\", \"'application\", \"'application\", \"'authorization'\", \"'authorization'\", \"'b'\", \"'b'\", \"'b'\", \"'c'\", \"'c'\", \"'c'\", \"'com\", \"'com\", \"'com\", \"'content\", \"'content\", \"'content\", \"'content\", \"'express'\", \"'file\", \"'file\", \"'file\", \"'file\", \"'file\", \"'file\", \"'file\", \"'get'\", \"'get'\", \"'get'\", \"'get'\", \"'http\", \"'http\", \"'http\", \"'http\", \"'http\", \"'http\", \"'http\", \"'http\", \"'https\", \"'https\", \"'https\", \"'https\", \"'https\", \"'https\", \"'https\", \"'https\", \"'https\", \"'https\", \"'https\", \"'https\", \"'https\", \"'https\", \"'https\", \"'junit\", \"'junit\", \"'libs'\", \"'microsoft\", \"'microsoft\", \"'microsoft\", \"'package\", \"'package\", \"'package\", \"'post'\", \"'post'\", \"'post'\", \"'post'\", \"'post'\", \"'proguard\", \"'vue\", \"access\", \"access\", \"access\", \"access\", \"access\", \"access\", \"access\", \"access\", \"access\", \"access\", \"access\", \"access\", \"access\", \"access\", \"access\", \"access\", \"access\", \"access\", \"access\", \"access\", \"account\", \"account\", \"account\", \"account\", \"account\", \"account\", \"account\", \"account\", \"account\", \"account\", \"account\", \"account\", \"account\", \"account\", \"account\", \"account\", \"account\", \"account\", \"account\", \"account\", \"accuracy\", \"accuracy\", \"accuracy\", \"act'\", \"act'\", \"act'\", \"activation\", \"activation\", \"activation\", \"activation\", \"activation\", \"activation\", \"active\", \"active\", \"active\", \"active\", \"active\", \"active\", \"active\", \"active\", \"active\", \"active\", \"active\", \"active\", \"active\", \"active\", \"active\", \"active\", \"active\", \"active\", \"active\", \"activity\", \"activity\", \"activity\", \"activity\", \"activity\", \"activity\", \"activity\", \"activity\", \"activitythread\", \"adb\", \"adb\", \"adb\", \"adb\", \"adb\", \"adb\", \"add\", \"add\", \"add\", \"add\", \"add\", \"add\", \"add\", \"add\", \"add\", \"add\", \"add\", \"add\", \"add\", \"add\", \"add\", \"add\", \"add\", \"add\", \"add\", \"add\", \"admin\", \"admin\", \"admin\", \"admin\", \"admin\", \"admin\", \"admin\", \"admin\", \"admin\", \"admin\", \"admin\", \"admin\", \"admin\", \"admin\", \"admin\", \"admin\", \"admin\", \"aes\", \"aes\", \"aes\", \"aes\", \"aes\", \"airflow\", \"airflow\", \"airflow\", \"airflow\", \"align\", \"align\", \"align\", \"align\", \"align\", \"align\", \"align\", \"align\", \"align\", \"allow\", \"allow\", \"allow\", \"allow\", \"allow\", \"allow\", \"allow\", \"allow\", \"allow\", \"allow\", \"allow\", \"allow\", \"allow\", \"allow\", \"allow\", \"allow\", \"allow\", \"allow\", \"allow\", \"allow\", \"alpine\", \"alpine\", \"alpine\", \"amazon\", \"amazon\", \"amazon\", \"amazon\", \"amazon\", \"amazon\", \"amazon\", \"anaconda\", \"anaconda\", \"anaconda\", \"android\", \"android\", \"android\", \"android\", \"android\", \"android\", \"android\", \"android\", \"android\", \"androidjunitrunner\", \"androidmanifest\", \"androidmanifest\", \"androidmanifest\", \"androidtestimplementation\", \"androidx\", \"androidx\", \"androidx\", \"androidx\", \"angle\", \"angle\", \"angle\", \"angle\", \"angle\", \"angular\", \"angular\", \"angular\", \"angular\", \"angular\", \"angular\", \"angular\", \"angular\", \"angular\", \"angular\", \"angular\", \"annotation\", \"annotation\", \"annotation\", \"annotation\", \"annotation\", \"annotation\", \"annotation\", \"annotation\", \"annotation\", \"ansible\", \"ansible\", \"ansible\", \"apache\", \"apache\", \"apache\", \"apache\", \"apache\", \"apache\", \"apache\", \"apache\", \"apache\", \"apache\", \"apache\", \"api\", \"api\", \"api\", \"api\", \"api\", \"api\", \"api\", \"api\", \"api\", \"api\", \"api\", \"api\", \"api\", \"api\", \"api\", \"api\", \"api\", \"api\", \"api\", \"api\", \"apiversion\", \"apiversion\", \"apiversion\", \"apiversion\", \"apiversion\", \"apk\", \"apk\", \"apk\", \"apk\", \"apk\", \"apk\", \"apk\", \"apollo\", \"app\", \"app\", \"app\", \"app\", \"app\", \"app\", \"app\", \"app\", \"app\", \"app\", \"app\", \"app\", \"app\", \"app\", \"app\", \"app\", \"app\", \"app\", \"app\", \"app\", \"appbar\", \"appbar\", \"appdata\", \"appdata\", \"appdata\", \"apple\", \"apple\", \"apple\", \"apple\", \"apple\", \"apple\", \"apple\", \"apple\", \"apple\", \"apple\", \"apple\", \"apple\", \"apple\", \"apple\", \"application\", \"application\", \"application\", \"application\", \"application\", \"application\", \"application\", \"application\", \"application\", \"application\", \"application\", \"application\", \"application\", \"application\", \"application\", \"application\", \"application\", \"application\", \"application\", \"application\", \"apps\", \"apps\", \"apps\", \"apps\", \"apps\", \"apps\", \"apps\", \"apps\", \"apps\", \"apps\", \"apps\", \"apps\", \"apps\", \"apps\", \"apps\", \"apps\", \"argc\", \"argc\", \"aria\", \"aria\", \"arm\", \"arm\", \"arm\", \"arm\", \"arm\", \"arm\", \"arm\", \"arm\", \"arn\", \"arn\", \"array\", \"array\", \"array\", \"array\", \"array\", \"array\", \"array\", \"array\", \"array\", \"array\", \"array\", \"array\", \"array\", \"array\", \"array\", \"array\", \"array\", \"array\", \"artifactid\", \"artifacts\", \"artifacts\", \"artifacts\", \"artifacts\", \"artifacts\", \"artifacts\", \"asp\", \"asp\", \"asp\", \"asp\", \"asp\", \"asp\", \"aspnet\", \"aspnet\", \"aspnet\", \"aspnet\", \"aspnet\", \"aspnet\", \"aspnetcore\", \"aspnetcore\", \"aspnetcore\", \"aspnetcore\", \"aspnetcore\", \"aspnetcore\", \"assembly\", \"assembly\", \"assembly\", \"assembly\", \"assembly\", \"assembly\", \"assignable\", \"assignable\", \"async\", \"async\", \"async\", \"async\", \"async\", \"async\", \"async\", \"async\", \"async\", \"async\", \"async\", \"async\", \"async\", \"async\", \"async\", \"async\", \"asynchronous\", \"asynchronous\", \"asynchronous\", \"asynchronous\", \"asynchronous\", \"asynchronous\", \"asynchronous\", \"asynchronous\", \"asynchronous\", \"asyncio\", \"asyncio\", \"asyncio\", \"asyncio\", \"asyncio\", \"asyncio\", \"ate'\", \"ate'\", \"ate'\", \"ate'\", \"ate'\", \"attachment\", \"attachment\", \"attachment\", \"attachment\", \"attachment\", \"attachment\", \"attachment\", \"attachment\", \"attachment\", \"audio\", \"audio\", \"audio\", \"audio\", \"auth\", \"auth\", \"auth\", \"auth\", \"auth\", \"auth\", \"auth\", \"auth\", \"auth\", \"auth\", \"auth\", \"auth\", \"auth\", \"authenticate\", \"authenticate\", \"authenticate\", \"authenticate\", \"authenticate\", \"authenticate\", \"authenticate\", \"authenticate\", \"authenticate\", \"authenticate\", \"authenticate\", \"authentication\", \"authentication\", \"authentication\", \"authentication\", \"authentication\", \"authentication\", \"authentication\", \"authentication\", \"authentication\", \"authentication\", \"authentication\", \"authentication\", \"authentication\", \"authorize\", \"authorize\", \"authorize\", \"authorize\", \"autocomplete\", \"autocomplete\", \"autocomplete\", \"autocomplete\", \"autocomplete\", \"autocomplete\", \"autocomplete\", \"autoconfigure\", \"autoconfigure\", \"await\", \"await\", \"await\", \"await\", \"await\", \"await\", \"await\", \"await\", \"await\", \"await\", \"await\", \"await\", \"await\", \"aws\", \"aws\", \"aws\", \"aws\", \"aws\", \"aws\", \"aws\", \"aws\", \"aws\", \"aws\", \"axis\", \"axis\", \"axis\", \"axis\", \"axis\", \"axis\", \"azure\", \"azure\", \"azure\", \"azure\", \"azure\", \"azure\", \"azure\", \"azure\", \"azure\", \"azure\", \"babel\", \"babel\", \"backends\", \"backends\", \"backends\", \"backends\", \"backends\", \"backends\", \"backends\", \"balancer\", \"balancer\", \"balancer\", \"bar\", \"bar\", \"bar\", \"bar\", \"bar\", \"bar\", \"bar\", \"bar\", \"bar\", \"bar\", \"bar\", \"bar\", \"bar\", \"bar\", \"bar\", \"bar\", \"bar\", \"bar\", \"base\", \"base\", \"base\", \"base\", \"base\", \"base\", \"base\", \"base\", \"base\", \"base\", \"base\", \"base\", \"base\", \"base\", \"base\", \"base\", \"base\", \"base\", \"base\", \"base\", \"bat\", \"bat\", \"bat\", \"bat\", \"bat\", \"bat\", \"bat\", \"bat\", \"batch\", \"batch\", \"batch\", \"batch\", \"batch\", \"batch\", \"batch\", \"batch\", \"batch\", \"batch\", \"batch\", \"batch\", \"batch\", \"batch\", \"bean\", \"bean\", \"bean\", \"bean\", \"beautifulsoup\", \"beautifulsoup\", \"bgr\", \"bgr\", \"bigquery\", \"bigquery\", \"bigquery\", \"bigquery\", \"bigquery\", \"bin\", \"bin\", \"bin\", \"bin\", \"bin\", \"bin\", \"bin\", \"bin\", \"bin\", \"bin\", \"bin\", \"bin\", \"bin\", \"bin\", \"bin\", \"blazor\", \"blazor\", \"blazor\", \"blazor\", \"blob\", \"blob\", \"blob\", \"blob\", \"blob\", \"blob\", \"blob\", \"blob\", \"blob\", \"blob\", \"blob\", \"blob\", \"blob\", \"blob\", \"blob\", \"blob\", \"blue\", \"blue\", \"blue\", \"blue\", \"blue\", \"blue\", \"blue\", \"blue\", \"board\", \"board\", \"board\", \"board\", \"board\", \"board\", \"board\", \"board\", \"body\", \"body\", \"body\", \"body\", \"body\", \"body\", \"body\", \"body\", \"body\", \"body\", \"body\", \"body\", \"body\", \"body\", \"body\", \"body\", \"body\", \"body\", \"body\", \"body\", \"boolean\", \"boolean\", \"boolean\", \"boolean\", \"boolean\", \"boolean\", \"boolean\", \"boolean\", \"boolean\", \"boolean\", \"boolean\", \"boolean\", \"boolean\", \"boolean\", \"boolean\", \"boot\", \"boot\", \"boot\", \"boot\", \"boot\", \"boot\", \"boot\", \"bootstrap\", \"bootstrap\", \"bootstrap\", \"bootstrap\", \"bootstrap\", \"bootstrap\", \"bootstrap\", \"bootstrap\", \"bootstrap\", \"bootstrap\", \"bootstrap\", \"bootstrap\", \"border\", \"border\", \"border\", \"border\", \"border\", \"bot\", \"bot\", \"bot\", \"bottom\", \"bottom\", \"bottom\", \"bottom\", \"bottom\", \"bottom\", \"bottom\", \"bottom\", \"bottom\", \"bottom\", \"bottom\", \"bottom\", \"bottom\", \"bottom\", \"bottom\", \"bottom\", \"bottom\", \"branch\", \"branch\", \"branch\", \"branch\", \"branch\", \"branch\", \"branch\", \"branch\", \"branch\", \"branch\", \"branch\", \"branch\", \"break\", \"break\", \"break\", \"break\", \"break\", \"break\", \"break\", \"break\", \"break\", \"break\", \"break\", \"break\", \"break\", \"break\", \"break\", \"break\", \"break\", \"break\", \"break\", \"break\", \"breakpoint\", \"breakpoint\", \"breakpoint\", \"breakpoint\", \"breakpoint\", \"breakpoint\", \"breakpoint\", \"breakpoint\", \"breakpoint\", \"browser\", \"browser\", \"browser\", \"browser\", \"browser\", \"browser\", \"browser\", \"browser\", \"browser\", \"browser\", \"browser\", \"browser\", \"browser\", \"browser\", \"browser\", \"browser\", \"browser\", \"btn\", \"btn\", \"btn\", \"btn\", \"bucket\", \"bucket\", \"bucket\", \"bucket\", \"bucket\", \"bucket\", \"bucket\", \"buffer\", \"buffer\", \"buffer\", \"buffer\", \"buffer\", \"buffer\", \"buffer\", \"buffer\", \"buffer\", \"buffer\", \"buffer\", \"buffer\", \"buffer\", \"buffer\", \"buffer\", \"buffer\", \"buffer\", \"buffer\", \"build\", \"build\", \"build\", \"build\", \"build\", \"build\", \"build\", \"build\", \"build\", \"build\", \"build\", \"build\", \"build\", \"build\", \"build\", \"build\", \"build\", \"build\", \"build\", \"build\", \"buildcontext\", \"buildcontext\", \"builder\", \"builder\", \"builder\", \"builder\", \"builder\", \"builder\", \"builder\", \"builder\", \"builder\", \"builder\", \"builder\", \"builder\", \"builder\", \"builder\", \"builder\", \"buildtypes\", \"buildtypes\", \"buildtypes\", \"bundle\", \"bundle\", \"bundle\", \"bundle\", \"bundle\", \"bundle\", \"bundle\", \"bundle\", \"bundle\", \"bundle\", \"bundle\", \"bundle\", \"bundle\", \"bundle\", \"button\", \"button\", \"button\", \"button\", \"button\", \"button\", \"button\", \"button\", \"button\", \"button\", \"button\", \"button\", \"button\", \"button\", \"bytes\", \"bytes\", \"bytes\", \"bytes\", \"bytes\", \"bytes\", \"bytes\", \"bytes\", \"bytes\", \"bytes\", \"bytes\", \"bytes\", \"bytes\", \"bytes\", \"bytes\", \"bytes\", \"call\", \"call\", \"call\", \"call\", \"call\", \"call\", \"call\", \"call\", \"call\", \"call\", \"call\", \"call\", \"call\", \"call\", \"call\", \"call\", \"call\", \"call\", \"call\", \"call\", \"camera\", \"camera\", \"camera\", \"camera\", \"camera\", \"camera\", \"camera\", \"camera\", \"cancellationtoken\", \"cancellationtoken\", \"cancellationtoken\", \"cancellationtoken\", \"cancellationtoken\", \"cap\", \"cap\", \"cap\", \"cap\", \"cap\", \"cap\", \"cap\", \"cap\", \"cap\", \"capture\", \"capture\", \"capture\", \"capture\", \"capture\", \"capture\", \"capture\", \"capture\", \"capture\", \"capture\", \"capture\", \"capture\", \"capture\", \"capture\", \"capture\", \"capture\", \"card\", \"card\", \"card\", \"card\", \"card\", \"card\", \"card\", \"card\", \"card\", \"card\", \"card\", \"card\", \"cascade\", \"cascade\", \"cascade\", \"cascade\", \"cascade\", \"cascade\", \"case\", \"case\", \"case\", \"case\", \"case\", \"case\", \"case\", \"case\", \"case\", \"case\", \"case\", \"case\", \"case\", \"case\", \"case\", \"case\", \"case\", \"case\", \"case\", \"case\", \"catalina\", \"catalina\", \"catalina\", \"catalina\", \"catalina\", \"catalina\", \"catalina\", \"catch\", \"catch\", \"catch\", \"catch\", \"catch\", \"catch\", \"catch\", \"catch\", \"catch\", \"catch\", \"catch\", \"catch\", \"catch\", \"catch\", \"catch\", \"catch\", \"catch\", \"catch\", \"catch\", \"cdnjs\", \"cdnjs\", \"cdnjs\", \"cell\", \"cell\", \"cell\", \"cell\", \"cell\", \"cell\", \"cells\", \"cells\", \"cells\", \"cells\", \"certificate\", \"certificate\", \"certificate\", \"certificate\", \"certificate\", \"certificate\", \"certificate\", \"certificate\", \"certificate\", \"change\", \"change\", \"change\", \"change\", \"change\", \"change\", \"change\", \"change\", \"change\", \"change\", \"change\", \"change\", \"change\", \"change\", \"change\", \"change\", \"change\", \"change\", \"change\", \"change\", \"channel\", \"channel\", \"channel\", \"channel\", \"channel\", \"channel\", \"channel\", \"channel\", \"channel\", \"channel\", \"channel\", \"channel\", \"channel\", \"channel\", \"channel\", \"channel\", \"char\", \"char\", \"char\", \"char\", \"char\", \"char\", \"char\", \"char\", \"char\", \"char\", \"char\", \"character\", \"character\", \"character\", \"character\", \"character\", \"character\", \"character\", \"character\", \"character\", \"character\", \"character\", \"character\", \"character\", \"character\", \"character\", \"character\", \"character\", \"charfield\", \"charfield\", \"charfield\", \"charfield\", \"chart\", \"chart\", \"chart\", \"chart\", \"chart\", \"chat\", \"chat\", \"chat\", \"chat\", \"chat\", \"chat\", \"chat\", \"chat\", \"chat\", \"chat\", \"checkbox\", \"checkbox\", \"checkbox\", \"checkbox\", \"child\", \"child\", \"child\", \"child\", \"child\", \"child\", \"child\", \"child\", \"child\", \"child\", \"child\", \"child\", \"child\", \"child\", \"child\", \"child\", \"child\", \"children\", \"children\", \"children\", \"children\", \"children\", \"children\", \"children\", \"children\", \"children\", \"chmod\", \"chmod\", \"chrome\", \"chrome\", \"chrome\", \"chrome\", \"chrome\", \"chrome\", \"chrome\", \"chrome\", \"chrome\", \"chrome\", \"chrome\", \"chrome\", \"chrome\", \"chromedriver\", \"chromedriver\", \"cipher\", \"cipher\", \"cipher\", \"circle\", \"circle\", \"circle\", \"circle\", \"circle\", \"circle\", \"circle\", \"circular\", \"circular\", \"circular\", \"circular\", \"circular\", \"circular\", \"circular\", \"circular\", \"cjs\", \"claim\", \"claim\", \"claim\", \"claim\", \"claim\", \"claim\", \"claim\", \"clang\", \"clang\", \"clang\", \"clang\", \"class\", \"class\", \"class\", \"class\", \"class\", \"class\", \"class\", \"class\", \"class\", \"class\", \"class\", \"class\", \"class\", \"class\", \"class\", \"class\", \"class\", \"class\", \"class\", \"class\", \"classification\", \"classification\", \"classloader\", \"classloader\", \"classname\", \"classname\", \"classname\", \"classname\", \"classname\", \"classname\", \"classname\", \"classnotfoundexception\", \"classnotfoundexception\", \"classnotfoundexception\", \"click\", \"click\", \"click\", \"click\", \"click\", \"click\", \"click\", \"click\", \"click\", \"click\", \"click\", \"click\", \"click\", \"click\", \"click\", \"click\", \"click\", \"click\", \"client\", \"client\", \"client\", \"client\", \"client\", \"client\", \"client\", \"client\", \"client\", \"client\", \"client\", \"client\", \"client\", \"client\", \"client\", \"client\", \"client\", \"clientid\", \"clientid\", \"clientid\", \"clientid\", \"clientid\", \"clock\", \"clock\", \"clock\", \"clock\", \"clock\", \"clock\", \"clock\", \"close\", \"close\", \"close\", \"close\", \"close\", \"close\", \"close\", \"close\", \"close\", \"close\", \"close\", \"close\", \"close\", \"close\", \"close\", \"close\", \"close\", \"close\", \"close\", \"close\", \"closure\", \"closure\", \"closure\", \"closure\", \"closure\", \"closure\", \"closure\", \"closure\", \"closure\", \"cloud\", \"cloud\", \"cloud\", \"cloud\", \"cloud\", \"cloud\", \"cloud\", \"cloud\", \"cloud\", \"cloud\", \"cloud\", \"cloud\", \"cloud\", \"cloud\", \"cloud\", \"cloud\", \"cluster\", \"cluster\", \"cluster\", \"cluster\", \"cluster\", \"cluster\", \"cluster\", \"cluster\", \"cluster\", \"cmake\", \"cmake\", \"cmake\", \"cnn\", \"code\", \"code\", \"code\", \"code\", \"code\", \"code\", \"code\", \"code\", \"code\", \"code\", \"code\", \"code\", \"code\", \"code\", \"code\", \"code\", \"code\", \"code\", \"code\", \"code\", \"col\", \"col\", \"col\", \"col\", \"collection\", \"collection\", \"collection\", \"collection\", \"collection\", \"collection\", \"collection\", \"collection\", \"collection\", \"collection\", \"collection\", \"collection\", \"collection\", \"collection\", \"collection\", \"collection\", \"collection\", \"collection\", \"color\", \"color\", \"color\", \"color\", \"color\", \"color\", \"color\", \"color\", \"color\", \"color\", \"color\", \"color\", \"color\", \"color\", \"color\", \"colour\", \"colour\", \"colour\", \"colour\", \"colour\", \"colour\", \"column\", \"column\", \"column\", \"column\", \"column\", \"column\", \"column\", \"column\", \"column\", \"column\", \"column\", \"column\", \"column\", \"column\", \"columns\", \"columns\", \"columns\", \"columns\", \"columns\", \"columns\", \"com\", \"com\", \"com\", \"com\", \"com\", \"com\", \"com\", \"com\", \"com\", \"com\", \"com\", \"com\", \"com\", \"com\", \"com\", \"com\", \"com\", \"com\", \"com\", \"com\", \"comma\", \"comma\", \"comma\", \"comma\", \"comma\", \"comma\", \"command\", \"command\", \"command\", \"command\", \"command\", \"command\", \"command\", \"command\", \"command\", \"command\", \"command\", \"command\", \"command\", \"command\", \"command\", \"command\", \"command\", \"command\", \"command\", \"commonjs\", \"compile\", \"compile\", \"compile\", \"compile\", \"compile\", \"compile\", \"compile\", \"compile\", \"compile\", \"compile\", \"compile\", \"compile\", \"compile\", \"compile\", \"compile\", \"compile\", \"compile\", \"compiler\", \"compiler\", \"compiler\", \"compiler\", \"compiler\", \"compiler\", \"compiler\", \"compiler\", \"compiler\", \"compiler\", \"compiler\", \"compileroptions\", \"compilesdkversion\", \"compilesdkversion\", \"component\", \"component\", \"component\", \"component\", \"component\", \"component\", \"component\", \"component\", \"component\", \"component\", \"component\", \"component\", \"component\", \"component\", \"component\", \"component\", \"component\", \"component\", \"component'\", \"componentdidmount\", \"componentdidmount\", \"componentdidmount\", \"componentdidmount\", \"components\", \"components\", \"components\", \"components\", \"components\", \"components\", \"components\", \"components\", \"components\", \"components\", \"components\", \"components\", \"components\", \"components\", \"components\", \"components\", \"components\", \"components\", \"components\", \"components\", \"compose\", \"compose\", \"compose\", \"compose\", \"compose\", \"compose\", \"compose\", \"compose\", \"compose\", \"compose\", \"compose\", \"compose\", \"compose\", \"compose\", \"compress\", \"compress\", \"compress\", \"compress\", \"compress\", \"compress\", \"compress\", \"compress\", \"compress\", \"concurrent\", \"concurrent\", \"concurrent\", \"concurrent\", \"concurrent\", \"concurrent\", \"concurrent\", \"concurrent\", \"conda\", \"conda\", \"conda\", \"condition\", \"condition\", \"condition\", \"condition\", \"condition\", \"condition\", \"condition\", \"condition\", \"condition\", \"condition\", \"condition\", \"condition\", \"condition\", \"condition\", \"condition\", \"condition\", \"condition\", \"conditional\", \"conditional\", \"conditional\", \"conditional\", \"conditional\", \"conditional\", \"conditional\", \"conditional\", \"conditional\", \"conditional\", \"conditional\", \"conf\", \"conf\", \"conf\", \"conf\", \"conf\", \"conf\", \"conf\", \"conf\", \"conf\", \"conf\", \"conf\", \"config\", \"config\", \"config\", \"config\", \"config\", \"config\", \"config\", \"config\", \"config\", \"config\", \"config\", \"config\", \"config\", \"config\", \"config\", \"config\", \"config\", \"config\", \"config\", \"config\", \"configuration\", \"configuration\", \"configuration\", \"configuration\", \"configuration\", \"configuration\", \"configuration\", \"configuration\", \"configuration\", \"configuration\", \"configuration\", \"configuration\", \"configuration\", \"configuration\", \"configuration\", \"configuration\", \"configuration\", \"configuration\", \"configuration\", \"conn\", \"conn\", \"conn\", \"conn\", \"conn\", \"conn\", \"conn\", \"conn\", \"conn\", \"connect\", \"connect\", \"connect\", \"connect\", \"connect\", \"connect\", \"connect\", \"connect\", \"connect\", \"connect\", \"connect\", \"connect\", \"connect\", \"connect\", \"connect\", \"connect\", \"connect\", \"connect\", \"connect\", \"connect\", \"connection\", \"connection\", \"connection\", \"connection\", \"connection\", \"connection\", \"connection\", \"connection\", \"connection\", \"connection\", \"connection\", \"connection\", \"connection\", \"connection\", \"connection\", \"connection\", \"connection\", \"connections\", \"connections\", \"connections\", \"connections\", \"connections\", \"connections\", \"connections\", \"connections\", \"connections\", \"connections\", \"connections\", \"connections\", \"connections\", \"console\", \"console\", \"console\", \"console\", \"console\", \"console\", \"console\", \"console\", \"console\", \"console\", \"console\", \"console\", \"console\", \"console\", \"console\", \"console\", \"console\", \"console\", \"console\", \"console\", \"const\", \"const\", \"const\", \"const\", \"const\", \"const\", \"const\", \"const\", \"const\", \"const\", \"const\", \"const\", \"const\", \"const\", \"const\", \"const\", \"constraintend\", \"constraintlayout\", \"constraintlayout\", \"constraintstart\", \"constrainttop\", \"consumer\", \"consumer\", \"consumer\", \"consumer\", \"consumer\", \"container\", \"container\", \"container\", \"container\", \"container\", \"container\", \"container\", \"container\", \"container\", \"container\", \"container\", \"container\", \"container\", \"container\", \"container\", \"container\", \"container\", \"container\", \"container\", \"container\", \"containers\", \"containers\", \"containers\", \"containers\", \"containers\", \"containers\", \"containers\", \"containers\", \"containers\", \"content\", \"content\", \"content\", \"content\", \"content\", \"content\", \"content\", \"content\", \"content\", \"content\", \"content\", \"content\", \"content\", \"content\", \"content\", \"content\", \"content\", \"content\", \"content\", \"content\", \"context\", \"context\", \"context\", \"context\", \"context\", \"context\", \"context\", \"context\", \"context\", \"context\", \"context\", \"context\", \"context\", \"context\", \"context\", \"context\", \"context\", \"context\", \"context\", \"context\", \"conv\", \"coordinate\", \"coordinate\", \"coordinate\", \"coordinate\", \"cordova\", \"cordova\", \"cordova\", \"core\", \"core\", \"core\", \"core\", \"core\", \"core\", \"core\", \"core\", \"core\", \"core\", \"core\", \"core\", \"core\", \"core\", \"core\", \"core\", \"core\", \"core\", \"core\", \"core\", \"coroutines\", \"coroutines\", \"coroutines\", \"coroutines\", \"coroutines\", \"coroutines\", \"coroutines\", \"cors\", \"cors\", \"cors\", \"cors\", \"cors\", \"count\", \"count\", \"count\", \"count\", \"count\", \"count\", \"count\", \"count\", \"count\", \"count\", \"count\", \"count\", \"count\", \"count\", \"count\", \"count\", \"count\", \"count\", \"count\", \"counter\", \"counter\", \"counter\", \"counter\", \"counter\", \"counter\", \"counter\", \"counter\", \"counter\", \"counter\", \"counter\", \"counter\", \"cout\", \"cout\", \"coverage\", \"coverage\", \"coverage\", \"coverage\", \"coverage\", \"coverage\", \"cpp\", \"cpp\", \"cpp\", \"cpp\", \"cpp\", \"cpp\", \"cpp\", \"create\", \"create\", \"create\", \"create\", \"create\", \"create\", \"create\", \"create\", \"create\", \"create\", \"create\", \"create\", \"create\", \"create\", \"create\", \"create\", \"create\", \"create\", \"create\", \"create\", \"createdat\", \"createdat\", \"createdat\", \"createdat\", \"createstate\", \"createstate\", \"credential\", \"credential\", \"credential\", \"credential\", \"credential\", \"credential\", \"credential\", \"credentials\", \"credentials\", \"credentials\", \"credentials\", \"credentials\", \"credentials\", \"credentials\", \"credentials\", \"credentials\", \"credentials\", \"credentials\", \"criteria\", \"criteria\", \"criteria\", \"criteria\", \"criteria\", \"criteria\", \"criteria\", \"criteria\", \"crop\", \"crop\", \"crop\", \"crop\", \"crop\", \"crossaxisalignment\", \"crossaxisalignment\", \"crypto\", \"crypto\", \"crypto\", \"crypto\", \"crypto\", \"crypto\", \"crypto\", \"crypto\", \"csproj\", \"csproj\", \"csproj\", \"csproj\", \"csrf\", \"csrf\", \"csrf\", \"csrf\", \"csrf\", \"csrf\", \"css\", \"css\", \"css\", \"css\", \"css\", \"css\", \"css\", \"css\", \"css\", \"csv\", \"csv\", \"csv\", \"csv\", \"csv\", \"csv\", \"curl\", \"curl\", \"curl\", \"curl\", \"curl\", \"cvtcolor\", \"cxx\", \"cxx\", \"cxx\", \"cycle\", \"cycle\", \"cycle\", \"cycle\", \"cycle\", \"cycle\", \"cycle\", \"cycle\", \"cycle\", \"cycle\", \"cycle\", \"cycle\", \"cycle\", \"daemon\", \"daemon\", \"daemon\", \"daemon\", \"daemon\", \"daemon\", \"danger\", \"danger\", \"danger\", \"danger\", \"dart\", \"dart\", \"dart\", \"dart'\", \"dart'\", \"dart'\", \"darwin\", \"darwin\", \"darwin\", \"darwin\", \"darwin\", \"data\", \"data\", \"data\", \"data\", \"data\", \"data\", \"data\", \"data\", \"data\", \"data\", \"data\", \"data\", \"data\", \"data\", \"data\", \"data\", \"data\", \"data\", \"data\", \"data\", \"database\", \"database\", \"database\", \"database\", \"database\", \"database\", \"database\", \"database\", \"database\", \"database\", \"database\", \"database\", \"database\", \"database\", \"database\", \"database\", \"database\", \"database\", \"database\", \"dataframe\", \"dataframe\", \"dataframe\", \"dataframes\", \"dataframes\", \"dataset\", \"dataset\", \"dataset\", \"dataset\", \"dataset\", \"dataset\", \"dataset\", \"dataset\", \"dataset\", \"datasource\", \"datasource\", \"datasource\", \"datasource\", \"datasource\", \"datasource\", \"datasource\", \"datasource\", \"datatable\", \"datatable\", \"datatable\", \"datatable\", \"datatable\", \"date\", \"date\", \"date\", \"date\", \"date\", \"date\", \"date\", \"date\", \"date\", \"date\", \"date\", \"date\", \"date\", \"date\", \"date\", \"date\", \"date\", \"date\", \"date\", \"dbcontext\", \"dbcontext\", \"dbname\", \"dbname\", \"dbname\", \"dbname\", \"dbname\", \"dbname\", \"debug\", \"debug\", \"debug\", \"debug\", \"debug\", \"debug\", \"debug\", \"debug\", \"debug\", \"debug\", \"debug\", \"debug\", \"debug\", \"debug\", \"debug\", \"debug\", \"debug\", \"debug\", \"debug\", \"debug\", \"decrypt\", \"decrypt\", \"decrypt\", \"decrypt\", \"def\", \"def\", \"def\", \"def\", \"def\", \"def\", \"def\", \"def\", \"def\", \"def\", \"def\", \"def\", \"def\", \"def\", \"def\", \"def\", \"def\", \"def\", \"defaultconfig\", \"defaultconfig\", \"defaultconfig\", \"define\", \"define\", \"define\", \"define\", \"define\", \"define\", \"define\", \"define\", \"define\", \"define\", \"define\", \"define\", \"define\", \"define\", \"define\", \"define\", \"define\", \"define\", \"define\", \"define\", \"delay\", \"delay\", \"delay\", \"delay\", \"delay\", \"delay\", \"delay\", \"delay\", \"delay\", \"delay\", \"delay\", \"delay\", \"delay\", \"delay\", \"delay\", \"delay\", \"delay\", \"delay\", \"delay\", \"dense\", \"dense\", \"dense\", \"dense\", \"dependency\", \"dependency\", \"dependency\", \"dependency\", \"dependency\", \"dependency\", \"dependency\", \"dependency\", \"dependency\", \"dependency\", \"deploy\", \"deploy\", \"deploy\", \"deploy\", \"deploy\", \"deploy\", \"deploy\", \"deploy\", \"deploy\", \"deploy\", \"deploy\", \"deploy\", \"deploy\", \"deployment\", \"deployment\", \"deployment\", \"deployment\", \"deployment\", \"deployment\", \"deployment\", \"deployment\", \"deployment\", \"deployment\", \"deployment\", \"deployment\", \"deserialize\", \"deserialize\", \"deserialize\", \"devdependencies\", \"device\", \"device\", \"device\", \"device\", \"device\", \"device\", \"device\", \"device\", \"device\", \"device\", \"device\", \"device\", \"device\", \"device\", \"device\", \"device\", \"device\", \"device\", \"device\", \"devices\", \"devices\", \"devices\", \"devices\", \"devices\", \"devices\", \"devices\", \"devices\", \"devices\", \"devices\", \"devices\", \"devkit\", \"devops\", \"devops\", \"devops\", \"devops\", \"dialect\", \"dialect\", \"dialect\", \"dialect\", \"dialect\", \"dictionary\", \"dictionary\", \"dictionary\", \"dictionary\", \"dictionary\", \"dictionary\", \"dictionary\", \"difference\", \"difference\", \"difference\", \"difference\", \"difference\", \"difference\", \"difference\", \"difference\", \"difference\", \"difference\", \"difference\", \"difference\", \"difference\", \"difference\", \"difference\", \"difference\", \"difference\", \"difference\", \"difference\", \"dim\", \"dim\", \"dim\", \"dim\", \"dim\", \"dim\", \"dim\", \"dim\", \"directory\", \"directory\", \"directory\", \"directory\", \"directory\", \"directory\", \"directory\", \"directory\", \"directory\", \"directory\", \"directory\", \"directory\", \"directory\", \"directory\", \"directory\", \"directory\", \"directory\", \"disconnect\", \"disconnect\", \"disconnect\", \"disconnect\", \"disconnect\", \"disconnect\", \"disconnect\", \"disconnect\", \"disconnect\", \"disconnect\", \"discord\", \"discord\", \"discord\", \"dispatchmessage\", \"display\", \"display\", \"display\", \"display\", \"display\", \"display\", \"display\", \"display\", \"display\", \"display\", \"display\", \"display\", \"display\", \"display\", \"display\", \"display\", \"display\", \"display\", \"display\", \"display\", \"distinct\", \"distinct\", \"distinct\", \"distinct\", \"distinct\", \"distinct\", \"distinct\", \"distinct\", \"div\", \"div\", \"div\", \"div\", \"div\", \"dll\", \"dll\", \"dll\", \"dll\", \"dll\", \"dns\", \"dns\", \"dns\", \"dns\", \"docker\", \"docker\", \"docker\", \"docker\", \"docker\", \"dockerfile\", \"dockerfile\", \"doctor\", \"doctor\", \"doctor\", \"doctor\", \"doctor\", \"doctor\", \"doctor\", \"document\", \"document\", \"document\", \"document\", \"document\", \"document\", \"document\", \"document\", \"document\", \"document\", \"document\", \"document\", \"document\", \"document\", \"document\", \"document\", \"document\", \"document\", \"document\", \"document\", \"dom\", \"dom\", \"dom\", \"dom\", \"dom\", \"dom\", \"dom\", \"dom\", \"dom'\", \"dotnet\", \"dotnet\", \"dotnet\", \"dotnet\", \"dotnet\", \"double\", \"double\", \"double\", \"double\", \"double\", \"double\", \"double\", \"double\", \"double\", \"double\", \"double\", \"double\", \"double\", \"double\", \"download\", \"download\", \"download\", \"download\", \"download\", \"download\", \"download\", \"download\", \"download\", \"download\", \"download\", \"download\", \"download\", \"download\", \"download\", \"download\", \"download\", \"download\", \"dplyr\", \"dplyr\", \"draw\", \"draw\", \"draw\", \"draw\", \"draw\", \"draw\", \"draw\", \"draw\", \"drawable\", \"drawable\", \"drawable\", \"drawable\", \"drawer\", \"drawer\", \"drive\", \"drive\", \"drive\", \"drive\", \"drive\", \"drive\", \"drive\", \"drive\", \"drive\", \"drive\", \"drive\", \"drive\", \"drive\", \"drive\", \"drive\", \"drive\", \"drive\", \"dropdown\", \"dropdown\", \"dropdown\", \"dropdown\", \"dropout\", \"dtype\", \"dtype\", \"dynamodb\", \"dynamodb\", \"dynamodb\", \"east\", \"east\", \"east\", \"east\", \"east\", \"eclipse\", \"eclipse\", \"eclipse\", \"edge\", \"edge\", \"edge\", \"edge\", \"edge\", \"edge\", \"edge\", \"edge\", \"edge\", \"edge\", \"edge\", \"edge\", \"edge\", \"edge\", \"edgeinsets\", \"edgeinsets\", \"efficient\", \"efficient\", \"efficient\", \"efficient\", \"efficient\", \"efficient\", \"efficient\", \"efficient\", \"efficiently\", \"efficiently\", \"efficiently\", \"efficiently\", \"efficiently\", \"efficiently\", \"efficiently\", \"efficiently\", \"elapse\", \"elapse\", \"elapse\", \"elapse\", \"elapse\", \"elapse\", \"elapse\", \"elapse\", \"elapse\", \"elastic\", \"elastic\", \"elastic\", \"elastic\", \"elastic\", \"elastic\", \"electron\", \"electron\", \"electron\", \"element\", \"element\", \"element\", \"element\", \"element\", \"element\", \"element\", \"element\", \"element\", \"element\", \"element\", \"element\", \"element\", \"element\", \"element\", \"element\", \"element\", \"element\", \"else\", \"else\", \"else\", \"else\", \"else\", \"else\", \"else\", \"else\", \"else\", \"else\", \"else\", \"else\", \"else\", \"else\", \"else\", \"else\", \"else\", \"else\", \"else\", \"else\", \"email\", \"email\", \"email\", \"email\", \"email\", \"email\", \"email\", \"email\", \"email\", \"email\", \"email\", \"email\", \"email\", \"email\", \"email\", \"employee\", \"employee\", \"employee\", \"employee\", \"employee\", \"employee\", \"employee\", \"employee\", \"employee\", \"emulator\", \"emulator\", \"emulator\", \"emulator\", \"emulator\", \"emulator\", \"encoder\", \"encoder\", \"encoder\", \"encoder\", \"encrypt\", \"encrypt\", \"encrypt\", \"encrypt\", \"encrypt\", \"encrypt\", \"encrypt\", \"encrypt\", \"encryption\", \"encryption\", \"encryption\", \"encryption\", \"encryption\", \"encryption\", \"end\", \"end\", \"end\", \"end\", \"end\", \"end\", \"end\", \"end\", \"end\", \"end\", \"end\", \"end\", \"end\", \"end\", \"end\", \"end\", \"end\", \"end\", \"end\", \"end\", \"endl\", \"endl\", \"enterprise\", \"enterprise\", \"enterprise\", \"enterprise\", \"enterprise\", \"enterprise\", \"enterprise\", \"enterprise\", \"entities\", \"entities\", \"entities\", \"entities\", \"entities\", \"entities\", \"entities\", \"entities\", \"entities\", \"entity\", \"entity\", \"entity\", \"entity\", \"entity\", \"entity\", \"entity\", \"entity\", \"entity\", \"entrypoint\", \"entrypoint\", \"entrypoint\", \"entrypoint\", \"entrypoint\", \"enum\", \"enum\", \"enum\", \"enum\", \"enum\", \"enum\", \"enum\", \"env\", \"env\", \"env\", \"env\", \"env\", \"env\", \"env\", \"env\", \"env\", \"env\", \"env\", \"env\", \"env\", \"env\", \"env\", \"env\", \"environment\", \"environment\", \"environment\", \"environment\", \"environment\", \"environment\", \"environment\", \"environment\", \"environment\", \"environment\", \"environment\", \"environment\", \"environment\", \"environment\", \"environment\", \"environment\", \"environment\", \"environment\", \"envs\", \"envs\", \"epoch\", \"epoch\", \"epoch\", \"epochs\", \"err\", \"err\", \"err\", \"err\", \"err\", \"err\", \"err\", \"err\", \"err\", \"err\", \"err\", \"err\", \"err\", \"err\", \"err\", \"error\", \"error\", \"error\", \"error\", \"error\", \"error\", \"error\", \"error\", \"error\", \"error\", \"error\", \"error\", \"error\", \"error\", \"error\", \"error\", \"error\", \"error\", \"error\", \"error\", \"eslint\", \"espresso\", \"espresso\", \"establish\", \"establish\", \"establish\", \"establish\", \"establish\", \"establish\", \"establish\", \"establish\", \"establish\", \"establish\", \"establish\", \"establish\", \"establish\", \"event\", \"event\", \"event\", \"event\", \"event\", \"event\", \"event\", \"event\", \"event\", \"event\", \"event\", \"event\", \"event\", \"event\", \"event\", \"event\", \"event\", \"event\", \"event\", \"event\", \"excel\", \"excel\", \"excel\", \"excel\", \"excel\", \"excel\", \"exception\", \"exception\", \"exception\", \"exception\", \"exception\", \"exception\", \"exception\", \"exception\", \"exception\", \"exception\", \"exception\", \"exception\", \"exception\", \"exception\", \"exception\", \"exception\", \"exception\", \"exception\", \"exception\", \"exe'\", \"exe'\", \"exe'\", \"exe'\", \"exec\", \"exec\", \"exec\", \"exec\", \"exec\", \"exec\", \"exec\", \"exec\", \"exec\", \"exec\", \"exec\", \"exec\", \"exec\", \"exec\", \"exec\", \"exec\", \"exec\", \"exec\", \"execute\", \"execute\", \"execute\", \"execute\", \"execute\", \"execute\", \"execute\", \"execute\", \"execute\", \"execute\", \"execute\", \"execute\", \"execute\", \"execute\", \"execute\", \"execute\", \"execute\", \"execute\", \"execute\", \"execute\", \"execution\", \"execution\", \"execution\", \"execution\", \"execution\", \"execution\", \"execution\", \"execution\", \"execution\", \"execution\", \"execution\", \"execution\", \"execution\", \"execution\", \"execution\", \"execution\", \"executor\", \"executor\", \"executor\", \"executor\", \"executor\", \"executor\", \"executor\", \"executor\", \"executor\", \"executor\", \"export\", \"export\", \"export\", \"export\", \"export\", \"export\", \"export\", \"export\", \"export\", \"export\", \"export\", \"export\", \"export\", \"export\", \"export\", \"export\", \"export\", \"export\", \"export\", \"express\", \"express\", \"express\", \"express\", \"express\", \"express\", \"express\", \"express\", \"express\", \"express\", \"express\", \"express\", \"express\", \"express\", \"express\", \"extend\", \"extend\", \"extend\", \"extend\", \"extend\", \"extend\", \"extend\", \"extend\", \"extend\", \"extend\", \"extend\", \"extend\", \"extend\", \"extend\", \"extend\", \"extend\", \"extend\", \"extend\", \"extend\", \"extend\", \"factory\", \"factory\", \"factory\", \"factory\", \"factory\", \"factory\", \"factory\", \"factory\", \"factory\", \"factory\", \"factory\", \"factory\", \"factory\", \"factory\", \"factory\", \"factory\", \"fail\", \"fail\", \"fail\", \"fail\", \"fail\", \"fail\", \"fail\", \"fail\", \"fail\", \"fail\", \"fail\", \"fail\", \"fail\", \"fail\", \"fail\", \"fail\", \"fail\", \"fail\", \"fail\", \"fail\", \"feature\", \"feature\", \"feature\", \"feature\", \"feature\", \"feature\", \"feature\", \"feature\", \"feature\", \"feature\", \"feature\", \"feature\", \"feature\", \"feature\", \"feature\", \"feature\", \"feature\", \"feature\", \"feature\", \"feature\", \"fetch\", \"fetch\", \"fetch\", \"fetch\", \"fetch\", \"fetch\", \"fetch\", \"fetch\", \"fetch\", \"fetch\", \"fetch\", \"fetch\", \"fetch\", \"fetch\", \"fetch\", \"fetch\", \"fetch\", \"fetch\", \"fetch\", \"fetch\", \"ffmpeg\", \"ffmpeg\", \"ffmpeg\", \"field\", \"field\", \"field\", \"field\", \"field\", \"field\", \"field\", \"field\", \"field\", \"field\", \"field\", \"field\", \"field\", \"field\", \"field\", \"field\", \"field\", \"field\", \"field\", \"field\", \"fig\", \"fig\", \"fig\", \"figsize\", \"figsize\", \"figsize\", \"file\", \"file\", \"file\", \"file\", \"file\", \"file\", \"file\", \"file\", \"file\", \"file\", \"file\", \"file\", \"file\", \"file\", \"file\", \"file\", \"file\", \"file\", \"file\", \"file\", \"filename\", \"filename\", \"filename\", \"filename\", \"filename\", \"filename\", \"filename\", \"filename\", \"filename\", \"filename\", \"filename\", \"filename\", \"filename\", \"filename\", \"filename\", \"filename\", \"filepath\", \"filepath\", \"filepath\", \"filepath\", \"filepath\", \"filepath\", \"filetree\", \"filetree\", \"filter\", \"filter\", \"filter\", \"filter\", \"filter\", \"filter\", \"filter\", \"filter\", \"filter\", \"filter\", \"filter\", \"filter\", \"filter\", \"filter\", \"filter\", \"filter\", \"filter\", \"filter\", \"filter\", \"filter\", \"final\", \"final\", \"final\", \"final\", \"final\", \"final\", \"final\", \"final\", \"final\", \"final\", \"final\", \"final\", \"final\", \"final\", \"final\", \"final\", \"final\", \"final\", \"final\", \"final\", \"find\", \"find\", \"find\", \"find\", \"find\", \"find\", \"find\", \"find\", \"find\", \"find\", \"find\", \"find\", \"find\", \"find\", \"find\", \"find\", \"find\", \"find\", \"find\", \"find\", \"findviewbyid\", \"findviewbyid\", \"findviewbyid\", \"firebase\", \"firebase\", \"firebase\", \"firebase\", \"firebase\", \"firebase\", \"firebase\", \"firebase\", \"firefox\", \"firefox\", \"firefox\", \"firefox\", \"firefox\", \"firefox\", \"firefox\", \"firestore\", \"firestore\", \"firestore\", \"firestore\", \"firestore\", \"firstname\", \"firstname\", \"firstname\", \"firstname\", \"firstname\", \"firstname\", \"fit\", \"fit\", \"fit\", \"fit\", \"fit\", \"fit\", \"fit\", \"fit\", \"fit\", \"fit\", \"fit\", \"fit\", \"fit\", \"fit\", \"flask\", \"flask\", \"flask\", \"flask\", \"flask\", \"flask\", \"flask\", \"flask\", \"float\", \"float\", \"float\", \"float\", \"float\", \"float\", \"float\", \"float\", \"float\", \"float\", \"float\", \"floor\", \"floor\", \"floor\", \"floor\", \"floor\", \"floor\", \"floor\", \"flow\", \"flow\", \"flow\", \"flow\", \"flow\", \"flow\", \"flow\", \"flow\", \"flow\", \"flow\", \"flow\", \"flow\", \"flow\", \"flow\", \"flow\", \"flow\", \"flow\", \"flow\", \"flutter\", \"flutter\", \"flutter\", \"flutter\", \"flutter\", \"fmt\", \"fmt\", \"fmt\", \"fmt\", \"fmt\", \"fmt\", \"fmt\", \"folder\", \"folder\", \"folder\", \"folder\", \"folder\", \"folder\", \"folder\", \"folder\", \"folder\", \"folder\", \"folder\", \"folder\", \"folder\", \"folder\", \"folder\", \"folder\", \"folder\", \"folders\", \"folders\", \"folders\", \"folders\", \"folders\", \"folders\", \"folders\", \"folders\", \"folders\", \"folders\", \"folders\", \"folders\", \"font\", \"font\", \"font\", \"font\", \"font\", \"font\", \"font\", \"font\", \"font\", \"font\", \"font\", \"foo\", \"foo\", \"foo\", \"foo\", \"foo\", \"foo\", \"foo\", \"foo\", \"foo\", \"foo\", \"foo\", \"foo\", \"foo\", \"foo\", \"foo\", \"foo\", \"foo\", \"footer\", \"footer\", \"footer\", \"footer\", \"footer\", \"footer\", \"footer\", \"footer\", \"foreground\", \"foreground\", \"foreground\", \"foreground\", \"foreground\", \"foreground\", \"foreground\", \"foreground\", \"foreign\", \"foreign\", \"foreign\", \"foreign\", \"foreign\", \"foreign\", \"foreignkey\", \"form\", \"form\", \"form\", \"form\", \"form\", \"form\", \"form\", \"form\", \"form\", \"form\", \"form\", \"form\", \"form\", \"form\", \"form\", \"form\", \"form\", \"form\", \"form\", \"formcontrol\", \"formcontrolname\", \"formgroup\", \"formgroup\", \"foundation\", \"foundation\", \"foundation\", \"foundation\", \"foundation\", \"foundation\", \"foundation\", \"foundation\", \"foundation\", \"foundation\", \"foundation\", \"foundation\", \"foundation\", \"foundation\", \"fragment\", \"fragment\", \"fragment\", \"fragment\", \"fragment\", \"fragment\", \"fragment\", \"fragment\", \"frame\", \"frame\", \"frame\", \"frame\", \"frame\", \"frame\", \"frame\", \"frame\", \"frame\", \"frame\", \"frame\", \"frame\", \"frame\", \"frame\", \"frame\", \"frame\", \"frame\", \"frame\", \"ftp\", \"ftp\", \"ftp\", \"ftp\", \"ftp\", \"ftp\", \"fun\", \"fun\", \"fun\", \"fun\", \"fun\", \"fun\", \"fun\", \"fun\", \"fun\", \"fun\", \"fun\", \"fun\", \"fun\", \"function\", \"function\", \"function\", \"function\", \"function\", \"function\", \"function\", \"function\", \"function\", \"function\", \"function\", \"function\", \"function\", \"function\", \"function\", \"function\", \"function\", \"function\", \"function\", \"function\", \"game\", \"game\", \"game\", \"game\", \"game\", \"game\", \"game\", \"game\", \"game\", \"game\", \"game\", \"game\", \"game\", \"gcc\", \"gcc\", \"gcc\", \"gcc\", \"gcc\", \"gecko\", \"generatedvalue\", \"generatedvalue\", \"geom\", \"geom\", \"geometry\", \"geometry\", \"geometry\", \"geometry\", \"geometry\", \"get\", \"get\", \"get\", \"get\", \"get\", \"get\", \"get\", \"get\", \"get\", \"get\", \"get\", \"get\", \"get\", \"get\", \"get\", \"get\", \"get\", \"get\", \"get\", \"get\", \"getattr\", \"getattr\", \"getattr\", \"getdefaultproguardfile\", \"getelementbyid\", \"getelementbyid\", \"getelementbyid\", \"getelementbyid\", \"getelementbyid\", \"getlogger\", \"getlogger\", \"getlogger\", \"getlogger\", \"getlogger\", \"getlogger\", \"getname\", \"getname\", \"getname\", \"getname\", \"getname\", \"getname\", \"getname\", \"getname\", \"getname\", \"getters\", \"getters\", \"getters\", \"ggplot\", \"git\", \"git\", \"git\", \"git\", \"git\", \"git\", \"git\", \"git\", \"git\", \"git\", \"github\", \"github\", \"github\", \"github\", \"github\", \"github\", \"github\", \"github\", \"github\", \"github\", \"github\", \"github\", \"github\", \"github\", \"github\", \"github\", \"github\", \"github\", \"github\", \"github\", \"gitlab\", \"gms\", \"gms\", \"gms\", \"gms\", \"goals\", \"goals\", \"goals\", \"goals\", \"goals\", \"google\", \"google\", \"google\", \"google\", \"google\", \"google\", \"google\", \"google\", \"google\", \"google\", \"google\", \"google\", \"google\", \"google\", \"google\", \"google\", \"google\", \"google\", \"google\", \"google\", \"gpu\", \"gpu\", \"gpu\", \"gpu\", \"gpu\", \"gradle\", \"gradle\", \"gradle\", \"gradle\", \"gradlew\", \"gradlew\", \"gradlew\", \"gradlew\", \"gravity\", \"gray\", \"gray\", \"gray\", \"gray\", \"gray\", \"gray\", \"grid\", \"grid\", \"grid\", \"grid\", \"grid\", \"grid\", \"grid\", \"grid\", \"group\", \"group\", \"group\", \"group\", \"group\", \"group\", \"group\", \"group\", \"group\", \"group\", \"group\", \"group\", \"group\", \"group\", \"group\", \"group\", \"group\", \"group\", \"group\", \"group\", \"groupby\", \"groupid\", \"groupid\", \"grpc\", \"grpc\", \"grpc\", \"grpc\", \"grpc\", \"hadoop\", \"handlechange\", \"handlechange\", \"handlers\", \"handlers\", \"handlers\", \"handlers\", \"handlers\", \"handlers\", \"handlers\", \"handlers\", \"handlers\", \"handlers\", \"handlers\", \"hashmap\", \"hashmap\", \"hashmap\", \"hashmap\", \"hashmap\", \"header\", \"header\", \"header\", \"header\", \"header\", \"header\", \"header\", \"header\", \"header\", \"header\", \"header\", \"header\", \"header\", \"header\", \"header\", \"header\", \"header\", \"header\", \"header\", \"header\", \"headers\", \"headers\", \"headers\", \"headers\", \"headers\", \"headers\", \"headers\", \"headers\", \"headers\", \"headers\", \"headers\", \"headers\", \"headers\", \"headers\", \"headers\", \"headers\", \"headers\", \"headless\", \"headless\", \"headless\", \"headless\", \"headless\", \"headless\", \"headless\", \"headless\", \"height\", \"height\", \"height\", \"height\", \"height\", \"height\", \"height\", \"height\", \"helm\", \"heroku\", \"heroku\", \"heroku\", \"heroku\", \"hibernate\", \"hibernate\", \"hibernate\", \"hibernate\", \"hive\", \"hive\", \"hive\", \"holder\", \"holder\", \"holder\", \"holder\", \"holder\", \"home\", \"home\", \"home\", \"home\", \"home\", \"home\", \"home\", \"home\", \"home\", \"home\", \"home\", \"home\", \"home\", \"home\", \"home\", \"home\", \"home\", \"home\", \"home\", \"home\", \"hook\", \"hook\", \"hook\", \"hook\", \"hook\", \"hook\", \"hook\", \"hook\", \"hook\", \"hook\", \"hook\", \"hook\", \"hook\", \"hook\", \"hook\", \"hook\", \"hook\", \"host\", \"host\", \"host\", \"host\", \"host\", \"host\", \"host\", \"host\", \"host\", \"host\", \"host\", \"host\", \"host\", \"host\", \"host\", \"host\", \"host\", \"host\", \"host\", \"hould\", \"hould\", \"hour\", \"hour\", \"hour\", \"hour\", \"hour\", \"hour\", \"hour\", \"hour\", \"hour\", \"hour\", \"hour\", \"hour\", \"href\", \"href\", \"href\", \"href\", \"href\", \"href\", \"hstack\", \"hstack\", \"html\", \"html\", \"html\", \"html\", \"html\", \"html\", \"html\", \"html\", \"html\", \"html\", \"html\", \"html\", \"html\", \"html\", \"html\", \"html\", \"html\", \"html\", \"html\", \"html\", \"http\", \"http\", \"http\", \"http\", \"http\", \"http\", \"http\", \"http\", \"http\", \"http\", \"http\", \"http\", \"http\", \"http\", \"http\", \"http\", \"http\", \"http\", \"http\", \"http\", \"httpcontext\", \"httpcontext\", \"httpcontext\", \"httpcontext\", \"httpcontext\", \"https\", \"https\", \"https\", \"https\", \"https\", \"https\", \"https\", \"https\", \"https\", \"https\", \"https\", \"https\", \"https\", \"https\", \"https\", \"https\", \"https\", \"https\", \"https\", \"https\", \"httpstatus\", \"httpstatus\", \"httpstatus\", \"httpstatus\", \"iam\", \"iam\", \"iam\", \"icon\", \"icon\", \"icon\", \"icon\", \"icon\", \"icon\", \"icon\", \"icon\", \"icon\", \"icon\", \"icon\", \"icon\", \"icon\", \"iconbutton\", \"iconbutton\", \"iconbutton\", \"identity\", \"identity\", \"identity\", \"identity\", \"identity\", \"identity\", \"identity\", \"identity\", \"identity\", \"identity\", \"identity\", \"identity\", \"identity\", \"identity\", \"ienumerable\", \"ienumerable\", \"ienumerable\", \"ienumerable\", \"illuminate\", \"illuminate\", \"illuminate\", \"illuminate\", \"ilogger\", \"ilogger\", \"ilogger\", \"image\", \"image\", \"image\", \"image\", \"image\", \"image\", \"image\", \"image\", \"image\", \"image\", \"image\", \"image\", \"image\", \"image\", \"image\", \"image\", \"image\", \"image\", \"image\", \"image\", \"imageview\", \"img\", \"img\", \"img\", \"img\", \"img\", \"img\", \"img\", \"img\", \"img\", \"img\", \"img\", \"implementation\", \"implementation\", \"implementation\", \"implementation\", \"implementation\", \"implementation\", \"implementation\", \"implementation\", \"implementation\", \"implementation\", \"implementation\", \"implementation\", \"implementation\", \"implementation\", \"implementation\", \"implementation\", \"implementation\", \"implementation\", \"implementation\", \"implementation\", \"import\", \"import\", \"import\", \"import\", \"import\", \"import\", \"import\", \"import\", \"import\", \"import\", \"import\", \"import\", \"import\", \"import\", \"import\", \"import\", \"import\", \"import\", \"import\", \"import\", \"importerror\", \"importerror\", \"imread\", \"imread\", \"imshow\", \"imshow\", \"imshow\", \"include\", \"include\", \"include\", \"include\", \"include\", \"include\", \"include\", \"include\", \"include\", \"include\", \"include\", \"include\", \"include\", \"include\", \"include\", \"include\", \"include\", \"include\", \"include\", \"include\", \"increase\", \"increase\", \"increase\", \"increase\", \"increase\", \"increase\", \"increase\", \"increase\", \"increase\", \"increase\", \"increase\", \"increase\", \"increase\", \"increase\", \"increase\", \"increase\", \"increase\", \"index\", \"index\", \"index\", \"index\", \"index\", \"index\", \"index\", \"index\", \"index\", \"index\", \"index\", \"index\", \"index\", \"index\", \"index\", \"index\", \"index\", \"index\", \"index\", \"index\", \"inflate\", \"inflate\", \"inflate\", \"inflate\", \"info\", \"info\", \"info\", \"info\", \"info\", \"info\", \"info\", \"info\", \"info\", \"info\", \"info\", \"info\", \"info\", \"info\", \"info\", \"info\", \"info\", \"info\", \"info\", \"info\", \"ingress\", \"init\", \"init\", \"init\", \"init\", \"init\", \"init\", \"init\", \"init\", \"init\", \"init\", \"init\", \"init\", \"init\", \"init\", \"init\", \"init\", \"init\", \"init\", \"init\", \"init\", \"initstate\", \"initstate\", \"innerhtml\", \"innerhtml\", \"input\", \"input\", \"input\", \"input\", \"input\", \"input\", \"input\", \"input\", \"input\", \"input\", \"input\", \"input\", \"input\", \"input\", \"input\", \"input\", \"input\", \"input\", \"input\", \"input\", \"inputstream\", \"inputstream\", \"inputstream\", \"inputstream\", \"inputstream\", \"inputstream\", \"insert\", \"insert\", \"insert\", \"insert\", \"insert\", \"insert\", \"insert\", \"insert\", \"insert\", \"insert\", \"insert\", \"insert\", \"insert\", \"insert\", \"insert\", \"insert\", \"insert\", \"insert\", \"insert\", \"insert\", \"insights\", \"insights\", \"insights\", \"insights\", \"insights\", \"insights\", \"insights\", \"insights\", \"insights\", \"insights\", \"insights\", \"insights\", \"instal\", \"instal\", \"instal\", \"instal\", \"instal\", \"instal\", \"instal\", \"instal\", \"instal\", \"instal\", \"instal\", \"instal\", \"instal\", \"instal\", \"install\", \"install\", \"install\", \"install\", \"install\", \"install\", \"install\", \"install\", \"install\", \"install\", \"install\", \"install\", \"installation\", \"installation\", \"installation\", \"installation\", \"installation\", \"installation\", \"installation\", \"installation\", \"installation\", \"int\", \"int\", \"int\", \"int\", \"int\", \"int\", \"int\", \"int\", \"int\", \"int\", \"int\", \"int\", \"int\", \"int\", \"int\", \"int\", \"int\", \"int\", \"int\", \"intellij\", \"intellij\", \"intellij\", \"intellij\", \"intent\", \"intent\", \"intent\", \"interface\", \"interface\", \"interface\", \"interface\", \"interface\", \"interface\", \"interface\", \"interface\", \"interface\", \"interface\", \"interface\", \"interface\", \"interface\", \"interface\", \"interface\", \"interface\", \"interface\", \"interface\", \"interface\", \"internal\", \"internal\", \"internal\", \"internal\", \"internal\", \"internal\", \"internal\", \"internal\", \"internal\", \"internal\", \"internal\", \"internal\", \"internal\", \"internal\", \"internal\", \"internal\", \"internal\", \"interval\", \"interval\", \"interval\", \"interval\", \"interval\", \"interval\", \"interval\", \"interval\", \"interval\", \"interval\", \"interval\", \"interval\", \"interval\", \"interval\", \"invoke\", \"invoke\", \"invoke\", \"invoke\", \"invoke\", \"invoke\", \"invoke\", \"invoke\", \"invoke\", \"invoke\", \"invoke\", \"invoke\", \"invoke\", \"invoke\", \"invoke\", \"invoke\", \"invoke\", \"invoke\", \"invoke\", \"ion\", \"ion\", \"ionic\", \"ionic\", \"ionic\", \"ionic\", \"ionic\", \"ios\", \"ios\", \"ios\", \"ios\", \"ios\", \"ios\", \"ios\", \"ios\", \"ios\", \"ios\", \"ios\", \"ios\", \"ios\", \"ios\", \"iostream\", \"iostream\", \"iphone\", \"iphone\", \"iphone\", \"iphone\", \"iphone\", \"iphone\", \"iphone\", \"item\", \"item\", \"item\", \"item\", \"item\", \"item\", \"item\", \"item\", \"item\", \"item\", \"item\", \"item\", \"item\", \"item\", \"item\", \"item\", \"item\", \"item\", \"item\", \"item\", \"itembuilder\", \"itembuilder\", \"itemcount\", \"itemcount\", \"iterate\", \"iterate\", \"iterate\", \"iterate\", \"iterate\", \"iterate\", \"iterate\", \"iterate\", \"iterate\", \"iterate\", \"jar\", \"jar\", \"jar\", \"jar\", \"jar'\", \"jar'\", \"jasmine\", \"java\", \"java\", \"java\", \"java\", \"java\", \"java\", \"java\", \"java\", \"java\", \"java\", \"java\", \"java\", \"java\", \"javax\", \"javax\", \"javax\", \"javax\", \"javax\", \"javax\", \"javax\", \"jdbc\", \"jdbc\", \"jdbc\", \"jdbc\", \"jdbc\", \"jdbc\", \"jdk\", \"jdk\", \"jdk\", \"jenkins\", \"jenkins\", \"jenkins\", \"jenkins\", \"jest\", \"jest\", \"jest\", \"jetbrains\", \"jetbrains\", \"jetbrains\", \"jpa\", \"jpa\", \"jpa\", \"jquery\", \"jquery\", \"jquery\", \"jquery\", \"jquery\", \"json\", \"json\", \"json\", \"json\", \"json\", \"json\", \"json\", \"json\", \"json\", \"json\", \"json\", \"json\", \"json\", \"json\", \"json\", \"json\", \"json\", \"json\", \"json\", \"json\", \"jsx\", \"jsx\", \"junit\", \"junit\", \"junit\", \"junit\", \"justify\", \"justify\", \"justify\", \"justify\", \"justify\", \"jwt\", \"jwt\", \"jwt\", \"jwt\", \"jwt\", \"jwt\", \"kafka\", \"kafka\", \"kafka\", \"kafka\", \"keras\", \"key\", \"key\", \"key\", \"key\", \"key\", \"key\", \"key\", \"key\", \"key\", \"key\", \"key\", \"key\", \"key\", \"key\", \"key\", \"key\", \"key\", \"key\", \"key\", \"key\", \"kotlin\", \"kotlin\", \"kotlin\", \"kotlin\", \"kotlin\", \"kube\", \"kubectl\", \"kubernetes\", \"kwargs\", \"kwargs\", \"kwargs\", \"kwargs\", \"label\", \"label\", \"label\", \"label\", \"label\", \"label\", \"label\", \"label\", \"label\", \"label\", \"label\", \"label\", \"label\", \"label\", \"label\", \"label\", \"label\", \"lambda\", \"lambda\", \"lambda\", \"lambda\", \"lambda\", \"lambda\", \"lambda\", \"lambda\", \"lambda\", \"lambda\", \"lambda\", \"lambda\", \"lambda\", \"lambda\", \"lang\", \"lang\", \"lang\", \"lang\", \"lang\", \"lang\", \"lang\", \"lang\", \"lang\", \"lang\", \"lang\", \"lang\", \"lang\", \"lang\", \"lang\", \"lang\", \"lang\", \"laravel\", \"laravel\", \"laravel\", \"laravel\", \"laravel\", \"laravel\", \"laravel\", \"laravel\", \"laravel\", \"laravel\", \"laravel\", \"laravel\", \"lastname\", \"lastname\", \"lastname\", \"lastname\", \"lastname\", \"launcher\", \"launcher\", \"launcher\", \"launcher\", \"launcher\", \"launcher\", \"launcher\", \"layer\", \"layer\", \"layer\", \"layer\", \"layer\", \"layer\", \"layer\", \"layer\", \"layer\", \"layer\", \"layer\", \"layer\", \"layer\", \"layer\", \"layout\", \"layout\", \"layout\", \"layout\", \"layout\", \"layout\", \"layout\", \"layoutinflater\", \"layoutinflater\", \"leak\", \"leak\", \"leak\", \"leak\", \"leak\", \"leak\", \"leak\", \"legend\", \"legend\", \"legend\", \"let\", \"let\", \"let\", \"let\", \"let\", \"let\", \"let\", \"let\", \"let\", \"let\", \"let\", \"let\", \"let\", \"let\", \"let\", \"let\", \"let\", \"let\", \"let\", \"let\", \"lib\", \"lib\", \"lib\", \"lib\", \"lib\", \"lib\", \"lib\", \"lib\", \"lib\", \"lib\", \"lib\", \"lib\", \"lib\", \"lib\", \"lib\", \"lib\", \"lib\", \"lib\", \"library\", \"library\", \"library\", \"library\", \"library\", \"library\", \"library\", \"library\", \"library\", \"library\", \"library\", \"library\", \"library\", \"library\", \"library\", \"library\", \"library\", \"library\", \"library\", \"library\", \"like\", \"like\", \"like\", \"like\", \"like\", \"like\", \"like\", \"like\", \"like\", \"like\", \"like\", \"like\", \"like\", \"like\", \"like\", \"like\", \"like\", \"like\", \"like\", \"like\", \"line\", \"line\", \"line\", \"line\", \"line\", \"line\", \"line\", \"line\", \"line\", \"line\", \"line\", \"line\", \"line\", \"line\", \"line\", \"line\", \"line\", \"line\", \"line\", \"line\", \"link\", \"link\", \"link\", \"link\", \"link\", \"link\", \"link\", \"link\", \"link\", \"link\", \"link\", \"link\", \"link\", \"link\", \"link\", \"link\", \"link\", \"link\", \"link\", \"link\", \"list\", \"list\", \"list\", \"list\", \"list\", \"list\", \"list\", \"list\", \"list\", \"list\", \"list\", \"list\", \"list\", \"list\", \"list\", \"list\", \"list\", \"list\", \"list\", \"list\", \"listview\", \"listview\", \"loader\", \"loader\", \"loader\", \"loader\", \"loader\", \"loader\", \"loader\", \"loader\", \"loader\", \"loader\", \"loader\", \"loader\", \"loader'\", \"loc\", \"loc\", \"loc\", \"loc\", \"loc\", \"loc\", \"loc\", \"local\", \"local\", \"local\", \"local\", \"local\", \"local\", \"local\", \"local\", \"local\", \"local\", \"local\", \"local\", \"local\", \"local\", \"local\", \"local\", \"local\", \"local\", \"local\", \"local\", \"localhost\", \"localhost\", \"localhost\", \"localhost\", \"localhost\", \"localhost\", \"localhost\", \"localhost\", \"localhost\", \"localhost\", \"localhost\", \"localhost\", \"localhost\", \"localhost\", \"location\", \"location\", \"location\", \"location\", \"location\", \"location\", \"location\", \"location\", \"location\", \"location\", \"location\", \"location\", \"location\", \"location\", \"location\", \"location\", \"location\", \"location\", \"location\", \"location\", \"log\", \"log\", \"log\", \"log\", \"log\", \"log\", \"log\", \"log\", \"log\", \"log\", \"log\", \"log\", \"log\", \"log\", \"log\", \"log\", \"log\", \"log\", \"log\", \"log\", \"logger\", \"logger\", \"logger\", \"logger\", \"logger\", \"logger\", \"logger\", \"logger\", \"logger\", \"logger\", \"logger\", \"logger\", \"logger\", \"logger\", \"logger\", \"login\", \"login\", \"login\", \"login\", \"login\", \"login\", \"login\", \"login\", \"login\", \"login\", \"login\", \"login\", \"login\", \"login\", \"login\", \"login\", \"long\", \"long\", \"long\", \"long\", \"long\", \"long\", \"long\", \"long\", \"long\", \"long\", \"long\", \"long\", \"long\", \"long\", \"long\", \"long\", \"long\", \"long\", \"long\", \"long\", \"loop\", \"loop\", \"loop\", \"loop\", \"loop\", \"loop\", \"loop\", \"loop\", \"loop\", \"loop\", \"loop\", \"loop\", \"loop\", \"loop\", \"loop\", \"loop\", \"loop\", \"loop\", \"looper\", \"looper\", \"looper\", \"loss\", \"loss\", \"loss\", \"loss\", \"loss\", \"loss\", \"lstm\", \"lu'\", \"macro\", \"macro\", \"macro\", \"macro\", \"macro\", \"macro\", \"macro\", \"macro\", \"macro\", \"macro\", \"mail\", \"mail\", \"mail\", \"mail\", \"mail\", \"mail\", \"mail\", \"mail\", \"mail\", \"mail\", \"mail\", \"mail\", \"main\", \"main\", \"main\", \"main\", \"main\", \"main\", \"main\", \"main\", \"main\", \"main\", \"main\", \"main\", \"main\", \"main\", \"main\", \"main\", \"main\", \"main\", \"main\", \"main\", \"mainaxisalignment\", \"mainaxisalignment\", \"maketext\", \"maketext\", \"manifest\", \"manifest\", \"manifest\", \"manifest\", \"manifest\", \"manifest\", \"manifest\", \"manifest\", \"manifest\", \"manifest\", \"manifest\", \"manifest\", \"manifest\", \"map\", \"map\", \"map\", \"map\", \"map\", \"map\", \"map\", \"map\", \"map\", \"map\", \"map\", \"map\", \"map\", \"map\", \"map\", \"map\", \"map\", \"map\", \"map\", \"map\", \"mapper\", \"mapper\", \"mapper\", \"mapper\", \"mapper\", \"mapper\", \"mapper\", \"mapper\", \"margintop\", \"margintop\", \"marker\", \"marker\", \"marker\", \"marker\", \"marker\", \"marker\", \"marker\", \"markers\", \"markers\", \"markers\", \"mask\", \"mask\", \"mask\", \"mask\", \"mask\", \"mask\", \"mask\", \"mask\", \"mask\", \"mask\", \"mask\", \"mask\", \"master\", \"master\", \"master\", \"master\", \"master\", \"master\", \"master\", \"master\", \"master\", \"master\", \"master\", \"master\", \"master\", \"master\", \"master\", \"master\", \"master\", \"master\", \"master\", \"master\", \"mat\", \"mat\", \"mat\", \"mat\", \"match\", \"match\", \"match\", \"match\", \"match\", \"match\", \"match\", \"match\", \"match\", \"match\", \"match\", \"match\", \"match\", \"match\", \"match\", \"match\", \"match\", \"match\", \"match\", \"match\", \"materialapp\", \"materialapp\", \"math\", \"math\", \"math\", \"math\", \"math\", \"math\", \"math\", \"math\", \"math\", \"math\", \"math\", \"math\", \"math\", \"math\", \"math\", \"matplotlib\", \"matplotlib\", \"matplotlib\", \"matplotlib\", \"matrix\", \"matrix\", \"matrix\", \"matrix\", \"matrix\", \"maven\", \"maven\", \"maven\", \"max\", \"max\", \"max\", \"max\", \"max\", \"max\", \"max\", \"max\", \"max\", \"max\", \"max\", \"max\", \"max\", \"max\", \"max\", \"max\", \"max\", \"max\", \"max\", \"max\", \"memory\", \"memory\", \"memory\", \"memory\", \"memory\", \"memory\", \"memory\", \"memory\", \"memory\", \"memory\", \"memory\", \"memory\", \"memory\", \"memory\", \"memory\", \"memory\", \"menu\", \"menu\", \"menu\", \"menu\", \"menu\", \"menu\", \"menu\", \"menu\", \"menu\", \"menu\", \"menu\", \"menu\", \"menu\", \"menu\", \"message\", \"message\", \"message\", \"message\", \"message\", \"message\", \"message\", \"message\", \"message\", \"message\", \"message\", \"message\", \"message\", \"message\", \"message\", \"message\", \"message\", \"message\", \"message\", \"message\", \"method\", \"method\", \"method\", \"method\", \"method\", \"method\", \"method\", \"method\", \"method\", \"method\", \"method\", \"method\", \"method\", \"method\", \"method\", \"method\", \"method\", \"method\", \"method\", \"method\", \"methodandargscaller\", \"microsoft\", \"microsoft\", \"microsoft\", \"microsoft\", \"microsoft\", \"microsoft\", \"microsoft\", \"microsoft\", \"microsoft\", \"microsoft\", \"microsoft\", \"middleware\", \"middleware\", \"middleware\", \"middleware\", \"middleware\", \"middleware\", \"middleware\", \"middleware\", \"million\", \"million\", \"million\", \"million\", \"million\", \"million\", \"million\", \"minifyenabled\", \"minute\", \"minute\", \"minute\", \"minute\", \"minute\", \"minute\", \"minute\", \"minute\", \"minute\", \"minute\", \"mock\", \"mock\", \"mock\", \"mock\", \"mock\", \"mock\", \"mod\", \"mod\", \"mod\", \"mod\", \"mod\", \"mod\", \"mod\", \"mod\", \"mod\", \"mod\", \"modal\", \"modal\", \"modal\", \"modal\", \"modal\", \"modal\", \"model\", \"model\", \"model\", \"model\", \"model\", \"model\", \"model\", \"model\", \"model\", \"model\", \"model\", \"model\", \"model\", \"model\", \"model\", \"model\", \"model\", \"model\", \"model\", \"modelversion\", \"module\", \"module\", \"module\", \"module\", \"module\", \"module\", \"module\", \"module\", \"module\", \"module\", \"module\", \"module\", \"module\", \"module\", \"module\", \"module\", \"module\", \"module\", \"modulenotfounderror\", \"modules\", \"modules\", \"modules\", \"modules\", \"modules\", \"modules\", \"modules\", \"modules\", \"modules\", \"modules\", \"modules\", \"modules\", \"mongo\", \"mongo\", \"mongo\", \"mongo\", \"mongo\", \"mongodb\", \"mongodb\", \"mongodb\", \"mongodb\", \"mongodb\", \"mongodb\", \"mongodb\", \"mouse\", \"mouse\", \"mouse\", \"mozilla\", \"mozilla\", \"mozilla\", \"mozilla\", \"msg\", \"msg\", \"msg\", \"msg\", \"msg\", \"msg\", \"msg\", \"msg\", \"msg\", \"msg\", \"msg\", \"msg\", \"msg\", \"msg\", \"msg\", \"msg\", \"msg\", \"msg\", \"multipart\", \"multipart\", \"multipart\", \"multipart\", \"multipart\", \"multiple\", \"multiple\", \"multiple\", \"multiple\", \"multiple\", \"multiple\", \"multiple\", \"multiple\", \"multiple\", \"multiple\", \"multiple\", \"multiple\", \"multiple\", \"multiple\", \"multiple\", \"multiple\", \"multiple\", \"multiple\", \"multiple\", \"multiple\", \"music\", \"music\", \"music\", \"music\", \"music\", \"music\", \"music\", \"mutate\", \"mutate\", \"mutate\", \"mutate\", \"mutate\", \"mutate\", \"mvn\", \"mvn\", \"mvn\", \"myproject\", \"myproject\", \"myproject\", \"myproject\", \"myproject\", \"myproject\", \"myproject\", \"myproject\", \"myproject\", \"myproject\", \"mysql\", \"mysql\", \"mysql\", \"mysql\", \"mysql\", \"mysql\", \"mysql\", \"mysql\", \"mysql\", \"mysql\", \"mysql\", \"mysql\", \"name\", \"name\", \"name\", \"name\", \"name\", \"name\", \"name\", \"name\", \"name\", \"name\", \"name\", \"name\", \"name\", \"name\", \"name\", \"name\", \"name\", \"name\", \"name\", \"name\", \"nan\", \"nan\", \"nan\", \"native\", \"native\", \"native\", \"native\", \"native\", \"native\", \"native\", \"native\", \"native\", \"native\", \"native\", \"native\", \"native\", \"native\", \"native\", \"native\", \"native\", \"navbar\", \"navbar\", \"navbar\", \"navigation\", \"navigation\", \"navigation\", \"navigation\", \"navigation\", \"navigation\", \"navigation\", \"need\", \"need\", \"need\", \"need\", \"need\", \"need\", \"need\", \"need\", \"need\", \"need\", \"need\", \"need\", \"need\", \"need\", \"need\", \"need\", \"need\", \"need\", \"need\", \"need\", \"net\", \"net\", \"net\", \"net\", \"net\", \"net\", \"net\", \"net\", \"net\", \"net\", \"net\", \"net\", \"net\", \"net\", \"net\", \"net\", \"net\", \"net\", \"network\", \"network\", \"network\", \"network\", \"network\", \"network\", \"network\", \"network\", \"network\", \"network\", \"network\", \"network\", \"network\", \"network\", \"network\", \"network\", \"network\", \"network\", \"network\", \"neural\", \"new\", \"new\", \"new\", \"new\", \"new\", \"new\", \"new\", \"new\", \"new\", \"new\", \"new\", \"new\", \"new\", \"new\", \"new\", \"new\", \"new\", \"new\", \"new\", \"new\", \"nextjs\", \"ngfor\", \"ngfor\", \"ngif\", \"nginx\", \"nginx\", \"ngmodel\", \"ngmodule\", \"nio\", \"nio\", \"nio\", \"nio\", \"node\", \"node\", \"node\", \"node\", \"node\", \"node\", \"node\", \"node\", \"node\", \"node\", \"node\", \"node\", \"node\", \"node\", \"node\", \"node\", \"node\", \"node\", \"node\", \"node\", \"nodejs\", \"nodejs\", \"nodejs\", \"nodejs\", \"nodejs\", \"nodejs\", \"nodejs\", \"nodejs\", \"nodejs\", \"nodejs\", \"none\", \"none\", \"none\", \"none\", \"none\", \"none\", \"none\", \"none\", \"none\", \"none\", \"none\", \"none\", \"none\", \"none\", \"none\", \"none\", \"none\", \"none\", \"none\", \"none\", \"notebook\", \"notebook\", \"notebook\", \"notebook\", \"notebook\", \"notebook\", \"notebook\", \"notification\", \"notification\", \"notification\", \"notification\", \"notification\", \"notification\", \"notification\", \"notification\", \"notification\", \"notification\", \"notifications\", \"notifications\", \"notifications\", \"notifications\", \"notifications\", \"notifications\", \"notifications\", \"notifications\", \"notifications\", \"npm\", \"npm\", \"npm\", \"npm\", \"npm\", \"npm\", \"nuget\", \"nuget\", \"nuget\", \"nuget\", \"nuget\", \"null\", \"null\", \"null\", \"null\", \"null\", \"null\", \"null\", \"null\", \"null\", \"null\", \"null\", \"null\", \"null\", \"null\", \"null\", \"null\", \"null\", \"null\", \"null\", \"null\", \"nullable\", \"nullable\", \"nullable\", \"nullable\", \"nullable\", \"number\", \"number\", \"number\", \"number\", \"number\", \"number\", \"number\", \"number\", \"number\", \"number\", \"number\", \"number\", \"number\", \"number\", \"number\", \"number\", \"number\", \"number\", \"number\", \"number\", \"numeric\", \"numeric\", \"numeric\", \"numeric\", \"numeric\", \"numeric\", \"numeric\", \"numeric\", \"numeric\", \"numeric\", \"nuxt\", \"nuxt\", \"nuxt\", \"nvidia\", \"nvidia\", \"nvidia\", \"nvidia\", \"nvidia\", \"objc\", \"objc\", \"objc\", \"objc\", \"objc\", \"objc\", \"object\", \"object\", \"object\", \"object\", \"object\", \"object\", \"object\", \"object\", \"object\", \"object\", \"object\", \"object\", \"object\", \"object\", \"object\", \"object\", \"object\", \"object\", \"object\", \"object\", \"offset\", \"offset\", \"offset\", \"offset\", \"offset\", \"offset\", \"offset\", \"offset\", \"offset\", \"offset\", \"offset\", \"offset\", \"offset\", \"offset\", \"onchange\", \"onchange\", \"onchange\", \"onchange\", \"onchange\", \"onclick\", \"onclick\", \"onclick\", \"onclick\", \"onclick\", \"onclick\", \"oncreateview\", \"one\", \"one\", \"one\", \"one\", \"one\", \"one\", \"one\", \"one\", \"one\", \"one\", \"one\", \"one\", \"one\", \"one\", \"one\", \"one\", \"one\", \"one\", \"one\", \"one\", \"onpress\", \"onpress\", \"onpressed\", \"onpressed\", \"ontap\", \"ontap\", \"open\", \"open\", \"open\", \"open\", \"open\", \"open\", \"open\", \"open\", \"open\", \"open\", \"open\", \"open\", \"open\", \"open\", \"open\", \"open\", \"open\", \"open\", \"open\", \"open\", \"opencv\", \"opencv\", \"opencv\", \"opencv\", \"opencv\", \"openid\", \"openid\", \"ops\", \"ops\", \"ops\", \"ops\", \"optimizer\", \"optimizer\", \"optimizers\", \"option\", \"option\", \"option\", \"option\", \"option\", \"option\", \"option\", \"option\", \"option\", \"option\", \"option\", \"option\", \"option\", \"option\", \"option\", \"option\", \"option\", \"option\", \"option\", \"option\", \"org\", \"org\", \"org\", \"org\", \"org\", \"org\", \"org\", \"org\", \"org\", \"org\", \"org\", \"org\", \"org\", \"org\", \"org\", \"org\", \"org\", \"org\", \"org\", \"org\", \"origin\", \"origin\", \"origin\", \"origin\", \"origin\", \"origin\", \"origin\", \"origin\", \"origin\", \"origin\", \"origin\", \"origin\", \"origin\", \"origin'\", \"origin'\", \"output\", \"output\", \"output\", \"output\", \"output\", \"output\", \"output\", \"output\", \"output\", \"output\", \"output\", \"output\", \"output\", \"output\", \"output\", \"output\", \"output\", \"output\", \"output\", \"output\", \"override\", \"override\", \"override\", \"override\", \"override\", \"override\", \"override\", \"override\", \"override\", \"override\", \"override\", \"override\", \"override\", \"override\", \"override\", \"override\", \"override\", \"override\", \"override\", \"override\", \"package\", \"package\", \"package\", \"package\", \"package\", \"package\", \"package\", \"package\", \"package\", \"package\", \"package\", \"package\", \"package\", \"package\", \"package\", \"package\", \"package\", \"package\", \"package\", \"package\", \"page\", \"page\", \"page\", \"page\", \"page\", \"page\", \"page\", \"page\", \"page\", \"page\", \"page\", \"page\", \"page\", \"page\", \"page\", \"page\", \"page\", \"page\", \"page\", \"page\", \"pandas\", \"pandas\", \"pandas\", \"pandas\", \"parameter\", \"parameter\", \"parameter\", \"parameter\", \"parameter\", \"parameter\", \"parameter\", \"parameter\", \"parameter\", \"parameter\", \"parameter\", \"parameter\", \"parameter\", \"parameter\", \"parameter\", \"parameter\", \"parameter\", \"parameter\", \"parameter\", \"parameter\", \"parent\", \"parent\", \"parent\", \"parent\", \"parent\", \"parent\", \"parent\", \"parent\", \"parent\", \"parent\", \"parent\", \"parent\", \"parent\", \"parent\", \"parent\", \"parent\", \"parent\", \"parent\", \"parent\", \"parent\", \"partition\", \"partition\", \"partition\", \"partition\", \"partition\", \"partition\", \"partition\", \"partition\", \"partition\", \"partition\", \"partition\", \"partition\", \"password\", \"password\", \"password\", \"password\", \"password\", \"password\", \"password\", \"password\", \"password\", \"password\", \"password\", \"password\", \"password\", \"password\", \"password\", \"password\", \"password\", \"path\", \"path\", \"path\", \"path\", \"path\", \"path\", \"path\", \"path\", \"path\", \"path\", \"path\", \"path\", \"path\", \"path\", \"path\", \"path\", \"path\", \"path\", \"path\", \"path\", \"pause\", \"pause\", \"pause\", \"pause\", \"pause\", \"pause\", \"pause\", \"pause\", \"pause\", \"pause\", \"pause\", \"pdf\", \"pdf\", \"pdf\", \"pdf\", \"pdf\", \"pdf\", \"pdf\", \"pdf\", \"pdf\", \"pdf'\", \"pdf'\", \"pdf'\", \"peer\", \"peer\", \"peer\", \"peer\", \"peer\", \"peer\", \"permission\", \"permission\", \"permission\", \"permission\", \"permission\", \"permission\", \"permission\", \"permission\", \"permission\", \"persistence\", \"persistence\", \"persistence\", \"persistence\", \"persistence\", \"persistence\", \"persistence\", \"persistence\", \"persistence\", \"person\", \"person\", \"person\", \"person\", \"person\", \"person\", \"person\", \"person\", \"person\", \"person\", \"person\", \"person\", \"person\", \"person\", \"person\", \"person\", \"php\", \"php\", \"php\", \"php\", \"php\", \"php\", \"php\", \"php\", \"php\", \"php\", \"php\", \"php\", \"php\", \"pip\", \"pip\", \"pip\", \"pip\", \"pipeline\", \"pipeline\", \"pipeline\", \"pipeline\", \"pipeline\", \"pipeline\", \"pipeline\", \"pipeline\", \"pipeline\", \"pipelines\", \"pipelines\", \"pipelines\", \"pipelines\", \"pipelines\", \"pipelines\", \"pkg\", \"pkg\", \"pkg\", \"pkg\", \"pkg\", \"pkg\", \"pkg\", \"pkg\", \"placeholder\", \"placeholder\", \"placeholder\", \"placeholder\", \"placeholder\", \"placeholder\", \"placeholder\", \"placeholder\", \"placeholder\", \"placeholder\", \"placeholder\", \"play\", \"play\", \"play\", \"play\", \"play\", \"play\", \"play\", \"play\", \"play\", \"play\", \"play\", \"play\", \"play\", \"play\", \"play\", \"play\", \"play\", \"player\", \"player\", \"player\", \"player\", \"player\", \"player\", \"player\", \"plist\", \"plist\", \"plot\", \"plot\", \"plot\", \"plot\", \"plotly\", \"plotly\", \"plotly\", \"plotly\", \"plt\", \"plt\", \"plt\", \"plt\", \"plugin\", \"plugin\", \"plugin\", \"plugin\", \"plugin\", \"plugin\", \"plugin\", \"plugin\", \"plugin\", \"plugin\", \"plugin\", \"plugin\", \"plugin\", \"plugin\", \"plugin\", \"plugin\", \"plugin\", \"plugin\", \"pod\", \"pod\", \"pod\", \"pod\", \"pod\", \"pod\", \"pod\", \"pod\", \"point\", \"point\", \"point\", \"point\", \"point\", \"point\", \"point\", \"point\", \"point\", \"point\", \"point\", \"point\", \"point\", \"point\", \"point\", \"point\", \"point\", \"point\", \"point\", \"point\", \"policies\", \"policies\", \"policies\", \"policies\", \"policies\", \"policies\", \"policies\", \"policies\", \"pom\", \"pom\", \"port\", \"port\", \"port\", \"port\", \"port\", \"port\", \"port\", \"port\", \"port\", \"port\", \"port\", \"port\", \"port\", \"port\", \"port\", \"port\", \"port\", \"port\", \"post\", \"post\", \"post\", \"post\", \"post\", \"post\", \"post\", \"post\", \"post\", \"post\", \"post\", \"post\", \"post\", \"post\", \"post\", \"post\", \"post\", \"post\", \"post\", \"post\", \"postgres\", \"postgres\", \"postgres\", \"postgres\", \"postgres\", \"postgres\", \"postgres\", \"postgres\", \"postman\", \"postman\", \"postman\", \"postman\", \"postman\", \"powershell\", \"powershell\", \"powershell\", \"powershell\", \"pred\", \"pred\", \"predict\", \"predict\", \"prediction\", \"prediction\", \"predictions\", \"predictions\", \"preflight\", \"preflight\", \"preflight\", \"preprocessing\", \"preprocessing\", \"preprocessing\", \"price\", \"price\", \"price\", \"price\", \"price\", \"price\", \"price\", \"price\", \"price\", \"price\", \"price\", \"price\", \"principal\", \"principal\", \"principal\", \"principal\", \"principal\", \"principal\", \"principal\", \"print\", \"print\", \"print\", \"print\", \"print\", \"print\", \"print\", \"print\", \"print\", \"print\", \"print\", \"print\", \"print\", \"print\", \"print\", \"print\", \"print\", \"print\", \"print\", \"print\", \"printf\", \"printf\", \"printf\", \"printf\", \"private\", \"private\", \"private\", \"private\", \"private\", \"private\", \"private\", \"private\", \"private\", \"private\", \"private\", \"private\", \"private\", \"private\", \"private\", \"private\", \"private\", \"private\", \"proceed\", \"proceed\", \"proceed\", \"proceed\", \"proceed\", \"proceed\", \"proceed\", \"proceed\", \"proceed\", \"proceed\", \"proceed\", \"proceed\", \"proceed\", \"proceed\", \"proceed\", \"proceed\", \"proceed\", \"proceed\", \"proceed\", \"process\", \"process\", \"process\", \"process\", \"process\", \"process\", \"process\", \"process\", \"process\", \"process\", \"process\", \"process\", \"process\", \"process\", \"process\", \"process\", \"process\", \"process\", \"process\", \"process\", \"producer\", \"producer\", \"producer\", \"product\", \"product\", \"product\", \"product\", \"product\", \"product\", \"product\", \"product\", \"product\", \"product\", \"product\", \"product\", \"product\", \"product\", \"product\", \"product\", \"products\", \"products\", \"products\", \"products\", \"products\", \"products\", \"products\", \"products\", \"products\", \"products\", \"products\", \"products\", \"products\", \"products\", \"profile\", \"profile\", \"profile\", \"profile\", \"profile\", \"profile\", \"profile\", \"profile\", \"profile\", \"profile\", \"profile\", \"profile\", \"profile\", \"profile\", \"profile\", \"profile\", \"profile\", \"profile\", \"profile\", \"profile\", \"program\", \"program\", \"program\", \"program\", \"program\", \"program\", \"program\", \"program\", \"program\", \"program\", \"program\", \"program\", \"program\", \"program\", \"program\", \"program\", \"program\", \"program\", \"program\", \"proguardfiles\", \"project\", \"project\", \"project\", \"project\", \"project\", \"project\", \"project\", \"project\", \"project\", \"project\", \"project\", \"project\", \"project\", \"project\", \"project\", \"project\", \"project\", \"project\", \"project\", \"project\", \"promise\", \"promise\", \"promise\", \"promise\", \"promise\", \"promise\", \"promise\", \"promise\", \"promise\", \"promise\", \"promise\", \"promise\", \"promise\", \"promise\", \"promise\", \"prop\", \"prop\", \"prop\", \"prop\", \"prop\", \"prop\", \"prop\", \"prop\", \"prop\", \"prop\", \"prop\", \"prop\", \"prop\", \"properties\", \"properties\", \"properties\", \"properties\", \"properties\", \"properties\", \"properties\", \"properties\", \"properties\", \"properties\", \"properties\", \"properties\", \"properties\", \"properties\", \"properties\", \"properties\", \"properties\", \"properties\", \"properties\", \"properties\", \"property\", \"property\", \"property\", \"property\", \"property\", \"property\", \"property\", \"property\", \"property\", \"property\", \"property\", \"property\", \"property\", \"property\", \"property\", \"property\", \"property\", \"property\", \"property\", \"property\", \"proxy\", \"proxy\", \"proxy\", \"proxy\", \"proxy\", \"proxy\", \"proxy\", \"proxy\", \"proxy\", \"proxy\", \"proxy\", \"ptr\", \"ptr\", \"ptr\", \"pub\", \"pub\", \"pub\", \"pub\", \"pub\", \"pub\", \"pub\", \"pub\", \"pub\", \"pub\", \"public\", \"public\", \"public\", \"public\", \"public\", \"public\", \"public\", \"public\", \"public\", \"public\", \"public\", \"public\", \"public\", \"public\", \"public\", \"public\", \"public\", \"public\", \"public\", \"publisher\", \"publisher\", \"publisher\", \"publisher\", \"publisher\", \"publisher\", \"publisher\", \"publisher\", \"publisher\", \"purchase\", \"purchase\", \"purchase\", \"purchase\", \"purchase\", \"purchase\", \"purchase\", \"py'\", \"py'\", \"py'\", \"pycharm\", \"pycharm\", \"pycharm\", \"pycharm\", \"pycharm\", \"python\", \"python\", \"python\", \"python\", \"python\", \"python\", \"python\", \"python\", \"python\", \"python\", \"python\", \"python\", \"python\", \"python\", \"python\", \"pytorch\", \"pytorch\", \"pytorch\", \"query\", \"query\", \"query\", \"query\", \"query\", \"query\", \"query\", \"query\", \"query\", \"query\", \"query\", \"query\", \"query\", \"query\", \"query\", \"query\", \"query\", \"query\", \"query\", \"query\", \"queue\", \"queue\", \"queue\", \"queue\", \"queue\", \"queue\", \"queue\", \"queue\", \"queue\", \"queue\", \"queue\", \"queue\", \"radio\", \"radio\", \"radio\", \"raisedbutton\", \"raisedbutton\", \"range\", \"range\", \"range\", \"range\", \"range\", \"range\", \"range\", \"range\", \"range\", \"range\", \"range\", \"range\", \"range\", \"range\", \"range\", \"range\", \"range\", \"range\", \"react\", \"react\", \"react\", \"react\", \"react\", \"react\", \"react\", \"react\", \"react\", \"react\", \"react\", \"react\", \"react\", \"react\", \"read\", \"read\", \"read\", \"read\", \"read\", \"read\", \"read\", \"read\", \"read\", \"read\", \"read\", \"read\", \"read\", \"read\", \"read\", \"read\", \"read\", \"read\", \"read\", \"read\", \"reader\", \"reader\", \"reader\", \"reader\", \"reader\", \"reader\", \"reader\", \"reader\", \"reader\", \"reader\", \"reader\", \"reader\", \"reader\", \"reader\", \"reader\", \"readonly\", \"readonly\", \"readonly\", \"readonly\", \"readonly\", \"readonly\", \"readonly\", \"readonly\", \"readonly\", \"readonly\", \"readonly\", \"readonly\", \"receive\", \"receive\", \"receive\", \"receive\", \"receive\", \"receive\", \"receive\", \"receive\", \"receive\", \"receive\", \"receive\", \"receive\", \"receive\", \"receive\", \"receive\", \"receive\", \"receive\", \"receive\", \"receive\", \"receive\", \"recent\", \"recent\", \"recent\", \"recent\", \"recent\", \"recent\", \"recent\", \"recent\", \"recent\", \"recent\", \"recent\", \"recent\", \"recent\", \"recent\", \"recent\", \"rectangle\", \"rectangle\", \"rectangle\", \"rectangle\", \"rectangle\", \"rectangle\", \"recyclerview\", \"recyclerview\", \"redirect\", \"redirect\", \"redirect\", \"redirect\", \"redirect\", \"redirect\", \"redirect\", \"redirect\", \"redirect\", \"redirect\", \"redirect\", \"redirect\", \"redirect\", \"redux\", \"redux\", \"reference\", \"reference\", \"reference\", \"reference\", \"reference\", \"reference\", \"reference\", \"reference\", \"reference\", \"reference\", \"reference\", \"reference\", \"reference\", \"reference\", \"reference\", \"reference\", \"reference\", \"reference\", \"reference\", \"reference\", \"reflect\", \"reflect\", \"reflect\", \"reflect\", \"reflect\", \"reflect\", \"reflect\", \"reflect\", \"reflect\", \"reflect\", \"reflect\", \"reflect\", \"reflect\", \"reflect\", \"reflect\", \"registration\", \"registration\", \"registration\", \"registration\", \"registration\", \"registration\", \"registration\", \"registration\", \"registration\", \"registration\", \"registration\", \"registration\", \"rel\", \"rel\", \"rel\", \"rel\", \"rel\", \"rel\", \"rel\", \"relation\", \"relation\", \"relation\", \"relation\", \"relation\", \"relation\", \"relation\", \"relation\", \"relation\", \"relationship\", \"relationship\", \"relationship\", \"relationship\", \"relationship\", \"relationship\", \"relationship\", \"relationship\", \"release\", \"release\", \"release\", \"release\", \"release\", \"release\", \"release\", \"release\", \"release\", \"release\", \"release\", \"release\", \"release\", \"release\", \"release\", \"release\", \"release\", \"release\", \"remote\", \"remote\", \"remote\", \"remote\", \"remote\", \"remote\", \"remote\", \"remote\", \"remote\", \"remote\", \"remote\", \"remote\", \"remote\", \"remote\", \"remote\", \"remote\", \"remote\", \"render\", \"render\", \"render\", \"render\", \"render\", \"render\", \"render\", \"render\", \"render\", \"render\", \"render\", \"render\", \"render\", \"render\", \"render\", \"render\", \"render\", \"render\", \"replicas\", \"replicas\", \"replicas\", \"report\", \"report\", \"report\", \"report\", \"report\", \"report\", \"report\", \"report\", \"report\", \"report\", \"report\", \"report\", \"report\", \"report\", \"report\", \"report\", \"report\", \"report\", \"report\", \"report\", \"request\", \"request\", \"request\", \"request\", \"request\", \"request\", \"request\", \"request\", \"request\", \"request\", \"request\", \"request\", \"request\", \"request\", \"request\", \"request\", \"request\", \"request\", \"request\", \"request\", \"require\", \"require\", \"require\", \"require\", \"require\", \"require\", \"require\", \"require\", \"require\", \"require\", \"require\", \"require\", \"require\", \"require\", \"require\", \"require\", \"require\", \"require\", \"require\", \"require\", \"res\", \"res\", \"res\", \"res\", \"res\", \"res\", \"res\", \"res\", \"res\", \"res\", \"res\", \"res\", \"res\", \"res\", \"res\", \"res\", \"res\", \"res\", \"response\", \"response\", \"response\", \"response\", \"response\", \"response\", \"response\", \"response\", \"response\", \"response\", \"response\", \"response\", \"response\", \"response\", \"response\", \"response\", \"response\", \"response\", \"response\", \"responseentity\", \"responseentity\", \"responseentity\", \"result\", \"result\", \"result\", \"result\", \"result\", \"result\", \"result\", \"result\", \"result\", \"result\", \"result\", \"result\", \"result\", \"result\", \"result\", \"result\", \"result\", \"result\", \"result\", \"result\", \"ret\", \"ret\", \"ret\", \"ret\", \"ret\", \"ret\", \"ret\", \"retrofit\", \"retrofit\", \"retrofit\", \"retrofit\", \"return\", \"return\", \"return\", \"return\", \"return\", \"return\", \"return\", \"return\", \"return\", \"return\", \"return\", \"return\", \"return\", \"return\", \"return\", \"return\", \"return\", \"return\", \"return\", \"return\", \"roam\", \"roam\", \"roam\", \"roam\", \"role\", \"role\", \"role\", \"role\", \"role\", \"role\", \"role\", \"role\", \"role\", \"role\", \"role\", \"roles\", \"roles\", \"roles\", \"roles\", \"roles\", \"roles\", \"roles\", \"root\", \"root\", \"root\", \"root\", \"root\", \"root\", \"root\", \"root\", \"root\", \"root\", \"root\", \"root\", \"root\", \"root\", \"root\", \"root\", \"root\", \"root\", \"root\", \"root\", \"router\", \"router\", \"router\", \"router\", \"router\", \"router\", \"router\", \"router\", \"router\", \"router'\", \"row\", \"row\", \"row\", \"row\", \"row\", \"row\", \"row\", \"row\", \"row\", \"row\", \"row\", \"row\", \"row\", \"row\", \"rsa\", \"rsa\", \"rsa\", \"rsa\", \"ruby\", \"ruby\", \"ruby\", \"ruby\", \"ruby\", \"ruby\", \"ruby\", \"ruby\", \"run\", \"run\", \"run\", \"run\", \"run\", \"run\", \"run\", \"run\", \"run\", \"run\", \"run\", \"run\", \"run\", \"run\", \"run\", \"run\", \"run\", \"run\", \"run\", \"run\", \"runapp\", \"runapp\", \"runtime\", \"runtime\", \"runtime\", \"runtime\", \"runtime\", \"runtime\", \"runtime\", \"runtime\", \"runtime\", \"runtime\", \"runtime\", \"runtime\", \"runtime\", \"runtime\", \"runtime\", \"runtime\", \"runtime\", \"runtime\", \"runtime\", \"runtime\", \"rust\", \"rust\", \"rust\", \"rust\", \"rust\", \"rxjs\", \"rxjs\", \"sass\", \"sass\", \"sass\", \"save\", \"save\", \"save\", \"save\", \"save\", \"save\", \"save\", \"save\", \"save\", \"save\", \"save\", \"save\", \"save\", \"save\", \"save\", \"save\", \"save\", \"save\", \"save\", \"save\", \"savedinstancestate\", \"savedinstancestate\", \"savedinstancestate\", \"scaffold\", \"scaffold\", \"scaffold\", \"scaffold\", \"scaffold\", \"scala\", \"scale\", \"scale\", \"scale\", \"scale\", \"scale\", \"scale\", \"scale\", \"scale\", \"scale\", \"scale\", \"scale\", \"scale\", \"scale\", \"scale\", \"scale\", \"scanner\", \"scanner\", \"scanner\", \"scanner\", \"scanner\", \"scanner\", \"scatter\", \"scatter\", \"scatter\", \"scene\", \"scene\", \"scene\", \"scene\", \"scene\", \"scene\", \"schema\", \"schema\", \"schema\", \"schema\", \"schema\", \"schema\", \"schema\", \"schema\", \"schema\", \"schema\", \"schema\", \"schema\", \"schema\", \"schema\", \"schemalocation\", \"schemas\", \"schemas\", \"schemas\", \"schemas\", \"schemas\", \"schemas\", \"schemas\", \"schemas\", \"schemas\", \"schemas\", \"scrap\", \"scrap\", \"scrap\", \"scrap\", \"scrape\", \"scrape\", \"screen\", \"screen\", \"screen\", \"screen\", \"screen\", \"screen\", \"screen\", \"screen\", \"screen\", \"screen\", \"screen\", \"screen\", \"screen\", \"screen\", \"script\", \"script\", \"script\", \"script\", \"script\", \"script\", \"script\", \"script\", \"script\", \"script\", \"script\", \"script\", \"script\", \"script\", \"script\", \"script\", \"script\", \"script\", \"script\", \"scroll\", \"scroll\", \"scroll\", \"scroll\", \"scroll\", \"scroll\", \"scroll\", \"scrollview\", \"scrollview\", \"scss\", \"scss\", \"scss\", \"sdk\", \"sdk\", \"sdk\", \"sdk\", \"sdk\", \"sdk\", \"sdk\", \"sdk\", \"sdk\", \"sdk\", \"sdk\", \"sdk\", \"sdk\", \"second\", \"second\", \"second\", \"second\", \"second\", \"second\", \"second\", \"second\", \"second\", \"second\", \"second\", \"second\", \"second\", \"second\", \"second\", \"second\", \"second\", \"second\", \"second\", \"second\", \"security\", \"security\", \"security\", \"security\", \"security\", \"security\", \"security\", \"security\", \"security\", \"security\", \"security\", \"security\", \"security\", \"security\", \"select\", \"select\", \"select\", \"select\", \"select\", \"select\", \"select\", \"select\", \"select\", \"select\", \"select\", \"select\", \"select\", \"select\", \"select\", \"select\", \"select\", \"select\", \"select\", \"select\", \"selenium\", \"selenium\", \"selenium\", \"selenium\", \"self\", \"self\", \"self\", \"self\", \"self\", \"self\", \"self\", \"self\", \"self\", \"self\", \"self\", \"self\", \"self\", \"self\", \"self\", \"send\", \"send\", \"send\", \"send\", \"send\", \"send\", \"send\", \"send\", \"send\", \"send\", \"send\", \"send\", \"send\", \"send\", \"send\", \"send\", \"send\", \"send\", \"send\", \"send\", \"sentence\", \"sentence\", \"sentence\", \"sentence\", \"sequential\", \"sequential\", \"sequential\", \"serial\", \"serial\", \"serial\", \"serial\", \"serial\", \"serial\", \"serial\", \"serial\", \"serial\", \"serial\", \"serial\", \"serial\", \"serializable\", \"serializable\", \"serializable\", \"serializable\", \"serialize\", \"serialize\", \"serialize\", \"serialize\", \"serialize\", \"serialize\", \"serialize\", \"serialize\", \"serialize\", \"serializer\", \"serializer\", \"serializer\", \"serializer\", \"serializer\", \"serializer\", \"serializer\", \"serializer\", \"serializer\", \"server\", \"server\", \"server\", \"server\", \"server\", \"server\", \"server\", \"server\", \"server\", \"server\", \"server\", \"server\", \"server\", \"server\", \"server\", \"server\", \"server\", \"server\", \"server\", \"server\", \"serverless\", \"serverless\", \"serverless\", \"serverless\", \"service\", \"service\", \"service\", \"service\", \"service\", \"service\", \"service\", \"service\", \"service\", \"service\", \"service\", \"service\", \"service\", \"service\", \"service\", \"service\", \"service\", \"service\", \"service\", \"servlet\", \"servlet\", \"servlet\", \"session\", \"session\", \"session\", \"session\", \"session\", \"session\", \"session\", \"session\", \"session\", \"session\", \"session\", \"session\", \"session\", \"session\", \"session\", \"session\", \"session\", \"session\", \"set\", \"set\", \"set\", \"set\", \"set\", \"set\", \"set\", \"set\", \"set\", \"set\", \"set\", \"set\", \"set\", \"set\", \"set\", \"set\", \"set\", \"set\", \"set\", \"set\", \"setonclicklistener\", \"setonclicklistener\", \"setter\", \"setter\", \"setter\", \"setter\", \"setter\", \"settext\", \"settext\", \"settext\", \"settext\", \"settext\", \"settext\", \"setuptools\", \"setuptools\", \"sftp\", \"sftp\", \"sftp\", \"sftp\", \"sftp\", \"sha\", \"sha\", \"sha\", \"sha\", \"sha\", \"sha\", \"sha\", \"sha\", \"sha\", \"sha\", \"shape\", \"shape\", \"shape\", \"shape\", \"shape\", \"shape\", \"shape\", \"shape\", \"share\", \"share\", \"share\", \"share\", \"share\", \"share\", \"share\", \"share\", \"share\", \"share\", \"share\", \"share\", \"share\", \"share\", \"share\", \"share\", \"share\", \"share\", \"share\", \"share\", \"sheet\", \"sheet\", \"sheet\", \"sheet\", \"sheet\", \"sheet\", \"sheet\", \"sheet\", \"ship\", \"ship\", \"ship\", \"ship\", \"ship\", \"ship\", \"ship\", \"ship\", \"ship\", \"ship\", \"ship\", \"ship\", \"ship\", \"ship\", \"show\", \"show\", \"show\", \"show\", \"show\", \"show\", \"show\", \"show\", \"show\", \"show\", \"show\", \"show\", \"show\", \"show\", \"show\", \"show\", \"show\", \"show\", \"show\", \"show\", \"sign\", \"sign\", \"sign\", \"sign\", \"sign\", \"sign\", \"sign\", \"sign\", \"sign\", \"sign\", \"sign\", \"sign\", \"sign\", \"sign\", \"sign\", \"sign\", \"sign\", \"sign\", \"sign\", \"signin\", \"signin\", \"signin\", \"signin\", \"signin\", \"signin\", \"signin\", \"simulator\", \"simulator\", \"simulator\", \"simulator\", \"simulator\", \"simulator\", \"simulator\", \"sink\", \"sink\", \"sink\", \"sink\", \"sink\", \"sink\", \"site\", \"site\", \"site\", \"site\", \"site\", \"site\", \"site\", \"site\", \"site\", \"site\", \"site\", \"site\", \"site\", \"site\", \"site\", \"site\", \"site\", \"site\", \"site\", \"six\", \"six\", \"six\", \"six\", \"six\", \"six\", \"size\", \"size\", \"size\", \"size\", \"size\", \"size\", \"size\", \"size\", \"size\", \"size\", \"size\", \"size\", \"size\", \"size\", \"size\", \"size\", \"size\", \"size\", \"size\", \"size\", \"sizedbox\", \"sizedbox\", \"sleep\", \"sleep\", \"sleep\", \"sleep\", \"sleep\", \"sleep\", \"sleep\", \"sleep\", \"sleep\", \"sleep\", \"sleep\", \"sleep\", \"slower\", \"slower\", \"slower\", \"slower\", \"slower\", \"slower\", \"slower\", \"smtp\", \"smtp\", \"snapshot\", \"snapshot\", \"snapshot\", \"snapshot\", \"snapshot\", \"snapshot\", \"snapshot\", \"snapshot\", \"snapshot\", \"snapshot\", \"snapshot\", \"snapshot\", \"socket\", \"socket\", \"socket\", \"socket\", \"socket\", \"socket\", \"socket\", \"socket\", \"sockets\", \"sockets\", \"sockets\", \"sockets\", \"sockets\", \"sockets\", \"sort\", \"sort\", \"sort\", \"sort\", \"sort\", \"sort\", \"sort\", \"sort\", \"sort\", \"sort\", \"sort\", \"sort\", \"sort\", \"sort\", \"sort\", \"sort\", \"sort\", \"sort\", \"sort\", \"source\", \"source\", \"source\", \"source\", \"source\", \"source\", \"source\", \"source\", \"source\", \"source\", \"source\", \"source\", \"source\", \"source\", \"source\", \"source\", \"source\", \"source\", \"source\", \"source\", \"sourcemap\", \"span\", \"span\", \"span\", \"span\", \"span\", \"span\", \"spark\", \"spark\", \"spark\", \"sparksession\", \"sparksession\", \"split\", \"split\", \"split\", \"split\", \"split\", \"split\", \"split\", \"split\", \"split\", \"split\", \"split\", \"split\", \"split\", \"split\", \"split\", \"split\", \"split\", \"split\", \"spring\", \"spring\", \"spring\", \"spring\", \"spring\", \"springapplication\", \"springapplication\", \"springboot\", \"springboot\", \"springboot\", \"springframework\", \"springframework\", \"springframework\", \"springframework\", \"sql\", \"sql\", \"sql\", \"sql\", \"sql\", \"sql\", \"sql\", \"sql\", \"sql\", \"sql\", \"sql\", \"sql\", \"sql\", \"sql\", \"src\", \"src\", \"src\", \"src\", \"src\", \"src\", \"src\", \"src\", \"src\", \"src\", \"src\", \"src\", \"src\", \"src\", \"src\", \"src\", \"src\", \"src\", \"src\", \"ssh\", \"ssh\", \"ssh\", \"ssh\", \"ssh\", \"ssl\", \"ssl\", \"ssl\", \"ssl\", \"ssl\", \"ssl\", \"ssl\", \"ssl\", \"ssl\", \"ssr\", \"start\", \"start\", \"start\", \"start\", \"start\", \"start\", \"start\", \"start\", \"start\", \"start\", \"start\", \"start\", \"start\", \"start\", \"start\", \"start\", \"start\", \"start\", \"start\", \"start\", \"starter\", \"starter\", \"starter\", \"state\", \"state\", \"state\", \"state\", \"state\", \"state\", \"state\", \"state\", \"state\", \"state\", \"state\", \"state\", \"state\", \"state\", \"state\", \"state\", \"state\", \"state\", \"state\", \"state\", \"statefulwidget\", \"statefulwidget\", \"statelesswidget\", \"statelesswidget\", \"static\", \"static\", \"static\", \"static\", \"static\", \"static\", \"static\", \"static\", \"static\", \"static\", \"static\", \"static\", \"static\", \"static\", \"static\", \"static\", \"static\", \"static\", \"static\", \"static\", \"std\", \"std\", \"std\", \"std\", \"std\", \"step\", \"step\", \"step\", \"step\", \"step\", \"step\", \"step\", \"step\", \"step\", \"step\", \"step\", \"step\", \"step\", \"step\", \"step\", \"step\", \"step\", \"step\", \"step\", \"step\", \"sticky\", \"sticky\", \"sticky\", \"sticky\", \"sticky\", \"stop\", \"stop\", \"stop\", \"stop\", \"stop\", \"stop\", \"stop\", \"stop\", \"stop\", \"stop\", \"stop\", \"stop\", \"stop\", \"stop\", \"stop\", \"stop\", \"stop\", \"stop\", \"stop\", \"stop\", \"storage\", \"storage\", \"storage\", \"storage\", \"storage\", \"storage\", \"storage\", \"storage\", \"storage\", \"storage\", \"storage\", \"storage\", \"storage\", \"storage\", \"storage\", \"storage\", \"storage\", \"stream\", \"stream\", \"stream\", \"stream\", \"stream\", \"stream\", \"stream\", \"stream\", \"stream\", \"stream\", \"stream\", \"stream\", \"stream\", \"stream\", \"stream\", \"stream\", \"string\", \"string\", \"string\", \"string\", \"string\", \"string\", \"string\", \"string\", \"string\", \"string\", \"string\", \"string\", \"string\", \"string\", \"string\", \"string\", \"string\", \"string\", \"string\", \"string\", \"student\", \"student\", \"student\", \"student\", \"student\", \"student\", \"student\", \"student\", \"studio\", \"studio\", \"studio\", \"studio\", \"studio\", \"studio\", \"studio\", \"studio\", \"studio\", \"studio\", \"style\", \"style\", \"style\", \"style\", \"style\", \"style\", \"style\", \"style\", \"style\", \"style\", \"style\", \"style\", \"style\", \"style\", \"style\", \"style\", \"style\", \"style\", \"subplots\", \"subscription\", \"subscription\", \"subscription\", \"subscription\", \"subscription\", \"subscription\", \"subscription\", \"subscription\", \"subscription\", \"subscription\", \"subscription\", \"subset\", \"subset\", \"subset\", \"subset\", \"subset\", \"subset\", \"subset\", \"subset\", \"suite\", \"suite\", \"suite\", \"suite\", \"suite\", \"suite\", \"suite\", \"suite\", \"suite\", \"suite\", \"suite\", \"suite\", \"suite\", \"suite\", \"sum\", \"sum\", \"sum\", \"sum\", \"sum\", \"sum\", \"sum\", \"sum\", \"sum\", \"sun\", \"sun\", \"sun\", \"sun\", \"sun\", \"sun\", \"sun\", \"support\", \"support\", \"support\", \"support\", \"support\", \"support\", \"support\", \"support\", \"support\", \"support\", \"support\", \"support\", \"support\", \"support\", \"support\", \"support\", \"support\", \"support\", \"support\", \"support\", \"svc\", \"svc\", \"svc\", \"svc\", \"svc\", \"swift\", \"swift\", \"swift\", \"swift\", \"swift\", \"swift\", \"swift\", \"swift\", \"swift\", \"swiftui\", \"swiftui\", \"swipe\", \"swipe\", \"swipe\", \"symbols\", \"symbols\", \"symbols\", \"symbols\", \"symbols\", \"symbols\", \"symbols\", \"symbols\", \"symbols\", \"symbols\", \"symfony\", \"symfony\", \"symfony\", \"symfony\", \"system\", \"system\", \"system\", \"system\", \"system\", \"system\", \"system\", \"system\", \"system\", \"system\", \"system\", \"system\", \"system\", \"system\", \"system\", \"system\", \"system\", \"system\", \"system\", \"system\", \"tab\", \"tab\", \"tab\", \"tab\", \"tab\", \"tab\", \"tab\", \"tab\", \"tab\", \"tab\", \"tab\", \"tab\", \"tab\", \"tab\", \"tab\", \"tab\", \"tab\", \"tab\", \"table\", \"table\", \"table\", \"table\", \"table\", \"table\", \"table\", \"table\", \"table\", \"table\", \"table\", \"table\", \"table\", \"table\", \"table\", \"table\", \"table\", \"tabs\", \"tabs\", \"tabs\", \"tabs\", \"tabs\", \"tabs\", \"tabs\", \"tabs\", \"tabs\", \"tabs\", \"tabs\", \"tar\", \"tar\", \"tar\", \"tar\", \"tar\", \"tar\", \"tar\", \"tar\", \"target\", \"target\", \"target\", \"target\", \"target\", \"target\", \"target\", \"target\", \"target\", \"target\", \"target\", \"target\", \"target\", \"target\", \"target\", \"target\", \"target\", \"target\", \"target\", \"target\", \"task\", \"task\", \"task\", \"task\", \"task\", \"task\", \"task\", \"task\", \"task\", \"task\", \"task\", \"task\", \"task\", \"task\", \"task\", \"task\", \"task\", \"task\", \"task\", \"task\", \"tbody\", \"tbody\", \"template\", \"template\", \"template\", \"template\", \"template\", \"template\", \"template\", \"template\", \"template\", \"template\", \"template\", \"template\", \"template\", \"template\", \"template\", \"template\", \"template\", \"tenant\", \"tenant\", \"tenant\", \"tenant\", \"tenant\", \"tenant\", \"tenant\", \"tenant\", \"tensor\", \"tensorflow\", \"tensorflow\", \"tensors\", \"terraform\", \"terraform\", \"terraform\", \"test\", \"test\", \"test\", \"test\", \"test\", \"test\", \"test\", \"test\", \"test\", \"test\", \"test\", \"test\", \"test\", \"test\", \"test\", \"test\", \"test\", \"test\", \"test\", \"test\", \"testinstrumentationrunner\", \"text\", \"text\", \"text\", \"text\", \"text\", \"text\", \"text\", \"text\", \"text\", \"text\", \"text\", \"text\", \"text\", \"text\", \"text\", \"text\", \"text\", \"text\", \"text\", \"text\", \"textarea\", \"textarea\", \"textcolor\", \"textfield\", \"textfield\", \"textfield\", \"textfield\", \"textfield\", \"textfield\", \"textstyle\", \"textstyle\", \"textview\", \"thead\", \"theme\", \"theme\", \"theme\", \"theme\", \"theme\", \"theme\", \"theme\", \"theme\", \"theme\", \"theme\", \"theme\", \"theme\", \"themedata\", \"themedata\", \"thread\", \"thread\", \"thread\", \"thread\", \"thread\", \"thread\", \"thread\", \"thread\", \"thread\", \"thread\", \"thread\", \"thread\", \"thread\", \"thread\", \"thread\", \"thread\", \"thread\", \"thread\", \"thread\", \"threadpoolexecutor\", \"threadpoolexecutor\", \"threadpoolexecutor\", \"time\", \"time\", \"time\", \"time\", \"time\", \"time\", \"time\", \"time\", \"time\", \"time\", \"time\", \"time\", \"time\", \"time\", \"time\", \"time\", \"time\", \"time\", \"time\", \"time\", \"timer\", \"timer\", \"timer\", \"timer\", \"timer\", \"timer\", \"timer\", \"timer\", \"title\", \"title\", \"title\", \"title\", \"title\", \"title\", \"title\", \"title\", \"title\", \"title\", \"title\", \"title\", \"title\", \"title\", \"title\", \"title\", \"title\", \"title\", \"tls\", \"tls\", \"tls\", \"tls\", \"tls\", \"tls\", \"toast\", \"toast\", \"tobottomof\", \"toendof\", \"toggle\", \"toggle\", \"toggle\", \"toggle\", \"toggle\", \"token\", \"token\", \"token\", \"token\", \"token\", \"token\", \"token\", \"token\", \"token\", \"token\", \"token\", \"token\", \"token\", \"token\", \"token\", \"tokens\", \"tokens\", \"tokens\", \"tokens\", \"tokens\", \"tokens\", \"tokens\", \"tokens\", \"tomcat\", \"tomcat\", \"tomcat\", \"tomcat\", \"toolbar\", \"toolbar\", \"toolbar\", \"toolbar\", \"topic\", \"topic\", \"topic\", \"topic\", \"topic\", \"topic\", \"topic\", \"topic\", \"topic\", \"topic\", \"topic\", \"topic\", \"topic\", \"topic\", \"topic\", \"topic\", \"topic\", \"torch\", \"tostartof\", \"totopof\", \"trace\", \"trace\", \"trace\", \"trace\", \"trace\", \"trace\", \"trace\", \"trace\", \"trace\", \"trace\", \"trace\", \"trace\", \"trace\", \"trace\", \"trace\", \"trace\", \"trace\", \"trace\", \"traceback\", \"traceback\", \"traceback\", \"train\", \"train\", \"transport\", \"transport\", \"transport\", \"transport\", \"transport\", \"transport\", \"transport\", \"transport\", \"transport\", \"transport\", \"transport\", \"transport\", \"transport\", \"true\", \"true\", \"true\", \"true\", \"true\", \"true\", \"true\", \"true\", \"true\", \"true\", \"true\", \"true\", \"true\", \"true\", \"true\", \"true\", \"true\", \"true\", \"true\", \"true\", \"try\", \"try\", \"try\", \"try\", \"try\", \"try\", \"try\", \"try\", \"try\", \"try\", \"try\", \"try\", \"try\", \"try\", \"try\", \"try\", \"try\", \"try\", \"try\", \"try\", \"tsconfig\", \"tslint\", \"tsx\", \"tsx\", \"tsx\", \"two\", \"two\", \"two\", \"two\", \"two\", \"two\", \"two\", \"two\", \"two\", \"two\", \"two\", \"two\", \"two\", \"two\", \"two\", \"two\", \"two\", \"two\", \"two\", \"two\", \"txt\", \"txt\", \"txt\", \"txt\", \"txt\", \"txt\", \"txt\", \"txt\", \"txt\", \"txt\", \"txt\", \"txt\", \"txt\", \"txt\", \"type\", \"type\", \"type\", \"type\", \"type\", \"type\", \"type\", \"type\", \"type\", \"type\", \"type\", \"type\", \"type\", \"type\", \"type\", \"type\", \"type\", \"type\", \"type\", \"type\", \"typename\", \"typename\", \"typescript\", \"typescript\", \"typescript\", \"typescript\", \"typescript\", \"uiapplication\", \"uiapplication\", \"uiapplication\", \"uiview\", \"uiview\", \"uiviewcontroller\", \"uiviewcontroller\", \"undefined\", \"undefined\", \"undefined\", \"undefined\", \"undefined\", \"undefined\", \"undefined\", \"undefined\", \"undefined\", \"undefined\", \"undefined\", \"undefined\", \"undefined\", \"undefined\", \"undefined\", \"undefined\", \"unhandled\", \"unhandled\", \"unhandled\", \"unhandled\", \"unhandled\", \"unhandled\", \"unit\", \"unit\", \"unit\", \"unit\", \"unit\", \"unit\", \"unit\", \"unit\", \"unit\", \"unit\", \"unit\", \"unit\", \"unit\", \"unit\", \"unit\", \"unit\", \"unit\", \"unit\", \"unit\", \"unit\", \"unity\", \"unity\", \"unity\", \"unity\", \"unity\", \"update\", \"update\", \"update\", \"update\", \"update\", \"update\", \"update\", \"update\", \"update\", \"update\", \"update\", \"update\", \"update\", \"update\", \"update\", \"update\", \"update\", \"update\", \"update\", \"update\", \"upload\", \"upload\", \"upload\", \"upload\", \"upload\", \"upload\", \"upload\", \"upload\", \"upload\", \"upload\", \"upload\", \"upload\", \"upload\", \"upload\", \"upload\", \"upload\", \"upload\", \"upload\", \"upstream\", \"upstream\", \"upstream\", \"upstream\", \"upstream\", \"url\", \"url\", \"url\", \"url\", \"url\", \"url\", \"url\", \"url\", \"url\", \"url\", \"url\", \"url\", \"url\", \"url\", \"url\", \"url\", \"url\", \"url\", \"url\", \"url\", \"urls\", \"urls\", \"urls\", \"urls\", \"urls\", \"urls\", \"urls\", \"urls\", \"urls\", \"urls\", \"urls\", \"urls\", \"usb\", \"usb\", \"usb\", \"usb\", \"usb\", \"useeffect\", \"useeffect\", \"user\", \"user\", \"user\", \"user\", \"user\", \"user\", \"user\", \"user\", \"user\", \"user\", \"user\", \"user\", \"user\", \"user\", \"user\", \"user\", \"user\", \"user\", \"user\", \"user\", \"username\", \"username\", \"username\", \"username\", \"username\", \"username\", \"username\", \"username\", \"username\", \"username\", \"username\", \"username\", \"username\", \"username\", \"username\", \"username\", \"username\", \"username\", \"users\", \"users\", \"users\", \"users\", \"users\", \"users\", \"users\", \"users\", \"users\", \"users\", \"users\", \"users\", \"users\", \"users\", \"users\", \"users\", \"users\", \"users\", \"users\", \"users\", \"usestate\", \"usestate\", \"usestate\", \"usestate\", \"usr\", \"usr\", \"usr\", \"usr\", \"usr\", \"usr\", \"usr\", \"usr\", \"util\", \"util\", \"util\", \"util\", \"util\", \"util\", \"util\", \"util\", \"util\", \"util\", \"util\", \"util\", \"util\", \"util\", \"util\", \"value\", \"value\", \"value\", \"value\", \"value\", \"value\", \"value\", \"value\", \"value\", \"value\", \"value\", \"value\", \"value\", \"value\", \"value\", \"value\", \"value\", \"value\", \"value\", \"value\", \"var\", \"var\", \"var\", \"var\", \"var\", \"var\", \"var\", \"var\", \"var\", \"var\", \"var\", \"var\", \"var\", \"var\", \"var\", \"var\", \"var\", \"var\", \"var\", \"var\", \"vba\", \"vba\", \"vba\", \"vba\", \"vba\", \"vectors\", \"vectors\", \"vectors\", \"vectors\", \"venv\", \"version\", \"version\", \"version\", \"version\", \"version\", \"version\", \"version\", \"version\", \"version\", \"version\", \"version\", \"version\", \"version\", \"version\", \"version\", \"version\", \"version\", \"version\", \"version\", \"version\", \"video\", \"video\", \"video\", \"video\", \"video\", \"video\", \"video\", \"video\", \"video\", \"video\", \"video\", \"video\", \"videos\", \"videos\", \"videos\", \"videos\", \"videos\", \"videos\", \"videos\", \"videos\", \"videos\", \"view\", \"view\", \"view\", \"view\", \"view\", \"view\", \"view\", \"view\", \"view\", \"view\", \"view\", \"view\", \"view\", \"view\", \"view\", \"view\", \"view\", \"view\", \"view\", \"view\", \"viewgroup\", \"viewgroup\", \"viewmodel\", \"viewmodel\", \"viewmodel\", \"viewmodel\", \"viewmodel\", \"viewmodel\", \"visual\", \"visual\", \"visual\", \"visual\", \"visualstudio\", \"visualstudio\", \"visualstudio\", \"visualstudio\", \"void\", \"void\", \"void\", \"void\", \"void\", \"void\", \"void\", \"void\", \"void\", \"void\", \"void\", \"void\", \"void\", \"void\", \"void\", \"void\", \"void\", \"volumes\", \"volumes\", \"vscode\", \"vscode\", \"vscode\", \"vscode\", \"vscode\", \"vscode\", \"vscode\", \"vscode\", \"vscode\", \"vstack\", \"vstack\", \"vstack\", \"vue\", \"vue\", \"vue\", \"vue\", \"vue\", \"want\", \"want\", \"want\", \"want\", \"want\", \"want\", \"want\", \"want\", \"want\", \"want\", \"want\", \"want\", \"want\", \"want\", \"want\", \"want\", \"want\", \"want\", \"want\", \"want\", \"war\", \"war\", \"war\", \"war\", \"war\", \"way\", \"way\", \"way\", \"way\", \"way\", \"way\", \"way\", \"way\", \"way\", \"way\", \"way\", \"way\", \"way\", \"way\", \"way\", \"way\", \"way\", \"way\", \"way\", \"way\", \"web\", \"web\", \"web\", \"web\", \"web\", \"web\", \"web\", \"web\", \"web\", \"web\", \"web\", \"web\", \"web\", \"web\", \"web\", \"web\", \"web\", \"web\", \"web\", \"web\", \"webapp\", \"webapp\", \"webapp\", \"webapp\", \"webapp\", \"webapp\", \"webapp\", \"webapp\", \"webapp\", \"webapp\", \"webdriver\", \"webdriver\", \"webdriver\", \"webpack\", \"webpack\", \"website\", \"website\", \"website\", \"website\", \"website\", \"website\", \"website\", \"website\", \"website\", \"website\", \"website\", \"website\", \"website\", \"website\", \"website\", \"website\", \"website\", \"website\", \"website\", \"websocket\", \"websocket\", \"websocket\", \"websocket\", \"websocket\", \"websocket\", \"websocket\", \"websocket\", \"webview\", \"webview\", \"webview\", \"webview\", \"webview\", \"webview\", \"week\", \"week\", \"week\", \"week\", \"week\", \"week\", \"week\", \"week\", \"week\", \"week\", \"week\", \"week\", \"week\", \"week\", \"week\", \"week\", \"week\", \"weight\", \"weight\", \"weight\", \"weight\", \"weight\", \"weight\", \"wheel\", \"wheel\", \"wheel\", \"wheel\", \"wheel\", \"wheel\", \"widget\", \"widget\", \"widget\", \"widget\", \"widget\", \"widget\", \"widgets\", \"widgets\", \"widgets\", \"widgets\", \"widgets\", \"widgets\", \"widgets\", \"widgets\", \"width\", \"width\", \"width\", \"width\", \"width\", \"width\", \"width\", \"width\", \"width\", \"width\", \"width\", \"wifi\", \"wifi\", \"wifi\", \"wifi\", \"win\", \"win\", \"win\", \"win\", \"win\", \"win\", \"win\", \"win\", \"win\", \"win\", \"win\", \"win\", \"win\", \"win\", \"window\", \"window\", \"window\", \"window\", \"window\", \"window\", \"window\", \"window\", \"window\", \"window\", \"window\", \"window\", \"window\", \"window\", \"window\", \"window\", \"window\", \"window\", \"window\", \"window\", \"windows\", \"windows\", \"windows\", \"windows\", \"windows\", \"windows\", \"windows\", \"windows\", \"windows\", \"windows\", \"windows\", \"windows\", \"windows\", \"windows\", \"windows\", \"windows\", \"windows\", \"windows\", \"withcolumn\", \"withcolumn\", \"word\", \"word\", \"word\", \"word\", \"word\", \"word\", \"word\", \"word\", \"word\", \"word\", \"word\", \"word\", \"word\", \"word\", \"word\", \"word\", \"word\", \"work\", \"work\", \"work\", \"work\", \"work\", \"work\", \"work\", \"work\", \"work\", \"work\", \"work\", \"work\", \"work\", \"work\", \"work\", \"work\", \"work\", \"work\", \"work\", \"work\", \"workdir\", \"workdir\", \"workdir\", \"would\", \"would\", \"would\", \"would\", \"would\", \"would\", \"would\", \"would\", \"would\", \"would\", \"would\", \"would\", \"would\", \"would\", \"would\", \"would\", \"would\", \"would\", \"would\", \"would\", \"wrap\", \"wrap\", \"wrap\", \"wrap\", \"wrap\", \"wrap\", \"wrap\", \"wrap\", \"wrap\", \"wrap\", \"wrap\", \"wrap\", \"wrap\", \"wrap\", \"wrap\", \"wrap\", \"wrap\", \"wrap\", \"wrap\", \"write\", \"write\", \"write\", \"write\", \"write\", \"write\", \"write\", \"write\", \"write\", \"write\", \"write\", \"write\", \"write\", \"write\", \"write\", \"write\", \"write\", \"write\", \"write\", \"write\", \"writer\", \"writer\", \"writer\", \"writer\", \"writer\", \"writer\", \"writer\", \"writer\", \"writer\", \"writer\", \"writer\", \"writer\", \"writer\", \"wsgi\", \"wsgi\", \"wsgi\", \"wsl\", \"wsl\", \"wsl\", \"wsl\", \"wsl\", \"www\", \"www\", \"www\", \"www\", \"www\", \"www\", \"www\", \"www\", \"www\", \"www\", \"www\", \"www\", \"www\", \"www\", \"www\", \"www\", \"www\", \"www\", \"www\", \"www\", \"xcode\", \"xcode\", \"xcode\", \"xcode\", \"xcode\", \"xcode\", \"xcode\", \"xcode\", \"xcode\", \"xhr\", \"xhr\", \"xhr\", \"xlsx\", \"xlsx\", \"xlsx\", \"xlsx\", \"xml\", \"xml\", \"xml\", \"xml\", \"xml\", \"xml\", \"xml\", \"xml\", \"xml\", \"xml\", \"xml\", \"xml\", \"xml\", \"xml\", \"xml\", \"xmlhttprequest\", \"xmlhttprequest\", \"xmlns\", \"xmlns\", \"xmlns\", \"xmlns\", \"xmlns\", \"xmlns\", \"xmlns\", \"xmlns\", \"xmlns\", \"xmlschema\", \"xpath\", \"xpath\", \"xpath\", \"xpath\", \"xsd\", \"xsd\", \"xsi\", \"xsi\", \"yaml\", \"yaml\", \"yaml\", \"yaml\", \"yaml\", \"yaml\", \"yaml\", \"yaml\", \"yaml\", \"yaml\", \"yaml\", \"yaml\", \"yml\", \"yml\", \"yml\", \"yml\", \"yml\", \"yml\", \"yml\", \"yml\", \"zip\", \"zip\", \"zip\", \"zip\", \"zip\", \"zip\", \"zip\", \"zip\", \"zip\", \"zip\", \"zip\", \"zip\", \"zip\", \"zip\", \"zoom\", \"zoom\", \"zoom\", \"zoom\", \"zoom\", \"zoom\", \"zygoteinit\"]}, \"R\": 30, \"lambda.step\": 0.01, \"plot.opts\": {\"xlab\": \"PC1\", \"ylab\": \"PC2\"}, \"topic.order\": [10, 4, 7, 19, 9, 5, 12, 8, 11, 17, 6, 2, 1, 18, 15, 3, 13, 20, 14, 16]};\n",
       "\n",
       "function LDAvis_load_lib(url, callback){\n",
       "  var s = document.createElement('script');\n",
       "  s.src = url;\n",
       "  s.async = true;\n",
       "  s.onreadystatechange = s.onload = callback;\n",
       "  s.onerror = function(){console.warn(\"failed to load library \" + url);};\n",
       "  document.getElementsByTagName(\"head\")[0].appendChild(s);\n",
       "}\n",
       "\n",
       "if(typeof(LDAvis) !== \"undefined\"){\n",
       "   // already loaded: just create the visualization\n",
       "   !function(LDAvis){\n",
       "       new LDAvis(\"#\" + \"ldavis_el177471404990212759845289747250\", ldavis_el177471404990212759845289747250_data);\n",
       "   }(LDAvis);\n",
       "}else if(typeof define === \"function\" && define.amd){\n",
       "   // require.js is available: use it to load d3/LDAvis\n",
       "   require.config({paths: {d3: \"https://d3js.org/d3.v5\"}});\n",
       "   require([\"d3\"], function(d3){\n",
       "      window.d3 = d3;\n",
       "      LDAvis_load_lib(\"https://cdn.jsdelivr.net/gh/bmabey/pyLDAvis@3.3.1/pyLDAvis/js/ldavis.v3.0.0.js\", function(){\n",
       "        new LDAvis(\"#\" + \"ldavis_el177471404990212759845289747250\", ldavis_el177471404990212759845289747250_data);\n",
       "      });\n",
       "    });\n",
       "}else{\n",
       "    // require.js not available: dynamically load d3 & LDAvis\n",
       "    LDAvis_load_lib(\"https://d3js.org/d3.v5.js\", function(){\n",
       "         LDAvis_load_lib(\"https://cdn.jsdelivr.net/gh/bmabey/pyLDAvis@3.3.1/pyLDAvis/js/ldavis.v3.0.0.js\", function(){\n",
       "                 new LDAvis(\"#\" + \"ldavis_el177471404990212759845289747250\", ldavis_el177471404990212759845289747250_data);\n",
       "            })\n",
       "         });\n",
       "}\n",
       "</script>"
      ],
      "text/plain": [
       "PreparedData(topic_coordinates=              x         y  topics  cluster      Freq\n",
       "topic                                               \n",
       "9      0.169114 -0.088344       1        1  7.544888\n",
       "3      0.077442  0.011244       2        1  7.373318\n",
       "6     -0.019815 -0.013732       3        1  7.003165\n",
       "18     0.041068 -0.087798       4        1  6.973651\n",
       "8     -0.096019 -0.099256       5        1  6.764437\n",
       "4      0.199277  0.132084       6        1  6.531218\n",
       "11    -0.130738 -0.137776       7        1  6.032640\n",
       "7     -0.002431 -0.032642       8        1  5.996182\n",
       "10    -0.005724 -0.105047       9        1  5.510881\n",
       "16     0.138388 -0.069945      10        1  4.933341\n",
       "5      0.204863  0.019726      11        1  4.805867\n",
       "1      0.018470 -0.126876      12        1  4.495630\n",
       "0      0.082786 -0.067121      13        1  3.848894\n",
       "17    -0.030283  0.036789      14        1  3.843282\n",
       "14    -0.099023 -0.063087      15        1  3.771584\n",
       "2     -0.261325  0.141333      16        1  3.425528\n",
       "12     0.129387  0.278438      17        1  3.407766\n",
       "19    -0.268375  0.083927      18        1  2.953864\n",
       "13     0.113362  0.116849      19        1  2.575770\n",
       "15    -0.260424  0.071234      20        1  2.208093, topic_info=        Term          Freq         Total Category  logprob  loglift\n",
       "443     java  44031.000000  44031.000000  Default  30.0000  30.0000\n",
       "19      file  60796.000000  60796.000000  Default  29.0000  29.0000\n",
       "556  android  33819.000000  33819.000000  Default  28.0000  28.0000\n",
       "256      org  28011.000000  28011.000000  Default  27.0000  27.0000\n",
       "263     test  28539.000000  28539.000000  Default  26.0000  26.0000\n",
       "..       ...           ...           ...      ...      ...      ...\n",
       "410     core   1864.966847  16789.495724  Topic20  -4.4101   1.6155\n",
       "169      api   1486.314936  21215.500554  Topic20  -4.6371   1.1546\n",
       "44   project   1302.777973  16993.354776  Topic20  -4.7689   1.2447\n",
       "602     fail   1106.493779  14856.590032  Topic20  -4.9322   1.2158\n",
       "163  service    927.285592  16131.512738  Topic20  -5.1089   0.9568\n",
       "\n",
       "[1308 rows x 6 columns], token_table=      Topic      Freq        Term\n",
       "term                             \n",
       "1352      1  0.925242         'a'\n",
       "1352      2  0.006697         'a'\n",
       "1352      3  0.001116         'a'\n",
       "1352      6  0.013393         'a'\n",
       "1352      8  0.001116         'a'\n",
       "...     ...       ...         ...\n",
       "2222     10  0.016129        zoom\n",
       "2222     11  0.954291        zoom\n",
       "2222     13  0.008064        zoom\n",
       "2222     14  0.009409        zoom\n",
       "2895     16  0.997505  zygoteinit\n",
       "\n",
       "[9761 rows x 3 columns], R=30, lambda_step=0.01, plot_opts={'xlab': 'PC1', 'ylab': 'PC2'}, topic_order=[10, 4, 7, 19, 9, 5, 12, 8, 11, 17, 6, 2, 1, 18, 15, 3, 13, 20, 14, 16])"
      ]
     },
     "execution_count": 90,
     "metadata": {},
     "output_type": "execute_result"
    }
   ],
   "source": [
    "pyLDAvis.enable_notebook()\n",
    "vis = pyLDAvis.gensim_models.prepare(model, bow_corpus, id2word)\n",
    "vis"
   ]
  },
  {
   "cell_type": "code",
   "execution_count": 91,
   "metadata": {
    "colab": {
     "base_uri": "https://localhost:8080/"
    },
    "executionInfo": {
     "elapsed": 10662,
     "status": "ok",
     "timestamp": 1637246138381,
     "user": {
      "displayName": "Alexandre Taillard de Vorms",
      "photoUrl": "https://lh3.googleusercontent.com/a/default-user=s64",
      "userId": "17158358651987272696"
     },
     "user_tz": -60
    },
    "id": "1fhYW-TFJ-DM",
    "outputId": "4e36adc8-70b3-4122-9cdd-bee0d723d560"
   },
   "outputs": [
    {
     "name": "stdout",
     "output_type": "stream",
     "text": [
      "document/tag :  (47696, 500)\n",
      "document/topic :  (47696, 20)\n"
     ]
    }
   ],
   "source": [
    "# Calculate Document/topic matrix with Gensim\n",
    "doc_topic = pd.DataFrame(model\\\n",
    "                             .get_document_topics(bow_corpus,\n",
    "                                                  minimum_probability=0))\n",
    "for topic in doc_topic.columns:\n",
    "    doc_topic[topic] = doc_topic[topic].apply(lambda x : x[1])\n",
    "\n",
    "print('document/tag : ', y_encoded.shape)\n",
    "print('document/topic : ', doc_topic.shape)"
   ]
  },
  {
   "cell_type": "code",
   "execution_count": 92,
   "metadata": {
    "colab": {
     "base_uri": "https://localhost:8080/"
    },
    "executionInfo": {
     "elapsed": 10,
     "status": "ok",
     "timestamp": 1637246138382,
     "user": {
      "displayName": "Alexandre Taillard de Vorms",
      "photoUrl": "https://lh3.googleusercontent.com/a/default-user=s64",
      "userId": "17158358651987272696"
     },
     "user_tz": -60
    },
    "id": "l2-g9DQ-J-Ah",
    "outputId": "edd2d1db-102c-41bc-cc53-f51e82db904a"
   },
   "outputs": [
    {
     "data": {
      "text/html": [
       "<div>\n",
       "<style scoped>\n",
       "    .dataframe tbody tr th:only-of-type {\n",
       "        vertical-align: middle;\n",
       "    }\n",
       "\n",
       "    .dataframe tbody tr th {\n",
       "        vertical-align: top;\n",
       "    }\n",
       "\n",
       "    .dataframe thead th {\n",
       "        text-align: right;\n",
       "    }\n",
       "</style>\n",
       "<table border=\"1\" class=\"dataframe\">\n",
       "  <thead>\n",
       "    <tr style=\"text-align: right;\">\n",
       "      <th></th>\n",
       "      <th>0</th>\n",
       "      <th>1</th>\n",
       "      <th>2</th>\n",
       "      <th>3</th>\n",
       "      <th>4</th>\n",
       "      <th>5</th>\n",
       "      <th>6</th>\n",
       "      <th>7</th>\n",
       "      <th>8</th>\n",
       "      <th>9</th>\n",
       "      <th>10</th>\n",
       "      <th>11</th>\n",
       "      <th>12</th>\n",
       "      <th>13</th>\n",
       "      <th>14</th>\n",
       "      <th>15</th>\n",
       "      <th>16</th>\n",
       "      <th>17</th>\n",
       "      <th>18</th>\n",
       "      <th>19</th>\n",
       "    </tr>\n",
       "  </thead>\n",
       "  <tbody>\n",
       "    <tr>\n",
       "      <th>0</th>\n",
       "      <td>0.000417</td>\n",
       "      <td>0.000417</td>\n",
       "      <td>0.000417</td>\n",
       "      <td>0.000417</td>\n",
       "      <td>0.375520</td>\n",
       "      <td>0.000417</td>\n",
       "      <td>0.535145</td>\n",
       "      <td>0.000417</td>\n",
       "      <td>0.000417</td>\n",
       "      <td>0.000417</td>\n",
       "      <td>0.082249</td>\n",
       "      <td>0.000417</td>\n",
       "      <td>0.000417</td>\n",
       "      <td>0.000417</td>\n",
       "      <td>0.000417</td>\n",
       "      <td>0.000417</td>\n",
       "      <td>0.000417</td>\n",
       "      <td>0.000417</td>\n",
       "      <td>0.000417</td>\n",
       "      <td>0.000417</td>\n",
       "    </tr>\n",
       "    <tr>\n",
       "      <th>1</th>\n",
       "      <td>0.000104</td>\n",
       "      <td>0.126960</td>\n",
       "      <td>0.000104</td>\n",
       "      <td>0.000104</td>\n",
       "      <td>0.000104</td>\n",
       "      <td>0.000104</td>\n",
       "      <td>0.000104</td>\n",
       "      <td>0.000104</td>\n",
       "      <td>0.000104</td>\n",
       "      <td>0.000104</td>\n",
       "      <td>0.000104</td>\n",
       "      <td>0.844147</td>\n",
       "      <td>0.000104</td>\n",
       "      <td>0.000104</td>\n",
       "      <td>0.000104</td>\n",
       "      <td>0.000104</td>\n",
       "      <td>0.027121</td>\n",
       "      <td>0.000104</td>\n",
       "      <td>0.000104</td>\n",
       "      <td>0.000104</td>\n",
       "    </tr>\n",
       "    <tr>\n",
       "      <th>2</th>\n",
       "      <td>0.000658</td>\n",
       "      <td>0.000658</td>\n",
       "      <td>0.000658</td>\n",
       "      <td>0.063846</td>\n",
       "      <td>0.037058</td>\n",
       "      <td>0.000658</td>\n",
       "      <td>0.000658</td>\n",
       "      <td>0.000658</td>\n",
       "      <td>0.706692</td>\n",
       "      <td>0.000658</td>\n",
       "      <td>0.000658</td>\n",
       "      <td>0.000658</td>\n",
       "      <td>0.000658</td>\n",
       "      <td>0.000658</td>\n",
       "      <td>0.000658</td>\n",
       "      <td>0.000658</td>\n",
       "      <td>0.000658</td>\n",
       "      <td>0.000658</td>\n",
       "      <td>0.181877</td>\n",
       "      <td>0.000658</td>\n",
       "    </tr>\n",
       "    <tr>\n",
       "      <th>3</th>\n",
       "      <td>0.000676</td>\n",
       "      <td>0.015316</td>\n",
       "      <td>0.000676</td>\n",
       "      <td>0.000676</td>\n",
       "      <td>0.000676</td>\n",
       "      <td>0.000676</td>\n",
       "      <td>0.365530</td>\n",
       "      <td>0.000676</td>\n",
       "      <td>0.249225</td>\n",
       "      <td>0.000676</td>\n",
       "      <td>0.106433</td>\n",
       "      <td>0.000676</td>\n",
       "      <td>0.000676</td>\n",
       "      <td>0.000676</td>\n",
       "      <td>0.039541</td>\n",
       "      <td>0.000676</td>\n",
       "      <td>0.000676</td>\n",
       "      <td>0.000676</td>\n",
       "      <td>0.214493</td>\n",
       "      <td>0.000676</td>\n",
       "    </tr>\n",
       "    <tr>\n",
       "      <th>4</th>\n",
       "      <td>0.000481</td>\n",
       "      <td>0.000481</td>\n",
       "      <td>0.000481</td>\n",
       "      <td>0.000481</td>\n",
       "      <td>0.029919</td>\n",
       "      <td>0.439778</td>\n",
       "      <td>0.000481</td>\n",
       "      <td>0.157752</td>\n",
       "      <td>0.000481</td>\n",
       "      <td>0.000481</td>\n",
       "      <td>0.000481</td>\n",
       "      <td>0.000481</td>\n",
       "      <td>0.000481</td>\n",
       "      <td>0.000481</td>\n",
       "      <td>0.000481</td>\n",
       "      <td>0.000481</td>\n",
       "      <td>0.000481</td>\n",
       "      <td>0.000481</td>\n",
       "      <td>0.364857</td>\n",
       "      <td>0.000481</td>\n",
       "    </tr>\n",
       "    <tr>\n",
       "      <th>...</th>\n",
       "      <td>...</td>\n",
       "      <td>...</td>\n",
       "      <td>...</td>\n",
       "      <td>...</td>\n",
       "      <td>...</td>\n",
       "      <td>...</td>\n",
       "      <td>...</td>\n",
       "      <td>...</td>\n",
       "      <td>...</td>\n",
       "      <td>...</td>\n",
       "      <td>...</td>\n",
       "      <td>...</td>\n",
       "      <td>...</td>\n",
       "      <td>...</td>\n",
       "      <td>...</td>\n",
       "      <td>...</td>\n",
       "      <td>...</td>\n",
       "      <td>...</td>\n",
       "      <td>...</td>\n",
       "      <td>...</td>\n",
       "    </tr>\n",
       "    <tr>\n",
       "      <th>47691</th>\n",
       "      <td>0.033513</td>\n",
       "      <td>0.000208</td>\n",
       "      <td>0.000208</td>\n",
       "      <td>0.240262</td>\n",
       "      <td>0.000208</td>\n",
       "      <td>0.000208</td>\n",
       "      <td>0.000208</td>\n",
       "      <td>0.295261</td>\n",
       "      <td>0.000208</td>\n",
       "      <td>0.000208</td>\n",
       "      <td>0.000208</td>\n",
       "      <td>0.000208</td>\n",
       "      <td>0.000208</td>\n",
       "      <td>0.000208</td>\n",
       "      <td>0.032285</td>\n",
       "      <td>0.000208</td>\n",
       "      <td>0.000208</td>\n",
       "      <td>0.000208</td>\n",
       "      <td>0.395554</td>\n",
       "      <td>0.000208</td>\n",
       "    </tr>\n",
       "    <tr>\n",
       "      <th>47692</th>\n",
       "      <td>0.000667</td>\n",
       "      <td>0.000667</td>\n",
       "      <td>0.000667</td>\n",
       "      <td>0.000667</td>\n",
       "      <td>0.388316</td>\n",
       "      <td>0.000667</td>\n",
       "      <td>0.000667</td>\n",
       "      <td>0.000667</td>\n",
       "      <td>0.000667</td>\n",
       "      <td>0.599682</td>\n",
       "      <td>0.000667</td>\n",
       "      <td>0.000667</td>\n",
       "      <td>0.000667</td>\n",
       "      <td>0.000667</td>\n",
       "      <td>0.000667</td>\n",
       "      <td>0.000667</td>\n",
       "      <td>0.000667</td>\n",
       "      <td>0.000667</td>\n",
       "      <td>0.000667</td>\n",
       "      <td>0.000667</td>\n",
       "    </tr>\n",
       "    <tr>\n",
       "      <th>47693</th>\n",
       "      <td>0.000329</td>\n",
       "      <td>0.000329</td>\n",
       "      <td>0.000329</td>\n",
       "      <td>0.000329</td>\n",
       "      <td>0.000329</td>\n",
       "      <td>0.000329</td>\n",
       "      <td>0.422239</td>\n",
       "      <td>0.000329</td>\n",
       "      <td>0.000329</td>\n",
       "      <td>0.044756</td>\n",
       "      <td>0.000329</td>\n",
       "      <td>0.000329</td>\n",
       "      <td>0.148405</td>\n",
       "      <td>0.060693</td>\n",
       "      <td>0.000329</td>\n",
       "      <td>0.000329</td>\n",
       "      <td>0.000329</td>\n",
       "      <td>0.000329</td>\n",
       "      <td>0.318972</td>\n",
       "      <td>0.000329</td>\n",
       "    </tr>\n",
       "    <tr>\n",
       "      <th>47694</th>\n",
       "      <td>0.000538</td>\n",
       "      <td>0.507781</td>\n",
       "      <td>0.000538</td>\n",
       "      <td>0.000538</td>\n",
       "      <td>0.000538</td>\n",
       "      <td>0.000538</td>\n",
       "      <td>0.000538</td>\n",
       "      <td>0.000538</td>\n",
       "      <td>0.000538</td>\n",
       "      <td>0.000538</td>\n",
       "      <td>0.033827</td>\n",
       "      <td>0.000538</td>\n",
       "      <td>0.000538</td>\n",
       "      <td>0.000538</td>\n",
       "      <td>0.000538</td>\n",
       "      <td>0.100299</td>\n",
       "      <td>0.000538</td>\n",
       "      <td>0.349489</td>\n",
       "      <td>0.000538</td>\n",
       "      <td>0.000538</td>\n",
       "    </tr>\n",
       "    <tr>\n",
       "      <th>47695</th>\n",
       "      <td>0.000649</td>\n",
       "      <td>0.000649</td>\n",
       "      <td>0.000649</td>\n",
       "      <td>0.000649</td>\n",
       "      <td>0.000649</td>\n",
       "      <td>0.000649</td>\n",
       "      <td>0.000649</td>\n",
       "      <td>0.000649</td>\n",
       "      <td>0.000649</td>\n",
       "      <td>0.987661</td>\n",
       "      <td>0.000649</td>\n",
       "      <td>0.000649</td>\n",
       "      <td>0.000649</td>\n",
       "      <td>0.000649</td>\n",
       "      <td>0.000649</td>\n",
       "      <td>0.000649</td>\n",
       "      <td>0.000649</td>\n",
       "      <td>0.000649</td>\n",
       "      <td>0.000649</td>\n",
       "      <td>0.000649</td>\n",
       "    </tr>\n",
       "  </tbody>\n",
       "</table>\n",
       "<p>47696 rows × 20 columns</p>\n",
       "</div>"
      ],
      "text/plain": [
       "             0         1         2         3         4         5         6   \\\n",
       "0      0.000417  0.000417  0.000417  0.000417  0.375520  0.000417  0.535145   \n",
       "1      0.000104  0.126960  0.000104  0.000104  0.000104  0.000104  0.000104   \n",
       "2      0.000658  0.000658  0.000658  0.063846  0.037058  0.000658  0.000658   \n",
       "3      0.000676  0.015316  0.000676  0.000676  0.000676  0.000676  0.365530   \n",
       "4      0.000481  0.000481  0.000481  0.000481  0.029919  0.439778  0.000481   \n",
       "...         ...       ...       ...       ...       ...       ...       ...   \n",
       "47691  0.033513  0.000208  0.000208  0.240262  0.000208  0.000208  0.000208   \n",
       "47692  0.000667  0.000667  0.000667  0.000667  0.388316  0.000667  0.000667   \n",
       "47693  0.000329  0.000329  0.000329  0.000329  0.000329  0.000329  0.422239   \n",
       "47694  0.000538  0.507781  0.000538  0.000538  0.000538  0.000538  0.000538   \n",
       "47695  0.000649  0.000649  0.000649  0.000649  0.000649  0.000649  0.000649   \n",
       "\n",
       "             7         8         9         10        11        12        13  \\\n",
       "0      0.000417  0.000417  0.000417  0.082249  0.000417  0.000417  0.000417   \n",
       "1      0.000104  0.000104  0.000104  0.000104  0.844147  0.000104  0.000104   \n",
       "2      0.000658  0.706692  0.000658  0.000658  0.000658  0.000658  0.000658   \n",
       "3      0.000676  0.249225  0.000676  0.106433  0.000676  0.000676  0.000676   \n",
       "4      0.157752  0.000481  0.000481  0.000481  0.000481  0.000481  0.000481   \n",
       "...         ...       ...       ...       ...       ...       ...       ...   \n",
       "47691  0.295261  0.000208  0.000208  0.000208  0.000208  0.000208  0.000208   \n",
       "47692  0.000667  0.000667  0.599682  0.000667  0.000667  0.000667  0.000667   \n",
       "47693  0.000329  0.000329  0.044756  0.000329  0.000329  0.148405  0.060693   \n",
       "47694  0.000538  0.000538  0.000538  0.033827  0.000538  0.000538  0.000538   \n",
       "47695  0.000649  0.000649  0.987661  0.000649  0.000649  0.000649  0.000649   \n",
       "\n",
       "             14        15        16        17        18        19  \n",
       "0      0.000417  0.000417  0.000417  0.000417  0.000417  0.000417  \n",
       "1      0.000104  0.000104  0.027121  0.000104  0.000104  0.000104  \n",
       "2      0.000658  0.000658  0.000658  0.000658  0.181877  0.000658  \n",
       "3      0.039541  0.000676  0.000676  0.000676  0.214493  0.000676  \n",
       "4      0.000481  0.000481  0.000481  0.000481  0.364857  0.000481  \n",
       "...         ...       ...       ...       ...       ...       ...  \n",
       "47691  0.032285  0.000208  0.000208  0.000208  0.395554  0.000208  \n",
       "47692  0.000667  0.000667  0.000667  0.000667  0.000667  0.000667  \n",
       "47693  0.000329  0.000329  0.000329  0.000329  0.318972  0.000329  \n",
       "47694  0.000538  0.100299  0.000538  0.349489  0.000538  0.000538  \n",
       "47695  0.000649  0.000649  0.000649  0.000649  0.000649  0.000649  \n",
       "\n",
       "[47696 rows x 20 columns]"
      ]
     },
     "execution_count": 92,
     "metadata": {},
     "output_type": "execute_result"
    }
   ],
   "source": [
    "doc_topic"
   ]
  },
  {
   "cell_type": "code",
   "execution_count": 93,
   "metadata": {
    "id": "qDdMeOLtJ98l"
   },
   "outputs": [],
   "source": [
    "topic_tag = np.matmul(doc_topic.T,y_encoded)"
   ]
  },
  {
   "cell_type": "code",
   "execution_count": 94,
   "metadata": {
    "colab": {
     "base_uri": "https://localhost:8080/"
    },
    "executionInfo": {
     "elapsed": 28319,
     "status": "ok",
     "timestamp": 1637246166695,
     "user": {
      "displayName": "Alexandre Taillard de Vorms",
      "photoUrl": "https://lh3.googleusercontent.com/a/default-user=s64",
      "userId": "17158358651987272696"
     },
     "user_tz": -60
    },
    "id": "9jhi1LFcKcd7",
    "outputId": "e156656e-361e-410f-e4f4-3a6219fb08ce"
   },
   "outputs": [
    {
     "data": {
      "text/html": [
       "<div>\n",
       "<style scoped>\n",
       "    .dataframe tbody tr th:only-of-type {\n",
       "        vertical-align: middle;\n",
       "    }\n",
       "\n",
       "    .dataframe tbody tr th {\n",
       "        vertical-align: top;\n",
       "    }\n",
       "\n",
       "    .dataframe thead th {\n",
       "        text-align: right;\n",
       "    }\n",
       "</style>\n",
       "<table border=\"1\" class=\"dataframe\">\n",
       "  <thead>\n",
       "    <tr style=\"text-align: right;\">\n",
       "      <th></th>\n",
       "      <th>0</th>\n",
       "      <th>best_topic</th>\n",
       "      <th>nb_tags</th>\n",
       "      <th>y_true</th>\n",
       "    </tr>\n",
       "  </thead>\n",
       "  <tbody>\n",
       "    <tr>\n",
       "      <th>0</th>\n",
       "      <td>[css, vue.js, vuetify.js]</td>\n",
       "      <td>6</td>\n",
       "      <td>3</td>\n",
       "      <td>[111, 474, 476]</td>\n",
       "    </tr>\n",
       "    <tr>\n",
       "      <th>1</th>\n",
       "      <td>[python, pyinstaller]</td>\n",
       "      <td>11</td>\n",
       "      <td>2</td>\n",
       "      <td>[357, 362]</td>\n",
       "    </tr>\n",
       "    <tr>\n",
       "      <th>2</th>\n",
       "      <td>[amazon-web-services, amazon-ecs]</td>\n",
       "      <td>8</td>\n",
       "      <td>2</td>\n",
       "      <td>[10, 13]</td>\n",
       "    </tr>\n",
       "    <tr>\n",
       "      <th>3</th>\n",
       "      <td>[node.js, reactjs, deployment]</td>\n",
       "      <td>6</td>\n",
       "      <td>3</td>\n",
       "      <td>[127, 310, 383]</td>\n",
       "    </tr>\n",
       "    <tr>\n",
       "      <th>4</th>\n",
       "      <td>[javascript, node.js, stripe-payments]</td>\n",
       "      <td>5</td>\n",
       "      <td>3</td>\n",
       "      <td>[247, 310, 433]</td>\n",
       "    </tr>\n",
       "    <tr>\n",
       "      <th>...</th>\n",
       "      <td>...</td>\n",
       "      <td>...</td>\n",
       "      <td>...</td>\n",
       "      <td>...</td>\n",
       "    </tr>\n",
       "    <tr>\n",
       "      <th>47691</th>\n",
       "      <td>[swift]</td>\n",
       "      <td>18</td>\n",
       "      <td>1</td>\n",
       "      <td>[438]</td>\n",
       "    </tr>\n",
       "    <tr>\n",
       "      <th>47692</th>\n",
       "      <td>[vue.js, vuejs2]</td>\n",
       "      <td>9</td>\n",
       "      <td>2</td>\n",
       "      <td>[474, 475]</td>\n",
       "    </tr>\n",
       "    <tr>\n",
       "      <th>47693</th>\n",
       "      <td>[javascript, angular, typescript, ionic-framew...</td>\n",
       "      <td>6</td>\n",
       "      <td>4</td>\n",
       "      <td>[27, 235, 247, 457]</td>\n",
       "    </tr>\n",
       "    <tr>\n",
       "      <th>47694</th>\n",
       "      <td>[xcode]</td>\n",
       "      <td>1</td>\n",
       "      <td>1</td>\n",
       "      <td>[494]</td>\n",
       "    </tr>\n",
       "    <tr>\n",
       "      <th>47695</th>\n",
       "      <td>[sql]</td>\n",
       "      <td>9</td>\n",
       "      <td>1</td>\n",
       "      <td>[426]</td>\n",
       "    </tr>\n",
       "  </tbody>\n",
       "</table>\n",
       "<p>47696 rows × 4 columns</p>\n",
       "</div>"
      ],
      "text/plain": [
       "                                                       0  best_topic  nb_tags  \\\n",
       "0                              [css, vue.js, vuetify.js]           6        3   \n",
       "1                                  [python, pyinstaller]          11        2   \n",
       "2                      [amazon-web-services, amazon-ecs]           8        2   \n",
       "3                         [node.js, reactjs, deployment]           6        3   \n",
       "4                 [javascript, node.js, stripe-payments]           5        3   \n",
       "...                                                  ...         ...      ...   \n",
       "47691                                            [swift]          18        1   \n",
       "47692                                   [vue.js, vuejs2]           9        2   \n",
       "47693  [javascript, angular, typescript, ionic-framew...           6        4   \n",
       "47694                                            [xcode]           1        1   \n",
       "47695                                              [sql]           9        1   \n",
       "\n",
       "                    y_true  \n",
       "0          [111, 474, 476]  \n",
       "1               [357, 362]  \n",
       "2                 [10, 13]  \n",
       "3          [127, 310, 383]  \n",
       "4          [247, 310, 433]  \n",
       "...                    ...  \n",
       "47691                [438]  \n",
       "47692           [474, 475]  \n",
       "47693  [27, 235, 247, 457]  \n",
       "47694                [494]  \n",
       "47695                [426]  \n",
       "\n",
       "[47696 rows x 4 columns]"
      ]
     },
     "execution_count": 94,
     "metadata": {},
     "output_type": "execute_result"
    }
   ],
   "source": [
    "y_results = pd.DataFrame(y)\n",
    "y_results[\"best_topic\"] = doc_topic.idxmax(axis=1).values\n",
    "y_results[\"nb_tags\"] = y_results[0].apply(lambda x : len(x))\n",
    "\n",
    "df_y_bin = pd.DataFrame(y_encoded)\n",
    "df_dict = dict(\n",
    "    list(\n",
    "        df_y_bin.groupby(df_y_bin.index)\n",
    "    )\n",
    ")\n",
    "\n",
    "tags_num = []\n",
    "for k, v in df_dict.items():\n",
    "    check = v.columns[(v == 1).any()]\n",
    "    tags_num.append(check.to_list())\n",
    "\n",
    "y_results[\"y_true\"] = tags_num\n",
    "y_results"
   ]
  },
  {
   "cell_type": "code",
   "execution_count": 95,
   "metadata": {
    "colab": {
     "base_uri": "https://localhost:8080/"
    },
    "executionInfo": {
     "elapsed": 4848,
     "status": "ok",
     "timestamp": 1637246171540,
     "user": {
      "displayName": "Alexandre Taillard de Vorms",
      "photoUrl": "https://lh3.googleusercontent.com/a/default-user=s64",
      "userId": "17158358651987272696"
     },
     "user_tz": -60
    },
    "id": "BEq97RP1L5ro",
    "outputId": "a40e9dff-3ab3-4de5-b8bc-5d43497c25ff"
   },
   "outputs": [
    {
     "data": {
      "text/html": [
       "<div>\n",
       "<style scoped>\n",
       "    .dataframe tbody tr th:only-of-type {\n",
       "        vertical-align: middle;\n",
       "    }\n",
       "\n",
       "    .dataframe tbody tr th {\n",
       "        vertical-align: top;\n",
       "    }\n",
       "\n",
       "    .dataframe thead th {\n",
       "        text-align: right;\n",
       "    }\n",
       "</style>\n",
       "<table border=\"1\" class=\"dataframe\">\n",
       "  <thead>\n",
       "    <tr style=\"text-align: right;\">\n",
       "      <th></th>\n",
       "      <th>0</th>\n",
       "      <th>best_topic</th>\n",
       "      <th>nb_tags</th>\n",
       "      <th>y_true</th>\n",
       "      <th>y_pred</th>\n",
       "    </tr>\n",
       "  </thead>\n",
       "  <tbody>\n",
       "    <tr>\n",
       "      <th>0</th>\n",
       "      <td>[css, vue.js, vuetify.js]</td>\n",
       "      <td>6</td>\n",
       "      <td>3</td>\n",
       "      <td>[111, 474, 476]</td>\n",
       "      <td>[383, 247, 27]</td>\n",
       "    </tr>\n",
       "    <tr>\n",
       "      <th>1</th>\n",
       "      <td>[python, pyinstaller]</td>\n",
       "      <td>11</td>\n",
       "      <td>2</td>\n",
       "      <td>[357, 362]</td>\n",
       "      <td>[362, 365]</td>\n",
       "    </tr>\n",
       "    <tr>\n",
       "      <th>2</th>\n",
       "      <td>[amazon-web-services, amazon-ecs]</td>\n",
       "      <td>8</td>\n",
       "      <td>2</td>\n",
       "      <td>[10, 13]</td>\n",
       "      <td>[137, 264]</td>\n",
       "    </tr>\n",
       "    <tr>\n",
       "      <th>3</th>\n",
       "      <td>[node.js, reactjs, deployment]</td>\n",
       "      <td>6</td>\n",
       "      <td>3</td>\n",
       "      <td>[127, 310, 383]</td>\n",
       "      <td>[383, 247, 27]</td>\n",
       "    </tr>\n",
       "    <tr>\n",
       "      <th>4</th>\n",
       "      <td>[javascript, node.js, stripe-payments]</td>\n",
       "      <td>5</td>\n",
       "      <td>3</td>\n",
       "      <td>[247, 310, 433]</td>\n",
       "      <td>[362, 438, 440]</td>\n",
       "    </tr>\n",
       "    <tr>\n",
       "      <th>...</th>\n",
       "      <td>...</td>\n",
       "      <td>...</td>\n",
       "      <td>...</td>\n",
       "      <td>...</td>\n",
       "      <td>...</td>\n",
       "    </tr>\n",
       "    <tr>\n",
       "      <th>47691</th>\n",
       "      <td>[swift]</td>\n",
       "      <td>18</td>\n",
       "      <td>1</td>\n",
       "      <td>[438]</td>\n",
       "      <td>[13]</td>\n",
       "    </tr>\n",
       "    <tr>\n",
       "      <th>47692</th>\n",
       "      <td>[vue.js, vuejs2]</td>\n",
       "      <td>9</td>\n",
       "      <td>2</td>\n",
       "      <td>[474, 475]</td>\n",
       "      <td>[362, 330]</td>\n",
       "    </tr>\n",
       "    <tr>\n",
       "      <th>47693</th>\n",
       "      <td>[javascript, angular, typescript, ionic-framew...</td>\n",
       "      <td>6</td>\n",
       "      <td>4</td>\n",
       "      <td>[27, 235, 247, 457]</td>\n",
       "      <td>[383, 247, 27, 310]</td>\n",
       "    </tr>\n",
       "    <tr>\n",
       "      <th>47694</th>\n",
       "      <td>[xcode]</td>\n",
       "      <td>1</td>\n",
       "      <td>1</td>\n",
       "      <td>[494]</td>\n",
       "      <td>[362]</td>\n",
       "    </tr>\n",
       "    <tr>\n",
       "      <th>47695</th>\n",
       "      <td>[sql]</td>\n",
       "      <td>9</td>\n",
       "      <td>1</td>\n",
       "      <td>[426]</td>\n",
       "      <td>[362]</td>\n",
       "    </tr>\n",
       "  </tbody>\n",
       "</table>\n",
       "<p>47696 rows × 5 columns</p>\n",
       "</div>"
      ],
      "text/plain": [
       "                                                       0  best_topic  nb_tags  \\\n",
       "0                              [css, vue.js, vuetify.js]           6        3   \n",
       "1                                  [python, pyinstaller]          11        2   \n",
       "2                      [amazon-web-services, amazon-ecs]           8        2   \n",
       "3                         [node.js, reactjs, deployment]           6        3   \n",
       "4                 [javascript, node.js, stripe-payments]           5        3   \n",
       "...                                                  ...         ...      ...   \n",
       "47691                                            [swift]          18        1   \n",
       "47692                                   [vue.js, vuejs2]           9        2   \n",
       "47693  [javascript, angular, typescript, ionic-framew...           6        4   \n",
       "47694                                            [xcode]           1        1   \n",
       "47695                                              [sql]           9        1   \n",
       "\n",
       "                    y_true               y_pred  \n",
       "0          [111, 474, 476]       [383, 247, 27]  \n",
       "1               [357, 362]           [362, 365]  \n",
       "2                 [10, 13]           [137, 264]  \n",
       "3          [127, 310, 383]       [383, 247, 27]  \n",
       "4          [247, 310, 433]      [362, 438, 440]  \n",
       "...                    ...                  ...  \n",
       "47691                [438]                 [13]  \n",
       "47692           [474, 475]           [362, 330]  \n",
       "47693  [27, 235, 247, 457]  [383, 247, 27, 310]  \n",
       "47694                [494]                [362]  \n",
       "47695                [426]                [362]  \n",
       "\n",
       "[47696 rows x 5 columns]"
      ]
     },
     "execution_count": 95,
     "metadata": {},
     "output_type": "execute_result"
    }
   ],
   "source": [
    "list_tag = []\n",
    "for row in y_results.itertuples():\n",
    "    nb_tags = row.nb_tags\n",
    "    best_topic = row.best_topic\n",
    "    row_tags = list(topic_tag.iloc[best_topic]\\\n",
    "                    .sort_values(ascending=False)[0:nb_tags].index)\n",
    "    list_tag.append(row_tags)\n",
    "    \n",
    "y_results[\"y_pred\"] = list_tag\n",
    "y_results"
   ]
  },
  {
   "cell_type": "code",
   "execution_count": 96,
   "metadata": {
    "id": "LejCdcciMia4"
   },
   "outputs": [],
   "source": [
    "# Create matrix for pred and true y LDA\n",
    "lda_y_pred = np.zeros(y_encoded.shape)\n",
    "n = 0\n",
    "for row in y_results.y_pred.values:\n",
    "    for i in range(len(row)):\n",
    "        lda_y_pred[n,row[i]] = 1\n",
    "    n+=1\n",
    "    \n",
    "lda_y_true = np.zeros(y_encoded.shape)\n",
    "m = 0\n",
    "for row in y_results.y_true.values:\n",
    "    for i in range(len(row)):\n",
    "        lda_y_true[m,row[i]] = 1\n",
    "    m+=1"
   ]
  },
  {
   "cell_type": "code",
   "execution_count": 97,
   "metadata": {
    "colab": {
     "base_uri": "https://localhost:8080/"
    },
    "executionInfo": {
     "elapsed": 6118,
     "status": "ok",
     "timestamp": 1637246177655,
     "user": {
      "displayName": "Alexandre Taillard de Vorms",
      "photoUrl": "https://lh3.googleusercontent.com/a/default-user=s64",
      "userId": "17158358651987272696"
     },
     "user_tz": -60
    },
    "id": "JM7SHrtoMq70",
    "outputId": "0acddb9d-d32a-4f77-9aff-ec384d948bff"
   },
   "outputs": [
    {
     "name": "stderr",
     "output_type": "stream",
     "text": [
      "/home/efkant/anaconda3/envs/stack_tags/lib/python3.7/site-packages/sklearn/metrics/_classification.py:1308: UndefinedMetricWarning:\n",
      "\n",
      "Precision is ill-defined and being set to 0.0 in labels with no predicted samples. Use `zero_division` parameter to control this behavior.\n",
      "\n"
     ]
    },
    {
     "data": {
      "text/html": [
       "<div>\n",
       "<style scoped>\n",
       "    .dataframe tbody tr th:only-of-type {\n",
       "        vertical-align: middle;\n",
       "    }\n",
       "\n",
       "    .dataframe tbody tr th {\n",
       "        vertical-align: top;\n",
       "    }\n",
       "\n",
       "    .dataframe thead th {\n",
       "        text-align: right;\n",
       "    }\n",
       "</style>\n",
       "<table border=\"1\" class=\"dataframe\">\n",
       "  <thead>\n",
       "    <tr style=\"text-align: right;\">\n",
       "      <th></th>\n",
       "      <th>DummyClassifier</th>\n",
       "      <th>LogisticRegression</th>\n",
       "      <th>LinearSVC</th>\n",
       "      <th>SGDClassifier</th>\n",
       "      <th>Grid_opt_clf</th>\n",
       "      <th>LDA</th>\n",
       "    </tr>\n",
       "  </thead>\n",
       "  <tbody>\n",
       "    <tr>\n",
       "      <th>Accuracy</th>\n",
       "      <td>0.0</td>\n",
       "      <td>0.138260</td>\n",
       "      <td>0.209015</td>\n",
       "      <td>0.163732</td>\n",
       "      <td>0.162264</td>\n",
       "      <td>0.067867</td>\n",
       "    </tr>\n",
       "    <tr>\n",
       "      <th>F1</th>\n",
       "      <td>0.0</td>\n",
       "      <td>0.591588</td>\n",
       "      <td>0.670009</td>\n",
       "      <td>0.675427</td>\n",
       "      <td>0.677179</td>\n",
       "      <td>0.331939</td>\n",
       "    </tr>\n",
       "    <tr>\n",
       "      <th>Jaccard</th>\n",
       "      <td>0.0</td>\n",
       "      <td>0.314760</td>\n",
       "      <td>0.434074</td>\n",
       "      <td>0.338838</td>\n",
       "      <td>0.336734</td>\n",
       "      <td>0.096840</td>\n",
       "    </tr>\n",
       "    <tr>\n",
       "      <th>Recall</th>\n",
       "      <td>0.0</td>\n",
       "      <td>0.340187</td>\n",
       "      <td>0.483031</td>\n",
       "      <td>0.366759</td>\n",
       "      <td>0.363957</td>\n",
       "      <td>0.244765</td>\n",
       "    </tr>\n",
       "    <tr>\n",
       "      <th>Precision</th>\n",
       "      <td>0.0</td>\n",
       "      <td>0.696379</td>\n",
       "      <td>0.727796</td>\n",
       "      <td>0.654149</td>\n",
       "      <td>0.653717</td>\n",
       "      <td>0.135055</td>\n",
       "    </tr>\n",
       "  </tbody>\n",
       "</table>\n",
       "</div>"
      ],
      "text/plain": [
       "           DummyClassifier  LogisticRegression  LinearSVC  SGDClassifier  \\\n",
       "Accuracy               0.0            0.138260   0.209015       0.163732   \n",
       "F1                     0.0            0.591588   0.670009       0.675427   \n",
       "Jaccard                0.0            0.314760   0.434074       0.338838   \n",
       "Recall                 0.0            0.340187   0.483031       0.366759   \n",
       "Precision              0.0            0.696379   0.727796       0.654149   \n",
       "\n",
       "           Grid_opt_clf       LDA  \n",
       "Accuracy       0.162264  0.067867  \n",
       "F1             0.677179  0.331939  \n",
       "Jaccard        0.336734  0.096840  \n",
       "Recall         0.363957  0.244765  \n",
       "Precision      0.653717  0.135055  "
      ]
     },
     "execution_count": 97,
     "metadata": {},
     "output_type": "execute_result"
    }
   ],
   "source": [
    "df_metrics_compare = metrics_score(\"LDA\", df=metrics_results,\n",
    "                                   y_true=lda_y_true,\n",
    "                                   y_pred=lda_y_pred)\n",
    "df_metrics_compare"
   ]
  }
 ],
 "metadata": {
  "accelerator": "GPU",
  "colab": {
   "collapsed_sections": [
    "2wSE9ZRoPjaY",
    "5ZMLeFlTIeWy",
    "tBJbhM5L8t1S",
    "PHpZtfmB4o3T",
    "vg9Sm6QT4o3X",
    "Ork4Lnxm4o3a",
    "P0DUgWsD4o3b",
    "AzXr4zEf4o3b",
    "Bv5sf69m4o3d",
    "CzPw9MNmOlhQ",
    "T1v32Spx4o3f"
   ],
   "machine_shape": "hm",
   "name": "Stackoverflow_Tags_notebook.ipynb",
   "provenance": []
  },
  "interpreter": {
   "hash": "2c1891d35eac1104f9cb9d9a0e3794eb683fcacf866bebd6908126fb66ea8380"
  },
  "kernelspec": {
   "display_name": "Python 3.7.11 64-bit ('stack_tags': conda)",
   "language": "python",
   "name": "python3"
  },
  "language_info": {
   "codemirror_mode": {
    "name": "ipython",
    "version": 3
   },
   "file_extension": ".py",
   "mimetype": "text/x-python",
   "name": "python",
   "nbconvert_exporter": "python",
   "pygments_lexer": "ipython3",
   "version": "3.7.11"
  },
  "widgets": {
   "application/vnd.jupyter.widget-state+json": {
    "00466f34fa1b40d996eb81315d90e90d": {
     "model_module": "@jupyter-widgets/base",
     "model_module_version": "1.2.0",
     "model_name": "LayoutModel",
     "state": {
      "_model_module": "@jupyter-widgets/base",
      "_model_module_version": "1.2.0",
      "_model_name": "LayoutModel",
      "_view_count": null,
      "_view_module": "@jupyter-widgets/base",
      "_view_module_version": "1.2.0",
      "_view_name": "LayoutView",
      "align_content": null,
      "align_items": null,
      "align_self": null,
      "border": null,
      "bottom": null,
      "display": null,
      "flex": null,
      "flex_flow": null,
      "grid_area": null,
      "grid_auto_columns": null,
      "grid_auto_flow": null,
      "grid_auto_rows": null,
      "grid_column": null,
      "grid_gap": null,
      "grid_row": null,
      "grid_template_areas": null,
      "grid_template_columns": null,
      "grid_template_rows": null,
      "height": null,
      "justify_content": null,
      "justify_items": null,
      "left": null,
      "margin": null,
      "max_height": null,
      "max_width": null,
      "min_height": null,
      "min_width": null,
      "object_fit": null,
      "object_position": null,
      "order": null,
      "overflow": null,
      "overflow_x": null,
      "overflow_y": null,
      "padding": null,
      "right": null,
      "top": null,
      "visibility": null,
      "width": null
     }
    },
    "06150e8972e4441686971e9e7e0c8259": {
     "model_module": "@jupyter-widgets/controls",
     "model_module_version": "1.5.0",
     "model_name": "HBoxModel",
     "state": {
      "_dom_classes": [],
      "_model_module": "@jupyter-widgets/controls",
      "_model_module_version": "1.5.0",
      "_model_name": "HBoxModel",
      "_view_count": null,
      "_view_module": "@jupyter-widgets/controls",
      "_view_module_version": "1.5.0",
      "_view_name": "HBoxView",
      "box_style": "",
      "children": [
       "IPY_MODEL_0ec47de4fba944278020475560b48654",
       "IPY_MODEL_7d356bdf32624733a16f6da13e5cfe44",
       "IPY_MODEL_794809a2ab84492c90a237a383c33d27"
      ],
      "layout": "IPY_MODEL_5240e6c1424d4f0daed99dea3d0c1358"
     }
    },
    "0e6a8748d3604d96adfb6469d8ce90d1": {
     "model_module": "@jupyter-widgets/base",
     "model_module_version": "1.2.0",
     "model_name": "LayoutModel",
     "state": {
      "_model_module": "@jupyter-widgets/base",
      "_model_module_version": "1.2.0",
      "_model_name": "LayoutModel",
      "_view_count": null,
      "_view_module": "@jupyter-widgets/base",
      "_view_module_version": "1.2.0",
      "_view_name": "LayoutView",
      "align_content": null,
      "align_items": null,
      "align_self": null,
      "border": null,
      "bottom": null,
      "display": null,
      "flex": null,
      "flex_flow": null,
      "grid_area": null,
      "grid_auto_columns": null,
      "grid_auto_flow": null,
      "grid_auto_rows": null,
      "grid_column": null,
      "grid_gap": null,
      "grid_row": null,
      "grid_template_areas": null,
      "grid_template_columns": null,
      "grid_template_rows": null,
      "height": null,
      "justify_content": null,
      "justify_items": null,
      "left": null,
      "margin": null,
      "max_height": null,
      "max_width": null,
      "min_height": null,
      "min_width": null,
      "object_fit": null,
      "object_position": null,
      "order": null,
      "overflow": null,
      "overflow_x": null,
      "overflow_y": null,
      "padding": null,
      "right": null,
      "top": null,
      "visibility": null,
      "width": null
     }
    },
    "0ec47de4fba944278020475560b48654": {
     "model_module": "@jupyter-widgets/controls",
     "model_module_version": "1.5.0",
     "model_name": "HTMLModel",
     "state": {
      "_dom_classes": [],
      "_model_module": "@jupyter-widgets/controls",
      "_model_module_version": "1.5.0",
      "_model_name": "HTMLModel",
      "_view_count": null,
      "_view_module": "@jupyter-widgets/controls",
      "_view_module_version": "1.5.0",
      "_view_name": "HTMLView",
      "description": "",
      "description_tooltip": null,
      "layout": "IPY_MODEL_2eb57d737e1e4c839a587acf4271ff04",
      "placeholder": "​",
      "style": "IPY_MODEL_3bbb328135c244db8020cce06d8da0b3",
      "value": "Downloading: 100%"
     }
    },
    "161cc92d27c346a38ee69cf0ce2b273a": {
     "model_module": "@jupyter-widgets/controls",
     "model_module_version": "1.5.0",
     "model_name": "HBoxModel",
     "state": {
      "_dom_classes": [],
      "_model_module": "@jupyter-widgets/controls",
      "_model_module_version": "1.5.0",
      "_model_name": "HBoxModel",
      "_view_count": null,
      "_view_module": "@jupyter-widgets/controls",
      "_view_module_version": "1.5.0",
      "_view_name": "HBoxView",
      "box_style": "",
      "children": [
       "IPY_MODEL_f85068c7b06144b3b8a3d420823c1abb",
       "IPY_MODEL_e29d28e517464f3faf4425f065242f3a",
       "IPY_MODEL_f24360fbcf664d8c814c4ebd61466ddb"
      ],
      "layout": "IPY_MODEL_652092e348434bfb81b5a5c61b7c5839"
     }
    },
    "1911930e5f634d2fbd42659c190a564d": {
     "model_module": "@jupyter-widgets/controls",
     "model_module_version": "1.5.0",
     "model_name": "HTMLModel",
     "state": {
      "_dom_classes": [],
      "_model_module": "@jupyter-widgets/controls",
      "_model_module_version": "1.5.0",
      "_model_name": "HTMLModel",
      "_view_count": null,
      "_view_module": "@jupyter-widgets/controls",
      "_view_module_version": "1.5.0",
      "_view_name": "HTMLView",
      "description": "",
      "description_tooltip": null,
      "layout": "IPY_MODEL_85c61a2e159a4f74acd64fbf46014738",
      "placeholder": "​",
      "style": "IPY_MODEL_497bd67d557844109468c57c022fb9f6",
      "value": " 878k/878k [00:00&lt;00:00, 915kB/s]"
     }
    },
    "1b1c154e22fb4b558de0a14b4996861a": {
     "model_module": "@jupyter-widgets/controls",
     "model_module_version": "1.5.0",
     "model_name": "HBoxModel",
     "state": {
      "_dom_classes": [],
      "_model_module": "@jupyter-widgets/controls",
      "_model_module_version": "1.5.0",
      "_model_name": "HBoxModel",
      "_view_count": null,
      "_view_module": "@jupyter-widgets/controls",
      "_view_module_version": "1.5.0",
      "_view_name": "HBoxView",
      "box_style": "",
      "children": [
       "IPY_MODEL_e25b57a07f6444e3bfb1fc277f0e55a2",
       "IPY_MODEL_f588005e866e4ca7bc663830bb0c5ae6",
       "IPY_MODEL_a32c6d033a5c48ffaa53be04f9583eda"
      ],
      "layout": "IPY_MODEL_f4915cebce6a45e8a2bf29087442aeb2"
     }
    },
    "1b44e1860e714267a386caed9a980d4e": {
     "model_module": "@jupyter-widgets/controls",
     "model_module_version": "1.5.0",
     "model_name": "DescriptionStyleModel",
     "state": {
      "_model_module": "@jupyter-widgets/controls",
      "_model_module_version": "1.5.0",
      "_model_name": "DescriptionStyleModel",
      "_view_count": null,
      "_view_module": "@jupyter-widgets/base",
      "_view_module_version": "1.2.0",
      "_view_name": "StyleView",
      "description_width": ""
     }
    },
    "1e4e78dfbd834ba995cb7911c4306e05": {
     "model_module": "@jupyter-widgets/controls",
     "model_module_version": "1.5.0",
     "model_name": "ProgressStyleModel",
     "state": {
      "_model_module": "@jupyter-widgets/controls",
      "_model_module_version": "1.5.0",
      "_model_name": "ProgressStyleModel",
      "_view_count": null,
      "_view_module": "@jupyter-widgets/base",
      "_view_module_version": "1.2.0",
      "_view_name": "StyleView",
      "bar_color": null,
      "description_width": ""
     }
    },
    "20d2d1a47b654db596fdf5659b26e4a0": {
     "model_module": "@jupyter-widgets/controls",
     "model_module_version": "1.5.0",
     "model_name": "DescriptionStyleModel",
     "state": {
      "_model_module": "@jupyter-widgets/controls",
      "_model_module_version": "1.5.0",
      "_model_name": "DescriptionStyleModel",
      "_view_count": null,
      "_view_module": "@jupyter-widgets/base",
      "_view_module_version": "1.2.0",
      "_view_name": "StyleView",
      "description_width": ""
     }
    },
    "21410a59ca2b47fcb9df28bb8bf6db34": {
     "model_module": "@jupyter-widgets/controls",
     "model_module_version": "1.5.0",
     "model_name": "ProgressStyleModel",
     "state": {
      "_model_module": "@jupyter-widgets/controls",
      "_model_module_version": "1.5.0",
      "_model_name": "ProgressStyleModel",
      "_view_count": null,
      "_view_module": "@jupyter-widgets/base",
      "_view_module_version": "1.2.0",
      "_view_name": "StyleView",
      "bar_color": null,
      "description_width": ""
     }
    },
    "22bb35c0571a4f7c97ca4f3d6a58cf8a": {
     "model_module": "@jupyter-widgets/controls",
     "model_module_version": "1.5.0",
     "model_name": "HTMLModel",
     "state": {
      "_dom_classes": [],
      "_model_module": "@jupyter-widgets/controls",
      "_model_module_version": "1.5.0",
      "_model_name": "HTMLModel",
      "_view_count": null,
      "_view_module": "@jupyter-widgets/controls",
      "_view_module_version": "1.5.0",
      "_view_name": "HTMLView",
      "description": "",
      "description_tooltip": null,
      "layout": "IPY_MODEL_a6f8d6266b804b649380c8c1364bb754",
      "placeholder": "​",
      "style": "IPY_MODEL_20d2d1a47b654db596fdf5659b26e4a0",
      "value": "Downloading: 100%"
     }
    },
    "2d946f8981cc469f8ec28dc1ebd60cb2": {
     "model_module": "@jupyter-widgets/controls",
     "model_module_version": "1.5.0",
     "model_name": "HTMLModel",
     "state": {
      "_dom_classes": [],
      "_model_module": "@jupyter-widgets/controls",
      "_model_module_version": "1.5.0",
      "_model_name": "HTMLModel",
      "_view_count": null,
      "_view_module": "@jupyter-widgets/controls",
      "_view_module_version": "1.5.0",
      "_view_name": "HTMLView",
      "description": "",
      "description_tooltip": null,
      "layout": "IPY_MODEL_00466f34fa1b40d996eb81315d90e90d",
      "placeholder": "​",
      "style": "IPY_MODEL_828de1fbde794b9a8ccddf320317cbf9",
      "value": " 26.0/26.0 [00:00&lt;00:00, 951B/s]"
     }
    },
    "2eb57d737e1e4c839a587acf4271ff04": {
     "model_module": "@jupyter-widgets/base",
     "model_module_version": "1.2.0",
     "model_name": "LayoutModel",
     "state": {
      "_model_module": "@jupyter-widgets/base",
      "_model_module_version": "1.2.0",
      "_model_name": "LayoutModel",
      "_view_count": null,
      "_view_module": "@jupyter-widgets/base",
      "_view_module_version": "1.2.0",
      "_view_name": "LayoutView",
      "align_content": null,
      "align_items": null,
      "align_self": null,
      "border": null,
      "bottom": null,
      "display": null,
      "flex": null,
      "flex_flow": null,
      "grid_area": null,
      "grid_auto_columns": null,
      "grid_auto_flow": null,
      "grid_auto_rows": null,
      "grid_column": null,
      "grid_gap": null,
      "grid_row": null,
      "grid_template_areas": null,
      "grid_template_columns": null,
      "grid_template_rows": null,
      "height": null,
      "justify_content": null,
      "justify_items": null,
      "left": null,
      "margin": null,
      "max_height": null,
      "max_width": null,
      "min_height": null,
      "min_width": null,
      "object_fit": null,
      "object_position": null,
      "order": null,
      "overflow": null,
      "overflow_x": null,
      "overflow_y": null,
      "padding": null,
      "right": null,
      "top": null,
      "visibility": null,
      "width": null
     }
    },
    "3478572ff95a4dc5bc850c1b2515ec9d": {
     "model_module": "@jupyter-widgets/base",
     "model_module_version": "1.2.0",
     "model_name": "LayoutModel",
     "state": {
      "_model_module": "@jupyter-widgets/base",
      "_model_module_version": "1.2.0",
      "_model_name": "LayoutModel",
      "_view_count": null,
      "_view_module": "@jupyter-widgets/base",
      "_view_module_version": "1.2.0",
      "_view_name": "LayoutView",
      "align_content": null,
      "align_items": null,
      "align_self": null,
      "border": null,
      "bottom": null,
      "display": null,
      "flex": null,
      "flex_flow": null,
      "grid_area": null,
      "grid_auto_columns": null,
      "grid_auto_flow": null,
      "grid_auto_rows": null,
      "grid_column": null,
      "grid_gap": null,
      "grid_row": null,
      "grid_template_areas": null,
      "grid_template_columns": null,
      "grid_template_rows": null,
      "height": null,
      "justify_content": null,
      "justify_items": null,
      "left": null,
      "margin": null,
      "max_height": null,
      "max_width": null,
      "min_height": null,
      "min_width": null,
      "object_fit": null,
      "object_position": null,
      "order": null,
      "overflow": null,
      "overflow_x": null,
      "overflow_y": null,
      "padding": null,
      "right": null,
      "top": null,
      "visibility": null,
      "width": null
     }
    },
    "3480af60cd814049ba2d6845e8b4d88a": {
     "model_module": "@jupyter-widgets/base",
     "model_module_version": "1.2.0",
     "model_name": "LayoutModel",
     "state": {
      "_model_module": "@jupyter-widgets/base",
      "_model_module_version": "1.2.0",
      "_model_name": "LayoutModel",
      "_view_count": null,
      "_view_module": "@jupyter-widgets/base",
      "_view_module_version": "1.2.0",
      "_view_name": "LayoutView",
      "align_content": null,
      "align_items": null,
      "align_self": null,
      "border": null,
      "bottom": null,
      "display": null,
      "flex": null,
      "flex_flow": null,
      "grid_area": null,
      "grid_auto_columns": null,
      "grid_auto_flow": null,
      "grid_auto_rows": null,
      "grid_column": null,
      "grid_gap": null,
      "grid_row": null,
      "grid_template_areas": null,
      "grid_template_columns": null,
      "grid_template_rows": null,
      "height": null,
      "justify_content": null,
      "justify_items": null,
      "left": null,
      "margin": null,
      "max_height": null,
      "max_width": null,
      "min_height": null,
      "min_width": null,
      "object_fit": null,
      "object_position": null,
      "order": null,
      "overflow": null,
      "overflow_x": null,
      "overflow_y": null,
      "padding": null,
      "right": null,
      "top": null,
      "visibility": null,
      "width": null
     }
    },
    "3bb3c10ade97496a9baae5018323832b": {
     "model_module": "@jupyter-widgets/controls",
     "model_module_version": "1.5.0",
     "model_name": "ProgressStyleModel",
     "state": {
      "_model_module": "@jupyter-widgets/controls",
      "_model_module_version": "1.5.0",
      "_model_name": "ProgressStyleModel",
      "_view_count": null,
      "_view_module": "@jupyter-widgets/base",
      "_view_module_version": "1.2.0",
      "_view_name": "StyleView",
      "bar_color": null,
      "description_width": ""
     }
    },
    "3bbb328135c244db8020cce06d8da0b3": {
     "model_module": "@jupyter-widgets/controls",
     "model_module_version": "1.5.0",
     "model_name": "DescriptionStyleModel",
     "state": {
      "_model_module": "@jupyter-widgets/controls",
      "_model_module_version": "1.5.0",
      "_model_name": "DescriptionStyleModel",
      "_view_count": null,
      "_view_module": "@jupyter-widgets/base",
      "_view_module_version": "1.2.0",
      "_view_name": "StyleView",
      "description_width": ""
     }
    },
    "4243898073934b4199877ca537320463": {
     "model_module": "@jupyter-widgets/controls",
     "model_module_version": "1.5.0",
     "model_name": "HBoxModel",
     "state": {
      "_dom_classes": [],
      "_model_module": "@jupyter-widgets/controls",
      "_model_module_version": "1.5.0",
      "_model_name": "HBoxModel",
      "_view_count": null,
      "_view_module": "@jupyter-widgets/controls",
      "_view_module_version": "1.5.0",
      "_view_name": "HBoxView",
      "box_style": "",
      "children": [
       "IPY_MODEL_22bb35c0571a4f7c97ca4f3d6a58cf8a",
       "IPY_MODEL_996a074961d940d9bcd4fb5a305301e6",
       "IPY_MODEL_2d946f8981cc469f8ec28dc1ebd60cb2"
      ],
      "layout": "IPY_MODEL_8b6b3c4d481349b48f2949c1a507dfd8"
     }
    },
    "455882adffe443548a934324a7bf67fc": {
     "model_module": "@jupyter-widgets/controls",
     "model_module_version": "1.5.0",
     "model_name": "HBoxModel",
     "state": {
      "_dom_classes": [],
      "_model_module": "@jupyter-widgets/controls",
      "_model_module_version": "1.5.0",
      "_model_name": "HBoxModel",
      "_view_count": null,
      "_view_module": "@jupyter-widgets/controls",
      "_view_module_version": "1.5.0",
      "_view_name": "HBoxView",
      "box_style": "",
      "children": [
       "IPY_MODEL_ca865c6b190a4cd5b88210041fdc119a",
       "IPY_MODEL_625378a8064545febb9aab4e0ef780d6",
       "IPY_MODEL_1911930e5f634d2fbd42659c190a564d"
      ],
      "layout": "IPY_MODEL_7b2d82a0390045e2a6b9330591e10275"
     }
    },
    "497bd67d557844109468c57c022fb9f6": {
     "model_module": "@jupyter-widgets/controls",
     "model_module_version": "1.5.0",
     "model_name": "DescriptionStyleModel",
     "state": {
      "_model_module": "@jupyter-widgets/controls",
      "_model_module_version": "1.5.0",
      "_model_name": "DescriptionStyleModel",
      "_view_count": null,
      "_view_module": "@jupyter-widgets/base",
      "_view_module_version": "1.2.0",
      "_view_name": "StyleView",
      "description_width": ""
     }
    },
    "4edfeb0ee6304c05b4d8e822216cd22b": {
     "model_module": "@jupyter-widgets/base",
     "model_module_version": "1.2.0",
     "model_name": "LayoutModel",
     "state": {
      "_model_module": "@jupyter-widgets/base",
      "_model_module_version": "1.2.0",
      "_model_name": "LayoutModel",
      "_view_count": null,
      "_view_module": "@jupyter-widgets/base",
      "_view_module_version": "1.2.0",
      "_view_name": "LayoutView",
      "align_content": null,
      "align_items": null,
      "align_self": null,
      "border": null,
      "bottom": null,
      "display": null,
      "flex": null,
      "flex_flow": null,
      "grid_area": null,
      "grid_auto_columns": null,
      "grid_auto_flow": null,
      "grid_auto_rows": null,
      "grid_column": null,
      "grid_gap": null,
      "grid_row": null,
      "grid_template_areas": null,
      "grid_template_columns": null,
      "grid_template_rows": null,
      "height": null,
      "justify_content": null,
      "justify_items": null,
      "left": null,
      "margin": null,
      "max_height": null,
      "max_width": null,
      "min_height": null,
      "min_width": null,
      "object_fit": null,
      "object_position": null,
      "order": null,
      "overflow": null,
      "overflow_x": null,
      "overflow_y": null,
      "padding": null,
      "right": null,
      "top": null,
      "visibility": null,
      "width": null
     }
    },
    "5240e6c1424d4f0daed99dea3d0c1358": {
     "model_module": "@jupyter-widgets/base",
     "model_module_version": "1.2.0",
     "model_name": "LayoutModel",
     "state": {
      "_model_module": "@jupyter-widgets/base",
      "_model_module_version": "1.2.0",
      "_model_name": "LayoutModel",
      "_view_count": null,
      "_view_module": "@jupyter-widgets/base",
      "_view_module_version": "1.2.0",
      "_view_name": "LayoutView",
      "align_content": null,
      "align_items": null,
      "align_self": null,
      "border": null,
      "bottom": null,
      "display": null,
      "flex": null,
      "flex_flow": null,
      "grid_area": null,
      "grid_auto_columns": null,
      "grid_auto_flow": null,
      "grid_auto_rows": null,
      "grid_column": null,
      "grid_gap": null,
      "grid_row": null,
      "grid_template_areas": null,
      "grid_template_columns": null,
      "grid_template_rows": null,
      "height": null,
      "justify_content": null,
      "justify_items": null,
      "left": null,
      "margin": null,
      "max_height": null,
      "max_width": null,
      "min_height": null,
      "min_width": null,
      "object_fit": null,
      "object_position": null,
      "order": null,
      "overflow": null,
      "overflow_x": null,
      "overflow_y": null,
      "padding": null,
      "right": null,
      "top": null,
      "visibility": null,
      "width": null
     }
    },
    "5477a844a16d4080a2bbde834cdd1d1c": {
     "model_module": "@jupyter-widgets/base",
     "model_module_version": "1.2.0",
     "model_name": "LayoutModel",
     "state": {
      "_model_module": "@jupyter-widgets/base",
      "_model_module_version": "1.2.0",
      "_model_name": "LayoutModel",
      "_view_count": null,
      "_view_module": "@jupyter-widgets/base",
      "_view_module_version": "1.2.0",
      "_view_name": "LayoutView",
      "align_content": null,
      "align_items": null,
      "align_self": null,
      "border": null,
      "bottom": null,
      "display": null,
      "flex": null,
      "flex_flow": null,
      "grid_area": null,
      "grid_auto_columns": null,
      "grid_auto_flow": null,
      "grid_auto_rows": null,
      "grid_column": null,
      "grid_gap": null,
      "grid_row": null,
      "grid_template_areas": null,
      "grid_template_columns": null,
      "grid_template_rows": null,
      "height": null,
      "justify_content": null,
      "justify_items": null,
      "left": null,
      "margin": null,
      "max_height": null,
      "max_width": null,
      "min_height": null,
      "min_width": null,
      "object_fit": null,
      "object_position": null,
      "order": null,
      "overflow": null,
      "overflow_x": null,
      "overflow_y": null,
      "padding": null,
      "right": null,
      "top": null,
      "visibility": null,
      "width": null
     }
    },
    "57d0144f8e354aa3985b42299d799bf2": {
     "model_module": "@jupyter-widgets/base",
     "model_module_version": "1.2.0",
     "model_name": "LayoutModel",
     "state": {
      "_model_module": "@jupyter-widgets/base",
      "_model_module_version": "1.2.0",
      "_model_name": "LayoutModel",
      "_view_count": null,
      "_view_module": "@jupyter-widgets/base",
      "_view_module_version": "1.2.0",
      "_view_name": "LayoutView",
      "align_content": null,
      "align_items": null,
      "align_self": null,
      "border": null,
      "bottom": null,
      "display": null,
      "flex": null,
      "flex_flow": null,
      "grid_area": null,
      "grid_auto_columns": null,
      "grid_auto_flow": null,
      "grid_auto_rows": null,
      "grid_column": null,
      "grid_gap": null,
      "grid_row": null,
      "grid_template_areas": null,
      "grid_template_columns": null,
      "grid_template_rows": null,
      "height": null,
      "justify_content": null,
      "justify_items": null,
      "left": null,
      "margin": null,
      "max_height": null,
      "max_width": null,
      "min_height": null,
      "min_width": null,
      "object_fit": null,
      "object_position": null,
      "order": null,
      "overflow": null,
      "overflow_x": null,
      "overflow_y": null,
      "padding": null,
      "right": null,
      "top": null,
      "visibility": null,
      "width": null
     }
    },
    "5981f2d913d34980968f0ba63f37232a": {
     "model_module": "@jupyter-widgets/controls",
     "model_module_version": "1.5.0",
     "model_name": "ProgressStyleModel",
     "state": {
      "_model_module": "@jupyter-widgets/controls",
      "_model_module_version": "1.5.0",
      "_model_name": "ProgressStyleModel",
      "_view_count": null,
      "_view_module": "@jupyter-widgets/base",
      "_view_module_version": "1.2.0",
      "_view_name": "StyleView",
      "bar_color": null,
      "description_width": ""
     }
    },
    "625378a8064545febb9aab4e0ef780d6": {
     "model_module": "@jupyter-widgets/controls",
     "model_module_version": "1.5.0",
     "model_name": "FloatProgressModel",
     "state": {
      "_dom_classes": [],
      "_model_module": "@jupyter-widgets/controls",
      "_model_module_version": "1.5.0",
      "_model_name": "FloatProgressModel",
      "_view_count": null,
      "_view_module": "@jupyter-widgets/controls",
      "_view_module_version": "1.5.0",
      "_view_name": "ProgressView",
      "bar_style": "success",
      "description": "",
      "description_tooltip": null,
      "layout": "IPY_MODEL_4edfeb0ee6304c05b4d8e822216cd22b",
      "max": 898822,
      "min": 0,
      "orientation": "horizontal",
      "style": "IPY_MODEL_1e4e78dfbd834ba995cb7911c4306e05",
      "value": 898822
     }
    },
    "652092e348434bfb81b5a5c61b7c5839": {
     "model_module": "@jupyter-widgets/base",
     "model_module_version": "1.2.0",
     "model_name": "LayoutModel",
     "state": {
      "_model_module": "@jupyter-widgets/base",
      "_model_module_version": "1.2.0",
      "_model_name": "LayoutModel",
      "_view_count": null,
      "_view_module": "@jupyter-widgets/base",
      "_view_module_version": "1.2.0",
      "_view_name": "LayoutView",
      "align_content": null,
      "align_items": null,
      "align_self": null,
      "border": null,
      "bottom": null,
      "display": null,
      "flex": null,
      "flex_flow": null,
      "grid_area": null,
      "grid_auto_columns": null,
      "grid_auto_flow": null,
      "grid_auto_rows": null,
      "grid_column": null,
      "grid_gap": null,
      "grid_row": null,
      "grid_template_areas": null,
      "grid_template_columns": null,
      "grid_template_rows": null,
      "height": null,
      "justify_content": null,
      "justify_items": null,
      "left": null,
      "margin": null,
      "max_height": null,
      "max_width": null,
      "min_height": null,
      "min_width": null,
      "object_fit": null,
      "object_position": null,
      "order": null,
      "overflow": null,
      "overflow_x": null,
      "overflow_y": null,
      "padding": null,
      "right": null,
      "top": null,
      "visibility": null,
      "width": null
     }
    },
    "69a76e8a9fd942048ebf84b313c5e9ea": {
     "model_module": "@jupyter-widgets/controls",
     "model_module_version": "1.5.0",
     "model_name": "DescriptionStyleModel",
     "state": {
      "_model_module": "@jupyter-widgets/controls",
      "_model_module_version": "1.5.0",
      "_model_name": "DescriptionStyleModel",
      "_view_count": null,
      "_view_module": "@jupyter-widgets/base",
      "_view_module_version": "1.2.0",
      "_view_name": "StyleView",
      "description_width": ""
     }
    },
    "6d686d4e88064382959de45d318f903d": {
     "model_module": "@jupyter-widgets/base",
     "model_module_version": "1.2.0",
     "model_name": "LayoutModel",
     "state": {
      "_model_module": "@jupyter-widgets/base",
      "_model_module_version": "1.2.0",
      "_model_name": "LayoutModel",
      "_view_count": null,
      "_view_module": "@jupyter-widgets/base",
      "_view_module_version": "1.2.0",
      "_view_name": "LayoutView",
      "align_content": null,
      "align_items": null,
      "align_self": null,
      "border": null,
      "bottom": null,
      "display": null,
      "flex": null,
      "flex_flow": null,
      "grid_area": null,
      "grid_auto_columns": null,
      "grid_auto_flow": null,
      "grid_auto_rows": null,
      "grid_column": null,
      "grid_gap": null,
      "grid_row": null,
      "grid_template_areas": null,
      "grid_template_columns": null,
      "grid_template_rows": null,
      "height": null,
      "justify_content": null,
      "justify_items": null,
      "left": null,
      "margin": null,
      "max_height": null,
      "max_width": null,
      "min_height": null,
      "min_width": null,
      "object_fit": null,
      "object_position": null,
      "order": null,
      "overflow": null,
      "overflow_x": null,
      "overflow_y": null,
      "padding": null,
      "right": null,
      "top": null,
      "visibility": null,
      "width": null
     }
    },
    "6f35ebcbc039405e9d6dff773907b52e": {
     "model_module": "@jupyter-widgets/controls",
     "model_module_version": "1.5.0",
     "model_name": "DescriptionStyleModel",
     "state": {
      "_model_module": "@jupyter-widgets/controls",
      "_model_module_version": "1.5.0",
      "_model_name": "DescriptionStyleModel",
      "_view_count": null,
      "_view_module": "@jupyter-widgets/base",
      "_view_module_version": "1.2.0",
      "_view_name": "StyleView",
      "description_width": ""
     }
    },
    "74621fd6a02f46a5921cdb88cca2f913": {
     "model_module": "@jupyter-widgets/base",
     "model_module_version": "1.2.0",
     "model_name": "LayoutModel",
     "state": {
      "_model_module": "@jupyter-widgets/base",
      "_model_module_version": "1.2.0",
      "_model_name": "LayoutModel",
      "_view_count": null,
      "_view_module": "@jupyter-widgets/base",
      "_view_module_version": "1.2.0",
      "_view_name": "LayoutView",
      "align_content": null,
      "align_items": null,
      "align_self": null,
      "border": null,
      "bottom": null,
      "display": null,
      "flex": null,
      "flex_flow": null,
      "grid_area": null,
      "grid_auto_columns": null,
      "grid_auto_flow": null,
      "grid_auto_rows": null,
      "grid_column": null,
      "grid_gap": null,
      "grid_row": null,
      "grid_template_areas": null,
      "grid_template_columns": null,
      "grid_template_rows": null,
      "height": null,
      "justify_content": null,
      "justify_items": null,
      "left": null,
      "margin": null,
      "max_height": null,
      "max_width": null,
      "min_height": null,
      "min_width": null,
      "object_fit": null,
      "object_position": null,
      "order": null,
      "overflow": null,
      "overflow_x": null,
      "overflow_y": null,
      "padding": null,
      "right": null,
      "top": null,
      "visibility": null,
      "width": null
     }
    },
    "76d105bfc279422582fcb739c621fd7c": {
     "model_module": "@jupyter-widgets/controls",
     "model_module_version": "1.5.0",
     "model_name": "DescriptionStyleModel",
     "state": {
      "_model_module": "@jupyter-widgets/controls",
      "_model_module_version": "1.5.0",
      "_model_name": "DescriptionStyleModel",
      "_view_count": null,
      "_view_module": "@jupyter-widgets/base",
      "_view_module_version": "1.2.0",
      "_view_name": "StyleView",
      "description_width": ""
     }
    },
    "794809a2ab84492c90a237a383c33d27": {
     "model_module": "@jupyter-widgets/controls",
     "model_module_version": "1.5.0",
     "model_name": "HTMLModel",
     "state": {
      "_dom_classes": [],
      "_model_module": "@jupyter-widgets/controls",
      "_model_module_version": "1.5.0",
      "_model_name": "HTMLModel",
      "_view_count": null,
      "_view_module": "@jupyter-widgets/controls",
      "_view_module_version": "1.5.0",
      "_view_name": "HTMLView",
      "description": "",
      "description_tooltip": null,
      "layout": "IPY_MODEL_3478572ff95a4dc5bc850c1b2515ec9d",
      "placeholder": "​",
      "style": "IPY_MODEL_1b44e1860e714267a386caed9a980d4e",
      "value": " 1.13k/1.13k [00:00&lt;00:00, 46.8kB/s]"
     }
    },
    "7b2d82a0390045e2a6b9330591e10275": {
     "model_module": "@jupyter-widgets/base",
     "model_module_version": "1.2.0",
     "model_name": "LayoutModel",
     "state": {
      "_model_module": "@jupyter-widgets/base",
      "_model_module_version": "1.2.0",
      "_model_name": "LayoutModel",
      "_view_count": null,
      "_view_module": "@jupyter-widgets/base",
      "_view_module_version": "1.2.0",
      "_view_name": "LayoutView",
      "align_content": null,
      "align_items": null,
      "align_self": null,
      "border": null,
      "bottom": null,
      "display": null,
      "flex": null,
      "flex_flow": null,
      "grid_area": null,
      "grid_auto_columns": null,
      "grid_auto_flow": null,
      "grid_auto_rows": null,
      "grid_column": null,
      "grid_gap": null,
      "grid_row": null,
      "grid_template_areas": null,
      "grid_template_columns": null,
      "grid_template_rows": null,
      "height": null,
      "justify_content": null,
      "justify_items": null,
      "left": null,
      "margin": null,
      "max_height": null,
      "max_width": null,
      "min_height": null,
      "min_width": null,
      "object_fit": null,
      "object_position": null,
      "order": null,
      "overflow": null,
      "overflow_x": null,
      "overflow_y": null,
      "padding": null,
      "right": null,
      "top": null,
      "visibility": null,
      "width": null
     }
    },
    "7d356bdf32624733a16f6da13e5cfe44": {
     "model_module": "@jupyter-widgets/controls",
     "model_module_version": "1.5.0",
     "model_name": "FloatProgressModel",
     "state": {
      "_dom_classes": [],
      "_model_module": "@jupyter-widgets/controls",
      "_model_module_version": "1.5.0",
      "_model_name": "FloatProgressModel",
      "_view_count": null,
      "_view_module": "@jupyter-widgets/controls",
      "_view_module_version": "1.5.0",
      "_view_name": "ProgressView",
      "bar_style": "success",
      "description": "",
      "description_tooltip": null,
      "layout": "IPY_MODEL_b44f24e3374f4c27a0eff7b2cb9229fc",
      "max": 1154,
      "min": 0,
      "orientation": "horizontal",
      "style": "IPY_MODEL_5981f2d913d34980968f0ba63f37232a",
      "value": 1154
     }
    },
    "828de1fbde794b9a8ccddf320317cbf9": {
     "model_module": "@jupyter-widgets/controls",
     "model_module_version": "1.5.0",
     "model_name": "DescriptionStyleModel",
     "state": {
      "_model_module": "@jupyter-widgets/controls",
      "_model_module_version": "1.5.0",
      "_model_name": "DescriptionStyleModel",
      "_view_count": null,
      "_view_module": "@jupyter-widgets/base",
      "_view_module_version": "1.2.0",
      "_view_name": "StyleView",
      "description_width": ""
     }
    },
    "85c61a2e159a4f74acd64fbf46014738": {
     "model_module": "@jupyter-widgets/base",
     "model_module_version": "1.2.0",
     "model_name": "LayoutModel",
     "state": {
      "_model_module": "@jupyter-widgets/base",
      "_model_module_version": "1.2.0",
      "_model_name": "LayoutModel",
      "_view_count": null,
      "_view_module": "@jupyter-widgets/base",
      "_view_module_version": "1.2.0",
      "_view_name": "LayoutView",
      "align_content": null,
      "align_items": null,
      "align_self": null,
      "border": null,
      "bottom": null,
      "display": null,
      "flex": null,
      "flex_flow": null,
      "grid_area": null,
      "grid_auto_columns": null,
      "grid_auto_flow": null,
      "grid_auto_rows": null,
      "grid_column": null,
      "grid_gap": null,
      "grid_row": null,
      "grid_template_areas": null,
      "grid_template_columns": null,
      "grid_template_rows": null,
      "height": null,
      "justify_content": null,
      "justify_items": null,
      "left": null,
      "margin": null,
      "max_height": null,
      "max_width": null,
      "min_height": null,
      "min_width": null,
      "object_fit": null,
      "object_position": null,
      "order": null,
      "overflow": null,
      "overflow_x": null,
      "overflow_y": null,
      "padding": null,
      "right": null,
      "top": null,
      "visibility": null,
      "width": null
     }
    },
    "8b6b3c4d481349b48f2949c1a507dfd8": {
     "model_module": "@jupyter-widgets/base",
     "model_module_version": "1.2.0",
     "model_name": "LayoutModel",
     "state": {
      "_model_module": "@jupyter-widgets/base",
      "_model_module_version": "1.2.0",
      "_model_name": "LayoutModel",
      "_view_count": null,
      "_view_module": "@jupyter-widgets/base",
      "_view_module_version": "1.2.0",
      "_view_name": "LayoutView",
      "align_content": null,
      "align_items": null,
      "align_self": null,
      "border": null,
      "bottom": null,
      "display": null,
      "flex": null,
      "flex_flow": null,
      "grid_area": null,
      "grid_auto_columns": null,
      "grid_auto_flow": null,
      "grid_auto_rows": null,
      "grid_column": null,
      "grid_gap": null,
      "grid_row": null,
      "grid_template_areas": null,
      "grid_template_columns": null,
      "grid_template_rows": null,
      "height": null,
      "justify_content": null,
      "justify_items": null,
      "left": null,
      "margin": null,
      "max_height": null,
      "max_width": null,
      "min_height": null,
      "min_width": null,
      "object_fit": null,
      "object_position": null,
      "order": null,
      "overflow": null,
      "overflow_x": null,
      "overflow_y": null,
      "padding": null,
      "right": null,
      "top": null,
      "visibility": null,
      "width": null
     }
    },
    "8d04e790af84432bb79c67db9b905b85": {
     "model_module": "@jupyter-widgets/controls",
     "model_module_version": "1.5.0",
     "model_name": "ProgressStyleModel",
     "state": {
      "_model_module": "@jupyter-widgets/controls",
      "_model_module_version": "1.5.0",
      "_model_name": "ProgressStyleModel",
      "_view_count": null,
      "_view_module": "@jupyter-widgets/base",
      "_view_module_version": "1.2.0",
      "_view_name": "StyleView",
      "bar_color": null,
      "description_width": ""
     }
    },
    "996a074961d940d9bcd4fb5a305301e6": {
     "model_module": "@jupyter-widgets/controls",
     "model_module_version": "1.5.0",
     "model_name": "FloatProgressModel",
     "state": {
      "_dom_classes": [],
      "_model_module": "@jupyter-widgets/controls",
      "_model_module_version": "1.5.0",
      "_model_name": "FloatProgressModel",
      "_view_count": null,
      "_view_module": "@jupyter-widgets/controls",
      "_view_module_version": "1.5.0",
      "_view_name": "ProgressView",
      "bar_style": "success",
      "description": "",
      "description_tooltip": null,
      "layout": "IPY_MODEL_e39f42c72a2c4726845500fc207aa5ef",
      "max": 26,
      "min": 0,
      "orientation": "horizontal",
      "style": "IPY_MODEL_c8612f26e4904fbca133861568afd84d",
      "value": 26
     }
    },
    "a32c6d033a5c48ffaa53be04f9583eda": {
     "model_module": "@jupyter-widgets/controls",
     "model_module_version": "1.5.0",
     "model_name": "HTMLModel",
     "state": {
      "_dom_classes": [],
      "_model_module": "@jupyter-widgets/controls",
      "_model_module_version": "1.5.0",
      "_model_name": "HTMLModel",
      "_view_count": null,
      "_view_module": "@jupyter-widgets/controls",
      "_view_module_version": "1.5.0",
      "_view_name": "HTMLView",
      "description": "",
      "description_tooltip": null,
      "layout": "IPY_MODEL_ff3136aa9df949a2a9aea6660900367c",
      "placeholder": "​",
      "style": "IPY_MODEL_69a76e8a9fd942048ebf84b313c5e9ea",
      "value": " 446k/446k [00:00&lt;00:00, 897kB/s]"
     }
    },
    "a52789f09b0f488e894208409ebaa71a": {
     "model_module": "@jupyter-widgets/base",
     "model_module_version": "1.2.0",
     "model_name": "LayoutModel",
     "state": {
      "_model_module": "@jupyter-widgets/base",
      "_model_module_version": "1.2.0",
      "_model_name": "LayoutModel",
      "_view_count": null,
      "_view_module": "@jupyter-widgets/base",
      "_view_module_version": "1.2.0",
      "_view_name": "LayoutView",
      "align_content": null,
      "align_items": null,
      "align_self": null,
      "border": null,
      "bottom": null,
      "display": null,
      "flex": null,
      "flex_flow": null,
      "grid_area": null,
      "grid_auto_columns": null,
      "grid_auto_flow": null,
      "grid_auto_rows": null,
      "grid_column": null,
      "grid_gap": null,
      "grid_row": null,
      "grid_template_areas": null,
      "grid_template_columns": null,
      "grid_template_rows": null,
      "height": null,
      "justify_content": null,
      "justify_items": null,
      "left": null,
      "margin": null,
      "max_height": null,
      "max_width": null,
      "min_height": null,
      "min_width": null,
      "object_fit": null,
      "object_position": null,
      "order": null,
      "overflow": null,
      "overflow_x": null,
      "overflow_y": null,
      "padding": null,
      "right": null,
      "top": null,
      "visibility": null,
      "width": null
     }
    },
    "a6f8d6266b804b649380c8c1364bb754": {
     "model_module": "@jupyter-widgets/base",
     "model_module_version": "1.2.0",
     "model_name": "LayoutModel",
     "state": {
      "_model_module": "@jupyter-widgets/base",
      "_model_module_version": "1.2.0",
      "_model_name": "LayoutModel",
      "_view_count": null,
      "_view_module": "@jupyter-widgets/base",
      "_view_module_version": "1.2.0",
      "_view_name": "LayoutView",
      "align_content": null,
      "align_items": null,
      "align_self": null,
      "border": null,
      "bottom": null,
      "display": null,
      "flex": null,
      "flex_flow": null,
      "grid_area": null,
      "grid_auto_columns": null,
      "grid_auto_flow": null,
      "grid_auto_rows": null,
      "grid_column": null,
      "grid_gap": null,
      "grid_row": null,
      "grid_template_areas": null,
      "grid_template_columns": null,
      "grid_template_rows": null,
      "height": null,
      "justify_content": null,
      "justify_items": null,
      "left": null,
      "margin": null,
      "max_height": null,
      "max_width": null,
      "min_height": null,
      "min_width": null,
      "object_fit": null,
      "object_position": null,
      "order": null,
      "overflow": null,
      "overflow_x": null,
      "overflow_y": null,
      "padding": null,
      "right": null,
      "top": null,
      "visibility": null,
      "width": null
     }
    },
    "a7c73b5b2c7f46cb8bc246b42e6e2e6d": {
     "model_module": "@jupyter-widgets/base",
     "model_module_version": "1.2.0",
     "model_name": "LayoutModel",
     "state": {
      "_model_module": "@jupyter-widgets/base",
      "_model_module_version": "1.2.0",
      "_model_name": "LayoutModel",
      "_view_count": null,
      "_view_module": "@jupyter-widgets/base",
      "_view_module_version": "1.2.0",
      "_view_name": "LayoutView",
      "align_content": null,
      "align_items": null,
      "align_self": null,
      "border": null,
      "bottom": null,
      "display": null,
      "flex": null,
      "flex_flow": null,
      "grid_area": null,
      "grid_auto_columns": null,
      "grid_auto_flow": null,
      "grid_auto_rows": null,
      "grid_column": null,
      "grid_gap": null,
      "grid_row": null,
      "grid_template_areas": null,
      "grid_template_columns": null,
      "grid_template_rows": null,
      "height": null,
      "justify_content": null,
      "justify_items": null,
      "left": null,
      "margin": null,
      "max_height": null,
      "max_width": null,
      "min_height": null,
      "min_width": null,
      "object_fit": null,
      "object_position": null,
      "order": null,
      "overflow": null,
      "overflow_x": null,
      "overflow_y": null,
      "padding": null,
      "right": null,
      "top": null,
      "visibility": null,
      "width": null
     }
    },
    "af2f9f78ef6a4fd6b84e203075cf8de1": {
     "model_module": "@jupyter-widgets/controls",
     "model_module_version": "1.5.0",
     "model_name": "HTMLModel",
     "state": {
      "_dom_classes": [],
      "_model_module": "@jupyter-widgets/controls",
      "_model_module_version": "1.5.0",
      "_model_name": "HTMLModel",
      "_view_count": null,
      "_view_module": "@jupyter-widgets/controls",
      "_view_module_version": "1.5.0",
      "_view_name": "HTMLView",
      "description": "",
      "description_tooltip": null,
      "layout": "IPY_MODEL_0e6a8748d3604d96adfb6469d8ce90d1",
      "placeholder": "​",
      "style": "IPY_MODEL_b3cb20271011447c9c7d4641521ba1f1",
      "value": "Downloading: 100%"
     }
    },
    "b2be406111d3463a882ed1563102b7fc": {
     "model_module": "@jupyter-widgets/controls",
     "model_module_version": "1.5.0",
     "model_name": "FloatProgressModel",
     "state": {
      "_dom_classes": [],
      "_model_module": "@jupyter-widgets/controls",
      "_model_module_version": "1.5.0",
      "_model_name": "FloatProgressModel",
      "_view_count": null,
      "_view_module": "@jupyter-widgets/controls",
      "_view_module_version": "1.5.0",
      "_view_name": "ProgressView",
      "bar_style": "success",
      "description": "",
      "description_tooltip": null,
      "layout": "IPY_MODEL_a7c73b5b2c7f46cb8bc246b42e6e2e6d",
      "max": 1355863,
      "min": 0,
      "orientation": "horizontal",
      "style": "IPY_MODEL_21410a59ca2b47fcb9df28bb8bf6db34",
      "value": 1355863
     }
    },
    "b3cb20271011447c9c7d4641521ba1f1": {
     "model_module": "@jupyter-widgets/controls",
     "model_module_version": "1.5.0",
     "model_name": "DescriptionStyleModel",
     "state": {
      "_model_module": "@jupyter-widgets/controls",
      "_model_module_version": "1.5.0",
      "_model_name": "DescriptionStyleModel",
      "_view_count": null,
      "_view_module": "@jupyter-widgets/base",
      "_view_module_version": "1.2.0",
      "_view_name": "StyleView",
      "description_width": ""
     }
    },
    "b44f24e3374f4c27a0eff7b2cb9229fc": {
     "model_module": "@jupyter-widgets/base",
     "model_module_version": "1.2.0",
     "model_name": "LayoutModel",
     "state": {
      "_model_module": "@jupyter-widgets/base",
      "_model_module_version": "1.2.0",
      "_model_name": "LayoutModel",
      "_view_count": null,
      "_view_module": "@jupyter-widgets/base",
      "_view_module_version": "1.2.0",
      "_view_name": "LayoutView",
      "align_content": null,
      "align_items": null,
      "align_self": null,
      "border": null,
      "bottom": null,
      "display": null,
      "flex": null,
      "flex_flow": null,
      "grid_area": null,
      "grid_auto_columns": null,
      "grid_auto_flow": null,
      "grid_auto_rows": null,
      "grid_column": null,
      "grid_gap": null,
      "grid_row": null,
      "grid_template_areas": null,
      "grid_template_columns": null,
      "grid_template_rows": null,
      "height": null,
      "justify_content": null,
      "justify_items": null,
      "left": null,
      "margin": null,
      "max_height": null,
      "max_width": null,
      "min_height": null,
      "min_width": null,
      "object_fit": null,
      "object_position": null,
      "order": null,
      "overflow": null,
      "overflow_x": null,
      "overflow_y": null,
      "padding": null,
      "right": null,
      "top": null,
      "visibility": null,
      "width": null
     }
    },
    "b5c2c478d2424cda969ea35f10d3ff98": {
     "model_module": "@jupyter-widgets/controls",
     "model_module_version": "1.5.0",
     "model_name": "HTMLModel",
     "state": {
      "_dom_classes": [],
      "_model_module": "@jupyter-widgets/controls",
      "_model_module_version": "1.5.0",
      "_model_name": "HTMLModel",
      "_view_count": null,
      "_view_module": "@jupyter-widgets/controls",
      "_view_module_version": "1.5.0",
      "_view_name": "HTMLView",
      "description": "",
      "description_tooltip": null,
      "layout": "IPY_MODEL_a52789f09b0f488e894208409ebaa71a",
      "placeholder": "​",
      "style": "IPY_MODEL_76d105bfc279422582fcb739c621fd7c",
      "value": " 1.29M/1.29M [00:00&lt;00:00, 3.07MB/s]"
     }
    },
    "b9515713fbe54aa7a6f975585e964cf0": {
     "model_module": "@jupyter-widgets/controls",
     "model_module_version": "1.5.0",
     "model_name": "DescriptionStyleModel",
     "state": {
      "_model_module": "@jupyter-widgets/controls",
      "_model_module_version": "1.5.0",
      "_model_name": "DescriptionStyleModel",
      "_view_count": null,
      "_view_module": "@jupyter-widgets/base",
      "_view_module_version": "1.2.0",
      "_view_name": "StyleView",
      "description_width": ""
     }
    },
    "c8612f26e4904fbca133861568afd84d": {
     "model_module": "@jupyter-widgets/controls",
     "model_module_version": "1.5.0",
     "model_name": "ProgressStyleModel",
     "state": {
      "_model_module": "@jupyter-widgets/controls",
      "_model_module_version": "1.5.0",
      "_model_name": "ProgressStyleModel",
      "_view_count": null,
      "_view_module": "@jupyter-widgets/base",
      "_view_module_version": "1.2.0",
      "_view_name": "StyleView",
      "bar_color": null,
      "description_width": ""
     }
    },
    "ca865c6b190a4cd5b88210041fdc119a": {
     "model_module": "@jupyter-widgets/controls",
     "model_module_version": "1.5.0",
     "model_name": "HTMLModel",
     "state": {
      "_dom_classes": [],
      "_model_module": "@jupyter-widgets/controls",
      "_model_module_version": "1.5.0",
      "_model_name": "HTMLModel",
      "_view_count": null,
      "_view_module": "@jupyter-widgets/controls",
      "_view_module_version": "1.5.0",
      "_view_name": "HTMLView",
      "description": "",
      "description_tooltip": null,
      "layout": "IPY_MODEL_6d686d4e88064382959de45d318f903d",
      "placeholder": "​",
      "style": "IPY_MODEL_f8108ac3d7d643ff8d6f167ec7312719",
      "value": "Downloading: 100%"
     }
    },
    "cd2d9736e7d1479b9e92d943f684da97": {
     "model_module": "@jupyter-widgets/controls",
     "model_module_version": "1.5.0",
     "model_name": "DescriptionStyleModel",
     "state": {
      "_model_module": "@jupyter-widgets/controls",
      "_model_module_version": "1.5.0",
      "_model_name": "DescriptionStyleModel",
      "_view_count": null,
      "_view_module": "@jupyter-widgets/base",
      "_view_module_version": "1.2.0",
      "_view_name": "StyleView",
      "description_width": ""
     }
    },
    "e25b57a07f6444e3bfb1fc277f0e55a2": {
     "model_module": "@jupyter-widgets/controls",
     "model_module_version": "1.5.0",
     "model_name": "HTMLModel",
     "state": {
      "_dom_classes": [],
      "_model_module": "@jupyter-widgets/controls",
      "_model_module_version": "1.5.0",
      "_model_name": "HTMLModel",
      "_view_count": null,
      "_view_module": "@jupyter-widgets/controls",
      "_view_module_version": "1.5.0",
      "_view_name": "HTMLView",
      "description": "",
      "description_tooltip": null,
      "layout": "IPY_MODEL_f8eab4561eab472ea20657588f5b5897",
      "placeholder": "​",
      "style": "IPY_MODEL_cd2d9736e7d1479b9e92d943f684da97",
      "value": "Downloading: 100%"
     }
    },
    "e29d28e517464f3faf4425f065242f3a": {
     "model_module": "@jupyter-widgets/controls",
     "model_module_version": "1.5.0",
     "model_name": "FloatProgressModel",
     "state": {
      "_dom_classes": [],
      "_model_module": "@jupyter-widgets/controls",
      "_model_module_version": "1.5.0",
      "_model_name": "FloatProgressModel",
      "_view_count": null,
      "_view_module": "@jupyter-widgets/controls",
      "_view_module_version": "1.5.0",
      "_view_name": "ProgressView",
      "bar_style": "success",
      "description": "",
      "description_tooltip": null,
      "layout": "IPY_MODEL_3480af60cd814049ba2d6845e8b4d88a",
      "max": 1629486723,
      "min": 0,
      "orientation": "horizontal",
      "style": "IPY_MODEL_8d04e790af84432bb79c67db9b905b85",
      "value": 1629486723
     }
    },
    "e39f42c72a2c4726845500fc207aa5ef": {
     "model_module": "@jupyter-widgets/base",
     "model_module_version": "1.2.0",
     "model_name": "LayoutModel",
     "state": {
      "_model_module": "@jupyter-widgets/base",
      "_model_module_version": "1.2.0",
      "_model_name": "LayoutModel",
      "_view_count": null,
      "_view_module": "@jupyter-widgets/base",
      "_view_module_version": "1.2.0",
      "_view_name": "LayoutView",
      "align_content": null,
      "align_items": null,
      "align_self": null,
      "border": null,
      "bottom": null,
      "display": null,
      "flex": null,
      "flex_flow": null,
      "grid_area": null,
      "grid_auto_columns": null,
      "grid_auto_flow": null,
      "grid_auto_rows": null,
      "grid_column": null,
      "grid_gap": null,
      "grid_row": null,
      "grid_template_areas": null,
      "grid_template_columns": null,
      "grid_template_rows": null,
      "height": null,
      "justify_content": null,
      "justify_items": null,
      "left": null,
      "margin": null,
      "max_height": null,
      "max_width": null,
      "min_height": null,
      "min_width": null,
      "object_fit": null,
      "object_position": null,
      "order": null,
      "overflow": null,
      "overflow_x": null,
      "overflow_y": null,
      "padding": null,
      "right": null,
      "top": null,
      "visibility": null,
      "width": null
     }
    },
    "f24360fbcf664d8c814c4ebd61466ddb": {
     "model_module": "@jupyter-widgets/controls",
     "model_module_version": "1.5.0",
     "model_name": "HTMLModel",
     "state": {
      "_dom_classes": [],
      "_model_module": "@jupyter-widgets/controls",
      "_model_module_version": "1.5.0",
      "_model_name": "HTMLModel",
      "_view_count": null,
      "_view_module": "@jupyter-widgets/controls",
      "_view_module_version": "1.5.0",
      "_view_name": "HTMLView",
      "description": "",
      "description_tooltip": null,
      "layout": "IPY_MODEL_57d0144f8e354aa3985b42299d799bf2",
      "placeholder": "​",
      "style": "IPY_MODEL_b9515713fbe54aa7a6f975585e964cf0",
      "value": " 1.52G/1.52G [00:28&lt;00:00, 53.5MB/s]"
     }
    },
    "f4915cebce6a45e8a2bf29087442aeb2": {
     "model_module": "@jupyter-widgets/base",
     "model_module_version": "1.2.0",
     "model_name": "LayoutModel",
     "state": {
      "_model_module": "@jupyter-widgets/base",
      "_model_module_version": "1.2.0",
      "_model_name": "LayoutModel",
      "_view_count": null,
      "_view_module": "@jupyter-widgets/base",
      "_view_module_version": "1.2.0",
      "_view_name": "LayoutView",
      "align_content": null,
      "align_items": null,
      "align_self": null,
      "border": null,
      "bottom": null,
      "display": null,
      "flex": null,
      "flex_flow": null,
      "grid_area": null,
      "grid_auto_columns": null,
      "grid_auto_flow": null,
      "grid_auto_rows": null,
      "grid_column": null,
      "grid_gap": null,
      "grid_row": null,
      "grid_template_areas": null,
      "grid_template_columns": null,
      "grid_template_rows": null,
      "height": null,
      "justify_content": null,
      "justify_items": null,
      "left": null,
      "margin": null,
      "max_height": null,
      "max_width": null,
      "min_height": null,
      "min_width": null,
      "object_fit": null,
      "object_position": null,
      "order": null,
      "overflow": null,
      "overflow_x": null,
      "overflow_y": null,
      "padding": null,
      "right": null,
      "top": null,
      "visibility": null,
      "width": null
     }
    },
    "f588005e866e4ca7bc663830bb0c5ae6": {
     "model_module": "@jupyter-widgets/controls",
     "model_module_version": "1.5.0",
     "model_name": "FloatProgressModel",
     "state": {
      "_dom_classes": [],
      "_model_module": "@jupyter-widgets/controls",
      "_model_module_version": "1.5.0",
      "_model_name": "FloatProgressModel",
      "_view_count": null,
      "_view_module": "@jupyter-widgets/controls",
      "_view_module_version": "1.5.0",
      "_view_name": "ProgressView",
      "bar_style": "success",
      "description": "",
      "description_tooltip": null,
      "layout": "IPY_MODEL_5477a844a16d4080a2bbde834cdd1d1c",
      "max": 456318,
      "min": 0,
      "orientation": "horizontal",
      "style": "IPY_MODEL_3bb3c10ade97496a9baae5018323832b",
      "value": 456318
     }
    },
    "f76e2bdfebbf4448a4f870ce44adddd6": {
     "model_module": "@jupyter-widgets/controls",
     "model_module_version": "1.5.0",
     "model_name": "HBoxModel",
     "state": {
      "_dom_classes": [],
      "_model_module": "@jupyter-widgets/controls",
      "_model_module_version": "1.5.0",
      "_model_name": "HBoxModel",
      "_view_count": null,
      "_view_module": "@jupyter-widgets/controls",
      "_view_module_version": "1.5.0",
      "_view_name": "HBoxView",
      "box_style": "",
      "children": [
       "IPY_MODEL_af2f9f78ef6a4fd6b84e203075cf8de1",
       "IPY_MODEL_b2be406111d3463a882ed1563102b7fc",
       "IPY_MODEL_b5c2c478d2424cda969ea35f10d3ff98"
      ],
      "layout": "IPY_MODEL_fb72e800ee584933a934adc7970c31ec"
     }
    },
    "f8108ac3d7d643ff8d6f167ec7312719": {
     "model_module": "@jupyter-widgets/controls",
     "model_module_version": "1.5.0",
     "model_name": "DescriptionStyleModel",
     "state": {
      "_model_module": "@jupyter-widgets/controls",
      "_model_module_version": "1.5.0",
      "_model_name": "DescriptionStyleModel",
      "_view_count": null,
      "_view_module": "@jupyter-widgets/base",
      "_view_module_version": "1.2.0",
      "_view_name": "StyleView",
      "description_width": ""
     }
    },
    "f85068c7b06144b3b8a3d420823c1abb": {
     "model_module": "@jupyter-widgets/controls",
     "model_module_version": "1.5.0",
     "model_name": "HTMLModel",
     "state": {
      "_dom_classes": [],
      "_model_module": "@jupyter-widgets/controls",
      "_model_module_version": "1.5.0",
      "_model_name": "HTMLModel",
      "_view_count": null,
      "_view_module": "@jupyter-widgets/controls",
      "_view_module_version": "1.5.0",
      "_view_name": "HTMLView",
      "description": "",
      "description_tooltip": null,
      "layout": "IPY_MODEL_74621fd6a02f46a5921cdb88cca2f913",
      "placeholder": "​",
      "style": "IPY_MODEL_6f35ebcbc039405e9d6dff773907b52e",
      "value": "Downloading: 100%"
     }
    },
    "f8eab4561eab472ea20657588f5b5897": {
     "model_module": "@jupyter-widgets/base",
     "model_module_version": "1.2.0",
     "model_name": "LayoutModel",
     "state": {
      "_model_module": "@jupyter-widgets/base",
      "_model_module_version": "1.2.0",
      "_model_name": "LayoutModel",
      "_view_count": null,
      "_view_module": "@jupyter-widgets/base",
      "_view_module_version": "1.2.0",
      "_view_name": "LayoutView",
      "align_content": null,
      "align_items": null,
      "align_self": null,
      "border": null,
      "bottom": null,
      "display": null,
      "flex": null,
      "flex_flow": null,
      "grid_area": null,
      "grid_auto_columns": null,
      "grid_auto_flow": null,
      "grid_auto_rows": null,
      "grid_column": null,
      "grid_gap": null,
      "grid_row": null,
      "grid_template_areas": null,
      "grid_template_columns": null,
      "grid_template_rows": null,
      "height": null,
      "justify_content": null,
      "justify_items": null,
      "left": null,
      "margin": null,
      "max_height": null,
      "max_width": null,
      "min_height": null,
      "min_width": null,
      "object_fit": null,
      "object_position": null,
      "order": null,
      "overflow": null,
      "overflow_x": null,
      "overflow_y": null,
      "padding": null,
      "right": null,
      "top": null,
      "visibility": null,
      "width": null
     }
    },
    "fb72e800ee584933a934adc7970c31ec": {
     "model_module": "@jupyter-widgets/base",
     "model_module_version": "1.2.0",
     "model_name": "LayoutModel",
     "state": {
      "_model_module": "@jupyter-widgets/base",
      "_model_module_version": "1.2.0",
      "_model_name": "LayoutModel",
      "_view_count": null,
      "_view_module": "@jupyter-widgets/base",
      "_view_module_version": "1.2.0",
      "_view_name": "LayoutView",
      "align_content": null,
      "align_items": null,
      "align_self": null,
      "border": null,
      "bottom": null,
      "display": null,
      "flex": null,
      "flex_flow": null,
      "grid_area": null,
      "grid_auto_columns": null,
      "grid_auto_flow": null,
      "grid_auto_rows": null,
      "grid_column": null,
      "grid_gap": null,
      "grid_row": null,
      "grid_template_areas": null,
      "grid_template_columns": null,
      "grid_template_rows": null,
      "height": null,
      "justify_content": null,
      "justify_items": null,
      "left": null,
      "margin": null,
      "max_height": null,
      "max_width": null,
      "min_height": null,
      "min_width": null,
      "object_fit": null,
      "object_position": null,
      "order": null,
      "overflow": null,
      "overflow_x": null,
      "overflow_y": null,
      "padding": null,
      "right": null,
      "top": null,
      "visibility": null,
      "width": null
     }
    },
    "ff3136aa9df949a2a9aea6660900367c": {
     "model_module": "@jupyter-widgets/base",
     "model_module_version": "1.2.0",
     "model_name": "LayoutModel",
     "state": {
      "_model_module": "@jupyter-widgets/base",
      "_model_module_version": "1.2.0",
      "_model_name": "LayoutModel",
      "_view_count": null,
      "_view_module": "@jupyter-widgets/base",
      "_view_module_version": "1.2.0",
      "_view_name": "LayoutView",
      "align_content": null,
      "align_items": null,
      "align_self": null,
      "border": null,
      "bottom": null,
      "display": null,
      "flex": null,
      "flex_flow": null,
      "grid_area": null,
      "grid_auto_columns": null,
      "grid_auto_flow": null,
      "grid_auto_rows": null,
      "grid_column": null,
      "grid_gap": null,
      "grid_row": null,
      "grid_template_areas": null,
      "grid_template_columns": null,
      "grid_template_rows": null,
      "height": null,
      "justify_content": null,
      "justify_items": null,
      "left": null,
      "margin": null,
      "max_height": null,
      "max_width": null,
      "min_height": null,
      "min_width": null,
      "object_fit": null,
      "object_position": null,
      "order": null,
      "overflow": null,
      "overflow_x": null,
      "overflow_y": null,
      "padding": null,
      "right": null,
      "top": null,
      "visibility": null,
      "width": null
     }
    }
   }
  }
 },
 "nbformat": 4,
 "nbformat_minor": 4
}
