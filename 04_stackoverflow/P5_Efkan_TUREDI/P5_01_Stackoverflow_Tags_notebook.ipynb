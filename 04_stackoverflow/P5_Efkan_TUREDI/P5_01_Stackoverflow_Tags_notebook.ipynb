{
 "cells": [
  {
   "cell_type": "markdown",
   "metadata": {
    "id": "2KB7GHFY4o3M",
    "tags": []
   },
   "source": [
    "## **Stackoverflow - Natural Language Processing**"
   ]
  },
  {
   "cell_type": "code",
   "execution_count": 1,
   "metadata": {
    "id": "6Margtmn61ne"
   },
   "outputs": [],
   "source": [
    "import warnings\n",
    "warnings.filterwarnings(\"ignore\", category=DeprecationWarning) "
   ]
  },
  {
   "cell_type": "markdown",
   "metadata": {
    "id": "KEZXHj_H4o3Q"
   },
   "source": [
    "**[1. Lecture des données](#lecture)**\n",
    "\n",
    "**[2. Preprocessing](#EDA)**\n",
    "\n",
    "  * [2.1. CreationDate](#CreationDate)\n",
    "  * [2.2. Tags](#Tags)\n",
    "  * [2.3. Title](#Title)\n",
    "      * [2.3.1. Tokenization](#Tokens)\n",
    "      * [2.3.2. Lemmatization](#Lemma)\n",
    "  * [2.4. Body](#Body)\n",
    "\n",
    "**[3. Analyse Exploratoire](#EDA)**\n",
    "\n",
    "**[4. Approche Supervisée](#Supervisée)**\n",
    "  * [4.1. Bag of Words](#bow)\n",
    "  * [4.2. TF-IDF](#tfidf)\n",
    "  * [4.3. Dimensinality Reduction](#reduction)\n",
    "  * [4.4. Models](#models)\n",
    "\n",
    "**[5. Approche Non-Supervisée](#NonSupervisée)**\n",
    "  * [5.1. LDA Multicore with Gensim](#lda)\n",
    "\n",
    "**[6. Hugging Face: Transformers](#NonSupervisée)**\n",
    "\n",
    "**[7. Keras using Words Embeddings](#NonSupervisée)**\n",
    "\n",
    "**[8. API Creation](#comparaison)**\n",
    "\n",
    " "
   ]
  },
  {
   "cell_type": "markdown",
   "metadata": {
    "id": "tBJbhM5L8t1S",
    "tags": []
   },
   "source": [
    "# Data fetching"
   ]
  },
  {
   "cell_type": "markdown",
   "metadata": {
    "id": "Z6Gx6h824o3N"
   },
   "source": [
    "<h2> Recupération des données"
   ]
  },
  {
   "cell_type": "markdown",
   "metadata": {
    "id": "5eDrIHMu4o3O"
   },
   "source": [
    "Nous devons faire des requêtes SQL dans stack explorer pour récupérer des données utilisables. Pour le moment nous récupérons les données que pour un mois. Une fois que nous avons une version plus stable, nous augmenterons le nombre de données. "
   ]
  },
  {
   "cell_type": "markdown",
   "metadata": {
    "id": "Tm8Z0c2K4o3R"
   },
   "source": [
    "SELECT TOP(100000) Id, CreationDate, Score, ViewCount, AnswerCount, CommentCount, FavoriteCount, Title, Body, Tags\n",
    "FROM Posts\n",
    "WHERE CreationDate BETWEEN CONVERT(datetime, '2020-01-01') AND CONVERT(datetime, '2020-07-01')\n",
    "AND Score IS NOT NULL\n",
    "AND ViewCount IS NOT NULL\n",
    "AND AnswerCount IS NOT NULL\n",
    "AND CommentCount IS NOT NULL\n",
    "AND FavoriteCount IS NOT NULL\n",
    "ORDER BY ViewCount DESC"
   ]
  },
  {
   "cell_type": "markdown",
   "metadata": {
    "id": "xgQCkCW_4o3R"
   },
   "source": [
    "<h2> Lecture des données\n",
    "    <a name='lecture'>"
   ]
  },
  {
   "cell_type": "code",
   "execution_count": 2,
   "metadata": {
    "colab": {
     "base_uri": "https://localhost:8080/"
    },
    "executionInfo": {
     "elapsed": 3505,
     "status": "ok",
     "timestamp": 1637245582942,
     "user": {
      "displayName": "Alexandre Taillard de Vorms",
      "photoUrl": "https://lh3.googleusercontent.com/a/default-user=s64",
      "userId": "17158358651987272696"
     },
     "user_tz": -60
    },
    "id": "2BBHXk_s4o3R",
    "outputId": "9beb2fa6-33ca-45f0-9d04-7bd27acd6a4e"
   },
   "outputs": [
    {
     "name": "stderr",
     "output_type": "stream",
     "text": [
      "2021-12-01 12:26:32.154604: W tensorflow/stream_executor/platform/default/dso_loader.cc:64] Could not load dynamic library 'libcudart.so.11.0'; dlerror: libcudart.so.11.0: cannot open shared object file: No such file or directory\n",
      "2021-12-01 12:26:32.154620: I tensorflow/stream_executor/cuda/cudart_stub.cc:29] Ignore above cudart dlerror if you do not have a GPU set up on your machine.\n"
     ]
    }
   ],
   "source": [
    "from itertools import chain\n",
    "from datetime import datetime\n",
    "from stackoverflow_utils import *\n",
    "import re\n",
    "import numpy as np\n",
    "import matplotlib.pyplot as plt\n",
    "import plotly.graph_objects as go\n",
    "import plotly.express as px\n",
    "import plotly.figure_factory as ff\n",
    "import pandas as pd"
   ]
  },
  {
   "cell_type": "code",
   "execution_count": 3,
   "metadata": {
    "id": "2Qc-mI084EKl"
   },
   "outputs": [],
   "source": [
    "db = pd.read_csv('./Input_database/200k_QueryResults.csv')"
   ]
  },
  {
   "cell_type": "code",
   "execution_count": 4,
   "metadata": {
    "colab": {
     "base_uri": "https://localhost:8080/"
    },
    "executionInfo": {
     "elapsed": 36,
     "status": "ok",
     "timestamp": 1637245590438,
     "user": {
      "displayName": "Alexandre Taillard de Vorms",
      "photoUrl": "https://lh3.googleusercontent.com/a/default-user=s64",
      "userId": "17158358651987272696"
     },
     "user_tz": -60
    },
    "id": "W4Yo50YV4o3S",
    "outputId": "7b545a16-bb47-4ca2-d79a-052f6bfd06e9"
   },
   "outputs": [
    {
     "data": {
      "text/html": [
       "<div>\n",
       "<style scoped>\n",
       "    .dataframe tbody tr th:only-of-type {\n",
       "        vertical-align: middle;\n",
       "    }\n",
       "\n",
       "    .dataframe tbody tr th {\n",
       "        vertical-align: top;\n",
       "    }\n",
       "\n",
       "    .dataframe thead th {\n",
       "        text-align: right;\n",
       "    }\n",
       "</style>\n",
       "<table border=\"1\" class=\"dataframe\">\n",
       "  <thead>\n",
       "    <tr style=\"text-align: right;\">\n",
       "      <th></th>\n",
       "      <th>Id</th>\n",
       "      <th>CreationDate</th>\n",
       "      <th>Score</th>\n",
       "      <th>ViewCount</th>\n",
       "      <th>AnswerCount</th>\n",
       "      <th>CommentCount</th>\n",
       "      <th>FavoriteCount</th>\n",
       "      <th>Title</th>\n",
       "      <th>Body</th>\n",
       "      <th>Tags</th>\n",
       "    </tr>\n",
       "  </thead>\n",
       "  <tbody>\n",
       "    <tr>\n",
       "      <th>0</th>\n",
       "      <td>61339968</td>\n",
       "      <td>2020-04-21 09:16:35</td>\n",
       "      <td>147</td>\n",
       "      <td>387745</td>\n",
       "      <td>12</td>\n",
       "      <td>5</td>\n",
       "      <td>29</td>\n",
       "      <td>Error message \"DevTools failed to load SourceM...</td>\n",
       "      <td>&lt;p&gt;I'm trying to display an image selected fro...</td>\n",
       "      <td>&lt;javascript&gt;&lt;html&gt;</td>\n",
       "    </tr>\n",
       "    <tr>\n",
       "      <th>1</th>\n",
       "      <td>61205390</td>\n",
       "      <td>2020-04-14 10:19:16</td>\n",
       "      <td>78</td>\n",
       "      <td>323357</td>\n",
       "      <td>12</td>\n",
       "      <td>8</td>\n",
       "      <td>13</td>\n",
       "      <td>When adding a JavaScript library, Chrome compl...</td>\n",
       "      <td>&lt;h3&gt;My code&lt;/h3&gt;\\n&lt;pre class=\"lang-html pretty...</td>\n",
       "      <td>&lt;google-chrome-devtools&gt;</td>\n",
       "    </tr>\n",
       "    <tr>\n",
       "      <th>2</th>\n",
       "      <td>59823283</td>\n",
       "      <td>2020-01-20 12:26:53</td>\n",
       "      <td>114</td>\n",
       "      <td>266124</td>\n",
       "      <td>15</td>\n",
       "      <td>0</td>\n",
       "      <td>47</td>\n",
       "      <td>Could not load dynamic library 'cudart64_101.d...</td>\n",
       "      <td>&lt;p&gt;I just installed the latest version of Tens...</td>\n",
       "      <td>&lt;python&gt;&lt;python-3.x&gt;&lt;tensorflow&gt;&lt;keras&gt;&lt;tensor...</td>\n",
       "    </tr>\n",
       "    <tr>\n",
       "      <th>3</th>\n",
       "      <td>60296873</td>\n",
       "      <td>2020-02-19 09:24:42</td>\n",
       "      <td>109</td>\n",
       "      <td>253667</td>\n",
       "      <td>32</td>\n",
       "      <td>7</td>\n",
       "      <td>29</td>\n",
       "      <td>SessionNotCreatedException: Message: session n...</td>\n",
       "      <td>&lt;p&gt;I am currently new to robot framework.I am ...</td>\n",
       "      <td>&lt;selenium&gt;&lt;google-chrome&gt;&lt;selenium-webdriver&gt;&lt;...</td>\n",
       "    </tr>\n",
       "    <tr>\n",
       "      <th>4</th>\n",
       "      <td>60290309</td>\n",
       "      <td>2020-02-18 22:24:39</td>\n",
       "      <td>176</td>\n",
       "      <td>247270</td>\n",
       "      <td>30</td>\n",
       "      <td>3</td>\n",
       "      <td>18</td>\n",
       "      <td>error NG6002: Appears in the NgModule.imports ...</td>\n",
       "      <td>&lt;p&gt;First time using firestore and I'm getting ...</td>\n",
       "      <td>&lt;angular&gt;&lt;google-cloud-firestore&gt;&lt;angularfire&gt;</td>\n",
       "    </tr>\n",
       "  </tbody>\n",
       "</table>\n",
       "</div>"
      ],
      "text/plain": [
       "         Id         CreationDate  Score  ViewCount  AnswerCount  CommentCount  \\\n",
       "0  61339968  2020-04-21 09:16:35    147     387745           12             5   \n",
       "1  61205390  2020-04-14 10:19:16     78     323357           12             8   \n",
       "2  59823283  2020-01-20 12:26:53    114     266124           15             0   \n",
       "3  60296873  2020-02-19 09:24:42    109     253667           32             7   \n",
       "4  60290309  2020-02-18 22:24:39    176     247270           30             3   \n",
       "\n",
       "   FavoriteCount                                              Title  \\\n",
       "0             29  Error message \"DevTools failed to load SourceM...   \n",
       "1             13  When adding a JavaScript library, Chrome compl...   \n",
       "2             47  Could not load dynamic library 'cudart64_101.d...   \n",
       "3             29  SessionNotCreatedException: Message: session n...   \n",
       "4             18  error NG6002: Appears in the NgModule.imports ...   \n",
       "\n",
       "                                                Body  \\\n",
       "0  <p>I'm trying to display an image selected fro...   \n",
       "1  <h3>My code</h3>\\n<pre class=\"lang-html pretty...   \n",
       "2  <p>I just installed the latest version of Tens...   \n",
       "3  <p>I am currently new to robot framework.I am ...   \n",
       "4  <p>First time using firestore and I'm getting ...   \n",
       "\n",
       "                                                Tags  \n",
       "0                                 <javascript><html>  \n",
       "1                           <google-chrome-devtools>  \n",
       "2  <python><python-3.x><tensorflow><keras><tensor...  \n",
       "3  <selenium><google-chrome><selenium-webdriver><...  \n",
       "4     <angular><google-cloud-firestore><angularfire>  "
      ]
     },
     "execution_count": 4,
     "metadata": {},
     "output_type": "execute_result"
    }
   ],
   "source": [
    "db.head()"
   ]
  },
  {
   "cell_type": "markdown",
   "metadata": {
    "id": "IW4mR0Ua4o3S"
   },
   "source": [
    "Dans un premier temps, pour des questions de simplicité, on va concentret sur les colonnes Tags et Titles uniquement"
   ]
  },
  {
   "cell_type": "code",
   "execution_count": 5,
   "metadata": {
    "colab": {
     "base_uri": "https://localhost:8080/"
    },
    "executionInfo": {
     "elapsed": 19,
     "status": "ok",
     "timestamp": 1637245590439,
     "user": {
      "displayName": "Alexandre Taillard de Vorms",
      "photoUrl": "https://lh3.googleusercontent.com/a/default-user=s64",
      "userId": "17158358651987272696"
     },
     "user_tz": -60
    },
    "id": "3uKkr5Rt4o3S",
    "outputId": "49a9e36d-3c3f-47e5-d217-71cc2c6c7934",
    "scrolled": true
   },
   "outputs": [
    {
     "data": {
      "text/plain": [
       "(200000, 10)"
      ]
     },
     "execution_count": 5,
     "metadata": {},
     "output_type": "execute_result"
    }
   ],
   "source": [
    "db.shape"
   ]
  },
  {
   "cell_type": "code",
   "execution_count": 6,
   "metadata": {
    "id": "iqLppgOa4o3S"
   },
   "outputs": [],
   "source": [
    "#n_sample = 50000\n",
    "#db = db.sample(n_sample,random_state=42)\n",
    "#db = db.reset_index(drop=True)"
   ]
  },
  {
   "cell_type": "markdown",
   "metadata": {
    "id": "PHpZtfmB4o3T",
    "tags": []
   },
   "source": [
    "# Preprocessing"
   ]
  },
  {
   "cell_type": "markdown",
   "metadata": {
    "id": "4SY_wBFC4o3T"
   },
   "source": [
    "Par simplicité, faisons ces tranformations sur une seule de ces données. Nous scalerons ensuite ces transformations via une fonction"
   ]
  },
  {
   "cell_type": "code",
   "execution_count": 7,
   "metadata": {
    "colab": {
     "base_uri": "https://localhost:8080/"
    },
    "executionInfo": {
     "elapsed": 16,
     "status": "ok",
     "timestamp": 1637245590439,
     "user": {
      "displayName": "Alexandre Taillard de Vorms",
      "photoUrl": "https://lh3.googleusercontent.com/a/default-user=s64",
      "userId": "17158358651987272696"
     },
     "user_tz": -60
    },
    "id": "MSY2a3bL4o3T",
    "outputId": "5e361400-f79e-47be-afcf-4fd42355f353"
   },
   "outputs": [
    {
     "data": {
      "text/plain": [
       "Id                                                        61339968\n",
       "CreationDate                                   2020-04-21 09:16:35\n",
       "Score                                                          147\n",
       "ViewCount                                                   387745\n",
       "AnswerCount                                                     12\n",
       "CommentCount                                                     5\n",
       "FavoriteCount                                                   29\n",
       "Title            Error message \"DevTools failed to load SourceM...\n",
       "Body             <p>I'm trying to display an image selected fro...\n",
       "Tags                                            <javascript><html>\n",
       "Name: 0, dtype: object"
      ]
     },
     "execution_count": 7,
     "metadata": {},
     "output_type": "execute_result"
    }
   ],
   "source": [
    "sample = db.iloc[0,:]\n",
    "sample"
   ]
  },
  {
   "cell_type": "markdown",
   "metadata": {
    "id": "8_9Cl0dc4o3T"
   },
   "source": [
    "Les données nécessitant une transformation sont: Creation date, Title, Body, et Tags. "
   ]
  },
  {
   "cell_type": "markdown",
   "metadata": {
    "id": "DWnJxOxj4o3U"
   },
   "source": [
    "## Preprocessing de la colonne Tags"
   ]
  },
  {
   "cell_type": "code",
   "execution_count": 8,
   "metadata": {
    "colab": {
     "base_uri": "https://localhost:8080/"
    },
    "executionInfo": {
     "elapsed": 16,
     "status": "ok",
     "timestamp": 1637245590440,
     "user": {
      "displayName": "Alexandre Taillard de Vorms",
      "photoUrl": "https://lh3.googleusercontent.com/a/default-user=s64",
      "userId": "17158358651987272696"
     },
     "user_tz": -60
    },
    "id": "v__RFpyr4o3U",
    "outputId": "d3a0db67-9397-41d7-fc49-c5d21aa5d777",
    "scrolled": true
   },
   "outputs": [
    {
     "data": {
      "text/plain": [
       "str"
      ]
     },
     "execution_count": 8,
     "metadata": {},
     "output_type": "execute_result"
    }
   ],
   "source": [
    "type(sample['Tags'])"
   ]
  },
  {
   "cell_type": "code",
   "execution_count": 9,
   "metadata": {
    "id": "2HzS6nT44o3U"
   },
   "outputs": [],
   "source": [
    "tag_list = db['Tags'].apply(lambda x: tags_cleaner(x))"
   ]
  },
  {
   "cell_type": "code",
   "execution_count": 10,
   "metadata": {
    "colab": {
     "base_uri": "https://localhost:8080/"
    },
    "executionInfo": {
     "elapsed": 15,
     "status": "ok",
     "timestamp": 1637245590440,
     "user": {
      "displayName": "Alexandre Taillard de Vorms",
      "photoUrl": "https://lh3.googleusercontent.com/a/default-user=s64",
      "userId": "17158358651987272696"
     },
     "user_tz": -60
    },
    "id": "TspKJ63I4o3U",
    "outputId": "4e22a9cd-c28f-4fe8-ef11-de872bab1c99",
    "scrolled": true
   },
   "outputs": [
    {
     "data": {
      "text/plain": [
       "0                                        [javascript, html]\n",
       "1                                  [google-chrome-devtools]\n",
       "2         [python, python-3.x, tensorflow, keras, tensor...\n",
       "3         [selenium, google-chrome, selenium-webdriver, ...\n",
       "4            [angular, google-cloud-firestore, angularfire]\n",
       "                                ...                        \n",
       "199995     [outlook, office-js, add-in, outlook-web-addins]\n",
       "199996                                       [loops, vlang]\n",
       "199997                                            [reactjs]\n",
       "199998               [java, maven, intellij-idea, getgauge]\n",
       "199999                              [sql, oracle, auditing]\n",
       "Name: Tags, Length: 200000, dtype: object"
      ]
     },
     "execution_count": 10,
     "metadata": {},
     "output_type": "execute_result"
    }
   ],
   "source": [
    "tag_list"
   ]
  },
  {
   "cell_type": "code",
   "execution_count": 11,
   "metadata": {
    "colab": {
     "base_uri": "https://localhost:8080/"
    },
    "executionInfo": {
     "elapsed": 15,
     "status": "ok",
     "timestamp": 1637245590441,
     "user": {
      "displayName": "Alexandre Taillard de Vorms",
      "photoUrl": "https://lh3.googleusercontent.com/a/default-user=s64",
      "userId": "17158358651987272696"
     },
     "user_tz": -60
    },
    "id": "7GHiAGaQ4o3V",
    "outputId": "46252a7e-f067-4556-af35-1ccc357ecb16"
   },
   "outputs": [
    {
     "data": {
      "text/html": [
       "<div>\n",
       "<style scoped>\n",
       "    .dataframe tbody tr th:only-of-type {\n",
       "        vertical-align: middle;\n",
       "    }\n",
       "\n",
       "    .dataframe tbody tr th {\n",
       "        vertical-align: top;\n",
       "    }\n",
       "\n",
       "    .dataframe thead th {\n",
       "        text-align: right;\n",
       "    }\n",
       "</style>\n",
       "<table border=\"1\" class=\"dataframe\">\n",
       "  <thead>\n",
       "    <tr style=\"text-align: right;\">\n",
       "      <th></th>\n",
       "      <th>Id</th>\n",
       "      <th>CreationDate</th>\n",
       "      <th>Score</th>\n",
       "      <th>ViewCount</th>\n",
       "      <th>AnswerCount</th>\n",
       "      <th>CommentCount</th>\n",
       "      <th>FavoriteCount</th>\n",
       "      <th>Title</th>\n",
       "      <th>Body</th>\n",
       "      <th>Tags</th>\n",
       "    </tr>\n",
       "  </thead>\n",
       "  <tbody>\n",
       "    <tr>\n",
       "      <th>0</th>\n",
       "      <td>61339968</td>\n",
       "      <td>2020-04-21 09:16:35</td>\n",
       "      <td>147</td>\n",
       "      <td>387745</td>\n",
       "      <td>12</td>\n",
       "      <td>5</td>\n",
       "      <td>29</td>\n",
       "      <td>Error message \"DevTools failed to load SourceM...</td>\n",
       "      <td>&lt;p&gt;I'm trying to display an image selected fro...</td>\n",
       "      <td>[javascript, html]</td>\n",
       "    </tr>\n",
       "    <tr>\n",
       "      <th>1</th>\n",
       "      <td>61205390</td>\n",
       "      <td>2020-04-14 10:19:16</td>\n",
       "      <td>78</td>\n",
       "      <td>323357</td>\n",
       "      <td>12</td>\n",
       "      <td>8</td>\n",
       "      <td>13</td>\n",
       "      <td>When adding a JavaScript library, Chrome compl...</td>\n",
       "      <td>&lt;h3&gt;My code&lt;/h3&gt;\\n&lt;pre class=\"lang-html pretty...</td>\n",
       "      <td>[google-chrome-devtools]</td>\n",
       "    </tr>\n",
       "    <tr>\n",
       "      <th>2</th>\n",
       "      <td>59823283</td>\n",
       "      <td>2020-01-20 12:26:53</td>\n",
       "      <td>114</td>\n",
       "      <td>266124</td>\n",
       "      <td>15</td>\n",
       "      <td>0</td>\n",
       "      <td>47</td>\n",
       "      <td>Could not load dynamic library 'cudart64_101.d...</td>\n",
       "      <td>&lt;p&gt;I just installed the latest version of Tens...</td>\n",
       "      <td>[python, python-3.x, tensorflow, keras, tensor...</td>\n",
       "    </tr>\n",
       "    <tr>\n",
       "      <th>3</th>\n",
       "      <td>60296873</td>\n",
       "      <td>2020-02-19 09:24:42</td>\n",
       "      <td>109</td>\n",
       "      <td>253667</td>\n",
       "      <td>32</td>\n",
       "      <td>7</td>\n",
       "      <td>29</td>\n",
       "      <td>SessionNotCreatedException: Message: session n...</td>\n",
       "      <td>&lt;p&gt;I am currently new to robot framework.I am ...</td>\n",
       "      <td>[selenium, google-chrome, selenium-webdriver, ...</td>\n",
       "    </tr>\n",
       "    <tr>\n",
       "      <th>4</th>\n",
       "      <td>60290309</td>\n",
       "      <td>2020-02-18 22:24:39</td>\n",
       "      <td>176</td>\n",
       "      <td>247270</td>\n",
       "      <td>30</td>\n",
       "      <td>3</td>\n",
       "      <td>18</td>\n",
       "      <td>error NG6002: Appears in the NgModule.imports ...</td>\n",
       "      <td>&lt;p&gt;First time using firestore and I'm getting ...</td>\n",
       "      <td>[angular, google-cloud-firestore, angularfire]</td>\n",
       "    </tr>\n",
       "    <tr>\n",
       "      <th>...</th>\n",
       "      <td>...</td>\n",
       "      <td>...</td>\n",
       "      <td>...</td>\n",
       "      <td>...</td>\n",
       "      <td>...</td>\n",
       "      <td>...</td>\n",
       "      <td>...</td>\n",
       "      <td>...</td>\n",
       "      <td>...</td>\n",
       "      <td>...</td>\n",
       "    </tr>\n",
       "    <tr>\n",
       "      <th>199995</th>\n",
       "      <td>57402803</td>\n",
       "      <td>2019-08-07 22:01:57</td>\n",
       "      <td>0</td>\n",
       "      <td>599</td>\n",
       "      <td>1</td>\n",
       "      <td>0</td>\n",
       "      <td>1</td>\n",
       "      <td>Outlook office-js how to forward selected emai...</td>\n",
       "      <td>&lt;p&gt;I am new to outlook office-js, and I am try...</td>\n",
       "      <td>[outlook, office-js, add-in, outlook-web-addins]</td>\n",
       "    </tr>\n",
       "    <tr>\n",
       "      <th>199996</th>\n",
       "      <td>56952330</td>\n",
       "      <td>2019-07-09 12:11:49</td>\n",
       "      <td>5</td>\n",
       "      <td>599</td>\n",
       "      <td>2</td>\n",
       "      <td>1</td>\n",
       "      <td>1</td>\n",
       "      <td>Loop through an array in vlang</td>\n",
       "      <td>&lt;p&gt;How can I loop over an array of strings on ...</td>\n",
       "      <td>[loops, vlang]</td>\n",
       "    </tr>\n",
       "    <tr>\n",
       "      <th>199997</th>\n",
       "      <td>59194296</td>\n",
       "      <td>2019-12-05 11:36:52</td>\n",
       "      <td>0</td>\n",
       "      <td>599</td>\n",
       "      <td>3</td>\n",
       "      <td>7</td>\n",
       "      <td>1</td>\n",
       "      <td>How to hide Navbar in Login Component with Rea...</td>\n",
       "      <td>&lt;p&gt;Recently I started learning React and my pr...</td>\n",
       "      <td>[reactjs]</td>\n",
       "    </tr>\n",
       "    <tr>\n",
       "      <th>199998</th>\n",
       "      <td>56847354</td>\n",
       "      <td>2019-07-02 07:26:35</td>\n",
       "      <td>2</td>\n",
       "      <td>599</td>\n",
       "      <td>1</td>\n",
       "      <td>0</td>\n",
       "      <td>1</td>\n",
       "      <td>Unsupported Gauge Version: This veuge Inrsion ...</td>\n",
       "      <td>&lt;p&gt;//unexpected gauge plugin error comes    &lt;/...</td>\n",
       "      <td>[java, maven, intellij-idea, getgauge]</td>\n",
       "    </tr>\n",
       "    <tr>\n",
       "      <th>199999</th>\n",
       "      <td>58720404</td>\n",
       "      <td>2019-11-05 22:26:00</td>\n",
       "      <td>0</td>\n",
       "      <td>599</td>\n",
       "      <td>1</td>\n",
       "      <td>0</td>\n",
       "      <td>1</td>\n",
       "      <td>sys.aud$ got dropped how to rebuild it</td>\n",
       "      <td>&lt;p&gt;I had enabled auditing with oracle 12.2C an...</td>\n",
       "      <td>[sql, oracle, auditing]</td>\n",
       "    </tr>\n",
       "  </tbody>\n",
       "</table>\n",
       "<p>200000 rows × 10 columns</p>\n",
       "</div>"
      ],
      "text/plain": [
       "              Id         CreationDate  Score  ViewCount  AnswerCount  \\\n",
       "0       61339968  2020-04-21 09:16:35    147     387745           12   \n",
       "1       61205390  2020-04-14 10:19:16     78     323357           12   \n",
       "2       59823283  2020-01-20 12:26:53    114     266124           15   \n",
       "3       60296873  2020-02-19 09:24:42    109     253667           32   \n",
       "4       60290309  2020-02-18 22:24:39    176     247270           30   \n",
       "...          ...                  ...    ...        ...          ...   \n",
       "199995  57402803  2019-08-07 22:01:57      0        599            1   \n",
       "199996  56952330  2019-07-09 12:11:49      5        599            2   \n",
       "199997  59194296  2019-12-05 11:36:52      0        599            3   \n",
       "199998  56847354  2019-07-02 07:26:35      2        599            1   \n",
       "199999  58720404  2019-11-05 22:26:00      0        599            1   \n",
       "\n",
       "        CommentCount  FavoriteCount  \\\n",
       "0                  5             29   \n",
       "1                  8             13   \n",
       "2                  0             47   \n",
       "3                  7             29   \n",
       "4                  3             18   \n",
       "...              ...            ...   \n",
       "199995             0              1   \n",
       "199996             1              1   \n",
       "199997             7              1   \n",
       "199998             0              1   \n",
       "199999             0              1   \n",
       "\n",
       "                                                    Title  \\\n",
       "0       Error message \"DevTools failed to load SourceM...   \n",
       "1       When adding a JavaScript library, Chrome compl...   \n",
       "2       Could not load dynamic library 'cudart64_101.d...   \n",
       "3       SessionNotCreatedException: Message: session n...   \n",
       "4       error NG6002: Appears in the NgModule.imports ...   \n",
       "...                                                   ...   \n",
       "199995  Outlook office-js how to forward selected emai...   \n",
       "199996                     Loop through an array in vlang   \n",
       "199997  How to hide Navbar in Login Component with Rea...   \n",
       "199998  Unsupported Gauge Version: This veuge Inrsion ...   \n",
       "199999             sys.aud$ got dropped how to rebuild it   \n",
       "\n",
       "                                                     Body  \\\n",
       "0       <p>I'm trying to display an image selected fro...   \n",
       "1       <h3>My code</h3>\\n<pre class=\"lang-html pretty...   \n",
       "2       <p>I just installed the latest version of Tens...   \n",
       "3       <p>I am currently new to robot framework.I am ...   \n",
       "4       <p>First time using firestore and I'm getting ...   \n",
       "...                                                   ...   \n",
       "199995  <p>I am new to outlook office-js, and I am try...   \n",
       "199996  <p>How can I loop over an array of strings on ...   \n",
       "199997  <p>Recently I started learning React and my pr...   \n",
       "199998  <p>//unexpected gauge plugin error comes    </...   \n",
       "199999  <p>I had enabled auditing with oracle 12.2C an...   \n",
       "\n",
       "                                                     Tags  \n",
       "0                                      [javascript, html]  \n",
       "1                                [google-chrome-devtools]  \n",
       "2       [python, python-3.x, tensorflow, keras, tensor...  \n",
       "3       [selenium, google-chrome, selenium-webdriver, ...  \n",
       "4          [angular, google-cloud-firestore, angularfire]  \n",
       "...                                                   ...  \n",
       "199995   [outlook, office-js, add-in, outlook-web-addins]  \n",
       "199996                                     [loops, vlang]  \n",
       "199997                                          [reactjs]  \n",
       "199998             [java, maven, intellij-idea, getgauge]  \n",
       "199999                            [sql, oracle, auditing]  \n",
       "\n",
       "[200000 rows x 10 columns]"
      ]
     },
     "execution_count": 11,
     "metadata": {},
     "output_type": "execute_result"
    }
   ],
   "source": [
    "db['Tags'] = tag_list\n",
    "db"
   ]
  },
  {
   "cell_type": "code",
   "execution_count": 12,
   "metadata": {
    "colab": {
     "base_uri": "https://localhost:8080/"
    },
    "executionInfo": {
     "elapsed": 428,
     "status": "ok",
     "timestamp": 1637245590855,
     "user": {
      "displayName": "Alexandre Taillard de Vorms",
      "photoUrl": "https://lh3.googleusercontent.com/a/default-user=s64",
      "userId": "17158358651987272696"
     },
     "user_tz": -60
    },
    "id": "LPTOo22G4o3V",
    "outputId": "c2c6e971-2879-4c9a-b59a-609c39bf9eb0"
   },
   "outputs": [
    {
     "data": {
      "text/plain": [
       "python                    28675\n",
       "javascript                19046\n",
       "java                      12791\n",
       "reactjs                   11925\n",
       "android                   11540\n",
       "                          ...  \n",
       "data-science                174\n",
       "angular-reactive-forms      172\n",
       "random                      172\n",
       "frontend                    172\n",
       "serialization               172\n",
       "Length: 500, dtype: int64"
      ]
     },
     "execution_count": 12,
     "metadata": {},
     "output_type": "execute_result"
    }
   ],
   "source": [
    "tags_count = pd.Series(chain(*tag_list)).value_counts()\n",
    "tags_top_500 = tags_count.nlargest(500)\n",
    "tags_top_500"
   ]
  },
  {
   "cell_type": "code",
   "execution_count": 13,
   "metadata": {
    "colab": {
     "base_uri": "https://localhost:8080/"
    },
    "executionInfo": {
     "elapsed": 9,
     "status": "ok",
     "timestamp": 1637245590855,
     "user": {
      "displayName": "Alexandre Taillard de Vorms",
      "photoUrl": "https://lh3.googleusercontent.com/a/default-user=s64",
      "userId": "17158358651987272696"
     },
     "user_tz": -60
    },
    "id": "VZroFh4e4o3V",
    "outputId": "0dcbd589-9190-4878-de93-47ec1d1fbc33"
   },
   "outputs": [
    {
     "data": {
      "text/plain": [
       "23559"
      ]
     },
     "execution_count": 13,
     "metadata": {},
     "output_type": "execute_result"
    }
   ],
   "source": [
    "len(tags_count)"
   ]
  },
  {
   "cell_type": "code",
   "execution_count": 14,
   "metadata": {
    "id": "uXytOtYL4o3W",
    "scrolled": true
   },
   "outputs": [],
   "source": [
    "tester = list(tags_top_500.keys())\n"
   ]
  },
  {
   "cell_type": "markdown",
   "metadata": {
    "id": "9VfNa5IK4o3W"
   },
   "source": [
    "Let's first clean the Tags column, by keeping the most common value only for each row"
   ]
  },
  {
   "cell_type": "code",
   "execution_count": 15,
   "metadata": {
    "colab": {
     "base_uri": "https://localhost:8080/"
    },
    "executionInfo": {
     "elapsed": 10,
     "status": "ok",
     "timestamp": 1637245590856,
     "user": {
      "displayName": "Alexandre Taillard de Vorms",
      "photoUrl": "https://lh3.googleusercontent.com/a/default-user=s64",
      "userId": "17158358651987272696"
     },
     "user_tz": -60
    },
    "id": "qgP7yfUI4o3W",
    "outputId": "21d50928-752f-4b2f-c2af-f5ecc5bbfd76"
   },
   "outputs": [
    {
     "data": {
      "text/html": [
       "<div>\n",
       "<style scoped>\n",
       "    .dataframe tbody tr th:only-of-type {\n",
       "        vertical-align: middle;\n",
       "    }\n",
       "\n",
       "    .dataframe tbody tr th {\n",
       "        vertical-align: top;\n",
       "    }\n",
       "\n",
       "    .dataframe thead th {\n",
       "        text-align: right;\n",
       "    }\n",
       "</style>\n",
       "<table border=\"1\" class=\"dataframe\">\n",
       "  <thead>\n",
       "    <tr style=\"text-align: right;\">\n",
       "      <th></th>\n",
       "      <th>Id</th>\n",
       "      <th>CreationDate</th>\n",
       "      <th>Score</th>\n",
       "      <th>ViewCount</th>\n",
       "      <th>AnswerCount</th>\n",
       "      <th>CommentCount</th>\n",
       "      <th>FavoriteCount</th>\n",
       "      <th>Title</th>\n",
       "      <th>Body</th>\n",
       "      <th>Tags</th>\n",
       "    </tr>\n",
       "  </thead>\n",
       "  <tbody>\n",
       "    <tr>\n",
       "      <th>0</th>\n",
       "      <td>61339968</td>\n",
       "      <td>2020-04-21 09:16:35</td>\n",
       "      <td>147</td>\n",
       "      <td>387745</td>\n",
       "      <td>12</td>\n",
       "      <td>5</td>\n",
       "      <td>29</td>\n",
       "      <td>Error message \"DevTools failed to load SourceM...</td>\n",
       "      <td>&lt;p&gt;I'm trying to display an image selected fro...</td>\n",
       "      <td>[javascript, html]</td>\n",
       "    </tr>\n",
       "    <tr>\n",
       "      <th>1</th>\n",
       "      <td>61205390</td>\n",
       "      <td>2020-04-14 10:19:16</td>\n",
       "      <td>78</td>\n",
       "      <td>323357</td>\n",
       "      <td>12</td>\n",
       "      <td>8</td>\n",
       "      <td>13</td>\n",
       "      <td>When adding a JavaScript library, Chrome compl...</td>\n",
       "      <td>&lt;h3&gt;My code&lt;/h3&gt;\\n&lt;pre class=\"lang-html pretty...</td>\n",
       "      <td>[]</td>\n",
       "    </tr>\n",
       "    <tr>\n",
       "      <th>2</th>\n",
       "      <td>59823283</td>\n",
       "      <td>2020-01-20 12:26:53</td>\n",
       "      <td>114</td>\n",
       "      <td>266124</td>\n",
       "      <td>15</td>\n",
       "      <td>0</td>\n",
       "      <td>47</td>\n",
       "      <td>Could not load dynamic library 'cudart64_101.d...</td>\n",
       "      <td>&lt;p&gt;I just installed the latest version of Tens...</td>\n",
       "      <td>[python, python-3.x, tensorflow, keras, tensor...</td>\n",
       "    </tr>\n",
       "    <tr>\n",
       "      <th>3</th>\n",
       "      <td>60296873</td>\n",
       "      <td>2020-02-19 09:24:42</td>\n",
       "      <td>109</td>\n",
       "      <td>253667</td>\n",
       "      <td>32</td>\n",
       "      <td>7</td>\n",
       "      <td>29</td>\n",
       "      <td>SessionNotCreatedException: Message: session n...</td>\n",
       "      <td>&lt;p&gt;I am currently new to robot framework.I am ...</td>\n",
       "      <td>[selenium, google-chrome, selenium-webdriver, ...</td>\n",
       "    </tr>\n",
       "    <tr>\n",
       "      <th>4</th>\n",
       "      <td>60290309</td>\n",
       "      <td>2020-02-18 22:24:39</td>\n",
       "      <td>176</td>\n",
       "      <td>247270</td>\n",
       "      <td>30</td>\n",
       "      <td>3</td>\n",
       "      <td>18</td>\n",
       "      <td>error NG6002: Appears in the NgModule.imports ...</td>\n",
       "      <td>&lt;p&gt;First time using firestore and I'm getting ...</td>\n",
       "      <td>[angular, google-cloud-firestore]</td>\n",
       "    </tr>\n",
       "    <tr>\n",
       "      <th>...</th>\n",
       "      <td>...</td>\n",
       "      <td>...</td>\n",
       "      <td>...</td>\n",
       "      <td>...</td>\n",
       "      <td>...</td>\n",
       "      <td>...</td>\n",
       "      <td>...</td>\n",
       "      <td>...</td>\n",
       "      <td>...</td>\n",
       "      <td>...</td>\n",
       "    </tr>\n",
       "    <tr>\n",
       "      <th>199995</th>\n",
       "      <td>57402803</td>\n",
       "      <td>2019-08-07 22:01:57</td>\n",
       "      <td>0</td>\n",
       "      <td>599</td>\n",
       "      <td>1</td>\n",
       "      <td>0</td>\n",
       "      <td>1</td>\n",
       "      <td>Outlook office-js how to forward selected emai...</td>\n",
       "      <td>&lt;p&gt;I am new to outlook office-js, and I am try...</td>\n",
       "      <td>[]</td>\n",
       "    </tr>\n",
       "    <tr>\n",
       "      <th>199996</th>\n",
       "      <td>56952330</td>\n",
       "      <td>2019-07-09 12:11:49</td>\n",
       "      <td>5</td>\n",
       "      <td>599</td>\n",
       "      <td>2</td>\n",
       "      <td>1</td>\n",
       "      <td>1</td>\n",
       "      <td>Loop through an array in vlang</td>\n",
       "      <td>&lt;p&gt;How can I loop over an array of strings on ...</td>\n",
       "      <td>[loops]</td>\n",
       "    </tr>\n",
       "    <tr>\n",
       "      <th>199997</th>\n",
       "      <td>59194296</td>\n",
       "      <td>2019-12-05 11:36:52</td>\n",
       "      <td>0</td>\n",
       "      <td>599</td>\n",
       "      <td>3</td>\n",
       "      <td>7</td>\n",
       "      <td>1</td>\n",
       "      <td>How to hide Navbar in Login Component with Rea...</td>\n",
       "      <td>&lt;p&gt;Recently I started learning React and my pr...</td>\n",
       "      <td>[reactjs]</td>\n",
       "    </tr>\n",
       "    <tr>\n",
       "      <th>199998</th>\n",
       "      <td>56847354</td>\n",
       "      <td>2019-07-02 07:26:35</td>\n",
       "      <td>2</td>\n",
       "      <td>599</td>\n",
       "      <td>1</td>\n",
       "      <td>0</td>\n",
       "      <td>1</td>\n",
       "      <td>Unsupported Gauge Version: This veuge Inrsion ...</td>\n",
       "      <td>&lt;p&gt;//unexpected gauge plugin error comes    &lt;/...</td>\n",
       "      <td>[java, maven, intellij-idea]</td>\n",
       "    </tr>\n",
       "    <tr>\n",
       "      <th>199999</th>\n",
       "      <td>58720404</td>\n",
       "      <td>2019-11-05 22:26:00</td>\n",
       "      <td>0</td>\n",
       "      <td>599</td>\n",
       "      <td>1</td>\n",
       "      <td>0</td>\n",
       "      <td>1</td>\n",
       "      <td>sys.aud$ got dropped how to rebuild it</td>\n",
       "      <td>&lt;p&gt;I had enabled auditing with oracle 12.2C an...</td>\n",
       "      <td>[sql, oracle]</td>\n",
       "    </tr>\n",
       "  </tbody>\n",
       "</table>\n",
       "<p>200000 rows × 10 columns</p>\n",
       "</div>"
      ],
      "text/plain": [
       "              Id         CreationDate  Score  ViewCount  AnswerCount  \\\n",
       "0       61339968  2020-04-21 09:16:35    147     387745           12   \n",
       "1       61205390  2020-04-14 10:19:16     78     323357           12   \n",
       "2       59823283  2020-01-20 12:26:53    114     266124           15   \n",
       "3       60296873  2020-02-19 09:24:42    109     253667           32   \n",
       "4       60290309  2020-02-18 22:24:39    176     247270           30   \n",
       "...          ...                  ...    ...        ...          ...   \n",
       "199995  57402803  2019-08-07 22:01:57      0        599            1   \n",
       "199996  56952330  2019-07-09 12:11:49      5        599            2   \n",
       "199997  59194296  2019-12-05 11:36:52      0        599            3   \n",
       "199998  56847354  2019-07-02 07:26:35      2        599            1   \n",
       "199999  58720404  2019-11-05 22:26:00      0        599            1   \n",
       "\n",
       "        CommentCount  FavoriteCount  \\\n",
       "0                  5             29   \n",
       "1                  8             13   \n",
       "2                  0             47   \n",
       "3                  7             29   \n",
       "4                  3             18   \n",
       "...              ...            ...   \n",
       "199995             0              1   \n",
       "199996             1              1   \n",
       "199997             7              1   \n",
       "199998             0              1   \n",
       "199999             0              1   \n",
       "\n",
       "                                                    Title  \\\n",
       "0       Error message \"DevTools failed to load SourceM...   \n",
       "1       When adding a JavaScript library, Chrome compl...   \n",
       "2       Could not load dynamic library 'cudart64_101.d...   \n",
       "3       SessionNotCreatedException: Message: session n...   \n",
       "4       error NG6002: Appears in the NgModule.imports ...   \n",
       "...                                                   ...   \n",
       "199995  Outlook office-js how to forward selected emai...   \n",
       "199996                     Loop through an array in vlang   \n",
       "199997  How to hide Navbar in Login Component with Rea...   \n",
       "199998  Unsupported Gauge Version: This veuge Inrsion ...   \n",
       "199999             sys.aud$ got dropped how to rebuild it   \n",
       "\n",
       "                                                     Body  \\\n",
       "0       <p>I'm trying to display an image selected fro...   \n",
       "1       <h3>My code</h3>\\n<pre class=\"lang-html pretty...   \n",
       "2       <p>I just installed the latest version of Tens...   \n",
       "3       <p>I am currently new to robot framework.I am ...   \n",
       "4       <p>First time using firestore and I'm getting ...   \n",
       "...                                                   ...   \n",
       "199995  <p>I am new to outlook office-js, and I am try...   \n",
       "199996  <p>How can I loop over an array of strings on ...   \n",
       "199997  <p>Recently I started learning React and my pr...   \n",
       "199998  <p>//unexpected gauge plugin error comes    </...   \n",
       "199999  <p>I had enabled auditing with oracle 12.2C an...   \n",
       "\n",
       "                                                     Tags  \n",
       "0                                      [javascript, html]  \n",
       "1                                                      []  \n",
       "2       [python, python-3.x, tensorflow, keras, tensor...  \n",
       "3       [selenium, google-chrome, selenium-webdriver, ...  \n",
       "4                       [angular, google-cloud-firestore]  \n",
       "...                                                   ...  \n",
       "199995                                                 []  \n",
       "199996                                            [loops]  \n",
       "199997                                          [reactjs]  \n",
       "199998                       [java, maven, intellij-idea]  \n",
       "199999                                      [sql, oracle]  \n",
       "\n",
       "[200000 rows x 10 columns]"
      ]
     },
     "execution_count": 15,
     "metadata": {},
     "output_type": "execute_result"
    }
   ],
   "source": [
    "db['Tags'] = db['Tags'].apply(lambda x: most_common_selector(tags_top_500,x))\n",
    "db"
   ]
  },
  {
   "cell_type": "markdown",
   "metadata": {
    "id": "Xpgp1k0Q4o3W"
   },
   "source": [
    "Now, we would like to keep only the rows where the most common 200 tags are present"
   ]
  },
  {
   "cell_type": "code",
   "execution_count": 16,
   "metadata": {
    "id": "b90RXR7P4o3W"
   },
   "outputs": [],
   "source": [
    "index_to_drop = []\n",
    "for index, value in enumerate(db['Tags']):\n",
    "    if len(value)==0:\n",
    "        index_to_drop.append(index)       "
   ]
  },
  {
   "cell_type": "code",
   "execution_count": 17,
   "metadata": {
    "colab": {
     "base_uri": "https://localhost:8080/"
    },
    "executionInfo": {
     "elapsed": 8,
     "status": "ok",
     "timestamp": 1637245590856,
     "user": {
      "displayName": "Alexandre Taillard de Vorms",
      "photoUrl": "https://lh3.googleusercontent.com/a/default-user=s64",
      "userId": "17158358651987272696"
     },
     "user_tz": -60
    },
    "id": "i4_fmlAh4o3W",
    "outputId": "6bc5cb99-e82b-4e6f-d30d-3642bde1799c"
   },
   "outputs": [
    {
     "data": {
      "text/plain": [
       "9142"
      ]
     },
     "execution_count": 17,
     "metadata": {},
     "output_type": "execute_result"
    }
   ],
   "source": [
    "len(index_to_drop)"
   ]
  },
  {
   "cell_type": "code",
   "execution_count": 18,
   "metadata": {
    "id": "s58hNUEU4o3W"
   },
   "outputs": [],
   "source": [
    "db.drop(index_to_drop, inplace=True)\n",
    "db.reset_index(drop=True, inplace=True)"
   ]
  },
  {
   "cell_type": "code",
   "execution_count": 19,
   "metadata": {
    "colab": {
     "base_uri": "https://localhost:8080/"
    },
    "executionInfo": {
     "elapsed": 9,
     "status": "ok",
     "timestamp": 1637245590857,
     "user": {
      "displayName": "Alexandre Taillard de Vorms",
      "photoUrl": "https://lh3.googleusercontent.com/a/default-user=s64",
      "userId": "17158358651987272696"
     },
     "user_tz": -60
    },
    "id": "3ND6y11b4o3X",
    "outputId": "59f5d8e8-e48c-47fe-a8cb-61448ac4e79b"
   },
   "outputs": [
    {
     "data": {
      "text/html": [
       "<div>\n",
       "<style scoped>\n",
       "    .dataframe tbody tr th:only-of-type {\n",
       "        vertical-align: middle;\n",
       "    }\n",
       "\n",
       "    .dataframe tbody tr th {\n",
       "        vertical-align: top;\n",
       "    }\n",
       "\n",
       "    .dataframe thead th {\n",
       "        text-align: right;\n",
       "    }\n",
       "</style>\n",
       "<table border=\"1\" class=\"dataframe\">\n",
       "  <thead>\n",
       "    <tr style=\"text-align: right;\">\n",
       "      <th></th>\n",
       "      <th>Id</th>\n",
       "      <th>CreationDate</th>\n",
       "      <th>Score</th>\n",
       "      <th>ViewCount</th>\n",
       "      <th>AnswerCount</th>\n",
       "      <th>CommentCount</th>\n",
       "      <th>FavoriteCount</th>\n",
       "      <th>Title</th>\n",
       "      <th>Body</th>\n",
       "      <th>Tags</th>\n",
       "    </tr>\n",
       "  </thead>\n",
       "  <tbody>\n",
       "    <tr>\n",
       "      <th>0</th>\n",
       "      <td>61339968</td>\n",
       "      <td>2020-04-21 09:16:35</td>\n",
       "      <td>147</td>\n",
       "      <td>387745</td>\n",
       "      <td>12</td>\n",
       "      <td>5</td>\n",
       "      <td>29</td>\n",
       "      <td>Error message \"DevTools failed to load SourceM...</td>\n",
       "      <td>&lt;p&gt;I'm trying to display an image selected fro...</td>\n",
       "      <td>[javascript, html]</td>\n",
       "    </tr>\n",
       "    <tr>\n",
       "      <th>1</th>\n",
       "      <td>59823283</td>\n",
       "      <td>2020-01-20 12:26:53</td>\n",
       "      <td>114</td>\n",
       "      <td>266124</td>\n",
       "      <td>15</td>\n",
       "      <td>0</td>\n",
       "      <td>47</td>\n",
       "      <td>Could not load dynamic library 'cudart64_101.d...</td>\n",
       "      <td>&lt;p&gt;I just installed the latest version of Tens...</td>\n",
       "      <td>[python, python-3.x, tensorflow, keras, tensor...</td>\n",
       "    </tr>\n",
       "    <tr>\n",
       "      <th>2</th>\n",
       "      <td>60296873</td>\n",
       "      <td>2020-02-19 09:24:42</td>\n",
       "      <td>109</td>\n",
       "      <td>253667</td>\n",
       "      <td>32</td>\n",
       "      <td>7</td>\n",
       "      <td>29</td>\n",
       "      <td>SessionNotCreatedException: Message: session n...</td>\n",
       "      <td>&lt;p&gt;I am currently new to robot framework.I am ...</td>\n",
       "      <td>[selenium, google-chrome, selenium-webdriver, ...</td>\n",
       "    </tr>\n",
       "    <tr>\n",
       "      <th>3</th>\n",
       "      <td>60290309</td>\n",
       "      <td>2020-02-18 22:24:39</td>\n",
       "      <td>176</td>\n",
       "      <td>247270</td>\n",
       "      <td>30</td>\n",
       "      <td>3</td>\n",
       "      <td>18</td>\n",
       "      <td>error NG6002: Appears in the NgModule.imports ...</td>\n",
       "      <td>&lt;p&gt;First time using firestore and I'm getting ...</td>\n",
       "      <td>[angular, google-cloud-firestore]</td>\n",
       "    </tr>\n",
       "    <tr>\n",
       "      <th>4</th>\n",
       "      <td>59601077</td>\n",
       "      <td>2020-01-05 14:54:15</td>\n",
       "      <td>189</td>\n",
       "      <td>244810</td>\n",
       "      <td>20</td>\n",
       "      <td>2</td>\n",
       "      <td>34</td>\n",
       "      <td>IntelliJ: Error:java: error: release version 5...</td>\n",
       "      <td>&lt;p&gt;I'm using &lt;strong&gt;IntelliJ IDEA Ultimate 20...</td>\n",
       "      <td>[java, intellij-idea]</td>\n",
       "    </tr>\n",
       "    <tr>\n",
       "      <th>...</th>\n",
       "      <td>...</td>\n",
       "      <td>...</td>\n",
       "      <td>...</td>\n",
       "      <td>...</td>\n",
       "      <td>...</td>\n",
       "      <td>...</td>\n",
       "      <td>...</td>\n",
       "      <td>...</td>\n",
       "      <td>...</td>\n",
       "      <td>...</td>\n",
       "    </tr>\n",
       "    <tr>\n",
       "      <th>190853</th>\n",
       "      <td>57799149</td>\n",
       "      <td>2019-09-05 05:52:02</td>\n",
       "      <td>2</td>\n",
       "      <td>599</td>\n",
       "      <td>0</td>\n",
       "      <td>1</td>\n",
       "      <td>2</td>\n",
       "      <td>What are the reasons for XMLHTTPRequest Networ...</td>\n",
       "      <td>&lt;p&gt;I have a React frontend that's hooked up to...</td>\n",
       "      <td>[javascript]</td>\n",
       "    </tr>\n",
       "    <tr>\n",
       "      <th>190854</th>\n",
       "      <td>56952330</td>\n",
       "      <td>2019-07-09 12:11:49</td>\n",
       "      <td>5</td>\n",
       "      <td>599</td>\n",
       "      <td>2</td>\n",
       "      <td>1</td>\n",
       "      <td>1</td>\n",
       "      <td>Loop through an array in vlang</td>\n",
       "      <td>&lt;p&gt;How can I loop over an array of strings on ...</td>\n",
       "      <td>[loops]</td>\n",
       "    </tr>\n",
       "    <tr>\n",
       "      <th>190855</th>\n",
       "      <td>59194296</td>\n",
       "      <td>2019-12-05 11:36:52</td>\n",
       "      <td>0</td>\n",
       "      <td>599</td>\n",
       "      <td>3</td>\n",
       "      <td>7</td>\n",
       "      <td>1</td>\n",
       "      <td>How to hide Navbar in Login Component with Rea...</td>\n",
       "      <td>&lt;p&gt;Recently I started learning React and my pr...</td>\n",
       "      <td>[reactjs]</td>\n",
       "    </tr>\n",
       "    <tr>\n",
       "      <th>190856</th>\n",
       "      <td>56847354</td>\n",
       "      <td>2019-07-02 07:26:35</td>\n",
       "      <td>2</td>\n",
       "      <td>599</td>\n",
       "      <td>1</td>\n",
       "      <td>0</td>\n",
       "      <td>1</td>\n",
       "      <td>Unsupported Gauge Version: This veuge Inrsion ...</td>\n",
       "      <td>&lt;p&gt;//unexpected gauge plugin error comes    &lt;/...</td>\n",
       "      <td>[java, maven, intellij-idea]</td>\n",
       "    </tr>\n",
       "    <tr>\n",
       "      <th>190857</th>\n",
       "      <td>58720404</td>\n",
       "      <td>2019-11-05 22:26:00</td>\n",
       "      <td>0</td>\n",
       "      <td>599</td>\n",
       "      <td>1</td>\n",
       "      <td>0</td>\n",
       "      <td>1</td>\n",
       "      <td>sys.aud$ got dropped how to rebuild it</td>\n",
       "      <td>&lt;p&gt;I had enabled auditing with oracle 12.2C an...</td>\n",
       "      <td>[sql, oracle]</td>\n",
       "    </tr>\n",
       "  </tbody>\n",
       "</table>\n",
       "<p>190858 rows × 10 columns</p>\n",
       "</div>"
      ],
      "text/plain": [
       "              Id         CreationDate  Score  ViewCount  AnswerCount  \\\n",
       "0       61339968  2020-04-21 09:16:35    147     387745           12   \n",
       "1       59823283  2020-01-20 12:26:53    114     266124           15   \n",
       "2       60296873  2020-02-19 09:24:42    109     253667           32   \n",
       "3       60290309  2020-02-18 22:24:39    176     247270           30   \n",
       "4       59601077  2020-01-05 14:54:15    189     244810           20   \n",
       "...          ...                  ...    ...        ...          ...   \n",
       "190853  57799149  2019-09-05 05:52:02      2        599            0   \n",
       "190854  56952330  2019-07-09 12:11:49      5        599            2   \n",
       "190855  59194296  2019-12-05 11:36:52      0        599            3   \n",
       "190856  56847354  2019-07-02 07:26:35      2        599            1   \n",
       "190857  58720404  2019-11-05 22:26:00      0        599            1   \n",
       "\n",
       "        CommentCount  FavoriteCount  \\\n",
       "0                  5             29   \n",
       "1                  0             47   \n",
       "2                  7             29   \n",
       "3                  3             18   \n",
       "4                  2             34   \n",
       "...              ...            ...   \n",
       "190853             1              2   \n",
       "190854             1              1   \n",
       "190855             7              1   \n",
       "190856             0              1   \n",
       "190857             0              1   \n",
       "\n",
       "                                                    Title  \\\n",
       "0       Error message \"DevTools failed to load SourceM...   \n",
       "1       Could not load dynamic library 'cudart64_101.d...   \n",
       "2       SessionNotCreatedException: Message: session n...   \n",
       "3       error NG6002: Appears in the NgModule.imports ...   \n",
       "4       IntelliJ: Error:java: error: release version 5...   \n",
       "...                                                   ...   \n",
       "190853  What are the reasons for XMLHTTPRequest Networ...   \n",
       "190854                     Loop through an array in vlang   \n",
       "190855  How to hide Navbar in Login Component with Rea...   \n",
       "190856  Unsupported Gauge Version: This veuge Inrsion ...   \n",
       "190857             sys.aud$ got dropped how to rebuild it   \n",
       "\n",
       "                                                     Body  \\\n",
       "0       <p>I'm trying to display an image selected fro...   \n",
       "1       <p>I just installed the latest version of Tens...   \n",
       "2       <p>I am currently new to robot framework.I am ...   \n",
       "3       <p>First time using firestore and I'm getting ...   \n",
       "4       <p>I'm using <strong>IntelliJ IDEA Ultimate 20...   \n",
       "...                                                   ...   \n",
       "190853  <p>I have a React frontend that's hooked up to...   \n",
       "190854  <p>How can I loop over an array of strings on ...   \n",
       "190855  <p>Recently I started learning React and my pr...   \n",
       "190856  <p>//unexpected gauge plugin error comes    </...   \n",
       "190857  <p>I had enabled auditing with oracle 12.2C an...   \n",
       "\n",
       "                                                     Tags  \n",
       "0                                      [javascript, html]  \n",
       "1       [python, python-3.x, tensorflow, keras, tensor...  \n",
       "2       [selenium, google-chrome, selenium-webdriver, ...  \n",
       "3                       [angular, google-cloud-firestore]  \n",
       "4                                   [java, intellij-idea]  \n",
       "...                                                   ...  \n",
       "190853                                       [javascript]  \n",
       "190854                                            [loops]  \n",
       "190855                                          [reactjs]  \n",
       "190856                       [java, maven, intellij-idea]  \n",
       "190857                                      [sql, oracle]  \n",
       "\n",
       "[190858 rows x 10 columns]"
      ]
     },
     "execution_count": 19,
     "metadata": {},
     "output_type": "execute_result"
    }
   ],
   "source": [
    "db"
   ]
  },
  {
   "cell_type": "markdown",
   "metadata": {
    "id": "LoQxA7O3FZlV"
   },
   "source": []
  },
  {
   "cell_type": "markdown",
   "metadata": {
    "id": "vg9Sm6QT4o3X"
   },
   "source": [
    "## Preprocessing de la colonne Title"
   ]
  },
  {
   "cell_type": "markdown",
   "metadata": {
    "id": "BbZW6KUb4o3X"
   },
   "source": [
    "<h4> Tokenisation\n",
    "         <a name=\"Tokens\">"
   ]
  },
  {
   "cell_type": "code",
   "execution_count": 20,
   "metadata": {
    "colab": {
     "base_uri": "https://localhost:8080/"
    },
    "executionInfo": {
     "elapsed": 358,
     "status": "ok",
     "timestamp": 1637245591207,
     "user": {
      "displayName": "Alexandre Taillard de Vorms",
      "photoUrl": "https://lh3.googleusercontent.com/a/default-user=s64",
      "userId": "17158358651987272696"
     },
     "user_tz": -60
    },
    "id": "ZLwBissw4o3X",
    "outputId": "eb21116c-7fa2-40c5-9b33-4ef0e44b5cfc"
   },
   "outputs": [
    {
     "name": "stderr",
     "output_type": "stream",
     "text": [
      "[nltk_data] Downloading package stopwords to /home/efkant/nltk_data...\n",
      "[nltk_data]   Package stopwords is already up-to-date!\n"
     ]
    }
   ],
   "source": [
    "from nltk.corpus import stopwords\n",
    "import nltk\n",
    "nltk.download('stopwords')\n",
    "import tensorflow as tf"
   ]
  },
  {
   "cell_type": "code",
   "execution_count": 21,
   "metadata": {
    "id": "TMF6QtSF4o3X"
   },
   "outputs": [],
   "source": [
    "stop_words = set(stopwords.words('english'))"
   ]
  },
  {
   "cell_type": "code",
   "execution_count": 22,
   "metadata": {
    "id": "KkGeo2Np4o3X"
   },
   "outputs": [],
   "source": [
    "regularizer = lambda x : re.sub(\"[^a-zA-Z]\",           # The pattern to search for\n",
    "                      \" \",                   # The pattern to replace it with\n",
    "                      x)"
   ]
  },
  {
   "cell_type": "code",
   "execution_count": 23,
   "metadata": {
    "id": "bo0PNj4q4o3X"
   },
   "outputs": [],
   "source": [
    "db['Title'] = db['Title'].apply(lambda x: regularizer(x))"
   ]
  },
  {
   "cell_type": "code",
   "execution_count": 24,
   "metadata": {
    "colab": {
     "base_uri": "https://localhost:8080/"
    },
    "executionInfo": {
     "elapsed": 14,
     "status": "ok",
     "timestamp": 1637245591209,
     "user": {
      "displayName": "Alexandre Taillard de Vorms",
      "photoUrl": "https://lh3.googleusercontent.com/a/default-user=s64",
      "userId": "17158358651987272696"
     },
     "user_tz": -60
    },
    "id": "T9kweMkU4o3X",
    "outputId": "14f8ba9f-c787-4ae5-ce67-ad1d05ea8355"
   },
   "outputs": [
    {
     "data": {
      "text/html": [
       "<div>\n",
       "<style scoped>\n",
       "    .dataframe tbody tr th:only-of-type {\n",
       "        vertical-align: middle;\n",
       "    }\n",
       "\n",
       "    .dataframe tbody tr th {\n",
       "        vertical-align: top;\n",
       "    }\n",
       "\n",
       "    .dataframe thead th {\n",
       "        text-align: right;\n",
       "    }\n",
       "</style>\n",
       "<table border=\"1\" class=\"dataframe\">\n",
       "  <thead>\n",
       "    <tr style=\"text-align: right;\">\n",
       "      <th></th>\n",
       "      <th>Id</th>\n",
       "      <th>CreationDate</th>\n",
       "      <th>Score</th>\n",
       "      <th>ViewCount</th>\n",
       "      <th>AnswerCount</th>\n",
       "      <th>CommentCount</th>\n",
       "      <th>FavoriteCount</th>\n",
       "      <th>Title</th>\n",
       "      <th>Body</th>\n",
       "      <th>Tags</th>\n",
       "    </tr>\n",
       "  </thead>\n",
       "  <tbody>\n",
       "    <tr>\n",
       "      <th>0</th>\n",
       "      <td>61339968</td>\n",
       "      <td>2020-04-21 09:16:35</td>\n",
       "      <td>147</td>\n",
       "      <td>387745</td>\n",
       "      <td>12</td>\n",
       "      <td>5</td>\n",
       "      <td>29</td>\n",
       "      <td>Error message  DevTools failed to load SourceM...</td>\n",
       "      <td>&lt;p&gt;I'm trying to display an image selected fro...</td>\n",
       "      <td>[javascript, html]</td>\n",
       "    </tr>\n",
       "    <tr>\n",
       "      <th>1</th>\n",
       "      <td>59823283</td>\n",
       "      <td>2020-01-20 12:26:53</td>\n",
       "      <td>114</td>\n",
       "      <td>266124</td>\n",
       "      <td>15</td>\n",
       "      <td>0</td>\n",
       "      <td>47</td>\n",
       "      <td>Could not load dynamic library  cudart       d...</td>\n",
       "      <td>&lt;p&gt;I just installed the latest version of Tens...</td>\n",
       "      <td>[python, python-3.x, tensorflow, keras, tensor...</td>\n",
       "    </tr>\n",
       "    <tr>\n",
       "      <th>2</th>\n",
       "      <td>60296873</td>\n",
       "      <td>2020-02-19 09:24:42</td>\n",
       "      <td>109</td>\n",
       "      <td>253667</td>\n",
       "      <td>32</td>\n",
       "      <td>7</td>\n",
       "      <td>29</td>\n",
       "      <td>SessionNotCreatedException  Message  session n...</td>\n",
       "      <td>&lt;p&gt;I am currently new to robot framework.I am ...</td>\n",
       "      <td>[selenium, google-chrome, selenium-webdriver, ...</td>\n",
       "    </tr>\n",
       "    <tr>\n",
       "      <th>3</th>\n",
       "      <td>60290309</td>\n",
       "      <td>2020-02-18 22:24:39</td>\n",
       "      <td>176</td>\n",
       "      <td>247270</td>\n",
       "      <td>30</td>\n",
       "      <td>3</td>\n",
       "      <td>18</td>\n",
       "      <td>error NG      Appears in the NgModule imports ...</td>\n",
       "      <td>&lt;p&gt;First time using firestore and I'm getting ...</td>\n",
       "      <td>[angular, google-cloud-firestore]</td>\n",
       "    </tr>\n",
       "    <tr>\n",
       "      <th>4</th>\n",
       "      <td>59601077</td>\n",
       "      <td>2020-01-05 14:54:15</td>\n",
       "      <td>189</td>\n",
       "      <td>244810</td>\n",
       "      <td>20</td>\n",
       "      <td>2</td>\n",
       "      <td>34</td>\n",
       "      <td>IntelliJ  Error java  error  release version  ...</td>\n",
       "      <td>&lt;p&gt;I'm using &lt;strong&gt;IntelliJ IDEA Ultimate 20...</td>\n",
       "      <td>[java, intellij-idea]</td>\n",
       "    </tr>\n",
       "    <tr>\n",
       "      <th>...</th>\n",
       "      <td>...</td>\n",
       "      <td>...</td>\n",
       "      <td>...</td>\n",
       "      <td>...</td>\n",
       "      <td>...</td>\n",
       "      <td>...</td>\n",
       "      <td>...</td>\n",
       "      <td>...</td>\n",
       "      <td>...</td>\n",
       "      <td>...</td>\n",
       "    </tr>\n",
       "    <tr>\n",
       "      <th>190853</th>\n",
       "      <td>57799149</td>\n",
       "      <td>2019-09-05 05:52:02</td>\n",
       "      <td>2</td>\n",
       "      <td>599</td>\n",
       "      <td>0</td>\n",
       "      <td>1</td>\n",
       "      <td>2</td>\n",
       "      <td>What are the reasons for XMLHTTPRequest Networ...</td>\n",
       "      <td>&lt;p&gt;I have a React frontend that's hooked up to...</td>\n",
       "      <td>[javascript]</td>\n",
       "    </tr>\n",
       "    <tr>\n",
       "      <th>190854</th>\n",
       "      <td>56952330</td>\n",
       "      <td>2019-07-09 12:11:49</td>\n",
       "      <td>5</td>\n",
       "      <td>599</td>\n",
       "      <td>2</td>\n",
       "      <td>1</td>\n",
       "      <td>1</td>\n",
       "      <td>Loop through an array in vlang</td>\n",
       "      <td>&lt;p&gt;How can I loop over an array of strings on ...</td>\n",
       "      <td>[loops]</td>\n",
       "    </tr>\n",
       "    <tr>\n",
       "      <th>190855</th>\n",
       "      <td>59194296</td>\n",
       "      <td>2019-12-05 11:36:52</td>\n",
       "      <td>0</td>\n",
       "      <td>599</td>\n",
       "      <td>3</td>\n",
       "      <td>7</td>\n",
       "      <td>1</td>\n",
       "      <td>How to hide Navbar in Login Component with Rea...</td>\n",
       "      <td>&lt;p&gt;Recently I started learning React and my pr...</td>\n",
       "      <td>[reactjs]</td>\n",
       "    </tr>\n",
       "    <tr>\n",
       "      <th>190856</th>\n",
       "      <td>56847354</td>\n",
       "      <td>2019-07-02 07:26:35</td>\n",
       "      <td>2</td>\n",
       "      <td>599</td>\n",
       "      <td>1</td>\n",
       "      <td>0</td>\n",
       "      <td>1</td>\n",
       "      <td>Unsupported Gauge Version  This veuge Inrsion ...</td>\n",
       "      <td>&lt;p&gt;//unexpected gauge plugin error comes    &lt;/...</td>\n",
       "      <td>[java, maven, intellij-idea]</td>\n",
       "    </tr>\n",
       "    <tr>\n",
       "      <th>190857</th>\n",
       "      <td>58720404</td>\n",
       "      <td>2019-11-05 22:26:00</td>\n",
       "      <td>0</td>\n",
       "      <td>599</td>\n",
       "      <td>1</td>\n",
       "      <td>0</td>\n",
       "      <td>1</td>\n",
       "      <td>sys aud  got dropped how to rebuild it</td>\n",
       "      <td>&lt;p&gt;I had enabled auditing with oracle 12.2C an...</td>\n",
       "      <td>[sql, oracle]</td>\n",
       "    </tr>\n",
       "  </tbody>\n",
       "</table>\n",
       "<p>190858 rows × 10 columns</p>\n",
       "</div>"
      ],
      "text/plain": [
       "              Id         CreationDate  Score  ViewCount  AnswerCount  \\\n",
       "0       61339968  2020-04-21 09:16:35    147     387745           12   \n",
       "1       59823283  2020-01-20 12:26:53    114     266124           15   \n",
       "2       60296873  2020-02-19 09:24:42    109     253667           32   \n",
       "3       60290309  2020-02-18 22:24:39    176     247270           30   \n",
       "4       59601077  2020-01-05 14:54:15    189     244810           20   \n",
       "...          ...                  ...    ...        ...          ...   \n",
       "190853  57799149  2019-09-05 05:52:02      2        599            0   \n",
       "190854  56952330  2019-07-09 12:11:49      5        599            2   \n",
       "190855  59194296  2019-12-05 11:36:52      0        599            3   \n",
       "190856  56847354  2019-07-02 07:26:35      2        599            1   \n",
       "190857  58720404  2019-11-05 22:26:00      0        599            1   \n",
       "\n",
       "        CommentCount  FavoriteCount  \\\n",
       "0                  5             29   \n",
       "1                  0             47   \n",
       "2                  7             29   \n",
       "3                  3             18   \n",
       "4                  2             34   \n",
       "...              ...            ...   \n",
       "190853             1              2   \n",
       "190854             1              1   \n",
       "190855             7              1   \n",
       "190856             0              1   \n",
       "190857             0              1   \n",
       "\n",
       "                                                    Title  \\\n",
       "0       Error message  DevTools failed to load SourceM...   \n",
       "1       Could not load dynamic library  cudart       d...   \n",
       "2       SessionNotCreatedException  Message  session n...   \n",
       "3       error NG      Appears in the NgModule imports ...   \n",
       "4       IntelliJ  Error java  error  release version  ...   \n",
       "...                                                   ...   \n",
       "190853  What are the reasons for XMLHTTPRequest Networ...   \n",
       "190854                     Loop through an array in vlang   \n",
       "190855  How to hide Navbar in Login Component with Rea...   \n",
       "190856  Unsupported Gauge Version  This veuge Inrsion ...   \n",
       "190857             sys aud  got dropped how to rebuild it   \n",
       "\n",
       "                                                     Body  \\\n",
       "0       <p>I'm trying to display an image selected fro...   \n",
       "1       <p>I just installed the latest version of Tens...   \n",
       "2       <p>I am currently new to robot framework.I am ...   \n",
       "3       <p>First time using firestore and I'm getting ...   \n",
       "4       <p>I'm using <strong>IntelliJ IDEA Ultimate 20...   \n",
       "...                                                   ...   \n",
       "190853  <p>I have a React frontend that's hooked up to...   \n",
       "190854  <p>How can I loop over an array of strings on ...   \n",
       "190855  <p>Recently I started learning React and my pr...   \n",
       "190856  <p>//unexpected gauge plugin error comes    </...   \n",
       "190857  <p>I had enabled auditing with oracle 12.2C an...   \n",
       "\n",
       "                                                     Tags  \n",
       "0                                      [javascript, html]  \n",
       "1       [python, python-3.x, tensorflow, keras, tensor...  \n",
       "2       [selenium, google-chrome, selenium-webdriver, ...  \n",
       "3                       [angular, google-cloud-firestore]  \n",
       "4                                   [java, intellij-idea]  \n",
       "...                                                   ...  \n",
       "190853                                       [javascript]  \n",
       "190854                                            [loops]  \n",
       "190855                                          [reactjs]  \n",
       "190856                       [java, maven, intellij-idea]  \n",
       "190857                                      [sql, oracle]  \n",
       "\n",
       "[190858 rows x 10 columns]"
      ]
     },
     "execution_count": 24,
     "metadata": {},
     "output_type": "execute_result"
    }
   ],
   "source": [
    "db"
   ]
  },
  {
   "cell_type": "code",
   "execution_count": 25,
   "metadata": {
    "id": "9veFi6J64o3X"
   },
   "outputs": [],
   "source": [
    "# This tokenizer, makes tokens, put tokens in lower case and remove punctuations\n",
    "db['Title'] = db['Title'].apply(lambda x: tokenizer(x))"
   ]
  },
  {
   "cell_type": "code",
   "execution_count": 26,
   "metadata": {
    "colab": {
     "base_uri": "https://localhost:8080/"
    },
    "executionInfo": {
     "elapsed": 14,
     "status": "ok",
     "timestamp": 1637245591448,
     "user": {
      "displayName": "Alexandre Taillard de Vorms",
      "photoUrl": "https://lh3.googleusercontent.com/a/default-user=s64",
      "userId": "17158358651987272696"
     },
     "user_tz": -60
    },
    "id": "x4A594f44o3Y",
    "outputId": "b13deead-6945-40d0-dd90-192198a7d386"
   },
   "outputs": [
    {
     "data": {
      "text/html": [
       "<div>\n",
       "<style scoped>\n",
       "    .dataframe tbody tr th:only-of-type {\n",
       "        vertical-align: middle;\n",
       "    }\n",
       "\n",
       "    .dataframe tbody tr th {\n",
       "        vertical-align: top;\n",
       "    }\n",
       "\n",
       "    .dataframe thead th {\n",
       "        text-align: right;\n",
       "    }\n",
       "</style>\n",
       "<table border=\"1\" class=\"dataframe\">\n",
       "  <thead>\n",
       "    <tr style=\"text-align: right;\">\n",
       "      <th></th>\n",
       "      <th>Id</th>\n",
       "      <th>CreationDate</th>\n",
       "      <th>Score</th>\n",
       "      <th>ViewCount</th>\n",
       "      <th>AnswerCount</th>\n",
       "      <th>CommentCount</th>\n",
       "      <th>FavoriteCount</th>\n",
       "      <th>Title</th>\n",
       "      <th>Body</th>\n",
       "      <th>Tags</th>\n",
       "    </tr>\n",
       "  </thead>\n",
       "  <tbody>\n",
       "    <tr>\n",
       "      <th>0</th>\n",
       "      <td>61339968</td>\n",
       "      <td>2020-04-21 09:16:35</td>\n",
       "      <td>147</td>\n",
       "      <td>387745</td>\n",
       "      <td>12</td>\n",
       "      <td>5</td>\n",
       "      <td>29</td>\n",
       "      <td>[error, message, devtools, failed, to, load, s...</td>\n",
       "      <td>&lt;p&gt;I'm trying to display an image selected fro...</td>\n",
       "      <td>[javascript, html]</td>\n",
       "    </tr>\n",
       "    <tr>\n",
       "      <th>1</th>\n",
       "      <td>59823283</td>\n",
       "      <td>2020-01-20 12:26:53</td>\n",
       "      <td>114</td>\n",
       "      <td>266124</td>\n",
       "      <td>15</td>\n",
       "      <td>0</td>\n",
       "      <td>47</td>\n",
       "      <td>[could, not, load, dynamic, library, cudart, d...</td>\n",
       "      <td>&lt;p&gt;I just installed the latest version of Tens...</td>\n",
       "      <td>[python, python-3.x, tensorflow, keras, tensor...</td>\n",
       "    </tr>\n",
       "    <tr>\n",
       "      <th>2</th>\n",
       "      <td>60296873</td>\n",
       "      <td>2020-02-19 09:24:42</td>\n",
       "      <td>109</td>\n",
       "      <td>253667</td>\n",
       "      <td>32</td>\n",
       "      <td>7</td>\n",
       "      <td>29</td>\n",
       "      <td>[sessionnotcreatedexception, message, session,...</td>\n",
       "      <td>&lt;p&gt;I am currently new to robot framework.I am ...</td>\n",
       "      <td>[selenium, google-chrome, selenium-webdriver, ...</td>\n",
       "    </tr>\n",
       "    <tr>\n",
       "      <th>3</th>\n",
       "      <td>60290309</td>\n",
       "      <td>2020-02-18 22:24:39</td>\n",
       "      <td>176</td>\n",
       "      <td>247270</td>\n",
       "      <td>30</td>\n",
       "      <td>3</td>\n",
       "      <td>18</td>\n",
       "      <td>[error, ng, appears, in, the, ngmodule, import...</td>\n",
       "      <td>&lt;p&gt;First time using firestore and I'm getting ...</td>\n",
       "      <td>[angular, google-cloud-firestore]</td>\n",
       "    </tr>\n",
       "    <tr>\n",
       "      <th>4</th>\n",
       "      <td>59601077</td>\n",
       "      <td>2020-01-05 14:54:15</td>\n",
       "      <td>189</td>\n",
       "      <td>244810</td>\n",
       "      <td>20</td>\n",
       "      <td>2</td>\n",
       "      <td>34</td>\n",
       "      <td>[intellij, error, java, error, release, versio...</td>\n",
       "      <td>&lt;p&gt;I'm using &lt;strong&gt;IntelliJ IDEA Ultimate 20...</td>\n",
       "      <td>[java, intellij-idea]</td>\n",
       "    </tr>\n",
       "    <tr>\n",
       "      <th>...</th>\n",
       "      <td>...</td>\n",
       "      <td>...</td>\n",
       "      <td>...</td>\n",
       "      <td>...</td>\n",
       "      <td>...</td>\n",
       "      <td>...</td>\n",
       "      <td>...</td>\n",
       "      <td>...</td>\n",
       "      <td>...</td>\n",
       "      <td>...</td>\n",
       "    </tr>\n",
       "    <tr>\n",
       "      <th>190853</th>\n",
       "      <td>57799149</td>\n",
       "      <td>2019-09-05 05:52:02</td>\n",
       "      <td>2</td>\n",
       "      <td>599</td>\n",
       "      <td>0</td>\n",
       "      <td>1</td>\n",
       "      <td>2</td>\n",
       "      <td>[what, are, the, reasons, for, xmlhttprequest,...</td>\n",
       "      <td>&lt;p&gt;I have a React frontend that's hooked up to...</td>\n",
       "      <td>[javascript]</td>\n",
       "    </tr>\n",
       "    <tr>\n",
       "      <th>190854</th>\n",
       "      <td>56952330</td>\n",
       "      <td>2019-07-09 12:11:49</td>\n",
       "      <td>5</td>\n",
       "      <td>599</td>\n",
       "      <td>2</td>\n",
       "      <td>1</td>\n",
       "      <td>1</td>\n",
       "      <td>[loop, through, an, array, in, vlang]</td>\n",
       "      <td>&lt;p&gt;How can I loop over an array of strings on ...</td>\n",
       "      <td>[loops]</td>\n",
       "    </tr>\n",
       "    <tr>\n",
       "      <th>190855</th>\n",
       "      <td>59194296</td>\n",
       "      <td>2019-12-05 11:36:52</td>\n",
       "      <td>0</td>\n",
       "      <td>599</td>\n",
       "      <td>3</td>\n",
       "      <td>7</td>\n",
       "      <td>1</td>\n",
       "      <td>[how, to, hide, navbar, in, login, component, ...</td>\n",
       "      <td>&lt;p&gt;Recently I started learning React and my pr...</td>\n",
       "      <td>[reactjs]</td>\n",
       "    </tr>\n",
       "    <tr>\n",
       "      <th>190856</th>\n",
       "      <td>56847354</td>\n",
       "      <td>2019-07-02 07:26:35</td>\n",
       "      <td>2</td>\n",
       "      <td>599</td>\n",
       "      <td>1</td>\n",
       "      <td>0</td>\n",
       "      <td>1</td>\n",
       "      <td>[unsupported, gauge, version, this, veuge, inr...</td>\n",
       "      <td>&lt;p&gt;//unexpected gauge plugin error comes    &lt;/...</td>\n",
       "      <td>[java, maven, intellij-idea]</td>\n",
       "    </tr>\n",
       "    <tr>\n",
       "      <th>190857</th>\n",
       "      <td>58720404</td>\n",
       "      <td>2019-11-05 22:26:00</td>\n",
       "      <td>0</td>\n",
       "      <td>599</td>\n",
       "      <td>1</td>\n",
       "      <td>0</td>\n",
       "      <td>1</td>\n",
       "      <td>[sys, aud, got, dropped, how, to, rebuild, it]</td>\n",
       "      <td>&lt;p&gt;I had enabled auditing with oracle 12.2C an...</td>\n",
       "      <td>[sql, oracle]</td>\n",
       "    </tr>\n",
       "  </tbody>\n",
       "</table>\n",
       "<p>190858 rows × 10 columns</p>\n",
       "</div>"
      ],
      "text/plain": [
       "              Id         CreationDate  Score  ViewCount  AnswerCount  \\\n",
       "0       61339968  2020-04-21 09:16:35    147     387745           12   \n",
       "1       59823283  2020-01-20 12:26:53    114     266124           15   \n",
       "2       60296873  2020-02-19 09:24:42    109     253667           32   \n",
       "3       60290309  2020-02-18 22:24:39    176     247270           30   \n",
       "4       59601077  2020-01-05 14:54:15    189     244810           20   \n",
       "...          ...                  ...    ...        ...          ...   \n",
       "190853  57799149  2019-09-05 05:52:02      2        599            0   \n",
       "190854  56952330  2019-07-09 12:11:49      5        599            2   \n",
       "190855  59194296  2019-12-05 11:36:52      0        599            3   \n",
       "190856  56847354  2019-07-02 07:26:35      2        599            1   \n",
       "190857  58720404  2019-11-05 22:26:00      0        599            1   \n",
       "\n",
       "        CommentCount  FavoriteCount  \\\n",
       "0                  5             29   \n",
       "1                  0             47   \n",
       "2                  7             29   \n",
       "3                  3             18   \n",
       "4                  2             34   \n",
       "...              ...            ...   \n",
       "190853             1              2   \n",
       "190854             1              1   \n",
       "190855             7              1   \n",
       "190856             0              1   \n",
       "190857             0              1   \n",
       "\n",
       "                                                    Title  \\\n",
       "0       [error, message, devtools, failed, to, load, s...   \n",
       "1       [could, not, load, dynamic, library, cudart, d...   \n",
       "2       [sessionnotcreatedexception, message, session,...   \n",
       "3       [error, ng, appears, in, the, ngmodule, import...   \n",
       "4       [intellij, error, java, error, release, versio...   \n",
       "...                                                   ...   \n",
       "190853  [what, are, the, reasons, for, xmlhttprequest,...   \n",
       "190854              [loop, through, an, array, in, vlang]   \n",
       "190855  [how, to, hide, navbar, in, login, component, ...   \n",
       "190856  [unsupported, gauge, version, this, veuge, inr...   \n",
       "190857     [sys, aud, got, dropped, how, to, rebuild, it]   \n",
       "\n",
       "                                                     Body  \\\n",
       "0       <p>I'm trying to display an image selected fro...   \n",
       "1       <p>I just installed the latest version of Tens...   \n",
       "2       <p>I am currently new to robot framework.I am ...   \n",
       "3       <p>First time using firestore and I'm getting ...   \n",
       "4       <p>I'm using <strong>IntelliJ IDEA Ultimate 20...   \n",
       "...                                                   ...   \n",
       "190853  <p>I have a React frontend that's hooked up to...   \n",
       "190854  <p>How can I loop over an array of strings on ...   \n",
       "190855  <p>Recently I started learning React and my pr...   \n",
       "190856  <p>//unexpected gauge plugin error comes    </...   \n",
       "190857  <p>I had enabled auditing with oracle 12.2C an...   \n",
       "\n",
       "                                                     Tags  \n",
       "0                                      [javascript, html]  \n",
       "1       [python, python-3.x, tensorflow, keras, tensor...  \n",
       "2       [selenium, google-chrome, selenium-webdriver, ...  \n",
       "3                       [angular, google-cloud-firestore]  \n",
       "4                                   [java, intellij-idea]  \n",
       "...                                                   ...  \n",
       "190853                                       [javascript]  \n",
       "190854                                            [loops]  \n",
       "190855                                          [reactjs]  \n",
       "190856                       [java, maven, intellij-idea]  \n",
       "190857                                      [sql, oracle]  \n",
       "\n",
       "[190858 rows x 10 columns]"
      ]
     },
     "execution_count": 26,
     "metadata": {},
     "output_type": "execute_result"
    }
   ],
   "source": [
    "db"
   ]
  },
  {
   "cell_type": "code",
   "execution_count": 27,
   "metadata": {
    "id": "ZAizdtCI4o3Y"
   },
   "outputs": [],
   "source": [
    "db['Title'] = db['Title'].apply(lambda x:stop_words_check(x,stop_words))"
   ]
  },
  {
   "cell_type": "code",
   "execution_count": 28,
   "metadata": {
    "colab": {
     "base_uri": "https://localhost:8080/"
    },
    "executionInfo": {
     "elapsed": 12,
     "status": "ok",
     "timestamp": 1637245591449,
     "user": {
      "displayName": "Alexandre Taillard de Vorms",
      "photoUrl": "https://lh3.googleusercontent.com/a/default-user=s64",
      "userId": "17158358651987272696"
     },
     "user_tz": -60
    },
    "id": "_dZ5_x6U4o3Y",
    "outputId": "503e3a21-a900-48b4-fa9b-f254efdb7e38",
    "scrolled": true
   },
   "outputs": [
    {
     "data": {
      "text/html": [
       "<div>\n",
       "<style scoped>\n",
       "    .dataframe tbody tr th:only-of-type {\n",
       "        vertical-align: middle;\n",
       "    }\n",
       "\n",
       "    .dataframe tbody tr th {\n",
       "        vertical-align: top;\n",
       "    }\n",
       "\n",
       "    .dataframe thead th {\n",
       "        text-align: right;\n",
       "    }\n",
       "</style>\n",
       "<table border=\"1\" class=\"dataframe\">\n",
       "  <thead>\n",
       "    <tr style=\"text-align: right;\">\n",
       "      <th></th>\n",
       "      <th>Id</th>\n",
       "      <th>CreationDate</th>\n",
       "      <th>Score</th>\n",
       "      <th>ViewCount</th>\n",
       "      <th>AnswerCount</th>\n",
       "      <th>CommentCount</th>\n",
       "      <th>FavoriteCount</th>\n",
       "      <th>Title</th>\n",
       "      <th>Body</th>\n",
       "      <th>Tags</th>\n",
       "    </tr>\n",
       "  </thead>\n",
       "  <tbody>\n",
       "    <tr>\n",
       "      <th>0</th>\n",
       "      <td>61339968</td>\n",
       "      <td>2020-04-21 09:16:35</td>\n",
       "      <td>147</td>\n",
       "      <td>387745</td>\n",
       "      <td>12</td>\n",
       "      <td>5</td>\n",
       "      <td>29</td>\n",
       "      <td>[error, message, devtools, failed, load, sourc...</td>\n",
       "      <td>&lt;p&gt;I'm trying to display an image selected fro...</td>\n",
       "      <td>[javascript, html]</td>\n",
       "    </tr>\n",
       "    <tr>\n",
       "      <th>1</th>\n",
       "      <td>59823283</td>\n",
       "      <td>2020-01-20 12:26:53</td>\n",
       "      <td>114</td>\n",
       "      <td>266124</td>\n",
       "      <td>15</td>\n",
       "      <td>0</td>\n",
       "      <td>47</td>\n",
       "      <td>[could, load, dynamic, library, cudart, dll, t...</td>\n",
       "      <td>&lt;p&gt;I just installed the latest version of Tens...</td>\n",
       "      <td>[python, python-3.x, tensorflow, keras, tensor...</td>\n",
       "    </tr>\n",
       "    <tr>\n",
       "      <th>2</th>\n",
       "      <td>60296873</td>\n",
       "      <td>2020-02-19 09:24:42</td>\n",
       "      <td>109</td>\n",
       "      <td>253667</td>\n",
       "      <td>32</td>\n",
       "      <td>7</td>\n",
       "      <td>29</td>\n",
       "      <td>[sessionnotcreatedexception, message, session,...</td>\n",
       "      <td>&lt;p&gt;I am currently new to robot framework.I am ...</td>\n",
       "      <td>[selenium, google-chrome, selenium-webdriver, ...</td>\n",
       "    </tr>\n",
       "    <tr>\n",
       "      <th>3</th>\n",
       "      <td>60290309</td>\n",
       "      <td>2020-02-18 22:24:39</td>\n",
       "      <td>176</td>\n",
       "      <td>247270</td>\n",
       "      <td>30</td>\n",
       "      <td>3</td>\n",
       "      <td>18</td>\n",
       "      <td>[error, appears, ngmodule, imports, appmodule,...</td>\n",
       "      <td>&lt;p&gt;First time using firestore and I'm getting ...</td>\n",
       "      <td>[angular, google-cloud-firestore]</td>\n",
       "    </tr>\n",
       "    <tr>\n",
       "      <th>4</th>\n",
       "      <td>59601077</td>\n",
       "      <td>2020-01-05 14:54:15</td>\n",
       "      <td>189</td>\n",
       "      <td>244810</td>\n",
       "      <td>20</td>\n",
       "      <td>2</td>\n",
       "      <td>34</td>\n",
       "      <td>[intellij, error, java, error, release, versio...</td>\n",
       "      <td>&lt;p&gt;I'm using &lt;strong&gt;IntelliJ IDEA Ultimate 20...</td>\n",
       "      <td>[java, intellij-idea]</td>\n",
       "    </tr>\n",
       "    <tr>\n",
       "      <th>...</th>\n",
       "      <td>...</td>\n",
       "      <td>...</td>\n",
       "      <td>...</td>\n",
       "      <td>...</td>\n",
       "      <td>...</td>\n",
       "      <td>...</td>\n",
       "      <td>...</td>\n",
       "      <td>...</td>\n",
       "      <td>...</td>\n",
       "      <td>...</td>\n",
       "    </tr>\n",
       "    <tr>\n",
       "      <th>190853</th>\n",
       "      <td>57799149</td>\n",
       "      <td>2019-09-05 05:52:02</td>\n",
       "      <td>2</td>\n",
       "      <td>599</td>\n",
       "      <td>0</td>\n",
       "      <td>1</td>\n",
       "      <td>2</td>\n",
       "      <td>[reasons, xmlhttprequest, network, error, occu...</td>\n",
       "      <td>&lt;p&gt;I have a React frontend that's hooked up to...</td>\n",
       "      <td>[javascript]</td>\n",
       "    </tr>\n",
       "    <tr>\n",
       "      <th>190854</th>\n",
       "      <td>56952330</td>\n",
       "      <td>2019-07-09 12:11:49</td>\n",
       "      <td>5</td>\n",
       "      <td>599</td>\n",
       "      <td>2</td>\n",
       "      <td>1</td>\n",
       "      <td>1</td>\n",
       "      <td>[loop, array, vlang]</td>\n",
       "      <td>&lt;p&gt;How can I loop over an array of strings on ...</td>\n",
       "      <td>[loops]</td>\n",
       "    </tr>\n",
       "    <tr>\n",
       "      <th>190855</th>\n",
       "      <td>59194296</td>\n",
       "      <td>2019-12-05 11:36:52</td>\n",
       "      <td>0</td>\n",
       "      <td>599</td>\n",
       "      <td>3</td>\n",
       "      <td>7</td>\n",
       "      <td>1</td>\n",
       "      <td>[hide, navbar, login, component, reactjs]</td>\n",
       "      <td>&lt;p&gt;Recently I started learning React and my pr...</td>\n",
       "      <td>[reactjs]</td>\n",
       "    </tr>\n",
       "    <tr>\n",
       "      <th>190856</th>\n",
       "      <td>56847354</td>\n",
       "      <td>2019-07-02 07:26:35</td>\n",
       "      <td>2</td>\n",
       "      <td>599</td>\n",
       "      <td>1</td>\n",
       "      <td>0</td>\n",
       "      <td>1</td>\n",
       "      <td>[unsupported, gauge, version, veuge, inrsion, ...</td>\n",
       "      <td>&lt;p&gt;//unexpected gauge plugin error comes    &lt;/...</td>\n",
       "      <td>[java, maven, intellij-idea]</td>\n",
       "    </tr>\n",
       "    <tr>\n",
       "      <th>190857</th>\n",
       "      <td>58720404</td>\n",
       "      <td>2019-11-05 22:26:00</td>\n",
       "      <td>0</td>\n",
       "      <td>599</td>\n",
       "      <td>1</td>\n",
       "      <td>0</td>\n",
       "      <td>1</td>\n",
       "      <td>[sys, aud, got, dropped, rebuild]</td>\n",
       "      <td>&lt;p&gt;I had enabled auditing with oracle 12.2C an...</td>\n",
       "      <td>[sql, oracle]</td>\n",
       "    </tr>\n",
       "  </tbody>\n",
       "</table>\n",
       "<p>190858 rows × 10 columns</p>\n",
       "</div>"
      ],
      "text/plain": [
       "              Id         CreationDate  Score  ViewCount  AnswerCount  \\\n",
       "0       61339968  2020-04-21 09:16:35    147     387745           12   \n",
       "1       59823283  2020-01-20 12:26:53    114     266124           15   \n",
       "2       60296873  2020-02-19 09:24:42    109     253667           32   \n",
       "3       60290309  2020-02-18 22:24:39    176     247270           30   \n",
       "4       59601077  2020-01-05 14:54:15    189     244810           20   \n",
       "...          ...                  ...    ...        ...          ...   \n",
       "190853  57799149  2019-09-05 05:52:02      2        599            0   \n",
       "190854  56952330  2019-07-09 12:11:49      5        599            2   \n",
       "190855  59194296  2019-12-05 11:36:52      0        599            3   \n",
       "190856  56847354  2019-07-02 07:26:35      2        599            1   \n",
       "190857  58720404  2019-11-05 22:26:00      0        599            1   \n",
       "\n",
       "        CommentCount  FavoriteCount  \\\n",
       "0                  5             29   \n",
       "1                  0             47   \n",
       "2                  7             29   \n",
       "3                  3             18   \n",
       "4                  2             34   \n",
       "...              ...            ...   \n",
       "190853             1              2   \n",
       "190854             1              1   \n",
       "190855             7              1   \n",
       "190856             0              1   \n",
       "190857             0              1   \n",
       "\n",
       "                                                    Title  \\\n",
       "0       [error, message, devtools, failed, load, sourc...   \n",
       "1       [could, load, dynamic, library, cudart, dll, t...   \n",
       "2       [sessionnotcreatedexception, message, session,...   \n",
       "3       [error, appears, ngmodule, imports, appmodule,...   \n",
       "4       [intellij, error, java, error, release, versio...   \n",
       "...                                                   ...   \n",
       "190853  [reasons, xmlhttprequest, network, error, occu...   \n",
       "190854                               [loop, array, vlang]   \n",
       "190855          [hide, navbar, login, component, reactjs]   \n",
       "190856  [unsupported, gauge, version, veuge, inrsion, ...   \n",
       "190857                  [sys, aud, got, dropped, rebuild]   \n",
       "\n",
       "                                                     Body  \\\n",
       "0       <p>I'm trying to display an image selected fro...   \n",
       "1       <p>I just installed the latest version of Tens...   \n",
       "2       <p>I am currently new to robot framework.I am ...   \n",
       "3       <p>First time using firestore and I'm getting ...   \n",
       "4       <p>I'm using <strong>IntelliJ IDEA Ultimate 20...   \n",
       "...                                                   ...   \n",
       "190853  <p>I have a React frontend that's hooked up to...   \n",
       "190854  <p>How can I loop over an array of strings on ...   \n",
       "190855  <p>Recently I started learning React and my pr...   \n",
       "190856  <p>//unexpected gauge plugin error comes    </...   \n",
       "190857  <p>I had enabled auditing with oracle 12.2C an...   \n",
       "\n",
       "                                                     Tags  \n",
       "0                                      [javascript, html]  \n",
       "1       [python, python-3.x, tensorflow, keras, tensor...  \n",
       "2       [selenium, google-chrome, selenium-webdriver, ...  \n",
       "3                       [angular, google-cloud-firestore]  \n",
       "4                                   [java, intellij-idea]  \n",
       "...                                                   ...  \n",
       "190853                                       [javascript]  \n",
       "190854                                            [loops]  \n",
       "190855                                          [reactjs]  \n",
       "190856                       [java, maven, intellij-idea]  \n",
       "190857                                      [sql, oracle]  \n",
       "\n",
       "[190858 rows x 10 columns]"
      ]
     },
     "execution_count": 28,
     "metadata": {},
     "output_type": "execute_result"
    }
   ],
   "source": [
    "db"
   ]
  },
  {
   "cell_type": "markdown",
   "metadata": {
    "id": "Xqray4b54o3Y"
   },
   "source": [
    "<h4> Lemmatization\n",
    "         <a name=\"Lemma\">\n"
   ]
  },
  {
   "cell_type": "code",
   "execution_count": 29,
   "metadata": {
    "colab": {
     "base_uri": "https://localhost:8080/"
    },
    "executionInfo": {
     "elapsed": 407,
     "status": "ok",
     "timestamp": 1637245591846,
     "user": {
      "displayName": "Alexandre Taillard de Vorms",
      "photoUrl": "https://lh3.googleusercontent.com/a/default-user=s64",
      "userId": "17158358651987272696"
     },
     "user_tz": -60
    },
    "id": "0AeuhiOn4o3Y",
    "outputId": "4422401b-a9fc-4404-928e-070a3e080ae0"
   },
   "outputs": [
    {
     "name": "stderr",
     "output_type": "stream",
     "text": [
      "[nltk_data] Downloading package wordnet to /home/efkant/nltk_data...\n",
      "[nltk_data]   Package wordnet is already up-to-date!\n"
     ]
    }
   ],
   "source": [
    "from nltk.stem import WordNetLemmatizer\n",
    "nltk.download('wordnet')\n",
    "lemmatizer = WordNetLemmatizer()"
   ]
  },
  {
   "cell_type": "code",
   "execution_count": 30,
   "metadata": {
    "id": "MPjOFtte4o3Y"
   },
   "outputs": [],
   "source": [
    "def list_lemmatizer(list_to_lem):\n",
    "    return [lemmatizer.lemmatize(token, 'v') for token in list_to_lem]"
   ]
  },
  {
   "cell_type": "code",
   "execution_count": 31,
   "metadata": {
    "id": "uZ1346y24o3Y"
   },
   "outputs": [],
   "source": [
    "db['Title'] = db['Title'].apply(lambda x: list_lemmatizer(x))"
   ]
  },
  {
   "cell_type": "code",
   "execution_count": 32,
   "metadata": {
    "colab": {
     "base_uri": "https://localhost:8080/"
    },
    "executionInfo": {
     "elapsed": 24,
     "status": "ok",
     "timestamp": 1637245594017,
     "user": {
      "displayName": "Alexandre Taillard de Vorms",
      "photoUrl": "https://lh3.googleusercontent.com/a/default-user=s64",
      "userId": "17158358651987272696"
     },
     "user_tz": -60
    },
    "id": "GiEJH_Ys4o3Y",
    "outputId": "912c0c94-8b26-4bbd-e549-2bf661745c44"
   },
   "outputs": [
    {
     "data": {
      "text/html": [
       "<div>\n",
       "<style scoped>\n",
       "    .dataframe tbody tr th:only-of-type {\n",
       "        vertical-align: middle;\n",
       "    }\n",
       "\n",
       "    .dataframe tbody tr th {\n",
       "        vertical-align: top;\n",
       "    }\n",
       "\n",
       "    .dataframe thead th {\n",
       "        text-align: right;\n",
       "    }\n",
       "</style>\n",
       "<table border=\"1\" class=\"dataframe\">\n",
       "  <thead>\n",
       "    <tr style=\"text-align: right;\">\n",
       "      <th></th>\n",
       "      <th>Id</th>\n",
       "      <th>CreationDate</th>\n",
       "      <th>Score</th>\n",
       "      <th>ViewCount</th>\n",
       "      <th>AnswerCount</th>\n",
       "      <th>CommentCount</th>\n",
       "      <th>FavoriteCount</th>\n",
       "      <th>Title</th>\n",
       "      <th>Body</th>\n",
       "      <th>Tags</th>\n",
       "    </tr>\n",
       "  </thead>\n",
       "  <tbody>\n",
       "    <tr>\n",
       "      <th>0</th>\n",
       "      <td>61339968</td>\n",
       "      <td>2020-04-21 09:16:35</td>\n",
       "      <td>147</td>\n",
       "      <td>387745</td>\n",
       "      <td>12</td>\n",
       "      <td>5</td>\n",
       "      <td>29</td>\n",
       "      <td>[error, message, devtools, fail, load, sourcem...</td>\n",
       "      <td>&lt;p&gt;I'm trying to display an image selected fro...</td>\n",
       "      <td>[javascript, html]</td>\n",
       "    </tr>\n",
       "    <tr>\n",
       "      <th>1</th>\n",
       "      <td>59823283</td>\n",
       "      <td>2020-01-20 12:26:53</td>\n",
       "      <td>114</td>\n",
       "      <td>266124</td>\n",
       "      <td>15</td>\n",
       "      <td>0</td>\n",
       "      <td>47</td>\n",
       "      <td>[could, load, dynamic, library, cudart, dll, t...</td>\n",
       "      <td>&lt;p&gt;I just installed the latest version of Tens...</td>\n",
       "      <td>[python, python-3.x, tensorflow, keras, tensor...</td>\n",
       "    </tr>\n",
       "    <tr>\n",
       "      <th>2</th>\n",
       "      <td>60296873</td>\n",
       "      <td>2020-02-19 09:24:42</td>\n",
       "      <td>109</td>\n",
       "      <td>253667</td>\n",
       "      <td>32</td>\n",
       "      <td>7</td>\n",
       "      <td>29</td>\n",
       "      <td>[sessionnotcreatedexception, message, session,...</td>\n",
       "      <td>&lt;p&gt;I am currently new to robot framework.I am ...</td>\n",
       "      <td>[selenium, google-chrome, selenium-webdriver, ...</td>\n",
       "    </tr>\n",
       "    <tr>\n",
       "      <th>3</th>\n",
       "      <td>60290309</td>\n",
       "      <td>2020-02-18 22:24:39</td>\n",
       "      <td>176</td>\n",
       "      <td>247270</td>\n",
       "      <td>30</td>\n",
       "      <td>3</td>\n",
       "      <td>18</td>\n",
       "      <td>[error, appear, ngmodule, import, appmodule, c...</td>\n",
       "      <td>&lt;p&gt;First time using firestore and I'm getting ...</td>\n",
       "      <td>[angular, google-cloud-firestore]</td>\n",
       "    </tr>\n",
       "    <tr>\n",
       "      <th>4</th>\n",
       "      <td>59601077</td>\n",
       "      <td>2020-01-05 14:54:15</td>\n",
       "      <td>189</td>\n",
       "      <td>244810</td>\n",
       "      <td>20</td>\n",
       "      <td>2</td>\n",
       "      <td>34</td>\n",
       "      <td>[intellij, error, java, error, release, versio...</td>\n",
       "      <td>&lt;p&gt;I'm using &lt;strong&gt;IntelliJ IDEA Ultimate 20...</td>\n",
       "      <td>[java, intellij-idea]</td>\n",
       "    </tr>\n",
       "    <tr>\n",
       "      <th>...</th>\n",
       "      <td>...</td>\n",
       "      <td>...</td>\n",
       "      <td>...</td>\n",
       "      <td>...</td>\n",
       "      <td>...</td>\n",
       "      <td>...</td>\n",
       "      <td>...</td>\n",
       "      <td>...</td>\n",
       "      <td>...</td>\n",
       "      <td>...</td>\n",
       "    </tr>\n",
       "    <tr>\n",
       "      <th>190853</th>\n",
       "      <td>57799149</td>\n",
       "      <td>2019-09-05 05:52:02</td>\n",
       "      <td>2</td>\n",
       "      <td>599</td>\n",
       "      <td>0</td>\n",
       "      <td>1</td>\n",
       "      <td>2</td>\n",
       "      <td>[reason, xmlhttprequest, network, error, occur...</td>\n",
       "      <td>&lt;p&gt;I have a React frontend that's hooked up to...</td>\n",
       "      <td>[javascript]</td>\n",
       "    </tr>\n",
       "    <tr>\n",
       "      <th>190854</th>\n",
       "      <td>56952330</td>\n",
       "      <td>2019-07-09 12:11:49</td>\n",
       "      <td>5</td>\n",
       "      <td>599</td>\n",
       "      <td>2</td>\n",
       "      <td>1</td>\n",
       "      <td>1</td>\n",
       "      <td>[loop, array, vlang]</td>\n",
       "      <td>&lt;p&gt;How can I loop over an array of strings on ...</td>\n",
       "      <td>[loops]</td>\n",
       "    </tr>\n",
       "    <tr>\n",
       "      <th>190855</th>\n",
       "      <td>59194296</td>\n",
       "      <td>2019-12-05 11:36:52</td>\n",
       "      <td>0</td>\n",
       "      <td>599</td>\n",
       "      <td>3</td>\n",
       "      <td>7</td>\n",
       "      <td>1</td>\n",
       "      <td>[hide, navbar, login, component, reactjs]</td>\n",
       "      <td>&lt;p&gt;Recently I started learning React and my pr...</td>\n",
       "      <td>[reactjs]</td>\n",
       "    </tr>\n",
       "    <tr>\n",
       "      <th>190856</th>\n",
       "      <td>56847354</td>\n",
       "      <td>2019-07-02 07:26:35</td>\n",
       "      <td>2</td>\n",
       "      <td>599</td>\n",
       "      <td>1</td>\n",
       "      <td>0</td>\n",
       "      <td>1</td>\n",
       "      <td>[unsupported, gauge, version, veuge, inrsion, ...</td>\n",
       "      <td>&lt;p&gt;//unexpected gauge plugin error comes    &lt;/...</td>\n",
       "      <td>[java, maven, intellij-idea]</td>\n",
       "    </tr>\n",
       "    <tr>\n",
       "      <th>190857</th>\n",
       "      <td>58720404</td>\n",
       "      <td>2019-11-05 22:26:00</td>\n",
       "      <td>0</td>\n",
       "      <td>599</td>\n",
       "      <td>1</td>\n",
       "      <td>0</td>\n",
       "      <td>1</td>\n",
       "      <td>[sys, aud, get, drop, rebuild]</td>\n",
       "      <td>&lt;p&gt;I had enabled auditing with oracle 12.2C an...</td>\n",
       "      <td>[sql, oracle]</td>\n",
       "    </tr>\n",
       "  </tbody>\n",
       "</table>\n",
       "<p>190858 rows × 10 columns</p>\n",
       "</div>"
      ],
      "text/plain": [
       "              Id         CreationDate  Score  ViewCount  AnswerCount  \\\n",
       "0       61339968  2020-04-21 09:16:35    147     387745           12   \n",
       "1       59823283  2020-01-20 12:26:53    114     266124           15   \n",
       "2       60296873  2020-02-19 09:24:42    109     253667           32   \n",
       "3       60290309  2020-02-18 22:24:39    176     247270           30   \n",
       "4       59601077  2020-01-05 14:54:15    189     244810           20   \n",
       "...          ...                  ...    ...        ...          ...   \n",
       "190853  57799149  2019-09-05 05:52:02      2        599            0   \n",
       "190854  56952330  2019-07-09 12:11:49      5        599            2   \n",
       "190855  59194296  2019-12-05 11:36:52      0        599            3   \n",
       "190856  56847354  2019-07-02 07:26:35      2        599            1   \n",
       "190857  58720404  2019-11-05 22:26:00      0        599            1   \n",
       "\n",
       "        CommentCount  FavoriteCount  \\\n",
       "0                  5             29   \n",
       "1                  0             47   \n",
       "2                  7             29   \n",
       "3                  3             18   \n",
       "4                  2             34   \n",
       "...              ...            ...   \n",
       "190853             1              2   \n",
       "190854             1              1   \n",
       "190855             7              1   \n",
       "190856             0              1   \n",
       "190857             0              1   \n",
       "\n",
       "                                                    Title  \\\n",
       "0       [error, message, devtools, fail, load, sourcem...   \n",
       "1       [could, load, dynamic, library, cudart, dll, t...   \n",
       "2       [sessionnotcreatedexception, message, session,...   \n",
       "3       [error, appear, ngmodule, import, appmodule, c...   \n",
       "4       [intellij, error, java, error, release, versio...   \n",
       "...                                                   ...   \n",
       "190853  [reason, xmlhttprequest, network, error, occur...   \n",
       "190854                               [loop, array, vlang]   \n",
       "190855          [hide, navbar, login, component, reactjs]   \n",
       "190856  [unsupported, gauge, version, veuge, inrsion, ...   \n",
       "190857                     [sys, aud, get, drop, rebuild]   \n",
       "\n",
       "                                                     Body  \\\n",
       "0       <p>I'm trying to display an image selected fro...   \n",
       "1       <p>I just installed the latest version of Tens...   \n",
       "2       <p>I am currently new to robot framework.I am ...   \n",
       "3       <p>First time using firestore and I'm getting ...   \n",
       "4       <p>I'm using <strong>IntelliJ IDEA Ultimate 20...   \n",
       "...                                                   ...   \n",
       "190853  <p>I have a React frontend that's hooked up to...   \n",
       "190854  <p>How can I loop over an array of strings on ...   \n",
       "190855  <p>Recently I started learning React and my pr...   \n",
       "190856  <p>//unexpected gauge plugin error comes    </...   \n",
       "190857  <p>I had enabled auditing with oracle 12.2C an...   \n",
       "\n",
       "                                                     Tags  \n",
       "0                                      [javascript, html]  \n",
       "1       [python, python-3.x, tensorflow, keras, tensor...  \n",
       "2       [selenium, google-chrome, selenium-webdriver, ...  \n",
       "3                       [angular, google-cloud-firestore]  \n",
       "4                                   [java, intellij-idea]  \n",
       "...                                                   ...  \n",
       "190853                                       [javascript]  \n",
       "190854                                            [loops]  \n",
       "190855                                          [reactjs]  \n",
       "190856                       [java, maven, intellij-idea]  \n",
       "190857                                      [sql, oracle]  \n",
       "\n",
       "[190858 rows x 10 columns]"
      ]
     },
     "execution_count": 32,
     "metadata": {},
     "output_type": "execute_result"
    }
   ],
   "source": [
    "db"
   ]
  },
  {
   "cell_type": "code",
   "execution_count": 33,
   "metadata": {
    "id": "eFZ0d12R4o3Y"
   },
   "outputs": [],
   "source": [
    "db['Title'] = db['Title'].apply(lambda x: \" \".join(x))"
   ]
  },
  {
   "cell_type": "code",
   "execution_count": 34,
   "metadata": {
    "colab": {
     "base_uri": "https://localhost:8080/"
    },
    "executionInfo": {
     "elapsed": 18,
     "status": "ok",
     "timestamp": 1637245594018,
     "user": {
      "displayName": "Alexandre Taillard de Vorms",
      "photoUrl": "https://lh3.googleusercontent.com/a/default-user=s64",
      "userId": "17158358651987272696"
     },
     "user_tz": -60
    },
    "id": "wY2ZWXoo4o3Y",
    "outputId": "b2df920c-7607-4ae5-b0c9-6253c5d2e34a"
   },
   "outputs": [
    {
     "data": {
      "text/html": [
       "<div>\n",
       "<style scoped>\n",
       "    .dataframe tbody tr th:only-of-type {\n",
       "        vertical-align: middle;\n",
       "    }\n",
       "\n",
       "    .dataframe tbody tr th {\n",
       "        vertical-align: top;\n",
       "    }\n",
       "\n",
       "    .dataframe thead th {\n",
       "        text-align: right;\n",
       "    }\n",
       "</style>\n",
       "<table border=\"1\" class=\"dataframe\">\n",
       "  <thead>\n",
       "    <tr style=\"text-align: right;\">\n",
       "      <th></th>\n",
       "      <th>Id</th>\n",
       "      <th>CreationDate</th>\n",
       "      <th>Score</th>\n",
       "      <th>ViewCount</th>\n",
       "      <th>AnswerCount</th>\n",
       "      <th>CommentCount</th>\n",
       "      <th>FavoriteCount</th>\n",
       "      <th>Title</th>\n",
       "      <th>Body</th>\n",
       "      <th>Tags</th>\n",
       "    </tr>\n",
       "  </thead>\n",
       "  <tbody>\n",
       "    <tr>\n",
       "      <th>0</th>\n",
       "      <td>61339968</td>\n",
       "      <td>2020-04-21 09:16:35</td>\n",
       "      <td>147</td>\n",
       "      <td>387745</td>\n",
       "      <td>12</td>\n",
       "      <td>5</td>\n",
       "      <td>29</td>\n",
       "      <td>error message devtools fail load sourcemap cou...</td>\n",
       "      <td>&lt;p&gt;I'm trying to display an image selected fro...</td>\n",
       "      <td>[javascript, html]</td>\n",
       "    </tr>\n",
       "    <tr>\n",
       "      <th>1</th>\n",
       "      <td>59823283</td>\n",
       "      <td>2020-01-20 12:26:53</td>\n",
       "      <td>114</td>\n",
       "      <td>266124</td>\n",
       "      <td>15</td>\n",
       "      <td>0</td>\n",
       "      <td>47</td>\n",
       "      <td>could load dynamic library cudart dll tensorfl...</td>\n",
       "      <td>&lt;p&gt;I just installed the latest version of Tens...</td>\n",
       "      <td>[python, python-3.x, tensorflow, keras, tensor...</td>\n",
       "    </tr>\n",
       "    <tr>\n",
       "      <th>2</th>\n",
       "      <td>60296873</td>\n",
       "      <td>2020-02-19 09:24:42</td>\n",
       "      <td>109</td>\n",
       "      <td>253667</td>\n",
       "      <td>32</td>\n",
       "      <td>7</td>\n",
       "      <td>29</td>\n",
       "      <td>sessionnotcreatedexception message session cre...</td>\n",
       "      <td>&lt;p&gt;I am currently new to robot framework.I am ...</td>\n",
       "      <td>[selenium, google-chrome, selenium-webdriver, ...</td>\n",
       "    </tr>\n",
       "    <tr>\n",
       "      <th>3</th>\n",
       "      <td>60290309</td>\n",
       "      <td>2020-02-18 22:24:39</td>\n",
       "      <td>176</td>\n",
       "      <td>247270</td>\n",
       "      <td>30</td>\n",
       "      <td>3</td>\n",
       "      <td>18</td>\n",
       "      <td>error appear ngmodule import appmodule could r...</td>\n",
       "      <td>&lt;p&gt;First time using firestore and I'm getting ...</td>\n",
       "      <td>[angular, google-cloud-firestore]</td>\n",
       "    </tr>\n",
       "    <tr>\n",
       "      <th>4</th>\n",
       "      <td>59601077</td>\n",
       "      <td>2020-01-05 14:54:15</td>\n",
       "      <td>189</td>\n",
       "      <td>244810</td>\n",
       "      <td>20</td>\n",
       "      <td>2</td>\n",
       "      <td>34</td>\n",
       "      <td>intellij error java error release version support</td>\n",
       "      <td>&lt;p&gt;I'm using &lt;strong&gt;IntelliJ IDEA Ultimate 20...</td>\n",
       "      <td>[java, intellij-idea]</td>\n",
       "    </tr>\n",
       "    <tr>\n",
       "      <th>...</th>\n",
       "      <td>...</td>\n",
       "      <td>...</td>\n",
       "      <td>...</td>\n",
       "      <td>...</td>\n",
       "      <td>...</td>\n",
       "      <td>...</td>\n",
       "      <td>...</td>\n",
       "      <td>...</td>\n",
       "      <td>...</td>\n",
       "      <td>...</td>\n",
       "    </tr>\n",
       "    <tr>\n",
       "      <th>190853</th>\n",
       "      <td>57799149</td>\n",
       "      <td>2019-09-05 05:52:02</td>\n",
       "      <td>2</td>\n",
       "      <td>599</td>\n",
       "      <td>0</td>\n",
       "      <td>1</td>\n",
       "      <td>2</td>\n",
       "      <td>reason xmlhttprequest network error occur shor...</td>\n",
       "      <td>&lt;p&gt;I have a React frontend that's hooked up to...</td>\n",
       "      <td>[javascript]</td>\n",
       "    </tr>\n",
       "    <tr>\n",
       "      <th>190854</th>\n",
       "      <td>56952330</td>\n",
       "      <td>2019-07-09 12:11:49</td>\n",
       "      <td>5</td>\n",
       "      <td>599</td>\n",
       "      <td>2</td>\n",
       "      <td>1</td>\n",
       "      <td>1</td>\n",
       "      <td>loop array vlang</td>\n",
       "      <td>&lt;p&gt;How can I loop over an array of strings on ...</td>\n",
       "      <td>[loops]</td>\n",
       "    </tr>\n",
       "    <tr>\n",
       "      <th>190855</th>\n",
       "      <td>59194296</td>\n",
       "      <td>2019-12-05 11:36:52</td>\n",
       "      <td>0</td>\n",
       "      <td>599</td>\n",
       "      <td>3</td>\n",
       "      <td>7</td>\n",
       "      <td>1</td>\n",
       "      <td>hide navbar login component reactjs</td>\n",
       "      <td>&lt;p&gt;Recently I started learning React and my pr...</td>\n",
       "      <td>[reactjs]</td>\n",
       "    </tr>\n",
       "    <tr>\n",
       "      <th>190856</th>\n",
       "      <td>56847354</td>\n",
       "      <td>2019-07-02 07:26:35</td>\n",
       "      <td>2</td>\n",
       "      <td>599</td>\n",
       "      <td>1</td>\n",
       "      <td>0</td>\n",
       "      <td>1</td>\n",
       "      <td>unsupported gauge version veuge inrsion gatell...</td>\n",
       "      <td>&lt;p&gt;//unexpected gauge plugin error comes    &lt;/...</td>\n",
       "      <td>[java, maven, intellij-idea]</td>\n",
       "    </tr>\n",
       "    <tr>\n",
       "      <th>190857</th>\n",
       "      <td>58720404</td>\n",
       "      <td>2019-11-05 22:26:00</td>\n",
       "      <td>0</td>\n",
       "      <td>599</td>\n",
       "      <td>1</td>\n",
       "      <td>0</td>\n",
       "      <td>1</td>\n",
       "      <td>sys aud get drop rebuild</td>\n",
       "      <td>&lt;p&gt;I had enabled auditing with oracle 12.2C an...</td>\n",
       "      <td>[sql, oracle]</td>\n",
       "    </tr>\n",
       "  </tbody>\n",
       "</table>\n",
       "<p>190858 rows × 10 columns</p>\n",
       "</div>"
      ],
      "text/plain": [
       "              Id         CreationDate  Score  ViewCount  AnswerCount  \\\n",
       "0       61339968  2020-04-21 09:16:35    147     387745           12   \n",
       "1       59823283  2020-01-20 12:26:53    114     266124           15   \n",
       "2       60296873  2020-02-19 09:24:42    109     253667           32   \n",
       "3       60290309  2020-02-18 22:24:39    176     247270           30   \n",
       "4       59601077  2020-01-05 14:54:15    189     244810           20   \n",
       "...          ...                  ...    ...        ...          ...   \n",
       "190853  57799149  2019-09-05 05:52:02      2        599            0   \n",
       "190854  56952330  2019-07-09 12:11:49      5        599            2   \n",
       "190855  59194296  2019-12-05 11:36:52      0        599            3   \n",
       "190856  56847354  2019-07-02 07:26:35      2        599            1   \n",
       "190857  58720404  2019-11-05 22:26:00      0        599            1   \n",
       "\n",
       "        CommentCount  FavoriteCount  \\\n",
       "0                  5             29   \n",
       "1                  0             47   \n",
       "2                  7             29   \n",
       "3                  3             18   \n",
       "4                  2             34   \n",
       "...              ...            ...   \n",
       "190853             1              2   \n",
       "190854             1              1   \n",
       "190855             7              1   \n",
       "190856             0              1   \n",
       "190857             0              1   \n",
       "\n",
       "                                                    Title  \\\n",
       "0       error message devtools fail load sourcemap cou...   \n",
       "1       could load dynamic library cudart dll tensorfl...   \n",
       "2       sessionnotcreatedexception message session cre...   \n",
       "3       error appear ngmodule import appmodule could r...   \n",
       "4       intellij error java error release version support   \n",
       "...                                                   ...   \n",
       "190853  reason xmlhttprequest network error occur shor...   \n",
       "190854                                   loop array vlang   \n",
       "190855                hide navbar login component reactjs   \n",
       "190856  unsupported gauge version veuge inrsion gatell...   \n",
       "190857                           sys aud get drop rebuild   \n",
       "\n",
       "                                                     Body  \\\n",
       "0       <p>I'm trying to display an image selected fro...   \n",
       "1       <p>I just installed the latest version of Tens...   \n",
       "2       <p>I am currently new to robot framework.I am ...   \n",
       "3       <p>First time using firestore and I'm getting ...   \n",
       "4       <p>I'm using <strong>IntelliJ IDEA Ultimate 20...   \n",
       "...                                                   ...   \n",
       "190853  <p>I have a React frontend that's hooked up to...   \n",
       "190854  <p>How can I loop over an array of strings on ...   \n",
       "190855  <p>Recently I started learning React and my pr...   \n",
       "190856  <p>//unexpected gauge plugin error comes    </...   \n",
       "190857  <p>I had enabled auditing with oracle 12.2C an...   \n",
       "\n",
       "                                                     Tags  \n",
       "0                                      [javascript, html]  \n",
       "1       [python, python-3.x, tensorflow, keras, tensor...  \n",
       "2       [selenium, google-chrome, selenium-webdriver, ...  \n",
       "3                       [angular, google-cloud-firestore]  \n",
       "4                                   [java, intellij-idea]  \n",
       "...                                                   ...  \n",
       "190853                                       [javascript]  \n",
       "190854                                            [loops]  \n",
       "190855                                          [reactjs]  \n",
       "190856                       [java, maven, intellij-idea]  \n",
       "190857                                      [sql, oracle]  \n",
       "\n",
       "[190858 rows x 10 columns]"
      ]
     },
     "execution_count": 34,
     "metadata": {},
     "output_type": "execute_result"
    }
   ],
   "source": [
    "db"
   ]
  },
  {
   "cell_type": "markdown",
   "metadata": {
    "id": "danv2Se64o3Y"
   },
   "source": [
    "## Preprocessing de la Colonne Body"
   ]
  },
  {
   "cell_type": "code",
   "execution_count": 35,
   "metadata": {
    "id": "_cIVX8VX4o3Z"
   },
   "outputs": [],
   "source": [
    "from bs4 import BeautifulSoup"
   ]
  },
  {
   "cell_type": "code",
   "execution_count": 36,
   "metadata": {
    "id": "bFcmGQwJ4o3Z"
   },
   "outputs": [],
   "source": [
    "db['Body'] = db['Body'].apply(lambda x: BeautifulSoup(x).get_text()) "
   ]
  },
  {
   "cell_type": "code",
   "execution_count": 37,
   "metadata": {
    "id": "0In3VYnD4o3Z"
   },
   "outputs": [],
   "source": [
    "db['Body'] = db['Body'].apply(lambda x: clean_text(x)) "
   ]
  },
  {
   "cell_type": "code",
   "execution_count": 38,
   "metadata": {
    "colab": {
     "base_uri": "https://localhost:8080/"
    },
    "executionInfo": {
     "elapsed": 16,
     "status": "ok",
     "timestamp": 1637245605267,
     "user": {
      "displayName": "Alexandre Taillard de Vorms",
      "photoUrl": "https://lh3.googleusercontent.com/a/default-user=s64",
      "userId": "17158358651987272696"
     },
     "user_tz": -60
    },
    "id": "SvMg9B0o4o3Z",
    "outputId": "1a76cf6b-95ca-4aea-d47e-4fd01c17f822"
   },
   "outputs": [
    {
     "data": {
      "text/plain": [
       "\"using angular and during ng serve, i am getting the error: error from chokidar (c:\\\\): error: ebusy: resource busy or locked, lstat 'c:\\\\dumpstack.log.tmp error from chokidar (c:\\\\): error: ebusy: resource busy or locked, lstat 'c:\\\\hiberfil.sys error from chokidar (c:\\\\): error: ebusy: resource busy or locked, lstat 'c:\\\\pagefile.sys error from chokidar (c:\\\\): error: ebusy: resource busy or locked, lstat 'c:\\\\swapfile.sys\""
      ]
     },
     "execution_count": 38,
     "metadata": {},
     "output_type": "execute_result"
    }
   ],
   "source": [
    "db['Body'][14]"
   ]
  },
  {
   "cell_type": "code",
   "execution_count": 39,
   "metadata": {
    "id": "ZCIdAC5y4o3Z"
   },
   "outputs": [],
   "source": [
    "punct = '!\"#$%&\\'()*+,./:;<=>?@[\\\\]^_`{|}~'"
   ]
  },
  {
   "cell_type": "code",
   "execution_count": 40,
   "metadata": {
    "id": "583v8U2Z4o3a"
   },
   "outputs": [],
   "source": [
    "db['Body'] = db['Body'].apply(lambda x: clean_punct(x,tags_top_500))"
   ]
  },
  {
   "cell_type": "markdown",
   "metadata": {
    "id": "QnJ_uvvd4o3a"
   },
   "source": [
    "Now we have to remove the stopwords, tokenize and lemmatize the Body column"
   ]
  },
  {
   "cell_type": "code",
   "execution_count": 41,
   "metadata": {
    "id": "NRH97tgd4o3a"
   },
   "outputs": [],
   "source": [
    "db['Body'] = db['Body'].apply(lambda x: tokenizer(x))"
   ]
  },
  {
   "cell_type": "code",
   "execution_count": 42,
   "metadata": {
    "id": "h_AVD8qz4o3a"
   },
   "outputs": [],
   "source": [
    "db['Body'] = db['Body'].apply(lambda x: stop_words_check(x,stop_words))"
   ]
  },
  {
   "cell_type": "code",
   "execution_count": 43,
   "metadata": {
    "id": "CzZMCIgs4o3a"
   },
   "outputs": [],
   "source": [
    "db['Body'] = db['Body'].apply(lambda x: list_lemmatizer(x))"
   ]
  },
  {
   "cell_type": "code",
   "execution_count": 44,
   "metadata": {
    "id": "w-EXsTMI4o3a"
   },
   "outputs": [],
   "source": [
    "db['Body'] = db['Body'].apply(lambda x: \" \".join(x))"
   ]
  },
  {
   "cell_type": "code",
   "execution_count": 45,
   "metadata": {
    "id": "8FKJIprOx197"
   },
   "outputs": [],
   "source": [
    "#Ici, on a met plus de poids sur les titres en mettant Title plusieurs fois dans la nouvelle colonne que l'on créer\n",
    "db['Post'] = db['Title']+\" \"+db['Body']+\" \"+db['Title']+\" \"+db['Title']+\" \"+db['Title']"
   ]
  },
  {
   "cell_type": "code",
   "execution_count": 46,
   "metadata": {
    "colab": {
     "base_uri": "https://localhost:8080/"
    },
    "executionInfo": {
     "elapsed": 15,
     "status": "ok",
     "timestamp": 1637245624907,
     "user": {
      "displayName": "Alexandre Taillard de Vorms",
      "photoUrl": "https://lh3.googleusercontent.com/a/default-user=s64",
      "userId": "17158358651987272696"
     },
     "user_tz": -60
    },
    "id": "a4KnkKbux-ch",
    "outputId": "887f4543-7e30-48d9-80c5-e9595fd567c9"
   },
   "outputs": [
    {
     "data": {
      "text/html": [
       "<div>\n",
       "<style scoped>\n",
       "    .dataframe tbody tr th:only-of-type {\n",
       "        vertical-align: middle;\n",
       "    }\n",
       "\n",
       "    .dataframe tbody tr th {\n",
       "        vertical-align: top;\n",
       "    }\n",
       "\n",
       "    .dataframe thead th {\n",
       "        text-align: right;\n",
       "    }\n",
       "</style>\n",
       "<table border=\"1\" class=\"dataframe\">\n",
       "  <thead>\n",
       "    <tr style=\"text-align: right;\">\n",
       "      <th></th>\n",
       "      <th>Id</th>\n",
       "      <th>CreationDate</th>\n",
       "      <th>Score</th>\n",
       "      <th>ViewCount</th>\n",
       "      <th>AnswerCount</th>\n",
       "      <th>CommentCount</th>\n",
       "      <th>FavoriteCount</th>\n",
       "      <th>Title</th>\n",
       "      <th>Body</th>\n",
       "      <th>Tags</th>\n",
       "      <th>Post</th>\n",
       "    </tr>\n",
       "  </thead>\n",
       "  <tbody>\n",
       "    <tr>\n",
       "      <th>0</th>\n",
       "      <td>61339968</td>\n",
       "      <td>2020-04-21 09:16:35</td>\n",
       "      <td>147</td>\n",
       "      <td>387745</td>\n",
       "      <td>12</td>\n",
       "      <td>5</td>\n",
       "      <td>29</td>\n",
       "      <td>error message devtools fail load sourcemap cou...</td>\n",
       "      <td>try display image select local machine need lo...</td>\n",
       "      <td>[javascript, html]</td>\n",
       "      <td>error message devtools fail load sourcemap cou...</td>\n",
       "    </tr>\n",
       "    <tr>\n",
       "      <th>1</th>\n",
       "      <td>59823283</td>\n",
       "      <td>2020-01-20 12:26:53</td>\n",
       "      <td>114</td>\n",
       "      <td>266124</td>\n",
       "      <td>15</td>\n",
       "      <td>0</td>\n",
       "      <td>47</td>\n",
       "      <td>could load dynamic library cudart dll tensorfl...</td>\n",
       "      <td>instal latest version tensorflow via pip insta...</td>\n",
       "      <td>[python, python-3.x, tensorflow, keras, tensor...</td>\n",
       "      <td>could load dynamic library cudart dll tensorfl...</td>\n",
       "    </tr>\n",
       "    <tr>\n",
       "      <th>2</th>\n",
       "      <td>60296873</td>\n",
       "      <td>2020-02-19 09:24:42</td>\n",
       "      <td>109</td>\n",
       "      <td>253667</td>\n",
       "      <td>32</td>\n",
       "      <td>7</td>\n",
       "      <td>29</td>\n",
       "      <td>sessionnotcreatedexception message session cre...</td>\n",
       "      <td>currently new robot framework currently use la...</td>\n",
       "      <td>[selenium, google-chrome, selenium-webdriver, ...</td>\n",
       "      <td>sessionnotcreatedexception message session cre...</td>\n",
       "    </tr>\n",
       "    <tr>\n",
       "      <th>3</th>\n",
       "      <td>60290309</td>\n",
       "      <td>2020-02-18 22:24:39</td>\n",
       "      <td>176</td>\n",
       "      <td>247270</td>\n",
       "      <td>30</td>\n",
       "      <td>3</td>\n",
       "      <td>18</td>\n",
       "      <td>error appear ngmodule import appmodule could r...</td>\n",
       "      <td>first time use firestore get error seem proble...</td>\n",
       "      <td>[angular, google-cloud-firestore]</td>\n",
       "      <td>error appear ngmodule import appmodule could r...</td>\n",
       "    </tr>\n",
       "    <tr>\n",
       "      <th>4</th>\n",
       "      <td>59601077</td>\n",
       "      <td>2020-01-05 14:54:15</td>\n",
       "      <td>189</td>\n",
       "      <td>244810</td>\n",
       "      <td>20</td>\n",
       "      <td>2</td>\n",
       "      <td>34</td>\n",
       "      <td>intellij error java error release version support</td>\n",
       "      <td>use intellij idea ultimate whenever try start ...</td>\n",
       "      <td>[java, intellij-idea]</td>\n",
       "      <td>intellij error java error release version supp...</td>\n",
       "    </tr>\n",
       "    <tr>\n",
       "      <th>...</th>\n",
       "      <td>...</td>\n",
       "      <td>...</td>\n",
       "      <td>...</td>\n",
       "      <td>...</td>\n",
       "      <td>...</td>\n",
       "      <td>...</td>\n",
       "      <td>...</td>\n",
       "      <td>...</td>\n",
       "      <td>...</td>\n",
       "      <td>...</td>\n",
       "      <td>...</td>\n",
       "    </tr>\n",
       "    <tr>\n",
       "      <th>190853</th>\n",
       "      <td>57799149</td>\n",
       "      <td>2019-09-05 05:52:02</td>\n",
       "      <td>2</td>\n",
       "      <td>599</td>\n",
       "      <td>0</td>\n",
       "      <td>1</td>\n",
       "      <td>2</td>\n",
       "      <td>reason xmlhttprequest network error occur shor...</td>\n",
       "      <td>react frontend hook sentry get quite report pa...</td>\n",
       "      <td>[javascript]</td>\n",
       "      <td>reason xmlhttprequest network error occur shor...</td>\n",
       "    </tr>\n",
       "    <tr>\n",
       "      <th>190854</th>\n",
       "      <td>56952330</td>\n",
       "      <td>2019-07-09 12:11:49</td>\n",
       "      <td>5</td>\n",
       "      <td>599</td>\n",
       "      <td>2</td>\n",
       "      <td>1</td>\n",
       "      <td>1</td>\n",
       "      <td>loop array vlang</td>\n",
       "      <td>loop array string program language example lan...</td>\n",
       "      <td>[loops]</td>\n",
       "      <td>loop array vlang loop array string program lan...</td>\n",
       "    </tr>\n",
       "    <tr>\n",
       "      <th>190855</th>\n",
       "      <td>59194296</td>\n",
       "      <td>2019-12-05 11:36:52</td>\n",
       "      <td>0</td>\n",
       "      <td>599</td>\n",
       "      <td>3</td>\n",
       "      <td>7</td>\n",
       "      <td>1</td>\n",
       "      <td>hide navbar login component reactjs</td>\n",
       "      <td>recently start learn react problem cannot hide...</td>\n",
       "      <td>[reactjs]</td>\n",
       "      <td>hide navbar login component reactjs recently s...</td>\n",
       "    </tr>\n",
       "    <tr>\n",
       "      <th>190856</th>\n",
       "      <td>56847354</td>\n",
       "      <td>2019-07-02 07:26:35</td>\n",
       "      <td>2</td>\n",
       "      <td>599</td>\n",
       "      <td>1</td>\n",
       "      <td>0</td>\n",
       "      <td>1</td>\n",
       "      <td>unsupported gauge version veuge inrsion gatell...</td>\n",
       "      <td>unexpected gauge plugin error come completely ...</td>\n",
       "      <td>[java, maven, intellij-idea]</td>\n",
       "      <td>unsupported gauge version veuge inrsion gatell...</td>\n",
       "    </tr>\n",
       "    <tr>\n",
       "      <th>190857</th>\n",
       "      <td>58720404</td>\n",
       "      <td>2019-11-05 22:26:00</td>\n",
       "      <td>0</td>\n",
       "      <td>599</td>\n",
       "      <td>1</td>\n",
       "      <td>0</td>\n",
       "      <td>1</td>\n",
       "      <td>sys aud get drop rebuild</td>\n",
       "      <td>enable audit oracle mistakenly drop table sys ...</td>\n",
       "      <td>[sql, oracle]</td>\n",
       "      <td>sys aud get drop rebuild enable audit oracle m...</td>\n",
       "    </tr>\n",
       "  </tbody>\n",
       "</table>\n",
       "<p>190858 rows × 11 columns</p>\n",
       "</div>"
      ],
      "text/plain": [
       "              Id         CreationDate  Score  ViewCount  AnswerCount  \\\n",
       "0       61339968  2020-04-21 09:16:35    147     387745           12   \n",
       "1       59823283  2020-01-20 12:26:53    114     266124           15   \n",
       "2       60296873  2020-02-19 09:24:42    109     253667           32   \n",
       "3       60290309  2020-02-18 22:24:39    176     247270           30   \n",
       "4       59601077  2020-01-05 14:54:15    189     244810           20   \n",
       "...          ...                  ...    ...        ...          ...   \n",
       "190853  57799149  2019-09-05 05:52:02      2        599            0   \n",
       "190854  56952330  2019-07-09 12:11:49      5        599            2   \n",
       "190855  59194296  2019-12-05 11:36:52      0        599            3   \n",
       "190856  56847354  2019-07-02 07:26:35      2        599            1   \n",
       "190857  58720404  2019-11-05 22:26:00      0        599            1   \n",
       "\n",
       "        CommentCount  FavoriteCount  \\\n",
       "0                  5             29   \n",
       "1                  0             47   \n",
       "2                  7             29   \n",
       "3                  3             18   \n",
       "4                  2             34   \n",
       "...              ...            ...   \n",
       "190853             1              2   \n",
       "190854             1              1   \n",
       "190855             7              1   \n",
       "190856             0              1   \n",
       "190857             0              1   \n",
       "\n",
       "                                                    Title  \\\n",
       "0       error message devtools fail load sourcemap cou...   \n",
       "1       could load dynamic library cudart dll tensorfl...   \n",
       "2       sessionnotcreatedexception message session cre...   \n",
       "3       error appear ngmodule import appmodule could r...   \n",
       "4       intellij error java error release version support   \n",
       "...                                                   ...   \n",
       "190853  reason xmlhttprequest network error occur shor...   \n",
       "190854                                   loop array vlang   \n",
       "190855                hide navbar login component reactjs   \n",
       "190856  unsupported gauge version veuge inrsion gatell...   \n",
       "190857                           sys aud get drop rebuild   \n",
       "\n",
       "                                                     Body  \\\n",
       "0       try display image select local machine need lo...   \n",
       "1       instal latest version tensorflow via pip insta...   \n",
       "2       currently new robot framework currently use la...   \n",
       "3       first time use firestore get error seem proble...   \n",
       "4       use intellij idea ultimate whenever try start ...   \n",
       "...                                                   ...   \n",
       "190853  react frontend hook sentry get quite report pa...   \n",
       "190854  loop array string program language example lan...   \n",
       "190855  recently start learn react problem cannot hide...   \n",
       "190856  unexpected gauge plugin error come completely ...   \n",
       "190857  enable audit oracle mistakenly drop table sys ...   \n",
       "\n",
       "                                                     Tags  \\\n",
       "0                                      [javascript, html]   \n",
       "1       [python, python-3.x, tensorflow, keras, tensor...   \n",
       "2       [selenium, google-chrome, selenium-webdriver, ...   \n",
       "3                       [angular, google-cloud-firestore]   \n",
       "4                                   [java, intellij-idea]   \n",
       "...                                                   ...   \n",
       "190853                                       [javascript]   \n",
       "190854                                            [loops]   \n",
       "190855                                          [reactjs]   \n",
       "190856                       [java, maven, intellij-idea]   \n",
       "190857                                      [sql, oracle]   \n",
       "\n",
       "                                                     Post  \n",
       "0       error message devtools fail load sourcemap cou...  \n",
       "1       could load dynamic library cudart dll tensorfl...  \n",
       "2       sessionnotcreatedexception message session cre...  \n",
       "3       error appear ngmodule import appmodule could r...  \n",
       "4       intellij error java error release version supp...  \n",
       "...                                                   ...  \n",
       "190853  reason xmlhttprequest network error occur shor...  \n",
       "190854  loop array vlang loop array string program lan...  \n",
       "190855  hide navbar login component reactjs recently s...  \n",
       "190856  unsupported gauge version veuge inrsion gatell...  \n",
       "190857  sys aud get drop rebuild enable audit oracle m...  \n",
       "\n",
       "[190858 rows x 11 columns]"
      ]
     },
     "execution_count": 46,
     "metadata": {},
     "output_type": "execute_result"
    }
   ],
   "source": [
    "db"
   ]
  },
  {
   "cell_type": "markdown",
   "metadata": {
    "id": "Ork4Lnxm4o3a",
    "tags": []
   },
   "source": [
    "# EDA"
   ]
  },
  {
   "cell_type": "markdown",
   "metadata": {
    "id": "ZI26ifwH4o3a"
   },
   "source": [
    "<h4> Exploration des variables génériques"
   ]
  },
  {
   "cell_type": "code",
   "execution_count": 47,
   "metadata": {},
   "outputs": [],
   "source": [
    "import seaborn as sns"
   ]
  },
  {
   "cell_type": "code",
   "execution_count": 48,
   "metadata": {
    "colab": {
     "base_uri": "https://localhost:8080/"
    },
    "executionInfo": {
     "elapsed": 12,
     "status": "ok",
     "timestamp": 1637245624908,
     "user": {
      "displayName": "Alexandre Taillard de Vorms",
      "photoUrl": "https://lh3.googleusercontent.com/a/default-user=s64",
      "userId": "17158358651987272696"
     },
     "user_tz": -60
    },
    "id": "ROVv315C4o3a",
    "outputId": "2331451d-08c2-42c4-fb77-7ca2e059b268"
   },
   "outputs": [
    {
     "data": {
      "text/html": [
       "<div>\n",
       "<style scoped>\n",
       "    .dataframe tbody tr th:only-of-type {\n",
       "        vertical-align: middle;\n",
       "    }\n",
       "\n",
       "    .dataframe tbody tr th {\n",
       "        vertical-align: top;\n",
       "    }\n",
       "\n",
       "    .dataframe thead th {\n",
       "        text-align: right;\n",
       "    }\n",
       "</style>\n",
       "<table border=\"1\" class=\"dataframe\">\n",
       "  <thead>\n",
       "    <tr style=\"text-align: right;\">\n",
       "      <th></th>\n",
       "      <th>Id</th>\n",
       "      <th>Score</th>\n",
       "      <th>ViewCount</th>\n",
       "      <th>AnswerCount</th>\n",
       "      <th>CommentCount</th>\n",
       "      <th>FavoriteCount</th>\n",
       "    </tr>\n",
       "  </thead>\n",
       "  <tbody>\n",
       "    <tr>\n",
       "      <th>count</th>\n",
       "      <td>1.908580e+05</td>\n",
       "      <td>190858.000000</td>\n",
       "      <td>1.908580e+05</td>\n",
       "      <td>190858.000000</td>\n",
       "      <td>190858.000000</td>\n",
       "      <td>190858.000000</td>\n",
       "    </tr>\n",
       "    <tr>\n",
       "      <th>mean</th>\n",
       "      <td>5.959058e+07</td>\n",
       "      <td>4.330010</td>\n",
       "      <td>3.597220e+03</td>\n",
       "      <td>1.789760</td>\n",
       "      <td>2.160732</td>\n",
       "      <td>1.503023</td>\n",
       "    </tr>\n",
       "    <tr>\n",
       "      <th>std</th>\n",
       "      <td>3.325032e+06</td>\n",
       "      <td>10.973853</td>\n",
       "      <td>9.877858e+03</td>\n",
       "      <td>1.599125</td>\n",
       "      <td>2.955583</td>\n",
       "      <td>2.473346</td>\n",
       "    </tr>\n",
       "    <tr>\n",
       "      <th>min</th>\n",
       "      <td>5.399232e+07</td>\n",
       "      <td>-24.000000</td>\n",
       "      <td>1.240000e+02</td>\n",
       "      <td>0.000000</td>\n",
       "      <td>0.000000</td>\n",
       "      <td>0.000000</td>\n",
       "    </tr>\n",
       "    <tr>\n",
       "      <th>25%</th>\n",
       "      <td>5.681398e+07</td>\n",
       "      <td>1.000000</td>\n",
       "      <td>6.830000e+02</td>\n",
       "      <td>1.000000</td>\n",
       "      <td>0.000000</td>\n",
       "      <td>1.000000</td>\n",
       "    </tr>\n",
       "    <tr>\n",
       "      <th>50%</th>\n",
       "      <td>5.951626e+07</td>\n",
       "      <td>2.000000</td>\n",
       "      <td>1.458000e+03</td>\n",
       "      <td>1.000000</td>\n",
       "      <td>1.000000</td>\n",
       "      <td>1.000000</td>\n",
       "    </tr>\n",
       "    <tr>\n",
       "      <th>75%</th>\n",
       "      <td>6.263774e+07</td>\n",
       "      <td>5.000000</td>\n",
       "      <td>3.300000e+03</td>\n",
       "      <td>2.000000</td>\n",
       "      <td>3.000000</td>\n",
       "      <td>2.000000</td>\n",
       "    </tr>\n",
       "    <tr>\n",
       "      <th>max</th>\n",
       "      <td>6.551501e+07</td>\n",
       "      <td>693.000000</td>\n",
       "      <td>1.432498e+06</td>\n",
       "      <td>50.000000</td>\n",
       "      <td>50.000000</td>\n",
       "      <td>195.000000</td>\n",
       "    </tr>\n",
       "  </tbody>\n",
       "</table>\n",
       "</div>"
      ],
      "text/plain": [
       "                 Id          Score     ViewCount    AnswerCount  \\\n",
       "count  1.908580e+05  190858.000000  1.908580e+05  190858.000000   \n",
       "mean   5.959058e+07       4.330010  3.597220e+03       1.789760   \n",
       "std    3.325032e+06      10.973853  9.877858e+03       1.599125   \n",
       "min    5.399232e+07     -24.000000  1.240000e+02       0.000000   \n",
       "25%    5.681398e+07       1.000000  6.830000e+02       1.000000   \n",
       "50%    5.951626e+07       2.000000  1.458000e+03       1.000000   \n",
       "75%    6.263774e+07       5.000000  3.300000e+03       2.000000   \n",
       "max    6.551501e+07     693.000000  1.432498e+06      50.000000   \n",
       "\n",
       "        CommentCount  FavoriteCount  \n",
       "count  190858.000000  190858.000000  \n",
       "mean        2.160732       1.503023  \n",
       "std         2.955583       2.473346  \n",
       "min         0.000000       0.000000  \n",
       "25%         0.000000       1.000000  \n",
       "50%         1.000000       1.000000  \n",
       "75%         3.000000       2.000000  \n",
       "max        50.000000     195.000000  "
      ]
     },
     "execution_count": 48,
     "metadata": {},
     "output_type": "execute_result"
    }
   ],
   "source": [
    "db.describe()"
   ]
  },
  {
   "cell_type": "code",
   "execution_count": 49,
   "metadata": {
    "colab": {
     "base_uri": "https://localhost:8080/"
    },
    "executionInfo": {
     "elapsed": 330,
     "status": "ok",
     "timestamp": 1637245625230,
     "user": {
      "displayName": "Alexandre Taillard de Vorms",
      "photoUrl": "https://lh3.googleusercontent.com/a/default-user=s64",
      "userId": "17158358651987272696"
     },
     "user_tz": -60
    },
    "id": "VkOZY11D4o3a",
    "outputId": "b3a67562-f1b6-4832-92a8-57ff88df1dfb"
   },
   "outputs": [
    {
     "data": {
      "application/vnd.plotly.v1+json": {
       "config": {
        "plotlyServerURL": "https://plot.ly"
       },
       "data": [
        {
         "alignmentgroup": "True",
         "hovertemplate": "variable=0<br>index=%{x}<br>value=%{y}<extra></extra>",
         "legendgroup": "0",
         "marker": {
          "color": "#636efa",
          "pattern": {
           "shape": ""
          }
         },
         "name": "0",
         "offsetgroup": "0",
         "orientation": "v",
         "showlegend": true,
         "textposition": "auto",
         "type": "bar",
         "x": [
          "python",
          "javascript",
          "java",
          "reactjs",
          "android",
          "c#",
          "flutter",
          "angular",
          "node.js",
          "python-3.x",
          "ios",
          "typescript",
          "swift",
          "docker",
          "html",
          "c++",
          "php",
          "spring-boot",
          "dart",
          "css",
          "r",
          "amazon-web-services",
          "react-native",
          "pandas",
          "asp.net-core",
          "vue.js",
          "firebase",
          "azure",
          "swiftui",
          "django",
          "tensorflow",
          "laravel",
          "spring",
          "kubernetes",
          "kotlin",
          "json",
          "visual-studio-code",
          "git",
          ".net-core",
          "apache-spark"
         ],
         "xaxis": "x",
         "y": [
          28675,
          19046,
          12791,
          11925,
          11540,
          9510,
          8235,
          7518,
          7333,
          6298,
          5665,
          5248,
          5183,
          5068,
          4915,
          4757,
          4363,
          4200,
          4147,
          3992,
          3925,
          3861,
          3828,
          3613,
          3537,
          3390,
          3079,
          3048,
          3034,
          3007,
          2924,
          2920,
          2806,
          2708,
          2694,
          2506,
          2253,
          2151,
          2129,
          2079
         ],
         "yaxis": "y"
        }
       ],
       "layout": {
        "barmode": "relative",
        "legend": {
         "title": {
          "text": "variable"
         },
         "tracegroupgap": 0
        },
        "margin": {
         "t": 60
        },
        "template": {
         "data": {
          "bar": [
           {
            "error_x": {
             "color": "#2a3f5f"
            },
            "error_y": {
             "color": "#2a3f5f"
            },
            "marker": {
             "line": {
              "color": "#E5ECF6",
              "width": 0.5
             },
             "pattern": {
              "fillmode": "overlay",
              "size": 10,
              "solidity": 0.2
             }
            },
            "type": "bar"
           }
          ],
          "barpolar": [
           {
            "marker": {
             "line": {
              "color": "#E5ECF6",
              "width": 0.5
             },
             "pattern": {
              "fillmode": "overlay",
              "size": 10,
              "solidity": 0.2
             }
            },
            "type": "barpolar"
           }
          ],
          "carpet": [
           {
            "aaxis": {
             "endlinecolor": "#2a3f5f",
             "gridcolor": "white",
             "linecolor": "white",
             "minorgridcolor": "white",
             "startlinecolor": "#2a3f5f"
            },
            "baxis": {
             "endlinecolor": "#2a3f5f",
             "gridcolor": "white",
             "linecolor": "white",
             "minorgridcolor": "white",
             "startlinecolor": "#2a3f5f"
            },
            "type": "carpet"
           }
          ],
          "choropleth": [
           {
            "colorbar": {
             "outlinewidth": 0,
             "ticks": ""
            },
            "type": "choropleth"
           }
          ],
          "contour": [
           {
            "colorbar": {
             "outlinewidth": 0,
             "ticks": ""
            },
            "colorscale": [
             [
              0,
              "#0d0887"
             ],
             [
              0.1111111111111111,
              "#46039f"
             ],
             [
              0.2222222222222222,
              "#7201a8"
             ],
             [
              0.3333333333333333,
              "#9c179e"
             ],
             [
              0.4444444444444444,
              "#bd3786"
             ],
             [
              0.5555555555555556,
              "#d8576b"
             ],
             [
              0.6666666666666666,
              "#ed7953"
             ],
             [
              0.7777777777777778,
              "#fb9f3a"
             ],
             [
              0.8888888888888888,
              "#fdca26"
             ],
             [
              1,
              "#f0f921"
             ]
            ],
            "type": "contour"
           }
          ],
          "contourcarpet": [
           {
            "colorbar": {
             "outlinewidth": 0,
             "ticks": ""
            },
            "type": "contourcarpet"
           }
          ],
          "heatmap": [
           {
            "colorbar": {
             "outlinewidth": 0,
             "ticks": ""
            },
            "colorscale": [
             [
              0,
              "#0d0887"
             ],
             [
              0.1111111111111111,
              "#46039f"
             ],
             [
              0.2222222222222222,
              "#7201a8"
             ],
             [
              0.3333333333333333,
              "#9c179e"
             ],
             [
              0.4444444444444444,
              "#bd3786"
             ],
             [
              0.5555555555555556,
              "#d8576b"
             ],
             [
              0.6666666666666666,
              "#ed7953"
             ],
             [
              0.7777777777777778,
              "#fb9f3a"
             ],
             [
              0.8888888888888888,
              "#fdca26"
             ],
             [
              1,
              "#f0f921"
             ]
            ],
            "type": "heatmap"
           }
          ],
          "heatmapgl": [
           {
            "colorbar": {
             "outlinewidth": 0,
             "ticks": ""
            },
            "colorscale": [
             [
              0,
              "#0d0887"
             ],
             [
              0.1111111111111111,
              "#46039f"
             ],
             [
              0.2222222222222222,
              "#7201a8"
             ],
             [
              0.3333333333333333,
              "#9c179e"
             ],
             [
              0.4444444444444444,
              "#bd3786"
             ],
             [
              0.5555555555555556,
              "#d8576b"
             ],
             [
              0.6666666666666666,
              "#ed7953"
             ],
             [
              0.7777777777777778,
              "#fb9f3a"
             ],
             [
              0.8888888888888888,
              "#fdca26"
             ],
             [
              1,
              "#f0f921"
             ]
            ],
            "type": "heatmapgl"
           }
          ],
          "histogram": [
           {
            "marker": {
             "pattern": {
              "fillmode": "overlay",
              "size": 10,
              "solidity": 0.2
             }
            },
            "type": "histogram"
           }
          ],
          "histogram2d": [
           {
            "colorbar": {
             "outlinewidth": 0,
             "ticks": ""
            },
            "colorscale": [
             [
              0,
              "#0d0887"
             ],
             [
              0.1111111111111111,
              "#46039f"
             ],
             [
              0.2222222222222222,
              "#7201a8"
             ],
             [
              0.3333333333333333,
              "#9c179e"
             ],
             [
              0.4444444444444444,
              "#bd3786"
             ],
             [
              0.5555555555555556,
              "#d8576b"
             ],
             [
              0.6666666666666666,
              "#ed7953"
             ],
             [
              0.7777777777777778,
              "#fb9f3a"
             ],
             [
              0.8888888888888888,
              "#fdca26"
             ],
             [
              1,
              "#f0f921"
             ]
            ],
            "type": "histogram2d"
           }
          ],
          "histogram2dcontour": [
           {
            "colorbar": {
             "outlinewidth": 0,
             "ticks": ""
            },
            "colorscale": [
             [
              0,
              "#0d0887"
             ],
             [
              0.1111111111111111,
              "#46039f"
             ],
             [
              0.2222222222222222,
              "#7201a8"
             ],
             [
              0.3333333333333333,
              "#9c179e"
             ],
             [
              0.4444444444444444,
              "#bd3786"
             ],
             [
              0.5555555555555556,
              "#d8576b"
             ],
             [
              0.6666666666666666,
              "#ed7953"
             ],
             [
              0.7777777777777778,
              "#fb9f3a"
             ],
             [
              0.8888888888888888,
              "#fdca26"
             ],
             [
              1,
              "#f0f921"
             ]
            ],
            "type": "histogram2dcontour"
           }
          ],
          "mesh3d": [
           {
            "colorbar": {
             "outlinewidth": 0,
             "ticks": ""
            },
            "type": "mesh3d"
           }
          ],
          "parcoords": [
           {
            "line": {
             "colorbar": {
              "outlinewidth": 0,
              "ticks": ""
             }
            },
            "type": "parcoords"
           }
          ],
          "pie": [
           {
            "automargin": true,
            "type": "pie"
           }
          ],
          "scatter": [
           {
            "marker": {
             "colorbar": {
              "outlinewidth": 0,
              "ticks": ""
             }
            },
            "type": "scatter"
           }
          ],
          "scatter3d": [
           {
            "line": {
             "colorbar": {
              "outlinewidth": 0,
              "ticks": ""
             }
            },
            "marker": {
             "colorbar": {
              "outlinewidth": 0,
              "ticks": ""
             }
            },
            "type": "scatter3d"
           }
          ],
          "scattercarpet": [
           {
            "marker": {
             "colorbar": {
              "outlinewidth": 0,
              "ticks": ""
             }
            },
            "type": "scattercarpet"
           }
          ],
          "scattergeo": [
           {
            "marker": {
             "colorbar": {
              "outlinewidth": 0,
              "ticks": ""
             }
            },
            "type": "scattergeo"
           }
          ],
          "scattergl": [
           {
            "marker": {
             "colorbar": {
              "outlinewidth": 0,
              "ticks": ""
             }
            },
            "type": "scattergl"
           }
          ],
          "scattermapbox": [
           {
            "marker": {
             "colorbar": {
              "outlinewidth": 0,
              "ticks": ""
             }
            },
            "type": "scattermapbox"
           }
          ],
          "scatterpolar": [
           {
            "marker": {
             "colorbar": {
              "outlinewidth": 0,
              "ticks": ""
             }
            },
            "type": "scatterpolar"
           }
          ],
          "scatterpolargl": [
           {
            "marker": {
             "colorbar": {
              "outlinewidth": 0,
              "ticks": ""
             }
            },
            "type": "scatterpolargl"
           }
          ],
          "scatterternary": [
           {
            "marker": {
             "colorbar": {
              "outlinewidth": 0,
              "ticks": ""
             }
            },
            "type": "scatterternary"
           }
          ],
          "surface": [
           {
            "colorbar": {
             "outlinewidth": 0,
             "ticks": ""
            },
            "colorscale": [
             [
              0,
              "#0d0887"
             ],
             [
              0.1111111111111111,
              "#46039f"
             ],
             [
              0.2222222222222222,
              "#7201a8"
             ],
             [
              0.3333333333333333,
              "#9c179e"
             ],
             [
              0.4444444444444444,
              "#bd3786"
             ],
             [
              0.5555555555555556,
              "#d8576b"
             ],
             [
              0.6666666666666666,
              "#ed7953"
             ],
             [
              0.7777777777777778,
              "#fb9f3a"
             ],
             [
              0.8888888888888888,
              "#fdca26"
             ],
             [
              1,
              "#f0f921"
             ]
            ],
            "type": "surface"
           }
          ],
          "table": [
           {
            "cells": {
             "fill": {
              "color": "#EBF0F8"
             },
             "line": {
              "color": "white"
             }
            },
            "header": {
             "fill": {
              "color": "#C8D4E3"
             },
             "line": {
              "color": "white"
             }
            },
            "type": "table"
           }
          ]
         },
         "layout": {
          "annotationdefaults": {
           "arrowcolor": "#2a3f5f",
           "arrowhead": 0,
           "arrowwidth": 1
          },
          "autotypenumbers": "strict",
          "coloraxis": {
           "colorbar": {
            "outlinewidth": 0,
            "ticks": ""
           }
          },
          "colorscale": {
           "diverging": [
            [
             0,
             "#8e0152"
            ],
            [
             0.1,
             "#c51b7d"
            ],
            [
             0.2,
             "#de77ae"
            ],
            [
             0.3,
             "#f1b6da"
            ],
            [
             0.4,
             "#fde0ef"
            ],
            [
             0.5,
             "#f7f7f7"
            ],
            [
             0.6,
             "#e6f5d0"
            ],
            [
             0.7,
             "#b8e186"
            ],
            [
             0.8,
             "#7fbc41"
            ],
            [
             0.9,
             "#4d9221"
            ],
            [
             1,
             "#276419"
            ]
           ],
           "sequential": [
            [
             0,
             "#0d0887"
            ],
            [
             0.1111111111111111,
             "#46039f"
            ],
            [
             0.2222222222222222,
             "#7201a8"
            ],
            [
             0.3333333333333333,
             "#9c179e"
            ],
            [
             0.4444444444444444,
             "#bd3786"
            ],
            [
             0.5555555555555556,
             "#d8576b"
            ],
            [
             0.6666666666666666,
             "#ed7953"
            ],
            [
             0.7777777777777778,
             "#fb9f3a"
            ],
            [
             0.8888888888888888,
             "#fdca26"
            ],
            [
             1,
             "#f0f921"
            ]
           ],
           "sequentialminus": [
            [
             0,
             "#0d0887"
            ],
            [
             0.1111111111111111,
             "#46039f"
            ],
            [
             0.2222222222222222,
             "#7201a8"
            ],
            [
             0.3333333333333333,
             "#9c179e"
            ],
            [
             0.4444444444444444,
             "#bd3786"
            ],
            [
             0.5555555555555556,
             "#d8576b"
            ],
            [
             0.6666666666666666,
             "#ed7953"
            ],
            [
             0.7777777777777778,
             "#fb9f3a"
            ],
            [
             0.8888888888888888,
             "#fdca26"
            ],
            [
             1,
             "#f0f921"
            ]
           ]
          },
          "colorway": [
           "#636efa",
           "#EF553B",
           "#00cc96",
           "#ab63fa",
           "#FFA15A",
           "#19d3f3",
           "#FF6692",
           "#B6E880",
           "#FF97FF",
           "#FECB52"
          ],
          "font": {
           "color": "#2a3f5f"
          },
          "geo": {
           "bgcolor": "white",
           "lakecolor": "white",
           "landcolor": "#E5ECF6",
           "showlakes": true,
           "showland": true,
           "subunitcolor": "white"
          },
          "hoverlabel": {
           "align": "left"
          },
          "hovermode": "closest",
          "mapbox": {
           "style": "light"
          },
          "paper_bgcolor": "white",
          "plot_bgcolor": "#E5ECF6",
          "polar": {
           "angularaxis": {
            "gridcolor": "white",
            "linecolor": "white",
            "ticks": ""
           },
           "bgcolor": "#E5ECF6",
           "radialaxis": {
            "gridcolor": "white",
            "linecolor": "white",
            "ticks": ""
           }
          },
          "scene": {
           "xaxis": {
            "backgroundcolor": "#E5ECF6",
            "gridcolor": "white",
            "gridwidth": 2,
            "linecolor": "white",
            "showbackground": true,
            "ticks": "",
            "zerolinecolor": "white"
           },
           "yaxis": {
            "backgroundcolor": "#E5ECF6",
            "gridcolor": "white",
            "gridwidth": 2,
            "linecolor": "white",
            "showbackground": true,
            "ticks": "",
            "zerolinecolor": "white"
           },
           "zaxis": {
            "backgroundcolor": "#E5ECF6",
            "gridcolor": "white",
            "gridwidth": 2,
            "linecolor": "white",
            "showbackground": true,
            "ticks": "",
            "zerolinecolor": "white"
           }
          },
          "shapedefaults": {
           "line": {
            "color": "#2a3f5f"
           }
          },
          "ternary": {
           "aaxis": {
            "gridcolor": "white",
            "linecolor": "white",
            "ticks": ""
           },
           "baxis": {
            "gridcolor": "white",
            "linecolor": "white",
            "ticks": ""
           },
           "bgcolor": "#E5ECF6",
           "caxis": {
            "gridcolor": "white",
            "linecolor": "white",
            "ticks": ""
           }
          },
          "title": {
           "x": 0.05
          },
          "xaxis": {
           "automargin": true,
           "gridcolor": "white",
           "linecolor": "white",
           "ticks": "",
           "title": {
            "standoff": 15
           },
           "zerolinecolor": "white",
           "zerolinewidth": 2
          },
          "yaxis": {
           "automargin": true,
           "gridcolor": "white",
           "linecolor": "white",
           "ticks": "",
           "title": {
            "standoff": 15
           },
           "zerolinecolor": "white",
           "zerolinewidth": 2
          }
         }
        },
        "xaxis": {
         "anchor": "y",
         "domain": [
          0,
          1
         ],
         "title": {
          "text": "index"
         }
        },
        "yaxis": {
         "anchor": "x",
         "domain": [
          0,
          1
         ],
         "title": {
          "text": "value"
         }
        }
       }
      }
     },
     "metadata": {},
     "output_type": "display_data"
    }
   ],
   "source": [
    "fig = px.bar(tags_top_500.nlargest(40))\n",
    "fig.show()"
   ]
  },
  {
   "cell_type": "code",
   "execution_count": 50,
   "metadata": {},
   "outputs": [
    {
     "data": {
      "text/plain": [
       "(0.0, 50000.0)"
      ]
     },
     "execution_count": 50,
     "metadata": {},
     "output_type": "execute_result"
    },
    {
     "data": {
      "image/png": "[encoded data removed]",
      "text/plain": [
       "<Figure size 360x360 with 1 Axes>"
      ]
     },
     "metadata": {},
     "output_type": "display_data"
    }
   ],
   "source": [
    "sns.set_theme()\n",
    "ax = sns.displot(db['ViewCount'])\n",
    "plt.xlim(0,50000)\n"
   ]
  },
  {
   "cell_type": "code",
   "execution_count": 51,
   "metadata": {
    "id": "8ROEf0QG4o3a"
   },
   "outputs": [
    {
     "data": {
      "text/plain": [
       "(0.0, 40.0)"
      ]
     },
     "execution_count": 51,
     "metadata": {},
     "output_type": "execute_result"
    },
    {
     "data": {
      "image/png": "[encoded data removed]",
      "text/plain": [
       "<Figure size 360x360 with 1 Axes>"
      ]
     },
     "metadata": {},
     "output_type": "display_data"
    }
   ],
   "source": [
    "sns.set_theme()\n",
    "ax = sns.displot(db['Score'])\n",
    "plt.xlim(0,40)"
   ]
  },
  {
   "cell_type": "code",
   "execution_count": 52,
   "metadata": {},
   "outputs": [
    {
     "data": {
      "text/plain": [
       "(0.0, 20.0)"
      ]
     },
     "execution_count": 52,
     "metadata": {},
     "output_type": "execute_result"
    },
    {
     "data": {
      "image/png": "[encoded data removed]",
      "text/plain": [
       "<Figure size 360x360 with 1 Axes>"
      ]
     },
     "metadata": {},
     "output_type": "display_data"
    }
   ],
   "source": [
    "sns.set_theme()\n",
    "ax = sns.displot(db['CommentCount'])\n",
    "plt.xlim(0,20)"
   ]
  },
  {
   "cell_type": "markdown",
   "metadata": {
    "id": "P0DUgWsD4o3b",
    "tags": []
   },
   "source": [
    "# Supervised Learning"
   ]
  },
  {
   "cell_type": "code",
   "execution_count": 53,
   "metadata": {
    "id": "aSNBXucg4o3b"
   },
   "outputs": [],
   "source": [
    "from sklearn.model_selection import train_test_split\n",
    "from sklearn.feature_extraction.text import CountVectorizer, TfidfVectorizer\n",
    "from sklearn.preprocessing import MultiLabelBinarizer"
   ]
  },
  {
   "cell_type": "code",
   "execution_count": 54,
   "metadata": {
    "id": "KEztUe1w4o3b"
   },
   "outputs": [],
   "source": [
    "X = np.array(db['Post'])\n",
    "y = np.array(db['Tags'])"
   ]
  },
  {
   "cell_type": "code",
   "execution_count": 55,
   "metadata": {
    "colab": {
     "base_uri": "https://localhost:8080/"
    },
    "executionInfo": {
     "elapsed": 10,
     "status": "ok",
     "timestamp": 1637245625232,
     "user": {
      "displayName": "Alexandre Taillard de Vorms",
      "photoUrl": "https://lh3.googleusercontent.com/a/default-user=s64",
      "userId": "17158358651987272696"
     },
     "user_tz": -60
    },
    "id": "s_aPJLNO4o3b",
    "outputId": "a2205906-9d0c-468e-91ae-4eeb4bd9f602"
   },
   "outputs": [
    {
     "data": {
      "text/plain": [
       "(190858,)"
      ]
     },
     "execution_count": 55,
     "metadata": {},
     "output_type": "execute_result"
    }
   ],
   "source": [
    "y.shape"
   ]
  },
  {
   "cell_type": "code",
   "execution_count": 56,
   "metadata": {
    "id": "uwo9PAPm4o3b"
   },
   "outputs": [],
   "source": [
    "mlb = MultiLabelBinarizer()"
   ]
  },
  {
   "cell_type": "code",
   "execution_count": 57,
   "metadata": {
    "id": "K6ygir0P4o3b"
   },
   "outputs": [],
   "source": [
    "mlb.fit(y)\n",
    "y_encoded = mlb.transform(y)"
   ]
  },
  {
   "cell_type": "code",
   "execution_count": 58,
   "metadata": {
    "colab": {
     "base_uri": "https://localhost:8080/"
    },
    "executionInfo": {
     "elapsed": 8,
     "status": "ok",
     "timestamp": 1637245625233,
     "user": {
      "displayName": "Alexandre Taillard de Vorms",
      "photoUrl": "https://lh3.googleusercontent.com/a/default-user=s64",
      "userId": "17158358651987272696"
     },
     "user_tz": -60
    },
    "id": "_6D-AOuD4o3b",
    "outputId": "43166d20-161e-40a2-9e5d-ea72b3e3ab89"
   },
   "outputs": [
    {
     "data": {
      "text/plain": [
       "(190858, 500)"
      ]
     },
     "execution_count": 58,
     "metadata": {},
     "output_type": "execute_result"
    }
   ],
   "source": [
    "y_encoded.shape"
   ]
  },
  {
   "cell_type": "markdown",
   "metadata": {
    "id": "AzXr4zEf4o3b",
    "tags": []
   },
   "source": [
    "<h4>Utilisation de Bag of Words\n",
    "\n",
    "<a name='bow'>"
   ]
  },
  {
   "cell_type": "code",
   "execution_count": 59,
   "metadata": {
    "id": "9TJ5iTC14o3b"
   },
   "outputs": [],
   "source": [
    "vectorizer_X_BoW = CountVectorizer()\n",
    "\n",
    "\n",
    "X_bow = vectorizer_X_BoW.fit_transform(X)"
   ]
  },
  {
   "cell_type": "code",
   "execution_count": 60,
   "metadata": {
    "id": "l3YUWGlF4o3b"
   },
   "outputs": [],
   "source": [
    "X_train_bow, X_test_bow, y_train_bow, y_test_bow = train_test_split(X_bow, y_encoded, test_size = 0.20, random_state = 0) # Do 80/20 split"
   ]
  },
  {
   "cell_type": "markdown",
   "metadata": {
    "id": "iSontbcw4o3b"
   },
   "source": [
    "<h4> Utilisation de TF-IDF\n",
    "    <a name='tfidf'>"
   ]
  },
  {
   "cell_type": "code",
   "execution_count": 61,
   "metadata": {
    "id": "SYL2k2MR4o3c"
   },
   "outputs": [],
   "source": [
    "vectorizer_X = TfidfVectorizer(analyzer = 'word',\n",
    "                                       min_df=0.0,\n",
    "                                       max_df = 1.0,\n",
    "                                       strip_accents = None,\n",
    "                                       encoding = 'utf-8', \n",
    "                                       preprocessor=None,\n",
    "                                       token_pattern=r\"(?u)\\S\\S+\",\n",
    "                                       max_features=30000)"
   ]
  },
  {
   "cell_type": "code",
   "execution_count": 62,
   "metadata": {
    "id": "A2g993fz4o3c"
   },
   "outputs": [],
   "source": [
    "X_tfidf = vectorizer_X.fit_transform(X)"
   ]
  },
  {
   "cell_type": "code",
   "execution_count": 63,
   "metadata": {
    "colab": {
     "base_uri": "https://localhost:8080/"
    },
    "executionInfo": {
     "elapsed": 10,
     "status": "ok",
     "timestamp": 1637245629696,
     "user": {
      "displayName": "Alexandre Taillard de Vorms",
      "photoUrl": "https://lh3.googleusercontent.com/a/default-user=s64",
      "userId": "17158358651987272696"
     },
     "user_tz": -60
    },
    "id": "9mAoA7iv4o3c",
    "outputId": "b1ab8b87-f912-4a09-ccf6-dca4218f2c9f"
   },
   "outputs": [
    {
     "data": {
      "text/plain": [
       "(190858, 30000)"
      ]
     },
     "execution_count": 63,
     "metadata": {},
     "output_type": "execute_result"
    }
   ],
   "source": [
    "X_tfidf.shape"
   ]
  },
  {
   "cell_type": "code",
   "execution_count": 64,
   "metadata": {
    "id": "soH99AsQ4o3c"
   },
   "outputs": [],
   "source": [
    "X_train, X_test, y_train, y_test = train_test_split(X_tfidf, y_encoded, test_size = 0.20, random_state = 0) # Do 80/20 split"
   ]
  },
  {
   "cell_type": "code",
   "execution_count": 65,
   "metadata": {
    "colab": {
     "base_uri": "https://localhost:8080/"
    },
    "executionInfo": {
     "elapsed": 5,
     "status": "ok",
     "timestamp": 1637245629697,
     "user": {
      "displayName": "Alexandre Taillard de Vorms",
      "photoUrl": "https://lh3.googleusercontent.com/a/default-user=s64",
      "userId": "17158358651987272696"
     },
     "user_tz": -60
    },
    "id": "skgiKpmI4o3c",
    "outputId": "b6ddb865-c183-4ae2-fef0-a901f8a42cd5"
   },
   "outputs": [
    {
     "data": {
      "text/plain": [
       "(152686, 30000)"
      ]
     },
     "execution_count": 65,
     "metadata": {},
     "output_type": "execute_result"
    }
   ],
   "source": [
    "X_train.shape"
   ]
  },
  {
   "cell_type": "markdown",
   "metadata": {
    "id": "M1DcIVPT4o3c"
   },
   "source": [
    "<h4> Dimensionality reduction\n",
    "    <a name='reduction'>"
   ]
  },
  {
   "cell_type": "code",
   "execution_count": 66,
   "metadata": {
    "id": "yFRV7FWk4o3c"
   },
   "outputs": [],
   "source": [
    "from sklearn.decomposition import PCA, TruncatedSVD\n",
    "import matplotlib.pyplot as plt"
   ]
  },
  {
   "cell_type": "code",
   "execution_count": 67,
   "metadata": {},
   "outputs": [
    {
     "data": {
      "text/plain": [
       "TruncatedSVD(n_components=2500)"
      ]
     },
     "execution_count": 67,
     "metadata": {},
     "output_type": "execute_result"
    }
   ],
   "source": [
    "svd = TruncatedSVD(n_components=2500)\n",
    "svd.fit(X_train)\n",
    "#display_scree_plot(svd)"
   ]
  },
  {
   "cell_type": "code",
   "execution_count": 68,
   "metadata": {
    "id": "of1SBCGf4o3c"
   },
   "outputs": [],
   "source": [
    "X_train_svd = svd.transform(X_train)\n",
    "X_test_svd = svd.transform(X_test)"
   ]
  },
  {
   "cell_type": "markdown",
   "metadata": {
    "id": "XNX6hqak4o3c"
   },
   "source": [
    "<h4> Models \n",
    "    <a name = 'models'>"
   ]
  },
  {
   "cell_type": "code",
   "execution_count": 69,
   "metadata": {
    "id": "KrsJsM9J4o3d"
   },
   "outputs": [],
   "source": [
    "from sklearn.dummy import DummyClassifier\n",
    "from sklearn.multioutput import MultiOutputClassifier\n",
    "from sklearn.linear_model import SGDClassifier, LogisticRegression\n",
    "from sklearn.svm import LinearSVC\n",
    "from sklearn.model_selection import GridSearchCV\n",
    "from sklearn.naive_bayes import MultinomialNB\n",
    "from sklearn.ensemble import RandomForestClassifier\n",
    "from sklearn.metrics import accuracy_score, precision_score, recall_score, f1_score, hamming_loss, jaccard_score, make_scorer"
   ]
  },
  {
   "cell_type": "code",
   "execution_count": 70,
   "metadata": {
    "id": "AyeNkurT4o3d"
   },
   "outputs": [],
   "source": [
    "models_performance = {}"
   ]
  },
  {
   "cell_type": "markdown",
   "metadata": {
    "id": "7MRFRDW-4o3d"
   },
   "source": [
    "<h4> MultiOutputClassifier approach"
   ]
  },
  {
   "cell_type": "code",
   "execution_count": 71,
   "metadata": {
    "colab": {
     "base_uri": "https://localhost:8080/"
    },
    "executionInfo": {
     "elapsed": 128262,
     "status": "ok",
     "timestamp": 1637245965234,
     "user": {
      "displayName": "Alexandre Taillard de Vorms",
      "photoUrl": "https://lh3.googleusercontent.com/a/default-user=s64",
      "userId": "17158358651987272696"
     },
     "user_tz": -60
    },
    "id": "6t7BRBi54o3d",
    "outputId": "70b92483-ad2d-45b7-9aa2-0c2bc5b3ddeb"
   },
   "outputs": [
    {
     "name": "stderr",
     "output_type": "stream",
     "text": [
      "/home/efkant/anaconda3/envs/stack_tags/lib/python3.7/site-packages/sklearn/utils/deprecation.py:103: FutureWarning:\n",
      "\n",
      "`n_features_in_` is deprecated in 1.0 and will be removed in 1.2.\n",
      "\n",
      "/home/efkant/anaconda3/envs/stack_tags/lib/python3.7/site-packages/sklearn/metrics/_classification.py:1308: UndefinedMetricWarning:\n",
      "\n",
      "Precision is ill-defined and being set to 0.0 in labels with no predicted samples. Use `zero_division` parameter to control this behavior.\n",
      "\n",
      "/home/efkant/anaconda3/envs/stack_tags/lib/python3.7/site-packages/sklearn/metrics/_classification.py:1308: UndefinedMetricWarning:\n",
      "\n",
      "Precision is ill-defined and being set to 0.0 in labels with no predicted samples. Use `zero_division` parameter to control this behavior.\n",
      "\n"
     ]
    },
    {
     "data": {
      "text/html": [
       "<div>\n",
       "<style scoped>\n",
       "    .dataframe tbody tr th:only-of-type {\n",
       "        vertical-align: middle;\n",
       "    }\n",
       "\n",
       "    .dataframe tbody tr th {\n",
       "        vertical-align: top;\n",
       "    }\n",
       "\n",
       "    .dataframe thead th {\n",
       "        text-align: right;\n",
       "    }\n",
       "</style>\n",
       "<table border=\"1\" class=\"dataframe\">\n",
       "  <thead>\n",
       "    <tr style=\"text-align: right;\">\n",
       "      <th></th>\n",
       "      <th>DummyClassifier</th>\n",
       "      <th>SGDClassifier</th>\n",
       "    </tr>\n",
       "  </thead>\n",
       "  <tbody>\n",
       "    <tr>\n",
       "      <th>Accuracy</th>\n",
       "      <td>0.0</td>\n",
       "      <td>0.167295</td>\n",
       "    </tr>\n",
       "    <tr>\n",
       "      <th>F1</th>\n",
       "      <td>0.0</td>\n",
       "      <td>0.689912</td>\n",
       "    </tr>\n",
       "    <tr>\n",
       "      <th>Jaccard</th>\n",
       "      <td>0.0</td>\n",
       "      <td>0.338312</td>\n",
       "    </tr>\n",
       "    <tr>\n",
       "      <th>Recall</th>\n",
       "      <td>0.0</td>\n",
       "      <td>0.366058</td>\n",
       "    </tr>\n",
       "    <tr>\n",
       "      <th>Precision</th>\n",
       "      <td>0.0</td>\n",
       "      <td>0.647289</td>\n",
       "    </tr>\n",
       "  </tbody>\n",
       "</table>\n",
       "</div>"
      ],
      "text/plain": [
       "           DummyClassifier  SGDClassifier\n",
       "Accuracy               0.0       0.167295\n",
       "F1                     0.0       0.689912\n",
       "Jaccard                0.0       0.338312\n",
       "Recall                 0.0       0.366058\n",
       "Precision              0.0       0.647289"
      ]
     },
     "execution_count": 71,
     "metadata": {},
     "output_type": "execute_result"
    }
   ],
   "source": [
    "dummy = DummyClassifier()\n",
    "sgd = SGDClassifier(n_jobs=-1)\n",
    "svc = LinearSVC()\n",
    "\n",
    "metrics_results = pd.DataFrame(index=[\"Accuracy\", \"F1\",\"Jaccard\", \"Recall\",\"Precision\"])\n",
    "\n",
    "for classifier in [dummy,sgd]:\n",
    "    clf = MultiOutputClassifier(classifier,n_jobs=-1)\n",
    "    clf.fit(X_train_svd, y_train)\n",
    "    y_pred = clf.predict(X_test_svd)\n",
    "    metrics_score(classifier.__class__.__name__,df=metrics_results,y_true=y_test,y_pred = y_pred)\n",
    "metrics_results"
   ]
  },
  {
   "cell_type": "code",
   "execution_count": 72,
   "metadata": {
    "id": "u364i_jrTiC1"
   },
   "outputs": [],
   "source": [
    "opt_clf = MultiOutputClassifier(sgd,n_jobs=-1)"
   ]
  },
  {
   "cell_type": "code",
   "execution_count": 73,
   "metadata": {
    "id": "DUPVWouIWCkd"
   },
   "outputs": [
    {
     "data": {
      "text/plain": [
       "{'estimator__alpha': 0.0001,\n",
       " 'estimator__average': False,\n",
       " 'estimator__class_weight': None,\n",
       " 'estimator__early_stopping': False,\n",
       " 'estimator__epsilon': 0.1,\n",
       " 'estimator__eta0': 0.0,\n",
       " 'estimator__fit_intercept': True,\n",
       " 'estimator__l1_ratio': 0.15,\n",
       " 'estimator__learning_rate': 'optimal',\n",
       " 'estimator__loss': 'hinge',\n",
       " 'estimator__max_iter': 1000,\n",
       " 'estimator__n_iter_no_change': 5,\n",
       " 'estimator__n_jobs': -1,\n",
       " 'estimator__penalty': 'l2',\n",
       " 'estimator__power_t': 0.5,\n",
       " 'estimator__random_state': None,\n",
       " 'estimator__shuffle': True,\n",
       " 'estimator__tol': 0.001,\n",
       " 'estimator__validation_fraction': 0.1,\n",
       " 'estimator__verbose': 0,\n",
       " 'estimator__warm_start': False,\n",
       " 'estimator': SGDClassifier(n_jobs=-1),\n",
       " 'n_jobs': -1}"
      ]
     },
     "execution_count": 73,
     "metadata": {},
     "output_type": "execute_result"
    }
   ],
   "source": [
    "opt_clf.get_params()"
   ]
  },
  {
   "cell_type": "code",
   "execution_count": 74,
   "metadata": {
    "id": "uq4Q3pJNcUPx"
   },
   "outputs": [],
   "source": [
    "params = {\n",
    "    'estimator__alpha':[1e-4, 1e-2, 1e-1],\n",
    "    'estimator__l1_ratio':[0,0.1,0.2,0.5,0.8],\n",
    "    'estimator__learning_rate': ['optimal'],\n",
    "}"
   ]
  },
  {
   "cell_type": "code",
   "execution_count": 75,
   "metadata": {
    "id": "-j_xmUYrVqyb"
   },
   "outputs": [],
   "source": [
    "#grid_opt_clf = GridSearchCV(opt_clf,\n",
    "#                              param_grid=params,\n",
    "#                              n_jobs=-1,\n",
    "#                              scoring=make_scorer(scorer_jaccard),\n",
    "#                              verbose=False,\n",
    "#                              cv=2,\n",
    "#                              refit=True\n",
    "#                             )\n",
    "#grid_opt_clf.fit(X_train_svd, y_train)"
   ]
  },
  {
   "cell_type": "code",
   "execution_count": 76,
   "metadata": {
    "id": "IA3mjFcCdjPJ"
   },
   "outputs": [],
   "source": [
    "#grid_opt_clf.best_params_, grid_opt_clf.best_score_"
   ]
  },
  {
   "cell_type": "code",
   "execution_count": 77,
   "metadata": {},
   "outputs": [],
   "source": [
    "#y_pred = grid_opt_clf.predict(X_test_svd)\n",
    "#metrics_score('Grid_opt_clf',df=metrics_results,y_true=y_test,y_pred = y_pred)\n",
    "#metrics_score"
   ]
  },
  {
   "cell_type": "code",
   "execution_count": 78,
   "metadata": {},
   "outputs": [
    {
     "data": {
      "text/html": [
       "<div>\n",
       "<style scoped>\n",
       "    .dataframe tbody tr th:only-of-type {\n",
       "        vertical-align: middle;\n",
       "    }\n",
       "\n",
       "    .dataframe tbody tr th {\n",
       "        vertical-align: top;\n",
       "    }\n",
       "\n",
       "    .dataframe thead th {\n",
       "        text-align: right;\n",
       "    }\n",
       "</style>\n",
       "<table border=\"1\" class=\"dataframe\">\n",
       "  <thead>\n",
       "    <tr style=\"text-align: right;\">\n",
       "      <th></th>\n",
       "      <th>DummyClassifier</th>\n",
       "      <th>SGDClassifier</th>\n",
       "    </tr>\n",
       "  </thead>\n",
       "  <tbody>\n",
       "    <tr>\n",
       "      <th>Accuracy</th>\n",
       "      <td>0.0</td>\n",
       "      <td>0.167295</td>\n",
       "    </tr>\n",
       "    <tr>\n",
       "      <th>F1</th>\n",
       "      <td>0.0</td>\n",
       "      <td>0.689912</td>\n",
       "    </tr>\n",
       "    <tr>\n",
       "      <th>Jaccard</th>\n",
       "      <td>0.0</td>\n",
       "      <td>0.338312</td>\n",
       "    </tr>\n",
       "    <tr>\n",
       "      <th>Recall</th>\n",
       "      <td>0.0</td>\n",
       "      <td>0.366058</td>\n",
       "    </tr>\n",
       "    <tr>\n",
       "      <th>Precision</th>\n",
       "      <td>0.0</td>\n",
       "      <td>0.647289</td>\n",
       "    </tr>\n",
       "  </tbody>\n",
       "</table>\n",
       "</div>"
      ],
      "text/plain": [
       "           DummyClassifier  SGDClassifier\n",
       "Accuracy               0.0       0.167295\n",
       "F1                     0.0       0.689912\n",
       "Jaccard                0.0       0.338312\n",
       "Recall                 0.0       0.366058\n",
       "Precision              0.0       0.647289"
      ]
     },
     "execution_count": 78,
     "metadata": {},
     "output_type": "execute_result"
    }
   ],
   "source": [
    "metrics_results"
   ]
  },
  {
   "cell_type": "code",
   "execution_count": 79,
   "metadata": {
    "id": "4tkExEk5OdOg"
   },
   "outputs": [],
   "source": [
    "y_pred_supervised = mlb.inverse_transform(y_pred)"
   ]
  },
  {
   "cell_type": "code",
   "execution_count": 80,
   "metadata": {
    "id": "3khOKFGiMfeM"
   },
   "outputs": [],
   "source": [
    "y_test_labels = mlb.inverse_transform(y_test)"
   ]
  },
  {
   "cell_type": "code",
   "execution_count": 81,
   "metadata": {
    "colab": {
     "base_uri": "https://localhost:8080/"
    },
    "executionInfo": {
     "elapsed": 18,
     "status": "ok",
     "timestamp": 1637245965239,
     "user": {
      "displayName": "Alexandre Taillard de Vorms",
      "photoUrl": "https://lh3.googleusercontent.com/a/default-user=s64",
      "userId": "17158358651987272696"
     },
     "user_tz": -60
    },
    "id": "IO6FXqlfVbCy",
    "outputId": "5f33f68e-89f2-4757-b7aa-001b9efaa53f"
   },
   "outputs": [
    {
     "data": {
      "text/html": [
       "<div>\n",
       "<style scoped>\n",
       "    .dataframe tbody tr th:only-of-type {\n",
       "        vertical-align: middle;\n",
       "    }\n",
       "\n",
       "    .dataframe tbody tr th {\n",
       "        vertical-align: top;\n",
       "    }\n",
       "\n",
       "    .dataframe thead th {\n",
       "        text-align: right;\n",
       "    }\n",
       "</style>\n",
       "<table border=\"1\" class=\"dataframe\">\n",
       "  <thead>\n",
       "    <tr style=\"text-align: right;\">\n",
       "      <th></th>\n",
       "      <th>Test labels</th>\n",
       "      <th>Supervised predicted labels</th>\n",
       "    </tr>\n",
       "  </thead>\n",
       "  <tbody>\n",
       "    <tr>\n",
       "      <th>0</th>\n",
       "      <td>(java, web-scraping)</td>\n",
       "      <td>()</td>\n",
       "    </tr>\n",
       "    <tr>\n",
       "      <th>1</th>\n",
       "      <td>(python, python-3.x)</td>\n",
       "      <td>()</td>\n",
       "    </tr>\n",
       "    <tr>\n",
       "      <th>2</th>\n",
       "      <td>(batch-file, cmd, powershell, windows)</td>\n",
       "      <td>(powershell,)</td>\n",
       "    </tr>\n",
       "    <tr>\n",
       "      <th>3</th>\n",
       "      <td>(angular, javascript, pdf)</td>\n",
       "      <td>()</td>\n",
       "    </tr>\n",
       "    <tr>\n",
       "      <th>4</th>\n",
       "      <td>(android,)</td>\n",
       "      <td>(android,)</td>\n",
       "    </tr>\n",
       "    <tr>\n",
       "      <th>...</th>\n",
       "      <td>...</td>\n",
       "      <td>...</td>\n",
       "    </tr>\n",
       "    <tr>\n",
       "      <th>38167</th>\n",
       "      <td>(java, project-reactor, rest, spring, spring-w...</td>\n",
       "      <td>(java, spring-webflux)</td>\n",
       "    </tr>\n",
       "    <tr>\n",
       "      <th>38168</th>\n",
       "      <td>(plot, python)</td>\n",
       "      <td>(python,)</td>\n",
       "    </tr>\n",
       "    <tr>\n",
       "      <th>38169</th>\n",
       "      <td>(docker,)</td>\n",
       "      <td>()</td>\n",
       "    </tr>\n",
       "    <tr>\n",
       "      <th>38170</th>\n",
       "      <td>(angular, css)</td>\n",
       "      <td>(angular,)</td>\n",
       "    </tr>\n",
       "    <tr>\n",
       "      <th>38171</th>\n",
       "      <td>(material-ui, reactjs, typescript)</td>\n",
       "      <td>(reactjs,)</td>\n",
       "    </tr>\n",
       "  </tbody>\n",
       "</table>\n",
       "<p>38172 rows × 2 columns</p>\n",
       "</div>"
      ],
      "text/plain": [
       "                                             Test labels  \\\n",
       "0                                   (java, web-scraping)   \n",
       "1                                   (python, python-3.x)   \n",
       "2                 (batch-file, cmd, powershell, windows)   \n",
       "3                             (angular, javascript, pdf)   \n",
       "4                                             (android,)   \n",
       "...                                                  ...   \n",
       "38167  (java, project-reactor, rest, spring, spring-w...   \n",
       "38168                                     (plot, python)   \n",
       "38169                                          (docker,)   \n",
       "38170                                     (angular, css)   \n",
       "38171                 (material-ui, reactjs, typescript)   \n",
       "\n",
       "      Supervised predicted labels  \n",
       "0                              ()  \n",
       "1                              ()  \n",
       "2                   (powershell,)  \n",
       "3                              ()  \n",
       "4                      (android,)  \n",
       "...                           ...  \n",
       "38167      (java, spring-webflux)  \n",
       "38168                   (python,)  \n",
       "38169                          ()  \n",
       "38170                  (angular,)  \n",
       "38171                  (reactjs,)  \n",
       "\n",
       "[38172 rows x 2 columns]"
      ]
     },
     "execution_count": 81,
     "metadata": {},
     "output_type": "execute_result"
    }
   ],
   "source": [
    "test_labels = pd.Series(y_test_labels)\n",
    "y_pred_supervised = pd.Series(y_pred_supervised)\n",
    "\n",
    "Results = pd.concat([test_labels, y_pred_supervised], axis=1) \n",
    "Results.rename(columns={0 : 'Test labels', 1 : 'Supervised predicted labels'}, inplace=True)\n",
    "Results"
   ]
  },
  {
   "cell_type": "markdown",
   "metadata": {
    "id": "Bv5sf69m4o3d",
    "tags": []
   },
   "source": [
    "# Unsupervised Learning"
   ]
  },
  {
   "cell_type": "markdown",
   "metadata": {
    "id": "j902khFF4o3d"
   },
   "source": [
    "<h4> LDA Multicore using Gensim\n",
    "    <a name=\"lda\">"
   ]
  },
  {
   "cell_type": "code",
   "execution_count": 82,
   "metadata": {
    "id": "OgcrXQwo4o3d"
   },
   "outputs": [],
   "source": [
    "import gensim\n",
    "from gensim.models import TfidfModel\n",
    "import gensim.corpora as corpora\n",
    "from gensim import models\n",
    "from gensim.models.ldamulticore import LdaMulticore\n",
    "from gensim.models import CoherenceModel\n",
    "import math"
   ]
  },
  {
   "cell_type": "code",
   "execution_count": 83,
   "metadata": {
    "id": "zWrCneYq4o3d"
   },
   "outputs": [],
   "source": [
    "texts = db['Post'].apply(lambda x : x.split(' '))\n",
    "id2word = corpora.Dictionary(texts)\n",
    "id2word.filter_extremes(no_below=100)\n",
    "bow_corpus = [id2word.doc2bow(text) for text in texts]"
   ]
  },
  {
   "cell_type": "code",
   "execution_count": 84,
   "metadata": {
    "id": "Unn9eqNm4o3e",
    "tags": []
   },
   "outputs": [],
   "source": [
    "model = LdaMulticore(corpus=bow_corpus,\n",
    "                            id2word=id2word,\n",
    "                            num_topics=20, \n",
    "                            random_state=42,\n",
    "                            passes=10,\n",
    "                            workers=7)"
   ]
  },
  {
   "cell_type": "code",
   "execution_count": 85,
   "metadata": {
    "colab": {
     "base_uri": "https://localhost:8080/"
    },
    "executionInfo": {
     "elapsed": 56664,
     "status": "ok",
     "timestamp": 1637246103575,
     "user": {
      "displayName": "Alexandre Taillard de Vorms",
      "photoUrl": "https://lh3.googleusercontent.com/a/default-user=s64",
      "userId": "17158358651987272696"
     },
     "user_tz": -60
    },
    "id": "weA8fYCx4o3e",
    "outputId": "c21b4598-4d20-4544-8146-e5566d79d167"
   },
   "outputs": [
    {
     "data": {
      "text/plain": [
       "0.5990236985185835"
      ]
     },
     "execution_count": 85,
     "metadata": {},
     "output_type": "execute_result"
    }
   ],
   "source": [
    "coherencemodel = CoherenceModel(model=model, texts=texts, dictionary=id2word, coherence='c_v')\n",
    "coherencemodel.get_coherence()"
   ]
  },
  {
   "cell_type": "code",
   "execution_count": 86,
   "metadata": {
    "colab": {
     "base_uri": "https://localhost:8080/"
    },
    "executionInfo": {
     "elapsed": 13660,
     "status": "ok",
     "timestamp": 1637246117213,
     "user": {
      "displayName": "Alexandre Taillard de Vorms",
      "photoUrl": "https://lh3.googleusercontent.com/a/default-user=s64",
      "userId": "17158358651987272696"
     },
     "user_tz": -60
    },
    "id": "TAswt0gA5cU_",
    "outputId": "fd9ec568-ed55-4aee-d0df-657c3bb5212c"
   },
   "outputs": [
    {
     "data": {
      "text/plain": [
       "0.00954846150412107"
      ]
     },
     "execution_count": 86,
     "metadata": {},
     "output_type": "execute_result"
    }
   ],
   "source": [
    "perplexity = model.log_perplexity(bow_corpus)\n",
    "math.pow(2,perplexity)"
   ]
  },
  {
   "cell_type": "code",
   "execution_count": 87,
   "metadata": {
    "colab": {
     "base_uri": "https://localhost:8080/"
    },
    "executionInfo": {
     "elapsed": 15,
     "status": "ok",
     "timestamp": 1637246117214,
     "user": {
      "displayName": "Alexandre Taillard de Vorms",
      "photoUrl": "https://lh3.googleusercontent.com/a/default-user=s64",
      "userId": "17158358651987272696"
     },
     "user_tz": -60
    },
    "id": "1tcs_NCX4o3e",
    "outputId": "df27e460-375a-4655-e91f-95eb092f3fad"
   },
   "outputs": [
    {
     "data": {
      "text/plain": [
       "[(0,\n",
       "  '0.019*\"time\" + 0.013*\"way\" + 0.012*\"would\" + 0.012*\"like\" + 0.012*\"one\" + 0.008*\"need\" + 0.008*\"data\" + 0.008*\"work\" + 0.007*\"change\" + 0.007*\"question\"'),\n",
       " (1,\n",
       "  '0.049*\"self\" + 0.033*\"view\" + 0.024*\"var\" + 0.019*\"let\" + 0.015*\"video\" + 0.013*\"swiftui\" + 0.012*\"text\" + 0.011*\"frame\" + 0.011*\"func\" + 0.010*\"ios\"'),\n",
       " (2,\n",
       "  '0.048*\"request\" + 0.044*\"api\" + 0.029*\"http\" + 0.029*\"response\" + 0.027*\"url\" + 0.022*\"get\" + 0.020*\"json\" + 0.019*\"com\" + 0.018*\"https\" + 0.017*\"error\"'),\n",
       " (3,\n",
       "  '0.039*\"const\" + 0.038*\"react\" + 0.034*\"component\" + 0.028*\"import\" + 0.019*\"state\" + 0.018*\"return\" + 0.016*\"console\" + 0.016*\"export\" + 0.015*\"prop\" + 0.014*\"angular\"'),\n",
       " (4,\n",
       "  '0.040*\"spring\" + 0.038*\"org\" + 0.026*\"springframework\" + 0.024*\"public\" + 0.023*\"boot\" + 0.023*\"class\" + 0.022*\"jar\" + 0.022*\"release\" + 0.018*\"java\" + 0.017*\"dependency\"'),\n",
       " (5,\n",
       "  '0.029*\"value\" + 0.026*\"string\" + 0.022*\"list\" + 0.021*\"data\" + 0.016*\"table\" + 0.015*\"array\" + 0.014*\"name\" + 0.013*\"get\" + 0.012*\"row\" + 0.012*\"date\"'),\n",
       " (6,\n",
       "  '0.028*\"type\" + 0.019*\"int\" + 0.017*\"function\" + 0.016*\"include\" + 0.015*\"std\" + 0.013*\"error\" + 0.012*\"git\" + 0.010*\"return\" + 0.010*\"string\" + 0.010*\"code\"'),\n",
       " (7,\n",
       "  '0.027*\"build\" + 0.021*\"version\" + 0.021*\"error\" + 0.019*\"project\" + 0.017*\"run\" + 0.014*\"package\" + 0.014*\"app\" + 0.013*\"find\" + 0.013*\"install\" + 0.011*\"windows\"'),\n",
       " (8,\n",
       "  '0.079*\"android\" + 0.025*\"flutter\" + 0.024*\"layout\" + 0.021*\"app\" + 0.014*\"widget\" + 0.014*\"context\" + 0.013*\"override\" + 0.013*\"child\" + 0.012*\"new\" + 0.012*\"view\"'),\n",
       " (9,\n",
       "  '0.063*\"user\" + 0.023*\"aws\" + 0.019*\"token\" + 0.019*\"password\" + 0.017*\"email\" + 0.017*\"login\" + 0.015*\"auth\" + 0.013*\"access\" + 0.012*\"username\" + 0.012*\"key\"'),\n",
       " (10,\n",
       "  '0.033*\"class\" + 0.031*\"form\" + 0.027*\"name\" + 0.023*\"field\" + 0.022*\"value\" + 0.022*\"input\" + 0.020*\"model\" + 0.020*\"type\" + 0.015*\"data\" + 0.013*\"div\"'),\n",
       " (11,\n",
       "  '0.028*\"docker\" + 0.023*\"net\" + 0.022*\"service\" + 0.018*\"core\" + 0.017*\"run\" + 0.016*\"app\" + 0.015*\"name\" + 0.014*\"container\" + 0.014*\"azure\" + 0.012*\"microsoft\"'),\n",
       " (12,\n",
       "  '0.058*\"test\" + 0.034*\"google\" + 0.028*\"message\" + 0.023*\"task\" + 0.022*\"function\" + 0.021*\"firebase\" + 0.015*\"run\" + 0.014*\"async\" + 0.012*\"cloud\" + 0.012*\"await\"'),\n",
       " (13,\n",
       "  '0.045*\"server\" + 0.028*\"connect\" + 0.025*\"connection\" + 0.022*\"client\" + 0.019*\"php\" + 0.015*\"kafka\" + 0.014*\"mysql\" + 0.013*\"ssl\" + 0.011*\"certificate\" + 0.011*\"database\"'),\n",
       " (14,\n",
       "  '0.099*\"file\" + 0.016*\"path\" + 0.015*\"read\" + 0.013*\"script\" + 0.012*\"get\" + 0.012*\"data\" + 0.012*\"open\" + 0.011*\"try\" + 0.011*\"upload\" + 0.010*\"new\"'),\n",
       " (15,\n",
       "  '0.079*\"python\" + 0.043*\"lib\" + 0.036*\"file\" + 0.033*\"line\" + 0.029*\"package\" + 0.021*\"import\" + 0.021*\"local\" + 0.020*\"site\" + 0.017*\"usr\" + 0.016*\"users\"'),\n",
       " (16,\n",
       "  '0.142*\"java\" + 0.062*\"org\" + 0.029*\"apache\" + 0.025*\"com\" + 0.024*\"spark\" + 0.022*\"gradle\" + 0.022*\"internal\" + 0.015*\"lang\" + 0.013*\"scala\" + 0.013*\"run\"'),\n",
       " (17,\n",
       "  '0.047*\"node\" + 0.028*\"modules\" + 0.022*\"module\" + 0.021*\"react\" + 0.021*\"app\" + 0.018*\"npm\" + 0.016*\"angular\" + 0.014*\"error\" + 0.013*\"file\" + 0.013*\"build\"'),\n",
       " (18,\n",
       "  '0.025*\"div\" + 0.021*\"color\" + 0.021*\"image\" + 0.019*\"text\" + 0.017*\"class\" + 0.016*\"style\" + 0.013*\"width\" + 0.013*\"button\" + 0.010*\"height\" + 0.009*\"html\"'),\n",
       " (19,\n",
       "  '0.034*\"model\" + 0.018*\"train\" + 0.016*\"input\" + 0.015*\"image\" + 0.014*\"tensorflow\" + 0.014*\"layer\" + 0.013*\"import\" + 0.013*\"size\" + 0.012*\"self\" + 0.012*\"data\"')]"
      ]
     },
     "execution_count": 87,
     "metadata": {},
     "output_type": "execute_result"
    }
   ],
   "source": [
    "model.print_topics()"
   ]
  },
  {
   "cell_type": "code",
   "execution_count": 88,
   "metadata": {
    "id": "_jc0MdyT4o3e"
   },
   "outputs": [],
   "source": [
    "import pyLDAvis.gensim_models"
   ]
  },
  {
   "cell_type": "code",
   "execution_count": 89,
   "metadata": {
    "colab": {
     "base_uri": "https://localhost:8080/"
    },
    "executionInfo": {
     "elapsed": 10523,
     "status": "ok",
     "timestamp": 1637246127724,
     "user": {
      "displayName": "Alexandre Taillard de Vorms",
      "photoUrl": "https://lh3.googleusercontent.com/a/default-user=s64",
      "userId": "17158358651987272696"
     },
     "user_tz": -60
    },
    "id": "UeuCAqH84o3e",
    "outputId": "7b188fab-75c3-45e0-b0be-bb02efa43e19"
   },
   "outputs": [
    {
     "name": "stderr",
     "output_type": "stream",
     "text": [
      "/home/efkant/anaconda3/envs/stack_tags/lib/python3.7/site-packages/pyLDAvis/_prepare.py:247: FutureWarning:\n",
      "\n",
      "In a future version of pandas all arguments of DataFrame.drop except for the argument 'labels' will be keyword-only\n",
      "\n",
      "/home/efkant/anaconda3/envs/stack_tags/lib/python3.7/site-packages/past/builtins/misc.py:45: DeprecationWarning: the imp module is deprecated in favour of importlib; see the module's documentation for alternative uses\n",
      "  from imp import reload\n",
      "/home/efkant/anaconda3/envs/stack_tags/lib/python3.7/site-packages/past/builtins/misc.py:45: DeprecationWarning: the imp module is deprecated in favour of importlib; see the module's documentation for alternative uses\n",
      "  from imp import reload\n",
      "/home/efkant/anaconda3/envs/stack_tags/lib/python3.7/site-packages/past/builtins/misc.py:45: DeprecationWarning: the imp module is deprecated in favour of importlib; see the module's documentation for alternative uses\n",
      "  from imp import reload\n",
      "/home/efkant/anaconda3/envs/stack_tags/lib/python3.7/site-packages/past/builtins/misc.py:45: DeprecationWarning: the imp module is deprecated in favour of importlib; see the module's documentation for alternative uses\n",
      "  from imp import reload\n",
      "/home/efkant/anaconda3/envs/stack_tags/lib/python3.7/site-packages/past/builtins/misc.py:45: DeprecationWarning: the imp module is deprecated in favour of importlib; see the module's documentation for alternative uses\n",
      "  from imp import reload\n",
      "/home/efkant/anaconda3/envs/stack_tags/lib/python3.7/site-packages/past/builtins/misc.py:45: DeprecationWarning: the imp module is deprecated in favour of importlib; see the module's documentation for alternative uses\n",
      "  from imp import reload\n",
      "/home/efkant/anaconda3/envs/stack_tags/lib/python3.7/site-packages/past/builtins/misc.py:45: DeprecationWarning: the imp module is deprecated in favour of importlib; see the module's documentation for alternative uses\n",
      "  from imp import reload\n",
      "/home/efkant/anaconda3/envs/stack_tags/lib/python3.7/site-packages/past/builtins/misc.py:45: DeprecationWarning: the imp module is deprecated in favour of importlib; see the module's documentation for alternative uses\n",
      "  from imp import reload\n"
     ]
    },
    {
     "data": {
      "text/html": [
       "\n",
       "<link rel=\"stylesheet\" type=\"text/css\" href=\"https://cdn.jsdelivr.net/gh/bmabey/pyLDAvis@3.3.1/pyLDAvis/js/ldavis.v1.0.0.css\">\n",
       "\n",
       "\n",
       "<div id=\"ldavis_el155541397178647610405432275326\"></div>\n",
       "<script type=\"text/javascript\">\n",
       "\n",
       "var ldavis_el155541397178647610405432275326_data = {\"mdsDat\": {\"x\": [-0.17510740070839492, -0.10271572709357095, -0.20792936407908352, 0.12969454705547645, 0.12403337871060052, -0.09953474935201893, 0.0297596189410449, -0.16204904072284618, -0.0584919087158237, 0.013235929477952131, -0.11738278043285516, -0.04977719308242341, 0.12326096033320073, 0.16568073517460577, -0.008548645426931097, 0.003157705544200155, 0.212882517357928, 0.28546225905253875, 0.05196839189158485, -0.15759923392518446], \"y\": [0.014318042910503993, -0.12832259778192875, 0.08313448443306792, -0.12501918751746643, -0.0509782224703073, 0.036451197966057704, -0.03200888052668285, 0.07764500029265614, 0.22449410537041814, -0.11847826067245235, -0.021219844121115754, -0.05500204289518958, -0.0893459485922002, -0.14213022207086629, -0.010558523779964137, -0.05745252166799056, 0.22831857404677686, 0.19080698091178525, -0.07884168711679665, 0.054189553281695474], \"topics\": [1, 2, 3, 4, 5, 6, 7, 8, 9, 10, 11, 12, 13, 14, 15, 16, 17, 18, 19, 20], \"cluster\": [1, 1, 1, 1, 1, 1, 1, 1, 1, 1, 1, 1, 1, 1, 1, 1, 1, 1, 1, 1], \"Freq\": [8.575446391692578, 8.066014212280864, 6.5278720630075355, 6.173395111400756, 5.390295472420003, 5.13278199513284, 4.977163766544443, 4.914065139469163, 4.8745267262424035, 4.728923630520033, 4.667677503847762, 4.660930526645804, 4.441529924710349, 4.3206524736015774, 4.243235011677379, 4.168243603853331, 3.7315106054229803, 3.5942978204302407, 3.5130931559227094, 3.298344865177242]}, \"tinfo\": {\"Term\": [\"java\", \"file\", \"android\", \"python\", \"org\", \"user\", \"react\", \"self\", \"test\", \"request\", \"node\", \"lib\", \"model\", \"api\", \"const\", \"server\", \"class\", \"component\", \"div\", \"spring\", \"import\", \"package\", \"value\", \"app\", \"form\", \"docker\", \"view\", \"google\", \"flutter\", \"response\", \"groupby\", \"nums\", \"dictionaries\", \"subquery\", \"colorbar\", \"comprehension\", \"'month'\", \"ifelse\", \"cumsum\", \"compareto\", \"salary\", \"lon\", \"dplyr\", \"pivot\", \"boxplot\", \"ay'\", \"nvarchar\", \"banana\", \"decimal\", \"'b'\", \"tbl\", \"sales\", \"'c'\", \"'group'\", \"polygons\", \"cbind\", \"dataframe\", \"summarise\", \"'count'\", \"crs\", \"tibble\", \"columns\", \"dictionary\", \"month\", \"arr\", \"year\", \"dataframes\", \"column\", \"varchar\", \"pandas\", \"date\", \"datetime\", \"'a'\", \"table\", \"integer\", \"mutate\", \"query\", \"array\", \"sort\", \"sum\", \"list\", \"row\", \"count\", \"insert\", \"value\", \"number\", \"string\", \"map\", \"timestamp\", \"filter\", \"data\", \"object\", \"range\", \"convert\", \"key\", \"index\", \"int\", \"name\", \"select\", \"result\", \"get\", \"return\", \"null\", \"json\", \"new\", \"like\", \"would\", \"try\", \"bitrate\", \"eax\", \"multithreading\", \"ffmpeg\", \"throughput\", \"spike\", \"pros\", \"redshift\", \"overhead\", \"intensive\", \"slow\", \"ram\", \"yuv\", \"libx\", \"optimise\", \"performance\", \"utilization\", \"incredibly\", \"heap\", \"benefit\", \"expensive\", \"huge\", \"disadvantage\", \"impact\", \"slower\", \"massive\", \"memory\", \"extremely\", \"consistency\", \"waste\", \"leak\", \"million\", \"significant\", \"speed\", \"increase\", \"allocation\", \"large\", \"difference\", \"best\", \"time\", \"faster\", \"limit\", \"fast\", \"usage\", \"practice\", \"way\", \"lock\", \"parallel\", \"approach\", \"question\", \"better\", \"across\", \"take\", \"much\", \"lot\", \"high\", \"every\", \"one\", \"possible\", \"multiple\", \"second\", \"different\", \"think\", \"understand\", \"seem\", \"would\", \"like\", \"need\", \"know\", \"without\", \"change\", \"also\", \"look\", \"process\", \"make\", \"want\", \"something\", \"work\", \"see\", \"data\", \"problem\", \"create\", \"two\", \"code\", \"find\", \"read\", \"try\", \"set\", \"rgba\", \"'rgba\", \"serif\", \"matcolumndef\", \"dolor\", \"matcelldef\", \"matheadercelldef\", \"amet\", \"keyframes\", \"shinyapp\", \"lorem\", \"viewbox\", \"border\", \"helvetica\", \"stackpath\", \"fluidpage\", \"tooltips\", \"horizontalalignment\", \"nowrap\", \"elit\", \"consectetur\", \"toggler\", \"openstreetmap\", \"translatey\", \"accordion\", \"bootstrapcdn\", \"yaxes\", \"ipsum\", \"matrowdef\", \"matheaderrowdef\", \"slide\", \"leaflet\", \"hover\", \"viewport\", \"shiny\", \"draggable\", \"flex\", \"responsive\", \"tooltip\", \"divs\", \"marker\", \"align\", \"carousel\", \"shadow\", \"stroke\", \"canvas\", \"radius\", \"colour\", \"scrollbar\", \"grid\", \"font\", \"opacity\", \"tile\", \"color\", \"margin\", \"collapse\", \"dark\", \"solid\", \"circle\", \"slider\", \"dash\", \"style\", \"href\", \"chart\", \"width\", \"icon\", \"div\", \"tab\", \"card\", \"mat\", \"scroll\", \"center\", \"white\", \"svg\", \"height\", \"css\", \"menu\", \"background\", \"position\", \"top\", \"span\", \"text\", \"image\", \"button\", \"display\", \"click\", \"leave\", \"html\", \"element\", \"class\", \"item\", \"title\", \"content\", \"size\", \"link\", \"page\", \"add\", \"show\", \"change\", \"cran\", \"iphonesimulator\", \"deriveddata\", \"qemu\", \"dartlang\", \"xcodebuild\", \"iphoneos\", \"avd\", \"coresimulator\", \"ipa\", \"msbuild\", \"uwp\", \"apks\", \"xcworkspace\", \"dpkg\", \"wsl\", \"zsh\", \"unity\", \"dyld\", \"gpg\", \"ndk\", \"adb\", \"cocoapods\", \"ble\", \"gtk\", \"vim\", \"visual\", \"sdks\", \"bionic\", \"podfile\", \"studio\", \"installer\", \"usb\", \"perl\", \"emulator\", \"mac\", \"xcode\", \"macos\", \"brew\", \"sdk\", \"windows\", \"developer\", \"nuget\", \"vscode\", \"instal\", \"terminal\", \"install\", \"installation\", \"apt\", \"device\", \"ubuntu\", \"build\", \"dart\", \"project\", \"version\", \"ios\", \"devices\", \"apple\", \"linux\", \"debug\", \"library\", \"framework\", \"package\", \"tool\", \"dll\", \"fail\", \"platform\", \"find\", \"error\", \"run\", \"command\", \"flutter\", \"app\", \"github\", \"try\", \"update\", \"target\", \"work\", \"code\", \"get\", \"file\", \"android\", \"system\", \"com\", \"docker\", \"kubernetes\", \"aspnetcore\", \"kubectl\", \"kube\", \"volumes\", \"traefik\", \"istio\", \"entityframeworkcore\", \"signalr\", \"dockerfile\", \"configureservices\", \"helm\", \"packagereference\", \"systemd\", \"minikube\", \"iservicecollection\", \"dbcontext\", \"aspnet\", \"kubelet\", \"ilogger\", \"iconfiguration\", \"dependencyinjection\", \"workdir\", \"netcore\", \"gke\", \"dotnet\", \"iapplicationbuilder\", \"configmap\", \"publickeytoken\", \"ingress\", \"asp\", \"cancellationtoken\", \"appsettings\", \"grafana\", \"culture\", \"compose\", \"apiversion\", \"prometheus\", \"alpine\", \"containers\", \"net\", \"redis\", \"httpcontext\", \"mongo\", \"cluster\", \"gitlab\", \"microsoft\", \"azure\", \"deployment\", \"nginx\", \"startup\", \"container\", \"service\", \"mongodb\", \"deploy\", \"pod\", \"core\", \"yml\", \"host\", \"postgres\", \"port\", \"system\", \"run\", \"app\", \"name\", \"configuration\", \"image\", \"public\", \"var\", \"web\", \"application\", \"get\", \"config\", \"server\", \"log\", \"create\", \"error\", \"usestate\", \"useeffect\", \"componentdidmount\", \"proptypes\", \"ngmodule\", \"injectable\", \"useref\", \"ngrx\", \"initialstate\", \"mapstatetoprops\", \"usecallback\", \"routermodule\", \"forwardref\", \"usecontext\", \"forroot\", \"handleclick\", \"elementref\", \"getinitialprops\", \"useselector\", \"asyncstorage\", \"styleurls\", \"prevstate\", \"browsermodule\", \"'rxjs'\", \"usereducer\", \"approutingmodule\", \"prop\", \"templateurl\", \"canactivate\", \"createstacknavigator\", \"component\", \"observable\", \"component'\", \"apollo\", \"oninit\", \"appcomponent\", \"browserrouter\", \"withstyles\", \"testbed\", \"act'\", \"viewchild\", \"mutation\", \"router\", \"localstorage\", \"const\", \"redux\", \"classname\", \"onpress\", \"export\", \"react\", \"graphql\", \"components\", \"ngoninit\", \"hook\", \"core'\", \"render\", \"state\", \"promise\", \"console\", \"rout\", \"mongoose\", \"route\", \"reactjs\", \"angular\", \"undefined\", \"setstate\", \"act\", \"import\", \"res\", \"dom\", \"log\", \"page\", \"return\", \"event\", \"function\", \"native\", \"app\", \"data\", \"let\", \"error\", \"default\", \"div\", \"get\", \"value\", \"work\", \"cors\", \"curlopt\", \"origin'\", \"setopt\", \"samesite\", \"referrer\", \"referer\", \"webhooks\", \"'authorization'\", \"'access\", \"nosniff\", \"addheader\", \"cors'\", \"'bearer\", \"xmlhttprequest\", \"xsrf\", \"returntransfer\", \"'headers'\", \"urlencoded'\", \"'accept\", \"applewebkit\", \"setrequestheader\", \"agent'\", \"defaultrequestheaders\", \"sameorigin\", \"khtml\", \"headers'\", \"postman\", \"methods'\", \"grpc\", \"'content\", \"preflight\", \"response\", \"headers\", \"origin\", \"httprequest\", \"cookies\", \"request\", \"'application\", \"cookie\", \"xhr\", \"statuscode\", \"api\", \"'http\", \"httpclient\", \"url\", \"http\", \"proxy\", \"'https\", \"curl\", \"swagger\", \"rest\", \"fetch\", \"uri\", \"json\", \"header\", \"https\", \"localhost\", \"post\", \"www\", \"body\", \"allow\", \"redirect\", \"com\", \"access\", \"get\", \"status\", \"client\", \"error\", \"content\", \"control\", \"web\", \"server\", \"send\", \"return\", \"try\", \"work\", \"app\", \"code\", \"application\", \"woocommerce\", \"charfield\", \"formcontrolname\", \"'woocommerce\", \"quired'\", \"formarray\", \"matinput\", \"datetimefield\", \"integerfield\", \"myform\", \"'form'\", \"enctype\", \"iformfile\", \"imagefield\", \"datefield\", \"queryset\", \"modelform\", \"ngsubmit\", \"validators\", \"manytomanyfield\", \"endfor\", \"formgroup\", \"payment\", \"ngmodel\", \"belongsto\", \"stripe\", \"'product\", \"ubmit'\", \"cart\", \"'form\", \"form\", \"yup\", \"formcontrol\", \"product\", \"blade\", \"autocomplete\", \"formik\", \"field\", \"checkboxes\", \"foreignkey\", \"eloquent\", \"submit\", \"radio\", \"formdata\", \"checkbox\", \"serializers\", \"datepicker\", \"placeholder\", \"textarea\", \"products\", \"slug\", \"ajax\", \"input\", \"option\", \"category\", \"validate\", \"model\", \"btn\", \"select\", \"post\", \"class\", \"price\", \"customer\", \"label\", \"document\", \"validation\", \"name\", \"type\", \"django\", \"value\", \"div\", \"laravel\", \"data\", \"function\", \"button\", \"custom\", \"get\", \"text\", \"true\", \"return\", \"page\", \"add\", \"html\", \"title\", \"require\", \"var\", \"recyclerview\", \"buildcontext\", \"dart'\", \"mainactivity\", \"savedinstancestate\", \"drawable\", \"constraintlayout\", \"findviewbyid\", \"intent\", \"layoutinflater\", \"livedata\", \"onpressed\", \"initstate\", \"viewgroup\", \"inflate\", \"linearlayout\", \"viewholder\", \"viewpager\", \"statefulwidget\", \"mainaxisalignment\", \"dimen\", \"constrainttop\", \"bloc\", \"appcompatactivity\", \"edittext\", \"createstate\", \"tobottomof\", \"statelesswidget\", \"maketext\", \"constraintstart\", \"'package\", \"oncreate\", \"widget\", \"androidx\", \"activity\", \"textview\", \"appcompat\", \"toast\", \"android\", \"layout\", \"edgeinsets\", \"fragment\", \"fun\", \"listview\", \"textstyle\", \"appbar\", \"flutter\", \"child\", \"override\", \"parent\", \"activitythread\", \"schemas\", \"context\", \"builder\", \"void\", \"children\", \"val\", \"view\", \"app\", \"wrap\", \"final\", \"new\", \"public\", \"extend\", \"private\", \"null\", \"height\", \"com\", \"string\", \"class\", \"return\", \"import\", \"int\", \"text\", \"selenium\", \"webdriver\", \"chromedriver\", \"sftp\", \"scrapy\", \"docx\", \"xpath\", \"winscp\", \"chromeoptions\", \"memorystream\", \"filestream\", \"geckodriver\", \"webdriverwait\", \"webelement\", \"findelement\", \"webdriverexception\", \"pdfs\", \"sendkeys\", \"sshclient\", \"childitem\", \"desiredcapabilities\", \"downloadfile\", \"infile\", \"itext\", \"pdf\", \"filereader\", \"soup\", \"xls\", \"paramiko\", \"puppeteer\", \"scrap\", \"powershell\", \"xlsx\", \"outputstream\", \"ftp\", \"printer\", \"beautifulsoup\", \"scrape\", \"csv\", \"reader\", \"byte\", \"upload\", \"filename\", \"ssh\", \"stdout\", \"headless\", \"blob\", \"file\", \"filepath\", \"writer\", \"download\", \"chrome\", \"drive\", \"driver\", \"folder\", \"read\", \"excel\", \"open\", \"path\", \"bytes\", \"txt\", \"storage\", \"script\", \"write\", \"encode\", \"print\", \"buffer\", \"directory\", \"save\", \"close\", \"try\", \"data\", \"output\", \"new\", \"get\", \"import\", \"code\", \"command\", \"log\", \"error\", \"line\", \"text\", \"name\", \"train\", \"keras\", \"tensor\", \"conv\", \"predict\", \"lstm\", \"pred\", \"epochs\", \"dropout\", \"prediction\", \"lu'\", \"loss\", \"predictions\", \"neural\", \"cnn\", \"imshow\", \"relu\", \"grad\", \"bert\", \"contour\", \"tensors\", \"stride\", \"nlp\", \"imread\", \"regression\", \"trainable\", \"tflite\", \"ame'\", \"pytorch\", \"rnn\", \"torch\", \"tensorflow\", \"epoch\", \"dense\", \"classification\", \"estimator\", \"reshape\", \"layer\", \"plt\", \"sklearn\", \"accuracy\", \"shape\", \"mask\", \"matrix\", \"optimizer\", \"dtype\", \"opencv\", \"gpu\", \"activation\", \"detection\", \"batch\", \"weight\", \"model\", \"fit\", \"dataset\", \"numpy\", \"random\", \"float\", \"score\", \"input\", \"size\", \"image\", \"graph\", \"output\", \"plot\", \"self\", \"import\", \"data\", \"def\", \"feature\", \"print\", \"label\", \"test\", \"get\", \"function\", \"return\", \"add\", \"rust\", \"cout\", \"endl\", \"mut\", \"iostream\", \"hpp\", \"constexpr\", \"cmakelists\", \"vba\", \"chrono\", \"cargo\", \"argc\", \"nullptr\", \"rebase\", \"worksheets\", \"cmakefiles\", \"workbooks\", \"cxx\", \"ifndef\", \"baz\", \"stl\", \"godbolt\", \"cppreference\", \"vmimage\", \"boost\", \"scanf\", \"ptr\", \"macro\", \"traits\", \"cmake\", \"std\", \"foo\", \"branch\", \"typename\", \"unsigned\", \"intellisense\", \"trait\", \"sizeof\", \"char\", \"submodule\", \"cpp\", \"git\", \"printf\", \"pipeline\", \"devops\", \"clang\", \"operator\", \"pointer\", \"include\", \"variable\", \"gcc\", \"enum\", \"int\", \"expression\", \"commit\", \"type\", \"reference\", \"parameter\", \"variables\", \"arguments\", \"argument\", \"vector\", \"function\", \"define\", \"void\", \"compile\", \"main\", \"static\", \"error\", \"string\", \"code\", \"return\", \"class\", \"pass\", \"object\", \"call\", \"value\", \"work\", \"set\", \"npm\", \"webpack\", \"\\u251c\\u2500\\u2500\", \"cjs\", \"gyp\", \"sass\", \"tsconfig\", \"loader'\", \"devkit\", \"devdependencies\", \"electron\", \"\\u2514\\u2500\\u2500\", \"gulp\", \"playbook\", \"rollup\", \"prettier\", \"metro\", \"sourcemap\", \"eject\", \"postcss\", \"nodemon\", \"commonjs\", \"presets\", \"polyfills\", \"compileroptions\", \"schematics\", \"childprocess\", \"plugin'\", \"nativescript\", \"minicssextractplugin\", \"babel\", \"modules\", \"gatsby\", \"nuxt\", \"esm\", \"storybook\", \"node\", \"eslint\", \"karma\", \"ansible\", \"expo\", \"scss\", \"preset\", \"loader\", \"cli\", \"yarn\", \"vue\", \"ionic\", \"js'\", \"module\", \"angular\", \"assets\", \"react\", \"src\", \"native\", \"err\", \"dist\", \"plugin\", \"config\", \"app\", \"script\", \"require\", \"build\", \"env\", \"index\", \"typescript\", \"error\", \"project\", \"file\", \"json\", \"css\", \"run\", \"true\", \"import\", \"path\", \"package\", \"ruby\", \"gems\", \"venv\", \"psycopg\", \"setuptools\", \"pyinstaller\", \"rvm\", \"egg\", \"importlib\", \"modulenotfounderror\", \"distutils\", \"virtualenv\", \"virtualenvs\", \"importerror\", \"pyenv\", \"pipenv\", \"py'\", \"whl\", \"cython\", \"ctypes\", \"cffi\", \"pyx\", \"pythonhosted\", \"cpython\", \"jango\", \"tornado\", \"'exec'\", \"pypi\", \"wsgi\", \"rubygems\", \"pip\", \"anaconda\", \"envs\", \"gem\", \"kivy\", \"miniconda\", \"cellar\", \"traceback\", \"sqlalchemy\", \"python\", \"macosx\", \"lib\", \"conda\", \"usr\", \"site\", \"appdata\", \"wheel\", \"recent\", \"flask\", \"line\", \"local\", \"package\", \"kwargs\", \"django\", \"raise\", \"users\", \"rail\", \"module\", \"bin\", \"home\", \"file\", \"import\", \"self\", \"program\", \"init\", \"install\", \"run\", \"error\", \"info\", \"name\", \"command\", \"build\", \"call\", \"terraform\", \"iam\", \"cognito\", \"arn\", \"cloudformation\", \"saml\", \"azurerm\", \"idp\", \"'aws\", \"dynamodb\", \"codebuild\", \"ssm\", \"tenant\", \"claimsidentity\", \"idtoken\", \"accessdenied\", \"claimtypes\", \"usernames\", \"logins\", \"amplify\", \"sso\", \"redirecturi\", \"msal\", \"oidc\", \"vpc\", \"aws\", \"gmail\", \"aadsts\", \"otp\", \"principal\", \"roles\", \"jwt\", \"smtp\", \"login\", \"account\", \"authenticate\", \"credential\", \"serverless\", \"vault\", \"authentication\", \"auth\", \"mail\", \"outlook\", \"username\", \"openid\", \"role\", \"user\", \"password\", \"email\", \"token\", \"sign\", \"bucket\", \"authorize\", \"secret\", \"oauth\", \"credentials\", \"amazon\", \"lambda\", \"identity\", \"permissions\", \"admin\", \"access\", \"resource\", \"profile\", \"session\", \"users\", \"key\", \"create\", \"name\", \"get\", \"new\", \"error\", \"return\", \"app\", \"string\", \"try\", \"client\", \"discord\", \"guild\", \"fcm\", \"bot\", \"pubsub\", \"telegram\", \"bazel\", \"reaction\", \"moq\", \"dag\", \"mock\", \"databaseurl\", \"cypress\", \"stackdriver\", \"unittest\", \"firebase\", \"firebaseapp\", \"teardown\", \"gcloud\", \"asyncio\", \"testmethod\", \"conversation\", \"firestore\", \"notification\", \"dags\", \"notifications\", \"speech\", \"analytics\", \"cron\", \"initializeapp\", \"gcp\", \"cloud\", \"schedule\", \"unit\", \"google\", \"chat\", \"task\", \"test\", \"queue\", \"job\", \"async\", \"await\", \"message\", \"channel\", \"blazor\", \"trigger\", \"airflow\", \"worker\", \"function\", \"event\", \"send\", \"wait\", \"report\", \"call\", \"run\", \"log\", \"service\", \"app\", \"get\", \"code\", \"work\", \"result\", \"new\", \"try\", \"artifactid\", \"groupid\", \"spring\", \"bean\", \"jpa\", \"hibernate\", \"autowired\", \"springapplication\", \"abstractautowirecapablebeanfactory\", \"xsd\", \"abstractbeanfactory\", \"autoconfigure\", \"hikari\", \"lombok\", \"abstractapplicationcontext\", \"responseentity\", \"modelversion\", \"requestmapping\", \"reactor\", \"getmapping\", \"restcontroller\", \"xmlschema\", \"zaxxer\", \"boot\", \"defaultlistablebeanfactory\", \"springframework\", \"exclusions\", \"generatedvalue\", \"eureka\", \"defaultsingletonbeanregistry\", \"pom\", \"xsi\", \"webflux\", \"springboot\", \"aop\", \"jackson\", \"factory\", \"resttemplate\", \"flux\", \"annotation\", \"starter\", \"dependency\", \"maven\", \"protobuf\", \"jar\", \"tomcat\", \"release\", \"servlet\", \"jdbc\", \"datasource\", \"org\", \"public\", \"final\", \"private\", \"xml\", \"repository\", \"version\", \"class\", \"web\", \"java\", \"properties\", \"info\", \"core\", \"plugin\", \"com\", \"name\", \"string\", \"import\", \"support\", \"scala\", \"hadoop\", \"javafx\", \"threadpoolexecutor\", \"rdd\", \"defaultbuildoperationexecutor\", \"anonfun\", \"avro\", \"sparkcontext\", \"sbt\", \"completablefuture\", \"sparksession\", \"runworker\", \"futuretask\", \"fxml\", \"awt\", \"swing\", \"spark\", \"urlclassloader\", \"nioendpoint\", \"abstractprotocol\", \"findclass\", \"accesscontroller\", \"taskthread\", \"coyoteadapter\", \"doprivileged\", \"socketprocessorbase\", \"authenticatorbase\", \"abstractprocessorlight\", \"standardwrappervalve\", \"gradle\", \"beam\", \"hive\", \"hdfs\", \"loadclass\", \"emr\", \"jcenter\", \"applicationfilterchain\", \"ljava\", \"classloader\", \"sun\", \"java\", \"runners\", \"jdk\", \"lang\", \"apache\", \"reflect\", \"concurrent\", \"'com\", \"jetbrains\", \"nativemethodaccessorimpl\", \"util\", \"eclipse\", \"delegatingmethodaccessorimpl\", \"internal\", \"org\", \"kotlin\", \"invoke\", \"execution\", \"implementation\", \"junit\", \"com\", \"execute\", \"executor\", \"thread\", \"jar\", \"launcher\", \"run\", \"method\", \"main\", \"core\", \"sql\", \"class\", \"error\", \"base\", \"api\", \"elasticsearch\", \"xdebug\", \"kibana\", \"mqtt\", \"tlsv\", \"pdo\", \"mysqld\", \"producer\", \"handshake\", \"truststore\", \"phpmyadmin\", \"websockets\", \"sasl\", \"mysqli\", \"ecdsa\", \"broker\", \"kafkaconsumer\", \"plaintext\", \"xampp\", \"cipher\", \"confluent\", \"cbc\", \"logstash\", \"kafka\", \"zookeeper\", \"kerberos\", \"pem\", \"virtualhost\", \"keycloak\", \"elastic\", \"ssl\", \"socket\", \"consumer\", \"certificate\", \"websocket\", \"encryption\", \"mysql\", \"rsa\", \"connection\", \"tls\", \"connect\", \"cert\", \"php\", \"encrypt\", \"sha\", \"topic\", \"server\", \"clients\", \"decrypt\", \"openssl\", \"connections\", \"client\", \"symfony\", \"aes\", \"port\", \"database\", \"sql\", \"laravel\", \"host\", \"key\", \"debug\", \"log\", \"message\", \"send\", \"error\", \"network\", \"config\", \"try\", \"fail\", \"new\", \"swiftui\", \"contentview\", \"tableview\", \"indexpath\", \"uiview\", \"collectionview\", \"qtwidgets\", \"navigationlink\", \"uiviewcontroller\", \"viewcontroller\", \"wkwebview\", \"uiapplication\", \"viewdidload\", \"qtcore\", \"uiimage\", \"foregroundcolor\", \"mainwindow\", \"uitableview\", \"uicolor\", \"appdelegate\", \"cgfloat\", \"environmentobject\", \"forkey\", \"uicollectionview\", \"observableobject\", \"cgpoint\", \"coredata\", \"completionhandler\", \"dispatchqueue\", \"fetchrequest\", \"player\", \"ion\", \"audio\", \"video\", \"pygame\", \"vstack\", \"swift\", \"sheet\", \"game\", \"nil\", \"scene\", \"camera\", \"board\", \"self\", \"func\", \"view\", \"youtube\", \"keyboard\", \"frame\", \"let\", \"scrollview\", \"calendar\", \"videos\", \"var\", \"play\", \"ios\", \"window\", \"preview\", \"struct\", \"cell\", \"text\", \"screen\", \"init\", \"button\", \"print\", \"return\", \"true\", \"work\", \"try\", \"code\", \"import\", \"get\", \"app\"], \"Freq\": [175796.0, 243578.0, 133727.0, 117866.0, 114434.0, 105618.0, 86655.0, 85821.0, 116648.0, 85982.0, 66496.0, 64558.0, 81137.0, 84808.0, 72313.0, 82176.0, 171133.0, 53826.0, 78988.0, 45428.0, 147653.0, 78432.0, 146079.0, 173962.0, 47130.0, 45574.0, 61378.0, 57442.0, 51102.0, 46849.0, 2108.3148168281427, 621.8779506505346, 625.6751391598609, 362.21132609944976, 332.59788117904554, 314.8955955177708, 299.1744827022691, 225.28843809953426, 207.7541254396806, 187.1584165999262, 598.398824176529, 872.3982312719825, 1484.6141676364837, 1813.0624323749691, 426.87860390269054, 235.0288635642597, 674.000040571155, 272.69923073744883, 2193.7756053839644, 2207.241378424127, 875.4494529585025, 1350.0325769860585, 1361.07193984834, 182.68220267627228, 554.0622490819451, 137.5547578286854, 17256.931941972794, 309.86474029997436, 282.71524981346874, 392.02157800989625, 858.0491169762464, 16454.325854538918, 4301.192513785199, 4272.325185864625, 3919.593296334197, 5255.789763738739, 1330.070746592771, 31719.179996312905, 2068.180607853823, 13542.565160358303, 31900.211791038913, 7970.978344742691, 2955.5901590091735, 41588.72751615575, 7565.86260673869, 1539.3153977684635, 28514.37346869376, 39539.74583941294, 9152.675092617525, 7602.779122795309, 55971.26040470389, 32114.912073144984, 17074.977459610905, 9381.749118051275, 74678.64169186857, 24885.865895279945, 66133.32393344435, 24113.585955378447, 5611.03411488184, 14275.955258106917, 55153.446791104696, 29511.32304226712, 9477.652165621681, 12265.408086780018, 24226.048122330787, 17126.92549436063, 19218.355608018657, 35878.11041590572, 15098.145630895573, 18814.757859373945, 34483.30706450424, 28074.720018694392, 17428.967532248982, 17297.868997317786, 22107.67745197099, 17222.19058993279, 16895.622841889694, 15736.844910012067, 488.65888511975953, 412.88689772377865, 274.2574476763622, 3582.1013079824543, 301.49850601585104, 200.73564467540862, 232.31321528390396, 667.2310990003272, 555.4235665492271, 157.4415382491002, 4358.045840984599, 1513.8428531175055, 572.8970988237407, 624.5263463412111, 187.91895710576944, 5713.375166940733, 322.3758396899911, 112.96712633418788, 2067.584100527463, 761.6494640969102, 404.2388754307878, 1411.9923234907953, 218.6478815966854, 616.0983296788517, 970.4509813348186, 145.8030903045991, 15698.81642060346, 673.495573934554, 216.33847578230515, 252.25238209027995, 1916.2948096212338, 711.130521079068, 376.1813772554428, 3056.815723031208, 3644.334297187779, 996.0294080372972, 6096.9559374220935, 8327.273718061646, 8276.899138289073, 47299.86752730937, 2235.801606381045, 7914.850809740896, 2084.8732235879866, 4130.1157699817795, 2716.9849261809427, 32310.390506503176, 5319.18327416529, 3330.2007230177524, 5878.885508806481, 17189.198833808656, 5177.012316144146, 3124.4167083683183, 11472.295666463011, 5735.526873518981, 5448.145136500008, 3087.562269160918, 9271.26187124719, 28173.243879212216, 12670.43036899659, 15890.388424653156, 10935.27908464969, 13582.884052195177, 9145.006466622199, 9047.5101415311, 12841.468325846523, 29161.79818101042, 29046.21492110804, 20347.736685106545, 14629.611939145361, 12474.426328563783, 17883.50750542343, 13861.680837556201, 12211.10437905954, 12764.868227368952, 16548.148051714415, 17123.001929350183, 9992.78880607552, 18587.888267880287, 11697.76449951519, 19342.229448627208, 11661.96693486855, 14161.04896160109, 10370.201226073148, 14403.73854999294, 13233.496747521645, 11366.26580676022, 12348.929184115503, 11929.823754848421, 1465.3488604348875, 732.1442758852965, 637.8543702001439, 505.94299832092014, 476.3062851234506, 468.98678292951155, 458.3187345185357, 442.4453136393312, 421.73311272415964, 415.50367071256176, 822.6594827255606, 367.9546288078706, 8396.422779810504, 337.2346002486738, 315.8596349689473, 307.3034013240644, 293.2263033687656, 284.7200557037709, 280.4991126679311, 280.2220891670414, 275.31854742128223, 258.53148914638587, 218.50656614404397, 206.13556484706663, 707.4811533968257, 528.02931353742, 156.4160196630176, 779.3735104057973, 145.6607315701614, 135.6663078281187, 3828.093359885492, 1736.0562369361714, 3444.058821516489, 1529.9347476151738, 2938.375841746182, 864.0538758201217, 5283.923106373374, 1510.3081198618504, 2071.421064307645, 521.6307079952571, 3575.8814246972947, 5914.996416838751, 2297.9350043191203, 2434.9266551079845, 1557.6925424159665, 5919.843999437215, 3567.900815764206, 2153.0322505451877, 867.6859617206751, 11784.278040022797, 12231.578081197682, 2105.371747621878, 2085.4916746600647, 41661.15189302845, 5942.2349747712715, 2490.916439894421, 2854.3054253214364, 2154.6002498594153, 3802.72094520213, 3058.2665143041227, 2675.49199988098, 31243.915009570916, 8398.941455874303, 8477.006695572862, 26474.623545137514, 12780.873528333059, 50035.587014913806, 9616.796325980878, 9756.589249385363, 10890.175473932542, 8568.72436674578, 10181.767193498797, 6326.15519414682, 5087.641052819043, 19833.567995275575, 14785.095830546012, 7800.678153806466, 14243.878620764133, 12082.449411511694, 11479.251187134394, 8968.441184636931, 37678.4500968247, 40266.16385804721, 24771.875976048334, 16287.118452719227, 14608.080642872601, 10466.871446759822, 17696.261922746024, 12388.97795869812, 33402.853893869935, 13598.116234191744, 12563.95918283998, 13296.528096626465, 12320.672817384771, 11048.582273127333, 11976.211399066102, 12473.323426621118, 11420.35404170641, 11575.001117844457, 1023.517826122582, 874.9525011681044, 813.6481330659527, 655.5428564493259, 570.2586594864692, 546.4201860664643, 541.8849197281316, 564.310379297314, 424.7052865312614, 379.92193691522, 1295.459963555515, 924.1624112749649, 260.4278583841179, 177.08142018244584, 359.59524076501395, 1978.6137809395764, 752.3931717985239, 4958.020190031527, 468.8138328417655, 551.3523828067325, 997.0834397661557, 1774.9098338227477, 1572.4231111088577, 749.703093975793, 923.1055158345945, 584.8598927043329, 11121.286922974426, 1174.2111585852974, 359.7174064613743, 415.0832784412029, 17638.13361455485, 1371.5664896071105, 1598.323536072077, 1273.826256621107, 3905.064755535533, 5996.2270897509925, 8639.412745102045, 4920.160932618223, 1127.1143366361455, 11287.978880432267, 20006.34569342346, 6146.611115968321, 3368.0115972096883, 5758.606377653757, 16254.320176054469, 4585.453303732423, 24338.385395745092, 3446.1524523837725, 3592.3253297474484, 11723.638619005991, 7049.260796781646, 49775.33316699591, 9507.646295137185, 35026.061504285106, 39851.19914738213, 14180.898895620187, 4003.0498604704358, 5171.2081953016395, 9435.716862899992, 15967.648963867436, 15563.975447937919, 10343.855567373144, 26656.328344674905, 9401.329705932978, 4900.959512264979, 18382.004647919883, 6938.910361150363, 24715.743772011177, 39205.54846900092, 30837.12994201704, 15874.182043695622, 14478.235929878127, 25405.685461440975, 10104.397829158603, 19379.947463898752, 12769.160757379019, 9801.567014346463, 16208.749127974992, 16162.20767344372, 18252.713988680847, 16903.625879092804, 14707.898790136696, 10483.996270228748, 10927.093196929925, 45571.36307389863, 12551.265661860483, 6433.570375579092, 3211.879929235965, 2776.813778170252, 3627.2912518728563, 2629.9280744292637, 1834.572362874043, 1642.3074480748473, 1632.388751722393, 5254.520438857708, 1350.6990591152464, 2635.136536940856, 1245.4915335614344, 1197.374519142641, 1161.029407833363, 1135.3521294303305, 1995.8379768702307, 1075.2662048471125, 1068.0042246198982, 1089.3067569986222, 986.4671863908607, 892.8787348033444, 1809.1272073018795, 931.6082261796862, 987.1001199333471, 5377.291610623085, 800.9504476023615, 810.4051814848204, 787.8494312522487, 5589.003113523776, 13445.925767115767, 2641.5899103485417, 1910.1896553338247, 1124.3271917379213, 1165.523660772628, 8750.732806033473, 2572.303652464073, 2497.0477126665787, 2151.2024413548615, 4614.195969504496, 37099.637568295824, 5880.196343390185, 1967.0853305506196, 3567.5687566913643, 11355.336364572497, 5772.896125263162, 19975.12357482193, 22106.491077800307, 5878.013123856907, 9133.500805410094, 5469.278707309075, 23143.783913221163, 36411.12066112331, 6910.453185593626, 10198.982924379263, 7997.253978870788, 29762.799568872622, 4636.714621618918, 15586.35389546954, 5410.993315818979, 12804.560662509406, 17417.91272062392, 26911.338146765844, 26097.8151186032, 23944.538392138333, 9606.739126504672, 14216.353808807982, 13545.09120806795, 12534.868482432586, 10133.166142918439, 9847.804019806164, 13076.923151915063, 8335.763262513485, 9174.52660422186, 9098.493019901922, 8739.245793816013, 8888.70835361111, 4914.318127217028, 4505.424305165901, 1408.180803010348, 1324.7104985999104, 1337.2088240574176, 1208.160944048216, 903.2266657832688, 814.4261191379649, 704.3067159107829, 668.9356926195551, 636.3509139286434, 589.7646651104568, 586.2964436161639, 569.40454921016, 522.9266148980024, 504.446092755647, 456.8194404104623, 445.4228667375172, 442.2441730639043, 483.3613483156383, 864.6471061495471, 448.9613353575044, 416.73394959270996, 405.31975795861825, 383.50530633193455, 369.0602186396144, 23248.599686448164, 984.4274891578392, 351.277291354242, 359.5214634639588, 52502.145519737714, 4009.1198677613606, 1135.6003823027122, 2743.7736285703472, 1649.2283092175712, 1266.7123502803322, 689.1968872635159, 484.4640888633261, 540.8207106193344, 2613.267143175807, 833.0354501493158, 1113.9860203776225, 12067.187341532508, 2110.845138425771, 59510.5388234454, 4649.418778019093, 8631.198086932483, 1144.7756546702726, 23958.58050944262, 58845.79661007275, 4492.979193142061, 12179.473439374276, 1497.5490794648463, 9368.662210215221, 2059.769051085679, 17619.04123550907, 29289.96827133349, 6308.044831307479, 25197.978907591816, 7700.18376159337, 2467.9020648554533, 9844.792284355739, 2778.621056842804, 21998.912398989338, 7409.40973982491, 4826.443692070161, 4075.392884791327, 42809.574576990184, 9358.517860097041, 4278.774268717747, 19766.716721711862, 14713.369150732942, 27466.69482057511, 10452.714775279386, 21516.959768464974, 10184.602485248672, 18125.638876825968, 17631.221359015253, 9410.202486197146, 15245.886048848575, 9639.571801015749, 9518.677351627603, 11115.572226359576, 9541.924431135689, 8939.797889879053, 9232.970794579407, 1359.0822807185425, 1091.450870177668, 701.9479095909545, 833.8235999386794, 454.67874575971, 500.9656321842612, 271.10249665885283, 539.3400556340201, 1979.7687767435223, 173.02115589202006, 259.7945390719442, 168.36348578435988, 256.4301396108411, 1475.3687319795836, 218.98756832501414, 127.80318435030306, 138.87714384389994, 118.34063790325874, 286.4087851247187, 676.6271738810658, 264.5107386649734, 256.82945190398607, 251.8418071139196, 127.73216886526296, 691.9483017287397, 330.8947676595419, 3500.504614962465, 217.06601001961664, 5326.167130718795, 2253.3056946890256, 1089.5982354620778, 43312.11901140311, 14964.376731962502, 7881.9809234068325, 823.4771732793189, 3297.3899554339387, 72144.9536655823, 1920.5969052133999, 5322.844852439829, 1164.0570672177375, 1841.9369376940733, 66090.29482814985, 3425.95504725108, 4464.299670450869, 41048.97565640782, 43663.93116246971, 11061.127546751703, 4751.333147789496, 5654.491482110977, 3543.630778433636, 8879.46281377739, 10238.513454580536, 6822.009241342254, 29946.682400667327, 13485.78752727195, 26416.23823248315, 10049.832872158655, 17021.784980000928, 8908.680314494566, 12729.204805424015, 10454.025382557325, 6703.946858190827, 29123.78938913178, 15042.612219074164, 33256.434410979775, 10364.761423778094, 13331.556275544597, 24804.65051267864, 12233.622273391129, 8622.068354045357, 10417.748432727702, 12220.759906902764, 9165.166891695544, 11595.433151439822, 10833.461707472072, 10547.70742406833, 10675.310941376772, 9782.059125579646, 9386.204909579104, 3611.396592856017, 1948.225003540956, 950.0753237009158, 622.0085395439249, 561.7138330531445, 497.46126572876625, 433.8252128313823, 490.4059878776372, 365.73427522084904, 306.661711336847, 290.3404944496033, 258.17208574386115, 265.7669428045455, 207.58289892753814, 188.55681535201154, 1218.423210695856, 175.77372562257548, 149.6381050744486, 1686.4459555642884, 166.0621496663203, 430.253620144848, 1375.7456616556358, 2701.576545963925, 976.2083410160141, 402.4734662953176, 2704.5575704964604, 551.2294303594076, 262.67471073874896, 3806.669190049318, 396.0911994821993, 45737.53582727856, 820.7665000189794, 1122.4079732747068, 13652.288239692223, 909.8677226308629, 2388.891168542224, 1306.5780612874075, 33488.08330968139, 765.098534649878, 1231.7797324213798, 894.6594201348108, 8257.801461116696, 2020.2489314282195, 1880.4275212900056, 3886.7513504763483, 1116.7151114133824, 1772.996526151928, 4157.810816628207, 1455.2346291813164, 4141.423787428283, 1393.1894743792186, 4054.935866547909, 31861.4352949002, 13145.829383072509, 5660.4667992306095, 4826.948588121633, 29853.758645111906, 4934.001791755732, 16903.220103378222, 16761.69234928992, 48279.46164229634, 4780.337205915912, 3529.038733446932, 14224.997440599669, 11875.773863631492, 5631.377369767973, 39246.09260506233, 29500.604310629817, 9128.381793281616, 31969.38831356063, 19432.651776775572, 7018.093872950202, 22374.472738645625, 17094.46005595274, 11406.632201875875, 8829.720311870942, 18486.3134909016, 12286.378668134601, 12631.546886086113, 15110.7293635064, 9809.36001521911, 12133.48309024001, 8941.44952442536, 7905.392726996899, 8030.039483039529, 8035.841809773988, 5961.488209558482, 4289.138046282567, 4134.922641814083, 3134.080251025381, 2993.419081561141, 3150.7984497920456, 3094.0226122534245, 2637.5178894837304, 10524.447070930048, 2150.5650520284107, 2013.2208201843048, 1890.4649334517692, 1891.07956055865, 1842.5767746083982, 1811.626543722402, 1761.6534331486894, 1723.834232154043, 1535.7112160369547, 1478.0315351917152, 1548.6566287458822, 1452.337561177814, 1370.6675331481208, 1318.5784833940947, 1288.7906660239871, 1282.8302342901334, 1226.2760893343693, 1240.1136503619095, 1213.7983907808032, 1208.0038230009313, 1179.124458640744, 3727.901205959868, 3462.853168443083, 21193.275512618486, 8887.637037190514, 11228.09335337656, 3355.3903992380083, 2785.086955440056, 3473.6535325489963, 115498.38761037987, 34672.707666278395, 2426.778303130943, 11461.450192884053, 8154.972843190139, 3657.8552277241843, 2327.102176451042, 2862.627799054897, 36613.31490348802, 18413.465984539762, 19735.25162632351, 16555.44960627676, 3956.486148901439, 4137.488709985311, 20707.55483178271, 8071.085803967001, 14879.526752212349, 5913.32398070627, 9618.958612421859, 17111.140802797876, 30717.78710920198, 6245.587297172048, 9014.657923855548, 17840.49283961117, 14211.159382781794, 7171.937565525792, 10350.473453732366, 11125.720379535465, 8491.327527430722, 13908.833869773178, 14389.794605125664, 15433.349482328545, 14249.512114251163, 11252.99667790936, 9189.416214993014, 8906.350383838015, 9494.47256514759, 4803.71048790935, 2347.738616321137, 2629.1730052368757, 1341.1166223020232, 1022.9675237843987, 1829.3085384355059, 683.7113222844008, 603.3348003446023, 653.7255806824471, 498.65132766215817, 450.274898217774, 387.9978037305648, 360.785164142835, 336.4469093264448, 328.8502263564646, 354.2104390988534, 299.7822821017996, 259.34893011008205, 259.1369236847214, 193.76470101726682, 187.21829870667324, 331.8522497618226, 567.3998354684907, 12852.541051926384, 484.1702536224035, 996.4497435372894, 401.1279579212198, 1585.9655758463393, 2316.6947473376085, 1281.3369386610593, 7747.075193600459, 1537.7804904823442, 558.2253402260194, 3167.095417634219, 829.0035905570494, 1181.667335123384, 1368.3024712340482, 13082.840981715317, 3648.528221104163, 6302.974214174244, 15312.951145525507, 8972.73734021659, 8831.242926890747, 2485.445071093856, 1577.2622151952262, 6100.117191108085, 140770.65519062424, 1955.6029192130895, 2222.799254735644, 13716.803795471204, 10160.850498821035, 3575.6443871856545, 8353.112786015874, 10822.069388637346, 21919.9008349019, 5729.248388544025, 16841.532047817378, 22787.921392336233, 5457.867576200915, 5800.381181893071, 8011.996435170862, 17840.12471255101, 13873.006154556439, 6660.342182563307, 13647.402167089243, 5343.500047520046, 8587.536240778072, 8417.648866935808, 7113.69075987376, 15878.084748247906, 17024.72149981086, 10257.218681988788, 14592.187601066345, 17410.68714742084, 13622.637166526805, 13512.758211382867, 9640.728510283016, 10829.539965050992, 12902.007451123653, 8653.11247822243, 8623.25799841118, 8649.917143880199, 25934.433267660414, 16331.03053995825, 6181.934897346674, 6080.199563720298, 4473.518216873572, 2703.7356879477643, 2504.8115352382633, 2331.502847638253, 2182.0333619146363, 1884.5693510646418, 1832.1564251553434, 11313.901878590652, 1540.0705764387317, 1397.3556320624364, 1349.107565241474, 1373.5151223069943, 1336.1701891760204, 1313.6529260481611, 1209.842560568486, 1499.1097664501387, 1117.7045251443515, 1331.4586366453025, 1049.2516070961785, 998.0248457416649, 1931.8240020056305, 917.0865055818252, 896.1613399685099, 885.6847383332982, 4671.8825973502035, 838.0666605016355, 5067.500315051545, 19986.290905432947, 3655.2126278894143, 4448.857503469676, 1838.694185550333, 1567.3189285405992, 2096.3854310426523, 19010.703378712285, 7463.63543906678, 3782.2465929257196, 2870.8932568965747, 14774.43997976975, 5283.372618414403, 6945.169296254929, 3152.7009746236245, 4215.804900922305, 5860.49484777481, 5310.048446462676, 4695.581365713736, 3214.1421896065135, 11621.037655006228, 7669.479252853509, 47082.81394428816, 7672.910473537931, 8512.858518051207, 8472.055961427515, 7632.470853350269, 8717.541589182161, 4677.170025374578, 21993.15806452857, 17697.697444081055, 21604.358320308416, 7642.55329293716, 14354.429009929983, 8117.508261615338, 17386.623643849663, 17848.02898558269, 17273.939400766594, 9443.531516418874, 7363.812878549215, 8786.156193777737, 8400.53459564607, 9978.191817612475, 9857.824439057462, 8583.600387919592, 8522.389686619046, 7742.239834033654, 3115.051076693866, 3908.92984711159, 2512.4170253391544, 1332.4948138245331, 1177.1314772279904, 1086.1121559715934, 987.1142241551031, 959.1530908853184, 2430.7716817861656, 832.7793535431041, 897.9831990960419, 704.9683757996322, 810.7843024750864, 530.6380858409925, 381.4413006889184, 884.0715641693994, 280.7260959571649, 2312.1570673030574, 185.31544941354866, 573.4924676826676, 480.4283764755717, 161.83368342483845, 155.4978330113071, 129.68154106500288, 4002.9616758355705, 304.6530101843637, 3166.931471914179, 1746.8258037048815, 788.8734060443754, 7358.3391333462505, 21264.553554504564, 9692.982385037087, 7940.375786256226, 1594.2024310900183, 2753.2622101081715, 884.1081318488498, 1203.7847445874304, 1661.5774009860415, 9120.2698373927, 901.4280703985562, 5194.6971251712275, 17116.927200288806, 2697.7978558045775, 8839.243302850406, 4010.8730279852457, 2493.5650805939003, 4415.007593871688, 3364.9784323492486, 22382.13889183459, 13630.146725147211, 4245.865098562227, 2973.4884476213474, 26132.76301014243, 3969.4405411793446, 5721.638365543492, 39605.552480671635, 9874.172624736917, 7377.299475141304, 7212.6104007934855, 4501.110113103407, 5889.226081482035, 5231.928246805983, 24363.919055697017, 8263.448622223767, 10619.601505362773, 7298.1304491311, 10418.058087077392, 7752.927249416163, 17665.822434713995, 14200.55420299767, 14183.64034526329, 14331.813888385026, 13490.769014921856, 7610.863773734029, 9982.184407913657, 9016.726494045948, 8504.390450145616, 8120.258731415703, 7379.719471927792, 24481.2224996079, 13695.386859476017, 3552.5952872204816, 3127.00150100247, 3446.6629884541667, 3595.495817886166, 1924.0469691728165, 1455.7029271976432, 1591.3390995230966, 1139.7849339474994, 3744.231886455742, 1570.032419843015, 1057.2717196054018, 918.0905528540432, 927.422686898963, 1196.3893384270173, 811.820135543551, 780.0526265817076, 778.9514661883527, 760.1128107564276, 781.475649072096, 716.5309871695456, 643.1189330934551, 1100.6205081892117, 563.0102728518145, 584.1664831682635, 582.1221377124081, 514.0099965332882, 903.400402725472, 417.3000424571414, 7805.017401023145, 37873.38881778353, 2696.4564210075705, 3614.470903022827, 1245.4063378849496, 1002.6419678705402, 62668.28825439708, 4799.666705315966, 1934.7507117772066, 3316.996587986451, 4331.759487298488, 3217.922176453399, 2183.737567509494, 11308.548397303095, 10599.600537142729, 3904.009582827753, 15136.688130145354, 5196.098758819771, 2939.5262411077824, 28745.000169541567, 21497.4609879637, 4751.065684228004, 27768.891523562866, 16470.10259485305, 13933.17963460012, 10821.71120773433, 6118.30631524945, 10866.309564850968, 13183.419224956468, 27488.826385558397, 14016.164985947775, 12559.53878589083, 17428.224298778878, 8306.17395371793, 10566.364580976948, 6147.975498017076, 18972.084616541222, 11964.26098220893, 17578.77922265948, 10719.906335337511, 7105.344894015761, 11769.508434301086, 10286.83956148427, 11194.847228007127, 8812.910901359443, 8422.112756848468, 7399.633707556813, 5699.408569268003, 3809.4947488680054, 2196.34676914992, 1832.0806501874347, 1855.1558074110212, 1604.814065003823, 1482.0619827424152, 1423.0037931982267, 1443.6691656365379, 1221.5603733966934, 1174.4198286843573, 973.9505981289439, 1961.549530847138, 875.1840009218075, 1242.0688919082313, 1192.9005202602827, 978.9115102635146, 735.3791047748452, 749.578660230735, 676.241466787284, 706.4756097454243, 578.982006550931, 498.612036900113, 1695.2639234935025, 490.6167995501717, 475.12234796508034, 1504.771828456855, 1453.934661172155, 442.3821362748149, 12985.35866688554, 11180.47647246756, 3831.513317459917, 2833.461693540482, 1842.2452083673763, 1123.7189343963382, 931.6373408359439, 5843.6457805729615, 3253.037851484376, 102620.49803662622, 2332.7017868900793, 56240.00646729518, 7311.145393301417, 22308.783919078756, 26584.268757839458, 6804.134785787173, 2373.7592291214987, 5726.799971257077, 8269.36262702627, 43127.7603131729, 26707.36451136734, 37811.45183518817, 4323.5809590838535, 12041.319878030195, 4595.139975782659, 20589.615245282486, 4666.114221189833, 18799.31403451377, 9962.651991873812, 11477.086415678861, 46465.720832774095, 27018.02517661728, 19458.213722077173, 9544.669645369162, 8772.446514143106, 10823.363437355263, 14458.667549793421, 13847.63910562583, 7722.079376570762, 10710.543621158413, 7854.25979477019, 8522.381554979582, 7684.236494023394, 4146.944218246864, 2582.313706529863, 2084.6299650539518, 1889.4369655730652, 1394.940800771739, 1053.5898757864422, 1118.6285226588823, 564.5125393153195, 557.0393528923902, 2193.3642571828104, 513.6065028828403, 423.10439732132454, 2416.5071083854937, 238.7961295153762, 422.376982455894, 214.6341630788885, 208.69292098244821, 173.28935190450562, 152.55640272127684, 1637.7491928516324, 649.570699964293, 405.1913696922825, 661.3613748746892, 1166.8459701398706, 1857.1068710626619, 29849.045810823787, 2762.547626254891, 196.16608127298122, 705.1551085591766, 1805.3531871309524, 3286.3621249684084, 5672.680884808505, 1701.5411506651974, 21799.69301445695, 15049.094020108998, 5920.774459735357, 2091.629466109664, 1943.0188097376201, 1377.3811887214067, 13068.479402080799, 18650.615750651705, 5417.774622695762, 1497.4656495473328, 15493.630776118127, 1222.4945820694904, 9349.177248439975, 80368.26963549944, 24478.748365214753, 21834.821750162762, 24572.152327749394, 9918.789828694273, 6532.629861869423, 2815.490112211032, 5684.272559104985, 6227.62062517431, 5960.818911875734, 3829.9099347458014, 10136.283380915498, 5504.1679377624105, 4740.357806953297, 7961.515500743945, 17034.502487130827, 8614.635812853696, 6657.0725698970555, 9097.730832699124, 13657.074173830091, 15065.191222868118, 14929.09679853652, 13028.703058310477, 13931.726528226125, 11847.453248365151, 10557.442989376816, 9046.563152815712, 8906.007785670598, 7869.435434750576, 7556.837126099523, 6755.787574955147, 4715.16794396401, 1070.7139853861056, 1475.992308155754, 6126.88014993094, 749.5642891528444, 1049.1969884407445, 1565.9295289301044, 526.3683219479784, 474.7274635825924, 2336.46137313989, 9289.208669399924, 133.42327971289885, 2643.860349940038, 391.0822904309543, 601.2196510318629, 26512.190608467583, 369.98837906886445, 292.545468297112, 1279.1922533922277, 2319.348305857114, 204.1794892722294, 586.4361093217127, 7708.002655877712, 8687.977484979147, 520.8927725639966, 3200.0298539048576, 1726.1401263461617, 2450.720175261753, 1213.932762095269, 440.8903619045568, 2388.4968120988533, 15220.515829552638, 4008.0398103777, 7542.658824440467, 43052.23124443607, 3157.612677332742, 28435.955207896364, 72623.75633339958, 7108.130951426368, 11519.137735038054, 17209.308887519397, 15098.9264638327, 34503.83521188575, 9028.626492062667, 3732.630074662468, 7025.165883240109, 3626.599104597888, 5740.205621459521, 27183.442018942977, 10754.392878211047, 11654.71082384566, 5704.02289856167, 5116.577471717547, 14737.530204019758, 19372.618762902734, 12415.044378400711, 10675.579246065472, 14408.944829757796, 12390.804990698258, 10621.056390899546, 9997.808405015005, 8306.911395350706, 8290.820711898037, 8215.479359777488, 17020.088054809927, 17197.53104772885, 45424.21424209189, 14282.21513178942, 5318.104826151913, 10748.777370786162, 2569.7885292935503, 2528.7780356749818, 2313.466736129825, 2263.334464001016, 1717.5519271119192, 1369.921646001903, 1105.279631304229, 1134.3185257916468, 1002.3256954471257, 1403.060857955031, 920.6245860347848, 872.0964080766128, 2535.9940088977146, 768.6852331714812, 753.8106856009201, 820.7748047095427, 724.9007224614743, 25988.331482544003, 665.4982014612526, 29320.140219680245, 628.8239964678098, 785.8002324730192, 1057.607249054643, 562.515447193376, 3339.568404639323, 1455.1838876026522, 1081.500064108994, 1734.7557995169755, 1938.3919178703634, 3562.4161433628406, 9677.057661023628, 1585.8648594522235, 1384.6583749141403, 6881.265613657214, 3626.296039040023, 18551.85049762514, 11718.569040906397, 3307.7000780665085, 24654.89616640862, 5965.557932074585, 24290.17140522832, 4568.846534582982, 5289.037570688813, 4428.625688549412, 42681.33514942849, 27405.951584595718, 9832.900307523885, 15145.061091399302, 8241.381158251785, 6966.483941489166, 17745.470325727158, 25390.639995630172, 11877.844280334313, 20760.796713404736, 6760.93090871033, 9710.48022134209, 11305.12508994323, 7050.130783737727, 9997.64594786484, 9884.339014274416, 8983.197111575491, 8491.59606224639, 7177.706032706552, 14319.23843268801, 5246.427433314611, 4867.2838804356425, 3853.9396014678214, 2776.405584354618, 2506.8355742219683, 2340.347469383482, 1634.184060518175, 1144.3275356065456, 1083.419117132855, 1059.4824157181074, 1021.6706355028555, 960.9081863427781, 867.1408101814981, 762.3213727903199, 735.4241191131832, 535.9098118841017, 25508.3247521427, 463.3576497536207, 400.1941973666714, 384.5068708265229, 340.5159433089353, 334.2061223131709, 332.4021203605395, 313.50771770428673, 307.75448733190495, 307.10121328217065, 292.05510683593195, 290.18476091756173, 287.62117091317253, 23523.780600465696, 2377.013148148855, 2929.688092764135, 1420.6872904226025, 1093.2995842125672, 1148.6497127900552, 1004.1652073437326, 2762.9628113953795, 1464.2595396782249, 1915.83798826626, 8096.520391775137, 153708.9387183938, 2416.5136151884335, 5660.803534587094, 16292.352790555986, 31021.483630619412, 7324.385399430355, 5513.918749780699, 6659.838414675097, 2325.814741859981, 2791.4265128252446, 12773.453740985602, 3846.165649717724, 2168.135151789507, 23488.154772093116, 66939.97072052788, 7828.674065852914, 10577.720758347541, 8117.2660365607635, 8971.286351870862, 4988.811926002749, 27165.216828865734, 11749.708188512524, 3470.323684780814, 8232.108826043255, 8786.099319884284, 3682.8265542890854, 13791.481878756606, 8333.979922490216, 7925.671713340332, 7994.507291545721, 5867.564566756949, 6825.711925128883, 6905.163544971502, 5977.517289815991, 5602.037635948144, 7736.3651080040445, 1218.3763117320602, 1032.7426875142453, 937.2221308527361, 1169.7062027799627, 641.1711154398998, 589.2839768235351, 2298.1935746869644, 1669.549679809475, 519.0696127763507, 425.87615779873715, 1181.561532331406, 666.1725238706947, 656.0602596175498, 866.3459655414758, 2285.9739068361946, 286.91801031375786, 654.9877318275867, 1262.8423184642677, 2803.8845522226916, 1041.793313521328, 1398.0121966515371, 1217.9407299760262, 16045.893791919016, 1380.048140585953, 574.5998267717474, 2295.079288177016, 354.6853954098669, 4494.312379263894, 2228.7207455134353, 13441.508637056497, 10515.994893065888, 6158.534426623439, 11962.953190160704, 4527.340304392318, 1766.3018623430244, 14699.347671519678, 3558.745766698322, 26176.205403064265, 5329.382159696659, 29675.715496221404, 3682.2760144353706, 20128.98795470318, 3661.353078571101, 6011.767491796002, 5724.9071283897865, 47372.45036239116, 3175.9385548244454, 2199.6206850223325, 3110.2845718035337, 3095.6285992156254, 23651.95351019428, 2896.1897403368, 3572.4126979995076, 9590.868461527423, 11205.643366378556, 7767.999663695934, 5961.191282001328, 7682.916027350648, 10713.067829344425, 7583.06739993275, 11042.672790226658, 9603.489996614127, 6815.216497654581, 9966.986663395222, 4868.985532503767, 5654.612600073096, 6221.816334759373, 5061.3659982037425, 5162.970733763481, 13362.702575831721, 2098.7819238727925, 1984.720069681939, 1681.3046459165591, 1353.5460868918237, 1223.3205544709676, 1160.0383840839809, 1142.2569055314063, 1139.0501859260116, 1135.1984949409452, 1119.9826924355, 1095.0324777206235, 1072.5592164987681, 1005.3406759181715, 994.3060392992473, 999.3836726595729, 1536.7952443808736, 885.3573999096901, 877.0738556130827, 786.3095275185173, 700.4891135702401, 659.0371391740609, 645.5202349508021, 639.7337453508807, 637.9070773488452, 625.4015871375913, 603.1270852312873, 594.5921603647059, 588.868169334801, 563.1710331699398, 5885.044646250357, 4487.58955938676, 8079.024946488276, 15366.75931029463, 2232.899696258522, 1962.9562423204743, 8212.19010665893, 8119.935285865006, 4898.951219414093, 5288.756995566155, 3574.62361833955, 6432.421216402443, 2117.0084014858176, 48629.07219710887, 10508.8639906976, 32973.38604097343, 2785.257899194809, 3017.1051822692557, 11128.69638917834, 18612.61665237053, 1896.8738818435977, 2917.0566396128647, 1701.7911226520114, 23974.11874875946, 6266.265129002514, 9652.662693559332, 8141.680629361032, 3205.9589943319684, 5029.453316671585, 4425.7684230385885, 11514.311410938684, 5355.948619017705, 5752.898871258679, 7680.396359265418, 6533.728048198613, 8183.956926393722, 6581.342485570163, 6443.590554190756, 6398.348520948335, 5901.651475154266, 5659.367277459537, 5559.867243510056, 5408.953413647982], \"Total\": [175796.0, 243578.0, 133727.0, 117866.0, 114434.0, 105618.0, 86655.0, 85821.0, 116648.0, 85982.0, 66496.0, 64558.0, 81137.0, 84808.0, 72313.0, 82176.0, 171133.0, 53826.0, 78988.0, 45428.0, 147653.0, 78432.0, 146079.0, 173962.0, 47130.0, 45574.0, 61378.0, 57442.0, 51102.0, 46849.0, 2110.6146337722084, 622.8413926029574, 626.6956044407747, 363.17603142192775, 333.5606172876755, 315.8588198883321, 300.2199457475035, 226.27819583445105, 208.71675679954467, 188.50199398819242, 603.0501570124611, 880.2392260435269, 1498.264812947696, 1830.511619930374, 431.6394706705645, 238.74100608026018, 686.4863443526569, 277.7514460743995, 2235.02629546896, 2250.099916668801, 893.2569361059249, 1379.9354176587824, 1394.1802698454371, 187.4078508147309, 568.5856686513195, 141.27089087312126, 17744.87960445773, 319.20004803230074, 291.55685775045976, 405.5106940112858, 888.8412874997858, 17669.900396946905, 4577.824134028778, 4593.2466367393945, 4213.143312565, 5722.52168251445, 1406.5846692184882, 37138.270741419554, 2247.7216373884658, 16033.426169253904, 39470.66830485511, 9360.3542378462, 3324.6101696914066, 55462.975093888854, 9106.398058241557, 1674.171607017736, 37933.58034441789, 54081.73898412826, 11271.83679513923, 9385.106106000758, 82552.48292093248, 45155.16817620672, 22899.486001026533, 12938.000675714444, 146079.23300312564, 42517.01097704011, 136671.13088890974, 44981.6949182614, 7810.040264200775, 28453.509468741406, 188742.49062544503, 79245.4792269275, 16952.269911933756, 25104.623496106833, 68637.4484393326, 46800.1438809076, 59626.95658841108, 184774.17902253332, 40654.45178741514, 61850.45788652882, 232945.95685030046, 160125.15087400045, 57594.237464187405, 67743.38618549946, 137200.30481783472, 94665.13467934476, 93385.64632765681, 156747.21184302328, 489.6184861630307, 414.05953998470903, 277.5161483567687, 3632.99015989516, 306.10815027180547, 204.79030391082128, 239.49508572296074, 691.5888800281333, 576.8759877597296, 163.65700613299532, 4585.199809311549, 1596.3649860758032, 607.1353692051138, 669.7961348443931, 202.2497486663063, 6159.212735605567, 350.9854983844024, 124.09955112306181, 2297.5943500164594, 847.7107274598156, 450.07520138598744, 1574.9052916664984, 244.42284237265397, 689.0575535685292, 1085.417733904559, 163.99049778169334, 17686.845973471147, 759.71148907134, 245.04467087700135, 286.7216780814529, 2192.9666345320666, 811.182669985272, 428.2376991258142, 3660.6805422875987, 4408.526581756689, 1160.3918253586335, 7659.062399171383, 11151.690859852282, 11326.895295004773, 74170.7735783777, 2793.5748795173363, 11075.222374164921, 2608.1258509194236, 5530.8156946016325, 3547.503925659558, 59544.81759012329, 7806.768175288747, 4592.768044080257, 8856.797356184461, 30556.70244148043, 7687.612852739493, 4308.547515751583, 20481.838552036115, 9042.568165154808, 8522.730587221617, 4368.101954327595, 16449.528252181437, 65602.99041425245, 24904.3671440913, 34791.19474113928, 22387.228071993653, 30502.122645552332, 17960.66763120122, 18243.79900750314, 29810.19725694398, 93385.64632765681, 94665.13467934476, 59388.42188030855, 40846.40969163976, 34010.634184493516, 65965.73272034847, 43814.82799905739, 35430.25456591131, 38767.32940743802, 64358.98325052598, 76822.34306083633, 27432.93260558191, 141932.115696171, 42819.4906075608, 188742.49062544503, 47760.44759107457, 117038.2032971313, 30793.315180615955, 146866.05501730513, 99022.52169174283, 49677.874489150374, 156747.21184302328, 96692.03628030041, 1466.3114030862102, 733.1056507057815, 638.8191066053903, 506.91473245233897, 477.26834475212684, 469.9577758199179, 459.28914878804665, 443.40673343706993, 422.6940372882831, 416.47787424238527, 824.7217120102426, 368.91945103519765, 8419.83585082802, 338.2062660057419, 316.82091408757776, 308.26694321920536, 294.1877984509071, 285.68889909181723, 281.4598976681379, 281.18305447687857, 276.27949984983644, 259.4922869987586, 219.52116513411815, 207.09646030949872, 710.9860457418043, 530.9224645726205, 157.3770747573098, 784.3162792477002, 146.62448795330585, 136.6306201117126, 3873.0279108414743, 1756.4975706255047, 3508.9595858780403, 1546.9536075449926, 2991.5835969061854, 870.1956377928982, 5423.656761344999, 1533.747651254591, 2110.590715836181, 526.1016997866487, 3682.169870194189, 6163.161164756695, 2361.8142587589523, 2507.0504211545394, 1591.0141874742483, 6232.02928805417, 3727.1833237895603, 2226.6301777651493, 881.5469126693655, 12695.712011902373, 13371.440268552189, 2197.4457761160675, 2178.2568629000148, 48779.8248172173, 6552.452879669156, 2647.4622540699943, 3071.6739368881026, 2285.7110666033564, 4156.604882569237, 3320.0311356354036, 2880.3697497937833, 39382.66098530951, 9872.156742713014, 10026.265721183356, 36233.95666200614, 16407.017380036847, 78988.59392160868, 12157.33442603853, 12463.551929202473, 14155.781579178407, 10836.118216710294, 13454.34152555797, 7859.161259340215, 6089.795880620197, 31364.226170948725, 22072.14324115561, 10401.505525006145, 22033.177639266865, 18239.790509149087, 17355.132884316798, 12716.020907598533, 86243.08044471769, 96069.38063948016, 54871.808825529944, 31684.12055813569, 28543.204680758037, 17256.77848445807, 45673.60911984023, 24053.546575306296, 171133.83097012737, 38976.90226185852, 32786.5002898477, 48598.071756591475, 52271.80400517199, 35029.415145409446, 55372.634274849, 104884.77309531688, 53960.61434085253, 65965.73272034847, 1024.474989030951, 875.910561373327, 814.6063735822818, 656.521407055585, 571.2176134035718, 547.3813773330446, 542.8433963280348, 565.3344287042523, 425.6643349923238, 380.99417051465963, 1300.1875923363705, 927.5908411849074, 261.4368892394246, 178.04302687010517, 362.4192204556223, 2001.1012144058757, 763.1864590984763, 5030.400227611985, 475.8402396133872, 559.672418715789, 1013.5473745851871, 1808.6967154821914, 1606.0632594892777, 766.7746472115206, 948.5221915824903, 602.3920777872227, 11507.632471614083, 1217.4536881181425, 374.7393971393625, 433.4069588479272, 18830.040693062492, 1435.273604183647, 1679.0601033514831, 1333.3144084630526, 4313.471593495766, 6996.482898648144, 10344.224223718635, 5685.950015330041, 1208.8691605843946, 14554.471229842127, 27374.727501895333, 7696.801013973828, 3982.242977611941, 7212.697769122389, 23178.81104855584, 5891.455860169058, 39461.04628300255, 4286.214359880428, 4519.314268447527, 18320.453052027613, 10105.680080361875, 103369.34021896015, 14706.411539815663, 71239.10488446627, 83235.29133407855, 24185.618376963706, 5363.98217887559, 7446.120322310067, 16294.46196495287, 33018.734183127905, 35572.8456581816, 20385.51056072523, 78432.82637792066, 19032.12519837987, 7304.769050580621, 58206.895908508384, 12730.221073995735, 99022.52169174283, 212624.85955157634, 145649.01232814303, 48888.01020064034, 51102.31341189212, 173962.60748829984, 26557.3517899422, 156747.21184302328, 59506.94763862436, 28128.92232022843, 141932.115696171, 146866.05501730513, 232945.95685030046, 243578.79170062183, 133727.37607051537, 48982.00047074512, 120394.91032908465, 45574.06834349858, 12552.754830420507, 6434.534699143433, 3212.8529616566007, 2777.7784808804295, 3628.588914283797, 2630.8950442402347, 1835.5519883435038, 1643.268177494464, 1633.377713998807, 5258.1211979960935, 1351.6593235530697, 2637.020171907468, 1246.4543859935013, 1198.3396355094633, 1161.9948161588943, 1136.3120877349254, 1997.5608758098156, 1076.2337103077405, 1068.9654157267591, 1090.2929675722182, 987.427364178683, 893.8385214904894, 1811.0965751138565, 932.6252797654142, 988.1785963084292, 5383.589839004238, 801.9102949440033, 811.3898143238923, 788.809366430991, 5607.923465853846, 13637.9092276518, 2647.4755911454604, 1920.3331596139117, 1125.83323837402, 1168.3675106074688, 9133.359752907816, 2634.6462353971574, 2555.6068306269194, 2207.527090384312, 4960.546953472124, 45050.52688563959, 6430.536045161358, 2030.9800816747293, 3873.09082818498, 13489.231139139512, 6624.573682243463, 26527.04590330743, 30162.59204256671, 7120.118636904883, 12139.177583783683, 6727.170267364067, 38383.877438116266, 66948.63412288699, 9084.699655955763, 15454.672094772526, 11637.981653049053, 65757.72534721279, 5748.666310495452, 31017.0457143489, 7160.1060231115025, 26113.918664630837, 48982.00047074512, 145649.01232814303, 173962.60748829984, 184774.17902253332, 26272.086016598663, 96069.38063948016, 92768.18466723392, 78090.04922277815, 43219.9578394406, 61423.976695369405, 232945.95685030046, 43301.27843054174, 82176.55698576917, 88558.56958537771, 117038.2032971313, 212624.85955157634, 4915.30637945629, 4506.391551787503, 1409.1519710615216, 1325.6731793128604, 1338.1850060897352, 1209.1303076424097, 904.1910062603702, 815.3986708035402, 705.2666374269365, 669.894751160461, 637.3105032103699, 590.7239241721452, 587.2561513107318, 570.3640207762345, 523.8865997302203, 505.5060819183803, 457.8002480793673, 446.3866020294305, 443.20324342380997, 484.4161496188114, 866.6066721203382, 449.9796102199759, 417.6929484460308, 406.2804444992447, 384.464338042155, 370.0191305662368, 23310.605782721064, 987.1015668544532, 352.23631431469704, 360.5315415844213, 53826.36660252583, 4050.0333950453423, 1140.0014426176722, 2780.2383048752854, 1669.1949382454354, 1279.7863397849694, 692.4074580285918, 485.8989785626492, 543.2141384723745, 2714.4867913301796, 845.6162793063975, 1145.4697255332594, 13387.664136674242, 2227.0327534873477, 72313.70604041191, 5099.8838811515725, 9860.382469296097, 1202.286204032281, 32265.240873907347, 86655.60415994698, 5299.444391686629, 16003.701562886712, 1609.5876618056122, 12093.9373823263, 2307.139511238705, 26088.325729943448, 48972.694755004806, 8469.997499718345, 46107.90227110307, 11480.586267268407, 2944.832824694486, 16856.17487827292, 3444.067786264486, 47408.34128823566, 12265.365412036648, 7093.166223488502, 5720.846077283175, 147653.01841093038, 19708.51571279387, 7000.7797528481115, 88558.56958537771, 55372.634274849, 160125.15087400045, 32637.594186945276, 129489.22323548867, 33376.82978293916, 173962.60748829984, 188742.49062544503, 43585.00160332052, 212624.85955157634, 52044.295951092136, 78988.59392160868, 232945.95685030046, 146079.23300312564, 141932.115696171, 9234.341211854258, 1360.041997958036, 1092.4142168064643, 702.9079823498278, 835.0403980393468, 455.7309375072687, 502.4620042510323, 272.0696218119307, 541.277592856267, 1987.3633267011514, 173.9817178987087, 261.27101851794697, 169.32341006041875, 257.92345583507336, 1483.9785566957166, 220.47234905305308, 128.76190593560779, 140.00146874163352, 119.30567967001593, 288.98943145985476, 683.7973493343454, 267.6953906886188, 260.13835846696276, 256.3174349673802, 130.0694956238851, 705.5568427712391, 338.4477115836784, 3591.3298280736667, 222.92514797946376, 5481.872098053114, 2343.778540027268, 1131.5888359525527, 46849.0794748605, 15974.637800934299, 8542.385102303911, 853.7234352152163, 3563.8604583268066, 85982.19743614328, 2067.0054294136967, 6005.863712431542, 1240.3275128833316, 2016.5834720753408, 84808.07052134459, 3859.4802659635457, 5114.766556026443, 55909.415077711, 65345.23682155134, 14963.225361543438, 6023.969656053685, 7488.465956319102, 4551.954363897878, 13819.193371134026, 17521.382296380245, 10888.557682708142, 67743.38618549946, 25445.02397409451, 66596.61888886601, 19212.993585110053, 40399.296433729374, 17503.936514778477, 29582.56015345071, 23229.982542534028, 12107.617479945127, 120394.91032908465, 45957.52110331396, 232945.95685030046, 28359.418157158416, 53850.959385242626, 212624.85955157634, 48598.071756591475, 21728.01907536436, 43219.9578394406, 82176.55698576917, 38499.43569779713, 160125.15087400045, 156747.21184302328, 141932.115696171, 173962.60748829984, 146866.05501730513, 61423.976695369405, 3612.9741104731834, 1949.929867839025, 951.0373760610229, 622.9959249764842, 562.7272719257801, 498.4223227147775, 434.7923125529921, 491.6497277641442, 366.84601913803806, 307.64367652013306, 291.31037162565616, 259.1330813849158, 266.81608932152994, 208.61018547351972, 189.55701749997667, 1224.9340458837464, 176.73476163029184, 150.5990318867443, 1697.8017995035486, 167.18554957565638, 434.93507226850306, 1391.0180773593386, 2736.2000469555433, 988.9326143661925, 408.07494124418815, 2745.1450545778303, 563.000787215128, 268.3088667539716, 3888.6251692516134, 406.2265115875533, 47130.56853796351, 844.6144739027687, 1166.0200767598644, 14935.495495342406, 944.6642498386556, 2541.299620968923, 1375.2687125439895, 39001.00141159932, 793.5969367931147, 1296.9987928814262, 946.899387048087, 9914.303083055935, 2248.2654812258706, 2107.965423900465, 4623.825315695451, 1204.7238098311907, 2047.959617695237, 5364.569592705822, 1649.7180874315438, 5471.354725610344, 1585.8370197215338, 5597.739343267186, 66243.2984992768, 24819.30643021615, 8819.113319736736, 7482.163688105723, 81137.51154586159, 8022.938120472381, 40654.45178741514, 40399.296433729374, 171133.83097012737, 7949.5381676883135, 5274.211271413115, 38087.19497288758, 30477.14041102313, 10505.515222152693, 184774.17902253332, 127683.3324231203, 21764.058860833506, 146079.23300312564, 78988.59392160868, 16598.54003147822, 188742.49062544503, 129489.22323548867, 54871.808825529944, 32518.606692065532, 232945.95685030046, 86243.08044471769, 95854.49474280902, 160125.15087400045, 55372.634274849, 104884.77309531688, 45673.60911984023, 32786.5002898477, 46407.30241765004, 78090.04922277815, 5962.464371582445, 4290.118035558998, 4136.089775413688, 3135.044871237564, 2994.3808582937913, 3151.8149441740625, 3095.0479714761163, 2638.4794820552124, 10528.45057955282, 2151.5297655950576, 2014.1826746344816, 1891.4424261788495, 1892.0620154643605, 1843.5387385255024, 1812.5916882880217, 1762.6203090700935, 1724.795908980856, 1536.6787075134614, 1478.9939618294904, 1549.6653216967702, 1453.33639295611, 1371.6473243385444, 1319.5474375120598, 1289.7517180295292, 1283.7930663483291, 1227.2380184495964, 1241.0909559298002, 1214.7609834910147, 1208.96568682975, 1180.1024571316202, 3738.1918219775034, 3476.459622150508, 21774.91100766027, 9093.41829650909, 11558.629035487218, 3437.937546783042, 2837.730376863782, 3567.9470578031796, 133727.37607051537, 38650.56577477155, 2474.4574181434105, 12493.214051421886, 8749.986639554572, 3818.050375844753, 2372.5036398097914, 2975.1501634159126, 51102.31341189212, 24754.888141365624, 27320.279703611275, 25008.178614495017, 4518.829679106633, 5182.261048311077, 48882.09393684356, 14683.790433444625, 40120.488693782594, 9919.342156866162, 22479.348078269904, 61378.00833018735, 173962.60748829984, 11692.90399065406, 23774.59242649854, 137200.30481783472, 92768.18466723392, 19559.329186726234, 48235.805387983004, 57594.237464187405, 31364.226170948725, 120394.91032908465, 136671.13088890974, 171133.83097012737, 160125.15087400045, 147653.01841093038, 59626.95658841108, 86243.08044471769, 9495.449622375008, 4804.689249018465, 2348.7010951882976, 2630.347859434545, 1342.0931280439784, 1023.9349882064065, 1831.3240946239357, 684.6763264821886, 604.296339636039, 654.906120319154, 499.63729613579466, 451.23930329084993, 388.9593401727823, 361.74676108286627, 337.4085600794716, 329.8117692444123, 355.25995061122467, 300.7441227861331, 260.31116048000825, 260.29442395083606, 194.72623581820886, 188.1822767550737, 333.62842512178065, 570.5326968030715, 12932.012500762503, 487.27536502089555, 1002.9168318327747, 404.2766181858002, 1598.934768673553, 2342.1225460411833, 1303.6516148926844, 8044.041925908835, 1579.523683082827, 565.3011772532795, 3334.5858279739496, 851.7313231171122, 1235.6731446222882, 1452.1665426034817, 15367.781421510763, 4060.393293551101, 7219.988356085808, 18405.945634315416, 10531.476169064, 10814.626654490447, 2781.4812705599315, 1738.759715361968, 7593.194429562914, 243578.79170062183, 2212.17430103225, 2588.5490855375915, 21076.687480900116, 16267.634105041603, 4821.7292199592985, 13747.499341600302, 19360.665030373235, 49677.874489150374, 8966.904364578122, 36694.56433842966, 61293.53323094741, 8984.00968805715, 10046.198625331537, 15952.87835521248, 54401.53427433025, 38801.9891862975, 13606.500116758152, 45769.13473503207, 9673.067503383865, 22546.059302649348, 28135.18102300698, 19490.320690655975, 156747.21184302328, 188742.49062544503, 51224.665514769906, 137200.30481783472, 232945.95685030046, 147653.01841093038, 146866.05501730513, 48888.01020064034, 88558.56958537771, 212624.85955157634, 75725.15393106644, 86243.08044471769, 184774.17902253332, 25935.42192740048, 16332.064960703168, 6182.905182376845, 6081.184439174311, 4474.486485747528, 2704.6961530581166, 2505.772698283468, 2332.4629756633412, 2182.9937679794675, 1885.5316115974192, 1833.116315673628, 11320.543565787983, 1541.0320888087504, 1398.3194506387392, 1350.0678306250286, 1374.4963319208468, 1337.1299247498428, 1314.6132818093367, 1210.8031641700313, 1500.32427549971, 1118.6648364181422, 1332.6529576055202, 1050.2245889998846, 998.9917015660667, 1933.7633245762527, 918.0461076985439, 897.1215070604504, 886.6444782361694, 4677.2175848453735, 839.0262579395081, 5073.878124506877, 20347.351000801882, 3659.8864647099176, 4493.100048749946, 1842.6771965631879, 1571.4687320793118, 2109.214556249893, 19738.201481075423, 7633.336154883965, 3834.42667556347, 2918.1962229632086, 16091.921384241745, 5536.47019736671, 7516.747148875822, 3298.4660664677363, 4494.207284591595, 6394.687286476078, 5794.989204834382, 5146.195814535484, 3409.8003046183403, 14621.4923128384, 9529.191893159501, 81137.51154586159, 9921.857901970094, 11275.116533490538, 12382.818929984338, 11981.394995146487, 14537.898237246438, 6009.013286754382, 66243.2984992768, 52271.80400517199, 96069.38063948016, 14088.938624621785, 51224.665514769906, 15950.335204861743, 85821.59555135577, 147653.01841093038, 188742.49062544503, 31982.34077172412, 16716.396389377693, 45769.13473503207, 38087.19497288758, 116648.6700522958, 232945.95685030046, 129489.22323548867, 160125.15087400045, 104884.77309531688, 3116.0337295881436, 3910.1755677867422, 2513.432058742375, 1333.4596155670051, 1178.0996152354685, 1087.0795550938883, 988.0782743860375, 960.1199331924151, 2433.3554940383437, 833.771148696411, 899.188791606166, 705.9599449572697, 811.9772063190554, 531.5996763884137, 382.4036121575896, 886.866192433189, 281.687421776356, 2320.2969656169976, 186.27697779550388, 576.4864480162458, 483.1673182243644, 162.79540419839822, 156.45940357302305, 130.6428737515136, 4038.7375645321313, 307.41729231172195, 3196.7967525514914, 1763.3111866794047, 797.1267451846568, 7435.533193828828, 21500.323380549064, 9839.6463821294, 8090.892840613412, 1614.2017568512701, 2803.99726004017, 894.5581701113645, 1223.6839874247034, 1702.4897696008452, 9934.24454734453, 917.2690546059266, 5717.405895763512, 22012.924632402333, 3134.374618405809, 12248.004033255844, 5019.956726960137, 2947.368657999955, 5727.9297801499615, 4222.801106740031, 40069.16500493685, 22935.401442571165, 5669.574362103403, 3739.508984224318, 59626.95658841108, 5638.118770518735, 9200.529180874619, 127683.3324231203, 19953.00658678539, 13849.141964900353, 13546.21566227205, 7025.576287773618, 11010.35610584706, 9087.25192830696, 129489.22323548867, 20373.77922907628, 40120.488693782594, 21631.19646915138, 54208.49479777197, 27589.397353352742, 212624.85955157634, 136671.13088890974, 146866.05501730513, 160125.15087400045, 171133.83097012737, 31449.65336239385, 79245.4792269275, 75906.3776838222, 146079.23300312564, 141932.115696171, 96692.03628030041, 24482.826208554583, 13696.369066506833, 3553.5819505622394, 3127.96415316627, 3447.83026380311, 3597.171959663272, 1925.013710307146, 1456.6656667784443, 1592.4818795574217, 1140.764642341462, 3747.533915378629, 1571.4673953756546, 1058.2395956239654, 919.0574730933092, 928.4560779037537, 1197.7927494801831, 812.7887437965351, 781.0121890411186, 779.9113575077945, 761.0714232541039, 782.4732817869823, 717.4911124953645, 644.0800055298498, 1102.3646229006872, 563.9697139530718, 585.1710749592398, 583.1341443835554, 514.9714041178189, 905.4080691264192, 418.25785797491625, 7830.139387656546, 39109.24263443408, 2711.8664852717434, 3647.4462267179015, 1249.8135265950239, 1008.6536929903058, 66496.16765068269, 5013.227459908152, 1983.061231068, 3463.8369997582854, 4623.098724755116, 3470.075039355037, 2354.9979143688092, 14274.258050112285, 13585.110218059459, 4523.609477387357, 21840.946306523598, 6730.956802067254, 3459.2589738884367, 52579.22183508514, 47408.34128823566, 7383.829045135851, 86655.60415994698, 42196.49141985249, 33376.82978293916, 24250.627031136253, 10896.25822402199, 26600.68142120959, 43301.27843054174, 173962.60748829984, 54401.53427433025, 46407.30241765004, 103369.34021896015, 22671.177772038012, 46800.1438809076, 13323.82279039455, 212624.85955157634, 71239.10488446627, 243578.79170062183, 67743.38618549946, 22072.14324115561, 145649.01232814303, 95854.49474280902, 147653.01841093038, 61293.53323094741, 78432.82637792066, 7400.610293599883, 5700.3698166696795, 3810.4631068275403, 2197.3214452073157, 1833.0612976208179, 1856.2318004653093, 1605.7724036242196, 1483.0299093382087, 1423.9634663013246, 1444.6456314420675, 1222.5189875937226, 1175.5356850940573, 974.9096779468277, 1963.508312990683, 876.1523329546184, 1243.56948507031, 1194.3743278499219, 980.1446379401349, 736.3410714424335, 750.5664216282016, 677.2054879037336, 707.489834884304, 579.9421855931565, 499.5714108477012, 1698.5360875622025, 491.59116560935644, 476.08048051960156, 1507.8953810746198, 1457.072300865488, 443.34013153704433, 13017.653528584884, 11227.51350115808, 3852.518900174205, 2854.0429415247017, 1848.5738864879177, 1126.16803542024, 935.4923053352999, 6043.7879127426595, 3350.7867347619854, 117866.84772007716, 2391.338863695971, 64558.477240130145, 8007.3451531065975, 26065.925832179513, 31664.433491440803, 7780.279469639165, 2526.2365654143964, 6789.023036580468, 10534.669378570634, 75725.15393106644, 43547.30873627987, 78432.82637792066, 5711.132089581585, 21764.058860833506, 6296.489051859041, 49520.18305779646, 6562.7804739082985, 52579.22183508514, 22345.94324439612, 28061.5765090293, 243578.79170062183, 147653.01841093038, 85821.59555135577, 27213.725316096203, 23917.711779749654, 39461.04628300255, 145649.01232814303, 212624.85955157634, 41998.33818359805, 184774.17902253332, 48888.01020064034, 103369.34021896015, 75906.3776838222, 4148.439504018115, 2583.32994109081, 2085.5939728407134, 1890.3982015163422, 1395.9030385733693, 1054.5650972434776, 1119.6861072945962, 565.4762134268723, 558.0194737069091, 2197.349106010262, 514.577871774661, 424.064508899826, 2426.1771628844417, 239.77427449649883, 424.12743826230076, 215.60766656188778, 209.77338876929102, 174.2596114293153, 153.5694366735488, 1651.2281429774737, 655.2363633571332, 409.01824568560613, 668.269703095546, 1179.610659761672, 1877.4423210910807, 30215.424710094063, 2802.6513141018295, 199.16214572307382, 716.5047424460397, 1840.803857712074, 3373.671582967676, 5904.088733751181, 1751.008228714779, 23281.6159036833, 16019.869416895994, 6228.101864607312, 2161.3008872983596, 2006.352741841231, 1415.7616538768832, 14396.491381216963, 20807.827436771433, 5817.792521213124, 1549.5244426164443, 17408.687784495225, 1258.3885810311203, 10615.216627314685, 105618.11121900241, 29851.75957444756, 26641.565268722956, 33049.207934882266, 12468.87411518561, 7992.971005824178, 3098.0069774285844, 6950.648983160355, 7829.568713718377, 7677.472279969582, 4518.88859084029, 15380.530325786842, 7288.713301091837, 6199.772909458782, 13540.78606223662, 45957.52110331396, 16675.47714680031, 11513.704521437583, 19295.263571617037, 49520.18305779646, 68637.4484393326, 117038.2032971313, 184774.17902253332, 232945.95685030046, 137200.30481783472, 212624.85955157634, 160125.15087400045, 173962.60748829984, 136671.13088890974, 156747.21184302328, 53850.959385242626, 4716.2385453813295, 1071.6891035898052, 1477.3588855748674, 6134.459255176427, 750.6232787133782, 1051.6601922052655, 1571.36011659146, 528.2907653307757, 477.2234099906343, 2350.6813493107184, 9348.587702478688, 134.3844594015173, 2665.1064876285664, 394.58886370094393, 609.1147725102535, 27007.028576179633, 376.97708793213036, 300.1849136857713, 1316.9259984963776, 2401.549494891817, 212.00410586635428, 609.6164870697203, 8100.836920612342, 9146.832918340167, 549.9682776357834, 3395.181130406765, 1867.420593484434, 2688.738847766723, 1333.6986922665742, 487.470843492544, 2641.5818759250164, 18524.654977798815, 4618.647493329661, 9086.151171038951, 57442.484137176056, 3707.5045249180803, 41251.188293846775, 116648.6700522958, 9193.227959267198, 16477.74799041705, 25966.407647001728, 24388.016185144337, 64801.08406633963, 14809.959754920521, 5064.634016589338, 12310.682914369654, 5416.024454764269, 11041.72942467876, 129489.22323548867, 32637.594186945276, 38499.43569779713, 11499.840197957954, 10293.978610636155, 75906.3776838222, 145649.01232814303, 88558.56958537771, 66948.63412288699, 173962.60748829984, 232945.95685030046, 146866.05501730513, 141932.115696171, 61850.45788652882, 137200.30481783472, 156747.21184302328, 17021.105959192162, 17198.725150420327, 45428.31552555357, 14284.145847251399, 5319.131893855382, 10751.950457470048, 2570.769895897823, 2529.7621687185397, 2314.4299609683203, 2264.3047106417075, 1718.512737409667, 1370.8820302720026, 1106.2403771855918, 1135.3341006745682, 1003.2893392308902, 1404.5055001498806, 921.5854358573436, 873.071939072038, 2539.07545930575, 769.6667613170401, 754.7817341435041, 821.8361826560204, 725.8615713241146, 26025.26888289146, 666.4578748365151, 29364.586810287914, 629.7931815201499, 787.0356368568362, 1059.3542897792404, 563.474928645232, 3360.0006021300746, 1459.5487440336562, 1083.55293898469, 1748.3121135625265, 1958.15113460023, 3680.4189557341992, 10413.018039310182, 1613.8041750061986, 1405.4866583100286, 7569.100413780414, 3861.552144601212, 22706.876446692815, 14028.886665963428, 3616.923995763615, 33442.01360252143, 7237.854157185102, 35532.10065525905, 5722.831670674847, 7146.42774609851, 6015.652640596527, 114434.74670836689, 92768.18466723392, 23774.59242649854, 48235.805387983004, 19130.090685598763, 14506.830612282014, 83235.29133407855, 171133.83097012737, 43219.9578394406, 175796.94091538538, 16552.537900913398, 41998.33818359805, 65757.72534721279, 26600.68142120959, 120394.91032908465, 184774.17902253332, 136671.13088890974, 147653.01841093038, 31723.61997071344, 14320.204145549073, 5247.393442743957, 4868.312150502151, 3854.9066901047836, 2777.411870041082, 2507.7980500477706, 2341.3089510071436, 1635.156999590279, 1145.2911114403303, 1084.407408990292, 1060.4718325084498, 1022.6519290087039, 961.8718536483591, 868.1116823728064, 763.286075351985, 736.3867759410554, 536.9160159514465, 25557.387227337356, 464.31948973269755, 401.18994134860225, 385.4771749879758, 341.4771744847499, 335.1673450049236, 333.3659986258084, 314.4743339651374, 308.71567085579983, 308.0690827698193, 293.0201900710902, 291.14867615261494, 288.5850528671898, 24058.56749146999, 2394.3893271415436, 2967.907409806149, 1430.9540582591712, 1099.1489963394204, 1156.6771864030118, 1011.7575549584442, 2819.623933182224, 1486.19046203991, 1949.8469391452998, 8576.071887578992, 175796.94091538538, 2515.0888781968592, 6265.631254676919, 19162.73789424095, 38493.508109519906, 8303.645980656853, 6202.832510445495, 7625.287560823027, 2474.945799290913, 3031.7682177857314, 16003.074825580736, 4343.585630896306, 2336.170597589528, 34074.11096583702, 114434.74670836689, 10893.71347765409, 15863.556857562933, 12928.713985947254, 17740.068253152473, 7814.747146057216, 120394.91032908465, 32280.918157842105, 4515.650742732766, 27553.90310177668, 33442.01360252143, 5348.303745684116, 145649.01232814303, 57181.3624278726, 54208.49479777197, 65757.72534721279, 26558.237491546963, 171133.83097012737, 212624.85955157634, 46573.5554327581, 84808.07052134459, 7737.877843783179, 1219.3452372667289, 1033.7096460836071, 938.2212440829569, 1171.030296107358, 642.1307484944163, 590.3100805588217, 2303.654502606749, 1673.742382849269, 520.3813982100274, 427.0678693453349, 1185.0899930301305, 668.515550256982, 658.4626440375415, 870.0284024016903, 2307.040594081264, 289.5826499018216, 662.4621298847485, 1277.9518529714137, 2841.371516711316, 1057.2764964299192, 1422.9712505729033, 1239.7924428021493, 16333.832461536133, 1407.4880533474657, 586.551566147547, 2343.42671094194, 363.17718717207663, 4606.791061782042, 2287.793608614868, 13848.681858595275, 11161.576202286624, 6468.375887828981, 12836.737340644597, 4821.962826087108, 1838.7485181080174, 16350.582406478603, 3792.9248367252885, 30967.38080856704, 5863.711434868574, 37074.28370098055, 4044.4877863722354, 25767.175875752477, 4098.938880303404, 7052.563498844763, 6849.300173010432, 82176.55698576917, 3760.78512216838, 2443.5377804556038, 3703.6716288478806, 3746.352041046791, 53850.959385242626, 3625.6055184176444, 5041.053442809502, 26113.918664630837, 34273.119927221655, 26558.237491546963, 16598.54003147822, 31017.0457143489, 68637.4484393326, 33018.734183127905, 88558.56958537771, 64801.08406633963, 38499.43569779713, 212624.85955157634, 17387.37624109053, 43301.27843054174, 156747.21184302328, 58206.895908508384, 137200.30481783472, 13363.671187686225, 2099.7474566712995, 1985.68649222235, 1682.2727204300932, 1354.508197416021, 1224.2892363984201, 1161.0004092264069, 1143.2189542025367, 1140.0121287890213, 1136.1606107637465, 1120.9469090390517, 1095.9970034148462, 1073.5213815152322, 1006.303239127098, 995.2684665949901, 1000.4115829464591, 1538.4166235836203, 886.3205545484936, 878.0362136495601, 787.3839790909075, 701.4511571857678, 659.9991284017341, 646.4829683811145, 640.6975927257862, 638.8691329619052, 626.3632931822566, 604.0894954064627, 595.5606754163182, 589.830400372976, 564.1329202151293, 5930.67310737856, 4521.978852460284, 8225.035453445997, 15804.567606870663, 2260.4836944923723, 1994.4301549902668, 8721.02795511216, 9008.416500702926, 5378.725798440162, 6072.181639985013, 4024.914824879773, 7823.5726112720195, 2369.7993530645467, 85821.59555135577, 15111.206892894697, 61378.00833018735, 3372.860331835937, 3849.6579313030443, 19710.800742261392, 43585.00160332052, 2259.288086112826, 4059.380664536445, 1962.1371587024666, 78090.04922277815, 12660.119176605347, 24185.618376963706, 20274.692723387958, 5111.1841308054045, 10827.077552886074, 10285.790641874395, 86243.08044471769, 19265.377646479545, 23917.711779749654, 54871.808825529944, 45769.13473503207, 160125.15087400045, 95854.49474280902, 141932.115696171, 156747.21184302328, 146866.05501730513, 147653.01841093038, 232945.95685030046, 173962.60748829984], \"Category\": [\"Default\", \"Default\", \"Default\", \"Default\", \"Default\", \"Default\", \"Default\", \"Default\", \"Default\", \"Default\", \"Default\", \"Default\", \"Default\", \"Default\", \"Default\", \"Default\", \"Default\", \"Default\", \"Default\", \"Default\", \"Default\", \"Default\", \"Default\", \"Default\", \"Default\", \"Default\", \"Default\", \"Default\", \"Default\", \"Default\", \"Topic1\", \"Topic1\", \"Topic1\", \"Topic1\", \"Topic1\", \"Topic1\", \"Topic1\", \"Topic1\", \"Topic1\", \"Topic1\", \"Topic1\", \"Topic1\", \"Topic1\", \"Topic1\", \"Topic1\", \"Topic1\", \"Topic1\", \"Topic1\", \"Topic1\", \"Topic1\", \"Topic1\", \"Topic1\", \"Topic1\", \"Topic1\", \"Topic1\", \"Topic1\", \"Topic1\", \"Topic1\", \"Topic1\", \"Topic1\", \"Topic1\", \"Topic1\", \"Topic1\", \"Topic1\", \"Topic1\", \"Topic1\", \"Topic1\", \"Topic1\", \"Topic1\", \"Topic1\", \"Topic1\", \"Topic1\", \"Topic1\", \"Topic1\", \"Topic1\", \"Topic1\", \"Topic1\", \"Topic1\", \"Topic1\", \"Topic1\", \"Topic1\", \"Topic1\", \"Topic1\", \"Topic1\", \"Topic1\", \"Topic1\", \"Topic1\", \"Topic1\", \"Topic1\", \"Topic1\", \"Topic1\", \"Topic1\", \"Topic1\", \"Topic1\", \"Topic1\", \"Topic1\", \"Topic1\", \"Topic1\", \"Topic1\", \"Topic1\", \"Topic1\", \"Topic1\", \"Topic1\", \"Topic1\", \"Topic1\", \"Topic1\", \"Topic1\", \"Topic1\", \"Topic2\", \"Topic2\", \"Topic2\", \"Topic2\", \"Topic2\", \"Topic2\", \"Topic2\", \"Topic2\", \"Topic2\", \"Topic2\", \"Topic2\", \"Topic2\", \"Topic2\", \"Topic2\", \"Topic2\", \"Topic2\", \"Topic2\", \"Topic2\", \"Topic2\", \"Topic2\", \"Topic2\", \"Topic2\", \"Topic2\", \"Topic2\", \"Topic2\", \"Topic2\", \"Topic2\", \"Topic2\", \"Topic2\", \"Topic2\", \"Topic2\", \"Topic2\", \"Topic2\", \"Topic2\", \"Topic2\", \"Topic2\", \"Topic2\", \"Topic2\", \"Topic2\", \"Topic2\", \"Topic2\", \"Topic2\", \"Topic2\", \"Topic2\", \"Topic2\", \"Topic2\", \"Topic2\", \"Topic2\", \"Topic2\", \"Topic2\", \"Topic2\", \"Topic2\", \"Topic2\", \"Topic2\", \"Topic2\", \"Topic2\", \"Topic2\", \"Topic2\", \"Topic2\", \"Topic2\", \"Topic2\", \"Topic2\", \"Topic2\", \"Topic2\", \"Topic2\", \"Topic2\", \"Topic2\", \"Topic2\", \"Topic2\", \"Topic2\", \"Topic2\", \"Topic2\", \"Topic2\", \"Topic2\", \"Topic2\", \"Topic2\", \"Topic2\", \"Topic2\", \"Topic2\", \"Topic2\", \"Topic2\", \"Topic2\", \"Topic2\", \"Topic2\", \"Topic2\", \"Topic2\", \"Topic2\", \"Topic2\", \"Topic3\", \"Topic3\", \"Topic3\", \"Topic3\", \"Topic3\", \"Topic3\", \"Topic3\", \"Topic3\", \"Topic3\", \"Topic3\", \"Topic3\", \"Topic3\", \"Topic3\", \"Topic3\", \"Topic3\", \"Topic3\", \"Topic3\", \"Topic3\", \"Topic3\", \"Topic3\", \"Topic3\", \"Topic3\", \"Topic3\", \"Topic3\", \"Topic3\", \"Topic3\", \"Topic3\", \"Topic3\", \"Topic3\", \"Topic3\", \"Topic3\", \"Topic3\", \"Topic3\", \"Topic3\", \"Topic3\", \"Topic3\", \"Topic3\", \"Topic3\", \"Topic3\", \"Topic3\", \"Topic3\", \"Topic3\", \"Topic3\", \"Topic3\", \"Topic3\", \"Topic3\", \"Topic3\", \"Topic3\", \"Topic3\", \"Topic3\", \"Topic3\", \"Topic3\", \"Topic3\", \"Topic3\", \"Topic3\", \"Topic3\", \"Topic3\", \"Topic3\", \"Topic3\", \"Topic3\", \"Topic3\", \"Topic3\", \"Topic3\", \"Topic3\", \"Topic3\", \"Topic3\", \"Topic3\", \"Topic3\", \"Topic3\", \"Topic3\", \"Topic3\", \"Topic3\", \"Topic3\", \"Topic3\", \"Topic3\", \"Topic3\", \"Topic3\", \"Topic3\", \"Topic3\", \"Topic3\", \"Topic3\", \"Topic3\", \"Topic3\", \"Topic3\", \"Topic3\", \"Topic3\", \"Topic3\", \"Topic3\", \"Topic3\", \"Topic3\", \"Topic3\", \"Topic3\", \"Topic3\", \"Topic3\", \"Topic3\", \"Topic3\", \"Topic3\", \"Topic3\", \"Topic3\", \"Topic4\", \"Topic4\", \"Topic4\", \"Topic4\", \"Topic4\", \"Topic4\", \"Topic4\", \"Topic4\", \"Topic4\", \"Topic4\", \"Topic4\", \"Topic4\", \"Topic4\", \"Topic4\", \"Topic4\", \"Topic4\", \"Topic4\", \"Topic4\", \"Topic4\", \"Topic4\", \"Topic4\", \"Topic4\", \"Topic4\", \"Topic4\", \"Topic4\", \"Topic4\", \"Topic4\", \"Topic4\", \"Topic4\", \"Topic4\", \"Topic4\", \"Topic4\", \"Topic4\", \"Topic4\", \"Topic4\", \"Topic4\", \"Topic4\", \"Topic4\", \"Topic4\", \"Topic4\", \"Topic4\", \"Topic4\", \"Topic4\", \"Topic4\", \"Topic4\", \"Topic4\", \"Topic4\", \"Topic4\", \"Topic4\", \"Topic4\", \"Topic4\", \"Topic4\", \"Topic4\", \"Topic4\", \"Topic4\", \"Topic4\", \"Topic4\", \"Topic4\", \"Topic4\", \"Topic4\", \"Topic4\", \"Topic4\", \"Topic4\", \"Topic4\", \"Topic4\", \"Topic4\", \"Topic4\", \"Topic4\", \"Topic4\", \"Topic4\", \"Topic4\", \"Topic4\", \"Topic4\", \"Topic4\", \"Topic4\", \"Topic4\", \"Topic4\", \"Topic4\", \"Topic4\", \"Topic4\", \"Topic4\", \"Topic4\", \"Topic4\", \"Topic4\", \"Topic5\", \"Topic5\", \"Topic5\", \"Topic5\", \"Topic5\", \"Topic5\", \"Topic5\", \"Topic5\", \"Topic5\", \"Topic5\", \"Topic5\", \"Topic5\", \"Topic5\", \"Topic5\", \"Topic5\", \"Topic5\", \"Topic5\", \"Topic5\", \"Topic5\", \"Topic5\", \"Topic5\", \"Topic5\", \"Topic5\", \"Topic5\", \"Topic5\", \"Topic5\", \"Topic5\", \"Topic5\", \"Topic5\", \"Topic5\", \"Topic5\", \"Topic5\", \"Topic5\", \"Topic5\", \"Topic5\", \"Topic5\", \"Topic5\", \"Topic5\", \"Topic5\", \"Topic5\", \"Topic5\", \"Topic5\", \"Topic5\", \"Topic5\", \"Topic5\", \"Topic5\", \"Topic5\", \"Topic5\", \"Topic5\", \"Topic5\", \"Topic5\", \"Topic5\", \"Topic5\", \"Topic5\", \"Topic5\", \"Topic5\", \"Topic5\", \"Topic5\", \"Topic5\", \"Topic5\", \"Topic5\", \"Topic5\", \"Topic5\", \"Topic5\", \"Topic5\", \"Topic5\", \"Topic5\", \"Topic5\", \"Topic5\", \"Topic5\", \"Topic5\", \"Topic5\", \"Topic5\", \"Topic5\", \"Topic5\", \"Topic5\", \"Topic5\", \"Topic5\", \"Topic6\", \"Topic6\", \"Topic6\", \"Topic6\", \"Topic6\", \"Topic6\", \"Topic6\", \"Topic6\", \"Topic6\", \"Topic6\", \"Topic6\", \"Topic6\", \"Topic6\", \"Topic6\", \"Topic6\", \"Topic6\", \"Topic6\", \"Topic6\", \"Topic6\", \"Topic6\", \"Topic6\", \"Topic6\", \"Topic6\", \"Topic6\", \"Topic6\", \"Topic6\", \"Topic6\", \"Topic6\", \"Topic6\", \"Topic6\", \"Topic6\", \"Topic6\", \"Topic6\", \"Topic6\", \"Topic6\", \"Topic6\", \"Topic6\", \"Topic6\", \"Topic6\", \"Topic6\", \"Topic6\", \"Topic6\", \"Topic6\", \"Topic6\", \"Topic6\", \"Topic6\", \"Topic6\", \"Topic6\", \"Topic6\", \"Topic6\", \"Topic6\", \"Topic6\", \"Topic6\", \"Topic6\", \"Topic6\", \"Topic6\", \"Topic6\", \"Topic6\", \"Topic6\", \"Topic6\", \"Topic6\", \"Topic6\", \"Topic6\", \"Topic6\", \"Topic6\", \"Topic6\", \"Topic6\", \"Topic6\", \"Topic6\", \"Topic6\", \"Topic6\", \"Topic6\", \"Topic6\", \"Topic6\", \"Topic6\", \"Topic6\", \"Topic6\", \"Topic6\", \"Topic6\", \"Topic6\", \"Topic6\", \"Topic6\", \"Topic6\", \"Topic6\", \"Topic6\", \"Topic7\", \"Topic7\", \"Topic7\", \"Topic7\", \"Topic7\", \"Topic7\", \"Topic7\", \"Topic7\", \"Topic7\", \"Topic7\", \"Topic7\", \"Topic7\", \"Topic7\", \"Topic7\", \"Topic7\", \"Topic7\", \"Topic7\", \"Topic7\", \"Topic7\", \"Topic7\", \"Topic7\", \"Topic7\", \"Topic7\", \"Topic7\", \"Topic7\", \"Topic7\", \"Topic7\", \"Topic7\", \"Topic7\", \"Topic7\", \"Topic7\", \"Topic7\", \"Topic7\", \"Topic7\", \"Topic7\", \"Topic7\", \"Topic7\", \"Topic7\", \"Topic7\", \"Topic7\", \"Topic7\", \"Topic7\", \"Topic7\", \"Topic7\", \"Topic7\", \"Topic7\", \"Topic7\", \"Topic7\", \"Topic7\", \"Topic7\", \"Topic7\", \"Topic7\", \"Topic7\", \"Topic7\", \"Topic7\", \"Topic7\", \"Topic7\", \"Topic7\", \"Topic7\", \"Topic7\", \"Topic7\", \"Topic7\", \"Topic7\", \"Topic7\", \"Topic7\", \"Topic7\", \"Topic7\", \"Topic7\", \"Topic7\", \"Topic7\", \"Topic7\", \"Topic7\", \"Topic7\", \"Topic7\", \"Topic7\", \"Topic7\", \"Topic7\", \"Topic7\", \"Topic7\", \"Topic7\", \"Topic8\", \"Topic8\", \"Topic8\", \"Topic8\", \"Topic8\", \"Topic8\", \"Topic8\", \"Topic8\", \"Topic8\", \"Topic8\", \"Topic8\", \"Topic8\", \"Topic8\", \"Topic8\", \"Topic8\", \"Topic8\", \"Topic8\", \"Topic8\", \"Topic8\", \"Topic8\", \"Topic8\", \"Topic8\", \"Topic8\", \"Topic8\", \"Topic8\", \"Topic8\", \"Topic8\", \"Topic8\", \"Topic8\", \"Topic8\", \"Topic8\", \"Topic8\", \"Topic8\", \"Topic8\", \"Topic8\", \"Topic8\", \"Topic8\", \"Topic8\", \"Topic8\", \"Topic8\", \"Topic8\", \"Topic8\", \"Topic8\", \"Topic8\", \"Topic8\", \"Topic8\", \"Topic8\", \"Topic8\", \"Topic8\", \"Topic8\", \"Topic8\", \"Topic8\", \"Topic8\", \"Topic8\", \"Topic8\", \"Topic8\", \"Topic8\", \"Topic8\", \"Topic8\", \"Topic8\", \"Topic8\", \"Topic8\", \"Topic8\", \"Topic8\", \"Topic8\", \"Topic8\", \"Topic8\", \"Topic8\", \"Topic8\", \"Topic8\", \"Topic8\", \"Topic8\", \"Topic8\", \"Topic8\", \"Topic8\", \"Topic8\", \"Topic8\", \"Topic8\", \"Topic8\", \"Topic8\", \"Topic8\", \"Topic8\", \"Topic8\", \"Topic8\", \"Topic8\", \"Topic8\", \"Topic9\", \"Topic9\", \"Topic9\", \"Topic9\", \"Topic9\", \"Topic9\", \"Topic9\", \"Topic9\", \"Topic9\", \"Topic9\", \"Topic9\", \"Topic9\", \"Topic9\", \"Topic9\", \"Topic9\", \"Topic9\", \"Topic9\", \"Topic9\", \"Topic9\", \"Topic9\", \"Topic9\", \"Topic9\", \"Topic9\", \"Topic9\", \"Topic9\", \"Topic9\", \"Topic9\", \"Topic9\", \"Topic9\", \"Topic9\", \"Topic9\", \"Topic9\", \"Topic9\", \"Topic9\", \"Topic9\", \"Topic9\", \"Topic9\", \"Topic9\", \"Topic9\", \"Topic9\", \"Topic9\", \"Topic9\", \"Topic9\", \"Topic9\", \"Topic9\", \"Topic9\", \"Topic9\", \"Topic9\", \"Topic9\", \"Topic9\", \"Topic9\", \"Topic9\", \"Topic9\", \"Topic9\", \"Topic9\", \"Topic9\", \"Topic9\", \"Topic9\", \"Topic9\", \"Topic9\", \"Topic9\", \"Topic9\", \"Topic9\", \"Topic9\", \"Topic9\", \"Topic9\", \"Topic9\", \"Topic9\", \"Topic9\", \"Topic9\", \"Topic9\", \"Topic9\", \"Topic9\", \"Topic9\", \"Topic10\", \"Topic10\", \"Topic10\", \"Topic10\", \"Topic10\", \"Topic10\", \"Topic10\", \"Topic10\", \"Topic10\", \"Topic10\", \"Topic10\", \"Topic10\", \"Topic10\", \"Topic10\", \"Topic10\", \"Topic10\", \"Topic10\", \"Topic10\", \"Topic10\", \"Topic10\", \"Topic10\", \"Topic10\", \"Topic10\", \"Topic10\", \"Topic10\", \"Topic10\", \"Topic10\", \"Topic10\", \"Topic10\", \"Topic10\", \"Topic10\", \"Topic10\", \"Topic10\", \"Topic10\", \"Topic10\", \"Topic10\", \"Topic10\", \"Topic10\", \"Topic10\", \"Topic10\", \"Topic10\", \"Topic10\", \"Topic10\", \"Topic10\", \"Topic10\", \"Topic10\", \"Topic10\", \"Topic10\", \"Topic10\", \"Topic10\", \"Topic10\", \"Topic10\", \"Topic10\", \"Topic10\", \"Topic10\", \"Topic10\", \"Topic10\", \"Topic10\", \"Topic10\", \"Topic10\", \"Topic10\", \"Topic10\", \"Topic10\", \"Topic10\", \"Topic10\", \"Topic10\", \"Topic10\", \"Topic10\", \"Topic10\", \"Topic10\", \"Topic10\", \"Topic10\", \"Topic10\", \"Topic10\", \"Topic10\", \"Topic10\", \"Topic10\", \"Topic10\", \"Topic10\", \"Topic10\", \"Topic10\", \"Topic10\", \"Topic10\", \"Topic11\", \"Topic11\", \"Topic11\", \"Topic11\", \"Topic11\", \"Topic11\", \"Topic11\", \"Topic11\", \"Topic11\", \"Topic11\", \"Topic11\", \"Topic11\", \"Topic11\", \"Topic11\", \"Topic11\", \"Topic11\", \"Topic11\", \"Topic11\", \"Topic11\", \"Topic11\", \"Topic11\", \"Topic11\", \"Topic11\", \"Topic11\", \"Topic11\", \"Topic11\", \"Topic11\", \"Topic11\", \"Topic11\", \"Topic11\", \"Topic11\", \"Topic11\", \"Topic11\", \"Topic11\", \"Topic11\", \"Topic11\", \"Topic11\", \"Topic11\", \"Topic11\", \"Topic11\", \"Topic11\", \"Topic11\", \"Topic11\", \"Topic11\", \"Topic11\", \"Topic11\", \"Topic11\", \"Topic11\", \"Topic11\", \"Topic11\", \"Topic11\", \"Topic11\", \"Topic11\", \"Topic11\", \"Topic11\", \"Topic11\", \"Topic11\", \"Topic11\", \"Topic11\", \"Topic11\", \"Topic11\", \"Topic11\", \"Topic11\", \"Topic11\", \"Topic11\", \"Topic11\", \"Topic11\", \"Topic11\", \"Topic11\", \"Topic11\", \"Topic11\", \"Topic11\", \"Topic11\", \"Topic11\", \"Topic11\", \"Topic11\", \"Topic11\", \"Topic12\", \"Topic12\", \"Topic12\", \"Topic12\", \"Topic12\", \"Topic12\", \"Topic12\", \"Topic12\", \"Topic12\", \"Topic12\", \"Topic12\", \"Topic12\", \"Topic12\", \"Topic12\", \"Topic12\", \"Topic12\", \"Topic12\", \"Topic12\", \"Topic12\", \"Topic12\", \"Topic12\", \"Topic12\", \"Topic12\", \"Topic12\", \"Topic12\", \"Topic12\", \"Topic12\", \"Topic12\", \"Topic12\", \"Topic12\", \"Topic12\", \"Topic12\", \"Topic12\", \"Topic12\", \"Topic12\", \"Topic12\", \"Topic12\", \"Topic12\", \"Topic12\", \"Topic12\", \"Topic12\", \"Topic12\", \"Topic12\", \"Topic12\", \"Topic12\", \"Topic12\", \"Topic12\", \"Topic12\", \"Topic12\", \"Topic12\", \"Topic12\", \"Topic12\", \"Topic12\", \"Topic12\", \"Topic12\", \"Topic12\", \"Topic12\", \"Topic12\", \"Topic12\", \"Topic12\", \"Topic12\", \"Topic12\", \"Topic12\", \"Topic12\", \"Topic12\", \"Topic12\", \"Topic12\", \"Topic12\", \"Topic12\", \"Topic12\", \"Topic12\", \"Topic12\", \"Topic12\", \"Topic12\", \"Topic12\", \"Topic12\", \"Topic12\", \"Topic12\", \"Topic12\", \"Topic13\", \"Topic13\", \"Topic13\", \"Topic13\", \"Topic13\", \"Topic13\", \"Topic13\", \"Topic13\", \"Topic13\", \"Topic13\", \"Topic13\", \"Topic13\", \"Topic13\", \"Topic13\", \"Topic13\", \"Topic13\", \"Topic13\", \"Topic13\", \"Topic13\", \"Topic13\", \"Topic13\", \"Topic13\", \"Topic13\", \"Topic13\", \"Topic13\", \"Topic13\", \"Topic13\", \"Topic13\", \"Topic13\", \"Topic13\", \"Topic13\", \"Topic13\", \"Topic13\", \"Topic13\", \"Topic13\", \"Topic13\", \"Topic13\", \"Topic13\", \"Topic13\", \"Topic13\", \"Topic13\", \"Topic13\", \"Topic13\", \"Topic13\", \"Topic13\", \"Topic13\", \"Topic13\", \"Topic13\", \"Topic13\", \"Topic13\", \"Topic13\", \"Topic13\", \"Topic13\", \"Topic13\", \"Topic13\", \"Topic13\", \"Topic13\", \"Topic13\", \"Topic13\", \"Topic13\", \"Topic13\", \"Topic13\", \"Topic13\", \"Topic13\", \"Topic13\", \"Topic13\", \"Topic13\", \"Topic13\", \"Topic13\", \"Topic13\", \"Topic13\", \"Topic13\", \"Topic13\", \"Topic13\", \"Topic13\", \"Topic13\", \"Topic14\", \"Topic14\", \"Topic14\", \"Topic14\", \"Topic14\", \"Topic14\", \"Topic14\", \"Topic14\", \"Topic14\", \"Topic14\", \"Topic14\", \"Topic14\", \"Topic14\", \"Topic14\", \"Topic14\", \"Topic14\", \"Topic14\", \"Topic14\", \"Topic14\", \"Topic14\", \"Topic14\", \"Topic14\", \"Topic14\", \"Topic14\", \"Topic14\", \"Topic14\", \"Topic14\", \"Topic14\", \"Topic14\", \"Topic14\", \"Topic14\", \"Topic14\", \"Topic14\", \"Topic14\", \"Topic14\", \"Topic14\", \"Topic14\", \"Topic14\", \"Topic14\", \"Topic14\", \"Topic14\", \"Topic14\", \"Topic14\", \"Topic14\", \"Topic14\", \"Topic14\", \"Topic14\", \"Topic14\", \"Topic14\", \"Topic14\", \"Topic14\", \"Topic14\", \"Topic14\", \"Topic14\", \"Topic14\", \"Topic14\", \"Topic14\", \"Topic14\", \"Topic14\", \"Topic14\", \"Topic14\", \"Topic14\", \"Topic14\", \"Topic14\", \"Topic14\", \"Topic14\", \"Topic14\", \"Topic14\", \"Topic14\", \"Topic14\", \"Topic14\", \"Topic14\", \"Topic14\", \"Topic15\", \"Topic15\", \"Topic15\", \"Topic15\", \"Topic15\", \"Topic15\", \"Topic15\", \"Topic15\", \"Topic15\", \"Topic15\", \"Topic15\", \"Topic15\", \"Topic15\", \"Topic15\", \"Topic15\", \"Topic15\", \"Topic15\", \"Topic15\", \"Topic15\", \"Topic15\", \"Topic15\", \"Topic15\", \"Topic15\", \"Topic15\", \"Topic15\", \"Topic15\", \"Topic15\", \"Topic15\", \"Topic15\", \"Topic15\", \"Topic15\", \"Topic15\", \"Topic15\", \"Topic15\", \"Topic15\", \"Topic15\", \"Topic15\", \"Topic15\", \"Topic15\", \"Topic15\", \"Topic15\", \"Topic15\", \"Topic15\", \"Topic15\", \"Topic15\", \"Topic15\", \"Topic15\", \"Topic15\", \"Topic15\", \"Topic15\", \"Topic15\", \"Topic15\", \"Topic15\", \"Topic15\", \"Topic15\", \"Topic15\", \"Topic15\", \"Topic15\", \"Topic15\", \"Topic15\", \"Topic15\", \"Topic15\", \"Topic15\", \"Topic15\", \"Topic15\", \"Topic15\", \"Topic15\", \"Topic15\", \"Topic15\", \"Topic15\", \"Topic15\", \"Topic15\", \"Topic15\", \"Topic15\", \"Topic15\", \"Topic15\", \"Topic15\", \"Topic16\", \"Topic16\", \"Topic16\", \"Topic16\", \"Topic16\", \"Topic16\", \"Topic16\", \"Topic16\", \"Topic16\", \"Topic16\", \"Topic16\", \"Topic16\", \"Topic16\", \"Topic16\", \"Topic16\", \"Topic16\", \"Topic16\", \"Topic16\", \"Topic16\", \"Topic16\", \"Topic16\", \"Topic16\", \"Topic16\", \"Topic16\", \"Topic16\", \"Topic16\", \"Topic16\", \"Topic16\", \"Topic16\", \"Topic16\", \"Topic16\", \"Topic16\", \"Topic16\", \"Topic16\", \"Topic16\", \"Topic16\", \"Topic16\", \"Topic16\", \"Topic16\", \"Topic16\", \"Topic16\", \"Topic16\", \"Topic16\", \"Topic16\", \"Topic16\", \"Topic16\", \"Topic16\", \"Topic16\", \"Topic16\", \"Topic16\", \"Topic16\", \"Topic16\", \"Topic16\", \"Topic16\", \"Topic16\", \"Topic16\", \"Topic16\", \"Topic16\", \"Topic16\", \"Topic16\", \"Topic16\", \"Topic16\", \"Topic16\", \"Topic16\", \"Topic17\", \"Topic17\", \"Topic17\", \"Topic17\", \"Topic17\", \"Topic17\", \"Topic17\", \"Topic17\", \"Topic17\", \"Topic17\", \"Topic17\", \"Topic17\", \"Topic17\", \"Topic17\", \"Topic17\", \"Topic17\", \"Topic17\", \"Topic17\", \"Topic17\", \"Topic17\", \"Topic17\", \"Topic17\", \"Topic17\", \"Topic17\", \"Topic17\", \"Topic17\", \"Topic17\", \"Topic17\", \"Topic17\", \"Topic17\", \"Topic17\", \"Topic17\", \"Topic17\", \"Topic17\", \"Topic17\", \"Topic17\", \"Topic17\", \"Topic17\", \"Topic17\", \"Topic17\", \"Topic17\", \"Topic17\", \"Topic17\", \"Topic17\", \"Topic17\", \"Topic17\", \"Topic17\", \"Topic17\", \"Topic17\", \"Topic17\", \"Topic17\", \"Topic17\", \"Topic17\", \"Topic17\", \"Topic17\", \"Topic17\", \"Topic17\", \"Topic17\", \"Topic17\", \"Topic17\", \"Topic17\", \"Topic17\", \"Topic17\", \"Topic17\", \"Topic17\", \"Topic17\", \"Topic17\", \"Topic17\", \"Topic17\", \"Topic18\", \"Topic18\", \"Topic18\", \"Topic18\", \"Topic18\", \"Topic18\", \"Topic18\", \"Topic18\", \"Topic18\", \"Topic18\", \"Topic18\", \"Topic18\", \"Topic18\", \"Topic18\", \"Topic18\", \"Topic18\", \"Topic18\", \"Topic18\", \"Topic18\", \"Topic18\", \"Topic18\", \"Topic18\", \"Topic18\", \"Topic18\", \"Topic18\", \"Topic18\", \"Topic18\", \"Topic18\", \"Topic18\", \"Topic18\", \"Topic18\", \"Topic18\", \"Topic18\", \"Topic18\", \"Topic18\", \"Topic18\", \"Topic18\", \"Topic18\", \"Topic18\", \"Topic18\", \"Topic18\", \"Topic18\", \"Topic18\", \"Topic18\", \"Topic18\", \"Topic18\", \"Topic18\", \"Topic18\", \"Topic18\", \"Topic18\", \"Topic18\", \"Topic18\", \"Topic18\", \"Topic18\", \"Topic18\", \"Topic18\", \"Topic18\", \"Topic18\", \"Topic18\", \"Topic18\", \"Topic18\", \"Topic18\", \"Topic18\", \"Topic18\", \"Topic18\", \"Topic18\", \"Topic18\", \"Topic18\", \"Topic18\", \"Topic18\", \"Topic18\", \"Topic18\", \"Topic18\", \"Topic18\", \"Topic18\", \"Topic18\", \"Topic19\", \"Topic19\", \"Topic19\", \"Topic19\", \"Topic19\", \"Topic19\", \"Topic19\", \"Topic19\", \"Topic19\", \"Topic19\", \"Topic19\", \"Topic19\", \"Topic19\", \"Topic19\", \"Topic19\", \"Topic19\", \"Topic19\", \"Topic19\", \"Topic19\", \"Topic19\", \"Topic19\", \"Topic19\", \"Topic19\", \"Topic19\", \"Topic19\", \"Topic19\", \"Topic19\", \"Topic19\", \"Topic19\", \"Topic19\", \"Topic19\", \"Topic19\", \"Topic19\", \"Topic19\", \"Topic19\", \"Topic19\", \"Topic19\", \"Topic19\", \"Topic19\", \"Topic19\", \"Topic19\", \"Topic19\", \"Topic19\", \"Topic19\", \"Topic19\", \"Topic19\", \"Topic19\", \"Topic19\", \"Topic19\", \"Topic19\", \"Topic19\", \"Topic19\", \"Topic19\", \"Topic19\", \"Topic19\", \"Topic19\", \"Topic19\", \"Topic19\", \"Topic19\", \"Topic19\", \"Topic19\", \"Topic19\", \"Topic19\", \"Topic19\", \"Topic19\", \"Topic19\", \"Topic19\", \"Topic19\", \"Topic19\", \"Topic19\", \"Topic20\", \"Topic20\", \"Topic20\", \"Topic20\", \"Topic20\", \"Topic20\", \"Topic20\", \"Topic20\", \"Topic20\", \"Topic20\", \"Topic20\", \"Topic20\", \"Topic20\", \"Topic20\", \"Topic20\", \"Topic20\", \"Topic20\", \"Topic20\", \"Topic20\", \"Topic20\", \"Topic20\", \"Topic20\", \"Topic20\", \"Topic20\", \"Topic20\", \"Topic20\", \"Topic20\", \"Topic20\", \"Topic20\", \"Topic20\", \"Topic20\", \"Topic20\", \"Topic20\", \"Topic20\", \"Topic20\", \"Topic20\", \"Topic20\", \"Topic20\", \"Topic20\", \"Topic20\", \"Topic20\", \"Topic20\", \"Topic20\", \"Topic20\", \"Topic20\", \"Topic20\", \"Topic20\", \"Topic20\", \"Topic20\", \"Topic20\", \"Topic20\", \"Topic20\", \"Topic20\", \"Topic20\", \"Topic20\", \"Topic20\", \"Topic20\", \"Topic20\", \"Topic20\", \"Topic20\", \"Topic20\", \"Topic20\", \"Topic20\", \"Topic20\", \"Topic20\", \"Topic20\", \"Topic20\", \"Topic20\", \"Topic20\", \"Topic20\", \"Topic20\", \"Topic20\", \"Topic20\"], \"logprob\": [30.0, 29.0, 28.0, 27.0, 26.0, 25.0, 24.0, 23.0, 22.0, 21.0, 20.0, 19.0, 18.0, 17.0, 16.0, 15.0, 14.0, 13.0, 12.0, 11.0, 10.0, 9.0, 8.0, 7.0, 6.0, 5.0, 4.0, 3.0, 2.0, 1.0, -7.1097, -8.3306, -8.3245, -8.8711, -8.9564, -9.0111, -9.0623, -9.3459, -9.427, -9.5314, -8.3691, -7.9921, -7.4604, -7.2605, -8.7068, -9.3036, -8.2501, -9.1549, -7.0699, -7.0638, -7.9886, -7.5554, -7.5473, -9.5556, -8.446, -9.8393, -5.0073, -9.0272, -9.1189, -8.792, -8.0086, -5.055, -6.3967, -6.4034, -6.4896, -6.1962, -7.5703, -4.3986, -7.1289, -5.2497, -4.3929, -5.7797, -6.7719, -4.1277, -5.8319, -7.4242, -4.5051, -4.1782, -5.6415, -5.827, -3.8307, -4.3862, -5.0179, -5.6168, -3.5424, -4.6413, -3.6639, -4.6728, -6.1308, -5.197, -3.8454, -4.4708, -5.6066, -5.3488, -4.6681, -5.0149, -4.8997, -4.2754, -5.141, -4.9209, -4.3151, -4.5207, -4.9974, -5.005, -4.7596, -5.0094, -5.0285, -5.0995, -8.5104, -8.6789, -9.088, -6.5184, -8.9933, -9.4001, -9.254, -8.1989, -8.3823, -9.643, -6.3223, -7.3797, -8.3514, -8.2651, -9.4661, -6.0515, -8.9263, -9.975, -7.0679, -8.0666, -8.7001, -7.4493, -9.3146, -8.2787, -7.8243, -9.7198, -5.0407, -8.1896, -9.3252, -9.1716, -7.1439, -8.1352, -8.772, -6.6769, -6.5011, -7.7983, -5.9865, -5.6748, -5.6808, -3.9378, -6.9897, -5.7256, -7.0596, -6.376, -6.7948, -4.3189, -6.123, -6.5913, -6.0229, -4.95, -6.1501, -6.6551, -5.3544, -6.0476, -6.099, -6.6669, -5.5674, -4.4559, -5.255, -5.0286, -5.4023, -5.1855, -5.5811, -5.5918, -5.2416, -4.4214, -4.4254, -4.7813, -5.1113, -5.2706, -4.9104, -5.1652, -5.292, -5.2476, -4.988, -4.9539, -5.4924, -4.8718, -5.3349, -4.832, -5.338, -5.1438, -5.4554, -5.1268, -5.2116, -5.3637, -5.2807, -5.3153, -7.2006, -7.8945, -8.0324, -8.2641, -8.3244, -8.3399, -8.3629, -8.3982, -8.4461, -8.461, -7.7779, -8.5825, -5.4549, -8.6697, -8.7352, -8.7627, -8.8095, -8.839, -8.8539, -8.8549, -8.8726, -8.9355, -9.1037, -9.162, -7.9288, -8.2213, -9.438, -7.832, -9.5092, -9.5803, -6.2404, -7.0311, -6.3461, -7.1575, -6.5049, -7.7289, -5.9181, -7.1704, -6.8545, -8.2335, -6.3085, -5.8052, -6.7507, -6.6928, -7.1395, -5.8044, -6.3108, -6.8159, -7.7247, -5.116, -5.0787, -6.8382, -6.8477, -3.8532, -5.8006, -6.6701, -6.5339, -6.8151, -6.247, -6.4649, -6.5986, -4.1409, -5.4546, -5.4454, -4.3065, -5.0348, -3.67, -5.3192, -5.3048, -5.1949, -5.4346, -5.2621, -5.738, -5.9559, -4.5954, -4.8891, -5.5285, -4.9264, -5.091, -5.1422, -5.389, -3.9536, -3.8872, -4.373, -4.7924, -4.9012, -5.2345, -4.7094, -5.0659, -4.0741, -4.9728, -5.0519, -4.9952, -5.0715, -5.1804, -5.0998, -5.0591, -5.1473, -5.1339, -7.5037, -7.6605, -7.7331, -7.9492, -8.0886, -8.1313, -8.1396, -8.099, -8.3833, -8.4947, -7.268, -7.6058, -8.8723, -9.258, -8.5497, -6.8445, -7.8114, -5.9259, -8.2844, -8.1223, -7.5298, -6.9531, -7.0743, -7.815, -7.6069, -8.0633, -5.118, -7.3663, -8.5493, -8.4062, -4.6568, -7.2109, -7.0579, -7.2849, -6.1646, -5.7358, -5.3706, -5.9336, -7.4072, -5.1032, -4.5308, -5.711, -6.3126, -5.7762, -4.7385, -6.004, -4.3348, -6.2896, -6.2481, -5.0653, -5.574, -3.6194, -5.2748, -3.9708, -3.8417, -4.875, -6.1398, -5.8838, -5.2824, -4.7563, -4.7819, -5.1905, -4.2439, -5.286, -5.9375, -4.6155, -5.5898, -4.3195, -3.8581, -4.0982, -4.7622, -4.8543, -4.2919, -5.2139, -4.5627, -4.9799, -5.2444, -4.7413, -4.7442, -4.6226, -4.6994, -4.8385, -5.177, -5.1357, -3.572, -4.8614, -5.5297, -6.2244, -6.3699, -6.1028, -6.4243, -6.7844, -6.8951, -6.9012, -5.7322, -7.0906, -6.4223, -7.1717, -7.2111, -7.2419, -7.2643, -6.7002, -7.3187, -7.3255, -7.3057, -7.4049, -7.5046, -6.7984, -7.4621, -7.4042, -5.7091, -7.6132, -7.6015, -7.6297, -5.6704, -4.7926, -6.4199, -6.744, -7.2741, -7.2381, -5.2221, -6.4464, -6.4761, -6.6252, -5.8621, -3.7776, -5.6197, -6.7147, -6.1194, -4.9616, -5.6381, -4.3968, -4.2954, -5.62, -5.1793, -5.6921, -4.2495, -3.7964, -5.4582, -5.069, -5.3122, -3.998, -5.8572, -4.6449, -5.7028, -4.8414, -4.5338, -4.0987, -4.1294, -4.2155, -5.1288, -4.7369, -4.7852, -4.8627, -5.0754, -5.104, -4.8204, -5.2707, -5.1748, -5.1831, -5.2234, -5.2065, -5.7501, -5.837, -7.0, -7.0611, -7.0517, -7.1532, -7.4441, -7.5476, -7.6928, -7.7444, -7.7943, -7.8703, -7.8762, -7.9055, -7.9906, -8.0266, -8.1258, -8.151, -8.1582, -8.0693, -7.4877, -8.1431, -8.2176, -8.2454, -8.3007, -8.3391, -4.1961, -7.358, -8.3885, -8.3653, -3.3814, -5.9537, -7.2151, -6.333, -6.842, -7.1059, -7.7145, -8.067, -7.957, -6.3817, -7.525, -7.2344, -4.8518, -6.5952, -3.2561, -5.8056, -5.1869, -7.2071, -4.166, -3.2674, -5.8398, -4.8425, -6.9385, -5.1049, -6.6197, -4.4733, -3.9651, -5.5005, -4.1155, -5.3011, -6.4389, -5.0554, -6.3203, -4.2513, -5.3395, -5.7682, -5.9373, -3.5855, -5.106, -5.8886, -4.3583, -4.6535, -4.0293, -4.9954, -4.2735, -5.0214, -4.445, -4.4726, -5.1005, -4.618, -5.0764, -5.089, -4.934, -5.0866, -5.1518, -5.0887, -7.0047, -7.224, -7.6654, -7.4932, -8.0997, -8.0027, -8.6168, -7.9289, -6.6285, -9.0659, -8.6594, -9.0931, -8.6724, -6.9226, -8.8303, -9.3688, -9.2857, -9.4457, -8.5618, -7.7021, -8.6414, -8.6709, -8.6905, -9.3693, -7.6798, -8.4175, -6.0586, -8.8391, -5.6389, -6.4991, -7.2257, -3.5431, -4.6058, -5.2469, -7.5057, -6.1184, -3.0328, -6.6589, -5.6395, -7.1596, -6.7007, -3.1205, -6.0801, -5.8154, -3.5967, -3.535, -4.9081, -5.7531, -5.5791, -6.0464, -5.1278, -4.9854, -5.3914, -3.9121, -4.7099, -4.0375, -5.004, -4.477, -5.1245, -4.7676, -4.9645, -5.4088, -3.94, -4.6006, -3.8073, -4.9731, -4.7214, -4.1005, -4.8073, -5.1572, -4.968, -4.8084, -5.0961, -4.8609, -4.9289, -4.9556, -4.9436, -5.031, -5.0723, -6.0147, -6.6318, -7.35, -7.7736, -7.8755, -7.997, -8.1339, -8.0113, -8.3046, -8.4808, -8.5355, -8.6529, -8.6239, -8.871, -8.9671, -7.1012, -9.0373, -9.1983, -6.7761, -9.0941, -8.1421, -6.9798, -6.3049, -7.3228, -8.2089, -6.3038, -7.8944, -8.6356, -5.962, -8.2249, -3.4758, -7.4963, -7.1833, -4.6848, -7.3932, -6.4279, -7.0313, -3.7876, -7.5665, -7.0903, -7.4101, -5.1876, -6.5955, -6.6673, -5.9412, -7.1884, -6.7261, -5.8738, -6.9236, -5.8777, -6.9672, -5.8988, -3.8374, -4.7226, -5.5652, -5.7245, -3.9024, -5.7026, -4.4712, -4.4797, -3.4217, -5.7342, -6.0377, -4.6438, -4.8243, -5.5704, -3.6289, -3.9143, -5.0874, -3.834, -4.3318, -5.3503, -4.1908, -4.46, -4.8646, -5.1206, -4.3817, -4.7903, -4.7626, -4.5833, -5.0154, -4.8028, -5.1081, -5.2312, -5.2156, -5.2148, -5.5054, -5.8346, -5.8712, -6.1483, -6.1943, -6.143, -6.1612, -6.3208, -4.937, -6.5249, -6.5909, -6.6539, -6.6535, -6.6795, -6.6964, -6.7244, -6.7461, -6.8617, -6.9, -6.8533, -6.9175, -6.9754, -7.0141, -7.037, -7.0416, -7.0867, -7.0755, -7.0969, -7.1017, -7.1259, -5.9748, -6.0486, -4.237, -5.106, -4.8723, -6.0801, -6.2664, -6.0455, -2.5414, -3.7447, -6.4041, -4.8517, -5.192, -5.9938, -6.446, -6.2389, -3.6903, -4.3776, -4.3083, -4.484, -5.9153, -5.8706, -4.2602, -5.2024, -4.5907, -5.5135, -5.0269, -4.4509, -3.8658, -5.4588, -5.0918, -4.4092, -4.6366, -5.3205, -4.9536, -4.8814, -5.1516, -4.6581, -4.6242, -4.5541, -4.634, -4.87, -5.0726, -5.1039, -5.0096, -5.691, -6.4069, -6.2937, -6.9668, -7.2376, -6.6564, -7.6406, -7.7656, -7.6854, -7.9562, -8.0582, -8.2071, -8.2798, -8.3497, -8.3725, -8.2982, -8.465, -8.6099, -8.6107, -8.9015, -8.9358, -8.3634, -7.827, -4.7068, -7.9857, -7.2639, -8.1738, -6.7992, -6.4202, -7.0124, -5.213, -6.83, -7.8433, -6.1075, -7.4479, -7.0934, -6.9468, -4.689, -5.966, -5.4193, -4.5316, -5.0662, -5.0821, -6.3499, -6.8047, -5.452, -2.3132, -6.5896, -6.4616, -4.6417, -4.9418, -5.9862, -5.1377, -4.8788, -4.173, -5.5148, -4.4365, -4.1341, -5.5633, -5.5024, -5.1794, -4.3789, -4.6304, -5.3642, -4.6468, -5.5845, -5.11, -5.13, -5.2983, -4.4954, -4.4257, -4.9324, -4.5799, -4.4033, -4.6486, -4.6567, -4.9944, -4.8781, -4.703, -5.1024, -5.1059, -5.1028, -3.9917, -4.4542, -5.4257, -5.4423, -5.7491, -6.2527, -6.3291, -6.4008, -6.4671, -6.6136, -6.6418, -4.8213, -6.8155, -6.9127, -6.9479, -6.9299, -6.9575, -6.9745, -7.0568, -6.8424, -7.136, -6.961, -7.1992, -7.2493, -6.5888, -7.3339, -7.3569, -7.3687, -5.7057, -7.424, -5.6245, -4.2523, -5.9512, -5.7547, -6.6383, -6.7979, -6.5071, -4.3023, -5.2373, -5.917, -6.1927, -4.5544, -5.5827, -5.3093, -6.0991, -5.8085, -5.4791, -5.5777, -5.7007, -6.0798, -4.7945, -5.2101, -3.3954, -5.2096, -5.1057, -5.1105, -5.2149, -5.082, -5.7046, -4.1566, -4.3739, -4.1744, -5.2136, -4.5833, -5.1533, -4.3916, -4.3654, -4.3981, -5.002, -5.2507, -5.0741, -5.119, -4.9469, -4.959, -5.0975, -5.1046, -5.2006, -6.1096, -5.8826, -6.3246, -6.9588, -7.0828, -7.1633, -7.2588, -7.2876, -6.3577, -7.4289, -7.3535, -7.5955, -7.4556, -7.8795, -8.2097, -7.3691, -8.5162, -6.4077, -8.9316, -7.8019, -7.9789, -9.0671, -9.107, -9.2885, -5.8588, -8.4344, -6.0931, -6.6881, -7.483, -5.25, -4.1888, -4.9745, -5.1739, -6.7795, -6.2331, -7.369, -7.0604, -6.7381, -5.0354, -7.3496, -5.5982, -4.4058, -6.2534, -5.0667, -5.8569, -6.3322, -5.7609, -6.0324, -4.1376, -4.6336, -5.7999, -6.1561, -3.9827, -5.8672, -5.5016, -3.5669, -4.9559, -5.2475, -5.27, -5.7415, -5.4727, -5.5911, -4.0528, -5.134, -4.8832, -5.2582, -4.9023, -5.1978, -4.3742, -4.5926, -4.5938, -4.5834, -4.6439, -5.2163, -4.9451, -5.0468, -5.1053, -5.1515, -5.2471, -3.9997, -4.5806, -5.93, -6.0576, -5.9602, -5.918, -6.5432, -6.8222, -6.7331, -7.0668, -5.8774, -6.7466, -7.142, -7.2831, -7.273, -7.0183, -7.4061, -7.446, -7.4475, -7.4719, -7.4442, -7.531, -7.6391, -7.1018, -7.7721, -7.7352, -7.7387, -7.8632, -7.2992, -8.0716, -5.1429, -3.5634, -6.2057, -5.9127, -6.9782, -7.195, -3.0598, -5.6291, -6.5377, -5.9986, -5.7317, -6.0289, -6.4166, -4.7721, -4.8368, -5.8356, -4.4805, -5.5497, -6.1194, -3.8392, -4.1297, -5.6393, -3.8737, -4.3961, -4.5634, -4.8161, -5.3864, -4.812, -4.6187, -3.8839, -4.5574, -4.6672, -4.3396, -5.0806, -4.84, -5.3815, -4.2547, -4.7157, -4.331, -4.8255, -5.2368, -4.7321, -4.8668, -4.7822, -5.0214, -5.0668, -5.1686, -5.4297, -5.8326, -6.3833, -6.5646, -6.5521, -6.697, -6.7766, -6.8173, -6.8029, -6.9699, -7.0093, -7.1965, -6.4963, -7.3034, -6.9533, -6.9937, -7.1914, -7.4774, -7.4583, -7.5613, -7.5175, -7.7165, -7.866, -6.6422, -7.8821, -7.9142, -6.7614, -6.7958, -7.9856, -4.6062, -4.7559, -5.8268, -6.1286, -6.5591, -7.0534, -7.2409, -5.4047, -5.9905, -2.539, -6.323, -3.1404, -5.1807, -4.0651, -3.8897, -5.2525, -6.3056, -5.4249, -5.0575, -3.4059, -3.8851, -3.5374, -5.706, -4.6817, -5.6451, -4.1453, -5.6297, -4.2362, -4.8712, -4.7297, -3.3313, -3.8736, -4.2018, -4.9141, -4.9984, -4.7883, -4.4988, -4.5419, -5.126, -4.7988, -5.109, -5.0274, -5.1309, -5.7296, -6.2033, -6.4174, -6.5157, -6.8191, -7.0998, -7.0399, -7.7238, -7.7371, -6.3665, -7.8183, -8.0121, -6.2697, -8.5841, -8.0138, -8.6908, -8.7189, -8.9048, -9.0322, -6.6587, -7.5834, -8.0554, -7.5654, -6.9977, -6.533, -3.7558, -6.1358, -8.7808, -7.5013, -6.5612, -5.9622, -5.4163, -6.6204, -4.0701, -4.4407, -5.3735, -6.414, -6.4877, -6.8318, -4.5818, -4.2261, -5.4623, -6.7482, -4.4115, -6.9511, -4.9167, -2.7654, -3.9542, -4.0685, -3.9504, -4.8575, -5.2752, -6.1168, -5.4143, -5.323, -5.3668, -5.8091, -4.8359, -5.4465, -5.5959, -5.0774, -4.3167, -4.9985, -5.2563, -4.944, -4.5377, -4.4396, -4.4487, -4.5848, -4.5178, -4.6799, -4.7951, -4.9496, -4.9652, -5.089, -5.1295, -5.2416, -5.5834, -7.0658, -6.7448, -5.3215, -7.4224, -7.0861, -6.6857, -7.7759, -7.8792, -6.2855, -4.9053, -9.1484, -6.1619, -8.073, -7.6429, -3.8565, -8.1284, -8.3633, -6.8879, -6.2929, -8.7229, -7.6678, -5.0919, -4.9722, -7.7864, -5.971, -6.5883, -6.2378, -6.9403, -7.9531, -6.2635, -4.4115, -5.7458, -5.1136, -3.3717, -5.9843, -3.7865, -2.8489, -5.1729, -4.6901, -4.2887, -4.4195, -3.5931, -4.9337, -5.817, -5.1846, -5.8458, -5.3866, -3.8315, -4.7588, -4.6784, -5.393, -5.5017, -4.4437, -4.1703, -4.6152, -4.7662, -4.4663, -4.6172, -4.7713, -4.8318, -5.0171, -5.019, -5.0281, -4.1891, -4.1787, -3.2074, -4.3644, -5.3523, -4.6487, -6.0796, -6.0957, -6.1847, -6.2066, -6.4826, -6.7087, -6.9234, -6.8974, -7.0211, -6.6848, -7.1062, -7.1603, -6.0929, -7.2865, -7.3061, -7.221, -7.3452, -3.7658, -7.4307, -3.6452, -7.4874, -7.2645, -6.9675, -7.5988, -5.8176, -6.6483, -6.9451, -6.4726, -6.3616, -5.753, -4.7537, -6.5623, -6.698, -5.0947, -5.7353, -4.1029, -4.5623, -5.8272, -3.8185, -5.2375, -3.8334, -5.5042, -5.3578, -5.5354, -3.2697, -3.7127, -4.7377, -4.3058, -4.9143, -5.0824, -4.1473, -3.7891, -4.5488, -3.9904, -5.1123, -4.7503, -4.5982, -5.0704, -4.7211, -4.7325, -4.8281, -4.8844, -5.0525, -4.3244, -5.3285, -5.4035, -5.6369, -5.9648, -6.067, -6.1357, -6.4949, -6.8512, -6.9059, -6.9282, -6.9646, -7.0259, -7.1286, -7.2574, -7.2933, -7.6098, -3.747, -7.7553, -7.9018, -7.9418, -8.0633, -8.082, -8.0874, -8.1459, -8.1645, -8.1666, -8.2168, -8.2232, -8.2321, -3.828, -6.1202, -5.9111, -6.6349, -6.8968, -6.8474, -6.9818, -5.9697, -6.6046, -6.3358, -4.8946, -1.9509, -6.1037, -5.2524, -4.1953, -3.5513, -4.9948, -5.2787, -5.0899, -6.1419, -5.9594, -4.4386, -5.6389, -6.2121, -3.8295, -2.7822, -4.9282, -4.6272, -4.892, -4.792, -5.3788, -3.6841, -4.5222, -5.7418, -4.878, -4.8128, -5.6823, -4.3619, -4.8657, -4.9159, -4.9072, -5.2166, -5.0653, -5.0537, -5.198, -5.2629, -4.9172, -6.7656, -6.9309, -7.028, -6.8064, -7.4076, -7.492, -6.131, -6.4506, -7.6189, -7.8168, -6.7963, -7.3694, -7.3846, -7.1066, -6.1364, -8.2117, -7.3863, -6.7298, -5.9321, -6.9222, -6.6281, -6.766, -4.1877, -6.641, -7.5172, -6.1324, -7.9997, -5.4603, -6.1617, -4.3648, -4.6102, -5.1453, -4.4813, -5.453, -6.3943, -4.2753, -5.6937, -3.6983, -5.2899, -3.5728, -5.6596, -3.961, -5.6653, -5.1694, -5.2183, -3.1051, -5.8075, -6.1749, -5.8284, -5.8332, -3.7997, -5.8998, -5.6899, -4.7023, -4.5467, -4.9131, -5.1779, -4.9241, -4.5917, -4.9372, -4.5614, -4.701, -5.044, -4.6639, -5.3803, -5.2307, -5.1351, -5.3415, -5.3216, -4.3076, -6.1587, -6.2146, -6.3805, -6.5973, -6.6985, -6.7516, -6.7671, -6.7699, -6.7733, -6.7868, -6.8093, -6.83, -6.8947, -6.9058, -6.9007, -6.4704, -7.0218, -7.0312, -7.1405, -7.256, -7.317, -7.3378, -7.3468, -7.3496, -7.3694, -7.4057, -7.42, -7.4296, -7.4742, -5.1277, -5.3988, -4.8108, -4.1679, -6.0968, -6.2256, -4.7945, -4.8057, -5.311, -5.2345, -5.6262, -5.0387, -6.1501, -3.0158, -4.5479, -3.4044, -5.8757, -5.7958, -4.4905, -3.9762, -6.2599, -5.8295, -6.3684, -3.7231, -5.0649, -4.6328, -4.8031, -5.7351, -5.2848, -5.4126, -4.4565, -5.2219, -5.1504, -4.8614, -5.0231, -4.7979, -5.0158, -5.037, -5.044, -5.1248, -5.1668, -5.1845, -5.212], \"loglift\": [30.0, 29.0, 28.0, 27.0, 26.0, 25.0, 24.0, 23.0, 22.0, 21.0, 20.0, 19.0, 18.0, 17.0, 16.0, 15.0, 14.0, 13.0, 12.0, 11.0, 10.0, 9.0, 8.0, 7.0, 6.0, 5.0, 4.0, 3.0, 2.0, 1.0, 2.4552, 2.4547, 2.4546, 2.4536, 2.4534, 2.4532, 2.4528, 2.4519, 2.4516, 2.4491, 2.4485, 2.4473, 2.4471, 2.4467, 2.4452, 2.4406, 2.4379, 2.4379, 2.4376, 2.437, 2.4361, 2.4344, 2.4322, 2.4307, 2.4304, 2.4296, 2.4284, 2.4266, 2.4255, 2.4224, 2.421, 2.385, 2.3939, 2.3838, 2.384, 2.3712, 2.4003, 2.2985, 2.373, 2.2874, 2.2433, 2.2956, 2.3386, 2.1684, 2.2709, 2.3723, 2.1708, 2.1431, 2.248, 2.2457, 2.0677, 2.1155, 2.1628, 2.1349, 1.7853, 1.9207, 1.7304, 1.8328, 2.1256, 1.7666, 1.226, 1.4685, 1.8748, 1.74, 1.4149, 1.451, 1.324, 0.8173, 1.4657, 1.2662, 0.5459, 0.7152, 1.261, 1.0911, 0.6308, 0.7521, 0.7466, 0.1576, 2.5155, 2.5147, 2.5057, 2.5034, 2.5023, 2.4975, 2.4871, 2.4817, 2.4796, 2.4788, 2.4667, 2.4644, 2.4595, 2.4475, 2.444, 2.4424, 2.4325, 2.4235, 2.412, 2.4105, 2.4101, 2.4083, 2.4061, 2.4056, 2.4056, 2.4, 2.3983, 2.3971, 2.3929, 2.3894, 2.3826, 2.3859, 2.3879, 2.3372, 2.3271, 2.3648, 2.2894, 2.2255, 2.2038, 2.0676, 2.2948, 2.1815, 2.2936, 2.2255, 2.2508, 1.9062, 2.1338, 2.1961, 2.1077, 1.9422, 2.1221, 2.1962, 1.9379, 2.0622, 2.07, 2.1706, 1.9441, 1.6723, 1.8417, 1.7339, 1.801, 1.7085, 1.8425, 1.8162, 1.6753, 1.3536, 1.3361, 1.4464, 1.4907, 1.5145, 1.2123, 1.3667, 1.4523, 1.4066, 1.1593, 1.0164, 1.5076, 0.4847, 1.2199, 0.2394, 1.1076, 0.4055, 1.4291, 0.1955, 0.5049, 1.0426, -0.0236, 0.425, 2.7284, 2.7278, 2.7276, 2.7272, 2.7271, 2.727, 2.727, 2.7269, 2.7268, 2.7267, 2.7266, 2.7265, 2.7263, 2.7262, 2.7261, 2.726, 2.7258, 2.7257, 2.7257, 2.7257, 2.7256, 2.7254, 2.7245, 2.7244, 2.7241, 2.7236, 2.723, 2.7228, 2.7225, 2.722, 2.7174, 2.7174, 2.7104, 2.718, 2.7111, 2.722, 2.703, 2.7137, 2.7104, 2.7206, 2.6998, 2.688, 2.7017, 2.6999, 2.7079, 2.6777, 2.6854, 2.6955, 2.7132, 2.6546, 2.64, 2.6863, 2.6856, 2.5713, 2.6313, 2.6681, 2.6557, 2.67, 2.6401, 2.647, 2.6553, 2.4976, 2.5675, 2.5612, 2.4153, 2.4793, 2.2725, 2.4947, 2.4842, 2.4668, 2.4943, 2.4504, 2.5121, 2.5493, 2.2708, 2.3284, 2.4413, 2.2929, 2.3172, 2.3157, 2.3799, 1.901, 1.8595, 1.9338, 2.0636, 2.0592, 2.2291, 1.7809, 2.0656, 1.0953, 1.6761, 1.7699, 1.433, 1.2839, 1.5752, 1.1979, 0.5998, 1.1762, 0.9888, 2.784, 2.7838, 2.7837, 2.7834, 2.7832, 2.7832, 2.7832, 2.7831, 2.7827, 2.7821, 2.7813, 2.7812, 2.7811, 2.7795, 2.7771, 2.7736, 2.7707, 2.7704, 2.77, 2.7699, 2.7685, 2.7661, 2.7638, 2.7624, 2.7578, 2.7554, 2.7508, 2.7488, 2.744, 2.7417, 2.7195, 2.7395, 2.7356, 2.7393, 2.6855, 2.6306, 2.6048, 2.6403, 2.7149, 2.5308, 2.4714, 2.56, 2.6174, 2.5598, 2.43, 2.5343, 2.3017, 2.5668, 2.5554, 2.3385, 2.4247, 2.0541, 2.3487, 2.075, 2.0484, 2.2511, 2.4923, 2.4203, 2.2386, 2.0584, 1.9583, 2.1065, 1.7057, 2.0796, 2.3858, 1.6323, 2.1781, 1.397, 1.0942, 1.2324, 1.6601, 1.5237, 0.8611, 1.8186, 0.6945, 1.2459, 1.7307, 0.6151, 0.5781, 0.2384, 0.117, 0.5775, 1.2433, 0.3854, 2.9205, 2.9205, 2.9204, 2.9203, 2.9202, 2.9202, 2.9202, 2.92, 2.92, 2.92, 2.9199, 2.9199, 2.9199, 2.9198, 2.9198, 2.9197, 2.9197, 2.9197, 2.9197, 2.9197, 2.9197, 2.9196, 2.9195, 2.9195, 2.9195, 2.9195, 2.9194, 2.9194, 2.9194, 2.9194, 2.9172, 2.9064, 2.9183, 2.9153, 2.9192, 2.9181, 2.8778, 2.8966, 2.8974, 2.8947, 2.8482, 2.7264, 2.8311, 2.8886, 2.8384, 2.7484, 2.783, 2.6369, 2.6098, 2.7289, 2.6361, 2.7136, 2.4147, 2.3115, 2.647, 2.5049, 2.5454, 2.1279, 2.7056, 2.2324, 2.6405, 2.2079, 1.8866, 1.2319, 1.0236, 0.8772, 1.9145, 1.0099, 0.9965, 1.0912, 1.4701, 1.09, 0.0406, 1.2729, 0.7281, 0.645, 0.3259, -0.2542, 2.9693, 2.9693, 2.9688, 2.9688, 2.9688, 2.9687, 2.9685, 2.9683, 2.9682, 2.9681, 2.968, 2.9679, 2.9679, 2.9678, 2.9677, 2.9674, 2.9674, 2.9674, 2.9674, 2.9673, 2.9673, 2.9673, 2.9672, 2.9672, 2.967, 2.9669, 2.9669, 2.9668, 2.9668, 2.9667, 2.9446, 2.9594, 2.9657, 2.9563, 2.9575, 2.9593, 2.9649, 2.9666, 2.9651, 2.9315, 2.9545, 2.9417, 2.8657, 2.9159, 2.7747, 2.877, 2.8364, 2.9205, 2.6719, 2.5825, 2.8044, 2.6965, 2.8974, 2.7142, 2.8561, 2.577, 2.4555, 2.6748, 2.3653, 2.5701, 2.7928, 2.4317, 2.7548, 2.2017, 2.4655, 2.5845, 2.6304, 1.7314, 2.2248, 2.4772, 1.4699, 1.6442, 1.2065, 1.8309, 1.1748, 1.7825, 0.708, 0.5988, 1.4366, 0.3343, 1.2833, 0.8535, -0.0729, 0.2411, 0.2047, 3.0002, 2.9996, 2.9994, 2.9989, 2.9989, 2.998, 2.9973, 2.9967, 2.9967, 2.9965, 2.9948, 2.9946, 2.9946, 2.9945, 2.9945, 2.9936, 2.9928, 2.9922, 2.9922, 2.9913, 2.9898, 2.9883, 2.9875, 2.9827, 2.9822, 2.9808, 2.9777, 2.9747, 2.9737, 2.9715, 2.9609, 2.9625, 2.9218, 2.935, 2.9198, 2.9642, 2.9226, 2.8248, 2.9268, 2.8796, 2.9368, 2.9097, 2.7509, 2.8812, 2.8643, 2.6913, 2.5971, 2.6982, 2.763, 2.7194, 2.7499, 2.558, 2.463, 2.5328, 2.184, 2.3654, 2.0756, 2.3523, 2.136, 2.3249, 2.157, 2.2019, 2.4092, 1.5811, 1.8835, 1.0538, 1.9938, 1.6042, 0.8518, 1.6209, 2.076, 1.5775, 1.0946, 1.5651, 0.375, 0.3283, 0.4009, 0.2094, 0.2913, 1.1218, 3.0126, 3.0122, 3.0121, 3.0115, 3.0113, 3.0111, 3.0108, 3.0105, 3.01, 3.0099, 3.0097, 3.0094, 3.0091, 3.0081, 3.0078, 3.0077, 3.0076, 3.0067, 3.0064, 3.0063, 3.0022, 3.002, 3.0003, 3.0001, 2.9992, 2.9982, 2.9919, 2.9918, 2.9918, 2.9878, 2.9831, 2.9844, 2.9749, 2.9232, 2.9755, 2.9512, 2.9618, 2.8607, 2.9765, 2.9615, 2.9563, 2.8302, 2.9061, 2.8988, 2.8394, 2.9372, 2.8689, 2.7582, 2.8876, 2.7346, 2.8836, 2.6906, 2.2811, 2.3776, 2.5697, 2.5748, 2.0132, 2.5269, 2.1355, 2.1334, 1.7476, 2.5045, 2.6113, 2.0282, 2.0706, 2.3895, 1.4638, 1.5479, 2.1442, 1.4937, 1.6107, 2.1522, 0.8806, 0.9882, 1.4423, 1.7094, 0.4793, 1.0644, 0.9864, 0.6525, 1.2823, 0.8562, 1.3822, 1.5906, 1.2588, 0.7391, 3.021, 3.0209, 3.0209, 3.0208, 3.0208, 3.0208, 3.0208, 3.0208, 3.0208, 3.0207, 3.0207, 3.0206, 3.0206, 3.0206, 3.0206, 3.0206, 3.0206, 3.0205, 3.0205, 3.0205, 3.0205, 3.0204, 3.0204, 3.0204, 3.0204, 3.0204, 3.0204, 3.0204, 3.0204, 3.0203, 3.0184, 3.0172, 2.9941, 2.9983, 2.9921, 2.9968, 3.0024, 2.9944, 2.8746, 2.9125, 3.0017, 2.935, 2.9507, 2.9783, 3.0018, 2.9826, 2.6877, 2.7252, 2.6959, 2.6087, 2.8883, 2.796, 2.1622, 2.4227, 2.0292, 2.5039, 2.1723, 1.7438, 1.2871, 2.394, 2.0514, 0.9812, 1.1451, 2.0179, 1.4821, 1.377, 1.7145, 0.8629, 0.7701, 0.6152, 0.6019, 0.4469, 1.1511, 0.7507, 3.0514, 3.0513, 3.0511, 3.051, 3.0507, 3.0505, 3.0504, 3.0501, 3.0499, 3.0497, 3.0495, 3.0493, 3.049, 3.0488, 3.0486, 3.0486, 3.0485, 3.0483, 3.0478, 3.047, 3.0465, 3.0463, 3.0461, 3.046, 3.0453, 3.0451, 3.045, 3.0437, 3.0433, 3.0406, 3.0342, 3.0139, 3.0247, 3.0389, 2.9999, 3.0244, 3.0068, 2.992, 2.8905, 2.9445, 2.9156, 2.8675, 2.8913, 2.8489, 2.9389, 2.954, 2.8325, 2.5032, 2.9282, 2.8991, 2.6219, 2.5808, 2.7525, 2.5532, 2.4698, 2.2333, 2.6035, 2.2727, 2.062, 2.5531, 2.5022, 2.3628, 1.9365, 2.0229, 2.3371, 1.8414, 2.458, 2.0862, 1.8448, 2.0436, 0.7618, 0.6458, 1.4432, 0.8105, 0.4578, 0.6683, 0.6656, 1.4279, 0.9501, 0.2493, 0.8823, 0.7488, -0.0101, 3.0645, 3.0644, 3.0644, 3.0643, 3.0643, 3.0642, 3.0641, 3.0641, 3.0641, 3.064, 3.064, 3.0639, 3.0639, 3.0638, 3.0638, 3.0638, 3.0638, 3.0638, 3.0637, 3.0637, 3.0636, 3.0636, 3.0636, 3.0635, 3.0635, 3.0635, 3.0634, 3.0634, 3.0634, 3.0634, 3.0633, 3.0466, 3.0632, 3.0546, 3.0623, 3.0619, 3.0584, 3.027, 3.042, 3.0508, 3.0482, 2.9791, 3.0177, 2.9854, 3.0193, 3.0006, 2.9773, 2.9771, 2.9729, 3.0054, 2.8348, 2.8474, 2.5203, 2.8075, 2.7835, 2.685, 2.6136, 2.5531, 2.8139, 1.9619, 1.9815, 1.5723, 2.4529, 1.7923, 2.3891, 1.4679, 0.9515, 0.6733, 1.8447, 2.2447, 1.4141, 1.5529, 0.6057, -0.098, 0.3508, 0.1312, 0.4583, 3.0656, 3.0656, 3.0656, 3.0652, 3.0651, 3.0651, 3.065, 3.0649, 3.0649, 3.0648, 3.0646, 3.0645, 3.0645, 3.0641, 3.0634, 3.0628, 3.0625, 3.0624, 3.0608, 3.0607, 3.0603, 3.06, 3.0598, 3.0586, 3.0571, 3.0569, 3.0566, 3.0566, 3.0555, 3.0555, 3.0549, 3.0509, 3.0472, 3.0535, 3.0477, 3.0542, 3.0496, 3.0416, 2.9805, 3.0485, 2.9701, 2.8144, 2.916, 2.7398, 2.8415, 2.8988, 2.8056, 2.8389, 2.4836, 2.5456, 2.7768, 2.8367, 2.241, 2.715, 2.5909, 1.8954, 2.3625, 2.4361, 2.4357, 2.6207, 2.4402, 2.5139, 1.3955, 2.1635, 1.7368, 1.9794, 1.4167, 1.7966, 0.5781, 0.8017, 0.7285, 0.6525, 0.5255, 1.6471, 0.9942, 0.9355, 0.2224, 0.205, 0.4932, 3.1141, 3.1141, 3.1139, 3.1139, 3.1138, 3.1137, 3.1137, 3.1135, 3.1135, 3.1133, 3.1133, 3.1133, 3.1133, 3.1131, 3.1131, 3.113, 3.113, 3.1129, 3.1129, 3.1129, 3.1129, 3.1128, 3.1127, 3.1126, 3.1125, 3.1125, 3.1124, 3.1123, 3.112, 3.1119, 3.111, 3.0821, 3.1085, 3.1051, 3.1106, 3.1082, 3.0549, 3.0706, 3.0895, 3.0709, 3.0491, 3.0387, 3.0387, 2.8813, 2.866, 2.9669, 2.7475, 2.8554, 2.9514, 2.5103, 2.3233, 2.6732, 1.9761, 2.1734, 2.2406, 2.3073, 2.537, 2.2189, 1.9249, 1.2691, 1.758, 1.8072, 1.334, 2.1101, 1.626, 2.3407, 0.6976, 1.3301, 0.4854, 1.2705, 1.9807, 0.5985, 0.8822, 0.5348, 1.1747, 0.8828, 3.1416, 3.1416, 3.1415, 3.1413, 3.1412, 3.1412, 3.1412, 3.1411, 3.1411, 3.1411, 3.141, 3.1408, 3.1408, 3.1408, 3.1407, 3.1406, 3.1405, 3.1405, 3.1405, 3.1404, 3.1403, 3.1403, 3.1401, 3.1398, 3.1398, 3.1398, 3.1397, 3.1397, 3.1396, 3.1396, 3.1393, 3.1376, 3.1363, 3.1345, 3.1383, 3.1396, 3.1376, 3.1081, 3.1122, 3.0032, 3.1169, 3.0038, 3.0508, 2.9861, 2.9669, 3.0077, 3.0795, 2.9716, 2.8996, 2.5788, 2.6529, 2.4121, 2.8634, 2.5498, 2.8268, 2.2642, 2.8007, 2.1133, 2.334, 2.2477, 1.485, 1.4434, 1.6578, 2.094, 2.1388, 1.8482, 0.8319, 0.4103, 1.4482, 0.2939, 1.3133, 0.6462, 0.8514, 3.1595, 3.1595, 3.1594, 3.1593, 3.1592, 3.1589, 3.1589, 3.1581, 3.1581, 3.158, 3.158, 3.1576, 3.1559, 3.1558, 3.1557, 3.1553, 3.1547, 3.1543, 3.1532, 3.1516, 3.1512, 3.1504, 3.1495, 3.149, 3.149, 3.1476, 3.1454, 3.1447, 3.1439, 3.1404, 3.1336, 3.1199, 3.1312, 3.0941, 3.0973, 3.1092, 3.1271, 3.1278, 3.1324, 3.0631, 3.0504, 3.0886, 3.1257, 3.0433, 3.1309, 3.0328, 2.8866, 2.9614, 2.9609, 2.8635, 2.931, 2.9581, 3.0642, 2.9587, 2.9309, 2.9068, 2.9944, 2.7429, 2.879, 2.8914, 2.6288, 2.1674, 2.4994, 2.612, 2.408, 1.8717, 1.6434, 1.1007, 0.5079, 0.3432, 0.7105, 0.1571, 0.2863, 0.1877, 0.3053, 0.1277, 1.084, 3.1774, 3.1768, 3.1767, 3.1764, 3.1763, 3.1753, 3.1742, 3.174, 3.1724, 3.1716, 3.1713, 3.1705, 3.1697, 3.1687, 3.1646, 3.1592, 3.159, 3.1519, 3.1486, 3.1428, 3.1401, 3.1389, 3.128, 3.1262, 3.1234, 3.1185, 3.099, 3.085, 3.0836, 3.0772, 3.077, 2.9812, 3.0359, 2.9915, 2.8893, 3.0171, 2.8056, 2.7038, 2.9204, 2.8197, 2.7663, 2.6982, 2.5474, 2.6828, 2.8725, 2.6167, 2.7766, 2.5235, 1.6167, 2.0675, 1.9827, 2.4765, 2.4786, 1.5386, 1.1603, 1.2129, 1.3417, 0.6867, 0.2438, 0.551, 0.5247, 1.17, 0.3714, 0.2291, 3.2883, 3.2883, 3.2883, 3.2882, 3.2882, 3.2881, 3.288, 3.288, 3.2879, 3.2879, 3.2878, 3.2877, 3.2875, 3.2875, 3.2874, 3.2873, 3.2873, 3.2872, 3.2871, 3.2871, 3.2871, 3.2871, 3.287, 3.2869, 3.2869, 3.2868, 3.2868, 3.2868, 3.2867, 3.2867, 3.2823, 3.2854, 3.2865, 3.2806, 3.2782, 3.2558, 3.2151, 3.2709, 3.2734, 3.1931, 3.2255, 3.0863, 3.1084, 3.199, 2.9835, 3.095, 2.908, 3.0632, 2.9874, 2.9821, 2.3021, 2.069, 2.4055, 2.1299, 2.4463, 2.5548, 1.7428, 1.3803, 1.9967, 1.1521, 2.393, 1.8239, 1.5276, 1.9605, 0.7999, 0.3602, 0.5661, 0.4326, 1.8023, 3.3258, 3.3256, 3.3256, 3.3256, 3.3255, 3.3254, 3.3254, 3.3252, 3.325, 3.3249, 3.3249, 3.3249, 3.3248, 3.3247, 3.3246, 3.3245, 3.3239, 3.3239, 3.3237, 3.3233, 3.3233, 3.323, 3.3229, 3.3229, 3.3227, 3.3227, 3.3227, 3.3225, 3.3225, 3.3225, 3.3033, 3.3185, 3.3129, 3.3186, 3.3205, 3.3189, 3.3183, 3.3055, 3.311, 3.3082, 3.2683, 3.1916, 3.2858, 3.2243, 3.1635, 3.11, 3.2003, 3.2081, 3.1904, 3.2637, 3.2432, 3.1004, 3.2042, 3.2512, 2.9538, 2.7896, 2.9954, 2.9205, 2.8604, 2.644, 2.877, 1.837, 2.3152, 3.0625, 2.1177, 1.9892, 2.9527, 0.9687, 1.3999, 1.4031, 1.2186, 1.8159, 0.1041, -0.1014, 1.2728, 0.6086, 3.3485, 3.3479, 3.3477, 3.3476, 3.3475, 3.3472, 3.3469, 3.3463, 3.3462, 3.3461, 3.3459, 3.3457, 3.3452, 3.345, 3.3444, 3.3395, 3.3394, 3.3373, 3.3368, 3.3354, 3.3339, 3.331, 3.3309, 3.3309, 3.329, 3.3281, 3.3278, 3.325, 3.324, 3.3225, 3.3188, 3.2891, 3.2996, 3.2782, 3.2856, 3.3085, 3.2422, 3.2849, 3.1806, 3.2531, 3.1261, 3.2548, 3.1017, 3.2358, 3.189, 3.1694, 2.7978, 3.1796, 3.2435, 3.1741, 3.1579, 2.5259, 3.124, 3.0043, 2.347, 2.2307, 2.1193, 2.3246, 1.9531, 1.4913, 1.8775, 1.2668, 1.4395, 1.6172, 0.2884, 2.0758, 1.313, 0.1221, 0.9063, 0.0687, 3.4117, 3.4113, 3.4113, 3.4112, 3.411, 3.411, 3.4109, 3.4109, 3.4109, 3.4109, 3.4109, 3.4109, 3.4109, 3.4108, 3.4108, 3.4107, 3.4107, 3.4107, 3.4107, 3.4104, 3.4104, 3.4103, 3.4103, 3.4102, 3.4102, 3.4102, 3.4102, 3.4101, 3.4101, 3.41, 3.404, 3.4041, 3.3938, 3.3837, 3.3995, 3.3958, 3.3516, 3.3079, 3.3183, 3.2736, 3.2931, 3.216, 3.2989, 2.8437, 3.0485, 2.7904, 3.2203, 3.1681, 2.8401, 2.5609, 3.2369, 3.0813, 3.2694, 2.2309, 2.7085, 2.4932, 2.4994, 2.9453, 2.645, 2.5684, 1.3982, 2.1316, 1.9868, 1.4454, 1.4651, 0.438, 0.7332, 0.3195, 0.2132, 0.1975, 0.1502, -0.3235, -0.059]}, \"token.table\": {\"Topic\": [1, 2, 3, 6, 8, 10, 11, 12, 7, 10, 6, 7, 15, 4, 6, 7, 8, 10, 18, 7, 15, 15, 1, 2, 11, 7, 15, 1, 11, 12, 14, 4, 7, 9, 16, 17, 18, 3, 6, 7, 8, 10, 1, 10, 11, 14, 7, 8, 15, 8, 1, 15, 7, 3, 4, 5, 6, 7, 8, 10, 13, 19, 3, 4, 6, 7, 8, 9, 10, 13, 14, 15, 16, 18, 1, 4, 9, 13, 1, 8, 18, 3, 6, 8, 7, 15, 17, 17, 17, 18, 18, 1, 2, 3, 4, 5, 6, 7, 8, 9, 10, 11, 12, 13, 14, 15, 16, 17, 18, 19, 20, 18, 15, 3, 6, 1, 2, 3, 4, 5, 6, 7, 8, 9, 10, 11, 13, 14, 15, 16, 17, 18, 19, 20, 9, 11, 1, 2, 3, 4, 5, 6, 7, 8, 9, 10, 11, 12, 13, 15, 16, 19, 20, 1, 2, 3, 4, 5, 6, 7, 8, 9, 10, 11, 12, 13, 15, 16, 17, 18, 19, 20, 6, 13, 5, 11, 15, 17, 18, 2, 4, 5, 9, 11, 15, 16, 19, 9, 18, 4, 5, 7, 9, 10, 16, 1, 2, 3, 4, 5, 6, 7, 8, 9, 10, 11, 12, 13, 14, 15, 16, 17, 18, 19, 20, 7, 10, 2, 3, 4, 5, 6, 7, 8, 10, 13, 14, 15, 16, 17, 18, 19, 1, 3, 10, 19, 7, 10, 5, 14, 16, 3, 6, 7, 8, 19, 1, 2, 3, 8, 9, 11, 12, 2, 10, 11, 12, 14, 15, 18, 1, 2, 3, 4, 5, 6, 7, 8, 9, 10, 11, 12, 13, 14, 15, 16, 17, 18, 19, 20, 4, 5, 13, 14, 1, 2, 3, 4, 5, 6, 7, 8, 9, 10, 11, 12, 13, 14, 15, 16, 17, 18, 19, 20, 2, 5, 7, 10, 14, 15, 18, 19, 11, 3, 13, 15, 4, 11, 14, 4, 7, 13, 15, 16, 18, 4, 7, 9, 13, 16, 17, 18, 9, 18, 3, 5, 6, 7, 8, 13, 15, 17, 1, 5, 7, 9, 11, 15, 17, 18, 20, 18, 4, 5, 13, 15, 17, 18, 5, 7, 14, 17, 18, 19, 1, 2, 3, 4, 5, 6, 7, 8, 9, 10, 11, 12, 13, 14, 15, 16, 17, 18, 19, 20, 5, 7, 15, 4, 6, 7, 13, 1, 2, 3, 4, 5, 6, 7, 8, 9, 10, 11, 13, 14, 15, 16, 17, 18, 19, 20, 3, 6, 9, 9, 18, 9, 6, 9, 4, 10, 13, 14, 18, 20, 1, 2, 3, 4, 12, 13, 14, 15, 16, 20, 7, 10, 1, 2, 3, 4, 5, 6, 7, 8, 9, 10, 11, 12, 13, 14, 15, 16, 17, 18, 19, 20, 17, 18, 1, 2, 3, 4, 5, 6, 7, 8, 9, 10, 11, 12, 13, 15, 16, 17, 19, 20, 6, 5, 15, 4, 5, 14, 17, 12, 1, 2, 4, 5, 6, 7, 8, 9, 10, 11, 12, 13, 14, 15, 16, 17, 18, 20, 1, 2, 3, 4, 5, 6, 7, 8, 9, 10, 11, 12, 13, 14, 15, 16, 17, 18, 19, 20, 15, 1, 3, 8, 11, 12, 1, 2, 3, 6, 7, 8, 9, 10, 11, 12, 13, 14, 15, 18, 19, 20, 17, 3, 5, 8, 15, 5, 5, 3, 4, 6, 7, 8, 9, 11, 13, 18, 20, 1, 3, 4, 5, 6, 7, 8, 9, 10, 12, 13, 15, 16, 17, 18, 19, 20, 10, 14, 16, 6, 2, 9, 10, 16, 20, 4, 5, 6, 7, 8, 13, 14, 15, 16, 17, 18, 19, 5, 6, 7, 15, 17, 18, 19, 5, 7, 15, 17, 18, 19, 18, 5, 7, 15, 20, 3, 4, 6, 8, 9, 12, 13, 14, 16, 17, 17, 4, 18, 1, 5, 6, 7, 8, 9, 10, 13, 15, 16, 2, 5, 13, 14, 15, 18, 19, 18, 1, 6, 2, 5, 7, 10, 12, 15, 16, 19, 15, 13, 14, 1, 2, 3, 4, 5, 6, 7, 9, 10, 11, 12, 13, 14, 15, 16, 19, 20, 1, 3, 20, 1, 2, 3, 4, 5, 6, 7, 8, 9, 10, 11, 12, 13, 14, 15, 16, 17, 18, 19, 20, 1, 2, 4, 5, 10, 11, 12, 13, 14, 16, 17, 18, 19, 1, 12, 14, 16, 11, 16, 18, 17, 18, 10, 14, 1, 8, 15, 1, 2, 6, 11, 12, 13, 19, 11, 1, 2, 3, 4, 5, 6, 7, 8, 9, 10, 11, 12, 13, 14, 15, 16, 19, 20, 1, 2, 3, 4, 5, 6, 7, 8, 9, 10, 11, 12, 13, 14, 15, 16, 17, 19, 20, 1, 2, 4, 5, 10, 11, 12, 13, 14, 18, 19, 4, 5, 18, 2, 8, 13, 15, 5, 8, 16, 3, 4, 10, 20, 2, 3, 4, 5, 6, 7, 8, 10, 11, 12, 13, 14, 15, 16, 20, 9, 1, 2, 3, 4, 9, 11, 12, 20, 1, 3, 6, 7, 8, 9, 10, 12, 13, 14, 15, 16, 17, 18, 19, 20, 2, 11, 12, 19, 4, 5, 17, 18, 19, 3, 8, 3, 8, 9, 10, 16, 1, 3, 4, 5, 7, 12, 13, 18, 4, 14, 5, 14, 16, 17, 18, 19, 6, 6, 13, 3, 6, 8, 9, 1, 2, 7, 10, 15, 16, 18, 1, 2, 5, 7, 9, 10, 11, 12, 13, 14, 16, 17, 18, 19, 20, 1, 2, 3, 4, 5, 6, 7, 8, 9, 10, 11, 12, 13, 14, 15, 16, 17, 18, 19, 20, 9, 1, 4, 5, 7, 8, 9, 11, 12, 13, 14, 15, 16, 17, 18, 19, 3, 4, 6, 8, 9, 10, 13, 15, 16, 18, 20, 1, 2, 5, 9, 10, 12, 14, 15, 17, 18, 19, 1, 2, 4, 5, 7, 10, 11, 12, 13, 14, 18, 19, 20, 1, 3, 6, 7, 8, 9, 13, 15, 20, 1, 2, 3, 4, 5, 6, 7, 8, 9, 10, 11, 12, 13, 14, 15, 16, 17, 18, 19, 20, 2, 3, 4, 9, 11, 13, 20, 6, 5, 16, 3, 9, 13, 20, 1, 3, 4, 6, 8, 9, 11, 16, 20, 12, 3, 13, 3, 6, 8, 9, 1, 3, 4, 6, 7, 8, 9, 11, 15, 16, 17, 20, 4, 10, 14, 17, 19, 1, 11, 1, 2, 3, 11, 12, 14, 20, 4, 14, 18, 3, 4, 6, 8, 9, 11, 15, 16, 20, 5, 7, 10, 15, 19, 4, 5, 7, 10, 14, 15, 19, 14, 20, 20, 1, 2, 3, 4, 5, 6, 7, 8, 9, 10, 11, 12, 13, 14, 15, 16, 17, 18, 19, 20, 2, 4, 7, 9, 10, 11, 14, 15, 16, 17, 18, 19, 20, 1, 2, 8, 10, 11, 12, 14, 19, 8, 1, 2, 3, 5, 7, 13, 3, 6, 7, 8, 9, 10, 13, 15, 16, 19, 20, 3, 4, 6, 8, 9, 3, 6, 8, 1, 2, 3, 4, 6, 8, 9, 10, 11, 12, 13, 14, 16, 17, 18, 20, 10, 13, 1, 3, 6, 8, 9, 13, 19, 20, 2, 3, 4, 6, 7, 8, 10, 13, 16, 19, 10, 10, 12, 10, 14, 19, 1, 3, 4, 9, 11, 13, 20, 13, 15, 15, 2, 4, 12, 14, 1, 2, 3, 4, 5, 6, 7, 8, 9, 10, 11, 12, 13, 14, 15, 16, 17, 18, 19, 20, 11, 18, 17, 18, 3, 6, 8, 2, 4, 5, 7, 10, 12, 13, 14, 15, 16, 17, 18, 19, 2, 3, 4, 5, 6, 7, 8, 9, 10, 12, 13, 14, 15, 16, 18, 19, 20, 1, 2, 4, 5, 6, 7, 8, 10, 13, 14, 15, 16, 17, 18, 19, 20, 2, 5, 6, 7, 10, 15, 16, 17, 18, 19, 1, 2, 3, 4, 5, 6, 7, 8, 9, 10, 11, 12, 13, 14, 15, 16, 17, 18, 19, 20, 4, 5, 7, 14, 15, 16, 17, 18, 19, 15, 1, 2, 5, 11, 14, 15, 18, 19, 4, 12, 14, 12, 14, 12, 11, 4, 14, 1, 2, 3, 4, 5, 6, 7, 8, 9, 10, 11, 12, 13, 14, 15, 16, 17, 18, 19, 20, 15, 15, 2, 3, 9, 11, 20, 20, 1, 3, 6, 9, 11, 13, 20, 1, 1, 3, 11, 20, 1, 2, 3, 8, 9, 11, 14, 15, 17, 18, 1, 2, 3, 11, 1, 2, 3, 4, 5, 6, 7, 8, 9, 10, 11, 12, 13, 14, 15, 16, 17, 18, 19, 20, 1, 2, 3, 4, 5, 7, 8, 10, 11, 12, 13, 14, 15, 16, 17, 18, 19, 20, 1, 2, 4, 5, 6, 7, 8, 9, 10, 12, 13, 14, 15, 17, 18, 19, 20, 13, 1, 2, 4, 5, 6, 7, 9, 10, 11, 12, 13, 14, 16, 17, 18, 20, 13, 18, 20, 3, 5, 6, 8, 9, 13, 15, 17, 18, 19, 6, 13, 6, 1, 2, 3, 4, 5, 6, 8, 9, 11, 12, 13, 14, 16, 17, 18, 19, 20, 1, 2, 5, 6, 8, 9, 11, 12, 20, 1, 2, 5, 7, 10, 14, 16, 17, 18, 19, 4, 14, 1, 2, 3, 4, 5, 6, 7, 8, 9, 10, 11, 12, 13, 14, 15, 16, 17, 18, 19, 20, 5, 2, 3, 4, 5, 6, 7, 9, 10, 11, 12, 13, 14, 15, 16, 17, 18, 19, 20, 5, 18, 19, 1, 2, 3, 4, 5, 6, 7, 8, 9, 10, 11, 13, 14, 15, 16, 17, 18, 19, 20, 1, 2, 4, 5, 6, 7, 9, 10, 14, 15, 16, 17, 18, 19, 20, 2, 5, 7, 10, 14, 17, 19, 20, 3, 1, 2, 4, 11, 14, 17, 19, 1, 2, 3, 4, 5, 6, 7, 8, 10, 12, 13, 14, 15, 16, 17, 18, 19, 20, 1, 2, 3, 6, 7, 8, 9, 10, 12, 13, 15, 16, 12, 9, 9, 9, 6, 9, 17, 18, 19, 2, 3, 4, 5, 6, 8, 9, 10, 12, 13, 14, 17, 18, 19, 20, 2, 3, 4, 5, 6, 9, 12, 13, 20, 1, 2, 3, 4, 5, 6, 7, 8, 9, 10, 11, 12, 13, 14, 15, 16, 17, 18, 19, 20, 20, 1, 2, 3, 4, 5, 6, 7, 8, 9, 10, 11, 12, 13, 14, 15, 16, 17, 18, 19, 20, 11, 1, 2, 3, 4, 5, 6, 7, 8, 9, 10, 11, 12, 13, 14, 15, 16, 17, 18, 19, 20, 11, 1, 3, 6, 8, 10, 15, 16, 1, 2, 3, 4, 5, 6, 7, 8, 9, 10, 11, 12, 13, 14, 15, 16, 17, 18, 19, 20, 5, 6, 7, 13, 15, 19, 5, 6, 7, 10, 15, 16, 1, 2, 3, 4, 5, 6, 7, 8, 9, 10, 11, 12, 13, 14, 15, 16, 17, 18, 19, 20, 1, 4, 6, 8, 11, 13, 14, 17, 18, 20, 4, 7, 7, 1, 2, 3, 5, 6, 7, 8, 9, 10, 11, 12, 14, 15, 16, 18, 19, 20, 12, 18, 4, 11, 12, 14, 12, 14, 4, 1, 2, 3, 4, 5, 6, 7, 8, 9, 10, 11, 12, 13, 14, 15, 16, 17, 18, 19, 20, 6, 9, 5, 7, 10, 15, 5, 7, 15, 16, 17, 18, 19, 2, 5, 10, 16, 1, 7, 14, 3, 6, 7, 8, 10, 13, 17, 1, 2, 10, 11, 18, 14, 1, 3, 5, 1, 4, 5, 7, 14, 19, 7, 1, 2, 3, 4, 5, 6, 7, 8, 9, 10, 11, 12, 13, 14, 15, 16, 17, 18, 19, 20, 1, 2, 3, 5, 6, 8, 9, 15, 16, 17, 19, 12, 14, 13, 16, 14, 14, 16, 5, 14, 16, 3, 4, 6, 9, 20, 4, 9, 9, 4, 1, 2, 3, 5, 7, 9, 10, 14, 1, 2, 3, 4, 5, 6, 7, 8, 9, 10, 11, 12, 13, 14, 15, 16, 17, 18, 19, 20, 1, 2, 4, 5, 6, 7, 8, 9, 10, 14, 15, 16, 17, 18, 19, 16, 1, 2, 11, 18, 1, 2, 11, 1, 2, 3, 11, 18, 1, 3, 6, 8, 9, 15, 17, 18, 20, 1, 2, 3, 4, 5, 6, 7, 8, 9, 10, 12, 13, 14, 15, 16, 17, 18, 19, 20, 8, 3, 6, 8, 9, 13, 20, 1, 2, 4, 5, 8, 9, 10, 11, 13, 14, 15, 16, 20, 8, 1, 5, 1, 2, 3, 4, 5, 6, 7, 8, 9, 10, 11, 12, 13, 14, 15, 16, 17, 18, 19, 20, 1, 2, 8, 11, 14, 18, 10, 15, 19, 1, 2, 3, 4, 7, 8, 9, 10, 11, 12, 13, 14, 15, 16, 18, 20, 1, 2, 3, 4, 5, 6, 7, 8, 9, 10, 11, 12, 13, 14, 15, 16, 17, 18, 19, 20, 18, 17, 5, 7, 17, 1, 2, 3, 4, 5, 6, 7, 8, 9, 10, 11, 12, 13, 14, 15, 16, 17, 18, 19, 20, 17, 18, 3, 11, 4, 5, 6, 9, 12, 13, 14, 16, 17, 18, 5, 2, 4, 5, 7, 10, 11, 12, 13, 14, 15, 16, 17, 18, 19, 2, 4, 5, 7, 12, 13, 14, 15, 16, 17, 18, 4, 10, 2, 3, 4, 6, 10, 11, 12, 16, 17, 19, 20, 13, 1, 2, 3, 4, 5, 6, 7, 8, 9, 10, 12, 13, 14, 15, 16, 17, 19, 20, 2, 3, 4, 5, 6, 7, 8, 9, 10, 11, 13, 15, 16, 18, 19, 20, 2, 3, 4, 5, 7, 9, 10, 11, 16, 19, 20, 13, 5, 12, 1, 1, 2, 5, 7, 8, 10, 11, 14, 15, 20, 1, 2, 3, 4, 5, 6, 7, 8, 9, 10, 11, 12, 13, 15, 16, 17, 18, 19, 20, 1, 2, 3, 4, 5, 6, 7, 8, 9, 10, 11, 12, 13, 14, 15, 16, 17, 18, 19, 20, 9, 2, 4, 5, 7, 9, 10, 11, 12, 13, 14, 15, 16, 17, 18, 19, 2, 12, 19, 16, 20, 1, 2, 3, 4, 5, 6, 7, 8, 9, 10, 11, 12, 13, 14, 15, 16, 17, 18, 19, 20, 1, 3, 4, 5, 6, 8, 11, 13, 14, 14, 3, 6, 8, 13, 3, 6, 1, 2, 7, 8, 14, 15, 4, 5, 10, 12, 14, 5, 14, 4, 5, 14, 1, 2, 3, 4, 5, 6, 7, 8, 9, 10, 11, 12, 13, 14, 15, 16, 17, 18, 19, 20, 10, 3, 3, 6, 8, 10, 13, 14, 17, 19, 18, 4, 5, 2, 3, 4, 5, 7, 8, 9, 10, 11, 12, 13, 14, 15, 16, 17, 18, 19, 20, 10, 4, 14, 1, 2, 4, 3, 13, 9, 1, 2, 3, 4, 5, 6, 7, 8, 10, 11, 12, 13, 15, 16, 17, 19, 20, 1, 2, 4, 5, 9, 10, 11, 14, 15, 17, 18, 19, 11, 1, 11, 14, 4, 14, 1, 15, 19, 2, 10, 19, 4, 12, 17, 18, 3, 9, 20, 9, 14, 13, 5, 15, 19, 17, 19, 4, 10, 13, 1, 2, 3, 4, 6, 8, 9, 10, 11, 12, 13, 15, 16, 17, 18, 20, 6, 3, 1, 8, 15, 3, 6, 7, 8, 9, 10, 14, 15, 16, 17, 2, 14, 18, 4, 9, 16, 1, 2, 3, 4, 5, 7, 8, 9, 10, 11, 14, 15, 17, 18, 19, 20, 5, 10, 15, 19, 10, 15, 17, 19, 8, 3, 8, 12, 5, 1, 6, 8, 9, 12, 14, 15, 17, 20, 2, 4, 5, 6, 7, 8, 10, 11, 12, 13, 14, 15, 16, 17, 18, 19, 20, 11, 14, 11, 18, 11, 1, 2, 5, 6, 7, 8, 10, 12, 13, 14, 15, 16, 19, 20, 1, 2, 3, 4, 5, 6, 7, 8, 9, 10, 11, 12, 13, 14, 15, 16, 17, 18, 19, 20, 6, 13, 6, 13, 11, 14, 5, 17, 1, 2, 3, 4, 5, 6, 7, 8, 9, 10, 12, 13, 14, 15, 16, 17, 18, 19, 20, 1, 2, 3, 4, 5, 6, 7, 8, 9, 10, 11, 12, 13, 14, 15, 16, 17, 18, 19, 20, 1, 2, 3, 8, 10, 11, 12, 17, 1, 2, 3, 4, 5, 6, 7, 8, 9, 10, 11, 12, 13, 14, 15, 16, 17, 18, 19, 20, 1, 2, 4, 5, 7, 10, 11, 12, 13, 14, 15, 16, 17, 18, 19, 2, 4, 5, 10, 11, 14, 16, 18, 1, 2, 11, 16, 19, 6, 13, 16, 1, 2, 3, 4, 5, 6, 7, 8, 9, 10, 11, 12, 13, 14, 15, 16, 17, 18, 19, 20, 1, 2, 3, 5, 6, 8, 12, 13, 14, 17, 18, 1, 2, 3, 4, 5, 6, 7, 8, 9, 10, 11, 12, 13, 14, 15, 16, 17, 18, 19, 20, 1, 2, 3, 4, 6, 11, 12, 14, 15, 16, 19, 20, 1, 2, 5, 6, 8, 9, 10, 12, 13, 14, 15, 16, 17, 18, 19, 1, 2, 3, 4, 5, 6, 7, 8, 9, 10, 11, 12, 13, 14, 15, 16, 17, 18, 19, 20, 1, 2, 3, 4, 5, 6, 7, 9, 10, 11, 12, 13, 14, 16, 19, 20, 1, 2, 3, 4, 5, 10, 11, 12, 13, 16, 1, 2, 3, 4, 5, 6, 7, 8, 9, 10, 11, 12, 13, 14, 15, 16, 17, 18, 19, 20, 1, 2, 3, 4, 5, 6, 7, 8, 9, 10, 11, 12, 13, 14, 15, 16, 17, 18, 19, 20, 20, 2, 4, 14, 1, 2, 3, 4, 5, 6, 7, 8, 9, 10, 12, 13, 14, 15, 16, 17, 18, 19, 20, 1, 2, 3, 4, 5, 6, 7, 8, 9, 10, 11, 12, 13, 14, 15, 16, 17, 18, 19, 20, 1, 2, 3, 5, 7, 8, 10, 11, 12, 13, 14, 19, 20, 5, 9, 10, 11, 12, 13, 14, 20, 8, 10, 10, 1, 2, 3, 4, 5, 6, 7, 8, 9, 10, 11, 12, 13, 14, 15, 16, 17, 18, 19, 20, 1, 2, 3, 4, 5, 6, 7, 8, 9, 10, 11, 12, 13, 14, 15, 16, 17, 18, 19, 20, 1, 2, 3, 4, 5, 6, 7, 8, 9, 10, 11, 12, 13, 14, 15, 16, 17, 18, 19, 20, 18, 10, 9, 4, 6, 7, 9, 13, 15, 16, 18, 16, 20, 8, 9, 15, 16, 1, 2, 3, 6, 9, 11, 12, 15, 16, 19, 20, 5, 7, 8, 10, 13, 14, 15, 3, 6, 13, 1, 2, 3, 8, 9, 11, 12, 20, 3, 3, 4, 9, 16, 1, 6, 13, 17, 19, 2, 3, 4, 5, 7, 8, 9, 10, 11, 12, 13, 14, 15, 16, 17, 18, 19, 20, 3, 4, 9, 13, 20, 1, 5, 6, 7, 12, 13, 16, 17, 18, 19, 20, 1, 8, 15, 20, 1, 2, 3, 6, 7, 8, 9, 10, 11, 12, 13, 15, 16, 17, 19, 20, 8, 6, 8, 8, 6, 7, 8, 6, 8, 6, 8, 13, 6, 6, 2, 3, 6, 9, 17, 1, 2, 3, 4, 7, 9, 10, 11, 12, 14, 17, 18, 19, 20, 1, 2, 3, 4, 5, 6, 7, 8, 9, 10, 11, 12, 13, 14, 15, 16, 17, 18, 19, 20, 4, 5, 10, 14, 19, 1, 2, 9, 11, 12, 14, 16, 17, 18, 19, 1, 5, 6, 7, 8, 10, 11, 12, 14, 15, 16, 20, 1, 2, 3, 4, 5, 6, 7, 8, 9, 10, 11, 12, 13, 14, 15, 16, 18, 19, 20, 18, 18, 1, 2, 3, 4, 6, 9, 10, 12, 13, 16, 19, 20, 6, 13, 2, 4, 12, 14, 5, 16, 5, 15, 16, 18, 10, 4, 13, 14, 14, 17, 1, 2, 3, 4, 5, 6, 7, 8, 9, 10, 11, 12, 13, 14, 15, 16, 17, 18, 19, 20, 6, 17, 4, 5, 7, 12, 13, 14, 17, 1, 2, 3, 4, 5, 6, 7, 8, 9, 10, 11, 12, 13, 14, 15, 16, 17, 18, 19, 20, 5, 7, 12, 5, 3, 4, 7, 8, 9, 10, 13, 15, 18, 12, 1, 2, 3, 4, 5, 6, 7, 8, 9, 10, 11, 12, 13, 14, 15, 16, 17, 18, 19, 20, 4, 5, 10, 15, 2, 4, 10, 11, 14, 11, 4, 7, 9, 17, 18, 5, 1, 2, 3, 4, 5, 7, 9, 11, 12, 13, 14, 15, 16, 18, 20, 1, 6, 7, 8, 13, 15, 1, 3, 6, 11, 1, 2, 17, 5, 7, 14, 16, 18, 4, 14, 18, 16, 13, 13, 18, 6, 5, 7, 19, 2, 18, 1, 2, 3, 4, 6, 7, 8, 9, 10, 11, 12, 13, 14, 15, 17, 18, 19, 20, 1, 2, 3, 4, 6, 7, 8, 10, 12, 14, 15, 17, 19, 7, 14, 4, 5, 10, 13, 16, 18, 19, 2, 12, 14, 18, 19, 3, 9, 11, 20, 5, 7, 3, 17, 18, 1, 2, 3, 4, 6, 7, 9, 11, 12, 13, 16, 17, 19, 20, 17, 1, 2, 18, 1, 2, 3, 4, 5, 6, 7, 8, 9, 10, 11, 12, 13, 14, 15, 16, 17, 18, 19, 20, 2, 4, 5, 6, 7, 8, 10, 11, 12, 13, 14, 15, 16, 18, 19, 3, 2, 3, 4, 5, 6, 7, 9, 10, 12, 13, 14, 15, 16, 17, 18, 19, 20, 3, 4, 6, 12, 12, 3, 6, 7, 8, 10, 13, 15, 1, 2, 3, 4, 5, 6, 7, 8, 10, 11, 12, 13, 14, 15, 16, 17, 18, 19, 20, 1, 2, 3, 4, 5, 6, 7, 8, 9, 10, 11, 13, 14, 15, 16, 17, 18, 19, 5, 6, 7, 8, 16, 17, 18, 19, 5, 15, 5, 6, 7, 8, 12, 1, 2, 3, 4, 5, 6, 7, 8, 9, 10, 11, 12, 13, 14, 15, 16, 17, 18, 19, 20, 1, 2, 3, 4, 6, 10, 11, 12, 13, 14, 16, 18, 19, 15, 5, 3, 4, 6, 8, 9, 13, 16, 20, 5, 1, 3, 4, 5, 7, 11, 12, 13, 15, 17, 19, 20, 15, 7, 15, 1, 12, 8, 5, 1, 2, 3, 4, 5, 6, 7, 8, 9, 10, 11, 12, 13, 14, 15, 16, 17, 18, 19, 20, 8, 1, 2, 3, 7, 12, 13, 15, 16, 18, 19, 20, 1, 2, 3, 4, 5, 6, 7, 8, 9, 11, 12, 13, 14, 15, 16, 17, 18, 19, 20, 1, 2, 3, 4, 6, 7, 8, 9, 10, 11, 12, 13, 14, 15, 16, 17, 18, 19, 20, 11, 14, 14, 11, 11, 1, 2, 3, 4, 5, 6, 7, 8, 9, 10, 11, 12, 13, 14, 15, 16, 17, 18, 19, 20, 1, 2, 3, 5, 9, 10, 11, 16, 18, 19, 20, 1, 2, 4, 11, 12, 13, 1, 2, 3, 4, 5, 6, 7, 8, 9, 10, 11, 12, 13, 14, 15, 16, 17, 18, 19, 20, 20, 2, 10, 9, 1, 2, 3, 4, 5, 6, 7, 8, 9, 10, 11, 12, 13, 14, 15, 16, 17, 18, 19, 20, 5, 7, 1, 2, 3, 4, 5, 6, 7, 8, 9, 10, 11, 12, 13, 14, 15, 16, 17, 18, 19, 20, 6, 16, 6, 9, 6, 1, 2, 3, 4, 5, 6, 7, 8, 9, 10, 11, 12, 13, 14, 15, 16, 18, 19, 20, 1, 2, 3, 4, 5, 6, 7, 8, 9, 10, 11, 12, 13, 14, 15, 16, 17, 18, 19, 20, 2, 4, 5, 6, 7, 10, 12, 13, 14, 15, 16, 17, 18, 19, 4, 5, 13, 14, 17, 19, 4, 5, 13, 14, 18, 19, 4, 5, 14, 1, 2, 3, 5, 8, 9, 10, 11, 12, 14, 15, 16, 17, 18, 19, 20, 1, 2, 8, 9, 10, 11, 12, 14, 15, 17, 18, 20, 8, 4, 12, 2, 16, 8, 9, 16, 1, 2, 4, 5, 6, 7, 8, 9, 10, 11, 12, 13, 14, 15, 16, 17, 18, 19, 20, 1, 2, 4, 5, 6, 7, 8, 9, 10, 12, 13, 14, 15, 16, 17, 18, 19, 20, 3, 6, 20, 3, 4, 6, 7, 8, 13, 16, 17, 20, 2, 3, 4, 9, 13, 16, 20, 12, 4, 4, 4, 3, 8, 5, 5, 1, 2, 3, 5, 6, 7, 8, 9, 10, 11, 12, 14, 15, 16, 17, 20, 10, 17, 1, 17, 18, 14, 15, 17, 18, 4, 9, 17, 18, 19, 18, 7, 18, 17, 18, 19, 4, 17, 18, 4, 12, 14, 17, 18, 1, 2, 4, 5, 7, 8, 10, 11, 12, 13, 14, 15, 16, 17, 18, 17, 3, 6, 7, 8, 13, 16, 1, 2, 3, 4, 5, 6, 7, 8, 9, 10, 11, 12, 13, 14, 15, 16, 17, 18, 19, 20, 9, 16, 17, 18, 7, 13, 15, 17, 17, 18, 19, 18, 19, 6, 13, 16, 11, 18, 19, 1, 2, 3, 4, 5, 6, 7, 8, 9, 10, 11, 12, 13, 14, 15, 16, 17, 18, 19, 20, 3, 4, 8, 9, 10, 13, 19, 20, 15, 17, 19, 3, 3, 7, 10, 19, 3, 14, 20, 1, 2, 3, 4, 5, 6, 7, 8, 9, 10, 11, 12, 13, 14, 15, 16, 17, 18, 19, 20, 1, 7, 9, 17, 18, 5, 5, 5, 5, 7, 8, 11, 14, 20, 1, 3, 4, 5, 6, 7, 8, 9, 10, 11, 12, 13, 14, 15, 20, 1, 2, 10, 11, 12, 14, 15, 16, 17, 18, 19, 20, 3, 4, 6, 7, 8, 9, 10, 13, 14, 15, 17, 18, 19, 1, 2, 4, 7, 8, 10, 13, 15, 19, 1, 2, 3, 6, 7, 8, 9, 10, 11, 12, 14, 15, 18, 20, 4, 5, 9, 10, 13, 14, 17, 18, 1, 3, 5, 6, 9, 11, 15, 16, 17, 18, 19, 20, 3, 6, 9, 11, 13, 17, 20, 9, 3, 13, 2, 6, 9, 11, 12, 18, 20, 1, 2, 3, 4, 5, 6, 7, 8, 9, 10, 11, 12, 13, 14, 15, 16, 17, 18, 19, 20, 1, 2, 3, 4, 5, 6, 7, 8, 9, 10, 11, 12, 13, 14, 15, 16, 17, 18, 19, 20, 4, 5, 6, 7, 9, 10, 11, 12, 13, 14, 16, 17, 18, 19, 1, 2, 3, 4, 5, 6, 7, 8, 9, 10, 11, 12, 13, 14, 15, 16, 17, 18, 19, 20, 2, 4, 14, 1, 2, 3, 4, 5, 6, 7, 8, 9, 10, 11, 12, 13, 14, 15, 16, 17, 18, 19, 20, 1, 2, 3, 4, 5, 6, 7, 8, 9, 10, 11, 12, 13, 14, 15, 16, 17, 18, 19, 20, 1, 2, 3, 4, 5, 6, 7, 8, 9, 10, 11, 12, 13, 14, 15, 16, 17, 18, 19, 20, 9, 1, 2, 3, 4, 5, 6, 7, 8, 9, 10, 11, 12, 13, 14, 15, 16, 17, 18, 19, 20, 2, 4, 5, 7, 10, 12, 13, 14, 18, 19, 1, 2, 3, 4, 5, 6, 7, 8, 9, 10, 11, 12, 13, 14, 15, 16, 17, 18, 19, 20, 3, 8, 9, 20, 9, 17, 18, 17, 18, 3, 6, 9, 11, 13, 14, 17, 18, 13, 1, 2, 3, 4, 5, 6, 7, 8, 9, 10, 11, 12, 13, 14, 15, 16, 17, 18, 19, 20, 4, 5, 6, 7, 8, 10, 11, 13, 14, 15, 16, 17, 18, 19, 6, 7, 8, 15, 2, 4, 5, 7, 8, 9, 10, 12, 13, 14, 15, 16, 17, 18, 19, 20, 1, 2, 3, 4, 5, 6, 7, 8, 9, 10, 11, 12, 13, 14, 15, 16, 17, 18, 19, 20, 3, 5, 6, 7, 8, 9, 10, 13, 15, 16, 17, 18, 19, 15, 17, 19, 17, 1, 3, 1, 2, 3, 4, 5, 6, 7, 8, 9, 10, 11, 12, 13, 14, 15, 16, 17, 18, 19, 20, 3, 8, 5, 11, 19, 1, 2, 3, 4, 5, 6, 7, 8, 9, 10, 11, 12, 13, 14, 15, 16, 17, 18, 19, 20, 11, 11, 2, 4, 5, 7, 10, 12, 14, 18, 19, 20, 2, 4, 5, 12, 13, 14, 19, 20, 4, 14, 11, 12, 3, 8, 10, 15, 17, 18, 19, 1, 2, 3, 4, 5, 6, 7, 8, 9, 10, 11, 12, 13, 14, 15, 16, 17, 18, 19, 20, 9, 9, 20, 1, 2, 3, 4, 5, 6, 7, 8, 9, 10, 11, 12, 13, 14, 15, 16, 17, 18, 19, 20, 9, 8, 1, 2, 3, 4, 5, 6, 7, 8, 9, 10, 11, 12, 13, 14, 15, 16, 17, 18, 19, 20, 6, 3, 8, 9, 11, 1, 3, 9, 12, 16, 3, 5, 10, 11, 12, 13, 14, 17, 19, 20, 1, 2, 12, 1, 3, 6, 8, 9, 11, 3, 3, 3, 3, 8, 1, 3, 4, 11, 12, 3, 17, 18, 1, 2, 4, 5, 10, 11, 12, 13, 14, 16, 17, 18, 19, 20, 10, 3, 4, 6, 8, 9, 13, 20, 1, 2, 3, 4, 5, 6, 7, 8, 9, 10, 11, 12, 13, 14, 15, 16, 17, 18, 19, 20, 1, 2, 3, 4, 5, 6, 7, 8, 9, 10, 11, 12, 13, 14, 15, 16, 17, 18, 19, 20, 7, 8, 13, 13, 1, 2, 3, 4, 5, 7, 10, 12, 13, 14, 15, 16, 17, 18, 19, 1, 2, 11, 4, 11, 14, 13, 5, 6, 13, 14, 16, 18, 1, 2, 3, 4, 5, 6, 7, 8, 9, 11, 12, 13, 14, 15, 16, 17, 18, 20, 8, 17, 1, 2, 4, 5, 6, 7, 8, 9, 10, 11, 12, 13, 14, 15, 16, 17, 18, 19, 20, 14, 2, 4, 6, 7, 10, 11, 12, 13, 14, 16, 17, 18, 1, 2, 5, 6, 15, 17, 18, 1, 2, 5, 6, 8, 13, 15, 17, 18, 19, 2, 6, 8, 13, 1, 2, 3, 4, 8, 9, 16, 19, 20, 5, 16, 19, 7, 15, 4, 5, 12, 1, 2, 3, 4, 5, 6, 7, 8, 9, 10, 11, 12, 13, 14, 15, 16, 17, 18, 19, 20, 1, 2, 3, 4, 5, 6, 7, 8, 9, 10, 11, 12, 13, 14, 15, 16, 17, 18, 19, 20, 2, 10, 12, 1, 2, 6, 12, 1, 6, 7, 8, 15, 8, 1, 2, 5, 14, 17, 19, 19, 8, 19, 1, 2, 3, 4, 5, 6, 7, 8, 9, 10, 11, 12, 13, 14, 15, 16, 17, 18, 19, 20, 1, 2, 3, 4, 5, 6, 7, 9, 12, 13, 14, 15, 16, 17, 18, 19, 20, 17, 18, 6, 13, 20, 4, 18, 1, 2, 3, 4, 5, 6, 7, 8, 9, 10, 11, 12, 13, 14, 15, 16, 17, 18, 19, 20, 1, 2, 3, 4, 5, 7, 8, 9, 10, 11, 12, 13, 14, 15, 16, 17, 18, 19, 20, 5, 1, 2, 3, 4, 5, 6, 7, 8, 9, 10, 11, 13, 14, 15, 16, 18, 19, 20, 11, 1, 2, 3, 4, 5, 6, 7, 8, 9, 10, 11, 12, 13, 14, 15, 16, 17, 18, 19, 20, 5, 7, 19, 3, 6, 8, 6, 3, 6, 8, 6, 8, 5, 7, 10, 15, 20, 18, 11, 1, 2, 5, 6, 7, 8, 10, 11, 12, 13, 14, 15, 16, 17, 18, 19, 13, 7, 3, 6, 8, 9, 15, 16, 20, 3, 4, 6, 7, 8, 9, 13, 15, 16, 20, 3, 13, 4, 5, 12, 1, 2, 3, 4, 5, 6, 7, 8, 9, 10, 12, 13, 14, 15, 16, 17, 18, 19, 20, 12, 1, 2, 3, 4, 5, 6, 7, 8, 9, 10, 11, 12, 13, 14, 15, 16, 17, 18, 19, 20, 1, 11, 14, 1, 6, 7, 13, 15, 1, 2, 7, 15, 17, 19, 1, 2, 3, 4, 5, 6, 7, 8, 9, 10, 11, 12, 13, 14, 15, 16, 17, 18, 19, 20, 6, 8, 9, 18, 20, 20, 13, 15, 9, 16, 1, 2, 3, 4, 5, 6, 7, 8, 9, 10, 11, 12, 13, 14, 15, 16, 17, 18, 19, 20, 6, 8, 3, 6, 9, 3, 20, 1, 2, 3, 4, 5, 6, 7, 8, 9, 10, 11, 12, 13, 14, 15, 16, 17, 18, 19, 20, 2, 4, 11, 12, 14, 5, 7, 15, 19, 4, 5, 10, 14, 19, 3, 1, 2, 5, 6, 8, 12, 13, 14, 15, 16, 18, 1, 2, 12, 19, 11, 13, 1, 2, 3, 4, 5, 6, 7, 8, 9, 10, 11, 12, 13, 14, 15, 16, 17, 18, 19, 20, 1, 2, 3, 4, 5, 6, 7, 8, 10, 11, 12, 13, 14, 15, 16, 17, 18, 19, 1, 2, 3, 7, 11, 12, 14, 20, 7, 7, 9, 15, 19, 3, 10, 15, 1, 2, 3, 4, 5, 6, 7, 8, 9, 10, 11, 12, 13, 14, 15, 16, 17, 18, 19, 20, 9, 10, 1, 2, 12, 18, 19, 1, 2, 3, 4, 5, 6, 7, 8, 9, 11, 12, 13, 14, 15, 16, 17, 18, 19, 20, 1, 2, 3, 4, 5, 6, 7, 8, 9, 10, 11, 12, 13, 14, 15, 16, 17, 18, 19, 5, 1, 2, 3, 4, 5, 6, 7, 8, 9, 10, 11, 12, 13, 14, 15, 16, 17, 18, 19, 20, 1, 2, 10, 11, 14, 1, 2, 4, 5, 10, 11, 12, 13, 14, 16, 18, 1, 2, 3, 4, 5, 6, 7, 8, 9, 10, 11, 12, 14, 15, 16, 17, 18, 19, 20, 10, 14, 1, 2, 3, 4, 5, 6, 7, 8, 9, 10, 11, 12, 13, 14, 15, 16, 17, 18, 20, 1, 2, 3, 4, 5, 6, 7, 8, 9, 10, 11, 12, 13, 14, 15, 16, 17, 18, 19, 20, 5, 6, 7, 8, 10, 14, 15, 17, 18, 19, 1, 2, 3, 4, 5, 6, 7, 8, 9, 10, 11, 12, 13, 14, 15, 16, 17, 18, 19, 20, 7, 8, 9, 16, 17, 19, 20, 3, 8, 10, 11, 10, 19, 5, 7, 10, 15, 19, 1, 2, 3, 4, 5, 6, 9, 11, 12, 13, 14, 16, 17, 18, 19, 20, 2, 4, 10, 12, 14, 19, 2, 4, 5, 7, 9, 10, 13, 14, 15, 16, 18, 19, 2, 3, 4, 7, 8, 10, 15, 19, 19, 4, 10, 14, 2, 5, 7, 10, 11, 12, 14, 15, 16, 18, 19, 4, 14, 1, 2, 3, 6, 8, 9, 11, 20, 5, 10, 19, 2, 3, 4, 5, 6, 7, 9, 10, 11, 12, 13, 14, 15, 16, 17, 18, 19, 20, 1, 2, 3, 4, 5, 6, 7, 9, 10, 11, 12, 13, 16, 18, 19, 20, 13, 9, 20, 1, 3, 11, 14, 1, 11, 14, 2, 3, 4, 5, 7, 8, 9, 12, 13, 14, 15, 16, 17, 18, 19, 13, 4, 5, 13, 4, 13, 1, 2, 3, 4, 9, 12, 18, 20, 7, 13, 1, 3, 17, 18, 2, 4, 5, 6, 7, 10, 12, 13, 14, 15, 16, 17, 18, 19, 1, 2, 3, 6, 7, 8, 9, 10, 11, 12, 13, 14, 15, 17, 18, 19, 20, 1, 2, 3, 4, 5, 6, 7, 8, 9, 10, 11, 12, 13, 14, 15, 16, 17, 18, 19, 20, 1, 2, 3, 4, 5, 6, 7, 8, 9, 10, 11, 12, 13, 14, 15, 16, 17, 18, 19, 20, 13, 1, 2, 5, 14, 15, 17, 19, 7, 8, 15, 17, 19, 4, 5, 10, 12, 15, 1, 2, 3, 4, 5, 6, 7, 8, 9, 10, 11, 12, 13, 15, 16, 19, 20, 11, 11, 11, 11, 7, 13, 2, 5, 13, 17, 20, 13, 13, 2, 3, 4, 5, 6, 7, 8, 9, 10, 12, 13, 16, 18, 20, 6, 1, 2, 3, 6, 8, 9, 11, 5, 15, 17, 19, 1, 2, 3, 4, 6, 7, 8, 9, 10, 11, 12, 13, 14, 15, 16, 18, 19, 20, 1, 3, 10, 12, 1, 2, 10, 12, 1, 3, 4, 5, 6, 7, 8, 9, 10, 12, 13, 14, 15, 16, 17, 18, 19, 20, 1, 2, 3, 4, 5, 6, 7, 8, 9, 10, 11, 12, 13, 14, 15, 16, 17, 18, 19, 20, 1, 2, 3, 4, 5, 6, 7, 8, 9, 10, 11, 12, 13, 14, 15, 16, 17, 18, 19, 20, 18, 19, 1, 2, 3, 4, 6, 7, 8, 9, 11, 13, 16, 17, 18, 19, 1, 2, 3, 4, 6, 7, 8, 9, 13, 16, 17, 19, 2, 3, 4, 5, 6, 7, 8, 9, 10, 11, 12, 13, 14, 15, 16, 17, 18, 20, 1, 2, 3, 4, 5, 7, 8, 9, 10, 11, 12, 13, 14, 16, 17, 18, 19, 20, 1, 2, 3, 4, 5, 6, 7, 8, 9, 10, 11, 12, 13, 14, 15, 16, 17, 18, 19, 20, 2, 5, 14, 17, 19, 2, 4, 5, 6, 7, 8, 10, 12, 13, 15, 16, 19, 20, 3, 6, 8, 11, 13, 17, 1, 2, 3, 4, 5, 6, 7, 8, 9, 10, 11, 12, 13, 15, 16, 17, 18, 19, 20, 6, 2, 12, 19, 4, 7, 11, 12, 14, 16, 17, 18, 4, 5, 7, 9, 10, 13, 14, 17, 18, 19, 20, 14, 11, 12, 14, 1, 2, 3, 4, 5, 6, 7, 8, 9, 10, 12, 13, 15, 16, 17, 18, 19, 20, 5, 16, 10, 13, 14, 14, 3, 14, 16, 20, 14, 4, 14, 1, 2, 4, 10, 11, 12, 14, 15, 16, 20, 14, 4, 11, 14, 14, 4, 20, 20, 1, 2, 3, 4, 5, 6, 7, 8, 9, 10, 13, 14, 15, 16, 17, 18, 19, 1, 8, 14, 1, 2, 3, 4, 5, 6, 7, 8, 9, 10, 11, 12, 13, 14, 15, 16, 17, 18, 19, 20, 1, 2, 4, 5, 10, 11, 12, 13, 14, 16, 17, 18, 19, 20, 8, 3, 8, 9, 20, 1, 3, 9, 11, 20, 5, 7, 8, 13, 14, 15, 1, 2, 3, 4, 5, 6, 7, 8, 9, 10, 11, 12, 13, 14, 15, 16, 17, 18, 19, 20, 2, 4, 5, 11, 12, 18, 1, 2, 3, 4, 5, 6, 7, 8, 9, 10, 11, 12, 13, 14, 15, 16, 17, 18, 19, 20, 1, 2, 3, 4, 5, 7, 8, 10, 11, 12, 14, 15, 16, 18, 19, 20, 18, 3, 6, 7, 8, 13, 16, 3, 6, 7, 8, 13, 17, 18, 1, 2, 3, 4, 5, 6, 7, 8, 9, 10, 11, 12, 13, 14, 15, 16, 17, 18, 19, 20, 1, 2, 3, 4, 5, 7, 8, 9, 10, 11, 12, 14, 15, 17, 18, 20, 12, 1, 2, 3, 4, 6, 7, 9, 10, 11, 12, 14, 15, 16, 18, 19, 20, 9, 5, 6, 7, 8, 10, 13, 14, 15, 16, 19, 7, 15, 17, 2, 5, 10, 14, 16, 17, 19, 1, 2, 14, 15, 6, 13, 1, 2, 3, 4, 5, 6, 7, 8, 9, 10, 11, 12, 13, 14, 15, 16, 17, 18, 19, 20, 7, 19, 7, 1, 2, 3, 4, 5, 6, 8, 9, 11, 12, 13, 14, 17, 18, 19, 20, 1, 11, 2, 3, 4, 5, 7, 9, 10, 11, 12, 13, 14, 16, 17, 18, 19, 20, 11, 1, 2, 3, 4, 6, 7, 8, 9, 10, 11, 13, 14, 15, 17, 20, 1, 2, 3, 4, 5, 6, 7, 8, 9, 10, 11, 12, 13, 14, 15, 16, 17, 18, 19, 20, 1, 2, 4, 5, 7, 9, 11, 12, 13, 14, 15, 16, 17, 18, 1, 2, 4, 5, 6, 7, 8, 9, 10, 12, 13, 14, 15, 16, 17, 18, 19, 20, 17, 1, 2, 3, 4, 5, 6, 7, 8, 9, 10, 11, 12, 13, 14, 15, 16, 17, 18, 19, 20, 1, 2, 3, 6, 7, 8, 9, 10, 11, 12, 13, 14, 15, 16, 18, 1, 11, 1, 2, 3, 4, 5, 7, 8, 9, 10, 11, 12, 13, 14, 15, 16, 17, 18, 19, 1, 5, 6, 7, 8, 9, 10, 14, 15, 16, 17, 18, 19, 20, 17, 2, 3, 8, 13, 16, 20, 1, 2, 3, 5, 6, 7, 8, 9, 10, 11, 12, 13, 14, 15, 16, 17, 18, 19, 20, 17, 7, 17, 18, 19, 1, 2, 3, 4, 5, 6, 7, 8, 9, 10, 11, 12, 13, 14, 15, 16, 17, 18, 19, 20, 1, 2, 3, 4, 5, 6, 7, 8, 9, 10, 11, 12, 13, 14, 15, 16, 17, 18, 19, 20, 7, 3, 11, 3, 5, 8, 15, 16, 17, 20, 5, 15, 16, 17, 13, 5, 6, 7, 8, 9, 13, 15, 16, 17, 19, 1, 3, 5, 6, 7, 8, 9, 10, 13, 14, 15, 16, 19, 20, 5, 6, 7, 8, 10, 13, 15, 19, 6, 1, 2, 3, 6, 8, 9, 10, 11, 18, 20, 5, 7, 10, 14, 15, 17, 19, 14, 14, 1, 2, 3, 4, 5, 6, 7, 8, 9, 10, 11, 12, 13, 14, 15, 16, 17, 18, 19, 20, 5, 16, 18, 18, 12, 14, 1, 17, 1, 3, 8, 18, 7, 19, 7, 15, 18, 19, 3, 13, 1, 2, 3, 4, 5, 6, 7, 8, 9, 10, 11, 12, 13, 14, 15, 16, 17, 18, 19, 20, 9, 18, 18, 1, 12, 3, 9, 18, 20, 1, 2, 5, 9, 10, 11, 16, 17, 18, 19, 20, 1, 2, 3, 5, 6, 7, 8, 9, 12, 15, 17, 18, 19, 13, 1, 2, 3, 9, 11, 20, 3, 10, 16, 3, 5, 10, 10, 2, 3, 4, 6, 7, 9, 10, 13, 15, 16, 19, 20, 1, 2, 3, 4, 5, 6, 7, 8, 10, 11, 12, 13, 14, 15, 16, 17, 18, 19, 20, 3, 6, 9, 13, 20, 3, 13, 3, 6, 9, 20, 3, 6, 13, 4, 5, 7, 9, 10, 13, 14, 15, 16, 17, 18, 19, 4, 14, 1, 2, 3, 4, 5, 6, 7, 8, 9, 10, 11, 12, 13, 14, 15, 16, 17, 18, 19, 20, 5, 7, 15, 19, 1, 2, 3, 4, 5, 6, 7, 8, 9, 10, 11, 12, 13, 14, 15, 16, 17, 18, 19, 20, 1, 2, 3, 4, 5, 6, 7, 8, 9, 10, 11, 12, 13, 14, 15, 16, 17, 18, 19, 20, 1, 2, 3, 4, 5, 6, 8, 9, 10, 11, 12, 13, 14, 15, 16, 17, 18, 19, 20, 10, 1, 3, 5, 7, 8, 10, 11, 12, 14, 15, 16, 20, 1, 2, 3, 4, 5, 6, 7, 8, 9, 10, 11, 12, 13, 14, 15, 16, 17, 18, 19, 20, 10, 1, 8, 14, 15, 18, 3, 1, 2, 3, 4, 5, 6, 7, 8, 10, 12, 13, 14, 15, 16, 17, 18, 19, 20, 7, 13, 15, 16, 19, 1, 2, 3, 4, 5, 6, 7, 8, 9, 10, 13, 14, 15, 16, 17, 18, 19, 20, 17, 18, 1, 2, 3, 4, 5, 6, 7, 8, 10, 11, 14, 15, 16, 17, 18, 19, 20, 1, 2, 3, 4, 5, 6, 7, 8, 9, 10, 11, 12, 13, 14, 15, 16, 17, 18, 19, 20, 7, 7, 8, 3, 6, 9, 14, 10, 3, 4, 5, 7, 8, 10, 12, 13, 14, 15, 19, 2, 3, 4, 5, 9, 12, 13, 18, 20, 1, 3, 6, 8, 9, 11, 20, 1, 2, 3, 7, 9, 10, 12, 20, 3, 4, 5, 3, 1, 2, 3, 4, 5, 6, 7, 8, 9, 10, 11, 12, 13, 14, 15, 16, 17, 18, 19, 20, 1, 2, 3, 4, 5, 7, 9, 10, 11, 12, 13, 14, 15, 16, 18, 19, 20, 5, 1, 2, 3, 11, 12, 16, 19, 20, 1, 2, 3, 4, 5, 6, 7, 8, 10, 11, 13, 14, 15, 16, 17, 19, 1, 2, 3, 4, 5, 6, 7, 8, 9, 10, 11, 12, 13, 14, 15, 16, 17, 18, 19, 20, 1, 2, 10, 12, 11, 14, 3, 9, 11, 20, 3, 9, 13, 20, 1, 2, 3, 9, 11, 16, 19, 20, 1, 2, 11, 5, 6, 7, 8, 13, 15, 19, 5, 6, 7, 10, 14, 17, 18, 19, 18, 2, 3, 8, 9, 13, 1, 2, 3, 4, 5, 6, 7, 8, 9, 10, 11, 12, 13, 14, 15, 16, 17, 18, 19, 20, 1, 2, 3, 4, 5, 6, 7, 8, 9, 10, 11, 12, 13, 14, 15, 16, 17, 18, 19, 20, 3, 10, 13, 1, 3, 6, 8, 1, 2, 18, 18, 18, 14, 16, 20, 1, 2, 3, 4, 11, 12, 14, 20, 2, 19, 17, 19, 17, 17, 19, 17, 18, 1, 2, 5, 10, 14, 15, 17, 18, 19, 1, 14, 15, 2, 3, 4, 5, 6, 7, 8, 9, 10, 11, 12, 13, 14, 15, 16, 17, 18, 19, 4, 5, 7, 10, 15, 19, 10, 5, 7, 10, 14, 18, 19, 15, 5, 15, 17, 19, 5, 16, 3, 18, 13, 17, 2, 4, 5, 9, 10, 12, 13, 14, 15, 16, 17, 18, 19, 20, 1, 2, 3, 4, 5, 6, 7, 8, 9, 10, 11, 12, 13, 14, 15, 16, 17, 18, 19, 20, 9, 9, 1, 2, 3, 4, 5, 6, 7, 8, 9, 10, 12, 13, 14, 15, 16, 17, 18, 19, 20, 1, 2, 3, 4, 5, 6, 7, 8, 9, 10, 11, 12, 13, 14, 15, 16, 17, 18, 19, 20, 5, 6, 7, 8, 9, 15, 1, 11, 12, 4, 5, 10, 12, 14, 16, 18, 1, 12, 2, 3, 4, 5, 6, 7, 8, 9, 10, 12, 13, 14, 15, 16, 18, 19, 20, 6, 13, 11, 1, 2, 3, 4, 5, 6, 7, 8, 9, 10, 11, 12, 13, 14, 15, 16, 17, 18, 19, 20, 7, 8, 13, 16, 20, 3, 20, 1, 2, 10, 12, 20, 2, 4, 5, 9, 12, 16, 18, 19, 2, 3, 4, 6, 8, 9, 11, 12, 13, 20, 6, 8, 2, 3, 4, 6, 7, 8, 9, 10, 12, 14, 15, 16, 18, 19, 20, 7, 12, 13, 1, 1, 2, 4, 11, 12, 14, 1, 2, 15, 7, 17, 18, 1, 2, 3, 4, 5, 6, 7, 8, 9, 10, 11, 12, 13, 14, 15, 16, 17, 18, 19, 20, 3, 4, 13, 5, 7, 17, 4, 20, 20, 18, 2, 8, 10, 15, 19, 1, 2, 3, 4, 5, 7, 8, 9, 10, 11, 12, 13, 14, 15, 16, 17, 18, 19, 20, 5, 1, 2, 3, 4, 5, 6, 7, 8, 9, 10, 12, 13, 15, 16, 18, 19, 20, 1, 2, 3, 5, 6, 8, 10, 14, 15, 17, 18, 19, 20, 1, 2, 3, 4, 5, 6, 7, 8, 9, 10, 11, 12, 13, 14, 15, 16, 17, 18, 19, 20, 1, 2, 3, 4, 5, 6, 7, 8, 9, 10, 11, 12, 13, 14, 15, 16, 17, 18, 19, 20, 1, 2, 3, 4, 5, 6, 7, 8, 9, 10, 11, 12, 13, 14, 15, 16, 17, 18, 19, 20, 18, 1, 2, 3, 10, 16, 18, 10, 14, 16, 6, 8, 5, 15, 17, 11, 11, 14, 11, 1, 2, 4, 5, 6, 7, 8, 10, 11, 12, 13, 14, 15, 16, 17, 18, 19, 20, 5, 15, 1, 2, 3, 4, 5, 6, 7, 8, 9, 10, 11, 12, 13, 14, 15, 16, 17, 18, 19, 20, 6, 16, 1, 5, 16, 18, 1, 2, 3, 4, 5, 6, 7, 8, 9, 10, 11, 12, 13, 14, 15, 16, 17, 18, 19, 20, 3, 8, 3, 9, 9, 20, 11, 1, 2, 3, 4, 5, 6, 7, 8, 9, 10, 11, 12, 13, 14, 15, 16, 17, 18, 19, 20, 1, 2, 4, 5, 7, 9, 10, 11, 12, 13, 14, 16, 17, 18, 19, 20, 18, 2, 19, 1, 2, 1, 3, 9, 11, 18, 1, 2, 3, 4, 5, 6, 7, 8, 9, 10, 11, 12, 13, 14, 15, 16, 17, 18, 19, 20, 1, 2, 4, 5, 7, 8, 9, 10, 15, 16, 17, 18, 19, 20, 1, 2, 3, 4, 5, 6, 7, 8, 9, 10, 11, 12, 13, 14, 15, 16, 17, 20, 5, 7, 10, 13, 15, 19, 19, 3, 6, 8, 9, 13, 16, 9, 3, 5, 6, 7, 8, 11, 12, 13, 14, 15, 16, 19, 20, 17, 18, 1, 2, 3, 4, 5, 6, 7, 8, 9, 10, 11, 12, 13, 14, 15, 16, 17, 18, 19, 20, 3, 9, 13, 3, 1, 2, 3, 4, 5, 6, 7, 8, 9, 10, 11, 12, 13, 14, 15, 16, 18, 19, 20, 1, 2, 3, 4, 9, 10, 11, 12, 14, 15, 16, 18, 19, 20, 11, 14, 14, 10, 11, 14, 5, 11, 11, 8, 12, 15, 8, 12, 3, 1, 2, 3, 4, 5, 6, 7, 8, 9, 10, 12, 13, 14, 15, 16, 17, 18, 19, 20, 1, 2, 3, 4, 5, 6, 7, 8, 9, 10, 11, 12, 13, 14, 15, 16, 17, 18, 19, 20, 19, 1, 2, 3, 4, 5, 6, 7, 8, 9, 10, 11, 12, 13, 14, 15, 16, 17, 18, 19, 20, 13, 1, 2, 3, 4, 5, 6, 7, 8, 9, 10, 11, 12, 13, 14, 15, 16, 17, 18, 19, 20, 1, 2, 3, 4, 5, 7, 8, 9, 10, 11, 12, 13, 14, 17, 18, 1, 2, 3, 4, 5, 6, 7, 8, 9, 10, 11, 12, 13, 14, 15, 16, 17, 18, 19, 20, 1, 6, 12, 1, 6, 8, 12, 13, 3, 6, 8, 9, 2, 4, 5, 7, 10, 12, 13, 14, 19, 20, 20, 20, 20, 20, 20, 20, 3, 4, 6, 7, 8, 10, 12, 13, 14, 15, 16, 19, 1, 2, 3, 4, 5, 6, 7, 8, 9, 10, 11, 12, 13, 14, 15, 16, 17, 18, 19, 20, 1, 2, 3, 5, 6, 8, 9, 10, 11, 12, 13, 16, 17, 18, 14, 16, 1, 4, 20, 1, 2, 4, 12, 1, 2, 3, 4, 5, 6, 7, 8, 9, 10, 11, 12, 13, 14, 15, 16, 17, 18, 19, 20, 2, 3, 4, 5, 6, 7, 8, 9, 10, 11, 13, 14, 15, 16, 18, 19, 20, 3, 5, 6, 7, 8, 9, 10, 13, 14, 15, 16, 17, 18, 19, 20, 1, 2, 3, 4, 5, 6, 7, 8, 9, 10, 13, 14, 15, 16, 17, 18, 19, 20, 18, 7, 1, 2, 4, 5, 6, 7, 8, 9, 10, 11, 12, 13, 14, 15, 16, 17, 18, 19, 20, 4, 10, 6, 6, 6, 1, 2, 3, 4, 5, 6, 7, 8, 9, 10, 11, 12, 13, 14, 15, 16, 17, 18, 19, 20, 6, 6, 4, 5, 6, 7, 8, 9, 10, 13, 14, 15, 17, 18, 19, 15, 1, 2, 3, 4, 5, 6, 7, 8, 9, 10, 11, 12, 13, 14, 15, 16, 17, 18, 19, 20, 6, 6, 4, 5, 10, 12, 13, 14, 17, 18, 19, 1, 6, 7, 9, 10, 11, 13, 14, 15, 16, 17, 18, 2, 5, 11, 4, 20, 1, 2, 3, 6, 7, 8, 9, 10, 11, 12, 16, 18, 19, 1, 2, 4, 5, 6, 7, 8, 10, 11, 12, 13, 14, 15, 16, 17, 18, 19, 4, 5, 6, 7, 8, 11, 12, 13, 14, 15, 17, 18, 19, 8, 13, 14, 17, 1, 2, 3, 4, 5, 6, 7, 8, 9, 10, 11, 12, 13, 14, 15, 16, 17, 18, 19, 20, 1, 2, 3, 4, 5, 6, 7, 8, 9, 10, 11, 12, 13, 14, 15, 16, 18, 19, 20, 1, 2, 17, 1, 2, 3, 4, 5, 6, 7, 8, 9, 10, 11, 12, 13, 14, 15, 16, 17, 18, 19, 20, 1, 2, 3, 4, 5, 6, 7, 8, 9, 10, 11, 12, 13, 14, 15, 16, 18, 19, 20, 5, 15, 17, 1, 12, 1, 2, 3, 6, 9, 11, 12, 13, 18, 20, 14, 1, 2, 3, 4, 5, 6, 7, 8, 9, 10, 11, 12, 13, 14, 15, 16, 17, 18, 19, 20, 2, 3, 4, 9, 10, 11, 20, 2, 7, 9, 10, 16, 20, 1, 2, 3, 4, 5, 6, 7, 8, 9, 10, 11, 12, 13, 14, 15, 16, 17, 18, 19, 20, 3, 3, 6, 20, 20, 9, 9, 9, 3, 13, 4, 5, 12, 19, 14, 14, 5, 7, 19, 2, 3, 4, 5, 12, 14, 15, 19, 20, 12, 1, 2, 3, 4, 5, 6, 7, 8, 9, 10, 12, 15, 16, 17, 18, 19, 20, 5, 5, 15, 19, 4, 12, 13, 14, 11, 20, 3, 6, 7, 8, 13, 1, 2, 3, 4, 5, 6, 7, 8, 9, 10, 11, 12, 13, 14, 15, 16, 17, 18, 19, 20, 1, 2, 3, 4, 5, 6, 7, 8, 9, 10, 11, 12, 13, 14, 15, 16, 17, 18, 19, 20, 1, 2, 3, 4, 7, 12, 15, 16, 19, 1, 2, 3, 4, 5, 6, 7, 8, 9, 10, 11, 12, 13, 14, 15, 16, 17, 18, 19, 20, 1, 2, 3, 4, 5, 6, 7, 8, 9, 10, 12, 13, 14, 15, 16, 17, 18, 19, 20, 10, 10, 10, 10, 17, 19, 7, 13, 7, 10, 13, 17, 18, 19, 5, 10, 19, 1, 2, 3, 8, 9, 11, 20, 2, 3, 4, 14, 20, 1, 2, 3, 7, 9, 11, 20, 14, 3, 8, 9, 20, 3, 8, 9, 11, 20, 1, 2, 3, 4, 5, 6, 7, 8, 9, 10, 11, 12, 13, 14, 15, 16, 18, 19, 20, 2, 3, 4, 5, 7, 10, 11, 12, 13, 14, 15, 17, 18, 19, 20, 10, 1, 2, 3, 4, 5, 6, 7, 8, 9, 10, 11, 12, 13, 14, 15, 16, 17, 18, 19, 20, 3, 6, 20, 1, 8, 1, 2, 3, 4, 5, 6, 7, 8, 9, 10, 11, 12, 13, 14, 15, 16, 17, 18, 19, 20, 12, 5, 14, 2, 5, 6, 7, 10, 11, 13, 14, 16, 18, 12, 1, 2, 3, 4, 5, 6, 7, 8, 9, 10, 11, 12, 13, 14, 15, 16, 17, 18, 19, 20, 1, 2, 3, 5, 6, 7, 8, 9, 10, 11, 12, 13, 14, 15, 16, 17, 18, 19, 20, 1, 2, 3, 4, 5, 6, 7, 8, 9, 10, 11, 12, 13, 14, 15, 16, 17, 18, 19, 20, 1, 2, 10, 11, 12, 14, 17, 18, 20, 5, 14, 4, 5, 13, 1, 2, 3, 4, 5, 6, 7, 8, 9, 10, 11, 12, 13, 14, 15, 16, 17, 18, 19, 20, 8, 13, 19, 4, 20, 4, 4, 19, 6, 7, 8, 10, 12, 1, 2, 10, 12, 13, 1, 3, 4, 5, 7, 9, 10, 12, 13, 14, 15, 16, 17, 18, 19, 7, 8, 17, 3, 10, 17, 14, 17, 7, 15, 4, 5, 13, 18, 3, 1, 2, 3, 4, 6, 7, 8, 9, 13, 16, 18, 19, 20, 4, 5, 7, 12, 13, 14, 15, 16, 17, 19, 2, 3, 4, 6, 7, 8, 9, 10, 13, 14, 16, 19, 20, 8, 13, 2, 11, 17, 5, 18, 19, 4, 12, 14, 13, 17, 13], \"Freq\": [0.889126799571325, 0.001203148578580954, 0.012633060075100016, 0.009023614339357154, 0.0015039357232261926, 0.056547983193304834, 0.0039102328803881006, 0.02616848158413575, 0.9896555682166182, 0.0069206683092071205, 0.0020127170237359913, 0.9962949267493156, 0.0015095377678019935, 0.0009675833316835057, 0.009192041650993304, 0.9293637900820072, 0.014997541641094339, 0.03434920827476445, 0.011127208314360315, 0.9957921907606624, 0.0018474808733964052, 0.9981730499472773, 0.9808453320896926, 0.0004444247086949219, 0.0182214130564918, 0.9925425323228326, 0.003877119266886065, 0.9762008754799582, 0.016497149254988273, 0.005738138871300268, 0.0007172673589125335, 0.0011802833569503567, 0.007212842736918847, 0.1060943595303154, 0.003803135261284483, 0.008261983498652497, 0.873409684143264, 0.0004266614711765242, 0.0034132917694121934, 0.961268294560709, 0.01621313590470792, 0.01834644326059054, 0.9706511525179645, 0.020579176378472747, 0.0068597254594909155, 0.9977304666672695, 0.0024616807900891317, 0.9748255928752961, 0.019693446320713053, 0.9955018023617092, 0.9764799030800025, 0.02134382301814213, 0.9928467268905465, 0.009845885295779079, 0.0007773067338772956, 0.0002591022446257652, 0.05907531177467447, 0.8876842900878716, 0.0041456359140122434, 0.02927855364271147, 0.007513965094147191, 0.0007773067338772956, 0.08831385786702556, 0.028054590187081428, 0.008964188580487557, 0.7886825915906738, 0.002490052383468766, 0.0003320069844625021, 0.05810122228093787, 0.003984083813550025, 0.0016600349223125106, 0.002656055875700017, 0.006142129212556289, 0.010458220010568817, 0.9959364933450173, 0.0005350180234844128, 0.9972735957749456, 0.0021400720939376513, 0.01598576805641484, 0.9786842443427306, 0.0035523929014255194, 0.9984918262398919, 0.9968483728011499, 0.9984013940756968, 0.010042068952103538, 0.9841227573061467, 0.9987148879386294, 0.9993821541405721, 0.9997016388656859, 0.9960546749935665, 0.9987621186961572, 0.0028504583549123085, 0.033335131295615696, 6.527767224990019e-05, 0.007245821619738921, 0.07580913670621743, 0.032377725435950494, 0.32732400788508287, 0.0005439806020825016, 0.016123585045725346, 0.012119887814398137, 0.003960178783160612, 0.03884021498869061, 0.0015013864617477045, 0.0012620349968314036, 0.3706683822590166, 0.005940268174740917, 0.0025240699936628073, 0.03733882852694291, 0.02041015219013546, 0.009835169285651629, 0.9965171278696423, 0.9971816096728946, 0.9943936371667527, 0.004219492095474198, 0.008239767538977623, 0.013545678454228365, 0.002621744216947426, 0.0004369573694912376, 0.006242248135589109, 0.00018726744406767325, 0.008239767538977623, 0.0026841666983033166, 0.0018102519593208416, 0.00024968992542356437, 0.0017478294779649504, 6.242248135589109e-05, 6.242248135589109e-05, 0.939395921924805, 0.013358411010160692, 6.242248135589109e-05, 6.242248135589109e-05, 6.242248135589109e-05, 0.0008114922576265842, 0.015763162064986316, 0.9838269193168634, 0.09840903423947442, 0.7250703371795238, 0.027387419906268827, 0.010908548606734193, 0.012069032501067618, 0.013229516395401044, 0.0018567742309334796, 0.00023209677886668496, 0.0051061291350670696, 0.00023209677886668496, 0.016943064857268004, 0.03736758139753628, 0.004874032356200384, 0.010444355049000823, 0.014157903510867783, 0.016478871299534632, 0.005570322692800439, 0.006467574813264557, 0.0239475067410066, 0.010837557795200067, 0.0024471904698838863, 0.006117976174709715, 0.7123072260554884, 0.0036707857048258294, 0.0013983945542193636, 0.0162563366928001, 0.0010487959156645227, 0.01905312580123883, 0.006642374132541977, 0.12760350307251692, 0.006642374132541977, 0.0393298468374196, 0.00017479931927742045, 0.0003495986385548409, 0.007691170048206499, 0.00804076868676134, 0.9626128991843619, 0.03683937616472874, 0.0005829548870889189, 0.9125187165898544, 0.008161368419244865, 0.0740352706602927, 0.004469320801015045, 0.008132452361902255, 8.651545065853461e-05, 8.651545065853461e-05, 0.9713954799940266, 0.002076370815804831, 0.0005190927039512077, 0.015832327470511835, 0.0016437935625121577, 0.8754479103939354, 0.12414718850631896, 0.9813696153734608, 0.013822107258781137, 0.0022115371614049822, 0.0005528842903512456, 0.0011057685807024911, 0.0005528842903512456, 0.11746223628480243, 0.02640993461922912, 0.11892097996593674, 0.08330093818346744, 0.06837980183722427, 0.018115117608857517, 0.05540365706582686, 0.11567932734119382, 0.04340000808185233, 0.03410409246678071, 0.07381433711988153, 0.05368748802919825, 0.03338902203485212, 0.007236512771117293, 0.047032565876049544, 0.03482869717113501, 0.011498332545411667, 0.006368893980377275, 0.015845960771537472, 0.03511472534390644, 0.9951352487346021, 0.0038274432643638544, 7.385095631847118e-05, 7.385095631847118e-05, 0.0015508700826878947, 0.04032262214988526, 0.0035448459032866165, 0.011003792491452205, 0.1417199851751462, 7.385095631847118e-05, 0.04696920821854767, 0.08743953228106988, 0.5880013142076675, 0.022746094546089123, 0.005686523636522281, 0.00044310573791082707, 0.050292501252878874, 0.020630608498774072, 0.26998325160414915, 0.000595113706695406, 0.7085820534386633, 0.9879358104454199, 0.007688216423699766, 0.0051698437172619256, 0.3249616050850353, 0.6696793986610359, 0.16703171453036544, 0.0005359306348567876, 0.10754341406126203, 0.7243995747814245, 0.00017864354495226252, 0.0003245087945187548, 0.006327921493115719, 0.9597347597892174, 0.00048676319177813225, 0.0008112719862968871, 0.0034073423424469257, 0.0287190283149098, 0.858330762276935, 0.008617778737720232, 0.0008617778737720231, 0.10341334485264278, 0.004308889368860116, 0.020682668970528555, 0.0025853336213160693, 0.015755500432678118, 0.1643996069737643, 0.018080082463728987, 0.00934137593959331, 0.028282414711118916, 0.005639263816067851, 0.4500218620852925, 0.020705999202508676, 0.004520020615932247, 0.0065432679392543, 0.01119243200135604, 0.05850198111478022, 0.005639263816067851, 0.0030133470772881646, 0.12690495976922156, 0.01076195384745773, 0.001033147569355942, 0.0004304781538983092, 0.04115371151267836, 0.018209225909898482, 0.00679493360028874, 0.9743934782814053, 0.0009059911467051654, 0.017213831787398142, 0.06700927823026405, 0.3163769124073298, 0.05566608637725273, 0.10354941939056812, 0.04026034291491341, 0.03418933882456933, 0.04617158373972213, 0.018874888656821652, 0.01803042568184898, 0.030355020451720432, 0.02238968049859981, 0.05206000124088294, 0.0275705749666754, 0.005249364439019323, 0.037818247284587034, 0.04534994408839737, 0.00686982041802094, 0.001803042568184898, 0.03989516973654685, 0.030514783717255804, 0.004425867024148296, 0.001991640160866733, 0.0002212933512074148, 0.0066388005362224434, 0.0006638800536222444, 0.8475535351243987, 0.06970740563033566, 0.068822232225506, 0.9992731266567503, 0.9968274423210364, 0.007267317996628711, 0.991988906539819, 0.0025829405591014207, 0.001514137569128419, 0.9957681189915132, 0.03384486376413423, 0.010041882655292574, 0.019339922150933848, 0.0003719215798256509, 0.9115797921526704, 0.024918745848318612, 0.10998495919223279, 2.2433701222239485e-05, 0.8636825412554053, 5.9823203259305295e-05, 0.00023929281303722118, 7.477900407413162e-06, 0.02599318181616815, 0.9774102224475972, 0.022543777632961007, 0.034782908559789626, 0.00014765334136963455, 0.46403226525579866, 0.010757600585501946, 0.03657584199070662, 0.45344341134614774, 4.218666896275273e-05, 0.00021093334481376365, 0.0027744380245989463, 0.00013211609640947363, 0.00026423219281894726, 0.04491947277922104, 0.00026423219281894726, 0.00013211609640947363, 0.9090908593935881, 0.040031177212070515, 0.002245973638961052, 0.9994409319596286, 0.00028869718756101466, 0.04041760625854205, 0.9576085711398856, 0.0014434859378050732, 0.9897091014865183, 0.00970303040673057, 0.00020782725173394898, 0.0001298920323337181, 0.0001298920323337181, 0.12072165485095762, 0.8058761470048539, 0.07292138695214935, 0.0008843497975953116, 0.0015918296356715609, 5.895665317302077e-05, 0.00411517439147685, 0.03280348182546876, 0.021106481835941437, 0.7792890416409886, 0.004421748987976558, 0.0025469274170744974, 0.00027120060459589557, 0.0036553124967272877, 0.0002004526207882706, 0.0021813961674017686, 0.0037968084643425376, 0.03459576408192859, 0.01705026409763761, 0.015375895147523817, 0.06605503421505247, 0.00893782862102995, 0.001073011087748978, 0.9762221452901384, 0.0037955759925744105, 0.019357437562129494, 0.9945038772316913, 0.9869657558448354, 0.004675858172734279, 0.008272672151760647, 5.7483617568060235e-06, 0.0007587837518983952, 0.006599119296813316, 0.14604287879341385, 0.1500207451291236, 0.10419480520386598, 0.0613637617539043, 0.0057023748627515755, 0.17657817644556745, 0.0005231009198693482, 5.7483617568060235e-06, 0.15801671633284078, 0.016584023668385378, 0.05119490980611445, 0.082828144553818, 0.00241431193785853, 0.0032765662013794334, 0.0028052005373213396, 0.031092888742563784, 0.03529233626293486, 0.002352822417528991, 0.9623043687693573, 0.9814181159374067, 0.018324503421452476, 0.9994171606681961, 0.9900090043255831, 0.009376565155411996, 0.07107713831591285, 0.0015423610484465717, 0.05244027564718344, 0.8745187144692063, 0.00038559026211164294, 0.9982423072761711, 0.060971348883488374, 0.0030888568817626265, 0.012892620028226616, 0.6944556058954149, 0.00013429812529402725, 0.0002685962505880545, 0.0008057887517641635, 0.02981418381527405, 0.002820260631174572, 0.19446368542575146, 0.9900594096467873, 0.0087745294798829, 0.0005535297750033689, 0.051982957987816374, 0.005388775162532797, 0.12524425173826226, 0.1603282713009758, 0.0142289712750866, 0.15280677847593, 0.002539724850015457, 0.04125424852525108, 0.02385062118764516, 1.6280287500099086e-05, 0.002083876800012683, 0.05497853088783461, 0.003597943537521898, 0.070982053500432, 0.04967115716280231, 0.108605797913161, 0.032234969250196185, 0.06883305555041892, 0.030802303950187467, 0.019860804606236432, 0.9799179129827011, 0.12634363811187715, 0.663783957515394, 0.017161959779271964, 0.0009032610410143139, 0.011516578272932503, 0.04561468257122286, 0.004629212835198359, 0.0033872289038036772, 0.002371060232662574, 0.0036130441640572558, 0.017274867409398754, 0.024839678627893633, 0.0037259517941840453, 0.018516851340793436, 0.023484787066372165, 0.0012419839313946818, 0.016597421628638018, 0.01501671480686297, 0.99724573547136, 0.9946190797351074, 0.004686686763149721, 0.7948108466539378, 0.16949474068399673, 0.03473978366499672, 0.0006638175222610838, 0.9986402274461509, 0.03987155327036776, 0.0013623537563906979, 0.002179766010225117, 0.010626359299847444, 0.01916377617322915, 0.0007265886700750389, 0.022705895939844966, 0.007901651787066049, 0.15367350372087074, 0.10490123924208375, 0.534860084758988, 0.004450355604209613, 0.05340426725051536, 0.00644847444691597, 0.022342601604807447, 0.00626682727939721, 0.008264946122103567, 0.0009082358375937986, 0.022062247088504534, 0.0031314157157877405, 0.00014233707799035184, 0.015941752734919407, 0.02490898864831157, 0.007686202211478999, 0.0015657078578938703, 0.014945393188986944, 0.027613393130128255, 0.053803415480352994, 0.06277065139374516, 0.6406591880345737, 0.002562067403826333, 0.022773932478456296, 0.0002846741559807037, 0.06049325814589953, 0.016511101046880812, 0.02078121338659137, 0.00014233707799035184, 0.000996359545932463, 0.9992603666702493, 0.930421708729739, 0.00023735247671677014, 0.00023735247671677014, 0.04747049534335403, 0.02136172290450931, 0.7311155436700006, 0.0006656590685918064, 0.00031433900461279746, 0.03864520703769098, 0.002625655215001014, 0.06035308888565711, 0.0003513200639790089, 0.0035686722288394064, 0.13346464325265717, 0.02035807318109941, 0.005047914603487865, 0.00014792423746484587, 0.0009245264841552867, 3.698105936621147e-05, 0.0005732064201762777, 0.001738109790211939, 0.9999350242460852, 7.332502242883617e-05, 0.9859282515781311, 0.013931754261478873, 7.332502242883617e-05, 0.9988536780664604, 0.999916901661358, 0.20951189288694286, 0.11294952725773132, 0.0069069854797893255, 0.009073882885213427, 0.00027086217567801274, 0.016658023804197786, 0.00013543108783900637, 0.6434330983231193, 0.00013543108783900637, 0.0006771554391950319, 3.8511295578287945e-05, 3.8511295578287945e-05, 0.0018100308921795336, 0.011206787013281793, 0.2057658522747925, 0.022760175686768178, 0.019024580015674246, 0.04578993044258437, 0.0035430391932024913, 0.00011553388673486385, 0.008202905958175332, 0.00974335778130685, 0.6627408856067573, 0.0008087372071440469, 0.0010783162761920624, 0.00019255647789143975, 0.007086078386404983, 0.009993547936883613, 0.02373467635009858, 0.965626569401379, 0.9970765846268218, 0.015197502880991164, 0.0008510601613355052, 0.0009726401843834345, 0.0006079001152396466, 0.982245006204221, 0.00048058837619578085, 0.0002883530257174685, 0.0058631781895885264, 0.06641731359025692, 9.611767523915618e-05, 0.001730118154304811, 0.0019704123424027016, 0.8963453804427509, 0.008170002395328274, 0.0007208825642936713, 0.015907475252080347, 0.0020184711800222796, 0.00048168768996027865, 0.00016056256332009288, 0.030506887030817647, 0.9506909374182699, 0.0033718138297219504, 0.00016056256332009288, 0.01445063069880836, 0.0193102605793732, 0.022505483552938552, 0.9077211699685216, 0.011669509990412583, 0.0011113819038488174, 0.03757860062388814, 0.9965183625372617, 0.014848255777067693, 0.07585521973067191, 0.9086486959227295, 0.000322788169066689, 0.01928147298952405, 0.008656987872847534, 0.01928147298952405, 0.9400701831014889, 0.004328493936423767, 0.0011804983462973908, 0.005115492833955361, 0.0011804983462973908, 0.0011804983462973908, 0.9993565965177708, 0.9997005193272834, 0.9976395764409558, 0.9992924229351867, 0.0003280299610787163, 0.011768074853698946, 0.1861570029121715, 0.03928158783917628, 0.02050187256741977, 0.049245497906942284, 0.02119893623471204, 4.100374513483954e-05, 0.05227977504692041, 0.6191155477909421, 0.0001985740745850109, 0.0016216882757775892, 3.309567909750182e-05, 0.00013238271639000727, 0.9878729253813318, 3.309567909750182e-05, 0.010061086445640553, 0.9981167832090913, 0.9843302742931287, 0.01256591839523143, 0.0018234507141290013, 0.7328945724824674, 0.0002652291947824002, 0.00023207554543460017, 0.06275985821538545, 0.20180626358005874, 0.0001326145973912001, 3.3153649347800024e-05, 0.9993872324662008, 0.9967894073895829, 0.0030650795358552196, 0.00036308879867344424, 0.02487158270913093, 0.6464796060380674, 0.00086233589684943, 0.0035855018869002616, 0.00018154439933672212, 0.0004084748985076248, 0.09694470924580961, 0.0014069690948595964, 0.00086233589684943, 0.000771563697181069, 0.0007261775973468885, 0.002496235490879929, 9.077219966836106e-05, 0.12962270112641958, 0.002087760592372304, 0.08827596417748113, 0.9828931725052954, 0.010801023873684566, 0.0036003412912281882, 0.16232387520671396, 0.0844900064733359, 0.04889040527059361, 0.019195442385555855, 0.05466621511591187, 0.02825637827672428, 0.03413954518236444, 0.04266369577192336, 0.005818752669447021, 0.05790839833763327, 0.03701671439899138, 0.06855821872156583, 0.02400503868797701, 0.09848936713931176, 0.04524026521964898, 0.007815593991434375, 0.020075770280195443, 0.12835610132086456, 0.024348581281007094, 0.007729708343176855, 0.00013678494350702493, 0.05635539672489428, 0.0022569515678659115, 0.001299456963316737, 0.048216692586226295, 0.7947889142475685, 6.839247175351247e-05, 0.0004787473022745873, 0.004103548305210748, 0.0019149892090983493, 0.0805663317256377, 0.008549058969189059, 0.001162672019809712, 0.003469292308400697, 0.9939522463567997, 0.0025455654358064413, 0.9965888681182218, 0.0045940732675800715, 0.002505858145952766, 0.992737468821621, 0.9998497741990073, 7.000768619234052e-05, 0.9565636391339599, 0.042891601416328154, 0.004901060559862261, 0.9851131725323145, 0.007351590839793391, 0.007077886129834803, 0.8988915384890199, 0.02241330607781021, 0.0011796476883058004, 0.04482661215562042, 0.009437181506446403, 0.014155772259669606, 0.9993366682597151, 0.05005784773609149, 0.7307386344120445, 0.010594253489119892, 0.0027368488180226384, 0.003707988721191962, 0.026397348277057062, 0.0007945690116839918, 0.0013242816861399865, 0.0023837070350519757, 0.0006179981201986603, 0.09852655744881499, 0.01209510606674521, 0.0033548469382212987, 0.006179981201986603, 0.009446542694465236, 0.015891380233679836, 0.018010230931503814, 0.007239406550898593, 0.12136407203017825, 0.6734210084675594, 0.02627603703118543, 0.0014308733036784147, 0.0029918259986003214, 0.0318694508546556, 0.0006503969562174611, 0.004552778693522229, 0.0026015878248698446, 0.00234142904238286, 0.021333020163932726, 0.040975008241700056, 0.003902381737304767, 0.0005203175649739689, 0.010276271908235888, 0.02445492555377654, 0.00013007939124349223, 0.013268097906836208, 0.017820876600358436, 8.950170409573366e-05, 0.0006265119286701356, 0.36064711665375876, 0.0565203261364558, 0.019019112120343403, 0.0027298019749198766, 0.021972668355502614, 0.08055153368616029, 0.44585273895289723, 0.0018795357860104068, 0.010113692562817904, 0.9606676072708709, 0.03469077470700367, 0.0026685211313079746, 0.9987367998135087, 0.9633052168063139, 0.016937234581209916, 0.019054388903861155, 0.25747171379584677, 0.0053310860985336375, 0.7370720150305952, 0.006520820710730558, 0.9781231066095836, 0.010433313137168892, 0.002608328284292223, 0.04451354474528532, 0.0017120594132802047, 0.007638418920788605, 0.038060397725998396, 0.001053575023557049, 0.040826032162835646, 0.0013169687794463113, 0.8033509554622499, 0.021466591104974873, 0.003950906338338934, 0.01764738164458057, 0.0017120594132802047, 0.012511203404739957, 0.003292421948615778, 0.0007901812676677867, 0.9995851323745572, 0.03333615561074392, 0.0012659299599016678, 0.01561313617212057, 0.027428482464536136, 0.0004219766533005559, 0.005063719839606671, 0.023208715931530576, 0.8933245750372769, 0.0008788962099673845, 0.2276341183815526, 0.03968554425006575, 0.43028730217980143, 0.08261624373693414, 0.05604653523561245, 0.01362289125449446, 0.0010479147118841892, 0.0021634368245351003, 3.380370038336094e-05, 0.016259579884396615, 0.004597303252137089, 0.0006760740076672189, 6.760740076672188e-05, 0.0005070555057504142, 0.1238567582046345, 0.00024760212418403207, 0.008170870098073059, 0.9911513031086804, 0.0004952042483680641, 0.00034581775275783745, 0.0006916355055156749, 0.9985679731856311, 0.0002689693632560958, 3.842419475087083e-05, 0.9944954964846459, 0.003767028395775174, 0.9971690836673881, 0.00011876716098944595, 0.002494110380778365, 0.0009780813190562857, 0.9987840403096437, 0.9892515143173609, 0.009266993108359352, 0.005932596185065884, 0.0002471915077110785, 0.005438213169643727, 0.9813502856129817, 0.006797766462054659, 0.00012359575385553924, 0.9322762435722843, 0.06700476994618902, 0.00043345574523721435, 0.004768013197609358, 0.00043345574523721435, 0.0021672787261860717, 0.0008669114904744287, 0.990879833612272, 0.9983410099485547, 0.99507882535192, 0.0028884726425309724, 0.35610395557080315, 0.0003739278497418304, 0.6149866702087304, 0.02841851658037911, 0.0006255496230821665, 0.011885442838561164, 0.0032528580400272658, 0.14825526067047345, 0.8173431375191588, 0.018140939069382828, 0.0003753297738492999, 0.0015506973351269025, 0.20345149036864962, 0.0001033798223417935, 0.009200804188419622, 0.0001033798223417935, 0.5524617705945445, 0.01891850748854821, 0.095626335666159, 0.000827038578734348, 0.000206759644683587, 0.0001033798223417935, 0.0003101394670253805, 0.003101394670253805, 0.07784500622337051, 0.036182937819627725, 0.001586543937037908, 0.007942393733586113, 0.002931236664161501, 0.48152575893940164, 0.05376836098815056, 0.0030183030997306542, 0.007168469861860304, 0.0014994775014687545, 0.06833747787338891, 0.00023217716151774264, 0.013872585400685122, 0.03307557146788175, 0.16859931545546744, 0.08244224043559178, 0.001934809679314522, 0.008716317605311922, 0.03291111264514002, 0.02753234173664565, 0.0006868574361566553, 0.0022250311312117, 0.9997393928209595, 0.006742128365882425, 0.0035413199497564257, 0.18319520509316894, 0.006333514525525915, 0.008853299874391063, 0.5496537175862329, 0.0009534322941651915, 0.0001362046134521702, 0.06844281825971553, 0.006333514525525915, 0.006946435286060681, 0.0010215346008912766, 0.0722565474363763, 0.08431065572689336, 0.001293943827795617, 0.451452221645634, 9.112147215518206e-05, 0.1421859451509461, 0.20788452657483236, 0.05808082635171304, 5.4672883293109236e-05, 1.8224294431036413e-05, 9.112147215518206e-05, 0.0001457943554482913, 1.8224294431036413e-05, 0.13996258123035965, 0.01080334152260134, 0.014404455363468453, 0.00013850437849488898, 0.00041551313548466695, 0.8729930976532853, 0.037119173436630244, 0.00013850437849488898, 0.00013850437849488898, 0.031856007053824464, 0.005124662004310892, 0.026869849428008463, 0.002003559727226053, 0.1853292747684099, 0.00011130887373478073, 0.006455914676617282, 0.009349945393721582, 0.6075238328444332, 0.001224397611082588, 0.008682092151312897, 0.013245755974438906, 0.017920728671299697, 0.003339266212043422, 0.1449241536026845, 0.00011130887373478073, 0.07316387019198543, 0.03276361863816182, 0.015765951825882384, 0.006158574931985306, 0.019707439782352978, 0.10395674485191196, 0.02660504370617652, 0.0029561159673529465, 0.7185825230640455, 0.02414816851931882, 0.05186652452840055, 0.000513790819559975, 0.0009617110212276455, 0.017020967663371477, 0.1159322874904559, 0.12270378700978479, 0.023265502239561944, 0.05928355610307404, 0.012976511724783982, 0.03670310828959206, 0.1187910723069819, 0.001001233391963028, 0.10122996557689352, 0.0255709738657926, 0.1941602332993567, 0.0025030834799075704, 0.03027413598330314, 0.018483295380580637, 0.04263146389989946, 0.0003834565292686963, 0.0033232899203287014, 0.0006390942154478272, 0.17153288742619682, 0.0016616449601643507, 0.00012781884308956545, 0.822130798752085, 0.9964900997868367, 0.9979317689788062, 0.0018885915385670065, 0.9499313508278464, 0.0011232296378031969, 0.00048138413048708436, 0.048298874425537465, 8.023394981465679e-05, 0.7828426483416063, 0.003450059842030242, 0.00802339498146568, 0.16809012486170596, 0.034099428671229136, 0.00032093579925862717, 0.0005616376487025975, 0.0024872524442543604, 0.9986779287984201, 0.9729808309344002, 0.02667440920316241, 0.005914686810615504, 0.002828763257250893, 0.9790092473049228, 0.012086533917344726, 0.18051701370444842, 0.004648993443393458, 0.0049891636953490765, 0.0012472909238372691, 0.00022678016797041258, 0.6417878753562676, 0.14071709422564102, 0.013266639826269137, 0.0003401702519556189, 0.0003401702519556189, 0.0007937305878964441, 0.01099883814656501, 0.007730303753903168, 0.0007027548867184698, 0.007027548867184698, 0.0014055097734369396, 0.9824513316324208, 0.9768466748322631, 0.02123579727896224, 0.16760986685665547, 9.722150049689992e-05, 0.37585832092101507, 0.02294427411726838, 0.0030138665154038975, 9.722150049689992e-05, 0.430302361199279, 0.0010689558794837754, 0.9962668796788786, 0.002137911758967551, 0.7567817407234828, 7.43254508665766e-05, 0.0001486509017331532, 0.005946036069326127, 0.18202302917224608, 0.01850703726577757, 7.43254508665766e-05, 7.43254508665766e-05, 0.03641947092462253, 0.06502677567383677, 0.008653753416670292, 0.0014835005857149074, 0.014340505661910771, 0.9103748594337148, 0.004985690545942591, 0.04159935549270849, 0.0022591410286302363, 0.0007011127330231768, 0.0010906198069249417, 0.017372015496018713, 0.9319346250173627, 0.9982199082475467, 0.9979312070827713, 0.9978234784874919, 0.03735272691422601, 0.2711104578465982, 0.17546989205850896, 0.06047079044677255, 0.03829260884145085, 0.10024901910867558, 0.009990035323244701, 0.05636259686164461, 0.02710498203029063, 0.011384698828158983, 0.01111182988154532, 0.05202701248767195, 0.013355418998146558, 0.002668051922444715, 0.023830554670926662, 0.014765241888983822, 0.002804486395751547, 0.0008034474539180108, 0.025134261860303056, 0.06570077859020111, 0.0002025663843551815, 0.02903451509090935, 0.0022282302279069965, 0.0018230974591966335, 0.04341672838012724, 0.1139773522638488, 0.0031060178934461165, 6.752212811839383e-05, 0.609657294780978, 0.004388938327695599, 0.0251857537881609, 0.1642138155839338, 0.0027008851247357535, 0.040566748490978494, 0.0024158857662121185, 0.00010066190692550494, 0.03764755319013885, 0.00010066190692550494, 0.9180365911606051, 0.0008052952554040395, 0.0003019857207765148, 0.9990102885899359, 0.023737651346817677, 9.973803086898184e-05, 0.845479287676359, 0.12118170750581293, 0.000598428185213891, 0.008776946716470401, 0.0075522497172457745, 0.03236678450248189, 0.0008091696125620472, 0.0005394464083746982, 0.04315571266997585, 0.00296695524606084, 0.0018880624293114436, 0.0005394464083746982, 0.8517858788236484, 0.05529325685840656, 0.003506401654435538, 0.1405762449099434, 0.0015138980221070827, 0.003244067190229463, 0.8406459445614615, 0.013841353344979043, 0.02268153916109744, 0.012600855089498578, 0.9639654143466412, 0.0007675251809460146, 0.00024237637293032037, 0.06637073012075273, 0.00012118818646516019, 0.13787176013519725, 0.0027873282886986843, 0.7438126924609982, 0.005332280204467048, 4.03960621550534e-05, 4.03960621550534e-05, 0.031226156045856275, 0.005938221136792849, 0.0001615842486202136, 0.0017774267348223494, 0.00012118818646516019, 0.0033932692210244856, 0.9950270776792339, 0.9980550883626368, 0.015726849374987726, 0.124605037355672, 0.26130765115364224, 0.0006048788221149126, 0.5961080791942464, 0.0001008131370191521, 0.0008065050961532168, 0.0005040656850957604, 6.14717538852244e-05, 0.10050631760234188, 0.006884836435145132, 0.0006761892927374683, 0.2091269067175334, 6.14717538852244e-05, 0.624614491227765, 0.05329601061848955, 0.004241551018080483, 0.0005532457849670195, 0.9997014966315919, 0.9978547948233151, 0.9990751074828905, 0.004575255267937143, 0.008446625110037803, 0.98684736702275, 0.0033681334636133293, 0.9149293972943923, 0.0009623238467466656, 0.009382657505779988, 0.007217428850599991, 0.0002405809616866664, 0.0637539548469666, 0.9996917633581912, 0.9967708191459458, 0.9963132179261232, 0.00033928568700957373, 0.12553570419354226, 0.8461785034018768, 0.02816071202179462, 0.03312612104727302, 0.0001519278792078142, 0.1951864211222545, 0.0001986749189640647, 0.015175257780872824, 0.0389811877767434, 0.0004966872974101617, 0.28211254154900234, 0.09018088306977677, 0.0004557836376234425, 0.032278830951690984, 0.07883303916894696, 0.0007128923562828204, 0.0013322906330531397, 0.006100488688190692, 0.015619354658557204, 0.1483692608063696, 0.039886911672020756, 0.0009700010749421982, 0.01983243161658928, 0.9980044271617154, 0.0016280659496928473, 0.01692440536612853, 0.9826412327727958, 0.11186178664312398, 0.8753210158810545, 0.012676993046591567, 0.0003680500135621436, 0.02826624104157263, 0.04195770154608437, 0.00014722000542485747, 0.001398590051536146, 7.361000271242873e-05, 0.7802660287517446, 0.0474048417468041, 0.0517478319068374, 0.0003680500135621436, 0.0031652301166344354, 0.0325356211988935, 0.012292870452975597, 0.00010510382536066119, 0.5117855602895129, 0.027081752334597035, 0.0002452422591748761, 0.14276602944823147, 0.0010160036451530583, 0.13747580357174485, 0.042391876228800016, 0.040605111197668776, 0.00014013843381421493, 3.503460845355373e-05, 0.003958910755251572, 0.007532440817514053, 0.020635384379143147, 0.00014013843381421493, 0.0004554499098961985, 0.06358781434320003, 0.00011141862779225149, 5.5709313896125745e-05, 0.00020426748428579438, 0.036860996027936535, 0.001856977129870858, 0.2475721909543828, 0.00018569771298708582, 0.02800321511845254, 0.014595840240784945, 0.010566199868965183, 0.12545737489407519, 0.06432568777872652, 0.011977502487667034, 0.01899687603857888, 0.43921223075705534, 1.856977129870858e-05, 0.00026590192407042486, 0.024994780862619935, 0.0005318038481408497, 0.028717407799605882, 0.003988528861056373, 0.0675390887138879, 0.019144938533070588, 0.00824295964618317, 0.0018613134684929739, 0.8445045108476693, 0.015238333155923257, 0.05592519575742878, 0.1452515864121843, 0.008106588008874998, 0.001436610533218354, 0.020830852731666134, 0.005387289499568828, 0.01800893918427294, 0.046176767139161384, 0.365001690475549, 0.008876200794527687, 0.002206223318871044, 0.00010261503808702529, 0.038685869358808536, 0.00015392255713053793, 0.05956802960951818, 0.007029130108961232, 0.012929494798965187, 0.16023338197289, 0.028834825702454107, 0.00010796422402451942, 0.019001703428315416, 0.00367078361683366, 5.398211201225971e-05, 0.0050203364171401525, 0.8216617269386051, 0.14224286515230433, 0.0004858390081103374, 0.007773424129765398, 0.9993530792981924, 0.002594662337606936, 0.050039916510990906, 0.841782595529336, 0.027058621520758046, 0.00022239962893773736, 0.0006671988868132121, 0.02350022745775425, 0.05396897662222427, 0.0002689786929685034, 0.9895726114311241, 0.009952211639834627, 0.9967681793965724, 0.0022551316275940553, 0.9988335486498116, 0.9992090540928346, 0.9787908357357544, 0.019924495383933934, 0.08805302218049113, 0.0980757602449578, 0.06161396518027098, 0.11004585094966732, 0.011098548264321106, 0.036107730948279036, 0.06660490743655771, 0.04186127283990562, 0.028325129312623192, 0.09200900778881663, 0.036904375210196565, 0.09657779667554023, 0.027133567382404668, 0.030040978492137865, 0.039682416738934606, 0.07231759577629109, 0.0026078183958496834, 0.003670010745073053, 0.017090402541991397, 0.040186277212284155, 0.9988769983974085, 0.9997152020726717, 0.0011331606316154434, 0.9409010444513565, 0.0540139901070028, 0.0011331606316154434, 0.0026440414737693677, 0.9989469511287931, 0.0001230016717461077, 0.8540621077690989, 4.1000557248702566e-05, 0.12857774753193124, 0.007441601140639516, 0.0003895052938626744, 0.009348127052704186, 0.9983192941294026, 0.022006348647075694, 0.9669320130031421, 0.002245545780313846, 0.008533073965192615, 0.8540785385740766, 0.001911774527531115, 0.11389867959798051, 0.00026926401796212887, 0.022860515124984743, 2.6926401796212888e-05, 0.00013463200898106444, 8.077920538863867e-05, 0.006650821243664584, 8.077920538863867e-05, 0.9311880446617008, 0.004187912684147676, 0.05319780977160562, 0.011375276344779498, 0.0010382498700179925, 0.0014120198232244697, 0.053374349317884956, 0.09075965063749283, 0.03643841743815146, 0.001519997809706341, 0.2419039137152321, 0.0032061155986155606, 0.11552813953664205, 0.021770023274537267, 0.00246688169116275, 0.002566553678684477, 0.013472330313353471, 0.0015615278045070606, 0.05189588150297934, 0.025540946802442614, 0.08304337760351911, 0.2256324617523101, 0.025441274814920888, 0.0014369378201049016, 0.0006341023059186393, 0.01732531139074476, 2.0454913094149655e-05, 0.3247012904565316, 0.13064552993233386, 0.00047046300116544205, 2.0454913094149655e-05, 0.19720581714069682, 2.0454913094149655e-05, 0.027614132677102034, 0.038209777659871554, 0.1606528874414514, 0.0024136797451096595, 0.08294467259677685, 0.00047046300116544205, 0.011638845550571155, 0.004888724229501768, 0.0001431843916590476, 0.0004347576015861028, 0.10608085478700907, 0.006195295822601965, 0.028367933503493207, 0.029128759306268886, 0.009129909633308158, 0.012064523444014352, 0.013803553850358762, 0.0004347576015861028, 0.62192074906892, 0.007173500426170696, 0.0072821898265672215, 0.01891195566899547, 0.023911668087235653, 0.007934326228946376, 0.1053200289842334, 0.0018477198067409367, 0.9993155141759784, 0.9920319464191636, 0.0007859019737647888, 0.1485817025694136, 4.622952786851699e-05, 0.00023114763934258496, 4.622952786851699e-05, 0.00023114763934258496, 0.00013868858360555097, 0.07447576939618088, 0.337383094384437, 0.1575040014480374, 0.06731019257656073, 9.245905573703398e-05, 0.16305154479225942, 0.04965051293078725, 0.0004160657508166529, 0.9982805566875661, 0.9986120965561449, 0.9990585754911936, 0.004514516125422389, 3.715651132034888e-05, 0.9753955786704785, 0.0007802867377273265, 0.0011518518509308154, 0.006762485060303497, 1.857825566017444e-05, 0.010924014328182572, 0.0003529868575433144, 3.715651132034888e-05, 0.9964899670578626, 0.002631575617230271, 0.9991825075753512, 0.0001249710882286188, 0.0014371675146291163, 0.047489013526875144, 0.024306876660466357, 0.008560519543660388, 0.7610114417681743, 0.00037491326468585645, 0.007435779749602819, 0.002374450676343757, 0.0025619073086866856, 0.13871790793376687, 0.0001249710882286188, 0.000937283161714641, 0.0016246241469720444, 0.0020620229557722102, 0.0005623698970287846, 0.0002499421764572376, 0.00043795493752739865, 0.00010948873438184966, 0.9581359145755665, 0.020036438391878488, 0.00021897746876369933, 0.00010948873438184966, 0.020036438391878488, 0.0005474436719092484, 0.00010948873438184966, 0.9972810007691546, 0.0667437012530693, 0.005320150099882336, 0.0001612166696934041, 0.0009673000181604247, 0.016605316978420624, 0.009673000181604247, 0.007738400145283398, 0.8889487166894302, 0.003869200072641699, 0.0867953093954445, 0.9130367007051722, 2.3094006372215306e-05, 0.0013163583632162723, 0.0003925981083276602, 0.02420251867808164, 0.19251163711878677, 0.0053116214656095204, 0.06094508281627619, 0.0004849741338165214, 0.0005773501593053826, 0.014179719912540197, 0.02581909912413671, 0.008290748287625294, 0.30444828600491436, 0.0930919396863999, 0.04819719129881334, 0.012932643568440571, 0.06720355854314654, 0.009075944504280615, 0.13059660603487755, 0.0004387861210720908, 0.9982871188430552, 0.009363550341780153, 7.612642554292808e-05, 0.08415776343770699, 0.365673285095455, 0.00011418963831439211, 0.03121183447260051, 0.0008754538937436729, 0.00034256891494317636, 0.0011418963831439212, 0.004415332681489828, 0.07045500683997993, 0.006280430107291566, 0.04658937243227198, 0.007003631149949383, 0.2504559400362334, 0.04609455066624295, 0.06421263994545984, 0.011457027044210675, 0.999512211737395, 0.014187395681877114, 0.9855510867010635, 0.00013486437230526342, 8.091862338315804e-05, 0.00010789149784421072, 0.025381474867850574, 0.07681874646507804, 0.025705149361383205, 0.005367602017749483, 2.697287446105268e-05, 0.0006203761126042117, 0.017127775282768452, 0.003991985420235797, 0.00018881012122736878, 0.0018071825888905297, 0.014700216581273712, 0.003884093922391586, 0.0012946979741305287, 0.0029400433162547423, 0.8004470225061994, 0.01939349673749688, 3.229204323677748e-05, 9.687612971033244e-05, 6.458408647355496e-05, 0.08728539286900953, 3.229204323677748e-05, 0.01601685344544163, 0.0001614602161838874, 0.02189400531453513, 0.005489647350252171, 0.002098982810390536, 0.001743770334785984, 0.01191576395437089, 0.00768550629035304, 0.8452765237658874, 0.0001614602161838874, 0.004804673934212149, 0.12572230127855125, 0.0034700422858198856, 0.008541642549710488, 0.008541642549710488, 0.02135410637427622, 0.8264039166844896, 0.0008007789890353582, 0.9953688208841703, 0.004080888584195915, 0.8814719341863176, 0.012242665752587745, 0.01632355433678366, 0.004080888584195915, 0.012242665752587745, 0.06529421734713464, 0.0022122021383724033, 0.001669995731908579, 0.0019736313195283205, 0.016396321731466046, 0.021189426364606256, 0.5465006812030179, 0.07059527412158993, 0.044157289742413855, 0.09165457094864486, 0.0010193480441519898, 0.018044629207116074, 0.0015398661943572612, 0.01876034166364832, 0.13550822510343896, 0.0011277893254447546, 0.00019519430632697677, 0.025548765872575402, 0.0019085665507526616, 4.148591137513371e-05, 1.3828637125044572e-05, 0.008725870025903124, 0.8229560239485275, 0.0019498378346312845, 0.00387201839501248, 0.01497641400642327, 0.00016594364550053485, 0.10002253232544739, 0.04521964339889575, 0.00035954456525115887, 0.0016870937292554377, 0.9989087156210297, 0.999661403801888, 0.9990657954104257, 0.9995280679464332, 0.03555761198615132, 0.00865750552706293, 0.00015459831298326665, 0.003401162885631866, 0.9521710096639392, 0.00010421042028515566, 0.25695684381812256, 2.6052605071288914e-05, 0.6029614917699107, 0.03256575633911114, 0.0058097309308974285, 0.09626437573841254, 5.210521014257783e-05, 0.001537103699206046, 5.210521014257783e-05, 2.6052605071288914e-05, 0.0014328932789208903, 0.0005731573115683561, 0.000937893782566401, 0.0007294729419960896, 0.0012095440394532125, 0.015925663186133966, 0.019755885977735803, 0.9301393663395204, 0.021570202036915623, 0.002217497405664223, 0.0034270414451174356, 0.0032254507718752334, 0.0026206787521486272, 0.002901349681242771, 0.001255193833729142, 0.2736116788048591, 0.04543390139137616, 0.0031276961102758953, 0.007963278912347181, 0.25173838298102175, 0.053026795238032776, 0.16163192727774445, 0.13082823598114568, 0.0009671165604142571, 0.003683273708811745, 0.007963278912347181, 0.004218274359253675, 0.002963080525524532, 0.011996360738755572, 0.0005967314947236906, 0.0006584623390054516, 0.003559812020248223, 0.03191484649367048, 0.9996440254427147, 0.002843577040287804, 0.00310952309441544, 0.0005932642745924195, 0.0001227443326742937, 0.12407406294493187, 0.07155994594911322, 0.006587279186853761, 0.0243647500358473, 0.4236316068365456, 0.006198588800051831, 0.004868858529413649, 0.011824370714290293, 0.004582455086506964, 0.02835394084776184, 0.041855817441934146, 0.04780891757663739, 0.12084179551784213, 0.00233214232081158, 0.00951268578225776, 0.06495220937348041, 0.9991173404834306, 0.00018409409464000684, 0.0565168870544821, 0.11630144428882432, 0.009388798826640348, 0.018731574129620697, 0.0026233408486200974, 0.39681482099653476, 0.29708184522531106, 0.0004142117129400154, 0.005568846362860207, 0.004188140653060155, 0.007639904927560284, 0.0004142117129400154, 0.002991529037900111, 0.0009204704732000342, 0.00023011761830000856, 0.00013807057098000512, 0.014681504047540546, 0.006581363883380245, 0.05867999266650218, 0.9998052288684618, 0.004921126747113218, 0.001640375582371073, 0.003280751164742146, 0.001640375582371073, 0.02296525815319502, 0.003280751164742146, 0.9612600912694487, 0.48855542493604925, 0.03871796763455686, 0.004779996004266279, 0.0014339988012798837, 0.00043816630039107555, 0.00043816630039107555, 0.0021908315019553777, 0.0027883310024886627, 0.0010356658009243603, 0.25859778383080567, 0.1474628767316147, 0.02844097622538436, 0.004301996403839651, 0.0026688311023820056, 0.0005178329004621802, 7.966660007110464e-05, 0.006213994805546162, 0.005218162304657354, 7.966660007110464e-05, 0.006134328205475058, 0.0038295907302045968, 0.0001665039447915042, 0.886300498125177, 0.008325197239575212, 0.09940285504052801, 0.0018315433927065465, 0.003928324400942692, 0.0008417838002020054, 0.9251203964220039, 0.0014029730003366756, 0.06818448781636244, 0.0002805946000673351, 0.0005930862084123635, 0.00507925111819819, 0.0007299522565075243, 0.015161716661208368, 0.45261602105069676, 0.024879206075964784, 0.0011253430621157665, 0.001049306368729566, 0.004592616280526506, 9.124403206344054e-05, 0.013625775454807119, 0.002083405398781892, 0.07773991531805133, 0.10415506260041736, 0.0007147449178302841, 0.0010949283847612864, 0.1719189637461992, 0.1215826727245345, 4.562201603172027e-05, 0.0011253430621157665, 0.008668743221887777, 0.01907123508815311, 0.8928805518544409, 0.005201245933132666, 0.002600622966566333, 0.05938089106993127, 0.002167185805471944, 0.008235306060793387, 0.0017337486443775552, 0.9981964668898445, 0.9984392984384379, 0.9998547582525392, 0.99218412823161, 0.7456499241613792, 0.07428114325027854, 0.0063320198537862365, 0.012795047014892189, 0.013319076244171049, 0.0010480584585577219, 0.009476195229459403, 0.009694540741658928, 0.01908339776623852, 0.029258298634736404, 0.006506696263545857, 0.0008733820487981016, 0.009781878946538739, 0.0058516597269472805, 0.0007423747414783864, 0.0015720876878365828, 0.05375666510352316, 0.9996993567766044, 0.99849166080056, 0.0708363211190056, 0.009969556305637827, 0.9086288597857632, 0.010494269795408238, 0.9906723179323516, 0.9988561978622204, 0.9995363585875333, 0.12262662614158379, 0.12099468037841193, 0.046480549485104224, 0.05182923036335335, 0.07466792682910402, 0.03265600370074786, 0.011022042065401553, 0.06017693198963034, 0.01884000213504684, 0.046249855581409774, 0.021890288195006807, 0.035526861168945476, 0.04262710687154136, 0.036449636783723274, 0.12755664030572078, 0.05364060471828756, 0.02875983999390824, 0.0068780960175567835, 0.03291233026040836, 0.028221554218621187, 0.9985256724499462, 0.9989912156965602, 0.012955160553790446, 0.017582003608715605, 0.0009253686109850319, 0.9679355670903433, 0.009508337814576807, 0.20371288139723462, 0.776427420721813, 0.0010420096235152668, 0.0009117584205758584, 0.00013025120293940834, 0.008205825785182724, 0.002249383625698549, 0.08397698869274584, 0.002999178167598065, 0.9102505738660128, 0.9666822744484519, 0.004932052420655367, 0.02712628831360452, 0.6698488605507037, 0.004938351423742084, 0.001676321125490432, 0.0013138733145735817, 9.061195272921254e-05, 0.32189896207052754, 0.0001359179290938188, 0.09584987966696325, 0.01405537950309848, 0.8513265279585066, 0.03826186642510142, 0.00045549840982263593, 0.9992453411025597, 0.0008558950766099875, 0.0008558950766099875, 0.9979736593272455, 0.9965658876147014, 0.03712375827326973, 0.09801740493733807, 0.7550278031549176, 0.0005341547952988451, 0.1089675782409644, 0.9992338486902607, 0.019281268903596247, 0.004212972631248303, 0.12189944168079031, 0.012823427644018557, 0.05052491994993403, 0.06639275847346779, 0.02795322716645772, 0.2715368491527191, 0.02478580978676009, 0.0001230065001824322, 0.09837444852090016, 0.03976185118397121, 0.030782376670653658, 0.0008917971263226335, 0.10513980603093392, 0.02543159391271786, 0.021372379406697596, 0.0010455552515506738, 0.01863548477763848, 0.05901236846252185, 0.16552237957014904, 0.004360841615250204, 0.0001896018093587045, 0.000379203618717409, 0.001137610856152227, 0.6691047852268682, 0.0001896018093587045, 0.07091107670015548, 0.002275221712304454, 0.07735753821835144, 0.008342479611782997, 0.9964241794305018, 0.0030168552145387164, 0.007504390572324247, 0.9920804336612654, 0.9981787360579976, 0.005530311457914933, 0.9937544281299449, 0.009091433457751633, 0.04363888059720784, 0.9473273662977202, 0.9291350770425109, 0.005208886206264952, 0.001302221551566238, 0.05241441745054108, 0.011719993964096143, 0.6465207351404759, 0.35345128115904434, 0.9997365203675787, 0.9978683896031904, 0.0010415329490996014, 0.007985085943096944, 0.9287002129471446, 0.0010415329490996014, 0.00034717764969986715, 0.003124598847298804, 0.011804040089795482, 0.046174627410082325, 0.2922129501271116, 0.10247824925858236, 0.031015803492903584, 0.0003231916660517797, 0.017203333437215227, 0.09341298793703162, 0.04621111002137087, 0.1185424645285659, 0.028668690246002954, 0.09020226417264836, 0.09152152195702366, 0.0008636105174826246, 9.006980857180747e-05, 0.0028769356502642033, 0.011926302299714036, 0.012609773200053047, 0.01907360652108864, 0.0018172908435370567, 0.026464629048010488, 0.012477317599212152, 0.09894051102440415, 0.1375421907900446, 2.9177384554527916e-05, 0.11875195513692861, 0.0009336763057448933, 5.835476910905583e-05, 0.06570747001679686, 0.04723818559378069, 0.00210077168792601, 0.002742674148125624, 0.10112881486599376, 0.05502854726983965, 0.042365562373174535, 0.00046683815287244665, 0.32696177131803983, 0.9896977715452888, 0.9725058937939952, 0.0125670055233274, 0.013299611226481016, 0.0015779199760231712, 0.9455527485159927, 0.05118781796477555, 0.0021328257485323143, 0.18137284824735297, 0.012239341348721131, 0.00017738175867711782, 0.755025455809152, 0.05108594649900994, 0.009475281138298527, 0.08594246225439191, 0.058680249856480356, 0.00016623300242628994, 0.0009973980145577396, 0.0003324660048525799, 0.7362459677460382, 0.054856890800675684, 0.05336079377883907, 0.8081950818166441, 0.009855419649739015, 0.0019254804457073654, 0.019736174568500495, 0.0032935849729204933, 0.006409823062683729, 0.027235414199150234, 0.0892308174971229, 0.0016974630245051774, 0.0029135559375835134, 0.0004306995733819107, 0.003572272932167612, 0.0019001451766849, 0.006055129296369214, 0.005067053804493067, 0.0016974630245051774, 0.0018494746386399693, 0.0003293584972920493, 0.008639326736660678, 0.997061477821697, 0.0034180361465709773, 0.0009765817561631365, 0.8657397268386204, 0.00830094492738666, 0.07080217732182739, 0.050293960442401524, 0.8515703356365829, 0.004059675417662796, 0.00010683356362270516, 0.001923004145208693, 0.00683734807185313, 0.0023503383996995135, 0.02852456148726228, 0.005341678181135259, 0.0023503383996995135, 0.023823884687863253, 0.02147354628816374, 0.05149377766614389, 0.00021366712724541032, 0.9966445058931557, 0.0005006105256214521, 0.9992186091404184, 0.00018171502174259342, 0.0008480034347987693, 0.00012114334782839562, 0.4836042445309553, 0.047003618957417496, 0.0015445776848120442, 0.037978439544202026, 0.00036343004348518684, 0.0016960068695975386, 0.04763962153351658, 0.0011508618043697583, 0.028922974294029454, 0.02232066183738189, 0.007813745934931518, 0.0027257253261389015, 0.03183041464191095, 0.03176984296799675, 0.014264629206793585, 0.229657501645681, 0.008631463532773187, 0.9816439316386871, 0.001342266087017348, 0.001342266087017348, 0.0017896881160231306, 0.012975238841167696, 0.0008948440580115653, 0.08921490870476877, 0.010231067512014767, 0.9003339410572995, 0.08958068518027212, 9.380176458667238e-05, 3.126725486222413e-05, 6.253450972444826e-05, 0.009442710968391686, 0.06806881383506193, 3.126725486222413e-05, 0.08088838832857383, 0.2952879549188447, 0.015039549588729806, 9.380176458667238e-05, 0.15686781764377844, 0.011350013514987359, 0.11450068730546475, 0.018979223701370045, 0.1397020947244174, 0.009530343161258416, 0.06579011085513874, 0.04617220688811285, 0.05308939144063912, 0.14773953340104024, 0.18522683079542565, 0.01775410701815076, 0.08189177934129711, 0.012816005823708393, 0.011221210496320393, 0.022327134583432016, 0.06684690293955248, 0.03577721565778865, 0.0287831734991232, 0.055299047617140565, 0.024517576358398668, 0.034163205928865854, 0.013584581885100202, 0.047056069358713426, 0.040427100829209084, 0.9996817726021617, 0.9978125026478639, 0.015605649301652277, 0.9831559060040934, 0.999157143253252, 0.06611439070065309, 0.034897796427738936, 0.01668811643520568, 0.010847275682883692, 0.023019784141504306, 0.05217490520771658, 0.0024050520744855245, 0.04088588526625392, 0.009620208297942098, 0.0040738637180060926, 0.07961213193501063, 0.4055703120708957, 0.08265525904966578, 0.008687637085386486, 0.047757462621926844, 0.03362164634739968, 0.05507078423617875, 0.0017669770343158955, 0.019485830072872516, 0.005104600321357032, 0.07148450552896754, 0.9280144190826444, 0.00957022980424469, 0.9901849395135959, 0.0863615039525004, 0.001012909021370479, 0.0021138970880775214, 0.0002642371360096902, 0.0001761580906731268, 0.06936224820254368, 0.015986346728586256, 0.002642371360096902, 0.817021224541962, 0.00493242653884755, 0.9990618870519351, 0.00019411605640049371, 0.027435069304603113, 0.6599298864095451, 0.0308644529676785, 6.470535213349791e-05, 0.0015529284512039497, 0.0008411695777354728, 0.16253984455934672, 0.002523508733206418, 0.035005595504222366, 0.04484080902851405, 0.01481752563857102, 0.017470445076044436, 0.0018764552118714392, 0.00014044709800435296, 0.0949422382509426, 0.8255480420695867, 0.0008426825880261177, 0.00042134129401305884, 0.019381699524600705, 0.004915648430152353, 0.021207511798657295, 0.0002808941960087059, 0.02289287697470953, 0.009269508468287295, 0.9992556238178997, 0.9962704778061501, 0.016716521469834295, 0.0014663615324416047, 0.011730892259532838, 0.00967798611411459, 0.0017596338389299256, 0.9425771930534635, 0.0005865446129766419, 0.0026394507583948883, 0.0005865446129766419, 0.0005865446129766419, 0.011437619953044516, 0.9993297106930905, 0.0007795446431714653, 0.03663859822905887, 0.005976508930981234, 0.7986434869291662, 0.0001299241071952442, 0.004677267859028791, 0.06989916967104139, 0.0014291651791476863, 0.011173473218791002, 0.0002598482143904884, 0.007665522324519409, 0.001818937500733419, 0.001818937500733419, 0.016630285720991258, 0.028973075904539458, 0.0001299241071952442, 0.007275750002933676, 0.006366281252566966, 0.005349212692595169, 0.039409505755650116, 0.6399405062039363, 0.0002729190149283249, 0.00010916760597132997, 0.0008733408477706397, 5.458380298566498e-05, 0.05114502339756809, 0.013973453564330236, 0.1535442377986756, 0.004366704238853198, 0.0007095894388136448, 0.027291901492832494, 5.458380298566498e-05, 0.00010916760597132997, 0.06282595723650039, 0.014355006678292304, 0.027405012749467127, 0.7462739186130402, 0.00018642865815964032, 0.00018642865815964032, 0.08743504067687131, 0.00037285731631928065, 0.02982858530554245, 0.03821787492272626, 0.0022371438979156837, 0.05331859623365713, 0.999069452797897, 0.20079854365804467, 0.7990108716393027, 0.9988900441684199, 0.9395293209341454, 0.00021844438989401197, 0.0028397770686221556, 0.00021844438989401197, 0.00021844438989401197, 0.013106663393640718, 0.024902660447917363, 0.0006553331696820359, 0.006990220476608383, 0.010922219494700599, 0.049050857567194586, 0.7467029085229054, 0.0017934500024568403, 0.004035262505527891, 0.008429215011547149, 0.012554150017197882, 0.0027798475038081027, 0.00026901750036852605, 0.0006277075008598942, 0.00017934500024568403, 0.04008360755491038, 0.10733798264704189, 0.0017934500024568403, 0.0004483625006142101, 0.009594957513144096, 0.00035869000049136806, 0.00035869000049136806, 0.0106710275146182, 0.0030488650041766287, 0.13743305830590308, 0.44531327074644117, 0.05904507108991685, 0.036554833017910765, 0.029079943396311075, 0.022588591882816606, 0.020851007891830715, 0.003966937036024396, 0.007573243432410212, 0.011507395864831101, 0.049734243666520746, 0.06897880598177959, 0.00911411980177506, 0.0014425225585543262, 0.029342220225139132, 0.02114606932426228, 0.0015408763693648484, 0.0002622768288280593, 0.029670066261174206, 0.014884210035992365, 0.999080465498155, 0.0009314266284011915, 0.2143611854791885, 0.09691272300269539, 0.002040267852688324, 0.00017741459588594124, 0.38090913736711585, 0.013660923883217475, 0.020003495686139874, 0.09265477270143281, 0.11549690192174775, 0.043865758832798966, 4.435364897148531e-05, 0.008826376145325577, 0.001862853256802383, 0.008205425059724781, 0.8959882712848352, 0.09409922483813338, 0.008182541290272467, 0.999737387036425, 0.9985921370406631, 0.04330244853987922, 0.011014981443453241, 0.5140429878782893, 0.027395426627270524, 0.0033455244498740502, 0.03976755478152173, 0.0036295784125992057, 0.16490910613765955, 0.04645860368126983, 0.02540704888819444, 0.004892040469155451, 0.0015149544678674945, 0.000915284991003278, 0.00018936930848343682, 0.005018286674811075, 0.011804020228800895, 0.004450178749360765, 0.0009468465424171841, 0.0024933625616985846, 0.08853015171600671, 9.17746238608214e-05, 0.01725362928583442, 0.0002753238715824642, 0.0002753238715824642, 0.002569689468102999, 0.0005506477431649284, 0.08948025826430087, 0.5614771487805054, 0.32791073105471485, 0.9995754768645809, 0.6334585478209379, 0.12051107036348845, 0.24602286273491658, 1.266005571630302e-05, 0.9922035990601967, 0.007603092713104956, 9.18946237367144e-05, 4.59473118683572e-05, 0.0015622086035241448, 0.4194070627343645, 0.5532515822068891, 0.02559265271067496, 0.6709315470569795, 0.10527369101955056, 0.004928287225882731, 0.03586697925503543, 0.18289421482720356, 0.9999326734783595, 2.1942302637167484e-05, 0.00019018199892028106, 0.999406404326077, 0.0003803639978405621, 0.009121590682420177, 0.03356614125221525, 0.18469580558037113, 0.03537077250233435, 0.0003281147727489272, 0.030022501706526837, 0.0039045657957122335, 0.3896691041166259, 0.0015421394319199578, 0.16002157466965178, 0.001148401704621245, 0.0038061313638875554, 0.049840633980562044, 0.02175400943325387, 0.01837442727393992, 0.04386894511653157, 0.002559295227441632, 0.000820286931872318, 0.007809131591424467, 0.0017718197728442068, 0.999086867606659, 0.997342491355077, 0.06327866546862516, 0.6112176287590227, 0.003428189551347639, 0.0028568246261230323, 0.30639444115169523, 0.0008570473878369097, 0.01142729850449213, 0.0002856824626123032, 0.9976817799568908, 0.0009287483165554106, 0.9987759396236886, 0.002040168790231719, 0.001281036217122242, 0.28239731719672534, 0.0005693494298321075, 0.009489157163868459, 4.744578581934229e-05, 0.00037956628655473834, 0.6508138440839183, 0.00455479543865686, 4.744578581934229e-05, 0.003416096578992645, 0.03990190587406687, 0.00037956628655473834, 0.0007116867872901345, 0.0004744578581934229, 0.0013759277887609265, 9.489157163868459e-05, 0.002087614576051061, 0.9937173852104443, 0.9933248008960979, 0.005518471116089433, 0.9911465497734017, 0.004004632524336977, 0.004672071278393139, 0.9928801782911572, 0.005745834365110863, 0.9997414365410099, 0.0004147889499313034, 0.055581719290794654, 0.006844017673866506, 0.0609739756399016, 0.0002073944749656517, 0.0033183115994504272, 0.023642970146084293, 0.0008295778998626068, 0.7416426424771705, 0.04479720659258077, 0.0002073944749656517, 0.0002073944749656517, 0.0008295778998626068, 0.029864804395053846, 0.005599650824072596, 0.0004147889499313034, 0.02426515357098125, 7.274050175612471e-05, 0.0016730315403908683, 0.04168030750625946, 0.1195126443853129, 7.274050175612471e-05, 0.6076014111689096, 0.00043644301053674824, 0.0005819240140489977, 0.00014548100351224942, 0.09732679134969485, 0.09696308884091423, 0.03389707381835411, 0.9995447682929542, 0.059187301153638794, 0.9380964724200795, 0.0026701038114423513, 0.9856249239893103, 0.0126092740808867, 0.0009101876413399828, 0.998020748729291, 0.0004550938206699914, 0.9974410926874233, 0.0034481632918173474, 0.9953698035712742, 0.0036835926259150037, 0.005985838017111881, 0.10452194076033823, 0.885443577454319, 0.001212386997651754, 0.9808210811002689, 0.017781675965559057, 0.9993822475217249, 0.9993055370416175, 0.9988314601409233, 0.0249148348808048, 0.0004371023663299088, 0.9743011745493667, 0.00012923439994641777, 0.9997573179854877, 0.00026684214808472676, 0.0005336842961694535, 0.999057002429217, 0.24262534349056528, 0.00012472173243175048, 0.5150591810323188, 0.011682268937773962, 0.09686721218865954, 0.03725022408628281, 0.004864147564838269, 0.07553979594283021, 0.006568677908072192, 0.005570904048618188, 0.00037416519729525146, 4.157391081058349e-05, 4.157391081058349e-05, 0.000582034751348169, 0.00045731301891641844, 0.002369712916203259, 0.998251971066585, 0.995792582596844, 0.03485058756123594, 0.9451901777971566, 0.02006548980798433, 0.0004879593172876342, 0.00018767666049524393, 0.00011260599629714636, 0.1791186047766608, 0.00015014132839619512, 3.753533209904878e-05, 3.753533209904878e-05, 0.8195839763827302, 3.753533209904878e-05, 0.00018767666049524393, 0.0034581818047600982, 0.0025936363535700737, 0.9933627234173382, 0.9053032842243136, 0.03755675596525961, 0.05679879760178152, 0.007790394229993603, 0.007790394229993603, 0.0002939771407544756, 0.0001469885703772378, 0.0023518171260358046, 0.1777091815860805, 0.002131334270469948, 0.09811487072680623, 0.48947193935620187, 0.11127034777556902, 0.013228971333951402, 0.01271451133763107, 0.06276411955108054, 0.002131334270469948, 0.003527725689053707, 0.008451842796691174, 0.000731896739035528, 0.053184496369915034, 0.052452599630879504, 0.8931579872030226, 0.0065261779312526195, 0.029367800690636787, 0.0032630889656263097, 0.9604358522160105, 0.9956274151534026, 0.009196775001696432, 0.9886533126823664, 0.9994302377351344, 0.9992282589586822, 0.11284904028316835, 0.00026741478740087285, 0.002139318299206983, 0.011498835858237534, 0.795024162942795, 0.006952784472422695, 0.00026741478740087285, 0.00561571053541833, 0.06551662291321385, 8.821773708054741e-05, 0.009218753524917205, 0.2796502265453353, 0.004631431196728739, 0.021922107664516032, 4.4108868540273704e-05, 0.003484600614681623, 0.0010145039764262952, 0.005469499698993939, 0.3663682620955134, 0.22526399163517782, 0.057914944393379374, 0.00030876207978191596, 0.02108403916225083, 0.00030876207978191596, 0.0033522740090608017, 0.9984861670891088, 0.005191408664885623, 0.9946739001920855, 0.9986648589356433, 0.0008196975586339069, 0.9998015078189142, 8.247209432696846e-05, 4.123604716348423e-05, 0.00041236047163484225, 0.1563670908439322, 0.14783122908109095, 0.004082368669184939, 0.2232107232959401, 0.0005773046602887792, 0.4462565024032263, 0.0015669697922124006, 0.012329578101881783, 0.0020618023581742114, 0.0038761884333675172, 0.001278317462068011, 0.01795650803980364, 0.0032075271040194033, 3.762495136679652e-05, 0.18439048041082803, 0.04180602408743178, 0.07170375106727246, 0.11666086483167346, 0.035833063057952835, 0.009871846614863237, 0.060679640316801085, 0.024475030864101136, 0.0830852988557284, 0.08922757216635795, 0.06512879081592478, 0.049650826447408855, 0.03155322483997973, 0.02150265970612421, 0.032475036148466245, 0.046875986284107614, 0.013888310173268765, 0.04248759939647789, 0.9574670286530229, 0.002400358082355823, 0.9961486041776666, 0.9971563340790122, 0.0019090421201257413, 0.0009439712564985136, 0.9987215893754273, 0.0020834869019604194, 0.004013776237600219, 0.07564895824912168, 0.0002757556193771143, 0.002420521547865781, 0.3202748321498862, 0.0003063951326412381, 0.08857883284658194, 0.005331275307957543, 0.012807316544403754, 6.127902652824762e-05, 0.0008272668581313429, 0.00012255805305649525, 0.007200285617069095, 0.3294973256423875, 0.005515112387542286, 0.014032897074968706, 0.028893061008068755, 0.10212149770932466, 0.10146187625646148, 0.5636027889596491, 0.022432254247234443, 0.025411063076813, 0.009726722708827943, 0.050578958085905304, 0.013252659690778072, 0.007538210099341656, 0.013009491623057373, 0.015866716418775583, 0.021094829874770602, 0.012097611369104753, 0.007659794133202005, 0.0011550483216733183, 0.018480773146773093, 0.08456169554987293, 0.0006687121862319211, 0.0005471281523715718, 0.013131075656917722, 0.017751268943610995, 0.2582831159824647, 0.007583442092749395, 0.00011152120724631464, 0.00022304241449262928, 0.6389049963141366, 0.00011152120724631464, 0.09468150495212113, 0.9987405682636395, 0.02112703228158706, 0.058889279130934016, 3.0978053198808e-05, 0.02735362097454747, 0.044050791648704984, 0.008333096310479354, 0.012360243226324393, 0.004367905501031929, 0.0008054293831690081, 0.10482973202476628, 0.0010532538087594722, 0.026455257431782037, 0.007001040022930609, 0.12146494659252619, 0.018246073334097914, 0.15200930704655088, 0.013878167833065986, 0.36399212508599404, 0.010377647821600682, 0.0033766077986700726, 0.0007734721342640427, 0.10457343255249857, 0.020574358771423534, 0.002011027549086511, 0.0006187777074112341, 0.012452901361651086, 0.02049701155799713, 0.01160208201396064, 0.0005414304939848299, 0.007193290848655597, 0.005568999366701107, 0.12290472213455637, 0.06110429860685937, 0.6278273313821234, 0.0016242914819544895, 0.00044290404948139255, 0.0006643560742220888, 0.03986136445332533, 0.0026574242968883553, 0.0478336373439904, 0.08570193357464946, 0.054034294036729894, 0.7684385258502161, 0.057768123904481085, 0.89762777143886, 0.011109254597015594, 0.015552956435821831, 0.015552956435821831, 0.06272848954039181, 0.937033850651646, 0.00021630513634617867, 0.0005578758909733248, 0.002727393244758477, 0.0010537655718385025, 0.03988812620459273, 0.00077482762635184, 0.7425638039905494, 0.0005888689960273985, 0.003130303610461434, 0.0003719172606488832, 0.025011435778637396, 0.004958896808651777, 0.005733724435003616, 0.15186621476496065, 0.008275159049437653, 0.003595200186272538, 0.0028203725599206977, 9.29793151622208e-05, 0.0025414346144340353, 0.0033782484508940226, 3.09931050540736e-05, 0.245294584291412, 0.0008868206228901373, 0.00035472824915605496, 0.0005320923737340824, 0.00017736412457802748, 0.0019510053703583022, 0.703958210450191, 0.019864781952739077, 0.00017736412457802748, 0.026427254562126093, 0.00017736412457802748, 0.0304713926694618, 0.002300692399539901, 0.008026860149505877, 5.1126497767553357e-05, 0.00010225299553510671, 0.2619721745609434, 0.00025563248883776676, 0.07070794641252628, 0.3666792419888927, 0.00015337949330266007, 0.0061351797321064026, 0.0691741514794997, 0.04166809568055598, 0.005112649776755336, 0.03287433806453681, 0.0006646444709781937, 0.09647570128737318, 0.002607451386145221, 0.003732234337031395, 0.0008180239642808537, 0.010530313303250265, 0.8858626066359285, 0.005265156651625132, 0.002632578325812566, 0.014479180791969115, 0.01974433744359425, 0.018428048280687965, 0.006581445814531415, 0.007897734977437698, 0.003948867488718849, 0.006581445814531415, 0.01711175911778168, 0.00038413455012750394, 0.001152403650382512, 0.00931526284059197, 0.000576201825191256, 0.0024008409382969, 0.03284350403590159, 0.00019206727506375197, 0.000864302737786884, 0.0020167063881693956, 0.0071064891773588235, 0.0031691100385519075, 0.005762018251912559, 0.929317510395964, 0.0012484372879143879, 0.0036492782262112877, 0.006579976376029615, 0.008246445588757742, 0.00012026066483605039, 0.31580450585946834, 0.09928376886964789, 0.004655805738652808, 0.05446090107575425, 0.0042606635541915, 0.0024739336766273225, 0.03635308097044038, 0.004484004788887022, 0.039222156831529006, 0.07109123301308236, 0.05293187262283875, 0.019997630552737525, 0.0827908776921324, 0.03862085350734876, 0.06935604342044792, 0.08694846067646443, 0.0023021327268615364, 0.017637185714709264, 0.7994246133732351, 0.005751256211318238, 0.012269346584145574, 0.0007668341615090984, 0.0015336683230181968, 0.0019170854037727462, 0.0065180903728273365, 0.0003834170807545492, 0.05291155714412779, 0.04140904472149132, 0.012269346584145574, 0.022621607764518402, 0.008051758695845533, 0.0011502512422636476, 0.01495326614942742, 0.045461462633835895, 0.8004081137736777, 0.0007159285454147386, 0.003221678454366323, 0.0021477856362442154, 0.0007159285454147386, 0.132804745174434, 0.001431857090829477, 0.012886713817465293, 0.9990801926409786, 0.011605372083858685, 0.11336175308717633, 0.029133073220820514, 0.12616355528277304, 0.004845541952538936, 0.010528584983294478, 0.019083060282221242, 0.005503578513994841, 0.01902323877663434, 0.002572324740236719, 0.44052556714193486, 0.11599389933299996, 0.019382167810155743, 0.0026919677514105197, 0.010528584983294478, 0.04343041305608972, 0.007836617231883957, 0.0022133957067153164, 0.010588406488881378, 0.004905363458125836, 0.05313507714470313, 0.01809217986559709, 5.707312260440723e-05, 0.005536092892627501, 0.0003995118582308506, 0.16374278875204434, 0.5843717023465256, 0.024940954578125958, 0.006848774712528868, 0.0014268280651101807, 0.0013697549425057735, 0.00017121936781322168, 0.023628272758224593, 0.020660470382795417, 0.008047310287221419, 0.012042428869529925, 0.02722387948230225, 0.0011985355746925517, 0.035784847872963335, 0.011414624520881446, 0.9979917495070182, 0.9859646853828441, 0.0011010214242131145, 0.012661746378450817, 0.11317658111945887, 0.005871644104294535, 0.0003589651417472642, 2.564036726766173e-05, 2.564036726766173e-05, 0.00023076330540895554, 0.0023076330540895557, 0.858644619059456, 0.0010768954252417925, 5.128073453532346e-05, 0.002333273421357217, 0.0015640624033273654, 0.00048716697808557285, 0.005717801900688565, 0.00012820183633830863, 0.006128047776971153, 0.0010512550579741308, 0.0007435706507621902, 5.128073453532346e-05, 0.00016421790961654518, 0.014759084626786998, 0.0006856097726490761, 0.069398488603952, 0.02772408859101324, 0.002290839839150805, 0.003961757069499153, 0.004261454754549347, 0.0027875990157408543, 0.577927983865767, 0.0007759296229381759, 0.015239422012415392, 0.07216966582873119, 0.1907637347060597, 0.0008908821596697575, 0.0006445552952449398, 0.0050907551981129, 0.009409686221028038, 0.0005952899223599763, 0.00046802104240715374, 0.00018990690078898528, 0.00037981380157797056, 0.0009495345039449264, 0.0005697207023669558, 0.001329348305522897, 0.0016142086567063748, 0.8520173103897825, 0.013958157207990419, 0.001044487954339419, 0.09485849694409815, 0.031809405882155035, 0.0005697207023669558, 0.0006646741527614485, 0.004520439458741464, 0.004972483404615611, 0.8841979581298304, 0.07820360263622733, 0.010849054700979514, 0.009040878917482929, 0.005876571296363904, 0.0018081757834965857, 0.004104455393336446, 0.9932782051874198, 0.9987244824581281, 0.5017307273003844, 0.020911304479106805, 0.023476893095871167, 3.514504954471732e-05, 0.0107543851606835, 0.014058019817886926, 0.01859173120915546, 0.17913431752942416, 0.03718346241831092, 0.0004217405945366078, 0.062031012446426066, 0.0023898633690407774, 0.0004217405945366078, 0.00035145049544717315, 0.011843881696569736, 0.0016166722790569965, 0.08245028623190682, 0.018029410416439982, 0.01191417179565917, 0.002635878715853799, 0.07301912768292505, 0.02086260790940716, 0.0010515427373693125, 0.0031546282121079376, 0.00386967727351907, 0.0007991724804006775, 0.001598344960801355, 0.005678330781794287, 0.3791863110953741, 0.010978106178135622, 0.04042130282447637, 0.01043130395470358, 0.00033649367595818, 0.00454266462543543, 0.0021451471842333972, 0.0033228750500870273, 0.413592789462098, 0.014090672680748787, 0.0029863813741288475, 0.007949663094512002, 0.11481226498545152, 0.1336362655072988, 0.02273220234693037, 0.24959978374355, 0.032992494476864295, 0.019783378230847, 0.020843743067109857, 0.01503698324947993, 0.009937133322691909, 0.06187481287411923, 0.021500159394320196, 0.04421216431579794, 0.079295092327009, 0.05390692853305834, 0.021227494150709746, 0.03301269190231692, 0.025620434186655865, 0.016097348085742785, 0.014289678507732774, 0.00959377708999727, 0.9986026167474592, 0.9958253576046208, 0.9998182733432367, 0.0005554109722840851, 0.00014810959260908935, 3.702739815227234e-05, 0.012885534556990774, 0.0015921781205477106, 0.0015921781205477106, 0.9816703798130443, 0.0014440685279386212, 0.9814920106407462, 0.015916086659039128, 0.015677392502107063, 0.032342337287811426, 0.00037033210634898573, 0.951506625245994, 0.0041322905856028234, 0.04545519644163106, 0.14896403623221885, 0.00010078757525860545, 0.020258302626979696, 0.7733430649592796, 0.002015751505172109, 0.00010078757525860545, 0.00010078757525860545, 0.0003023627257758164, 0.005140166338188878, 0.0022781920473764665, 0.17010500620410948, 0.0314200653200671, 0.004081760751549503, 0.0001898493372813722, 0.7849320849898334, 0.0068345761421294, 0.9742504425537494, 0.013643931254537747, 0.01198453421006694, 0.12684089336074925, 0.00034392866963326807, 0.11157046042903215, 0.0016508576142396866, 0.029440294120607745, 0.5996740283725661, 0.1202374629037905, 0.010180288621144734, 0.9958901100261521, 0.00015654868568314764, 0.28331398391507645, 0.7164646286146356, 3.913717142078691e-05, 0.004980481286401445, 0.007114973266287779, 0.0007114973266287779, 0.9854237973808574, 0.0014229946532575558, 0.007902621101081591, 5.165111830772282e-05, 0.17396096646041045, 0.0307840665114028, 0.0006714645380003967, 5.165111830772282e-05, 0.00020660447323089128, 0.5589684023261764, 0.0008780690112312879, 0.010123619188313672, 0.19539618055811545, 0.016993217923240808, 0.001136324602769902, 0.00041320894646178257, 0.0012396268393853477, 0.0009297201295390108, 5.165111830772282e-05, 0.0002582555915386141, 0.914785524545774, 0.0006730763342799187, 0.00014957251872887084, 0.018696564841108855, 0.0656623357219743, 0.004979853756634281, 0.001422815359038366, 0.0033537790605904336, 0.00020325933700548083, 0.9850963767970629, 0.0006097780110164425, 0.0006097780110164425, 0.0020325933700548085, 0.001219556022032885, 0.00040651867401096165, 0.9985889977979846, 0.047802665924044654, 0.9498852325552098, 0.0015420214814207953, 0.9992529294587236, 0.0022066358040266024, 0.00012730591177076553, 0.0012730591177076553, 0.0028219477109186356, 0.008720454956297438, 0.9704529654285455, 0.00016974121569435403, 0.00010608825980897127, 0.00014852356373255978, 6.365295588538276e-05, 0.007065478103277486, 0.00623798967676751, 2.1217651961794254e-05, 2.1217651961794254e-05, 4.243530392358851e-05, 0.0005304412990448564, 0.997146350293802, 0.03687758114722035, 0.9622475824925868, 0.9989092163072292, 0.00901343057365876, 0.09867334522742223, 0.8918552357093932, 0.010064570854878553, 0.9892035354509207, 0.03272087817424307, 0.9503597283052377, 0.015996873774074393, 0.9983076495358407, 0.9978609822852803, 0.00016008690732168915, 0.004082216136703073, 0.07788228041200176, 0.9173780224069397, 0.0004802607219650674, 0.19542585054604258, 0.10593176945486421, 0.019633905545513624, 0.00015220081818227615, 0.006088032727291046, 0.0009132049090936569, 0.008523245818207464, 0.0497696675456043, 0.00010146721212151744, 0.014814212969741546, 0.027802016121295778, 0.005732897484865735, 0.00045660245454682847, 0.5646143018501838, 0.007260058538103879, 0.007848711933085275, 0.0007358167437267445, 0.507419226473963, 0.08942626158759034, 0.0004414900462360467, 0.01731622070236939, 0.07941915387290663, 0.0003433811470724808, 0.0026489402774162803, 0.008143038630575972, 9.810889916356593e-05, 0.0035809748194701565, 0.1385297656189551, 0.034338114707248076, 0.01653134950906086, 0.06342740330924537, 0.010105216613847291, 0.009271290970956981, 0.0031394847732341097, 0.002099211224757441, 0.0014994365891124579, 0.9497431355438308, 0.0014994365891124579, 0.04498309767337373, 0.031200047639603868, 0.0020571459982156397, 0.9320014230804745, 0.00960001465833965, 0.008685727548021589, 0.002628575442164428, 0.0019428601094258818, 0.001371430665477093, 0.010400015879867955, 0.00011428588878975776, 0.0037720349144846565, 0.015352843862463864, 0.0025808659941210805, 0.0001985281533939293, 6.617605113130976e-05, 0.010521992129878251, 0.04261737692856349, 0.11640367393997388, 0.11130811800286301, 0.0001323521022626195, 0.0015882252271514343, 0.6954441213389343, 0.09044768133870566, 0.014711648988237217, 0.03595666020432151, 1.5445300775052195e-05, 3.861325193763049e-05, 0.16616826838839907, 0.00952202792781968, 0.13201098572437112, 0.00012356240620041756, 0.014611254533199378, 0.06629123092652403, 0.18815465404168585, 0.022449744676538368, 0.0017684869387434765, 0.03516122721440632, 0.20992480548412193, 1.5445300775052195e-05, 0.003073614854235387, 0.009545195878982258, 0.9987194247060841, 0.9983150808150247, 0.0057634468016551504, 0.006321199717944359, 0.010783223048258024, 0.0412737158054014, 0.0022310116651568326, 0.0013014234713414857, 0.0007436705550522776, 0.004276105691550596, 0.003904270414024457, 0.007994458466811983, 0.004462023330313665, 0.9108105123002769, 0.005162496043236113, 0.9941492380403257, 0.0008819004180315589, 0.03933275864420753, 0.7489098349923998, 0.2107741999095426, 0.02809573206258011, 0.9712011164335124, 0.08479767446979501, 0.009085465121763753, 0.9040037796154933, 0.0015142441869606252, 0.9972535564127243, 0.0017519007605852187, 0.0049053221296386125, 0.9926269709475849, 0.999759696876916, 0.9986841296526646, 0.14803004296039374, 0.040223922006173744, 0.01531685738719615, 0.07835723034991349, 0.05613748431960876, 0.047719222734325224, 0.14276272681294708, 0.07935746234857287, 0.02260180889674544, 0.0747426580629126, 0.04231882850980371, 0.03121324833584731, 0.02068720172334592, 0.028985263755142487, 0.05980786354215716, 0.053192595259178105, 0.005808214138138002, 0.009422786425138887, 0.019450863458908563, 0.02386819704955454, 0.9968937194281223, 0.9991337012970403, 0.15963349071878902, 0.0063144721712896056, 0.025257888685158422, 0.7775886342155696, 0.024349331538210277, 0.006359900028637013, 0.0004088507161266651, 0.00022592614080867504, 0.016417299565430386, 0.016492608279033278, 0.3804596211218088, 0.04586300658416104, 0.005346918665805309, 0.2754039656457749, 0.00033888921121301256, 0.0074179082898848305, 0.005346918665805309, 0.012802481312491586, 0.08291489367678374, 0.08472230280325314, 0.011296307040433752, 0.0071919821490761555, 0.01792347383748822, 0.013932112016534961, 0.011484578824440981, 0.002372224478491088, 0.0019956809104766295, 0.8714523042401922, 0.014642451673531722, 0.11366769185741636, 0.9988073043548685, 0.0010704149977220463, 0.0003568049992406821, 0.0017840249962034105, 0.0003568049992406821, 0.004638464990128868, 0.003568049992406821, 0.0021408299954440925, 0.9858522129020046, 0.0003568049992406821, 0.9951140868975094, 5.2226153604983765e-05, 0.00013926974294662338, 0.005501154846391623, 0.03711538649527513, 8.70435893416396e-05, 5.2226153604983765e-05, 0.05107717822567412, 5.2226153604983765e-05, 0.07748620323192758, 0.009539977391843701, 0.005048528181815097, 1.7408717868327923e-05, 0.0012534276865196104, 0.00033076563949823053, 0.003133569216299026, 0.7494801216672536, 0.002019411272726039, 0.05530749666767781, 1.7408717868327923e-05, 0.002297950758619286, 0.9845044736424772, 0.008933797401474385, 0.003573518960589754, 0.001786759480294877, 0.0003451257507661154, 0.07851610829929125, 0.003968946133810327, 0.9163088682840363, 0.0006902515015322308, 0.999533488807832, 0.02107357390167797, 0.00012469570356022467, 0.000789739455881423, 0.00016626093808029958, 0.9777805768502418, 0.998371660818375, 0.11498382122049229, 0.009723940436547805, 0.05373009423698313, 0.00021293300226017092, 0.00014195533484011395, 0.092199989978654, 0.04762601483885823, 0.5424823120914954, 7.097766742005697e-05, 0.0004968436719403988, 0.0063879900678051275, 0.12797273435836273, 7.097766742005697e-05, 0.0031230173664825067, 0.0008517320090406837, 0.016794213397090554, 0.8478247280126726, 0.09227382417053126, 0.0011321941616016106, 0.0328336306864467, 0.009057553292812884, 0.0011815012805849196, 0.9281874060275128, 0.0005513672642729625, 0.07002364256266623, 0.9987611979324073, 0.00047379563469279284, 0.9999578369667528, 0.01058032711500122, 0.9715659002499397, 0.0003648388660345249, 0.0021890331962071494, 0.015140812940432782, 0.9730926784750183, 0.014759802273727255, 0.010542715909805182, 0.9993569930052504, 0.9988286247943363, 0.9997591923790952, 0.9997344504925805, 0.9970206453052657, 0.000597463510661459, 0.001194927021322918, 0.9977640628046365, 0.006289510098562465, 0.9930437611174737, 0.008842593358492084, 0.0023973253105245207, 0.30233809203057604, 7.860082985326298e-05, 0.04582428380445232, 0.5300053957005523, 0.0024366257254511523, 0.0012969136925788391, 0.050736835670281255, 0.0003537037343396834, 0.03662798671162055, 7.860082985326298e-05, 0.0003930041492663149, 0.0005502058089728409, 0.002004321161258206, 0.002004321161258206, 0.004008642322516412, 0.009943004976437768, 0.0032551598757975414, 0.0007511907405686634, 0.00482014058531559, 0.023975504469816507, 0.001189385339233717, 0.9367348534891232, 0.0013771830243758827, 0.0028795645055132097, 0.0073241097205444675, 0.01646359706412987, 0.00018779768514216584, 0.0003755953702843317, 0.0005633930554264975, 0.9779944986218734, 0.020682663112849286, 0.048310298000269244, 0.02358002640489332, 0.906968332695531, 0.004600980761930404, 0.011502451904826011, 0.001150245190482601, 0.003450735571447803, 0.9000718512322183, 0.036124740644233135, 0.020020940598008723, 0.04221807039145318, 0.0013057135172614386, 0.6323765136718515, 0.2707224451743315, 0.017567785571906334, 0.07932604446987832, 0.9992339186749539, 0.0003792159084155423, 0.9964333422322772, 0.9997255886286197, 0.00018601276186224202, 0.07486089002021401, 0.7069432060624492, 0.027929751016715933, 0.011446619269145874, 0.00045786477076583494, 0.0018314590830633398, 0.03319519588052303, 0.09317548085084741, 0.00022893238538291747, 0.0032050533953608446, 0.02174857661137716, 0.00045786477076583494, 0.02151964422599424, 0.0032050533953608446, 0.9988787453331368, 0.010782007516228447, 0.0016846886744106948, 0.9872275632046671, 3.563591659500073e-05, 0.0001069077497850022, 0.03053998052191563, 0.14200912763107792, 0.07654594884606158, 0.09938857138345705, 0.003242868410145067, 0.009871148896815203, 0.07369507551846152, 0.015822346968180325, 0.00035635916595000737, 0.004525761407565093, 0.10010128971535706, 0.40899341476082346, 0.01357728422269528, 0.0001069077497850022, 0.0037417712424750774, 0.008053717150470166, 0.006236285404125129, 0.002993416993980062, 0.0009922326882175216, 0.008020547563091633, 0.0008268605735146013, 0.77468567132583, 0.0017364072043806627, 0.012072164373313179, 8.268605735146013e-05, 0.0022325235484894237, 0.003224756236706945, 0.017364072043806626, 0.16289153298237646, 0.00016537211470292026, 0.014139315807099682, 0.0014056629749748222, 8.268605735146013e-05, 0.997588638921543, 0.0006770470725484058, 6.448067357603865e-05, 0.039849056269991884, 0.5024978891780693, 6.448067357603865e-05, 0.11654881748868987, 0.014056786839576426, 0.052261585933379325, 0.0005158453886083092, 0.00857592958561314, 0.001483055492248889, 0.014153507849940484, 0.0008060084197004831, 0.00016120168394009662, 0.0003546437046682126, 0.24770250754235248, 0.00019344202072811594, 0.9814875081093914, 0.00028498475845220426, 0.002279878067617634, 0.015674161714871234, 0.9990069217208348, 0.8507766052437931, 0.017220147980884015, 0.03160403629432831, 0.08427743011820882, 0.0018233097862112484, 0.013776118384707211, 0.0003038849643685414, 0.0001532613720460129, 0.005298464576447874, 0.3874447485323206, 0.007356545858208618, 0.00796959134639267, 0.012107648391635018, 0.12488612373577963, 0.19575856106620015, 0.07761593770044509, 0.0008319903053926413, 0.0006349399699049105, 0.13522031910802507, 0.006568344516257695, 0.003765850855987745, 0.004619735643101246, 0.002649232288223937, 0.001269879939809821, 0.025747910503730164, 0.00010947240860429491, 1.5303334238895783e-05, 1.5303334238895783e-05, 0.008784113853126179, 0.0008263800489003722, 0.08436728165903244, 0.0021424667934454096, 0.6682047862071454, 0.002999453510823573, 0.06087666360232742, 0.0026168701548511786, 1.5303334238895783e-05, 0.014278010844889765, 0.0021577701276843052, 0.0015762434266062655, 0.00010712333967227046, 0.10008380592237841, 0.020016761184475682, 0.03091273516256948, 0.03284607384516015, 0.0504421848336388, 0.872767105028541, 0.0005865370329492883, 0.00019551234431642946, 0.02874031461451513, 0.012708302380567915, 0.0015640987545314357, 0.9684979275513269, 0.031019506576377018, 0.025769469470466145, 0.005856697606924124, 0.9640124260997108, 0.0011713395213848248, 0.0011713395213848248, 0.002672808364296089, 0.018589532331452576, 0.13260432957920654, 0.1433255945910459, 0.07303674092098976, 0.01381451514130563, 0.39665677388340165, 0.008453882635385945, 0.0010961517449079466, 0.013514199594755508, 0.011757353647437291, 0.009730223708223965, 0.045302600197085964, 0.01786877501973228, 0.029070544906051845, 0.026157484104515658, 0.015436219092676291, 0.006096405594967484, 0.03147306927845282, 0.0033485183440338647, 0.03873248780277598, 0.8965618488117981, 0.01206421751234006, 0.0019048764493168515, 0.0044447117150726535, 0.0019048764493168515, 0.020318682126046417, 0.0031747940821947526, 0.001269917632877901, 0.005079670531511604, 0.008254464613706356, 0.001269917632877901, 0.003809752898633703, 0.999485183417861, 0.9988648419284019, 0.7789959444762469, 0.0039007699277427274, 0.00542450818076723, 0.0014627887229035227, 0.2041809259052834, 0.004510265228952528, 0.00018284859036294033, 0.0013408896626615624, 0.9985544615933647, 0.03471120203919957, 0.007820310340847333, 0.00027439685406481875, 0.13239648208627505, 0.00013719842703240938, 0.022363343606282726, 0.00013719842703240938, 0.003292762248777825, 0.7551401423863812, 0.03183003507151897, 0.007134318205685287, 0.004527548092069509, 0.9991578541845529, 0.0023577819065352524, 0.9949839645578765, 0.9943512196138147, 0.9931447363457563, 0.9969413788965833, 0.9988141099588147, 3.122743146703639e-05, 0.0010305052384122011, 0.4191345851505625, 0.015176531692979688, 0.14797638857846312, 5.2045719111727326e-05, 0.010200960945898556, 0.018070273675591726, 0.034318947182273, 0.07229150384618925, 0.22487914313795143, 1.0409143822345465e-05, 0.0038617923580901675, 0.0009472320878334374, 0.000447593184360855, 5.2045719111727326e-05, 0.0003539108899597458, 3.122743146703639e-05, 1.0409143822345465e-05, 0.051119305311538576, 0.9970749967354917, 0.0072562879168884, 0.8939746713606509, 0.01306131825039912, 0.00145125758337768, 0.0145125758337768, 0.01741509100053216, 0.00145125758337768, 0.01306131825039912, 0.01015880308364376, 0.02467137891742056, 0.00290251516675536, 0.006144283012024507, 0.06764348270118722, 0.0009019131026824964, 0.0006200652580942163, 0.0010710218094354645, 0.011668500765954796, 0.02328063196299194, 5.636956891765602e-05, 0.15191598823308297, 0.044531959444948255, 0.07277311347269393, 0.004735043789083106, 5.636956891765602e-05, 0.0016910870675296806, 0.051352677283984634, 0.04069882875854765, 0.5056914027602922, 0.0034949132728946735, 0.011668500765954796, 0.03313173040855261, 0.0005282655298174782, 0.0043548043034953654, 0.0006501729597753578, 0.2899365042498236, 0.0006163097847870579, 0.00293255095398677, 0.07621246162866772, 0.09226360657312187, 0.12087798943823527, 8.127161997191972e-05, 0.07581964879880344, 0.18298305236677725, 0.0037452671537059673, 0.008885697116929889, 0.057513216400128526, 0.011093576126167043, 5.4181079981279814e-05, 0.03832634145175781, 0.0005092924707188368, 0.9992318275503578, 0.9993233911373954, 0.9990072974935507, 0.9996388990575528, 0.0256057244984663, 0.03334234691028361, 0.017145353538446734, 0.08759853117896366, 0.020165131963704456, 0.006139384236474376, 0.030172827406087482, 0.018018843165587398, 0.015847597520980604, 0.004567102907621182, 0.007012873863615039, 0.5585841381332093, 0.05597820667647165, 0.08158393117493795, 0.00793627718373517, 0.005565376767210512, 0.007437140253940504, 0.004018052284847051, 0.01180458838964382, 0.001472453942894261, 0.017919819362531883, 0.826580022241344, 0.07326710954554175, 0.001360998938926472, 0.0036293305038039253, 0.00045366631297549066, 0.045366631297549066, 0.008165993633558832, 0.00045366631297549066, 0.01315632307628923, 0.009526992572485304, 0.008058046874064534, 0.9105592967692923, 0.008058046874064534, 0.016116093748129067, 0.0483482812443872, 0.008058046874064534, 0.36596041336076024, 0.01995720360126993, 0.07799121321695422, 0.0005128189362210688, 0.01846148170395848, 0.07316216823420582, 0.04262807407337635, 0.03882466696307009, 0.03660245157277879, 0.0019658059221807638, 0.040640900695519705, 0.0011111076951456492, 0.22576853667132557, 0.005683743209783513, 0.002243582845967176, 0.00017093964540702296, 0.00017093964540702296, 0.00023504201243465655, 0.02997854031325665, 0.017884560400709775, 0.99924345178125, 0.0029973465229618285, 0.9951190456233271, 0.999673567802476, 0.0022143733305219214, 0.013190998119453167, 0.01288146206249849, 0.09886105449813999, 0.08102701552436666, 0.007762211889786521, 0.013048135323935624, 0.016405411018597892, 0.002452477989717827, 0.06314535561875415, 0.006905035116681261, 0.0014762488870146144, 0.029405925410694336, 0.18386441783107826, 0.017881659905612506, 0.04450176080371475, 0.2311996240792243, 0.09574188346267362, 0.0668121673703711, 0.011190918982207561, 0.9966255841455274, 0.003209744232352745, 0.0002508601180268425, 0.0011288705311207914, 0.001296110609805353, 0.003177561495006672, 0.03169199491072444, 0.007442183501462995, 0.008738294111268348, 0.0028430813376375485, 0.02082138979622793, 0.010786985075154229, 0.09114584288308612, 0.03524584658277138, 0.01902355895036889, 0.36675749255524376, 0.0025504111999395656, 0.0078602836981744, 0.030395884300919086, 0.10143110772218666, 0.01684943792746959, 0.24053304316807084, 0.09436461813885609, 0.9046694912877291, 0.9982040304195336, 0.9994386994423649, 0.999065189553793, 0.06427820015705417, 0.01847734076849091, 0.013586279976831551, 0.0008755602651735889, 0.0001660545330501634, 0.008846177851581432, 1.5095866640923947e-05, 0.48096940704647784, 0.0001358627997683155, 0.054194161240916965, 0.33200339503384035, 0.016122385572506774, 0.0023700510626250594, 0.0020228461298838086, 0.0007698891986871213, 0.0004528759992277184, 0.0021587089296521244, 0.0002264379996138592, 0.00229457172942044, 0.7251506809402698, 0.09738753549187167, 0.021255216079575166, 0.00023187508450445634, 7.729169483481878e-05, 0.0011593754225222817, 0.0007729169483481879, 0.07079919246869401, 0.01267583795291028, 0.023728550314289366, 0.0003091667793392751, 0.004173751521080214, 0.0019322923708704695, 0.0037100013520713015, 0.006415210671289959, 0.001391250507026738, 0.009429586769847892, 0.00038645847417409393, 0.00695625253513369, 0.012134796089066549, 8.628570273990005e-05, 0.7012439061671677, 0.025928853673339962, 4.3142851369950025e-05, 0.0014237140952083507, 0.00012942855410985008, 4.3142851369950025e-05, 0.06229827737820783, 0.19854340200451, 0.0003882856623295502, 8.628570273990005e-05, 4.3142851369950025e-05, 4.3142851369950025e-05, 0.009707141558238755, 0.6167601291018822, 0.02354220395824014, 0.0851472608177469, 0.2742704773304984, 7.602434001584545e-05, 0.0001267072333597424, 0.8039728559203775, 0.021697468253219703, 0.01609812160722752, 0.1395170539293052, 0.0006999183307490227, 0.017497958268725567, 0.9559153014455138, 0.0006967312692751559, 0.043197338695059664, 0.3223038890389243, 0.0007546922159824952, 1.6770938132944338e-05, 0.0019454288234215433, 0.0005366700202542188, 0.15410815050362553, 0.011504863559199816, 0.034078546286142895, 0.4382749262282344, 3.3541876265888676e-05, 0.0001341675050635547, 0.00010062562879766603, 0.004343672976432584, 0.0008720887829131056, 5.0312814398833014e-05, 0.03092560991714936, 0.8308444185736585, 0.003074761263555702, 0.0001098129022698465, 0.024378464303905924, 0.0007686903158889255, 0.012628483761032348, 0.08224986380011502, 0.000439251609079386, 0.000439251609079386, 0.03975227062168443, 0.005051393504412939, 0.000219625804539693, 0.9976938031383688, 0.011178702888326524, 0.9881973353280648, 0.9593234271462504, 0.030551701501472944, 9.498073742608321e-05, 0.9995772806720997, 0.00018996147485216642, 2.9347794312303793e-05, 0.0016141286871767086, 0.002289127956359696, 0.0689086210452893, 0.0008804338293691139, 0.008716294910754227, 0.00026413014881073414, 0.0017608676587382278, 0.0014086941269905822, 2.9347794312303793e-05, 0.0036684742890379742, 0.16120743415748473, 0.03445431052264465, 0.0010271728009306328, 0.0024652147222335185, 0.016669547169388555, 0.6893209928073916, 0.005223907387590075, 5.8695588624607586e-05, 6.303756521812137e-05, 0.00031518782609060687, 0.0032149158261241904, 0.05030397704406086, 0.01197713739144306, 0.011661949565352455, 0.00031518782609060687, 0.011094611478389362, 0.01821785634803708, 0.038705065043926526, 0.002521502608724855, 0.01147283686969809, 0.03895721530479901, 0.091404469566276, 0.03801165182652719, 0.6668113648772879, 0.0017020142608892772, 0.003340990956560433, 0.007076547910565677, 0.00044228424441035484, 0.9924858444568363, 0.037290389372713145, 0.007428364416875129, 0.12628219508687719, 0.00044570186501250776, 0.00014856728833750259, 0.7719556302016634, 0.00044570186501250776, 0.00014856728833750259, 0.05571273312656347, 4.1346885757218386e-05, 0.0014471410015026436, 0.586340186923114, 0.0006615501721154942, 0.002976975774519724, 0.009385743066888575, 0.3991214882144291, 0.9990666194766147, 0.997390588645184, 0.998446335842455, 0.9989604402395841, 0.9932217660293887, 0.005099983394245899, 0.9988453104133207, 0.9996992793737202, 0.20450573384330112, 0.00015393732317899972, 0.348873286764673, 0.00030787464635799943, 0.07165782393982437, 5.131244105966657e-05, 0.17982444969360148, 0.11519643017895145, 0.006157492927159988, 0.00859483387749415, 0.0009492801596038315, 0.0009749363801336648, 0.0008209990569546652, 0.0007953428364248318, 0.0015650294523198304, 0.05954808784974305, 0.9938080730116492, 0.0035054958483656056, 0.00027170819736214297, 0.9678245990039533, 0.031518150894008584, 0.9979181557647812, 0.0011774845495749631, 0.737246276287056, 0.2627234144578412, 5.688381121952061e-06, 0.007525728224342576, 0.11809648047284674, 0.8743553738741293, 1.1376762243904122e-05, 0.9997304711650391, 0.006918653550639916, 0.9923325949774966, 0.740090040494351, 0.24501751955106987, 0.014692655369995623, 0.015321680465689989, 0.08107722579760952, 0.9035003449611565, 0.051718304310612695, 0.0004040492524266617, 0.006868837291253248, 0.001212147757279985, 0.9398185611444151, 0.00461228075852351, 0.07871221241848675, 0.00012137580943482922, 0.07707363899111655, 0.00036412742830448764, 0.000606879047174146, 0.008556994565155459, 0.015111288274636238, 0.025488919981314136, 6.068790471741461e-05, 0.005037096091545412, 0.0012744459990657068, 0.6990639744398989, 0.004672968663240924, 0.07913702775150865, 0.999787203273397, 0.011563170118783371, 0.10002142152747617, 0.0005781585059391685, 0.017055675925205474, 0.8498930037305779, 0.020813706213810068, 0.2553459603072315, 0.00025094700689229593, 2.9523177281446584e-05, 0.007587456561331772, 0.036210176935694234, 0.01201593315354876, 0.4420652950237404, 0.03001030970659045, 7.380794320361645e-05, 0.026747998616990603, 7.380794320361645e-05, 0.0020370992324198144, 0.1582442302285537, 0.0038675362238695023, 0.010008357098410392, 0.004029913698917458, 0.008591244588900955, 0.0019485297005754744, 0.0008709337298026742, 1.4761588640723292e-05, 0.00012796319334586932, 0.010237055467669546, 0.35113100254106544, 0.638408371602542, 0.033705455485856954, 0.0005081224445104064, 0.9608595425691785, 0.0049118502969339286, 6.122261890189328e-05, 0.01750966900594148, 0.9823781428997795, 0.006906491119816979, 0.9910814756937365, 0.022187918008110773, 0.9757641214930534, 0.002017083455282798, 0.9999347932606361, 0.018753679360619, 0.9803059665778112, 0.35295601090726625, 0.0023602275970848316, 0.008450197569809892, 0.006235663034273506, 0.013549454724005514, 0.05615010592077124, 0.02411220168626788, 0.02383538486932583, 0.041537091847462064, 0.06921877354166688, 0.0030012770678979955, 0.0004953564092647178, 0.000524495021574407, 0.0018503018816652692, 0.2194865972227345, 0.0014277920031747747, 0.0005973415523486302, 0.00045164849080018383, 0.15608097683685063, 0.017701706978136236, 0.06416154484572469, 0.018702960440859017, 0.0007792900183691257, 0.06857752161648306, 0.0483159811388858, 0.01142958693608051, 0.004156213431302004, 0.7837059951398841, 0.0032560625821388047, 0.020838800525688348, 0.9755163496087859, 0.9983580622694951, 0.008503921493318101, 0.9807856122293543, 0.009921241742204451, 0.9993134957322922, 0.0010819150993200358, 0.996443806473753, 0.0021638301986400717, 0.08845330660088568, 0.35817101455050027, 0.04252515736665885, 0.06108247992505114, 0.025999837146454634, 0.047764295925360634, 0.02391887089650299, 0.020491397073053228, 0.013122328352636237, 0.03579261949916824, 0.028668370337569093, 0.06377549507204738, 0.013342665955572293, 0.004235378367548636, 0.03488678713154223, 0.05591678723399471, 0.003231618176395491, 0.0012975436617345532, 0.04563436576364542, 0.03170413286691031, 0.0007343684976119605, 0.00036718424880598027, 0.279060029092545, 0.001101552746417941, 0.7186713709755049, 0.9997197469539821, 0.9997345158129611, 0.9990968690730722, 0.9998602035613526, 7.966378802974684e-05, 0.08964947614046705, 0.15163368425321183, 0.757117841467538, 0.0014007730646947976, 0.014834382012174853, 0.2625816893871871, 2.6255543384380272e-05, 0.06789683519200738, 0.0012865216258346334, 2.6255543384380272e-05, 0.3734851046428094, 0.021923378725957527, 2.6255543384380272e-05, 0.22057281997217867, 0.0007088996713782674, 0.00034132206399694356, 0.00021004434707504218, 2.6255543384380272e-05, 0.036022605523369736, 0.05428941540462018, 0.0002600690558305158, 0.0005851553756186606, 0.08055639004350228, 0.039075375638535005, 0.01183314204028847, 0.6590149874745271, 0.00435615668516114, 0.01430379807067837, 0.13094476961066473, 0.004161104893288253, 0.0005851553756186606, 0.03209353503628666, 0.00036529226870570187, 0.0013046152453775066, 0.0013046152453775066, 0.011219691110246557, 0.012785229404699564, 0.0018786459533436095, 0.015916305993605582, 0.0008871383668567045, 5.2184609815100266e-05, 0.07196257693502327, 0.8501916631076135, 5.2184609815100266e-05, 0.00036147757505306666, 6.024626250884445e-05, 0.015242304414737645, 0.012410730076821955, 0.4228082702870703, 0.0012651715126857333, 0.05976429240877369, 0.12886675550641827, 0.35912797081522174, 0.04556693519532594, 0.7960504409338173, 0.054967563659691174, 0.0016973356949548343, 0.0011750785580456546, 0.0002611285684545899, 0.0033946713899096685, 0.05327022796473634, 0.028854706814232182, 0.0015667714107275394, 0.0002611285684545899, 0.0005222571369091798, 0.0006528214211364748, 0.011359092727774661, 0.06244970665129588, 0.0014958013569172667, 0.15724611764592766, 0.00018697516961465834, 0.07591191886355128, 0.012901286703411424, 0.0013088261873026082, 0.6886295496907866, 5.066317723824935e-05, 0.0022798429757212206, 0.01104457263793836, 0.0002026527089529974, 0.00045596859514424417, 0.9631576624763585, 0.0004053054179059948, 0.0002026527089529974, 0.0011145898992414858, 0.0002026527089529974, 0.0029891274570567118, 0.01788410156510202, 0.09135700679198842, 0.0017076076035885688, 0.8970890672610067, 0.00041396547965783485, 0.002302682980596706, 2.5872842478614678e-05, 0.007140904524097651, 0.9997537725930967, 0.9883304304154514, 0.011386295281284002, 0.8737023034592747, 0.0009120065798113514, 0.11582483563604164, 0.0036480263192454057, 0.0022800164495283787, 0.0018240131596227028, 0.0013680098697170272, 0.1350194071331716, 0.10969602476527632, 0.6065442637179859, 0.007301478669004128, 0.004925600689407547, 0.002086136762572608, 0.0013328095983102775, 0.0028974121702397336, 0.015761922206104152, 0.0012748613549054828, 0.010720425029887013, 0.03795609943014051, 0.001970240275763019, 0.0006374306774527414, 0.0016225508153342508, 0.01141580395074455, 0.0007533271642623308, 0.0002897412170239734, 0.01610961166653292, 0.031813585629232276, 0.06275094411816276, 0.053619362487804884, 0.05538602526553744, 0.000871859552647234, 0.0027073533476940424, 0.21589995764238082, 0.01780428981195404, 0.04487782328889446, 0.00045887344876170206, 0.008535046146967658, 0.0027991280374463825, 0.05396351757437616, 0.003533325555465106, 0.00013766203462851063, 0.009200412647672126, 0.030239760273396168, 0.00011471836219042551, 0.00011471836219042551, 0.00993461016569085, 0.42705057509007804, 0.02165478585871896, 0.005158114228149795, 1.5489832516966352e-05, 1.5489832516966352e-05, 0.00013940849265269717, 0.00012391866013573082, 1.5489832516966352e-05, 0.0014405544240778706, 0.09292350526928114, 0.8711481807541875, 1.5489832516966352e-05, 0.00020136782272056256, 0.007125322957804521, 1.5489832516966352e-05, 0.05644755045167911, 0.0575720036479277, 0.05462031400777515, 0.43752473866032554, 0.0003935586186870058, 0.026508984101560457, 0.006915387156928816, 0.00047789260840564986, 0.011722424570891529, 0.020155823542755937, 0.011891092550328816, 0.08020162422243053, 0.06325049228898307, 0.12056949396775483, 0.0011806758560610172, 0.03353681657811413, 0.0030641349597774017, 0.007055943806459889, 0.006325049228898307, 0.0006184492579367233, 0.9331197471678451, 0.0656916302006163, 0.0014929915954685522, 0.1819254793048714, 0.30682890906336635, 0.08098018373888888, 0.023039105235392206, 0.02793002945546859, 0.04630004504664101, 0.040796434855151165, 0.03401463496467808, 0.011218491407605008, 0.024053206153593788, 0.019067209972436005, 0.06953985775542727, 0.02022920060787532, 0.0014683336211460416, 0.025764501453058957, 0.04035276570343797, 0.0022394728610284948, 0.00025352522955039567, 0.01632068665230672, 0.02768706777714946, 0.1318257955168223, 0.7146583366545537, 0.005417498445896806, 9.029164076494678e-05, 0.03322732380150041, 0.004785456960542179, 0.017787453230694514, 0.010473830328733827, 0.0009932080484144146, 0.0030699157860081903, 0.0020767077375937757, 0.002708749222948403, 0.012460246425562654, 0.013092287910917282, 0.005146623523601966, 0.020315619172113025, 0.0003611665630597871, 0.001173791329944308, 0.018329203075284194, 0.0018961244560638823, 0.07104640559591971, 0.026728238833855295, 0.08629893319132627, 0.03006926868808721, 0.010221174336662055, 0.0034598807186117034, 0.0018619968752833977, 0.002020464694456453, 0.007857362700663983, 0.1142685032753705, 0.01733902054785178, 0.0324859029304763, 0.005810486703012021, 0.5695333421079601, 0.002812803790321728, 0.00566522453543672, 0.0006866938830832389, 0.006034982780173849, 0.002139315558836244, 0.0036711711441757768, 0.9996480756139586, 0.009791770675478996, 0.01375986433113958, 0.31542062447045893, 0.1544701782070462, 0.01627203873184556, 0.08735515529727617, 0.09925943626425791, 0.02851888893528722, 0.006651552674596518, 0.048787568759165026, 0.004681779564952056, 0.07433752431179971, 0.02646347351652778, 0.015358520767952476, 0.032772456954664395, 0.032115865918116236, 0.0024836269643343225, 0.00045675898194654207, 0.01707136695025201, 0.013931148949369532, 0.003620862114189522, 0.5790924560930903, 0.10942368050169352, 0.0009205581646244547, 0.03534943352157906, 0.06609607622003584, 0.0008591876203161577, 0.20356609547062107, 0.0003682232658497819, 0.0006137054430829698, 0.6780050462395926, 0.005487418233487617, 0.04748494365402088, 0.02966597627772886, 0.011713760335060764, 0.012028711491949676, 0.003052603520615628, 0.016874113905625276, 0.0720269068792878, 0.015590082266001243, 0.02108961400552305, 0.007425579198957857, 0.001029648012906065, 0.01042972869543673, 0.020156874040890498, 0.001708004350820649, 0.006311136643812469, 0.0017806853870257831, 0.00399745699128237, 0.03414797351037879, 0.01047655113538147, 0.022262671162685627, 0.9580806013306356, 0.00890506846507425, 0.9994128265279135, 0.01413008664527149, 0.9850688975560697, 0.0045489738121509285, 0.994405675336193, 7.005618060772929e-05, 0.0009107303479004808, 7.005618060772929e-05, 0.03958174204336705, 0.7922653464928106, 0.026621348630937132, 0.04014219148822889, 0.10032045063026834, 0.9995430202045494, 2.2963531594017568e-05, 0.010792859849188256, 0.0001377811895641054, 0.055020621699266095, 0.11141905529417324, 0.002594879070123985, 0.01926640300738074, 4.5927063188035136e-05, 0.0016304107431752474, 0.050864222480748914, 0.0014467024904231067, 0.013709228361628488, 0.038647623672731564, 0.6132870382814272, 0.013020322413807961, 0.007279439515303569, 0.0018830095907094405, 0.010333589217307905, 0.048062671626278766, 0.0005281612266624041, 5.204810981538002e-05, 0.16348311293010867, 0.015874673493690906, 0.5230835036445692, 0.0003122886588922802, 0.0009889140864922205, 0.0033831271379997016, 0.047155587492734304, 0.0006245773177845604, 0.0010409621963076005, 0.0002081924392615201, 0.04023318888728876, 0.004684329883384203, 0.1988237794947517, 0.9478980480616417, 0.015266951034626155, 0.0022451398580332583, 0.034126125842105524, 0.6813318751844796, 0.07467878985383561, 0.0215197884999046, 0.00038428193749829643, 0.0011528458124948893, 0.02049503666657581, 0.0017933157083253833, 0.0213916945207385, 0.06250986183305622, 0.03791581783316525, 0.0038428193749829643, 0.021647882479070697, 0.001409033770827087, 0.03535393824984327, 0.009478954458291312, 0.005123759166643952, 0.001253407778825819, 0.008819022299666347, 0.0006888096802556302, 0.009507831979921978, 0.10273427001583153, 0.22320821228873838, 0.06730009334956649, 0.017254117892304965, 0.022279040969579646, 0.12229194815030286, 0.015549031634622996, 0.0016260425238821435, 0.029076802076364715, 0.011574261020688868, 0.053817490755710386, 0.14018970787497784, 0.035772935525407154, 0.01100966292211868, 0.12469713605021188, 0.001355035436568453, 0.0001288570351994073, 0.0012026656618611348, 0.039730919186483915, 0.017997032582850552, 0.0003006664154652837, 0.0031784735349187133, 8.59046901329382e-05, 0.0002577140703988146, 0.9363611224490264, 8.59046901329382e-05, 4.29523450664691e-05, 8.59046901329382e-05, 0.0005154281407976292, 0.9962919921705561, 0.016938319088747066, 0.9824225071473298, 0.9988249268001591, 0.9906397876852634, 0.0079523836167395, 0.14544067106302652, 0.34464894902981114, 0.08173805227993883, 0.054953034457541745, 0.039683598586185774, 0.026643895494565695, 0.03818770191117308, 0.014761395491162985, 0.008043972686389008, 0.02060385986338237, 0.02181751188273229, 0.056900522581614876, 0.026022957252107598, 0.008890706653377324, 0.025345570078516944, 0.03522413302671397, 0.0047981591462671275, 0.001665243468410356, 0.022720694780853163, 0.021873960813864845, 0.9979123721551528, 0.0012125302213306839, 0.0002650049427897044, 0.9994219742409051, 0.0001766699618598029, 0.05467731206929005, 0.6392317514023438, 0.03214932083044093, 0.04951464741038713, 0.00856533000227076, 0.01818665959386257, 0.016661326853732162, 0.009621329591591812, 0.009151996440782455, 0.020181325484802337, 0.01114666233172222, 0.029333321925584792, 0.016309326990625143, 0.0010559995893210526, 0.006218664248223976, 0.032735987268952625, 0.002229332466344444, 0.0010559995893210526, 0.02686932288383567, 0.015135994113601753, 0.9997426132109777, 0.9993910284557052, 0.0015722185216982968, 0.8570020232820897, 0.008004021565009511, 0.0217252013907401, 0.026298927999316966, 0.00028585791303605397, 0.02801407547753329, 0.00014292895651802699, 0.05116856643345366, 0.005860087217239106, 0.00017587210533048537, 0.8652907582259881, 0.00017587210533048537, 0.00017587210533048537, 0.00017587210533048537, 0.020049420007675334, 0.00017587210533048537, 0.11343750793816307, 0.02425419537169115, 0.975604100037163, 0.009073837970784126, 0.9907496834349918, 0.000343773001994743, 0.03936200872839807, 0.0018907515109710864, 0.9312810624037587, 0.025954861650603095, 0.000687546003989486, 0.0001718865009973715, 0.009481908728834986, 0.01285776339299219, 0.03648874604209261, 0.02625049829014044, 0.02239501400156746, 0.01728511377221475, 0.004335113912988758, 0.0017340455651955033, 0.09149857450393294, 0.05266702221950172, 0.008983831811172448, 0.1921839010447527, 0.08902663720886701, 0.10409807579147048, 0.004980769176625382, 0.04215206506884814, 0.0688084038104173, 0.1462132462738251, 0.008946937224678927, 0.059603204480283736, 0.999666712509556, 0.9995706674935193, 0.9990791677872536, 0.056060550023846335, 0.257120283202497, 0.13023822901881374, 0.06937648443915574, 0.01513386245100508, 0.025808362968295112, 0.08402867364993376, 0.031883660933739656, 0.017666531423811888, 0.011249400836270717, 0.029459756886145414, 0.0971581539077359, 0.0125701177852804, 0.012709958403410838, 0.017619917884435073, 0.060721903961527574, 0.0029211151342802416, 0.00034183262209662403, 0.027268920535435233, 0.04064700633658038, 0.9992012289180164, 0.9929087796244024, 0.5360847349976211, 0.015895354794861868, 0.09590567913990783, 0.0011560258032626812, 0.007202930004944399, 0.1081995689322975, 0.011849264483442484, 0.0011115632723679627, 0.060091110504212064, 0.0003112377162630296, 0.02743338156204132, 0.02325390365793778, 0.04319534876421903, 0.0013561071922889147, 0.004824184602076958, 0.005935747874444921, 0.03388044854177551, 0.015739735936730354, 0.0033346898171038885, 0.003223533489867092, 0.9986643406909651, 0.9068359756445927, 0.0024418336604364664, 0.08989000162481742, 0.0006104584151091166, 0.0010863159878577381, 0.971166493144818, 0.018467371793581547, 0.008690527902861905, 0.00027157899696443453, 0.022035700663217948, 0.0027093074585923704, 0.003612409944789827, 0.9542180869162329, 0.0012643434806764396, 0.011198470828848464, 0.0010837229834369483, 0.0027093074585923704, 0.00018062049723949135, 0.0007224819889579654, 0.07317497149118106, 0.8902954864760362, 0.02439165716372702, 7.0642514113872e-05, 0.7692969787000662, 0.005015618502084913, 0.209737624404086, 7.0642514113872e-05, 0.01582392316150733, 0.9979619960149677, 0.9981954904961754, 0.9971931651521739, 0.9953844891343024, 0.9981777217993119, 0.07303691199485225, 0.001064290156573439, 0.001064290156573439, 0.9239368921753167, 0.0007982176174300792, 0.9957409027508098, 0.8353478275957833, 0.16458896952970933, 5.6539193109948485e-05, 0.8876087926330813, 0.001300401441528815, 0.04195208128758178, 0.00486237060745557, 0.029683076382722957, 0.022219902892209754, 0.0010742446690890212, 0.0032792732003770124, 0.00016961757932984546, 0.0006784703173193818, 0.0055973801178849005, 0.001300401441528815, 0.00016961757932984546, 0.998616411893185, 0.7499875841286342, 0.017401327102587207, 0.019227985748715145, 0.0032687575772815747, 0.1706483735198469, 9.613992874357572e-05, 0.03932123085612247, 0.003410436772535362, 0.0009567741171818663, 0.0005246825803900557, 0.0389808293548612, 0.00933626356282305, 0.017005888340877687, 0.034058072203554494, 0.054937352534958774, 0.0075461700532569774, 0.055276853028152335, 0.0016512069441687047, 0.013518292365343788, 0.0036882099033300974, 0.011033766028790876, 0.05186641625561698, 0.5324602280523083, 0.006481373051877158, 0.0041665969619210305, 0.1481919652789913, 0.004907325310706991, 0.08327888315019932, 0.029852384195168048, 0.0012941279615948655, 0.0007170168435863444, 0.03132139431373519, 0.03403206774680552, 0.13126654702339272, 0.09964785304280464, 0.06000206805718897, 0.015651953049018983, 0.03198594651022985, 0.08121527369792643, 6.995286278891166e-05, 0.0037774545906012293, 0.034469273139236214, 0.11110263432448893, 0.07516435106668558, 0.14574678962069743, 0.006383198729488188, 0.02304946828894639, 0.9734209081695459, 0.013457431910178053, 0.008971621273452034, 0.9990295832680324, 3.769737511086067e-05, 3.769737511086067e-05, 0.00011309212533258201, 0.13925410365951932, 0.7530050678394419, 0.0041844086373055344, 0.0113092125332582, 0.007200198646174388, 3.769737511086067e-05, 0.0049006587644118875, 0.0789760008572531, 0.00030157900088688535, 0.0005654606266629101, 3.769737511086067e-05, 3.769737511086067e-05, 0.120811259443917, 0.8764980149451529, 0.001232767953509357, 0.0008879669539074076, 0.0008879669539074076, 0.9980748561919262, 0.9969926255994175, 0.9991438721196857, 0.0027811687526990148, 0.002139360578999242, 0.001176648318449583, 0.993626020916198, 0.00010696802894996211, 0.004436912016909911, 0.0004560159572935187, 1.2324755602527532e-05, 1.2324755602527532e-05, 0.0006408872913314317, 0.000184871334037913, 2.4649511205055064e-05, 0.36794325375785697, 0.0038822980147961727, 0.5802864680338038, 2.4649511205055064e-05, 4.929902241011013e-05, 0.009514711325151255, 0.011831765378426432, 3.69742668075826e-05, 0.012189183290899729, 0.006864888870607835, 0.0016145429839311068, 0.9958425743554125, 0.9993647514006133, 1.901891973860896e-05, 0.0005325297526810509, 0.006865830025637835, 0.00017117027764748064, 0.031152990531841476, 0.0009129081474532301, 1.901891973860896e-05, 0.00032332163555635234, 0.0021491379304628124, 0.013769697890752887, 0.0027767622818369083, 0.5466988478863145, 0.35753667216610985, 0.002833819041052735, 0.0021491379304628124, 0.01042236801675771, 0.02139628470593508, 0.00020920811712469856, 1.901891973860896e-05, 0.9995530866338321, 5.1138806718775024e-05, 0.0007415126974222379, 5.1138806718775024e-05, 5.1138806718775024e-05, 2.5569403359387512e-05, 0.0007670821007816253, 0.00010227761343755005, 0.9683900134300832, 0.018230984595243294, 5.1138806718775024e-05, 0.001508594798203863, 0.010048775520239292, 0.03821237522316413, 0.004389259316174259, 0.9212280729476326, 0.005163834489616775, 0.0012909586224041938, 0.02917566486633478, 0.0002581917244808388, 0.09334375731883075, 0.04094796901250595, 0.7606195319258496, 0.03874646530215616, 0.004623157791734542, 0.0001100751855174891, 0.003302255565524673, 0.03885654048767365, 0.006714586316566835, 0.012768721520028736, 0.001018733550795447, 0.8380781344543877, 0.12156887039492334, 0.03905145278049214, 0.9300610957465507, 0.04375989706110878, 0.004789640474350214, 0.002177109306522825, 0.005007351405002497, 0.0006531327919568474, 0.009361570018048146, 0.00021771093065228248, 0.0037010858210888018, 0.004190909243197543, 0.9953409452594164, 0.9986983410462523, 0.00897841092033189, 0.9891216030565633, 0.9960101201034778, 0.0023073593515910685, 0.0007691197838636894, 0.06624224324990147, 0.6343330672478045, 0.045562277494089164, 0.02643054446865852, 0.009842336643140619, 0.01802585250372945, 0.011169393269182051, 0.006192930921526682, 0.0077411636519083525, 0.01481879899079599, 0.03804228994652105, 0.024882311738276847, 0.009842336643140619, 0.0026541132520828637, 0.010063512747480859, 0.02786818914687007, 0.0016588207825517897, 0.00044235220868047727, 0.02134349406883303, 0.02300231485138482, 0.2633999800289673, 0.4567247580380064, 0.02632850084095745, 0.0027018330557314414, 0.020033804679200157, 0.029777649422742268, 0.0034491485817848186, 0.05443906178250372, 0.004742579299954126, 0.03523880134390157, 0.013164250420478725, 0.01790682972043285, 0.0027305759605796482, 0.0003449148581784819, 0.017102028384683058, 0.02069489149070891, 0.0021557178636155117, 0.00031617195333027504, 0.017619400671950784, 0.011094761271407834, 0.9873299324108216, 0.007206787827816216, 0.9989053919969039, 0.9192606024071079, 0.019711240987286913, 0.050174067967639416, 0.010154275660117501, 0.020952103285686658, 0.972526794177289, 0.0026190129107108323, 0.0008730043035702775, 0.0026190129107108323, 0.9979077206220719, 0.000550439108299526, 6.115990092216955e-05, 0.008073106921726381, 0.0011620381175212215, 0.0910059325721883, 0.8989893836549703, 0.9977806908572838, 0.0015186890388621441, 0.9962600094935665, 0.19417215213617406, 0.003084846611227471, 0.02196735507889878, 0.013032123929536404, 0.129590617729547, 0.027373954665944823, 0.011067563719228382, 0.21239980720040935, 0.04233816673619738, 0.046813900328276536, 0.028683661472816837, 0.025279506177269328, 0.027828563640230976, 0.05796805623308323, 0.07051309911874161, 0.009216655752491901, 0.05349232264100408, 0.004924930554766664, 0.006240049373237323, 0.014017110040489738, 2.9960904211194984e-05, 0.003595308505343398, 0.0026365595705851587, 0.10180715250964055, 5.992180842238997e-05, 0.3051518093910209, 5.992180842238997e-05, 0.020463297576246174, 0.00029960904211194983, 0.4174452783745797, 0.0005992180842238997, 0.00011984361684477994, 0.0013782015937149692, 0.002247067815839624, 0.1414154678768403, 0.00029960904211194983, 0.0024268332411067936, 0.07883188384848067, 0.920584886280793, 0.001104474362554387, 0.9973403493866113, 0.9989337526306262, 0.9836738025275243, 0.014799505554576594, 0.1272638632363796, 0.34262570642152046, 0.04467200703441585, 0.05854676534438896, 0.03293571268726627, 0.03891330880382022, 0.03517520644360901, 0.028153635794023107, 0.017326609588546517, 0.03850918962974333, 0.01562594139763962, 0.04839327109570719, 0.017764405360463146, 0.00119551922331079, 0.05007710098769421, 0.04421737296357935, 0.002710966126099115, 0.00028625108163779473, 0.034400644693294985, 0.021182580041196813, 0.00013318379195055704, 0.0002441702852426879, 0.017491471342839824, 0.002641478540352715, 0.8235197802276111, 0.03733585634347283, 0.002574886644377436, 0.00011098649329213087, 0.014628019815902848, 0.014938781997120815, 4.439459731685235e-05, 0.0006215243624359329, 2.2197298658426174e-05, 0.0016426001007235369, 0.00011098649329213087, 0.007835646426424439, 0.05795714679715074, 0.018112995705275758, 4.439459731685235e-05, 0.9993295487705721, 0.00023005196094779632, 0.009719695350044395, 0.00017253897071084723, 0.00805181863317287, 0.35715566937145377, 0.0017253897071084724, 0.10179799271939988, 5.751299023694908e-05, 0.03565805394690843, 0.005291195101799316, 0.18363897782657843, 0.0027031105411366068, 5.751299023694908e-05, 0.002127980638767116, 0.00373834436540169, 0.005808812013931857, 0.2800307494637051, 0.002127980638767116, 0.9990564025708599, 0.16113666824103273, 0.04307570604778829, 0.03333811835238302, 0.021421235207182705, 0.048381816708158824, 0.042995531298799176, 0.03989787054240154, 0.05494156889817735, 0.13002886563325602, 0.10635544884083363, 0.009307559496281835, 0.03701157957879339, 0.0242565058759796, 0.001202621234836729, 0.08634820466127713, 0.06042989489715951, 0.036501376630680836, 0.004825062166435846, 0.037631111730072914, 0.020911032259070154, 0.7524397708953365, 0.24672182108950438, 0.0008237790353572767, 0.0030335737303220623, 0.009100721190966186, 0.9869226535981109, 0.9991144676675179, 0.0006212771281299549, 0.9306731379386726, 0.06834048409429505, 0.9982846785828559, 0.9960223390599562, 0.012022038260400289, 0.0075755309586084014, 0.10803365888798068, 0.0011527981893534524, 0.8710213747843442, 0.9970339701324459, 0.9988339741682769, 4.51153819233551e-05, 0.003940076687973012, 0.04206257441320807, 0.0021956152536032813, 0.0022106537142443997, 1.5038460641118366e-05, 0.00025565383089901225, 0.0024061537025789385, 3.0076921282236732e-05, 0.9424302514576057, 6.0153842564473464e-05, 1.5038460641118366e-05, 4.51153819233551e-05, 1.5038460641118366e-05, 0.00042107689795131426, 0.0038348074634851834, 0.9981171474844257, 0.9943573502402118, 0.00010932745890601282, 0.00010932745890601282, 0.0003279823767180385, 0.034000839719769985, 0.00021865491781202564, 0.9498369629754394, 0.015305844246841796, 0.0014726754797323486, 0.0002945350959464697, 0.0002945350959464697, 0.0002945350959464697, 0.0011781403837858788, 0.022973737483824638, 0.0008836052878394091, 0.02945350959464697, 0.942512307028703, 0.0002945350959464697, 0.9948131237159077, 0.9999254085889012, 0.8457545204887803, 0.1516733166197219, 0.002260032863538902, 0.3026170805861872, 0.005816554133706621, 0.0014932049417873713, 0.0031600383651779257, 0.024446890209728126, 0.0976833837499506, 0.012640153460711703, 0.10626063074114783, 0.1931790486317011, 0.0400040021613733, 0.0339270053052619, 0.0013890278528254619, 1.7362848160318272e-05, 0.0903736246744566, 0.00442752628088116, 0.03970883374264789, 0.016564157144943633, 0.025974820847836134, 0.0003298941150460472, 0.9987965101588437, 0.5853186625334235, 0.19237006111311059, 0.012983038725325474, 0.005668319443484491, 0.0034339196628578243, 0.02121503791710793, 0.00032927996767129826, 0.06084623402611775, 0.0050803195012143155, 0.005832959427320141, 0.04346495573261137, 0.024931197552255438, 0.0006350399376517894, 0.00011759998845403509, 0.0039278396143647715, 0.013053598718397895, 9.407999076322807e-05, 0.0020932797944818245, 0.017075518323525895, 0.001528799849902456, 0.023338789142769573, 0.6841737772233351, 0.292421299259407, 0.9986491061561579, 0.008224932770837594, 0.0002741644256945865, 0.9908302344602357, 0.0002741644256945865, 0.9818112269014887, 0.017480318579848463, 0.1601620786343999, 0.7954461130263498, 0.04393600881198849, 0.000510883823395215, 0.37239979223915404, 0.012316159981885207, 0.0013628537684872975, 0.004883559337079482, 0.007205458350057841, 0.07922218480151161, 0.023383037342657058, 0.0988573742808286, 0.025805888486634475, 0.04303084583834893, 0.0567350976214712, 0.12596302145407595, 0.0373901455187765, 0.02642422028900371, 0.023496608490031, 0.020253521281686226, 0.004050704256337245, 0.008707121298668845, 0.0008328550807422373, 0.027660883893742185, 0.9898683810618596, 0.0007407346328724317, 0.006666611695851886, 0.0014814692657448634, 0.0009876461771632424, 0.9986395759052002, 0.00932511071256548, 0.9893094728694467, 0.996128353666256, 0.003739436499469052, 0.17223300231669406, 0.4294468868278805, 0.053518901773069553, 0.027925556265526466, 0.02634026267840051, 0.02681280211302459, 0.010837920581216876, 0.02259043361654488, 0.011279973600703921, 0.013566454735981743, 0.03272716664960989, 0.04795513101056018, 0.0055180411398038105, 0.003399235287779695, 0.021980705313804128, 0.04109568760472672, 0.004588205478124162, 0.001707239247674107, 0.02144719304890597, 0.02505983324264493, 0.9879013901955255, 0.011382732816079433, 0.04740967650533697, 0.9523522736598391, 0.9992373935580141, 0.9579303493533919, 0.04141171581527728, 0.0012808436575653143, 0.029486656116716387, 0.10404810818264618, 0.16511982385506893, 0.01152759291808783, 0.028614592349863407, 0.018531355045625825, 0.005259634593832036, 0.029132380211432364, 0.458978061291809, 0.006240706331541638, 0.0015806155774210262, 0.013489736393507035, 0.027824284561152893, 0.001226339672137003, 0.025943897063876155, 0.0025071833297023176, 0.0057501704626868365, 0.03229361136627441, 0.03114902767227988, 0.00015637981267901377, 0.0064115723198395645, 0.9163857022990207, 0.002189317377506193, 0.07459317064788958, 0.0007946670965343651, 0.02304534579949659, 0.9710831919649942, 0.003973335482671826, 0.024840215121506033, 0.000540004676554479, 0.0008100070148317185, 0.1333811551089563, 0.8397072720422147, 0.9976259002916655, 0.07297575494877251, 0.0010474988748627634, 0.05237494374313817, 0.0043645786452615135, 0.002094997749725527, 0.7707845887531833, 0.0013966651664836845, 0.01588706626875191, 0.00034916629162092113, 0.07803866617727587, 0.0005237494374313817, 0.049443819168839075, 0.9295438003741746, 0.014833145750651722, 0.004944381916883908, 0.955898874344488, 0.04395982771327331, 0.006527176754736943, 0.1440813831786377, 0.02941258661085166, 0.1066105536607034, 0.009146105699538803, 0.002175725584912314, 0.0022160167994477275, 0.5296683062825424, 0.0004834945744249587, 0.021878129492729385, 0.0005640770034957852, 0.037269373445257235, 0.015431535167063267, 0.002336890443053967, 0.006406303111130703, 0.007333001045445208, 0.00012087364360623968, 0.04621402307211897, 0.030298993330630748, 0.0018936870831644218, 1.7477209130343365e-05, 8.738604565171682e-05, 0.004124621354761034, 0.008013300386262433, 0.0003320669734765239, 0.00010486325478206018, 0.007724926435611767, 2.6215813695515046e-05, 0.0006641339469530478, 0.0011098027797768037, 0.00010486325478206018, 0.002988602761288715, 0.01195441104515486, 5.243162739103009e-05, 8.738604565171683e-06, 0.37297238144609257, 0.5849621895925924, 0.004753800883453395, 0.0010535699213060142, 0.00011706332458955714, 0.020251955153993383, 0.9226931244148893, 0.008077369396679442, 0.020134891829403825, 0.00023412664917911427, 0.02727575462936681, 0.9987054207234701, 0.0013956641746517267, 0.0069783208732586335, 0.9839432431294673, 0.0069783208732586335, 0.010971107994459712, 0.02258757528271117, 0.9661028628062464, 0.18081133194182467, 0.06553483495235428, 0.01120553925011956, 0.06690136412919813, 0.015207517553733688, 0.0037872380043958093, 0.0016788787029795855, 0.005700378851977197, 0.0002733058353687697, 0.2002355680983908, 0.28021656863452293, 0.059053582285037744, 0.05255280777233772, 0.02846285056911902, 0.0018936190021979047, 0.013919075758423773, 0.0005270898253540559, 0.006129859450413835, 0.003982456458230645, 0.001874097156814421, 0.010613811259253293, 0.9870844471105562, 0.005200424464970985, 0.9620785260196322, 0.01040084892994197, 0.005200424464970985, 0.015601273394912954, 0.005819852568309647, 0.0004758370024404114, 0.005161001334161385, 0.00032942561707413094, 0.029355482765939224, 0.00025621992439099075, 0.0012078939292718136, 0.0031478447853750292, 0.722357172550886, 0.0005124398487819815, 0.012847599065891108, 0.003989710251231141, 0.005051192795136675, 0.010761236824421611, 0.0016471280853706549, 0.12510852879548662, 0.0011712910829302435, 0.0060028668000174975, 0.06471383233189595, 0.0034041868989074476, 0.0029196958795872866, 0.00011474787299688026, 0.3398577002894267, 0.0018614654952827242, 0.0010582303843045624, 0.002639201078928246, 5.099905466528011e-05, 0.019417890063805406, 0.003493435244571688, 0.0054823983765176125, 0.0009944815659729623, 0.10737850959774728, 0.4820813139872266, 0.0005609896013180813, 0.0007267365289802416, 0.025461278041641097, 0.0023969555692681653, 6.374881833160014e-05, 0.9988331815348845, 0.001065508274487107, 0.026113982456073846, 0.2162801202586033, 0.002925632889269684, 0.01152193693428431, 0.2657088685174374, 0.10409474057870653, 0.1771452654990514, 0.020280776139813918, 0.08318188325911212, 1.8059462279442493e-05, 0.00016253516051498244, 0.031333167054832724, 0.00019865408507386742, 0.04016424410948011, 0.008596304045014626, 0.0007043190288982572, 5.417838683832748e-05, 0.007729449855601387, 0.002708919341916374, 0.8446728638680105, 0.008419909667147708, 0.0005613273111431806, 0.01596664351696158, 0.13029030588645601, 0.003266004260618802, 0.725052945857374, 0.005007873199615496, 0.0004354672347491736, 0.003266004260618802, 0.06727968776874732, 0.009144811929732644, 0.009362545547107233, 0.013064017042475208, 0.16351794664831468, 0.0006532008521237604, 0.1212349475696981, 0.015524427473189453, 0.000144413278820367, 0.0002166199182305505, 0.011480855666219177, 0.028882655764073402, 0.049966994471846986, 0.05242202021179322, 0.0035381253310989916, 0.009314656483913672, 0.04700652225602946, 0.5326683789289237, 0.0002166199182305505, 0.07401180539543809, 0.009964516238605323, 0.033937120522786246, 0.000866479672922202, 0.005054464758712845, 0.0033937120522786247, 0.9919103837586298, 0.007504996598425951, 0.005718129344978192, 0.0018393982508321455, 0.05298266700766506, 7.997383699270198e-05, 3.998691849635099e-05, 0.10836454912511118, 3.998691849635099e-05, 0.024392020282774103, 0.6619834357070906, 0.0021193066803066023, 0.00011996075548905296, 0.006237959285430754, 0.0007997383699270197, 0.007837436025284793, 0.00031989534797080793, 0.00023992151097810592, 0.08417246343481884, 0.00015994767398540396, 0.04254608128011745, 0.07901517932059171, 0.007790228947100591, 0.0008585150268233305, 6.359370569061707e-05, 0.028744354972158916, 0.18680651046618765, 0.12044647857802873, 0.07841103911653084, 0.02089053231936771, 0.03434060107293322, 0.03942809752818258, 0.24200584700564326, 0.00022257796991715975, 0.0006995307625967878, 0.05017543378989687, 0.06019144243616906, 0.0011764835552764159, 0.0001907811170718512, 0.019014518001494504, 0.02953927629329163, 0.03065145951340234, 3.349886285617742e-05, 0.00033498862856177423, 0.004656341937008661, 0.006264287354105178, 6.699772571235484e-05, 0.8200186638563671, 0.01959683477086379, 0.00023449203999324194, 0.1180834915680254, 0.0026919642465102773, 0.0017293830916975117, 0.014732386149083518, 0.0811178559615097, 0.04930373304820641, 0.08185202802873977, 0.05113100574886794, 0.007325405737473422, 0.0017293830916975117, 0.3717847348453103, 0.03249935017605135, 0.012562499817047962, 0.1437835206333035, 0.09451241745475174, 0.014879220562529534, 0.00016314934827335015, 0.024668181458930544, 0.007831168717120807, 0.0009299512851580959, 0.004780275904409159, 0.00073094070816398, 0.9875008967295369, 0.00219282212449194, 0.00219282212449194, 0.00036547035408199, 0.00621299601939383, 0.00073094070816398, 0.005567578905120506, 0.00023198245438002112, 0.9938901620488038, 0.00023198245438002112, 0.9964534403355714, 0.9982390681382763, 0.011948314777356703, 0.002133627638813697, 0.004267255277627394, 0.0017069021110509577, 0.9793350862154869, 0.015099332332260535, 0.9275536087548865, 0.0009741504730490668, 0.0045460355408956455, 0.00016235841217484447, 0.0009741504730490668, 0.00032471682434968895, 0.02467847865057636, 0.0004870752365245334, 0.014125181859211468, 0.0012988672973987558, 0.006331978074818934, 0.002110659358272978, 0.00016235841217484447, 0.0009741504730490668, 0.00016235841217484447, 0.0015000212907812598, 0.9555135622276625, 0.0037500532269531496, 0.01050014903546882, 0.020250287425547006, 0.00825011709929693, 0.00016129623045939862, 0.053872940973439136, 0.028549432791313556, 0.0035485170701067695, 0.0808094114601587, 0.020484621268343623, 0.011290736132157904, 0.003709813300566168, 0.7645441323775495, 0.028710729021772952, 0.0016129623045939862, 0.002258147226431581, 3.8809064866942744e-05, 7.761812973388549e-05, 3.8809064866942744e-05, 0.012418900757421678, 0.20464019904338906, 0.00034928158380248466, 0.0012418900757421678, 0.7811876667066905, 0.9974995324584548, 0.0023045627949863884, 7.681875983287961e-05, 0.9974915964299417, 0.0006531676490535404, 0.1467177831686515, 0.0003265838245267702, 0.002694316552345854, 0.09822008522642614, 0.7216686062480304, 0.0005715216929218478, 8.164595613169255e-05, 0.0001632919122633851, 0.028576084646092393, 0.00040822978065846276, 0.0008041368110149962, 0.9987379192806252, 0.9904334833279889, 0.009287021079192393, 0.11389543735825024, 0.026097154222839664, 0.775085480418338, 0.014353434822561814, 0.04716128584556025, 0.023487438800555697, 0.0015095202501220325, 0.007547601250610163, 0.9887357638299313, 0.002120937243984978, 0.0009426387751044346, 0.5450808717041393, 0.006205705269437528, 0.04139755287333642, 0.00981915390733786, 0.002670809862795898, 0.0010211920063631374, 0.0036920018691590354, 0.0016496178564327606, 0.13479734483993414, 0.030871419884670234, 0.011311665301253215, 0.048703003380395786, 0.02780784386558082, 0.1309482365082577, 0.0003142129250348115, 0.000628425850069623, 0.0011058347717508553, 0.04431237906801642, 0.012480135281188224, 0.053475010033952074, 0.0001579763959644079, 0.00039494098991101973, 0.0034754807112169737, 0.05371197462789869, 0.00039494098991101973, 0.004265362691039013, 0.004581315482967829, 0.004028398097092402, 0.2857793002996139, 0.03672951206172484, 0.00023696459394661185, 0.49494004855648993, 0.9988493939451359, 0.0074190566910959975, 0.9922988324340897, 0.4194896166169943, 0.07140915757386886, 0.5089548210576536, 0.0001253892143527109, 0.02174671685247214, 0.977816232450916, 0.00039301295516515914, 0.0003007441754338421, 0.0011653836798061381, 0.2015361905626034, 0.0028194766446922696, 0.0032329998859138022, 0.011315499600698308, 0.014849243662045953, 0.00011277906578769078, 0.40848577628301597, 3.759302192923026e-05, 0.0001879651096461513, 0.0059772904867476115, 0.2650308046010733, 0.08390762494604194, 0.001015011592089217, 0.9981136736718751, 0.2966150061849947, 0.6871466409216115, 0.016068078260890503, 0.9575296185902132, 0.03922410485791235, 0.0011840481883031333, 0.0030785252895881464, 0.17216060657927557, 0.004736192753212533, 0.018944771012850133, 0.7968644307280087, 0.0026049060142668934, 0.00023680963766062666, 0.0009071408672102231, 0.9987620947984557, 0.9743474564071998, 0.02462249889837689, 0.9940474409089703, 0.005952379885682457, 0.00015317501947410413, 0.0005744063230278905, 0.4903515310914759, 0.003331556673561765, 0.060580720202008186, 0.035842954556940365, 0.00030635003894820826, 0.029026666190342734, 0.001225400155792833, 0.0006509938327649426, 7.658750973705206e-05, 0.010415901324239082, 0.00019146877434263017, 0.3672754029440332, 0.09468310500242512, 0.004605316051073369, 0.6623979586793863, 0.0003837763375894475, 0.0006030771019262746, 0.0003289511465052407, 0.15932200529070492, 0.02012084512790389, 0.006195246592515366, 0.0006030771019262746, 0.00021930076433682714, 0.0006030771019262746, 5.4825191084206785e-05, 0.0002741259554210339, 0.000493426719757861, 0.0005482519108420678, 0.04862994449169142, 0.09050621471161431, 0.5087461137516208, 0.05545212179092252, 0.030075046503548857, 0.017868352061521015, 0.01662359045723528, 0.010399782435806613, 0.0048987392168664354, 0.004416896015207442, 0.010399782435806613, 0.009074713631244381, 0.10636688676622286, 0.005701811219631425, 4.015360013824947e-05, 0.020799564871613226, 0.05444828178746629, 0.0018470656063594758, 0.00040153600138249473, 0.03232364811129083, 0.019594956867465742, 0.009851656715182538, 0.05401084158926709, 0.003960465011128659, 0.015594330981319095, 0.003267383634181144, 0.011460595625953557, 0.4213439713714502, 0.4149082157283661, 0.0034406539784180225, 0.003985217917448213, 0.0055941568282192305, 0.003762441760572226, 0.0016584447234101259, 0.0073516131769075736, 0.019406278554530428, 0.0071288370200315865, 0.002673313882511845, 0.0007920930022257318, 0.005965450423012542, 0.0038862062921699967, 0.9985922172067335, 0.13505386608504152, 0.07039001913842909, 0.7557150665834123, 0.009636728810618268, 0.000977639154700404, 0.02737389633161131, 0.0006983136819288599, 0.9748478050198697, 0.0005568967752184346, 0.015036212930897732, 0.00918879679110417, 0.0002784483876092173, 0.02523606936286133, 0.004972624504997306, 0.9630730510053533, 0.006215780631246633, 0.00024863122524986533, 0.015221970470394964, 0.7658906253345021, 0.003100771762487863, 0.0036645484465765653, 0.008456650261330535, 0.05722333343500329, 0.0022551067363548094, 0.0042283251306652675, 0.0042283251306652675, 0.00028188834204435117, 0.0036645484465765653, 0.048766683173672755, 0.02339673238968115, 0.011275533681774048, 0.017758965548794123, 0.024524285757858554, 0.005637766840887024, 0.9996916327310944, 0.9998912756247946, 0.9997180574464255, 0.9993302613123727, 0.9632473963764905, 0.036232241515079, 0.03906585200720146, 0.02717624487457493, 0.9273893563448694, 0.001698515304660933, 0.004670917087817566, 0.9983231810946198, 0.9985032890865626, 0.00039129875755128515, 0.07258591952576339, 0.0776728033739301, 0.15338911296010377, 0.0019564937877564257, 0.0011738962726538554, 0.014673703408173193, 0.03717338196737209, 0.002347792545307711, 0.0007825975151025703, 0.00606513074204492, 0.0005869481363269277, 0.0039129875755128515, 0.6272519083547101, 0.9978229897583648, 0.3807768371128202, 0.0047801519029690015, 0.010315064632722581, 0.0013837281824383952, 0.601292792005048, 0.0007547608267845792, 0.0005031738845230528, 0.0005432409302112693, 0.980549879031341, 0.013581023255281731, 0.004345927441690154, 0.18226256730204177, 0.004675640062651275, 0.0009831953402771373, 0.000699161130863742, 0.0002840342094133952, 0.008783211706475759, 0.005396649978854509, 0.035067300469884564, 0.2981703735280465, 0.1919634279927762, 0.03181183145430026, 2.184878533949194e-05, 0.026458879046124737, 0.003910932575769057, 0.0661362732226421, 8.739514135796776e-05, 0.00048067327746882264, 0.14275996340824032, 0.005870395821186096, 0.01643710829932107, 0.9733116271526547, 0.0023481583284744386, 0.0009571287306830751, 0.0003190429102276917, 0.13750749430813514, 0.8607777717943123, 0.053653089840285925, 4.146297514705249e-05, 0.0009743799159557336, 0.056700618513594286, 0.0552908773585945, 0.012666938907424536, 0.009971845522866124, 0.21457089638599663, 0.008831613706322182, 0.03176063896264221, 0.011837679404483487, 0.01115354031455712, 0.10054771473160229, 0.011049882876689489, 0.313978379301055, 0.0010987688413968911, 0.04278979035175817, 0.06306518519866684, 0.08100845354562873, 0.24417694113443328, 0.051318614536142684, 0.12215128404890102, 0.027072610605970007, 0.05073235537375509, 0.057097454851106115, 0.026549164925266797, 0.029354833773836003, 0.03519648757048382, 0.0356989954239589, 0.038441850790843723, 0.04005406348740961, 0.01155768062992687, 0.0213147081182347, 0.03940499084333763, 0.011243613221504944, 0.006197596859526003, 0.039300301707196984, 0.03209768914072082, 0.0015476949513186797, 0.3292721008930491, 5.158983171062265e-05, 0.04877818588239372, 0.04021427381843036, 0.005339547582049445, 0.01908823773293038, 0.004024006873428567, 0.0007996423915146511, 0.1658097191179412, 0.016199207157135513, 0.003791852630730765, 0.1136266043426464, 0.04452202476626735, 0.010601710416532956, 0.09820124466117022, 0.013697100319170315, 0.05089336898252925, 0.03327544145335161, 0.0002837440744084246, 0.001736371489506658, 0.997545420721575, 0.05697835738127215, 0.00013390918303471717, 0.001138228055795096, 0.02229587897528041, 0.0018077739709686817, 0.00013390918303471717, 0.9140640833949794, 0.0017408193794513232, 0.00013390918303471717, 6.695459151735858e-05, 6.695459151735858e-05, 0.0009373642812430202, 0.00026781836606943433, 6.695459151735858e-05, 0.06342122150767537, 0.000913850454001086, 0.005483102724006516, 0.11916609920174161, 0.04368205170125191, 0.004386482179205213, 0.7568509460036994, 0.0021932410896026064, 0.000913850454001086, 0.0007310803632008687, 0.0016449308172019547, 0.00036554018160043437, 0.031006527858630988, 0.019889341399513996, 0.17162156596261857, 0.009814391170939222, 0.022755491033505097, 0.0051243281334992395, 0.004690063037439981, 0.0257953467059199, 0.05054845718129758, 0.0005211181152711091, 0.00026055905763555453, 0.0009553832113303666, 0.0008685301921185151, 0.5781805488932955, 8.685301921185151e-05, 0.06904815027342195, 0.005992858325617754, 0.0031267086916266546, 0.02924994614865121, 0.08006989027375752, 0.00033071547152997596, 0.19012464996623285, 0.04258880350036024, 3.674616350333066e-05, 3.674616350333066e-05, 0.0002939693080266453, 0.1142070761683517, 0.0018373081751665331, 0.1674155209211745, 0.008598602259779375, 0.35074213063929116, 0.0026824699357431386, 0.0019108005021731946, 0.007459471191176125, 0.00047770012554329864, 0.001947546665676525, 0.0010808670339819205, 0.017307909777918285, 0.006372904330231063, 0.4916681653539058, 0.05831067089819347, 0.008955755424421626, 0.015202324646784672, 0.014346053360123671, 0.0024565159863225465, 0.0011791276734348223, 0.0005614893683022963, 0.027274346065284043, 0.16794147005921684, 0.024410750286942333, 0.00752395753525077, 0.052765963386208294, 0.06389749011280133, 0.032355824848419826, 0.0008001223498307722, 0.005586819214607849, 0.0003912964967912097, 0.9770673524876506, 0.007043336942241775, 0.01486926687806597, 0.0003912964967912097, 0.012396697874289996, 0.00011806378927895235, 0.0002361275785579047, 0.7447463827716314, 0.004486423992600189, 0.008618656617363522, 0.00011806378927895235, 0.0005903189463947618, 0.12219602190371569, 0.0010625741035105711, 0.10366000698692017, 0.0014167654713474283, 0.00011806378927895235, 0.0007721807046877547, 0.9973571779603115, 0.0008150796327259632, 4.289892803820859e-05, 0.0007721807046877547, 0.00017159571215283437, 0.11587346976527155, 0.0041081313576842885, 0.021748930717152115, 0.04537068602383677, 0.019574037645436904, 0.04978088586370373, 0.0016311698037864088, 0.02416547857461346, 0.0007853780536749375, 0.0010874465358576058, 0.0006645506608018702, 0.09925970324522479, 0.017459558270158226, 0.10765720704990298, 0.0010874465358576058, 0.40845700160740406, 0.03655028634410286, 0.03419415218307805, 0.010451569483520322, 0.9994921981349812, 0.968704636672041, 0.008350902040276215, 0.01670180408055243, 0.005806038508024115, 0.003594214314491119, 0.004976604435449242, 0.021012329838563465, 0.047830698185151045, 0.0013823901209581227, 0.9145893040258939, 0.0008294340725748736, 0.0017375932910040815, 0.12149786934790077, 0.7392122842998518, 6.683051119246467e-05, 0.0010692881790794347, 0.008955288499790267, 0.0003341525559623234, 0.04049928978263359, 0.03702410320062543, 0.04952140879361632, 6.683051119246467e-05, 0.9993986108813537, 0.008133141395131974, 0.9906791845531908, 0.000938439391745997, 0.15498848071216345, 5.389778853531904e-05, 8.623646165651047e-05, 9.701601936357428e-05, 0.1460091091421793, 0.0021666910991198257, 0.015781272483141415, 0.072643439387903, 0.1531882945750838, 0.008246361645903814, 0.04327992419386119, 0.007351658356217518, 0.06610024785971527, 0.00837571633838858, 0.2954245585197907, 0.0032338673121191427, 0.019424762988128983, 0.0035356949279169293, 0.9989739391221316, 0.999169651766667, 0.9892735988201612, 0.010247115395633952, 0.9988493323928053, 0.9986847801332305, 0.0004423831954357742, 0.008847663908715483, 0.002654299172614645, 0.9878416754080838, 0.999336397283464, 0.00132635196387078, 0.9980798528127619, 0.012853487043260753, 0.0013065590789849214, 3.3936599454153805e-05, 0.058226720513464385, 0.05687774068516178, 8.484149863538451e-06, 0.8706434589963158, 8.484149863538451e-06, 3.3936599454153805e-05, 8.484149863538451e-06, 0.9983753801386377, 0.00021380232624629105, 0.9988844682226717, 0.0008552093049851642, 0.997894196056474, 0.9992058034209068, 0.9987049240463258, 0.9991383213834752, 0.7516822757331941, 0.051142021986476695, 0.00023725680303004655, 2.6361867003338505e-05, 0.0015289882861936333, 0.046634142728905814, 0.02572918219525838, 0.03595758659255372, 0.0009226653451168477, 0.00039542800505007757, 0.0011599221481468941, 0.0019507781582470494, 0.02322480482994122, 0.0033215952424206514, 0.013629085240726006, 0.003189785907403959, 0.03927918183497437, 0.0024491114522297457, 0.9943392496052768, 0.0016327409681531637, 0.09074932104701453, 0.5625279767317464, 0.02676990429731622, 0.02735897309603467, 0.01269770521681992, 0.02313731337188578, 0.015479418988545933, 0.03053339940023965, 0.00952327891261494, 0.010177799800079884, 0.022875505016899802, 0.06810289834072746, 0.005072536877853319, 0.0017672063961553495, 0.016821186807849067, 0.03279149646199371, 0.0020617407955145746, 0.000458164621225461, 0.024053642614336703, 0.01701754307408855, 0.0007614300473147385, 0.017512891088238985, 0.0002175514420899253, 0.0004351028841798506, 0.00739674903105746, 0.01153022643076604, 0.030239650450499617, 0.0009789814894046638, 0.003372047352393842, 0.7731778251875945, 0.00010877572104496264, 0.00010877572104496264, 0.139776801542777, 0.014358395177935069, 0.9987075943142205, 0.08851267862347595, 0.8984704061277459, 0.012454045233453902, 0.00044478732976621085, 0.0029512903027307785, 0.9572912545584925, 0.027634809198297288, 0.003756187658020991, 0.008317272671332194, 0.00015237444006785058, 0.005028356522239069, 0.02148479604956693, 0.2404468664270682, 0.7109791373565908, 0.02163717048963478, 0.014293680058639579, 0.022869888093823326, 0.013181949387412056, 0.00047645600195465263, 0.0006352746692728701, 0.001747005340500393, 0.0019058240078186105, 0.041134034835418345, 0.00047645600195465263, 0.033669557471462115, 0.04303985884323695, 0.02064642675136828, 0.0028587360117279157, 0.7297717763272096, 0.009846757373729488, 0.04605741352228308, 0.00047645600195465263, 0.007305658696638006, 0.0019058240078186105, 0.007782114698592659, 0.9484046651021372, 0.02255123378049996, 0.00375853896341666, 0.01753984849594441, 0.0012528463211388865, 0.00563780844512499, 0.15440606045868713, 0.06334821615575326, 0.01602484519355023, 0.00041731367691537065, 0.0036723603568552614, 0.0067604815660290045, 0.0030881212091737427, 0.00016692547076614826, 0.00033385094153229653, 0.01619177066431638, 0.6369875964436218, 0.0008346273538307413, 8.346273538307413e-05, 0.011184006541331934, 0.008262810802924339, 0.02996312200252361, 0.0008346273538307413, 0.00016692547076614826, 0.02370341684879305, 0.02370341684879305, 0.5590991677950955, 0.03303392424195542, 0.01468829845758375, 0.0019466419642580873, 0.006783752299687274, 0.004306207981540617, 0.0001179783008641265, 0.025719269588379577, 0.2869822168519877, 0.03698619732090366, 0.0017696745129618975, 0.0005309023538885693, 0.0005898915043206325, 5.898915043206325e-05, 0.0012977613095053915, 0.02613219364140402, 0.9994916598231933, 0.00040389770908985624, 0.679078988260048, 4.615973818169786e-05, 1.1539934545424465e-05, 0.32045244239189197, 0.9956638171985812, 0.0026131889842277477, 0.8068946874632122, 0.038036417437092775, 0.0008710629947425825, 0.15156496108520937, 0.9987887483633153, 0.0007876882873527724, 0.03816588409824349, 0.22879400773240266, 0.00239543259899313, 0.012359627023376318, 0.007991485225212376, 0.04271519306775985, 0.03424059538560768, 0.006220072883099809, 0.0023350435418756565, 0.44124271067167575, 0.016264786050306297, 0.010950549023968595, 0.015177783022191766, 0.02864454275938844, 0.034039298528549436, 0.01954592482035571, 0.004025937141164925, 0.020451760677117816, 0.032288015872142695, 0.002153876370523235, 0.00763472840161459, 0.0012314078067120306, 0.003940504981478498, 0.003694223420136092, 0.00024628156134240615, 0.0004925631226848123, 0.001970252490739249, 0.0004925631226848123, 0.89868141733844, 0.01526945680322918, 0.0007388446840272184, 0.00024628156134240615, 0.001723970929396843, 0.02290418520484377, 0.03004635048377355, 0.010590107137723464, 0.9988719398918979, 0.006039160535924636, 0.04021197137335184, 0.00044188979531155874, 0.039475488381165914, 0.0008837795906231175, 0.000589186393748745, 0.0008837795906231175, 0.008543202709356802, 0.025187718332758846, 0.007659423118733685, 0.8435676192497656, 0.0007364829921859312, 0.013698583654658321, 0.010016168693728664, 0.00014729659843718625, 0.0020621523781206076, 0.9997544016213457, 0.008672226404073335, 0.07507670286954916, 0.5537010077419776, 0.03691890669162649, 0.007185559020517907, 0.00033037052967898424, 0.0038818537237280647, 0.308648667352591, 0.0004129631620987303, 0.0051207432100242554, 0.004889757415705386, 0.9901758766803406, 0.002444878707852693, 0.00031101606241751734, 0.914387223507501, 0.001866096374505104, 0.007464385498020416, 0.015395295089667109, 0.022548664525270008, 0.03809946764614588, 0.0028918914947253654, 0.9644458134909094, 0.028918914947253658, 0.0028918914947253654, 0.911589382884192, 0.08823730314000568, 0.0781837059600415, 0.06505285277957298, 0.008469901479004496, 0.11286519603975222, 0.05923919259280067, 0.0180423936830865, 0.004159774099156054, 0.016338389835239442, 0.03327819279324843, 0.0033578899354633207, 0.005512953625387541, 0.49486276451887806, 0.01538615239085432, 0.0036585964968480957, 0.027063590524629748, 0.018894395607010027, 0.01478473926808477, 0.003909185298002075, 0.007066604192542212, 0.009873198765466778, 0.9970903187929373, 0.001990200237111651, 0.9983961205020077, 0.005058019103636885, 0.017462208810174962, 0.003612870788312061, 0.00012042902627706869, 0.007827886708009466, 0.021556795703595297, 0.0031311546832037862, 0.006984883524069984, 0.001204290262770687, 0.002890296630649649, 0.01204290262770687, 0.00012042902627706869, 0.02661481480723218, 0.8820221884532512, 0.00012042902627706869, 0.009032176970780152, 0.0005171263656161909, 0.9990881383704807, 0.004840693255622155, 5.628713087932737e-05, 0.2364622368240543, 0.017899307619626104, 0.0007880198323105832, 0.0028706436748456962, 5.628713087932737e-05, 8.443069631899106e-05, 0.01649212934764292, 0.0058257180460103836, 0.00396824272699258, 0.001632326795500494, 0.6836072045294309, 0.016126262996927293, 5.628713087932737e-05, 0.009174802333330363, 0.9991549626338262, 3.833132146353984e-05, 0.0006516324648801773, 0.1741391934088615, 0.0016099155014686734, 0.6753595528661085, 7.666264292707968e-05, 0.09165018961932377, 0.00494474046879664, 3.833132146353984e-05, 3.833132146353984e-05, 0.017785733159082488, 0.010502782081009916, 0.00022998792878123906, 0.0005749698219530976, 0.022308829091780186, 0.027006079040494523, 0.08830404981226446, 0.01894311299603033, 0.0878183289662124, 0.005440073475783069, 0.0011657300305249435, 0.008354398552095427, 0.002525748399470711, 0.002137171722629063, 0.0967555925335703, 0.01146301196682861, 0.031571854993383885, 0.018651680488399096, 0.005828650152624717, 0.002137171722629063, 0.49708671384967795, 0.05809221318782635, 0.026228925686811226, 0.009811561090251606, 0.0008742975228937076, 0.00020679913346889777, 0.00013786608897926517, 0.12456201139276608, 0.062315472218627856, 0.07651567938349217, 0.03260533004359621, 0.00041359826693779554, 0.20535153953461546, 0.01144288538527901, 0.0017922591567304472, 0.0025505226461164055, 0.0008271965338755911, 0.4801875879147806, 0.0011029287118341214, 0.00017445471792158028, 0.0013607467997883262, 0.00018608503244968563, 0.012269981827151147, 0.00020934566150589636, 0.8390690416301607, 0.05954721038389941, 0.001186292081866746, 0.0035239853020159217, 4.652125811242141e-05, 0.00013956377433726422, 0.006198957643480153, 0.0441137830051036, 0.006117545441783416, 0.0043032163753989805, 0.0008722735896079015, 0.02024837759343142, 0.0004186913230117927, 0.9987722213668012, 0.01236874306621389, 0.032322499301952676, 0.002305671616872624, 0.0705492418097287, 0.005602566545671797, 0.09091241636995888, 0.049949035587950864, 0.17303311292978665, 0.011420616420023278, 0.0048699232281608695, 0.014480479687274797, 0.05649972877981327, 0.2706470608216837, 0.05899933539249761, 0.08235772822137541, 0.016635312974071642, 0.010515586439568602, 0.0016592216308335705, 0.028810121044473815, 0.006098178201635071, 0.025826399482208617, 0.0005073948817722715, 0.00045665539359504434, 0.4748708698506689, 0.2347208723078528, 0.005835041140381122, 0.19468741613602056, 0.008219797084710798, 0.042773388533402484, 0.0012177477162534514, 0.0015221846453168145, 0.004668032912304897, 0.0011162687398989972, 0.0001014789763544543, 0.003501024684228673, 0.0056893216313353935, 0.9937348449399154, 5.99682990295651e-05, 0.013492867281652148, 5.99682990295651e-05, 0.014332423468066059, 0.08683409699481026, 0.19837513318980135, 0.001259334279620867, 0.026865797965245165, 0.001799048970886953, 0.004917400520424338, 0.0016791123728278228, 0.003658066240803471, 0.0072561641825773775, 0.5166268961397034, 0.001859017269916518, 0.09810813721236851, 0.022368175538027783, 0.0004797463922365208, 0.0004909381413212599, 0.0025187261163438553, 0.012145382713556387, 0.92450055551767, 0.029328217659800485, 0.0011099471021176312, 0.009434550367999865, 0.0006830443705339268, 0.013981064459366315, 0.0018570268823891135, 0.00019210622921266693, 2.1345136579185214e-05, 0.0034792572624071896, 0.00021345136579185213, 0.9989280923786201, 0.0032599886923445637, 0.9845165850880583, 0.0006519977384689127, 0.0013039954769378255, 0.009127968338564779, 0.0006519977384689127, 0.025471819558967088, 0.0332146737999031, 0.00738103862220069, 0.0022432568361590334, 0.0111439210570481, 0.6425121757501954, 0.09139462529254384, 0.0010130837324589183, 0.00028945249498826234, 0.003690519311100345, 0.00426942430107687, 0.007887580488430149, 0.003979971806088607, 0.05275271721161082, 0.0041246980535827385, 0.0756918274394306, 0.0004341787424823935, 0.030320148850020483, 0.0022432568361590334, 0.9989642911213383, 0.0068161925531998015, 0.9827710353977168, 0.003098269342363546, 0.006196538684727092, 0.3042014666167565, 0.06140617434017758, 0.010525386912968827, 0.005998338778358579, 0.014648234321274588, 0.04090511350201403, 0.057897712035854636, 0.045787858275772225, 0.02269991278925996, 0.07943352673335767, 0.08134135416151485, 0.06483379649923962, 0.0037024786529490958, 0.018593233410006377, 0.020598069012476627, 0.13430781733645475, 0.0015521307890092278, 0.0007922334235567934, 0.009619977286046777, 0.02111544594214637, 0.1753316068510168, 0.0011178756055683708, 0.0019609661460808295, 9.367672672360649e-05, 0.004252923393251735, 0.1715345768611533, 0.07241210975734783, 0.09436993450136118, 0.08899289038742617, 0.028346577506563327, 0.0532208710092383, 0.08950498982684855, 0.0017361420019441738, 0.029152197356386342, 0.05649955644456453, 0.04014984507373774, 0.03402963226112879, 0.0004434031731584041, 0.005745505905714532, 0.05111002210039971, 0.994082831175326, 0.9991056448968139, 0.9987768464576682, 0.08355929333722727, 0.016203154965054214, 0.018746673477010402, 0.880716835862162, 9.420438933171056e-05, 0.0003768175573268422, 9.420438933171056e-05, 0.024602276172652354, 0.9740130060642848, 0.00029641296593557054, 0.0008892388978067116, 0.9984317212861149, 0.11593484592287175, 0.6706974557521506, 0.1139314639121835, 0.005400421072290044, 0.0005226213940925849, 0.02003382010688242, 0.041287090133314205, 8.710356568209747e-05, 0.00017420713136419495, 0.031879905039647674, 5.9325440511949636e-05, 0.00011865088102389927, 0.0668004460164553, 0.5840589618401442, 0.1411352229779282, 0.08400482376492069, 0.00023730176204779854, 0.00011865088102389927, 0.000830556167167295, 0.0001779763215358489, 0.11515068003369425, 5.9325440511949636e-05, 0.0072377037424578555, 5.9325440511949636e-05, 0.0021661732550159545, 0.901352160975087, 0.008664693020063818, 7.469562948330877e-05, 7.469562948330877e-05, 0.08612406079425501, 0.0002240868884499263, 0.0012698257012162492, 0.9987745135375045, 0.7112142706385074, 0.01127224237132182, 0.2191332775328672, 0.00011072929637840689, 0.044867510892530466, 0.0006200840597190786, 2.2145859275681376e-05, 0.003831233654692878, 2.2145859275681376e-05, 0.00885834371027255, 0.0015818926707707296, 0.0013182438923089413, 0.0516751605785105, 0.0005272975569235765, 0.0044820292338504, 0.0018455414492325177, 0.9383260025455045, 0.9999175346929954, 0.99697719326153, 0.00349470272310009, 0.07770735838909001, 0.0004119492404440185, 0.2117213121262033, 0.18476610015981634, 0.002773791552323058, 0.004510844182862002, 0.0003364252130292817, 0.0016683944237982748, 0.043275267708644136, 0.019368480121542936, 0.011507115449736248, 0.08081070933376829, 0.09927290112633438, 0.0007071795294288983, 0.1330115439186995, 0.01307252256342352, 0.09468653291605764, 0.01236534303399462, 0.004531441644884203, 0.02822961868882422, 0.010337606843794785, 0.9609998362096921, 0.9990935864844656, 0.9996682546859721, 0.9995189831245846, 0.9916256434829902, 0.006632947448046757, 0.9783066531406439, 0.007246715949189955, 0.009420730733946942, 0.0036233579745949774, 0.9840893084580773, 0.007688197722328729, 0.9987540746031095, 0.9994641419055545, 0.0014958515170149641, 0.996237110331966, 0.000277996162322362, 0.9993962035488915, 0.02566182173875473, 0.11299020956717629, 0.003127756666219413, 0.0017060490906651343, 0.001030737992276852, 0.01020075185460195, 0.0004265122726662836, 0.20625422652353698, 0.01958402185326019, 0.29919835927539795, 0.1796327521712831, 0.0007463964771659963, 0.01816231427770591, 0.01848219848220562, 0.039665641357964375, 0.0025590736359977014, 0.027083529314309008, 0.0015994210224985635, 0.0002132561363331418, 0.0316329935560827, 0.9995388501466116, 0.9987021400087975, 0.9999159128224128, 0.0065058148972699775, 0.9921367718336715, 0.01788857730726033, 0.008944288653630166, 0.08472228974688574, 0.8882175537979957, 0.006495408026554651, 0.019702737680549108, 0.0476329921947341, 0.0015155952061960852, 0.0010825680044257752, 0.007144948829210116, 0.8677865123477013, 0.02100181928586004, 0.025115577702677982, 0.0012990816053109302, 0.0008660544035406201, 0.01196388978131584, 0.0017366936779329445, 0.0050171150695840615, 0.013893549423463556, 0.008104570497020408, 0.0169810048508999, 0.009069400318094266, 0.7983001939565101, 0.0003859319284295432, 0.049978184731625845, 0.05403046998013605, 0.007525672604376092, 0.022769983777343048, 0.9979987477007106, 0.20219625785787734, 0.00016641667313405543, 0.0039940001552173305, 0.00016641667313405543, 0.7783307802479772, 0.014977500582064988, 0.003068304410706596, 0.9826244875287873, 0.013807369848179681, 0.0013772524991619408, 0.055778726216058595, 0.9420407094267674, 0.9991855050732794, 0.0022319832390027194, 0.2808146354187142, 0.02642045275935777, 0.15795174409965757, 5.190658695355161e-05, 0.23238578979105057, 0.0048273125866803, 0.0026472359346311324, 0.0062287904344261935, 0.007993614390846948, 0.0003633461086748613, 0.27801167972322244, 0.0005514550352333667, 0.013363593687155255, 0.15891095931974852, 0.038032015596594526, 0.02137807353254685, 0.0012683465810367435, 0.0075365521481893455, 0.07858234252075476, 0.32793192761877543, 0.0007904188838344923, 0.016745851236586572, 0.25763979246102897, 0.0448516761989805, 0.0010661464014511757, 0.028988153018767313, 1.838183450777889e-05, 0.0002022001795855678, 0.0017278924437312158, 0.0004227821936789145, 0.7907813322658118, 0.00036913587688916413, 0.11553952946630837, 0.002860803045891022, 0.09034600586862292, 0.9846327943814757, 0.014746804524146524, 0.029212742016249467, 0.009737580672083156, 0.12127714109776294, 0.839645024315534, 0.06455191817455153, 0.00778081156568255, 0.9273574673469054, 0.775569226922883, 0.01539045949953276, 0.001923807437441595, 0.02535303372914102, 0.0001374148169601139, 0.003366663015522791, 0.0002748296339202278, 0.07200536408709969, 0.05688973422148716, 6.870740848005695e-05, 0.0488509674293205, 6.870740848005695e-05, 0.9643077280538611, 0.03449823217909895, 0.11537828585537681, 0.488448143952205, 0.03796807703332183, 0.0016080597331759835, 0.015231899139250287, 0.036762032233439844, 0.008084966991801472, 0.011167081480388774, 0.025460945775286403, 0.035466650781714744, 0.013177156146858753, 0.028811070219403035, 0.00013400497776466528, 0.0004913515851371061, 0.0032607877922735218, 0.08437846766581758, 0.005136857480978836, 0.00044668325921555095, 0.03515397250026386, 0.053512654454023006, 0.10919843626672314, 0.05495889677719135, 0.8177653646114023, 0.017696189276425488, 0.04378847046977537, 0.2731933480295639, 0.07094899908649471, 0.12393888681765221, 0.06613810579754872, 0.035684684201502274, 0.05046767183209844, 0.017889049802585565, 0.01163021775677234, 0.02213945066951843, 0.022302927625938922, 0.05077127189402222, 0.02909889824284806, 0.004717477885277133, 0.03164446799282433, 0.06422309002233721, 0.007239693784336194, 0.004413877823353358, 0.04276090102941797, 0.027020405511216056, 0.040086953793022524, 0.43075863904284706, 0.043877602980145154, 0.07292806489207612, 0.04149586765018315, 0.03153283394597588, 0.03371329586777208, 0.00875539325521245, 0.004964744068089819, 0.020731161041077757, 0.02237489387443182, 0.06823168536820737, 0.0212678901295199, 0.005702746564697765, 0.02616554306155445, 0.05877183518441461, 0.002583008738127811, 0.0016437328333540615, 0.03243856428272199, 0.03193538076230748, 0.37137384311436433, 0.0247943326175175, 0.09600424623628057, 0.02604880777971333, 0.0010084996401966446, 0.008609143269971356, 0.4157724248352166, 0.007551448525374874, 0.008756728583170864, 0.00036896328299877235, 0.00039356083519869053, 0.00014758531319950893, 0.0007133290137976265, 0.007428460764375283, 0.00019678041759934526, 0.002312169906792307, 0.0019186090715936162, 0.004427559395985268, 0.022137796979926343, 0.9998473350465056, 4.6608315474703495e-05, 1.1652078868675874e-05, 1.1652078868675874e-05, 1.1652078868675874e-05, 0.002132330432967685, 0.0006874726532518766, 0.20259469528966742, 1.1652078868675874e-05, 0.22672615062669516, 0.001118599571392884, 1.1652078868675874e-05, 0.566628943304839, 0.001013001860757962, 0.0009350786406996572, 7.792322005830477e-05, 0.00015584644011660954, 0.0005194881337220317, 0.008935195900018946, 0.23805543727812106, 0.03883173799572187, 0.004077981849717949, 0.1325214229124903, 0.0003896161002915238, 5.194881337220318e-05, 5.194881337220318e-05, 0.0005714369470942349, 0.08602723494436845, 0.302731709926514, 0.00010389762674440636, 0.00025974406686101587, 0.17701558156578232, 0.00768842437908607, 0.9975257279203349, 0.001660131545237946, 0.9271834680153929, 0.04648368326666249, 0.00830065772618973, 0.01660131545237946, 0.9987177800461496, 0.0002433784126957701, 0.0015211150793485633, 0.00010952028571309655, 0.0016184664444268712, 0.11164984682418454, 0.005609872412637501, 0.14871637907775032, 0.0006571217142785793, 0.034413707555181895, 1.2168920634788506e-05, 0.06410587390406584, 0.003492480222184301, 0.0030178923174275494, 0.005196129111054692, 0.008652102571334627, 0.0345110589202602, 0.576466108311201, 1.2168920634788506e-05, 0.0004984168432328103, 0.019438256886079603, 0.9684239264013506, 0.010466753707889017, 0.0009968336864656206, 2.9873649047550653e-05, 4.481047357132598e-05, 2.9873649047550653e-05, 0.0011202618392831495, 0.5438647177351834, 0.02495943377922857, 0.05147229730892978, 0.0006124098054747884, 0.015355055610441036, 0.0003435469640468325, 0.01690848536091367, 8.962094714265196e-05, 0.06234630556223821, 0.15946553861582538, 0.06709621576079877, 0.035400274121347525, 0.020836870210666582, 1.4936824523775327e-05, 0.798380987407448, 0.20147368756419076, 0.0005182619020923771, 0.005908185683853099, 0.00036278333146466397, 0.0016584380866956068, 0.0018657428475325577, 5.182619020923771e-05, 0.061517687778365165, 0.020471345132648897, 0.13987888737473259, 0.04011347122194999, 0.050219578312751346, 0.4715146785236447, 0.0026949618908803613, 0.023062654643110782, 0.010313411851638305, 0.13547366120694737, 0.034308937918515366, 0.1559694115478312, 0.1233814123576438, 0.05474080600243157, 0.06396597111752111, 0.08595330411604171, 0.02758241632504912, 0.09400981042170849, 0.04544324609383796, 0.020146436820845777, 0.018853672651130315, 0.050366092052114446, 0.07632479658000095, 0.01130392989999201, 0.006774084249309027, 0.04597069387508187, 0.02392130819641493, 0.005781241366967551, 0.002492449319211413, 0.04409877135733388, 0.042919770434553375, 0.9987082486290846, 0.9899311277579895, 0.007471178322701808, 0.000563923059740838, 0.6803731715773209, 0.3187575095185086, 0.9994210244784528, 0.9994875736949732, 0.06423196332428671, 0.008791129638202597, 0.029776406839073313, 0.010067261359877167, 0.0004253772405581902, 0.006380658608372853, 0.002126886202790951, 0.0031194330974267277, 0.008791129638202597, 0.013895656524900879, 0.8524559900786131, 0.0015955004200346047, 0.9712608806960655, 0.011567378045250883, 0.0007977502100173023, 0.00039887510500865117, 0.0007977502100173023, 0.001994375525043256, 0.007578626995164372, 0.004387626155095163, 0.0005592868486676417, 0.05996797877380825, 0.00018642894955588058, 0.0003107149159264676, 0.02081789936707333, 0.9181004335795265, 6.214298318529352e-05, 0.05417156277819985, 0.0003330219023249991, 0.004884321234099986, 0.0001110073007749997, 0.0031082044216999916, 0.023311533162749937, 0.012654832288349965, 0.9013792822929976, 0.9820885510397904, 0.01437365816702212, 0.0030084400814697457, 0.9988525819210574, 0.06840174162371639, 0.07549951107424019, 0.21163584105739397, 0.10694837467094752, 0.019162124312902398, 0.05340932521255774, 0.024610542637847566, 0.09449484707107283, 0.10118491174898171, 0.023183575933695258, 0.03352445153001976, 0.01790194592481984, 0.009655190296926642, 0.003280170216038418, 0.012842700337370755, 0.04503284533883252, 0.004688604885071863, 0.003354298356513862, 0.013009488653440504, 0.0781681241313562, 0.000641597623498095, 0.0011227958411216662, 0.005293180393859284, 0.11243998351804116, 0.0003207988117490475, 0.010185362273032258, 0.0010425961381844045, 0.0011227958411216662, 0.0003207988117490475, 0.009543764649534164, 0.00016039940587452375, 8.019970293726187e-05, 0.7955008534347006, 0.0007217973264353569, 0.0018445931675570232, 0.05918738076769927, 0.0005613979205608331, 0.9991565245521601, 0.05370848957705312, 0.8780170469987815, 0.0046703034414828795, 0.0233515172074144, 0.01401091032444864, 0.00700545516222432, 0.01401091032444864, 0.0023351517207414398, 3.158117451462726e-05, 0.0015158963767021082, 0.014464177927699284, 0.00015790587257313626, 0.010548112287885504, 0.0010105975844680723, 0.09692262458539104, 0.009253284132785786, 0.004863500875252598, 0.0003473929196608998, 0.007642644232539796, 0.839553943296851, 0.004389783257533189, 0.0006632046648071723, 9.474352354388176e-05, 0.008495335944434732, 0.03148925183139151, 0.21242809983947225, 0.2357102501911147, 7.652309072027098e-05, 0.0022191696308878585, 5.739231804020324e-05, 0.0013008925422446067, 0.0008034924525628453, 0.03183360573963273, 0.04719561620172713, 0.33857641489183893, 0.0478078009274893, 0.0010904540427638615, 0.0007269693618425743, 0.00047826931700169364, 3.826154536013549e-05, 0.0036731083545730073, 0.0006504462711223034, 0.01264544074152478, 0.03122142101387056, 0.0005873750420447187, 0.0005873750420447187, 0.022320251597699313, 0.9762173198783226, 0.986327375641949, 0.013300554245832734, 0.9883739771883825, 0.008262269401783762, 0.0015491755128344553, 0.0015491755128344553, 0.9210756993141106, 0.0012048079781741144, 0.0009036059836305859, 0.07650530661405627, 0.010904650196150846, 0.9504493110965077, 0.005452325098075423, 0.0028352090509992196, 0.028352090509992198, 0.0004361860078460338, 0.0002180930039230169, 0.0013085580235381014, 0.0027639128294026844, 0.8936651481735346, 0.10318607896436689, 0.0012611636474164232, 0.08260621890577573, 0.00378349094224927, 0.8784004804255389, 0.03342083665653522, 0.9720114229555902, 0.027983877629156242, 0.007884191121857127, 0.0024190131851152554, 0.00017918616186038928, 0.04631962284091063, 0.0006271515665113625, 8.959308093019464e-05, 0.00017918616186038928, 0.9421608390619268, 0.9965297304091429, 0.025812536353370327, 0.9428138278222552, 0.00043750061615881907, 0.00043750061615881907, 0.030187542514958518, 0.10837339349549051, 0.36427020558373246, 0.04079038927731378, 0.029271387479609442, 0.022564120610060082, 0.056428527793817455, 0.03801999643989122, 0.020304063295320623, 0.011154476424359265, 0.02311090867007769, 0.015273613143158601, 0.09915090154986013, 0.015601685979169168, 0.0017861743293908626, 0.022272500311384023, 0.06929627347289857, 0.0021506997027359366, 0.000911313433362685, 0.023912864491436855, 0.03535896121447218, 0.8120238224126045, 0.09554787028715996, 0.032913890321760765, 0.005323001130203897, 0.0015969003390611692, 0.012597769341482557, 0.0002661500565101949, 0.0006210167985237881, 0.0007984501695305846, 0.0006210167985237881, 0.007984501695305846, 0.00931525197785682, 0.0024840671940951522, 0.002217917137584957, 0.0016856170245645675, 0.0034599507346325335, 0.0004435834275169915, 0.001863050395571364, 0.0041696842186597196, 0.003992250847652923, 0.0059825499079872195, 0.9931032847258784, 0.9987040035285988, 7.864095280013609e-05, 0.7052520647116205, 0.013919448645624088, 0.28066956054368575, 7.825526068880422e-05, 0.0017998709958424969, 0.998067594825009, 0.9988726783719586, 0.9993625113391847, 0.0026774900188234847, 0.9242695544978669, 0.07282772851199878, 0.03441982946735397, 0.8350906244579451, 0.05490782319792181, 0.00300490574714995, 0.04152233396061749, 0.00027317324974090453, 0.00027317324974090453, 0.030322230721240403, 0.9814917804288634, 0.014649131051177065, 0.9999050036193585, 6.603810784735108e-05, 0.9996987192203425, 0.9923857339549055, 0.006863763001417214, 0.9984816128837102, 0.001498403511830943, 0.38409928381907144, 0.03791667275814184, 0.02793860097968346, 0.0013555116378283082, 0.01716981407915857, 0.0010919399304728037, 0.016981548573904638, 0.22094839696601423, 0.29248928896250825, 0.028649988077149028, 0.970816783489227, 0.0002984373758036357, 7.109595843289872e-05, 0.20513553873172374, 0.23750789847150364, 0.013508232102250755, 0.015356727021506122, 0.007725760816374994, 0.01455097282593327, 0.010593297806501908, 0.014669466089988101, 0.0008294528483838183, 0.040974970710160624, 0.3903168117966139, 0.03727798087164989, 9.479461124386494e-05, 0.0012323299461702443, 0.004573839992516484, 0.003199318129480442, 0.002369865281096624, 0.0002774020866225965, 0.1485950510675042, 0.0080446605120553, 0.8165792756547167, 0.0024041514173958364, 0.024041514173958365, 0.9949631030894315, 0.008159621338247857, 0.015019479985447382, 7.220903839157396e-05, 0.004982423649018603, 0.0010831355758736093, 0.9706338940595372, 0.9974897477211953, 0.003052333649116953, 0.9920084359630097, 0.0015261668245584764, 0.003052333649116953, 0.007602850146003305, 0.9909048023624308, 0.9974089018398866, 0.9979726847895374, 0.06059739483957312, 0.9390006567875732, 0.0074325456340191155, 0.025567956981025756, 0.8129718414490109, 0.0007432545634019115, 0.001337858214123441, 0.003270320078968411, 0.017689458608965494, 0.0020811127775253522, 0.00014865091268038231, 0.006689291070617204, 0.045933132018238135, 0.05886576142143139, 0.015162393093398997, 0.0020811127775253522, 0.013313541418575263, 0.037816991882210715, 0.002960833597689284, 0.008617046746378467, 0.0411249576948015, 0.5980883867332353, 0.0008167816821211817, 0.005635793606636154, 0.087783611285974, 0.0006330058036439158, 0.04931319405806635, 0.004553557877825588, 4.0839084106059085e-05, 0.0025116036725226338, 0.015069622035135804, 0.009944316979825387, 0.0003879712990075613, 0.002368666878151427, 0.024483030921582424, 0.09450164062142073, 0.9993279473377559, 0.9993735529035286, 0.06393760535641543, 0.0010511284327301856, 0.021022568654603713, 0.0002537206561762517, 0.11000602735641771, 0.020877585422503, 0.05690591859953074, 0.0075028822612120145, 0.09866108944453673, 0.03860178554681544, 0.2810137496192114, 0.09083199491109811, 0.001957273633359656, 0.024973361729348203, 0.017687954316287263, 0.09224558142408008, 0.021312535118805143, 0.0073578990291112995, 0.043784936094416006, 0.02954926632683661, 0.002644624074597549, 0.004654538371291686, 0.023766355017049972, 0.10000205167411531, 0.019288124917398123, 0.36548704710938124, 0.11385988182500648, 0.01957021815202186, 0.03360435657455285, 0.000669971432231379, 0.024683158029577122, 0.01590300610191326, 0.06551615374136328, 0.03438011296976814, 0.0842753538438419, 0.0040550902477162415, 0.006805499285297692, 0.02140382417707616, 0.029937144524444254, 0.025786187737859855, 0.0004958882257280741, 0.9134261117911125, 0.004462994031552667, 0.0024794411286403707, 0.053555928378632, 4.651092833816077e-05, 0.010883557231129621, 0.9890548911109888, 0.0003595206664104889, 0.0517709759631104, 0.8934088560300649, 0.0007190413328209778, 0.04925433129823698, 0.0003595206664104889, 0.0032356859976944, 0.004139352817467005, 0.9934446761920813, 0.06005185889773809, 6.268461262811909e-05, 0.0012536922525623819, 0.13420775563680298, 0.020372499104138707, 0.009778799569986578, 0.0016297999283310964, 0.012223499462483222, 0.5022291163764901, 0.00037610767576871457, 0.006080407424927552, 0.0006268461262811909, 0.1835405457751327, 0.06155628960081295, 0.005328192073390123, 0.0006268461262811909, 6.268461262811909e-05, 0.004957102754639947, 0.9943948125807733, 0.9987596488672563, 0.48388419390306225, 0.000292673366641805, 5.1217839162315876e-05, 0.00012438618082276712, 0.017948194209308693, 0.01355077687551557, 0.018350620088441173, 0.03389889269128706, 0.10528924364938934, 0.05737129669595982, 2.1950502498135375e-05, 0.10390636199200681, 0.0007316834166045125, 0.0010389904515784077, 0.05757616805260909, 0.0016536045215261982, 0.06572712131358335, 0.0061534575336439495, 0.00558274446869243, 0.026845464555219564, 0.0010928384257863429, 0.9853759805840191, 0.011656943208387656, 0.00036427947526211424, 0.0010928384257863429, 0.9792495958023739, 0.02011295703830293, 0.05458536683728312, 9.236102679743336e-05, 9.236102679743336e-05, 0.48064678345384326, 0.46448360376429243, 5.310662978909162e-05, 0.936694736219998, 0.0031863977873454975, 0.04609655465693153, 0.0045671701618618795, 5.310662978909162e-05, 0.009028127064145576, 0.00021242651915636649, 2.539188503217239e-05, 0.7933440559451942, 2.539188503217239e-05, 0.09397536650407001, 0.0038595665248902034, 0.04951417581273616, 2.539188503217239e-05, 0.0010664591713512403, 0.05375462061310895, 0.004367404225533651, 0.9981460192126064, 0.0011539260337717994, 0.008674336388503043, 0.000201728753221001, 0.006959641986124534, 0.0015129656491575075, 0.001613830025768008, 0.8329380220495132, 0.000403457506442002, 0.0021181519088205106, 0.000201728753221001, 0.000201728753221001, 0.004841490077304024, 0.03227660051536016, 0.10772315422001454, 0.0001008643766105005, 0.0001008643766105005, 0.0010901926702734084, 0.9822635959163409, 0.015262697383827718, 0.9967618143264486, 0.8101133768896556, 0.00564724568922159, 0.002557243330968267, 0.1704828887312178, 0.010974835962072146, 0.00021310361091402225, 0.971177798722105, 0.012531326435123934, 0.01566415804390492, 0.0026818805044430257, 0.05305459258789465, 0.9441385410641383, 0.005610961175437285, 0.06575542141551784, 0.0071555516113722675, 0.2865372869928366, 0.013018690817166284, 0.0004728338069188723, 0.029063517998613352, 0.006052272728561565, 0.07956216857754891, 0.021750355118268127, 0.019764453129208864, 0.014563281253101266, 0.03243639915463464, 0.017999206916711738, 0.023893868376300347, 0.01251433475645282, 0.2262667377375777, 0.09548090674381761, 0.036723425670699084, 0.005358783145080552, 0.835495983731039, 0.00016420911629933942, 0.16437332541563876, 0.004174031301959306, 0.7785666807444094, 0.21726931355988174, 0.058250013944997917, 0.941632115189612, 0.9999497752019787, 0.9982939306628369, 0.011584271864836095, 0.12025577459686994, 0.00027581599678181177, 0.06867818319867112, 0.798763126680127, 0.06477889774826773, 0.03650320490825802, 0.0014699277144264973, 0.2140378077506583, 0.3556000129150102, 0.0013882650636250255, 0.0006737168691121447, 0.011759421715411979, 0.1550773738719955, 8.166265080147209e-05, 0.02868400609401707, 0.00195990361923533, 0.020170674747963604, 0.013045608465535164, 0.005940957845807094, 0.01718998799370987, 0.05287656639395317, 0.008982891588161929, 0.00979951809617665, 0.9988820902941312, 8.225487306314484e-05, 0.010446368879019395, 0.7910451142482638, 0.0207282280119125, 0.0009048036036945932, 0.06259595840105323, 0.023442638822996277, 8.225487306314484e-05, 0.02434744242669087, 0.019165385423712746, 0.0005757841114420138, 0.003043430303336359, 0.003125685176399504, 0.0027144108110837796, 0.00032901949225257936, 0.0017273523343260416, 0.03569861490940486, 0.7498515889130956, 0.07444606051172598, 0.11234521749783592, 0.00010818027683951461, 0.0003245408305185438, 0.04484072474997881, 0.0001983305075391101, 0.00048681124577781577, 0.012008010729186122, 0.00281268719782738, 0.00025242064595886745, 0.002289815859769726, 0.99965427965339, 0.1039945703403787, 0.5601059675797297, 0.03578780284483455, 0.017430075873950797, 0.00825121238850892, 0.019675968003367426, 0.006444733936586849, 0.011522403098746185, 0.017576547099782316, 0.02704835303688723, 0.049653745556885044, 0.04872609445995209, 0.003368838194124944, 0.0024411870971919884, 0.009471805937104914, 0.037008396393430544, 0.00019529496777535905, 0.0015623597422028724, 0.008690626066003479, 0.03105189987628209, 0.006754613555293044, 0.01286931635271622, 0.07501176106141222, 0.34846695825780216, 0.07629158257715195, 0.07355418655737529, 0.0037328127542408922, 0.047246744289391865, 0.0012798215157397346, 0.02328564146693128, 0.12044542487017279, 0.0910095300081589, 0.041700851054519684, 0.008283289254648838, 0.009029851805497017, 0.004870431879342879, 0.03796803830027879, 0.007252321922525162, 0.0008532143438264897, 0.010060819137620691, 0.004024126500733104, 0.010254250059097006, 2.4241725908030745e-05, 0.02307812306444527, 0.11444518801181315, 2.4241725908030745e-05, 0.0007030100513328916, 0.0007272517772409224, 0.001527228732205937, 0.004727136552065995, 0.007902802646018023, 0.004581686196617811, 0.0010908776658613835, 0.0007272517772409224, 0.0025211394944351976, 0.6893377179207623, 4.848345181606149e-05, 0.13405674427141004, 2.4241725908030745e-05, 0.0001454503554481845, 0.9959024056699265, 0.9795613833288389, 0.01679248085706581, 0.0022389974476087746, 0.0166564000122735, 0.9760650407192271, 0.0066625600049094, 0.000950877486294373, 0.000950877486294373, 0.9974704831227973, 0.9968579050438175, 0.0020261339533410925, 0.003297368437220361, 0.9962174390952014, 0.0004121710546525451, 0.9998535991819145, 0.9822408823247979, 0.01769272078639684, 0.9994056875692358, 0.00033947466423733997, 0.00746844261322148, 0.778245667764102, 0.00780791727745882, 0.00033947466423733997, 0.00492238263144143, 0.00118816132483069, 0.09624106731128589, 0.00186711065330537, 0.00950529059864552, 0.03072245711347927, 0.048375139653820946, 0.00016973733211866999, 0.0054315946277974396, 0.00033947466423733997, 0.00033947466423733997, 0.00492238263144143, 0.00186711065330537, 0.0002410544974878904, 0.9996530010822814, 0.009164270792978156, 0.006060934939790043, 0.002417515775135491, 0.010981693999817603, 0.02036885631816286, 0.0057351704027150474, 0.014247912121543213, 0.0023746520202572023, 0.0021346149929387845, 0.02601829921112133, 0.08553890923511322, 0.03541403428044224, 0.06909637286380162, 0.012250461144214951, 0.0031547723590420592, 0.6225874668561698, 0.051436505853946615, 0.01549096101301359, 0.0031376268570907436, 0.00238322477123286, 0.9959240043372193, 0.0018408946475734183, 0.009433779557367555, 0.009433779557367555, 0.9622455148514907, 0.01886755911473511, 0.03339398343784921, 0.002759641686877817, 0.4368814263789176, 0.00022030752962469966, 5.797566569071044e-05, 0.010308073359808316, 0.013531520372211817, 0.1424578057352137, 0.10326625572829344, 0.09998483305019923, 0.014540296955230179, 0.0029799492165025164, 0.0007073031214266674, 0.0009739911836039353, 0.0005449712574926781, 0.002655285488634538, 2.3190266276284178e-05, 2.3190266276284178e-05, 0.0011595133138142088, 0.13350636295256801, 0.11759584954423322, 0.8819688715817491, 0.01854580927156241, 0.9808204130664939, 0.9758757843461559, 0.023851509483274153, 0.9987498827621186, 0.07939571230207261, 0.509168154980683, 0.024497975745380048, 0.040087596674258257, 0.01926431729068522, 0.03992056502144885, 0.026892096102314914, 0.011302475173436704, 0.01024460803897711, 0.0183178045914319, 0.022660627564476545, 0.06330499641476617, 0.015032848752846847, 0.002728183662553687, 0.022493595911667132, 0.04276010311920881, 0.0014476076576815482, 0.0006124493936345011, 0.025611520097442775, 0.024219589657364364, 0.00036292498972151783, 0.2958201591220092, 0.0036655423961873303, 0.020650431915154366, 3.629249897215178e-05, 0.0006169724825265804, 0.03963140887758975, 0.00032663249074936604, 0.057596195868804885, 3.629249897215178e-05, 0.030594576633523954, 0.20211292677591328, 0.009073124743037946, 0.2987598515387535, 0.01869063697065817, 0.021920669379179678, 0.9997647958361454, 0.9833125963249598, 0.013067277027574218, 0.9653016934141988, 0.033751807462034926, 0.001377248042274482, 0.957187389380765, 0.003672661446065285, 0.030299456930038604, 0.00688624021137241, 0.0876760438952164, 0.6377174959624382, 0.009221961252395511, 0.013320610697904628, 0.013684635484183399, 0.010260106013264597, 0.00846694688085436, 0.005635642987575035, 0.005352512598247103, 0.04667606704063343, 0.02696479898361261, 0.007671485310837787, 0.004004272649066472, 0.006404139758607995, 0.004503121430263306, 0.06269315763689931, 0.004759287020607625, 0.004772769420099431, 0.023742505505070902, 0.0164620097794955, 0.718434196263928, 0.10396873415902862, 0.00012804031300372981, 0.002048645008059677, 0.012035789422350604, 0.0016645240690484878, 0.0003841209390111895, 0.027784747921809374, 0.02996143324287278, 0.019334087263563202, 0.019846248515578122, 0.0025608062600745965, 0.06145935024179032, 0.00012804031300372981, 0.04931907906318083, 0.00021350250676701658, 0.38320649928868517, 9.150107432872139e-05, 3.0500358109573797e-05, 0.07853842213215252, 0.01229164431815824, 0.24110533085618086, 0.1295350208913599, 0.0068320802165445305, 0.0032025376015052485, 9.150107432872139e-05, 0.0016165189798074112, 6.1000716219147594e-05, 0.00012200143243829519, 0.006710078784106235, 0.0010065118176159353, 0.08598050951088854, 0.08765779245948185, 0.0027286472360928205, 0.00017054045225580128, 0.00034108090451160256, 0.00017054045225580128, 0.908810070071165, 0.9991201798016816, 0.00028027321700667553, 0.02045994484148731, 0.0047646446891134835, 0.9736691558811907, 0.0008408196510200265, 0.00028027321700667553, 0.9991209702040066, 0.9981028838874084, 0.0023298591649069215, 0.0009985110706743948, 0.22908264594169225, 0.0027837278333952826, 0.0032678544131162016, 3.0257911232557423e-05, 0.013676575877115954, 0.00024206328986045938, 0.743497394806401, 0.003994044282697579, 3.0257911232557423e-05, 3.0257911232557423e-05, 0.8242774543995864, 0.1756045331112763, 0.0006830556159386047, 0.05254273968758497, 0.00982549232157839, 0.4939542958029864, 0.006042415064072272, 0.0016813676700027193, 0.025588314227853882, 0.00021017095875033992, 0.16377571960620238, 0.007986496432512917, 0.0016813676700027193, 0.006935641638761217, 0.01912555724628093, 0.015132309030024473, 5.254273968758498e-05, 0.0028373079431295886, 0.01098143259470526, 0.17691140452809861, 0.0038356199971937032, 0.00015762821906275493, 0.9812418790914202, 0.014687831121117347, 0.0033166070273490784, 0.995962448282486, 0.03474476421583088, 0.05387455147894174, 0.6614181566061735, 0.0030538515811592646, 0.0021895539638500387, 0.005646744433086942, 0.0028809920576974195, 0.0005761984115394839, 0.057043642742408904, 0.00028809920576974195, 0.03238235072851899, 0.013828761876947614, 0.006453422209242219, 0.07046906573127888, 0.0004033388880776387, 0.004494347610007974, 0.0023047936461579356, 0.0007490579350013291, 0.047017790381621884, 0.012994028258639212, 0.07489816288406646, 0.0021900047626920017, 0.00029200063502560024, 0.0021900047626920017, 0.00029200063502560024, 0.002044004445179202, 0.0007300015875640007, 0.00029200063502560024, 0.00029200063502560024, 0.06526214192822166, 0.0026280057152304023, 0.8358518177607808, 0.00014600031751280012, 0.9988414927669458, 0.000985439515358076, 0.998797444602928, 0.0004963774446278685, 0.032429993049020736, 0.9669432621350877, 0.9996597947750921, 0.9999451743100822, 0.99886050636262, 0.0024516133502029648, 0.9839141578814565, 0.01307527120108248, 0.008781539500821075, 0.9898049523068327, 0.9947055574592627, 0.0004061513105957547, 0.06335960445293773, 0.04670740071851179, 0.0011372236696681132, 0.008447947260391697, 0.11843372216972207, 0.001218453931787264, 0.03720346005057113, 0.0054424275619831125, 0.0005686118348340566, 0.054992887454665185, 8.123026211915094e-05, 0.0002436907863574528, 0.018439269501047264, 0.5706425913870353, 0.0008935328833106603, 0.00016246052423830187, 0.012428230104230093, 0.05921686108486104, 0.11471553868708818, 0.014271631222620648, 0.04669577584243422, 0.0014083846601270376, 0.05890177623020188, 0.05889134375123798, 0.04336781505294886, 0.13178307427203512, 0.07981889655282937, 0.039883367079004924, 0.0788278110512585, 0.013614385047894697, 0.10731891110168026, 0.0033383932684492744, 0.05976767198420591, 0.02522573413471983, 0.026310711946965843, 0.008116468633917299, 0.01909143650394429, 0.06865614406145211, 0.99734541200977, 0.10039732008605066, 0.07878290053648343, 0.054827131525673214, 0.12363856283075948, 0.04312676391826285, 0.05047617694102007, 0.06911127714889667, 0.028108952932524574, 0.023738859251457998, 0.10129685761748189, 0.034105869808732724, 0.03321271197610598, 0.03519679830429825, 0.02544861853105777, 0.04821138386543083, 0.052409225678776525, 0.008599833988434663, 0.008797604651373444, 0.03969448596145436, 0.04081731295104227, 0.9994734009936042, 0.33218248636116454, 0.33676140224511447, 0.0653388564433144, 0.009807323382644607, 0.019127528054230708, 0.01958217218455198, 0.004449017561001031, 0.014386239266594573, 0.012697561068258416, 0.0043840683995265625, 0.03870970023878269, 0.05903878778029105, 0.003994373430679757, 0.00029227122663510416, 0.01597749372271903, 0.017503799017369016, 0.0025330172975042363, 0.00012989832294893518, 0.022277562385742387, 0.02078373167182963, 0.00029862041473433404, 0.0011944816589373362, 0.0019908027648955604, 0.0389201940537082, 0.01055125465394647, 0.0007963211059582241, 9.954013824477801e-05, 0.014333779907248033, 0.5773328018197125, 0.0006967809677134461, 0.07594912548076561, 0.0021898830413851164, 0.2667675704960051, 9.954013824477801e-05, 0.008659992027295687, 0.10536222500380162, 0.003422529720260262, 0.01764521615502602, 0.004291867932957949, 0.033919854046789925, 0.06242005004685192, 0.06563111912078032, 0.23104816768283296, 0.006124526867834153, 0.015420963430646353, 0.014418483329517489, 0.3101892725414827, 0.042840360571678796, 0.010142279148139678, 0.03333246336253473, 0.0010651351074494181, 0.019454379462532017, 0.0057407649541207605, 0.011136927373478473, 0.006390810644696508, 0.009292518693115308, 0.002478004984830749, 0.9874849864550534, 7.505353499004227e-05, 0.3192777378476398, 0.0007505353499004227, 0.21848084035601306, 0.46142913311877987, 0.007454095812025174, 0.003727047906012587, 0.9802135992813104, 0.003727047906012587, 0.0026717647684561525, 0.697528513068423, 0.1278488918831611, 0.0026717647684561525, 0.013160915340913642, 0.0068278432971657236, 0.0008905882561520508, 0.1058810482314105, 0.0423524192925642, 0.9990903228642599, 0.9989111981476029, 0.9988198508974327, 0.9987255030802596, 0.9985100711681381, 0.9996248103798926, 0.999112177174732, 0.0005707127154263608, 0.008560690731395412, 0.6040586440848439, 0.00016306077583610307, 0.04158049783820628, 0.0011414254308527215, 0.25298879370971394, 0.08552537692603607, 0.0027720331892137524, 0.0006522431033444123, 0.0008968342670985669, 0.0009783646550166184, 0.05278505861657137, 0.4959493357868513, 0.010195244966440578, 0.00942786093670849, 0.01951347961318734, 0.04522084460921224, 0.019568292758168206, 0.007180521992493095, 0.008276784892110362, 0.008002719167206044, 0.06544689510715081, 0.12486434426640663, 0.008002719167206044, 0.002959909828966619, 0.02263782887709655, 0.04505640517426965, 0.0021925257992345326, 0.001370328624521583, 0.038424014631585186, 0.012990715360464606, 0.06207248695109589, 0.006603456058627223, 0.008034204871329787, 0.012216393708460362, 0.0017609216156339261, 0.013427027319208687, 0.008034204871329787, 0.00022011520195424077, 0.007483916866444186, 0.009354896083055233, 0.00011005760097712038, 0.830164484170419, 0.03521843231267852, 0.005282764846901778, 0.011492087067847573, 0.986677761110913, 0.00019879133960573882, 0.985607461765253, 0.013915393772401717, 0.013195447986803645, 0.00035663372937307146, 0.003922971023103786, 0.9818126569640658, 0.11427237103968517, 0.1515117201902649, 0.008083089775013024, 0.2145799861479029, 0.0350211207715741, 0.10007234846195959, 0.013813513087444294, 0.10126548645369747, 0.028887383208414528, 0.00373065681923678, 0.017208074697740824, 0.006520247053440859, 0.020266541099097105, 0.006335394688523722, 0.03809639193337739, 0.05525405234977718, 0.006889951783275135, 0.0031256854431443294, 0.012099427521849017, 0.06295063263450891, 0.001303926485323048, 0.0038574491857473504, 0.03210918970108006, 0.0005433027022179366, 5.433027022179367e-05, 0.046724032390742555, 0.05596017832844748, 0.0007062935128833177, 0.8319594279063264, 5.433027022179367e-05, 0.00325981621330762, 0.00010866054044358734, 0.010431411882584384, 0.010159760531475416, 0.0005433027022179366, 5.433027022179367e-05, 0.0021732108088717466, 0.00027551858450125386, 0.03646029268233259, 0.007071643668865515, 0.6265292611558513, 0.00036735811266833845, 0.19378140443254854, 0.03829708324567428, 0.0004591976408354231, 0.0005510371690025077, 0.04399113399203353, 0.00027551858450125386, 0.012673854887057677, 0.007255322725199685, 0.03140911863314294, 0.00036735811266833845, 5.3658225467574034e-05, 1.7886075155858013e-05, 0.02060475857954843, 0.0006438987056108885, 0.008495885699032556, 0.022876290124342398, 0.7342054990728155, 0.04770216244067332, 0.001717063214962369, 0.05618016206455002, 0.01638364484276594, 0.0030942910019634362, 0.012663341210347472, 0.002843885949781424, 0.03060307459167306, 0.0034520125050805962, 0.0065641895821998905, 0.03190875807805069, 0.9971582288448474, 0.9890560141509837, 0.003254492825998333, 0.7467252984096175, 0.056953624454970826, 0.007051401122996388, 0.011029114576994351, 0.0010848309419994443, 0.00018080515699990738, 0.001808051569999074, 0.019346151798990092, 0.007051401122996388, 0.06725951840396555, 0.023323865252988053, 0.005785765023997036, 0.008678647535995555, 0.018984541484990274, 0.001808051569999074, 0.001808051569999074, 0.014102802245992776, 0.003616103139998148, 0.9517229292806831, 0.04705013229860699, 0.9979436974539594, 0.9976085083796518, 0.9996912048650208, 0.003692548517472756, 0.014628172973065148, 0.01278189871432877, 0.009865732192837465, 0.014684981411795498, 0.015414023042168323, 0.01285764329930257, 0.059800349836815196, 0.010604241896332016, 0.011162858210513793, 2.8404219365175043e-05, 0.001249785652067702, 0.0008237223615900763, 0.019381145680171106, 0.760930100646796, 0.021180079573298857, 0.0014770194069891023, 0.00041659521735590066, 0.009619562291672615, 0.019419017972658006, 0.9987922467802356, 0.9986827935114108, 0.00034465550041880847, 0.010109894678951716, 0.00040209808382194324, 0.006261241590941687, 0.010224779845757984, 0.00028721291701567375, 0.028146865867536026, 0.00011488516680626949, 0.0025849162531410637, 0.8900153872481698, 0.03975026771496924, 0.00045954066722507796, 0.011316188930417545, 0.9927716387120131, 0.0009491079615991105, 0.005634066410343656, 0.0008683328159311011, 0.15581525599359014, 0.000747170097429087, 0.0044830205845745215, 0.003291587185971383, 0.006845693595363796, 0.0013731774763561598, 0.02283917243762966, 0.00038368194192304464, 0.0007875576702630917, 0.07714026411294898, 0.4157900623260784, 0.27578654109700107, 0.0111671638886023, 0.011146970102185298, 0.002604998447793303, 0.0015953091269431856, 0.000807751456680094, 0.9972851204460628, 0.9997342221714295, 0.06798147172706175, 0.061152633144997984, 0.0004603711403638493, 0.005601182207760166, 0.006099917609821003, 0.8558683141980928, 3.836426169698744e-05, 0.00023018557018192464, 0.0025704055336981586, 0.00012497598254074412, 0.00024995196508148824, 6.248799127037206e-05, 0.01880888537238199, 0.0011872718341370693, 0.010373006550881763, 0.012747550219155902, 0.06517497489499807, 6.248799127037206e-05, 6.248799127037206e-05, 0.09298213101031363, 0.7981591124964624, 0.9174168205871082, 0.06268065233824963, 0.01709472336497717, 0.9961288522638705, 0.003234184585272307, 0.23648372637366713, 0.000578308585940119, 0.0008897055168309524, 0.001512499378612619, 0.0005338233100985714, 0.07700401248171893, 0.4279038683198465, 4.4485275841547613e-05, 0.17202456167926464, 0.008808084616626428, 0.000578308585940119, 0.07357864624191976, 4.4485275841547613e-05, 0.00547969834784249, 0.0005346047168626819, 0.0021384188674507276, 0.023656258721173676, 0.00013365117921567047, 0.020181328061566244, 0.6451342420740415, 0.00040095353764701145, 0.03702137664274072, 0.0024057212258820687, 0.01376607145921406, 0.018844816269409537, 0.17949353368664545, 0.0005346047168626819, 0.026462933484702755, 0.0014701629713723752, 0.02231974692901697, 0.0002855642904285153, 0.004283464356427729, 9.51880968095051e-05, 0.0025700786138566378, 0.5360041731343232, 0.3078383050819395, 9.51880968095051e-05, 0.0026652667106661426, 9.51880968095051e-05, 0.07824461557741319, 0.060634817667654745, 0.0013326333553330713, 0.0058064739053798105, 0.9930487766552023, 0.0011779938038614499, 0.0011779938038614499, 0.0035339814115843498, 0.5112225637055617, 0.008680220822167574, 0.012171476831083555, 0.00010268400026223471, 0.015847564040471558, 0.06532071536681625, 0.006044664815436884, 0.21884698695889213, 0.012924492833006609, 0.0009104648023251479, 0.036726644093792615, 0.0582149825486696, 0.00010268400026223471, 0.0013212008033740867, 0.017264603244090397, 0.0011500608029370288, 0.012048256030768874, 0.0038198448097551316, 0.0049219864125697845, 0.012342616831520613, 0.0931872891927614, 0.00015366874677932344, 0.0766807046428824, 0.00035856040915175475, 0.16051981173990162, 0.004430782198803826, 0.05243945983844413, 0.10290683742655361, 0.022717363065543318, 0.04748364275481095, 6.402864449138477e-05, 0.002279419743893298, 0.009604296673707716, 0.006338835804647092, 0.060865629453510366, 0.035087697181278854, 1.2805728898276955e-05, 0.017863991813096353, 0.3070045446072917, 0.9200427515582948, 0.008897898951240763, 0.07029340171480203, 0.1499864743424504, 0.020143532309945374, 0.005275687033557122, 0.013080215785678815, 0.011772194207110932, 0.0386302372870381, 0.0012644208592822853, 0.02227996755493958, 0.0072377194014089435, 0.015303852469244213, 0.06666549978767636, 0.5942778038626741, 0.00518848559498593, 0.014475438802817887, 0.018966312889234282, 0.0020928345257086103, 4.3600719285596046e-05, 8.720143857119209e-05, 0.00039240647357036444, 0.012862212189250833, 0.11206081741543691, 0.025320724883725203, 0.0026575687924609544, 0.012475809053497258, 0.06976118080210005, 0.021555835761072187, 0.00022146406603841288, 0.0006643921981152386, 0.0008120349088075138, 0.0020669979496918535, 0.12010734514816591, 0.5324734361116906, 0.06547954219202407, 0.004503102676114395, 0.024065761842840865, 0.001771712528307303, 7.382135534613762e-05, 0.00029528542138455047, 0.003764889122653019, 0.0007063335818297008, 0.972621342179498, 0.026134342527698928, 0.000821910322967584, 0.9990319975670984, 0.08429391041904491, 0.00011004426947655994, 0.02057827839211671, 0.0025310181979608785, 0.003521416623249918, 0.2858950121001027, 0.5757516179013616, 0.015626286265671512, 0.010784338408702875, 0.0008803541558124795, 0.999616029131756, 0.0009130742354821766, 0.01254275660320253, 0.002282685588705441, 0.47877528102895023, 0.07204876566035016, 0.0018261484709643531, 0.01516183796287509, 0.0004805653870958824, 0.028593640532205002, 0.00845795081288753, 0.0062233217628916765, 0.017576679033031898, 0.04511307571362596, 0.043539224070886944, 0.007364664557244397, 0.0037604241540252796, 0.21319081985041083, 0.02864169707091459, 0.012722968623363485, 0.0007809187540308088, 0.02069022121540639, 0.0017083668893454818, 6.327284775353636e-05, 0.0041760079517334, 0.0008225470207959727, 0.0001898185432606091, 0.9723138514285933, 0.07950514535036918, 0.005096483676305716, 0.008154373882089146, 0.027011363484420296, 0.01223156082313372, 0.867421521707233, 0.000358434569620595, 0.0003910195304951946, 0.023689266555833872, 1.6292480437299772e-05, 0.0072012763532865, 0.04056827628887644, 0.0006516992174919909, 0.08354783968247324, 0.2787806327626364, 1.6292480437299772e-05, 0.0009286713849260872, 0.0003747270500578948, 0.0036169306570805497, 0.00650069969448261, 0.014402552706573, 0.00013033984349839818, 0.0006679916979292907, 0.0006028217761800917, 0.00032584960874599547, 0.5372119574590855, 0.9975077187374706, 0.014190833707509507, 0.985080373196285, 0.9989784800205612, 0.9995143259145, 0.9997077693491089, 0.9995385488934014, 0.9995583282893535, 0.9890406490134518, 0.01034290874785309, 0.9711283092382136, 0.008300241959300972, 0.014940435526741748, 0.004980145175580582, 0.9986936295396814, 0.999066910538068, 0.011013907649724607, 0.011013907649724607, 0.9774843039130588, 0.000868988475663177, 0.0006951907805305416, 0.9664020837850192, 0.010862355945789713, 0.019552240702421484, 0.0007820896280968594, 0.0001737976951326354, 0.0003475953902652708, 8.68988475663177e-05, 0.9950791517895085, 0.03599158552183274, 7.477476216447247e-05, 0.0007228227009232339, 2.492492072149082e-05, 0.06303512450465029, 0.016599997200512886, 0.0006480479387587614, 0.010119517812925274, 0.3708828203357834, 0.010443541782304654, 0.26470265806223253, 0.008349848441699425, 0.02340450055747988, 0.15819847181930224, 0.006430629546144632, 0.0027417412793639905, 0.02764173708013332, 0.9995621123468844, 0.0010652790647851672, 0.9891116116530277, 0.009054872050673922, 0.7984529761740913, 0.17788073770296214, 0.021489878678066357, 0.0020796656785225507, 0.015543286849346341, 0.9842410350086086, 0.01263681509612807, 0.25232423186507896, 4.5785561942493e-05, 0.041848003615438605, 0.6930560511235166, 0.0001739154601778852, 0.16548056035925776, 0.0001739154601778852, 0.004260928774358188, 0.07069663456231033, 0.021565517062057765, 0.0009565350309783686, 0.000434788650444713, 0.004260928774358188, 0.14356721237684422, 0.0002608731902668278, 0.0032174360132908764, 0.003043520553112991, 0.0018261123318677947, 0.0006087041106225982, 0.4960068924273286, 8.69577300889426e-05, 0.01973940473018997, 0.05982691830119251, 0.003913097854002417, 0.18225166588465647, 0.2228908845755998, 0.10748175167556664, 0.031279962368461506, 0.026710979101158137, 0.0478506623664022, 0.019395399054934516, 0.04706963958566658, 0.02525306991045165, 0.04966003180843972, 0.025083848307958935, 0.04962098066940293, 0.016948194341962913, 0.00100231256861071, 0.0404830141347962, 0.05261490132888947, 0.0019785910445302324, 6.508523172796817e-05, 0.018328001254595837, 0.03402655914738176, 0.010463108405593766, 0.8789011060698764, 0.010463108405593766, 0.02092621681118753, 0.0034877028018645887, 0.013950811207458355, 0.010463108405593766, 0.03487702801864589, 0.013950811207458355, 0.11300731570493787, 0.5426164913696749, 0.042841679649769135, 0.017852099360135078, 0.013737551530188612, 0.03686298974176529, 0.008884064498129311, 0.009438268899713937, 0.005693190670823887, 0.018036834160663286, 0.010210796247377354, 0.06292739068901801, 0.004853487032059302, 0.0001511466549776253, 0.02337734930320605, 0.04458826321839947, 0.0002854992371799589, 3.3588145550583404e-05, 0.018691802998899665, 0.025896460219499803, 6.941237682703925e-05, 0.002313745894234642, 0.02459511885571424, 0.01633504601329657, 0.23445187146279625, 0.003771405807602466, 0.24104604726136497, 0.0074733992383778924, 0.0007172612272127389, 0.030981057523801852, 2.3137458942346416e-05, 0.0629107508642399, 0.0045812168705845905, 0.02473394360936832, 0.026469253030044302, 0.27482673731719076, 0.01207775356790483, 0.031490081620533475, 0.001156872947117321, 0.9998565465979709, 0.9975386892763953, 0.9975335720891646, 0.9979356799750442, 0.9985668083867272, 0.000922889841392539, 0.9960685731659153, 0.9999000416460607, 0.0006221532824288525, 0.0020738442747628414, 0.002695997557191694, 0.042721192060114536, 0.012650450076053334, 0.9388293031851384, 0.0016876355481546545, 0.0008438177740773273, 0.9973926089594009, 0.005771738109238997, 0.000209881385790509, 0.16139878567290142, 0.0034630428655433986, 0.023716596594327517, 0.8047901738137068, 0.000419762771581018, 0.008708606431081083, 0.031667659749385756, 0.009500297924815727, 0.9397378030630223, 0.010291989418550371, 0.0005089601635602276, 0.0001272400408900569, 0.8049204986704999, 0.0008906802862303982, 0.15357872935429867, 0.001272400408900569, 0.0386809724305773, 0.9988321744609648, 0.011527027592062252, 0.004408743620868431, 0.9732760787194236, 0.010746312575866801, 0.7306682029501047, 5.5196842526920096e-05, 0.1976322946676374, 0.01760779276608751, 0.05398251199132785, 0.0045376766619931565, 0.04804018553023189, 0.2652074718645348, 0.03773176789592135, 0.00014796771723890725, 0.11645059346702001, 0.0004932257241296909, 0.0035019026413208054, 0.0008384837310204745, 0.0826646313641362, 0.0034525800689078363, 0.004981579813709878, 0.010061804772245693, 0.000591870868955629, 0.0007398385861945363, 0.008384837310204745, 0.0006411934413685981, 0.009864514482593817, 0.40158438458639434, 0.008328850030898538, 0.00010959013198550708, 0.7308200601673516, 0.08321544022099504, 0.005187266247314002, 0.1221929971638404, 0.00010959013198550708, 0.004821965807362312, 0.0014977318038019302, 0.034265181267468546, 0.00010959013198550708, 3.6530043995169023e-05, 0.001461201759806761, 0.006137047391188396, 0.0016438519797826062, 0.9990121953161962, 0.06765531002797637, 0.3667676389782604, 0.04813200457009879, 0.07509415984852309, 0.027285583531491554, 0.03219581246442161, 0.026726934730739033, 0.016700658885654314, 0.010526119508915924, 0.05657054171830792, 0.012437286458858759, 0.08065124528758764, 0.02184610836626964, 0.005292462322918621, 0.037664690198104187, 0.051983741038445115, 0.004380982700638192, 0.000646856506134498, 0.03716484653427298, 0.020258369669394052, 0.0020580409593741623, 0.9960918243370945, 0.9991552596903421, 0.00027678028389443185, 0.9994536051427934, 0.058852078396977946, 0.13096401690925727, 0.07378175086473758, 0.1142024827890118, 0.054476747296232905, 0.06298785835855175, 0.07431721811700268, 0.03936388866322468, 0.02428625813891811, 0.05242647136979683, 0.015549687180908694, 0.057210448531481016, 0.043816721603113354, 0.008215194949224984, 0.02988048180074027, 0.07044212615982108, 0.007228807905578759, 0.004713520944280887, 0.03188848399673437, 0.04540198649468764, 0.9975596291377831, 0.9988423725478446, 0.0005521516708390517, 0.072724114956599, 0.16292737584921746, 9.056552298455667e-05, 0.00163017941372202, 0.0009056552298455667, 9.056552298455667e-05, 0.025811174050598653, 0.017479145936019437, 0.5198461019313553, 0.19851962638214823, 0.9963295007866946, 0.18092716241121234, 0.3122749710130075, 0.062279378348935314, 0.01878232971527382, 0.01998165749640875, 0.03456633997771032, 0.020977527886101147, 0.06326454045486758, 0.004893685678380921, 0.02865536734211673, 0.03065781640526166, 0.046945116004424414, 0.02593546326704287, 0.02769162180370473, 0.03428792459994685, 0.046452534951458284, 0.0042404803690127895, 0.0001499159726418663, 0.021919856856992877, 0.015141513236828497, 0.004532663574622865, 0.027195981447737192, 0.17352404514924138, 8.552195423816727e-05, 0.06713473407696131, 0.0035919220780030255, 0.0063286246136243784, 0.5341701261715928, 0.0013683512678106763, 0.014880820037441105, 0.04857647000727901, 0.00094074149661984, 0.06670712430577047, 0.0007696975881435054, 0.016420215213728117, 0.00025656586271450183, 0.0014538732220488436, 0.01128889795943808, 0.020952878788350983, 0.09040773613840426, 0.2492140274966845, 0.004097728063285713, 0.006442968652964957, 0.006932634270590293, 0.013633321669673848, 0.009174787361822099, 0.0089170686157035, 0.002860678081916441, 0.3575332164903314, 0.012138552942185977, 0.07375910513914283, 0.0073449842643800506, 0.013066340428212931, 0.01649399975159029, 0.08241845500872773, 0.0030153093295875997, 0.017396015363005383, 0.021725690297797834, 0.003401887448765497, 0.03013271041904964, 0.011589504007326784, 0.8587822469429147, 0.046744332829551365, 0.00038631680024422613, 0.00038631680024422613, 0.046358016029307135, 0.004635801602930713, 0.00038631680024422613, 0.00137261548298737, 0.9978914561318178, 0.9889554739926348, 0.006496423022690375, 0.003997798783194078, 0.001313990140479613, 0.004513270482516932, 0.08135312869752039, 0.014511021551383552, 0.04096221437929924, 0.00022852002443123705, 0.5089712244144727, 0.002970760317606082, 5.713000610780926e-05, 0.06718488718278369, 0.008169590873416725, 0.0007426900794015205, 0.0370202439578604, 0.01616779172851002, 0.0024565902626357983, 0.0024565902626357983, 0.07449752796458328, 0.0031421503359295093, 0.13111336401742227, 0.0021138102259889427, 0.007825020932321219, 0.0031300083729284872, 0.9883001437521699, 0.8351520436101273, 0.1647296078610553, 0.9974763896065025, 0.99414171457068, 0.9988967544009567, 0.0008062386664916806, 0.9384618077963162, 0.05966166132038436, 0.991895108353028, 0.004947107772334304, 0.009496533771955753, 0.002532409005854867, 0.9737112627511965, 0.006331022514637168, 0.0075972270175646015, 0.00047046300762051534, 0.0018295783629686706, 0.03716657760202071, 0.009043344479816572, 0.0461053747468105, 0.2549909501303193, 0.16534161034485445, 0.0006795576776740777, 0.0007318313451874683, 0.00015682100254017176, 0.00015682100254017176, 0.00036591567259373415, 0.43078729397785187, 0.051646383503229906, 0.0005750103426472965, 0.9939496722137895, 0.005390913476413774, 0.9989825433904382, 0.000546052991349601, 0.9987309211784203, 0.9994237919324305, 0.002055429811620476, 0.9968834586359308, 0.9933218425830861, 0.004535716176178475, 0.0013263744427968044, 0.00022106240713280073, 0.863027637446454, 0.13529019316527405, 0.9912498389016737, 0.9184762053519276, 0.03617286425187386, 0.007164673595781779, 0.011183880734878875, 0.00034949627296496484, 0.00017474813648248242, 0.019397043149555548, 0.0008737406824124121, 0.001223236955377377, 0.002621222047237236, 0.00017474813648248242, 0.0013979850918598594, 0.0005242444094474473, 0.0055665085206940915, 0.8066218753268282, 0.002435347477803665, 0.027832542603470456, 0.02487533495185172, 0.035486491819424835, 0.02400556799549327, 0.00017395339127169036, 0.06540647511815557, 0.007827902607226066, 0.001482421300640803, 0.023125772289996526, 0.021939835249483883, 0.0008894527803844817, 0.07085973817063039, 0.0002964842601281606, 0.016010150046920673, 0.016899602827305155, 0.0026683583411534454, 0.002964842601281606, 0.01571366578679251, 0.0011859370405126425, 0.8257086644569273, 0.972041120970078, 0.027231359052754926, 0.9437763455457963, 0.054353611523579884, 0.9988130363169069, 0.012078255271558758, 0.007104856042093387, 0.9804701338088874, 0.9853424298018986, 0.005241183137244141, 0.007861774705866213, 0.9990662260127237, 0.0006363479146577858, 0.9998362355025617], \"Term\": [\"'a'\", \"'a'\", \"'a'\", \"'a'\", \"'a'\", \"'a'\", \"'a'\", \"'a'\", \"'accept\", \"'accept\", \"'access\", \"'access\", \"'access\", \"'application\", \"'application\", \"'application\", \"'application\", \"'application\", \"'application\", \"'authorization'\", \"'authorization'\", \"'aws\", \"'b'\", \"'b'\", \"'b'\", \"'bearer\", \"'bearer\", \"'c'\", \"'c'\", \"'c'\", \"'c'\", \"'com\", \"'com\", \"'com\", \"'com\", \"'com\", \"'com\", \"'content\", \"'content\", \"'content\", \"'content\", \"'content\", \"'count'\", \"'count'\", \"'count'\", \"'exec'\", \"'form\", \"'form\", \"'form\", \"'form'\", \"'group'\", \"'group'\", \"'headers'\", \"'http\", \"'http\", \"'http\", \"'http\", \"'http\", \"'http\", \"'http\", \"'http\", \"'http\", \"'https\", \"'https\", \"'https\", \"'https\", \"'https\", \"'https\", \"'https\", \"'https\", \"'https\", \"'https\", \"'https\", \"'https\", \"'month'\", \"'package\", \"'package\", \"'package\", \"'product\", \"'product\", \"'product\", \"'rgba\", \"'rxjs'\", \"'woocommerce\", \"aadsts\", \"aadsts\", \"abstractapplicationcontext\", \"abstractautowirecapablebeanfactory\", \"abstractbeanfactory\", \"abstractprocessorlight\", \"abstractprotocol\", \"access\", \"access\", \"access\", \"access\", \"access\", \"access\", \"access\", \"access\", \"access\", \"access\", \"access\", \"access\", \"access\", \"access\", \"access\", \"access\", \"access\", \"access\", \"access\", \"access\", \"accesscontroller\", \"accessdenied\", \"accordion\", \"accordion\", \"account\", \"account\", \"account\", \"account\", \"account\", \"account\", \"account\", \"account\", \"account\", \"account\", \"account\", \"account\", \"account\", \"account\", \"account\", \"account\", \"account\", \"account\", \"account\", \"accuracy\", \"accuracy\", \"across\", \"across\", \"across\", \"across\", \"across\", \"across\", \"across\", \"across\", \"across\", \"across\", \"across\", \"across\", \"across\", \"across\", \"across\", \"across\", \"across\", \"act\", \"act\", \"act\", \"act\", \"act\", \"act\", \"act\", \"act\", \"act\", \"act\", \"act\", \"act\", \"act\", \"act\", \"act\", \"act\", \"act\", \"act\", \"act\", \"act'\", \"act'\", \"activation\", \"activation\", \"activation\", \"activation\", \"activation\", \"activity\", \"activity\", \"activity\", \"activity\", \"activity\", \"activity\", \"activity\", \"activity\", \"activitythread\", \"activitythread\", \"adb\", \"adb\", \"adb\", \"adb\", \"adb\", \"adb\", \"add\", \"add\", \"add\", \"add\", \"add\", \"add\", \"add\", \"add\", \"add\", \"add\", \"add\", \"add\", \"add\", \"add\", \"add\", \"add\", \"add\", \"add\", \"add\", \"add\", \"addheader\", \"addheader\", \"admin\", \"admin\", \"admin\", \"admin\", \"admin\", \"admin\", \"admin\", \"admin\", \"admin\", \"admin\", \"admin\", \"admin\", \"admin\", \"admin\", \"admin\", \"aes\", \"aes\", \"aes\", \"aes\", \"agent'\", \"agent'\", \"airflow\", \"airflow\", \"airflow\", \"ajax\", \"ajax\", \"ajax\", \"ajax\", \"ajax\", \"align\", \"align\", \"align\", \"align\", \"align\", \"align\", \"align\", \"allocation\", \"allocation\", \"allocation\", \"allocation\", \"allocation\", \"allocation\", \"allocation\", \"allow\", \"allow\", \"allow\", \"allow\", \"allow\", \"allow\", \"allow\", \"allow\", \"allow\", \"allow\", \"allow\", \"allow\", \"allow\", \"allow\", \"allow\", \"allow\", \"allow\", \"allow\", \"allow\", \"allow\", \"alpine\", \"alpine\", \"alpine\", \"alpine\", \"also\", \"also\", \"also\", \"also\", \"also\", \"also\", \"also\", \"also\", \"also\", \"also\", \"also\", \"also\", \"also\", \"also\", \"also\", \"also\", \"also\", \"also\", \"also\", \"also\", \"amazon\", \"amazon\", \"amazon\", \"amazon\", \"amazon\", \"amazon\", \"amazon\", \"amazon\", \"ame'\", \"amet\", \"amplify\", \"amplify\", \"anaconda\", \"anaconda\", \"anaconda\", \"analytics\", \"analytics\", \"analytics\", \"analytics\", \"analytics\", \"analytics\", \"android\", \"android\", \"android\", \"android\", \"android\", \"android\", \"android\", \"androidx\", \"androidx\", \"angular\", \"angular\", \"angular\", \"angular\", \"angular\", \"angular\", \"angular\", \"angular\", \"annotation\", \"annotation\", \"annotation\", \"annotation\", \"annotation\", \"annotation\", \"annotation\", \"annotation\", \"annotation\", \"anonfun\", \"ansible\", \"ansible\", \"ansible\", \"ansible\", \"aop\", \"aop\", \"apache\", \"apache\", \"apache\", \"apache\", \"apache\", \"apache\", \"api\", \"api\", \"api\", \"api\", \"api\", \"api\", \"api\", \"api\", \"api\", \"api\", \"api\", \"api\", \"api\", \"api\", \"api\", \"api\", \"api\", \"api\", \"api\", \"api\", \"apiversion\", \"apiversion\", \"apiversion\", \"apks\", \"apollo\", \"apollo\", \"apollo\", \"app\", \"app\", \"app\", \"app\", \"app\", \"app\", \"app\", \"app\", \"app\", \"app\", \"app\", \"app\", \"app\", \"app\", \"app\", \"app\", \"app\", \"app\", \"app\", \"appbar\", \"appbar\", \"appbar\", \"appcompat\", \"appcompat\", \"appcompatactivity\", \"appcomponent\", \"appcomponent\", \"appdata\", \"appdata\", \"appdata\", \"appdata\", \"appdata\", \"appdelegate\", \"apple\", \"apple\", \"apple\", \"apple\", \"apple\", \"apple\", \"apple\", \"apple\", \"apple\", \"apple\", \"applewebkit\", \"applewebkit\", \"application\", \"application\", \"application\", \"application\", \"application\", \"application\", \"application\", \"application\", \"application\", \"application\", \"application\", \"application\", \"application\", \"application\", \"application\", \"application\", \"application\", \"application\", \"application\", \"application\", \"applicationfilterchain\", \"applicationfilterchain\", \"approach\", \"approach\", \"approach\", \"approach\", \"approach\", \"approach\", \"approach\", \"approach\", \"approach\", \"approach\", \"approach\", \"approach\", \"approach\", \"approach\", \"approach\", \"approach\", \"approach\", \"approach\", \"approutingmodule\", \"appsettings\", \"appsettings\", \"apt\", \"apt\", \"apt\", \"apt\", \"argc\", \"argument\", \"argument\", \"argument\", \"argument\", \"argument\", \"argument\", \"argument\", \"argument\", \"argument\", \"argument\", \"argument\", \"argument\", \"argument\", \"argument\", \"argument\", \"argument\", \"argument\", \"argument\", \"arguments\", \"arguments\", \"arguments\", \"arguments\", \"arguments\", \"arguments\", \"arguments\", \"arguments\", \"arguments\", \"arguments\", \"arguments\", \"arguments\", \"arguments\", \"arguments\", \"arguments\", \"arguments\", \"arguments\", \"arguments\", \"arguments\", \"arguments\", \"arn\", \"arr\", \"arr\", \"arr\", \"arr\", \"arr\", \"array\", \"array\", \"array\", \"array\", \"array\", \"array\", \"array\", \"array\", \"array\", \"array\", \"array\", \"array\", \"array\", \"array\", \"array\", \"array\", \"artifactid\", \"asp\", \"asp\", \"asp\", \"asp\", \"aspnet\", \"aspnetcore\", \"assets\", \"assets\", \"assets\", \"assets\", \"assets\", \"assets\", \"assets\", \"assets\", \"assets\", \"assets\", \"async\", \"async\", \"async\", \"async\", \"async\", \"async\", \"async\", \"async\", \"async\", \"async\", \"async\", \"async\", \"async\", \"async\", \"async\", \"async\", \"async\", \"asyncio\", \"asyncio\", \"asyncio\", \"asyncstorage\", \"audio\", \"audio\", \"audio\", \"audio\", \"audio\", \"auth\", \"auth\", \"auth\", \"auth\", \"auth\", \"auth\", \"auth\", \"auth\", \"auth\", \"auth\", \"auth\", \"auth\", \"authenticate\", \"authenticate\", \"authenticate\", \"authenticate\", \"authenticate\", \"authenticate\", \"authenticate\", \"authentication\", \"authentication\", \"authentication\", \"authentication\", \"authentication\", \"authentication\", \"authenticatorbase\", \"authorize\", \"authorize\", \"authorize\", \"authorize\", \"autocomplete\", \"autocomplete\", \"autocomplete\", \"autocomplete\", \"autocomplete\", \"autocomplete\", \"autocomplete\", \"autocomplete\", \"autocomplete\", \"autoconfigure\", \"autowired\", \"avd\", \"avro\", \"await\", \"await\", \"await\", \"await\", \"await\", \"await\", \"await\", \"await\", \"await\", \"await\", \"aws\", \"aws\", \"aws\", \"aws\", \"aws\", \"aws\", \"aws\", \"awt\", \"ay'\", \"ay'\", \"azure\", \"azure\", \"azure\", \"azure\", \"azure\", \"azure\", \"azure\", \"azure\", \"azurerm\", \"babel\", \"babel\", \"background\", \"background\", \"background\", \"background\", \"background\", \"background\", \"background\", \"background\", \"background\", \"background\", \"background\", \"background\", \"background\", \"background\", \"background\", \"background\", \"background\", \"banana\", \"banana\", \"banana\", \"base\", \"base\", \"base\", \"base\", \"base\", \"base\", \"base\", \"base\", \"base\", \"base\", \"base\", \"base\", \"base\", \"base\", \"base\", \"base\", \"base\", \"base\", \"base\", \"base\", \"batch\", \"batch\", \"batch\", \"batch\", \"batch\", \"batch\", \"batch\", \"batch\", \"batch\", \"batch\", \"batch\", \"batch\", \"batch\", \"baz\", \"baz\", \"bazel\", \"bazel\", \"beam\", \"beam\", \"beam\", \"bean\", \"bean\", \"beautifulsoup\", \"beautifulsoup\", \"belongsto\", \"belongsto\", \"belongsto\", \"benefit\", \"benefit\", \"benefit\", \"benefit\", \"benefit\", \"benefit\", \"benefit\", \"bert\", \"best\", \"best\", \"best\", \"best\", \"best\", \"best\", \"best\", \"best\", \"best\", \"best\", \"best\", \"best\", \"best\", \"best\", \"best\", \"best\", \"best\", \"best\", \"better\", \"better\", \"better\", \"better\", \"better\", \"better\", \"better\", \"better\", \"better\", \"better\", \"better\", \"better\", \"better\", \"better\", \"better\", \"better\", \"better\", \"better\", \"better\", \"bin\", \"bin\", \"bin\", \"bin\", \"bin\", \"bin\", \"bin\", \"bin\", \"bin\", \"bin\", \"bin\", \"bionic\", \"bionic\", \"bionic\", \"bitrate\", \"blade\", \"blade\", \"blade\", \"blazor\", \"blazor\", \"blazor\", \"ble\", \"ble\", \"ble\", \"ble\", \"blob\", \"blob\", \"blob\", \"blob\", \"blob\", \"blob\", \"blob\", \"blob\", \"blob\", \"blob\", \"blob\", \"blob\", \"blob\", \"blob\", \"blob\", \"bloc\", \"board\", \"board\", \"board\", \"board\", \"board\", \"board\", \"board\", \"board\", \"body\", \"body\", \"body\", \"body\", \"body\", \"body\", \"body\", \"body\", \"body\", \"body\", \"body\", \"body\", \"body\", \"body\", \"body\", \"body\", \"boost\", \"boost\", \"boost\", \"boost\", \"boot\", \"boot\", \"boot\", \"boot\", \"boot\", \"bootstrapcdn\", \"bootstrapcdn\", \"border\", \"border\", \"border\", \"bot\", \"bot\", \"boxplot\", \"boxplot\", \"branch\", \"branch\", \"branch\", \"branch\", \"branch\", \"branch\", \"brew\", \"brew\", \"broker\", \"broker\", \"broker\", \"broker\", \"broker\", \"broker\", \"browsermodule\", \"browserrouter\", \"browserrouter\", \"btn\", \"btn\", \"btn\", \"btn\", \"bucket\", \"bucket\", \"bucket\", \"bucket\", \"bucket\", \"bucket\", \"bucket\", \"buffer\", \"buffer\", \"buffer\", \"buffer\", \"buffer\", \"buffer\", \"buffer\", \"buffer\", \"buffer\", \"buffer\", \"buffer\", \"buffer\", \"buffer\", \"buffer\", \"buffer\", \"build\", \"build\", \"build\", \"build\", \"build\", \"build\", \"build\", \"build\", \"build\", \"build\", \"build\", \"build\", \"build\", \"build\", \"build\", \"build\", \"build\", \"build\", \"build\", \"build\", \"buildcontext\", \"builder\", \"builder\", \"builder\", \"builder\", \"builder\", \"builder\", \"builder\", \"builder\", \"builder\", \"builder\", \"builder\", \"builder\", \"builder\", \"builder\", \"builder\", \"button\", \"button\", \"button\", \"button\", \"button\", \"button\", \"button\", \"button\", \"button\", \"button\", \"button\", \"byte\", \"byte\", \"byte\", \"byte\", \"byte\", \"byte\", \"byte\", \"byte\", \"byte\", \"byte\", \"byte\", \"bytes\", \"bytes\", \"bytes\", \"bytes\", \"bytes\", \"bytes\", \"bytes\", \"bytes\", \"bytes\", \"bytes\", \"bytes\", \"bytes\", \"bytes\", \"calendar\", \"calendar\", \"calendar\", \"calendar\", \"calendar\", \"calendar\", \"calendar\", \"calendar\", \"calendar\", \"call\", \"call\", \"call\", \"call\", \"call\", \"call\", \"call\", \"call\", \"call\", \"call\", \"call\", \"call\", \"call\", \"call\", \"call\", \"call\", \"call\", \"call\", \"call\", \"call\", \"camera\", \"camera\", \"camera\", \"camera\", \"camera\", \"camera\", \"camera\", \"canactivate\", \"cancellationtoken\", \"cancellationtoken\", \"canvas\", \"canvas\", \"canvas\", \"canvas\", \"card\", \"card\", \"card\", \"card\", \"card\", \"card\", \"card\", \"card\", \"card\", \"cargo\", \"carousel\", \"carousel\", \"cart\", \"cart\", \"cart\", \"cart\", \"category\", \"category\", \"category\", \"category\", \"category\", \"category\", \"category\", \"category\", \"category\", \"category\", \"category\", \"category\", \"cbc\", \"cbc\", \"cbc\", \"cbc\", \"cbc\", \"cbind\", \"cbind\", \"cell\", \"cell\", \"cell\", \"cell\", \"cell\", \"cell\", \"cell\", \"cellar\", \"cellar\", \"cellar\", \"center\", \"center\", \"center\", \"center\", \"center\", \"center\", \"center\", \"center\", \"center\", \"cert\", \"cert\", \"cert\", \"cert\", \"cert\", \"certificate\", \"certificate\", \"certificate\", \"certificate\", \"certificate\", \"certificate\", \"certificate\", \"cffi\", \"cgfloat\", \"cgpoint\", \"change\", \"change\", \"change\", \"change\", \"change\", \"change\", \"change\", \"change\", \"change\", \"change\", \"change\", \"change\", \"change\", \"change\", \"change\", \"change\", \"change\", \"change\", \"change\", \"change\", \"channel\", \"channel\", \"channel\", \"channel\", \"channel\", \"channel\", \"channel\", \"channel\", \"channel\", \"channel\", \"channel\", \"channel\", \"channel\", \"char\", \"char\", \"char\", \"char\", \"char\", \"char\", \"char\", \"char\", \"charfield\", \"chart\", \"chart\", \"chart\", \"chart\", \"chart\", \"chart\", \"chat\", \"chat\", \"chat\", \"chat\", \"chat\", \"chat\", \"chat\", \"chat\", \"chat\", \"chat\", \"chat\", \"checkbox\", \"checkbox\", \"checkbox\", \"checkbox\", \"checkbox\", \"checkboxes\", \"checkboxes\", \"checkboxes\", \"child\", \"child\", \"child\", \"child\", \"child\", \"child\", \"child\", \"child\", \"child\", \"child\", \"child\", \"child\", \"child\", \"child\", \"child\", \"child\", \"childitem\", \"childprocess\", \"children\", \"children\", \"children\", \"children\", \"children\", \"children\", \"children\", \"children\", \"chrome\", \"chrome\", \"chrome\", \"chrome\", \"chrome\", \"chrome\", \"chrome\", \"chrome\", \"chrome\", \"chrome\", \"chromedriver\", \"chromeoptions\", \"chrono\", \"cipher\", \"cipher\", \"cipher\", \"circle\", \"circle\", \"circle\", \"circle\", \"circle\", \"circle\", \"circle\", \"cjs\", \"claimsidentity\", \"claimtypes\", \"clang\", \"clang\", \"clang\", \"clang\", \"class\", \"class\", \"class\", \"class\", \"class\", \"class\", \"class\", \"class\", \"class\", \"class\", \"class\", \"class\", \"class\", \"class\", \"class\", \"class\", \"class\", \"class\", \"class\", \"class\", \"classification\", \"classification\", \"classloader\", \"classloader\", \"classname\", \"classname\", \"classname\", \"cli\", \"cli\", \"cli\", \"cli\", \"cli\", \"cli\", \"cli\", \"cli\", \"cli\", \"cli\", \"cli\", \"cli\", \"cli\", \"click\", \"click\", \"click\", \"click\", \"click\", \"click\", \"click\", \"click\", \"click\", \"click\", \"click\", \"click\", \"click\", \"click\", \"click\", \"click\", \"click\", \"client\", \"client\", \"client\", \"client\", \"client\", \"client\", \"client\", \"client\", \"client\", \"client\", \"client\", \"client\", \"client\", \"client\", \"client\", \"client\", \"clients\", \"clients\", \"clients\", \"clients\", \"clients\", \"clients\", \"clients\", \"clients\", \"clients\", \"clients\", \"close\", \"close\", \"close\", \"close\", \"close\", \"close\", \"close\", \"close\", \"close\", \"close\", \"close\", \"close\", \"close\", \"close\", \"close\", \"close\", \"close\", \"close\", \"close\", \"close\", \"cloud\", \"cloud\", \"cloud\", \"cloud\", \"cloud\", \"cloud\", \"cloud\", \"cloud\", \"cloud\", \"cloudformation\", \"cluster\", \"cluster\", \"cluster\", \"cluster\", \"cluster\", \"cluster\", \"cluster\", \"cluster\", \"cmake\", \"cmake\", \"cmake\", \"cmakefiles\", \"cmakefiles\", \"cmakelists\", \"cnn\", \"cocoapods\", \"cocoapods\", \"code\", \"code\", \"code\", \"code\", \"code\", \"code\", \"code\", \"code\", \"code\", \"code\", \"code\", \"code\", \"code\", \"code\", \"code\", \"code\", \"code\", \"code\", \"code\", \"code\", \"codebuild\", \"cognito\", \"collapse\", \"collapse\", \"collapse\", \"collapse\", \"collapse\", \"collectionview\", \"color\", \"color\", \"color\", \"color\", \"color\", \"color\", \"color\", \"colorbar\", \"colour\", \"colour\", \"colour\", \"colour\", \"column\", \"column\", \"column\", \"column\", \"column\", \"column\", \"column\", \"column\", \"column\", \"column\", \"columns\", \"columns\", \"columns\", \"columns\", \"com\", \"com\", \"com\", \"com\", \"com\", \"com\", \"com\", \"com\", \"com\", \"com\", \"com\", \"com\", \"com\", \"com\", \"com\", \"com\", \"com\", \"com\", \"com\", \"com\", \"command\", \"command\", \"command\", \"command\", \"command\", \"command\", \"command\", \"command\", \"command\", \"command\", \"command\", \"command\", \"command\", \"command\", \"command\", \"command\", \"command\", \"command\", \"commit\", \"commit\", \"commit\", \"commit\", \"commit\", \"commit\", \"commit\", \"commit\", \"commit\", \"commit\", \"commit\", \"commit\", \"commit\", \"commit\", \"commit\", \"commit\", \"commit\", \"commonjs\", \"compareto\", \"compile\", \"compile\", \"compile\", \"compile\", \"compile\", \"compile\", \"compile\", \"compile\", \"compile\", \"compile\", \"compile\", \"compile\", \"compile\", \"compile\", \"compile\", \"compileroptions\", \"completablefuture\", \"completionhandler\", \"component\", \"component\", \"component\", \"component\", \"component\", \"component\", \"component\", \"component\", \"component\", \"component\", \"component'\", \"component'\", \"componentdidmount\", \"components\", \"components\", \"components\", \"components\", \"components\", \"components\", \"components\", \"components\", \"components\", \"components\", \"components\", \"components\", \"components\", \"components\", \"components\", \"components\", \"components\", \"compose\", \"compose\", \"compose\", \"compose\", \"compose\", \"compose\", \"compose\", \"compose\", \"compose\", \"comprehension\", \"concurrent\", \"concurrent\", \"concurrent\", \"concurrent\", \"concurrent\", \"concurrent\", \"concurrent\", \"concurrent\", \"concurrent\", \"conda\", \"conda\", \"config\", \"config\", \"config\", \"config\", \"config\", \"config\", \"config\", \"config\", \"config\", \"config\", \"config\", \"config\", \"config\", \"config\", \"config\", \"config\", \"config\", \"config\", \"config\", \"config\", \"configmap\", \"configuration\", \"configuration\", \"configuration\", \"configuration\", \"configuration\", \"configuration\", \"configuration\", \"configuration\", \"configuration\", \"configuration\", \"configuration\", \"configuration\", \"configuration\", \"configuration\", \"configuration\", \"configuration\", \"configuration\", \"configuration\", \"configureservices\", \"confluent\", \"confluent\", \"connect\", \"connect\", \"connect\", \"connect\", \"connect\", \"connect\", \"connect\", \"connect\", \"connect\", \"connect\", \"connect\", \"connect\", \"connect\", \"connect\", \"connect\", \"connect\", \"connect\", \"connect\", \"connect\", \"connection\", \"connection\", \"connection\", \"connection\", \"connection\", \"connection\", \"connection\", \"connection\", \"connection\", \"connection\", \"connection\", \"connection\", \"connection\", \"connection\", \"connection\", \"connections\", \"connections\", \"connections\", \"connections\", \"connections\", \"connections\", \"connections\", \"connections\", \"consectetur\", \"consistency\", \"consistency\", \"consistency\", \"consistency\", \"consistency\", \"consistency\", \"consistency\", \"console\", \"console\", \"console\", \"console\", \"console\", \"console\", \"console\", \"console\", \"console\", \"console\", \"console\", \"console\", \"console\", \"console\", \"console\", \"console\", \"console\", \"console\", \"const\", \"const\", \"const\", \"const\", \"const\", \"const\", \"const\", \"const\", \"const\", \"const\", \"const\", \"const\", \"constexpr\", \"constraintlayout\", \"constraintstart\", \"constrainttop\", \"consumer\", \"consumer\", \"consumer\", \"consumer\", \"consumer\", \"container\", \"container\", \"container\", \"container\", \"container\", \"container\", \"container\", \"container\", \"container\", \"container\", \"container\", \"container\", \"container\", \"container\", \"container\", \"containers\", \"containers\", \"containers\", \"containers\", \"containers\", \"containers\", \"containers\", \"containers\", \"containers\", \"content\", \"content\", \"content\", \"content\", \"content\", \"content\", \"content\", \"content\", \"content\", \"content\", \"content\", \"content\", \"content\", \"content\", \"content\", \"content\", \"content\", \"content\", \"content\", \"content\", \"contentview\", \"context\", \"context\", \"context\", \"context\", \"context\", \"context\", \"context\", \"context\", \"context\", \"context\", \"context\", \"context\", \"context\", \"context\", \"context\", \"context\", \"context\", \"context\", \"context\", \"context\", \"contour\", \"control\", \"control\", \"control\", \"control\", \"control\", \"control\", \"control\", \"control\", \"control\", \"control\", \"control\", \"control\", \"control\", \"control\", \"control\", \"control\", \"control\", \"control\", \"control\", \"control\", \"conv\", \"conversation\", \"conversation\", \"conversation\", \"conversation\", \"conversation\", \"conversation\", \"conversation\", \"convert\", \"convert\", \"convert\", \"convert\", \"convert\", \"convert\", \"convert\", \"convert\", \"convert\", \"convert\", \"convert\", \"convert\", \"convert\", \"convert\", \"convert\", \"convert\", \"convert\", \"convert\", \"convert\", \"convert\", \"cookie\", \"cookie\", \"cookie\", \"cookie\", \"cookie\", \"cookie\", \"cookies\", \"cookies\", \"cookies\", \"cookies\", \"cookies\", \"cookies\", \"core\", \"core\", \"core\", \"core\", \"core\", \"core\", \"core\", \"core\", \"core\", \"core\", \"core\", \"core\", \"core\", \"core\", \"core\", \"core\", \"core\", \"core\", \"core\", \"core\", \"core'\", \"core'\", \"core'\", \"core'\", \"core'\", \"core'\", \"core'\", \"core'\", \"core'\", \"coredata\", \"coresimulator\", \"cors\", \"cors'\", \"count\", \"count\", \"count\", \"count\", \"count\", \"count\", \"count\", \"count\", \"count\", \"count\", \"count\", \"count\", \"count\", \"count\", \"count\", \"count\", \"count\", \"cout\", \"coyoteadapter\", \"cpp\", \"cpp\", \"cpp\", \"cpp\", \"cppreference\", \"cpython\", \"cran\", \"create\", \"create\", \"create\", \"create\", \"create\", \"create\", \"create\", \"create\", \"create\", \"create\", \"create\", \"create\", \"create\", \"create\", \"create\", \"create\", \"create\", \"create\", \"create\", \"create\", \"createstacknavigator\", \"createstate\", \"credential\", \"credential\", \"credential\", \"credential\", \"credentials\", \"credentials\", \"credentials\", \"credentials\", \"credentials\", \"credentials\", \"credentials\", \"cron\", \"cron\", \"cron\", \"cron\", \"crs\", \"crs\", \"crs\", \"css\", \"css\", \"css\", \"css\", \"css\", \"css\", \"css\", \"csv\", \"csv\", \"csv\", \"csv\", \"csv\", \"ctypes\", \"culture\", \"culture\", \"culture\", \"cumsum\", \"curl\", \"curl\", \"curl\", \"curl\", \"curl\", \"curlopt\", \"custom\", \"custom\", \"custom\", \"custom\", \"custom\", \"custom\", \"custom\", \"custom\", \"custom\", \"custom\", \"custom\", \"custom\", \"custom\", \"custom\", \"custom\", \"custom\", \"custom\", \"custom\", \"custom\", \"custom\", \"customer\", \"customer\", \"customer\", \"customer\", \"customer\", \"customer\", \"customer\", \"customer\", \"customer\", \"customer\", \"customer\", \"cxx\", \"cxx\", \"cypress\", \"cypress\", \"cython\", \"dag\", \"dag\", \"dags\", \"dags\", \"dags\", \"dark\", \"dark\", \"dark\", \"dark\", \"dark\", \"dart\", \"dart\", \"dart'\", \"dartlang\", \"dash\", \"dash\", \"dash\", \"dash\", \"dash\", \"dash\", \"dash\", \"dash\", \"data\", \"data\", \"data\", \"data\", \"data\", \"data\", \"data\", \"data\", \"data\", \"data\", \"data\", \"data\", \"data\", \"data\", \"data\", \"data\", \"data\", \"data\", \"data\", \"data\", \"database\", \"database\", \"database\", \"database\", \"database\", \"database\", \"database\", \"database\", \"database\", \"database\", \"database\", \"database\", \"database\", \"database\", \"database\", \"databaseurl\", \"dataframe\", \"dataframe\", \"dataframe\", \"dataframe\", \"dataframes\", \"dataframes\", \"dataframes\", \"dataset\", \"dataset\", \"dataset\", \"dataset\", \"dataset\", \"datasource\", \"datasource\", \"datasource\", \"datasource\", \"datasource\", \"datasource\", \"datasource\", \"datasource\", \"datasource\", \"date\", \"date\", \"date\", \"date\", \"date\", \"date\", \"date\", \"date\", \"date\", \"date\", \"date\", \"date\", \"date\", \"date\", \"date\", \"date\", \"date\", \"date\", \"date\", \"datefield\", \"datepicker\", \"datepicker\", \"datepicker\", \"datepicker\", \"datepicker\", \"datepicker\", \"datetime\", \"datetime\", \"datetime\", \"datetime\", \"datetime\", \"datetime\", \"datetime\", \"datetime\", \"datetime\", \"datetime\", \"datetime\", \"datetime\", \"datetime\", \"datetimefield\", \"dbcontext\", \"dbcontext\", \"debug\", \"debug\", \"debug\", \"debug\", \"debug\", \"debug\", \"debug\", \"debug\", \"debug\", \"debug\", \"debug\", \"debug\", \"debug\", \"debug\", \"debug\", \"debug\", \"debug\", \"debug\", \"debug\", \"debug\", \"decimal\", \"decimal\", \"decimal\", \"decimal\", \"decimal\", \"decimal\", \"decrypt\", \"decrypt\", \"decrypt\", \"def\", \"def\", \"def\", \"def\", \"def\", \"def\", \"def\", \"def\", \"def\", \"def\", \"def\", \"def\", \"def\", \"def\", \"def\", \"def\", \"default\", \"default\", \"default\", \"default\", \"default\", \"default\", \"default\", \"default\", \"default\", \"default\", \"default\", \"default\", \"default\", \"default\", \"default\", \"default\", \"default\", \"default\", \"default\", \"default\", \"defaultbuildoperationexecutor\", \"defaultlistablebeanfactory\", \"defaultrequestheaders\", \"defaultrequestheaders\", \"defaultsingletonbeanregistry\", \"define\", \"define\", \"define\", \"define\", \"define\", \"define\", \"define\", \"define\", \"define\", \"define\", \"define\", \"define\", \"define\", \"define\", \"define\", \"define\", \"define\", \"define\", \"define\", \"define\", \"delegatingmethodaccessorimpl\", \"delegatingmethodaccessorimpl\", \"dense\", \"dense\", \"dependency\", \"dependency\", \"dependency\", \"dependency\", \"dependency\", \"dependency\", \"dependency\", \"dependency\", \"dependency\", \"dependency\", \"dependencyinjection\", \"deploy\", \"deploy\", \"deploy\", \"deploy\", \"deploy\", \"deploy\", \"deploy\", \"deploy\", \"deploy\", \"deploy\", \"deploy\", \"deploy\", \"deploy\", \"deploy\", \"deployment\", \"deployment\", \"deployment\", \"deployment\", \"deployment\", \"deployment\", \"deployment\", \"deployment\", \"deployment\", \"deployment\", \"deployment\", \"deriveddata\", \"desiredcapabilities\", \"detection\", \"detection\", \"detection\", \"detection\", \"detection\", \"detection\", \"detection\", \"detection\", \"detection\", \"detection\", \"detection\", \"devdependencies\", \"developer\", \"developer\", \"developer\", \"developer\", \"developer\", \"developer\", \"developer\", \"developer\", \"developer\", \"developer\", \"developer\", \"developer\", \"developer\", \"developer\", \"developer\", \"developer\", \"developer\", \"developer\", \"device\", \"device\", \"device\", \"device\", \"device\", \"device\", \"device\", \"device\", \"device\", \"device\", \"device\", \"device\", \"device\", \"device\", \"device\", \"device\", \"devices\", \"devices\", \"devices\", \"devices\", \"devices\", \"devices\", \"devices\", \"devices\", \"devices\", \"devices\", \"devices\", \"devkit\", \"devops\", \"devops\", \"dictionaries\", \"dictionary\", \"dictionary\", \"dictionary\", \"dictionary\", \"dictionary\", \"dictionary\", \"dictionary\", \"dictionary\", \"dictionary\", \"dictionary\", \"difference\", \"difference\", \"difference\", \"difference\", \"difference\", \"difference\", \"difference\", \"difference\", \"difference\", \"difference\", \"difference\", \"difference\", \"difference\", \"difference\", \"difference\", \"difference\", \"difference\", \"difference\", \"difference\", \"different\", \"different\", \"different\", \"different\", \"different\", \"different\", \"different\", \"different\", \"different\", \"different\", \"different\", \"different\", \"different\", \"different\", \"different\", \"different\", \"different\", \"different\", \"different\", \"different\", \"dimen\", \"directory\", \"directory\", \"directory\", \"directory\", \"directory\", \"directory\", \"directory\", \"directory\", \"directory\", \"directory\", \"directory\", \"directory\", \"directory\", \"directory\", \"directory\", \"disadvantage\", \"disadvantage\", \"disadvantage\", \"discord\", \"dispatchqueue\", \"display\", \"display\", \"display\", \"display\", \"display\", \"display\", \"display\", \"display\", \"display\", \"display\", \"display\", \"display\", \"display\", \"display\", \"display\", \"display\", \"display\", \"display\", \"display\", \"display\", \"dist\", \"dist\", \"dist\", \"dist\", \"dist\", \"dist\", \"dist\", \"dist\", \"dist\", \"distutils\", \"div\", \"div\", \"div\", \"div\", \"divs\", \"divs\", \"django\", \"django\", \"django\", \"django\", \"django\", \"django\", \"dll\", \"dll\", \"dll\", \"dll\", \"dll\", \"docker\", \"docker\", \"dockerfile\", \"dockerfile\", \"dockerfile\", \"document\", \"document\", \"document\", \"document\", \"document\", \"document\", \"document\", \"document\", \"document\", \"document\", \"document\", \"document\", \"document\", \"document\", \"document\", \"document\", \"document\", \"document\", \"document\", \"document\", \"docx\", \"dolor\", \"dom\", \"dom\", \"dom\", \"dom\", \"dom\", \"dom\", \"dom\", \"dom\", \"doprivileged\", \"dotnet\", \"dotnet\", \"download\", \"download\", \"download\", \"download\", \"download\", \"download\", \"download\", \"download\", \"download\", \"download\", \"download\", \"download\", \"download\", \"download\", \"download\", \"download\", \"download\", \"download\", \"downloadfile\", \"dpkg\", \"dpkg\", \"dplyr\", \"dplyr\", \"dplyr\", \"draggable\", \"draggable\", \"drawable\", \"drive\", \"drive\", \"drive\", \"drive\", \"drive\", \"drive\", \"drive\", \"drive\", \"drive\", \"drive\", \"drive\", \"drive\", \"drive\", \"drive\", \"drive\", \"drive\", \"drive\", \"driver\", \"driver\", \"driver\", \"driver\", \"driver\", \"driver\", \"driver\", \"driver\", \"driver\", \"driver\", \"driver\", \"driver\", \"dropout\", \"dtype\", \"dtype\", \"dtype\", \"dyld\", \"dyld\", \"dynamodb\", \"dynamodb\", \"dynamodb\", \"eax\", \"ecdsa\", \"ecdsa\", \"eclipse\", \"eclipse\", \"eclipse\", \"eclipse\", \"edgeinsets\", \"edgeinsets\", \"edgeinsets\", \"edittext\", \"egg\", \"eject\", \"elastic\", \"elastic\", \"elastic\", \"elasticsearch\", \"elasticsearch\", \"electron\", \"electron\", \"electron\", \"element\", \"element\", \"element\", \"element\", \"element\", \"element\", \"element\", \"element\", \"element\", \"element\", \"element\", \"element\", \"element\", \"element\", \"element\", \"element\", \"elementref\", \"elit\", \"eloquent\", \"eloquent\", \"eloquent\", \"email\", \"email\", \"email\", \"email\", \"email\", \"email\", \"email\", \"email\", \"email\", \"email\", \"emr\", \"emr\", \"emr\", \"emulator\", \"emulator\", \"emulator\", \"encode\", \"encode\", \"encode\", \"encode\", \"encode\", \"encode\", \"encode\", \"encode\", \"encode\", \"encode\", \"encode\", \"encode\", \"encode\", \"encode\", \"encode\", \"encode\", \"encrypt\", \"encrypt\", \"encrypt\", \"encrypt\", \"encryption\", \"encryption\", \"encryption\", \"encryption\", \"enctype\", \"endfor\", \"endfor\", \"endl\", \"entityframeworkcore\", \"enum\", \"enum\", \"enum\", \"enum\", \"enum\", \"enum\", \"enum\", \"enum\", \"enum\", \"env\", \"env\", \"env\", \"env\", \"env\", \"env\", \"env\", \"env\", \"env\", \"env\", \"env\", \"env\", \"env\", \"env\", \"env\", \"env\", \"environmentobject\", \"envs\", \"envs\", \"epoch\", \"epoch\", \"epochs\", \"err\", \"err\", \"err\", \"err\", \"err\", \"err\", \"err\", \"err\", \"err\", \"err\", \"err\", \"err\", \"err\", \"err\", \"error\", \"error\", \"error\", \"error\", \"error\", \"error\", \"error\", \"error\", \"error\", \"error\", \"error\", \"error\", \"error\", \"error\", \"error\", \"error\", \"error\", \"error\", \"error\", \"error\", \"eslint\", \"eslint\", \"esm\", \"esm\", \"estimator\", \"estimator\", \"eureka\", \"eureka\", \"event\", \"event\", \"event\", \"event\", \"event\", \"event\", \"event\", \"event\", \"event\", \"event\", \"event\", \"event\", \"event\", \"event\", \"event\", \"event\", \"event\", \"event\", \"event\", \"every\", \"every\", \"every\", \"every\", \"every\", \"every\", \"every\", \"every\", \"every\", \"every\", \"every\", \"every\", \"every\", \"every\", \"every\", \"every\", \"every\", \"every\", \"every\", \"every\", \"excel\", \"excel\", \"excel\", \"excel\", \"excel\", \"excel\", \"excel\", \"exclusions\", \"execute\", \"execute\", \"execute\", \"execute\", \"execute\", \"execute\", \"execute\", \"execute\", \"execute\", \"execute\", \"execute\", \"execute\", \"execute\", \"execute\", \"execute\", \"execute\", \"execute\", \"execute\", \"execute\", \"execute\", \"execution\", \"execution\", \"execution\", \"execution\", \"execution\", \"execution\", \"execution\", \"execution\", \"execution\", \"execution\", \"execution\", \"execution\", \"execution\", \"execution\", \"execution\", \"executor\", \"executor\", \"executor\", \"executor\", \"executor\", \"executor\", \"executor\", \"executor\", \"expensive\", \"expensive\", \"expensive\", \"expensive\", \"expensive\", \"expo\", \"expo\", \"expo\", \"export\", \"export\", \"export\", \"export\", \"export\", \"export\", \"export\", \"export\", \"export\", \"export\", \"export\", \"export\", \"export\", \"export\", \"export\", \"export\", \"export\", \"export\", \"export\", \"export\", \"expression\", \"expression\", \"expression\", \"expression\", \"expression\", \"expression\", \"expression\", \"expression\", \"expression\", \"expression\", \"expression\", \"extend\", \"extend\", \"extend\", \"extend\", \"extend\", \"extend\", \"extend\", \"extend\", \"extend\", \"extend\", \"extend\", \"extend\", \"extend\", \"extend\", \"extend\", \"extend\", \"extend\", \"extend\", \"extend\", \"extend\", \"extremely\", \"extremely\", \"extremely\", \"extremely\", \"extremely\", \"extremely\", \"extremely\", \"extremely\", \"extremely\", \"extremely\", \"extremely\", \"extremely\", \"factory\", \"factory\", \"factory\", \"factory\", \"factory\", \"factory\", \"factory\", \"factory\", \"factory\", \"factory\", \"factory\", \"factory\", \"factory\", \"factory\", \"factory\", \"fail\", \"fail\", \"fail\", \"fail\", \"fail\", \"fail\", \"fail\", \"fail\", \"fail\", \"fail\", \"fail\", \"fail\", \"fail\", \"fail\", \"fail\", \"fail\", \"fail\", \"fail\", \"fail\", \"fail\", \"fast\", \"fast\", \"fast\", \"fast\", \"fast\", \"fast\", \"fast\", \"fast\", \"fast\", \"fast\", \"fast\", \"fast\", \"fast\", \"fast\", \"fast\", \"fast\", \"faster\", \"faster\", \"faster\", \"faster\", \"faster\", \"faster\", \"faster\", \"faster\", \"faster\", \"fcm\", \"feature\", \"feature\", \"feature\", \"feature\", \"feature\", \"feature\", \"feature\", \"feature\", \"feature\", \"feature\", \"feature\", \"feature\", \"feature\", \"feature\", \"feature\", \"feature\", \"feature\", \"feature\", \"feature\", \"feature\", \"fetch\", \"fetch\", \"fetch\", \"fetch\", \"fetch\", \"fetch\", \"fetch\", \"fetch\", \"fetch\", \"fetch\", \"fetch\", \"fetch\", \"fetch\", \"fetch\", \"fetch\", \"fetch\", \"fetch\", \"fetch\", \"fetch\", \"fetch\", \"fetchrequest\", \"ffmpeg\", \"ffmpeg\", \"ffmpeg\", \"field\", \"field\", \"field\", \"field\", \"field\", \"field\", \"field\", \"field\", \"field\", \"field\", \"field\", \"field\", \"field\", \"field\", \"field\", \"field\", \"field\", \"field\", \"field\", \"file\", \"file\", \"file\", \"file\", \"file\", \"file\", \"file\", \"file\", \"file\", \"file\", \"file\", \"file\", \"file\", \"file\", \"file\", \"file\", \"file\", \"file\", \"file\", \"file\", \"filename\", \"filename\", \"filename\", \"filename\", \"filename\", \"filename\", \"filename\", \"filename\", \"filename\", \"filename\", \"filename\", \"filename\", \"filename\", \"filepath\", \"filepath\", \"filepath\", \"filepath\", \"filepath\", \"filepath\", \"filepath\", \"filepath\", \"filereader\", \"filereader\", \"filestream\", \"filter\", \"filter\", \"filter\", \"filter\", \"filter\", \"filter\", \"filter\", \"filter\", \"filter\", \"filter\", \"filter\", \"filter\", \"filter\", \"filter\", \"filter\", \"filter\", \"filter\", \"filter\", \"filter\", \"filter\", \"final\", \"final\", \"final\", \"final\", \"final\", \"final\", \"final\", \"final\", \"final\", \"final\", \"final\", \"final\", \"final\", \"final\", \"final\", \"final\", \"final\", \"final\", \"final\", \"final\", \"find\", \"find\", \"find\", \"find\", \"find\", \"find\", \"find\", \"find\", \"find\", \"find\", \"find\", \"find\", \"find\", \"find\", \"find\", \"find\", \"find\", \"find\", \"find\", \"find\", \"findclass\", \"findelement\", \"findviewbyid\", \"firebase\", \"firebase\", \"firebase\", \"firebase\", \"firebase\", \"firebase\", \"firebase\", \"firebase\", \"firebaseapp\", \"firebaseapp\", \"firestore\", \"firestore\", \"firestore\", \"firestore\", \"fit\", \"fit\", \"fit\", \"fit\", \"fit\", \"fit\", \"fit\", \"fit\", \"fit\", \"fit\", \"fit\", \"flask\", \"flask\", \"flask\", \"flask\", \"flask\", \"flask\", \"flask\", \"flex\", \"flex\", \"flex\", \"float\", \"float\", \"float\", \"float\", \"float\", \"float\", \"float\", \"float\", \"fluidpage\", \"flutter\", \"flutter\", \"flutter\", \"flutter\", \"flux\", \"flux\", \"flux\", \"flux\", \"flux\", \"folder\", \"folder\", \"folder\", \"folder\", \"folder\", \"folder\", \"folder\", \"folder\", \"folder\", \"folder\", \"folder\", \"folder\", \"folder\", \"folder\", \"folder\", \"folder\", \"folder\", \"folder\", \"font\", \"font\", \"font\", \"font\", \"font\", \"foo\", \"foo\", \"foo\", \"foo\", \"foo\", \"foo\", \"foo\", \"foo\", \"foo\", \"foo\", \"foregroundcolor\", \"foreignkey\", \"foreignkey\", \"foreignkey\", \"forkey\", \"form\", \"form\", \"form\", \"form\", \"form\", \"form\", \"form\", \"form\", \"form\", \"form\", \"form\", \"form\", \"form\", \"form\", \"form\", \"form\", \"formarray\", \"formcontrol\", \"formcontrol\", \"formcontrolname\", \"formdata\", \"formdata\", \"formdata\", \"formgroup\", \"formgroup\", \"formik\", \"formik\", \"formik\", \"forroot\", \"forwardref\", \"fragment\", \"fragment\", \"fragment\", \"fragment\", \"fragment\", \"frame\", \"frame\", \"frame\", \"frame\", \"frame\", \"frame\", \"frame\", \"frame\", \"frame\", \"frame\", \"frame\", \"frame\", \"frame\", \"frame\", \"framework\", \"framework\", \"framework\", \"framework\", \"framework\", \"framework\", \"framework\", \"framework\", \"framework\", \"framework\", \"framework\", \"framework\", \"framework\", \"framework\", \"framework\", \"framework\", \"framework\", \"framework\", \"framework\", \"framework\", \"ftp\", \"ftp\", \"ftp\", \"ftp\", \"ftp\", \"fun\", \"fun\", \"fun\", \"fun\", \"fun\", \"fun\", \"fun\", \"fun\", \"fun\", \"fun\", \"func\", \"func\", \"func\", \"func\", \"func\", \"func\", \"func\", \"func\", \"func\", \"func\", \"func\", \"func\", \"function\", \"function\", \"function\", \"function\", \"function\", \"function\", \"function\", \"function\", \"function\", \"function\", \"function\", \"function\", \"function\", \"function\", \"function\", \"function\", \"function\", \"function\", \"function\", \"futuretask\", \"fxml\", \"game\", \"game\", \"game\", \"game\", \"game\", \"game\", \"game\", \"game\", \"game\", \"game\", \"game\", \"game\", \"gatsby\", \"gatsby\", \"gcc\", \"gcc\", \"gcc\", \"gcc\", \"gcloud\", \"gcloud\", \"gcp\", \"gcp\", \"gcp\", \"gcp\", \"geckodriver\", \"gem\", \"gem\", \"gem\", \"gems\", \"generatedvalue\", \"get\", \"get\", \"get\", \"get\", \"get\", \"get\", \"get\", \"get\", \"get\", \"get\", \"get\", \"get\", \"get\", \"get\", \"get\", \"get\", \"get\", \"get\", \"get\", \"get\", \"getinitialprops\", \"getmapping\", \"git\", \"git\", \"git\", \"git\", \"git\", \"git\", \"git\", \"github\", \"github\", \"github\", \"github\", \"github\", \"github\", \"github\", \"github\", \"github\", \"github\", \"github\", \"github\", \"github\", \"github\", \"github\", \"github\", \"github\", \"github\", \"github\", \"github\", \"gitlab\", \"gitlab\", \"gitlab\", \"gke\", \"gmail\", \"gmail\", \"gmail\", \"gmail\", \"gmail\", \"gmail\", \"gmail\", \"gmail\", \"gmail\", \"godbolt\", \"google\", \"google\", \"google\", \"google\", \"google\", \"google\", \"google\", \"google\", \"google\", \"google\", \"google\", \"google\", \"google\", \"google\", \"google\", \"google\", \"google\", \"google\", \"google\", \"google\", \"gpg\", \"gpg\", \"gpg\", \"gpg\", \"gpu\", \"gpu\", \"gpu\", \"gpu\", \"gpu\", \"grad\", \"gradle\", \"gradle\", \"gradle\", \"gradle\", \"gradle\", \"grafana\", \"graph\", \"graph\", \"graph\", \"graph\", \"graph\", \"graph\", \"graph\", \"graph\", \"graph\", \"graph\", \"graph\", \"graph\", \"graph\", \"graph\", \"graph\", \"graphql\", \"graphql\", \"graphql\", \"graphql\", \"graphql\", \"graphql\", \"grid\", \"grid\", \"grid\", \"grid\", \"groupby\", \"groupby\", \"groupid\", \"grpc\", \"grpc\", \"grpc\", \"grpc\", \"grpc\", \"gtk\", \"gtk\", \"gtk\", \"guild\", \"gulp\", \"gyp\", \"hadoop\", \"handleclick\", \"handshake\", \"handshake\", \"handshake\", \"hdfs\", \"hdfs\", \"header\", \"header\", \"header\", \"header\", \"header\", \"header\", \"header\", \"header\", \"header\", \"header\", \"header\", \"header\", \"header\", \"header\", \"header\", \"header\", \"header\", \"header\", \"headers\", \"headers\", \"headers\", \"headers\", \"headers\", \"headers\", \"headers\", \"headers\", \"headers\", \"headers\", \"headers\", \"headers\", \"headers\", \"headers'\", \"headers'\", \"headless\", \"headless\", \"headless\", \"headless\", \"headless\", \"headless\", \"headless\", \"heap\", \"heap\", \"heap\", \"heap\", \"heap\", \"height\", \"height\", \"height\", \"height\", \"helm\", \"helm\", \"helvetica\", \"hibernate\", \"hibernate\", \"high\", \"high\", \"high\", \"high\", \"high\", \"high\", \"high\", \"high\", \"high\", \"high\", \"high\", \"high\", \"high\", \"high\", \"hikari\", \"hive\", \"hive\", \"hive\", \"home\", \"home\", \"home\", \"home\", \"home\", \"home\", \"home\", \"home\", \"home\", \"home\", \"home\", \"home\", \"home\", \"home\", \"home\", \"home\", \"home\", \"home\", \"home\", \"home\", \"hook\", \"hook\", \"hook\", \"hook\", \"hook\", \"hook\", \"hook\", \"hook\", \"hook\", \"hook\", \"hook\", \"hook\", \"hook\", \"hook\", \"hook\", \"horizontalalignment\", \"host\", \"host\", \"host\", \"host\", \"host\", \"host\", \"host\", \"host\", \"host\", \"host\", \"host\", \"host\", \"host\", \"host\", \"host\", \"host\", \"host\", \"hover\", \"hover\", \"hover\", \"hover\", \"hpp\", \"href\", \"href\", \"href\", \"href\", \"href\", \"href\", \"href\", \"html\", \"html\", \"html\", \"html\", \"html\", \"html\", \"html\", \"html\", \"html\", \"html\", \"html\", \"html\", \"html\", \"html\", \"html\", \"html\", \"html\", \"html\", \"html\", \"http\", \"http\", \"http\", \"http\", \"http\", \"http\", \"http\", \"http\", \"http\", \"http\", \"http\", \"http\", \"http\", \"http\", \"http\", \"http\", \"http\", \"http\", \"httpclient\", \"httpclient\", \"httpclient\", \"httpclient\", \"httpclient\", \"httpclient\", \"httpclient\", \"httpclient\", \"httpcontext\", \"httpcontext\", \"httprequest\", \"httprequest\", \"httprequest\", \"httprequest\", \"httprequest\", \"https\", \"https\", \"https\", \"https\", \"https\", \"https\", \"https\", \"https\", \"https\", \"https\", \"https\", \"https\", \"https\", \"https\", \"https\", \"https\", \"https\", \"https\", \"https\", \"https\", \"huge\", \"huge\", \"huge\", \"huge\", \"huge\", \"huge\", \"huge\", \"huge\", \"huge\", \"huge\", \"huge\", \"huge\", \"huge\", \"iam\", \"iapplicationbuilder\", \"icon\", \"icon\", \"icon\", \"icon\", \"icon\", \"icon\", \"icon\", \"icon\", \"iconfiguration\", \"identity\", \"identity\", \"identity\", \"identity\", \"identity\", \"identity\", \"identity\", \"identity\", \"identity\", \"identity\", \"identity\", \"identity\", \"idp\", \"idtoken\", \"idtoken\", \"ifelse\", \"ifndef\", \"iformfile\", \"ilogger\", \"image\", \"image\", \"image\", \"image\", \"image\", \"image\", \"image\", \"image\", \"image\", \"image\", \"image\", \"image\", \"image\", \"image\", \"image\", \"image\", \"image\", \"image\", \"image\", \"image\", \"imagefield\", \"impact\", \"impact\", \"impact\", \"impact\", \"impact\", \"impact\", \"impact\", \"impact\", \"impact\", \"impact\", \"impact\", \"implementation\", \"implementation\", \"implementation\", \"implementation\", \"implementation\", \"implementation\", \"implementation\", \"implementation\", \"implementation\", \"implementation\", \"implementation\", \"implementation\", \"implementation\", \"implementation\", \"implementation\", \"implementation\", \"implementation\", \"implementation\", \"implementation\", \"import\", \"import\", \"import\", \"import\", \"import\", \"import\", \"import\", \"import\", \"import\", \"import\", \"import\", \"import\", \"import\", \"import\", \"import\", \"import\", \"import\", \"import\", \"import\", \"importerror\", \"importerror\", \"importlib\", \"imread\", \"imshow\", \"include\", \"include\", \"include\", \"include\", \"include\", \"include\", \"include\", \"include\", \"include\", \"include\", \"include\", \"include\", \"include\", \"include\", \"include\", \"include\", \"include\", \"include\", \"include\", \"include\", \"increase\", \"increase\", \"increase\", \"increase\", \"increase\", \"increase\", \"increase\", \"increase\", \"increase\", \"increase\", \"increase\", \"incredibly\", \"incredibly\", \"incredibly\", \"incredibly\", \"incredibly\", \"incredibly\", \"index\", \"index\", \"index\", \"index\", \"index\", \"index\", \"index\", \"index\", \"index\", \"index\", \"index\", \"index\", \"index\", \"index\", \"index\", \"index\", \"index\", \"index\", \"index\", \"index\", \"indexpath\", \"infile\", \"infile\", \"inflate\", \"info\", \"info\", \"info\", \"info\", \"info\", \"info\", \"info\", \"info\", \"info\", \"info\", \"info\", \"info\", \"info\", \"info\", \"info\", \"info\", \"info\", \"info\", \"info\", \"info\", \"ingress\", \"ingress\", \"init\", \"init\", \"init\", \"init\", \"init\", \"init\", \"init\", \"init\", \"init\", \"init\", \"init\", \"init\", \"init\", \"init\", \"init\", \"init\", \"init\", \"init\", \"init\", \"init\", \"initializeapp\", \"initializeapp\", \"initialstate\", \"initstate\", \"injectable\", \"input\", \"input\", \"input\", \"input\", \"input\", \"input\", \"input\", \"input\", \"input\", \"input\", \"input\", \"input\", \"input\", \"input\", \"input\", \"input\", \"input\", \"input\", \"input\", \"insert\", \"insert\", \"insert\", \"insert\", \"insert\", \"insert\", \"insert\", \"insert\", \"insert\", \"insert\", \"insert\", \"insert\", \"insert\", \"insert\", \"insert\", \"insert\", \"insert\", \"insert\", \"insert\", \"insert\", \"instal\", \"instal\", \"instal\", \"instal\", \"instal\", \"instal\", \"instal\", \"instal\", \"instal\", \"instal\", \"instal\", \"instal\", \"instal\", \"instal\", \"install\", \"install\", \"install\", \"install\", \"install\", \"install\", \"installation\", \"installation\", \"installation\", \"installation\", \"installation\", \"installation\", \"installer\", \"installer\", \"installer\", \"int\", \"int\", \"int\", \"int\", \"int\", \"int\", \"int\", \"int\", \"int\", \"int\", \"int\", \"int\", \"int\", \"int\", \"int\", \"int\", \"integer\", \"integer\", \"integer\", \"integer\", \"integer\", \"integer\", \"integer\", \"integer\", \"integer\", \"integer\", \"integer\", \"integer\", \"integerfield\", \"intellisense\", \"intellisense\", \"intensive\", \"intensive\", \"intent\", \"intent\", \"intent\", \"internal\", \"internal\", \"internal\", \"internal\", \"internal\", \"internal\", \"internal\", \"internal\", \"internal\", \"internal\", \"internal\", \"internal\", \"internal\", \"internal\", \"internal\", \"internal\", \"internal\", \"internal\", \"internal\", \"invoke\", \"invoke\", \"invoke\", \"invoke\", \"invoke\", \"invoke\", \"invoke\", \"invoke\", \"invoke\", \"invoke\", \"invoke\", \"invoke\", \"invoke\", \"invoke\", \"invoke\", \"invoke\", \"invoke\", \"invoke\", \"ion\", \"ion\", \"ion\", \"ionic\", \"ionic\", \"ionic\", \"ionic\", \"ionic\", \"ionic\", \"ionic\", \"ionic\", \"ionic\", \"ios\", \"ios\", \"ios\", \"ios\", \"ios\", \"ios\", \"ios\", \"iostream\", \"ipa\", \"iphoneos\", \"iphonesimulator\", \"ipsum\", \"ipsum\", \"iservicecollection\", \"istio\", \"item\", \"item\", \"item\", \"item\", \"item\", \"item\", \"item\", \"item\", \"item\", \"item\", \"item\", \"item\", \"item\", \"item\", \"item\", \"item\", \"itext\", \"itext\", \"jackson\", \"jackson\", \"jackson\", \"jango\", \"jango\", \"jar\", \"jar\", \"java\", \"java\", \"java\", \"java\", \"java\", \"javafx\", \"jcenter\", \"jcenter\", \"jdbc\", \"jdbc\", \"jdbc\", \"jdk\", \"jdk\", \"jdk\", \"jetbrains\", \"jetbrains\", \"jetbrains\", \"jetbrains\", \"jetbrains\", \"job\", \"job\", \"job\", \"job\", \"job\", \"job\", \"job\", \"job\", \"job\", \"job\", \"job\", \"job\", \"job\", \"job\", \"job\", \"jpa\", \"js'\", \"js'\", \"js'\", \"js'\", \"js'\", \"js'\", \"json\", \"json\", \"json\", \"json\", \"json\", \"json\", \"json\", \"json\", \"json\", \"json\", \"json\", \"json\", \"json\", \"json\", \"json\", \"json\", \"json\", \"json\", \"json\", \"json\", \"junit\", \"junit\", \"junit\", \"junit\", \"jwt\", \"jwt\", \"jwt\", \"jwt\", \"kafka\", \"kafka\", \"kafka\", \"kafkaconsumer\", \"kafkaconsumer\", \"karma\", \"karma\", \"karma\", \"keras\", \"kerberos\", \"kerberos\", \"key\", \"key\", \"key\", \"key\", \"key\", \"key\", \"key\", \"key\", \"key\", \"key\", \"key\", \"key\", \"key\", \"key\", \"key\", \"key\", \"key\", \"key\", \"key\", \"key\", \"keyboard\", \"keyboard\", \"keyboard\", \"keyboard\", \"keyboard\", \"keyboard\", \"keyboard\", \"keyboard\", \"keycloak\", \"keycloak\", \"keycloak\", \"keyframes\", \"khtml\", \"khtml\", \"khtml\", \"kibana\", \"kivy\", \"kivy\", \"kivy\", \"know\", \"know\", \"know\", \"know\", \"know\", \"know\", \"know\", \"know\", \"know\", \"know\", \"know\", \"know\", \"know\", \"know\", \"know\", \"know\", \"know\", \"know\", \"know\", \"know\", \"kotlin\", \"kotlin\", \"kotlin\", \"kotlin\", \"kotlin\", \"kube\", \"kubectl\", \"kubelet\", \"kubernetes\", \"kubernetes\", \"kwargs\", \"kwargs\", \"kwargs\", \"kwargs\", \"label\", \"label\", \"label\", \"label\", \"label\", \"label\", \"label\", \"label\", \"label\", \"label\", \"label\", \"label\", \"label\", \"label\", \"label\", \"lambda\", \"lambda\", \"lambda\", \"lambda\", \"lambda\", \"lambda\", \"lambda\", \"lambda\", \"lambda\", \"lambda\", \"lambda\", \"lambda\", \"lang\", \"lang\", \"lang\", \"lang\", \"lang\", \"lang\", \"lang\", \"lang\", \"lang\", \"lang\", \"lang\", \"lang\", \"lang\", \"laravel\", \"laravel\", \"laravel\", \"laravel\", \"laravel\", \"laravel\", \"laravel\", \"laravel\", \"laravel\", \"large\", \"large\", \"large\", \"large\", \"large\", \"large\", \"large\", \"large\", \"large\", \"large\", \"large\", \"large\", \"large\", \"large\", \"launcher\", \"launcher\", \"launcher\", \"launcher\", \"launcher\", \"launcher\", \"launcher\", \"launcher\", \"layer\", \"layer\", \"layer\", \"layer\", \"layer\", \"layer\", \"layer\", \"layer\", \"layer\", \"layer\", \"layer\", \"layer\", \"layout\", \"layout\", \"layout\", \"layout\", \"layout\", \"layout\", \"layout\", \"layoutinflater\", \"leaflet\", \"leaflet\", \"leak\", \"leak\", \"leak\", \"leak\", \"leak\", \"leak\", \"leak\", \"leave\", \"leave\", \"leave\", \"leave\", \"leave\", \"leave\", \"leave\", \"leave\", \"leave\", \"leave\", \"leave\", \"leave\", \"leave\", \"leave\", \"leave\", \"leave\", \"leave\", \"leave\", \"leave\", \"leave\", \"let\", \"let\", \"let\", \"let\", \"let\", \"let\", \"let\", \"let\", \"let\", \"let\", \"let\", \"let\", \"let\", \"let\", \"let\", \"let\", \"let\", \"let\", \"let\", \"let\", \"lib\", \"lib\", \"lib\", \"lib\", \"lib\", \"lib\", \"lib\", \"lib\", \"lib\", \"lib\", \"lib\", \"lib\", \"lib\", \"lib\", \"library\", \"library\", \"library\", \"library\", \"library\", \"library\", \"library\", \"library\", \"library\", \"library\", \"library\", \"library\", \"library\", \"library\", \"library\", \"library\", \"library\", \"library\", \"library\", \"library\", \"libx\", \"libx\", \"libx\", \"like\", \"like\", \"like\", \"like\", \"like\", \"like\", \"like\", \"like\", \"like\", \"like\", \"like\", \"like\", \"like\", \"like\", \"like\", \"like\", \"like\", \"like\", \"like\", \"like\", \"limit\", \"limit\", \"limit\", \"limit\", \"limit\", \"limit\", \"limit\", \"limit\", \"limit\", \"limit\", \"limit\", \"limit\", \"limit\", \"limit\", \"limit\", \"limit\", \"limit\", \"limit\", \"limit\", \"limit\", \"line\", \"line\", \"line\", \"line\", \"line\", \"line\", \"line\", \"line\", \"line\", \"line\", \"line\", \"line\", \"line\", \"line\", \"line\", \"line\", \"line\", \"line\", \"line\", \"line\", \"linearlayout\", \"link\", \"link\", \"link\", \"link\", \"link\", \"link\", \"link\", \"link\", \"link\", \"link\", \"link\", \"link\", \"link\", \"link\", \"link\", \"link\", \"link\", \"link\", \"link\", \"link\", \"linux\", \"linux\", \"linux\", \"linux\", \"linux\", \"linux\", \"linux\", \"linux\", \"linux\", \"linux\", \"list\", \"list\", \"list\", \"list\", \"list\", \"list\", \"list\", \"list\", \"list\", \"list\", \"list\", \"list\", \"list\", \"list\", \"list\", \"list\", \"list\", \"list\", \"list\", \"list\", \"listview\", \"listview\", \"listview\", \"listview\", \"livedata\", \"ljava\", \"ljava\", \"loadclass\", \"loadclass\", \"loader\", \"loader\", \"loader\", \"loader\", \"loader\", \"loader\", \"loader\", \"loader\", \"loader'\", \"local\", \"local\", \"local\", \"local\", \"local\", \"local\", \"local\", \"local\", \"local\", \"local\", \"local\", \"local\", \"local\", \"local\", \"local\", \"local\", \"local\", \"local\", \"local\", \"local\", \"localhost\", \"localhost\", \"localhost\", \"localhost\", \"localhost\", \"localhost\", \"localhost\", \"localhost\", \"localhost\", \"localhost\", \"localhost\", \"localhost\", \"localhost\", \"localhost\", \"localstorage\", \"localstorage\", \"localstorage\", \"localstorage\", \"lock\", \"lock\", \"lock\", \"lock\", \"lock\", \"lock\", \"lock\", \"lock\", \"lock\", \"lock\", \"lock\", \"lock\", \"lock\", \"lock\", \"lock\", \"lock\", \"log\", \"log\", \"log\", \"log\", \"log\", \"log\", \"log\", \"log\", \"log\", \"log\", \"log\", \"log\", \"log\", \"log\", \"log\", \"log\", \"log\", \"log\", \"log\", \"log\", \"login\", \"login\", \"login\", \"login\", \"login\", \"login\", \"login\", \"login\", \"login\", \"login\", \"login\", \"login\", \"login\", \"logins\", \"logstash\", \"logstash\", \"lombok\", \"lon\", \"lon\", \"look\", \"look\", \"look\", \"look\", \"look\", \"look\", \"look\", \"look\", \"look\", \"look\", \"look\", \"look\", \"look\", \"look\", \"look\", \"look\", \"look\", \"look\", \"look\", \"look\", \"lorem\", \"lorem\", \"loss\", \"loss\", \"loss\", \"lot\", \"lot\", \"lot\", \"lot\", \"lot\", \"lot\", \"lot\", \"lot\", \"lot\", \"lot\", \"lot\", \"lot\", \"lot\", \"lot\", \"lot\", \"lot\", \"lot\", \"lot\", \"lot\", \"lot\", \"lstm\", \"lu'\", \"mac\", \"mac\", \"mac\", \"mac\", \"mac\", \"mac\", \"mac\", \"mac\", \"mac\", \"mac\", \"macos\", \"macos\", \"macos\", \"macos\", \"macos\", \"macos\", \"macos\", \"macos\", \"macosx\", \"macosx\", \"macro\", \"macro\", \"mail\", \"mail\", \"mail\", \"mail\", \"mail\", \"mail\", \"mail\", \"main\", \"main\", \"main\", \"main\", \"main\", \"main\", \"main\", \"main\", \"main\", \"main\", \"main\", \"main\", \"main\", \"main\", \"main\", \"main\", \"main\", \"main\", \"main\", \"main\", \"mainactivity\", \"mainaxisalignment\", \"mainwindow\", \"make\", \"make\", \"make\", \"make\", \"make\", \"make\", \"make\", \"make\", \"make\", \"make\", \"make\", \"make\", \"make\", \"make\", \"make\", \"make\", \"make\", \"make\", \"make\", \"make\", \"maketext\", \"manytomanyfield\", \"map\", \"map\", \"map\", \"map\", \"map\", \"map\", \"map\", \"map\", \"map\", \"map\", \"map\", \"map\", \"map\", \"map\", \"map\", \"map\", \"map\", \"map\", \"map\", \"map\", \"mapstatetoprops\", \"margin\", \"margin\", \"margin\", \"margin\", \"marker\", \"marker\", \"marker\", \"marker\", \"marker\", \"mask\", \"mask\", \"mask\", \"mask\", \"mask\", \"mask\", \"mask\", \"mask\", \"mask\", \"mask\", \"massive\", \"massive\", \"massive\", \"mat\", \"mat\", \"mat\", \"mat\", \"mat\", \"mat\", \"matcelldef\", \"matcolumndef\", \"matheadercelldef\", \"matheaderrowdef\", \"matinput\", \"matrix\", \"matrix\", \"matrix\", \"matrix\", \"matrix\", \"matrowdef\", \"maven\", \"maven\", \"memory\", \"memory\", \"memory\", \"memory\", \"memory\", \"memory\", \"memory\", \"memory\", \"memory\", \"memory\", \"memory\", \"memory\", \"memory\", \"memory\", \"memorystream\", \"menu\", \"menu\", \"menu\", \"menu\", \"menu\", \"menu\", \"menu\", \"message\", \"message\", \"message\", \"message\", \"message\", \"message\", \"message\", \"message\", \"message\", \"message\", \"message\", \"message\", \"message\", \"message\", \"message\", \"message\", \"message\", \"message\", \"message\", \"message\", \"method\", \"method\", \"method\", \"method\", \"method\", \"method\", \"method\", \"method\", \"method\", \"method\", \"method\", \"method\", \"method\", \"method\", \"method\", \"method\", \"method\", \"method\", \"method\", \"method\", \"methods'\", \"methods'\", \"methods'\", \"metro\", \"microsoft\", \"microsoft\", \"microsoft\", \"microsoft\", \"microsoft\", \"microsoft\", \"microsoft\", \"microsoft\", \"microsoft\", \"microsoft\", \"microsoft\", \"microsoft\", \"microsoft\", \"microsoft\", \"microsoft\", \"million\", \"million\", \"million\", \"miniconda\", \"miniconda\", \"miniconda\", \"minicssextractplugin\", \"minikube\", \"mock\", \"mock\", \"mock\", \"mock\", \"mock\", \"model\", \"model\", \"model\", \"model\", \"model\", \"model\", \"model\", \"model\", \"model\", \"model\", \"model\", \"model\", \"model\", \"model\", \"model\", \"model\", \"model\", \"model\", \"modelform\", \"modelversion\", \"module\", \"module\", \"module\", \"module\", \"module\", \"module\", \"module\", \"module\", \"module\", \"module\", \"module\", \"module\", \"module\", \"module\", \"module\", \"module\", \"module\", \"module\", \"module\", \"modulenotfounderror\", \"modules\", \"modules\", \"modules\", \"modules\", \"modules\", \"modules\", \"modules\", \"modules\", \"modules\", \"modules\", \"modules\", \"modules\", \"mongo\", \"mongo\", \"mongo\", \"mongo\", \"mongo\", \"mongo\", \"mongo\", \"mongodb\", \"mongodb\", \"mongodb\", \"mongodb\", \"mongodb\", \"mongodb\", \"mongodb\", \"mongodb\", \"mongodb\", \"mongodb\", \"mongoose\", \"mongoose\", \"mongoose\", \"mongoose\", \"month\", \"month\", \"month\", \"month\", \"month\", \"month\", \"month\", \"month\", \"month\", \"moq\", \"moq\", \"mqtt\", \"msal\", \"msal\", \"msbuild\", \"msbuild\", \"msbuild\", \"much\", \"much\", \"much\", \"much\", \"much\", \"much\", \"much\", \"much\", \"much\", \"much\", \"much\", \"much\", \"much\", \"much\", \"much\", \"much\", \"much\", \"much\", \"much\", \"much\", \"multiple\", \"multiple\", \"multiple\", \"multiple\", \"multiple\", \"multiple\", \"multiple\", \"multiple\", \"multiple\", \"multiple\", \"multiple\", \"multiple\", \"multiple\", \"multiple\", \"multiple\", \"multiple\", \"multiple\", \"multiple\", \"multiple\", \"multiple\", \"multithreading\", \"multithreading\", \"mut\", \"mutate\", \"mutate\", \"mutate\", \"mutate\", \"mutation\", \"mutation\", \"mutation\", \"mutation\", \"mutation\", \"myform\", \"mysql\", \"mysql\", \"mysql\", \"mysql\", \"mysql\", \"mysql\", \"mysqld\", \"mysqli\", \"mysqli\", \"name\", \"name\", \"name\", \"name\", \"name\", \"name\", \"name\", \"name\", \"name\", \"name\", \"name\", \"name\", \"name\", \"name\", \"name\", \"name\", \"name\", \"name\", \"name\", \"name\", \"native\", \"native\", \"native\", \"native\", \"native\", \"native\", \"native\", \"native\", \"native\", \"native\", \"native\", \"native\", \"native\", \"native\", \"native\", \"native\", \"native\", \"nativemethodaccessorimpl\", \"nativemethodaccessorimpl\", \"nativescript\", \"nativescript\", \"navigationlink\", \"ndk\", \"ndk\", \"need\", \"need\", \"need\", \"need\", \"need\", \"need\", \"need\", \"need\", \"need\", \"need\", \"need\", \"need\", \"need\", \"need\", \"need\", \"need\", \"need\", \"need\", \"need\", \"need\", \"net\", \"net\", \"net\", \"net\", \"net\", \"net\", \"net\", \"net\", \"net\", \"net\", \"net\", \"net\", \"net\", \"net\", \"net\", \"net\", \"net\", \"net\", \"net\", \"netcore\", \"network\", \"network\", \"network\", \"network\", \"network\", \"network\", \"network\", \"network\", \"network\", \"network\", \"network\", \"network\", \"network\", \"network\", \"network\", \"network\", \"network\", \"network\", \"neural\", \"new\", \"new\", \"new\", \"new\", \"new\", \"new\", \"new\", \"new\", \"new\", \"new\", \"new\", \"new\", \"new\", \"new\", \"new\", \"new\", \"new\", \"new\", \"new\", \"new\", \"nginx\", \"nginx\", \"nginx\", \"ngmodel\", \"ngmodel\", \"ngmodel\", \"ngmodule\", \"ngoninit\", \"ngoninit\", \"ngoninit\", \"ngrx\", \"ngsubmit\", \"nil\", \"nil\", \"nil\", \"nil\", \"nil\", \"nioendpoint\", \"nlp\", \"node\", \"node\", \"node\", \"node\", \"node\", \"node\", \"node\", \"node\", \"node\", \"node\", \"node\", \"node\", \"node\", \"node\", \"node\", \"node\", \"nodemon\", \"nosniff\", \"notification\", \"notification\", \"notification\", \"notification\", \"notification\", \"notification\", \"notification\", \"notifications\", \"notifications\", \"notifications\", \"notifications\", \"notifications\", \"notifications\", \"notifications\", \"notifications\", \"notifications\", \"notifications\", \"nowrap\", \"npm\", \"nuget\", \"nuget\", \"nuget\", \"null\", \"null\", \"null\", \"null\", \"null\", \"null\", \"null\", \"null\", \"null\", \"null\", \"null\", \"null\", \"null\", \"null\", \"null\", \"null\", \"null\", \"null\", \"null\", \"nullptr\", \"number\", \"number\", \"number\", \"number\", \"number\", \"number\", \"number\", \"number\", \"number\", \"number\", \"number\", \"number\", \"number\", \"number\", \"number\", \"number\", \"number\", \"number\", \"number\", \"number\", \"numpy\", \"numpy\", \"numpy\", \"nums\", \"nuxt\", \"nuxt\", \"nuxt\", \"nuxt\", \"nvarchar\", \"nvarchar\", \"oauth\", \"oauth\", \"oauth\", \"oauth\", \"object\", \"object\", \"object\", \"object\", \"object\", \"object\", \"object\", \"object\", \"object\", \"object\", \"object\", \"object\", \"object\", \"object\", \"object\", \"object\", \"object\", \"object\", \"object\", \"object\", \"observable\", \"observable\", \"observable\", \"observable\", \"observable\", \"observableobject\", \"oidc\", \"oidc\", \"oncreate\", \"oncreate\", \"one\", \"one\", \"one\", \"one\", \"one\", \"one\", \"one\", \"one\", \"one\", \"one\", \"one\", \"one\", \"one\", \"one\", \"one\", \"one\", \"one\", \"one\", \"one\", \"one\", \"oninit\", \"oninit\", \"onpress\", \"onpress\", \"onpressed\", \"opacity\", \"opacity\", \"open\", \"open\", \"open\", \"open\", \"open\", \"open\", \"open\", \"open\", \"open\", \"open\", \"open\", \"open\", \"open\", \"open\", \"open\", \"open\", \"open\", \"open\", \"open\", \"open\", \"opencv\", \"opencv\", \"opencv\", \"opencv\", \"opencv\", \"openid\", \"openid\", \"openid\", \"openid\", \"openssl\", \"openssl\", \"openssl\", \"openssl\", \"openssl\", \"openstreetmap\", \"operator\", \"operator\", \"operator\", \"operator\", \"operator\", \"operator\", \"operator\", \"operator\", \"operator\", \"operator\", \"operator\", \"optimise\", \"optimise\", \"optimise\", \"optimise\", \"optimizer\", \"optimizer\", \"option\", \"option\", \"option\", \"option\", \"option\", \"option\", \"option\", \"option\", \"option\", \"option\", \"option\", \"option\", \"option\", \"option\", \"option\", \"option\", \"option\", \"option\", \"option\", \"option\", \"org\", \"org\", \"org\", \"org\", \"org\", \"org\", \"org\", \"org\", \"org\", \"org\", \"org\", \"org\", \"org\", \"org\", \"org\", \"org\", \"org\", \"org\", \"origin\", \"origin\", \"origin\", \"origin\", \"origin\", \"origin\", \"origin\", \"origin\", \"origin'\", \"otp\", \"otp\", \"otp\", \"otp\", \"outlook\", \"outlook\", \"outlook\", \"output\", \"output\", \"output\", \"output\", \"output\", \"output\", \"output\", \"output\", \"output\", \"output\", \"output\", \"output\", \"output\", \"output\", \"output\", \"output\", \"output\", \"output\", \"output\", \"output\", \"outputstream\", \"outputstream\", \"overhead\", \"overhead\", \"overhead\", \"overhead\", \"overhead\", \"override\", \"override\", \"override\", \"override\", \"override\", \"override\", \"override\", \"override\", \"override\", \"override\", \"override\", \"override\", \"override\", \"override\", \"override\", \"override\", \"override\", \"override\", \"override\", \"package\", \"package\", \"package\", \"package\", \"package\", \"package\", \"package\", \"package\", \"package\", \"package\", \"package\", \"package\", \"package\", \"package\", \"package\", \"package\", \"package\", \"package\", \"package\", \"packagereference\", \"page\", \"page\", \"page\", \"page\", \"page\", \"page\", \"page\", \"page\", \"page\", \"page\", \"page\", \"page\", \"page\", \"page\", \"page\", \"page\", \"page\", \"page\", \"page\", \"page\", \"pandas\", \"pandas\", \"pandas\", \"pandas\", \"pandas\", \"parallel\", \"parallel\", \"parallel\", \"parallel\", \"parallel\", \"parallel\", \"parallel\", \"parallel\", \"parallel\", \"parallel\", \"parallel\", \"parameter\", \"parameter\", \"parameter\", \"parameter\", \"parameter\", \"parameter\", \"parameter\", \"parameter\", \"parameter\", \"parameter\", \"parameter\", \"parameter\", \"parameter\", \"parameter\", \"parameter\", \"parameter\", \"parameter\", \"parameter\", \"parameter\", \"paramiko\", \"paramiko\", \"parent\", \"parent\", \"parent\", \"parent\", \"parent\", \"parent\", \"parent\", \"parent\", \"parent\", \"parent\", \"parent\", \"parent\", \"parent\", \"parent\", \"parent\", \"parent\", \"parent\", \"parent\", \"parent\", \"pass\", \"pass\", \"pass\", \"pass\", \"pass\", \"pass\", \"pass\", \"pass\", \"pass\", \"pass\", \"pass\", \"pass\", \"pass\", \"pass\", \"pass\", \"pass\", \"pass\", \"pass\", \"pass\", \"pass\", \"password\", \"password\", \"password\", \"password\", \"password\", \"password\", \"password\", \"password\", \"password\", \"password\", \"path\", \"path\", \"path\", \"path\", \"path\", \"path\", \"path\", \"path\", \"path\", \"path\", \"path\", \"path\", \"path\", \"path\", \"path\", \"path\", \"path\", \"path\", \"path\", \"path\", \"payment\", \"payment\", \"payment\", \"payment\", \"payment\", \"payment\", \"payment\", \"pdf\", \"pdf\", \"pdf\", \"pdf\", \"pdfs\", \"pdo\", \"pem\", \"pem\", \"pem\", \"pem\", \"pem\", \"performance\", \"performance\", \"performance\", \"performance\", \"performance\", \"performance\", \"performance\", \"performance\", \"performance\", \"performance\", \"performance\", \"performance\", \"performance\", \"performance\", \"performance\", \"performance\", \"perl\", \"perl\", \"perl\", \"perl\", \"perl\", \"perl\", \"permissions\", \"permissions\", \"permissions\", \"permissions\", \"permissions\", \"permissions\", \"permissions\", \"permissions\", \"permissions\", \"permissions\", \"permissions\", \"permissions\", \"php\", \"php\", \"php\", \"php\", \"php\", \"php\", \"php\", \"php\", \"phpmyadmin\", \"pip\", \"pip\", \"pip\", \"pipeline\", \"pipeline\", \"pipeline\", \"pipeline\", \"pipeline\", \"pipeline\", \"pipeline\", \"pipeline\", \"pipeline\", \"pipeline\", \"pipeline\", \"pipenv\", \"pipenv\", \"pivot\", \"pivot\", \"placeholder\", \"placeholder\", \"placeholder\", \"placeholder\", \"placeholder\", \"placeholder\", \"plaintext\", \"plaintext\", \"plaintext\", \"platform\", \"platform\", \"platform\", \"platform\", \"platform\", \"platform\", \"platform\", \"platform\", \"platform\", \"platform\", \"platform\", \"platform\", \"platform\", \"platform\", \"platform\", \"platform\", \"platform\", \"platform\", \"play\", \"play\", \"play\", \"play\", \"play\", \"play\", \"play\", \"play\", \"play\", \"play\", \"play\", \"play\", \"play\", \"play\", \"play\", \"play\", \"playbook\", \"player\", \"player\", \"plot\", \"plot\", \"plot\", \"plot\", \"plt\", \"plt\", \"plt\", \"plugin\", \"plugin\", \"plugin\", \"plugin\", \"plugin\", \"plugin\", \"plugin\", \"plugin\", \"plugin\", \"plugin\", \"plugin\", \"plugin\", \"plugin\", \"plugin\", \"plugin\", \"plugin'\", \"pod\", \"pod\", \"pod\", \"podfile\", \"podfile\", \"pointer\", \"pointer\", \"pointer\", \"pointer\", \"pointer\", \"pointer\", \"pointer\", \"pointer\", \"polyfills\", \"polyfills\", \"polygons\", \"polygons\", \"pom\", \"pom\", \"port\", \"port\", \"port\", \"port\", \"port\", \"port\", \"port\", \"port\", \"port\", \"port\", \"port\", \"port\", \"port\", \"port\", \"position\", \"position\", \"position\", \"position\", \"position\", \"position\", \"position\", \"position\", \"position\", \"position\", \"position\", \"position\", \"position\", \"position\", \"position\", \"position\", \"position\", \"possible\", \"possible\", \"possible\", \"possible\", \"possible\", \"possible\", \"possible\", \"possible\", \"possible\", \"possible\", \"possible\", \"possible\", \"possible\", \"possible\", \"possible\", \"possible\", \"possible\", \"possible\", \"possible\", \"possible\", \"post\", \"post\", \"post\", \"post\", \"post\", \"post\", \"post\", \"post\", \"post\", \"post\", \"post\", \"post\", \"post\", \"post\", \"post\", \"post\", \"post\", \"post\", \"post\", \"post\", \"postcss\", \"postgres\", \"postgres\", \"postgres\", \"postgres\", \"postgres\", \"postgres\", \"postgres\", \"postman\", \"postman\", \"postman\", \"postman\", \"postman\", \"powershell\", \"powershell\", \"powershell\", \"powershell\", \"powershell\", \"practice\", \"practice\", \"practice\", \"practice\", \"practice\", \"practice\", \"practice\", \"practice\", \"practice\", \"practice\", \"practice\", \"practice\", \"practice\", \"practice\", \"practice\", \"practice\", \"practice\", \"pred\", \"predict\", \"prediction\", \"predictions\", \"preflight\", \"preflight\", \"preset\", \"preset\", \"preset\", \"preset\", \"preset\", \"presets\", \"prettier\", \"preview\", \"preview\", \"preview\", \"preview\", \"preview\", \"preview\", \"preview\", \"preview\", \"preview\", \"preview\", \"preview\", \"preview\", \"preview\", \"preview\", \"prevstate\", \"price\", \"price\", \"price\", \"price\", \"price\", \"price\", \"price\", \"principal\", \"principal\", \"principal\", \"principal\", \"print\", \"print\", \"print\", \"print\", \"print\", \"print\", \"print\", \"print\", \"print\", \"print\", \"print\", \"print\", \"print\", \"print\", \"print\", \"print\", \"print\", \"print\", \"printer\", \"printer\", \"printer\", \"printer\", \"printf\", \"printf\", \"printf\", \"printf\", \"private\", \"private\", \"private\", \"private\", \"private\", \"private\", \"private\", \"private\", \"private\", \"private\", \"private\", \"private\", \"private\", \"private\", \"private\", \"private\", \"private\", \"private\", \"problem\", \"problem\", \"problem\", \"problem\", \"problem\", \"problem\", \"problem\", \"problem\", \"problem\", \"problem\", \"problem\", \"problem\", \"problem\", \"problem\", \"problem\", \"problem\", \"problem\", \"problem\", \"problem\", \"problem\", \"process\", \"process\", \"process\", \"process\", \"process\", \"process\", \"process\", \"process\", \"process\", \"process\", \"process\", \"process\", \"process\", \"process\", \"process\", \"process\", \"process\", \"process\", \"process\", \"process\", \"producer\", \"producer\", \"product\", \"product\", \"product\", \"product\", \"product\", \"product\", \"product\", \"product\", \"product\", \"product\", \"product\", \"product\", \"product\", \"product\", \"products\", \"products\", \"products\", \"products\", \"products\", \"products\", \"products\", \"products\", \"products\", \"products\", \"products\", \"products\", \"profile\", \"profile\", \"profile\", \"profile\", \"profile\", \"profile\", \"profile\", \"profile\", \"profile\", \"profile\", \"profile\", \"profile\", \"profile\", \"profile\", \"profile\", \"profile\", \"profile\", \"profile\", \"program\", \"program\", \"program\", \"program\", \"program\", \"program\", \"program\", \"program\", \"program\", \"program\", \"program\", \"program\", \"program\", \"program\", \"program\", \"program\", \"program\", \"program\", \"project\", \"project\", \"project\", \"project\", \"project\", \"project\", \"project\", \"project\", \"project\", \"project\", \"project\", \"project\", \"project\", \"project\", \"project\", \"project\", \"project\", \"project\", \"project\", \"project\", \"prometheus\", \"prometheus\", \"prometheus\", \"prometheus\", \"prometheus\", \"promise\", \"promise\", \"promise\", \"promise\", \"promise\", \"promise\", \"promise\", \"promise\", \"promise\", \"promise\", \"promise\", \"promise\", \"promise\", \"prop\", \"prop\", \"prop\", \"prop\", \"prop\", \"prop\", \"properties\", \"properties\", \"properties\", \"properties\", \"properties\", \"properties\", \"properties\", \"properties\", \"properties\", \"properties\", \"properties\", \"properties\", \"properties\", \"properties\", \"properties\", \"properties\", \"properties\", \"properties\", \"properties\", \"proptypes\", \"pros\", \"pros\", \"pros\", \"protobuf\", \"protobuf\", \"protobuf\", \"protobuf\", \"protobuf\", \"protobuf\", \"protobuf\", \"protobuf\", \"proxy\", \"proxy\", \"proxy\", \"proxy\", \"proxy\", \"proxy\", \"proxy\", \"proxy\", \"proxy\", \"proxy\", \"proxy\", \"psycopg\", \"ptr\", \"ptr\", \"ptr\", \"public\", \"public\", \"public\", \"public\", \"public\", \"public\", \"public\", \"public\", \"public\", \"public\", \"public\", \"public\", \"public\", \"public\", \"public\", \"public\", \"public\", \"public\", \"publickeytoken\", \"pubsub\", \"puppeteer\", \"puppeteer\", \"py'\", \"pyenv\", \"pygame\", \"pygame\", \"pygame\", \"pygame\", \"pyinstaller\", \"pypi\", \"pypi\", \"python\", \"python\", \"python\", \"python\", \"python\", \"python\", \"python\", \"python\", \"python\", \"python\", \"pythonhosted\", \"pytorch\", \"pytorch\", \"pytorch\", \"pyx\", \"qemu\", \"qtcore\", \"qtwidgets\", \"query\", \"query\", \"query\", \"query\", \"query\", \"query\", \"query\", \"query\", \"query\", \"query\", \"query\", \"query\", \"query\", \"query\", \"query\", \"query\", \"query\", \"queryset\", \"queryset\", \"queryset\", \"question\", \"question\", \"question\", \"question\", \"question\", \"question\", \"question\", \"question\", \"question\", \"question\", \"question\", \"question\", \"question\", \"question\", \"question\", \"question\", \"question\", \"question\", \"question\", \"question\", \"queue\", \"queue\", \"queue\", \"queue\", \"queue\", \"queue\", \"queue\", \"queue\", \"queue\", \"queue\", \"queue\", \"queue\", \"queue\", \"queue\", \"quired'\", \"radio\", \"radio\", \"radio\", \"radio\", \"radius\", \"radius\", \"radius\", \"radius\", \"radius\", \"rail\", \"rail\", \"rail\", \"rail\", \"rail\", \"rail\", \"raise\", \"raise\", \"raise\", \"raise\", \"raise\", \"raise\", \"raise\", \"raise\", \"raise\", \"raise\", \"raise\", \"raise\", \"raise\", \"raise\", \"raise\", \"raise\", \"raise\", \"raise\", \"raise\", \"raise\", \"ram\", \"ram\", \"ram\", \"ram\", \"ram\", \"ram\", \"random\", \"random\", \"random\", \"random\", \"random\", \"random\", \"random\", \"random\", \"random\", \"random\", \"random\", \"random\", \"random\", \"random\", \"random\", \"random\", \"random\", \"random\", \"random\", \"random\", \"range\", \"range\", \"range\", \"range\", \"range\", \"range\", \"range\", \"range\", \"range\", \"range\", \"range\", \"range\", \"range\", \"range\", \"range\", \"range\", \"rdd\", \"react\", \"react\", \"react\", \"react\", \"react\", \"reaction\", \"reactjs\", \"reactjs\", \"reactjs\", \"reactjs\", \"reactjs\", \"reactor\", \"reactor\", \"read\", \"read\", \"read\", \"read\", \"read\", \"read\", \"read\", \"read\", \"read\", \"read\", \"read\", \"read\", \"read\", \"read\", \"read\", \"read\", \"read\", \"read\", \"read\", \"read\", \"reader\", \"reader\", \"reader\", \"reader\", \"reader\", \"reader\", \"reader\", \"reader\", \"reader\", \"reader\", \"reader\", \"reader\", \"reader\", \"reader\", \"reader\", \"reader\", \"rebase\", \"recent\", \"recent\", \"recent\", \"recent\", \"recent\", \"recent\", \"recent\", \"recent\", \"recent\", \"recent\", \"recent\", \"recent\", \"recent\", \"recent\", \"recent\", \"recent\", \"recyclerview\", \"redirect\", \"redirect\", \"redirect\", \"redirect\", \"redirect\", \"redirect\", \"redirect\", \"redirect\", \"redirect\", \"redirect\", \"redirecturi\", \"redirecturi\", \"redirecturi\", \"redis\", \"redis\", \"redis\", \"redis\", \"redis\", \"redis\", \"redis\", \"redshift\", \"redshift\", \"redshift\", \"redshift\", \"redux\", \"redux\", \"reference\", \"reference\", \"reference\", \"reference\", \"reference\", \"reference\", \"reference\", \"reference\", \"reference\", \"reference\", \"reference\", \"reference\", \"reference\", \"reference\", \"reference\", \"reference\", \"reference\", \"reference\", \"reference\", \"reference\", \"referer\", \"referer\", \"referrer\", \"reflect\", \"reflect\", \"reflect\", \"reflect\", \"reflect\", \"reflect\", \"reflect\", \"reflect\", \"reflect\", \"reflect\", \"reflect\", \"reflect\", \"reflect\", \"reflect\", \"reflect\", \"reflect\", \"regression\", \"regression\", \"release\", \"release\", \"release\", \"release\", \"release\", \"release\", \"release\", \"release\", \"release\", \"release\", \"release\", \"release\", \"release\", \"release\", \"release\", \"release\", \"relu\", \"render\", \"render\", \"render\", \"render\", \"render\", \"render\", \"render\", \"render\", \"render\", \"render\", \"render\", \"render\", \"render\", \"render\", \"render\", \"report\", \"report\", \"report\", \"report\", \"report\", \"report\", \"report\", \"report\", \"report\", \"report\", \"report\", \"report\", \"report\", \"report\", \"report\", \"report\", \"report\", \"report\", \"report\", \"report\", \"repository\", \"repository\", \"repository\", \"repository\", \"repository\", \"repository\", \"repository\", \"repository\", \"repository\", \"repository\", \"repository\", \"repository\", \"repository\", \"repository\", \"request\", \"request\", \"request\", \"request\", \"request\", \"request\", \"request\", \"request\", \"request\", \"request\", \"request\", \"request\", \"request\", \"request\", \"request\", \"request\", \"request\", \"request\", \"requestmapping\", \"require\", \"require\", \"require\", \"require\", \"require\", \"require\", \"require\", \"require\", \"require\", \"require\", \"require\", \"require\", \"require\", \"require\", \"require\", \"require\", \"require\", \"require\", \"require\", \"require\", \"res\", \"res\", \"res\", \"res\", \"res\", \"res\", \"res\", \"res\", \"res\", \"res\", \"res\", \"res\", \"res\", \"res\", \"res\", \"reshape\", \"reshape\", \"resource\", \"resource\", \"resource\", \"resource\", \"resource\", \"resource\", \"resource\", \"resource\", \"resource\", \"resource\", \"resource\", \"resource\", \"resource\", \"resource\", \"resource\", \"resource\", \"resource\", \"resource\", \"response\", \"response\", \"response\", \"response\", \"response\", \"response\", \"response\", \"response\", \"response\", \"response\", \"response\", \"response\", \"response\", \"response\", \"responseentity\", \"responsive\", \"responsive\", \"responsive\", \"responsive\", \"responsive\", \"responsive\", \"rest\", \"rest\", \"rest\", \"rest\", \"rest\", \"rest\", \"rest\", \"rest\", \"rest\", \"rest\", \"rest\", \"rest\", \"rest\", \"rest\", \"rest\", \"rest\", \"rest\", \"rest\", \"rest\", \"restcontroller\", \"resttemplate\", \"resttemplate\", \"resttemplate\", \"resttemplate\", \"result\", \"result\", \"result\", \"result\", \"result\", \"result\", \"result\", \"result\", \"result\", \"result\", \"result\", \"result\", \"result\", \"result\", \"result\", \"result\", \"result\", \"result\", \"result\", \"result\", \"return\", \"return\", \"return\", \"return\", \"return\", \"return\", \"return\", \"return\", \"return\", \"return\", \"return\", \"return\", \"return\", \"return\", \"return\", \"return\", \"return\", \"return\", \"return\", \"return\", \"returntransfer\", \"rgba\", \"rnn\", \"role\", \"role\", \"role\", \"role\", \"role\", \"role\", \"role\", \"roles\", \"roles\", \"roles\", \"roles\", \"rollup\", \"rout\", \"rout\", \"rout\", \"rout\", \"rout\", \"rout\", \"rout\", \"rout\", \"rout\", \"rout\", \"route\", \"route\", \"route\", \"route\", \"route\", \"route\", \"route\", \"route\", \"route\", \"route\", \"route\", \"route\", \"route\", \"route\", \"router\", \"router\", \"router\", \"router\", \"router\", \"router\", \"router\", \"router\", \"routermodule\", \"row\", \"row\", \"row\", \"row\", \"row\", \"row\", \"row\", \"row\", \"row\", \"row\", \"rsa\", \"rsa\", \"rsa\", \"rsa\", \"rsa\", \"rsa\", \"rsa\", \"ruby\", \"rubygems\", \"run\", \"run\", \"run\", \"run\", \"run\", \"run\", \"run\", \"run\", \"run\", \"run\", \"run\", \"run\", \"run\", \"run\", \"run\", \"run\", \"run\", \"run\", \"run\", \"run\", \"runners\", \"runners\", \"runners\", \"runworker\", \"rust\", \"rvm\", \"salary\", \"salary\", \"sales\", \"sales\", \"sales\", \"sales\", \"sameorigin\", \"sameorigin\", \"samesite\", \"saml\", \"sasl\", \"sasl\", \"sass\", \"sass\", \"save\", \"save\", \"save\", \"save\", \"save\", \"save\", \"save\", \"save\", \"save\", \"save\", \"save\", \"save\", \"save\", \"save\", \"save\", \"save\", \"save\", \"save\", \"save\", \"save\", \"savedinstancestate\", \"sbt\", \"scala\", \"scanf\", \"scanf\", \"scene\", \"scene\", \"scene\", \"scene\", \"schedule\", \"schedule\", \"schedule\", \"schedule\", \"schedule\", \"schedule\", \"schedule\", \"schedule\", \"schedule\", \"schedule\", \"schedule\", \"schemas\", \"schemas\", \"schemas\", \"schemas\", \"schemas\", \"schemas\", \"schemas\", \"schemas\", \"schemas\", \"schemas\", \"schemas\", \"schemas\", \"schemas\", \"schematics\", \"score\", \"score\", \"score\", \"score\", \"score\", \"score\", \"scrap\", \"scrap\", \"scrap\", \"scrape\", \"scrape\", \"scrape\", \"scrapy\", \"screen\", \"screen\", \"screen\", \"screen\", \"screen\", \"screen\", \"screen\", \"screen\", \"screen\", \"screen\", \"screen\", \"screen\", \"script\", \"script\", \"script\", \"script\", \"script\", \"script\", \"script\", \"script\", \"script\", \"script\", \"script\", \"script\", \"script\", \"script\", \"script\", \"script\", \"script\", \"script\", \"script\", \"scroll\", \"scroll\", \"scroll\", \"scroll\", \"scroll\", \"scrollbar\", \"scrollbar\", \"scrollview\", \"scrollview\", \"scrollview\", \"scrollview\", \"scss\", \"scss\", \"scss\", \"sdk\", \"sdk\", \"sdk\", \"sdk\", \"sdk\", \"sdk\", \"sdk\", \"sdk\", \"sdk\", \"sdk\", \"sdk\", \"sdk\", \"sdks\", \"sdks\", \"second\", \"second\", \"second\", \"second\", \"second\", \"second\", \"second\", \"second\", \"second\", \"second\", \"second\", \"second\", \"second\", \"second\", \"second\", \"second\", \"second\", \"second\", \"second\", \"second\", \"secret\", \"secret\", \"secret\", \"secret\", \"see\", \"see\", \"see\", \"see\", \"see\", \"see\", \"see\", \"see\", \"see\", \"see\", \"see\", \"see\", \"see\", \"see\", \"see\", \"see\", \"see\", \"see\", \"see\", \"see\", \"seem\", \"seem\", \"seem\", \"seem\", \"seem\", \"seem\", \"seem\", \"seem\", \"seem\", \"seem\", \"seem\", \"seem\", \"seem\", \"seem\", \"seem\", \"seem\", \"seem\", \"seem\", \"seem\", \"seem\", \"select\", \"select\", \"select\", \"select\", \"select\", \"select\", \"select\", \"select\", \"select\", \"select\", \"select\", \"select\", \"select\", \"select\", \"select\", \"select\", \"select\", \"select\", \"select\", \"selenium\", \"self\", \"self\", \"self\", \"self\", \"self\", \"self\", \"self\", \"self\", \"self\", \"self\", \"self\", \"self\", \"send\", \"send\", \"send\", \"send\", \"send\", \"send\", \"send\", \"send\", \"send\", \"send\", \"send\", \"send\", \"send\", \"send\", \"send\", \"send\", \"send\", \"send\", \"send\", \"send\", \"sendkeys\", \"serializers\", \"serializers\", \"serializers\", \"serializers\", \"serializers\", \"serif\", \"server\", \"server\", \"server\", \"server\", \"server\", \"server\", \"server\", \"server\", \"server\", \"server\", \"server\", \"server\", \"server\", \"server\", \"server\", \"server\", \"server\", \"server\", \"serverless\", \"serverless\", \"serverless\", \"serverless\", \"serverless\", \"service\", \"service\", \"service\", \"service\", \"service\", \"service\", \"service\", \"service\", \"service\", \"service\", \"service\", \"service\", \"service\", \"service\", \"service\", \"service\", \"service\", \"service\", \"servlet\", \"servlet\", \"session\", \"session\", \"session\", \"session\", \"session\", \"session\", \"session\", \"session\", \"session\", \"session\", \"session\", \"session\", \"session\", \"session\", \"session\", \"session\", \"session\", \"set\", \"set\", \"set\", \"set\", \"set\", \"set\", \"set\", \"set\", \"set\", \"set\", \"set\", \"set\", \"set\", \"set\", \"set\", \"set\", \"set\", \"set\", \"set\", \"set\", \"setopt\", \"setrequestheader\", \"setrequestheader\", \"setstate\", \"setstate\", \"setstate\", \"setuptools\", \"sftp\", \"sha\", \"sha\", \"sha\", \"sha\", \"sha\", \"sha\", \"sha\", \"sha\", \"sha\", \"sha\", \"sha\", \"shadow\", \"shadow\", \"shadow\", \"shadow\", \"shadow\", \"shadow\", \"shadow\", \"shadow\", \"shadow\", \"shape\", \"shape\", \"shape\", \"shape\", \"shape\", \"shape\", \"shape\", \"sheet\", \"sheet\", \"sheet\", \"sheet\", \"sheet\", \"sheet\", \"sheet\", \"sheet\", \"shiny\", \"shiny\", \"shiny\", \"shinyapp\", \"show\", \"show\", \"show\", \"show\", \"show\", \"show\", \"show\", \"show\", \"show\", \"show\", \"show\", \"show\", \"show\", \"show\", \"show\", \"show\", \"show\", \"show\", \"show\", \"show\", \"sign\", \"sign\", \"sign\", \"sign\", \"sign\", \"sign\", \"sign\", \"sign\", \"sign\", \"sign\", \"sign\", \"sign\", \"sign\", \"sign\", \"sign\", \"sign\", \"sign\", \"signalr\", \"significant\", \"significant\", \"significant\", \"significant\", \"significant\", \"significant\", \"significant\", \"significant\", \"site\", \"site\", \"site\", \"site\", \"site\", \"site\", \"site\", \"site\", \"site\", \"site\", \"site\", \"site\", \"site\", \"site\", \"site\", \"site\", \"size\", \"size\", \"size\", \"size\", \"size\", \"size\", \"size\", \"size\", \"size\", \"size\", \"size\", \"size\", \"size\", \"size\", \"size\", \"size\", \"size\", \"size\", \"size\", \"size\", \"sizeof\", \"sizeof\", \"sizeof\", \"sizeof\", \"sklearn\", \"sklearn\", \"slide\", \"slide\", \"slide\", \"slide\", \"slider\", \"slider\", \"slider\", \"slider\", \"slow\", \"slow\", \"slow\", \"slow\", \"slow\", \"slow\", \"slow\", \"slow\", \"slower\", \"slower\", \"slower\", \"slug\", \"slug\", \"slug\", \"slug\", \"slug\", \"smtp\", \"smtp\", \"socket\", \"socket\", \"socket\", \"socket\", \"socket\", \"socket\", \"socket\", \"socket\", \"socketprocessorbase\", \"solid\", \"solid\", \"solid\", \"solid\", \"solid\", \"something\", \"something\", \"something\", \"something\", \"something\", \"something\", \"something\", \"something\", \"something\", \"something\", \"something\", \"something\", \"something\", \"something\", \"something\", \"something\", \"something\", \"something\", \"something\", \"something\", \"sort\", \"sort\", \"sort\", \"sort\", \"sort\", \"sort\", \"sort\", \"sort\", \"sort\", \"sort\", \"sort\", \"sort\", \"sort\", \"sort\", \"sort\", \"sort\", \"sort\", \"sort\", \"sort\", \"sort\", \"soup\", \"soup\", \"sourcemap\", \"span\", \"span\", \"span\", \"span\", \"spark\", \"spark\", \"spark\", \"sparkcontext\", \"sparksession\", \"speech\", \"speech\", \"speech\", \"speed\", \"speed\", \"speed\", \"speed\", \"speed\", \"speed\", \"speed\", \"speed\", \"spike\", \"spike\", \"spring\", \"spring\", \"springapplication\", \"springboot\", \"springboot\", \"springframework\", \"springframework\", \"sql\", \"sql\", \"sql\", \"sql\", \"sql\", \"sql\", \"sql\", \"sql\", \"sql\", \"sqlalchemy\", \"sqlalchemy\", \"sqlalchemy\", \"src\", \"src\", \"src\", \"src\", \"src\", \"src\", \"src\", \"src\", \"src\", \"src\", \"src\", \"src\", \"src\", \"src\", \"src\", \"src\", \"src\", \"src\", \"ssh\", \"ssh\", \"ssh\", \"ssh\", \"ssh\", \"ssh\", \"sshclient\", \"ssl\", \"ssl\", \"ssl\", \"ssl\", \"ssl\", \"ssl\", \"ssm\", \"sso\", \"sso\", \"sso\", \"sso\", \"stackdriver\", \"stackdriver\", \"stackpath\", \"standardwrappervalve\", \"starter\", \"starter\", \"startup\", \"startup\", \"startup\", \"startup\", \"startup\", \"startup\", \"startup\", \"startup\", \"startup\", \"startup\", \"startup\", \"startup\", \"startup\", \"startup\", \"state\", \"state\", \"state\", \"state\", \"state\", \"state\", \"state\", \"state\", \"state\", \"state\", \"state\", \"state\", \"state\", \"state\", \"state\", \"state\", \"state\", \"state\", \"state\", \"state\", \"statefulwidget\", \"statelesswidget\", \"static\", \"static\", \"static\", \"static\", \"static\", \"static\", \"static\", \"static\", \"static\", \"static\", \"static\", \"static\", \"static\", \"static\", \"static\", \"static\", \"static\", \"static\", \"static\", \"status\", \"status\", \"status\", \"status\", \"status\", \"status\", \"status\", \"status\", \"status\", \"status\", \"status\", \"status\", \"status\", \"status\", \"status\", \"status\", \"status\", \"status\", \"status\", \"status\", \"statuscode\", \"statuscode\", \"statuscode\", \"statuscode\", \"statuscode\", \"statuscode\", \"std\", \"std\", \"std\", \"stdout\", \"stdout\", \"stdout\", \"stdout\", \"stdout\", \"stdout\", \"stdout\", \"stl\", \"stl\", \"storage\", \"storage\", \"storage\", \"storage\", \"storage\", \"storage\", \"storage\", \"storage\", \"storage\", \"storage\", \"storage\", \"storage\", \"storage\", \"storage\", \"storage\", \"storage\", \"storage\", \"storybook\", \"storybook\", \"stride\", \"string\", \"string\", \"string\", \"string\", \"string\", \"string\", \"string\", \"string\", \"string\", \"string\", \"string\", \"string\", \"string\", \"string\", \"string\", \"string\", \"string\", \"string\", \"string\", \"string\", \"stripe\", \"stripe\", \"stripe\", \"stripe\", \"stripe\", \"stroke\", \"stroke\", \"struct\", \"struct\", \"struct\", \"struct\", \"struct\", \"studio\", \"studio\", \"studio\", \"studio\", \"studio\", \"studio\", \"studio\", \"studio\", \"style\", \"style\", \"style\", \"style\", \"style\", \"style\", \"style\", \"style\", \"style\", \"style\", \"styleurls\", \"styleurls\", \"submit\", \"submit\", \"submit\", \"submit\", \"submit\", \"submit\", \"submit\", \"submit\", \"submit\", \"submit\", \"submit\", \"submit\", \"submit\", \"submit\", \"submit\", \"submodule\", \"submodule\", \"submodule\", \"subquery\", \"sum\", \"sum\", \"sum\", \"sum\", \"sum\", \"sum\", \"summarise\", \"summarise\", \"summarise\", \"sun\", \"sun\", \"sun\", \"support\", \"support\", \"support\", \"support\", \"support\", \"support\", \"support\", \"support\", \"support\", \"support\", \"support\", \"support\", \"support\", \"support\", \"support\", \"support\", \"support\", \"support\", \"support\", \"support\", \"svg\", \"svg\", \"svg\", \"swagger\", \"swagger\", \"swagger\", \"swift\", \"swift\", \"swiftui\", \"swing\", \"symfony\", \"symfony\", \"symfony\", \"symfony\", \"symfony\", \"system\", \"system\", \"system\", \"system\", \"system\", \"system\", \"system\", \"system\", \"system\", \"system\", \"system\", \"system\", \"system\", \"system\", \"system\", \"system\", \"system\", \"system\", \"system\", \"systemd\", \"tab\", \"tab\", \"tab\", \"tab\", \"tab\", \"tab\", \"tab\", \"tab\", \"tab\", \"tab\", \"tab\", \"tab\", \"tab\", \"tab\", \"tab\", \"tab\", \"tab\", \"table\", \"table\", \"table\", \"table\", \"table\", \"table\", \"table\", \"table\", \"table\", \"table\", \"table\", \"table\", \"tableview\", \"take\", \"take\", \"take\", \"take\", \"take\", \"take\", \"take\", \"take\", \"take\", \"take\", \"take\", \"take\", \"take\", \"take\", \"take\", \"take\", \"take\", \"take\", \"take\", \"take\", \"target\", \"target\", \"target\", \"target\", \"target\", \"target\", \"target\", \"target\", \"target\", \"target\", \"target\", \"target\", \"target\", \"target\", \"target\", \"target\", \"target\", \"target\", \"target\", \"target\", \"task\", \"task\", \"task\", \"task\", \"task\", \"task\", \"task\", \"task\", \"task\", \"task\", \"task\", \"task\", \"task\", \"task\", \"task\", \"task\", \"task\", \"task\", \"task\", \"task\", \"taskthread\", \"tbl\", \"tbl\", \"tbl\", \"teardown\", \"teardown\", \"teardown\", \"telegram\", \"telegram\", \"telegram\", \"templateurl\", \"templateurl\", \"tenant\", \"tenant\", \"tenant\", \"tensor\", \"tensorflow\", \"tensorflow\", \"tensors\", \"terminal\", \"terminal\", \"terminal\", \"terminal\", \"terminal\", \"terminal\", \"terminal\", \"terminal\", \"terminal\", \"terminal\", \"terminal\", \"terminal\", \"terminal\", \"terminal\", \"terminal\", \"terminal\", \"terminal\", \"terminal\", \"terraform\", \"terraform\", \"test\", \"test\", \"test\", \"test\", \"test\", \"test\", \"test\", \"test\", \"test\", \"test\", \"test\", \"test\", \"test\", \"test\", \"test\", \"test\", \"test\", \"test\", \"test\", \"test\", \"testbed\", \"testbed\", \"testmethod\", \"testmethod\", \"testmethod\", \"testmethod\", \"text\", \"text\", \"text\", \"text\", \"text\", \"text\", \"text\", \"text\", \"text\", \"text\", \"text\", \"text\", \"text\", \"text\", \"text\", \"text\", \"text\", \"text\", \"text\", \"text\", \"textarea\", \"textarea\", \"textstyle\", \"textstyle\", \"textview\", \"textview\", \"tflite\", \"think\", \"think\", \"think\", \"think\", \"think\", \"think\", \"think\", \"think\", \"think\", \"think\", \"think\", \"think\", \"think\", \"think\", \"think\", \"think\", \"think\", \"think\", \"think\", \"think\", \"thread\", \"thread\", \"thread\", \"thread\", \"thread\", \"thread\", \"thread\", \"thread\", \"thread\", \"thread\", \"thread\", \"thread\", \"thread\", \"thread\", \"thread\", \"thread\", \"threadpoolexecutor\", \"throughput\", \"throughput\", \"tibble\", \"tibble\", \"tile\", \"tile\", \"tile\", \"tile\", \"tile\", \"time\", \"time\", \"time\", \"time\", \"time\", \"time\", \"time\", \"time\", \"time\", \"time\", \"time\", \"time\", \"time\", \"time\", \"time\", \"time\", \"time\", \"time\", \"time\", \"time\", \"timestamp\", \"timestamp\", \"timestamp\", \"timestamp\", \"timestamp\", \"timestamp\", \"timestamp\", \"timestamp\", \"timestamp\", \"timestamp\", \"timestamp\", \"timestamp\", \"timestamp\", \"timestamp\", \"title\", \"title\", \"title\", \"title\", \"title\", \"title\", \"title\", \"title\", \"title\", \"title\", \"title\", \"title\", \"title\", \"title\", \"title\", \"title\", \"title\", \"title\", \"tls\", \"tls\", \"tls\", \"tls\", \"tls\", \"tls\", \"tlsv\", \"toast\", \"toast\", \"toast\", \"toast\", \"toast\", \"toast\", \"tobottomof\", \"toggler\", \"token\", \"token\", \"token\", \"token\", \"token\", \"token\", \"token\", \"token\", \"token\", \"token\", \"token\", \"token\", \"tomcat\", \"tomcat\", \"tool\", \"tool\", \"tool\", \"tool\", \"tool\", \"tool\", \"tool\", \"tool\", \"tool\", \"tool\", \"tool\", \"tool\", \"tool\", \"tool\", \"tool\", \"tool\", \"tool\", \"tool\", \"tool\", \"tool\", \"tooltip\", \"tooltip\", \"tooltip\", \"tooltips\", \"top\", \"top\", \"top\", \"top\", \"top\", \"top\", \"top\", \"top\", \"top\", \"top\", \"top\", \"top\", \"top\", \"top\", \"top\", \"top\", \"top\", \"top\", \"top\", \"topic\", \"topic\", \"topic\", \"topic\", \"topic\", \"topic\", \"topic\", \"topic\", \"topic\", \"topic\", \"topic\", \"topic\", \"topic\", \"topic\", \"torch\", \"torch\", \"tornado\", \"traceback\", \"traceback\", \"traceback\", \"traefik\", \"train\", \"trainable\", \"trait\", \"trait\", \"trait\", \"traits\", \"traits\", \"translatey\", \"trigger\", \"trigger\", \"trigger\", \"trigger\", \"trigger\", \"trigger\", \"trigger\", \"trigger\", \"trigger\", \"trigger\", \"trigger\", \"trigger\", \"trigger\", \"trigger\", \"trigger\", \"trigger\", \"trigger\", \"trigger\", \"trigger\", \"true\", \"true\", \"true\", \"true\", \"true\", \"true\", \"true\", \"true\", \"true\", \"true\", \"true\", \"true\", \"true\", \"true\", \"true\", \"true\", \"true\", \"true\", \"true\", \"true\", \"truststore\", \"try\", \"try\", \"try\", \"try\", \"try\", \"try\", \"try\", \"try\", \"try\", \"try\", \"try\", \"try\", \"try\", \"try\", \"try\", \"try\", \"try\", \"try\", \"try\", \"try\", \"tsconfig\", \"two\", \"two\", \"two\", \"two\", \"two\", \"two\", \"two\", \"two\", \"two\", \"two\", \"two\", \"two\", \"two\", \"two\", \"two\", \"two\", \"two\", \"two\", \"two\", \"two\", \"txt\", \"txt\", \"txt\", \"txt\", \"txt\", \"txt\", \"txt\", \"txt\", \"txt\", \"txt\", \"txt\", \"txt\", \"txt\", \"txt\", \"txt\", \"type\", \"type\", \"type\", \"type\", \"type\", \"type\", \"type\", \"type\", \"type\", \"type\", \"type\", \"type\", \"type\", \"type\", \"type\", \"type\", \"type\", \"type\", \"type\", \"type\", \"typename\", \"typename\", \"typename\", \"typescript\", \"typescript\", \"typescript\", \"typescript\", \"typescript\", \"ubmit'\", \"ubmit'\", \"ubmit'\", \"ubmit'\", \"ubuntu\", \"ubuntu\", \"ubuntu\", \"ubuntu\", \"ubuntu\", \"ubuntu\", \"ubuntu\", \"ubuntu\", \"ubuntu\", \"uiapplication\", \"uicollectionview\", \"uicolor\", \"uiimage\", \"uitableview\", \"uiview\", \"uiviewcontroller\", \"undefined\", \"undefined\", \"undefined\", \"undefined\", \"undefined\", \"undefined\", \"undefined\", \"undefined\", \"undefined\", \"undefined\", \"undefined\", \"undefined\", \"understand\", \"understand\", \"understand\", \"understand\", \"understand\", \"understand\", \"understand\", \"understand\", \"understand\", \"understand\", \"understand\", \"understand\", \"understand\", \"understand\", \"understand\", \"understand\", \"understand\", \"understand\", \"understand\", \"understand\", \"unit\", \"unit\", \"unit\", \"unit\", \"unit\", \"unit\", \"unit\", \"unit\", \"unit\", \"unit\", \"unit\", \"unit\", \"unit\", \"unit\", \"unittest\", \"unittest\", \"unity\", \"unity\", \"unity\", \"unsigned\", \"unsigned\", \"unsigned\", \"unsigned\", \"update\", \"update\", \"update\", \"update\", \"update\", \"update\", \"update\", \"update\", \"update\", \"update\", \"update\", \"update\", \"update\", \"update\", \"update\", \"update\", \"update\", \"update\", \"update\", \"update\", \"upload\", \"upload\", \"upload\", \"upload\", \"upload\", \"upload\", \"upload\", \"upload\", \"upload\", \"upload\", \"upload\", \"upload\", \"upload\", \"upload\", \"upload\", \"upload\", \"upload\", \"uri\", \"uri\", \"uri\", \"uri\", \"uri\", \"uri\", \"uri\", \"uri\", \"uri\", \"uri\", \"uri\", \"uri\", \"uri\", \"uri\", \"uri\", \"url\", \"url\", \"url\", \"url\", \"url\", \"url\", \"url\", \"url\", \"url\", \"url\", \"url\", \"url\", \"url\", \"url\", \"url\", \"url\", \"url\", \"url\", \"urlclassloader\", \"urlencoded'\", \"usage\", \"usage\", \"usage\", \"usage\", \"usage\", \"usage\", \"usage\", \"usage\", \"usage\", \"usage\", \"usage\", \"usage\", \"usage\", \"usage\", \"usage\", \"usage\", \"usage\", \"usage\", \"usage\", \"usb\", \"usb\", \"usecallback\", \"usecontext\", \"useeffect\", \"user\", \"user\", \"user\", \"user\", \"user\", \"user\", \"user\", \"user\", \"user\", \"user\", \"user\", \"user\", \"user\", \"user\", \"user\", \"user\", \"user\", \"user\", \"user\", \"user\", \"usereducer\", \"useref\", \"username\", \"username\", \"username\", \"username\", \"username\", \"username\", \"username\", \"username\", \"username\", \"username\", \"username\", \"username\", \"username\", \"usernames\", \"users\", \"users\", \"users\", \"users\", \"users\", \"users\", \"users\", \"users\", \"users\", \"users\", \"users\", \"users\", \"users\", \"users\", \"users\", \"users\", \"users\", \"users\", \"users\", \"users\", \"useselector\", \"usestate\", \"usr\", \"usr\", \"usr\", \"usr\", \"usr\", \"usr\", \"usr\", \"usr\", \"usr\", \"util\", \"util\", \"util\", \"util\", \"util\", \"util\", \"util\", \"util\", \"util\", \"util\", \"util\", \"util\", \"utilization\", \"utilization\", \"utilization\", \"uwp\", \"uwp\", \"val\", \"val\", \"val\", \"val\", \"val\", \"val\", \"val\", \"val\", \"val\", \"val\", \"val\", \"val\", \"val\", \"validate\", \"validate\", \"validate\", \"validate\", \"validate\", \"validate\", \"validate\", \"validate\", \"validate\", \"validate\", \"validate\", \"validate\", \"validate\", \"validate\", \"validate\", \"validate\", \"validate\", \"validation\", \"validation\", \"validation\", \"validation\", \"validation\", \"validation\", \"validation\", \"validation\", \"validation\", \"validation\", \"validation\", \"validation\", \"validation\", \"validators\", \"validators\", \"validators\", \"validators\", \"value\", \"value\", \"value\", \"value\", \"value\", \"value\", \"value\", \"value\", \"value\", \"value\", \"value\", \"value\", \"value\", \"value\", \"value\", \"value\", \"value\", \"value\", \"value\", \"value\", \"var\", \"var\", \"var\", \"var\", \"var\", \"var\", \"var\", \"var\", \"var\", \"var\", \"var\", \"var\", \"var\", \"var\", \"var\", \"var\", \"var\", \"var\", \"var\", \"varchar\", \"varchar\", \"varchar\", \"variable\", \"variable\", \"variable\", \"variable\", \"variable\", \"variable\", \"variable\", \"variable\", \"variable\", \"variable\", \"variable\", \"variable\", \"variable\", \"variable\", \"variable\", \"variable\", \"variable\", \"variable\", \"variable\", \"variable\", \"variables\", \"variables\", \"variables\", \"variables\", \"variables\", \"variables\", \"variables\", \"variables\", \"variables\", \"variables\", \"variables\", \"variables\", \"variables\", \"variables\", \"variables\", \"variables\", \"variables\", \"variables\", \"variables\", \"vault\", \"vault\", \"vault\", \"vba\", \"vba\", \"vector\", \"vector\", \"vector\", \"vector\", \"vector\", \"vector\", \"vector\", \"vector\", \"vector\", \"vector\", \"venv\", \"version\", \"version\", \"version\", \"version\", \"version\", \"version\", \"version\", \"version\", \"version\", \"version\", \"version\", \"version\", \"version\", \"version\", \"version\", \"version\", \"version\", \"version\", \"version\", \"version\", \"video\", \"video\", \"video\", \"video\", \"video\", \"video\", \"video\", \"videos\", \"videos\", \"videos\", \"videos\", \"videos\", \"videos\", \"view\", \"view\", \"view\", \"view\", \"view\", \"view\", \"view\", \"view\", \"view\", \"view\", \"view\", \"view\", \"view\", \"view\", \"view\", \"view\", \"view\", \"view\", \"view\", \"view\", \"viewbox\", \"viewchild\", \"viewchild\", \"viewcontroller\", \"viewdidload\", \"viewgroup\", \"viewholder\", \"viewpager\", \"viewport\", \"viewport\", \"vim\", \"vim\", \"vim\", \"vim\", \"virtualenv\", \"virtualenvs\", \"virtualhost\", \"virtualhost\", \"virtualhost\", \"visual\", \"visual\", \"visual\", \"visual\", \"visual\", \"visual\", \"visual\", \"visual\", \"visual\", \"vmimage\", \"void\", \"void\", \"void\", \"void\", \"void\", \"void\", \"void\", \"void\", \"void\", \"void\", \"void\", \"void\", \"void\", \"void\", \"void\", \"void\", \"void\", \"volumes\", \"vpc\", \"vpc\", \"vpc\", \"vscode\", \"vscode\", \"vscode\", \"vscode\", \"vstack\", \"vstack\", \"vue\", \"vue\", \"vue\", \"vue\", \"vue\", \"wait\", \"wait\", \"wait\", \"wait\", \"wait\", \"wait\", \"wait\", \"wait\", \"wait\", \"wait\", \"wait\", \"wait\", \"wait\", \"wait\", \"wait\", \"wait\", \"wait\", \"wait\", \"wait\", \"wait\", \"want\", \"want\", \"want\", \"want\", \"want\", \"want\", \"want\", \"want\", \"want\", \"want\", \"want\", \"want\", \"want\", \"want\", \"want\", \"want\", \"want\", \"want\", \"want\", \"want\", \"waste\", \"waste\", \"waste\", \"waste\", \"waste\", \"waste\", \"waste\", \"waste\", \"waste\", \"way\", \"way\", \"way\", \"way\", \"way\", \"way\", \"way\", \"way\", \"way\", \"way\", \"way\", \"way\", \"way\", \"way\", \"way\", \"way\", \"way\", \"way\", \"way\", \"way\", \"web\", \"web\", \"web\", \"web\", \"web\", \"web\", \"web\", \"web\", \"web\", \"web\", \"web\", \"web\", \"web\", \"web\", \"web\", \"web\", \"web\", \"web\", \"web\", \"webdriver\", \"webdriverexception\", \"webdriverwait\", \"webelement\", \"webflux\", \"webflux\", \"webhooks\", \"webpack\", \"websocket\", \"websocket\", \"websocket\", \"websocket\", \"websocket\", \"websocket\", \"websockets\", \"websockets\", \"websockets\", \"weight\", \"weight\", \"weight\", \"weight\", \"weight\", \"weight\", \"weight\", \"wheel\", \"wheel\", \"wheel\", \"wheel\", \"wheel\", \"white\", \"white\", \"white\", \"white\", \"white\", \"white\", \"white\", \"whl\", \"widget\", \"widget\", \"widget\", \"widget\", \"width\", \"width\", \"width\", \"width\", \"width\", \"window\", \"window\", \"window\", \"window\", \"window\", \"window\", \"window\", \"window\", \"window\", \"window\", \"window\", \"window\", \"window\", \"window\", \"window\", \"window\", \"window\", \"window\", \"window\", \"windows\", \"windows\", \"windows\", \"windows\", \"windows\", \"windows\", \"windows\", \"windows\", \"windows\", \"windows\", \"windows\", \"windows\", \"windows\", \"windows\", \"windows\", \"winscp\", \"without\", \"without\", \"without\", \"without\", \"without\", \"without\", \"without\", \"without\", \"without\", \"without\", \"without\", \"without\", \"without\", \"without\", \"without\", \"without\", \"without\", \"without\", \"without\", \"without\", \"withstyles\", \"withstyles\", \"wkwebview\", \"woocommerce\", \"woocommerce\", \"work\", \"work\", \"work\", \"work\", \"work\", \"work\", \"work\", \"work\", \"work\", \"work\", \"work\", \"work\", \"work\", \"work\", \"work\", \"work\", \"work\", \"work\", \"work\", \"work\", \"workbooks\", \"workdir\", \"workdir\", \"worker\", \"worker\", \"worker\", \"worker\", \"worker\", \"worker\", \"worker\", \"worker\", \"worker\", \"worker\", \"worksheets\", \"would\", \"would\", \"would\", \"would\", \"would\", \"would\", \"would\", \"would\", \"would\", \"would\", \"would\", \"would\", \"would\", \"would\", \"would\", \"would\", \"would\", \"would\", \"would\", \"would\", \"wrap\", \"wrap\", \"wrap\", \"wrap\", \"wrap\", \"wrap\", \"wrap\", \"wrap\", \"wrap\", \"wrap\", \"wrap\", \"wrap\", \"wrap\", \"wrap\", \"wrap\", \"wrap\", \"wrap\", \"wrap\", \"wrap\", \"write\", \"write\", \"write\", \"write\", \"write\", \"write\", \"write\", \"write\", \"write\", \"write\", \"write\", \"write\", \"write\", \"write\", \"write\", \"write\", \"write\", \"write\", \"write\", \"write\", \"writer\", \"writer\", \"writer\", \"writer\", \"writer\", \"writer\", \"writer\", \"writer\", \"writer\", \"wsgi\", \"wsgi\", \"wsl\", \"wsl\", \"wsl\", \"www\", \"www\", \"www\", \"www\", \"www\", \"www\", \"www\", \"www\", \"www\", \"www\", \"www\", \"www\", \"www\", \"www\", \"www\", \"www\", \"www\", \"www\", \"www\", \"www\", \"xampp\", \"xampp\", \"xampp\", \"xcode\", \"xcode\", \"xcodebuild\", \"xcworkspace\", \"xdebug\", \"xhr\", \"xhr\", \"xhr\", \"xls\", \"xls\", \"xlsx\", \"xlsx\", \"xlsx\", \"xlsx\", \"xlsx\", \"xml\", \"xml\", \"xml\", \"xml\", \"xml\", \"xml\", \"xml\", \"xml\", \"xml\", \"xml\", \"xml\", \"xml\", \"xml\", \"xml\", \"xml\", \"xmlhttprequest\", \"xmlhttprequest\", \"xmlschema\", \"xpath\", \"xpath\", \"xsd\", \"xsi\", \"xsi\", \"xsrf\", \"xsrf\", \"yarn\", \"yarn\", \"yarn\", \"yarn\", \"yaxes\", \"year\", \"year\", \"year\", \"year\", \"year\", \"year\", \"year\", \"year\", \"year\", \"year\", \"year\", \"year\", \"year\", \"yml\", \"yml\", \"yml\", \"yml\", \"yml\", \"yml\", \"yml\", \"yml\", \"yml\", \"yml\", \"youtube\", \"youtube\", \"youtube\", \"youtube\", \"youtube\", \"youtube\", \"youtube\", \"youtube\", \"youtube\", \"youtube\", \"youtube\", \"youtube\", \"youtube\", \"yup\", \"yup\", \"yuv\", \"yuv\", \"zaxxer\", \"zookeeper\", \"zookeeper\", \"zookeeper\", \"zsh\", \"zsh\", \"zsh\", \"\\u2514\\u2500\\u2500\", \"\\u2514\\u2500\\u2500\", \"\\u251c\\u2500\\u2500\"]}, \"R\": 30, \"lambda.step\": 0.01, \"plot.opts\": {\"xlab\": \"PC1\", \"ylab\": \"PC2\"}, \"topic.order\": [6, 1, 19, 8, 12, 4, 3, 11, 9, 15, 20, 7, 18, 16, 10, 13, 5, 17, 14, 2]};\n",
       "\n",
       "function LDAvis_load_lib(url, callback){\n",
       "  var s = document.createElement('script');\n",
       "  s.src = url;\n",
       "  s.async = true;\n",
       "  s.onreadystatechange = s.onload = callback;\n",
       "  s.onerror = function(){console.warn(\"failed to load library \" + url);};\n",
       "  document.getElementsByTagName(\"head\")[0].appendChild(s);\n",
       "}\n",
       "\n",
       "if(typeof(LDAvis) !== \"undefined\"){\n",
       "   // already loaded: just create the visualization\n",
       "   !function(LDAvis){\n",
       "       new LDAvis(\"#\" + \"ldavis_el155541397178647610405432275326\", ldavis_el155541397178647610405432275326_data);\n",
       "   }(LDAvis);\n",
       "}else if(typeof define === \"function\" && define.amd){\n",
       "   // require.js is available: use it to load d3/LDAvis\n",
       "   require.config({paths: {d3: \"https://d3js.org/d3.v5\"}});\n",
       "   require([\"d3\"], function(d3){\n",
       "      window.d3 = d3;\n",
       "      LDAvis_load_lib(\"https://cdn.jsdelivr.net/gh/bmabey/pyLDAvis@3.3.1/pyLDAvis/js/ldavis.v3.0.0.js\", function(){\n",
       "        new LDAvis(\"#\" + \"ldavis_el155541397178647610405432275326\", ldavis_el155541397178647610405432275326_data);\n",
       "      });\n",
       "    });\n",
       "}else{\n",
       "    // require.js not available: dynamically load d3 & LDAvis\n",
       "    LDAvis_load_lib(\"https://d3js.org/d3.v5.js\", function(){\n",
       "         LDAvis_load_lib(\"https://cdn.jsdelivr.net/gh/bmabey/pyLDAvis@3.3.1/pyLDAvis/js/ldavis.v3.0.0.js\", function(){\n",
       "                 new LDAvis(\"#\" + \"ldavis_el155541397178647610405432275326\", ldavis_el155541397178647610405432275326_data);\n",
       "            })\n",
       "         });\n",
       "}\n",
       "</script>"
      ],
      "text/plain": [
       "PreparedData(topic_coordinates=              x         y  topics  cluster      Freq\n",
       "topic                                               \n",
       "5     -0.175107  0.014318       1        1  8.575446\n",
       "0     -0.102716 -0.128323       2        1  8.066014\n",
       "18    -0.207929  0.083134       3        1  6.527872\n",
       "7      0.129695 -0.125019       4        1  6.173395\n",
       "11     0.124033 -0.050978       5        1  5.390295\n",
       "3     -0.099535  0.036451       6        1  5.132782\n",
       "2      0.029760 -0.032009       7        1  4.977164\n",
       "10    -0.162049  0.077645       8        1  4.914065\n",
       "8     -0.058492  0.224494       9        1  4.874527\n",
       "14     0.013236 -0.118478      10        1  4.728924\n",
       "19    -0.117383 -0.021220      11        1  4.667678\n",
       "6     -0.049777 -0.055002      12        1  4.660931\n",
       "17     0.123261 -0.089346      13        1  4.441530\n",
       "15     0.165681 -0.142130      14        1  4.320652\n",
       "9     -0.008549 -0.010559      15        1  4.243235\n",
       "12     0.003158 -0.057453      16        1  4.168244\n",
       "4      0.212883  0.228319      17        1  3.731511\n",
       "16     0.285462  0.190807      18        1  3.594298\n",
       "13     0.051968 -0.078842      19        1  3.513093\n",
       "1     -0.157599  0.054190      20        1  3.298345, topic_info=        Term           Freq          Total Category  logprob  loglift\n",
       "252     java  175796.000000  175796.000000  Default  30.0000  30.0000\n",
       "17      file  243578.000000  243578.000000  Default  29.0000  29.0000\n",
       "380  android  133727.000000  133727.000000  Default  28.0000  28.0000\n",
       "531   python  117866.000000  117866.000000  Default  27.0000  27.0000\n",
       "375      org  114434.000000  114434.000000  Default  26.0000  26.0000\n",
       "..       ...            ...            ...      ...      ...      ...\n",
       "63       try    6398.348521  156747.211843  Topic20  -5.0440   0.2132\n",
       "4       code    5901.651475  146866.055017  Topic20  -5.1248   0.1975\n",
       "171   import    5659.367277  147653.018411  Topic20  -5.1668   0.1502\n",
       "20       get    5559.867244  232945.956850  Topic20  -5.1845  -0.3235\n",
       "121      app    5408.953414  173962.607488  Topic20  -5.2120  -0.0590\n",
       "\n",
       "[1599 rows x 6 columns], token_table=      Topic      Freq Term\n",
       "term                      \n",
       "2666      1  0.889127  'a'\n",
       "2666      2  0.001203  'a'\n",
       "2666      3  0.012633  'a'\n",
       "2666      6  0.009024  'a'\n",
       "2666      8  0.001504  'a'\n",
       "...     ...       ...  ...\n",
       "2183     12  0.005241  zsh\n",
       "2183     14  0.007862  zsh\n",
       "1583     13  0.999066  └──\n",
       "1583     17  0.000636  └──\n",
       "1584     13  0.999836  ├──\n",
       "\n",
       "[9115 rows x 3 columns], R=30, lambda_step=0.01, plot_opts={'xlab': 'PC1', 'ylab': 'PC2'}, topic_order=[6, 1, 19, 8, 12, 4, 3, 11, 9, 15, 20, 7, 18, 16, 10, 13, 5, 17, 14, 2])"
      ]
     },
     "execution_count": 89,
     "metadata": {},
     "output_type": "execute_result"
    }
   ],
   "source": [
    "pyLDAvis.enable_notebook()\n",
    "vis = pyLDAvis.gensim_models.prepare(model, bow_corpus, id2word)\n",
    "vis"
   ]
  },
  {
   "cell_type": "code",
   "execution_count": 90,
   "metadata": {
    "colab": {
     "base_uri": "https://localhost:8080/"
    },
    "executionInfo": {
     "elapsed": 10662,
     "status": "ok",
     "timestamp": 1637246138381,
     "user": {
      "displayName": "Alexandre Taillard de Vorms",
      "photoUrl": "https://lh3.googleusercontent.com/a/default-user=s64",
      "userId": "17158358651987272696"
     },
     "user_tz": -60
    },
    "id": "1fhYW-TFJ-DM",
    "outputId": "4e36adc8-70b3-4122-9cdd-bee0d723d560"
   },
   "outputs": [
    {
     "name": "stdout",
     "output_type": "stream",
     "text": [
      "document/tag :  (190858, 500)\n",
      "document/topic :  (190858, 20)\n"
     ]
    }
   ],
   "source": [
    "# Calculate Document/topic matrix with Gensim\n",
    "doc_topic = pd.DataFrame(model\\\n",
    "                             .get_document_topics(bow_corpus,\n",
    "                                                  minimum_probability=0))\n",
    "for topic in doc_topic.columns:\n",
    "    doc_topic[topic] = doc_topic[topic].apply(lambda x : x[1])\n",
    "\n",
    "print('document/tag : ', y_encoded.shape)\n",
    "print('document/topic : ', doc_topic.shape)"
   ]
  },
  {
   "cell_type": "code",
   "execution_count": 91,
   "metadata": {
    "colab": {
     "base_uri": "https://localhost:8080/"
    },
    "executionInfo": {
     "elapsed": 10,
     "status": "ok",
     "timestamp": 1637246138382,
     "user": {
      "displayName": "Alexandre Taillard de Vorms",
      "photoUrl": "https://lh3.googleusercontent.com/a/default-user=s64",
      "userId": "17158358651987272696"
     },
     "user_tz": -60
    },
    "id": "l2-g9DQ-J-Ah",
    "outputId": "edd2d1db-102c-41bc-cc53-f51e82db904a"
   },
   "outputs": [
    {
     "data": {
      "text/html": [
       "<div>\n",
       "<style scoped>\n",
       "    .dataframe tbody tr th:only-of-type {\n",
       "        vertical-align: middle;\n",
       "    }\n",
       "\n",
       "    .dataframe tbody tr th {\n",
       "        vertical-align: top;\n",
       "    }\n",
       "\n",
       "    .dataframe thead th {\n",
       "        text-align: right;\n",
       "    }\n",
       "</style>\n",
       "<table border=\"1\" class=\"dataframe\">\n",
       "  <thead>\n",
       "    <tr style=\"text-align: right;\">\n",
       "      <th></th>\n",
       "      <th>0</th>\n",
       "      <th>1</th>\n",
       "      <th>2</th>\n",
       "      <th>3</th>\n",
       "      <th>4</th>\n",
       "      <th>5</th>\n",
       "      <th>6</th>\n",
       "      <th>7</th>\n",
       "      <th>8</th>\n",
       "      <th>9</th>\n",
       "      <th>10</th>\n",
       "      <th>11</th>\n",
       "      <th>12</th>\n",
       "      <th>13</th>\n",
       "      <th>14</th>\n",
       "      <th>15</th>\n",
       "      <th>16</th>\n",
       "      <th>17</th>\n",
       "      <th>18</th>\n",
       "      <th>19</th>\n",
       "    </tr>\n",
       "  </thead>\n",
       "  <tbody>\n",
       "    <tr>\n",
       "      <th>0</th>\n",
       "      <td>0.000317</td>\n",
       "      <td>0.000317</td>\n",
       "      <td>0.050186</td>\n",
       "      <td>0.057272</td>\n",
       "      <td>0.000317</td>\n",
       "      <td>0.000317</td>\n",
       "      <td>0.000317</td>\n",
       "      <td>0.080399</td>\n",
       "      <td>0.000317</td>\n",
       "      <td>0.000317</td>\n",
       "      <td>0.000317</td>\n",
       "      <td>0.000317</td>\n",
       "      <td>0.000317</td>\n",
       "      <td>0.000317</td>\n",
       "      <td>0.345097</td>\n",
       "      <td>0.000317</td>\n",
       "      <td>0.000317</td>\n",
       "      <td>0.107223</td>\n",
       "      <td>0.355391</td>\n",
       "      <td>0.000317</td>\n",
       "    </tr>\n",
       "    <tr>\n",
       "      <th>1</th>\n",
       "      <td>0.024367</td>\n",
       "      <td>0.000781</td>\n",
       "      <td>0.000781</td>\n",
       "      <td>0.000781</td>\n",
       "      <td>0.000781</td>\n",
       "      <td>0.000781</td>\n",
       "      <td>0.000781</td>\n",
       "      <td>0.674840</td>\n",
       "      <td>0.000781</td>\n",
       "      <td>0.000781</td>\n",
       "      <td>0.000781</td>\n",
       "      <td>0.000781</td>\n",
       "      <td>0.000781</td>\n",
       "      <td>0.000781</td>\n",
       "      <td>0.000781</td>\n",
       "      <td>0.041708</td>\n",
       "      <td>0.000781</td>\n",
       "      <td>0.000781</td>\n",
       "      <td>0.000781</td>\n",
       "      <td>0.246582</td>\n",
       "    </tr>\n",
       "    <tr>\n",
       "      <th>2</th>\n",
       "      <td>0.000714</td>\n",
       "      <td>0.000714</td>\n",
       "      <td>0.000714</td>\n",
       "      <td>0.000714</td>\n",
       "      <td>0.000714</td>\n",
       "      <td>0.000714</td>\n",
       "      <td>0.000714</td>\n",
       "      <td>0.489395</td>\n",
       "      <td>0.000714</td>\n",
       "      <td>0.000714</td>\n",
       "      <td>0.000714</td>\n",
       "      <td>0.000714</td>\n",
       "      <td>0.097302</td>\n",
       "      <td>0.000714</td>\n",
       "      <td>0.401158</td>\n",
       "      <td>0.000714</td>\n",
       "      <td>0.000714</td>\n",
       "      <td>0.000714</td>\n",
       "      <td>0.000714</td>\n",
       "      <td>0.000714</td>\n",
       "    </tr>\n",
       "    <tr>\n",
       "      <th>3</th>\n",
       "      <td>0.000126</td>\n",
       "      <td>0.000126</td>\n",
       "      <td>0.000126</td>\n",
       "      <td>0.072921</td>\n",
       "      <td>0.000126</td>\n",
       "      <td>0.000126</td>\n",
       "      <td>0.000126</td>\n",
       "      <td>0.000126</td>\n",
       "      <td>0.000126</td>\n",
       "      <td>0.000126</td>\n",
       "      <td>0.011308</td>\n",
       "      <td>0.000126</td>\n",
       "      <td>0.015034</td>\n",
       "      <td>0.000126</td>\n",
       "      <td>0.000126</td>\n",
       "      <td>0.000126</td>\n",
       "      <td>0.000126</td>\n",
       "      <td>0.898716</td>\n",
       "      <td>0.000126</td>\n",
       "      <td>0.000126</td>\n",
       "    </tr>\n",
       "    <tr>\n",
       "      <th>4</th>\n",
       "      <td>0.000299</td>\n",
       "      <td>0.000299</td>\n",
       "      <td>0.000299</td>\n",
       "      <td>0.000299</td>\n",
       "      <td>0.051129</td>\n",
       "      <td>0.000299</td>\n",
       "      <td>0.005426</td>\n",
       "      <td>0.665474</td>\n",
       "      <td>0.000299</td>\n",
       "      <td>0.000299</td>\n",
       "      <td>0.000299</td>\n",
       "      <td>0.000299</td>\n",
       "      <td>0.000299</td>\n",
       "      <td>0.000299</td>\n",
       "      <td>0.000299</td>\n",
       "      <td>0.000299</td>\n",
       "      <td>0.273180</td>\n",
       "      <td>0.000299</td>\n",
       "      <td>0.000299</td>\n",
       "      <td>0.000299</td>\n",
       "    </tr>\n",
       "    <tr>\n",
       "      <th>...</th>\n",
       "      <td>...</td>\n",
       "      <td>...</td>\n",
       "      <td>...</td>\n",
       "      <td>...</td>\n",
       "      <td>...</td>\n",
       "      <td>...</td>\n",
       "      <td>...</td>\n",
       "      <td>...</td>\n",
       "      <td>...</td>\n",
       "      <td>...</td>\n",
       "      <td>...</td>\n",
       "      <td>...</td>\n",
       "      <td>...</td>\n",
       "      <td>...</td>\n",
       "      <td>...</td>\n",
       "      <td>...</td>\n",
       "      <td>...</td>\n",
       "      <td>...</td>\n",
       "      <td>...</td>\n",
       "      <td>...</td>\n",
       "    </tr>\n",
       "    <tr>\n",
       "      <th>190853</th>\n",
       "      <td>0.324212</td>\n",
       "      <td>0.000206</td>\n",
       "      <td>0.419116</td>\n",
       "      <td>0.000206</td>\n",
       "      <td>0.000206</td>\n",
       "      <td>0.000206</td>\n",
       "      <td>0.000206</td>\n",
       "      <td>0.000989</td>\n",
       "      <td>0.000206</td>\n",
       "      <td>0.000206</td>\n",
       "      <td>0.000206</td>\n",
       "      <td>0.000206</td>\n",
       "      <td>0.042555</td>\n",
       "      <td>0.097789</td>\n",
       "      <td>0.000206</td>\n",
       "      <td>0.000206</td>\n",
       "      <td>0.000206</td>\n",
       "      <td>0.103882</td>\n",
       "      <td>0.000206</td>\n",
       "      <td>0.008780</td>\n",
       "    </tr>\n",
       "    <tr>\n",
       "      <th>190854</th>\n",
       "      <td>0.003334</td>\n",
       "      <td>0.003334</td>\n",
       "      <td>0.003334</td>\n",
       "      <td>0.003334</td>\n",
       "      <td>0.003334</td>\n",
       "      <td>0.936660</td>\n",
       "      <td>0.003334</td>\n",
       "      <td>0.003334</td>\n",
       "      <td>0.003334</td>\n",
       "      <td>0.003334</td>\n",
       "      <td>0.003334</td>\n",
       "      <td>0.003334</td>\n",
       "      <td>0.003334</td>\n",
       "      <td>0.003334</td>\n",
       "      <td>0.003334</td>\n",
       "      <td>0.003334</td>\n",
       "      <td>0.003334</td>\n",
       "      <td>0.003334</td>\n",
       "      <td>0.003334</td>\n",
       "      <td>0.003334</td>\n",
       "    </tr>\n",
       "    <tr>\n",
       "      <th>190855</th>\n",
       "      <td>0.073660</td>\n",
       "      <td>0.000505</td>\n",
       "      <td>0.000505</td>\n",
       "      <td>0.607731</td>\n",
       "      <td>0.000505</td>\n",
       "      <td>0.000505</td>\n",
       "      <td>0.000505</td>\n",
       "      <td>0.000505</td>\n",
       "      <td>0.000505</td>\n",
       "      <td>0.132482</td>\n",
       "      <td>0.000505</td>\n",
       "      <td>0.000505</td>\n",
       "      <td>0.000505</td>\n",
       "      <td>0.000505</td>\n",
       "      <td>0.000505</td>\n",
       "      <td>0.000505</td>\n",
       "      <td>0.000505</td>\n",
       "      <td>0.000505</td>\n",
       "      <td>0.178044</td>\n",
       "      <td>0.000505</td>\n",
       "    </tr>\n",
       "    <tr>\n",
       "      <th>190856</th>\n",
       "      <td>0.062953</td>\n",
       "      <td>0.000276</td>\n",
       "      <td>0.000276</td>\n",
       "      <td>0.000276</td>\n",
       "      <td>0.078729</td>\n",
       "      <td>0.000276</td>\n",
       "      <td>0.000277</td>\n",
       "      <td>0.679402</td>\n",
       "      <td>0.000276</td>\n",
       "      <td>0.000276</td>\n",
       "      <td>0.000276</td>\n",
       "      <td>0.082347</td>\n",
       "      <td>0.000276</td>\n",
       "      <td>0.000276</td>\n",
       "      <td>0.030317</td>\n",
       "      <td>0.013890</td>\n",
       "      <td>0.048768</td>\n",
       "      <td>0.000276</td>\n",
       "      <td>0.000276</td>\n",
       "      <td>0.000276</td>\n",
       "    </tr>\n",
       "    <tr>\n",
       "      <th>190857</th>\n",
       "      <td>0.453185</td>\n",
       "      <td>0.001192</td>\n",
       "      <td>0.001192</td>\n",
       "      <td>0.001192</td>\n",
       "      <td>0.001192</td>\n",
       "      <td>0.069950</td>\n",
       "      <td>0.001192</td>\n",
       "      <td>0.132373</td>\n",
       "      <td>0.001192</td>\n",
       "      <td>0.204408</td>\n",
       "      <td>0.001192</td>\n",
       "      <td>0.001192</td>\n",
       "      <td>0.001192</td>\n",
       "      <td>0.001192</td>\n",
       "      <td>0.001192</td>\n",
       "      <td>0.122211</td>\n",
       "      <td>0.001192</td>\n",
       "      <td>0.001192</td>\n",
       "      <td>0.001192</td>\n",
       "      <td>0.001192</td>\n",
       "    </tr>\n",
       "  </tbody>\n",
       "</table>\n",
       "<p>190858 rows × 20 columns</p>\n",
       "</div>"
      ],
      "text/plain": [
       "              0         1         2         3         4         5         6   \\\n",
       "0       0.000317  0.000317  0.050186  0.057272  0.000317  0.000317  0.000317   \n",
       "1       0.024367  0.000781  0.000781  0.000781  0.000781  0.000781  0.000781   \n",
       "2       0.000714  0.000714  0.000714  0.000714  0.000714  0.000714  0.000714   \n",
       "3       0.000126  0.000126  0.000126  0.072921  0.000126  0.000126  0.000126   \n",
       "4       0.000299  0.000299  0.000299  0.000299  0.051129  0.000299  0.005426   \n",
       "...          ...       ...       ...       ...       ...       ...       ...   \n",
       "190853  0.324212  0.000206  0.419116  0.000206  0.000206  0.000206  0.000206   \n",
       "190854  0.003334  0.003334  0.003334  0.003334  0.003334  0.936660  0.003334   \n",
       "190855  0.073660  0.000505  0.000505  0.607731  0.000505  0.000505  0.000505   \n",
       "190856  0.062953  0.000276  0.000276  0.000276  0.078729  0.000276  0.000277   \n",
       "190857  0.453185  0.001192  0.001192  0.001192  0.001192  0.069950  0.001192   \n",
       "\n",
       "              7         8         9         10        11        12        13  \\\n",
       "0       0.080399  0.000317  0.000317  0.000317  0.000317  0.000317  0.000317   \n",
       "1       0.674840  0.000781  0.000781  0.000781  0.000781  0.000781  0.000781   \n",
       "2       0.489395  0.000714  0.000714  0.000714  0.000714  0.097302  0.000714   \n",
       "3       0.000126  0.000126  0.000126  0.011308  0.000126  0.015034  0.000126   \n",
       "4       0.665474  0.000299  0.000299  0.000299  0.000299  0.000299  0.000299   \n",
       "...          ...       ...       ...       ...       ...       ...       ...   \n",
       "190853  0.000989  0.000206  0.000206  0.000206  0.000206  0.042555  0.097789   \n",
       "190854  0.003334  0.003334  0.003334  0.003334  0.003334  0.003334  0.003334   \n",
       "190855  0.000505  0.000505  0.132482  0.000505  0.000505  0.000505  0.000505   \n",
       "190856  0.679402  0.000276  0.000276  0.000276  0.082347  0.000276  0.000276   \n",
       "190857  0.132373  0.001192  0.204408  0.001192  0.001192  0.001192  0.001192   \n",
       "\n",
       "              14        15        16        17        18        19  \n",
       "0       0.345097  0.000317  0.000317  0.107223  0.355391  0.000317  \n",
       "1       0.000781  0.041708  0.000781  0.000781  0.000781  0.246582  \n",
       "2       0.401158  0.000714  0.000714  0.000714  0.000714  0.000714  \n",
       "3       0.000126  0.000126  0.000126  0.898716  0.000126  0.000126  \n",
       "4       0.000299  0.000299  0.273180  0.000299  0.000299  0.000299  \n",
       "...          ...       ...       ...       ...       ...       ...  \n",
       "190853  0.000206  0.000206  0.000206  0.103882  0.000206  0.008780  \n",
       "190854  0.003334  0.003334  0.003334  0.003334  0.003334  0.003334  \n",
       "190855  0.000505  0.000505  0.000505  0.000505  0.178044  0.000505  \n",
       "190856  0.030317  0.013890  0.048768  0.000276  0.000276  0.000276  \n",
       "190857  0.001192  0.122211  0.001192  0.001192  0.001192  0.001192  \n",
       "\n",
       "[190858 rows x 20 columns]"
      ]
     },
     "execution_count": 91,
     "metadata": {},
     "output_type": "execute_result"
    }
   ],
   "source": [
    "doc_topic"
   ]
  },
  {
   "cell_type": "code",
   "execution_count": 92,
   "metadata": {
    "id": "qDdMeOLtJ98l"
   },
   "outputs": [],
   "source": [
    "topic_tag = np.matmul(doc_topic.T,y_encoded)"
   ]
  },
  {
   "cell_type": "code",
   "execution_count": 93,
   "metadata": {
    "colab": {
     "base_uri": "https://localhost:8080/"
    },
    "executionInfo": {
     "elapsed": 28319,
     "status": "ok",
     "timestamp": 1637246166695,
     "user": {
      "displayName": "Alexandre Taillard de Vorms",
      "photoUrl": "https://lh3.googleusercontent.com/a/default-user=s64",
      "userId": "17158358651987272696"
     },
     "user_tz": -60
    },
    "id": "9jhi1LFcKcd7",
    "outputId": "e156656e-361e-410f-e4f4-3a6219fb08ce"
   },
   "outputs": [
    {
     "data": {
      "text/html": [
       "<div>\n",
       "<style scoped>\n",
       "    .dataframe tbody tr th:only-of-type {\n",
       "        vertical-align: middle;\n",
       "    }\n",
       "\n",
       "    .dataframe tbody tr th {\n",
       "        vertical-align: top;\n",
       "    }\n",
       "\n",
       "    .dataframe thead th {\n",
       "        text-align: right;\n",
       "    }\n",
       "</style>\n",
       "<table border=\"1\" class=\"dataframe\">\n",
       "  <thead>\n",
       "    <tr style=\"text-align: right;\">\n",
       "      <th></th>\n",
       "      <th>0</th>\n",
       "      <th>best_topic</th>\n",
       "      <th>nb_tags</th>\n",
       "      <th>y_true</th>\n",
       "    </tr>\n",
       "  </thead>\n",
       "  <tbody>\n",
       "    <tr>\n",
       "      <th>0</th>\n",
       "      <td>[javascript, html]</td>\n",
       "      <td>18</td>\n",
       "      <td>2</td>\n",
       "      <td>[224, 248]</td>\n",
       "    </tr>\n",
       "    <tr>\n",
       "      <th>1</th>\n",
       "      <td>[python, python-3.x, tensorflow, keras, tensor...</td>\n",
       "      <td>7</td>\n",
       "      <td>5</td>\n",
       "      <td>[262, 362, 365, 444, 445]</td>\n",
       "    </tr>\n",
       "    <tr>\n",
       "      <th>2</th>\n",
       "      <td>[selenium, google-chrome, selenium-webdriver, ...</td>\n",
       "      <td>7</td>\n",
       "      <td>4</td>\n",
       "      <td>[200, 402, 403, 404]</td>\n",
       "    </tr>\n",
       "    <tr>\n",
       "      <th>3</th>\n",
       "      <td>[angular, google-cloud-firestore]</td>\n",
       "      <td>17</td>\n",
       "      <td>2</td>\n",
       "      <td>[28, 202]</td>\n",
       "    </tr>\n",
       "    <tr>\n",
       "      <th>4</th>\n",
       "      <td>[java, intellij-idea]</td>\n",
       "      <td>7</td>\n",
       "      <td>2</td>\n",
       "      <td>[235, 243]</td>\n",
       "    </tr>\n",
       "    <tr>\n",
       "      <th>...</th>\n",
       "      <td>...</td>\n",
       "      <td>...</td>\n",
       "      <td>...</td>\n",
       "      <td>...</td>\n",
       "    </tr>\n",
       "    <tr>\n",
       "      <th>190853</th>\n",
       "      <td>[javascript]</td>\n",
       "      <td>2</td>\n",
       "      <td>1</td>\n",
       "      <td>[248]</td>\n",
       "    </tr>\n",
       "    <tr>\n",
       "      <th>190854</th>\n",
       "      <td>[loops]</td>\n",
       "      <td>5</td>\n",
       "      <td>1</td>\n",
       "      <td>[280]</td>\n",
       "    </tr>\n",
       "    <tr>\n",
       "      <th>190855</th>\n",
       "      <td>[reactjs]</td>\n",
       "      <td>3</td>\n",
       "      <td>1</td>\n",
       "      <td>[384]</td>\n",
       "    </tr>\n",
       "    <tr>\n",
       "      <th>190856</th>\n",
       "      <td>[java, maven, intellij-idea]</td>\n",
       "      <td>7</td>\n",
       "      <td>3</td>\n",
       "      <td>[235, 243, 289]</td>\n",
       "    </tr>\n",
       "    <tr>\n",
       "      <th>190857</th>\n",
       "      <td>[sql, oracle]</td>\n",
       "      <td>0</td>\n",
       "      <td>2</td>\n",
       "      <td>[328, 426]</td>\n",
       "    </tr>\n",
       "  </tbody>\n",
       "</table>\n",
       "<p>190858 rows × 4 columns</p>\n",
       "</div>"
      ],
      "text/plain": [
       "                                                        0  best_topic  \\\n",
       "0                                      [javascript, html]          18   \n",
       "1       [python, python-3.x, tensorflow, keras, tensor...           7   \n",
       "2       [selenium, google-chrome, selenium-webdriver, ...           7   \n",
       "3                       [angular, google-cloud-firestore]          17   \n",
       "4                                   [java, intellij-idea]           7   \n",
       "...                                                   ...         ...   \n",
       "190853                                       [javascript]           2   \n",
       "190854                                            [loops]           5   \n",
       "190855                                          [reactjs]           3   \n",
       "190856                       [java, maven, intellij-idea]           7   \n",
       "190857                                      [sql, oracle]           0   \n",
       "\n",
       "        nb_tags                     y_true  \n",
       "0             2                 [224, 248]  \n",
       "1             5  [262, 362, 365, 444, 445]  \n",
       "2             4       [200, 402, 403, 404]  \n",
       "3             2                  [28, 202]  \n",
       "4             2                 [235, 243]  \n",
       "...         ...                        ...  \n",
       "190853        1                      [248]  \n",
       "190854        1                      [280]  \n",
       "190855        1                      [384]  \n",
       "190856        3            [235, 243, 289]  \n",
       "190857        2                 [328, 426]  \n",
       "\n",
       "[190858 rows x 4 columns]"
      ]
     },
     "execution_count": 93,
     "metadata": {},
     "output_type": "execute_result"
    }
   ],
   "source": [
    "y_results = pd.DataFrame(y)\n",
    "y_results[\"best_topic\"] = doc_topic.idxmax(axis=1).values\n",
    "y_results[\"nb_tags\"] = y_results[0].apply(lambda x : len(x))\n",
    "\n",
    "df_y_bin = pd.DataFrame(y_encoded)\n",
    "df_dict = dict(\n",
    "    list(\n",
    "        df_y_bin.groupby(df_y_bin.index)\n",
    "    )\n",
    ")\n",
    "\n",
    "tags_num = []\n",
    "for k, v in df_dict.items():\n",
    "    check = v.columns[(v == 1).any()]\n",
    "    tags_num.append(check.to_list())\n",
    "\n",
    "y_results[\"y_true\"] = tags_num\n",
    "y_results"
   ]
  },
  {
   "cell_type": "code",
   "execution_count": 94,
   "metadata": {
    "colab": {
     "base_uri": "https://localhost:8080/"
    },
    "executionInfo": {
     "elapsed": 4848,
     "status": "ok",
     "timestamp": 1637246171540,
     "user": {
      "displayName": "Alexandre Taillard de Vorms",
      "photoUrl": "https://lh3.googleusercontent.com/a/default-user=s64",
      "userId": "17158358651987272696"
     },
     "user_tz": -60
    },
    "id": "BEq97RP1L5ro",
    "outputId": "a40e9dff-3ab3-4de5-b8bc-5d43497c25ff"
   },
   "outputs": [
    {
     "data": {
      "text/html": [
       "<div>\n",
       "<style scoped>\n",
       "    .dataframe tbody tr th:only-of-type {\n",
       "        vertical-align: middle;\n",
       "    }\n",
       "\n",
       "    .dataframe tbody tr th {\n",
       "        vertical-align: top;\n",
       "    }\n",
       "\n",
       "    .dataframe thead th {\n",
       "        text-align: right;\n",
       "    }\n",
       "</style>\n",
       "<table border=\"1\" class=\"dataframe\">\n",
       "  <thead>\n",
       "    <tr style=\"text-align: right;\">\n",
       "      <th></th>\n",
       "      <th>0</th>\n",
       "      <th>best_topic</th>\n",
       "      <th>nb_tags</th>\n",
       "      <th>y_true</th>\n",
       "      <th>y_pred</th>\n",
       "    </tr>\n",
       "  </thead>\n",
       "  <tbody>\n",
       "    <tr>\n",
       "      <th>0</th>\n",
       "      <td>[javascript, html]</td>\n",
       "      <td>18</td>\n",
       "      <td>2</td>\n",
       "      <td>[224, 248]</td>\n",
       "      <td>[248, 113]</td>\n",
       "    </tr>\n",
       "    <tr>\n",
       "      <th>1</th>\n",
       "      <td>[python, python-3.x, tensorflow, keras, tensor...</td>\n",
       "      <td>7</td>\n",
       "      <td>5</td>\n",
       "      <td>[262, 362, 365, 444, 445]</td>\n",
       "      <td>[15, 362, 238, 175, 471]</td>\n",
       "    </tr>\n",
       "    <tr>\n",
       "      <th>2</th>\n",
       "      <td>[selenium, google-chrome, selenium-webdriver, ...</td>\n",
       "      <td>7</td>\n",
       "      <td>4</td>\n",
       "      <td>[200, 402, 403, 404]</td>\n",
       "      <td>[15, 362, 238, 175]</td>\n",
       "    </tr>\n",
       "    <tr>\n",
       "      <th>3</th>\n",
       "      <td>[angular, google-cloud-firestore]</td>\n",
       "      <td>17</td>\n",
       "      <td>2</td>\n",
       "      <td>[28, 202]</td>\n",
       "      <td>[248, 312]</td>\n",
       "    </tr>\n",
       "    <tr>\n",
       "      <th>4</th>\n",
       "      <td>[java, intellij-idea]</td>\n",
       "      <td>7</td>\n",
       "      <td>2</td>\n",
       "      <td>[235, 243]</td>\n",
       "      <td>[15, 362]</td>\n",
       "    </tr>\n",
       "    <tr>\n",
       "      <th>...</th>\n",
       "      <td>...</td>\n",
       "      <td>...</td>\n",
       "      <td>...</td>\n",
       "      <td>...</td>\n",
       "      <td>...</td>\n",
       "    </tr>\n",
       "    <tr>\n",
       "      <th>190853</th>\n",
       "      <td>[javascript]</td>\n",
       "      <td>2</td>\n",
       "      <td>1</td>\n",
       "      <td>[248]</td>\n",
       "      <td>[248]</td>\n",
       "    </tr>\n",
       "    <tr>\n",
       "      <th>190854</th>\n",
       "      <td>[loops]</td>\n",
       "      <td>5</td>\n",
       "      <td>1</td>\n",
       "      <td>[280]</td>\n",
       "      <td>[362]</td>\n",
       "    </tr>\n",
       "    <tr>\n",
       "      <th>190855</th>\n",
       "      <td>[reactjs]</td>\n",
       "      <td>3</td>\n",
       "      <td>1</td>\n",
       "      <td>[384]</td>\n",
       "      <td>[384]</td>\n",
       "    </tr>\n",
       "    <tr>\n",
       "      <th>190856</th>\n",
       "      <td>[java, maven, intellij-idea]</td>\n",
       "      <td>7</td>\n",
       "      <td>3</td>\n",
       "      <td>[235, 243, 289]</td>\n",
       "      <td>[15, 362, 238]</td>\n",
       "    </tr>\n",
       "    <tr>\n",
       "      <th>190857</th>\n",
       "      <td>[sql, oracle]</td>\n",
       "      <td>0</td>\n",
       "      <td>2</td>\n",
       "      <td>[328, 426]</td>\n",
       "      <td>[362, 248]</td>\n",
       "    </tr>\n",
       "  </tbody>\n",
       "</table>\n",
       "<p>190858 rows × 5 columns</p>\n",
       "</div>"
      ],
      "text/plain": [
       "                                                        0  best_topic  \\\n",
       "0                                      [javascript, html]          18   \n",
       "1       [python, python-3.x, tensorflow, keras, tensor...           7   \n",
       "2       [selenium, google-chrome, selenium-webdriver, ...           7   \n",
       "3                       [angular, google-cloud-firestore]          17   \n",
       "4                                   [java, intellij-idea]           7   \n",
       "...                                                   ...         ...   \n",
       "190853                                       [javascript]           2   \n",
       "190854                                            [loops]           5   \n",
       "190855                                          [reactjs]           3   \n",
       "190856                       [java, maven, intellij-idea]           7   \n",
       "190857                                      [sql, oracle]           0   \n",
       "\n",
       "        nb_tags                     y_true                    y_pred  \n",
       "0             2                 [224, 248]                [248, 113]  \n",
       "1             5  [262, 362, 365, 444, 445]  [15, 362, 238, 175, 471]  \n",
       "2             4       [200, 402, 403, 404]       [15, 362, 238, 175]  \n",
       "3             2                  [28, 202]                [248, 312]  \n",
       "4             2                 [235, 243]                 [15, 362]  \n",
       "...         ...                        ...                       ...  \n",
       "190853        1                      [248]                     [248]  \n",
       "190854        1                      [280]                     [362]  \n",
       "190855        1                      [384]                     [384]  \n",
       "190856        3            [235, 243, 289]            [15, 362, 238]  \n",
       "190857        2                 [328, 426]                [362, 248]  \n",
       "\n",
       "[190858 rows x 5 columns]"
      ]
     },
     "execution_count": 94,
     "metadata": {},
     "output_type": "execute_result"
    }
   ],
   "source": [
    "list_tag = []\n",
    "for row in y_results.itertuples():\n",
    "    nb_tags = row.nb_tags\n",
    "    best_topic = row.best_topic\n",
    "    row_tags = list(topic_tag.iloc[best_topic]\\\n",
    "                    .sort_values(ascending=False)[0:nb_tags].index)\n",
    "    list_tag.append(row_tags)\n",
    "    \n",
    "y_results[\"y_pred\"] = list_tag\n",
    "y_results"
   ]
  },
  {
   "cell_type": "code",
   "execution_count": 95,
   "metadata": {
    "id": "LejCdcciMia4"
   },
   "outputs": [],
   "source": [
    "# Create matrix for pred and true y LDA\n",
    "lda_y_pred = np.zeros(y_encoded.shape)\n",
    "n = 0\n",
    "for row in y_results.y_pred.values:\n",
    "    for i in range(len(row)):\n",
    "        lda_y_pred[n,row[i]] = 1\n",
    "    n+=1\n",
    "    \n",
    "lda_y_true = np.zeros(y_encoded.shape)\n",
    "m = 0\n",
    "for row in y_results.y_true.values:\n",
    "    for i in range(len(row)):\n",
    "        lda_y_true[m,row[i]] = 1\n",
    "    m+=1"
   ]
  },
  {
   "cell_type": "code",
   "execution_count": 96,
   "metadata": {
    "colab": {
     "base_uri": "https://localhost:8080/"
    },
    "executionInfo": {
     "elapsed": 6118,
     "status": "ok",
     "timestamp": 1637246177655,
     "user": {
      "displayName": "Alexandre Taillard de Vorms",
      "photoUrl": "https://lh3.googleusercontent.com/a/default-user=s64",
      "userId": "17158358651987272696"
     },
     "user_tz": -60
    },
    "id": "JM7SHrtoMq70",
    "outputId": "0acddb9d-d32a-4f77-9aff-ec384d948bff"
   },
   "outputs": [
    {
     "name": "stderr",
     "output_type": "stream",
     "text": [
      "/home/efkant/anaconda3/envs/stack_tags/lib/python3.7/site-packages/sklearn/metrics/_classification.py:1308: UndefinedMetricWarning:\n",
      "\n",
      "Precision is ill-defined and being set to 0.0 in labels with no predicted samples. Use `zero_division` parameter to control this behavior.\n",
      "\n"
     ]
    },
    {
     "data": {
      "text/html": [
       "<div>\n",
       "<style scoped>\n",
       "    .dataframe tbody tr th:only-of-type {\n",
       "        vertical-align: middle;\n",
       "    }\n",
       "\n",
       "    .dataframe tbody tr th {\n",
       "        vertical-align: top;\n",
       "    }\n",
       "\n",
       "    .dataframe thead th {\n",
       "        text-align: right;\n",
       "    }\n",
       "</style>\n",
       "<table border=\"1\" class=\"dataframe\">\n",
       "  <thead>\n",
       "    <tr style=\"text-align: right;\">\n",
       "      <th></th>\n",
       "      <th>DummyClassifier</th>\n",
       "      <th>SGDClassifier</th>\n",
       "      <th>LDA</th>\n",
       "    </tr>\n",
       "  </thead>\n",
       "  <tbody>\n",
       "    <tr>\n",
       "      <th>Accuracy</th>\n",
       "      <td>0.0</td>\n",
       "      <td>0.167295</td>\n",
       "      <td>0.063539</td>\n",
       "    </tr>\n",
       "    <tr>\n",
       "      <th>F1</th>\n",
       "      <td>0.0</td>\n",
       "      <td>0.689912</td>\n",
       "      <td>0.336445</td>\n",
       "    </tr>\n",
       "    <tr>\n",
       "      <th>Jaccard</th>\n",
       "      <td>0.0</td>\n",
       "      <td>0.338312</td>\n",
       "      <td>0.093766</td>\n",
       "    </tr>\n",
       "    <tr>\n",
       "      <th>Recall</th>\n",
       "      <td>0.0</td>\n",
       "      <td>0.366058</td>\n",
       "      <td>0.245234</td>\n",
       "    </tr>\n",
       "    <tr>\n",
       "      <th>Precision</th>\n",
       "      <td>0.0</td>\n",
       "      <td>0.647289</td>\n",
       "      <td>0.130146</td>\n",
       "    </tr>\n",
       "  </tbody>\n",
       "</table>\n",
       "</div>"
      ],
      "text/plain": [
       "           DummyClassifier  SGDClassifier       LDA\n",
       "Accuracy               0.0       0.167295  0.063539\n",
       "F1                     0.0       0.689912  0.336445\n",
       "Jaccard                0.0       0.338312  0.093766\n",
       "Recall                 0.0       0.366058  0.245234\n",
       "Precision              0.0       0.647289  0.130146"
      ]
     },
     "execution_count": 96,
     "metadata": {},
     "output_type": "execute_result"
    }
   ],
   "source": [
    "df_metrics_compare = metrics_score(\"LDA\", df=metrics_results,\n",
    "                                   y_true=lda_y_true,\n",
    "                                   y_pred=lda_y_pred)\n",
    "df_metrics_compare"
   ]
  },
  {
   "cell_type": "code",
   "execution_count": 97,
   "metadata": {},
   "outputs": [
    {
     "data": {
      "text/html": [
       "<div>\n",
       "<style scoped>\n",
       "    .dataframe tbody tr th:only-of-type {\n",
       "        vertical-align: middle;\n",
       "    }\n",
       "\n",
       "    .dataframe tbody tr th {\n",
       "        vertical-align: top;\n",
       "    }\n",
       "\n",
       "    .dataframe thead th {\n",
       "        text-align: right;\n",
       "    }\n",
       "</style>\n",
       "<table border=\"1\" class=\"dataframe\">\n",
       "  <thead>\n",
       "    <tr style=\"text-align: right;\">\n",
       "      <th></th>\n",
       "      <th>DummyClassifier</th>\n",
       "      <th>SGDClassifier</th>\n",
       "      <th>LDA</th>\n",
       "      <th>Keras</th>\n",
       "    </tr>\n",
       "  </thead>\n",
       "  <tbody>\n",
       "    <tr>\n",
       "      <th>Accuracy</th>\n",
       "      <td>0.0</td>\n",
       "      <td>0.167295</td>\n",
       "      <td>0.063539</td>\n",
       "      <td>0.182490</td>\n",
       "    </tr>\n",
       "    <tr>\n",
       "      <th>F1</th>\n",
       "      <td>0.0</td>\n",
       "      <td>0.689912</td>\n",
       "      <td>0.336445</td>\n",
       "      <td>0.613120</td>\n",
       "    </tr>\n",
       "    <tr>\n",
       "      <th>Jaccard</th>\n",
       "      <td>0.0</td>\n",
       "      <td>0.338312</td>\n",
       "      <td>0.093766</td>\n",
       "      <td>0.417798</td>\n",
       "    </tr>\n",
       "    <tr>\n",
       "      <th>Recall</th>\n",
       "      <td>0.0</td>\n",
       "      <td>0.366058</td>\n",
       "      <td>0.245234</td>\n",
       "      <td>0.554563</td>\n",
       "    </tr>\n",
       "    <tr>\n",
       "      <th>Precision</th>\n",
       "      <td>0.0</td>\n",
       "      <td>0.647289</td>\n",
       "      <td>0.130146</td>\n",
       "      <td>0.595299</td>\n",
       "    </tr>\n",
       "  </tbody>\n",
       "</table>\n",
       "</div>"
      ],
      "text/plain": [
       "           DummyClassifier  SGDClassifier       LDA     Keras\n",
       "Accuracy               0.0       0.167295  0.063539  0.182490\n",
       "F1                     0.0       0.689912  0.336445  0.613120\n",
       "Jaccard                0.0       0.338312  0.093766  0.417798\n",
       "Recall                 0.0       0.366058  0.245234  0.554563\n",
       "Precision              0.0       0.647289  0.130146  0.595299"
      ]
     },
     "execution_count": 97,
     "metadata": {},
     "output_type": "execute_result"
    }
   ],
   "source": [
    "#Adding the results from the Keras model\n",
    "keras_results= [\n",
    "  0.182490,\n",
    "  0.613120,\n",
    "  0.417798,\n",
    "  0.554563,\n",
    "  0.595299\n",
    "]\n",
    "df_metrics_compare['Keras'] = keras_results\n",
    "df_metrics_compare"
   ]
  },
  {
   "cell_type": "markdown",
   "metadata": {
    "id": "GoSexRUVwFHF",
    "tags": []
   },
   "source": [
    "# Keras with Embedding Layer"
   ]
  },
  {
   "cell_type": "code",
   "execution_count": 98,
   "metadata": {
    "id": "-iVOjJDQJz1R"
   },
   "outputs": [],
   "source": [
    "from keras.preprocessing.text import Tokenizer\n",
    "from keras.preprocessing.sequence import pad_sequences\n",
    "from keras.models import load_model"
   ]
  },
  {
   "cell_type": "markdown",
   "metadata": {},
   "source": [
    "https://colab.research.google.com/drive/1oHB_lZ8EL7vFAZZqIzkDIcBDFyUSDOkZ#scrollTo=8FKJIprOx197"
   ]
  },
  {
   "cell_type": "markdown",
   "metadata": {
    "id": "CzPw9MNmOlhQ",
    "tags": []
   },
   "source": [
    "# Hugging Face Zero Shot Classification"
   ]
  },
  {
   "cell_type": "code",
   "execution_count": 99,
   "metadata": {
    "id": "ClmRylhG4o3e"
   },
   "outputs": [],
   "source": [
    "from transformers import pipeline # HuggingFace Transformers Package\n",
    "from tqdm import tqdm"
   ]
  },
  {
   "cell_type": "code",
   "execution_count": 100,
   "metadata": {
    "colab": {
     "base_uri": "https://localhost:8080/",
     "height": 226,
     "referenced_widgets": [
      "06150e8972e4441686971e9e7e0c8259",
      "5240e6c1424d4f0daed99dea3d0c1358",
      "0ec47de4fba944278020475560b48654",
      "7d356bdf32624733a16f6da13e5cfe44",
      "794809a2ab84492c90a237a383c33d27",
      "3bbb328135c244db8020cce06d8da0b3",
      "2eb57d737e1e4c839a587acf4271ff04",
      "5981f2d913d34980968f0ba63f37232a",
      "b44f24e3374f4c27a0eff7b2cb9229fc",
      "1b44e1860e714267a386caed9a980d4e",
      "3478572ff95a4dc5bc850c1b2515ec9d",
      "161cc92d27c346a38ee69cf0ce2b273a",
      "652092e348434bfb81b5a5c61b7c5839",
      "f85068c7b06144b3b8a3d420823c1abb",
      "e29d28e517464f3faf4425f065242f3a",
      "f24360fbcf664d8c814c4ebd61466ddb",
      "6f35ebcbc039405e9d6dff773907b52e",
      "74621fd6a02f46a5921cdb88cca2f913",
      "8d04e790af84432bb79c67db9b905b85",
      "3480af60cd814049ba2d6845e8b4d88a",
      "b9515713fbe54aa7a6f975585e964cf0",
      "57d0144f8e354aa3985b42299d799bf2",
      "4243898073934b4199877ca537320463",
      "8b6b3c4d481349b48f2949c1a507dfd8",
      "22bb35c0571a4f7c97ca4f3d6a58cf8a",
      "996a074961d940d9bcd4fb5a305301e6",
      "2d946f8981cc469f8ec28dc1ebd60cb2",
      "20d2d1a47b654db596fdf5659b26e4a0",
      "a6f8d6266b804b649380c8c1364bb754",
      "c8612f26e4904fbca133861568afd84d",
      "e39f42c72a2c4726845500fc207aa5ef",
      "828de1fbde794b9a8ccddf320317cbf9",
      "00466f34fa1b40d996eb81315d90e90d",
      "455882adffe443548a934324a7bf67fc",
      "7b2d82a0390045e2a6b9330591e10275",
      "ca865c6b190a4cd5b88210041fdc119a",
      "625378a8064545febb9aab4e0ef780d6",
      "1911930e5f634d2fbd42659c190a564d",
      "f8108ac3d7d643ff8d6f167ec7312719",
      "6d686d4e88064382959de45d318f903d",
      "1e4e78dfbd834ba995cb7911c4306e05",
      "4edfeb0ee6304c05b4d8e822216cd22b",
      "497bd67d557844109468c57c022fb9f6",
      "85c61a2e159a4f74acd64fbf46014738",
      "1b1c154e22fb4b558de0a14b4996861a",
      "f4915cebce6a45e8a2bf29087442aeb2",
      "e25b57a07f6444e3bfb1fc277f0e55a2",
      "f588005e866e4ca7bc663830bb0c5ae6",
      "a32c6d033a5c48ffaa53be04f9583eda",
      "cd2d9736e7d1479b9e92d943f684da97",
      "f8eab4561eab472ea20657588f5b5897",
      "3bb3c10ade97496a9baae5018323832b",
      "5477a844a16d4080a2bbde834cdd1d1c",
      "69a76e8a9fd942048ebf84b313c5e9ea",
      "ff3136aa9df949a2a9aea6660900367c",
      "f76e2bdfebbf4448a4f870ce44adddd6",
      "fb72e800ee584933a934adc7970c31ec",
      "af2f9f78ef6a4fd6b84e203075cf8de1",
      "b2be406111d3463a882ed1563102b7fc",
      "b5c2c478d2424cda969ea35f10d3ff98",
      "b3cb20271011447c9c7d4641521ba1f1",
      "0e6a8748d3604d96adfb6469d8ce90d1",
      "21410a59ca2b47fcb9df28bb8bf6db34",
      "a7c73b5b2c7f46cb8bc246b42e6e2e6d",
      "76d105bfc279422582fcb739c621fd7c",
      "a52789f09b0f488e894208409ebaa71a"
     ]
    },
    "executionInfo": {
     "elapsed": 41000,
     "status": "ok",
     "timestamp": 1637246425795,
     "user": {
      "displayName": "Alexandre Taillard de Vorms",
      "photoUrl": "https://lh3.googleusercontent.com/a/default-user=s64",
      "userId": "17158358651987272696"
     },
     "user_tz": -60
    },
    "id": "rkzSL1ul4o3e",
    "outputId": "0a9b06fc-43ed-47da-dea9-92c4a48c2fb2"
   },
   "outputs": [
    {
     "name": "stderr",
     "output_type": "stream",
     "text": [
      "No model was supplied, defaulted to roberta-large-mnli (https://huggingface.co/roberta-large-mnli)\n",
      "2021-12-01 12:49:30.948160: W tensorflow/stream_executor/platform/default/dso_loader.cc:64] Could not load dynamic library 'libcuda.so.1'; dlerror: libcuda.so.1: cannot open shared object file: No such file or directory\n",
      "2021-12-01 12:49:30.948618: W tensorflow/stream_executor/cuda/cuda_driver.cc:269] failed call to cuInit: UNKNOWN ERROR (303)\n",
      "2021-12-01 12:49:30.949541: I tensorflow/stream_executor/cuda/cuda_diagnostics.cc:156] kernel driver does not appear to be running on this host (efkant-MS-7C95): /proc/driver/nvidia/version does not exist\n",
      "2021-12-01 12:49:30.955769: I tensorflow/core/platform/cpu_feature_guard.cc:151] This TensorFlow binary is optimized with oneAPI Deep Neural Network Library (oneDNN) to use the following CPU instructions in performance-critical operations:  AVX2 FMA\n",
      "To enable them in other operations, rebuild TensorFlow with the appropriate compiler flags.\n",
      "All model checkpoint layers were used when initializing TFRobertaForSequenceClassification.\n",
      "\n",
      "All the layers of TFRobertaForSequenceClassification were initialized from the model checkpoint at roberta-large-mnli.\n",
      "If your task is similar to the task the model of the checkpoint was trained on, you can already use TFRobertaForSequenceClassification for predictions without further training.\n"
     ]
    }
   ],
   "source": [
    "classifier = pipeline(\"zero-shot-classification\",device = 0) "
   ]
  },
  {
   "cell_type": "code",
   "execution_count": 101,
   "metadata": {
    "colab": {
     "base_uri": "https://localhost:8080/"
    },
    "executionInfo": {
     "elapsed": 25242,
     "status": "ok",
     "timestamp": 1637246451029,
     "user": {
      "displayName": "Alexandre Taillard de Vorms",
      "photoUrl": "https://lh3.googleusercontent.com/a/default-user=s64",
      "userId": "17158358651987272696"
     },
     "user_tz": -60
    },
    "id": "zLdHtyV-zW-O",
    "outputId": "954543d4-e412-43e8-ca70-fbc844260858"
   },
   "outputs": [
    {
     "name": "stderr",
     "output_type": "stream",
     "text": [
      "100%|██████████| 10/10 [04:32<00:00, 27.26s/it]\n"
     ]
    }
   ],
   "source": [
    "y_pred = []\n",
    "y = []\n",
    "for i in tqdm(range(10)):\n",
    "   titles = db.iloc[i,]['Title']\n",
    "   tags = db.iloc[i,]['Tags']\n",
    "   op = classifier(titles, tags_top_500.keys())\n",
    "   labels = op['labels'] \n",
    "   scores = op['scores']\n",
    "   res_dict = {label : score for label,score in zip(labels, scores)}\n",
    "   sorted_dict = dict(sorted(res_dict.items(), key=lambda x:x[1],reverse = True)) #sorting the dictionary of labels in descending order based on their score\n",
    "   categories = []\n",
    "   for i, (k,v) in enumerate(sorted_dict.items()):\n",
    "     if(i > 3): #storing only the best 4 predictions\n",
    "       break\n",
    "     else:\n",
    "       categories.append(k)\n",
    "   y.append(tags)\n",
    "   y_pred.append(categories)"
   ]
  },
  {
   "cell_type": "code",
   "execution_count": 102,
   "metadata": {
    "colab": {
     "base_uri": "https://localhost:8080/",
     "height": 359
    },
    "executionInfo": {
     "elapsed": 13,
     "status": "ok",
     "timestamp": 1637246451030,
     "user": {
      "displayName": "Alexandre Taillard de Vorms",
      "photoUrl": "https://lh3.googleusercontent.com/a/default-user=s64",
      "userId": "17158358651987272696"
     },
     "user_tz": -60
    },
    "id": "I4vp4JXWzaRc",
    "outputId": "1f290317-8de7-4d98-fbee-1bc055bafcfe"
   },
   "outputs": [
    {
     "data": {
      "text/html": [
       "<div>\n",
       "<style scoped>\n",
       "    .dataframe tbody tr th:only-of-type {\n",
       "        vertical-align: middle;\n",
       "    }\n",
       "\n",
       "    .dataframe tbody tr th {\n",
       "        vertical-align: top;\n",
       "    }\n",
       "\n",
       "    .dataframe thead th {\n",
       "        text-align: right;\n",
       "    }\n",
       "</style>\n",
       "<table border=\"1\" class=\"dataframe\">\n",
       "  <thead>\n",
       "    <tr style=\"text-align: right;\">\n",
       "      <th></th>\n",
       "      <th>Labels</th>\n",
       "      <th>Predicted_Labels</th>\n",
       "    </tr>\n",
       "  </thead>\n",
       "  <tbody>\n",
       "    <tr>\n",
       "      <th>0</th>\n",
       "      <td>[javascript, html]</td>\n",
       "      <td>[error-handling, for-loop, testing, oop]</td>\n",
       "    </tr>\n",
       "    <tr>\n",
       "      <th>1</th>\n",
       "      <td>[python, python-3.x, tensorflow, keras, tensor...</td>\n",
       "      <td>[installation, tensorflow, multiprocessing, go]</td>\n",
       "    </tr>\n",
       "    <tr>\n",
       "      <th>2</th>\n",
       "      <td>[selenium, google-chrome, selenium-webdriver, ...</td>\n",
       "      <td>[exception, error-handling, colors, google-chr...</td>\n",
       "    </tr>\n",
       "    <tr>\n",
       "      <th>3</th>\n",
       "      <td>[angular, google-cloud-firestore]</td>\n",
       "      <td>[exception, error-handling, import, oop]</td>\n",
       "    </tr>\n",
       "    <tr>\n",
       "      <th>4</th>\n",
       "      <td>[java, intellij-idea]</td>\n",
       "      <td>[error-handling, java, testing, express]</td>\n",
       "    </tr>\n",
       "    <tr>\n",
       "      <th>5</th>\n",
       "      <td>[javascript, reactjs]</td>\n",
       "      <td>[error-handling, testing, dom, module]</td>\n",
       "    </tr>\n",
       "    <tr>\n",
       "      <th>6</th>\n",
       "      <td>[javascript, reactjs, redux, visual-studio-cod...</td>\n",
       "      <td>[error-handling, exception, testing, string]</td>\n",
       "    </tr>\n",
       "    <tr>\n",
       "      <th>7</th>\n",
       "      <td>[ios, xcode]</td>\n",
       "      <td>[iphone, mobile, ios, networking]</td>\n",
       "    </tr>\n",
       "    <tr>\n",
       "      <th>8</th>\n",
       "      <td>[java, spring-boot]</td>\n",
       "      <td>[error-handling, java, class, groovy]</td>\n",
       "    </tr>\n",
       "    <tr>\n",
       "      <th>9</th>\n",
       "      <td>[android, android-studio, kotlin]</td>\n",
       "      <td>[gradle, error-handling, kotlin, performance]</td>\n",
       "    </tr>\n",
       "  </tbody>\n",
       "</table>\n",
       "</div>"
      ],
      "text/plain": [
       "                                              Labels  \\\n",
       "0                                 [javascript, html]   \n",
       "1  [python, python-3.x, tensorflow, keras, tensor...   \n",
       "2  [selenium, google-chrome, selenium-webdriver, ...   \n",
       "3                  [angular, google-cloud-firestore]   \n",
       "4                              [java, intellij-idea]   \n",
       "5                              [javascript, reactjs]   \n",
       "6  [javascript, reactjs, redux, visual-studio-cod...   \n",
       "7                                       [ios, xcode]   \n",
       "8                                [java, spring-boot]   \n",
       "9                  [android, android-studio, kotlin]   \n",
       "\n",
       "                                    Predicted_Labels  \n",
       "0           [error-handling, for-loop, testing, oop]  \n",
       "1    [installation, tensorflow, multiprocessing, go]  \n",
       "2  [exception, error-handling, colors, google-chr...  \n",
       "3           [exception, error-handling, import, oop]  \n",
       "4           [error-handling, java, testing, express]  \n",
       "5             [error-handling, testing, dom, module]  \n",
       "6       [error-handling, exception, testing, string]  \n",
       "7                  [iphone, mobile, ios, networking]  \n",
       "8              [error-handling, java, class, groovy]  \n",
       "9      [gradle, error-handling, kotlin, performance]  "
      ]
     },
     "execution_count": 102,
     "metadata": {},
     "output_type": "execute_result"
    }
   ],
   "source": [
    "out = pd.DataFrame(list(zip(y, y_pred)), columns =['Labels', 'Predicted_Labels']) \n",
    "out"
   ]
  }
 ],
 "metadata": {
  "accelerator": "GPU",
  "colab": {
   "collapsed_sections": [
    "2wSE9ZRoPjaY",
    "5ZMLeFlTIeWy",
    "tBJbhM5L8t1S",
    "PHpZtfmB4o3T",
    "vg9Sm6QT4o3X",
    "Ork4Lnxm4o3a",
    "P0DUgWsD4o3b",
    "AzXr4zEf4o3b",
    "Bv5sf69m4o3d",
    "CzPw9MNmOlhQ",
    "T1v32Spx4o3f"
   ],
   "machine_shape": "hm",
   "name": "Stackoverflow_Tags_notebook.ipynb",
   "provenance": []
  },
  "interpreter": {
   "hash": "2c1891d35eac1104f9cb9d9a0e3794eb683fcacf866bebd6908126fb66ea8380"
  },
  "kernelspec": {
   "display_name": "Python 3.7.11 64-bit ('stack_tags': conda)",
   "language": "python",
   "name": "python3"
  },
  "language_info": {
   "codemirror_mode": {
    "name": "ipython",
    "version": 3
   },
   "file_extension": ".py",
   "mimetype": "text/x-python",
   "name": "python",
   "nbconvert_exporter": "python",
   "pygments_lexer": "ipython3",
   "version": "3.7.11"
  },
  "widgets": {
   "application/vnd.jupyter.widget-state+json": {
    "00466f34fa1b40d996eb81315d90e90d": {
     "model_module": "@jupyter-widgets/base",
     "model_module_version": "1.2.0",
     "model_name": "LayoutModel",
     "state": {
      "_model_module": "@jupyter-widgets/base",
      "_model_module_version": "1.2.0",
      "_model_name": "LayoutModel",
      "_view_count": null,
      "_view_module": "@jupyter-widgets/base",
      "_view_module_version": "1.2.0",
      "_view_name": "LayoutView",
      "align_content": null,
      "align_items": null,
      "align_self": null,
      "border": null,
      "bottom": null,
      "display": null,
      "flex": null,
      "flex_flow": null,
      "grid_area": null,
      "grid_auto_columns": null,
      "grid_auto_flow": null,
      "grid_auto_rows": null,
      "grid_column": null,
      "grid_gap": null,
      "grid_row": null,
      "grid_template_areas": null,
      "grid_template_columns": null,
      "grid_template_rows": null,
      "height": null,
      "justify_content": null,
      "justify_items": null,
      "left": null,
      "margin": null,
      "max_height": null,
      "max_width": null,
      "min_height": null,
      "min_width": null,
      "object_fit": null,
      "object_position": null,
      "order": null,
      "overflow": null,
      "overflow_x": null,
      "overflow_y": null,
      "padding": null,
      "right": null,
      "top": null,
      "visibility": null,
      "width": null
     }
    },
    "06150e8972e4441686971e9e7e0c8259": {
     "model_module": "@jupyter-widgets/controls",
     "model_module_version": "1.5.0",
     "model_name": "HBoxModel",
     "state": {
      "_dom_classes": [],
      "_model_module": "@jupyter-widgets/controls",
      "_model_module_version": "1.5.0",
      "_model_name": "HBoxModel",
      "_view_count": null,
      "_view_module": "@jupyter-widgets/controls",
      "_view_module_version": "1.5.0",
      "_view_name": "HBoxView",
      "box_style": "",
      "children": [
       "IPY_MODEL_0ec47de4fba944278020475560b48654",
       "IPY_MODEL_7d356bdf32624733a16f6da13e5cfe44",
       "IPY_MODEL_794809a2ab84492c90a237a383c33d27"
      ],
      "layout": "IPY_MODEL_5240e6c1424d4f0daed99dea3d0c1358"
     }
    },
    "0e6a8748d3604d96adfb6469d8ce90d1": {
     "model_module": "@jupyter-widgets/base",
     "model_module_version": "1.2.0",
     "model_name": "LayoutModel",
     "state": {
      "_model_module": "@jupyter-widgets/base",
      "_model_module_version": "1.2.0",
      "_model_name": "LayoutModel",
      "_view_count": null,
      "_view_module": "@jupyter-widgets/base",
      "_view_module_version": "1.2.0",
      "_view_name": "LayoutView",
      "align_content": null,
      "align_items": null,
      "align_self": null,
      "border": null,
      "bottom": null,
      "display": null,
      "flex": null,
      "flex_flow": null,
      "grid_area": null,
      "grid_auto_columns": null,
      "grid_auto_flow": null,
      "grid_auto_rows": null,
      "grid_column": null,
      "grid_gap": null,
      "grid_row": null,
      "grid_template_areas": null,
      "grid_template_columns": null,
      "grid_template_rows": null,
      "height": null,
      "justify_content": null,
      "justify_items": null,
      "left": null,
      "margin": null,
      "max_height": null,
      "max_width": null,
      "min_height": null,
      "min_width": null,
      "object_fit": null,
      "object_position": null,
      "order": null,
      "overflow": null,
      "overflow_x": null,
      "overflow_y": null,
      "padding": null,
      "right": null,
      "top": null,
      "visibility": null,
      "width": null
     }
    },
    "0ec47de4fba944278020475560b48654": {
     "model_module": "@jupyter-widgets/controls",
     "model_module_version": "1.5.0",
     "model_name": "HTMLModel",
     "state": {
      "_dom_classes": [],
      "_model_module": "@jupyter-widgets/controls",
      "_model_module_version": "1.5.0",
      "_model_name": "HTMLModel",
      "_view_count": null,
      "_view_module": "@jupyter-widgets/controls",
      "_view_module_version": "1.5.0",
      "_view_name": "HTMLView",
      "description": "",
      "description_tooltip": null,
      "layout": "IPY_MODEL_2eb57d737e1e4c839a587acf4271ff04",
      "placeholder": "​",
      "style": "IPY_MODEL_3bbb328135c244db8020cce06d8da0b3",
      "value": "Downloading: 100%"
     }
    },
    "161cc92d27c346a38ee69cf0ce2b273a": {
     "model_module": "@jupyter-widgets/controls",
     "model_module_version": "1.5.0",
     "model_name": "HBoxModel",
     "state": {
      "_dom_classes": [],
      "_model_module": "@jupyter-widgets/controls",
      "_model_module_version": "1.5.0",
      "_model_name": "HBoxModel",
      "_view_count": null,
      "_view_module": "@jupyter-widgets/controls",
      "_view_module_version": "1.5.0",
      "_view_name": "HBoxView",
      "box_style": "",
      "children": [
       "IPY_MODEL_f85068c7b06144b3b8a3d420823c1abb",
       "IPY_MODEL_e29d28e517464f3faf4425f065242f3a",
       "IPY_MODEL_f24360fbcf664d8c814c4ebd61466ddb"
      ],
      "layout": "IPY_MODEL_652092e348434bfb81b5a5c61b7c5839"
     }
    },
    "1911930e5f634d2fbd42659c190a564d": {
     "model_module": "@jupyter-widgets/controls",
     "model_module_version": "1.5.0",
     "model_name": "HTMLModel",
     "state": {
      "_dom_classes": [],
      "_model_module": "@jupyter-widgets/controls",
      "_model_module_version": "1.5.0",
      "_model_name": "HTMLModel",
      "_view_count": null,
      "_view_module": "@jupyter-widgets/controls",
      "_view_module_version": "1.5.0",
      "_view_name": "HTMLView",
      "description": "",
      "description_tooltip": null,
      "layout": "IPY_MODEL_85c61a2e159a4f74acd64fbf46014738",
      "placeholder": "​",
      "style": "IPY_MODEL_497bd67d557844109468c57c022fb9f6",
      "value": " 878k/878k [00:00&lt;00:00, 915kB/s]"
     }
    },
    "1b1c154e22fb4b558de0a14b4996861a": {
     "model_module": "@jupyter-widgets/controls",
     "model_module_version": "1.5.0",
     "model_name": "HBoxModel",
     "state": {
      "_dom_classes": [],
      "_model_module": "@jupyter-widgets/controls",
      "_model_module_version": "1.5.0",
      "_model_name": "HBoxModel",
      "_view_count": null,
      "_view_module": "@jupyter-widgets/controls",
      "_view_module_version": "1.5.0",
      "_view_name": "HBoxView",
      "box_style": "",
      "children": [
       "IPY_MODEL_e25b57a07f6444e3bfb1fc277f0e55a2",
       "IPY_MODEL_f588005e866e4ca7bc663830bb0c5ae6",
       "IPY_MODEL_a32c6d033a5c48ffaa53be04f9583eda"
      ],
      "layout": "IPY_MODEL_f4915cebce6a45e8a2bf29087442aeb2"
     }
    },
    "1b44e1860e714267a386caed9a980d4e": {
     "model_module": "@jupyter-widgets/controls",
     "model_module_version": "1.5.0",
     "model_name": "DescriptionStyleModel",
     "state": {
      "_model_module": "@jupyter-widgets/controls",
      "_model_module_version": "1.5.0",
      "_model_name": "DescriptionStyleModel",
      "_view_count": null,
      "_view_module": "@jupyter-widgets/base",
      "_view_module_version": "1.2.0",
      "_view_name": "StyleView",
      "description_width": ""
     }
    },
    "1e4e78dfbd834ba995cb7911c4306e05": {
     "model_module": "@jupyter-widgets/controls",
     "model_module_version": "1.5.0",
     "model_name": "ProgressStyleModel",
     "state": {
      "_model_module": "@jupyter-widgets/controls",
      "_model_module_version": "1.5.0",
      "_model_name": "ProgressStyleModel",
      "_view_count": null,
      "_view_module": "@jupyter-widgets/base",
      "_view_module_version": "1.2.0",
      "_view_name": "StyleView",
      "bar_color": null,
      "description_width": ""
     }
    },
    "20d2d1a47b654db596fdf5659b26e4a0": {
     "model_module": "@jupyter-widgets/controls",
     "model_module_version": "1.5.0",
     "model_name": "DescriptionStyleModel",
     "state": {
      "_model_module": "@jupyter-widgets/controls",
      "_model_module_version": "1.5.0",
      "_model_name": "DescriptionStyleModel",
      "_view_count": null,
      "_view_module": "@jupyter-widgets/base",
      "_view_module_version": "1.2.0",
      "_view_name": "StyleView",
      "description_width": ""
     }
    },
    "21410a59ca2b47fcb9df28bb8bf6db34": {
     "model_module": "@jupyter-widgets/controls",
     "model_module_version": "1.5.0",
     "model_name": "ProgressStyleModel",
     "state": {
      "_model_module": "@jupyter-widgets/controls",
      "_model_module_version": "1.5.0",
      "_model_name": "ProgressStyleModel",
      "_view_count": null,
      "_view_module": "@jupyter-widgets/base",
      "_view_module_version": "1.2.0",
      "_view_name": "StyleView",
      "bar_color": null,
      "description_width": ""
     }
    },
    "22bb35c0571a4f7c97ca4f3d6a58cf8a": {
     "model_module": "@jupyter-widgets/controls",
     "model_module_version": "1.5.0",
     "model_name": "HTMLModel",
     "state": {
      "_dom_classes": [],
      "_model_module": "@jupyter-widgets/controls",
      "_model_module_version": "1.5.0",
      "_model_name": "HTMLModel",
      "_view_count": null,
      "_view_module": "@jupyter-widgets/controls",
      "_view_module_version": "1.5.0",
      "_view_name": "HTMLView",
      "description": "",
      "description_tooltip": null,
      "layout": "IPY_MODEL_a6f8d6266b804b649380c8c1364bb754",
      "placeholder": "​",
      "style": "IPY_MODEL_20d2d1a47b654db596fdf5659b26e4a0",
      "value": "Downloading: 100%"
     }
    },
    "2d946f8981cc469f8ec28dc1ebd60cb2": {
     "model_module": "@jupyter-widgets/controls",
     "model_module_version": "1.5.0",
     "model_name": "HTMLModel",
     "state": {
      "_dom_classes": [],
      "_model_module": "@jupyter-widgets/controls",
      "_model_module_version": "1.5.0",
      "_model_name": "HTMLModel",
      "_view_count": null,
      "_view_module": "@jupyter-widgets/controls",
      "_view_module_version": "1.5.0",
      "_view_name": "HTMLView",
      "description": "",
      "description_tooltip": null,
      "layout": "IPY_MODEL_00466f34fa1b40d996eb81315d90e90d",
      "placeholder": "​",
      "style": "IPY_MODEL_828de1fbde794b9a8ccddf320317cbf9",
      "value": " 26.0/26.0 [00:00&lt;00:00, 951B/s]"
     }
    },
    "2eb57d737e1e4c839a587acf4271ff04": {
     "model_module": "@jupyter-widgets/base",
     "model_module_version": "1.2.0",
     "model_name": "LayoutModel",
     "state": {
      "_model_module": "@jupyter-widgets/base",
      "_model_module_version": "1.2.0",
      "_model_name": "LayoutModel",
      "_view_count": null,
      "_view_module": "@jupyter-widgets/base",
      "_view_module_version": "1.2.0",
      "_view_name": "LayoutView",
      "align_content": null,
      "align_items": null,
      "align_self": null,
      "border": null,
      "bottom": null,
      "display": null,
      "flex": null,
      "flex_flow": null,
      "grid_area": null,
      "grid_auto_columns": null,
      "grid_auto_flow": null,
      "grid_auto_rows": null,
      "grid_column": null,
      "grid_gap": null,
      "grid_row": null,
      "grid_template_areas": null,
      "grid_template_columns": null,
      "grid_template_rows": null,
      "height": null,
      "justify_content": null,
      "justify_items": null,
      "left": null,
      "margin": null,
      "max_height": null,
      "max_width": null,
      "min_height": null,
      "min_width": null,
      "object_fit": null,
      "object_position": null,
      "order": null,
      "overflow": null,
      "overflow_x": null,
      "overflow_y": null,
      "padding": null,
      "right": null,
      "top": null,
      "visibility": null,
      "width": null
     }
    },
    "3478572ff95a4dc5bc850c1b2515ec9d": {
     "model_module": "@jupyter-widgets/base",
     "model_module_version": "1.2.0",
     "model_name": "LayoutModel",
     "state": {
      "_model_module": "@jupyter-widgets/base",
      "_model_module_version": "1.2.0",
      "_model_name": "LayoutModel",
      "_view_count": null,
      "_view_module": "@jupyter-widgets/base",
      "_view_module_version": "1.2.0",
      "_view_name": "LayoutView",
      "align_content": null,
      "align_items": null,
      "align_self": null,
      "border": null,
      "bottom": null,
      "display": null,
      "flex": null,
      "flex_flow": null,
      "grid_area": null,
      "grid_auto_columns": null,
      "grid_auto_flow": null,
      "grid_auto_rows": null,
      "grid_column": null,
      "grid_gap": null,
      "grid_row": null,
      "grid_template_areas": null,
      "grid_template_columns": null,
      "grid_template_rows": null,
      "height": null,
      "justify_content": null,
      "justify_items": null,
      "left": null,
      "margin": null,
      "max_height": null,
      "max_width": null,
      "min_height": null,
      "min_width": null,
      "object_fit": null,
      "object_position": null,
      "order": null,
      "overflow": null,
      "overflow_x": null,
      "overflow_y": null,
      "padding": null,
      "right": null,
      "top": null,
      "visibility": null,
      "width": null
     }
    },
    "3480af60cd814049ba2d6845e8b4d88a": {
     "model_module": "@jupyter-widgets/base",
     "model_module_version": "1.2.0",
     "model_name": "LayoutModel",
     "state": {
      "_model_module": "@jupyter-widgets/base",
      "_model_module_version": "1.2.0",
      "_model_name": "LayoutModel",
      "_view_count": null,
      "_view_module": "@jupyter-widgets/base",
      "_view_module_version": "1.2.0",
      "_view_name": "LayoutView",
      "align_content": null,
      "align_items": null,
      "align_self": null,
      "border": null,
      "bottom": null,
      "display": null,
      "flex": null,
      "flex_flow": null,
      "grid_area": null,
      "grid_auto_columns": null,
      "grid_auto_flow": null,
      "grid_auto_rows": null,
      "grid_column": null,
      "grid_gap": null,
      "grid_row": null,
      "grid_template_areas": null,
      "grid_template_columns": null,
      "grid_template_rows": null,
      "height": null,
      "justify_content": null,
      "justify_items": null,
      "left": null,
      "margin": null,
      "max_height": null,
      "max_width": null,
      "min_height": null,
      "min_width": null,
      "object_fit": null,
      "object_position": null,
      "order": null,
      "overflow": null,
      "overflow_x": null,
      "overflow_y": null,
      "padding": null,
      "right": null,
      "top": null,
      "visibility": null,
      "width": null
     }
    },
    "3bb3c10ade97496a9baae5018323832b": {
     "model_module": "@jupyter-widgets/controls",
     "model_module_version": "1.5.0",
     "model_name": "ProgressStyleModel",
     "state": {
      "_model_module": "@jupyter-widgets/controls",
      "_model_module_version": "1.5.0",
      "_model_name": "ProgressStyleModel",
      "_view_count": null,
      "_view_module": "@jupyter-widgets/base",
      "_view_module_version": "1.2.0",
      "_view_name": "StyleView",
      "bar_color": null,
      "description_width": ""
     }
    },
    "3bbb328135c244db8020cce06d8da0b3": {
     "model_module": "@jupyter-widgets/controls",
     "model_module_version": "1.5.0",
     "model_name": "DescriptionStyleModel",
     "state": {
      "_model_module": "@jupyter-widgets/controls",
      "_model_module_version": "1.5.0",
      "_model_name": "DescriptionStyleModel",
      "_view_count": null,
      "_view_module": "@jupyter-widgets/base",
      "_view_module_version": "1.2.0",
      "_view_name": "StyleView",
      "description_width": ""
     }
    },
    "4243898073934b4199877ca537320463": {
     "model_module": "@jupyter-widgets/controls",
     "model_module_version": "1.5.0",
     "model_name": "HBoxModel",
     "state": {
      "_dom_classes": [],
      "_model_module": "@jupyter-widgets/controls",
      "_model_module_version": "1.5.0",
      "_model_name": "HBoxModel",
      "_view_count": null,
      "_view_module": "@jupyter-widgets/controls",
      "_view_module_version": "1.5.0",
      "_view_name": "HBoxView",
      "box_style": "",
      "children": [
       "IPY_MODEL_22bb35c0571a4f7c97ca4f3d6a58cf8a",
       "IPY_MODEL_996a074961d940d9bcd4fb5a305301e6",
       "IPY_MODEL_2d946f8981cc469f8ec28dc1ebd60cb2"
      ],
      "layout": "IPY_MODEL_8b6b3c4d481349b48f2949c1a507dfd8"
     }
    },
    "455882adffe443548a934324a7bf67fc": {
     "model_module": "@jupyter-widgets/controls",
     "model_module_version": "1.5.0",
     "model_name": "HBoxModel",
     "state": {
      "_dom_classes": [],
      "_model_module": "@jupyter-widgets/controls",
      "_model_module_version": "1.5.0",
      "_model_name": "HBoxModel",
      "_view_count": null,
      "_view_module": "@jupyter-widgets/controls",
      "_view_module_version": "1.5.0",
      "_view_name": "HBoxView",
      "box_style": "",
      "children": [
       "IPY_MODEL_ca865c6b190a4cd5b88210041fdc119a",
       "IPY_MODEL_625378a8064545febb9aab4e0ef780d6",
       "IPY_MODEL_1911930e5f634d2fbd42659c190a564d"
      ],
      "layout": "IPY_MODEL_7b2d82a0390045e2a6b9330591e10275"
     }
    },
    "497bd67d557844109468c57c022fb9f6": {
     "model_module": "@jupyter-widgets/controls",
     "model_module_version": "1.5.0",
     "model_name": "DescriptionStyleModel",
     "state": {
      "_model_module": "@jupyter-widgets/controls",
      "_model_module_version": "1.5.0",
      "_model_name": "DescriptionStyleModel",
      "_view_count": null,
      "_view_module": "@jupyter-widgets/base",
      "_view_module_version": "1.2.0",
      "_view_name": "StyleView",
      "description_width": ""
     }
    },
    "4edfeb0ee6304c05b4d8e822216cd22b": {
     "model_module": "@jupyter-widgets/base",
     "model_module_version": "1.2.0",
     "model_name": "LayoutModel",
     "state": {
      "_model_module": "@jupyter-widgets/base",
      "_model_module_version": "1.2.0",
      "_model_name": "LayoutModel",
      "_view_count": null,
      "_view_module": "@jupyter-widgets/base",
      "_view_module_version": "1.2.0",
      "_view_name": "LayoutView",
      "align_content": null,
      "align_items": null,
      "align_self": null,
      "border": null,
      "bottom": null,
      "display": null,
      "flex": null,
      "flex_flow": null,
      "grid_area": null,
      "grid_auto_columns": null,
      "grid_auto_flow": null,
      "grid_auto_rows": null,
      "grid_column": null,
      "grid_gap": null,
      "grid_row": null,
      "grid_template_areas": null,
      "grid_template_columns": null,
      "grid_template_rows": null,
      "height": null,
      "justify_content": null,
      "justify_items": null,
      "left": null,
      "margin": null,
      "max_height": null,
      "max_width": null,
      "min_height": null,
      "min_width": null,
      "object_fit": null,
      "object_position": null,
      "order": null,
      "overflow": null,
      "overflow_x": null,
      "overflow_y": null,
      "padding": null,
      "right": null,
      "top": null,
      "visibility": null,
      "width": null
     }
    },
    "5240e6c1424d4f0daed99dea3d0c1358": {
     "model_module": "@jupyter-widgets/base",
     "model_module_version": "1.2.0",
     "model_name": "LayoutModel",
     "state": {
      "_model_module": "@jupyter-widgets/base",
      "_model_module_version": "1.2.0",
      "_model_name": "LayoutModel",
      "_view_count": null,
      "_view_module": "@jupyter-widgets/base",
      "_view_module_version": "1.2.0",
      "_view_name": "LayoutView",
      "align_content": null,
      "align_items": null,
      "align_self": null,
      "border": null,
      "bottom": null,
      "display": null,
      "flex": null,
      "flex_flow": null,
      "grid_area": null,
      "grid_auto_columns": null,
      "grid_auto_flow": null,
      "grid_auto_rows": null,
      "grid_column": null,
      "grid_gap": null,
      "grid_row": null,
      "grid_template_areas": null,
      "grid_template_columns": null,
      "grid_template_rows": null,
      "height": null,
      "justify_content": null,
      "justify_items": null,
      "left": null,
      "margin": null,
      "max_height": null,
      "max_width": null,
      "min_height": null,
      "min_width": null,
      "object_fit": null,
      "object_position": null,
      "order": null,
      "overflow": null,
      "overflow_x": null,
      "overflow_y": null,
      "padding": null,
      "right": null,
      "top": null,
      "visibility": null,
      "width": null
     }
    },
    "5477a844a16d4080a2bbde834cdd1d1c": {
     "model_module": "@jupyter-widgets/base",
     "model_module_version": "1.2.0",
     "model_name": "LayoutModel",
     "state": {
      "_model_module": "@jupyter-widgets/base",
      "_model_module_version": "1.2.0",
      "_model_name": "LayoutModel",
      "_view_count": null,
      "_view_module": "@jupyter-widgets/base",
      "_view_module_version": "1.2.0",
      "_view_name": "LayoutView",
      "align_content": null,
      "align_items": null,
      "align_self": null,
      "border": null,
      "bottom": null,
      "display": null,
      "flex": null,
      "flex_flow": null,
      "grid_area": null,
      "grid_auto_columns": null,
      "grid_auto_flow": null,
      "grid_auto_rows": null,
      "grid_column": null,
      "grid_gap": null,
      "grid_row": null,
      "grid_template_areas": null,
      "grid_template_columns": null,
      "grid_template_rows": null,
      "height": null,
      "justify_content": null,
      "justify_items": null,
      "left": null,
      "margin": null,
      "max_height": null,
      "max_width": null,
      "min_height": null,
      "min_width": null,
      "object_fit": null,
      "object_position": null,
      "order": null,
      "overflow": null,
      "overflow_x": null,
      "overflow_y": null,
      "padding": null,
      "right": null,
      "top": null,
      "visibility": null,
      "width": null
     }
    },
    "57d0144f8e354aa3985b42299d799bf2": {
     "model_module": "@jupyter-widgets/base",
     "model_module_version": "1.2.0",
     "model_name": "LayoutModel",
     "state": {
      "_model_module": "@jupyter-widgets/base",
      "_model_module_version": "1.2.0",
      "_model_name": "LayoutModel",
      "_view_count": null,
      "_view_module": "@jupyter-widgets/base",
      "_view_module_version": "1.2.0",
      "_view_name": "LayoutView",
      "align_content": null,
      "align_items": null,
      "align_self": null,
      "border": null,
      "bottom": null,
      "display": null,
      "flex": null,
      "flex_flow": null,
      "grid_area": null,
      "grid_auto_columns": null,
      "grid_auto_flow": null,
      "grid_auto_rows": null,
      "grid_column": null,
      "grid_gap": null,
      "grid_row": null,
      "grid_template_areas": null,
      "grid_template_columns": null,
      "grid_template_rows": null,
      "height": null,
      "justify_content": null,
      "justify_items": null,
      "left": null,
      "margin": null,
      "max_height": null,
      "max_width": null,
      "min_height": null,
      "min_width": null,
      "object_fit": null,
      "object_position": null,
      "order": null,
      "overflow": null,
      "overflow_x": null,
      "overflow_y": null,
      "padding": null,
      "right": null,
      "top": null,
      "visibility": null,
      "width": null
     }
    },
    "5981f2d913d34980968f0ba63f37232a": {
     "model_module": "@jupyter-widgets/controls",
     "model_module_version": "1.5.0",
     "model_name": "ProgressStyleModel",
     "state": {
      "_model_module": "@jupyter-widgets/controls",
      "_model_module_version": "1.5.0",
      "_model_name": "ProgressStyleModel",
      "_view_count": null,
      "_view_module": "@jupyter-widgets/base",
      "_view_module_version": "1.2.0",
      "_view_name": "StyleView",
      "bar_color": null,
      "description_width": ""
     }
    },
    "625378a8064545febb9aab4e0ef780d6": {
     "model_module": "@jupyter-widgets/controls",
     "model_module_version": "1.5.0",
     "model_name": "FloatProgressModel",
     "state": {
      "_dom_classes": [],
      "_model_module": "@jupyter-widgets/controls",
      "_model_module_version": "1.5.0",
      "_model_name": "FloatProgressModel",
      "_view_count": null,
      "_view_module": "@jupyter-widgets/controls",
      "_view_module_version": "1.5.0",
      "_view_name": "ProgressView",
      "bar_style": "success",
      "description": "",
      "description_tooltip": null,
      "layout": "IPY_MODEL_4edfeb0ee6304c05b4d8e822216cd22b",
      "max": 898822,
      "min": 0,
      "orientation": "horizontal",
      "style": "IPY_MODEL_1e4e78dfbd834ba995cb7911c4306e05",
      "value": 898822
     }
    },
    "652092e348434bfb81b5a5c61b7c5839": {
     "model_module": "@jupyter-widgets/base",
     "model_module_version": "1.2.0",
     "model_name": "LayoutModel",
     "state": {
      "_model_module": "@jupyter-widgets/base",
      "_model_module_version": "1.2.0",
      "_model_name": "LayoutModel",
      "_view_count": null,
      "_view_module": "@jupyter-widgets/base",
      "_view_module_version": "1.2.0",
      "_view_name": "LayoutView",
      "align_content": null,
      "align_items": null,
      "align_self": null,
      "border": null,
      "bottom": null,
      "display": null,
      "flex": null,
      "flex_flow": null,
      "grid_area": null,
      "grid_auto_columns": null,
      "grid_auto_flow": null,
      "grid_auto_rows": null,
      "grid_column": null,
      "grid_gap": null,
      "grid_row": null,
      "grid_template_areas": null,
      "grid_template_columns": null,
      "grid_template_rows": null,
      "height": null,
      "justify_content": null,
      "justify_items": null,
      "left": null,
      "margin": null,
      "max_height": null,
      "max_width": null,
      "min_height": null,
      "min_width": null,
      "object_fit": null,
      "object_position": null,
      "order": null,
      "overflow": null,
      "overflow_x": null,
      "overflow_y": null,
      "padding": null,
      "right": null,
      "top": null,
      "visibility": null,
      "width": null
     }
    },
    "69a76e8a9fd942048ebf84b313c5e9ea": {
     "model_module": "@jupyter-widgets/controls",
     "model_module_version": "1.5.0",
     "model_name": "DescriptionStyleModel",
     "state": {
      "_model_module": "@jupyter-widgets/controls",
      "_model_module_version": "1.5.0",
      "_model_name": "DescriptionStyleModel",
      "_view_count": null,
      "_view_module": "@jupyter-widgets/base",
      "_view_module_version": "1.2.0",
      "_view_name": "StyleView",
      "description_width": ""
     }
    },
    "6d686d4e88064382959de45d318f903d": {
     "model_module": "@jupyter-widgets/base",
     "model_module_version": "1.2.0",
     "model_name": "LayoutModel",
     "state": {
      "_model_module": "@jupyter-widgets/base",
      "_model_module_version": "1.2.0",
      "_model_name": "LayoutModel",
      "_view_count": null,
      "_view_module": "@jupyter-widgets/base",
      "_view_module_version": "1.2.0",
      "_view_name": "LayoutView",
      "align_content": null,
      "align_items": null,
      "align_self": null,
      "border": null,
      "bottom": null,
      "display": null,
      "flex": null,
      "flex_flow": null,
      "grid_area": null,
      "grid_auto_columns": null,
      "grid_auto_flow": null,
      "grid_auto_rows": null,
      "grid_column": null,
      "grid_gap": null,
      "grid_row": null,
      "grid_template_areas": null,
      "grid_template_columns": null,
      "grid_template_rows": null,
      "height": null,
      "justify_content": null,
      "justify_items": null,
      "left": null,
      "margin": null,
      "max_height": null,
      "max_width": null,
      "min_height": null,
      "min_width": null,
      "object_fit": null,
      "object_position": null,
      "order": null,
      "overflow": null,
      "overflow_x": null,
      "overflow_y": null,
      "padding": null,
      "right": null,
      "top": null,
      "visibility": null,
      "width": null
     }
    },
    "6f35ebcbc039405e9d6dff773907b52e": {
     "model_module": "@jupyter-widgets/controls",
     "model_module_version": "1.5.0",
     "model_name": "DescriptionStyleModel",
     "state": {
      "_model_module": "@jupyter-widgets/controls",
      "_model_module_version": "1.5.0",
      "_model_name": "DescriptionStyleModel",
      "_view_count": null,
      "_view_module": "@jupyter-widgets/base",
      "_view_module_version": "1.2.0",
      "_view_name": "StyleView",
      "description_width": ""
     }
    },
    "74621fd6a02f46a5921cdb88cca2f913": {
     "model_module": "@jupyter-widgets/base",
     "model_module_version": "1.2.0",
     "model_name": "LayoutModel",
     "state": {
      "_model_module": "@jupyter-widgets/base",
      "_model_module_version": "1.2.0",
      "_model_name": "LayoutModel",
      "_view_count": null,
      "_view_module": "@jupyter-widgets/base",
      "_view_module_version": "1.2.0",
      "_view_name": "LayoutView",
      "align_content": null,
      "align_items": null,
      "align_self": null,
      "border": null,
      "bottom": null,
      "display": null,
      "flex": null,
      "flex_flow": null,
      "grid_area": null,
      "grid_auto_columns": null,
      "grid_auto_flow": null,
      "grid_auto_rows": null,
      "grid_column": null,
      "grid_gap": null,
      "grid_row": null,
      "grid_template_areas": null,
      "grid_template_columns": null,
      "grid_template_rows": null,
      "height": null,
      "justify_content": null,
      "justify_items": null,
      "left": null,
      "margin": null,
      "max_height": null,
      "max_width": null,
      "min_height": null,
      "min_width": null,
      "object_fit": null,
      "object_position": null,
      "order": null,
      "overflow": null,
      "overflow_x": null,
      "overflow_y": null,
      "padding": null,
      "right": null,
      "top": null,
      "visibility": null,
      "width": null
     }
    },
    "76d105bfc279422582fcb739c621fd7c": {
     "model_module": "@jupyter-widgets/controls",
     "model_module_version": "1.5.0",
     "model_name": "DescriptionStyleModel",
     "state": {
      "_model_module": "@jupyter-widgets/controls",
      "_model_module_version": "1.5.0",
      "_model_name": "DescriptionStyleModel",
      "_view_count": null,
      "_view_module": "@jupyter-widgets/base",
      "_view_module_version": "1.2.0",
      "_view_name": "StyleView",
      "description_width": ""
     }
    },
    "794809a2ab84492c90a237a383c33d27": {
     "model_module": "@jupyter-widgets/controls",
     "model_module_version": "1.5.0",
     "model_name": "HTMLModel",
     "state": {
      "_dom_classes": [],
      "_model_module": "@jupyter-widgets/controls",
      "_model_module_version": "1.5.0",
      "_model_name": "HTMLModel",
      "_view_count": null,
      "_view_module": "@jupyter-widgets/controls",
      "_view_module_version": "1.5.0",
      "_view_name": "HTMLView",
      "description": "",
      "description_tooltip": null,
      "layout": "IPY_MODEL_3478572ff95a4dc5bc850c1b2515ec9d",
      "placeholder": "​",
      "style": "IPY_MODEL_1b44e1860e714267a386caed9a980d4e",
      "value": " 1.13k/1.13k [00:00&lt;00:00, 46.8kB/s]"
     }
    },
    "7b2d82a0390045e2a6b9330591e10275": {
     "model_module": "@jupyter-widgets/base",
     "model_module_version": "1.2.0",
     "model_name": "LayoutModel",
     "state": {
      "_model_module": "@jupyter-widgets/base",
      "_model_module_version": "1.2.0",
      "_model_name": "LayoutModel",
      "_view_count": null,
      "_view_module": "@jupyter-widgets/base",
      "_view_module_version": "1.2.0",
      "_view_name": "LayoutView",
      "align_content": null,
      "align_items": null,
      "align_self": null,
      "border": null,
      "bottom": null,
      "display": null,
      "flex": null,
      "flex_flow": null,
      "grid_area": null,
      "grid_auto_columns": null,
      "grid_auto_flow": null,
      "grid_auto_rows": null,
      "grid_column": null,
      "grid_gap": null,
      "grid_row": null,
      "grid_template_areas": null,
      "grid_template_columns": null,
      "grid_template_rows": null,
      "height": null,
      "justify_content": null,
      "justify_items": null,
      "left": null,
      "margin": null,
      "max_height": null,
      "max_width": null,
      "min_height": null,
      "min_width": null,
      "object_fit": null,
      "object_position": null,
      "order": null,
      "overflow": null,
      "overflow_x": null,
      "overflow_y": null,
      "padding": null,
      "right": null,
      "top": null,
      "visibility": null,
      "width": null
     }
    },
    "7d356bdf32624733a16f6da13e5cfe44": {
     "model_module": "@jupyter-widgets/controls",
     "model_module_version": "1.5.0",
     "model_name": "FloatProgressModel",
     "state": {
      "_dom_classes": [],
      "_model_module": "@jupyter-widgets/controls",
      "_model_module_version": "1.5.0",
      "_model_name": "FloatProgressModel",
      "_view_count": null,
      "_view_module": "@jupyter-widgets/controls",
      "_view_module_version": "1.5.0",
      "_view_name": "ProgressView",
      "bar_style": "success",
      "description": "",
      "description_tooltip": null,
      "layout": "IPY_MODEL_b44f24e3374f4c27a0eff7b2cb9229fc",
      "max": 1154,
      "min": 0,
      "orientation": "horizontal",
      "style": "IPY_MODEL_5981f2d913d34980968f0ba63f37232a",
      "value": 1154
     }
    },
    "828de1fbde794b9a8ccddf320317cbf9": {
     "model_module": "@jupyter-widgets/controls",
     "model_module_version": "1.5.0",
     "model_name": "DescriptionStyleModel",
     "state": {
      "_model_module": "@jupyter-widgets/controls",
      "_model_module_version": "1.5.0",
      "_model_name": "DescriptionStyleModel",
      "_view_count": null,
      "_view_module": "@jupyter-widgets/base",
      "_view_module_version": "1.2.0",
      "_view_name": "StyleView",
      "description_width": ""
     }
    },
    "85c61a2e159a4f74acd64fbf46014738": {
     "model_module": "@jupyter-widgets/base",
     "model_module_version": "1.2.0",
     "model_name": "LayoutModel",
     "state": {
      "_model_module": "@jupyter-widgets/base",
      "_model_module_version": "1.2.0",
      "_model_name": "LayoutModel",
      "_view_count": null,
      "_view_module": "@jupyter-widgets/base",
      "_view_module_version": "1.2.0",
      "_view_name": "LayoutView",
      "align_content": null,
      "align_items": null,
      "align_self": null,
      "border": null,
      "bottom": null,
      "display": null,
      "flex": null,
      "flex_flow": null,
      "grid_area": null,
      "grid_auto_columns": null,
      "grid_auto_flow": null,
      "grid_auto_rows": null,
      "grid_column": null,
      "grid_gap": null,
      "grid_row": null,
      "grid_template_areas": null,
      "grid_template_columns": null,
      "grid_template_rows": null,
      "height": null,
      "justify_content": null,
      "justify_items": null,
      "left": null,
      "margin": null,
      "max_height": null,
      "max_width": null,
      "min_height": null,
      "min_width": null,
      "object_fit": null,
      "object_position": null,
      "order": null,
      "overflow": null,
      "overflow_x": null,
      "overflow_y": null,
      "padding": null,
      "right": null,
      "top": null,
      "visibility": null,
      "width": null
     }
    },
    "8b6b3c4d481349b48f2949c1a507dfd8": {
     "model_module": "@jupyter-widgets/base",
     "model_module_version": "1.2.0",
     "model_name": "LayoutModel",
     "state": {
      "_model_module": "@jupyter-widgets/base",
      "_model_module_version": "1.2.0",
      "_model_name": "LayoutModel",
      "_view_count": null,
      "_view_module": "@jupyter-widgets/base",
      "_view_module_version": "1.2.0",
      "_view_name": "LayoutView",
      "align_content": null,
      "align_items": null,
      "align_self": null,
      "border": null,
      "bottom": null,
      "display": null,
      "flex": null,
      "flex_flow": null,
      "grid_area": null,
      "grid_auto_columns": null,
      "grid_auto_flow": null,
      "grid_auto_rows": null,
      "grid_column": null,
      "grid_gap": null,
      "grid_row": null,
      "grid_template_areas": null,
      "grid_template_columns": null,
      "grid_template_rows": null,
      "height": null,
      "justify_content": null,
      "justify_items": null,
      "left": null,
      "margin": null,
      "max_height": null,
      "max_width": null,
      "min_height": null,
      "min_width": null,
      "object_fit": null,
      "object_position": null,
      "order": null,
      "overflow": null,
      "overflow_x": null,
      "overflow_y": null,
      "padding": null,
      "right": null,
      "top": null,
      "visibility": null,
      "width": null
     }
    },
    "8d04e790af84432bb79c67db9b905b85": {
     "model_module": "@jupyter-widgets/controls",
     "model_module_version": "1.5.0",
     "model_name": "ProgressStyleModel",
     "state": {
      "_model_module": "@jupyter-widgets/controls",
      "_model_module_version": "1.5.0",
      "_model_name": "ProgressStyleModel",
      "_view_count": null,
      "_view_module": "@jupyter-widgets/base",
      "_view_module_version": "1.2.0",
      "_view_name": "StyleView",
      "bar_color": null,
      "description_width": ""
     }
    },
    "996a074961d940d9bcd4fb5a305301e6": {
     "model_module": "@jupyter-widgets/controls",
     "model_module_version": "1.5.0",
     "model_name": "FloatProgressModel",
     "state": {
      "_dom_classes": [],
      "_model_module": "@jupyter-widgets/controls",
      "_model_module_version": "1.5.0",
      "_model_name": "FloatProgressModel",
      "_view_count": null,
      "_view_module": "@jupyter-widgets/controls",
      "_view_module_version": "1.5.0",
      "_view_name": "ProgressView",
      "bar_style": "success",
      "description": "",
      "description_tooltip": null,
      "layout": "IPY_MODEL_e39f42c72a2c4726845500fc207aa5ef",
      "max": 26,
      "min": 0,
      "orientation": "horizontal",
      "style": "IPY_MODEL_c8612f26e4904fbca133861568afd84d",
      "value": 26
     }
    },
    "a32c6d033a5c48ffaa53be04f9583eda": {
     "model_module": "@jupyter-widgets/controls",
     "model_module_version": "1.5.0",
     "model_name": "HTMLModel",
     "state": {
      "_dom_classes": [],
      "_model_module": "@jupyter-widgets/controls",
      "_model_module_version": "1.5.0",
      "_model_name": "HTMLModel",
      "_view_count": null,
      "_view_module": "@jupyter-widgets/controls",
      "_view_module_version": "1.5.0",
      "_view_name": "HTMLView",
      "description": "",
      "description_tooltip": null,
      "layout": "IPY_MODEL_ff3136aa9df949a2a9aea6660900367c",
      "placeholder": "​",
      "style": "IPY_MODEL_69a76e8a9fd942048ebf84b313c5e9ea",
      "value": " 446k/446k [00:00&lt;00:00, 897kB/s]"
     }
    },
    "a52789f09b0f488e894208409ebaa71a": {
     "model_module": "@jupyter-widgets/base",
     "model_module_version": "1.2.0",
     "model_name": "LayoutModel",
     "state": {
      "_model_module": "@jupyter-widgets/base",
      "_model_module_version": "1.2.0",
      "_model_name": "LayoutModel",
      "_view_count": null,
      "_view_module": "@jupyter-widgets/base",
      "_view_module_version": "1.2.0",
      "_view_name": "LayoutView",
      "align_content": null,
      "align_items": null,
      "align_self": null,
      "border": null,
      "bottom": null,
      "display": null,
      "flex": null,
      "flex_flow": null,
      "grid_area": null,
      "grid_auto_columns": null,
      "grid_auto_flow": null,
      "grid_auto_rows": null,
      "grid_column": null,
      "grid_gap": null,
      "grid_row": null,
      "grid_template_areas": null,
      "grid_template_columns": null,
      "grid_template_rows": null,
      "height": null,
      "justify_content": null,
      "justify_items": null,
      "left": null,
      "margin": null,
      "max_height": null,
      "max_width": null,
      "min_height": null,
      "min_width": null,
      "object_fit": null,
      "object_position": null,
      "order": null,
      "overflow": null,
      "overflow_x": null,
      "overflow_y": null,
      "padding": null,
      "right": null,
      "top": null,
      "visibility": null,
      "width": null
     }
    },
    "a6f8d6266b804b649380c8c1364bb754": {
     "model_module": "@jupyter-widgets/base",
     "model_module_version": "1.2.0",
     "model_name": "LayoutModel",
     "state": {
      "_model_module": "@jupyter-widgets/base",
      "_model_module_version": "1.2.0",
      "_model_name": "LayoutModel",
      "_view_count": null,
      "_view_module": "@jupyter-widgets/base",
      "_view_module_version": "1.2.0",
      "_view_name": "LayoutView",
      "align_content": null,
      "align_items": null,
      "align_self": null,
      "border": null,
      "bottom": null,
      "display": null,
      "flex": null,
      "flex_flow": null,
      "grid_area": null,
      "grid_auto_columns": null,
      "grid_auto_flow": null,
      "grid_auto_rows": null,
      "grid_column": null,
      "grid_gap": null,
      "grid_row": null,
      "grid_template_areas": null,
      "grid_template_columns": null,
      "grid_template_rows": null,
      "height": null,
      "justify_content": null,
      "justify_items": null,
      "left": null,
      "margin": null,
      "max_height": null,
      "max_width": null,
      "min_height": null,
      "min_width": null,
      "object_fit": null,
      "object_position": null,
      "order": null,
      "overflow": null,
      "overflow_x": null,
      "overflow_y": null,
      "padding": null,
      "right": null,
      "top": null,
      "visibility": null,
      "width": null
     }
    },
    "a7c73b5b2c7f46cb8bc246b42e6e2e6d": {
     "model_module": "@jupyter-widgets/base",
     "model_module_version": "1.2.0",
     "model_name": "LayoutModel",
     "state": {
      "_model_module": "@jupyter-widgets/base",
      "_model_module_version": "1.2.0",
      "_model_name": "LayoutModel",
      "_view_count": null,
      "_view_module": "@jupyter-widgets/base",
      "_view_module_version": "1.2.0",
      "_view_name": "LayoutView",
      "align_content": null,
      "align_items": null,
      "align_self": null,
      "border": null,
      "bottom": null,
      "display": null,
      "flex": null,
      "flex_flow": null,
      "grid_area": null,
      "grid_auto_columns": null,
      "grid_auto_flow": null,
      "grid_auto_rows": null,
      "grid_column": null,
      "grid_gap": null,
      "grid_row": null,
      "grid_template_areas": null,
      "grid_template_columns": null,
      "grid_template_rows": null,
      "height": null,
      "justify_content": null,
      "justify_items": null,
      "left": null,
      "margin": null,
      "max_height": null,
      "max_width": null,
      "min_height": null,
      "min_width": null,
      "object_fit": null,
      "object_position": null,
      "order": null,
      "overflow": null,
      "overflow_x": null,
      "overflow_y": null,
      "padding": null,
      "right": null,
      "top": null,
      "visibility": null,
      "width": null
     }
    },
    "af2f9f78ef6a4fd6b84e203075cf8de1": {
     "model_module": "@jupyter-widgets/controls",
     "model_module_version": "1.5.0",
     "model_name": "HTMLModel",
     "state": {
      "_dom_classes": [],
      "_model_module": "@jupyter-widgets/controls",
      "_model_module_version": "1.5.0",
      "_model_name": "HTMLModel",
      "_view_count": null,
      "_view_module": "@jupyter-widgets/controls",
      "_view_module_version": "1.5.0",
      "_view_name": "HTMLView",
      "description": "",
      "description_tooltip": null,
      "layout": "IPY_MODEL_0e6a8748d3604d96adfb6469d8ce90d1",
      "placeholder": "​",
      "style": "IPY_MODEL_b3cb20271011447c9c7d4641521ba1f1",
      "value": "Downloading: 100%"
     }
    },
    "b2be406111d3463a882ed1563102b7fc": {
     "model_module": "@jupyter-widgets/controls",
     "model_module_version": "1.5.0",
     "model_name": "FloatProgressModel",
     "state": {
      "_dom_classes": [],
      "_model_module": "@jupyter-widgets/controls",
      "_model_module_version": "1.5.0",
      "_model_name": "FloatProgressModel",
      "_view_count": null,
      "_view_module": "@jupyter-widgets/controls",
      "_view_module_version": "1.5.0",
      "_view_name": "ProgressView",
      "bar_style": "success",
      "description": "",
      "description_tooltip": null,
      "layout": "IPY_MODEL_a7c73b5b2c7f46cb8bc246b42e6e2e6d",
      "max": 1355863,
      "min": 0,
      "orientation": "horizontal",
      "style": "IPY_MODEL_21410a59ca2b47fcb9df28bb8bf6db34",
      "value": 1355863
     }
    },
    "b3cb20271011447c9c7d4641521ba1f1": {
     "model_module": "@jupyter-widgets/controls",
     "model_module_version": "1.5.0",
     "model_name": "DescriptionStyleModel",
     "state": {
      "_model_module": "@jupyter-widgets/controls",
      "_model_module_version": "1.5.0",
      "_model_name": "DescriptionStyleModel",
      "_view_count": null,
      "_view_module": "@jupyter-widgets/base",
      "_view_module_version": "1.2.0",
      "_view_name": "StyleView",
      "description_width": ""
     }
    },
    "b44f24e3374f4c27a0eff7b2cb9229fc": {
     "model_module": "@jupyter-widgets/base",
     "model_module_version": "1.2.0",
     "model_name": "LayoutModel",
     "state": {
      "_model_module": "@jupyter-widgets/base",
      "_model_module_version": "1.2.0",
      "_model_name": "LayoutModel",
      "_view_count": null,
      "_view_module": "@jupyter-widgets/base",
      "_view_module_version": "1.2.0",
      "_view_name": "LayoutView",
      "align_content": null,
      "align_items": null,
      "align_self": null,
      "border": null,
      "bottom": null,
      "display": null,
      "flex": null,
      "flex_flow": null,
      "grid_area": null,
      "grid_auto_columns": null,
      "grid_auto_flow": null,
      "grid_auto_rows": null,
      "grid_column": null,
      "grid_gap": null,
      "grid_row": null,
      "grid_template_areas": null,
      "grid_template_columns": null,
      "grid_template_rows": null,
      "height": null,
      "justify_content": null,
      "justify_items": null,
      "left": null,
      "margin": null,
      "max_height": null,
      "max_width": null,
      "min_height": null,
      "min_width": null,
      "object_fit": null,
      "object_position": null,
      "order": null,
      "overflow": null,
      "overflow_x": null,
      "overflow_y": null,
      "padding": null,
      "right": null,
      "top": null,
      "visibility": null,
      "width": null
     }
    },
    "b5c2c478d2424cda969ea35f10d3ff98": {
     "model_module": "@jupyter-widgets/controls",
     "model_module_version": "1.5.0",
     "model_name": "HTMLModel",
     "state": {
      "_dom_classes": [],
      "_model_module": "@jupyter-widgets/controls",
      "_model_module_version": "1.5.0",
      "_model_name": "HTMLModel",
      "_view_count": null,
      "_view_module": "@jupyter-widgets/controls",
      "_view_module_version": "1.5.0",
      "_view_name": "HTMLView",
      "description": "",
      "description_tooltip": null,
      "layout": "IPY_MODEL_a52789f09b0f488e894208409ebaa71a",
      "placeholder": "​",
      "style": "IPY_MODEL_76d105bfc279422582fcb739c621fd7c",
      "value": " 1.29M/1.29M [00:00&lt;00:00, 3.07MB/s]"
     }
    },
    "b9515713fbe54aa7a6f975585e964cf0": {
     "model_module": "@jupyter-widgets/controls",
     "model_module_version": "1.5.0",
     "model_name": "DescriptionStyleModel",
     "state": {
      "_model_module": "@jupyter-widgets/controls",
      "_model_module_version": "1.5.0",
      "_model_name": "DescriptionStyleModel",
      "_view_count": null,
      "_view_module": "@jupyter-widgets/base",
      "_view_module_version": "1.2.0",
      "_view_name": "StyleView",
      "description_width": ""
     }
    },
    "c8612f26e4904fbca133861568afd84d": {
     "model_module": "@jupyter-widgets/controls",
     "model_module_version": "1.5.0",
     "model_name": "ProgressStyleModel",
     "state": {
      "_model_module": "@jupyter-widgets/controls",
      "_model_module_version": "1.5.0",
      "_model_name": "ProgressStyleModel",
      "_view_count": null,
      "_view_module": "@jupyter-widgets/base",
      "_view_module_version": "1.2.0",
      "_view_name": "StyleView",
      "bar_color": null,
      "description_width": ""
     }
    },
    "ca865c6b190a4cd5b88210041fdc119a": {
     "model_module": "@jupyter-widgets/controls",
     "model_module_version": "1.5.0",
     "model_name": "HTMLModel",
     "state": {
      "_dom_classes": [],
      "_model_module": "@jupyter-widgets/controls",
      "_model_module_version": "1.5.0",
      "_model_name": "HTMLModel",
      "_view_count": null,
      "_view_module": "@jupyter-widgets/controls",
      "_view_module_version": "1.5.0",
      "_view_name": "HTMLView",
      "description": "",
      "description_tooltip": null,
      "layout": "IPY_MODEL_6d686d4e88064382959de45d318f903d",
      "placeholder": "​",
      "style": "IPY_MODEL_f8108ac3d7d643ff8d6f167ec7312719",
      "value": "Downloading: 100%"
     }
    },
    "cd2d9736e7d1479b9e92d943f684da97": {
     "model_module": "@jupyter-widgets/controls",
     "model_module_version": "1.5.0",
     "model_name": "DescriptionStyleModel",
     "state": {
      "_model_module": "@jupyter-widgets/controls",
      "_model_module_version": "1.5.0",
      "_model_name": "DescriptionStyleModel",
      "_view_count": null,
      "_view_module": "@jupyter-widgets/base",
      "_view_module_version": "1.2.0",
      "_view_name": "StyleView",
      "description_width": ""
     }
    },
    "e25b57a07f6444e3bfb1fc277f0e55a2": {
     "model_module": "@jupyter-widgets/controls",
     "model_module_version": "1.5.0",
     "model_name": "HTMLModel",
     "state": {
      "_dom_classes": [],
      "_model_module": "@jupyter-widgets/controls",
      "_model_module_version": "1.5.0",
      "_model_name": "HTMLModel",
      "_view_count": null,
      "_view_module": "@jupyter-widgets/controls",
      "_view_module_version": "1.5.0",
      "_view_name": "HTMLView",
      "description": "",
      "description_tooltip": null,
      "layout": "IPY_MODEL_f8eab4561eab472ea20657588f5b5897",
      "placeholder": "​",
      "style": "IPY_MODEL_cd2d9736e7d1479b9e92d943f684da97",
      "value": "Downloading: 100%"
     }
    },
    "e29d28e517464f3faf4425f065242f3a": {
     "model_module": "@jupyter-widgets/controls",
     "model_module_version": "1.5.0",
     "model_name": "FloatProgressModel",
     "state": {
      "_dom_classes": [],
      "_model_module": "@jupyter-widgets/controls",
      "_model_module_version": "1.5.0",
      "_model_name": "FloatProgressModel",
      "_view_count": null,
      "_view_module": "@jupyter-widgets/controls",
      "_view_module_version": "1.5.0",
      "_view_name": "ProgressView",
      "bar_style": "success",
      "description": "",
      "description_tooltip": null,
      "layout": "IPY_MODEL_3480af60cd814049ba2d6845e8b4d88a",
      "max": 1629486723,
      "min": 0,
      "orientation": "horizontal",
      "style": "IPY_MODEL_8d04e790af84432bb79c67db9b905b85",
      "value": 1629486723
     }
    },
    "e39f42c72a2c4726845500fc207aa5ef": {
     "model_module": "@jupyter-widgets/base",
     "model_module_version": "1.2.0",
     "model_name": "LayoutModel",
     "state": {
      "_model_module": "@jupyter-widgets/base",
      "_model_module_version": "1.2.0",
      "_model_name": "LayoutModel",
      "_view_count": null,
      "_view_module": "@jupyter-widgets/base",
      "_view_module_version": "1.2.0",
      "_view_name": "LayoutView",
      "align_content": null,
      "align_items": null,
      "align_self": null,
      "border": null,
      "bottom": null,
      "display": null,
      "flex": null,
      "flex_flow": null,
      "grid_area": null,
      "grid_auto_columns": null,
      "grid_auto_flow": null,
      "grid_auto_rows": null,
      "grid_column": null,
      "grid_gap": null,
      "grid_row": null,
      "grid_template_areas": null,
      "grid_template_columns": null,
      "grid_template_rows": null,
      "height": null,
      "justify_content": null,
      "justify_items": null,
      "left": null,
      "margin": null,
      "max_height": null,
      "max_width": null,
      "min_height": null,
      "min_width": null,
      "object_fit": null,
      "object_position": null,
      "order": null,
      "overflow": null,
      "overflow_x": null,
      "overflow_y": null,
      "padding": null,
      "right": null,
      "top": null,
      "visibility": null,
      "width": null
     }
    },
    "f24360fbcf664d8c814c4ebd61466ddb": {
     "model_module": "@jupyter-widgets/controls",
     "model_module_version": "1.5.0",
     "model_name": "HTMLModel",
     "state": {
      "_dom_classes": [],
      "_model_module": "@jupyter-widgets/controls",
      "_model_module_version": "1.5.0",
      "_model_name": "HTMLModel",
      "_view_count": null,
      "_view_module": "@jupyter-widgets/controls",
      "_view_module_version": "1.5.0",
      "_view_name": "HTMLView",
      "description": "",
      "description_tooltip": null,
      "layout": "IPY_MODEL_57d0144f8e354aa3985b42299d799bf2",
      "placeholder": "​",
      "style": "IPY_MODEL_b9515713fbe54aa7a6f975585e964cf0",
      "value": " 1.52G/1.52G [00:28&lt;00:00, 53.5MB/s]"
     }
    },
    "f4915cebce6a45e8a2bf29087442aeb2": {
     "model_module": "@jupyter-widgets/base",
     "model_module_version": "1.2.0",
     "model_name": "LayoutModel",
     "state": {
      "_model_module": "@jupyter-widgets/base",
      "_model_module_version": "1.2.0",
      "_model_name": "LayoutModel",
      "_view_count": null,
      "_view_module": "@jupyter-widgets/base",
      "_view_module_version": "1.2.0",
      "_view_name": "LayoutView",
      "align_content": null,
      "align_items": null,
      "align_self": null,
      "border": null,
      "bottom": null,
      "display": null,
      "flex": null,
      "flex_flow": null,
      "grid_area": null,
      "grid_auto_columns": null,
      "grid_auto_flow": null,
      "grid_auto_rows": null,
      "grid_column": null,
      "grid_gap": null,
      "grid_row": null,
      "grid_template_areas": null,
      "grid_template_columns": null,
      "grid_template_rows": null,
      "height": null,
      "justify_content": null,
      "justify_items": null,
      "left": null,
      "margin": null,
      "max_height": null,
      "max_width": null,
      "min_height": null,
      "min_width": null,
      "object_fit": null,
      "object_position": null,
      "order": null,
      "overflow": null,
      "overflow_x": null,
      "overflow_y": null,
      "padding": null,
      "right": null,
      "top": null,
      "visibility": null,
      "width": null
     }
    },
    "f588005e866e4ca7bc663830bb0c5ae6": {
     "model_module": "@jupyter-widgets/controls",
     "model_module_version": "1.5.0",
     "model_name": "FloatProgressModel",
     "state": {
      "_dom_classes": [],
      "_model_module": "@jupyter-widgets/controls",
      "_model_module_version": "1.5.0",
      "_model_name": "FloatProgressModel",
      "_view_count": null,
      "_view_module": "@jupyter-widgets/controls",
      "_view_module_version": "1.5.0",
      "_view_name": "ProgressView",
      "bar_style": "success",
      "description": "",
      "description_tooltip": null,
      "layout": "IPY_MODEL_5477a844a16d4080a2bbde834cdd1d1c",
      "max": 456318,
      "min": 0,
      "orientation": "horizontal",
      "style": "IPY_MODEL_3bb3c10ade97496a9baae5018323832b",
      "value": 456318
     }
    },
    "f76e2bdfebbf4448a4f870ce44adddd6": {
     "model_module": "@jupyter-widgets/controls",
     "model_module_version": "1.5.0",
     "model_name": "HBoxModel",
     "state": {
      "_dom_classes": [],
      "_model_module": "@jupyter-widgets/controls",
      "_model_module_version": "1.5.0",
      "_model_name": "HBoxModel",
      "_view_count": null,
      "_view_module": "@jupyter-widgets/controls",
      "_view_module_version": "1.5.0",
      "_view_name": "HBoxView",
      "box_style": "",
      "children": [
       "IPY_MODEL_af2f9f78ef6a4fd6b84e203075cf8de1",
       "IPY_MODEL_b2be406111d3463a882ed1563102b7fc",
       "IPY_MODEL_b5c2c478d2424cda969ea35f10d3ff98"
      ],
      "layout": "IPY_MODEL_fb72e800ee584933a934adc7970c31ec"
     }
    },
    "f8108ac3d7d643ff8d6f167ec7312719": {
     "model_module": "@jupyter-widgets/controls",
     "model_module_version": "1.5.0",
     "model_name": "DescriptionStyleModel",
     "state": {
      "_model_module": "@jupyter-widgets/controls",
      "_model_module_version": "1.5.0",
      "_model_name": "DescriptionStyleModel",
      "_view_count": null,
      "_view_module": "@jupyter-widgets/base",
      "_view_module_version": "1.2.0",
      "_view_name": "StyleView",
      "description_width": ""
     }
    },
    "f85068c7b06144b3b8a3d420823c1abb": {
     "model_module": "@jupyter-widgets/controls",
     "model_module_version": "1.5.0",
     "model_name": "HTMLModel",
     "state": {
      "_dom_classes": [],
      "_model_module": "@jupyter-widgets/controls",
      "_model_module_version": "1.5.0",
      "_model_name": "HTMLModel",
      "_view_count": null,
      "_view_module": "@jupyter-widgets/controls",
      "_view_module_version": "1.5.0",
      "_view_name": "HTMLView",
      "description": "",
      "description_tooltip": null,
      "layout": "IPY_MODEL_74621fd6a02f46a5921cdb88cca2f913",
      "placeholder": "​",
      "style": "IPY_MODEL_6f35ebcbc039405e9d6dff773907b52e",
      "value": "Downloading: 100%"
     }
    },
    "f8eab4561eab472ea20657588f5b5897": {
     "model_module": "@jupyter-widgets/base",
     "model_module_version": "1.2.0",
     "model_name": "LayoutModel",
     "state": {
      "_model_module": "@jupyter-widgets/base",
      "_model_module_version": "1.2.0",
      "_model_name": "LayoutModel",
      "_view_count": null,
      "_view_module": "@jupyter-widgets/base",
      "_view_module_version": "1.2.0",
      "_view_name": "LayoutView",
      "align_content": null,
      "align_items": null,
      "align_self": null,
      "border": null,
      "bottom": null,
      "display": null,
      "flex": null,
      "flex_flow": null,
      "grid_area": null,
      "grid_auto_columns": null,
      "grid_auto_flow": null,
      "grid_auto_rows": null,
      "grid_column": null,
      "grid_gap": null,
      "grid_row": null,
      "grid_template_areas": null,
      "grid_template_columns": null,
      "grid_template_rows": null,
      "height": null,
      "justify_content": null,
      "justify_items": null,
      "left": null,
      "margin": null,
      "max_height": null,
      "max_width": null,
      "min_height": null,
      "min_width": null,
      "object_fit": null,
      "object_position": null,
      "order": null,
      "overflow": null,
      "overflow_x": null,
      "overflow_y": null,
      "padding": null,
      "right": null,
      "top": null,
      "visibility": null,
      "width": null
     }
    },
    "fb72e800ee584933a934adc7970c31ec": {
     "model_module": "@jupyter-widgets/base",
     "model_module_version": "1.2.0",
     "model_name": "LayoutModel",
     "state": {
      "_model_module": "@jupyter-widgets/base",
      "_model_module_version": "1.2.0",
      "_model_name": "LayoutModel",
      "_view_count": null,
      "_view_module": "@jupyter-widgets/base",
      "_view_module_version": "1.2.0",
      "_view_name": "LayoutView",
      "align_content": null,
      "align_items": null,
      "align_self": null,
      "border": null,
      "bottom": null,
      "display": null,
      "flex": null,
      "flex_flow": null,
      "grid_area": null,
      "grid_auto_columns": null,
      "grid_auto_flow": null,
      "grid_auto_rows": null,
      "grid_column": null,
      "grid_gap": null,
      "grid_row": null,
      "grid_template_areas": null,
      "grid_template_columns": null,
      "grid_template_rows": null,
      "height": null,
      "justify_content": null,
      "justify_items": null,
      "left": null,
      "margin": null,
      "max_height": null,
      "max_width": null,
      "min_height": null,
      "min_width": null,
      "object_fit": null,
      "object_position": null,
      "order": null,
      "overflow": null,
      "overflow_x": null,
      "overflow_y": null,
      "padding": null,
      "right": null,
      "top": null,
      "visibility": null,
      "width": null
     }
    },
    "ff3136aa9df949a2a9aea6660900367c": {
     "model_module": "@jupyter-widgets/base",
     "model_module_version": "1.2.0",
     "model_name": "LayoutModel",
     "state": {
      "_model_module": "@jupyter-widgets/base",
      "_model_module_version": "1.2.0",
      "_model_name": "LayoutModel",
      "_view_count": null,
      "_view_module": "@jupyter-widgets/base",
      "_view_module_version": "1.2.0",
      "_view_name": "LayoutView",
      "align_content": null,
      "align_items": null,
      "align_self": null,
      "border": null,
      "bottom": null,
      "display": null,
      "flex": null,
      "flex_flow": null,
      "grid_area": null,
      "grid_auto_columns": null,
      "grid_auto_flow": null,
      "grid_auto_rows": null,
      "grid_column": null,
      "grid_gap": null,
      "grid_row": null,
      "grid_template_areas": null,
      "grid_template_columns": null,
      "grid_template_rows": null,
      "height": null,
      "justify_content": null,
      "justify_items": null,
      "left": null,
      "margin": null,
      "max_height": null,
      "max_width": null,
      "min_height": null,
      "min_width": null,
      "object_fit": null,
      "object_position": null,
      "order": null,
      "overflow": null,
      "overflow_x": null,
      "overflow_y": null,
      "padding": null,
      "right": null,
      "top": null,
      "visibility": null,
      "width": null
     }
    }
   }
  }
 },
 "nbformat": 4,
 "nbformat_minor": 4
}
