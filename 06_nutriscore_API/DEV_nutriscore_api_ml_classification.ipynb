{
 "cells": [
  {
   "cell_type": "markdown",
   "id": "2f7f07c6",
   "metadata": {},
   "source": [
    "<h1> Machine Learning Notebook"
   ]
  },
  {
   "cell_type": "code",
   "execution_count": 1,
   "id": "e8c22d7b",
   "metadata": {},
   "outputs": [],
   "source": [
    "import pandas as pd\n",
    "import numpy as np\n",
    "import seaborn as sns\n",
    "import matplotlib.pyplot as plt\n",
    "from utils import *\n",
    "\n",
    "from sklearn.model_selection import train_test_split, GridSearchCV\n",
    "from sklearn.preprocessing import StandardScaler"
   ]
  },
  {
   "cell_type": "code",
   "execution_count": 2,
   "id": "7623c020",
   "metadata": {},
   "outputs": [],
   "source": [
    "filepath = '/Users/efkanturedi/Corteze/untitled folder/nutri_clean_prod.csv'\n",
    "data = pd.read_csv(filepath)"
   ]
  },
  {
   "cell_type": "code",
   "execution_count": 3,
   "id": "339cdfc8",
   "metadata": {},
   "outputs": [
    {
     "data": {
      "text/html": [
       "<div>\n",
       "<style scoped>\n",
       "    .dataframe tbody tr th:only-of-type {\n",
       "        vertical-align: middle;\n",
       "    }\n",
       "\n",
       "    .dataframe tbody tr th {\n",
       "        vertical-align: top;\n",
       "    }\n",
       "\n",
       "    .dataframe thead th {\n",
       "        text-align: right;\n",
       "    }\n",
       "</style>\n",
       "<table border=\"1\" class=\"dataframe\">\n",
       "  <thead>\n",
       "    <tr style=\"text-align: right;\">\n",
       "      <th></th>\n",
       "      <th>code</th>\n",
       "      <th>product_name</th>\n",
       "      <th>brands</th>\n",
       "      <th>nutriscore_grade</th>\n",
       "      <th>pnns_groups_1</th>\n",
       "      <th>energy-kcal_100g</th>\n",
       "      <th>fat_100g</th>\n",
       "      <th>saturated-fat_100g</th>\n",
       "      <th>carbohydrates_100g</th>\n",
       "      <th>sugars_100g</th>\n",
       "      <th>fiber_100g</th>\n",
       "      <th>proteins_100g</th>\n",
       "      <th>salt_100g</th>\n",
       "      <th>nutrition-score-fr_100g</th>\n",
       "    </tr>\n",
       "  </thead>\n",
       "  <tbody>\n",
       "    <tr>\n",
       "      <th>0</th>\n",
       "      <td>0000000001281</td>\n",
       "      <td>Tarte noix de coco</td>\n",
       "      <td>Crous Resto',Crous</td>\n",
       "      <td>d</td>\n",
       "      <td>Sugary snacks</td>\n",
       "      <td>381.0</td>\n",
       "      <td>22.00</td>\n",
       "      <td>15.5</td>\n",
       "      <td>27.30</td>\n",
       "      <td>21.90</td>\n",
       "      <td>4.4</td>\n",
       "      <td>4.60</td>\n",
       "      <td>0.1000</td>\n",
       "      <td>14.0</td>\n",
       "    </tr>\n",
       "    <tr>\n",
       "      <th>1</th>\n",
       "      <td>0000000001885</td>\n",
       "      <td>Compote de poire</td>\n",
       "      <td>Crous</td>\n",
       "      <td>a</td>\n",
       "      <td>Fruits and vegetables</td>\n",
       "      <td>157.0</td>\n",
       "      <td>0.00</td>\n",
       "      <td>0.0</td>\n",
       "      <td>36.00</td>\n",
       "      <td>27.00</td>\n",
       "      <td>3.6</td>\n",
       "      <td>0.60</td>\n",
       "      <td>0.0000</td>\n",
       "      <td>-2.0</td>\n",
       "    </tr>\n",
       "    <tr>\n",
       "      <th>2</th>\n",
       "      <td>0000000005470</td>\n",
       "      <td>BAguette bressan</td>\n",
       "      <td>Crousresto'</td>\n",
       "      <td>a</td>\n",
       "      <td>Cereals and potatoes</td>\n",
       "      <td>160.0</td>\n",
       "      <td>2.20</td>\n",
       "      <td>0.5</td>\n",
       "      <td>25.20</td>\n",
       "      <td>0.60</td>\n",
       "      <td>1.6</td>\n",
       "      <td>9.50</td>\n",
       "      <td>0.3580</td>\n",
       "      <td>-4.0</td>\n",
       "    </tr>\n",
       "    <tr>\n",
       "      <th>3</th>\n",
       "      <td>0000000043595</td>\n",
       "      <td>Cranberries</td>\n",
       "      <td>Torn &amp; Glasser</td>\n",
       "      <td>c</td>\n",
       "      <td>Fruits and vegetables</td>\n",
       "      <td>300.0</td>\n",
       "      <td>0.00</td>\n",
       "      <td>0.0</td>\n",
       "      <td>83.33</td>\n",
       "      <td>66.67</td>\n",
       "      <td>10.0</td>\n",
       "      <td>0.00</td>\n",
       "      <td>0.0000</td>\n",
       "      <td>3.0</td>\n",
       "    </tr>\n",
       "    <tr>\n",
       "      <th>4</th>\n",
       "      <td>0000000290616</td>\n",
       "      <td>Salade Cesar</td>\n",
       "      <td>Kirkland Signature</td>\n",
       "      <td>c</td>\n",
       "      <td>Fruits and vegetables</td>\n",
       "      <td>290.0</td>\n",
       "      <td>12.00</td>\n",
       "      <td>7.0</td>\n",
       "      <td>23.00</td>\n",
       "      <td>0.00</td>\n",
       "      <td>2.0</td>\n",
       "      <td>22.00</td>\n",
       "      <td>2.1600</td>\n",
       "      <td>6.0</td>\n",
       "    </tr>\n",
       "    <tr>\n",
       "      <th>...</th>\n",
       "      <td>...</td>\n",
       "      <td>...</td>\n",
       "      <td>...</td>\n",
       "      <td>...</td>\n",
       "      <td>...</td>\n",
       "      <td>...</td>\n",
       "      <td>...</td>\n",
       "      <td>...</td>\n",
       "      <td>...</td>\n",
       "      <td>...</td>\n",
       "      <td>...</td>\n",
       "      <td>...</td>\n",
       "      <td>...</td>\n",
       "      <td>...</td>\n",
       "    </tr>\n",
       "    <tr>\n",
       "      <th>374513</th>\n",
       "      <td>9948240886</td>\n",
       "      <td>Lemon raspberry italian sparkling mineral water</td>\n",
       "      <td>Whole foods, Whole Foods Market</td>\n",
       "      <td>b</td>\n",
       "      <td>Beverages</td>\n",
       "      <td>0.0</td>\n",
       "      <td>0.00</td>\n",
       "      <td>0.0</td>\n",
       "      <td>0.00</td>\n",
       "      <td>0.00</td>\n",
       "      <td>0.0</td>\n",
       "      <td>0.00</td>\n",
       "      <td>0.0250</td>\n",
       "      <td>0.0</td>\n",
       "    </tr>\n",
       "    <tr>\n",
       "      <th>374514</th>\n",
       "      <td>99482467111</td>\n",
       "      <td>Almondmilk beverage, chocolate</td>\n",
       "      <td>NaN</td>\n",
       "      <td>b</td>\n",
       "      <td>Beverages</td>\n",
       "      <td>38.0</td>\n",
       "      <td>1.05</td>\n",
       "      <td>0.0</td>\n",
       "      <td>6.33</td>\n",
       "      <td>5.91</td>\n",
       "      <td>0.4</td>\n",
       "      <td>0.42</td>\n",
       "      <td>0.1575</td>\n",
       "      <td>1.0</td>\n",
       "    </tr>\n",
       "    <tr>\n",
       "      <th>374515</th>\n",
       "      <td>9950014911001</td>\n",
       "      <td>Oignons jaunes 40/60</td>\n",
       "      <td>Ferme De L'artois</td>\n",
       "      <td>a</td>\n",
       "      <td>Fruits and vegetables</td>\n",
       "      <td>0.0</td>\n",
       "      <td>5.00</td>\n",
       "      <td>5.0</td>\n",
       "      <td>2.00</td>\n",
       "      <td>0.50</td>\n",
       "      <td>25.0</td>\n",
       "      <td>32.00</td>\n",
       "      <td>0.2000</td>\n",
       "      <td>-11.0</td>\n",
       "    </tr>\n",
       "    <tr>\n",
       "      <th>374516</th>\n",
       "      <td>9999091865142</td>\n",
       "      <td>Paprikás Kukorica csemege</td>\n",
       "      <td>Spar</td>\n",
       "      <td>d</td>\n",
       "      <td>unknown</td>\n",
       "      <td>496.0</td>\n",
       "      <td>24.00</td>\n",
       "      <td>1.9</td>\n",
       "      <td>61.00</td>\n",
       "      <td>1.50</td>\n",
       "      <td>0.0</td>\n",
       "      <td>6.90</td>\n",
       "      <td>0.9600</td>\n",
       "      <td>11.0</td>\n",
       "    </tr>\n",
       "    <tr>\n",
       "      <th>374517</th>\n",
       "      <td>99994440</td>\n",
       "      <td>Veganes Mühlenhack</td>\n",
       "      <td>Rügenwalder Mühle</td>\n",
       "      <td>a</td>\n",
       "      <td>unknown</td>\n",
       "      <td>120.0</td>\n",
       "      <td>3.20</td>\n",
       "      <td>0.3</td>\n",
       "      <td>2.10</td>\n",
       "      <td>0.50</td>\n",
       "      <td>5.2</td>\n",
       "      <td>18.00</td>\n",
       "      <td>1.5000</td>\n",
       "      <td>-3.0</td>\n",
       "    </tr>\n",
       "  </tbody>\n",
       "</table>\n",
       "<p>374518 rows × 14 columns</p>\n",
       "</div>"
      ],
      "text/plain": [
       "                 code                                     product_name  \\\n",
       "0       0000000001281                               Tarte noix de coco   \n",
       "1       0000000001885                                 Compote de poire   \n",
       "2       0000000005470                                 BAguette bressan   \n",
       "3       0000000043595                                      Cranberries   \n",
       "4       0000000290616                                     Salade Cesar   \n",
       "...               ...                                              ...   \n",
       "374513     9948240886  Lemon raspberry italian sparkling mineral water   \n",
       "374514    99482467111                   Almondmilk beverage, chocolate   \n",
       "374515  9950014911001                             Oignons jaunes 40/60   \n",
       "374516  9999091865142                        Paprikás Kukorica csemege   \n",
       "374517       99994440                               Veganes Mühlenhack   \n",
       "\n",
       "                                 brands nutriscore_grade  \\\n",
       "0                    Crous Resto',Crous                d   \n",
       "1                                 Crous                a   \n",
       "2                           Crousresto'                a   \n",
       "3                        Torn & Glasser                c   \n",
       "4                    Kirkland Signature                c   \n",
       "...                                 ...              ...   \n",
       "374513  Whole foods, Whole Foods Market                b   \n",
       "374514                              NaN                b   \n",
       "374515                Ferme De L'artois                a   \n",
       "374516                             Spar                d   \n",
       "374517                Rügenwalder Mühle                a   \n",
       "\n",
       "                pnns_groups_1  energy-kcal_100g  fat_100g  saturated-fat_100g  \\\n",
       "0               Sugary snacks             381.0     22.00                15.5   \n",
       "1       Fruits and vegetables             157.0      0.00                 0.0   \n",
       "2        Cereals and potatoes             160.0      2.20                 0.5   \n",
       "3       Fruits and vegetables             300.0      0.00                 0.0   \n",
       "4       Fruits and vegetables             290.0     12.00                 7.0   \n",
       "...                       ...               ...       ...                 ...   \n",
       "374513              Beverages               0.0      0.00                 0.0   \n",
       "374514              Beverages              38.0      1.05                 0.0   \n",
       "374515  Fruits and vegetables               0.0      5.00                 5.0   \n",
       "374516                unknown             496.0     24.00                 1.9   \n",
       "374517                unknown             120.0      3.20                 0.3   \n",
       "\n",
       "        carbohydrates_100g  sugars_100g  fiber_100g  proteins_100g  salt_100g  \\\n",
       "0                    27.30        21.90         4.4           4.60     0.1000   \n",
       "1                    36.00        27.00         3.6           0.60     0.0000   \n",
       "2                    25.20         0.60         1.6           9.50     0.3580   \n",
       "3                    83.33        66.67        10.0           0.00     0.0000   \n",
       "4                    23.00         0.00         2.0          22.00     2.1600   \n",
       "...                    ...          ...         ...            ...        ...   \n",
       "374513                0.00         0.00         0.0           0.00     0.0250   \n",
       "374514                6.33         5.91         0.4           0.42     0.1575   \n",
       "374515                2.00         0.50        25.0          32.00     0.2000   \n",
       "374516               61.00         1.50         0.0           6.90     0.9600   \n",
       "374517                2.10         0.50         5.2          18.00     1.5000   \n",
       "\n",
       "        nutrition-score-fr_100g  \n",
       "0                          14.0  \n",
       "1                          -2.0  \n",
       "2                          -4.0  \n",
       "3                           3.0  \n",
       "4                           6.0  \n",
       "...                         ...  \n",
       "374513                      0.0  \n",
       "374514                      1.0  \n",
       "374515                    -11.0  \n",
       "374516                     11.0  \n",
       "374517                     -3.0  \n",
       "\n",
       "[374518 rows x 14 columns]"
      ]
     },
     "execution_count": 3,
     "metadata": {},
     "output_type": "execute_result"
    }
   ],
   "source": [
    "data"
   ]
  },
  {
   "cell_type": "code",
   "execution_count": 4,
   "id": "bd9a1063",
   "metadata": {},
   "outputs": [],
   "source": [
    "# Revove comment if you want to use only a sample of the dataset\n",
    "\n",
    "#data = data.sample(n=100000,random_state=42)"
   ]
  },
  {
   "cell_type": "code",
   "execution_count": 5,
   "id": "2a517586",
   "metadata": {},
   "outputs": [],
   "source": [
    "# We add the code to use it as primary key\n",
    "X_cols = [\n",
    "  'energy-kcal_100g',\n",
    "  #'fat_100g',\n",
    "  'saturated-fat_100g',\n",
    "  #'carbohydrates_100g',\n",
    "  'sugars_100g',\n",
    "  'fiber_100g',\n",
    "  'proteins_100g',\n",
    "  'salt_100g',\n",
    "]"
   ]
  },
  {
   "cell_type": "code",
   "execution_count": 6,
   "id": "ab985371",
   "metadata": {},
   "outputs": [],
   "source": [
    "X = data[X_cols].reset_index(drop=True)\n",
    "y = data[[\n",
    "  'nutriscore_grade'\n",
    "]].reset_index(drop=True)"
   ]
  },
  {
   "cell_type": "code",
   "execution_count": 7,
   "id": "e80eb8d4",
   "metadata": {},
   "outputs": [
    {
     "data": {
      "text/plain": [
       "374518"
      ]
     },
     "execution_count": 7,
     "metadata": {},
     "output_type": "execute_result"
    }
   ],
   "source": [
    "len(y)"
   ]
  },
  {
   "cell_type": "markdown",
   "id": "e7979e52",
   "metadata": {},
   "source": [
    "<h3> Standardising & Normalizing the data"
   ]
  },
  {
   "cell_type": "code",
   "execution_count": 8,
   "id": "66c7d02a",
   "metadata": {},
   "outputs": [],
   "source": [
    "# Creating Training and Test set\n",
    "X_train, X_test, y_train, y_test = train_test_split(X,y,train_size=0.8)\n",
    "\n",
    "# Creating Validation set\n",
    "# X_train, y_train, X_val, y_val = train_test_split(X_train, y_train, train_size=0.9)"
   ]
  },
  {
   "cell_type": "code",
   "execution_count": 9,
   "id": "7aeadc1c",
   "metadata": {},
   "outputs": [
    {
     "data": {
      "text/html": [
       "<div>\n",
       "<style scoped>\n",
       "    .dataframe tbody tr th:only-of-type {\n",
       "        vertical-align: middle;\n",
       "    }\n",
       "\n",
       "    .dataframe tbody tr th {\n",
       "        vertical-align: top;\n",
       "    }\n",
       "\n",
       "    .dataframe thead th {\n",
       "        text-align: right;\n",
       "    }\n",
       "</style>\n",
       "<table border=\"1\" class=\"dataframe\">\n",
       "  <thead>\n",
       "    <tr style=\"text-align: right;\">\n",
       "      <th></th>\n",
       "      <th>energy-kcal_100g</th>\n",
       "      <th>saturated-fat_100g</th>\n",
       "      <th>sugars_100g</th>\n",
       "      <th>fiber_100g</th>\n",
       "      <th>proteins_100g</th>\n",
       "      <th>salt_100g</th>\n",
       "    </tr>\n",
       "  </thead>\n",
       "  <tbody>\n",
       "    <tr>\n",
       "      <th>57881</th>\n",
       "      <td>24.0</td>\n",
       "      <td>0.00</td>\n",
       "      <td>4.88</td>\n",
       "      <td>0.8</td>\n",
       "      <td>0.81</td>\n",
       "      <td>0.5075</td>\n",
       "    </tr>\n",
       "    <tr>\n",
       "      <th>316388</th>\n",
       "      <td>363.0</td>\n",
       "      <td>1.00</td>\n",
       "      <td>16.50</td>\n",
       "      <td>10.3</td>\n",
       "      <td>10.50</td>\n",
       "      <td>0.0100</td>\n",
       "    </tr>\n",
       "    <tr>\n",
       "      <th>70233</th>\n",
       "      <td>368.0</td>\n",
       "      <td>1.32</td>\n",
       "      <td>28.95</td>\n",
       "      <td>7.9</td>\n",
       "      <td>10.53</td>\n",
       "      <td>0.6575</td>\n",
       "    </tr>\n",
       "    <tr>\n",
       "      <th>254884</th>\n",
       "      <td>41.0</td>\n",
       "      <td>0.70</td>\n",
       "      <td>4.80</td>\n",
       "      <td>0.0</td>\n",
       "      <td>3.20</td>\n",
       "      <td>0.1000</td>\n",
       "    </tr>\n",
       "    <tr>\n",
       "      <th>306798</th>\n",
       "      <td>257.0</td>\n",
       "      <td>2.00</td>\n",
       "      <td>9.30</td>\n",
       "      <td>0.0</td>\n",
       "      <td>12.00</td>\n",
       "      <td>1.9000</td>\n",
       "    </tr>\n",
       "    <tr>\n",
       "      <th>...</th>\n",
       "      <td>...</td>\n",
       "      <td>...</td>\n",
       "      <td>...</td>\n",
       "      <td>...</td>\n",
       "      <td>...</td>\n",
       "      <td>...</td>\n",
       "    </tr>\n",
       "    <tr>\n",
       "      <th>202150</th>\n",
       "      <td>257.0</td>\n",
       "      <td>3.57</td>\n",
       "      <td>24.29</td>\n",
       "      <td>0.0</td>\n",
       "      <td>14.29</td>\n",
       "      <td>0.9825</td>\n",
       "    </tr>\n",
       "    <tr>\n",
       "      <th>319247</th>\n",
       "      <td>46.0</td>\n",
       "      <td>0.00</td>\n",
       "      <td>10.20</td>\n",
       "      <td>0.8</td>\n",
       "      <td>0.20</td>\n",
       "      <td>0.0000</td>\n",
       "    </tr>\n",
       "    <tr>\n",
       "      <th>119772</th>\n",
       "      <td>350.0</td>\n",
       "      <td>0.00</td>\n",
       "      <td>67.50</td>\n",
       "      <td>2.5</td>\n",
       "      <td>0.00</td>\n",
       "      <td>0.3450</td>\n",
       "    </tr>\n",
       "    <tr>\n",
       "      <th>90184</th>\n",
       "      <td>536.0</td>\n",
       "      <td>3.57</td>\n",
       "      <td>3.57</td>\n",
       "      <td>3.6</td>\n",
       "      <td>7.14</td>\n",
       "      <td>1.8750</td>\n",
       "    </tr>\n",
       "    <tr>\n",
       "      <th>303917</th>\n",
       "      <td>188.0</td>\n",
       "      <td>1.25</td>\n",
       "      <td>1.47</td>\n",
       "      <td>3.6</td>\n",
       "      <td>4.46</td>\n",
       "      <td>0.3900</td>\n",
       "    </tr>\n",
       "  </tbody>\n",
       "</table>\n",
       "<p>74904 rows × 6 columns</p>\n",
       "</div>"
      ],
      "text/plain": [
       "        energy-kcal_100g  saturated-fat_100g  sugars_100g  fiber_100g  \\\n",
       "57881               24.0                0.00         4.88         0.8   \n",
       "316388             363.0                1.00        16.50        10.3   \n",
       "70233              368.0                1.32        28.95         7.9   \n",
       "254884              41.0                0.70         4.80         0.0   \n",
       "306798             257.0                2.00         9.30         0.0   \n",
       "...                  ...                 ...          ...         ...   \n",
       "202150             257.0                3.57        24.29         0.0   \n",
       "319247              46.0                0.00        10.20         0.8   \n",
       "119772             350.0                0.00        67.50         2.5   \n",
       "90184              536.0                3.57         3.57         3.6   \n",
       "303917             188.0                1.25         1.47         3.6   \n",
       "\n",
       "        proteins_100g  salt_100g  \n",
       "57881            0.81     0.5075  \n",
       "316388          10.50     0.0100  \n",
       "70233           10.53     0.6575  \n",
       "254884           3.20     0.1000  \n",
       "306798          12.00     1.9000  \n",
       "...               ...        ...  \n",
       "202150          14.29     0.9825  \n",
       "319247           0.20     0.0000  \n",
       "119772           0.00     0.3450  \n",
       "90184            7.14     1.8750  \n",
       "303917           4.46     0.3900  \n",
       "\n",
       "[74904 rows x 6 columns]"
      ]
     },
     "execution_count": 9,
     "metadata": {},
     "output_type": "execute_result"
    }
   ],
   "source": [
    "X_test"
   ]
  },
  {
   "cell_type": "code",
   "execution_count": 10,
   "id": "2862df67",
   "metadata": {},
   "outputs": [],
   "source": [
    "scaler = StandardScaler()\n",
    "X_train = scaler.fit_transform(X_train)\n",
    "X_test = scaler.transform(X_test)"
   ]
  },
  {
   "cell_type": "markdown",
   "id": "4334716c",
   "metadata": {},
   "source": [
    "<h3> Running the models"
   ]
  },
  {
   "cell_type": "code",
   "execution_count": 11,
   "id": "a93bbd07",
   "metadata": {},
   "outputs": [],
   "source": [
    "import math\n",
    "from sklearn.multiclass import OneVsRestClassifier\n",
    "from sklearn.linear_model import LogisticRegression\n",
    "from sklearn.svm import LinearSVC\n",
    "from sklearn.ensemble import RandomForestClassifier\n",
    "from sklearn.metrics import confusion_matrix,classification_report\n",
    "from xgboost import XGBClassifier"
   ]
  },
  {
   "cell_type": "markdown",
   "id": "22cc7523",
   "metadata": {},
   "source": [
    "<h3> Logistic Regression"
   ]
  },
  {
   "cell_type": "code",
   "execution_count": 12,
   "id": "c544ef0f",
   "metadata": {},
   "outputs": [],
   "source": [
    "log_reg = OneVsRestClassifier(LogisticRegression())"
   ]
  },
  {
   "cell_type": "code",
   "execution_count": 13,
   "id": "558d5b4b",
   "metadata": {},
   "outputs": [
    {
     "data": {
      "text/plain": [
       "OneVsRestClassifier(estimator=LogisticRegression())"
      ]
     },
     "execution_count": 13,
     "metadata": {},
     "output_type": "execute_result"
    }
   ],
   "source": [
    "log_reg.fit(X_train,y_train)"
   ]
  },
  {
   "cell_type": "code",
   "execution_count": 14,
   "id": "0569becf",
   "metadata": {},
   "outputs": [],
   "source": [
    "cf_matrix = confusion_matrix(log_reg.predict(X_test),y_test)"
   ]
  },
  {
   "cell_type": "code",
   "execution_count": 15,
   "id": "71268882",
   "metadata": {},
   "outputs": [
    {
     "name": "stdout",
     "output_type": "stream",
     "text": [
      "              precision    recall  f1-score   support\n",
      "\n",
      "           a       0.92      0.64      0.75     22517\n",
      "           b       0.12      0.54      0.19      2113\n",
      "           c       0.37      0.54      0.44     10843\n",
      "           d       0.73      0.53      0.62     29355\n",
      "           e       0.52      0.64      0.57     10076\n",
      "\n",
      "    accuracy                           0.58     74904\n",
      "   macro avg       0.53      0.58      0.51     74904\n",
      "weighted avg       0.69      0.58      0.61     74904\n",
      "\n"
     ]
    }
   ],
   "source": [
    "print(classification_report(log_reg.predict(X_test),y_test))"
   ]
  },
  {
   "cell_type": "markdown",
   "id": "4191e3c8",
   "metadata": {},
   "source": [
    "<h3> Random Forest Classifier"
   ]
  },
  {
   "cell_type": "code",
   "execution_count": 16,
   "id": "f8894942",
   "metadata": {},
   "outputs": [],
   "source": [
    "rfc = OneVsRestClassifier(RandomForestClassifier(\n",
    "  n_jobs=-1,\n",
    "  class_weight='balanced',\n",
    "  n_estimators=100\n",
    "  ))"
   ]
  },
  {
   "cell_type": "code",
   "execution_count": 17,
   "id": "2c3c1958",
   "metadata": {},
   "outputs": [
    {
     "data": {
      "text/plain": [
       "OneVsRestClassifier(estimator=RandomForestClassifier(class_weight='balanced',\n",
       "                                                     n_jobs=-1))"
      ]
     },
     "execution_count": 17,
     "metadata": {},
     "output_type": "execute_result"
    }
   ],
   "source": [
    "rfc.fit(X_train,y_train)"
   ]
  },
  {
   "cell_type": "code",
   "execution_count": 18,
   "id": "b7e7fd34",
   "metadata": {},
   "outputs": [
    {
     "name": "stdout",
     "output_type": "stream",
     "text": [
      "              precision    recall  f1-score   support\n",
      "\n",
      "           a       0.95      0.94      0.95     15800\n",
      "           b       0.86      0.89      0.87      9508\n",
      "           c       0.91      0.90      0.90     15742\n",
      "           d       0.95      0.94      0.95     21601\n",
      "           e       0.93      0.95      0.94     12253\n",
      "\n",
      "    accuracy                           0.93     74904\n",
      "   macro avg       0.92      0.92      0.92     74904\n",
      "weighted avg       0.93      0.93      0.93     74904\n",
      "\n"
     ]
    }
   ],
   "source": [
    "print(classification_report(rfc.predict(X_test),y_test))"
   ]
  },
  {
   "cell_type": "markdown",
   "id": "6cc6502e",
   "metadata": {},
   "source": [
    "<h3>XGBoost"
   ]
  },
  {
   "cell_type": "code",
   "execution_count": 19,
   "id": "0eafddb2",
   "metadata": {},
   "outputs": [],
   "source": [
    "xgb = XGBClassifier()"
   ]
  },
  {
   "cell_type": "code",
   "execution_count": 20,
   "id": "5c84eea3",
   "metadata": {},
   "outputs": [
    {
     "name": "stdout",
     "output_type": "stream",
     "text": [
      "[13:00:18] WARNING: ../src/learner.cc:1115: Starting in XGBoost 1.3.0, the default evaluation metric used with the objective 'multi:softprob' was changed from 'merror' to 'mlogloss'. Explicitly set eval_metric if you'd like to restore the old behavior.\n"
     ]
    },
    {
     "data": {
      "text/plain": [
       "XGBClassifier(base_score=0.5, booster='gbtree', colsample_bylevel=1,\n",
       "              colsample_bynode=1, colsample_bytree=1, enable_categorical=False,\n",
       "              gamma=0, gpu_id=-1, importance_type=None,\n",
       "              interaction_constraints='', learning_rate=0.300000012,\n",
       "              max_delta_step=0, max_depth=6, min_child_weight=1, missing=nan,\n",
       "              monotone_constraints='()', n_estimators=100, n_jobs=8,\n",
       "              num_parallel_tree=1, objective='multi:softprob', predictor='auto',\n",
       "              random_state=0, reg_alpha=0, reg_lambda=1, scale_pos_weight=None,\n",
       "              subsample=1, tree_method='exact', validate_parameters=1,\n",
       "              verbosity=None)"
      ]
     },
     "execution_count": 20,
     "metadata": {},
     "output_type": "execute_result"
    }
   ],
   "source": [
    "xgb.fit(X_train,y_train)"
   ]
  },
  {
   "cell_type": "code",
   "execution_count": 21,
   "id": "18b3af4c",
   "metadata": {},
   "outputs": [
    {
     "name": "stdout",
     "output_type": "stream",
     "text": [
      "              precision    recall  f1-score   support\n",
      "\n",
      "           a       0.94      0.93      0.93     15946\n",
      "           b       0.84      0.86      0.85      9566\n",
      "           c       0.89      0.89      0.89     15534\n",
      "           d       0.95      0.94      0.94     21583\n",
      "           e       0.93      0.94      0.93     12275\n",
      "\n",
      "    accuracy                           0.92     74904\n",
      "   macro avg       0.91      0.91      0.91     74904\n",
      "weighted avg       0.92      0.92      0.92     74904\n",
      "\n"
     ]
    }
   ],
   "source": [
    "print(classification_report(xgb.predict(X_test),y_test))"
   ]
  },
  {
   "cell_type": "markdown",
   "id": "41f064e5",
   "metadata": {},
   "source": [
    "<h3>GridSearchCV on Random Forest and XGBoost:"
   ]
  },
  {
   "cell_type": "code",
   "execution_count": 22,
   "id": "9312ca40",
   "metadata": {},
   "outputs": [],
   "source": [
    "#xgb_parameters = {\n",
    "#  'n_estimators':[2000,3000],\n",
    "#  'learning_rate': [0.2,0.3]\n",
    "#}"
   ]
  },
  {
   "cell_type": "code",
   "execution_count": 23,
   "id": "3187923b",
   "metadata": {},
   "outputs": [],
   "source": [
    "#xgb_grid = GridSearchCV(estimator = XGBRegressor(), \n",
    "#                      scoring='neg_root_mean_squared_error',\n",
    "#                      param_grid = xgb_parameters,\n",
    "#                      cv=3,\n",
    "#                      verbose=False\n",
    "#)\n",
    "#\n",
    "#xgb_grid.fit(X_train, y_train['nutrition-score-fr_100g'])"
   ]
  },
  {
   "cell_type": "code",
   "execution_count": 24,
   "id": "097b0059",
   "metadata": {},
   "outputs": [],
   "source": [
    "#xgb_best_params_ = xgb_grid.best_params_\n",
    "#xgb_best_params_"
   ]
  },
  {
   "cell_type": "code",
   "execution_count": 25,
   "id": "7a9734c5",
   "metadata": {},
   "outputs": [],
   "source": [
    "#xgb_opt = xgb_grid.best_estimator_"
   ]
  },
  {
   "cell_type": "code",
   "execution_count": 26,
   "id": "bd584591",
   "metadata": {},
   "outputs": [],
   "source": [
    "#xgb_opt_rmse = math.sqrt(mean_squared_error(xgb_opt.predict(X_test), y_test['nutrition-score-fr_100g']))\n",
    "#xgb_opt_r2 = r2_score(xgb_opt.predict(X_test), y_test['nutrition-score-fr_100g'])\n",
    "\n",
    "#results = results.append({\n",
    "#  'Model':'XGBoost Hypt',\n",
    "#  'RMSE':xgb_opt_rmse,\n",
    "#  'R2':xgb_opt_r2,\n",
    "#  'Adj R2':1-((1-xgb_opt_r2)*(n-1)/(n-p-1))\n",
    "#},ignore_index=True)\n",
    "\n",
    "#results"
   ]
  },
  {
   "cell_type": "code",
   "execution_count": 27,
   "id": "13c3ab4c",
   "metadata": {},
   "outputs": [],
   "source": [
    "#rfr_parameters = {\n",
    "#  'n_estimators': [1000],\n",
    "#  #'n_estimators': [200,500,1000],\n",
    "#}"
   ]
  },
  {
   "cell_type": "code",
   "execution_count": 28,
   "id": "7b8c4ada",
   "metadata": {},
   "outputs": [],
   "source": [
    "#rfr_grid = GridSearchCV(estimator = RandomForestRegressor(n_jobs=-1), \n",
    "#                      scoring='neg_root_mean_squared_error',\n",
    "#                      param_grid = rfr_parameters,\n",
    "#                      cv=3,\n",
    "#                      verbose=False\n",
    "#                     )\n",
    "#\n",
    "#rfr_grid.fit(X_train, y_train['nutrition-score-fr_100g'])"
   ]
  },
  {
   "cell_type": "code",
   "execution_count": 29,
   "id": "6144f1d7",
   "metadata": {},
   "outputs": [],
   "source": [
    "#rfr_best_params_ = rfr_grid.best_params_\n",
    "#rfr_best_params_"
   ]
  },
  {
   "cell_type": "code",
   "execution_count": 30,
   "id": "b4aad450",
   "metadata": {},
   "outputs": [],
   "source": [
    "#rfr_opt = rfr_grid.best_estimator_"
   ]
  },
  {
   "cell_type": "code",
   "execution_count": 31,
   "id": "d37bd5fd",
   "metadata": {},
   "outputs": [],
   "source": [
    "#rfr_opt_rmse = math.sqrt(mean_squared_error(rfr_opt.predict(X_test), y_test['nutrition-score-fr_100g']))\n",
    "#rfr_opt_r2 = r2_score(rfr_opt.predict(X_test), y_test['nutrition-score-fr_100g'])\n",
    "\n",
    "#results = results.append({\n",
    "#  'Model':'Random Forest Hypt',\n",
    "#  'RMSE':rfr_opt_rmse,\n",
    "#  'R2':rfr_opt_r2,\n",
    "#  'Adj R2':1-((1-rfr_opt_r2)*(n-1)/(n-p-1))\n",
    "#},ignore_index=True)\n",
    "\n",
    "#results"
   ]
  },
  {
   "cell_type": "markdown",
   "id": "750f42fd",
   "metadata": {},
   "source": [
    "<h3> Exporting the pipeline of model"
   ]
  },
  {
   "cell_type": "code",
   "execution_count": 32,
   "id": "abc98992",
   "metadata": {},
   "outputs": [],
   "source": [
    "from sklearn.pipeline import Pipeline\n",
    "import pickle"
   ]
  },
  {
   "cell_type": "code",
   "execution_count": 33,
   "id": "1f012904",
   "metadata": {},
   "outputs": [],
   "source": [
    "pipeline = Pipeline([\n",
    "    ('standard_scaler', scaler), \n",
    "    ('model', rfc)\n",
    "])"
   ]
  },
  {
   "cell_type": "code",
   "execution_count": 34,
   "id": "6c42e9ff",
   "metadata": {},
   "outputs": [],
   "source": [
    "with open('/Users/efkanturedi/Corteze/untitled folder/model.pickle', 'wb') as model_file:\n",
    "  pickle.dump(pipeline, model_file)"
   ]
  },
  {
   "cell_type": "code",
   "execution_count": null,
   "id": "4e924d33",
   "metadata": {},
   "outputs": [],
   "source": []
  }
 ],
 "metadata": {
  "interpreter": {
   "hash": "c80bebe576033db75d8dfea49b7078c98f433ef61acd6e7e4314698c3ef807ee"
  },
  "kernelspec": {
   "display_name": "conda_amazonei_tensorflow_p36",
   "language": "python",
   "name": "python3"
  },
  "language_info": {
   "codemirror_mode": {
    "name": "ipython",
    "version": 3
   },
   "file_extension": ".py",
   "mimetype": "text/x-python",
   "name": "python",
   "nbconvert_exporter": "python",
   "pygments_lexer": "ipython3",
   "version": "3.7.11"
  }
 },
 "nbformat": 4,
 "nbformat_minor": 5
}
