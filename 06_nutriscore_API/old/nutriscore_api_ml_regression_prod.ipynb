{
 "cells": [
  {
   "cell_type": "markdown",
   "id": "f072d9ff",
   "metadata": {},
   "source": [
    "<h1> Machine Learning Notebook"
   ]
  },
  {
   "cell_type": "code",
   "execution_count": 1,
   "id": "e18697c5",
   "metadata": {},
   "outputs": [],
   "source": [
    "import pandas as pd\n",
    "import numpy as np\n",
    "import seaborn as sns\n",
    "import matplotlib.pyplot as plt\n",
    "from utils import *\n",
    "\n",
    "from sklearn.model_selection import train_test_split, GridSearchCV\n",
    "from sklearn.preprocessing import StandardScaler"
   ]
  },
  {
   "cell_type": "code",
   "execution_count": 2,
   "id": "239ecdbc",
   "metadata": {},
   "outputs": [
    {
     "name": "stderr",
     "output_type": "stream",
     "text": [
      "/Users/efkanturedi/opt/anaconda3/envs/py37/lib/python3.7/site-packages/IPython/core/interactiveshell.py:3444: DtypeWarning: Columns (0) have mixed types.Specify dtype option on import or set low_memory=False.\n",
      "  exec(code_obj, self.user_global_ns, self.user_ns)\n"
     ]
    }
   ],
   "source": [
    "filepath = '/Users/efkanturedi/Corteze/untitled folder/nutri_clean_prod.csv'\n",
    "data = pd.read_csv(filepath)"
   ]
  },
  {
   "cell_type": "code",
   "execution_count": 3,
   "id": "a819e084",
   "metadata": {},
   "outputs": [
    {
     "data": {
      "text/html": [
       "<div>\n",
       "<style scoped>\n",
       "    .dataframe tbody tr th:only-of-type {\n",
       "        vertical-align: middle;\n",
       "    }\n",
       "\n",
       "    .dataframe tbody tr th {\n",
       "        vertical-align: top;\n",
       "    }\n",
       "\n",
       "    .dataframe thead th {\n",
       "        text-align: right;\n",
       "    }\n",
       "</style>\n",
       "<table border=\"1\" class=\"dataframe\">\n",
       "  <thead>\n",
       "    <tr style=\"text-align: right;\">\n",
       "      <th></th>\n",
       "      <th>code</th>\n",
       "      <th>product_name</th>\n",
       "      <th>brands</th>\n",
       "      <th>nutriscore_grade</th>\n",
       "      <th>pnns_groups_1</th>\n",
       "      <th>energy-kcal_100g</th>\n",
       "      <th>fat_100g</th>\n",
       "      <th>saturated-fat_100g</th>\n",
       "      <th>carbohydrates_100g</th>\n",
       "      <th>sugars_100g</th>\n",
       "      <th>fiber_100g</th>\n",
       "      <th>proteins_100g</th>\n",
       "      <th>salt_100g</th>\n",
       "      <th>nutrition-score-fr_100g</th>\n",
       "    </tr>\n",
       "  </thead>\n",
       "  <tbody>\n",
       "    <tr>\n",
       "      <th>0</th>\n",
       "      <td>0000000000100</td>\n",
       "      <td>moutarde au moût de raisin</td>\n",
       "      <td>courte paille</td>\n",
       "      <td>d</td>\n",
       "      <td>Fat and sauces</td>\n",
       "      <td>1000.0</td>\n",
       "      <td>8.2</td>\n",
       "      <td>2.2</td>\n",
       "      <td>29.0</td>\n",
       "      <td>22.0</td>\n",
       "      <td>0.0</td>\n",
       "      <td>5.1</td>\n",
       "      <td>4.60</td>\n",
       "      <td>18.0</td>\n",
       "    </tr>\n",
       "    <tr>\n",
       "      <th>1</th>\n",
       "      <td>0000000000949</td>\n",
       "      <td>Salade de carottes râpées</td>\n",
       "      <td>NaN</td>\n",
       "      <td>b</td>\n",
       "      <td>Composite foods</td>\n",
       "      <td>32.0</td>\n",
       "      <td>0.3</td>\n",
       "      <td>0.1</td>\n",
       "      <td>5.3</td>\n",
       "      <td>3.9</td>\n",
       "      <td>100.0</td>\n",
       "      <td>0.9</td>\n",
       "      <td>0.42</td>\n",
       "      <td>1.0</td>\n",
       "    </tr>\n",
       "    <tr>\n",
       "      <th>2</th>\n",
       "      <td>0000000001281</td>\n",
       "      <td>Tarte noix de coco</td>\n",
       "      <td>Crous Resto',Crous</td>\n",
       "      <td>d</td>\n",
       "      <td>Sugary snacks</td>\n",
       "      <td>381.0</td>\n",
       "      <td>22.0</td>\n",
       "      <td>15.5</td>\n",
       "      <td>27.3</td>\n",
       "      <td>21.9</td>\n",
       "      <td>4.4</td>\n",
       "      <td>4.6</td>\n",
       "      <td>0.10</td>\n",
       "      <td>14.0</td>\n",
       "    </tr>\n",
       "    <tr>\n",
       "      <th>3</th>\n",
       "      <td>0000000001885</td>\n",
       "      <td>Compote de poire</td>\n",
       "      <td>Crous</td>\n",
       "      <td>a</td>\n",
       "      <td>Fruits and vegetables</td>\n",
       "      <td>157.0</td>\n",
       "      <td>0.0</td>\n",
       "      <td>0.0</td>\n",
       "      <td>36.0</td>\n",
       "      <td>27.0</td>\n",
       "      <td>3.6</td>\n",
       "      <td>0.6</td>\n",
       "      <td>0.00</td>\n",
       "      <td>-2.0</td>\n",
       "    </tr>\n",
       "    <tr>\n",
       "      <th>4</th>\n",
       "      <td>0000000002257</td>\n",
       "      <td>Salade de macedoine de légumes</td>\n",
       "      <td>NaN</td>\n",
       "      <td>b</td>\n",
       "      <td>Composite foods</td>\n",
       "      <td>143.0</td>\n",
       "      <td>12.7</td>\n",
       "      <td>1.0</td>\n",
       "      <td>3.9</td>\n",
       "      <td>1.0</td>\n",
       "      <td>100.0</td>\n",
       "      <td>1.9</td>\n",
       "      <td>0.27</td>\n",
       "      <td>1.0</td>\n",
       "    </tr>\n",
       "    <tr>\n",
       "      <th>...</th>\n",
       "      <td>...</td>\n",
       "      <td>...</td>\n",
       "      <td>...</td>\n",
       "      <td>...</td>\n",
       "      <td>...</td>\n",
       "      <td>...</td>\n",
       "      <td>...</td>\n",
       "      <td>...</td>\n",
       "      <td>...</td>\n",
       "      <td>...</td>\n",
       "      <td>...</td>\n",
       "      <td>...</td>\n",
       "      <td>...</td>\n",
       "      <td>...</td>\n",
       "    </tr>\n",
       "    <tr>\n",
       "      <th>731716</th>\n",
       "      <td>9999991042742</td>\n",
       "      <td>Mousse au chocolat noir</td>\n",
       "      <td>NaN</td>\n",
       "      <td>d</td>\n",
       "      <td>unknown</td>\n",
       "      <td>346.0</td>\n",
       "      <td>27.0</td>\n",
       "      <td>17.0</td>\n",
       "      <td>19.0</td>\n",
       "      <td>18.0</td>\n",
       "      <td>100.0</td>\n",
       "      <td>6.0</td>\n",
       "      <td>0.19</td>\n",
       "      <td>17.0</td>\n",
       "    </tr>\n",
       "    <tr>\n",
       "      <th>731717</th>\n",
       "      <td>9999991149090</td>\n",
       "      <td>Riz parfumé</td>\n",
       "      <td>King Elephant</td>\n",
       "      <td>b</td>\n",
       "      <td>Cereals and potatoes</td>\n",
       "      <td>351.0</td>\n",
       "      <td>0.5</td>\n",
       "      <td>0.0</td>\n",
       "      <td>80.0</td>\n",
       "      <td>0.0</td>\n",
       "      <td>100.0</td>\n",
       "      <td>7.0</td>\n",
       "      <td>0.00</td>\n",
       "      <td>0.0</td>\n",
       "    </tr>\n",
       "    <tr>\n",
       "      <th>731718</th>\n",
       "      <td>9999999004360</td>\n",
       "      <td>Minis beignets</td>\n",
       "      <td>NaN</td>\n",
       "      <td>d</td>\n",
       "      <td>unknown</td>\n",
       "      <td>333.0</td>\n",
       "      <td>20.2</td>\n",
       "      <td>6.0</td>\n",
       "      <td>30.9</td>\n",
       "      <td>10.4</td>\n",
       "      <td>100.0</td>\n",
       "      <td>7.4</td>\n",
       "      <td>1.10</td>\n",
       "      <td>15.0</td>\n",
       "    </tr>\n",
       "    <tr>\n",
       "      <th>731719</th>\n",
       "      <td>9999999175305</td>\n",
       "      <td>Erdbeerkuchen 1019g tiefgefroren</td>\n",
       "      <td>Coppenrath &amp; Wiese</td>\n",
       "      <td>d</td>\n",
       "      <td>Sugary snacks</td>\n",
       "      <td>1000.0</td>\n",
       "      <td>7.6</td>\n",
       "      <td>4.8</td>\n",
       "      <td>35.0</td>\n",
       "      <td>24.0</td>\n",
       "      <td>100.0</td>\n",
       "      <td>2.6</td>\n",
       "      <td>0.28</td>\n",
       "      <td>12.0</td>\n",
       "    </tr>\n",
       "    <tr>\n",
       "      <th>731720</th>\n",
       "      <td>99999995</td>\n",
       "      <td>Faux filet</td>\n",
       "      <td>NaN</td>\n",
       "      <td>a</td>\n",
       "      <td>Fish Meat Eggs</td>\n",
       "      <td>131.0</td>\n",
       "      <td>5.0</td>\n",
       "      <td>2.3</td>\n",
       "      <td>0.0</td>\n",
       "      <td>0.0</td>\n",
       "      <td>100.0</td>\n",
       "      <td>21.5</td>\n",
       "      <td>0.18</td>\n",
       "      <td>-2.0</td>\n",
       "    </tr>\n",
       "  </tbody>\n",
       "</table>\n",
       "<p>731721 rows × 14 columns</p>\n",
       "</div>"
      ],
      "text/plain": [
       "                 code                      product_name              brands  \\\n",
       "0       0000000000100       moutarde au moût de raisin        courte paille   \n",
       "1       0000000000949         Salade de carottes râpées                 NaN   \n",
       "2       0000000001281                Tarte noix de coco  Crous Resto',Crous   \n",
       "3       0000000001885                  Compote de poire               Crous   \n",
       "4       0000000002257    Salade de macedoine de légumes                 NaN   \n",
       "...               ...                               ...                 ...   \n",
       "731716  9999991042742           Mousse au chocolat noir                 NaN   \n",
       "731717  9999991149090                       Riz parfumé       King Elephant   \n",
       "731718  9999999004360                    Minis beignets                 NaN   \n",
       "731719  9999999175305  Erdbeerkuchen 1019g tiefgefroren  Coppenrath & Wiese   \n",
       "731720       99999995                        Faux filet                 NaN   \n",
       "\n",
       "       nutriscore_grade          pnns_groups_1  energy-kcal_100g  fat_100g  \\\n",
       "0                     d         Fat and sauces            1000.0       8.2   \n",
       "1                     b        Composite foods              32.0       0.3   \n",
       "2                     d          Sugary snacks             381.0      22.0   \n",
       "3                     a  Fruits and vegetables             157.0       0.0   \n",
       "4                     b        Composite foods             143.0      12.7   \n",
       "...                 ...                    ...               ...       ...   \n",
       "731716                d                unknown             346.0      27.0   \n",
       "731717                b   Cereals and potatoes             351.0       0.5   \n",
       "731718                d                unknown             333.0      20.2   \n",
       "731719                d          Sugary snacks            1000.0       7.6   \n",
       "731720                a         Fish Meat Eggs             131.0       5.0   \n",
       "\n",
       "        saturated-fat_100g  carbohydrates_100g  sugars_100g  fiber_100g  \\\n",
       "0                      2.2                29.0         22.0         0.0   \n",
       "1                      0.1                 5.3          3.9       100.0   \n",
       "2                     15.5                27.3         21.9         4.4   \n",
       "3                      0.0                36.0         27.0         3.6   \n",
       "4                      1.0                 3.9          1.0       100.0   \n",
       "...                    ...                 ...          ...         ...   \n",
       "731716                17.0                19.0         18.0       100.0   \n",
       "731717                 0.0                80.0          0.0       100.0   \n",
       "731718                 6.0                30.9         10.4       100.0   \n",
       "731719                 4.8                35.0         24.0       100.0   \n",
       "731720                 2.3                 0.0          0.0       100.0   \n",
       "\n",
       "        proteins_100g  salt_100g  nutrition-score-fr_100g  \n",
       "0                 5.1       4.60                     18.0  \n",
       "1                 0.9       0.42                      1.0  \n",
       "2                 4.6       0.10                     14.0  \n",
       "3                 0.6       0.00                     -2.0  \n",
       "4                 1.9       0.27                      1.0  \n",
       "...               ...        ...                      ...  \n",
       "731716            6.0       0.19                     17.0  \n",
       "731717            7.0       0.00                      0.0  \n",
       "731718            7.4       1.10                     15.0  \n",
       "731719            2.6       0.28                     12.0  \n",
       "731720           21.5       0.18                     -2.0  \n",
       "\n",
       "[731721 rows x 14 columns]"
      ]
     },
     "execution_count": 3,
     "metadata": {},
     "output_type": "execute_result"
    }
   ],
   "source": [
    "data"
   ]
  },
  {
   "cell_type": "code",
   "execution_count": 4,
   "id": "aa93c374",
   "metadata": {},
   "outputs": [],
   "source": [
    "# Revove comment if you want to use only a sample of the dataset\n",
    "\n",
    "#data = data.sample(n=200000,random_state=42)"
   ]
  },
  {
   "cell_type": "code",
   "execution_count": 5,
   "id": "5abba828",
   "metadata": {},
   "outputs": [],
   "source": [
    "# We add the code to use it as primary key\n",
    "X_cols = [\n",
    "  'energy-kcal_100g',\n",
    "  #'fat_100g',\n",
    "  'saturated-fat_100g',\n",
    "  #'carbohydrates_100g',\n",
    "  'sugars_100g',\n",
    "  'fiber_100g',\n",
    "  'proteins_100g',\n",
    "  'salt_100g',\n",
    "]"
   ]
  },
  {
   "cell_type": "code",
   "execution_count": 6,
   "id": "5df00a77",
   "metadata": {},
   "outputs": [],
   "source": [
    "X = data[X_cols].reset_index(drop=True)\n",
    "y = data[[\n",
    "  'nutrition-score-fr_100g',\n",
    "  'nutriscore_grade'\n",
    "]].reset_index(drop=True)"
   ]
  },
  {
   "cell_type": "code",
   "execution_count": 7,
   "id": "7c4d5bb3",
   "metadata": {},
   "outputs": [
    {
     "data": {
      "text/html": [
       "<div>\n",
       "<style scoped>\n",
       "    .dataframe tbody tr th:only-of-type {\n",
       "        vertical-align: middle;\n",
       "    }\n",
       "\n",
       "    .dataframe tbody tr th {\n",
       "        vertical-align: top;\n",
       "    }\n",
       "\n",
       "    .dataframe thead th {\n",
       "        text-align: right;\n",
       "    }\n",
       "</style>\n",
       "<table border=\"1\" class=\"dataframe\">\n",
       "  <thead>\n",
       "    <tr style=\"text-align: right;\">\n",
       "      <th></th>\n",
       "      <th>nutrition-score-fr_100g</th>\n",
       "      <th>nutriscore_grade</th>\n",
       "    </tr>\n",
       "  </thead>\n",
       "  <tbody>\n",
       "    <tr>\n",
       "      <th>0</th>\n",
       "      <td>18.0</td>\n",
       "      <td>d</td>\n",
       "    </tr>\n",
       "    <tr>\n",
       "      <th>1</th>\n",
       "      <td>1.0</td>\n",
       "      <td>b</td>\n",
       "    </tr>\n",
       "    <tr>\n",
       "      <th>2</th>\n",
       "      <td>14.0</td>\n",
       "      <td>d</td>\n",
       "    </tr>\n",
       "    <tr>\n",
       "      <th>3</th>\n",
       "      <td>-2.0</td>\n",
       "      <td>a</td>\n",
       "    </tr>\n",
       "    <tr>\n",
       "      <th>4</th>\n",
       "      <td>1.0</td>\n",
       "      <td>b</td>\n",
       "    </tr>\n",
       "    <tr>\n",
       "      <th>...</th>\n",
       "      <td>...</td>\n",
       "      <td>...</td>\n",
       "    </tr>\n",
       "    <tr>\n",
       "      <th>731716</th>\n",
       "      <td>17.0</td>\n",
       "      <td>d</td>\n",
       "    </tr>\n",
       "    <tr>\n",
       "      <th>731717</th>\n",
       "      <td>0.0</td>\n",
       "      <td>b</td>\n",
       "    </tr>\n",
       "    <tr>\n",
       "      <th>731718</th>\n",
       "      <td>15.0</td>\n",
       "      <td>d</td>\n",
       "    </tr>\n",
       "    <tr>\n",
       "      <th>731719</th>\n",
       "      <td>12.0</td>\n",
       "      <td>d</td>\n",
       "    </tr>\n",
       "    <tr>\n",
       "      <th>731720</th>\n",
       "      <td>-2.0</td>\n",
       "      <td>a</td>\n",
       "    </tr>\n",
       "  </tbody>\n",
       "</table>\n",
       "<p>731721 rows × 2 columns</p>\n",
       "</div>"
      ],
      "text/plain": [
       "        nutrition-score-fr_100g nutriscore_grade\n",
       "0                          18.0                d\n",
       "1                           1.0                b\n",
       "2                          14.0                d\n",
       "3                          -2.0                a\n",
       "4                           1.0                b\n",
       "...                         ...              ...\n",
       "731716                     17.0                d\n",
       "731717                      0.0                b\n",
       "731718                     15.0                d\n",
       "731719                     12.0                d\n",
       "731720                     -2.0                a\n",
       "\n",
       "[731721 rows x 2 columns]"
      ]
     },
     "execution_count": 7,
     "metadata": {},
     "output_type": "execute_result"
    }
   ],
   "source": [
    "y"
   ]
  },
  {
   "cell_type": "markdown",
   "id": "868a4b44",
   "metadata": {},
   "source": [
    "<h3> Some Plots"
   ]
  },
  {
   "cell_type": "code",
   "execution_count": 8,
   "id": "1fbbe2a6",
   "metadata": {},
   "outputs": [
    {
     "data": {
      "image/png": "[encoded data removed]",
      "text/plain": [
       "<Figure size 360x360 with 1 Axes>"
      ]
     },
     "metadata": {
      "needs_background": "light"
     },
     "output_type": "display_data"
    }
   ],
   "source": [
    "sns.displot(y['nutrition-score-fr_100g']);"
   ]
  },
  {
   "cell_type": "markdown",
   "id": "957d1441",
   "metadata": {},
   "source": [
    "<h3> Standardising & Normalizing the data"
   ]
  },
  {
   "cell_type": "code",
   "execution_count": 9,
   "id": "929af7fc",
   "metadata": {},
   "outputs": [],
   "source": [
    "# Creating Training and Test set\n",
    "X_train, X_test, y_train, y_test = train_test_split(X,y,train_size=0.8)\n",
    "\n",
    "# Creating Validation set\n",
    "# X_train, y_train, X_val, y_val = train_test_split(X_train, y_train, train_size=0.9)"
   ]
  },
  {
   "cell_type": "code",
   "execution_count": 10,
   "id": "214f65cb",
   "metadata": {},
   "outputs": [
    {
     "data": {
      "text/html": [
       "<div>\n",
       "<style scoped>\n",
       "    .dataframe tbody tr th:only-of-type {\n",
       "        vertical-align: middle;\n",
       "    }\n",
       "\n",
       "    .dataframe tbody tr th {\n",
       "        vertical-align: top;\n",
       "    }\n",
       "\n",
       "    .dataframe thead th {\n",
       "        text-align: right;\n",
       "    }\n",
       "</style>\n",
       "<table border=\"1\" class=\"dataframe\">\n",
       "  <thead>\n",
       "    <tr style=\"text-align: right;\">\n",
       "      <th></th>\n",
       "      <th>energy-kcal_100g</th>\n",
       "      <th>saturated-fat_100g</th>\n",
       "      <th>sugars_100g</th>\n",
       "      <th>fiber_100g</th>\n",
       "      <th>proteins_100g</th>\n",
       "      <th>salt_100g</th>\n",
       "    </tr>\n",
       "  </thead>\n",
       "  <tbody>\n",
       "    <tr>\n",
       "      <th>195736</th>\n",
       "      <td>0.0</td>\n",
       "      <td>0.0</td>\n",
       "      <td>0.00</td>\n",
       "      <td>100.0</td>\n",
       "      <td>0.00</td>\n",
       "      <td>100.000</td>\n",
       "    </tr>\n",
       "    <tr>\n",
       "      <th>716924</th>\n",
       "      <td>48.0</td>\n",
       "      <td>0.2</td>\n",
       "      <td>2.10</td>\n",
       "      <td>0.9</td>\n",
       "      <td>0.70</td>\n",
       "      <td>0.660</td>\n",
       "    </tr>\n",
       "    <tr>\n",
       "      <th>89674</th>\n",
       "      <td>333.0</td>\n",
       "      <td>0.0</td>\n",
       "      <td>56.41</td>\n",
       "      <td>0.0</td>\n",
       "      <td>0.00</td>\n",
       "      <td>0.000</td>\n",
       "    </tr>\n",
       "    <tr>\n",
       "      <th>583325</th>\n",
       "      <td>288.0</td>\n",
       "      <td>0.8</td>\n",
       "      <td>2.00</td>\n",
       "      <td>5.4</td>\n",
       "      <td>11.00</td>\n",
       "      <td>1.200</td>\n",
       "    </tr>\n",
       "    <tr>\n",
       "      <th>441546</th>\n",
       "      <td>46.0</td>\n",
       "      <td>1.0</td>\n",
       "      <td>4.80</td>\n",
       "      <td>100.0</td>\n",
       "      <td>3.20</td>\n",
       "      <td>0.100</td>\n",
       "    </tr>\n",
       "    <tr>\n",
       "      <th>...</th>\n",
       "      <td>...</td>\n",
       "      <td>...</td>\n",
       "      <td>...</td>\n",
       "      <td>...</td>\n",
       "      <td>...</td>\n",
       "      <td>...</td>\n",
       "    </tr>\n",
       "    <tr>\n",
       "      <th>598572</th>\n",
       "      <td>1000.0</td>\n",
       "      <td>0.0</td>\n",
       "      <td>15.30</td>\n",
       "      <td>0.0</td>\n",
       "      <td>1.52</td>\n",
       "      <td>0.053</td>\n",
       "    </tr>\n",
       "    <tr>\n",
       "      <th>482408</th>\n",
       "      <td>620.0</td>\n",
       "      <td>32.0</td>\n",
       "      <td>1.00</td>\n",
       "      <td>14.0</td>\n",
       "      <td>14.00</td>\n",
       "      <td>0.000</td>\n",
       "    </tr>\n",
       "    <tr>\n",
       "      <th>292297</th>\n",
       "      <td>150.0</td>\n",
       "      <td>3.0</td>\n",
       "      <td>0.50</td>\n",
       "      <td>100.0</td>\n",
       "      <td>21.00</td>\n",
       "      <td>0.110</td>\n",
       "    </tr>\n",
       "    <tr>\n",
       "      <th>655690</th>\n",
       "      <td>915.0</td>\n",
       "      <td>1.3</td>\n",
       "      <td>43.80</td>\n",
       "      <td>100.0</td>\n",
       "      <td>0.60</td>\n",
       "      <td>0.000</td>\n",
       "    </tr>\n",
       "    <tr>\n",
       "      <th>632460</th>\n",
       "      <td>293.0</td>\n",
       "      <td>11.0</td>\n",
       "      <td>24.00</td>\n",
       "      <td>100.0</td>\n",
       "      <td>4.20</td>\n",
       "      <td>0.250</td>\n",
       "    </tr>\n",
       "  </tbody>\n",
       "</table>\n",
       "<p>146345 rows × 6 columns</p>\n",
       "</div>"
      ],
      "text/plain": [
       "        energy-kcal_100g  saturated-fat_100g  sugars_100g  fiber_100g  \\\n",
       "195736               0.0                 0.0         0.00       100.0   \n",
       "716924              48.0                 0.2         2.10         0.9   \n",
       "89674              333.0                 0.0        56.41         0.0   \n",
       "583325             288.0                 0.8         2.00         5.4   \n",
       "441546              46.0                 1.0         4.80       100.0   \n",
       "...                  ...                 ...          ...         ...   \n",
       "598572            1000.0                 0.0        15.30         0.0   \n",
       "482408             620.0                32.0         1.00        14.0   \n",
       "292297             150.0                 3.0         0.50       100.0   \n",
       "655690             915.0                 1.3        43.80       100.0   \n",
       "632460             293.0                11.0        24.00       100.0   \n",
       "\n",
       "        proteins_100g  salt_100g  \n",
       "195736           0.00    100.000  \n",
       "716924           0.70      0.660  \n",
       "89674            0.00      0.000  \n",
       "583325          11.00      1.200  \n",
       "441546           3.20      0.100  \n",
       "...               ...        ...  \n",
       "598572           1.52      0.053  \n",
       "482408          14.00      0.000  \n",
       "292297          21.00      0.110  \n",
       "655690           0.60      0.000  \n",
       "632460           4.20      0.250  \n",
       "\n",
       "[146345 rows x 6 columns]"
      ]
     },
     "execution_count": 10,
     "metadata": {},
     "output_type": "execute_result"
    }
   ],
   "source": [
    "X_test"
   ]
  },
  {
   "cell_type": "code",
   "execution_count": 11,
   "id": "d6d0d9ae",
   "metadata": {},
   "outputs": [],
   "source": [
    "scaler = StandardScaler()\n",
    "X_train = scaler.fit_transform(X_train)\n",
    "X_test = scaler.transform(X_test)"
   ]
  },
  {
   "cell_type": "markdown",
   "id": "297c1903",
   "metadata": {},
   "source": [
    "<h3> Running the models"
   ]
  },
  {
   "cell_type": "code",
   "execution_count": 12,
   "id": "19482dcb",
   "metadata": {},
   "outputs": [],
   "source": [
    "import math\n",
    "from sklearn.dummy import DummyRegressor\n",
    "from sklearn.linear_model import ElasticNetCV\n",
    "from sklearn.ensemble import RandomForestRegressor\n",
    "from xgboost import XGBRegressor\n",
    "\n",
    "from sklearn.metrics import mean_squared_error, r2_score"
   ]
  },
  {
   "cell_type": "markdown",
   "id": "5c16490f",
   "metadata": {},
   "source": [
    "<h5> Dummy regressor"
   ]
  },
  {
   "cell_type": "code",
   "execution_count": 13,
   "id": "d584b3dd",
   "metadata": {},
   "outputs": [],
   "source": [
    "results = pd.DataFrame(columns=['Model','RMSE','R2','Adj R2'])\n",
    "n = X_test.shape[0]\n",
    "p = y_test.shape[1]-1"
   ]
  },
  {
   "cell_type": "code",
   "execution_count": 14,
   "id": "fb18791b",
   "metadata": {},
   "outputs": [
    {
     "data": {
      "text/plain": [
       "DummyRegressor()"
      ]
     },
     "execution_count": 14,
     "metadata": {},
     "output_type": "execute_result"
    }
   ],
   "source": [
    "dummy_reg = DummyRegressor(strategy=\"mean\")\n",
    "dummy_reg.fit(X_train,y_train['nutrition-score-fr_100g'])"
   ]
  },
  {
   "cell_type": "code",
   "execution_count": 15,
   "id": "00e3c933",
   "metadata": {},
   "outputs": [],
   "source": [
    "dummy_rmse = math.sqrt(mean_squared_error(dummy_reg.predict(X_test), y_test['nutrition-score-fr_100g']))\n",
    "dummy_r2 = r2_score(dummy_reg.predict(X_test), y_test['nutrition-score-fr_100g'])"
   ]
  },
  {
   "cell_type": "code",
   "execution_count": 16,
   "id": "c31004fa",
   "metadata": {},
   "outputs": [
    {
     "data": {
      "text/html": [
       "<div>\n",
       "<style scoped>\n",
       "    .dataframe tbody tr th:only-of-type {\n",
       "        vertical-align: middle;\n",
       "    }\n",
       "\n",
       "    .dataframe tbody tr th {\n",
       "        vertical-align: top;\n",
       "    }\n",
       "\n",
       "    .dataframe thead th {\n",
       "        text-align: right;\n",
       "    }\n",
       "</style>\n",
       "<table border=\"1\" class=\"dataframe\">\n",
       "  <thead>\n",
       "    <tr style=\"text-align: right;\">\n",
       "      <th></th>\n",
       "      <th>Model</th>\n",
       "      <th>RMSE</th>\n",
       "      <th>R2</th>\n",
       "      <th>Adj R2</th>\n",
       "    </tr>\n",
       "  </thead>\n",
       "  <tbody>\n",
       "    <tr>\n",
       "      <th>0</th>\n",
       "      <td>DummyRegressor</td>\n",
       "      <td>8.859702</td>\n",
       "      <td>-2.763983e+30</td>\n",
       "      <td>-2.764002e+30</td>\n",
       "    </tr>\n",
       "  </tbody>\n",
       "</table>\n",
       "</div>"
      ],
      "text/plain": [
       "            Model      RMSE            R2        Adj R2\n",
       "0  DummyRegressor  8.859702 -2.763983e+30 -2.764002e+30"
      ]
     },
     "execution_count": 16,
     "metadata": {},
     "output_type": "execute_result"
    }
   ],
   "source": [
    "results = results.append({\n",
    "  'Model':'DummyRegressor',\n",
    "  'RMSE':dummy_rmse,\n",
    "  'R2': dummy_r2,\n",
    "  'Adj R2':1-((1-dummy_r2)*(n-1)/(n-p-1))\n",
    "},ignore_index=True)\n",
    "\n",
    "results"
   ]
  },
  {
   "cell_type": "markdown",
   "id": "685c13d5",
   "metadata": {},
   "source": [
    "<h5> Linear Model"
   ]
  },
  {
   "cell_type": "code",
   "execution_count": 17,
   "id": "516cd3a8",
   "metadata": {},
   "outputs": [
    {
     "data": {
      "text/plain": [
       "ElasticNetCV()"
      ]
     },
     "execution_count": 17,
     "metadata": {},
     "output_type": "execute_result"
    }
   ],
   "source": [
    "elastic_net = ElasticNetCV()\n",
    "elastic_net.fit(X_train,y_train['nutrition-score-fr_100g'])"
   ]
  },
  {
   "cell_type": "code",
   "execution_count": 18,
   "id": "2310473c",
   "metadata": {},
   "outputs": [],
   "source": [
    "elastic_net_rmse = math.sqrt(mean_squared_error(elastic_net.predict(X_test), y_test['nutrition-score-fr_100g']))\n",
    "elastic_net_r2 = r2_score(elastic_net.predict(X_test), y_test['nutrition-score-fr_100g'])"
   ]
  },
  {
   "cell_type": "code",
   "execution_count": 19,
   "id": "94a8f1d6",
   "metadata": {},
   "outputs": [
    {
     "data": {
      "text/html": [
       "<div>\n",
       "<style scoped>\n",
       "    .dataframe tbody tr th:only-of-type {\n",
       "        vertical-align: middle;\n",
       "    }\n",
       "\n",
       "    .dataframe tbody tr th {\n",
       "        vertical-align: top;\n",
       "    }\n",
       "\n",
       "    .dataframe thead th {\n",
       "        text-align: right;\n",
       "    }\n",
       "</style>\n",
       "<table border=\"1\" class=\"dataframe\">\n",
       "  <thead>\n",
       "    <tr style=\"text-align: right;\">\n",
       "      <th></th>\n",
       "      <th>Model</th>\n",
       "      <th>RMSE</th>\n",
       "      <th>R2</th>\n",
       "      <th>Adj R2</th>\n",
       "    </tr>\n",
       "  </thead>\n",
       "  <tbody>\n",
       "    <tr>\n",
       "      <th>0</th>\n",
       "      <td>DummyRegressor</td>\n",
       "      <td>8.859702</td>\n",
       "      <td>-2.763983e+30</td>\n",
       "      <td>-2.764002e+30</td>\n",
       "    </tr>\n",
       "    <tr>\n",
       "      <th>1</th>\n",
       "      <td>Elastic Net</td>\n",
       "      <td>7.082510</td>\n",
       "      <td>-7.710230e-01</td>\n",
       "      <td>-7.710351e-01</td>\n",
       "    </tr>\n",
       "  </tbody>\n",
       "</table>\n",
       "</div>"
      ],
      "text/plain": [
       "            Model      RMSE            R2        Adj R2\n",
       "0  DummyRegressor  8.859702 -2.763983e+30 -2.764002e+30\n",
       "1     Elastic Net  7.082510 -7.710230e-01 -7.710351e-01"
      ]
     },
     "execution_count": 19,
     "metadata": {},
     "output_type": "execute_result"
    }
   ],
   "source": [
    "results = results.append({\n",
    "  'Model':'Elastic Net',\n",
    "  'RMSE':elastic_net_rmse,\n",
    "  'R2':elastic_net_r2,\n",
    "  'Adj R2' : 1-((1-elastic_net_r2)*(n-1)/(n-p-1))\n",
    "},ignore_index=True)\n",
    "\n",
    "results"
   ]
  },
  {
   "cell_type": "markdown",
   "id": "685c13d5",
   "metadata": {},
   "source": [
    "<h5> Random Forest"
   ]
  },
  {
   "cell_type": "code",
   "execution_count": 20,
   "id": "136fede4",
   "metadata": {},
   "outputs": [
    {
     "data": {
      "text/plain": [
       "RandomForestRegressor(n_jobs=-1)"
      ]
     },
     "execution_count": 20,
     "metadata": {},
     "output_type": "execute_result"
    }
   ],
   "source": [
    "rfr = RandomForestRegressor(n_jobs=-1)\n",
    "rfr.fit(X_train,y_train['nutrition-score-fr_100g'])"
   ]
  },
  {
   "cell_type": "code",
   "execution_count": 21,
   "id": "f11a64f1",
   "metadata": {},
   "outputs": [],
   "source": [
    "rfr_rmse = math.sqrt(mean_squared_error(rfr.predict(X_test), y_test['nutrition-score-fr_100g']))\n",
    "rfr_r2 = r2_score(rfr.predict(X_test), y_test['nutrition-score-fr_100g'])"
   ]
  },
  {
   "cell_type": "code",
   "execution_count": 22,
   "id": "585920ce",
   "metadata": {},
   "outputs": [
    {
     "data": {
      "text/html": [
       "<div>\n",
       "<style scoped>\n",
       "    .dataframe tbody tr th:only-of-type {\n",
       "        vertical-align: middle;\n",
       "    }\n",
       "\n",
       "    .dataframe tbody tr th {\n",
       "        vertical-align: top;\n",
       "    }\n",
       "\n",
       "    .dataframe thead th {\n",
       "        text-align: right;\n",
       "    }\n",
       "</style>\n",
       "<table border=\"1\" class=\"dataframe\">\n",
       "  <thead>\n",
       "    <tr style=\"text-align: right;\">\n",
       "      <th></th>\n",
       "      <th>Model</th>\n",
       "      <th>RMSE</th>\n",
       "      <th>R2</th>\n",
       "      <th>Adj R2</th>\n",
       "    </tr>\n",
       "  </thead>\n",
       "  <tbody>\n",
       "    <tr>\n",
       "      <th>0</th>\n",
       "      <td>DummyRegressor</td>\n",
       "      <td>8.859702</td>\n",
       "      <td>-2.763983e+30</td>\n",
       "      <td>-2.764002e+30</td>\n",
       "    </tr>\n",
       "    <tr>\n",
       "      <th>1</th>\n",
       "      <td>Elastic Net</td>\n",
       "      <td>7.082510</td>\n",
       "      <td>-7.710230e-01</td>\n",
       "      <td>-7.710351e-01</td>\n",
       "    </tr>\n",
       "    <tr>\n",
       "      <th>2</th>\n",
       "      <td>Random Forest</td>\n",
       "      <td>1.964790</td>\n",
       "      <td>9.486147e-01</td>\n",
       "      <td>9.486144e-01</td>\n",
       "    </tr>\n",
       "  </tbody>\n",
       "</table>\n",
       "</div>"
      ],
      "text/plain": [
       "            Model      RMSE            R2        Adj R2\n",
       "0  DummyRegressor  8.859702 -2.763983e+30 -2.764002e+30\n",
       "1     Elastic Net  7.082510 -7.710230e-01 -7.710351e-01\n",
       "2   Random Forest  1.964790  9.486147e-01  9.486144e-01"
      ]
     },
     "execution_count": 22,
     "metadata": {},
     "output_type": "execute_result"
    }
   ],
   "source": [
    "results = results.append({\n",
    "  'Model':'Random Forest',\n",
    "  'RMSE':rfr_rmse,\n",
    "  'R2':rfr_r2,\n",
    "  'Adj R2': 1-((1-rfr_r2)*(n-1)/(n-p-1))\n",
    "},ignore_index=True)\n",
    "\n",
    "results"
   ]
  },
  {
   "cell_type": "markdown",
   "id": "685c13d5",
   "metadata": {},
   "source": [
    "<h5> XGBoost"
   ]
  },
  {
   "cell_type": "code",
   "execution_count": 23,
   "id": "7cd0dba9",
   "metadata": {},
   "outputs": [
    {
     "data": {
      "text/plain": [
       "XGBRegressor(base_score=0.5, booster='gbtree', colsample_bylevel=1,\n",
       "             colsample_bynode=1, colsample_bytree=1, enable_categorical=False,\n",
       "             gamma=0, gpu_id=-1, importance_type=None,\n",
       "             interaction_constraints='', learning_rate=0.300000012,\n",
       "             max_delta_step=0, max_depth=6, min_child_weight=1, missing=nan,\n",
       "             monotone_constraints='()', n_estimators=100, n_jobs=8,\n",
       "             num_parallel_tree=1, predictor='auto', random_state=0, reg_alpha=0,\n",
       "             reg_lambda=1, scale_pos_weight=1, subsample=1, tree_method='exact',\n",
       "             validate_parameters=1, verbosity=None)"
      ]
     },
     "execution_count": 23,
     "metadata": {},
     "output_type": "execute_result"
    }
   ],
   "source": [
    "xgb = XGBRegressor()\n",
    "xgb.fit(X_train, y_train['nutrition-score-fr_100g'])"
   ]
  },
  {
   "cell_type": "code",
   "execution_count": 24,
   "id": "48cc65cf",
   "metadata": {},
   "outputs": [],
   "source": [
    "xgb_rmse = math.sqrt(mean_squared_error(xgb.predict(X_test), y_test['nutrition-score-fr_100g']))\n",
    "xgb_r2 = r2_score(xgb.predict(X_test), y_test['nutrition-score-fr_100g'])"
   ]
  },
  {
   "cell_type": "code",
   "execution_count": 25,
   "id": "a73f11fa",
   "metadata": {},
   "outputs": [
    {
     "data": {
      "text/html": [
       "<div>\n",
       "<style scoped>\n",
       "    .dataframe tbody tr th:only-of-type {\n",
       "        vertical-align: middle;\n",
       "    }\n",
       "\n",
       "    .dataframe tbody tr th {\n",
       "        vertical-align: top;\n",
       "    }\n",
       "\n",
       "    .dataframe thead th {\n",
       "        text-align: right;\n",
       "    }\n",
       "</style>\n",
       "<table border=\"1\" class=\"dataframe\">\n",
       "  <thead>\n",
       "    <tr style=\"text-align: right;\">\n",
       "      <th></th>\n",
       "      <th>Model</th>\n",
       "      <th>RMSE</th>\n",
       "      <th>R2</th>\n",
       "      <th>Adj R2</th>\n",
       "    </tr>\n",
       "  </thead>\n",
       "  <tbody>\n",
       "    <tr>\n",
       "      <th>0</th>\n",
       "      <td>DummyRegressor</td>\n",
       "      <td>8.859702</td>\n",
       "      <td>-2.763983e+30</td>\n",
       "      <td>-2.764002e+30</td>\n",
       "    </tr>\n",
       "    <tr>\n",
       "      <th>1</th>\n",
       "      <td>Elastic Net</td>\n",
       "      <td>7.082510</td>\n",
       "      <td>-7.710230e-01</td>\n",
       "      <td>-7.710351e-01</td>\n",
       "    </tr>\n",
       "    <tr>\n",
       "      <th>2</th>\n",
       "      <td>Random Forest</td>\n",
       "      <td>1.964790</td>\n",
       "      <td>9.486147e-01</td>\n",
       "      <td>9.486144e-01</td>\n",
       "    </tr>\n",
       "    <tr>\n",
       "      <th>3</th>\n",
       "      <td>XGBoost</td>\n",
       "      <td>2.126870</td>\n",
       "      <td>9.389243e-01</td>\n",
       "      <td>9.389239e-01</td>\n",
       "    </tr>\n",
       "  </tbody>\n",
       "</table>\n",
       "</div>"
      ],
      "text/plain": [
       "            Model      RMSE            R2        Adj R2\n",
       "0  DummyRegressor  8.859702 -2.763983e+30 -2.764002e+30\n",
       "1     Elastic Net  7.082510 -7.710230e-01 -7.710351e-01\n",
       "2   Random Forest  1.964790  9.486147e-01  9.486144e-01\n",
       "3         XGBoost  2.126870  9.389243e-01  9.389239e-01"
      ]
     },
     "execution_count": 25,
     "metadata": {},
     "output_type": "execute_result"
    }
   ],
   "source": [
    "results = results.append({\n",
    "  'Model':'XGBoost',\n",
    "  'RMSE':xgb_rmse,\n",
    "  'R2':xgb_r2,\n",
    "  'Adj R2':1-((1-xgb_r2)*(n-1)/(n-p-1))\n",
    "},ignore_index=True)\n",
    "\n",
    "results"
   ]
  },
  {
   "cell_type": "markdown",
   "id": "a4f60410",
   "metadata": {},
   "source": [
    "<h3>GridSearchCV on Random Forest and XGBoost:"
   ]
  },
  {
   "cell_type": "code",
   "execution_count": 26,
   "id": "3f21ece1",
   "metadata": {},
   "outputs": [],
   "source": [
    "xgb_parameters = {\n",
    "  'n_estimators':[2000,3000],\n",
    "  'learning_rate': [0.2,0.3]\n",
    "}"
   ]
  },
  {
   "cell_type": "code",
   "execution_count": 27,
   "id": "130a3e09",
   "metadata": {},
   "outputs": [
    {
     "data": {
      "text/plain": [
       "GridSearchCV(cv=3,\n",
       "             estimator=XGBRegressor(base_score=None, booster=None,\n",
       "                                    colsample_bylevel=None,\n",
       "                                    colsample_bynode=None,\n",
       "                                    colsample_bytree=None,\n",
       "                                    enable_categorical=False, gamma=None,\n",
       "                                    gpu_id=None, importance_type=None,\n",
       "                                    interaction_constraints=None,\n",
       "                                    learning_rate=None, max_delta_step=None,\n",
       "                                    max_depth=None, min_child_weight=None,\n",
       "                                    missing=nan, monotone_constraints=None,\n",
       "                                    n_estimators=100, n_jobs=None,\n",
       "                                    num_parallel_tree=None, predictor=None,\n",
       "                                    random_state=None, reg_alpha=None,\n",
       "                                    reg_lambda=None, scale_pos_weight=None,\n",
       "                                    subsample=None, tree_method=None,\n",
       "                                    validate_parameters=None, verbosity=None),\n",
       "             param_grid={'learning_rate': [0.2, 0.3],\n",
       "                         'n_estimators': [2000, 3000]},\n",
       "             scoring='neg_root_mean_squared_error', verbose=False)"
      ]
     },
     "execution_count": 27,
     "metadata": {},
     "output_type": "execute_result"
    }
   ],
   "source": [
    "xgb_grid = GridSearchCV(estimator = XGBRegressor(), \n",
    "                      scoring='neg_root_mean_squared_error',\n",
    "                      param_grid = xgb_parameters,\n",
    "                      cv=3,\n",
    "                      verbose=False\n",
    ")\n",
    "\n",
    "xgb_grid.fit(X_train, y_train['nutrition-score-fr_100g'])"
   ]
  },
  {
   "cell_type": "code",
   "execution_count": 28,
   "id": "7cba872b",
   "metadata": {},
   "outputs": [
    {
     "data": {
      "text/plain": [
       "{'learning_rate': 0.2, 'n_estimators': 3000}"
      ]
     },
     "execution_count": 28,
     "metadata": {},
     "output_type": "execute_result"
    }
   ],
   "source": [
    "xgb_best_params_ = xgb_grid.best_params_\n",
    "xgb_best_params_"
   ]
  },
  {
   "cell_type": "code",
   "execution_count": 29,
   "id": "771d722a",
   "metadata": {},
   "outputs": [],
   "source": [
    "xgb_opt = xgb_grid.best_estimator_"
   ]
  },
  {
   "cell_type": "code",
   "execution_count": 30,
   "id": "96370b73",
   "metadata": {},
   "outputs": [
    {
     "data": {
      "text/html": [
       "<div>\n",
       "<style scoped>\n",
       "    .dataframe tbody tr th:only-of-type {\n",
       "        vertical-align: middle;\n",
       "    }\n",
       "\n",
       "    .dataframe tbody tr th {\n",
       "        vertical-align: top;\n",
       "    }\n",
       "\n",
       "    .dataframe thead th {\n",
       "        text-align: right;\n",
       "    }\n",
       "</style>\n",
       "<table border=\"1\" class=\"dataframe\">\n",
       "  <thead>\n",
       "    <tr style=\"text-align: right;\">\n",
       "      <th></th>\n",
       "      <th>Model</th>\n",
       "      <th>RMSE</th>\n",
       "      <th>R2</th>\n",
       "      <th>Adj R2</th>\n",
       "    </tr>\n",
       "  </thead>\n",
       "  <tbody>\n",
       "    <tr>\n",
       "      <th>0</th>\n",
       "      <td>DummyRegressor</td>\n",
       "      <td>8.859702</td>\n",
       "      <td>-2.763983e+30</td>\n",
       "      <td>-2.764002e+30</td>\n",
       "    </tr>\n",
       "    <tr>\n",
       "      <th>1</th>\n",
       "      <td>Elastic Net</td>\n",
       "      <td>7.082510</td>\n",
       "      <td>-7.710230e-01</td>\n",
       "      <td>-7.710351e-01</td>\n",
       "    </tr>\n",
       "    <tr>\n",
       "      <th>2</th>\n",
       "      <td>Random Forest</td>\n",
       "      <td>1.964790</td>\n",
       "      <td>9.486147e-01</td>\n",
       "      <td>9.486144e-01</td>\n",
       "    </tr>\n",
       "    <tr>\n",
       "      <th>3</th>\n",
       "      <td>XGBoost</td>\n",
       "      <td>2.126870</td>\n",
       "      <td>9.389243e-01</td>\n",
       "      <td>9.389239e-01</td>\n",
       "    </tr>\n",
       "    <tr>\n",
       "      <th>4</th>\n",
       "      <td>XGBoost Hypt</td>\n",
       "      <td>1.947493</td>\n",
       "      <td>9.494804e-01</td>\n",
       "      <td>9.494801e-01</td>\n",
       "    </tr>\n",
       "  </tbody>\n",
       "</table>\n",
       "</div>"
      ],
      "text/plain": [
       "            Model      RMSE            R2        Adj R2\n",
       "0  DummyRegressor  8.859702 -2.763983e+30 -2.764002e+30\n",
       "1     Elastic Net  7.082510 -7.710230e-01 -7.710351e-01\n",
       "2   Random Forest  1.964790  9.486147e-01  9.486144e-01\n",
       "3         XGBoost  2.126870  9.389243e-01  9.389239e-01\n",
       "4    XGBoost Hypt  1.947493  9.494804e-01  9.494801e-01"
      ]
     },
     "execution_count": 30,
     "metadata": {},
     "output_type": "execute_result"
    }
   ],
   "source": [
    "xgb_opt_rmse = math.sqrt(mean_squared_error(xgb_opt.predict(X_test), y_test['nutrition-score-fr_100g']))\n",
    "xgb_opt_r2 = r2_score(xgb_opt.predict(X_test), y_test['nutrition-score-fr_100g'])\n",
    "\n",
    "results = results.append({\n",
    "  'Model':'XGBoost Hypt',\n",
    "  'RMSE':xgb_opt_rmse,\n",
    "  'R2':xgb_opt_r2,\n",
    "  'Adj R2':1-((1-xgb_opt_r2)*(n-1)/(n-p-1))\n",
    "},ignore_index=True)\n",
    "\n",
    "results"
   ]
  },
  {
   "cell_type": "code",
   "execution_count": 31,
   "id": "c48d0e32",
   "metadata": {},
   "outputs": [],
   "source": [
    "rfr_parameters = {\n",
    "  'n_estimators': [1000],\n",
    "  #'n_estimators': [200,500,1000],\n",
    "}"
   ]
  },
  {
   "cell_type": "code",
   "execution_count": 32,
   "id": "b50ef857",
   "metadata": {},
   "outputs": [
    {
     "data": {
      "text/plain": [
       "GridSearchCV(cv=3, estimator=RandomForestRegressor(n_jobs=-1),\n",
       "             param_grid={'n_estimators': [1000]},\n",
       "             scoring='neg_root_mean_squared_error', verbose=False)"
      ]
     },
     "execution_count": 32,
     "metadata": {},
     "output_type": "execute_result"
    }
   ],
   "source": [
    "rfr_grid = GridSearchCV(estimator = RandomForestRegressor(n_jobs=-1), \n",
    "                      scoring='neg_root_mean_squared_error',\n",
    "                      param_grid = rfr_parameters,\n",
    "                      cv=3,\n",
    "                      verbose=False\n",
    "                     )\n",
    "\n",
    "rfr_grid.fit(X_train, y_train['nutrition-score-fr_100g'])"
   ]
  },
  {
   "cell_type": "code",
   "execution_count": 33,
   "id": "1800376f",
   "metadata": {},
   "outputs": [
    {
     "data": {
      "text/plain": [
       "{'n_estimators': 1000}"
      ]
     },
     "execution_count": 33,
     "metadata": {},
     "output_type": "execute_result"
    }
   ],
   "source": [
    "rfr_best_params_ = rfr_grid.best_params_\n",
    "rfr_best_params_"
   ]
  },
  {
   "cell_type": "code",
   "execution_count": 34,
   "id": "d2edd531",
   "metadata": {},
   "outputs": [],
   "source": [
    "rfr_opt = rfr_grid.best_estimator_"
   ]
  },
  {
   "cell_type": "code",
   "execution_count": 35,
   "id": "f3663955",
   "metadata": {},
   "outputs": [
    {
     "data": {
      "text/html": [
       "<div>\n",
       "<style scoped>\n",
       "    .dataframe tbody tr th:only-of-type {\n",
       "        vertical-align: middle;\n",
       "    }\n",
       "\n",
       "    .dataframe tbody tr th {\n",
       "        vertical-align: top;\n",
       "    }\n",
       "\n",
       "    .dataframe thead th {\n",
       "        text-align: right;\n",
       "    }\n",
       "</style>\n",
       "<table border=\"1\" class=\"dataframe\">\n",
       "  <thead>\n",
       "    <tr style=\"text-align: right;\">\n",
       "      <th></th>\n",
       "      <th>Model</th>\n",
       "      <th>RMSE</th>\n",
       "      <th>R2</th>\n",
       "      <th>Adj R2</th>\n",
       "    </tr>\n",
       "  </thead>\n",
       "  <tbody>\n",
       "    <tr>\n",
       "      <th>0</th>\n",
       "      <td>DummyRegressor</td>\n",
       "      <td>8.859702</td>\n",
       "      <td>-2.763983e+30</td>\n",
       "      <td>-2.764002e+30</td>\n",
       "    </tr>\n",
       "    <tr>\n",
       "      <th>1</th>\n",
       "      <td>Elastic Net</td>\n",
       "      <td>7.082510</td>\n",
       "      <td>-7.710230e-01</td>\n",
       "      <td>-7.710351e-01</td>\n",
       "    </tr>\n",
       "    <tr>\n",
       "      <th>2</th>\n",
       "      <td>Random Forest</td>\n",
       "      <td>1.964790</td>\n",
       "      <td>9.486147e-01</td>\n",
       "      <td>9.486144e-01</td>\n",
       "    </tr>\n",
       "    <tr>\n",
       "      <th>3</th>\n",
       "      <td>XGBoost</td>\n",
       "      <td>2.126870</td>\n",
       "      <td>9.389243e-01</td>\n",
       "      <td>9.389239e-01</td>\n",
       "    </tr>\n",
       "    <tr>\n",
       "      <th>4</th>\n",
       "      <td>XGBoost Hypt</td>\n",
       "      <td>1.947493</td>\n",
       "      <td>9.494804e-01</td>\n",
       "      <td>9.494801e-01</td>\n",
       "    </tr>\n",
       "    <tr>\n",
       "      <th>5</th>\n",
       "      <td>Random Forest Hypt</td>\n",
       "      <td>1.957672</td>\n",
       "      <td>9.489627e-01</td>\n",
       "      <td>9.489624e-01</td>\n",
       "    </tr>\n",
       "  </tbody>\n",
       "</table>\n",
       "</div>"
      ],
      "text/plain": [
       "                Model      RMSE            R2        Adj R2\n",
       "0      DummyRegressor  8.859702 -2.763983e+30 -2.764002e+30\n",
       "1         Elastic Net  7.082510 -7.710230e-01 -7.710351e-01\n",
       "2       Random Forest  1.964790  9.486147e-01  9.486144e-01\n",
       "3             XGBoost  2.126870  9.389243e-01  9.389239e-01\n",
       "4        XGBoost Hypt  1.947493  9.494804e-01  9.494801e-01\n",
       "5  Random Forest Hypt  1.957672  9.489627e-01  9.489624e-01"
      ]
     },
     "execution_count": 35,
     "metadata": {},
     "output_type": "execute_result"
    }
   ],
   "source": [
    "rfr_opt_rmse = math.sqrt(mean_squared_error(rfr_opt.predict(X_test), y_test['nutrition-score-fr_100g']))\n",
    "rfr_opt_r2 = r2_score(rfr_opt.predict(X_test), y_test['nutrition-score-fr_100g'])\n",
    "\n",
    "results = results.append({\n",
    "  'Model':'Random Forest Hypt',\n",
    "  'RMSE':rfr_opt_rmse,\n",
    "  'R2':rfr_opt_r2,\n",
    "  'Adj R2':1-((1-rfr_opt_r2)*(n-1)/(n-p-1))\n",
    "},ignore_index=True)\n",
    "\n",
    "results"
   ]
  },
  {
   "cell_type": "code",
   "execution_count": 36,
   "id": "bac5dce6",
   "metadata": {},
   "outputs": [
    {
     "data": {
      "text/plain": [
       "1.9474931744055808"
      ]
     },
     "execution_count": 36,
     "metadata": {},
     "output_type": "execute_result"
    }
   ],
   "source": [
    "min(rfr_opt_rmse,xgb_opt_rmse)"
   ]
  },
  {
   "cell_type": "code",
   "execution_count": 37,
   "id": "c07c87c7",
   "metadata": {},
   "outputs": [],
   "source": [
    "if rfr_rmse < xgb_rmse:\n",
    "  rgr_opt = rfr\n",
    "else:\n",
    "  rgr_opt = xgb"
   ]
  },
  {
   "cell_type": "markdown",
   "id": "6322a5dd",
   "metadata": {},
   "source": [
    "We assume to pick Random Forest as our main model. Lets transform our numbers into letters, and then use recall and precision to evaluate our model performance."
   ]
  },
  {
   "cell_type": "code",
   "execution_count": 38,
   "id": "75851627",
   "metadata": {},
   "outputs": [],
   "source": [
    "y_pred = rgr_opt.predict(X_test)"
   ]
  },
  {
   "cell_type": "code",
   "execution_count": 39,
   "id": "81362e1c",
   "metadata": {},
   "outputs": [
    {
     "data": {
      "text/html": [
       "<div>\n",
       "<style scoped>\n",
       "    .dataframe tbody tr th:only-of-type {\n",
       "        vertical-align: middle;\n",
       "    }\n",
       "\n",
       "    .dataframe tbody tr th {\n",
       "        vertical-align: top;\n",
       "    }\n",
       "\n",
       "    .dataframe thead th {\n",
       "        text-align: right;\n",
       "    }\n",
       "</style>\n",
       "<table border=\"1\" class=\"dataframe\">\n",
       "  <thead>\n",
       "    <tr style=\"text-align: right;\">\n",
       "      <th></th>\n",
       "      <th>nutrition-score-fr_100g</th>\n",
       "      <th>nutriscore_grade</th>\n",
       "    </tr>\n",
       "  </thead>\n",
       "  <tbody>\n",
       "    <tr>\n",
       "      <th>195736</th>\n",
       "      <td>0.0</td>\n",
       "      <td>a</td>\n",
       "    </tr>\n",
       "    <tr>\n",
       "      <th>716924</th>\n",
       "      <td>2.0</td>\n",
       "      <td>b</td>\n",
       "    </tr>\n",
       "    <tr>\n",
       "      <th>89674</th>\n",
       "      <td>14.0</td>\n",
       "      <td>d</td>\n",
       "    </tr>\n",
       "    <tr>\n",
       "      <th>583325</th>\n",
       "      <td>-2.0</td>\n",
       "      <td>a</td>\n",
       "    </tr>\n",
       "    <tr>\n",
       "      <th>441546</th>\n",
       "      <td>0.0</td>\n",
       "      <td>b</td>\n",
       "    </tr>\n",
       "    <tr>\n",
       "      <th>...</th>\n",
       "      <td>...</td>\n",
       "      <td>...</td>\n",
       "    </tr>\n",
       "    <tr>\n",
       "      <th>598572</th>\n",
       "      <td>3.0</td>\n",
       "      <td>c</td>\n",
       "    </tr>\n",
       "    <tr>\n",
       "      <th>482408</th>\n",
       "      <td>12.0</td>\n",
       "      <td>d</td>\n",
       "    </tr>\n",
       "    <tr>\n",
       "      <th>292297</th>\n",
       "      <td>-2.0</td>\n",
       "      <td>a</td>\n",
       "    </tr>\n",
       "    <tr>\n",
       "      <th>655690</th>\n",
       "      <td>19.0</td>\n",
       "      <td>e</td>\n",
       "    </tr>\n",
       "    <tr>\n",
       "      <th>632460</th>\n",
       "      <td>19.0</td>\n",
       "      <td>e</td>\n",
       "    </tr>\n",
       "  </tbody>\n",
       "</table>\n",
       "<p>146345 rows × 2 columns</p>\n",
       "</div>"
      ],
      "text/plain": [
       "        nutrition-score-fr_100g nutriscore_grade\n",
       "195736                      0.0                a\n",
       "716924                      2.0                b\n",
       "89674                      14.0                d\n",
       "583325                     -2.0                a\n",
       "441546                      0.0                b\n",
       "...                         ...              ...\n",
       "598572                      3.0                c\n",
       "482408                     12.0                d\n",
       "292297                     -2.0                a\n",
       "655690                     19.0                e\n",
       "632460                     19.0                e\n",
       "\n",
       "[146345 rows x 2 columns]"
      ]
     },
     "execution_count": 39,
     "metadata": {},
     "output_type": "execute_result"
    }
   ],
   "source": [
    "y_test"
   ]
  },
  {
   "cell_type": "code",
   "execution_count": 40,
   "id": "0f570509",
   "metadata": {},
   "outputs": [
    {
     "data": {
      "text/html": [
       "<div>\n",
       "<style scoped>\n",
       "    .dataframe tbody tr th:only-of-type {\n",
       "        vertical-align: middle;\n",
       "    }\n",
       "\n",
       "    .dataframe tbody tr th {\n",
       "        vertical-align: top;\n",
       "    }\n",
       "\n",
       "    .dataframe thead th {\n",
       "        text-align: right;\n",
       "    }\n",
       "</style>\n",
       "<table border=\"1\" class=\"dataframe\">\n",
       "  <thead>\n",
       "    <tr style=\"text-align: right;\">\n",
       "      <th></th>\n",
       "      <th>y_pred</th>\n",
       "      <th>y_true</th>\n",
       "      <th>y_original_grade</th>\n",
       "    </tr>\n",
       "  </thead>\n",
       "  <tbody>\n",
       "    <tr>\n",
       "      <th>195736</th>\n",
       "      <td>1.100586</td>\n",
       "      <td>0.0</td>\n",
       "      <td>a</td>\n",
       "    </tr>\n",
       "    <tr>\n",
       "      <th>716924</th>\n",
       "      <td>2.441250</td>\n",
       "      <td>2.0</td>\n",
       "      <td>b</td>\n",
       "    </tr>\n",
       "    <tr>\n",
       "      <th>89674</th>\n",
       "      <td>14.000000</td>\n",
       "      <td>14.0</td>\n",
       "      <td>d</td>\n",
       "    </tr>\n",
       "    <tr>\n",
       "      <th>583325</th>\n",
       "      <td>-2.000000</td>\n",
       "      <td>-2.0</td>\n",
       "      <td>a</td>\n",
       "    </tr>\n",
       "    <tr>\n",
       "      <th>441546</th>\n",
       "      <td>0.064123</td>\n",
       "      <td>0.0</td>\n",
       "      <td>b</td>\n",
       "    </tr>\n",
       "    <tr>\n",
       "      <th>...</th>\n",
       "      <td>...</td>\n",
       "      <td>...</td>\n",
       "      <td>...</td>\n",
       "    </tr>\n",
       "    <tr>\n",
       "      <th>598572</th>\n",
       "      <td>3.140000</td>\n",
       "      <td>3.0</td>\n",
       "      <td>c</td>\n",
       "    </tr>\n",
       "    <tr>\n",
       "      <th>482408</th>\n",
       "      <td>12.000000</td>\n",
       "      <td>12.0</td>\n",
       "      <td>d</td>\n",
       "    </tr>\n",
       "    <tr>\n",
       "      <th>292297</th>\n",
       "      <td>-2.000000</td>\n",
       "      <td>-2.0</td>\n",
       "      <td>a</td>\n",
       "    </tr>\n",
       "    <tr>\n",
       "      <th>655690</th>\n",
       "      <td>14.690000</td>\n",
       "      <td>19.0</td>\n",
       "      <td>e</td>\n",
       "    </tr>\n",
       "    <tr>\n",
       "      <th>632460</th>\n",
       "      <td>19.000000</td>\n",
       "      <td>19.0</td>\n",
       "      <td>e</td>\n",
       "    </tr>\n",
       "  </tbody>\n",
       "</table>\n",
       "<p>146345 rows × 3 columns</p>\n",
       "</div>"
      ],
      "text/plain": [
       "           y_pred  y_true y_original_grade\n",
       "195736   1.100586     0.0                a\n",
       "716924   2.441250     2.0                b\n",
       "89674   14.000000    14.0                d\n",
       "583325  -2.000000    -2.0                a\n",
       "441546   0.064123     0.0                b\n",
       "...           ...     ...              ...\n",
       "598572   3.140000     3.0                c\n",
       "482408  12.000000    12.0                d\n",
       "292297  -2.000000    -2.0                a\n",
       "655690  14.690000    19.0                e\n",
       "632460  19.000000    19.0                e\n",
       "\n",
       "[146345 rows x 3 columns]"
      ]
     },
     "execution_count": 40,
     "metadata": {},
     "output_type": "execute_result"
    }
   ],
   "source": [
    "d = {'y_pred': y_pred, 'y_true': y_test['nutrition-score-fr_100g'], 'y_original_grade':y_test['nutriscore_grade']}\n",
    "df = pd.DataFrame(data = d)\n",
    "df"
   ]
  },
  {
   "cell_type": "code",
   "execution_count": 41,
   "id": "bd4cea2f",
   "metadata": {},
   "outputs": [],
   "source": [
    "df['y_pred_grade'] = df.y_pred.apply(lambda x: grader_food(x))\n",
    "df['y_true_grade'] = df.y_true.apply(lambda x: grader_food(x))"
   ]
  },
  {
   "cell_type": "code",
   "execution_count": 42,
   "id": "aecd6d00",
   "metadata": {},
   "outputs": [
    {
     "data": {
      "text/html": [
       "<div>\n",
       "<style scoped>\n",
       "    .dataframe tbody tr th:only-of-type {\n",
       "        vertical-align: middle;\n",
       "    }\n",
       "\n",
       "    .dataframe tbody tr th {\n",
       "        vertical-align: top;\n",
       "    }\n",
       "\n",
       "    .dataframe thead th {\n",
       "        text-align: right;\n",
       "    }\n",
       "</style>\n",
       "<table border=\"1\" class=\"dataframe\">\n",
       "  <thead>\n",
       "    <tr style=\"text-align: right;\">\n",
       "      <th></th>\n",
       "      <th>y_pred</th>\n",
       "      <th>y_true</th>\n",
       "      <th>y_original_grade</th>\n",
       "      <th>y_pred_grade</th>\n",
       "      <th>y_true_grade</th>\n",
       "    </tr>\n",
       "  </thead>\n",
       "  <tbody>\n",
       "    <tr>\n",
       "      <th>195736</th>\n",
       "      <td>1.100586</td>\n",
       "      <td>0.0</td>\n",
       "      <td>a</td>\n",
       "      <td>b</td>\n",
       "      <td>b</td>\n",
       "    </tr>\n",
       "    <tr>\n",
       "      <th>716924</th>\n",
       "      <td>2.441250</td>\n",
       "      <td>2.0</td>\n",
       "      <td>b</td>\n",
       "      <td>c</td>\n",
       "      <td>b</td>\n",
       "    </tr>\n",
       "    <tr>\n",
       "      <th>89674</th>\n",
       "      <td>14.000000</td>\n",
       "      <td>14.0</td>\n",
       "      <td>d</td>\n",
       "      <td>d</td>\n",
       "      <td>d</td>\n",
       "    </tr>\n",
       "    <tr>\n",
       "      <th>583325</th>\n",
       "      <td>-2.000000</td>\n",
       "      <td>-2.0</td>\n",
       "      <td>a</td>\n",
       "      <td>a</td>\n",
       "      <td>a</td>\n",
       "    </tr>\n",
       "    <tr>\n",
       "      <th>441546</th>\n",
       "      <td>0.064123</td>\n",
       "      <td>0.0</td>\n",
       "      <td>b</td>\n",
       "      <td>b</td>\n",
       "      <td>b</td>\n",
       "    </tr>\n",
       "    <tr>\n",
       "      <th>...</th>\n",
       "      <td>...</td>\n",
       "      <td>...</td>\n",
       "      <td>...</td>\n",
       "      <td>...</td>\n",
       "      <td>...</td>\n",
       "    </tr>\n",
       "    <tr>\n",
       "      <th>598572</th>\n",
       "      <td>3.140000</td>\n",
       "      <td>3.0</td>\n",
       "      <td>c</td>\n",
       "      <td>c</td>\n",
       "      <td>c</td>\n",
       "    </tr>\n",
       "    <tr>\n",
       "      <th>482408</th>\n",
       "      <td>12.000000</td>\n",
       "      <td>12.0</td>\n",
       "      <td>d</td>\n",
       "      <td>d</td>\n",
       "      <td>d</td>\n",
       "    </tr>\n",
       "    <tr>\n",
       "      <th>292297</th>\n",
       "      <td>-2.000000</td>\n",
       "      <td>-2.0</td>\n",
       "      <td>a</td>\n",
       "      <td>a</td>\n",
       "      <td>a</td>\n",
       "    </tr>\n",
       "    <tr>\n",
       "      <th>655690</th>\n",
       "      <td>14.690000</td>\n",
       "      <td>19.0</td>\n",
       "      <td>e</td>\n",
       "      <td>d</td>\n",
       "      <td>e</td>\n",
       "    </tr>\n",
       "    <tr>\n",
       "      <th>632460</th>\n",
       "      <td>19.000000</td>\n",
       "      <td>19.0</td>\n",
       "      <td>e</td>\n",
       "      <td>e</td>\n",
       "      <td>e</td>\n",
       "    </tr>\n",
       "  </tbody>\n",
       "</table>\n",
       "<p>146345 rows × 5 columns</p>\n",
       "</div>"
      ],
      "text/plain": [
       "           y_pred  y_true y_original_grade y_pred_grade y_true_grade\n",
       "195736   1.100586     0.0                a            b            b\n",
       "716924   2.441250     2.0                b            c            b\n",
       "89674   14.000000    14.0                d            d            d\n",
       "583325  -2.000000    -2.0                a            a            a\n",
       "441546   0.064123     0.0                b            b            b\n",
       "...           ...     ...              ...          ...          ...\n",
       "598572   3.140000     3.0                c            c            c\n",
       "482408  12.000000    12.0                d            d            d\n",
       "292297  -2.000000    -2.0                a            a            a\n",
       "655690  14.690000    19.0                e            d            e\n",
       "632460  19.000000    19.0                e            e            e\n",
       "\n",
       "[146345 rows x 5 columns]"
      ]
     },
     "execution_count": 42,
     "metadata": {},
     "output_type": "execute_result"
    }
   ],
   "source": [
    "df"
   ]
  },
  {
   "cell_type": "code",
   "execution_count": 43,
   "id": "446b6fcb",
   "metadata": {},
   "outputs": [],
   "source": [
    "from sklearn.metrics import confusion_matrix,classification_report"
   ]
  },
  {
   "cell_type": "code",
   "execution_count": 44,
   "id": "f677b485",
   "metadata": {},
   "outputs": [],
   "source": [
    "labels = ['a','b','c','d','e']"
   ]
  },
  {
   "cell_type": "code",
   "execution_count": 45,
   "id": "8734baee",
   "metadata": {},
   "outputs": [],
   "source": [
    "cf_matrix = confusion_matrix(df['y_original_grade'],df['y_pred_grade'],labels=labels)"
   ]
  },
  {
   "cell_type": "code",
   "execution_count": 46,
   "id": "cf85ab4c",
   "metadata": {},
   "outputs": [
    {
     "data": {
      "image/png": "[encoded data removed]",
      "text/plain": [
       "<Figure size 864x720 with 2 Axes>"
      ]
     },
     "metadata": {
      "needs_background": "light"
     },
     "output_type": "display_data"
    }
   ],
   "source": [
    "fig = plt.figure(figsize=(12,10))\n",
    "ax = sns.heatmap(cf_matrix, annot=True)\n",
    "ax.set_xlabel(\"PREDICTED LABELS\", color=\"g\")\n",
    "ax.set_ylabel(\"TRUE LABELS\", color=\"orange\")\n",
    "ax.xaxis.set_ticklabels(labels, \n",
    "                        rotation='vertical')\n",
    "ax.yaxis.set_ticklabels(labels,\n",
    "                        rotation='horizontal')\n",
    "plt.title(\"Confusion Matrix on Nutriscore Classification\\n\",\n",
    "          fontsize=18)\n",
    "plt.show()"
   ]
  },
  {
   "cell_type": "code",
   "execution_count": 47,
   "id": "69b21747",
   "metadata": {},
   "outputs": [
    {
     "name": "stdout",
     "output_type": "stream",
     "text": [
      "              precision    recall  f1-score   support\n",
      "\n",
      "           a       0.95      0.81      0.87     23423\n",
      "           b       0.74      0.77      0.76     19283\n",
      "           c       0.76      0.88      0.82     31324\n",
      "           d       0.89      0.90      0.89     45272\n",
      "           e       0.94      0.85      0.89     27043\n",
      "\n",
      "    accuracy                           0.85    146345\n",
      "   macro avg       0.86      0.84      0.85    146345\n",
      "weighted avg       0.86      0.85      0.86    146345\n",
      "\n"
     ]
    }
   ],
   "source": [
    "print(classification_report(df['y_original_grade'],df['y_pred_grade'],target_names=labels))"
   ]
  },
  {
   "cell_type": "markdown",
   "id": "cf9ca562",
   "metadata": {},
   "source": [
    "<h3> Exporting the pipeline of model"
   ]
  },
  {
   "cell_type": "code",
   "execution_count": 48,
   "id": "6cffb989",
   "metadata": {},
   "outputs": [],
   "source": [
    "from sklearn.pipeline import Pipeline\n",
    "import pickle"
   ]
  },
  {
   "cell_type": "code",
   "execution_count": 49,
   "id": "f251f003",
   "metadata": {},
   "outputs": [],
   "source": [
    "pipeline = Pipeline([\n",
    "    ('standard_scaler', scaler), \n",
    "    ('model', rgr_opt)\n",
    "])"
   ]
  },
  {
   "cell_type": "code",
   "execution_count": 50,
   "id": "5a4b8dd9",
   "metadata": {},
   "outputs": [],
   "source": [
    "with open('/Users/efkanturedi/Corteze/untitled folder/model.pickle', 'wb') as model_file:\n",
    "  pickle.dump(pipeline, model_file)"
   ]
  }
 ],
 "metadata": {
  "interpreter": {
   "hash": "c80bebe576033db75d8dfea49b7078c98f433ef61acd6e7e4314698c3ef807ee"
  },
  "kernelspec": {
   "display_name": "Python 3.7.11 64-bit ('py37': conda)",
   "language": "python",
   "name": "python3"
  },
  "language_info": {
   "codemirror_mode": {
    "name": "ipython",
    "version": 3
   },
   "file_extension": ".py",
   "mimetype": "text/x-python",
   "name": "python",
   "nbconvert_exporter": "python",
   "pygments_lexer": "ipython3",
   "version": "3.7.11"
  }
 },
 "nbformat": 4,
 "nbformat_minor": 5
}
