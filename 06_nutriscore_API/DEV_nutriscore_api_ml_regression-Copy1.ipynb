{
 "cells": [
  {
   "cell_type": "markdown",
   "id": "47f25265",
   "metadata": {},
   "source": [
    "<h1> Machine Learning Notebook"
   ]
  },
  {
   "cell_type": "code",
   "execution_count": 3,
   "id": "60505c9b",
   "metadata": {},
   "outputs": [],
   "source": [
    "import pandas as pd\n",
    "import numpy as np\n",
    "import seaborn as sns\n",
    "import matplotlib.pyplot as plt\n",
    "from utils import *\n",
    "\n",
    "from sklearn.model_selection import train_test_split, GridSearchCV\n",
    "from sklearn.preprocessing import StandardScaler"
   ]
  },
  {
   "cell_type": "code",
   "execution_count": 4,
   "id": "09900c34",
   "metadata": {},
   "outputs": [
    {
     "name": "stderr",
     "output_type": "stream",
     "text": [
      "/Users/efkanturedi/opt/anaconda3/envs/py37/lib/python3.7/site-packages/IPython/core/interactiveshell.py:3444: DtypeWarning: Columns (0) have mixed types.Specify dtype option on import or set low_memory=False.\n",
      "  exec(code_obj, self.user_global_ns, self.user_ns)\n"
     ]
    }
   ],
   "source": [
    "filepath = '/Users/efkanturedi/Corteze/untitled folder/nutri_clean_prod.csv'\n",
    "data = pd.read_csv(filepath)"
   ]
  },
  {
   "cell_type": "code",
   "execution_count": 5,
   "id": "a7a24f18",
   "metadata": {},
   "outputs": [
    {
     "data": {
      "text/html": [
       "<div>\n",
       "<style scoped>\n",
       "    .dataframe tbody tr th:only-of-type {\n",
       "        vertical-align: middle;\n",
       "    }\n",
       "\n",
       "    .dataframe tbody tr th {\n",
       "        vertical-align: top;\n",
       "    }\n",
       "\n",
       "    .dataframe thead th {\n",
       "        text-align: right;\n",
       "    }\n",
       "</style>\n",
       "<table border=\"1\" class=\"dataframe\">\n",
       "  <thead>\n",
       "    <tr style=\"text-align: right;\">\n",
       "      <th></th>\n",
       "      <th>code</th>\n",
       "      <th>product_name</th>\n",
       "      <th>brands</th>\n",
       "      <th>nutriscore_grade</th>\n",
       "      <th>pnns_groups_1</th>\n",
       "      <th>energy-kcal_100g</th>\n",
       "      <th>fat_100g</th>\n",
       "      <th>saturated-fat_100g</th>\n",
       "      <th>carbohydrates_100g</th>\n",
       "      <th>sugars_100g</th>\n",
       "      <th>fiber_100g</th>\n",
       "      <th>proteins_100g</th>\n",
       "      <th>salt_100g</th>\n",
       "      <th>nutrition-score-fr_100g</th>\n",
       "    </tr>\n",
       "  </thead>\n",
       "  <tbody>\n",
       "    <tr>\n",
       "      <th>0</th>\n",
       "      <td>0000000000100</td>\n",
       "      <td>moutarde au moût de raisin</td>\n",
       "      <td>courte paille</td>\n",
       "      <td>d</td>\n",
       "      <td>Fat and sauces</td>\n",
       "      <td>260.0</td>\n",
       "      <td>7.0</td>\n",
       "      <td>1.8</td>\n",
       "      <td>15.1</td>\n",
       "      <td>3.57</td>\n",
       "      <td>0.0</td>\n",
       "      <td>5.1</td>\n",
       "      <td>0.58</td>\n",
       "      <td>18.0</td>\n",
       "    </tr>\n",
       "    <tr>\n",
       "      <th>1</th>\n",
       "      <td>0000000000949</td>\n",
       "      <td>Salade de carottes râpées</td>\n",
       "      <td>NaN</td>\n",
       "      <td>b</td>\n",
       "      <td>Composite foods</td>\n",
       "      <td>32.0</td>\n",
       "      <td>0.3</td>\n",
       "      <td>0.1</td>\n",
       "      <td>5.3</td>\n",
       "      <td>3.57</td>\n",
       "      <td>1.6</td>\n",
       "      <td>0.9</td>\n",
       "      <td>0.42</td>\n",
       "      <td>1.0</td>\n",
       "    </tr>\n",
       "    <tr>\n",
       "      <th>2</th>\n",
       "      <td>0000000001281</td>\n",
       "      <td>Tarte noix de coco</td>\n",
       "      <td>Crous Resto',Crous</td>\n",
       "      <td>d</td>\n",
       "      <td>Sugary snacks</td>\n",
       "      <td>260.0</td>\n",
       "      <td>7.0</td>\n",
       "      <td>1.8</td>\n",
       "      <td>15.1</td>\n",
       "      <td>3.57</td>\n",
       "      <td>1.6</td>\n",
       "      <td>4.6</td>\n",
       "      <td>0.10</td>\n",
       "      <td>14.0</td>\n",
       "    </tr>\n",
       "    <tr>\n",
       "      <th>3</th>\n",
       "      <td>0000000001885</td>\n",
       "      <td>Compote de poire</td>\n",
       "      <td>Crous</td>\n",
       "      <td>a</td>\n",
       "      <td>Fruits and vegetables</td>\n",
       "      <td>157.0</td>\n",
       "      <td>0.0</td>\n",
       "      <td>0.0</td>\n",
       "      <td>15.1</td>\n",
       "      <td>3.57</td>\n",
       "      <td>1.6</td>\n",
       "      <td>0.6</td>\n",
       "      <td>0.00</td>\n",
       "      <td>-2.0</td>\n",
       "    </tr>\n",
       "    <tr>\n",
       "      <th>4</th>\n",
       "      <td>0000000002257</td>\n",
       "      <td>Salade de macedoine de légumes</td>\n",
       "      <td>NaN</td>\n",
       "      <td>b</td>\n",
       "      <td>Composite foods</td>\n",
       "      <td>143.0</td>\n",
       "      <td>7.0</td>\n",
       "      <td>1.0</td>\n",
       "      <td>3.9</td>\n",
       "      <td>1.00</td>\n",
       "      <td>1.6</td>\n",
       "      <td>1.9</td>\n",
       "      <td>0.27</td>\n",
       "      <td>1.0</td>\n",
       "    </tr>\n",
       "    <tr>\n",
       "      <th>...</th>\n",
       "      <td>...</td>\n",
       "      <td>...</td>\n",
       "      <td>...</td>\n",
       "      <td>...</td>\n",
       "      <td>...</td>\n",
       "      <td>...</td>\n",
       "      <td>...</td>\n",
       "      <td>...</td>\n",
       "      <td>...</td>\n",
       "      <td>...</td>\n",
       "      <td>...</td>\n",
       "      <td>...</td>\n",
       "      <td>...</td>\n",
       "      <td>...</td>\n",
       "    </tr>\n",
       "    <tr>\n",
       "      <th>731716</th>\n",
       "      <td>9999991042742</td>\n",
       "      <td>Mousse au chocolat noir</td>\n",
       "      <td>NaN</td>\n",
       "      <td>d</td>\n",
       "      <td>unknown</td>\n",
       "      <td>260.0</td>\n",
       "      <td>7.0</td>\n",
       "      <td>1.8</td>\n",
       "      <td>15.1</td>\n",
       "      <td>3.57</td>\n",
       "      <td>1.6</td>\n",
       "      <td>6.0</td>\n",
       "      <td>0.19</td>\n",
       "      <td>17.0</td>\n",
       "    </tr>\n",
       "    <tr>\n",
       "      <th>731717</th>\n",
       "      <td>9999991149090</td>\n",
       "      <td>Riz parfumé</td>\n",
       "      <td>King Elephant</td>\n",
       "      <td>b</td>\n",
       "      <td>Cereals and potatoes</td>\n",
       "      <td>260.0</td>\n",
       "      <td>0.5</td>\n",
       "      <td>0.0</td>\n",
       "      <td>15.1</td>\n",
       "      <td>0.00</td>\n",
       "      <td>1.6</td>\n",
       "      <td>6.0</td>\n",
       "      <td>0.00</td>\n",
       "      <td>0.0</td>\n",
       "    </tr>\n",
       "    <tr>\n",
       "      <th>731718</th>\n",
       "      <td>9999999004360</td>\n",
       "      <td>Minis beignets</td>\n",
       "      <td>NaN</td>\n",
       "      <td>d</td>\n",
       "      <td>unknown</td>\n",
       "      <td>260.0</td>\n",
       "      <td>7.0</td>\n",
       "      <td>1.8</td>\n",
       "      <td>15.1</td>\n",
       "      <td>3.57</td>\n",
       "      <td>1.6</td>\n",
       "      <td>6.0</td>\n",
       "      <td>0.58</td>\n",
       "      <td>15.0</td>\n",
       "    </tr>\n",
       "    <tr>\n",
       "      <th>731719</th>\n",
       "      <td>9999999175305</td>\n",
       "      <td>Erdbeerkuchen 1019g tiefgefroren</td>\n",
       "      <td>Coppenrath &amp; Wiese</td>\n",
       "      <td>d</td>\n",
       "      <td>Sugary snacks</td>\n",
       "      <td>260.0</td>\n",
       "      <td>7.0</td>\n",
       "      <td>1.8</td>\n",
       "      <td>15.1</td>\n",
       "      <td>3.57</td>\n",
       "      <td>1.6</td>\n",
       "      <td>2.6</td>\n",
       "      <td>0.28</td>\n",
       "      <td>12.0</td>\n",
       "    </tr>\n",
       "    <tr>\n",
       "      <th>731720</th>\n",
       "      <td>99999995</td>\n",
       "      <td>Faux filet</td>\n",
       "      <td>NaN</td>\n",
       "      <td>a</td>\n",
       "      <td>Fish Meat Eggs</td>\n",
       "      <td>131.0</td>\n",
       "      <td>5.0</td>\n",
       "      <td>1.8</td>\n",
       "      <td>0.0</td>\n",
       "      <td>0.00</td>\n",
       "      <td>1.6</td>\n",
       "      <td>6.0</td>\n",
       "      <td>0.18</td>\n",
       "      <td>-2.0</td>\n",
       "    </tr>\n",
       "  </tbody>\n",
       "</table>\n",
       "<p>731721 rows × 14 columns</p>\n",
       "</div>"
      ],
      "text/plain": [
       "                 code                      product_name              brands  \\\n",
       "0       0000000000100       moutarde au moût de raisin        courte paille   \n",
       "1       0000000000949         Salade de carottes râpées                 NaN   \n",
       "2       0000000001281                Tarte noix de coco  Crous Resto',Crous   \n",
       "3       0000000001885                  Compote de poire               Crous   \n",
       "4       0000000002257    Salade de macedoine de légumes                 NaN   \n",
       "...               ...                               ...                 ...   \n",
       "731716  9999991042742           Mousse au chocolat noir                 NaN   \n",
       "731717  9999991149090                       Riz parfumé       King Elephant   \n",
       "731718  9999999004360                    Minis beignets                 NaN   \n",
       "731719  9999999175305  Erdbeerkuchen 1019g tiefgefroren  Coppenrath & Wiese   \n",
       "731720       99999995                        Faux filet                 NaN   \n",
       "\n",
       "       nutriscore_grade          pnns_groups_1  energy-kcal_100g  fat_100g  \\\n",
       "0                     d         Fat and sauces             260.0       7.0   \n",
       "1                     b        Composite foods              32.0       0.3   \n",
       "2                     d          Sugary snacks             260.0       7.0   \n",
       "3                     a  Fruits and vegetables             157.0       0.0   \n",
       "4                     b        Composite foods             143.0       7.0   \n",
       "...                 ...                    ...               ...       ...   \n",
       "731716                d                unknown             260.0       7.0   \n",
       "731717                b   Cereals and potatoes             260.0       0.5   \n",
       "731718                d                unknown             260.0       7.0   \n",
       "731719                d          Sugary snacks             260.0       7.0   \n",
       "731720                a         Fish Meat Eggs             131.0       5.0   \n",
       "\n",
       "        saturated-fat_100g  carbohydrates_100g  sugars_100g  fiber_100g  \\\n",
       "0                      1.8                15.1         3.57         0.0   \n",
       "1                      0.1                 5.3         3.57         1.6   \n",
       "2                      1.8                15.1         3.57         1.6   \n",
       "3                      0.0                15.1         3.57         1.6   \n",
       "4                      1.0                 3.9         1.00         1.6   \n",
       "...                    ...                 ...          ...         ...   \n",
       "731716                 1.8                15.1         3.57         1.6   \n",
       "731717                 0.0                15.1         0.00         1.6   \n",
       "731718                 1.8                15.1         3.57         1.6   \n",
       "731719                 1.8                15.1         3.57         1.6   \n",
       "731720                 1.8                 0.0         0.00         1.6   \n",
       "\n",
       "        proteins_100g  salt_100g  nutrition-score-fr_100g  \n",
       "0                 5.1       0.58                     18.0  \n",
       "1                 0.9       0.42                      1.0  \n",
       "2                 4.6       0.10                     14.0  \n",
       "3                 0.6       0.00                     -2.0  \n",
       "4                 1.9       0.27                      1.0  \n",
       "...               ...        ...                      ...  \n",
       "731716            6.0       0.19                     17.0  \n",
       "731717            6.0       0.00                      0.0  \n",
       "731718            6.0       0.58                     15.0  \n",
       "731719            2.6       0.28                     12.0  \n",
       "731720            6.0       0.18                     -2.0  \n",
       "\n",
       "[731721 rows x 14 columns]"
      ]
     },
     "execution_count": 5,
     "metadata": {},
     "output_type": "execute_result"
    }
   ],
   "source": [
    "data"
   ]
  },
  {
   "cell_type": "code",
   "execution_count": 6,
   "id": "2b3cfd4e",
   "metadata": {},
   "outputs": [],
   "source": [
    "# Revove comment if you want to use only a sample of the dataset\n",
    "\n",
    "#data = data.sample(n=200000,random_state=42)"
   ]
  },
  {
   "cell_type": "code",
   "execution_count": 7,
   "id": "44babafa",
   "metadata": {},
   "outputs": [],
   "source": [
    "# We add the code to use it as primary key\n",
    "X_cols = [\n",
    "  'energy-kcal_100g',\n",
    "  #'fat_100g',\n",
    "  'saturated-fat_100g',\n",
    "  #'carbohydrates_100g',\n",
    "  'sugars_100g',\n",
    "  'fiber_100g',\n",
    "  'proteins_100g',\n",
    "  'salt_100g',\n",
    "]"
   ]
  },
  {
   "cell_type": "code",
   "execution_count": 8,
   "id": "874af99b",
   "metadata": {},
   "outputs": [],
   "source": [
    "X = data[X_cols].reset_index(drop=True)\n",
    "y = data[[\n",
    "  'nutrition-score-fr_100g',\n",
    "  'nutriscore_grade'\n",
    "]].reset_index(drop=True)"
   ]
  },
  {
   "cell_type": "code",
   "execution_count": 9,
   "id": "49acbdef",
   "metadata": {},
   "outputs": [
    {
     "data": {
      "text/html": [
       "<div>\n",
       "<style scoped>\n",
       "    .dataframe tbody tr th:only-of-type {\n",
       "        vertical-align: middle;\n",
       "    }\n",
       "\n",
       "    .dataframe tbody tr th {\n",
       "        vertical-align: top;\n",
       "    }\n",
       "\n",
       "    .dataframe thead th {\n",
       "        text-align: right;\n",
       "    }\n",
       "</style>\n",
       "<table border=\"1\" class=\"dataframe\">\n",
       "  <thead>\n",
       "    <tr style=\"text-align: right;\">\n",
       "      <th></th>\n",
       "      <th>nutrition-score-fr_100g</th>\n",
       "      <th>nutriscore_grade</th>\n",
       "    </tr>\n",
       "  </thead>\n",
       "  <tbody>\n",
       "    <tr>\n",
       "      <th>0</th>\n",
       "      <td>18.0</td>\n",
       "      <td>d</td>\n",
       "    </tr>\n",
       "    <tr>\n",
       "      <th>1</th>\n",
       "      <td>1.0</td>\n",
       "      <td>b</td>\n",
       "    </tr>\n",
       "    <tr>\n",
       "      <th>2</th>\n",
       "      <td>14.0</td>\n",
       "      <td>d</td>\n",
       "    </tr>\n",
       "    <tr>\n",
       "      <th>3</th>\n",
       "      <td>-2.0</td>\n",
       "      <td>a</td>\n",
       "    </tr>\n",
       "    <tr>\n",
       "      <th>4</th>\n",
       "      <td>1.0</td>\n",
       "      <td>b</td>\n",
       "    </tr>\n",
       "    <tr>\n",
       "      <th>...</th>\n",
       "      <td>...</td>\n",
       "      <td>...</td>\n",
       "    </tr>\n",
       "    <tr>\n",
       "      <th>731716</th>\n",
       "      <td>17.0</td>\n",
       "      <td>d</td>\n",
       "    </tr>\n",
       "    <tr>\n",
       "      <th>731717</th>\n",
       "      <td>0.0</td>\n",
       "      <td>b</td>\n",
       "    </tr>\n",
       "    <tr>\n",
       "      <th>731718</th>\n",
       "      <td>15.0</td>\n",
       "      <td>d</td>\n",
       "    </tr>\n",
       "    <tr>\n",
       "      <th>731719</th>\n",
       "      <td>12.0</td>\n",
       "      <td>d</td>\n",
       "    </tr>\n",
       "    <tr>\n",
       "      <th>731720</th>\n",
       "      <td>-2.0</td>\n",
       "      <td>a</td>\n",
       "    </tr>\n",
       "  </tbody>\n",
       "</table>\n",
       "<p>731721 rows × 2 columns</p>\n",
       "</div>"
      ],
      "text/plain": [
       "        nutrition-score-fr_100g nutriscore_grade\n",
       "0                          18.0                d\n",
       "1                           1.0                b\n",
       "2                          14.0                d\n",
       "3                          -2.0                a\n",
       "4                           1.0                b\n",
       "...                         ...              ...\n",
       "731716                     17.0                d\n",
       "731717                      0.0                b\n",
       "731718                     15.0                d\n",
       "731719                     12.0                d\n",
       "731720                     -2.0                a\n",
       "\n",
       "[731721 rows x 2 columns]"
      ]
     },
     "execution_count": 9,
     "metadata": {},
     "output_type": "execute_result"
    }
   ],
   "source": [
    "y"
   ]
  },
  {
   "cell_type": "markdown",
   "id": "deafd854",
   "metadata": {},
   "source": [
    "<h3> Some Plots"
   ]
  },
  {
   "cell_type": "code",
   "execution_count": 10,
   "id": "4152a707",
   "metadata": {},
   "outputs": [
    {
     "name": "stderr",
     "output_type": "stream",
     "text": [
      "/Users/efkanturedi/opt/anaconda3/envs/py37/lib/python3.7/site-packages/seaborn/distributions.py:2619: FutureWarning: `distplot` is a deprecated function and will be removed in a future version. Please adapt your code to use either `displot` (a figure-level function with similar flexibility) or `histplot` (an axes-level function for histograms).\n",
      "  warnings.warn(msg, FutureWarning)\n"
     ]
    },
    {
     "data": {
      "image/png": "[encoded data removed]",
      "text/plain": [
       "<Figure size 432x288 with 1 Axes>"
      ]
     },
     "metadata": {
      "needs_background": "light"
     },
     "output_type": "display_data"
    }
   ],
   "source": [
    "sns.distplot(y['nutrition-score-fr_100g']);"
   ]
  },
  {
   "cell_type": "markdown",
   "id": "7ef76199",
   "metadata": {},
   "source": [
    "<h3> Standardising & Normalizing the data"
   ]
  },
  {
   "cell_type": "code",
   "execution_count": 11,
   "id": "47841171",
   "metadata": {},
   "outputs": [],
   "source": [
    "# Creating Training and Test set\n",
    "X_train, X_test, y_train, y_test = train_test_split(X,y,train_size=0.8)\n",
    "\n",
    "# Creating Validation set\n",
    "# X_train, y_train, X_val, y_val = train_test_split(X_train, y_train, train_size=0.9)"
   ]
  },
  {
   "cell_type": "code",
   "execution_count": 12,
   "id": "cf6eb12e",
   "metadata": {},
   "outputs": [
    {
     "data": {
      "text/html": [
       "<div>\n",
       "<style scoped>\n",
       "    .dataframe tbody tr th:only-of-type {\n",
       "        vertical-align: middle;\n",
       "    }\n",
       "\n",
       "    .dataframe tbody tr th {\n",
       "        vertical-align: top;\n",
       "    }\n",
       "\n",
       "    .dataframe thead th {\n",
       "        text-align: right;\n",
       "    }\n",
       "</style>\n",
       "<table border=\"1\" class=\"dataframe\">\n",
       "  <thead>\n",
       "    <tr style=\"text-align: right;\">\n",
       "      <th></th>\n",
       "      <th>energy-kcal_100g</th>\n",
       "      <th>saturated-fat_100g</th>\n",
       "      <th>sugars_100g</th>\n",
       "      <th>fiber_100g</th>\n",
       "      <th>proteins_100g</th>\n",
       "      <th>salt_100g</th>\n",
       "    </tr>\n",
       "  </thead>\n",
       "  <tbody>\n",
       "    <tr>\n",
       "      <th>594509</th>\n",
       "      <td>65.0</td>\n",
       "      <td>1.80</td>\n",
       "      <td>3.57</td>\n",
       "      <td>1.6</td>\n",
       "      <td>3.4</td>\n",
       "      <td>0.100000</td>\n",
       "    </tr>\n",
       "    <tr>\n",
       "      <th>216177</th>\n",
       "      <td>260.0</td>\n",
       "      <td>1.56</td>\n",
       "      <td>3.57</td>\n",
       "      <td>1.6</td>\n",
       "      <td>6.0</td>\n",
       "      <td>0.000000</td>\n",
       "    </tr>\n",
       "    <tr>\n",
       "      <th>281298</th>\n",
       "      <td>260.0</td>\n",
       "      <td>1.80</td>\n",
       "      <td>3.57</td>\n",
       "      <td>1.6</td>\n",
       "      <td>4.1</td>\n",
       "      <td>0.300000</td>\n",
       "    </tr>\n",
       "    <tr>\n",
       "      <th>332714</th>\n",
       "      <td>260.0</td>\n",
       "      <td>0.01</td>\n",
       "      <td>3.57</td>\n",
       "      <td>1.6</td>\n",
       "      <td>0.5</td>\n",
       "      <td>0.010000</td>\n",
       "    </tr>\n",
       "    <tr>\n",
       "      <th>522024</th>\n",
       "      <td>108.0</td>\n",
       "      <td>0.30</td>\n",
       "      <td>3.20</td>\n",
       "      <td>1.6</td>\n",
       "      <td>1.6</td>\n",
       "      <td>0.580000</td>\n",
       "    </tr>\n",
       "    <tr>\n",
       "      <th>...</th>\n",
       "      <td>...</td>\n",
       "      <td>...</td>\n",
       "      <td>...</td>\n",
       "      <td>...</td>\n",
       "      <td>...</td>\n",
       "      <td>...</td>\n",
       "    </tr>\n",
       "    <tr>\n",
       "      <th>364339</th>\n",
       "      <td>260.0</td>\n",
       "      <td>0.90</td>\n",
       "      <td>3.57</td>\n",
       "      <td>1.6</td>\n",
       "      <td>6.0</td>\n",
       "      <td>0.000000</td>\n",
       "    </tr>\n",
       "    <tr>\n",
       "      <th>335566</th>\n",
       "      <td>250.0</td>\n",
       "      <td>1.80</td>\n",
       "      <td>3.57</td>\n",
       "      <td>1.6</td>\n",
       "      <td>2.3</td>\n",
       "      <td>0.120000</td>\n",
       "    </tr>\n",
       "    <tr>\n",
       "      <th>731072</th>\n",
       "      <td>260.0</td>\n",
       "      <td>1.80</td>\n",
       "      <td>3.57</td>\n",
       "      <td>1.6</td>\n",
       "      <td>6.0</td>\n",
       "      <td>0.000348</td>\n",
       "    </tr>\n",
       "    <tr>\n",
       "      <th>548008</th>\n",
       "      <td>260.0</td>\n",
       "      <td>0.20</td>\n",
       "      <td>1.40</td>\n",
       "      <td>1.6</td>\n",
       "      <td>5.9</td>\n",
       "      <td>0.457200</td>\n",
       "    </tr>\n",
       "    <tr>\n",
       "      <th>93005</th>\n",
       "      <td>53.0</td>\n",
       "      <td>0.00</td>\n",
       "      <td>3.57</td>\n",
       "      <td>0.0</td>\n",
       "      <td>0.0</td>\n",
       "      <td>0.005000</td>\n",
       "    </tr>\n",
       "  </tbody>\n",
       "</table>\n",
       "<p>146345 rows × 6 columns</p>\n",
       "</div>"
      ],
      "text/plain": [
       "        energy-kcal_100g  saturated-fat_100g  sugars_100g  fiber_100g  \\\n",
       "594509              65.0                1.80         3.57         1.6   \n",
       "216177             260.0                1.56         3.57         1.6   \n",
       "281298             260.0                1.80         3.57         1.6   \n",
       "332714             260.0                0.01         3.57         1.6   \n",
       "522024             108.0                0.30         3.20         1.6   \n",
       "...                  ...                 ...          ...         ...   \n",
       "364339             260.0                0.90         3.57         1.6   \n",
       "335566             250.0                1.80         3.57         1.6   \n",
       "731072             260.0                1.80         3.57         1.6   \n",
       "548008             260.0                0.20         1.40         1.6   \n",
       "93005               53.0                0.00         3.57         0.0   \n",
       "\n",
       "        proteins_100g  salt_100g  \n",
       "594509            3.4   0.100000  \n",
       "216177            6.0   0.000000  \n",
       "281298            4.1   0.300000  \n",
       "332714            0.5   0.010000  \n",
       "522024            1.6   0.580000  \n",
       "...               ...        ...  \n",
       "364339            6.0   0.000000  \n",
       "335566            2.3   0.120000  \n",
       "731072            6.0   0.000348  \n",
       "548008            5.9   0.457200  \n",
       "93005             0.0   0.005000  \n",
       "\n",
       "[146345 rows x 6 columns]"
      ]
     },
     "execution_count": 12,
     "metadata": {},
     "output_type": "execute_result"
    }
   ],
   "source": [
    "X_test"
   ]
  },
  {
   "cell_type": "code",
   "execution_count": 13,
   "id": "5aa2849d",
   "metadata": {},
   "outputs": [],
   "source": [
    "scaler = StandardScaler()\n",
    "X_train = scaler.fit_transform(X_train)\n",
    "X_test = scaler.transform(X_test)"
   ]
  },
  {
   "cell_type": "markdown",
   "id": "f256320a",
   "metadata": {},
   "source": [
    "<h3> Running the models"
   ]
  },
  {
   "cell_type": "code",
   "execution_count": 14,
   "id": "9f7288eb",
   "metadata": {},
   "outputs": [],
   "source": [
    "import math\n",
    "from sklearn.dummy import DummyRegressor\n",
    "from sklearn.linear_model import ElasticNetCV\n",
    "from sklearn.ensemble import RandomForestRegressor\n",
    "from xgboost import XGBRegressor\n",
    "\n",
    "from sklearn.metrics import mean_squared_error, r2_score"
   ]
  },
  {
   "cell_type": "markdown",
   "id": "67e3c3e5",
   "metadata": {},
   "source": [
    "<h5> Dummy regressor"
   ]
  },
  {
   "cell_type": "code",
   "execution_count": 15,
   "id": "1978b6b2",
   "metadata": {},
   "outputs": [],
   "source": [
    "results = pd.DataFrame(columns=['Model','RMSE','R2','Adj R2'])\n",
    "n = X_test.shape[0]\n",
    "p = y_test.shape[1]-1"
   ]
  },
  {
   "cell_type": "code",
   "execution_count": 16,
   "id": "7a008dd5",
   "metadata": {},
   "outputs": [
    {
     "data": {
      "text/plain": [
       "DummyRegressor()"
      ]
     },
     "execution_count": 16,
     "metadata": {},
     "output_type": "execute_result"
    }
   ],
   "source": [
    "dummy_reg = DummyRegressor(strategy=\"mean\")\n",
    "dummy_reg.fit(X_train,y_train['nutrition-score-fr_100g'])"
   ]
  },
  {
   "cell_type": "code",
   "execution_count": 17,
   "id": "f9c74a41",
   "metadata": {},
   "outputs": [],
   "source": [
    "dummy_rmse = math.sqrt(mean_squared_error(dummy_reg.predict(X_test), y_test['nutrition-score-fr_100g']))\n",
    "dummy_r2 = r2_score(dummy_reg.predict(X_test), y_test['nutrition-score-fr_100g'])"
   ]
  },
  {
   "cell_type": "code",
   "execution_count": 18,
   "id": "3350b58d",
   "metadata": {},
   "outputs": [
    {
     "data": {
      "text/html": [
       "<div>\n",
       "<style scoped>\n",
       "    .dataframe tbody tr th:only-of-type {\n",
       "        vertical-align: middle;\n",
       "    }\n",
       "\n",
       "    .dataframe tbody tr th {\n",
       "        vertical-align: top;\n",
       "    }\n",
       "\n",
       "    .dataframe thead th {\n",
       "        text-align: right;\n",
       "    }\n",
       "</style>\n",
       "<table border=\"1\" class=\"dataframe\">\n",
       "  <thead>\n",
       "    <tr style=\"text-align: right;\">\n",
       "      <th></th>\n",
       "      <th>Model</th>\n",
       "      <th>RMSE</th>\n",
       "      <th>R2</th>\n",
       "      <th>Adj R2</th>\n",
       "    </tr>\n",
       "  </thead>\n",
       "  <tbody>\n",
       "    <tr>\n",
       "      <th>0</th>\n",
       "      <td>DummyRegressor</td>\n",
       "      <td>8.859176</td>\n",
       "      <td>-2.487289e+31</td>\n",
       "      <td>-2.487306e+31</td>\n",
       "    </tr>\n",
       "  </tbody>\n",
       "</table>\n",
       "</div>"
      ],
      "text/plain": [
       "            Model      RMSE            R2        Adj R2\n",
       "0  DummyRegressor  8.859176 -2.487289e+31 -2.487306e+31"
      ]
     },
     "execution_count": 18,
     "metadata": {},
     "output_type": "execute_result"
    }
   ],
   "source": [
    "results = results.append({\n",
    "  'Model':'DummyRegressor',\n",
    "  'RMSE':dummy_rmse,\n",
    "  'R2': dummy_r2,\n",
    "  'Adj R2':1-((1-dummy_r2)*(n-1)/(n-p-1))\n",
    "},ignore_index=True)\n",
    "\n",
    "results"
   ]
  },
  {
   "cell_type": "markdown",
   "id": "b3f89477",
   "metadata": {},
   "source": [
    "<h5> Linear Model"
   ]
  },
  {
   "cell_type": "code",
   "execution_count": 19,
   "id": "fa5310f3",
   "metadata": {},
   "outputs": [
    {
     "data": {
      "text/plain": [
       "ElasticNetCV()"
      ]
     },
     "execution_count": 19,
     "metadata": {},
     "output_type": "execute_result"
    }
   ],
   "source": [
    "elastic_net = ElasticNetCV()\n",
    "elastic_net.fit(X_train,y_train['nutrition-score-fr_100g'])"
   ]
  },
  {
   "cell_type": "code",
   "execution_count": 20,
   "id": "db6bde27",
   "metadata": {},
   "outputs": [],
   "source": [
    "elastic_net_rmse = math.sqrt(mean_squared_error(elastic_net.predict(X_test), y_test['nutrition-score-fr_100g']))\n",
    "elastic_net_r2 = r2_score(elastic_net.predict(X_test), y_test['nutrition-score-fr_100g'])"
   ]
  },
  {
   "cell_type": "code",
   "execution_count": 21,
   "id": "0c5e2044",
   "metadata": {},
   "outputs": [
    {
     "data": {
      "text/html": [
       "<div>\n",
       "<style scoped>\n",
       "    .dataframe tbody tr th:only-of-type {\n",
       "        vertical-align: middle;\n",
       "    }\n",
       "\n",
       "    .dataframe tbody tr th {\n",
       "        vertical-align: top;\n",
       "    }\n",
       "\n",
       "    .dataframe thead th {\n",
       "        text-align: right;\n",
       "    }\n",
       "</style>\n",
       "<table border=\"1\" class=\"dataframe\">\n",
       "  <thead>\n",
       "    <tr style=\"text-align: right;\">\n",
       "      <th></th>\n",
       "      <th>Model</th>\n",
       "      <th>RMSE</th>\n",
       "      <th>R2</th>\n",
       "      <th>Adj R2</th>\n",
       "    </tr>\n",
       "  </thead>\n",
       "  <tbody>\n",
       "    <tr>\n",
       "      <th>0</th>\n",
       "      <td>DummyRegressor</td>\n",
       "      <td>8.859176</td>\n",
       "      <td>-2.487289e+31</td>\n",
       "      <td>-2.487306e+31</td>\n",
       "    </tr>\n",
       "    <tr>\n",
       "      <th>1</th>\n",
       "      <td>Elastic Net</td>\n",
       "      <td>6.392632</td>\n",
       "      <td>-1.040048e-01</td>\n",
       "      <td>-1.040124e-01</td>\n",
       "    </tr>\n",
       "  </tbody>\n",
       "</table>\n",
       "</div>"
      ],
      "text/plain": [
       "            Model      RMSE            R2        Adj R2\n",
       "0  DummyRegressor  8.859176 -2.487289e+31 -2.487306e+31\n",
       "1     Elastic Net  6.392632 -1.040048e-01 -1.040124e-01"
      ]
     },
     "execution_count": 21,
     "metadata": {},
     "output_type": "execute_result"
    }
   ],
   "source": [
    "results = results.append({\n",
    "  'Model':'Elastic Net',\n",
    "  'RMSE':elastic_net_rmse,\n",
    "  'R2':elastic_net_r2,\n",
    "  'Adj R2' : 1-((1-elastic_net_r2)*(n-1)/(n-p-1))\n",
    "},ignore_index=True)\n",
    "\n",
    "results"
   ]
  },
  {
   "cell_type": "markdown",
   "id": "789ad34c",
   "metadata": {},
   "source": [
    "<h5> Random Forest"
   ]
  },
  {
   "cell_type": "code",
   "execution_count": 22,
   "id": "8a3193d0",
   "metadata": {},
   "outputs": [
    {
     "data": {
      "text/plain": [
       "RandomForestRegressor(n_jobs=-1)"
      ]
     },
     "execution_count": 22,
     "metadata": {},
     "output_type": "execute_result"
    }
   ],
   "source": [
    "rfr = RandomForestRegressor(n_jobs=-1)\n",
    "rfr.fit(X_train,y_train['nutrition-score-fr_100g'])"
   ]
  },
  {
   "cell_type": "code",
   "execution_count": 23,
   "id": "60234517",
   "metadata": {},
   "outputs": [],
   "source": [
    "rfr_rmse = math.sqrt(mean_squared_error(rfr.predict(X_test), y_test['nutrition-score-fr_100g']))\n",
    "rfr_r2 = r2_score(rfr.predict(X_test), y_test['nutrition-score-fr_100g'])"
   ]
  },
  {
   "cell_type": "code",
   "execution_count": 24,
   "id": "9a4c9afb",
   "metadata": {},
   "outputs": [
    {
     "data": {
      "text/html": [
       "<div>\n",
       "<style scoped>\n",
       "    .dataframe tbody tr th:only-of-type {\n",
       "        vertical-align: middle;\n",
       "    }\n",
       "\n",
       "    .dataframe tbody tr th {\n",
       "        vertical-align: top;\n",
       "    }\n",
       "\n",
       "    .dataframe thead th {\n",
       "        text-align: right;\n",
       "    }\n",
       "</style>\n",
       "<table border=\"1\" class=\"dataframe\">\n",
       "  <thead>\n",
       "    <tr style=\"text-align: right;\">\n",
       "      <th></th>\n",
       "      <th>Model</th>\n",
       "      <th>RMSE</th>\n",
       "      <th>R2</th>\n",
       "      <th>Adj R2</th>\n",
       "    </tr>\n",
       "  </thead>\n",
       "  <tbody>\n",
       "    <tr>\n",
       "      <th>0</th>\n",
       "      <td>DummyRegressor</td>\n",
       "      <td>8.859176</td>\n",
       "      <td>-2.487289e+31</td>\n",
       "      <td>-2.487306e+31</td>\n",
       "    </tr>\n",
       "    <tr>\n",
       "      <th>1</th>\n",
       "      <td>Elastic Net</td>\n",
       "      <td>6.392632</td>\n",
       "      <td>-1.040048e-01</td>\n",
       "      <td>-1.040124e-01</td>\n",
       "    </tr>\n",
       "    <tr>\n",
       "      <th>2</th>\n",
       "      <td>Random Forest</td>\n",
       "      <td>4.747805</td>\n",
       "      <td>6.200919e-01</td>\n",
       "      <td>6.200893e-01</td>\n",
       "    </tr>\n",
       "  </tbody>\n",
       "</table>\n",
       "</div>"
      ],
      "text/plain": [
       "            Model      RMSE            R2        Adj R2\n",
       "0  DummyRegressor  8.859176 -2.487289e+31 -2.487306e+31\n",
       "1     Elastic Net  6.392632 -1.040048e-01 -1.040124e-01\n",
       "2   Random Forest  4.747805  6.200919e-01  6.200893e-01"
      ]
     },
     "execution_count": 24,
     "metadata": {},
     "output_type": "execute_result"
    }
   ],
   "source": [
    "results = results.append({\n",
    "  'Model':'Random Forest',\n",
    "  'RMSE':rfr_rmse,\n",
    "  'R2':rfr_r2,\n",
    "  'Adj R2': 1-((1-rfr_r2)*(n-1)/(n-p-1))\n",
    "},ignore_index=True)\n",
    "\n",
    "results"
   ]
  },
  {
   "cell_type": "markdown",
   "id": "ee9c0045",
   "metadata": {},
   "source": [
    "<h5> XGBoost"
   ]
  },
  {
   "cell_type": "code",
   "execution_count": 25,
   "id": "331d8ac7",
   "metadata": {},
   "outputs": [
    {
     "data": {
      "text/plain": [
       "XGBRegressor(base_score=0.5, booster='gbtree', colsample_bylevel=1,\n",
       "             colsample_bynode=1, colsample_bytree=1, enable_categorical=False,\n",
       "             gamma=0, gpu_id=-1, importance_type=None,\n",
       "             interaction_constraints='', learning_rate=0.300000012,\n",
       "             max_delta_step=0, max_depth=6, min_child_weight=1, missing=nan,\n",
       "             monotone_constraints='()', n_estimators=100, n_jobs=8,\n",
       "             num_parallel_tree=1, predictor='auto', random_state=0, reg_alpha=0,\n",
       "             reg_lambda=1, scale_pos_weight=1, subsample=1, tree_method='exact',\n",
       "             validate_parameters=1, verbosity=None)"
      ]
     },
     "execution_count": 25,
     "metadata": {},
     "output_type": "execute_result"
    }
   ],
   "source": [
    "xgb = XGBRegressor()\n",
    "xgb.fit(X_train, y_train['nutrition-score-fr_100g'])"
   ]
  },
  {
   "cell_type": "code",
   "execution_count": 26,
   "id": "4d63828d",
   "metadata": {},
   "outputs": [],
   "source": [
    "xgb_rmse = math.sqrt(mean_squared_error(xgb.predict(X_test), y_test['nutrition-score-fr_100g']))\n",
    "xgb_r2 = r2_score(xgb.predict(X_test), y_test['nutrition-score-fr_100g'])"
   ]
  },
  {
   "cell_type": "code",
   "execution_count": 27,
   "id": "a198bc5a",
   "metadata": {},
   "outputs": [
    {
     "data": {
      "text/html": [
       "<div>\n",
       "<style scoped>\n",
       "    .dataframe tbody tr th:only-of-type {\n",
       "        vertical-align: middle;\n",
       "    }\n",
       "\n",
       "    .dataframe tbody tr th {\n",
       "        vertical-align: top;\n",
       "    }\n",
       "\n",
       "    .dataframe thead th {\n",
       "        text-align: right;\n",
       "    }\n",
       "</style>\n",
       "<table border=\"1\" class=\"dataframe\">\n",
       "  <thead>\n",
       "    <tr style=\"text-align: right;\">\n",
       "      <th></th>\n",
       "      <th>Model</th>\n",
       "      <th>RMSE</th>\n",
       "      <th>R2</th>\n",
       "      <th>Adj R2</th>\n",
       "    </tr>\n",
       "  </thead>\n",
       "  <tbody>\n",
       "    <tr>\n",
       "      <th>0</th>\n",
       "      <td>DummyRegressor</td>\n",
       "      <td>8.859176</td>\n",
       "      <td>-2.487289e+31</td>\n",
       "      <td>-2.487306e+31</td>\n",
       "    </tr>\n",
       "    <tr>\n",
       "      <th>1</th>\n",
       "      <td>Elastic Net</td>\n",
       "      <td>6.392632</td>\n",
       "      <td>-1.040048e-01</td>\n",
       "      <td>-1.040124e-01</td>\n",
       "    </tr>\n",
       "    <tr>\n",
       "      <th>2</th>\n",
       "      <td>Random Forest</td>\n",
       "      <td>4.747805</td>\n",
       "      <td>6.200919e-01</td>\n",
       "      <td>6.200893e-01</td>\n",
       "    </tr>\n",
       "    <tr>\n",
       "      <th>3</th>\n",
       "      <td>XGBoost</td>\n",
       "      <td>4.838125</td>\n",
       "      <td>5.695203e-01</td>\n",
       "      <td>5.695174e-01</td>\n",
       "    </tr>\n",
       "  </tbody>\n",
       "</table>\n",
       "</div>"
      ],
      "text/plain": [
       "            Model      RMSE            R2        Adj R2\n",
       "0  DummyRegressor  8.859176 -2.487289e+31 -2.487306e+31\n",
       "1     Elastic Net  6.392632 -1.040048e-01 -1.040124e-01\n",
       "2   Random Forest  4.747805  6.200919e-01  6.200893e-01\n",
       "3         XGBoost  4.838125  5.695203e-01  5.695174e-01"
      ]
     },
     "execution_count": 27,
     "metadata": {},
     "output_type": "execute_result"
    }
   ],
   "source": [
    "results = results.append({\n",
    "  'Model':'XGBoost',\n",
    "  'RMSE':xgb_rmse,\n",
    "  'R2':xgb_r2,\n",
    "  'Adj R2':1-((1-xgb_r2)*(n-1)/(n-p-1))\n",
    "},ignore_index=True)\n",
    "\n",
    "results"
   ]
  },
  {
   "cell_type": "markdown",
   "id": "4bc7ed8e",
   "metadata": {},
   "source": [
    "<h3>GridSearchCV on Random Forest and XGBoost:"
   ]
  },
  {
   "cell_type": "code",
   "execution_count": 28,
   "id": "59dfa5f1",
   "metadata": {},
   "outputs": [],
   "source": [
    "#xgb_parameters = {\n",
    "#  'n_estimators':[2000,3000],\n",
    "#  'learning_rate': [0.2,0.3]\n",
    "#}"
   ]
  },
  {
   "cell_type": "code",
   "execution_count": 29,
   "id": "fa325f7a",
   "metadata": {},
   "outputs": [],
   "source": [
    "#xgb_grid = GridSearchCV(estimator = XGBRegressor(), \n",
    "#                      scoring='neg_root_mean_squared_error',\n",
    "#                      param_grid = xgb_parameters,\n",
    "#                      cv=3,\n",
    "#                      verbose=False\n",
    "#)\n",
    "#\n",
    "#xgb_grid.fit(X_train, y_train['nutrition-score-fr_100g'])"
   ]
  },
  {
   "cell_type": "code",
   "execution_count": 30,
   "id": "2f5e263b",
   "metadata": {},
   "outputs": [],
   "source": [
    "#xgb_best_params_ = xgb_grid.best_params_\n",
    "#xgb_best_params_"
   ]
  },
  {
   "cell_type": "code",
   "execution_count": 31,
   "id": "36d2672c",
   "metadata": {},
   "outputs": [],
   "source": [
    "#xgb_opt = xgb_grid.best_estimator_"
   ]
  },
  {
   "cell_type": "code",
   "execution_count": 32,
   "id": "ec0b9a6b",
   "metadata": {},
   "outputs": [],
   "source": [
    "#xgb_opt_rmse = math.sqrt(mean_squared_error(xgb_opt.predict(X_test), y_test['nutrition-score-fr_100g']))\n",
    "#xgb_opt_r2 = r2_score(xgb_opt.predict(X_test), y_test['nutrition-score-fr_100g'])\n",
    "\n",
    "#results = results.append({\n",
    "#  'Model':'XGBoost Hypt',\n",
    "#  'RMSE':xgb_opt_rmse,\n",
    "#  'R2':xgb_opt_r2,\n",
    "#  'Adj R2':1-((1-xgb_opt_r2)*(n-1)/(n-p-1))\n",
    "#},ignore_index=True)\n",
    "\n",
    "#results"
   ]
  },
  {
   "cell_type": "code",
   "execution_count": 33,
   "id": "21adb10b",
   "metadata": {},
   "outputs": [],
   "source": [
    "#rfr_parameters = {\n",
    "#  'n_estimators': [1000],\n",
    "#  #'n_estimators': [200,500,1000],\n",
    "#}"
   ]
  },
  {
   "cell_type": "code",
   "execution_count": 34,
   "id": "3882f1e5",
   "metadata": {},
   "outputs": [],
   "source": [
    "#rfr_grid = GridSearchCV(estimator = RandomForestRegressor(n_jobs=-1), \n",
    "#                      scoring='neg_root_mean_squared_error',\n",
    "#                      param_grid = rfr_parameters,\n",
    "#                      cv=3,\n",
    "#                      verbose=False\n",
    "#                     )\n",
    "#\n",
    "#rfr_grid.fit(X_train, y_train['nutrition-score-fr_100g'])"
   ]
  },
  {
   "cell_type": "code",
   "execution_count": 35,
   "id": "7626a974",
   "metadata": {},
   "outputs": [],
   "source": [
    "#rfr_best_params_ = rfr_grid.best_params_\n",
    "#rfr_best_params_"
   ]
  },
  {
   "cell_type": "code",
   "execution_count": 36,
   "id": "cb3dd298",
   "metadata": {},
   "outputs": [],
   "source": [
    "#rfr_opt = rfr_grid.best_estimator_"
   ]
  },
  {
   "cell_type": "code",
   "execution_count": 37,
   "id": "5dfd6454",
   "metadata": {},
   "outputs": [],
   "source": [
    "#rfr_opt_rmse = math.sqrt(mean_squared_error(rfr_opt.predict(X_test), y_test['nutrition-score-fr_100g']))\n",
    "#rfr_opt_r2 = r2_score(rfr_opt.predict(X_test), y_test['nutrition-score-fr_100g'])\n",
    "\n",
    "#results = results.append({\n",
    "#  'Model':'Random Forest Hypt',\n",
    "#  'RMSE':rfr_opt_rmse,\n",
    "#  'R2':rfr_opt_r2,\n",
    "#  'Adj R2':1-((1-rfr_opt_r2)*(n-1)/(n-p-1))\n",
    "#},ignore_index=True)\n",
    "\n",
    "#results"
   ]
  },
  {
   "cell_type": "code",
   "execution_count": 38,
   "id": "df80a8f3",
   "metadata": {},
   "outputs": [],
   "source": [
    "#min(rfr_opt_rmse,xgb_opt_rmse)"
   ]
  },
  {
   "cell_type": "code",
   "execution_count": 39,
   "id": "edd0cffb",
   "metadata": {},
   "outputs": [],
   "source": [
    "if rfr_rmse < xgb_rmse:\n",
    "  rgr_opt = rfr\n",
    "else:\n",
    "  rgr_opt = xgb"
   ]
  },
  {
   "cell_type": "markdown",
   "id": "ff77ae9f",
   "metadata": {},
   "source": [
    "We assume to pick Random Forest as our main model. Lets transform our numbers into letters, and then use recall and precision to evaluate our model performance."
   ]
  },
  {
   "cell_type": "code",
   "execution_count": 40,
   "id": "2f78ecb3",
   "metadata": {},
   "outputs": [],
   "source": [
    "y_pred = rgr_opt.predict(X_test)"
   ]
  },
  {
   "cell_type": "code",
   "execution_count": 41,
   "id": "2392b370",
   "metadata": {},
   "outputs": [
    {
     "data": {
      "text/html": [
       "<div>\n",
       "<style scoped>\n",
       "    .dataframe tbody tr th:only-of-type {\n",
       "        vertical-align: middle;\n",
       "    }\n",
       "\n",
       "    .dataframe tbody tr th {\n",
       "        vertical-align: top;\n",
       "    }\n",
       "\n",
       "    .dataframe thead th {\n",
       "        text-align: right;\n",
       "    }\n",
       "</style>\n",
       "<table border=\"1\" class=\"dataframe\">\n",
       "  <thead>\n",
       "    <tr style=\"text-align: right;\">\n",
       "      <th></th>\n",
       "      <th>nutrition-score-fr_100g</th>\n",
       "      <th>nutriscore_grade</th>\n",
       "    </tr>\n",
       "  </thead>\n",
       "  <tbody>\n",
       "    <tr>\n",
       "      <th>594509</th>\n",
       "      <td>0.0</td>\n",
       "      <td>b</td>\n",
       "    </tr>\n",
       "    <tr>\n",
       "      <th>216177</th>\n",
       "      <td>10.0</td>\n",
       "      <td>c</td>\n",
       "    </tr>\n",
       "    <tr>\n",
       "      <th>281298</th>\n",
       "      <td>26.0</td>\n",
       "      <td>e</td>\n",
       "    </tr>\n",
       "    <tr>\n",
       "      <th>332714</th>\n",
       "      <td>14.0</td>\n",
       "      <td>d</td>\n",
       "    </tr>\n",
       "    <tr>\n",
       "      <th>522024</th>\n",
       "      <td>6.0</td>\n",
       "      <td>c</td>\n",
       "    </tr>\n",
       "    <tr>\n",
       "      <th>...</th>\n",
       "      <td>...</td>\n",
       "      <td>...</td>\n",
       "    </tr>\n",
       "    <tr>\n",
       "      <th>364339</th>\n",
       "      <td>-7.0</td>\n",
       "      <td>a</td>\n",
       "    </tr>\n",
       "    <tr>\n",
       "      <th>335566</th>\n",
       "      <td>13.0</td>\n",
       "      <td>d</td>\n",
       "    </tr>\n",
       "    <tr>\n",
       "      <th>731072</th>\n",
       "      <td>0.0</td>\n",
       "      <td>a</td>\n",
       "    </tr>\n",
       "    <tr>\n",
       "      <th>548008</th>\n",
       "      <td>-9.0</td>\n",
       "      <td>a</td>\n",
       "    </tr>\n",
       "    <tr>\n",
       "      <th>93005</th>\n",
       "      <td>17.0</td>\n",
       "      <td>e</td>\n",
       "    </tr>\n",
       "  </tbody>\n",
       "</table>\n",
       "<p>146345 rows × 2 columns</p>\n",
       "</div>"
      ],
      "text/plain": [
       "        nutrition-score-fr_100g nutriscore_grade\n",
       "594509                      0.0                b\n",
       "216177                     10.0                c\n",
       "281298                     26.0                e\n",
       "332714                     14.0                d\n",
       "522024                      6.0                c\n",
       "...                         ...              ...\n",
       "364339                     -7.0                a\n",
       "335566                     13.0                d\n",
       "731072                      0.0                a\n",
       "548008                     -9.0                a\n",
       "93005                      17.0                e\n",
       "\n",
       "[146345 rows x 2 columns]"
      ]
     },
     "execution_count": 41,
     "metadata": {},
     "output_type": "execute_result"
    }
   ],
   "source": [
    "y_test"
   ]
  },
  {
   "cell_type": "code",
   "execution_count": 42,
   "id": "9b739af0",
   "metadata": {},
   "outputs": [
    {
     "data": {
      "text/html": [
       "<div>\n",
       "<style scoped>\n",
       "    .dataframe tbody tr th:only-of-type {\n",
       "        vertical-align: middle;\n",
       "    }\n",
       "\n",
       "    .dataframe tbody tr th {\n",
       "        vertical-align: top;\n",
       "    }\n",
       "\n",
       "    .dataframe thead th {\n",
       "        text-align: right;\n",
       "    }\n",
       "</style>\n",
       "<table border=\"1\" class=\"dataframe\">\n",
       "  <thead>\n",
       "    <tr style=\"text-align: right;\">\n",
       "      <th></th>\n",
       "      <th>y_pred</th>\n",
       "      <th>y_true</th>\n",
       "      <th>y_original_grade</th>\n",
       "    </tr>\n",
       "  </thead>\n",
       "  <tbody>\n",
       "    <tr>\n",
       "      <th>594509</th>\n",
       "      <td>2.454631</td>\n",
       "      <td>0.0</td>\n",
       "      <td>b</td>\n",
       "    </tr>\n",
       "    <tr>\n",
       "      <th>216177</th>\n",
       "      <td>8.670802</td>\n",
       "      <td>10.0</td>\n",
       "      <td>c</td>\n",
       "    </tr>\n",
       "    <tr>\n",
       "      <th>281298</th>\n",
       "      <td>21.869849</td>\n",
       "      <td>26.0</td>\n",
       "      <td>e</td>\n",
       "    </tr>\n",
       "    <tr>\n",
       "      <th>332714</th>\n",
       "      <td>9.403704</td>\n",
       "      <td>14.0</td>\n",
       "      <td>d</td>\n",
       "    </tr>\n",
       "    <tr>\n",
       "      <th>522024</th>\n",
       "      <td>3.710000</td>\n",
       "      <td>6.0</td>\n",
       "      <td>c</td>\n",
       "    </tr>\n",
       "    <tr>\n",
       "      <th>...</th>\n",
       "      <td>...</td>\n",
       "      <td>...</td>\n",
       "      <td>...</td>\n",
       "    </tr>\n",
       "    <tr>\n",
       "      <th>364339</th>\n",
       "      <td>1.076972</td>\n",
       "      <td>-7.0</td>\n",
       "      <td>a</td>\n",
       "    </tr>\n",
       "    <tr>\n",
       "      <th>335566</th>\n",
       "      <td>14.060000</td>\n",
       "      <td>13.0</td>\n",
       "      <td>d</td>\n",
       "    </tr>\n",
       "    <tr>\n",
       "      <th>731072</th>\n",
       "      <td>0.340000</td>\n",
       "      <td>0.0</td>\n",
       "      <td>a</td>\n",
       "    </tr>\n",
       "    <tr>\n",
       "      <th>548008</th>\n",
       "      <td>-4.633333</td>\n",
       "      <td>-9.0</td>\n",
       "      <td>a</td>\n",
       "    </tr>\n",
       "    <tr>\n",
       "      <th>93005</th>\n",
       "      <td>14.212302</td>\n",
       "      <td>17.0</td>\n",
       "      <td>e</td>\n",
       "    </tr>\n",
       "  </tbody>\n",
       "</table>\n",
       "<p>146345 rows × 3 columns</p>\n",
       "</div>"
      ],
      "text/plain": [
       "           y_pred  y_true y_original_grade\n",
       "594509   2.454631     0.0                b\n",
       "216177   8.670802    10.0                c\n",
       "281298  21.869849    26.0                e\n",
       "332714   9.403704    14.0                d\n",
       "522024   3.710000     6.0                c\n",
       "...           ...     ...              ...\n",
       "364339   1.076972    -7.0                a\n",
       "335566  14.060000    13.0                d\n",
       "731072   0.340000     0.0                a\n",
       "548008  -4.633333    -9.0                a\n",
       "93005   14.212302    17.0                e\n",
       "\n",
       "[146345 rows x 3 columns]"
      ]
     },
     "execution_count": 42,
     "metadata": {},
     "output_type": "execute_result"
    }
   ],
   "source": [
    "d = {'y_pred': y_pred, 'y_true': y_test['nutrition-score-fr_100g'], 'y_original_grade':y_test['nutriscore_grade']}\n",
    "df = pd.DataFrame(data = d)\n",
    "df"
   ]
  },
  {
   "cell_type": "code",
   "execution_count": 43,
   "id": "bc47d069",
   "metadata": {},
   "outputs": [],
   "source": [
    "df['y_pred_grade'] = df.y_pred.apply(lambda x: grader_food(x))\n",
    "df['y_true_grade'] = df.y_true.apply(lambda x: grader_food(x))"
   ]
  },
  {
   "cell_type": "code",
   "execution_count": 44,
   "id": "6f576a26",
   "metadata": {},
   "outputs": [
    {
     "data": {
      "text/html": [
       "<div>\n",
       "<style scoped>\n",
       "    .dataframe tbody tr th:only-of-type {\n",
       "        vertical-align: middle;\n",
       "    }\n",
       "\n",
       "    .dataframe tbody tr th {\n",
       "        vertical-align: top;\n",
       "    }\n",
       "\n",
       "    .dataframe thead th {\n",
       "        text-align: right;\n",
       "    }\n",
       "</style>\n",
       "<table border=\"1\" class=\"dataframe\">\n",
       "  <thead>\n",
       "    <tr style=\"text-align: right;\">\n",
       "      <th></th>\n",
       "      <th>y_pred</th>\n",
       "      <th>y_true</th>\n",
       "      <th>y_original_grade</th>\n",
       "      <th>y_pred_grade</th>\n",
       "      <th>y_true_grade</th>\n",
       "    </tr>\n",
       "  </thead>\n",
       "  <tbody>\n",
       "    <tr>\n",
       "      <th>594509</th>\n",
       "      <td>2.454631</td>\n",
       "      <td>0.0</td>\n",
       "      <td>b</td>\n",
       "      <td>c</td>\n",
       "      <td>b</td>\n",
       "    </tr>\n",
       "    <tr>\n",
       "      <th>216177</th>\n",
       "      <td>8.670802</td>\n",
       "      <td>10.0</td>\n",
       "      <td>c</td>\n",
       "      <td>c</td>\n",
       "      <td>c</td>\n",
       "    </tr>\n",
       "    <tr>\n",
       "      <th>281298</th>\n",
       "      <td>21.869849</td>\n",
       "      <td>26.0</td>\n",
       "      <td>e</td>\n",
       "      <td>e</td>\n",
       "      <td>e</td>\n",
       "    </tr>\n",
       "    <tr>\n",
       "      <th>332714</th>\n",
       "      <td>9.403704</td>\n",
       "      <td>14.0</td>\n",
       "      <td>d</td>\n",
       "      <td>c</td>\n",
       "      <td>d</td>\n",
       "    </tr>\n",
       "    <tr>\n",
       "      <th>522024</th>\n",
       "      <td>3.710000</td>\n",
       "      <td>6.0</td>\n",
       "      <td>c</td>\n",
       "      <td>c</td>\n",
       "      <td>c</td>\n",
       "    </tr>\n",
       "    <tr>\n",
       "      <th>...</th>\n",
       "      <td>...</td>\n",
       "      <td>...</td>\n",
       "      <td>...</td>\n",
       "      <td>...</td>\n",
       "      <td>...</td>\n",
       "    </tr>\n",
       "    <tr>\n",
       "      <th>364339</th>\n",
       "      <td>1.076972</td>\n",
       "      <td>-7.0</td>\n",
       "      <td>a</td>\n",
       "      <td>b</td>\n",
       "      <td>a</td>\n",
       "    </tr>\n",
       "    <tr>\n",
       "      <th>335566</th>\n",
       "      <td>14.060000</td>\n",
       "      <td>13.0</td>\n",
       "      <td>d</td>\n",
       "      <td>d</td>\n",
       "      <td>d</td>\n",
       "    </tr>\n",
       "    <tr>\n",
       "      <th>731072</th>\n",
       "      <td>0.340000</td>\n",
       "      <td>0.0</td>\n",
       "      <td>a</td>\n",
       "      <td>b</td>\n",
       "      <td>b</td>\n",
       "    </tr>\n",
       "    <tr>\n",
       "      <th>548008</th>\n",
       "      <td>-4.633333</td>\n",
       "      <td>-9.0</td>\n",
       "      <td>a</td>\n",
       "      <td>a</td>\n",
       "      <td>a</td>\n",
       "    </tr>\n",
       "    <tr>\n",
       "      <th>93005</th>\n",
       "      <td>14.212302</td>\n",
       "      <td>17.0</td>\n",
       "      <td>e</td>\n",
       "      <td>d</td>\n",
       "      <td>d</td>\n",
       "    </tr>\n",
       "  </tbody>\n",
       "</table>\n",
       "<p>146345 rows × 5 columns</p>\n",
       "</div>"
      ],
      "text/plain": [
       "           y_pred  y_true y_original_grade y_pred_grade y_true_grade\n",
       "594509   2.454631     0.0                b            c            b\n",
       "216177   8.670802    10.0                c            c            c\n",
       "281298  21.869849    26.0                e            e            e\n",
       "332714   9.403704    14.0                d            c            d\n",
       "522024   3.710000     6.0                c            c            c\n",
       "...           ...     ...              ...          ...          ...\n",
       "364339   1.076972    -7.0                a            b            a\n",
       "335566  14.060000    13.0                d            d            d\n",
       "731072   0.340000     0.0                a            b            b\n",
       "548008  -4.633333    -9.0                a            a            a\n",
       "93005   14.212302    17.0                e            d            d\n",
       "\n",
       "[146345 rows x 5 columns]"
      ]
     },
     "execution_count": 44,
     "metadata": {},
     "output_type": "execute_result"
    }
   ],
   "source": [
    "df"
   ]
  },
  {
   "cell_type": "code",
   "execution_count": 45,
   "id": "efa6afb4",
   "metadata": {},
   "outputs": [],
   "source": [
    "from sklearn.metrics import confusion_matrix,classification_report"
   ]
  },
  {
   "cell_type": "code",
   "execution_count": 46,
   "id": "d44a82c6",
   "metadata": {},
   "outputs": [],
   "source": [
    "labels = ['a','b','c','d','e']"
   ]
  },
  {
   "cell_type": "code",
   "execution_count": 47,
   "id": "dd69e733",
   "metadata": {},
   "outputs": [],
   "source": [
    "cf_matrix = confusion_matrix(df['y_original_grade'],df['y_pred_grade'],labels=labels)"
   ]
  },
  {
   "cell_type": "code",
   "execution_count": 48,
   "id": "1434982a",
   "metadata": {},
   "outputs": [
    {
     "data": {
      "image/png": "[encoded data removed]",
      "text/plain": [
       "<Figure size 864x720 with 2 Axes>"
      ]
     },
     "metadata": {
      "needs_background": "light"
     },
     "output_type": "display_data"
    }
   ],
   "source": [
    "fig = plt.figure(figsize=(12,10))\n",
    "ax = sns.heatmap(cf_matrix, annot=True)\n",
    "ax.set_xlabel(\"PREDICTED LABELS\", color=\"g\")\n",
    "ax.set_ylabel(\"TRUE LABELS\", color=\"orange\")\n",
    "ax.xaxis.set_ticklabels(labels, \n",
    "                        rotation='vertical')\n",
    "ax.yaxis.set_ticklabels(labels,\n",
    "                        rotation='horizontal')\n",
    "plt.title(\"Confusion Matrix on Nutriscore Classification\\n\",\n",
    "          fontsize=18)\n",
    "plt.show()"
   ]
  },
  {
   "cell_type": "code",
   "execution_count": 49,
   "id": "89c25136",
   "metadata": {},
   "outputs": [
    {
     "name": "stdout",
     "output_type": "stream",
     "text": [
      "              precision    recall  f1-score   support\n",
      "\n",
      "           a       0.87      0.63      0.73     23320\n",
      "           b       0.55      0.48      0.51     18786\n",
      "           c       0.50      0.65      0.56     31497\n",
      "           d       0.57      0.69      0.62     45472\n",
      "           e       0.66      0.42      0.52     27270\n",
      "\n",
      "    accuracy                           0.59    146345\n",
      "   macro avg       0.63      0.57      0.59    146345\n",
      "weighted avg       0.62      0.59      0.59    146345\n",
      "\n"
     ]
    }
   ],
   "source": [
    "print(classification_report(df['y_original_grade'],df['y_pred_grade'],target_names=labels))"
   ]
  },
  {
   "cell_type": "markdown",
   "id": "2ad7b134",
   "metadata": {},
   "source": [
    "<h3> Exporting the pipeline of model"
   ]
  },
  {
   "cell_type": "code",
   "execution_count": 50,
   "id": "7e7b9c9a",
   "metadata": {},
   "outputs": [],
   "source": [
    "from sklearn.pipeline import Pipeline\n",
    "import pickle"
   ]
  },
  {
   "cell_type": "code",
   "execution_count": 51,
   "id": "356083b7",
   "metadata": {},
   "outputs": [],
   "source": [
    "pipeline = Pipeline([\n",
    "    ('standard_scaler', scaler), \n",
    "    ('model', rgr_opt)\n",
    "])"
   ]
  },
  {
   "cell_type": "code",
   "execution_count": 52,
   "id": "d2852459",
   "metadata": {},
   "outputs": [],
   "source": [
    "with open('./model.pickle', 'wb') as model_file:\n",
    "  pickle.dump(pipeline, model_file)"
   ]
  },
  {
   "cell_type": "code",
   "execution_count": null,
   "id": "b465209f",
   "metadata": {},
   "outputs": [],
   "source": []
  }
 ],
 "metadata": {
  "interpreter": {
   "hash": "c80bebe576033db75d8dfea49b7078c98f433ef61acd6e7e4314698c3ef807ee"
  },
  "kernelspec": {
   "display_name": "conda_amazonei_tensorflow_p36",
   "language": "python",
   "name": "python3"
  },
  "language_info": {
   "codemirror_mode": {
    "name": "ipython",
    "version": 3
   },
   "file_extension": ".py",
   "mimetype": "text/x-python",
   "name": "python",
   "nbconvert_exporter": "python",
   "pygments_lexer": "ipython3",
   "version": "3.7.11"
  }
 },
 "nbformat": 4,
 "nbformat_minor": 5
}
