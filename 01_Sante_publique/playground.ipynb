{
 "cells": [
  {
   "cell_type": "markdown",
   "metadata": {
    "id": "mEQCv_1MWQZH"
   },
   "source": [
    "<h2>Bac à Sable\n",
    "   <h2>"
   ]
  },
  {
   "cell_type": "code",
   "execution_count": 5,
   "metadata": {
    "id": "gcP6-sUEWPRT"
   },
   "outputs": [],
   "source": [
    "import os\n",
    "import pandas as pd\n",
    "import numpy as np\n",
    "import missingno as msno\n",
    "import matplotlib.pyplot as plt\n",
    "import seaborn as sns\n",
    "from sklearn.impute import KNNImputer\n",
    "pd.options.mode.chained_assignment = None  # default='warn'"
   ]
  },
  {
   "cell_type": "code",
   "execution_count": 6,
   "metadata": {
    "colab": {
     "base_uri": "https://localhost:8080/"
    },
    "id": "uCF_3gkPWt3M",
    "outputId": "8466f671-7d16-41a6-d186-454b4e1cd5d3"
   },
   "outputs": [
    {
     "output_type": "stream",
     "name": "stderr",
     "text": [
      "/Users/efkanturedi/opt/anaconda3/lib/python3.8/site-packages/IPython/core/interactiveshell.py:3165: DtypeWarning: Columns (0,8,13,27,28,29,31,47,52,55,64) have mixed types.Specify dtype option on import or set low_memory=False.\n  has_raised = await self.run_ast_nodes(code_ast.body, cell_name,\n"
     ]
    }
   ],
   "source": [
    "filepath = '/Users/efkanturedi/Corteze/openfoodfacts.csv'\n",
    "used_features = ['product_name','code','pnns_groups_1','nutriscore_grade','energy-kcal_100g','proteins_100g','carbohydrates_100g',\n",
    "                 'sugars_100g','fat_100g','saturated-fat_100g','fiber_100g','sodium_100g','nutrition-score-fr_100g']\n",
    "data = pd.read_csv(filepath, sep='\\t')"
   ]
  },
  {
   "cell_type": "code",
   "execution_count": 10,
   "metadata": {},
   "outputs": [
    {
     "output_type": "execute_result",
     "data": {
      "text/plain": [
       "                   code                                                url  \\\n",
       "652037   30383354190402  http://world-en.openfoodfacts.org/product/3038...   \n",
       "652038   30383354190402  http://world-en.openfoodfacts.org/product/3038...   \n",
       "894243    3560070278831  http://world-en.openfoodfacts.org/product/3560...   \n",
       "894244    3560070278831  http://world-en.openfoodfacts.org/product/3560...   \n",
       "1041540   3770008983205  http://world-en.openfoodfacts.org/product/3770...   \n",
       "1041541   3770008983205  http://world-en.openfoodfacts.org/product/3770...   \n",
       "1366723   7340011495437  http://world-en.openfoodfacts.org/product/7340...   \n",
       "1366724   7340011495437  http://world-en.openfoodfacts.org/product/7340...   \n",
       "1434598   7798049540559  http://world-en.openfoodfacts.org/product/7798...   \n",
       "1434599   7798049540559  http://world-en.openfoodfacts.org/product/7798...   \n",
       "\n",
       "                            creator   created_t      created_datetime  \\\n",
       "652037   openfoodfacts-contributors  1608035756  2020-12-15T12:35:56Z   \n",
       "652038   openfoodfacts-contributors  1608035756  2020-12-15T12:35:56Z   \n",
       "894243   openfoodfacts-contributors  1381071983  2013-10-06T15:06:23Z   \n",
       "894244   openfoodfacts-contributors  1381071983  2013-10-06T15:06:23Z   \n",
       "1041540                         r-x  1614201389  2021-02-24T21:16:29Z   \n",
       "1041541                         r-x  1614201389  2021-02-24T21:16:29Z   \n",
       "1366723            halal-app-chakib  1610378294  2021-01-11T15:18:14Z   \n",
       "1366724            halal-app-chakib  1610378294  2021-01-11T15:18:14Z   \n",
       "1434598  openfoodfacts-contributors  1615222625  2021-03-08T16:57:05Z   \n",
       "1434599  openfoodfacts-contributors  1615222625  2021-03-08T16:57:05Z   \n",
       "\n",
       "         last_modified_t last_modified_datetime  \\\n",
       "652037        1610702480   2021-01-15T09:21:20Z   \n",
       "652038        1610702583   2021-01-15T09:23:03Z   \n",
       "894243        1618645457   2021-04-17T07:44:17Z   \n",
       "894244        1621577199   2021-05-21T06:06:39Z   \n",
       "1041540       1614242412   2021-02-25T08:40:12Z   \n",
       "1041541       1614242412   2021-02-25T08:40:12Z   \n",
       "1366723       1610393709   2021-01-11T19:35:09Z   \n",
       "1366724       1610393709   2021-01-11T19:35:09Z   \n",
       "1434598       1615337559   2021-03-10T00:52:39Z   \n",
       "1434599       1615337611   2021-03-10T00:53:31Z   \n",
       "\n",
       "                                      product_name abbreviated_product_name  \\\n",
       "652037                                     basilic                      NaN   \n",
       "652038                                     basilic                      NaN   \n",
       "894243   Pamplemousse rose, 100 % Pur Fruit Pressé                      NaN   \n",
       "894244   Pamplemousse rose, 100 % Pur Fruit Pressé                      NaN   \n",
       "1041540                      REMYX VODKA Aquatique                      NaN   \n",
       "1041541                      REMYX VODKA Aquatique                      NaN   \n",
       "1366723                                        NaN                      NaN   \n",
       "1366724                                        NaN                      NaN   \n",
       "1434598                                   lentejas                      NaN   \n",
       "1434599                                   lentejas                      NaN   \n",
       "\n",
       "                                              generic_name  ...  \\\n",
       "652037                                                 NaN  ...   \n",
       "652038                                                 NaN  ...   \n",
       "894243   Jus de pamplemousse rose - Pamplemousse Rose, ...  ...   \n",
       "894244   Jus de pamplemousse rose - Pamplemousse Rose, ...  ...   \n",
       "1041540                                              Vodka  ...   \n",
       "1041541                                              Vodka  ...   \n",
       "1366723                                                NaN  ...   \n",
       "1366724                                                NaN  ...   \n",
       "1434598                                                NaN  ...   \n",
       "1434599                                                NaN  ...   \n",
       "\n",
       "        carbon-footprint-from-meat-or-fish_100g nutrition-score-fr_100g  \\\n",
       "652037                                      NaN                     2.0   \n",
       "652038                                      NaN                    -3.0   \n",
       "894243                                      NaN                     2.0   \n",
       "894244                                      NaN                     2.0   \n",
       "1041540                                     NaN                     NaN   \n",
       "1041541                                     NaN                     NaN   \n",
       "1366723                                     NaN                     NaN   \n",
       "1366724                                     NaN                     NaN   \n",
       "1434598                                     NaN                     NaN   \n",
       "1434599                                     NaN                     NaN   \n",
       "\n",
       "        nutrition-score-uk_100g glycemic-index_100g water-hardness_100g  \\\n",
       "652037                      NaN                 NaN                 NaN   \n",
       "652038                      NaN                 NaN                 NaN   \n",
       "894243                      NaN                 NaN                 NaN   \n",
       "894244                      NaN                 NaN                 NaN   \n",
       "1041540                     NaN                 NaN                 NaN   \n",
       "1041541                     NaN                 NaN                 NaN   \n",
       "1366723                     NaN                 NaN                 NaN   \n",
       "1366724                     NaN                 NaN                 NaN   \n",
       "1434598                     NaN                 NaN                 NaN   \n",
       "1434599                     NaN                 NaN                 NaN   \n",
       "\n",
       "        choline_100g phylloquinone_100g beta-glucan_100g inositol_100g  \\\n",
       "652037           NaN                NaN              NaN           NaN   \n",
       "652038           NaN                NaN              NaN           NaN   \n",
       "894243           NaN                NaN              NaN           NaN   \n",
       "894244           NaN                NaN              NaN           NaN   \n",
       "1041540          NaN                NaN              NaN           NaN   \n",
       "1041541          NaN                NaN              NaN           NaN   \n",
       "1366723          NaN                NaN              NaN           NaN   \n",
       "1366724          NaN                NaN              NaN           NaN   \n",
       "1434598          NaN                NaN              NaN           NaN   \n",
       "1434599          NaN                NaN              NaN           NaN   \n",
       "\n",
       "        carnitine_100g  \n",
       "652037             NaN  \n",
       "652038             NaN  \n",
       "894243             NaN  \n",
       "894244             NaN  \n",
       "1041540            NaN  \n",
       "1041541            NaN  \n",
       "1366723            NaN  \n",
       "1366724            NaN  \n",
       "1434598            NaN  \n",
       "1434599            NaN  \n",
       "\n",
       "[10 rows x 186 columns]"
      ],
      "text/html": "<div>\n<style scoped>\n    .dataframe tbody tr th:only-of-type {\n        vertical-align: middle;\n    }\n\n    .dataframe tbody tr th {\n        vertical-align: top;\n    }\n\n    .dataframe thead th {\n        text-align: right;\n    }\n</style>\n<table border=\"1\" class=\"dataframe\">\n  <thead>\n    <tr style=\"text-align: right;\">\n      <th></th>\n      <th>code</th>\n      <th>url</th>\n      <th>creator</th>\n      <th>created_t</th>\n      <th>created_datetime</th>\n      <th>last_modified_t</th>\n      <th>last_modified_datetime</th>\n      <th>product_name</th>\n      <th>abbreviated_product_name</th>\n      <th>generic_name</th>\n      <th>...</th>\n      <th>carbon-footprint-from-meat-or-fish_100g</th>\n      <th>nutrition-score-fr_100g</th>\n      <th>nutrition-score-uk_100g</th>\n      <th>glycemic-index_100g</th>\n      <th>water-hardness_100g</th>\n      <th>choline_100g</th>\n      <th>phylloquinone_100g</th>\n      <th>beta-glucan_100g</th>\n      <th>inositol_100g</th>\n      <th>carnitine_100g</th>\n    </tr>\n  </thead>\n  <tbody>\n    <tr>\n      <th>652037</th>\n      <td>30383354190402</td>\n      <td>http://world-en.openfoodfacts.org/product/3038...</td>\n      <td>openfoodfacts-contributors</td>\n      <td>1608035756</td>\n      <td>2020-12-15T12:35:56Z</td>\n      <td>1610702480</td>\n      <td>2021-01-15T09:21:20Z</td>\n      <td>basilic</td>\n      <td>NaN</td>\n      <td>NaN</td>\n      <td>...</td>\n      <td>NaN</td>\n      <td>2.0</td>\n      <td>NaN</td>\n      <td>NaN</td>\n      <td>NaN</td>\n      <td>NaN</td>\n      <td>NaN</td>\n      <td>NaN</td>\n      <td>NaN</td>\n      <td>NaN</td>\n    </tr>\n    <tr>\n      <th>652038</th>\n      <td>30383354190402</td>\n      <td>http://world-en.openfoodfacts.org/product/3038...</td>\n      <td>openfoodfacts-contributors</td>\n      <td>1608035756</td>\n      <td>2020-12-15T12:35:56Z</td>\n      <td>1610702583</td>\n      <td>2021-01-15T09:23:03Z</td>\n      <td>basilic</td>\n      <td>NaN</td>\n      <td>NaN</td>\n      <td>...</td>\n      <td>NaN</td>\n      <td>-3.0</td>\n      <td>NaN</td>\n      <td>NaN</td>\n      <td>NaN</td>\n      <td>NaN</td>\n      <td>NaN</td>\n      <td>NaN</td>\n      <td>NaN</td>\n      <td>NaN</td>\n    </tr>\n    <tr>\n      <th>894243</th>\n      <td>3560070278831</td>\n      <td>http://world-en.openfoodfacts.org/product/3560...</td>\n      <td>openfoodfacts-contributors</td>\n      <td>1381071983</td>\n      <td>2013-10-06T15:06:23Z</td>\n      <td>1618645457</td>\n      <td>2021-04-17T07:44:17Z</td>\n      <td>Pamplemousse rose, 100 % Pur Fruit Pressé</td>\n      <td>NaN</td>\n      <td>Jus de pamplemousse rose - Pamplemousse Rose, ...</td>\n      <td>...</td>\n      <td>NaN</td>\n      <td>2.0</td>\n      <td>NaN</td>\n      <td>NaN</td>\n      <td>NaN</td>\n      <td>NaN</td>\n      <td>NaN</td>\n      <td>NaN</td>\n      <td>NaN</td>\n      <td>NaN</td>\n    </tr>\n    <tr>\n      <th>894244</th>\n      <td>3560070278831</td>\n      <td>http://world-en.openfoodfacts.org/product/3560...</td>\n      <td>openfoodfacts-contributors</td>\n      <td>1381071983</td>\n      <td>2013-10-06T15:06:23Z</td>\n      <td>1621577199</td>\n      <td>2021-05-21T06:06:39Z</td>\n      <td>Pamplemousse rose, 100 % Pur Fruit Pressé</td>\n      <td>NaN</td>\n      <td>Jus de pamplemousse rose - Pamplemousse Rose, ...</td>\n      <td>...</td>\n      <td>NaN</td>\n      <td>2.0</td>\n      <td>NaN</td>\n      <td>NaN</td>\n      <td>NaN</td>\n      <td>NaN</td>\n      <td>NaN</td>\n      <td>NaN</td>\n      <td>NaN</td>\n      <td>NaN</td>\n    </tr>\n    <tr>\n      <th>1041540</th>\n      <td>3770008983205</td>\n      <td>http://world-en.openfoodfacts.org/product/3770...</td>\n      <td>r-x</td>\n      <td>1614201389</td>\n      <td>2021-02-24T21:16:29Z</td>\n      <td>1614242412</td>\n      <td>2021-02-25T08:40:12Z</td>\n      <td>REMYX VODKA Aquatique</td>\n      <td>NaN</td>\n      <td>Vodka</td>\n      <td>...</td>\n      <td>NaN</td>\n      <td>NaN</td>\n      <td>NaN</td>\n      <td>NaN</td>\n      <td>NaN</td>\n      <td>NaN</td>\n      <td>NaN</td>\n      <td>NaN</td>\n      <td>NaN</td>\n      <td>NaN</td>\n    </tr>\n    <tr>\n      <th>1041541</th>\n      <td>3770008983205</td>\n      <td>http://world-en.openfoodfacts.org/product/3770...</td>\n      <td>r-x</td>\n      <td>1614201389</td>\n      <td>2021-02-24T21:16:29Z</td>\n      <td>1614242412</td>\n      <td>2021-02-25T08:40:12Z</td>\n      <td>REMYX VODKA Aquatique</td>\n      <td>NaN</td>\n      <td>Vodka</td>\n      <td>...</td>\n      <td>NaN</td>\n      <td>NaN</td>\n      <td>NaN</td>\n      <td>NaN</td>\n      <td>NaN</td>\n      <td>NaN</td>\n      <td>NaN</td>\n      <td>NaN</td>\n      <td>NaN</td>\n      <td>NaN</td>\n    </tr>\n    <tr>\n      <th>1366723</th>\n      <td>7340011495437</td>\n      <td>http://world-en.openfoodfacts.org/product/7340...</td>\n      <td>halal-app-chakib</td>\n      <td>1610378294</td>\n      <td>2021-01-11T15:18:14Z</td>\n      <td>1610393709</td>\n      <td>2021-01-11T19:35:09Z</td>\n      <td>NaN</td>\n      <td>NaN</td>\n      <td>NaN</td>\n      <td>...</td>\n      <td>NaN</td>\n      <td>NaN</td>\n      <td>NaN</td>\n      <td>NaN</td>\n      <td>NaN</td>\n      <td>NaN</td>\n      <td>NaN</td>\n      <td>NaN</td>\n      <td>NaN</td>\n      <td>NaN</td>\n    </tr>\n    <tr>\n      <th>1366724</th>\n      <td>7340011495437</td>\n      <td>http://world-en.openfoodfacts.org/product/7340...</td>\n      <td>halal-app-chakib</td>\n      <td>1610378294</td>\n      <td>2021-01-11T15:18:14Z</td>\n      <td>1610393709</td>\n      <td>2021-01-11T19:35:09Z</td>\n      <td>NaN</td>\n      <td>NaN</td>\n      <td>NaN</td>\n      <td>...</td>\n      <td>NaN</td>\n      <td>NaN</td>\n      <td>NaN</td>\n      <td>NaN</td>\n      <td>NaN</td>\n      <td>NaN</td>\n      <td>NaN</td>\n      <td>NaN</td>\n      <td>NaN</td>\n      <td>NaN</td>\n    </tr>\n    <tr>\n      <th>1434598</th>\n      <td>7798049540559</td>\n      <td>http://world-en.openfoodfacts.org/product/7798...</td>\n      <td>openfoodfacts-contributors</td>\n      <td>1615222625</td>\n      <td>2021-03-08T16:57:05Z</td>\n      <td>1615337559</td>\n      <td>2021-03-10T00:52:39Z</td>\n      <td>lentejas</td>\n      <td>NaN</td>\n      <td>NaN</td>\n      <td>...</td>\n      <td>NaN</td>\n      <td>NaN</td>\n      <td>NaN</td>\n      <td>NaN</td>\n      <td>NaN</td>\n      <td>NaN</td>\n      <td>NaN</td>\n      <td>NaN</td>\n      <td>NaN</td>\n      <td>NaN</td>\n    </tr>\n    <tr>\n      <th>1434599</th>\n      <td>7798049540559</td>\n      <td>http://world-en.openfoodfacts.org/product/7798...</td>\n      <td>openfoodfacts-contributors</td>\n      <td>1615222625</td>\n      <td>2021-03-08T16:57:05Z</td>\n      <td>1615337611</td>\n      <td>2021-03-10T00:53:31Z</td>\n      <td>lentejas</td>\n      <td>NaN</td>\n      <td>NaN</td>\n      <td>...</td>\n      <td>NaN</td>\n      <td>NaN</td>\n      <td>NaN</td>\n      <td>NaN</td>\n      <td>NaN</td>\n      <td>NaN</td>\n      <td>NaN</td>\n      <td>NaN</td>\n      <td>NaN</td>\n      <td>NaN</td>\n    </tr>\n  </tbody>\n</table>\n<p>10 rows × 186 columns</p>\n</div>"
     },
     "metadata": {},
     "execution_count": 10
    }
   ],
   "source": [
    "data[data['url'].duplicated(keep=False)]"
   ]
  },
  {
   "cell_type": "code",
   "execution_count": 15,
   "metadata": {},
   "outputs": [
    {
     "output_type": "execute_result",
     "data": {
      "text/plain": [
       "0"
      ]
     },
     "metadata": {},
     "execution_count": 15
    }
   ],
   "source": [
    "data['url'].isna().sum()"
   ]
  },
  {
   "cell_type": "code",
   "execution_count": null,
   "metadata": {},
   "outputs": [],
   "source": []
  }
 ],
 "metadata": {
  "colab": {
   "collapsed_sections": [],
   "name": "Nettoyage_Sante_Publique.ipynb",
   "provenance": []
  },
  "kernelspec": {
   "name": "python3",
   "display_name": "Python 3.8.10 64-bit ('base': conda)"
  },
  "language_info": {
   "codemirror_mode": {
    "name": "ipython",
    "version": 3
   },
   "file_extension": ".py",
   "mimetype": "text/x-python",
   "name": "python",
   "nbconvert_exporter": "python",
   "pygments_lexer": "ipython3",
   "version": "3.8.10"
  },
  "interpreter": {
   "hash": "b90a467ede941811214c85f4bfad7f03d68fb567b5564fc536ab8b2e42983e5f"
  }
 },
 "nbformat": 4,
 "nbformat_minor": 1
}