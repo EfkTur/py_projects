{
 "cells": [
  {
   "cell_type": "markdown",
   "metadata": {
    "id": "mEQCv_1MWQZH"
   },
   "source": [
    "<h1>PROJET SANTE PUBLIQUE - Analyse des données<h1>\n",
    "\n",
    "---\n",
    "\n"
   ]
  },
  {
   "cell_type": "markdown",
   "metadata": {
    "id": "GnLafJKU_GCa"
   },
   "source": [
    "# Approche générale & Preparatifs"
   ]
  },
  {
   "cell_type": "markdown",
   "metadata": {
    "id": "ooM6U9RRWNgm"
   },
   "source": [
    "**Approche générale:**\n",
    "\n",
    "Nous attaquons ici le coeur de notre projet. Nous sectionnons donc cette partie avec les analyses univariée, bivariée et multivariée\n"
   ]
  },
  {
   "cell_type": "markdown",
   "metadata": {
    "id": "CD93L4WxWqlC"
   },
   "source": [
    "Nous importons des les packages dont nous avons besoin. A noter l'utilisation du package missingno permettant la visualisation des données manquantes"
   ]
  },
  {
   "cell_type": "code",
   "execution_count": null,
   "metadata": {
    "id": "gcP6-sUEWPRT"
   },
   "outputs": [],
   "source": [
    "import os\n",
    "import pandas as pd\n",
    "import numpy as np\n",
    "import missingno as msno\n",
    "import matplotlib.pyplot as plt\n",
    "import seaborn as sns\n",
    "import warnings\n",
    "from sklearn import decomposition, preprocessing\n",
    "from matplotlib.collections import LineCollection"
   ]
  },
  {
   "cell_type": "markdown",
   "metadata": {
    "id": "lv1q4mMliT2G"
   },
   "source": [
    "Nous changons de working directory pour simplifier import et export"
   ]
  },
  {
   "cell_type": "code",
   "execution_count": null,
   "metadata": {
    "colab": {
     "base_uri": "https://localhost:8080/"
    },
    "id": "aHjagNUS4lWd",
    "outputId": "48f19798-f27e-4c0b-9de6-647a5e64172e"
   },
   "outputs": [],
   "source": [
    "filepath = '/Users/efkanturedi/Corteze/openfoodfacts_clean_prod_new.csv'\n",
    "data_clean = pd.read_csv(filepath)"
   ]
  },
  {
   "cell_type": "code",
   "execution_count": null,
   "metadata": {
    "colab": {
     "base_uri": "https://localhost:8080/",
     "height": 297
    },
    "id": "wVpP8Xwq43Cp",
    "outputId": "ac427787-67cc-4260-f4d4-27a7fe34c93a"
   },
   "outputs": [],
   "source": [
    "pd.options.display.float_format = \"{:.1f}\".format\n",
    "data_clean.describe()"
   ]
  },
  {
   "cell_type": "code",
   "execution_count": null,
   "metadata": {
    "id": "O7kLLOuM45hc"
   },
   "outputs": [],
   "source": [
    "sns.set_theme()\n",
    "warnings.filterwarnings(\"ignore\", category=FutureWarning) "
   ]
  },
  {
   "cell_type": "markdown",
   "metadata": {
    "id": "UpyMWt6n-29q"
   },
   "source": [
    "Fin des préparatifs, attaquons l'analyse!"
   ]
  },
  {
   "cell_type": "markdown",
   "metadata": {
    "id": "iE2ccTbH-6-o"
   },
   "source": [
    "# Analyse Univariée"
   ]
  },
  {
   "cell_type": "code",
   "execution_count": null,
   "metadata": {
    "colab": {
     "base_uri": "https://localhost:8080/"
    },
    "id": "dBYLixUn58-z",
    "outputId": "4ff3d80e-63bc-4308-978a-c09685bcb631"
   },
   "outputs": [],
   "source": [
    "data_clean.columns"
   ]
  },
  {
   "cell_type": "code",
   "execution_count": null,
   "metadata": {
    "colab": {
     "base_uri": "https://localhost:8080/",
     "height": 1000
    },
    "id": "O5uELqNk5ww0",
    "outputId": "86c7d2b0-e1f6-48ed-eec3-224c5a386f9a"
   },
   "outputs": [],
   "source": [
    "f, axes = plt.subplots(3, 3, figsize=(20, 20))\n",
    "\n",
    "sns.despine(left=True)\n",
    "\n",
    "# Plot a simple distribution of the desired columns\n",
    "sns.distplot(data_clean['energy-kcal_100g'], color=\"m\",ax=axes[0,0]);\n",
    "axes[0,0].set_xlim((-50,1500))\n",
    "sns.distplot(data_clean['fat_100g'], color=\"r\",ax=axes[0,1]);\n",
    "sns.distplot(data_clean['saturated-fat_100g'], color=\"g\",ax=axes[0,2]);\n",
    "sns.distplot(data_clean['carbohydrates_100g'], color=\"g\",ax=axes[1,0]);\n",
    "sns.distplot(data_clean['sugars_100g'], color=\"g\",ax=axes[1,1]);\n",
    "sns.distplot(data_clean['fiber_100g'], color=\"g\",ax=axes[1,2]);\n",
    "sns.distplot(data_clean['proteins_100g'], color=\"g\",ax=axes[2,0]);\n",
    "sns.distplot(data_clean['sodium_100g'], color=\"g\",ax=axes[2,1]);\n",
    "axes[2,1].set_xlim((0,30))\n",
    "sns.distplot(data_clean['nutrition-score-fr_100g'], color=\"g\",ax=axes[2,2]);"
   ]
  },
  {
   "cell_type": "code",
   "execution_count": null,
   "metadata": {
    "colab": {
     "base_uri": "https://localhost:8080/",
     "height": 249
    },
    "id": "v6bdIDlyCnKy",
    "outputId": "da5951d8-2dcb-4f99-90f5-7412573d4848"
   },
   "outputs": [],
   "source": [
    "plotting = data_clean['nutriscore_grade'].value_counts(normalize=True).sort_values(ascending=True)\n",
    "print(plotting)\n",
    "plt.pie(plotting,autopct='%.0f',labels=plotting.index)\n",
    "plt.title('Distribution des nutrigrade (en %)')\n",
    "plt.axis('equal')\n",
    "plt.show() # Affiche le graphique"
   ]
  },
  {
   "cell_type": "markdown",
   "metadata": {
    "id": "I665w7IfXq7J"
   },
   "source": [
    "# Analyse Bivariée"
   ]
  },
  {
   "cell_type": "markdown",
   "metadata": {
    "id": "Ywc0JfvJjhyQ"
   },
   "source": [
    "Dans cette partie, nous allons regarder les relations entre les variables quantitatives de notre database. Commencons par extraire ces données et regardons la matrice de corrélation pour nous donner une intuition des potentiels variables à privilégier. "
   ]
  },
  {
   "cell_type": "code",
   "execution_count": null,
   "metadata": {
    "colab": {
     "base_uri": "https://localhost:8080/",
     "height": 204
    },
    "id": "M9EaZxsxXuGB",
    "outputId": "94130f24-5b1b-429b-912b-61006ecb9def"
   },
   "outputs": [],
   "source": [
    "numerics = ['int16', 'int32', 'int64', 'float16', 'float32', 'float64']\n",
    "numeric_data = data_clean.select_dtypes(include=numerics)\n",
    "numeric_data.head()"
   ]
  },
  {
   "cell_type": "code",
   "execution_count": null,
   "metadata": {
    "colab": {
     "base_uri": "https://localhost:8080/",
     "height": 389
    },
    "id": "_X_83Rg4kXum",
    "outputId": "04706091-9057-43d2-9499-c8b318f0a7a6"
   },
   "outputs": [],
   "source": [
    "sns.heatmap(numeric_data.corr(),linewidths=.3, cmap=\"YlGnBu\");"
   ]
  },
  {
   "cell_type": "markdown",
   "metadata": {
    "id": "HJVLQLfvpb7g"
   },
   "source": [
    "Nous pouvons déduire les pairs suivantes comme étant intéressantes: \n",
    "\n",
    "- nutriscore_100g avec energy_kcal, fat, saturated_fat et sugars\n",
    "- nutriscore_100g avec fibre et proteines\n"
   ]
  },
  {
   "cell_type": "code",
   "execution_count": null,
   "metadata": {
    "colab": {
     "base_uri": "https://localhost:8080/",
     "height": 343
    },
    "id": "ISVJ0KON4dcK",
    "outputId": "7abfff24-11bd-46c6-b2ac-da61e3ba3914"
   },
   "outputs": [],
   "source": [
    "fig,axes=plt.subplots(1,2, sharey=True, figsize=(10,5))\n",
    "data_sample=data_clean.sample(200000)\n",
    "\n",
    "sns.regplot(data=data_sample, ax=axes[0], x='energy-kcal_100g', y='nutrition-score-fr_100g',line_kws={\"color\": \"red\"})\n",
    "axes[0].set_xlim((0,1500))\n",
    "axes[0].set_ylim((-100,100))\n",
    "\n",
    "sns.regplot(data=data_sample, ax=axes[1],x='fat_100g', y='nutrition-score-fr_100g',line_kws={\"color\": \"red\"})\n",
    "axes[1].set_xlim((0,100))\n",
    "axes[1].set_ylim((-100,100))\n",
    "\n",
    "plt.show()"
   ]
  },
  {
   "cell_type": "code",
   "execution_count": null,
   "metadata": {
    "colab": {
     "base_uri": "https://localhost:8080/",
     "height": 343
    },
    "id": "0urJcRWZ6wDt",
    "outputId": "7a5d615d-0348-41c2-e2aa-4864b3070d25"
   },
   "outputs": [],
   "source": [
    "fig,axes=plt.subplots(1,2, sharey=True, figsize=(10,5))\n",
    "\n",
    "sns.regplot(data=data_sample, ax=axes[0], x='saturated-fat_100g', y='nutrition-score-fr_100g',line_kws={\"color\": \"red\"})\n",
    "axes[0].set_xlim((0,100))\n",
    "axes[0].set_ylim((-100,100))\n",
    "\n",
    "sns.regplot(data=data_sample, ax=axes[1],x='sugars_100g', y='nutrition-score-fr_100g',line_kws={\"color\": \"red\"})\n",
    "axes[1].set_xlim((0,100))\n",
    "axes[1].set_ylim((-100,100))\n",
    "\n",
    "plt.show()"
   ]
  },
  {
   "cell_type": "code",
   "execution_count": null,
   "metadata": {
    "colab": {
     "base_uri": "https://localhost:8080/",
     "height": 343
    },
    "id": "1xfCKrQc_qQQ",
    "outputId": "9bdd9441-5ffa-4048-fa3a-527b6073df51"
   },
   "outputs": [],
   "source": [
    "fig,axes=plt.subplots(1,2, sharey=True, figsize=(10,5))\n",
    "\n",
    "sns.regplot(data=data_sample, ax=axes[0], x='fiber_100g', y='nutrition-score-fr_100g',line_kws={\"color\": \"red\"}, scatter_kws={\"color\": \"green\"})\n",
    "axes[0].set_xlim((0,100))\n",
    "axes[0].set_ylim((-100,100))\n",
    "\n",
    "sns.regplot(data=data_sample, ax=axes[1],x='proteins_100g', y='nutrition-score-fr_100g',line_kws={\"color\": \"red\"}, scatter_kws={\"color\": \"green\"})\n",
    "axes[1].set_xlim((0,100))\n",
    "axes[1].set_ylim((-100,100))\n",
    "\n",
    "plt.show()"
   ]
  },
  {
   "cell_type": "markdown",
   "metadata": {
    "id": "zGjuNQWnDMd6"
   },
   "source": [
    "Notre intuition nous dis que plus un aliment a une bonne note, plus les facteurs négatifs devraient être absents\n"
   ]
  },
  {
   "cell_type": "code",
   "execution_count": null,
   "metadata": {
    "colab": {
     "base_uri": "https://localhost:8080/",
     "height": 360
    },
    "id": "GmDBpfCL_7f1",
    "outputId": "609396df-87a8-4539-f473-e89a71513c9b"
   },
   "outputs": [],
   "source": [
    "fig, axes = plt.subplots(1,2,sharex=True,sharey=True, figsize=(10,5))\n",
    "\n",
    "sns.boxplot(x=\"nutriscore_grade\", y=\"fiber_100g\",ax=axes[0], data=data_clean, order=['a','b','c','d','e'])\n",
    "sns.boxplot(x=\"nutriscore_grade\", y=\"proteins_100g\",ax=axes[1], data=data_clean, order=['a','b','c','d','e'])\n",
    "axes[0].set_ylim(-10,30)\n",
    "axes[1].set_ylim(-10,30)"
   ]
  },
  {
   "cell_type": "code",
   "execution_count": null,
   "metadata": {
    "colab": {
     "base_uri": "https://localhost:8080/",
     "height": 343
    },
    "id": "mq_C7iTWDzLM",
    "outputId": "225a2d35-e6b0-44dc-a4aa-9488c9c0bd9e"
   },
   "outputs": [],
   "source": [
    "fig, axes = plt.subplots(2,2,sharex=False, figsize=(20,20))\n",
    "\n",
    "sns.boxplot(x=\"nutriscore_grade\", y=\"fat_100g\",ax=axes[0,0], data=data_clean, order=['a','b','c','d','e'])\n",
    "sns.boxplot(x=\"nutriscore_grade\", y=\"saturated-fat_100g\",ax=axes[0,1], data=data_clean, order=['a','b','c','d','e'])\n",
    "sns.boxplot(x=\"nutriscore_grade\", y=\"sugars_100g\",ax=axes[1,0], data=data_clean, order=['a','b','c','d','e'])\n",
    "sns.boxplot(x=\"nutriscore_grade\", y=\"nutrition-score-fr_100g\",ax=axes[1,1], data=data_clean, order=['a','b','c','d','e'])\n",
    "\n",
    "axes[0,0].set_ylim(-10,80);\n",
    "axes[0,1].set_ylim(-10,80);\n",
    "axes[1,0].set_ylim(-10,80);\n",
    "axes[1,1].set_ylim(-30,60);\n"
   ]
  },
  {
   "cell_type": "code",
   "execution_count": null,
   "metadata": {
    "colab": {
     "base_uri": "https://localhost:8080/"
    },
    "id": "v87I2wl4HJFo",
    "outputId": "3ad66c44-5e3e-4266-8e97-d8eea64c1b63"
   },
   "outputs": [],
   "source": [
    "#ANOVA method\n",
    "def eta_squared(x,y):\n",
    "    moyenne_y = y.mean()\n",
    "    classes = []\n",
    "    for classe in x.unique():\n",
    "        yi_classe = y[x==classe]\n",
    "        classes.append({'ni': len(yi_classe),\n",
    "                        'moyenne_classe': yi_classe.mean()})\n",
    "    SCT = sum([(yj-moyenne_y)**2 for yj in y])\n",
    "    SCE = sum([c['ni']*(c['moyenne_classe']-moyenne_y)**2 for c in classes])\n",
    "    return SCE/SCT\n",
    "    \n",
    "item_list = ['energy-kcal_100g','fat_100g', 'saturated-fat_100g','sugars_100g','fiber_100g','proteins_100g']\n",
    "\n",
    "for item in item_list:\n",
    "  print(eta_squared(data_clean['nutriscore_grade'],data_clean[item]))\n"
   ]
  },
  {
   "cell_type": "markdown",
   "metadata": {
    "id": "3AeaCKkKYy2f"
   },
   "source": [
    "# Analyse en Composantes Principales"
   ]
  },
  {
   "cell_type": "code",
   "execution_count": null,
   "metadata": {
    "id": "-E1micUllVeX"
   },
   "outputs": [],
   "source": [
    "\n",
    "def display_circles(pcs, n_comp, pca, axis_ranks, labels=None, label_rotation=0, lims=None):\n",
    "    for d1, d2 in axis_ranks: # On affiche les 2 premiers plans factoriels, donc les 4 premières composantes\n",
    "        if d2 < n_comp:\n",
    "\n",
    "            # initialisation de la figure\n",
    "            fig, ax = plt.subplots(figsize=(7,6))\n",
    "\n",
    "            # détermination des limites du graphique\n",
    "            if lims is not None :\n",
    "                xmin, xmax, ymin, ymax = lims\n",
    "            elif pcs.shape[1] < 30 :\n",
    "                xmin, xmax, ymin, ymax = -1, 1, -1, 1\n",
    "            else :\n",
    "                xmin, xmax, ymin, ymax = min(pcs[d1,:]), max(pcs[d1,:]), min(pcs[d2,:]), max(pcs[d2,:])\n",
    "\n",
    "            # affichage des flèches\n",
    "            # s'il y a plus de 30 flèches, on n'affiche pas le triangle à leur extrémité\n",
    "            if pcs.shape[1] < 30 :\n",
    "                plt.quiver(np.zeros(pcs.shape[1]), np.zeros(pcs.shape[1]),\n",
    "                   pcs[d1,:], pcs[d2,:], \n",
    "                   angles='xy', scale_units='xy', scale=1, color=\"grey\")\n",
    "                # (voir la doc : https://matplotlib.org/api/_as_gen/matplotlib.pyplot.quiver.html)\n",
    "            else:\n",
    "                lines = [[[0,0],[x,y]] for x,y in pcs[[d1,d2]].T]\n",
    "                ax.add_collection(LineCollection(lines, axes=ax, alpha=.1, color='black'))\n",
    "            \n",
    "            # affichage des noms des variables  \n",
    "            if labels is not None:  \n",
    "                for i,(x, y) in enumerate(pcs[[d1,d2]].T):\n",
    "                    if x >= xmin and x <= xmax and y >= ymin and y <= ymax :\n",
    "                        plt.text(x, y, labels[i], fontsize='14', ha='center', va='center', rotation=label_rotation, color=\"blue\", alpha=0.5)\n",
    "            \n",
    "            # affichage du cercle\n",
    "            circle = plt.Circle((0,0), 1, facecolor='none', edgecolor='b')\n",
    "            plt.gca().add_artist(circle)\n",
    "\n",
    "            # définition des limites du graphique\n",
    "            plt.xlim(xmin, xmax)\n",
    "            plt.ylim(ymin, ymax)\n",
    "        \n",
    "            # affichage des lignes horizontales et verticales\n",
    "            plt.plot([-1, 1], [0, 0], color='grey', ls='--')\n",
    "            plt.plot([0, 0], [-1, 1], color='grey', ls='--')\n",
    "\n",
    "            # nom des axes, avec le pourcentage d'inertie expliqué\n",
    "            plt.xlabel('F{} ({}%)'.format(d1+1, round(100*pca.explained_variance_ratio_[d1],1)))\n",
    "            plt.ylabel('F{} ({}%)'.format(d2+1, round(100*pca.explained_variance_ratio_[d2],1)))\n",
    "\n",
    "            plt.title(\"Cercle des corrélations (F{} et F{})\".format(d1+1, d2+1))\n",
    "            plt.show(block=False)\n",
    "        \n",
    "\n",
    "def display_scree_plot(pca):\n",
    "    scree = pca.explained_variance_ratio_*100\n",
    "    plt.bar(np.arange(len(scree))+1, scree)\n",
    "    plt.plot(np.arange(len(scree))+1, scree.cumsum(),c=\"red\",marker='o')\n",
    "    plt.xlabel(\"rang de l'axe d'inertie\")\n",
    "    plt.ylabel(\"pourcentage d'inertie\")\n",
    "    plt.title(\"Eboulis des valeurs propres\")\n",
    "    plt.show(block=False)"
   ]
  },
  {
   "cell_type": "code",
   "execution_count": null,
   "metadata": {
    "colab": {
     "base_uri": "https://localhost:8080/",
     "height": 1000
    },
    "id": "n6yEEWPnY3kT",
    "outputId": "15baed0b-4509-4498-8bcf-919b0831d986"
   },
   "outputs": [],
   "source": [
    "\n",
    "# choix du nombre de composantes à calculer\n",
    "n_comp = 8\n",
    "X = numeric_data.values\n",
    "features = numeric_data.columns\n",
    "\n",
    "# Centrage et Reduction des données\n",
    "std_scale = preprocessing.StandardScaler().fit(X)\n",
    "X_scaled = std_scale.transform(X)\n",
    "\n",
    "# Calcul des composantes principales\n",
    "pca = decomposition.PCA(n_components= n_comp)\n",
    "pca.fit(X_scaled)\n",
    "\n",
    "# Eboulis des valeurs propres\n",
    "display_scree_plot(pca)\n",
    "\n",
    "# Cercle des corrélations\n",
    "pcs = pca.components_\n",
    "display_circles(pcs, n_comp, pca, [(0,1),(2,3)], labels=features)\n",
    "\n",
    "plt.show()"
   ]
  },
  {
   "cell_type": "code",
   "execution_count": null,
   "metadata": {
    "colab": {
     "base_uri": "https://localhost:8080/"
    },
    "id": "vw10hVgAl0Cf",
    "outputId": "4d5bb024-77cb-4bbd-fe68-42bccbc5d0c8"
   },
   "outputs": [],
   "source": [
    "data_clean['nutriscore_grade'].unique()"
   ]
  }
 ],
 "metadata": {
  "colab": {
   "collapsed_sections": [
    "GnLafJKU_GCa",
    "iE2ccTbH-6-o",
    "I665w7IfXq7J",
    "3AeaCKkKYy2f"
   ],
   "name": "Analyse_Sante_Publique.ipynb",
   "provenance": [],
   "toc_visible": true
  },
  "interpreter": {
   "hash": "b90a467ede941811214c85f4bfad7f03d68fb567b5564fc536ab8b2e42983e5f"
  },
  "kernelspec": {
   "name": "python3",
   "display_name": "Python 3.8.10 64-bit ('base': conda)"
  },
  "language_info": {
   "codemirror_mode": {
    "name": "ipython",
    "version": 3
   },
   "file_extension": ".py",
   "mimetype": "text/x-python",
   "name": "python",
   "nbconvert_exporter": "python",
   "pygments_lexer": "ipython3",
   "version": "3.8.10"
  }
 },
 "nbformat": 4,
 "nbformat_minor": 1
}